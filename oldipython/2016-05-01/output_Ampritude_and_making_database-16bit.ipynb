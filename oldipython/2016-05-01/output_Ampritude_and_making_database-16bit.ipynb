{
 "cells": [
  {
   "cell_type": "code",
   "execution_count": 19,
   "metadata": {
    "collapsed": true
   },
   "outputs": [],
   "source": [
    "import numpy as np\n",
    "import matplotlib.pyplot as plt\n",
    "import matplotlib\n",
    "from scipy import fftpack\n",
    "from scipy import signal\n",
    "import numpy as np\n",
    "import pandas as pd\n",
    "import datetime\n",
    "import time as T"
   ]
  },
  {
   "cell_type": "code",
   "execution_count": 20,
   "metadata": {
    "collapsed": true
   },
   "outputs": [],
   "source": [
    "sample_bit=16"
   ]
  },
  {
   "cell_type": "code",
   "execution_count": 21,
   "metadata": {
    "collapsed": true
   },
   "outputs": [],
   "source": [
    "#my workstation"
   ]
  },
  {
   "cell_type": "code",
   "execution_count": 22,
   "metadata": {
    "collapsed": false
   },
   "outputs": [],
   "source": [
    "#cd /home/takeyama/Documents/01_SensorData/2016_05_11/FFT-data/"
   ]
  },
  {
   "cell_type": "code",
   "execution_count": 23,
   "metadata": {
    "collapsed": true
   },
   "outputs": [],
   "source": [
    "#mozart"
   ]
  },
  {
   "cell_type": "code",
   "execution_count": 24,
   "metadata": {
    "collapsed": false
   },
   "outputs": [
    {
     "name": "stdout",
     "output_type": "stream",
     "text": [
      "/home/takeyama/Documents/SyncRecord/cleaning-addingLABEL\n"
     ]
    }
   ],
   "source": [
    "cd ~/Documents/SyncRecord/cleaning-addingLABEL/"
   ]
  },
  {
   "cell_type": "code",
   "execution_count": 25,
   "metadata": {
    "collapsed": true
   },
   "outputs": [],
   "source": [
    "fft_left_hand = pd.read_csv('FFT-Cleaning-Conv-left-hand-ags.csv-'+str(sample_bit)+'bit.csv')\n",
    "#left_hand.Time=pd.to_timedelta(left_hand.Time)\n",
    "fft_left_leg = pd.read_csv('FFT-'+'Cleaning-Conv-left-leg-ags.csv-'+str(sample_bit)+'bit.csv')\n",
    "#left_leg.Time=pd.to_timedelta(left_leg.Time)\n",
    "fft_right_hand = pd.read_csv('FFT-'+'Cleaning-Conv-right-hand-ags.csv-'+str(sample_bit)+'bit.csv')\n",
    "#right_hand.Time=pd.to_timedelta(right_hand.Time)\n",
    "fft_right_leg = pd.read_csv('FFT-'+'Cleaning-Conv-right-leg-ags.csv-'+str(sample_bit)+'bit.csv')\n",
    "#right_leg.Time=pd.to_timedelta(right_leg.Time)\n",
    "fft_west = pd.read_csv('FFT-'+'Cleaning-Conv-west-ags.csv-'+str(sample_bit)+'bit.csv')\n",
    "#west.Time=pd.to_timedelta(west.Time)\n",
    "\n",
    "fft_name=['FFT-Cleaning-Conv-left-hand-ags.csv-'+str(sample_bit)+'bit.csv','FFT-'+'Cleaning-Conv-left-leg-ags.csv-'+str(sample_bit)+'bit.csv',\n",
    "          'FFT-'+'Cleaning-Conv-right-hand-ags.csv-'+str(sample_bit)+'bit.csv','FFT-'+'Cleaning-Conv-right-leg-ags.csv-'+str(sample_bit)+'bit.csv',\n",
    "          'FFT-'+'Cleaning-Conv-west-ags.csv-'+str(sample_bit)+'bit.csv']"
   ]
  },
  {
   "cell_type": "code",
   "execution_count": null,
   "metadata": {
    "collapsed": false
   },
   "outputs": [],
   "source": [
    "# left_hand\n",
    "start_time = T.clock()\n",
    "Amp_left_handAX=np.array([])\n",
    "Amp_left_handAY=np.array([])\n",
    "Amp_left_handAZ=np.array([])\n",
    "\n",
    "Amp_left_handGX=np.array([])\n",
    "Amp_left_handGY=np.array([])\n",
    "Amp_left_handGZ=np.array([])\n",
    "\n",
    "Amp_left_hand_label=np.array([])\n",
    "\n",
    "x = fft_right_leg.where(fft_left_hand.Time==0).dropna()\n",
    "\n",
    "tmp =np.array( np.sqrt(x.AccX_imag**2+x.AccX_real**2) )\n",
    "tmp =tmp/tmp.sum()\n",
    "Amp_left_handAX = np.append(Amp_left_handAX, tmp)\n",
    "\n",
    "tmp =np.array( np.sqrt(x.AccY_imag**2+x.AccY_real**2) )\n",
    "tmp =tmp/tmp.sum()\n",
    "Amp_left_handAY = np.append(Amp_left_handAY, tmp)\n",
    "\n",
    "tmp =np.array( np.sqrt(x.AccZ_imag**2+x.AccZ_real**2) )\n",
    "tmp =tmp/tmp.sum()\n",
    "Amp_left_handAZ = np.append(Amp_left_handAZ, tmp)\n",
    "\n",
    "tmp =np.array( np.sqrt(x.GyrX_imag**2+x.GyrX_real**2) )\n",
    "tmp =tmp/tmp.sum()\n",
    "Amp_left_handGX = np.append(Amp_left_handGX, tmp)\n",
    "\n",
    "tmp =np.array( np.sqrt(x.GyrY_imag**2+x.GyrY_real**2) )\n",
    "tmp =tmp/tmp.sum()\n",
    "Amp_left_handGY = np.append(Amp_left_handGY, tmp)\n",
    "\n",
    "tmp =np.array( np.sqrt(x.GyrZ_imag**2+x.GyrZ_real**2) )\n",
    "tmp =tmp/tmp.sum()\n",
    "Amp_left_handGZ = np.append(Amp_left_handGZ, tmp)\n",
    "\n",
    "tmp =np.array( x.Label )\n",
    "Amp_left_hand_label = np.append(Amp_left_hand_label, tmp)\n",
    "\n",
    "for t in range(1,fft_left_hand.Time.max()):\n",
    "    try:\n",
    "        # 抽出したデータベースを格納\n",
    "        x = fft_right_leg.where(fft_left_hand.Time==t).dropna()\n",
    "\n",
    "        # 各軸、それぞれパワースペクトルを計算\n",
    "        tmp =np.array( np.sqrt(x.AccX_imag**2+x.AccX_real**2) )\n",
    "        tmp =tmp/tmp.sum()\n",
    "        Amp_left_handAX = np.vstack((Amp_left_handAX, tmp))\n",
    "\n",
    "        tmp =np.array( np.sqrt(x.AccY_imag**2+x.AccY_real**2) )\n",
    "        tmp =tmp/tmp.sum()\n",
    "        Amp_left_handAY = np.vstack((Amp_left_handAY, tmp))\n",
    "\n",
    "        tmp =np.array( np.sqrt(x.AccZ_imag**2+x.AccZ_real**2) )\n",
    "        tmp =tmp/tmp.sum()\n",
    "        Amp_left_handAZ = np.vstack((Amp_left_handAZ, tmp))\n",
    "        \n",
    "        tmp =np.array( np.sqrt(x.GyrX_imag**2+x.GyrX_real**2) )\n",
    "        tmp =tmp/tmp.sum()\n",
    "        Amp_left_handGX = np.vstack((Amp_left_handGX, tmp))\n",
    "\n",
    "        tmp =np.array( np.sqrt(x.GyrY_imag**2+x.GyrY_real**2) )\n",
    "        tmp =tmp/tmp.sum()\n",
    "        Amp_left_handGY = np.vstack((Amp_left_handGY, tmp))\n",
    "\n",
    "        tmp =np.array( np.sqrt(x.GyrZ_imag**2+x.GyrZ_real**2) )\n",
    "        tmp =tmp/tmp.sum()\n",
    "        Amp_left_handGZ = np.vstack((Amp_left_handGZ, tmp))\n",
    "        \n",
    "        tmp =np.array( x.Label )\n",
    "        Amp_left_hand_label = np.vstack((Amp_left_hand_label, tmp))\n",
    "    except ValueError:\n",
    "        print \"No.\"+str(t)+\"_ValueEroor\"\n",
    "        break\n",
    "    \n",
    "    \n",
    "elapsed_time = T.clock() - start_time\n",
    "print (\"elapsed_time:{0}\".format(elapsed_time)) + \"[sec]\""
   ]
  },
  {
   "cell_type": "code",
   "execution_count": 27,
   "metadata": {
    "collapsed": false
   },
   "outputs": [
    {
     "name": "stdout",
     "output_type": "stream",
     "text": [
      "elapsed_time:166.599293[sec]\n"
     ]
    }
   ],
   "source": [
    "# right_leg\n",
    "start_time = T.clock()\n",
    "Amp_right_legAX=np.array([])\n",
    "Amp_right_legAY=np.array([])\n",
    "Amp_right_legAZ=np.array([])\n",
    "\n",
    "Amp_right_legGX=np.array([])\n",
    "Amp_right_legGY=np.array([])\n",
    "Amp_right_legGZ=np.array([])\n",
    "\n",
    "Amp_right_leg_label=np.array([])\n",
    "\n",
    "x = fft_right_leg.where(fft_right_leg.Time==0).dropna()\n",
    "\n",
    "tmp =np.array( np.sqrt(x.AccX_imag**2+x.AccX_real**2) )\n",
    "tmp =tmp/tmp.sum()\n",
    "Amp_right_legAX = np.append(Amp_right_legAX, tmp)\n",
    "\n",
    "tmp =np.array( np.sqrt(x.AccY_imag**2+x.AccY_real**2) )\n",
    "tmp =tmp/tmp.sum()\n",
    "Amp_right_legAY = np.append(Amp_right_legAY, tmp)\n",
    "\n",
    "tmp =np.array( np.sqrt(x.AccZ_imag**2+x.AccZ_real**2) )\n",
    "tmp =tmp/tmp.sum()\n",
    "Amp_right_legAZ = np.append(Amp_right_legAZ, tmp)\n",
    "\n",
    "tmp =np.array( np.sqrt(x.GyrX_imag**2+x.GyrX_real**2) )\n",
    "tmp =tmp/tmp.sum()\n",
    "Amp_right_legGX = np.append(Amp_right_legGX, tmp)\n",
    "\n",
    "tmp =np.array( np.sqrt(x.GyrY_imag**2+x.GyrY_real**2) )\n",
    "tmp =tmp/tmp.sum()\n",
    "Amp_right_legGY = np.append(Amp_right_legGY, tmp)\n",
    "\n",
    "tmp =np.array( np.sqrt(x.GyrZ_imag**2+x.GyrZ_real**2) )\n",
    "tmp =tmp/tmp.sum()\n",
    "Amp_right_legGZ = np.append(Amp_right_legGZ, tmp)\n",
    "\n",
    "tmp =np.array( x.Label )\n",
    "Amp_right_leg_label = np.append(Amp_right_leg_label, tmp)\n",
    "\n",
    "for t in range(1,fft_right_leg.Time.max()):\n",
    "    try:\n",
    "        # 抽出したデータベースを格納\n",
    "        x = fft_right_leg.where(fft_right_leg.Time==t).dropna()\n",
    "\n",
    "        # 各軸、それぞれパワースペクトルを計算\n",
    "        tmp =np.array( np.sqrt(x.AccX_imag**2+x.AccX_real**2) )\n",
    "        tmp =tmp/tmp.sum()\n",
    "        Amp_right_legAX = np.vstack((Amp_right_legAX, tmp))\n",
    "\n",
    "        tmp =np.array( np.sqrt(x.AccY_imag**2+x.AccY_real**2) )\n",
    "        tmp =tmp/tmp.sum()\n",
    "        Amp_right_legAY = np.vstack((Amp_right_legAY, tmp))\n",
    "\n",
    "        tmp =np.array( np.sqrt(x.AccZ_imag**2+x.AccZ_real**2) )\n",
    "        tmp =tmp/tmp.sum()\n",
    "        Amp_right_legAZ = np.vstack((Amp_right_legAZ, tmp))\n",
    "        \n",
    "        tmp =np.array( np.sqrt(x.GyrX_imag**2+x.GyrX_real**2) )\n",
    "        tmp =tmp/tmp.sum()\n",
    "        Amp_right_legGX = np.vstack((Amp_right_legGX, tmp))\n",
    "\n",
    "        tmp =np.array( np.sqrt(x.GyrY_imag**2+x.GyrY_real**2) )\n",
    "        tmp =tmp/tmp.sum()\n",
    "        Amp_right_legGY = np.vstack((Amp_right_legGY, tmp))\n",
    "\n",
    "        tmp =np.array( np.sqrt(x.GyrZ_imag**2+x.GyrZ_real**2) )\n",
    "        tmp =tmp/tmp.sum()\n",
    "        Amp_right_legGZ = np.vstack((Amp_right_legGZ, tmp))\n",
    "        \n",
    "        tmp =np.array( x.Label )\n",
    "        Amp_right_leg_label = np.vstack((Amp_right_leg_label, tmp))\n",
    "    except ValueError:\n",
    "        print \"No.\"+str(t)+\"_ValueEroor\"\n",
    "        break\n",
    "    \n",
    "    \n",
    "elapsed_time = T.clock() - start_time\n",
    "print (\"elapsed_time:{0}\".format(elapsed_time)) + \"[sec]\""
   ]
  },
  {
   "cell_type": "code",
   "execution_count": 28,
   "metadata": {
    "collapsed": false
   },
   "outputs": [
    {
     "name": "stdout",
     "output_type": "stream",
     "text": [
      "elapsed_time:167.450296[sec]\n"
     ]
    }
   ],
   "source": [
    "# Left_leg\n",
    "start_time = T.clock()\n",
    "Amp_left_legAX=np.array([])\n",
    "Amp_left_legAY=np.array([])\n",
    "Amp_left_legAZ=np.array([])\n",
    "\n",
    "Amp_left_legGX=np.array([])\n",
    "Amp_left_legGY=np.array([])\n",
    "Amp_left_legGZ=np.array([])\n",
    "\n",
    "Amp_left_leg_label =np.array([])\n",
    "\n",
    "x = fft_left_leg.where(fft_left_leg.Time==0).dropna()\n",
    "\n",
    "tmp =np.array( np.sqrt(x.AccX_imag**2+x.AccX_real**2) )\n",
    "tmp =tmp/tmp.sum()\n",
    "Amp_left_legAX = np.append(Amp_left_legAX, tmp)\n",
    "\n",
    "tmp =np.array( np.sqrt(x.AccY_imag**2+x.AccY_real**2) )\n",
    "tmp =tmp/tmp.sum()\n",
    "Amp_left_legAY = np.append(Amp_left_legAY, tmp)\n",
    "\n",
    "tmp =np.array( np.sqrt(x.AccZ_imag**2+x.AccZ_real**2) )\n",
    "tmp =tmp/tmp.sum()\n",
    "Amp_left_legAZ = np.append(Amp_left_legAZ, tmp)\n",
    "\n",
    "tmp =np.array( np.sqrt(x.GyrX_imag**2+x.GyrX_real**2) )\n",
    "tmp =tmp/tmp.sum()\n",
    "Amp_left_legGX = np.append(Amp_left_legGX, tmp)\n",
    "\n",
    "tmp =np.array( np.sqrt(x.GyrY_imag**2+x.GyrY_real**2) )\n",
    "tmp =tmp/tmp.sum()\n",
    "Amp_left_legGY = np.append(Amp_left_legGY, tmp)\n",
    "\n",
    "tmp =np.array( np.sqrt(x.GyrZ_imag**2+x.GyrZ_real**2) )\n",
    "tmp =tmp/tmp.sum()\n",
    "Amp_left_legGZ = np.append(Amp_left_legGZ, tmp)\n",
    "\n",
    "tmp =np.array( x.Label )\n",
    "Amp_left_leg_label = np.append(Amp_left_leg_label, tmp)\n",
    "\n",
    "for t in range(1,fft_left_leg.Time.max()):\n",
    "    try:\n",
    "        # 抽出したデータベースを格納\n",
    "        x = fft_left_leg.where(fft_left_leg.Time==t).dropna()\n",
    "\n",
    "        # 各軸、それぞれパワースペクトルを計算\n",
    "        tmp =np.array( np.sqrt(x.AccX_imag**2+x.AccX_real**2) )\n",
    "        tmp =tmp/tmp.sum()\n",
    "        Amp_left_legAX = np.vstack((Amp_left_legAX, tmp))\n",
    "\n",
    "        tmp =np.array( np.sqrt(x.AccY_imag**2+x.AccY_real**2) )\n",
    "        tmp =tmp/tmp.sum()\n",
    "        Amp_left_legAY = np.vstack((Amp_left_legAY, tmp))\n",
    "\n",
    "        tmp =np.array( np.sqrt(x.AccZ_imag**2+x.AccZ_real**2) )\n",
    "        tmp =tmp/tmp.sum()\n",
    "        Amp_left_legAZ = np.vstack((Amp_left_legAZ, tmp))\n",
    "        \n",
    "        tmp =np.array( np.sqrt(x.GyrX_imag**2+x.GyrX_real**2) )\n",
    "        tmp =tmp/tmp.sum()\n",
    "        Amp_left_legGX = np.vstack((Amp_left_legGX, tmp))\n",
    "\n",
    "        tmp =np.array( np.sqrt(x.GyrY_imag**2+x.GyrY_real**2) )\n",
    "        tmp =tmp/tmp.sum()\n",
    "        Amp_left_legGY = np.vstack((Amp_left_legGY, tmp))\n",
    "\n",
    "        tmp =np.array( np.sqrt(x.GyrZ_imag**2+x.GyrZ_real**2) )\n",
    "        tmp =tmp/tmp.sum()\n",
    "        Amp_left_legGZ = np.vstack((Amp_left_legGZ, tmp))\n",
    "        \n",
    "        tmp =np.array( x.Label )\n",
    "        Amp_left_leg_label = np.vstack((Amp_left_leg_label, tmp))\n",
    "    except ValueError:\n",
    "        print \"No.\"+str(t)+\"_ValueEroor\"\n",
    "        break\n",
    "    \n",
    "    \n",
    "elapsed_time = T.clock() - start_time\n",
    "print (\"elapsed_time:{0}\".format(elapsed_time)) + \"[sec]\""
   ]
  },
  {
   "cell_type": "code",
   "execution_count": 29,
   "metadata": {
    "collapsed": false
   },
   "outputs": [
    {
     "name": "stdout",
     "output_type": "stream",
     "text": [
      "elapsed_time:166.911945[sec]\n"
     ]
    }
   ],
   "source": [
    "# right_hand\n",
    "start_time = T.clock()\n",
    "Amp_right_handAX=np.array([])\n",
    "Amp_right_handAY=np.array([])\n",
    "Amp_right_handAZ=np.array([])\n",
    "\n",
    "Amp_right_handGX=np.array([])\n",
    "Amp_right_handGY=np.array([])\n",
    "Amp_right_handGZ=np.array([])\n",
    "\n",
    "Amp_right_hand_label=np.array([])\n",
    "\n",
    "x = fft_right_hand.where(fft_right_hand.Time==0).dropna()\n",
    "\n",
    "tmp =np.array( np.sqrt(x.AccX_imag**2+x.AccX_real**2) )\n",
    "tmp =tmp/tmp.sum()\n",
    "Amp_right_handAX = np.append(Amp_right_handAX, tmp)\n",
    "\n",
    "tmp =np.array( np.sqrt(x.AccY_imag**2+x.AccY_real**2) )\n",
    "tmp =tmp/tmp.sum()\n",
    "Amp_right_handAY = np.append(Amp_right_handAY, tmp)\n",
    "\n",
    "tmp =np.array( np.sqrt(x.AccZ_imag**2+x.AccZ_real**2) )\n",
    "tmp =tmp/tmp.sum()\n",
    "Amp_right_handAZ = np.append(Amp_right_handAZ, tmp)\n",
    "\n",
    "tmp =np.array( np.sqrt(x.GyrX_imag**2+x.GyrX_real**2) )\n",
    "tmp =tmp/tmp.sum()\n",
    "Amp_right_handGX = np.append(Amp_right_handGX, tmp)\n",
    "\n",
    "tmp =np.array( np.sqrt(x.GyrY_imag**2+x.GyrY_real**2) )\n",
    "tmp =tmp/tmp.sum()\n",
    "Amp_right_handGY = np.append(Amp_right_handGY, tmp)\n",
    "\n",
    "tmp =np.array( np.sqrt(x.GyrZ_imag**2+x.GyrZ_real**2) )\n",
    "tmp =tmp/tmp.sum()\n",
    "Amp_right_handGZ = np.append(Amp_right_handGZ, tmp)\n",
    "\n",
    "tmp =np.array( x.Label )\n",
    "Amp_right_hand_label = np.append(Amp_right_hand_label, tmp)\n",
    "\n",
    "for t in range(1,fft_right_hand.Time.max()):\n",
    "    try:\n",
    "        # 抽出したデータベースを格納\n",
    "        x = fft_right_hand.where(fft_right_hand.Time==t).dropna()\n",
    "\n",
    "        # 各軸、それぞれパワースペクトルを計算\n",
    "        tmp =np.array( np.sqrt(x.AccX_imag**2+x.AccX_real**2) )\n",
    "        tmp =tmp/tmp.sum()\n",
    "        Amp_right_handAX = np.vstack((Amp_right_handAX, tmp))\n",
    "\n",
    "        tmp =np.array( np.sqrt(x.AccY_imag**2+x.AccY_real**2) )\n",
    "        tmp =tmp/tmp.sum()\n",
    "        Amp_right_handAY = np.vstack((Amp_right_handAY, tmp))\n",
    "\n",
    "        tmp =np.array( np.sqrt(x.AccZ_imag**2+x.AccZ_real**2) )\n",
    "        tmp =tmp/tmp.sum()\n",
    "        Amp_right_handAZ = np.vstack((Amp_right_handAZ, tmp))\n",
    "        \n",
    "        tmp =np.array( np.sqrt(x.GyrX_imag**2+x.GyrX_real**2) )\n",
    "        tmp =tmp/tmp.sum()\n",
    "        Amp_right_handGX = np.vstack((Amp_right_handGX, tmp))\n",
    "\n",
    "        tmp =np.array( np.sqrt(x.GyrY_imag**2+x.GyrY_real**2) )\n",
    "        tmp =tmp/tmp.sum()\n",
    "        Amp_right_handGY = np.vstack((Amp_right_handGY, tmp))\n",
    "\n",
    "        tmp =np.array( np.sqrt(x.GyrZ_imag**2+x.GyrZ_real**2) )\n",
    "        tmp =tmp/tmp.sum()\n",
    "        Amp_right_handGZ = np.vstack((Amp_right_handGZ, tmp))\n",
    "        \n",
    "        tmp =np.array( x.Label )\n",
    "        Amp_right_hand_label = np.vstack((Amp_right_hand_label, tmp))\n",
    "    except ValueError:\n",
    "        print \"No.\"+str(t)+\"_ValueEroor\"\n",
    "        break\n",
    "    \n",
    "    \n",
    "elapsed_time = T.clock() - start_time\n",
    "print (\"elapsed_time:{0}\".format(elapsed_time)) + \"[sec]\""
   ]
  },
  {
   "cell_type": "code",
   "execution_count": 30,
   "metadata": {
    "collapsed": false
   },
   "outputs": [
    {
     "name": "stdout",
     "output_type": "stream",
     "text": [
      "elapsed_time:3.872395[sec]\n"
     ]
    }
   ],
   "source": [
    "# west\n",
    "start_time = T.clock()\n",
    "Amp_westAX=np.array([])\n",
    "Amp_westAY=np.array([])\n",
    "Amp_westAZ=np.array([])\n",
    "\n",
    "Amp_westGX=np.array([])\n",
    "Amp_westGY=np.array([])\n",
    "Amp_westGZ=np.array([])\n",
    "\n",
    "Amp_west_label=np.array([])\n",
    "\n",
    "x = fft_west.where(fft_west.Time==0).dropna()\n",
    "\n",
    "tmp =np.array( np.sqrt(x.AccX_imag**2+x.AccX_real**2) )\n",
    "tmp =tmp/tmp.sum()\n",
    "Amp_westAX = np.append(Amp_westAX, tmp)\n",
    "\n",
    "tmp =np.array( np.sqrt(x.AccY_imag**2+x.AccY_real**2) )\n",
    "tmp =tmp/tmp.sum()\n",
    "Amp_westAY = np.append(Amp_westAY, tmp)\n",
    "\n",
    "tmp =np.array( np.sqrt(x.AccZ_imag**2+x.AccZ_real**2) )\n",
    "tmp =tmp/tmp.sum()\n",
    "Amp_westAZ = np.append(Amp_westAZ, tmp)\n",
    "\n",
    "tmp =np.array( np.sqrt(x.GyrX_imag**2+x.GyrX_real**2) )\n",
    "tmp =tmp/tmp.sum()\n",
    "Amp_westGX = np.append(Amp_westGX, tmp)\n",
    "\n",
    "tmp =np.array( np.sqrt(x.GyrY_imag**2+x.GyrY_real**2) )\n",
    "tmp =tmp/tmp.sum()\n",
    "Amp_westGY = np.append(Amp_westGY, tmp)\n",
    "\n",
    "tmp =np.array( np.sqrt(x.GyrZ_imag**2+x.GyrZ_real**2) )\n",
    "tmp =tmp/tmp.sum()\n",
    "Amp_westGZ = np.append(Amp_westGZ, tmp)\n",
    "\n",
    "tmp =np.array( x.Label )\n",
    "Amp_west_label = np.append(Amp_west_label, tmp)\n",
    "\n",
    "for t in range(1,fft_west.Time.max()):\n",
    "    try:\n",
    "        # 抽出したデータベースを格納\n",
    "        x = fft_west.where(fft_west.Time==t).dropna()\n",
    "\n",
    "        # 各軸、それぞれパワースペクトルを計算\n",
    "        tmp =np.array( np.sqrt(x.AccX_imag**2+x.AccX_real**2) )\n",
    "        tmp =tmp/tmp.sum()\n",
    "        Amp_westAX = np.vstack((Amp_westAX, tmp))\n",
    "\n",
    "        tmp =np.array( np.sqrt(x.AccY_imag**2+x.AccY_real**2) )\n",
    "        tmp =tmp/tmp.sum()\n",
    "        Amp_westAY = np.vstack((Amp_westAY, tmp))\n",
    "\n",
    "        tmp =np.array( np.sqrt(x.AccZ_imag**2+x.AccZ_real**2) )\n",
    "        tmp =tmp/tmp.sum()\n",
    "        Amp_westAZ = np.vstack((Amp_westAZ, tmp))\n",
    "        \n",
    "        tmp =np.array( np.sqrt(x.GyrX_imag**2+x.GyrX_real**2) )\n",
    "        tmp =tmp/tmp.sum()\n",
    "        Amp_westGX = np.vstack((Amp_westGX, tmp))\n",
    "\n",
    "        tmp =np.array( np.sqrt(x.GyrY_imag**2+x.GyrY_real**2) )\n",
    "        tmp =tmp/tmp.sum()\n",
    "        Amp_westGY = np.vstack((Amp_westGY, tmp))\n",
    "\n",
    "        tmp =np.array( np.sqrt(x.GyrZ_imag**2+x.GyrZ_real**2) )\n",
    "        tmp =tmp/tmp.sum()\n",
    "        Amp_westGZ = np.vstack((Amp_westGZ, tmp))\n",
    "        \n",
    "        tmp =np.array( x.Label )\n",
    "        Amp_west_label = np.vstack((Amp_west_label, tmp))\n",
    "    except ValueError:\n",
    "        print \"No.\"+str(t)+\"_ValueEroor\"\n",
    "        break\n",
    "    \n",
    "    \n",
    "elapsed_time = T.clock() - start_time\n",
    "print (\"elapsed_time:{0}\".format(elapsed_time)) + \"[sec]\""
   ]
  },
  {
   "cell_type": "code",
   "execution_count": 31,
   "metadata": {
    "collapsed": false
   },
   "outputs": [
    {
     "data": {
      "text/plain": [
       "(698, 8)"
      ]
     },
     "execution_count": 31,
     "metadata": {},
     "output_type": "execute_result"
    }
   ],
   "source": [
    "Amp_westAX.shape"
   ]
  },
  {
   "cell_type": "code",
   "execution_count": 32,
   "metadata": {
    "collapsed": true
   },
   "outputs": [],
   "source": [
    "def GetLabelNam(samp):\n",
    "    l=['1st', '2nd', '3rd', '4th', '5th', '6th', '7th', '8th', '9th', '10th', '11th',\n",
    "    '12th', '13th', '14th', '15th', '16th', '17th', '18th', '19th', '20th', '21st',\n",
    "    '22nd', '23rd', '24th', '25th', '26th', '27th', '28th', '29th', '30th', '31st']\n",
    "    \n",
    "    return l[0:(samp/2)]"
   ]
  },
  {
   "cell_type": "code",
   "execution_count": 33,
   "metadata": {
    "collapsed": true
   },
   "outputs": [],
   "source": [
    "df_fft_name=['fft_left_hand','fft_left_leg','fft_right_hand','fft_right_leg','west']"
   ]
  },
  {
   "cell_type": "code",
   "execution_count": 34,
   "metadata": {
    "collapsed": false
   },
   "outputs": [
    {
     "data": {
      "text/plain": [
       "(6933, 8)"
      ]
     },
     "execution_count": 34,
     "metadata": {},
     "output_type": "execute_result"
    }
   ],
   "source": [
    "Amp_left_handAX.shape"
   ]
  },
  {
   "cell_type": "code",
   "execution_count": null,
   "metadata": {
    "collapsed": false
   },
   "outputs": [],
   "source": [
    "start_time = T.clock()\n",
    "df_fft =[fft_left_hand,fft_left_leg,fft_right_hand,fft_right_leg,fft_west]\n",
    "for n,name in zip(df_fft,df_fft_name):\n",
    "    array =  GetLabelNam(sample_bit)\n",
    "    TimeArray=[]\n",
    "    NumArray=[]\n",
    "    LabelArray=[]\n",
    "\n",
    "    for t in range(0,n.Time.max()):\n",
    "        for i in range(len(array)):\n",
    "            TimeArray.append(str(t))\n",
    "\n",
    "    for i in range(0,n.Time.max()):\n",
    "        for a in array:\n",
    "            NumArray.append(a)\n",
    "\n",
    "    TimeArray=np.array(TimeArray)\n",
    "    NumArray=np.array(NumArray)\n",
    "\n",
    "    tmp=Amp_left_handAX.shape\n",
    "    Amp_left_handAX=Amp_left_handAX.reshape(tmp[0]*tmp[1],)\n",
    "\n",
    "    tmp=Amp_left_handAY.shape\n",
    "    Amp_left_handAY=Amp_left_handAY.reshape(tmp[0]*tmp[1],)\n",
    "\n",
    "    tmp=Amp_left_handAZ.shape\n",
    "    Amp_left_handAZ=Amp_left_handAZ.reshape(tmp[0]*tmp[1],)\n",
    "\n",
    "    tmp=Amp_left_handGX.shape\n",
    "    Amp_left_handGX=Amp_left_handGX.reshape(tmp[0]*tmp[1],)\n",
    "\n",
    "    tmp=Amp_left_handGY.shape\n",
    "    Amp_left_handGY=Amp_left_handGY.reshape(tmp[0]*tmp[1],)\n",
    "\n",
    "    tmp=Amp_left_handGZ.shape\n",
    "    Amp_left_handGZ=Amp_left_handGZ.reshape(tmp[0]*tmp[1],)\n",
    "\n",
    "    tmp=Amp_left_hand_label.shape\n",
    "    Amp_left_hand_label=Amp_left_hand_label.reshape(tmp[0]*tmp[1],)\n",
    "\n",
    "    fftdf=pd.DataFrame({\n",
    "            'AccX_real':Amp_left_handAX,\n",
    "            'AccY_real':Amp_left_handAY,\n",
    "            'AccZ_real':Amp_left_handAZ,\n",
    "            'GyrX_real':Amp_left_handGX,\n",
    "            'GyrY_real':Amp_left_handGY,\n",
    "            'GyrZ_real':Amp_left_handGZ,\n",
    "            'Time':TimeArray,\n",
    "            'Number':NumArray,\n",
    "            'Label':Amp_left_hand_label\n",
    "            }\n",
    "          )\n",
    "\n",
    "    #fftdf = fftdf.astype(np.float64)\n",
    "\n",
    "    fftdf.to_csv('Amp-'+name+'.csv')\n",
    "\n",
    "elapsed_time = T.clock() - start_time\n",
    "print (\"elapsed_time:{0}\".format(elapsed_time)) + \"[sec]\""
   ]
  },
  {
   "cell_type": "code",
   "execution_count": 41,
   "metadata": {
    "collapsed": false
   },
   "outputs": [
    {
     "data": {
      "text/plain": [
       "(55464,)"
      ]
     },
     "execution_count": 41,
     "metadata": {},
     "output_type": "execute_result"
    }
   ],
   "source": [
    "tmp"
   ]
  },
  {
   "cell_type": "code",
   "execution_count": 37,
   "metadata": {
    "collapsed": false
   },
   "outputs": [
    {
     "data": {
      "text/plain": [
       "(6933, 8)"
      ]
     },
     "execution_count": 37,
     "metadata": {},
     "output_type": "execute_result"
    }
   ],
   "source": [
    "Amp_left_handAX.shape"
   ]
  },
  {
   "cell_type": "code",
   "execution_count": 38,
   "metadata": {
    "collapsed": false
   },
   "outputs": [
    {
     "data": {
      "text/plain": [
       "(6933, 8)"
      ]
     },
     "execution_count": 38,
     "metadata": {},
     "output_type": "execute_result"
    }
   ],
   "source": [
    "Amp_left_handAY.shape"
   ]
  },
  {
   "cell_type": "code",
   "execution_count": null,
   "metadata": {
    "collapsed": false
   },
   "outputs": [],
   "source": [
    "a=NumArray.shape"
   ]
  },
  {
   "cell_type": "code",
   "execution_count": null,
   "metadata": {
    "collapsed": false
   },
   "outputs": [],
   "source": [
    "a=np.array([[3,3],[2,2],[2,2]])"
   ]
  },
  {
   "cell_type": "code",
   "execution_count": null,
   "metadata": {
    "collapsed": false
   },
   "outputs": [],
   "source": [
    "b,c=a.shape"
   ]
  },
  {
   "cell_type": "code",
   "execution_count": null,
   "metadata": {
    "collapsed": false
   },
   "outputs": [],
   "source": [
    "b"
   ]
  },
  {
   "cell_type": "code",
   "execution_count": null,
   "metadata": {
    "collapsed": false
   },
   "outputs": [],
   "source": [
    "c"
   ]
  },
  {
   "cell_type": "code",
   "execution_count": null,
   "metadata": {
    "collapsed": true
   },
   "outputs": [],
   "source": []
  }
 ],
 "metadata": {
  "kernelspec": {
   "display_name": "Python 2",
   "language": "python",
   "name": "python2"
  },
  "language_info": {
   "codemirror_mode": {
    "name": "ipython",
    "version": 2
   },
   "file_extension": ".py",
   "mimetype": "text/x-python",
   "name": "python",
   "nbconvert_exporter": "python",
   "pygments_lexer": "ipython2",
   "version": "2.7.11"
  }
 },
 "nbformat": 4,
 "nbformat_minor": 0
}
