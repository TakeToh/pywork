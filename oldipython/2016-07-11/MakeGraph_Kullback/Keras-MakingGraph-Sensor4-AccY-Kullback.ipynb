{
 "cells": [
  {
   "cell_type": "code",
   "execution_count": 16,
   "metadata": {
    "collapsed": false
   },
   "outputs": [
    {
     "name": "stderr",
     "output_type": "stream",
     "text": [
      "/home/takeyama/.pyenv/versions/takeyama/lib/python2.7/site-packages/matplotlib/__init__.py:1350: UserWarning:  This call to matplotlib.use() has no effect\n",
      "because the backend has already been chosen;\n",
      "matplotlib.use() must be called *before* pylab, matplotlib.pyplot,\n",
      "or matplotlib.backends is imported for the first time.\n",
      "\n",
      "  warnings.warn(_use_error_msg)\n"
     ]
    }
   ],
   "source": [
    "import numpy as np\n",
    "import pandas as pd\n",
    "from scipy import fftpack\n",
    "from scipy import signal\n",
    "import time\n",
    "import os\n",
    "import matplotlib\n",
    "matplotlib.use('TkAgg')\n",
    "import matplotlib.pyplot as plt\n",
    "import pylab\n",
    "import pickle\n",
    "import copy\n",
    "import processing\n",
    "import matplotlib.animation as animation\n",
    "import datetime\n",
    "import multiprocessing as mp\n",
    "import processing\n",
    "from scipy import stats\n",
    "\n",
    "%matplotlib inline"
   ]
  },
  {
   "cell_type": "markdown",
   "metadata": {},
   "source": [
    "共通変数をここに定義"
   ]
  },
  {
   "cell_type": "code",
   "execution_count": 17,
   "metadata": {
    "collapsed": true
   },
   "outputs": [],
   "source": [
    "DataName='sensor4_AccY'\n",
    "SensorName='sensor4'\n",
    "Axis='AccY'\n",
    "SampleNum=16\n",
    "width=1000"
   ]
  },
  {
   "cell_type": "code",
   "execution_count": 18,
   "metadata": {
    "collapsed": false
   },
   "outputs": [],
   "source": [
    "WORKSPACE_PATH = '/home/takeyama/pywork/ipython/2016-07-11'\n",
    "\n",
    "StudyDataPath=WORKSPACE_PATH+'/Study/'+DataName+'/'\n",
    "if not os.path.exists(StudyDataPath): os.makedirs(StudyDataPath)\n",
    "\n",
    "GlaphDataPath=WORKSPACE_PATH+'/Graph/'+DataName+'/kullback/'\n",
    "if not os.path.exists(GlaphDataPath): os.makedirs(GlaphDataPath)\n",
    "\n",
    "StudyDataModelPicPath=WORKSPACE_PATH+'/Study/'+DataName+'/modelPic/'\n",
    "if not os.path.exists(StudyDataModelPicPath): os.makedirs(StudyDataModelPicPath)\n",
    "\n",
    "WindowDataPath=WORKSPACE_PATH+'/window/'\n",
    "RawDataPath=WORKSPACE_PATH+'/raw/'"
   ]
  },
  {
   "cell_type": "code",
   "execution_count": 19,
   "metadata": {
    "collapsed": false
   },
   "outputs": [],
   "source": [
    "\"\"\"\n",
    "    encordData,decordData\n",
    "    firstNum:\n",
    "    goalNum:\n",
    "    commonLabel:共通名前\n",
    "\"\"\"\n",
    "def MakeGlaph(encordData,decordData,firstNum,goalNum,commonLabel):\n",
    "    eRow, eCol=encordData.shape\n",
    "    dRow, dCol=decordData.shape\n",
    "    \n",
    "    if eRow!=dRow | eCol!=dCol:\n",
    "        return -1\n",
    "    start = firstNum\n",
    "    goal=goalNum\n",
    "    print str(start)+' is start '+str(goal)+' is goal'\n",
    "    dataE = encordData.reshape(eRow*eCol,1)[start:goal]\n",
    "    dataD = decordData.reshape(dRow*dCol,1)[start:goal]\n",
    "    plt.clf() \n",
    "    plt.figure(figsize=(100,50))\n",
    "    plt.plot(range(0,len(dataE)),dataE,'--r',label=\"raw data\")\n",
    "    plt.plot(range(0,len(dataD)),dataD,'b',label=\"reconstruct\")\n",
    "    plt.legend(loc='best')\n",
    "    plt.title(str(start)+\"-\"+str(goal))\n",
    "    plt.savefig(commonLabel+'-'+str(start)+\"-\"+str(goal)+'-'+'glaph')\n",
    "    plt.clf()\n",
    "    plt.cla()\n",
    "    plt.close('all')\n",
    "    return 1"
   ]
  },
  {
   "cell_type": "markdown",
   "metadata": {},
   "source": [
    "すべてのデータを読みdし、グラフ化する"
   ]
  },
  {
   "cell_type": "markdown",
   "metadata": {},
   "source": [
    "並列処理でグラフを作成する"
   ]
  },
  {
   "cell_type": "code",
   "execution_count": 20,
   "metadata": {
    "collapsed": false
   },
   "outputs": [],
   "source": [
    "encoding_dim = 4\n",
    "PowerDataE=processing.LoadDicDataFromFileNPZ(StudyDataPath+DataName+'_edim='+str(encoding_dim)+'-power-raw.npz')\n",
    "PowerDataD=processing.LoadDicDataFromFileNPZ(StudyDataPath+DataName+'_edim='+str(encoding_dim)+'-power-restruct.npz')\n",
    "\n",
    "# to distribution\n",
    "DistributePowerDataE = np.array([])\n",
    "DistributePowerDataD = np.array([])\n",
    "\n",
    "for i in range(PowerDataE.shape[0]):\n",
    "    DistributePowerDataE = np.append(DistributePowerDataE,np.sum(PowerDataE[i,:]))\n"
   ]
  },
  {
   "cell_type": "code",
   "execution_count": 21,
   "metadata": {
    "collapsed": false
   },
   "outputs": [
    {
     "data": {
      "text/plain": [
       "array([[  3.36699607e-03,   1.39644395e-05,   2.68170509e-04, ...,\n",
       "          1.48795561e-04,   4.44900942e-04,   6.08400000e-05],\n",
       "       [  5.93217194e-04,   2.75305932e-05,   1.32737371e-05, ...,\n",
       "          2.29989407e-04,   7.65913717e-05,   1.60000000e-07],\n",
       "       [  2.56788356e-03,   2.16618701e-04,   3.13349510e-04, ...,\n",
       "          5.37012988e-05,   3.52290228e-04,   2.19040000e-04],\n",
       "       ..., \n",
       "       [  2.77396229e-02,   4.16918824e-03,   2.82871121e-03, ...,\n",
       "          6.50511760e-04,   5.52481307e-04,   9.18090000e-04],\n",
       "       [  1.24038910e-02,   2.44468258e-03,   2.04829733e-03, ...,\n",
       "          6.64357415e-04,   4.16635989e-04,   2.43360000e-04],\n",
       "       [  6.28186877e-04,   5.30399411e-04,   1.97069491e-04, ...,\n",
       "          1.37700589e-04,   1.49599319e-04,   1.52100000e-05]])"
      ]
     },
     "execution_count": 21,
     "metadata": {},
     "output_type": "execute_result"
    }
   ],
   "source": [
    "PowerDataE"
   ]
  },
  {
   "cell_type": "code",
   "execution_count": 22,
   "metadata": {
    "collapsed": false
   },
   "outputs": [
    {
     "data": {
      "text/plain": [
       "(15921, 8)"
      ]
     },
     "execution_count": 22,
     "metadata": {},
     "output_type": "execute_result"
    }
   ],
   "source": [
    "PowerDataE.shape"
   ]
  },
  {
   "cell_type": "code",
   "execution_count": 23,
   "metadata": {
    "collapsed": false
   },
   "outputs": [
    {
     "data": {
      "text/plain": [
       "array([  3.36699607e-03,   1.39644395e-05,   2.68170509e-04,\n",
       "         1.17000000e-05,   8.89724773e-05,   1.48795561e-04,\n",
       "         4.44900942e-04,   6.08400000e-05])"
      ]
     },
     "execution_count": 23,
     "metadata": {},
     "output_type": "execute_result"
    }
   ],
   "source": [
    "PowerDataE[0,:]"
   ]
  },
  {
   "cell_type": "code",
   "execution_count": 24,
   "metadata": {
    "collapsed": false
   },
   "outputs": [
    {
     "data": {
      "text/plain": [
       "0.0044043400000000014"
      ]
     },
     "execution_count": 24,
     "metadata": {},
     "output_type": "execute_result"
    }
   ],
   "source": [
    "np.sum(PowerDataE[0,:])"
   ]
  },
  {
   "cell_type": "code",
   "execution_count": 25,
   "metadata": {
    "collapsed": false
   },
   "outputs": [
    {
     "data": {
      "text/plain": [
       "array([ 0.76447233,  0.00317061,  0.06088779,  0.00265647,  0.02020109,\n",
       "        0.03378385,  0.10101421,  0.01381365])"
      ]
     },
     "execution_count": 25,
     "metadata": {},
     "output_type": "execute_result"
    }
   ],
   "source": [
    "PowerDataE[0]/( np.sum(PowerDataE[0]) )"
   ]
  },
  {
   "cell_type": "code",
   "execution_count": 26,
   "metadata": {
    "collapsed": false
   },
   "outputs": [],
   "source": [
    "DistributePowerDataE = np.array([])\n",
    "for i in range( PowerDataE.shape[0] ):\n",
    "    DistributePowerDataE = np.append(DistributePowerDataE,PowerDataE[0]/( np.sum(PowerDataE[0]) ))"
   ]
  },
  {
   "cell_type": "code",
   "execution_count": 27,
   "metadata": {
    "collapsed": false
   },
   "outputs": [],
   "source": [
    "DistributePowerDataE = DistributePowerDataE.reshape(PowerDataE.shape)"
   ]
  },
  {
   "cell_type": "code",
   "execution_count": 28,
   "metadata": {
    "collapsed": false
   },
   "outputs": [
    {
     "data": {
      "text/plain": [
       "(15921, 8)"
      ]
     },
     "execution_count": 28,
     "metadata": {},
     "output_type": "execute_result"
    }
   ],
   "source": [
    "DistributePowerDataE.shape"
   ]
  },
  {
   "cell_type": "code",
   "execution_count": null,
   "metadata": {
    "collapsed": true
   },
   "outputs": [],
   "source": []
  },
  {
   "cell_type": "code",
   "execution_count": 29,
   "metadata": {
    "collapsed": false,
    "scrolled": true
   },
   "outputs": [
    {
     "name": "stdout",
     "output_type": "stream",
     "text": [
      "Graph range=0 : 1000\n",
      "Graph range=1000 : 2000\n",
      "Graph range=2000 : 3000\n",
      "Graph range=3000 : 4000\n",
      "Graph range=4000 : 5000\n",
      "Graph range=5000 : 6000\n",
      "Graph range=6000 : 7000\n",
      "Graph range=7000 : 8000\n",
      "Graph range=8000 : 9000\n",
      "Graph range=9000 : 10000\n",
      "Graph range=10000 : 11000\n",
      "Graph range=11000 : 12000\n",
      "Graph range=12000 : 13000\n",
      "Graph range=13000 : 14000\n",
      "Graph range=14000 : 15000\n",
      "Graph range=0 : 1000\n",
      "Graph range=1000 : 2000\n",
      "Graph range=2000 : 3000\n",
      "Graph range=3000 : 4000\n",
      "Graph range=4000 : 5000\n",
      "Graph range=5000 : 6000\n",
      "Graph range=6000 : 7000\n",
      "Graph range=7000 : 8000\n",
      "Graph range=8000 : 9000\n",
      "Graph range=9000 : 10000\n",
      "Graph range=10000 : 11000\n",
      "Graph range=11000 : 12000\n",
      "Graph range=12000 : 13000\n",
      "Graph range=13000 : 14000\n",
      "Graph range=14000 : 15000\n",
      "Graph range=0 : 1000\n",
      "Graph range=1000 : 2000\n",
      "Graph range=2000 : 3000\n",
      "Graph range=3000 : 4000\n",
      "Graph range=4000 : 5000\n",
      "Graph range=5000 : 6000\n",
      "Graph range=6000 : 7000\n",
      "Graph range=7000 : 8000\n",
      "Graph range=8000 : 9000\n",
      "Graph range=9000 : 10000\n",
      "Graph range=10000 : 11000\n",
      "Graph range=11000 : 12000\n",
      "Graph range=12000 : 13000\n",
      "Graph range=13000 : 14000\n",
      "Graph range=14000 : 15000\n",
      "Graph range=0 : 1000\n",
      "Graph range=1000 : 2000\n",
      "Graph range=2000 : 3000\n",
      "Graph range=3000 : 4000\n",
      "Graph range=4000 : 5000\n",
      "Graph range=5000 : 6000\n",
      "Graph range=6000 : 7000\n",
      "Graph range=7000 : 8000\n",
      "Graph range=8000 : 9000\n",
      "Graph range=9000 : 10000\n",
      "Graph range=10000 : 11000\n",
      "Graph range=11000 : 12000\n",
      "Graph range=12000 : 13000\n",
      "Graph range=13000 : 14000\n",
      "Graph range=14000 : 15000\n",
      "Graph range=0 : 1000\n",
      "Graph range=1000 : 2000\n",
      "Graph range=2000 : 3000\n",
      "Graph range=3000 : 4000\n",
      "Graph range=4000 : 5000\n",
      "Graph range=5000 : 6000\n",
      "Graph range=6000 : 7000\n",
      "Graph range=7000 : 8000\n",
      "Graph range=8000 : 9000\n",
      "Graph range=9000 : 10000\n",
      "Graph range=10000 : 11000\n",
      "Graph range=11000 : 12000\n",
      "Graph range=12000 : 13000\n",
      "Graph range=13000 : 14000\n",
      "Graph range=14000 : 15000\n",
      "Graph range=0 : 1000\n",
      "Graph range=1000 : 2000\n",
      "Graph range=2000 : 3000\n",
      "Graph range=3000 : 4000\n",
      "Graph range=4000 : 5000\n",
      "Graph range=5000 : 6000\n",
      "Graph range=6000 : 7000\n",
      "Graph range=7000 : 8000\n",
      "Graph range=8000 : 9000\n",
      "Graph range=9000 : 10000\n",
      "Graph range=10000 : 11000\n",
      "Graph range=11000 : 12000\n",
      "Graph range=12000 : 13000\n",
      "Graph range=13000 : 14000\n",
      "Graph range=14000 : 15000\n"
     ]
    },
    {
     "data": {
      "image/png": "[encoded data removed]",
      "text/plain": [
       "<matplotlib.figure.Figure at 0x7fca2e74fa10>"
      ]
     },
     "metadata": {},
     "output_type": "display_data"
    }
   ],
   "source": [
    "# define SaveFileName\n",
    "# 8, 4, 12, 16, 32, 64\n",
    "# 32 floats -> compression of factor 24.5, assuming the input is 784 floats\n",
    "def kld(p, q):\n",
    "    \"\"\"Calculates Kullback–Leibler divergence\"\"\"\n",
    "    p = np.array(p)\n",
    "    q = np.array(q)\n",
    "    return np.sum(p * np.log(p / q), axis=(p.ndim - 1))\n",
    " \n",
    "def jsd(p, q):\n",
    "    \"\"\"Calculates Jensen-Shannon Divergence\"\"\"\n",
    "    p = np.array(p)\n",
    "    q = np.array(q)\n",
    "    m = 0.5 * (p + q)\n",
    "    return 0.5 * kld(p, m) + 0.5 * kld(q, m)\n",
    "\n",
    "AllEncoding_dim = [4, 8, 12, 16, 32, 64]  \n",
    "window = processing.LoadDicDataFromFileNPZ(WindowDataPath+SensorName+'_'+Axis+'_train_edim=8.npz')\n",
    "fig = plt.figure(figsize=(30,15))\n",
    "ax = fig.add_subplot(111)\n",
    "\n",
    "for encoding_dim in AllEncoding_dim:\n",
    "    SaveFileNameDecord=DataName+'_decoded'+'_edim='+str(encoding_dim)\n",
    "    SaveFileNameGraph=GlaphDataPath+ DataName+'_edim='+str(encoding_dim)\n",
    "\n",
    "    reconstructData = processing.LoadDicDataFromFileNPZ(StudyDataPath+SaveFileNameDecord)\n",
    "    \n",
    "    PowerDataE=processing.LoadDicDataFromFileNPZ(StudyDataPath+DataName+'_edim='+str(encoding_dim)+'-power-raw.npz')\n",
    "    PowerDataD=processing.LoadDicDataFromFileNPZ(StudyDataPath+DataName+'_edim='+str(encoding_dim)+'-power-restruct.npz')\n",
    "\n",
    "    # to distribution\n",
    "    DistributePowerDataE = np.array([])\n",
    "    DistributePowerDataD = np.array([])\n",
    "\n",
    "    for i in range( PowerDataE.shape[0] ):\n",
    "        DistributePowerDataE = np.append(DistributePowerDataE,PowerDataE[i]/( np.sum(PowerDataE[i]) ))\n",
    "    DistributePowerDataE = DistributePowerDataE.reshape(PowerDataE.shape)\n",
    "    \n",
    "    for i in range( PowerDataD.shape[0] ):\n",
    "        DistributePowerDataD = np.append(DistributePowerDataD,PowerDataD[i]/( np.sum(PowerDataD[i]) ))\n",
    "    DistributePowerDataD = DistributePowerDataD.reshape(PowerDataD.shape)\n",
    "    \n",
    "    processing.SaveDicDataFromFileNPZ(StudyDataPath, DataName+'_edim='+str(encoding_dim)+'-power-distribution-raw',DistributePowerDataE)\n",
    "    processing.SaveDicDataFromFileNPZ(StudyDataPath, DataName+'_edim='+str(encoding_dim)+'-power-distribution-reconst',DistributePowerDataD)\n",
    "    \n",
    "    ArrayKLD = np.array([])\n",
    "    \n",
    "    # Kullback-leibler-divergence plot\n",
    "    for i in range(DistributePowerDataE.shape[0]):\n",
    "        ArrayKLD = np.append(ArrayKLD, kld(DistributePowerDataE[i],DistributePowerDataD[i]))\n",
    "\n",
    "    for i in range(width,DistributePowerDataE.shape[0],width):\n",
    "        start =i-width\n",
    "        goal=i\n",
    "\n",
    "        data = ArrayKLD[start:goal]\n",
    "\n",
    "        #dataE,dataDをPower\n",
    "        ax.plot(range(0,len(data)),data,'g',label=\"kld data\")\n",
    "        ax.legend(loc='best')\n",
    "        ax.set_title(str(start)+\"-\"+str(goal))\n",
    "        ax.figure.savefig(SaveFileNameGraph+'-'+str(start)+\"-\"+str(goal)+'-'+'-glaph')\n",
    "        ax.clear()\n",
    "        print 'Graph range='+str(start)+' : '+str(goal)\n",
    "        time.sleep(3)"
   ]
  },
  {
   "cell_type": "code",
   "execution_count": 30,
   "metadata": {
    "collapsed": false
   },
   "outputs": [
    {
     "data": {
      "text/plain": [
       "254736"
      ]
     },
     "execution_count": 30,
     "metadata": {},
     "output_type": "execute_result"
    }
   ],
   "source": [
    "window.size"
   ]
  },
  {
   "cell_type": "code",
   "execution_count": null,
   "metadata": {
    "collapsed": false
   },
   "outputs": [],
   "source": []
  },
  {
   "cell_type": "code",
   "execution_count": null,
   "metadata": {
    "collapsed": true
   },
   "outputs": [],
   "source": []
  }
 ],
 "metadata": {
  "kernelspec": {
   "display_name": "Python 2",
   "language": "python",
   "name": "python2"
  },
  "language_info": {
   "codemirror_mode": {
    "name": "ipython",
    "version": 2
   },
   "file_extension": ".py",
   "mimetype": "text/x-python",
   "name": "python",
   "nbconvert_exporter": "python",
   "pygments_lexer": "ipython2",
   "version": "2.7.11"
  }
 },
 "nbformat": 4,
 "nbformat_minor": 0
}
