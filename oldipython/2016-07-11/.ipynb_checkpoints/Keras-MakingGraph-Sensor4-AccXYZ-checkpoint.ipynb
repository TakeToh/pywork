{
 "cells": [
  {
   "cell_type": "code",
   "execution_count": 1,
   "metadata": {
    "collapsed": false
   },
   "outputs": [],
   "source": [
    "import numpy as np\n",
    "import pandas as pd\n",
    "from scipy import fftpack\n",
    "from scipy import signal\n",
    "import time\n",
    "import os\n",
    "import matplotlib\n",
    "matplotlib.use('TkAgg')\n",
    "import matplotlib.pyplot as plt\n",
    "import pylab\n",
    "import pickle\n",
    "import copy\n",
    "import processing\n",
    "import matplotlib.animation as animation\n",
    "import datetime\n",
    "import multiprocessing as mp\n",
    "\n",
    "%matplotlib inline"
   ]
  },
  {
   "cell_type": "code",
   "execution_count": 2,
   "metadata": {
    "collapsed": false
   },
   "outputs": [
    {
     "name": "stderr",
     "output_type": "stream",
     "text": [
      "Using Theano backend.\n",
      "Using gpu device 0: GeForce GTX 970 (CNMeM is disabled, cuDNN 4007)\n"
     ]
    }
   ],
   "source": [
    "from keras.models import Sequential\n",
    "from keras.datasets import cifar10\n",
    "from keras.layers import Dense, Activation, Flatten\n",
    "from keras.optimizers import Adadelta\n",
    "from keras.utils import np_utils\n",
    "from keras.layers.convolutional import Convolution2D, MaxPooling2D\n",
    "from keras.utils.visualize_util import model_to_dot, plot\n",
    "from keras import backend as K\n",
    "from keras.layers import Input, Dense\n",
    "from keras.models import Model\n",
    "from keras.callbacks import EarlyStopping\n",
    "\n",
    "import matplotlib.image as mpimg\n"
   ]
  },
  {
   "cell_type": "markdown",
   "metadata": {},
   "source": [
    "共通変数をここに定義"
   ]
  },
  {
   "cell_type": "code",
   "execution_count": 3,
   "metadata": {
    "collapsed": true
   },
   "outputs": [],
   "source": [
    "DataName='sensor1_AccXYZ'\n",
    "SensorName='sensor1'\n",
    "width=3000"
   ]
  },
  {
   "cell_type": "code",
   "execution_count": 4,
   "metadata": {
    "collapsed": false
   },
   "outputs": [],
   "source": [
    "WORKSPACE_PATH = '/home/takeyama/pywork/ipython/2016-07-04'\n",
    "\n",
    "    \n",
    "if not os.path.exists(WORKSPACE_PATH+'/'+DataName+'/study/'): os.makedirs(WORKSPACE_PATH+'/'+DataName+'/study/')\n",
    "StudyDataPath=WORKSPACE_PATH+'/'+DataName+'/study/'\n",
    "\n",
    "#if not os.path.exists('/media/takeyama/HD-PZU3/01_TAKEYAMA_WORKSPACE/2016-07-08/'+DataName+'/glaph/'): \n",
    "#    os.makedirs('/media/takeyama/HD-PZU3/01_TAKEYAMA_WORKSPACE/2016-07-08/'+DataName+'/glaph/')\n",
    "#GlaphDataPath='/media/takeyama/HD-PZU3/01_TAKEYAMA_WORKSPACE/2016-07-08/'+DataName+'/glaph/'\n",
    "if not os.path.exists(WORKSPACE_PATH+'/'+DataName+'/glaph/'): os.makedirs(WORKSPACE_PATH+'/'+DataName+'/glaph/')\n",
    "GlaphDataPath=WORKSPACE_PATH+'/'+DataName+'/glaph/'\n",
    "\n",
    "if not os.path.exists(WORKSPACE_PATH+'/'+DataName+'/modelPic/'): os.makedirs(WORKSPACE_PATH+'/'+DataName+'/modelPic/')\n",
    "StudyDataModelPicPath=WORKSPACE_PATH+'/'+DataName+'/modelPic/'\n",
    "\n",
    "WindowDataPath=WORKSPACE_PATH+'/window/'\n",
    "RawDataPath=WORKSPACE_PATH+'/raw/'"
   ]
  },
  {
   "cell_type": "code",
   "execution_count": 5,
   "metadata": {
    "collapsed": false
   },
   "outputs": [],
   "source": [
    "\"\"\"\n",
    "    encordData,decordData\n",
    "    firstNum:\n",
    "    goalNum:\n",
    "    commonLabel:共通名前\n",
    "\"\"\"\n",
    "def MakeGlaph(encordData,decordData,firstNum,goalNum,commonLabel):\n",
    "    eRow, eCol=encordData.shape\n",
    "    dRow, dCol=decordData.shape\n",
    "    \n",
    "    if eRow!=dRow | eCol!=dCol:\n",
    "        return -1\n",
    "    start = firstNum\n",
    "    goal=goalNum\n",
    "    print str(start)+' is start '+str(goal)+' is goal'\n",
    "    dataE = encordData.reshape(eRow*eCol,1)[start:goal]\n",
    "    dataD = decordData.reshape(dRow*dCol,1)[start:goal]\n",
    "    plt.clf() \n",
    "    plt.figure(figsize=(100,50))\n",
    "    plt.plot(range(0,len(dataE)),dataE,'--r',label=\"raw data\")\n",
    "    plt.plot(range(0,len(dataD)),dataD,'b',label=\"reconstruct\")\n",
    "    plt.legend(loc='best')\n",
    "    plt.title(str(start)+\"-\"+str(goal))\n",
    "    plt.savefig(commonLabel+'-'+str(start)+\"-\"+str(goal)+'-'+'glaph')\n",
    "    plt.clf()\n",
    "    plt.cla()\n",
    "    plt.close('all')\n",
    "    return 1"
   ]
  },
  {
   "cell_type": "markdown",
   "metadata": {},
   "source": [
    "すべてのデータを読み出し、グラフ化する"
   ]
  },
  {
   "cell_type": "code",
   "execution_count": 6,
   "metadata": {
    "collapsed": false
   },
   "outputs": [
    {
     "name": "stdout",
     "output_type": "stream",
     "text": [
      "(15921, 16)\n",
      "48\n"
     ]
    }
   ],
   "source": [
    "window = processing.LoadDicDataFromFileNPZ('window/'+SensorName+'_AccXYZ_train_edim=8.npz')\n",
    "rows,colms=window.shape\n",
    "windowX = window[:,colms*0/3:colms*1/3]\n",
    "windowY = window[:,colms*1/3:colms*2/3]\n",
    "windowZ = window[:,colms*2/3:colms*3/3]\n",
    "print windowX.shape\n",
    "print colms"
   ]
  },
  {
   "cell_type": "code",
   "execution_count": 13,
   "metadata": {
    "collapsed": false
   },
   "outputs": [
    {
     "data": {
      "text/plain": [
       "(15921, 48)"
      ]
     },
     "execution_count": 13,
     "metadata": {},
     "output_type": "execute_result"
    }
   ],
   "source": [
    "window = processing.LoadDicDataFromFileNPZ('window/'+SensorName+'_AccXYZ_train_edim=8.npz')\n",
    "window.shape"
   ]
  },
  {
   "cell_type": "code",
   "execution_count": 15,
   "metadata": {
    "collapsed": false
   },
   "outputs": [
    {
     "data": {
      "text/plain": [
       "(15921, 16)"
      ]
     },
     "execution_count": 15,
     "metadata": {},
     "output_type": "execute_result"
    }
   ],
   "source": [
    "windowX = window[:,colms*0/3:colms*1/3]\n",
    "windowX.shape"
   ]
  },
  {
   "cell_type": "code",
   "execution_count": 7,
   "metadata": {
    "collapsed": false
   },
   "outputs": [],
   "source": [
    "SaveFileNameDecord=DataName+'_decoded'+'_edim=4'\n",
    "\n",
    "reconstructData = processing.LoadDicDataFromFileNPZ(StudyDataPath+SaveFileNameDecord)\n",
    "rows,colms=reconstructData.shape\n",
    "reconstructDataX = reconstructData[:,colms*0/3:colms*1/3]\n",
    "reconstructDataY = reconstructData[:,colms*1/3:colms*2/3]\n",
    "reconstructDataZ = reconstructData[:,colms*2/3:colms*3/3]"
   ]
  },
  {
   "cell_type": "code",
   "execution_count": 8,
   "metadata": {
    "collapsed": false
   },
   "outputs": [
    {
     "name": "stdout",
     "output_type": "stream",
     "text": [
      "[]\n",
      "[1, 2, 3, 4, 5]\n"
     ]
    },
    {
     "data": {
      "text/plain": [
       "<matplotlib.figure.Figure at 0x7f5b41a7b210>"
      ]
     },
     "metadata": {},
     "output_type": "display_data"
    },
    {
     "data": {
      "text/plain": [
       "<matplotlib.figure.Figure at 0x7f5b41a72610>"
      ]
     },
     "metadata": {},
     "output_type": "display_data"
    },
    {
     "data": {
      "text/plain": [
       "<matplotlib.figure.Figure at 0x7f5b419cacd0>"
      ]
     },
     "metadata": {},
     "output_type": "display_data"
    },
    {
     "data": {
      "text/plain": [
       "<matplotlib.figure.Figure at 0x7f5b419463d0>"
      ]
     },
     "metadata": {},
     "output_type": "display_data"
    },
    {
     "data": {
      "text/plain": [
       "<matplotlib.figure.Figure at 0x7f5b4186a150>"
      ]
     },
     "metadata": {},
     "output_type": "display_data"
    }
   ],
   "source": [
    "import numpy as np\n",
    "import matplotlib.pyplot as plt\n",
    "x = np.arange(1000)\n",
    "y = np.sin(x)\n",
    "\n",
    "for i in range(5):\n",
    "    fig = plt.figure()\n",
    "    ax = fig.add_subplot(1, 1, 1)\n",
    "    ax.plot(x, y)\n",
    "    plt.close(fig)\n",
    "\n",
    "print(plt.get_fignums())\n",
    "\n",
    "for i in range(5):\n",
    "    fig = plt.figure()\n",
    "    ax = fig.add_subplot(1, 1, 1)\n",
    "    ax.plot(x, y)\n",
    "    fig.clf()\n",
    "\n",
    "print(plt.get_fignums())\n"
   ]
  },
  {
   "cell_type": "code",
   "execution_count": 25,
   "metadata": {
    "collapsed": true
   },
   "outputs": [],
   "source": [
    "a= np.array([[1,2,3],[4,5,6]])"
   ]
  },
  {
   "cell_type": "code",
   "execution_count": 28,
   "metadata": {
    "collapsed": true
   },
   "outputs": [],
   "source": [
    "a = a.reshape(1,a.size)"
   ]
  },
  {
   "cell_type": "code",
   "execution_count": 29,
   "metadata": {
    "collapsed": false
   },
   "outputs": [
    {
     "data": {
      "text/plain": [
       "array([[1, 2, 3, 4, 5, 6]])"
      ]
     },
     "execution_count": 29,
     "metadata": {},
     "output_type": "execute_result"
    }
   ],
   "source": [
    "a"
   ]
  },
  {
   "cell_type": "code",
   "execution_count": 42,
   "metadata": {
    "collapsed": false
   },
   "outputs": [],
   "source": [
    "window = processing.LoadDicDataFromFileNPZ('window/'+SensorName+'_AccXYZ_train_edim=8.npz')\n",
    "window.shape\n",
    "window = window.reshape(15921,16,3)"
   ]
  },
  {
   "cell_type": "code",
   "execution_count": 37,
   "metadata": {
    "collapsed": false
   },
   "outputs": [
    {
     "name": "stdout",
     "output_type": "stream",
     "text": [
      "(254736, 1)\n"
     ]
    }
   ],
   "source": [
    "windowX = window[:,colms*0/3:colms*1/3]\n",
    "windowX = windowX.reshape(windowX.size,1)\n",
    "print windowX.shape"
   ]
  },
  {
   "cell_type": "markdown",
   "metadata": {},
   "source": [
    "並列処理でグラフを作成する"
   ]
  },
  {
   "cell_type": "code",
   "execution_count": null,
   "metadata": {
    "collapsed": false,
    "scrolled": true
   },
   "outputs": [
    {
     "name": "stdout",
     "output_type": "stream",
     "text": [
      "Graph range=0 : 3000\n",
      "Graph range=3000 : 6000\n",
      "Graph range=6000 : 9000\n"
     ]
    }
   ],
   "source": [
    "# define SaveFileName\n",
    "# 8, 4, 12, 16, 32, 64\n",
    "AllEncoding_dim = [4, 8, 12, 16, 32, 64]  # 32 floats -> compression of factor 24.5, assuming the input is 784 floats\n",
    "\n",
    "window = processing.LoadDicDataFromFileNPZ('window/'+SensorName+'_AccXYZ_train_edim=8.npz')\n",
    "rows,colms=window.shape\n",
    "window = window.reshape(rows,colms/3,3)\n",
    "\n",
    "windowX = window[:,:,0]\n",
    "windowX = windowX.reshape(windowX.size,1)\n",
    "\n",
    "windowY = window[:,:,1]\n",
    "windowY = windowY.reshape(windowY.size,1)\n",
    "\n",
    "windowZ = window[:,:,2]\n",
    "windowZ = windowZ.reshape(windowZ.size,1)\n",
    "\n",
    "AllWindow=[windowX,windowY,windowZ]\n",
    "\n",
    "rawData = window.reshape(window.size,1)\n",
    "width = 3000\n",
    "\n",
    "NameAxisArray =['AccX','AccY','AccZ']\n",
    "\n",
    "fig = plt.figure(figsize=(10,5))\n",
    "ax = fig.add_subplot(111)\n",
    "\n",
    "for encoding_dim in AllEncoding_dim:\n",
    "    SaveFileNameDecord=DataName+'_decoded'+'_edim='+str(encoding_dim)\n",
    "    SaveFileNameGraph= GlaphDataPath+DataName+'_edim='+str(encoding_dim)\n",
    "    \n",
    "    reconstructData = processing.LoadDicDataFromFileNPZ(StudyDataPath+SaveFileNameDecord)\n",
    "    rows,colms=reconstructData.shape\n",
    "    reconstructData = reconstructData.reshape(rows,colms/3,3)\n",
    "    \n",
    "    reconstDataX = reconstructData[:,:,0]\n",
    "    reconstDataX = reconstDataX.reshape(reconstDataX.size,1)\n",
    "    \n",
    "    reconstDataY = reconstructData[:,:,1]\n",
    "    reconstDataY = reconstDataY.reshape(reconstDataY.size,1)\n",
    "\n",
    "    reconstDataZ = reconstructData[:,:,2]\n",
    "    reconstDataZ = reconstDataZ.reshape(reconstDataZ.size,1)\n",
    "\n",
    "    AllReconst=[reconstDataX,reconstDataY,reconstDataZ]\n",
    "    \n",
    "    for rawData,reconst,NAME in zip(AllWindow,AllReconst,NameAxisArray):\n",
    "        for i in range(width,rawData.size,width):\n",
    "            start =i-width \n",
    "            goal=i\n",
    "\n",
    "            dataE = rawData[start:goal]\n",
    "            dataD = reconst[start:goal]\n",
    "\n",
    "            ax.plot(range(0,len(dataE)),dataE,'--r',label=\"raw data\")\n",
    "            ax.plot(range(0,len(dataD)),dataD,'b',label=\"reconstruct\")\n",
    "            ax.legend(loc='best')\n",
    "            ax.set_title(str(start)+\"-\"+str(goal))\n",
    "            ax.figure.savefig(SaveFileNameGraph+'-'+str(start)+\"-\"+str(goal)+'-'+NAME+'-glaph')\n",
    "            ax.clear()\n",
    "            print 'Graph range='+str(start)+' : '+str(goal)\n",
    "            time.sleep(5)"
   ]
  },
  {
   "cell_type": "code",
   "execution_count": 19,
   "metadata": {
    "collapsed": false
   },
   "outputs": [
    {
     "data": {
      "text/plain": [
       "(15921, 16)"
      ]
     },
     "execution_count": 19,
     "metadata": {},
     "output_type": "execute_result"
    }
   ],
   "source": [
    "window = processing.LoadDicDataFromFileNPZ('window/'+SensorName+'_AccX_train.npz')\n",
    "window.shape"
   ]
  },
  {
   "cell_type": "code",
   "execution_count": 20,
   "metadata": {
    "collapsed": false
   },
   "outputs": [
    {
     "data": {
      "text/plain": [
       "(15921, 16)"
      ]
     },
     "execution_count": 20,
     "metadata": {},
     "output_type": "execute_result"
    }
   ],
   "source": [
    "windowX.shape"
   ]
  },
  {
   "cell_type": "code",
   "execution_count": 21,
   "metadata": {
    "collapsed": false
   },
   "outputs": [
    {
     "data": {
      "text/plain": [
       "array([[  1.25100000e+00,   1.70000000e-03,   8.61400000e-01, ...,\n",
       "          7.50000000e-03,   8.49600000e-01,   1.25290000e+00],\n",
       "       [  1.25710000e+00,   0.00000000e+00,   8.69000000e-01, ...,\n",
       "         -1.00000000e-03,   8.65800000e-01,   1.26230000e+00],\n",
       "       [  1.25940000e+00,   4.40000000e-03,   8.78900000e-01, ...,\n",
       "         -1.90000000e-03,   8.62400000e-01,   1.25540000e+00],\n",
       "       ..., \n",
       "       [  1.36730000e+00,  -1.25000000e-02,   1.57780000e+00, ...,\n",
       "         -1.12600000e-01,   1.40980000e+00,   1.20830000e+00],\n",
       "       [  1.29910000e+00,  -3.60000000e-03,   1.44640000e+00, ...,\n",
       "         -1.04200000e-01,   1.28330000e+00,   1.14430000e+00],\n",
       "       [  1.23560000e+00,  -1.51000000e-02,   1.31610000e+00, ...,\n",
       "         -8.98000000e-02,   1.18840000e+00,   1.10160000e+00]])"
      ]
     },
     "execution_count": 21,
     "metadata": {},
     "output_type": "execute_result"
    }
   ],
   "source": [
    "windowX-window"
   ]
  },
  {
   "cell_type": "code",
   "execution_count": null,
   "metadata": {
    "collapsed": true
   },
   "outputs": [],
   "source": []
  }
 ],
 "metadata": {
  "kernelspec": {
   "display_name": "Python 2",
   "language": "python",
   "name": "python2"
  },
  "language_info": {
   "codemirror_mode": {
    "name": "ipython",
    "version": 2
   },
   "file_extension": ".py",
   "mimetype": "text/x-python",
   "name": "python",
   "nbconvert_exporter": "python",
   "pygments_lexer": "ipython2",
   "version": "2.7.11"
  }
 },
 "nbformat": 4,
 "nbformat_minor": 0
}
