{
 "cells": [
  {
   "cell_type": "markdown",
   "metadata": {},
   "source": [
    "important 変数を個々に定義する"
   ]
  },
  {
   "cell_type": "code",
   "execution_count": 1,
   "metadata": {
    "collapsed": true
   },
   "outputs": [],
   "source": [
    "SensorNum=4 # Sensor number\n",
    "SampleNum=32 # Window Width\n",
    "Overlap=0.5 # overlap\n",
    "width=1000 # graph width \n",
    "EncodingDim=[4,8,12,16,32,64] # number of hidden layer note \n",
    "Axis='AccX' # Axis"
   ]
  },
  {
   "cell_type": "code",
   "execution_count": 2,
   "metadata": {
    "collapsed": false
   },
   "outputs": [],
   "source": [
    "import numpy as np\n",
    "import pandas as pd\n",
    "from scipy import fftpack\n",
    "from scipy import signal\n",
    "import time\n",
    "import os\n",
    "import matplotlib.pyplot as plt\n",
    "import pylab\n",
    "import pickle\n",
    "import copy\n",
    "\n",
    "import processing\n",
    "import window\n",
    "\n",
    "import matplotlib.animation as animation\n",
    "import datetime\n",
    "\n",
    "%matplotlib inline"
   ]
  },
  {
   "cell_type": "code",
   "execution_count": 3,
   "metadata": {
    "collapsed": false
   },
   "outputs": [
    {
     "name": "stderr",
     "output_type": "stream",
     "text": [
      "Using Theano backend.\n",
      "Using gpu device 0: GeForce GTX 970 (CNMeM is disabled, cuDNN 4007)\n"
     ]
    }
   ],
   "source": [
    "from keras.models import Sequential\n",
    "from keras.datasets import cifar10\n",
    "from keras.layers import Dense, Activation, Flatten\n",
    "from keras.optimizers import Adadelta\n",
    "from keras.utils import np_utils\n",
    "from keras.layers.convolutional import Convolution2D, MaxPooling2D\n",
    "from keras.utils.visualize_util import model_to_dot, plot\n",
    "from keras import backend as K\n",
    "from keras.layers import Input, Dense\n",
    "from keras.models import Model\n",
    "from keras.callbacks import EarlyStopping\n",
    "\n",
    "import matplotlib.image as mpimg\n"
   ]
  },
  {
   "cell_type": "code",
   "execution_count": 4,
   "metadata": {
    "collapsed": true
   },
   "outputs": [],
   "source": [
    "DataName='sensor'+str(SensorNum)+'_'+Axis\n",
    "SensorName='sensor'+str(SensorNum)\n",
    "DicName='MemSensor'+str(SensorNum)"
   ]
  },
  {
   "cell_type": "code",
   "execution_count": 5,
   "metadata": {
    "collapsed": false
   },
   "outputs": [],
   "source": [
    "WORKSPACE_PATH = '/home/takeyama/pywork/ipython/2016-07-11'\n",
    "\n",
    "StudyDataPath=WORKSPACE_PATH+'/Study/'+DataName+'/'+'Window='+str(SampleNum)+'-Overlap='+str(Overlap*100)+'/'\n",
    "if not os.path.exists(StudyDataPath): os.makedirs(StudyDataPath)\n",
    "\n",
    "GlaphDataPath=WORKSPACE_PATH+'/Graph/'+DataName+'/Learning-Window='+str(SampleNum)+'-Overlap='+str(Overlap*100)+'/'\n",
    "if not os.path.exists(GlaphDataPath): os.makedirs(GlaphDataPath)\n",
    "\n",
    "StudyDataModelPicPath=WORKSPACE_PATH+'/Study/'+DataName+'/modelPic-Window='+str(SampleNum)+'-Overlap='+str(Overlap*100)+'/'\n",
    "if not os.path.exists(StudyDataModelPicPath): os.makedirs(StudyDataModelPicPath)\n",
    "\n",
    "WindowDataPath=WORKSPACE_PATH+'/window/'\n",
    "RawDataPath=WORKSPACE_PATH+'/raw/'"
   ]
  },
  {
   "cell_type": "markdown",
   "metadata": {},
   "source": [
    "**Phase1 計測データの取得**"
   ]
  },
  {
   "cell_type": "code",
   "execution_count": 6,
   "metadata": {
    "collapsed": false
   },
   "outputs": [],
   "source": [
    "dic=processing.LoadDicDataFromFileNPZ(RawDataPath+DicName)"
   ]
  },
  {
   "cell_type": "markdown",
   "metadata": {},
   "source": [
    "**Phase2 window flame 作成**"
   ]
  },
  {
   "cell_type": "code",
   "execution_count": 7,
   "metadata": {
    "collapsed": false
   },
   "outputs": [
    {
     "name": "stdout",
     "output_type": "stream",
     "text": [
      "AccX is registed now\n",
      "Build Complete\n",
      "(254742,)\n"
     ]
    }
   ],
   "source": [
    "w=window.Window()\n",
    "w.SetData(Axis,dic[Axis])\n",
    "wind=w.Compile(windowWidth=SampleNum,overlap=Overlap)\n",
    "windoW=wind.reshape((len(wind),np.prod(wind.shape[1:])))"
   ]
  },
  {
   "cell_type": "code",
   "execution_count": 8,
   "metadata": {
    "collapsed": false
   },
   "outputs": [
    {
     "data": {
      "text/plain": [
       "(7960, 32)"
      ]
     },
     "execution_count": 8,
     "metadata": {},
     "output_type": "execute_result"
    }
   ],
   "source": [
    "windoW.shape"
   ]
  },
  {
   "cell_type": "markdown",
   "metadata": {},
   "source": [
    "**前回やった学習をもう１度やってみる**"
   ]
  },
  {
   "cell_type": "code",
   "execution_count": 9,
   "metadata": {
    "collapsed": false,
    "scrolled": true
   },
   "outputs": [
    {
     "name": "stdout",
     "output_type": "stream",
     "text": [
      "Train on 7960 samples, validate on 7960 samples\n",
      "Epoch 1/50\n",
      "7960/7960 [==============================] - 4s - loss: 0.1674 - val_loss: 0.0203\n",
      "Epoch 2/50\n",
      "7960/7960 [==============================] - 4s - loss: 0.0163 - val_loss: 0.0130\n",
      "Epoch 3/50\n",
      "7960/7960 [==============================] - 5s - loss: 0.0112 - val_loss: 0.0097\n",
      "Epoch 4/50\n",
      "7960/7960 [==============================] - 5s - loss: 0.0090 - val_loss: 0.0085\n",
      "Epoch 5/50\n",
      "7960/7960 [==============================] - 5s - loss: 0.0082 - val_loss: 0.0079\n",
      "Epoch 6/50\n",
      "7960/7960 [==============================] - 5s - loss: 0.0077 - val_loss: 0.0075\n",
      "Epoch 7/50\n",
      "7960/7960 [==============================] - 5s - loss: 0.0073 - val_loss: 0.0072\n",
      "Epoch 8/50\n",
      "7960/7960 [==============================] - 5s - loss: 0.0068 - val_loss: 0.0065\n",
      "Epoch 9/50\n",
      "7960/7960 [==============================] - 5s - loss: 0.0062 - val_loss: 0.0063\n",
      "Epoch 10/50\n",
      "7960/7960 [==============================] - 5s - loss: 0.0055 - val_loss: 0.0050\n",
      "Epoch 11/50\n",
      "7960/7960 [==============================] - 6s - loss: 0.0047 - val_loss: 0.0043\n",
      "Epoch 12/50\n",
      "7960/7960 [==============================] - 5s - loss: 0.0040 - val_loss: 0.0038\n",
      "Epoch 13/50\n",
      "7960/7960 [==============================] - 5s - loss: 0.0034 - val_loss: 0.0031\n",
      "Epoch 14/50\n",
      "7960/7960 [==============================] - 5s - loss: 0.0030 - val_loss: 0.0028\n",
      "Epoch 15/50\n",
      "7960/7960 [==============================] - 5s - loss: 0.0027 - val_loss: 0.0026\n",
      "Epoch 16/50\n",
      "7960/7960 [==============================] - 5s - loss: 0.0025 - val_loss: 0.0023\n",
      "Epoch 17/50\n",
      "7960/7960 [==============================] - 5s - loss: 0.0023 - val_loss: 0.0023\n",
      "Epoch 18/50\n",
      "7960/7960 [==============================] - 5s - loss: 0.0022 - val_loss: 0.0021\n",
      "Epoch 19/50\n",
      "7960/7960 [==============================] - 5s - loss: 0.0021 - val_loss: 0.0020\n",
      "Epoch 20/50\n",
      "7960/7960 [==============================] - 5s - loss: 0.0020 - val_loss: 0.0019\n",
      "Epoch 21/50\n",
      "7960/7960 [==============================] - 5s - loss: 0.0019 - val_loss: 0.0018\n",
      "Epoch 22/50\n",
      "7960/7960 [==============================] - 5s - loss: 0.0018 - val_loss: 0.0022\n",
      "Epoch 23/50\n",
      "7960/7960 [==============================] - 5s - loss: 0.0018 - val_loss: 0.0017\n",
      "Epoch 24/50\n",
      "7960/7960 [==============================] - 5s - loss: 0.0017 - val_loss: 0.0016\n",
      "Epoch 25/50\n",
      "7960/7960 [==============================] - 5s - loss: 0.0017 - val_loss: 0.0016\n",
      "Epoch 26/50\n",
      "7960/7960 [==============================] - 6s - loss: 0.0016 - val_loss: 0.0015\n",
      "Epoch 27/50\n",
      "7960/7960 [==============================] - 5s - loss: 0.0016 - val_loss: 0.0015\n",
      "Epoch 28/50\n",
      "7960/7960 [==============================] - 5s - loss: 0.0015 - val_loss: 0.0014\n",
      "Epoch 29/50\n",
      "7960/7960 [==============================] - 5s - loss: 0.0015 - val_loss: 0.0014\n",
      "Epoch 30/50\n",
      "7960/7960 [==============================] - 5s - loss: 0.0014 - val_loss: 0.0015\n",
      "Epoch 31/50\n",
      "7960/7960 [==============================] - 5s - loss: 0.0014 - val_loss: 0.0013\n",
      "Epoch 32/50\n",
      "7960/7960 [==============================] - 5s - loss: 0.0013 - val_loss: 0.0012\n",
      "Epoch 33/50\n",
      "7960/7960 [==============================] - 5s - loss: 0.0013 - val_loss: 0.0014\n",
      "Epoch 34/50\n",
      "7960/7960 [==============================] - 6s - loss: 0.0012 - val_loss: 0.0011\n",
      "Epoch 35/50\n",
      "7960/7960 [==============================] - 5s - loss: 0.0012 - val_loss: 0.0013\n",
      "Epoch 36/50\n",
      "7960/7960 [==============================] - 5s - loss: 0.0011 - val_loss: 0.0011\n",
      "Epoch 37/50\n",
      "7960/7960 [==============================] - 5s - loss: 0.0011 - val_loss: 9.9800e-04\n",
      "Epoch 38/50\n",
      "7960/7960 [==============================] - 5s - loss: 0.0010 - val_loss: 9.3640e-04\n",
      "Epoch 39/50\n",
      "7960/7960 [==============================] - 5s - loss: 0.0010 - val_loss: 9.2268e-04\n",
      "Epoch 40/50\n",
      "7960/7960 [==============================] - 5s - loss: 0.0010 - val_loss: 8.7814e-04\n",
      "Epoch 41/50\n",
      "7960/7960 [==============================] - 5s - loss: 9.5041e-04 - val_loss: 8.2957e-04\n",
      "Epoch 42/50\n",
      "7960/7960 [==============================] - 5s - loss: 9.1033e-04 - val_loss: 0.0012\n",
      "Epoch 43/50\n",
      "7960/7960 [==============================] - 5s - loss: 8.8333e-04 - val_loss: 9.2249e-04\n",
      "Epoch 44/50\n",
      "7960/7960 [==============================] - 5s - loss: 8.6504e-04 - val_loss: 7.3613e-04\n",
      "Epoch 45/50\n",
      "7960/7960 [==============================] - 5s - loss: 8.4673e-04 - val_loss: 9.8113e-04\n",
      "Epoch 46/50\n",
      "7960/7960 [==============================] - 5s - loss: 8.0237e-04 - val_loss: 6.9692e-04\n",
      "Epoch 47/50\n",
      "7960/7960 [==============================] - 5s - loss: 8.0131e-04 - val_loss: 7.3499e-04\n",
      "Epoch 48/50\n",
      "7960/7960 [==============================] - 5s - loss: 7.9223e-04 - val_loss: 6.6203e-04\n",
      "Epoch 49/50\n",
      "7960/7960 [==============================] - 5s - loss: 7.4873e-04 - val_loss: 6.8261e-04\n",
      "Epoch 50/50\n",
      "7960/7960 [==============================] - 5s - loss: 7.3828e-04 - val_loss: 7.0213e-04\n"
     ]
    },
    {
     "data": {
      "image/png": "[encoded data removed]",
      "text/plain": [
       "<matplotlib.figure.Figure at 0x7fa07dc68990>"
      ]
     },
     "metadata": {},
     "output_type": "display_data"
    },
    {
     "name": "stdout",
     "output_type": "stream",
     "text": [
      "Train on 7960 samples, validate on 7960 samples\n",
      "Epoch 1/50\n",
      "7960/7960 [==============================] - 5s - loss: 0.1229 - val_loss: 0.0154\n",
      "Epoch 2/50\n",
      "7960/7960 [==============================] - 5s - loss: 0.0113 - val_loss: 0.0086\n",
      "Epoch 3/50\n",
      "7960/7960 [==============================] - 5s - loss: 0.0073 - val_loss: 0.0062\n",
      "Epoch 4/50\n",
      "7960/7960 [==============================] - 5s - loss: 0.0053 - val_loss: 0.0047\n",
      "Epoch 5/50\n",
      "7960/7960 [==============================] - 5s - loss: 0.0041 - val_loss: 0.0036\n",
      "Epoch 6/50\n",
      "7960/7960 [==============================] - 5s - loss: 0.0034 - val_loss: 0.0032\n",
      "Epoch 7/50\n",
      "7960/7960 [==============================] - 5s - loss: 0.0029 - val_loss: 0.0026\n",
      "Epoch 8/50\n",
      "7960/7960 [==============================] - 6s - loss: 0.0025 - val_loss: 0.0023\n",
      "Epoch 9/50\n",
      "7960/7960 [==============================] - 5s - loss: 0.0023 - val_loss: 0.0021\n",
      "Epoch 10/50\n",
      "7960/7960 [==============================] - 5s - loss: 0.0021 - val_loss: 0.0019\n",
      "Epoch 11/50\n",
      "7960/7960 [==============================] - 5s - loss: 0.0019 - val_loss: 0.0018\n",
      "Epoch 12/50\n",
      "7960/7960 [==============================] - 6s - loss: 0.0018 - val_loss: 0.0017\n",
      "Epoch 13/50\n",
      "7960/7960 [==============================] - 5s - loss: 0.0017 - val_loss: 0.0016\n",
      "Epoch 14/50\n",
      "7960/7960 [==============================] - 5s - loss: 0.0016 - val_loss: 0.0014\n",
      "Epoch 15/50\n",
      "7960/7960 [==============================] - 5s - loss: 0.0015 - val_loss: 0.0013\n",
      "Epoch 16/50\n",
      "7960/7960 [==============================] - 5s - loss: 0.0014 - val_loss: 0.0013\n",
      "Epoch 17/50\n",
      "7960/7960 [==============================] - 5s - loss: 0.0013 - val_loss: 0.0016\n",
      "Epoch 18/50\n",
      "7960/7960 [==============================] - 5s - loss: 0.0013 - val_loss: 0.0011\n",
      "Epoch 19/50\n",
      "7960/7960 [==============================] - 5s - loss: 0.0012 - val_loss: 0.0011\n",
      "Epoch 20/50\n",
      "7960/7960 [==============================] - 5s - loss: 0.0012 - val_loss: 0.0010\n",
      "Epoch 21/50\n",
      "7960/7960 [==============================] - 6s - loss: 0.0011 - val_loss: 0.0012\n",
      "Epoch 22/50\n",
      "7960/7960 [==============================] - 6s - loss: 0.0011 - val_loss: 9.4427e-04\n",
      "Epoch 23/50\n",
      "7960/7960 [==============================] - 5s - loss: 0.0011 - val_loss: 0.0011\n",
      "Epoch 24/50\n",
      "7960/7960 [==============================] - 5s - loss: 0.0010 - val_loss: 8.8103e-04\n",
      "Epoch 25/50\n",
      "7960/7960 [==============================] - 5s - loss: 0.0010 - val_loss: 8.5327e-04\n",
      "Epoch 26/50\n",
      "7960/7960 [==============================] - 5s - loss: 9.6450e-04 - val_loss: 9.1881e-04\n",
      "Epoch 27/50\n",
      "7960/7960 [==============================] - 5s - loss: 9.6414e-04 - val_loss: 9.1017e-04\n",
      "Epoch 28/50\n",
      "7960/7960 [==============================] - 5s - loss: 9.5699e-04 - val_loss: 7.8671e-04\n",
      "Epoch 29/50\n",
      "7960/7960 [==============================] - 5s - loss: 9.0830e-04 - val_loss: 8.4232e-04\n",
      "Epoch 30/50\n",
      "7960/7960 [==============================] - 5s - loss: 9.4029e-04 - val_loss: 7.7300e-04\n",
      "Epoch 31/50\n",
      "7960/7960 [==============================] - 5s - loss: 8.9726e-04 - val_loss: 7.4203e-04\n",
      "Epoch 32/50\n",
      "7960/7960 [==============================] - 5s - loss: 8.6183e-04 - val_loss: 7.7839e-04\n",
      "Epoch 33/50\n",
      "7960/7960 [==============================] - 5s - loss: 8.5080e-04 - val_loss: 7.2307e-04\n",
      "Epoch 34/50\n",
      "7960/7960 [==============================] - 5s - loss: 8.5296e-04 - val_loss: 0.0010\n",
      "Epoch 35/50\n",
      "7960/7960 [==============================] - 5s - loss: 8.7511e-04 - val_loss: 7.4619e-04\n",
      "Epoch 36/50\n",
      "7960/7960 [==============================] - 5s - loss: 8.1605e-04 - val_loss: 7.5275e-04\n"
     ]
    },
    {
     "data": {
      "image/png": "[encoded data removed]",
      "text/plain": [
       "<matplotlib.figure.Figure at 0x7fa0d22ed850>"
      ]
     },
     "metadata": {},
     "output_type": "display_data"
    },
    {
     "name": "stdout",
     "output_type": "stream",
     "text": [
      "Train on 7960 samples, validate on 7960 samples\n",
      "Epoch 1/50\n",
      "7960/7960 [==============================] - 5s - loss: 0.1291 - val_loss: 0.0135\n",
      "Epoch 2/50\n",
      "7960/7960 [==============================] - 5s - loss: 0.0104 - val_loss: 0.0083\n",
      "Epoch 3/50\n",
      "7960/7960 [==============================] - 5s - loss: 0.0073 - val_loss: 0.0064\n",
      "Epoch 4/50\n",
      "7960/7960 [==============================] - 5s - loss: 0.0056 - val_loss: 0.0048\n",
      "Epoch 5/50\n",
      "7960/7960 [==============================] - 5s - loss: 0.0041 - val_loss: 0.0035\n",
      "Epoch 6/50\n",
      "7960/7960 [==============================] - 5s - loss: 0.0031 - val_loss: 0.0027\n",
      "Epoch 7/50\n",
      "7960/7960 [==============================] - 5s - loss: 0.0026 - val_loss: 0.0024\n",
      "Epoch 8/50\n",
      "7960/7960 [==============================] - 5s - loss: 0.0022 - val_loss: 0.0020\n",
      "Epoch 9/50\n",
      "7960/7960 [==============================] - 6s - loss: 0.0020 - val_loss: 0.0018\n",
      "Epoch 10/50\n",
      "7960/7960 [==============================] - 5s - loss: 0.0019 - val_loss: 0.0018\n",
      "Epoch 11/50\n",
      "7960/7960 [==============================] - 5s - loss: 0.0017 - val_loss: 0.0016\n",
      "Epoch 12/50\n",
      "7960/7960 [==============================] - 5s - loss: 0.0016 - val_loss: 0.0015\n",
      "Epoch 13/50\n",
      "7960/7960 [==============================] - 5s - loss: 0.0015 - val_loss: 0.0014\n",
      "Epoch 14/50\n",
      "7960/7960 [==============================] - 5s - loss: 0.0014 - val_loss: 0.0014\n",
      "Epoch 15/50\n",
      "7960/7960 [==============================] - 5s - loss: 0.0014 - val_loss: 0.0024\n",
      "Epoch 16/50\n",
      "7960/7960 [==============================] - 5s - loss: 0.0013 - val_loss: 0.0013\n",
      "Epoch 17/50\n",
      "7960/7960 [==============================] - 4s - loss: 0.0012 - val_loss: 0.0010\n",
      "Epoch 18/50\n",
      "7960/7960 [==============================] - 4s - loss: 0.0011 - val_loss: 0.0010\n",
      "Epoch 19/50\n",
      "7960/7960 [==============================] - 4s - loss: 0.0011 - val_loss: 9.6043e-04\n",
      "Epoch 20/50\n",
      "7960/7960 [==============================] - 4s - loss: 0.0011 - val_loss: 8.3829e-04\n",
      "Epoch 21/50\n",
      "7960/7960 [==============================] - 4s - loss: 9.4659e-04 - val_loss: 8.6813e-04\n",
      "Epoch 22/50\n",
      "7960/7960 [==============================] - 5s - loss: 9.3781e-04 - val_loss: 0.0037\n",
      "Epoch 23/50\n",
      "7960/7960 [==============================] - 4s - loss: 8.9743e-04 - val_loss: 8.2622e-04\n",
      "Epoch 24/50\n",
      "7960/7960 [==============================] - 4s - loss: 8.7132e-04 - val_loss: 7.1945e-04\n",
      "Epoch 25/50\n",
      "7960/7960 [==============================] - 4s - loss: 8.4573e-04 - val_loss: 6.6997e-04\n",
      "Epoch 26/50\n",
      "7960/7960 [==============================] - 4s - loss: 7.8362e-04 - val_loss: 6.4267e-04\n",
      "Epoch 27/50\n",
      "7960/7960 [==============================] - 4s - loss: 8.4014e-04 - val_loss: 6.6205e-04\n",
      "Epoch 28/50\n",
      "7960/7960 [==============================] - 4s - loss: 7.6776e-04 - val_loss: 6.1226e-04\n",
      "Epoch 29/50\n",
      "7960/7960 [==============================] - 4s - loss: 8.3293e-04 - val_loss: 9.1740e-04\n",
      "Epoch 30/50\n",
      "7960/7960 [==============================] - 4s - loss: 7.8404e-04 - val_loss: 5.8905e-04\n",
      "Epoch 31/50\n",
      "7960/7960 [==============================] - 4s - loss: 7.3591e-04 - val_loss: 6.0097e-04\n",
      "Epoch 32/50\n",
      "7960/7960 [==============================] - 4s - loss: 7.5684e-04 - val_loss: 6.4446e-04\n",
      "Epoch 33/50\n",
      "7960/7960 [==============================] - 4s - loss: 7.4747e-04 - val_loss: 6.4157e-04\n"
     ]
    },
    {
     "data": {
      "image/png": "[encoded data removed]",
      "text/plain": [
       "<matplotlib.figure.Figure at 0x7fa081902ed0>"
      ]
     },
     "metadata": {},
     "output_type": "display_data"
    },
    {
     "name": "stdout",
     "output_type": "stream",
     "text": [
      "Train on 7960 samples, validate on 7960 samples\n",
      "Epoch 1/50\n",
      "7960/7960 [==============================] - 5s - loss: 0.0758 - val_loss: 0.0116\n",
      "Epoch 2/50\n",
      "7960/7960 [==============================] - 4s - loss: 0.0085 - val_loss: 0.0064\n",
      "Epoch 3/50\n",
      "7960/7960 [==============================] - 4s - loss: 0.0051 - val_loss: 0.0040\n",
      "Epoch 4/50\n",
      "7960/7960 [==============================] - 4s - loss: 0.0034 - val_loss: 0.0028\n",
      "Epoch 5/50\n",
      "7960/7960 [==============================] - 4s - loss: 0.0027 - val_loss: 0.0024\n",
      "Epoch 6/50\n",
      "7960/7960 [==============================] - 4s - loss: 0.0022 - val_loss: 0.0019\n",
      "Epoch 7/50\n",
      "7960/7960 [==============================] - 4s - loss: 0.0019 - val_loss: 0.0017\n",
      "Epoch 8/50\n",
      "7960/7960 [==============================] - 4s - loss: 0.0017 - val_loss: 0.0016\n",
      "Epoch 9/50\n",
      "7960/7960 [==============================] - 4s - loss: 0.0015 - val_loss: 0.0013\n",
      "Epoch 10/50\n",
      "7960/7960 [==============================] - 4s - loss: 0.0014 - val_loss: 0.0012\n",
      "Epoch 11/50\n",
      "7960/7960 [==============================] - 4s - loss: 0.0013 - val_loss: 0.0011\n",
      "Epoch 12/50\n",
      "7960/7960 [==============================] - 4s - loss: 0.0012 - val_loss: 0.0010\n",
      "Epoch 13/50\n",
      "7960/7960 [==============================] - 4s - loss: 0.0011 - val_loss: 9.5131e-04\n",
      "Epoch 14/50\n",
      "7960/7960 [==============================] - 4s - loss: 0.0010 - val_loss: 8.5680e-04\n",
      "Epoch 15/50\n",
      "7960/7960 [==============================] - 4s - loss: 9.6765e-04 - val_loss: 8.1859e-04\n",
      "Epoch 16/50\n",
      "7960/7960 [==============================] - 4s - loss: 9.5095e-04 - val_loss: 7.6407e-04\n",
      "Epoch 17/50\n",
      "7960/7960 [==============================] - 4s - loss: 8.9964e-04 - val_loss: 8.4209e-04\n",
      "Epoch 18/50\n",
      "7960/7960 [==============================] - 4s - loss: 8.6872e-04 - val_loss: 9.5141e-04\n",
      "Epoch 19/50\n",
      "7960/7960 [==============================] - 5s - loss: 8.5365e-04 - val_loss: 6.4939e-04\n",
      "Epoch 20/50\n",
      "7960/7960 [==============================] - 5s - loss: 7.8240e-04 - val_loss: 6.9328e-04\n",
      "Epoch 21/50\n",
      "7960/7960 [==============================] - 4s - loss: 8.2248e-04 - val_loss: 6.5525e-04\n",
      "Epoch 22/50\n",
      "7960/7960 [==============================] - 4s - loss: 7.7668e-04 - val_loss: 6.1506e-04\n",
      "Epoch 23/50\n",
      "7960/7960 [==============================] - 4s - loss: 7.8804e-04 - val_loss: 0.0010\n",
      "Epoch 24/50\n",
      "7960/7960 [==============================] - 4s - loss: 7.5991e-04 - val_loss: 6.3503e-04\n",
      "Epoch 25/50\n",
      "7960/7960 [==============================] - 4s - loss: 7.7994e-04 - val_loss: 8.0833e-04\n"
     ]
    },
    {
     "data": {
      "image/png": "[encoded data removed]",
      "text/plain": [
       "<matplotlib.figure.Figure at 0x7fa0d2332350>"
      ]
     },
     "metadata": {},
     "output_type": "display_data"
    },
    {
     "name": "stdout",
     "output_type": "stream",
     "text": [
      "Train on 7960 samples, validate on 7960 samples\n",
      "Epoch 1/50\n",
      "7960/7960 [==============================] - 5s - loss: 0.0513 - val_loss: 0.0058\n",
      "Epoch 2/50\n",
      "7960/7960 [==============================] - 4s - loss: 0.0036 - val_loss: 0.0036\n",
      "Epoch 3/50\n",
      "7960/7960 [==============================] - 4s - loss: 0.0019 - val_loss: 0.0015\n",
      "Epoch 4/50\n",
      "7960/7960 [==============================] - 5s - loss: 0.0015 - val_loss: 0.0012\n",
      "Epoch 5/50\n",
      "7960/7960 [==============================] - 4s - loss: 0.0012 - val_loss: 0.0010\n",
      "Epoch 6/50\n",
      "7960/7960 [==============================] - 4s - loss: 0.0011 - val_loss: 0.0010\n",
      "Epoch 7/50\n",
      "7960/7960 [==============================] - 4s - loss: 0.0011 - val_loss: 8.3442e-04\n",
      "Epoch 8/50\n",
      "7960/7960 [==============================] - 4s - loss: 9.9219e-04 - val_loss: 7.6997e-04\n",
      "Epoch 9/50\n",
      "7960/7960 [==============================] - 4s - loss: 8.7865e-04 - val_loss: 7.1847e-04\n",
      "Epoch 10/50\n",
      "7960/7960 [==============================] - 4s - loss: 8.8782e-04 - val_loss: 6.7579e-04\n",
      "Epoch 11/50\n",
      "7960/7960 [==============================] - 4s - loss: 8.0896e-04 - val_loss: 0.0011\n",
      "Epoch 12/50\n",
      "7960/7960 [==============================] - 4s - loss: 8.2151e-04 - val_loss: 5.8004e-04\n",
      "Epoch 13/50\n",
      "7960/7960 [==============================] - 4s - loss: 7.8625e-04 - val_loss: 5.5917e-04\n",
      "Epoch 14/50\n",
      "7960/7960 [==============================] - 4s - loss: 6.8839e-04 - val_loss: 5.3060e-04\n",
      "Epoch 15/50\n",
      "7960/7960 [==============================] - 4s - loss: 7.5392e-04 - val_loss: 8.7496e-04\n",
      "Epoch 16/50\n",
      "7960/7960 [==============================] - 4s - loss: 7.4208e-04 - val_loss: 4.8142e-04\n",
      "Epoch 17/50\n",
      "7960/7960 [==============================] - 4s - loss: 7.6292e-04 - val_loss: 9.6603e-04\n",
      "Epoch 18/50\n",
      "7960/7960 [==============================] - 4s - loss: 7.2830e-04 - val_loss: 6.0841e-04\n",
      "Epoch 19/50\n",
      "7960/7960 [==============================] - 4s - loss: 7.4979e-04 - val_loss: 4.4845e-04\n",
      "Epoch 20/50\n",
      "7960/7960 [==============================] - 4s - loss: 6.6225e-04 - val_loss: 6.0689e-04\n",
      "Epoch 21/50\n",
      "7960/7960 [==============================] - 4s - loss: 7.7694e-04 - val_loss: 4.3043e-04\n",
      "Epoch 22/50\n",
      "7960/7960 [==============================] - 4s - loss: 5.9403e-04 - val_loss: 5.9488e-04\n",
      "Epoch 23/50\n",
      "7960/7960 [==============================] - 4s - loss: 7.5065e-04 - val_loss: 0.0011\n",
      "Epoch 24/50\n",
      "7960/7960 [==============================] - 4s - loss: 6.7431e-04 - val_loss: 4.4705e-04\n"
     ]
    },
    {
     "data": {
      "image/png": "[encoded data removed]",
      "text/plain": [
       "<matplotlib.figure.Figure at 0x7fa09404c890>"
      ]
     },
     "metadata": {},
     "output_type": "display_data"
    },
    {
     "name": "stdout",
     "output_type": "stream",
     "text": [
      "Train on 7960 samples, validate on 7960 samples\n",
      "Epoch 1/50\n",
      "7960/7960 [==============================] - 4s - loss: 0.0284 - val_loss: 0.0037\n",
      "Epoch 2/50\n",
      "7960/7960 [==============================] - 4s - loss: 0.0025 - val_loss: 0.0018\n",
      "Epoch 3/50\n",
      "7960/7960 [==============================] - 4s - loss: 0.0015 - val_loss: 0.0023\n",
      "Epoch 4/50\n",
      "7960/7960 [==============================] - 5s - loss: 0.0012 - val_loss: 0.0011\n",
      "Epoch 5/50\n",
      "7960/7960 [==============================] - 5s - loss: 0.0010 - val_loss: 8.2439e-04\n",
      "Epoch 6/50\n",
      "7960/7960 [==============================] - 5s - loss: 9.4633e-04 - val_loss: 6.7338e-04\n",
      "Epoch 7/50\n",
      "7960/7960 [==============================] - 5s - loss: 8.9264e-04 - val_loss: 5.7731e-04\n",
      "Epoch 8/50\n",
      "7960/7960 [==============================] - 5s - loss: 8.8878e-04 - val_loss: 5.4755e-04\n",
      "Epoch 9/50\n",
      "7960/7960 [==============================] - 5s - loss: 8.9405e-04 - val_loss: 6.0365e-04\n",
      "Epoch 10/50\n",
      "7960/7960 [==============================] - 5s - loss: 8.3616e-04 - val_loss: 4.8835e-04\n",
      "Epoch 11/50\n",
      "7960/7960 [==============================] - 5s - loss: 8.4494e-04 - val_loss: 4.6972e-04\n",
      "Epoch 12/50\n",
      "7960/7960 [==============================] - 5s - loss: 7.9382e-04 - val_loss: 4.6494e-04\n",
      "Epoch 13/50\n",
      "7960/7960 [==============================] - 4s - loss: 8.3888e-04 - val_loss: 5.1819e-04\n",
      "Epoch 14/50\n",
      "7960/7960 [==============================] - 4s - loss: 7.5704e-04 - val_loss: 8.0741e-04\n",
      "Epoch 15/50\n",
      "7960/7960 [==============================] - 5s - loss: 7.8760e-04 - val_loss: 4.0241e-04\n",
      "Epoch 16/50\n",
      "7960/7960 [==============================] - 4s - loss: 7.2350e-04 - val_loss: 5.1081e-04\n",
      "Epoch 17/50\n",
      "7960/7960 [==============================] - 4s - loss: 7.3644e-04 - val_loss: 4.3807e-04\n",
      "Epoch 18/50\n",
      "7960/7960 [==============================] - 4s - loss: 7.9448e-04 - val_loss: 4.7643e-04\n"
     ]
    },
    {
     "data": {
      "image/png": "[encoded data removed]",
      "text/plain": [
       "<matplotlib.figure.Figure at 0x7fa0d1ec19d0>"
      ]
     },
     "metadata": {},
     "output_type": "display_data"
    }
   ],
   "source": [
    "# define SaveFileName\n",
    "for encoding_dim in EncodingDim:\n",
    "    SaveFileNameEncord=DataName+'_encoded'+'_edim='+str(encoding_dim)+'-Window='+str(SampleNum)+'-Overlap='+str(Overlap*100)\n",
    "    SaveFileNameDecord=DataName+'_decoded'+'_edim='+str(encoding_dim)+'-Window='+str(SampleNum)+'-Overlap='+str(Overlap*100)\n",
    "    SaveFileNameNet=DataName+'_net'+'_edim='+str(encoding_dim)+'-Window='+str(SampleNum)+'-Overlap='+str(Overlap*100)\n",
    "    SaveFileNameTrain=DataName+'_train'+'_edim='+str(encoding_dim)+'-Window='+str(SampleNum)+'-Overlap='+str(Overlap*100)\n",
    "    SaveFileNameTest=DataName+'_test'+'_edim='+str(encoding_dim)+'-Window='+str(SampleNum)+'-Overlap='+str(Overlap*100)\n",
    "    SaveFileNameGlaph=GlaphDataPath+DataName+'_edim='+str(encoding_dim)+'-Window='+str(SampleNum)+'-Overlap='+str(Overlap*100)+'_loss_val_loss.png'\n",
    "\n",
    "    window_test=windoW\n",
    "    window_train=windoW\n",
    "    processing.SaveDicDataFromFileNPZ(WindowDataPath,SaveFileNameTrain,window_test)\n",
    "    processing.SaveDicDataFromFileNPZ(WindowDataPath,SaveFileNameTest,window_test)\n",
    "    shapeNum=windoW.shape[1]\n",
    "\n",
    "    # this is our input placeholder\n",
    "    input_img = Input(shape=(shapeNum,))\n",
    "    # \"encoded\" is the encoded representation of the input\n",
    "    encoded = Dense(encoding_dim, activation='tanh')(input_img)\n",
    "    # \"decoded\" is the lossy reconstruction of the input\n",
    "    decoded = Dense(shapeNum, activation='linear')(encoded)\n",
    "\n",
    "    # this model maps an input to its reconstruction\n",
    "    autoencoder = Model(input=input_img, output=decoded)\n",
    "\n",
    "    # this model maps an input to its encoded representation\n",
    "    encoder = Model(input=input_img, output=encoded)\n",
    "\n",
    "    # create a placeholder for an encoded (32-dimensional) input\n",
    "    encoded_input = Input(shape=(encoding_dim,))\n",
    "    # retrieve the last layer of the autoencoder model\n",
    "    decoder_layer = autoencoder.layers[-1]\n",
    "    # create the decoder model\n",
    "    decoder = Model(input=encoded_input, output=decoder_layer(encoded_input))\n",
    "\n",
    "    autoencoder.compile(optimizer='adadelta', loss='mse')\n",
    "    plot(autoencoder,  to_file=StudyDataModelPicPath+SaveFileNameNet+'.png')\n",
    "\n",
    "    early_stopping = EarlyStopping(monitor='val_loss', patience=2)\n",
    "    hist = autoencoder.fit(window_train, window_train,\n",
    "                    nb_epoch=50,\n",
    "                    batch_size=shapeNum/4,\n",
    "                    shuffle=True,\n",
    "                    validation_data=(window_test, window_test),\n",
    "                    callbacks=[early_stopping])\n",
    "\n",
    "    encoded_imgs = encoder.predict(window_test)\n",
    "    decoded_imgs = decoder.predict(encoded_imgs)\n",
    "\n",
    "    processing.SaveDicDataFromFileNPZ(StudyDataPath,SaveFileNameEncord,encoded_imgs)\n",
    "    processing.SaveDicDataFromFileNPZ(StudyDataPath,SaveFileNameDecord,decoded_imgs)\n",
    "\n",
    "    # save model and wights\n",
    "    json_string = encoder.to_json()\n",
    "    open(StudyDataPath+SaveFileNameEncord+'.json', 'w').write(json_string)\n",
    "    encoder.save_weights(StudyDataPath+SaveFileNameEncord+'_weights.h5')\n",
    "\n",
    "    json_string = decoder.to_json()\n",
    "    open(StudyDataPath+SaveFileNameDecord+'.json', 'w').write(json_string)\n",
    "    decoder.save_weights(StudyDataPath+SaveFileNameDecord+'_weights.h5')\n",
    "\n",
    "    json_string = autoencoder.to_json()\n",
    "    open(StudyDataPath+SaveFileNameNet+'.json', 'w').write(json_string)\n",
    "    autoencoder.save_weights(StudyDataPath+SaveFileNameNet+'_weights.h5')\n",
    "\n",
    "    # plot loss\n",
    "    loss = hist.history['loss']\n",
    "    val_loss = hist.history['val_loss']\n",
    "\n",
    "    nb_epoch = len(loss)\n",
    "    plt.plot(range(nb_epoch), loss, marker='.', label='loss')\n",
    "    plt.plot(range(nb_epoch), val_loss, marker='.', label='val_loss')\n",
    "    plt.legend(loc='best', fontsize=10)\n",
    "    plt.grid()\n",
    "    plt.xlabel('epoch')\n",
    "    plt.ylabel('loss')\n",
    "    plt.savefig(SaveFileNameGlaph)\n",
    "    plt.show()"
   ]
  },
  {
   "cell_type": "code",
   "execution_count": null,
   "metadata": {
    "collapsed": true
   },
   "outputs": [],
   "source": []
  }
 ],
 "metadata": {
  "kernelspec": {
   "display_name": "Python 2",
   "language": "python",
   "name": "python2"
  },
  "language_info": {
   "codemirror_mode": {
    "name": "ipython",
    "version": 2
   },
   "file_extension": ".py",
   "mimetype": "text/x-python",
   "name": "python",
   "nbconvert_exporter": "python",
   "pygments_lexer": "ipython2",
   "version": "2.7.11"
  }
 },
 "nbformat": 4,
 "nbformat_minor": 0
}
