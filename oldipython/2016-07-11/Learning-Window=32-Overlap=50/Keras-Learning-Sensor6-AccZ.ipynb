{
 "cells": [
  {
   "cell_type": "markdown",
   "metadata": {},
   "source": [
    "important 変数を個々に定義する"
   ]
  },
  {
   "cell_type": "code",
   "execution_count": 1,
   "metadata": {
    "collapsed": true
   },
   "outputs": [],
   "source": [
    "SensorNum=6 # Sensor number\n",
    "SampleNum=32 # Window Width\n",
    "Overlap=0.5 # overlap\n",
    "width=1000 # graph width \n",
    "EncodingDim=[4,8,12,16,32,64] # number of hidden layer note \n",
    "Axis='AccZ' # Axis"
   ]
  },
  {
   "cell_type": "code",
   "execution_count": 2,
   "metadata": {
    "collapsed": false
   },
   "outputs": [],
   "source": [
    "import numpy as np\n",
    "import pandas as pd\n",
    "from scipy import fftpack\n",
    "from scipy import signal\n",
    "import time\n",
    "import os\n",
    "import matplotlib.pyplot as plt\n",
    "import pylab\n",
    "import pickle\n",
    "import copy\n",
    "\n",
    "import processing\n",
    "import window\n",
    "\n",
    "import matplotlib.animation as animation\n",
    "import datetime\n",
    "\n",
    "%matplotlib inline"
   ]
  },
  {
   "cell_type": "code",
   "execution_count": 3,
   "metadata": {
    "collapsed": false
   },
   "outputs": [
    {
     "name": "stderr",
     "output_type": "stream",
     "text": [
      "Using Theano backend.\n",
      "Using gpu device 0: GeForce GTX 970 (CNMeM is disabled, cuDNN 4007)\n"
     ]
    }
   ],
   "source": [
    "from keras.models import Sequential\n",
    "from keras.datasets import cifar10\n",
    "from keras.layers import Dense, Activation, Flatten\n",
    "from keras.optimizers import Adadelta\n",
    "from keras.utils import np_utils\n",
    "from keras.layers.convolutional import Convolution2D, MaxPooling2D\n",
    "from keras.utils.visualize_util import model_to_dot, plot\n",
    "from keras import backend as K\n",
    "from keras.layers import Input, Dense\n",
    "from keras.models import Model\n",
    "from keras.callbacks import EarlyStopping\n",
    "\n",
    "import matplotlib.image as mpimg\n"
   ]
  },
  {
   "cell_type": "code",
   "execution_count": 4,
   "metadata": {
    "collapsed": true
   },
   "outputs": [],
   "source": [
    "DataName='sensor'+str(SensorNum)+'_'+Axis\n",
    "SensorName='sensor'+str(SensorNum)\n",
    "DicName='MemSensor'+str(SensorNum)"
   ]
  },
  {
   "cell_type": "code",
   "execution_count": 5,
   "metadata": {
    "collapsed": false
   },
   "outputs": [],
   "source": [
    "WORKSPACE_PATH = '/home/takeyama/pywork/ipython/2016-07-11'\n",
    "\n",
    "StudyDataPath=WORKSPACE_PATH+'/Study/'+DataName+'/'+'Window='+str(SampleNum)+'-Overlap='+str(Overlap*100)+'/'\n",
    "if not os.path.exists(StudyDataPath): os.makedirs(StudyDataPath)\n",
    "\n",
    "GlaphDataPath=WORKSPACE_PATH+'/Graph/'+DataName+'/Learning-Window='+str(SampleNum)+'-Overlap='+str(Overlap*100)+'/'\n",
    "if not os.path.exists(GlaphDataPath): os.makedirs(GlaphDataPath)\n",
    "\n",
    "StudyDataModelPicPath=WORKSPACE_PATH+'/Study/'+DataName+'/modelPic-Window='+str(SampleNum)+'-Overlap='+str(Overlap*100)+'/'\n",
    "if not os.path.exists(StudyDataModelPicPath): os.makedirs(StudyDataModelPicPath)\n",
    "\n",
    "WindowDataPath=WORKSPACE_PATH+'/window/'\n",
    "RawDataPath=WORKSPACE_PATH+'/raw/'"
   ]
  },
  {
   "cell_type": "markdown",
   "metadata": {},
   "source": [
    "**Phase1 計測データの取得**"
   ]
  },
  {
   "cell_type": "code",
   "execution_count": 6,
   "metadata": {
    "collapsed": false
   },
   "outputs": [],
   "source": [
    "dic=processing.LoadDicDataFromFileNPZ(RawDataPath+DicName)"
   ]
  },
  {
   "cell_type": "markdown",
   "metadata": {},
   "source": [
    "**Phase2 window flame 作成**"
   ]
  },
  {
   "cell_type": "code",
   "execution_count": 7,
   "metadata": {
    "collapsed": false
   },
   "outputs": [
    {
     "name": "stdout",
     "output_type": "stream",
     "text": [
      "AccZ is registed now\n",
      "Build Complete\n",
      "(254742,)\n"
     ]
    }
   ],
   "source": [
    "w=window.Window()\n",
    "w.SetData(Axis,dic[Axis])\n",
    "wind=w.Compile(windowWidth=SampleNum,overlap=Overlap)\n",
    "windoW=wind.reshape((len(wind),np.prod(wind.shape[1:])))"
   ]
  },
  {
   "cell_type": "code",
   "execution_count": 8,
   "metadata": {
    "collapsed": false
   },
   "outputs": [
    {
     "data": {
      "text/plain": [
       "(7960, 32)"
      ]
     },
     "execution_count": 8,
     "metadata": {},
     "output_type": "execute_result"
    }
   ],
   "source": [
    "windoW.shape"
   ]
  },
  {
   "cell_type": "markdown",
   "metadata": {},
   "source": [
    "**前回やった学習をもう１度やってみる**"
   ]
  },
  {
   "cell_type": "code",
   "execution_count": 9,
   "metadata": {
    "collapsed": false,
    "scrolled": true
   },
   "outputs": [
    {
     "name": "stdout",
     "output_type": "stream",
     "text": [
      "Train on 7960 samples, validate on 7960 samples\n",
      "Epoch 1/50\n",
      "7960/7960 [==============================] - 2s - loss: 0.0554 - val_loss: 0.0062\n",
      "Epoch 2/50\n",
      "7960/7960 [==============================] - 2s - loss: 0.0053 - val_loss: 0.0049\n",
      "Epoch 3/50\n",
      "7960/7960 [==============================] - 3s - loss: 0.0048 - val_loss: 0.0047\n",
      "Epoch 4/50\n",
      "7960/7960 [==============================] - 3s - loss: 0.0046 - val_loss: 0.0045\n",
      "Epoch 5/50\n",
      "7960/7960 [==============================] - 3s - loss: 0.0044 - val_loss: 0.0043\n",
      "Epoch 6/50\n",
      "7960/7960 [==============================] - 3s - loss: 0.0042 - val_loss: 0.0042\n",
      "Epoch 7/50\n",
      "7960/7960 [==============================] - 3s - loss: 0.0040 - val_loss: 0.0040\n",
      "Epoch 8/50\n",
      "7960/7960 [==============================] - 2s - loss: 0.0039 - val_loss: 0.0038\n",
      "Epoch 9/50\n",
      "7960/7960 [==============================] - 2s - loss: 0.0037 - val_loss: 0.0036\n",
      "Epoch 10/50\n",
      "7960/7960 [==============================] - 2s - loss: 0.0036 - val_loss: 0.0035\n",
      "Epoch 11/50\n",
      "7960/7960 [==============================] - 2s - loss: 0.0035 - val_loss: 0.0034\n",
      "Epoch 12/50\n",
      "7960/7960 [==============================] - 2s - loss: 0.0034 - val_loss: 0.0033\n",
      "Epoch 13/50\n",
      "7960/7960 [==============================] - 2s - loss: 0.0033 - val_loss: 0.0033\n",
      "Epoch 14/50\n",
      "7960/7960 [==============================] - 2s - loss: 0.0033 - val_loss: 0.0032\n",
      "Epoch 15/50\n",
      "7960/7960 [==============================] - 2s - loss: 0.0032 - val_loss: 0.0032\n",
      "Epoch 16/50\n",
      "7960/7960 [==============================] - 2s - loss: 0.0032 - val_loss: 0.0032\n",
      "Epoch 17/50\n",
      "7960/7960 [==============================] - 2s - loss: 0.0031 - val_loss: 0.0031\n",
      "Epoch 18/50\n",
      "7960/7960 [==============================] - 2s - loss: 0.0031 - val_loss: 0.0031\n",
      "Epoch 19/50\n",
      "7960/7960 [==============================] - 2s - loss: 0.0031 - val_loss: 0.0030\n",
      "Epoch 20/50\n",
      "7960/7960 [==============================] - 2s - loss: 0.0030 - val_loss: 0.0030\n",
      "Epoch 21/50\n",
      "7960/7960 [==============================] - 2s - loss: 0.0030 - val_loss: 0.0030\n",
      "Epoch 22/50\n",
      "7960/7960 [==============================] - 2s - loss: 0.0030 - val_loss: 0.0030\n",
      "Epoch 23/50\n",
      "7960/7960 [==============================] - 2s - loss: 0.0030 - val_loss: 0.0029\n",
      "Epoch 24/50\n",
      "7960/7960 [==============================] - 2s - loss: 0.0029 - val_loss: 0.0029\n",
      "Epoch 25/50\n",
      "7960/7960 [==============================] - 2s - loss: 0.0029 - val_loss: 0.0029\n",
      "Epoch 26/50\n",
      "7960/7960 [==============================] - 2s - loss: 0.0029 - val_loss: 0.0029\n",
      "Epoch 27/50\n",
      "7960/7960 [==============================] - 2s - loss: 0.0029 - val_loss: 0.0028\n",
      "Epoch 28/50\n",
      "7960/7960 [==============================] - 2s - loss: 0.0028 - val_loss: 0.0028\n",
      "Epoch 29/50\n",
      "7960/7960 [==============================] - 2s - loss: 0.0028 - val_loss: 0.0028\n",
      "Epoch 30/50\n",
      "7960/7960 [==============================] - 2s - loss: 0.0028 - val_loss: 0.0028\n",
      "Epoch 31/50\n",
      "7960/7960 [==============================] - 2s - loss: 0.0028 - val_loss: 0.0027\n",
      "Epoch 32/50\n",
      "7960/7960 [==============================] - 2s - loss: 0.0027 - val_loss: 0.0027\n",
      "Epoch 33/50\n",
      "7960/7960 [==============================] - 3s - loss: 0.0027 - val_loss: 0.0027\n",
      "Epoch 34/50\n",
      "7960/7960 [==============================] - 3s - loss: 0.0027 - val_loss: 0.0027\n",
      "Epoch 35/50\n",
      "7960/7960 [==============================] - 3s - loss: 0.0027 - val_loss: 0.0026\n",
      "Epoch 36/50\n",
      "7960/7960 [==============================] - 2s - loss: 0.0026 - val_loss: 0.0026\n",
      "Epoch 37/50\n",
      "7960/7960 [==============================] - 2s - loss: 0.0026 - val_loss: 0.0026\n",
      "Epoch 38/50\n",
      "7960/7960 [==============================] - 2s - loss: 0.0026 - val_loss: 0.0026\n",
      "Epoch 39/50\n",
      "7960/7960 [==============================] - 2s - loss: 0.0026 - val_loss: 0.0026\n",
      "Epoch 40/50\n",
      "7960/7960 [==============================] - 2s - loss: 0.0026 - val_loss: 0.0026\n",
      "Epoch 41/50\n",
      "7960/7960 [==============================] - 2s - loss: 0.0026 - val_loss: 0.0025\n",
      "Epoch 42/50\n",
      "7960/7960 [==============================] - 3s - loss: 0.0026 - val_loss: 0.0025\n",
      "Epoch 43/50\n",
      "7960/7960 [==============================] - 3s - loss: 0.0025 - val_loss: 0.0025\n",
      "Epoch 44/50\n",
      "7960/7960 [==============================] - 2s - loss: 0.0025 - val_loss: 0.0025\n",
      "Epoch 45/50\n",
      "7960/7960 [==============================] - 2s - loss: 0.0025 - val_loss: 0.0025\n",
      "Epoch 46/50\n",
      "7960/7960 [==============================] - 1s - loss: 0.0025 - val_loss: 0.0025\n",
      "Epoch 47/50\n",
      "7960/7960 [==============================] - 2s - loss: 0.0025 - val_loss: 0.0025\n",
      "Epoch 48/50\n",
      "7960/7960 [==============================] - 3s - loss: 0.0025 - val_loss: 0.0025\n",
      "Epoch 49/50\n",
      "7960/7960 [==============================] - 2s - loss: 0.0025 - val_loss: 0.0025\n",
      "Epoch 50/50\n",
      "7960/7960 [==============================] - 3s - loss: 0.0025 - val_loss: 0.0025\n"
     ]
    },
    {
     "data": {
      "image/png": "[encoded data removed]",
      "text/plain": [
       "<matplotlib.figure.Figure at 0x7fa514511990>"
      ]
     },
     "metadata": {},
     "output_type": "display_data"
    },
    {
     "name": "stdout",
     "output_type": "stream",
     "text": [
      "Train on 7960 samples, validate on 7960 samples\n",
      "Epoch 1/50\n",
      "7960/7960 [==============================] - 2s - loss: 0.0312 - val_loss: 0.0058\n",
      "Epoch 2/50\n",
      "7960/7960 [==============================] - 2s - loss: 0.0052 - val_loss: 0.0048\n",
      "Epoch 3/50\n",
      "7960/7960 [==============================] - 2s - loss: 0.0046 - val_loss: 0.0044\n",
      "Epoch 4/50\n",
      "7960/7960 [==============================] - 2s - loss: 0.0042 - val_loss: 0.0040\n",
      "Epoch 5/50\n",
      "7960/7960 [==============================] - 3s - loss: 0.0039 - val_loss: 0.0038\n",
      "Epoch 6/50\n",
      "7960/7960 [==============================] - 2s - loss: 0.0037 - val_loss: 0.0036\n",
      "Epoch 7/50\n",
      "7960/7960 [==============================] - 2s - loss: 0.0036 - val_loss: 0.0035\n",
      "Epoch 8/50\n",
      "7960/7960 [==============================] - 2s - loss: 0.0035 - val_loss: 0.0034\n",
      "Epoch 9/50\n",
      "7960/7960 [==============================] - 2s - loss: 0.0033 - val_loss: 0.0033\n",
      "Epoch 10/50\n",
      "7960/7960 [==============================] - 2s - loss: 0.0033 - val_loss: 0.0032\n",
      "Epoch 11/50\n",
      "7960/7960 [==============================] - 2s - loss: 0.0032 - val_loss: 0.0031\n",
      "Epoch 12/50\n",
      "7960/7960 [==============================] - 2s - loss: 0.0031 - val_loss: 0.0031\n",
      "Epoch 13/50\n",
      "7960/7960 [==============================] - 3s - loss: 0.0031 - val_loss: 0.0030\n",
      "Epoch 14/50\n",
      "7960/7960 [==============================] - 2s - loss: 0.0030 - val_loss: 0.0030\n",
      "Epoch 15/50\n",
      "7960/7960 [==============================] - 2s - loss: 0.0030 - val_loss: 0.0029\n",
      "Epoch 16/50\n",
      "7960/7960 [==============================] - 2s - loss: 0.0029 - val_loss: 0.0029\n",
      "Epoch 17/50\n",
      "7960/7960 [==============================] - 2s - loss: 0.0029 - val_loss: 0.0028\n",
      "Epoch 18/50\n",
      "7960/7960 [==============================] - 2s - loss: 0.0028 - val_loss: 0.0028\n",
      "Epoch 19/50\n",
      "7960/7960 [==============================] - 2s - loss: 0.0027 - val_loss: 0.0027\n",
      "Epoch 20/50\n",
      "7960/7960 [==============================] - 2s - loss: 0.0027 - val_loss: 0.0027\n",
      "Epoch 21/50\n",
      "7960/7960 [==============================] - 2s - loss: 0.0027 - val_loss: 0.0026\n",
      "Epoch 22/50\n",
      "7960/7960 [==============================] - 2s - loss: 0.0026 - val_loss: 0.0026\n",
      "Epoch 23/50\n",
      "7960/7960 [==============================] - 3s - loss: 0.0026 - val_loss: 0.0026\n",
      "Epoch 24/50\n",
      "7960/7960 [==============================] - 2s - loss: 0.0026 - val_loss: 0.0026\n",
      "Epoch 25/50\n",
      "7960/7960 [==============================] - 2s - loss: 0.0025 - val_loss: 0.0026\n",
      "Epoch 26/50\n",
      "7960/7960 [==============================] - 2s - loss: 0.0025 - val_loss: 0.0025\n",
      "Epoch 27/50\n",
      "7960/7960 [==============================] - 2s - loss: 0.0025 - val_loss: 0.0025\n",
      "Epoch 28/50\n",
      "7960/7960 [==============================] - 2s - loss: 0.0025 - val_loss: 0.0024\n",
      "Epoch 29/50\n",
      "7960/7960 [==============================] - 2s - loss: 0.0024 - val_loss: 0.0024\n",
      "Epoch 30/50\n",
      "7960/7960 [==============================] - 2s - loss: 0.0024 - val_loss: 0.0024\n",
      "Epoch 31/50\n",
      "7960/7960 [==============================] - 2s - loss: 0.0024 - val_loss: 0.0024\n",
      "Epoch 32/50\n",
      "7960/7960 [==============================] - 2s - loss: 0.0024 - val_loss: 0.0024\n",
      "Epoch 33/50\n",
      "7960/7960 [==============================] - 2s - loss: 0.0024 - val_loss: 0.0024\n",
      "Epoch 34/50\n",
      "7960/7960 [==============================] - 3s - loss: 0.0024 - val_loss: 0.0023\n",
      "Epoch 35/50\n",
      "7960/7960 [==============================] - 3s - loss: 0.0023 - val_loss: 0.0023\n",
      "Epoch 36/50\n",
      "7960/7960 [==============================] - 2s - loss: 0.0023 - val_loss: 0.0023\n",
      "Epoch 37/50\n",
      "7960/7960 [==============================] - 2s - loss: 0.0023 - val_loss: 0.0024\n",
      "Epoch 38/50\n",
      "7960/7960 [==============================] - 2s - loss: 0.0023 - val_loss: 0.0023\n",
      "Epoch 39/50\n",
      "7960/7960 [==============================] - 2s - loss: 0.0023 - val_loss: 0.0023\n",
      "Epoch 40/50\n",
      "7960/7960 [==============================] - 2s - loss: 0.0023 - val_loss: 0.0023\n",
      "Epoch 41/50\n",
      "7960/7960 [==============================] - 2s - loss: 0.0023 - val_loss: 0.0022\n",
      "Epoch 42/50\n",
      "7960/7960 [==============================] - 2s - loss: 0.0023 - val_loss: 0.0022\n",
      "Epoch 43/50\n",
      "7960/7960 [==============================] - 2s - loss: 0.0022 - val_loss: 0.0022\n",
      "Epoch 44/50\n",
      "7960/7960 [==============================] - 2s - loss: 0.0022 - val_loss: 0.0022\n",
      "Epoch 45/50\n",
      "7960/7960 [==============================] - 2s - loss: 0.0022 - val_loss: 0.0022\n",
      "Epoch 46/50\n",
      "7960/7960 [==============================] - 2s - loss: 0.0022 - val_loss: 0.0022\n",
      "Epoch 47/50\n",
      "7960/7960 [==============================] - 2s - loss: 0.0022 - val_loss: 0.0027\n",
      "Epoch 48/50\n",
      "7960/7960 [==============================] - 2s - loss: 0.0022 - val_loss: 0.0022\n",
      "Epoch 49/50\n",
      "7960/7960 [==============================] - 2s - loss: 0.0022 - val_loss: 0.0023\n",
      "Epoch 50/50\n",
      "7960/7960 [==============================] - 2s - loss: 0.0022 - val_loss: 0.0022\n"
     ]
    },
    {
     "data": {
      "image/png": "[encoded data removed]",
      "text/plain": [
       "<matplotlib.figure.Figure at 0x7fa56ca15dd0>"
      ]
     },
     "metadata": {},
     "output_type": "display_data"
    },
    {
     "name": "stdout",
     "output_type": "stream",
     "text": [
      "Train on 7960 samples, validate on 7960 samples\n",
      "Epoch 1/50\n",
      "7960/7960 [==============================] - 2s - loss: 0.0218 - val_loss: 0.0049\n",
      "Epoch 2/50\n",
      "7960/7960 [==============================] - 2s - loss: 0.0045 - val_loss: 0.0041\n",
      "Epoch 3/50\n",
      "7960/7960 [==============================] - 2s - loss: 0.0039 - val_loss: 0.0037\n",
      "Epoch 4/50\n",
      "7960/7960 [==============================] - 2s - loss: 0.0036 - val_loss: 0.0034\n",
      "Epoch 5/50\n",
      "7960/7960 [==============================] - 2s - loss: 0.0033 - val_loss: 0.0032\n",
      "Epoch 6/50\n",
      "7960/7960 [==============================] - 3s - loss: 0.0031 - val_loss: 0.0030\n",
      "Epoch 7/50\n",
      "7960/7960 [==============================] - 2s - loss: 0.0030 - val_loss: 0.0029\n",
      "Epoch 8/50\n",
      "7960/7960 [==============================] - 2s - loss: 0.0029 - val_loss: 0.0028\n",
      "Epoch 9/50\n",
      "7960/7960 [==============================] - 2s - loss: 0.0028 - val_loss: 0.0027\n",
      "Epoch 10/50\n",
      "7960/7960 [==============================] - 2s - loss: 0.0027 - val_loss: 0.0027\n",
      "Epoch 11/50\n",
      "7960/7960 [==============================] - 2s - loss: 0.0027 - val_loss: 0.0026\n",
      "Epoch 12/50\n",
      "7960/7960 [==============================] - 2s - loss: 0.0026 - val_loss: 0.0025\n",
      "Epoch 13/50\n",
      "7960/7960 [==============================] - 2s - loss: 0.0025 - val_loss: 0.0025\n",
      "Epoch 14/50\n",
      "7960/7960 [==============================] - 2s - loss: 0.0025 - val_loss: 0.0024\n",
      "Epoch 15/50\n",
      "7960/7960 [==============================] - 2s - loss: 0.0024 - val_loss: 0.0024\n",
      "Epoch 16/50\n",
      "7960/7960 [==============================] - 2s - loss: 0.0024 - val_loss: 0.0023\n",
      "Epoch 17/50\n",
      "7960/7960 [==============================] - 2s - loss: 0.0023 - val_loss: 0.0023\n",
      "Epoch 18/50\n",
      "7960/7960 [==============================] - 2s - loss: 0.0023 - val_loss: 0.0022\n",
      "Epoch 19/50\n",
      "7960/7960 [==============================] - 2s - loss: 0.0022 - val_loss: 0.0022\n",
      "Epoch 20/50\n",
      "7960/7960 [==============================] - 2s - loss: 0.0022 - val_loss: 0.0022\n",
      "Epoch 21/50\n",
      "7960/7960 [==============================] - 2s - loss: 0.0022 - val_loss: 0.0021\n",
      "Epoch 22/50\n",
      "7960/7960 [==============================] - 2s - loss: 0.0021 - val_loss: 0.0021\n",
      "Epoch 23/50\n",
      "7960/7960 [==============================] - 3s - loss: 0.0021 - val_loss: 0.0021\n",
      "Epoch 24/50\n",
      "7960/7960 [==============================] - 3s - loss: 0.0021 - val_loss: 0.0021\n",
      "Epoch 25/50\n",
      "7960/7960 [==============================] - 2s - loss: 0.0021 - val_loss: 0.0020\n",
      "Epoch 26/50\n",
      "7960/7960 [==============================] - 3s - loss: 0.0020 - val_loss: 0.0020\n",
      "Epoch 27/50\n",
      "7960/7960 [==============================] - 3s - loss: 0.0020 - val_loss: 0.0020\n",
      "Epoch 28/50\n",
      "7960/7960 [==============================] - 3s - loss: 0.0020 - val_loss: 0.0020\n",
      "Epoch 29/50\n",
      "7960/7960 [==============================] - 2s - loss: 0.0020 - val_loss: 0.0020\n",
      "Epoch 30/50\n",
      "7960/7960 [==============================] - 2s - loss: 0.0020 - val_loss: 0.0019\n",
      "Epoch 31/50\n",
      "7960/7960 [==============================] - 2s - loss: 0.0020 - val_loss: 0.0019\n",
      "Epoch 32/50\n",
      "7960/7960 [==============================] - 2s - loss: 0.0019 - val_loss: 0.0019\n",
      "Epoch 33/50\n",
      "7960/7960 [==============================] - 2s - loss: 0.0019 - val_loss: 0.0019\n",
      "Epoch 34/50\n",
      "7960/7960 [==============================] - 3s - loss: 0.0019 - val_loss: 0.0019\n",
      "Epoch 35/50\n",
      "7960/7960 [==============================] - 2s - loss: 0.0019 - val_loss: 0.0019\n",
      "Epoch 36/50\n",
      "7960/7960 [==============================] - 2s - loss: 0.0019 - val_loss: 0.0019\n",
      "Epoch 37/50\n",
      "7960/7960 [==============================] - 2s - loss: 0.0019 - val_loss: 0.0019\n",
      "Epoch 38/50\n",
      "7960/7960 [==============================] - 2s - loss: 0.0019 - val_loss: 0.0018\n",
      "Epoch 39/50\n",
      "7960/7960 [==============================] - 2s - loss: 0.0019 - val_loss: 0.0019\n",
      "Epoch 40/50\n",
      "7960/7960 [==============================] - 2s - loss: 0.0018 - val_loss: 0.0018\n",
      "Epoch 41/50\n",
      "7960/7960 [==============================] - 2s - loss: 0.0018 - val_loss: 0.0018\n",
      "Epoch 42/50\n",
      "7960/7960 [==============================] - 2s - loss: 0.0018 - val_loss: 0.0018\n",
      "Epoch 43/50\n",
      "7960/7960 [==============================] - 2s - loss: 0.0018 - val_loss: 0.0018\n",
      "Epoch 44/50\n",
      "7960/7960 [==============================] - 2s - loss: 0.0018 - val_loss: 0.0018\n",
      "Epoch 45/50\n",
      "7960/7960 [==============================] - 2s - loss: 0.0018 - val_loss: 0.0018\n",
      "Epoch 46/50\n",
      "7960/7960 [==============================] - 2s - loss: 0.0018 - val_loss: 0.0018\n",
      "Epoch 47/50\n",
      "7960/7960 [==============================] - 2s - loss: 0.0018 - val_loss: 0.0018\n",
      "Epoch 48/50\n",
      "7960/7960 [==============================] - 2s - loss: 0.0018 - val_loss: 0.0017\n",
      "Epoch 49/50\n",
      "7960/7960 [==============================] - 2s - loss: 0.0018 - val_loss: 0.0017\n",
      "Epoch 50/50\n",
      "7960/7960 [==============================] - 3s - loss: 0.0017 - val_loss: 0.0017\n"
     ]
    },
    {
     "data": {
      "image/png": "[encoded data removed]",
      "text/plain": [
       "<matplotlib.figure.Figure at 0x7fa520095810>"
      ]
     },
     "metadata": {},
     "output_type": "display_data"
    },
    {
     "name": "stdout",
     "output_type": "stream",
     "text": [
      "Train on 7960 samples, validate on 7960 samples\n",
      "Epoch 1/50\n",
      "7960/7960 [==============================] - 3s - loss: 0.0203 - val_loss: 0.0052\n",
      "Epoch 2/50\n",
      "7960/7960 [==============================] - 2s - loss: 0.0048 - val_loss: 0.0044\n",
      "Epoch 3/50\n",
      "7960/7960 [==============================] - 2s - loss: 0.0041 - val_loss: 0.0038\n",
      "Epoch 4/50\n",
      "4488/7960 [===============>..............] - ETA: 0s - loss: 0.0054"
     ]
    },
    {
     "ename": "ValueError",
     "evalue": "I/O operation on closed file",
     "output_type": "error",
     "traceback": [
      "\u001b[1;31m---------------------------------------------------------------------------\u001b[0m",
      "\u001b[1;31mValueError\u001b[0m                                Traceback (most recent call last)",
      "\u001b[1;32m<ipython-input-9-13941c7bcd32>\u001b[0m in \u001b[0;36m<module>\u001b[1;34m()\u001b[0m\n\u001b[0;32m     43\u001b[0m                     \u001b[0mshuffle\u001b[0m\u001b[1;33m=\u001b[0m\u001b[0mTrue\u001b[0m\u001b[1;33m,\u001b[0m\u001b[1;33m\u001b[0m\u001b[0m\n\u001b[0;32m     44\u001b[0m                     \u001b[0mvalidation_data\u001b[0m\u001b[1;33m=\u001b[0m\u001b[1;33m(\u001b[0m\u001b[0mwindow_test\u001b[0m\u001b[1;33m,\u001b[0m \u001b[0mwindow_test\u001b[0m\u001b[1;33m)\u001b[0m\u001b[1;33m,\u001b[0m\u001b[1;33m\u001b[0m\u001b[0m\n\u001b[1;32m---> 45\u001b[1;33m                     callbacks=[early_stopping])\n\u001b[0m\u001b[0;32m     46\u001b[0m \u001b[1;33m\u001b[0m\u001b[0m\n\u001b[0;32m     47\u001b[0m     \u001b[0mencoded_imgs\u001b[0m \u001b[1;33m=\u001b[0m \u001b[0mencoder\u001b[0m\u001b[1;33m.\u001b[0m\u001b[0mpredict\u001b[0m\u001b[1;33m(\u001b[0m\u001b[0mwindow_test\u001b[0m\u001b[1;33m)\u001b[0m\u001b[1;33m\u001b[0m\u001b[0m\n",
      "\u001b[1;32m/home/takeyama/.pyenv/versions/takeyama/lib/python2.7/site-packages/keras/engine/training.pyc\u001b[0m in \u001b[0;36mfit\u001b[1;34m(self, x, y, batch_size, nb_epoch, verbose, callbacks, validation_split, validation_data, shuffle, class_weight, sample_weight)\u001b[0m\n\u001b[0;32m   1051\u001b[0m                               \u001b[0mverbose\u001b[0m\u001b[1;33m=\u001b[0m\u001b[0mverbose\u001b[0m\u001b[1;33m,\u001b[0m \u001b[0mcallbacks\u001b[0m\u001b[1;33m=\u001b[0m\u001b[0mcallbacks\u001b[0m\u001b[1;33m,\u001b[0m\u001b[1;33m\u001b[0m\u001b[0m\n\u001b[0;32m   1052\u001b[0m                               \u001b[0mval_f\u001b[0m\u001b[1;33m=\u001b[0m\u001b[0mval_f\u001b[0m\u001b[1;33m,\u001b[0m \u001b[0mval_ins\u001b[0m\u001b[1;33m=\u001b[0m\u001b[0mval_ins\u001b[0m\u001b[1;33m,\u001b[0m \u001b[0mshuffle\u001b[0m\u001b[1;33m=\u001b[0m\u001b[0mshuffle\u001b[0m\u001b[1;33m,\u001b[0m\u001b[1;33m\u001b[0m\u001b[0m\n\u001b[1;32m-> 1053\u001b[1;33m                               callback_metrics=callback_metrics)\n\u001b[0m\u001b[0;32m   1054\u001b[0m \u001b[1;33m\u001b[0m\u001b[0m\n\u001b[0;32m   1055\u001b[0m     \u001b[1;32mdef\u001b[0m \u001b[0mevaluate\u001b[0m\u001b[1;33m(\u001b[0m\u001b[0mself\u001b[0m\u001b[1;33m,\u001b[0m \u001b[0mx\u001b[0m\u001b[1;33m,\u001b[0m \u001b[0my\u001b[0m\u001b[1;33m,\u001b[0m \u001b[0mbatch_size\u001b[0m\u001b[1;33m=\u001b[0m\u001b[1;36m32\u001b[0m\u001b[1;33m,\u001b[0m \u001b[0mverbose\u001b[0m\u001b[1;33m=\u001b[0m\u001b[1;36m1\u001b[0m\u001b[1;33m,\u001b[0m \u001b[0msample_weight\u001b[0m\u001b[1;33m=\u001b[0m\u001b[0mNone\u001b[0m\u001b[1;33m)\u001b[0m\u001b[1;33m:\u001b[0m\u001b[1;33m\u001b[0m\u001b[0m\n",
      "\u001b[1;32m/home/takeyama/.pyenv/versions/takeyama/lib/python2.7/site-packages/keras/engine/training.pyc\u001b[0m in \u001b[0;36m_fit_loop\u001b[1;34m(self, f, ins, out_labels, batch_size, nb_epoch, verbose, callbacks, val_f, val_ins, shuffle, callback_metrics)\u001b[0m\n\u001b[0;32m    795\u001b[0m                     \u001b[0mbatch_logs\u001b[0m\u001b[1;33m[\u001b[0m\u001b[0ml\u001b[0m\u001b[1;33m]\u001b[0m \u001b[1;33m=\u001b[0m \u001b[0mo\u001b[0m\u001b[1;33m\u001b[0m\u001b[0m\n\u001b[0;32m    796\u001b[0m \u001b[1;33m\u001b[0m\u001b[0m\n\u001b[1;32m--> 797\u001b[1;33m                 \u001b[0mcallbacks\u001b[0m\u001b[1;33m.\u001b[0m\u001b[0mon_batch_end\u001b[0m\u001b[1;33m(\u001b[0m\u001b[0mbatch_index\u001b[0m\u001b[1;33m,\u001b[0m \u001b[0mbatch_logs\u001b[0m\u001b[1;33m)\u001b[0m\u001b[1;33m\u001b[0m\u001b[0m\n\u001b[0m\u001b[0;32m    798\u001b[0m \u001b[1;33m\u001b[0m\u001b[0m\n\u001b[0;32m    799\u001b[0m                 \u001b[0mepoch_logs\u001b[0m \u001b[1;33m=\u001b[0m \u001b[1;33m{\u001b[0m\u001b[1;33m}\u001b[0m\u001b[1;33m\u001b[0m\u001b[0m\n",
      "\u001b[1;32m/home/takeyama/.pyenv/versions/takeyama/lib/python2.7/site-packages/keras/callbacks.pyc\u001b[0m in \u001b[0;36mon_batch_end\u001b[1;34m(self, batch, logs)\u001b[0m\n\u001b[0;32m     58\u001b[0m         \u001b[0mt_before_callbacks\u001b[0m \u001b[1;33m=\u001b[0m \u001b[0mtime\u001b[0m\u001b[1;33m.\u001b[0m\u001b[0mtime\u001b[0m\u001b[1;33m(\u001b[0m\u001b[1;33m)\u001b[0m\u001b[1;33m\u001b[0m\u001b[0m\n\u001b[0;32m     59\u001b[0m         \u001b[1;32mfor\u001b[0m \u001b[0mcallback\u001b[0m \u001b[1;32min\u001b[0m \u001b[0mself\u001b[0m\u001b[1;33m.\u001b[0m\u001b[0mcallbacks\u001b[0m\u001b[1;33m:\u001b[0m\u001b[1;33m\u001b[0m\u001b[0m\n\u001b[1;32m---> 60\u001b[1;33m             \u001b[0mcallback\u001b[0m\u001b[1;33m.\u001b[0m\u001b[0mon_batch_end\u001b[0m\u001b[1;33m(\u001b[0m\u001b[0mbatch\u001b[0m\u001b[1;33m,\u001b[0m \u001b[0mlogs\u001b[0m\u001b[1;33m)\u001b[0m\u001b[1;33m\u001b[0m\u001b[0m\n\u001b[0m\u001b[0;32m     61\u001b[0m         \u001b[0mself\u001b[0m\u001b[1;33m.\u001b[0m\u001b[0m_delta_ts_batch_end\u001b[0m\u001b[1;33m.\u001b[0m\u001b[0mappend\u001b[0m\u001b[1;33m(\u001b[0m\u001b[0mtime\u001b[0m\u001b[1;33m.\u001b[0m\u001b[0mtime\u001b[0m\u001b[1;33m(\u001b[0m\u001b[1;33m)\u001b[0m \u001b[1;33m-\u001b[0m \u001b[0mt_before_callbacks\u001b[0m\u001b[1;33m)\u001b[0m\u001b[1;33m\u001b[0m\u001b[0m\n\u001b[0;32m     62\u001b[0m         \u001b[0mdelta_t_median\u001b[0m \u001b[1;33m=\u001b[0m \u001b[0mnp\u001b[0m\u001b[1;33m.\u001b[0m\u001b[0mmedian\u001b[0m\u001b[1;33m(\u001b[0m\u001b[0mself\u001b[0m\u001b[1;33m.\u001b[0m\u001b[0m_delta_ts_batch_end\u001b[0m\u001b[1;33m)\u001b[0m\u001b[1;33m\u001b[0m\u001b[0m\n",
      "\u001b[1;32m/home/takeyama/.pyenv/versions/takeyama/lib/python2.7/site-packages/keras/callbacks.pyc\u001b[0m in \u001b[0;36mon_batch_end\u001b[1;34m(self, batch, logs)\u001b[0m\n\u001b[0;32m    186\u001b[0m         \u001b[1;31m# will be handled by on_epoch_end\u001b[0m\u001b[1;33m\u001b[0m\u001b[1;33m\u001b[0m\u001b[0m\n\u001b[0;32m    187\u001b[0m         \u001b[1;32mif\u001b[0m \u001b[0mself\u001b[0m\u001b[1;33m.\u001b[0m\u001b[0mverbose\u001b[0m \u001b[1;32mand\u001b[0m \u001b[0mself\u001b[0m\u001b[1;33m.\u001b[0m\u001b[0mseen\u001b[0m \u001b[1;33m<\u001b[0m \u001b[0mself\u001b[0m\u001b[1;33m.\u001b[0m\u001b[0mparams\u001b[0m\u001b[1;33m[\u001b[0m\u001b[1;34m'nb_sample'\u001b[0m\u001b[1;33m]\u001b[0m\u001b[1;33m:\u001b[0m\u001b[1;33m\u001b[0m\u001b[0m\n\u001b[1;32m--> 188\u001b[1;33m             \u001b[0mself\u001b[0m\u001b[1;33m.\u001b[0m\u001b[0mprogbar\u001b[0m\u001b[1;33m.\u001b[0m\u001b[0mupdate\u001b[0m\u001b[1;33m(\u001b[0m\u001b[0mself\u001b[0m\u001b[1;33m.\u001b[0m\u001b[0mseen\u001b[0m\u001b[1;33m,\u001b[0m \u001b[0mself\u001b[0m\u001b[1;33m.\u001b[0m\u001b[0mlog_values\u001b[0m\u001b[1;33m)\u001b[0m\u001b[1;33m\u001b[0m\u001b[0m\n\u001b[0m\u001b[0;32m    189\u001b[0m \u001b[1;33m\u001b[0m\u001b[0m\n\u001b[0;32m    190\u001b[0m     \u001b[1;32mdef\u001b[0m \u001b[0mon_epoch_end\u001b[0m\u001b[1;33m(\u001b[0m\u001b[0mself\u001b[0m\u001b[1;33m,\u001b[0m \u001b[0mepoch\u001b[0m\u001b[1;33m,\u001b[0m \u001b[0mlogs\u001b[0m\u001b[1;33m=\u001b[0m\u001b[1;33m{\u001b[0m\u001b[1;33m}\u001b[0m\u001b[1;33m)\u001b[0m\u001b[1;33m:\u001b[0m\u001b[1;33m\u001b[0m\u001b[0m\n",
      "\u001b[1;32m/home/takeyama/.pyenv/versions/takeyama/lib/python2.7/site-packages/keras/utils/generic_utils.pyc\u001b[0m in \u001b[0;36mupdate\u001b[1;34m(self, current, values, force)\u001b[0m\n\u001b[0;32m     73\u001b[0m \u001b[1;33m\u001b[0m\u001b[0m\n\u001b[0;32m     74\u001b[0m             \u001b[0mprev_total_width\u001b[0m \u001b[1;33m=\u001b[0m \u001b[0mself\u001b[0m\u001b[1;33m.\u001b[0m\u001b[0mtotal_width\u001b[0m\u001b[1;33m\u001b[0m\u001b[0m\n\u001b[1;32m---> 75\u001b[1;33m             \u001b[0msys\u001b[0m\u001b[1;33m.\u001b[0m\u001b[0mstdout\u001b[0m\u001b[1;33m.\u001b[0m\u001b[0mwrite\u001b[0m\u001b[1;33m(\u001b[0m\u001b[1;34m\"\\b\"\u001b[0m \u001b[1;33m*\u001b[0m \u001b[0mprev_total_width\u001b[0m\u001b[1;33m)\u001b[0m\u001b[1;33m\u001b[0m\u001b[0m\n\u001b[0m\u001b[0;32m     76\u001b[0m             \u001b[0msys\u001b[0m\u001b[1;33m.\u001b[0m\u001b[0mstdout\u001b[0m\u001b[1;33m.\u001b[0m\u001b[0mwrite\u001b[0m\u001b[1;33m(\u001b[0m\u001b[1;34m\"\\r\"\u001b[0m\u001b[1;33m)\u001b[0m\u001b[1;33m\u001b[0m\u001b[0m\n\u001b[0;32m     77\u001b[0m \u001b[1;33m\u001b[0m\u001b[0m\n",
      "\u001b[1;32m/home/takeyama/.pyenv/versions/takeyama/lib/python2.7/site-packages/ipykernel/iostream.pyc\u001b[0m in \u001b[0;36mwrite\u001b[1;34m(self, string)\u001b[0m\n\u001b[0;32m    315\u001b[0m \u001b[1;33m\u001b[0m\u001b[0m\n\u001b[0;32m    316\u001b[0m             \u001b[0mis_child\u001b[0m \u001b[1;33m=\u001b[0m \u001b[1;33m(\u001b[0m\u001b[1;32mnot\u001b[0m \u001b[0mself\u001b[0m\u001b[1;33m.\u001b[0m\u001b[0m_is_master_process\u001b[0m\u001b[1;33m(\u001b[0m\u001b[1;33m)\u001b[0m\u001b[1;33m)\u001b[0m\u001b[1;33m\u001b[0m\u001b[0m\n\u001b[1;32m--> 317\u001b[1;33m             \u001b[0mself\u001b[0m\u001b[1;33m.\u001b[0m\u001b[0m_buffer\u001b[0m\u001b[1;33m.\u001b[0m\u001b[0mwrite\u001b[0m\u001b[1;33m(\u001b[0m\u001b[0mstring\u001b[0m\u001b[1;33m)\u001b[0m\u001b[1;33m\u001b[0m\u001b[0m\n\u001b[0m\u001b[0;32m    318\u001b[0m             \u001b[1;32mif\u001b[0m \u001b[0mis_child\u001b[0m\u001b[1;33m:\u001b[0m\u001b[1;33m\u001b[0m\u001b[0m\n\u001b[0;32m    319\u001b[0m                 \u001b[1;31m# newlines imply flush in subprocesses\u001b[0m\u001b[1;33m\u001b[0m\u001b[1;33m\u001b[0m\u001b[0m\n",
      "\u001b[1;31mValueError\u001b[0m: I/O operation on closed file"
     ]
    }
   ],
   "source": [
    "# define SaveFileName\n",
    "for encoding_dim in EncodingDim:\n",
    "    SaveFileNameEncord=DataName+'_encoded'+'_edim='+str(encoding_dim)+'-Window='+str(SampleNum)+'-Overlap='+str(Overlap*100)\n",
    "    SaveFileNameDecord=DataName+'_decoded'+'_edim='+str(encoding_dim)+'-Window='+str(SampleNum)+'-Overlap='+str(Overlap*100)\n",
    "    SaveFileNameNet=DataName+'_net'+'_edim='+str(encoding_dim)+'-Window='+str(SampleNum)+'-Overlap='+str(Overlap*100)\n",
    "    SaveFileNameTrain=DataName+'_train'+'_edim='+str(encoding_dim)+'-Window='+str(SampleNum)+'-Overlap='+str(Overlap*100)\n",
    "    SaveFileNameTest=DataName+'_test'+'_edim='+str(encoding_dim)+'-Window='+str(SampleNum)+'-Overlap='+str(Overlap*100)\n",
    "    SaveFileNameGlaph=GlaphDataPath+DataName+'_edim='+str(encoding_dim)+'-Window='+str(SampleNum)+'-Overlap='+str(Overlap*100)+'_loss_val_loss.png'\n",
    "\n",
    "    window_test=windoW\n",
    "    window_train=windoW\n",
    "    processing.SaveDicDataFromFileNPZ(WindowDataPath,SaveFileNameTrain,window_test)\n",
    "    processing.SaveDicDataFromFileNPZ(WindowDataPath,SaveFileNameTest,window_test)\n",
    "    shapeNum=windoW.shape[1]\n",
    "\n",
    "    # this is our input placeholder\n",
    "    input_img = Input(shape=(shapeNum,))\n",
    "    # \"encoded\" is the encoded representation of the input\n",
    "    encoded = Dense(encoding_dim, activation='tanh')(input_img)\n",
    "    # \"decoded\" is the lossy reconstruction of the input\n",
    "    decoded = Dense(shapeNum, activation='linear')(encoded)\n",
    "\n",
    "    # this model maps an input to its reconstruction\n",
    "    autoencoder = Model(input=input_img, output=decoded)\n",
    "\n",
    "    # this model maps an input to its encoded representation\n",
    "    encoder = Model(input=input_img, output=encoded)\n",
    "\n",
    "    # create a placeholder for an encoded (32-dimensional) input\n",
    "    encoded_input = Input(shape=(encoding_dim,))\n",
    "    # retrieve the last layer of the autoencoder model\n",
    "    decoder_layer = autoencoder.layers[-1]\n",
    "    # create the decoder model\n",
    "    decoder = Model(input=encoded_input, output=decoder_layer(encoded_input))\n",
    "\n",
    "    autoencoder.compile(optimizer='adadelta', loss='mse')\n",
    "    plot(autoencoder,  to_file=StudyDataModelPicPath+SaveFileNameNet+'.png')\n",
    "\n",
    "    early_stopping = EarlyStopping(monitor='val_loss', patience=2)\n",
    "    hist = autoencoder.fit(window_train, window_train,\n",
    "                    nb_epoch=50,\n",
    "                    batch_size=shapeNum/4,\n",
    "                    shuffle=True,\n",
    "                    validation_data=(window_test, window_test),\n",
    "                    callbacks=[early_stopping])\n",
    "\n",
    "    encoded_imgs = encoder.predict(window_test)\n",
    "    decoded_imgs = decoder.predict(encoded_imgs)\n",
    "\n",
    "    processing.SaveDicDataFromFileNPZ(StudyDataPath,SaveFileNameEncord,encoded_imgs)\n",
    "    processing.SaveDicDataFromFileNPZ(StudyDataPath,SaveFileNameDecord,decoded_imgs)\n",
    "\n",
    "    # save model and wights\n",
    "    json_string = encoder.to_json()\n",
    "    open(StudyDataPath+SaveFileNameEncord+'.json', 'w').write(json_string)\n",
    "    encoder.save_weights(StudyDataPath+SaveFileNameEncord+'_weights.h5')\n",
    "\n",
    "    json_string = decoder.to_json()\n",
    "    open(StudyDataPath+SaveFileNameDecord+'.json', 'w').write(json_string)\n",
    "    decoder.save_weights(StudyDataPath+SaveFileNameDecord+'_weights.h5')\n",
    "\n",
    "    json_string = autoencoder.to_json()\n",
    "    open(StudyDataPath+SaveFileNameNet+'.json', 'w').write(json_string)\n",
    "    autoencoder.save_weights(StudyDataPath+SaveFileNameNet+'_weights.h5')\n",
    "\n",
    "    # plot loss\n",
    "    loss = hist.history['loss']\n",
    "    val_loss = hist.history['val_loss']\n",
    "\n",
    "    nb_epoch = len(loss)\n",
    "    plt.plot(range(nb_epoch), loss, marker='.', label='loss')\n",
    "    plt.plot(range(nb_epoch), val_loss, marker='.', label='val_loss')\n",
    "    plt.legend(loc='best', fontsize=10)\n",
    "    plt.grid()\n",
    "    plt.xlabel('epoch')\n",
    "    plt.ylabel('loss')\n",
    "    plt.savefig(SaveFileNameGlaph)\n",
    "    plt.show()"
   ]
  },
  {
   "cell_type": "code",
   "execution_count": null,
   "metadata": {
    "collapsed": true
   },
   "outputs": [],
   "source": []
  }
 ],
 "metadata": {
  "kernelspec": {
   "display_name": "Python 2",
   "language": "python",
   "name": "python2"
  },
  "language_info": {
   "codemirror_mode": {
    "name": "ipython",
    "version": 2
   },
   "file_extension": ".py",
   "mimetype": "text/x-python",
   "name": "python",
   "nbconvert_exporter": "python",
   "pygments_lexer": "ipython2",
   "version": "2.7.11"
  }
 },
 "nbformat": 4,
 "nbformat_minor": 0
}
