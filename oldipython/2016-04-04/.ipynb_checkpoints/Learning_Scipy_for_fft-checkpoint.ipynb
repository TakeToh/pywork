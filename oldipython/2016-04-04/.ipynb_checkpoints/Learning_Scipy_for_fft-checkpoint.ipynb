{
 "cells": [
  {
   "cell_type": "code",
   "execution_count": 104,
   "metadata": {
    "collapsed": false
   },
   "outputs": [],
   "source": [
    "import numpy as np\n",
    "import matplotlib.pyplot as plt\n",
    "from scipy import fftpack\n",
    "from scipy import signal\n",
    "import pandas as pd\n",
    "%matplotlib inline"
   ]
  },
  {
   "cell_type": "code",
   "execution_count": 105,
   "metadata": {
    "collapsed": true
   },
   "outputs": [],
   "source": [
    "plt.close('all')"
   ]
  },
  {
   "cell_type": "code",
   "execution_count": 106,
   "metadata": {
    "collapsed": false
   },
   "outputs": [
    {
     "name": "stdout",
     "output_type": "stream",
     "text": [
      "20160331_180615.srt         SP-right-hand-acc.dat.cache\r\n",
      "Cleaning_left_hand_ags.csv  SP-right-hand-batt.dat\r\n",
      "Conv-left-hand-ags.csv      SP-right-hand-gyr.dat\r\n",
      "Conv-left-hand-batt.csv     SP-right-hand-gyr.dat.cache\r\n",
      "Conv-left-leg-ags.csv       SP-right-leg-acc.dat\r\n",
      "Conv-left-leg-batt.csv      SP-right-leg-acc.dat.cache\r\n",
      "Conv-right-hand-ags.csv     SP-right-leg-batt.dat\r\n",
      "Conv-right-hand-batt.csv    SP-right-leg-gyr.dat\r\n",
      "Conv-right-leg-ags.csv      SP-right-leg-gyr.dat.cache\r\n",
      "Conv-right-leg-batt.csv     SP-west-acc.dat\r\n",
      "Conv-west-ags.csv           SP-west-acc.dat.cache\r\n",
      "Conv-west-batt.csv          SP-west-batt.dat\r\n",
      "\u001b[0m\u001b[01;35mDeviceSet1.avi\u001b[0m              SP-west-gyr.dat\r\n",
      "SP-left-hand-acc.dat        SP-west-gyr.dat.cache\r\n",
      "SP-left-hand-acc.dat.cache  cleaning.spe\r\n",
      "SP-left-hand-batt.dat       cleaning_20160331.csv\r\n",
      "SP-left-hand-gyr.dat        cleaning_20160331.spa\r\n",
      "SP-left-hand-gyr.dat.cache  cleaning_20160331.spa.old\r\n",
      "SP-left-leg-acc.dat         left-hand.csv\r\n",
      "SP-left-leg-acc.dat.cache   left-leg.csv\r\n",
      "SP-left-leg-batt.dat        right-hand.csv\r\n",
      "SP-left-leg-gyr.dat         right-leg.csv\r\n",
      "SP-left-leg-gyr.dat.cache   west.csv\r\n",
      "SP-right-hand-acc.dat\r\n"
     ]
    }
   ],
   "source": [
    "ls"
   ]
  },
  {
   "cell_type": "code",
   "execution_count": 107,
   "metadata": {
    "collapsed": false
   },
   "outputs": [
    {
     "name": "stdout",
     "output_type": "stream",
     "text": [
      "/home/takeyama\n"
     ]
    }
   ],
   "source": [
    "cd"
   ]
  },
  {
   "cell_type": "code",
   "execution_count": 108,
   "metadata": {
    "collapsed": false
   },
   "outputs": [
    {
     "name": "stdout",
     "output_type": "stream",
     "text": [
      "/home/takeyama/Documents\n"
     ]
    }
   ],
   "source": [
    "cd Documents/"
   ]
  },
  {
   "cell_type": "code",
   "execution_count": 109,
   "metadata": {
    "collapsed": false
   },
   "outputs": [
    {
     "name": "stdout",
     "output_type": "stream",
     "text": [
      "\u001b[0m\u001b[01;34m01_SensorData\u001b[0m/\r\n"
     ]
    }
   ],
   "source": [
    "ls"
   ]
  },
  {
   "cell_type": "code",
   "execution_count": 110,
   "metadata": {
    "collapsed": false
   },
   "outputs": [
    {
     "name": "stdout",
     "output_type": "stream",
     "text": [
      "/home/takeyama/Documents/01_SensorData/2016_04_04/cleaning-addingLABEL\n"
     ]
    }
   ],
   "source": [
    "cd 01_SensorData/2016_04_04/cleaning-addingLABEL/"
   ]
  },
  {
   "cell_type": "code",
   "execution_count": 111,
   "metadata": {
    "collapsed": false
   },
   "outputs": [
    {
     "name": "stdout",
     "output_type": "stream",
     "text": [
      "20160331_180615.srt         SP-right-hand-acc.dat.cache\r\n",
      "Cleaning_left_hand_ags.csv  SP-right-hand-batt.dat\r\n",
      "Conv-left-hand-ags.csv      SP-right-hand-gyr.dat\r\n",
      "Conv-left-hand-batt.csv     SP-right-hand-gyr.dat.cache\r\n",
      "Conv-left-leg-ags.csv       SP-right-leg-acc.dat\r\n",
      "Conv-left-leg-batt.csv      SP-right-leg-acc.dat.cache\r\n",
      "Conv-right-hand-ags.csv     SP-right-leg-batt.dat\r\n",
      "Conv-right-hand-batt.csv    SP-right-leg-gyr.dat\r\n",
      "Conv-right-leg-ags.csv      SP-right-leg-gyr.dat.cache\r\n",
      "Conv-right-leg-batt.csv     SP-west-acc.dat\r\n",
      "Conv-west-ags.csv           SP-west-acc.dat.cache\r\n",
      "Conv-west-batt.csv          SP-west-batt.dat\r\n",
      "\u001b[0m\u001b[01;35mDeviceSet1.avi\u001b[0m              SP-west-gyr.dat\r\n",
      "SP-left-hand-acc.dat        SP-west-gyr.dat.cache\r\n",
      "SP-left-hand-acc.dat.cache  cleaning.spe\r\n",
      "SP-left-hand-batt.dat       cleaning_20160331.csv\r\n",
      "SP-left-hand-gyr.dat        cleaning_20160331.spa\r\n",
      "SP-left-hand-gyr.dat.cache  cleaning_20160331.spa.old\r\n",
      "SP-left-leg-acc.dat         left-hand.csv\r\n",
      "SP-left-leg-acc.dat.cache   left-leg.csv\r\n",
      "SP-left-leg-batt.dat        right-hand.csv\r\n",
      "SP-left-leg-gyr.dat         right-leg.csv\r\n",
      "SP-left-leg-gyr.dat.cache   west.csv\r\n",
      "SP-right-hand-acc.dat\r\n"
     ]
    }
   ],
   "source": [
    "ls"
   ]
  },
  {
   "cell_type": "code",
   "execution_count": 112,
   "metadata": {
    "collapsed": false
   },
   "outputs": [],
   "source": [
    "left_hand_ags=pd.read_csv(\"Cleaning_left_hand_ags.csv\",encoding=\"SHIFT-JIS\")"
   ]
  },
  {
   "cell_type": "code",
   "execution_count": 113,
   "metadata": {
    "collapsed": false
   },
   "outputs": [],
   "source": [
    "Sxx=signal.spectrogram(left_hand_ags[u'AccX'],1/0.01,nperseg=512)"
   ]
  },
  {
   "cell_type": "code",
   "execution_count": 114,
   "metadata": {
    "collapsed": false
   },
   "outputs": [],
   "source": [
    "f,t,Sxx = signal.spectrogram(left_hand_ags[u'AccX'],1/0.01,nperseg=512)"
   ]
  },
  {
   "cell_type": "code",
   "execution_count": 115,
   "metadata": {
    "collapsed": false
   },
   "outputs": [],
   "source": [
    "plt.close('all')"
   ]
  },
  {
   "cell_type": "code",
   "execution_count": 116,
   "metadata": {
    "collapsed": true
   },
   "outputs": [],
   "source": [
    "f,t,Sxx = signal.spectrogram(left_hand_ags[u'AccX'],1/0.01,nperseg=512)"
   ]
  },
  {
   "cell_type": "code",
   "execution_count": 117,
   "metadata": {
    "collapsed": false
   },
   "outputs": [
    {
     "data": {
      "text/plain": [
       "<matplotlib.figure.Figure at 0x7f36a3bd59d0>"
      ]
     },
     "execution_count": 117,
     "metadata": {},
     "output_type": "execute_result"
    },
    {
     "data": {
      "text/plain": [
       "<matplotlib.figure.Figure at 0x7f36a3bd59d0>"
      ]
     },
     "metadata": {},
     "output_type": "display_data"
    }
   ],
   "source": [
    "plt.figure()"
   ]
  },
  {
   "cell_type": "code",
   "execution_count": 118,
   "metadata": {
    "collapsed": false
   },
   "outputs": [
    {
     "data": {
      "image/png": "[encoded data removed]",
      "text/plain": [
       "<matplotlib.figure.Figure at 0x7f36a3d76190>"
      ]
     },
     "metadata": {},
     "output_type": "display_data"
    }
   ],
   "source": [
    "plt.xlabel(u\"Time [sec]\")\n",
    "plt.xlim([200,500])\n",
    "\n",
    "plt.ylabel(u\"Frequency [Hz]\")\n",
    "plt.ylim([0,10])\n",
    "\n",
    "plt.pcolormesh(t,f,Sxx)\n",
    "plt.colorbar()\n",
    "plt.show()"
   ]
  },
  {
   "cell_type": "code",
   "execution_count": 119,
   "metadata": {
    "collapsed": false
   },
   "outputs": [],
   "source": [
    "def plot_spectrogram(data,sampling_freq,\\\n",
    "    xlim=[0,500],ylim=[0,30]):\n",
    "    plt.close('all')\n",
    "    f,t,Sxx = signal.spectrogram(data,sampling_freq,nperseg=512)\n",
    "    plt.xlabel(u\"Time [sec]\")\n",
    "    plt.xlim(xlim)\n",
    "\n",
    "    plt.ylabel(u\"Frequency [Hz]\")\n",
    "    plt.ylim(ylim)\n",
    "\n",
    "    plt.pcolormesh(t,f,Sxx)\n",
    "    plt.colorbar()\n",
    "    plt.show()\n",
    "    "
   ]
  },
  {
   "cell_type": "code",
   "execution_count": 120,
   "metadata": {
    "collapsed": false
   },
   "outputs": [
    {
     "data": {
      "image/png": "[encoded data removed]",
      "text/plain": [
       "<matplotlib.figure.Figure at 0x7f36a32ec890>"
      ]
     },
     "metadata": {},
     "output_type": "display_data"
    }
   ],
   "source": [
    "plot_spectrogram(left_hand_ags[u'AccX'],100,[200,500],[0,10])"
   ]
  },
  {
   "cell_type": "code",
   "execution_count": 121,
   "metadata": {
    "collapsed": false
   },
   "outputs": [
    {
     "data": {
      "text/plain": [
       "array([  0.       ,   0.1953125,   0.390625 ,   0.5859375,   0.78125  ,\n",
       "         0.9765625,   1.171875 ,   1.3671875,   1.5625   ,   1.7578125,\n",
       "         1.953125 ,   2.1484375,   2.34375  ,   2.5390625,   2.734375 ,\n",
       "         2.9296875,   3.125    ,   3.3203125,   3.515625 ,   3.7109375,\n",
       "         3.90625  ,   4.1015625,   4.296875 ,   4.4921875,   4.6875   ,\n",
       "         4.8828125,   5.078125 ,   5.2734375,   5.46875  ,   5.6640625,\n",
       "         5.859375 ,   6.0546875,   6.25     ,   6.4453125,   6.640625 ,\n",
       "         6.8359375,   7.03125  ,   7.2265625,   7.421875 ,   7.6171875,\n",
       "         7.8125   ,   8.0078125,   8.203125 ,   8.3984375,   8.59375  ,\n",
       "         8.7890625,   8.984375 ,   9.1796875,   9.375    ,   9.5703125,\n",
       "         9.765625 ,   9.9609375,  10.15625  ,  10.3515625,  10.546875 ,\n",
       "        10.7421875,  10.9375   ,  11.1328125,  11.328125 ,  11.5234375,\n",
       "        11.71875  ,  11.9140625,  12.109375 ,  12.3046875,  12.5      ,\n",
       "        12.6953125,  12.890625 ,  13.0859375,  13.28125  ,  13.4765625,\n",
       "        13.671875 ,  13.8671875,  14.0625   ,  14.2578125,  14.453125 ,\n",
       "        14.6484375,  14.84375  ,  15.0390625,  15.234375 ,  15.4296875,\n",
       "        15.625    ,  15.8203125,  16.015625 ,  16.2109375,  16.40625  ,\n",
       "        16.6015625,  16.796875 ,  16.9921875,  17.1875   ,  17.3828125,\n",
       "        17.578125 ,  17.7734375,  17.96875  ,  18.1640625,  18.359375 ,\n",
       "        18.5546875,  18.75     ,  18.9453125,  19.140625 ,  19.3359375,\n",
       "        19.53125  ,  19.7265625,  19.921875 ,  20.1171875,  20.3125   ,\n",
       "        20.5078125,  20.703125 ,  20.8984375,  21.09375  ,  21.2890625,\n",
       "        21.484375 ,  21.6796875,  21.875    ,  22.0703125,  22.265625 ,\n",
       "        22.4609375,  22.65625  ,  22.8515625,  23.046875 ,  23.2421875,\n",
       "        23.4375   ,  23.6328125,  23.828125 ,  24.0234375,  24.21875  ,\n",
       "        24.4140625,  24.609375 ,  24.8046875,  25.       ,  25.1953125,\n",
       "        25.390625 ,  25.5859375,  25.78125  ,  25.9765625,  26.171875 ,\n",
       "        26.3671875,  26.5625   ,  26.7578125,  26.953125 ,  27.1484375,\n",
       "        27.34375  ,  27.5390625,  27.734375 ,  27.9296875,  28.125    ,\n",
       "        28.3203125,  28.515625 ,  28.7109375,  28.90625  ,  29.1015625,\n",
       "        29.296875 ,  29.4921875,  29.6875   ,  29.8828125,  30.078125 ,\n",
       "        30.2734375,  30.46875  ,  30.6640625,  30.859375 ,  31.0546875,\n",
       "        31.25     ,  31.4453125,  31.640625 ,  31.8359375,  32.03125  ,\n",
       "        32.2265625,  32.421875 ,  32.6171875,  32.8125   ,  33.0078125,\n",
       "        33.203125 ,  33.3984375,  33.59375  ,  33.7890625,  33.984375 ,\n",
       "        34.1796875,  34.375    ,  34.5703125,  34.765625 ,  34.9609375,\n",
       "        35.15625  ,  35.3515625,  35.546875 ,  35.7421875,  35.9375   ,\n",
       "        36.1328125,  36.328125 ,  36.5234375,  36.71875  ,  36.9140625,\n",
       "        37.109375 ,  37.3046875,  37.5      ,  37.6953125,  37.890625 ,\n",
       "        38.0859375,  38.28125  ,  38.4765625,  38.671875 ,  38.8671875,\n",
       "        39.0625   ,  39.2578125,  39.453125 ,  39.6484375,  39.84375  ,\n",
       "        40.0390625,  40.234375 ,  40.4296875,  40.625    ,  40.8203125,\n",
       "        41.015625 ,  41.2109375,  41.40625  ,  41.6015625,  41.796875 ,\n",
       "        41.9921875,  42.1875   ,  42.3828125,  42.578125 ,  42.7734375,\n",
       "        42.96875  ,  43.1640625,  43.359375 ,  43.5546875,  43.75     ,\n",
       "        43.9453125,  44.140625 ,  44.3359375,  44.53125  ,  44.7265625,\n",
       "        44.921875 ,  45.1171875,  45.3125   ,  45.5078125,  45.703125 ,\n",
       "        45.8984375,  46.09375  ,  46.2890625,  46.484375 ,  46.6796875,\n",
       "        46.875    ,  47.0703125,  47.265625 ,  47.4609375,  47.65625  ,\n",
       "        47.8515625,  48.046875 ,  48.2421875,  48.4375   ,  48.6328125,\n",
       "        48.828125 ,  49.0234375,  49.21875  ,  49.4140625,  49.609375 ,\n",
       "        49.8046875,  50.       ])"
      ]
     },
     "execution_count": 121,
     "metadata": {},
     "output_type": "execute_result"
    }
   ],
   "source": [
    "f"
   ]
  },
  {
   "cell_type": "code",
   "execution_count": 122,
   "metadata": {
    "collapsed": false
   },
   "outputs": [
    {
     "data": {
      "text/plain": [
       "array([   2.56,    7.04,   11.52,   16.  ,   20.48,   24.96,   29.44,\n",
       "         33.92,   38.4 ,   42.88,   47.36,   51.84,   56.32,   60.8 ,\n",
       "         65.28,   69.76,   74.24,   78.72,   83.2 ,   87.68,   92.16,\n",
       "         96.64,  101.12,  105.6 ,  110.08,  114.56,  119.04,  123.52,\n",
       "        128.  ,  132.48,  136.96,  141.44,  145.92,  150.4 ,  154.88,\n",
       "        159.36,  163.84,  168.32,  172.8 ,  177.28,  181.76,  186.24,\n",
       "        190.72,  195.2 ,  199.68,  204.16,  208.64,  213.12,  217.6 ,\n",
       "        222.08,  226.56,  231.04,  235.52,  240.  ,  244.48,  248.96,\n",
       "        253.44,  257.92,  262.4 ,  266.88,  271.36,  275.84,  280.32,\n",
       "        284.8 ,  289.28,  293.76,  298.24,  302.72,  307.2 ,  311.68,\n",
       "        316.16,  320.64,  325.12,  329.6 ,  334.08,  338.56,  343.04,\n",
       "        347.52,  352.  ,  356.48,  360.96,  365.44,  369.92,  374.4 ,\n",
       "        378.88,  383.36,  387.84,  392.32,  396.8 ,  401.28,  405.76,\n",
       "        410.24,  414.72,  419.2 ,  423.68,  428.16,  432.64,  437.12,\n",
       "        441.6 ,  446.08,  450.56,  455.04,  459.52,  464.  ,  468.48,\n",
       "        472.96,  477.44,  481.92,  486.4 ,  490.88,  495.36,  499.84,\n",
       "        504.32,  508.8 ,  513.28,  517.76,  522.24,  526.72,  531.2 ,\n",
       "        535.68,  540.16,  544.64,  549.12])"
      ]
     },
     "execution_count": 122,
     "metadata": {},
     "output_type": "execute_result"
    }
   ],
   "source": [
    "t"
   ]
  },
  {
   "cell_type": "code",
   "execution_count": 125,
   "metadata": {
    "collapsed": false
   },
   "outputs": [],
   "source": [
    "left_hand_ags.to_csv('Cleaning_left_hand_ags.csv',encoding='SHIFT-JIS')"
   ]
  },
  {
   "cell_type": "code",
   "execution_count": null,
   "metadata": {
    "collapsed": true
   },
   "outputs": [],
   "source": []
  }
 ],
 "metadata": {
  "kernelspec": {
   "display_name": "Python 2",
   "language": "python",
   "name": "python2"
  },
  "language_info": {
   "codemirror_mode": {
    "name": "ipython",
    "version": 2
   },
   "file_extension": ".py",
   "mimetype": "text/x-python",
   "name": "python",
   "nbconvert_exporter": "python",
   "pygments_lexer": "ipython2",
   "version": "2.7.11"
  }
 },
 "nbformat": 4,
 "nbformat_minor": 0
}
