{
 "cells": [
  {
   "cell_type": "code",
   "execution_count": 1,
   "metadata": {
    "collapsed": false
   },
   "outputs": [],
   "source": [
    "import numpy as np\n",
    "import pandas as pd\n",
    "from scipy import fftpack\n",
    "from scipy import signal\n",
    "import time\n",
    "import os\n",
    "import matplotlib.pyplot as plt\n",
    "%matplotlib inline"
   ]
  },
  {
   "cell_type": "code",
   "execution_count": 3,
   "metadata": {
    "collapsed": false
   },
   "outputs": [],
   "source": [
    "WORKSPACE_PATH = '/home/takeyama/pywork/ipython/2016-06-13/'"
   ]
  },
  {
   "cell_type": "markdown",
   "metadata": {},
   "source": [
    "mozartの環境設定"
   ]
  },
  {
   "cell_type": "code",
   "execution_count": 3,
   "metadata": {
    "collapsed": true
   },
   "outputs": [],
   "source": [
    "#p_path=\"/home/takeyama/pywork/ipython/2016-05-30/\""
   ]
  },
  {
   "cell_type": "code",
   "execution_count": 4,
   "metadata": {
    "collapsed": false
   },
   "outputs": [],
   "source": [
    "#cd ~/Documents/SyncRecord/cleaning-addingLABEL/"
   ]
  },
  {
   "cell_type": "markdown",
   "metadata": {},
   "source": [
    "workstationの環境設定"
   ]
  },
  {
   "cell_type": "code",
   "execution_count": 4,
   "metadata": {
    "collapsed": false
   },
   "outputs": [
    {
     "name": "stdout",
     "output_type": "stream",
     "text": [
      "/home/takeyama/Documents/ALTIMA/20160617-103037\n"
     ]
    }
   ],
   "source": [
    "cd ~/Documents/ALTIMA/20160617-103037/"
   ]
  },
  {
   "cell_type": "code",
   "execution_count": 7,
   "metadata": {
    "collapsed": true
   },
   "outputs": [],
   "source": [
    "class SensorData:\n",
    "    \n",
    "    def __init__(self):\n",
    "        print \"__class__\"\n",
    "        # raw data\n",
    "        self._RawData={}    \n",
    "        # fft data\n",
    "        self._FFTData={}\n",
    "        # power spectol data\n",
    "        self._PowerData={}    \n",
    "        # flag exsist data\n",
    "        self._Flag_exist_data=False\n",
    "        \n",
    "        self._columns=['AccX','AccY','AccZ','GyrX','GyrY','GyrZ']\n",
    "        self._fft_col=['fft_AccX','fft_AccY','fft_AccZ','fft_GyrX','fft_GyrY','fft_GyrZ']\n",
    "        self._power_col=['power_AccX','power_AccY','power_AccZ','power_GyrX','power_GyrY','power_GyrZ']\n",
    "        \n",
    "    def ImportCSV(self,Sclass,csv_file):\n",
    "        self.ClassName=Sclass\n",
    "        self.Flag_exist_data=True\n",
    "        # design dataframe\n",
    "        data = pd.read_csv(csv_file,encoding=\"SHIFT-JIS\")\n",
    "        data.columns=[u'Type',u'Time',u'AccX',u'AccY',u'AccZ',u'GyrX',u'GyrY',u'GyrZ']\n",
    "        data = data[data.Type=='ags']\n",
    "        data = pd.pivot_table(data,values=[u'AccX',u'AccY',u'AccZ',u'GyrX',u'GyrY',u'GyrZ'],index=[u'Time'])\n",
    "        \n",
    "        # convert numpy.darray\n",
    "        AccX=data.AccX.values*0.0001\n",
    "        AccY=data.AccY.values*0.0001\n",
    "        AccZ=data.AccZ.values*0.0001\n",
    "        GyrX=data.GyrX.values*0.01\n",
    "        GyrY=data.GyrY.values*0.01\n",
    "        GyrZ=data.GyrZ.values*0.01\n",
    "        Time=data.index\n",
    "        \n",
    "        # regist each raw data \n",
    "        self._RawData['AccX'] = AccX\n",
    "        self._RawData['AccY'] = AccY\n",
    "        self._RawData['AccZ'] = AccZ\n",
    "        self._RawData['GyrX'] = GyrX\n",
    "        self._RawData['GyrY'] = GyrY\n",
    "        self._RawData['GyrZ'] = GyrZ\n",
    "        self._RawData['Time'] = Time\n",
    "    \n",
    "    def ShowFlagExistData(self):\n",
    "        return self.Flag_exist_data\n",
    "    \n",
    "    def GetColumns(self):\n",
    "        return self._columns\n",
    "    \n",
    "    def GetTime(self):\n",
    "        return self._RawData['Time']\n",
    "\n",
    "    def ShowAllDf(self):\n",
    "        print 'AccX : ';print self._RawData['AccX']\n",
    "        print 'AccY : ';print self._RawData['AccY']\n",
    "        print 'AccZ : ';print self._RawData['AccZ']\n",
    "        print 'GyrX : ';print self._RawData['GyrX']\n",
    "        print 'GyrY : ';print self._RawData['GyrY']\n",
    "        print 'GyrZ : ';print self._RawData['GyrZ']\n",
    "        \n",
    "    def _Time2Num(self,time):\n",
    "        return np.where(self._RawData['Time']==np.datetime64(time) )[0][0]\n",
    "    \n",
    "    def ShowQuery(self,Sname,rng=[]):\n",
    "        data = self._RawData[Sname]\n",
    "        print Sname+':'+str( data[rng[0]:rng[1]])\n",
    "            \n",
    "    def _sliding_window(self,Sname,samp, overlap):\n",
    "        count =0\n",
    "        s =self._RawData['Time'][0]\n",
    "        start=self._Time2Num(s)\n",
    "        g = s+np.timedelta64(samp*10,'ms')\n",
    "        goal= self._Time2Num(g)\n",
    "        yield self._RawData[Sname][start:goal]\n",
    "        \n",
    "        add=overlap*0.01\n",
    "        \n",
    "        while True:\n",
    "            try:\n",
    "                count +=1\n",
    "                s =s+np.timedelta64(samp*10,'ms')\n",
    "                start=self._Time2Num(s)\n",
    "                g  =s+np.timedelta64(samp*10,'ms')\n",
    "                goal= self._Time2Num(g)\n",
    "                yield self._RawData[Sname][start:goal]\n",
    "            except StopIteration:\n",
    "                print '_sliding_window StopIteration'\n",
    "                break   \n",
    "            except IndexError:\n",
    "                print '_sliding_window IndexError'\n",
    "                break  \n",
    "                \n",
    "# Fast Frier transaction            \n",
    "    def GetFFT(self,Sfft,samp):\n",
    "        return np.load(p_path+'fft/'+self.ClassName+'_'+Sfft+'_'+str(samp)+'.npz')['arr_0']\n",
    "    \n",
    "    def CalcFFT(self,samp,overlap=0.5):\n",
    "        start = time.time()\n",
    "        fft_data = np.array([])\n",
    "        \n",
    "        for n,f in zip( self._columns,self._fft_col):\n",
    "            print 'start'+n+'->'+f\n",
    "            sw = self._sliding_window(n,samp,overlap)\n",
    "            while True:\n",
    "                try:\n",
    "                    d=sw.next()\n",
    "                    fft_data = np.append(fft_data, fftpack.fft(d)[1:(samp/2)+1] )   # fftの直流成分を除くsample/2の\n",
    "                except StopIteration:\n",
    "                    print 'CalcFFTStopIteration'\n",
    "                    fft_data = fft_data.reshape(len(fft_data)/(samp/2),(samp/2) )\n",
    "                    self._FFTData[f] = fft_data\n",
    "                    np.savez(p_path+'fft/'+self.ClassName+'_'+str(f)+'_'+str(samp),self._FFTData[f])\n",
    "                    break   \n",
    "        elapsed_time = time.time() - start\n",
    "        print (\"elapsed_time:{0}\".format(elapsed_time)) + \"[sec]\"\n",
    "           \n",
    "\n",
    "# Spectol Power \n",
    "    def GetPower(self,Spower,samp):\n",
    "        return np.load(p_path+'power/'+self.ClassName+'_'+Spower+'_'+str(samp)+'.npz')['arr_0']\n",
    "    \n",
    "    def _power(self,fft_array):\n",
    "        p=lambda x,y : np.sqrt(x**2+y**2)\n",
    "        power_array=np.array([])\n",
    "        for vector in fft_array:\n",
    "            tmp = p( np.real(vector),np.imag(vector) )\n",
    "            tmp = tmp/np.sum(tmp)\n",
    "            power_array = np.append(power_array,tmp)\n",
    "        return power_array\n",
    "        \n",
    "    def CalcPower(self,samp,overlap=0.5):\n",
    "        start = time.time()\n",
    "        for fft_name,power_name in zip( self._fft_col, self._power_col):\n",
    "            print 'start'+fft_name+'->'+power_name\n",
    "            fft_data = self.GetFFT(fft_name,samp)\n",
    "            power_data=self._power(fft_data)\n",
    "            np.savez(p_path+'power/'+self.ClassName+'_'+power_name+'_'+str(samp),power_data)\n",
    "        elapsed_time = time.time() - start\n",
    "        print (\"elapsed_time:{0}\".format(elapsed_time)) + \"[sec]\""
   ]
  },
  {
   "cell_type": "code",
   "execution_count": 228,
   "metadata": {
    "collapsed": false
   },
   "outputs": [],
   "source": [
    "'''\n",
    "csv_file -> ファイル名\n",
    "mode Round -> 四捨五入\n",
    "     Roundup -> 切り上げ\n",
    "     Rounddown -> 切り捨て\n",
    "'''\n",
    "def ImportCSV(csv_file,freq,mode='Round'):\n",
    "        # data dictionary \n",
    "        RawData={}   \n",
    "        \n",
    "        # design dataframe and import csv\n",
    "        data = pd.read_csv(csv_file,encoding=\"SHIFT-JIS\")\n",
    "        data.columns=[u'Type',u'Time',u'AccX',u'AccY',u'AccZ',u'GyrX',u'GyrY',u'GyrZ']\n",
    "        data = data[ data['Type']=='ags']\n",
    "        \n",
    "        # convert numpy.darray \n",
    "        # Acc Data  [0.1mG]=>[G]\n",
    "        # Gyr Data  [0.01dps]=>[dps]   ...dps=degree per second\n",
    "        AccX=data.AccX.values*0.0001\n",
    "        AccY=data.AccY.values*0.0001\n",
    "        AccZ=data.AccZ.values*0.0001\n",
    "        GyrX=data.GyrX.values*0.01\n",
    "        GyrY=data.GyrY.values*0.01\n",
    "        GyrZ=data.GyrZ.values*0.01\n",
    "        \n",
    "        # regist each raw data \n",
    "        RawData['AccX'] = AccX\n",
    "        RawData['AccY'] = AccY\n",
    "        RawData['AccZ'] = AccZ\n",
    "        RawData['GyrX'] = GyrX\n",
    "        RawData['GyrY'] = GyrY\n",
    "        RawData['GyrZ'] = GyrZ\n",
    "        \n",
    "        # import time by using numpy\n",
    "        time = data.Time.values #時間の列だけを抽出       \n",
    "        \n",
    "        if mode == 'Roundup':\n",
    "            func = lambda x: int(x/freq)*freq\n",
    "        elif mode == 'Rounddown':\n",
    "            func = lambda x: int(x/freq)*freq\n",
    "        elif mode == 'Round':\n",
    "            func = lambda x: int((x+freq/2)/freq)*freq\n",
    "        #ERROR\n",
    "        else:\n",
    "            print 'check mode and inputed word is caused error'\n",
    "            return -1\n",
    "        \n",
    "        output = map(func,time)\n",
    "        RawData['Time'] = np.array(output)\n",
    "        return RawData\n",
    "            "
   ]
  },
  {
   "cell_type": "code",
   "execution_count": 264,
   "metadata": {
    "collapsed": false
   },
   "outputs": [],
   "source": [
    "data1=ImportCSV('left-hand.csv',10)\n",
    "data2=ImportCSV('left-leg.csv',10)\n",
    "data3=ImportCSV('right-hand.csv',10)\n",
    "data4=ImportCSV('right-leg.csv',10)\n",
    "rawdata5=ImportCSV('west.csv',10)"
   ]
  },
  {
   "cell_type": "code",
   "execution_count": 230,
   "metadata": {
    "collapsed": true
   },
   "outputs": [],
   "source": [
    "def CalcStartTime(array):\n",
    "    MAX = min(array[0])\n",
    "    \n",
    "    for i in range(len(array)):\n",
    "        if MAX < min(array[i]):\n",
    "            MAX = min(array[i])\n",
    "     \n",
    "    return  MAX"
   ]
  },
  {
   "cell_type": "code",
   "execution_count": 231,
   "metadata": {
    "collapsed": true
   },
   "outputs": [],
   "source": [
    "def CalcGoalTime(array):\n",
    "    MIN = max(array[0])\n",
    "    \n",
    "    for i in range(len(array)):\n",
    "        if MIN > max(array[i]):\n",
    "            MIN = max(array[i])\n",
    "     \n",
    "    return  MIN"
   ]
  },
  {
   "cell_type": "markdown",
   "metadata": {
    "collapsed": true
   },
   "source": [
    "**2016-06-14**  \n",
    "もう１度、前処理について考える。特に、入力データの特徴、出力データの仕様を改める。  \n",
    "*feacher of Precondition*\n",
    "1. センサデータは{time, accx, accy, accz, gyrx, gyry, gyrz}が揃っている\n",
    "2. また、センサデータはすべて整数型となっている。\n",
    "3. nanデータはない\n",
    "\n",
    "*output Data*\n",
    "1. accは[0.1mG]から[G]に単位変換、gyrは[0.01dpg]は[dpg]に変換する。\n",
    "2. timeはサンプリング周期で丸める。\n",
    "3. Nanデータは存在する。\n"
   ]
  },
  {
   "cell_type": "code",
   "execution_count": 282,
   "metadata": {
    "collapsed": false
   },
   "outputs": [],
   "source": [
    "\"\"\"\n",
    "    checkData に入れるものは辞書型にする\n",
    "    freqは計測周期\n",
    "\"\"\"\n",
    "def NanPating(DicData,freq):\n",
    "    import time\n",
    "    start_time = time.time()\n",
    "    \n",
    "    # detection for hidden Nan Data\n",
    "    diffNum =np.array([])\n",
    "    diffIndex=np.array([])\n",
    "    checkData = DicData['Time']\n",
    "    width = len(checkData)\n",
    "    for i in range(0,width-1):\n",
    "        if ( checkData[i+1]-checkData[i] )!=freq:\n",
    "            diffNum=np.append(diffNum, int(checkData[i+1]-checkData[i]) )\n",
    "            diffIndex=np.append(diffIndex,i)\n",
    "   \n",
    "    # insert NAN data to SensorData\n",
    "    # insert time_data\n",
    "    def Insert(data,dI,dN,f,mode):\n",
    "        StartIndex= 0\n",
    "        tmp =np.array([])\n",
    "        if mode =='Sensor':\n",
    "            # insert NAN DATA\n",
    "            adding = np.nan\n",
    "            for count,l in enumerate(dI):\n",
    "                tmp = np.append(tmp, data[StartIndex:int(l)])\n",
    "                for i in range(0,int(dN[count]/f) ):\n",
    "                    tmp = np.append(tmp,np.nan)\n",
    "                StartIndex = int(l)+1\n",
    "            tmp=np.append(tmp, data[StartIndex:])\n",
    "        elif mode =='Time':\n",
    "            # insert \n",
    "            for count,l in enumerate(dI):\n",
    "                tmp = np.append(tmp, data[StartIndex:int(l)])\n",
    "                for i in range(0,int(dN[count]/f) ):\n",
    "                    t = int( tmp[-1]+f )\n",
    "                    tmp = np.append(tmp,t)\n",
    "                StartIndex = int(l)+1\n",
    "            tmp=np.append(tmp, data[StartIndex:])\n",
    "        else:\n",
    "            print 'mode name error'\n",
    "        return tmp\n",
    "    Array ={}\n",
    "    tmpArrayAccX=Insert(DicData['AccX'],diffIndex,diffNum,freq,mode='Sensor')\n",
    "    tmpArrayAccY=Insert(DicData['AccY'],diffIndex,diffNum,freq,mode='Sensor')\n",
    "    tmpArrayAccZ=Insert(DicData['AccZ'],diffIndex,diffNum,freq,mode='Sensor')\n",
    "    tmpArrayGyrX=Insert(DicData['GyrX'],diffIndex,diffNum,freq,mode='Sensor')\n",
    "    tmpArrayGyrY=Insert(DicData['GyrY'],diffIndex,diffNum,freq,mode='Sensor')\n",
    "    tmpArrayGyrZ=Insert(DicData['GyrZ'],diffIndex,diffNum,freq,mode='Sensor')\n",
    "    tmpArrayTime=Insert(DicData['Time'],diffIndex,diffNum,freq,mode='Time')\n",
    "    Array['AccX'] = tmpArrayAccX\n",
    "    Array['AccY'] = tmpArrayAccY\n",
    "    Array['AccZ'] = tmpArrayAccZ\n",
    "    Array['GyrX'] = tmpArrayGyrX\n",
    "    Array['GyrY'] = tmpArrayGyrY\n",
    "    Array['GyrZ'] = tmpArrayGyrZ\n",
    "    Array['Time'] = tmpArrayTime\n",
    "    #Array=[Time:tmpArrayTime,tmpArrayAccX,tmpArrayAccY,tmpArrayAccZ,tmpArrayGyrX,tmpArrayGyrY,tmpArrayGyrZ]\n",
    "    elapsed_time = time.time() -start_time\n",
    "    print (\"elapsed_time:{0}\".format(elapsed_time)) + \"[sec]\"\n",
    "    return Array"
   ]
  },
  {
   "cell_type": "code",
   "execution_count": 283,
   "metadata": {
    "collapsed": false
   },
   "outputs": [
    {
     "name": "stdout",
     "output_type": "stream",
     "text": [
      "elapsed_time:0.0606710910797[sec]\n"
     ]
    }
   ],
   "source": [
    "data5=NanPating(rawdata5,10)"
   ]
  },
  {
   "cell_type": "code",
   "execution_count": 284,
   "metadata": {
    "collapsed": false
   },
   "outputs": [
    {
     "data": {
      "text/plain": [
       "{'AccX': array([ 0.1782,  0.1667,  0.1418, ..., -0.0311, -0.0291, -0.0401]),\n",
       " 'AccY': array([-1.0457, -1.0386, -1.0523, ..., -0.9976, -1.0147, -1.0189]),\n",
       " 'AccZ': array([ 0.0745,  0.0806,  0.0784, ..., -0.259 , -0.2599, -0.2702]),\n",
       " 'GyrX': array([-12.92, -13.85, -14.16, ...,   5.07,   3.58,   1.69]),\n",
       " 'GyrY': array([ -2.79,  -5.73,  -5.75, ..., -50.27, -52.05, -54.74]),\n",
       " 'GyrZ': array([ 0.33, -0.22,  0.01, ...,  0.49,  1.73,  4.9 ]),\n",
       " 'Time': array([ 65175760.,  65175770.,  65175780., ...,  65730600.,  65730610.,\n",
       "         65730620.])}"
      ]
     },
     "execution_count": 284,
     "metadata": {},
     "output_type": "execute_result"
    }
   ],
   "source": [
    "data5"
   ]
  },
  {
   "cell_type": "code",
   "execution_count": 285,
   "metadata": {
    "collapsed": false
   },
   "outputs": [
    {
     "data": {
      "text/plain": [
       "array([ 65175760.,  65175770.,  65175780., ...,  65730600.,  65730610.,\n",
       "        65730620.])"
      ]
     },
     "execution_count": 285,
     "metadata": {},
     "output_type": "execute_result"
    }
   ],
   "source": [
    "time5"
   ]
  },
  {
   "cell_type": "markdown",
   "metadata": {},
   "source": [
    "**2016-06-14 & 2016-06-15**  \n",
    "[ AIM ]NANパティングをされたデータ群を作成する。  \n",
    "[ ERROR ] なぜか、四捨五入とかデータが丸めれていない。"
   ]
  },
  {
   "cell_type": "code",
   "execution_count": 286,
   "metadata": {
    "collapsed": false
   },
   "outputs": [],
   "source": [
    "time1= data1['Time']\n",
    "time2= data2['Time']\n",
    "time3= data3['Time']\n",
    "time4= data4['Time']\n",
    "time5= data5['Time']"
   ]
  },
  {
   "cell_type": "code",
   "execution_count": 287,
   "metadata": {
    "collapsed": true
   },
   "outputs": [],
   "source": [
    "timeArray=[time1,time2,time3,time4,time5]"
   ]
  },
  {
   "cell_type": "code",
   "execution_count": 288,
   "metadata": {
    "collapsed": false
   },
   "outputs": [
    {
     "data": {
      "text/plain": [
       "65175890"
      ]
     },
     "execution_count": 288,
     "metadata": {},
     "output_type": "execute_result"
    }
   ],
   "source": [
    "StartTime = CalcStartTime(timeArray)\n",
    "StartTime"
   ]
  },
  {
   "cell_type": "code",
   "execution_count": 289,
   "metadata": {
    "collapsed": false
   },
   "outputs": [
    {
     "data": {
      "text/plain": [
       "65730150"
      ]
     },
     "execution_count": 289,
     "metadata": {},
     "output_type": "execute_result"
    }
   ],
   "source": [
    "GoalTime = CalcGoalTime(timeArray)\n",
    "GoalTime"
   ]
  },
  {
   "cell_type": "code",
   "execution_count": 290,
   "metadata": {
    "collapsed": true
   },
   "outputs": [],
   "source": [
    "def CalcSearchIndexFromTime(checkData,CompareTime):\n",
    "    count = 0\n",
    "    for i in range(0, len(checkData)):\n",
    "        if CompareTime == checkData[i]:\n",
    "            print str(CompareTime)+' is much in the index  whose number is '+str(i)\n",
    "            return i\n",
    "        "
   ]
  },
  {
   "cell_type": "code",
   "execution_count": 291,
   "metadata": {
    "collapsed": false
   },
   "outputs": [
    {
     "name": "stdout",
     "output_type": "stream",
     "text": [
      "65175890 is much in the index  whose number is 18\n",
      "65175890 is much in the index  whose number is 0\n",
      "65175890 is much in the index  whose number is 22\n",
      "65175890 is much in the index  whose number is 8\n",
      "65175890 is much in the index  whose number is 13\n"
     ]
    }
   ],
   "source": [
    "StartIndex =np.array([])\n",
    "for d in timeArray:\n",
    "    StartIndex = np.append(StartIndex,CalcSearchIndexFromTime(d,65175890))\n",
    "StartIndex = StartIndex.astype(int)"
   ]
  },
  {
   "cell_type": "code",
   "execution_count": 292,
   "metadata": {
    "collapsed": false
   },
   "outputs": [
    {
     "name": "stdout",
     "output_type": "stream",
     "text": [
      "65730150 is much in the index  whose number is 55444\n",
      "65730150 is much in the index  whose number is 55426\n",
      "65730150 is much in the index  whose number is 55448\n",
      "65730150 is much in the index  whose number is 55434\n",
      "65730150 is much in the index  whose number is 55439\n"
     ]
    }
   ],
   "source": [
    "GoalIndex =np.array([])\n",
    "for d in timeArray:\n",
    "    GoalIndex = np.append(GoalIndex,CalcSearchIndexFromTime(d,65730150))\n",
    "GoalIndex =GoalIndex.astype(int)"
   ]
  },
  {
   "cell_type": "code",
   "execution_count": 293,
   "metadata": {
    "collapsed": false
   },
   "outputs": [
    {
     "name": "stdout",
     "output_type": "stream",
     "text": [
      "[18  0 22  8 13]\n"
     ]
    }
   ],
   "source": [
    "print StartIndex"
   ]
  },
  {
   "cell_type": "code",
   "execution_count": 294,
   "metadata": {
    "collapsed": false
   },
   "outputs": [
    {
     "name": "stdout",
     "output_type": "stream",
     "text": [
      "18\n",
      "55444\n",
      "0s length=55426\n",
      "0\n",
      "55426\n",
      "1s length=55426\n",
      "22\n",
      "55448\n",
      "2s length=55426\n",
      "8\n",
      "55434\n",
      "3s length=55426\n",
      "13\n",
      "55439\n",
      "4s length=55426\n",
      "(5, 55426)\n"
     ]
    }
   ],
   "source": [
    "NanpatingTimeArray=np.array([])\n",
    "\n",
    "for i, d in enumerate(timeArray):\n",
    "    print StartIndex[i]\n",
    "    print GoalIndex[i]\n",
    "    print str(i)+'s length='+str( len(d[StartIndex[i]:GoalIndex[i]] ) )\n",
    "    NanpatingTimeArray =np.append(NanpatingTimeArray,d[StartIndex[i]:GoalIndex[i]])\n",
    "NanpatingTimeArray = NanpatingTimeArray.reshape(len(timeArray),len(NanpatingTimeArray)/len(timeArray))\n",
    "print NanpatingTimeArray.shape    "
   ]
  },
  {
   "cell_type": "code",
   "execution_count": 308,
   "metadata": {
    "collapsed": false
   },
   "outputs": [
    {
     "data": {
      "text/plain": [
       "'Time'"
      ]
     },
     "execution_count": 308,
     "metadata": {},
     "output_type": "execute_result"
    }
   ],
   "source": [
    "data5.keys()[0]"
   ]
  },
  {
   "cell_type": "code",
   "execution_count": 321,
   "metadata": {
    "collapsed": false
   },
   "outputs": [],
   "source": [
    "def Extraction(dic,start,goal):\n",
    "    keys = dic.keys()\n",
    "    output = {}\n",
    "    for i in range( len(dic)):\n",
    "        output[keys[i]] = dic[keys[i]][start:goal]\n",
    "        if keys[i]=='Time': output[keys[i]] = output[keys[i]].astype(int)\n",
    "    return output\n",
    "    "
   ]
  },
  {
   "cell_type": "code",
   "execution_count": 324,
   "metadata": {
    "collapsed": false
   },
   "outputs": [
    {
     "name": "stdout",
     "output_type": "stream",
     "text": [
      "{'Time': array([65175890, 65175900, 65175910, ..., 65730120, 65730130, 65730140]), 'AccY': array([-0.9727, -0.9737, -0.9857, ..., -0.9742, -0.971 , -0.8929]), 'AccX': array([ 0.1064,  0.1179,  0.1337, ...,  0.0124,  0.0624, -0.0225]), 'AccZ': array([ 0.055 ,  0.0599,  0.055 , ..., -0.2216, -0.2753, -0.3469]), 'GyrZ': array([ 11.96,  11.  ,  10.75, ..., -14.48, -11.45,  -9.12]), 'GyrX': array([-14.3 , -14.3 , -14.33, ...,  -7.18,  -3.  ,  -0.3 ]), 'GyrY': array([  0.41,   1.95,   2.21, ..., -71.92, -74.72, -72.04])}\n",
      "['Time', 'AccY', 'AccX', 'AccZ', 'GyrZ', 'GyrX', 'GyrY']\n",
      "[65175890 65175900 65175910 ..., 65730120 65730130 65730140]\n"
     ]
    }
   ],
   "source": [
    "edata5 = Extraction(data5,StartIndex[4],GoalIndex[4])\n",
    "print test\n",
    "print test.keys()\n",
    "print test['Time']"
   ]
  },
  {
   "cell_type": "code",
   "execution_count": 325,
   "metadata": {
    "collapsed": true
   },
   "outputs": [],
   "source": [
    "edata1 = Extraction(data1,StartIndex[0],GoalIndex[0])\n",
    "edata2 = Extraction(data2,StartIndex[1],GoalIndex[1])\n",
    "edata3 = Extraction(data3,StartIndex[2],GoalIndex[2])\n",
    "edata4 = Extraction(data4,StartIndex[3],GoalIndex[3])\n",
    "edata5 = Extraction(data5,StartIndex[4],GoalIndex[4])"
   ]
  },
  {
   "cell_type": "code",
   "execution_count": 303,
   "metadata": {
    "collapsed": false
   },
   "outputs": [
    {
     "name": "stdout",
     "output_type": "stream",
     "text": [
      "55487\n",
      "55487\n",
      "55487\n",
      "55487\n"
     ]
    }
   ],
   "source": [
    "print len(data5['AccX'])\n",
    "print len(data5['AccY'])\n",
    "print len(data5['AccZ'])\n",
    "print len(data5['Time'])"
   ]
  },
  {
   "cell_type": "markdown",
   "metadata": {},
   "source": [
    "とりあえず、前処理について大方終わった.\n",
    "ここで、なぜできたのかを振り返るためにアルゴリズムや処理の流れについて考える。\n",
    "まず、対象とする入力データからNANデータを加えてから共通区間を導くという考えである。\n",
    "では、NANデータを加えるまでの流れを述べていく。\n",
    "入力データは\n",
    "* センサデータは{time, accx, accy, accz, gyrx, gyry, gyrz}が揃っている\n",
    "* また、センサデータはすべて整数型となっている。\n",
    "* nanデータはない\n",
    "\n",
    "よって、まずはtimeで前後の差がサンプリング周期と異なるもの(今回はサンプリング周期は１０msとしている。）\n",
    "インデックスを探す。そして、そのときのインデックスと前後の差を算出する。\n",
    "つぎに、その算出したものを使って加速度、角速度データはNANを加える。時計には差の文だけインデックスを追加する。\n",
    "そして、{timeData,nan,nan,nan,nan,nan,nan}というような行を加える。\n",
    "次に、共通区間のスタート、ゴールを探す。このやり方は今までできたやり方で行ったのでここでは省略。\n",
    "そして、共通区間のスタート、ゴールのデータを抽出できた。\n"
   ]
  },
  {
   "cell_type": "code",
   "execution_count": null,
   "metadata": {
    "collapsed": true
   },
   "outputs": [],
   "source": []
  }
 ],
 "metadata": {
  "kernelspec": {
   "display_name": "Python 2",
   "language": "python",
   "name": "python2"
  },
  "language_info": {
   "codemirror_mode": {
    "name": "ipython",
    "version": 2
   },
   "file_extension": ".py",
   "mimetype": "text/x-python",
   "name": "python",
   "nbconvert_exporter": "python",
   "pygments_lexer": "ipython2",
   "version": "2.7.11"
  }
 },
 "nbformat": 4,
 "nbformat_minor": 0
}
