{
 "cells": [
  {
   "cell_type": "code",
   "execution_count": 1,
   "metadata": {
    "collapsed": true
   },
   "outputs": [],
   "source": [
    "import numpy as np\n",
    "import pandas as pd\n",
    "from scipy import fftpack\n",
    "from scipy import signal\n",
    "import datetime\n",
    "import pickle\n",
    "import time\n",
    "%matplotlib inline"
   ]
  },
  {
   "cell_type": "code",
   "execution_count": 2,
   "metadata": {
    "collapsed": true
   },
   "outputs": [],
   "source": [
    "p_path=\"/home/takeyama/pywork/ipython/2016-05-30/\""
   ]
  },
  {
   "cell_type": "code",
   "execution_count": 4,
   "metadata": {
    "collapsed": false
   },
   "outputs": [
    {
     "name": "stdout",
     "output_type": "stream",
     "text": [
      "/home/takeyama/Documents/SyncRecord/cleaning-addingLABEL\n"
     ]
    }
   ],
   "source": [
    "cd ~/Documents/SyncRecord/cleaning-addingLABEL/"
   ]
  },
  {
   "cell_type": "code",
   "execution_count": 5,
   "metadata": {
    "collapsed": true
   },
   "outputs": [],
   "source": [
    "class SensorData:\n",
    "    \n",
    "    def __init__(self):\n",
    "        print \"__class__\"\n",
    "        # raw data\n",
    "        self._RawData={}    \n",
    "        # fft data\n",
    "        self._FFTData={}\n",
    "        # power spectol data\n",
    "        self._PowerData={}    \n",
    "        # flag exsist data\n",
    "        self._Flag_exist_data=False\n",
    "        \n",
    "        self._columns=['AccX','AccY','AccZ','GyrX','GyrY','GyrZ']\n",
    "        self._fft_col=['fft_AccX','fft_AccY','fft_AccZ','fft_GyrX','fft_GyrY','fft_GyrZ']\n",
    "        self._power_col=['power_AccX','power_AccY','power_AccZ','power_GyrX','power_GyrY','power_GyrZ']\n",
    "        \n",
    "    def ImportCSV(self,Sclass,csv_file):\n",
    "        self.ClassName=Sclass\n",
    "        self.Flag_exist_data=True\n",
    "        # design dataframe\n",
    "        data = pd.read_csv(csv_file,encoding=\"SHIFT-JIS\")\n",
    "        data.columns=[u'Type',u'Time',u'AccX',u'AccY',u'AccZ',u'GyrX',u'GyrY',u'GyrZ']\n",
    "        data.Time=pd.to_datetime(data.Time)\n",
    "        data = pd.pivot_table(data,values=[u'AccX',u'AccY',u'AccZ',u'GyrX',u'GyrY',u'GyrZ'],index=[u'Time'])\n",
    "        \n",
    "        # convert numpy.darray\n",
    "        AccX=data.AccX.values*0.0001\n",
    "        AccY=data.AccY.values*0.0001\n",
    "        AccZ=data.AccZ.values*0.0001\n",
    "        GyrX=data.GyrX.values*0.01\n",
    "        GyrY=data.GyrY.values*0.01\n",
    "        GyrZ=data.GyrZ.values*0.01\n",
    "        Time=data.index.to_pydatetime().astype('datetime64[ns]')\n",
    "        \n",
    "        # regist each raw data \n",
    "        self._RawData['AccX'] = AccX\n",
    "        self._RawData['AccY'] = AccY\n",
    "        self._RawData['AccZ'] = AccZ\n",
    "        self._RawData['GyrX'] = GyrX\n",
    "        self._RawData['GyrY'] = GyrY\n",
    "        self._RawData['GyrZ'] = GyrZ\n",
    "        self._RawData['Time'] = Time\n",
    "    \n",
    "    def ShowFlagExistData(self):\n",
    "        return self.Flag_exist_data\n",
    "    \n",
    "    def GetColumns(self):\n",
    "        return self._columns\n",
    "\n",
    "    def ShowAllDf(self):\n",
    "        print 'AccX : ';print self._RawData['AccX']\n",
    "        print 'AccY : ';print self._RawData['AccY']\n",
    "        print 'AccZ : ';print self._RawData['AccZ']\n",
    "        print 'GyrX : ';print self._RawData['GyrX']\n",
    "        print 'GyrY : ';print self._RawData['GyrY']\n",
    "        print 'GyrZ : ';print self._RawData['GyrZ']\n",
    "        \n",
    "    def _Time2Num(self,time):\n",
    "        return np.where(self._RawData['Time']==np.datetime64(time) )[0][0]\n",
    "    \n",
    "    def ShowQuery(self,Sname,rng=[]):\n",
    "        data = self._RawData[Sname]\n",
    "        print Sname+':'+str( data[rng[0]:rng[1]])\n",
    "            \n",
    "    def _sliding_window(self,Sname,samp, overlap):\n",
    "        count =0\n",
    "        s =self._RawData['Time'][0]\n",
    "        start=self._Time2Num(s)\n",
    "        g = s+np.timedelta64(samp*10,'ms')\n",
    "        goal= self._Time2Num(g)\n",
    "        yield self._RawData[Sname][start:goal]\n",
    "        \n",
    "        add=overlap*0.01\n",
    "        \n",
    "        while True:\n",
    "            try:\n",
    "                count +=1\n",
    "                s =s+np.timedelta64(samp*10,'ms')\n",
    "                start=self._Time2Num(s)\n",
    "                g  =s+np.timedelta64(samp*10,'ms')\n",
    "                goal= self._Time2Num(g)\n",
    "                yield self._RawData[Sname][start:goal]\n",
    "            except StopIteration:\n",
    "                print '_sliding_window StopIteration'\n",
    "                break   \n",
    "            except IndexError:\n",
    "                print '_sliding_window IndexError'\n",
    "                break  \n",
    "                \n",
    "# Fast Frier transaction            \n",
    "    def GetFFT(self,Sfft,samp):\n",
    "        return np.load(p_path+'fft/'+self.ClassName+'_'+Sfft+'_'+str(samp)+'.npz')['arr_0']\n",
    "    \n",
    "    def CalcFFT(self,samp,overlap=0.5):\n",
    "        start = time.time()\n",
    "        fft_data = np.array([])\n",
    "        \n",
    "        for n,f in zip( self._columns,self._fft_col):\n",
    "            print 'start'+n+'->'+f\n",
    "            sw = self._sliding_window(n,samp,overlap)\n",
    "            while True:\n",
    "                try:\n",
    "                    d=sw.next()\n",
    "                    fft_data = np.append(fft_data, fftpack.fft(d)[1:(samp/2)+1] )   # fftの直流成分を除くsample/2の\n",
    "                except StopIteration:\n",
    "                    print 'CalcFFTStopIteration'\n",
    "                    fft_data = fft_data.reshape(len(fft_data)/(samp/2),(samp/2) )\n",
    "                    self._FFTData[f] = fft_data\n",
    "                    np.savez(p_path+'fft/'+self.ClassName+'_'+str(f)+'_'+str(samp),self._FFTData[f])\n",
    "                    break   \n",
    "        elapsed_time = time.time() - start\n",
    "        print (\"elapsed_time:{0}\".format(elapsed_time)) + \"[sec]\"\n",
    "           \n",
    "\n",
    "# Spectol Power \n",
    "    def GetPower(self,Spower,samp):\n",
    "        return np.load(p_path+'power/'+self.ClassName+'_'+Spower+'_'+str(samp)+'.npz')['arr_0']\n",
    "    \n",
    "    def _power(self,fft_array):\n",
    "        p=lambda x,y : np.sqrt(x**2+y**2)\n",
    "        power_array=np.array([])\n",
    "        for vector in fft_array:\n",
    "            tmp = p( np.real(vector),np.imag(vector) )\n",
    "            tmp = tmp/np.sum(tmp)\n",
    "            power_array = np.append(power_array,tmp)\n",
    "        return power_array\n",
    "        \n",
    "    def CalcPower(self,samp,overlap=0.5):\n",
    "        start = time.time()\n",
    "        for fft_name,power_name in zip( self._fft_col, self._power_col):\n",
    "            print 'start'+fft_name+'->'+power_name\n",
    "            fft_data = self.GetFFT(fft_name,samp)\n",
    "            power_data=self._power(fft_data)\n",
    "            np.savez(p_path+'power/'+self.ClassName+'_'+power_name+'_'+str(samp),power_data)\n",
    "        elapsed_time = time.time() - start\n",
    "        print (\"elapsed_time:{0}\".format(elapsed_time)) + \"[sec]\""
   ]
  },
  {
   "cell_type": "code",
   "execution_count": 6,
   "metadata": {
    "collapsed": false
   },
   "outputs": [
    {
     "name": "stdout",
     "output_type": "stream",
     "text": [
      "__class__\n"
     ]
    }
   ],
   "source": [
    "left_hand = SensorData()"
   ]
  },
  {
   "cell_type": "code",
   "execution_count": 21,
   "metadata": {
    "collapsed": true
   },
   "outputs": [],
   "source": [
    "left_hand.ImportCSV('left_hand','Conv-left-hand-ags.csv')"
   ]
  },
  {
   "cell_type": "code",
   "execution_count": 22,
   "metadata": {
    "collapsed": true
   },
   "outputs": [],
   "source": [
    "time = left_hand._RawData['Time']"
   ]
  },
  {
   "cell_type": "code",
   "execution_count": 23,
   "metadata": {
    "collapsed": false
   },
   "outputs": [
    {
     "data": {
      "text/plain": [
       "numpy.ndarray"
      ]
     },
     "execution_count": 23,
     "metadata": {},
     "output_type": "execute_result"
    }
   ],
   "source": [
    "type(time)"
   ]
  },
  {
   "cell_type": "code",
   "execution_count": 31,
   "metadata": {
    "collapsed": false
   },
   "outputs": [
    {
     "data": {
      "text/plain": [
       "(55471,)"
      ]
     },
     "execution_count": 31,
     "metadata": {},
     "output_type": "execute_result"
    }
   ],
   "source": [
    "time.shape"
   ]
  },
  {
   "cell_type": "code",
   "execution_count": 32,
   "metadata": {
    "collapsed": false
   },
   "outputs": [
    {
     "data": {
      "text/plain": [
       "55471"
      ]
     },
     "execution_count": 32,
     "metadata": {},
     "output_type": "execute_result"
    }
   ],
   "source": [
    "len(time)"
   ]
  },
  {
   "cell_type": "code",
   "execution_count": 40,
   "metadata": {
    "collapsed": true
   },
   "outputs": [],
   "source": [
    "def diff(array):\n",
    "    i = 0\n",
    "    while True:\n",
    "        yield array[i+1]-array[i]\n",
    "        i +=1\n",
    "        if (i+1) == len(array):\n",
    "            break\n"
   ]
  },
  {
   "cell_type": "code",
   "execution_count": 37,
   "metadata": {
    "collapsed": true
   },
   "outputs": [],
   "source": [
    "test = diff(time)"
   ]
  },
  {
   "cell_type": "code",
   "execution_count": 41,
   "metadata": {
    "collapsed": false
   },
   "outputs": [],
   "source": [
    "while True:\n",
    "    try:\n",
    "        d = test.next() \n",
    "        if d != np.timedelta64(10,'ms'):\n",
    "            print d \n",
    "    except StopIteration:\n",
    "        break"
   ]
  },
  {
   "cell_type": "code",
   "execution_count": 42,
   "metadata": {
    "collapsed": false
   },
   "outputs": [
    {
     "name": "stdout",
     "output_type": "stream",
     "text": [
      "__class__\n"
     ]
    }
   ],
   "source": [
    "data = SensorData()\n",
    "data.ImportCSV('left_hand','Conv-left-hand-ags.csv')\n",
    "time = data._RawData['Time']\n",
    "\n",
    "test = diff(time)\n",
    "\n",
    "while True:\n",
    "    try:\n",
    "        d = test.next() \n",
    "        if d != np.timedelta64(10,'ms'):\n",
    "            print d \n",
    "    except StopIteration:\n",
    "        break"
   ]
  },
  {
   "cell_type": "code",
   "execution_count": 43,
   "metadata": {
    "collapsed": false
   },
   "outputs": [
    {
     "name": "stdout",
     "output_type": "stream",
     "text": [
      "__class__\n"
     ]
    }
   ],
   "source": [
    "data = SensorData()\n",
    "data.ImportCSV('left_hand','Conv-left-leg-ags.csv')\n",
    "time = data._RawData['Time']\n",
    "\n",
    "test = diff(time)\n",
    "\n",
    "while True:\n",
    "    try:\n",
    "        d = test.next() \n",
    "        if d != np.timedelta64(10,'ms'):\n",
    "            print d \n",
    "    except StopIteration:\n",
    "        break"
   ]
  },
  {
   "cell_type": "code",
   "execution_count": 44,
   "metadata": {
    "collapsed": false
   },
   "outputs": [
    {
     "name": "stdout",
     "output_type": "stream",
     "text": [
      "__class__\n"
     ]
    }
   ],
   "source": [
    "data = SensorData()\n",
    "data.ImportCSV('left_hand','Conv-right-hand-ags.csv')\n",
    "time = data._RawData['Time']\n",
    "\n",
    "test = diff(time)\n",
    "\n",
    "while True:\n",
    "    try:\n",
    "        d = test.next() \n",
    "        if d != np.timedelta64(10,'ms'):\n",
    "            print d \n",
    "    except StopIteration:\n",
    "        break"
   ]
  },
  {
   "cell_type": "code",
   "execution_count": 47,
   "metadata": {
    "collapsed": false
   },
   "outputs": [
    {
     "name": "stdout",
     "output_type": "stream",
     "text": [
      "__class__\n"
     ]
    }
   ],
   "source": [
    "data = SensorData()\n",
    "data.ImportCSV('left_hand','Conv-right-hand-ags.csv')\n",
    "time = data._RawData['Time']\n",
    "\n",
    "test = diff(time)\n",
    "\n",
    "while True:\n",
    "    try:\n",
    "        d = test.next() \n",
    "        if d != np.timedelta64(10,'ms'):\n",
    "            print d \n",
    "    except StopIteration:\n",
    "        break"
   ]
  },
  {
   "cell_type": "code",
   "execution_count": 48,
   "metadata": {
    "collapsed": false
   },
   "outputs": [
    {
     "name": "stdout",
     "output_type": "stream",
     "text": [
      "__class__\n"
     ]
    }
   ],
   "source": [
    "data = SensorData()\n",
    "data.ImportCSV('left_hand','Conv-right-leg-ags.csv')\n",
    "time = data._RawData['Time']\n",
    "\n",
    "test = diff(time)\n",
    "\n",
    "while True:\n",
    "    try:\n",
    "        d = test.next() \n",
    "        if d != np.timedelta64(10,'ms'):\n",
    "            print d \n",
    "    except StopIteration:\n",
    "        break"
   ]
  },
  {
   "cell_type": "code",
   "execution_count": null,
   "metadata": {
    "collapsed": true
   },
   "outputs": [],
   "source": []
  }
 ],
 "metadata": {
  "kernelspec": {
   "display_name": "Python 2",
   "language": "python",
   "name": "python2"
  },
  "language_info": {
   "codemirror_mode": {
    "name": "ipython",
    "version": 2
   },
   "file_extension": ".py",
   "mimetype": "text/x-python",
   "name": "python",
   "nbconvert_exporter": "python",
   "pygments_lexer": "ipython2",
   "version": "2.7.10"
  }
 },
 "nbformat": 4,
 "nbformat_minor": 0
}
