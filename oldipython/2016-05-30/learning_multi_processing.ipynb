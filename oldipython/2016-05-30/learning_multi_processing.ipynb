{
 "cells": [
  {
   "cell_type": "code",
   "execution_count": 13,
   "metadata": {
    "collapsed": true
   },
   "outputs": [],
   "source": [
    "import threading\n",
    "from multiprocessing import Process\n",
    "import multiprocessing as mp\n",
    "import time"
   ]
  },
  {
   "cell_type": "code",
   "execution_count": 2,
   "metadata": {
    "collapsed": true
   },
   "outputs": [],
   "source": [
    "def countDown(n):\n",
    "    while n > 0:\n",
    "        n -= 1\n",
    " \n",
    "class TestThread(threading.Thread):\n",
    "    def __init__(self, n):\n",
    "        threading.Thread.__init__(self)\n",
    "        self._n = n\n",
    "    def run(self):\n",
    "        countDown(self._n)"
   ]
  },
  {
   "cell_type": "code",
   "execution_count": 3,
   "metadata": {
    "collapsed": false
   },
   "outputs": [
    {
     "name": "stdout",
     "output_type": "stream",
     "text": [
      "84.6639738083\n"
     ]
    }
   ],
   "source": [
    "n = int(1e9)\n",
    "n1, n2, n3, n4 = int(n/4), int(n/4), int(n/4), int(n/4)\n",
    " \n",
    " \n",
    "jobs = [TestThread(n1), TestThread(n2), TestThread(n3), TestThread(n4)]\n",
    " \n",
    "start_time = time.time()\n",
    "for j in jobs:\n",
    "    j.start()\n",
    " \n",
    "for j in jobs:\n",
    "    j.join()\n",
    "finish_time = time.time()\n",
    "print(finish_time - start_time)\n"
   ]
  },
  {
   "cell_type": "code",
   "execution_count": 6,
   "metadata": {
    "collapsed": false
   },
   "outputs": [
    {
     "name": "stdout",
     "output_type": "stream",
     "text": [
      "13.0158281326\n"
     ]
    }
   ],
   "source": [
    "def countDown(n):\n",
    "    while n > 0:\n",
    "        n -= 1\n",
    " \n",
    " \n",
    "n = int(1e9)\n",
    "n1, n2, n3, n4 = int(n/4), int(n/4), int(n/4), int(n/4)\n",
    " \n",
    "jobs = [\n",
    "    Process(target=countDown, args=(n1,)),\n",
    "    Process(target=countDown, args=(n2,)),\n",
    "    Process(target=countDown, args=(n3,)),\n",
    "    Process(target=countDown, args=(n4,)),\n",
    "    ]\n",
    " \n",
    "start_time = time.time()\n",
    "for j in jobs:\n",
    "    j.start()\n",
    " \n",
    "for j in jobs:\n",
    "    j.join()\n",
    " \n",
    "finish_time = time.time()\n",
    "print(finish_time - start_time)"
   ]
  },
  {
   "cell_type": "code",
   "execution_count": 14,
   "metadata": {
    "collapsed": false
   },
   "outputs": [
    {
     "name": "stdout",
     "output_type": "stream",
     "text": [
      "39996000100000000\n"
     ]
    }
   ],
   "source": [
    "# http://qiita.com/yubais/items/5a9d91fe03fe715b21d0\n",
    "\n",
    "L = 20000\n",
    "proc = 8    # 8並列とする\n",
    "\n",
    "# 各プロセスが実行する計算\n",
    "def subcalc(p): # p = 0,1,...,7\n",
    "    subtotal = 0\n",
    "\n",
    "    # iの範囲を設定\n",
    "    ini = L * p / proc\n",
    "    fin = L * (p+1) / proc\n",
    "\n",
    "    # 計算を実行\n",
    "    for i in range(ini, fin):\n",
    "        for j in range(L):\n",
    "            subtotal += i * j\n",
    "    return subtotal\n",
    "\n",
    "# 8個のプロセスを用意\n",
    "pool = mp.Pool(proc)\n",
    "\n",
    "# 各プロセスに subcalc(p) を実行させる\n",
    "# ここで p = 0,1,...,7\n",
    "# callbackには各戻り値がlistとして格納される\n",
    "callback = pool.map(subcalc, range(8))\n",
    "\n",
    "# 各戻り値の総和を計算\n",
    "total = sum(callback)\n",
    "\n",
    "print (total)"
   ]
  },
  {
   "cell_type": "markdown",
   "metadata": {},
   "source": [
    "Ipython　データサイエンスクックブック　レシピ5.10　Ipython非同期タスクの操作方法"
   ]
  },
  {
   "cell_type": "code",
   "execution_count": 1,
   "metadata": {
    "collapsed": false
   },
   "outputs": [
    {
     "name": "stderr",
     "output_type": "stream",
     "text": [
      "/home/takeyama/.pyenv/versions/2.7.10/envs/my_workspace/lib/python2.7/site-packages/IPython/parallel.py:13: ShimWarning: The `IPython.parallel` package has been deprecated. You should import from ipyparallel instead.\n",
      "  \"You should import from ipyparallel instead.\", ShimWarning)\n",
      "/home/takeyama/.pyenv/versions/2.7.10/envs/my_workspace/lib/python2.7/site-packages/IPython/html.py:14: ShimWarning: The `IPython.html` package has been deprecated. You should import from `notebook` instead. `IPython.html.widgets` has moved to `ipywidgets`.\n",
      "  \"`IPython.html.widgets` has moved to `ipywidgets`.\", ShimWarning)\n"
     ]
    }
   ],
   "source": [
    "import time\n",
    "import sys\n",
    "from IPython.parallel import  Client\n",
    "from IPython.display import clear_output, display\n",
    "from IPython.html import widgets"
   ]
  },
  {
   "cell_type": "code",
   "execution_count": 3,
   "metadata": {
    "collapsed": false
   },
   "outputs": [],
   "source": [
    "from IPython.parallel import Client\n"
   ]
  },
  {
   "cell_type": "code",
   "execution_count": 5,
   "metadata": {
    "collapsed": false
   },
   "outputs": [],
   "source": [
    "from IPython.html.widgets import FloatProgress\n",
    "from IPython.display import display\n",
    "from time import sleep\n",
    "f = FloatProgress(min=0, max=100)\n",
    "display(f)\n",
    "for i in xrange(100):\n",
    "   sleep(0.1)\n",
    "   f.value = i\n"
   ]
  },
  {
   "cell_type": "code",
   "execution_count": null,
   "metadata": {
    "collapsed": true
   },
   "outputs": [],
   "source": []
  }
 ],
 "metadata": {
  "kernelspec": {
   "display_name": "Python 2",
   "language": "python",
   "name": "python2"
  },
  "language_info": {
   "codemirror_mode": {
    "name": "ipython",
    "version": 2
   },
   "file_extension": ".py",
   "mimetype": "text/x-python",
   "name": "python",
   "nbconvert_exporter": "python",
   "pygments_lexer": "ipython2",
   "version": "2.7.10"
  }
 },
 "nbformat": 4,
 "nbformat_minor": 0
}
