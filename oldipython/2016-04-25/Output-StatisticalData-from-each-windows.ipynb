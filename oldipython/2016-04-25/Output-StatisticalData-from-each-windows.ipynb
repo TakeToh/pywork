{
 "cells": [
  {
   "cell_type": "code",
   "execution_count": 13,
   "metadata": {
    "collapsed": true
   },
   "outputs": [],
   "source": [
    "import numpy as np\n",
    "import matplotlib.pyplot as plt\n",
    "import matplotlib\n",
    "from scipy import fftpack\n",
    "from scipy import signal\n",
    "import numpy as np\n",
    "import pandas as pd\n",
    "import datetime"
   ]
  },
  {
   "cell_type": "code",
   "execution_count": 24,
   "metadata": {
    "collapsed": false
   },
   "outputs": [
    {
     "name": "stdout",
     "output_type": "stream",
     "text": [
      "/home/takeyama/Documents/01_SensorData/2016_04_12/cleaning-addingLABEL\n"
     ]
    }
   ],
   "source": [
    "cd ~/Documents/01_SensorData/2016_04_12/cleaning-addingLABEL/"
   ]
  },
  {
   "cell_type": "code",
   "execution_count": 42,
   "metadata": {
    "collapsed": false
   },
   "outputs": [],
   "source": [
    "left_hand = pd.read_csv('Cleaning-Conv-left-hand-ags.csv',parse_dates=['Time'])\n",
    "#left_hand.Time=pd.to_timedelta(left_hand.Time)\n",
    "left_leg = pd.read_csv('Cleaning-Conv-left-leg-ags.csv',parse_dates=['Time'])\n",
    "#left_leg.Time=pd.to_timedelta(left_leg.Time)\n",
    "right_hand = pd.read_csv('Cleaning-Conv-right-hand-ags.csv',parse_dates=['Time'])\n",
    "#right_hand.Time=pd.to_timedelta(right_hand.Time)\n",
    "right_leg = pd.read_csv('Cleaning-Conv-right-leg-ags.csv',parse_dates=['Time'])\n",
    "#right_leg.Time=pd.to_timedelta(right_leg.Time)\n",
    "west = pd.read_csv('Cleaning-Conv-west-ags.csv',parse_dates=['Time'])\n",
    "#west.Time=pd.to_timedelta(west.Time)"
   ]
  },
  {
   "cell_type": "code",
   "execution_count": 44,
   "metadata": {
    "collapsed": false
   },
   "outputs": [],
   "source": [
    "# labering data -> pandas dateframe\n",
    "# freq -> sampling time [seconds]\n",
    "# overlap -> % to freq\n",
    "def sliding_window(labeling_data,freq, overlap):\n",
    "    count =0\n",
    "    start =labeling_data.Time[0]\n",
    "    goal = start+datetime.timedelta(seconds=freq)\n",
    "    yield labeling_data[(start <= labeling_data.Time) &(labeling_data.Time< goal)]\n",
    "                                                        \n",
    "    count +=1\n",
    "    start =start+datetime.timedelta(seconds=freq*overlap)\n",
    "    goal = start+datetime.timedelta(seconds=freq)\n",
    "    yield labeling_data[(start <= labeling_data.Time) &(labeling_data.Time< goal)]"
   ]
  },
  {
   "cell_type": "code",
   "execution_count": 52,
   "metadata": {
    "collapsed": true
   },
   "outputs": [],
   "source": [
    "left_hand_walking=left_hand[left_hand.label=='walking']"
   ]
  },
  {
   "cell_type": "code",
   "execution_count": 53,
   "metadata": {
    "collapsed": true
   },
   "outputs": [],
   "source": [
    "df=sliding_window(left_hand_walking,1,0.5)"
   ]
  },
  {
   "cell_type": "code",
   "execution_count": 54,
   "metadata": {
    "collapsed": true
   },
   "outputs": [],
   "source": [
    "stack_left_hand_walking=df.next()"
   ]
  },
  {
   "cell_type": "code",
   "execution_count": 58,
   "metadata": {
    "collapsed": false
   },
   "outputs": [],
   "source": [
    "test=stack_left_hand_walking.describe()"
   ]
  },
  {
   "cell_type": "code",
   "execution_count": 59,
   "metadata": {
    "collapsed": true
   },
   "outputs": [],
   "source": [
    "test=pd.concat([test,df.next().describe()])"
   ]
  },
  {
   "cell_type": "code",
   "execution_count": 60,
   "metadata": {
    "collapsed": false
   },
   "outputs": [
    {
     "data": {
      "text/html": [
       "<div>\n",
       "<table border=\"1\" class=\"dataframe\">\n",
       "  <thead>\n",
       "    <tr style=\"text-align: right;\">\n",
       "      <th></th>\n",
       "      <th>AccX</th>\n",
       "      <th>AccY</th>\n",
       "      <th>AccZ</th>\n",
       "      <th>GyrX</th>\n",
       "      <th>GyrY</th>\n",
       "      <th>GyrZ</th>\n",
       "    </tr>\n",
       "  </thead>\n",
       "  <tbody>\n",
       "    <tr>\n",
       "      <th>count</th>\n",
       "      <td>100.000000</td>\n",
       "      <td>100.000000</td>\n",
       "      <td>100.000000</td>\n",
       "      <td>100.000000</td>\n",
       "      <td>100.000000</td>\n",
       "      <td>100.000000</td>\n",
       "    </tr>\n",
       "    <tr>\n",
       "      <th>mean</th>\n",
       "      <td>0.831418</td>\n",
       "      <td>0.556132</td>\n",
       "      <td>0.113156</td>\n",
       "      <td>0.790325</td>\n",
       "      <td>-0.246482</td>\n",
       "      <td>0.487507</td>\n",
       "    </tr>\n",
       "    <tr>\n",
       "      <th>std</th>\n",
       "      <td>0.422143</td>\n",
       "      <td>0.334672</td>\n",
       "      <td>0.114681</td>\n",
       "      <td>2.010896</td>\n",
       "      <td>0.880376</td>\n",
       "      <td>2.426086</td>\n",
       "    </tr>\n",
       "    <tr>\n",
       "      <th>min</th>\n",
       "      <td>0.297900</td>\n",
       "      <td>0.202100</td>\n",
       "      <td>-0.058200</td>\n",
       "      <td>-2.264041</td>\n",
       "      <td>-1.828581</td>\n",
       "      <td>-2.822896</td>\n",
       "    </tr>\n",
       "    <tr>\n",
       "      <th>25%</th>\n",
       "      <td>0.587250</td>\n",
       "      <td>0.309300</td>\n",
       "      <td>-0.015850</td>\n",
       "      <td>-0.868563</td>\n",
       "      <td>-0.805382</td>\n",
       "      <td>-1.350230</td>\n",
       "    </tr>\n",
       "    <tr>\n",
       "      <th>50%</th>\n",
       "      <td>0.746150</td>\n",
       "      <td>0.410300</td>\n",
       "      <td>0.164950</td>\n",
       "      <td>0.995361</td>\n",
       "      <td>-0.511032</td>\n",
       "      <td>-0.160745</td>\n",
       "    </tr>\n",
       "    <tr>\n",
       "      <th>75%</th>\n",
       "      <td>0.964800</td>\n",
       "      <td>0.825175</td>\n",
       "      <td>0.220500</td>\n",
       "      <td>2.242443</td>\n",
       "      <td>0.694423</td>\n",
       "      <td>2.255489</td>\n",
       "    </tr>\n",
       "    <tr>\n",
       "      <th>max</th>\n",
       "      <td>1.933700</td>\n",
       "      <td>1.397100</td>\n",
       "      <td>0.251000</td>\n",
       "      <td>6.307794</td>\n",
       "      <td>1.255939</td>\n",
       "      <td>5.275258</td>\n",
       "    </tr>\n",
       "    <tr>\n",
       "      <th>count</th>\n",
       "      <td>100.000000</td>\n",
       "      <td>100.000000</td>\n",
       "      <td>100.000000</td>\n",
       "      <td>100.000000</td>\n",
       "      <td>100.000000</td>\n",
       "      <td>100.000000</td>\n",
       "    </tr>\n",
       "    <tr>\n",
       "      <th>mean</th>\n",
       "      <td>1.056369</td>\n",
       "      <td>0.413252</td>\n",
       "      <td>0.111114</td>\n",
       "      <td>0.502323</td>\n",
       "      <td>-0.011060</td>\n",
       "      <td>0.665082</td>\n",
       "    </tr>\n",
       "    <tr>\n",
       "      <th>std</th>\n",
       "      <td>0.336033</td>\n",
       "      <td>0.094084</td>\n",
       "      <td>0.107967</td>\n",
       "      <td>1.504843</td>\n",
       "      <td>0.589409</td>\n",
       "      <td>2.292639</td>\n",
       "    </tr>\n",
       "    <tr>\n",
       "      <th>min</th>\n",
       "      <td>0.625600</td>\n",
       "      <td>0.234100</td>\n",
       "      <td>-0.058000</td>\n",
       "      <td>-1.647416</td>\n",
       "      <td>-0.924152</td>\n",
       "      <td>-3.382972</td>\n",
       "    </tr>\n",
       "    <tr>\n",
       "      <th>25%</th>\n",
       "      <td>0.780425</td>\n",
       "      <td>0.342500</td>\n",
       "      <td>0.000650</td>\n",
       "      <td>-1.147423</td>\n",
       "      <td>-0.540223</td>\n",
       "      <td>-0.195302</td>\n",
       "    </tr>\n",
       "    <tr>\n",
       "      <th>50%</th>\n",
       "      <td>0.973000</td>\n",
       "      <td>0.410300</td>\n",
       "      <td>0.124900</td>\n",
       "      <td>0.624042</td>\n",
       "      <td>-0.110218</td>\n",
       "      <td>0.083776</td>\n",
       "    </tr>\n",
       "    <tr>\n",
       "      <th>75%</th>\n",
       "      <td>1.225400</td>\n",
       "      <td>0.476950</td>\n",
       "      <td>0.195900</td>\n",
       "      <td>1.815666</td>\n",
       "      <td>0.607113</td>\n",
       "      <td>1.732239</td>\n",
       "    </tr>\n",
       "    <tr>\n",
       "      <th>max</th>\n",
       "      <td>1.933700</td>\n",
       "      <td>0.598300</td>\n",
       "      <td>0.316200</td>\n",
       "      <td>2.938785</td>\n",
       "      <td>0.947016</td>\n",
       "      <td>5.275258</td>\n",
       "    </tr>\n",
       "  </tbody>\n",
       "</table>\n",
       "</div>"
      ],
      "text/plain": [
       "             AccX        AccY        AccZ        GyrX        GyrY        GyrZ\n",
       "count  100.000000  100.000000  100.000000  100.000000  100.000000  100.000000\n",
       "mean     0.831418    0.556132    0.113156    0.790325   -0.246482    0.487507\n",
       "std      0.422143    0.334672    0.114681    2.010896    0.880376    2.426086\n",
       "min      0.297900    0.202100   -0.058200   -2.264041   -1.828581   -2.822896\n",
       "25%      0.587250    0.309300   -0.015850   -0.868563   -0.805382   -1.350230\n",
       "50%      0.746150    0.410300    0.164950    0.995361   -0.511032   -0.160745\n",
       "75%      0.964800    0.825175    0.220500    2.242443    0.694423    2.255489\n",
       "max      1.933700    1.397100    0.251000    6.307794    1.255939    5.275258\n",
       "count  100.000000  100.000000  100.000000  100.000000  100.000000  100.000000\n",
       "mean     1.056369    0.413252    0.111114    0.502323   -0.011060    0.665082\n",
       "std      0.336033    0.094084    0.107967    1.504843    0.589409    2.292639\n",
       "min      0.625600    0.234100   -0.058000   -1.647416   -0.924152   -3.382972\n",
       "25%      0.780425    0.342500    0.000650   -1.147423   -0.540223   -0.195302\n",
       "50%      0.973000    0.410300    0.124900    0.624042   -0.110218    0.083776\n",
       "75%      1.225400    0.476950    0.195900    1.815666    0.607113    1.732239\n",
       "max      1.933700    0.598300    0.316200    2.938785    0.947016    5.275258"
      ]
     },
     "execution_count": 60,
     "metadata": {},
     "output_type": "execute_result"
    }
   ],
   "source": [
    "test"
   ]
  },
  {
   "cell_type": "code",
   "execution_count": null,
   "metadata": {
    "collapsed": true
   },
   "outputs": [],
   "source": []
  }
 ],
 "metadata": {
  "kernelspec": {
   "display_name": "Python 2",
   "language": "python",
   "name": "python2"
  },
  "language_info": {
   "codemirror_mode": {
    "name": "ipython",
    "version": 2
   },
   "file_extension": ".py",
   "mimetype": "text/x-python",
   "name": "python",
   "nbconvert_exporter": "python",
   "pygments_lexer": "ipython2",
   "version": "2.7.10"
  }
 },
 "nbformat": 4,
 "nbformat_minor": 0
}
