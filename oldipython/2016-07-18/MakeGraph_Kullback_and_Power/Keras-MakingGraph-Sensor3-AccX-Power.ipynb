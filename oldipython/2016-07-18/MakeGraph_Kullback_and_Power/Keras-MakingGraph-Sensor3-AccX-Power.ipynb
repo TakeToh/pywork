{
 "cells": [
  {
   "cell_type": "code",
   "execution_count": 10,
   "metadata": {
    "collapsed": false
   },
   "outputs": [],
   "source": [
    "import numpy as np\n",
    "import pandas as pd\n",
    "from scipy import fftpack\n",
    "from scipy import signal\n",
    "import time\n",
    "import os\n",
    "import matplotlib\n",
    "matplotlib.use('TkAgg')\n",
    "import matplotlib.pyplot as plt\n",
    "import pylab\n",
    "import pickle\n",
    "import copy\n",
    "import processing\n",
    "import matplotlib.animation as animation\n",
    "import datetime\n",
    "import multiprocessing as mp\n",
    "import processing\n",
    "\n",
    "%matplotlib inline"
   ]
  },
  {
   "cell_type": "markdown",
   "metadata": {},
   "source": [
    "共通変数をここに定義"
   ]
  },
  {
   "cell_type": "code",
   "execution_count": 11,
   "metadata": {
    "collapsed": true
   },
   "outputs": [],
   "source": [
    "DataName='sensor3_AccX'\n",
    "SensorName='sensor3'\n",
    "Axis='AccX'\n",
    "SampleNum=16\n",
    "width=3000"
   ]
  },
  {
   "cell_type": "code",
   "execution_count": 12,
   "metadata": {
    "collapsed": false
   },
   "outputs": [],
   "source": [
    "WORKSPACE_PATH = '/home/takeyama/pywork/ipython/2016-07-11'\n",
    "\n",
    "StudyDataPath=WORKSPACE_PATH+'/Study/'+DataName+'/'\n",
    "if not os.path.exists(StudyDataPath): os.makedirs(StudyDataPath)\n",
    "\n",
    "GlaphDataPath=WORKSPACE_PATH+'/Graph/'+DataName+'/power&kullback/'\n",
    "if not os.path.exists(GlaphDataPath): os.makedirs(GlaphDataPath)\n",
    "\n",
    "StudyDataModelPicPath=WORKSPACE_PATH+'/Study/'+DataName+'/modelPic/'\n",
    "if not os.path.exists(StudyDataModelPicPath): os.makedirs(StudyDataModelPicPath)\n",
    "\n",
    "WindowDataPath=WORKSPACE_PATH+'/window/'\n",
    "RawDataPath=WORKSPACE_PATH+'/raw/'"
   ]
  },
  {
   "cell_type": "markdown",
   "metadata": {},
   "source": [
    "すべてのデータを読みdし、グラフ化する"
   ]
  },
  {
   "cell_type": "markdown",
   "metadata": {},
   "source": [
    "並列処理でグラフを作成する"
   ]
  },
  {
   "cell_type": "code",
   "execution_count": null,
   "metadata": {
    "collapsed": false,
    "scrolled": true
   },
   "outputs": [],
   "source": [
    "# define SaveFileName\n",
    "# 8, 4, 12, 16, 32, 64\n",
    "# 32 floats -> compression of factor 24.5, assuming the input is 784 floats\n",
    "\n",
    "def kld(p, q):\n",
    "    \"\"\"Calculates Kullback–Leibler divergence\"\"\"\n",
    "    p = np.array(p)\n",
    "    q = np.array(q)\n",
    "    return np.sum(p * np.log(p / q), axis=(p.ndim - 1))\n",
    " \n",
    "def jsd(p, q):\n",
    "    \"\"\"Calculates Jensen-Shannon Divergence\"\"\"\n",
    "    p = np.array(p)\n",
    "    q = np.array(q)\n",
    "    m = 0.5 * (p + q)\n",
    "    return 0.5 * kld(p, m) + 0.5 * kld(q, m)\n",
    "\n",
    "AllEncoding_dim = [4, 8, 12, 16, 32, 64]  \n",
    "window = processing.LoadDicDataFromFileNPZ(WindowDataPath+SensorName+'_'+Axis+'_train_edim=8.npz')\n",
    "width = 3000\n",
    "fig = plt.figure(figsize=(60,60))\n",
    "ax = fig.add_subplot(511)\n",
    "bx = fig.add_subplot(512)\n",
    "cx = fig.add_subplot(513)\n",
    "dx = fig.add_subplot(514)\n",
    "ex = fig.add_subplot(515)\n",
    "\n",
    "\n",
    "\n",
    "for encoding_dim in AllEncoding_dim:\n",
    "    SaveFileNameDecord=DataName+'_decoded'+'_edim='+str(encoding_dim)\n",
    "    SaveFileNameGraph=GlaphDataPath+ DataName+'_edim='+str(encoding_dim)\n",
    "\n",
    "    reconstructData = processing.LoadDicDataFromFileNPZ(StudyDataPath+SaveFileNameDecord)\n",
    "\n",
    "    # FFT \n",
    "    fftDataE = np.array([])\n",
    "    fftDataD = np.array([])\n",
    "    for i in range(len(window)):\n",
    "            fftDataE=np.append(fftDataE, fftpack.fft( window[i])[1:(SampleNum/2)+1])\n",
    "            fftDataD=np.append(fftDataD, fftpack.fft( reconstructData[i])[1:(SampleNum/2)+1])\n",
    "    fftDataE = fftDataE.reshape(len(fftDataE)/(SampleNum/2),(SampleNum/2))\n",
    "    fftDataD = fftDataD.reshape(len(fftDataD)/(SampleNum/2),(SampleNum/2))\n",
    "    processing.SaveDicDataFromFileNPZ(StudyDataPath, DataName+'_edim='+str(encoding_dim)+'-fft-raw',fftDataE)\n",
    "    processing.SaveDicDataFromFileNPZ(StudyDataPath, DataName+'_edim='+str(encoding_dim)+'-fft-restruct',fftDataD)\n",
    "    \n",
    "    \n",
    "    # Power\n",
    "    PowerDataE = np.imag(fftDataE)**2+np.real(fftDataE)**2\n",
    "    PowerDataD = np.imag(fftDataD)**2+np.real(fftDataD)**2\n",
    "    processing.SaveDicDataFromFileNPZ(StudyDataPath, DataName+'_edim='+str(encoding_dim)+'-power-raw',PowerDataE)\n",
    "    processing.SaveDicDataFromFileNPZ(StudyDataPath, DataName+'_edim='+str(encoding_dim)+'-power-restruct',PowerDataD)\n",
    "    \n",
    "    # to distribution\n",
    "    DistributePowerDataE = np.array([])\n",
    "    DistributePowerDataD = np.array([])\n",
    "\n",
    "    for i in range( PowerDataE.shape[0] ):\n",
    "        DistributePowerDataE = np.append(DistributePowerDataE,PowerDataE[i]/( np.sum(PowerDataE[i]) ))\n",
    "    DistributePowerDataE = DistributePowerDataE.reshape(PowerDataE.shape)\n",
    "    \n",
    "    for i in range( PowerDataD.shape[0] ):\n",
    "        DistributePowerDataD = np.append(DistributePowerDataD,PowerDataD[i]/( np.sum(PowerDataD[i]) ))\n",
    "    DistributePowerDataD = DistributePowerDataD.reshape(PowerDataD.shape)\n",
    "    \n",
    "    # Kullback-leibler-divergence plot\n",
    "    ArrayKLD = np.array([])\n",
    "    for i in range(DistributePowerDataE.shape[0]):\n",
    "        ArrayKLD = np.append(ArrayKLD, kld(DistributePowerDataE[i],DistributePowerDataD[i]))\n",
    "\n",
    "    # FFT plot\n",
    "    for i in range(width,PowerDataE.shape[0],width):\n",
    "        start =i-width \n",
    "        goal=i\n",
    "\n",
    "        dataE = PowerDataE[start:goal,:4]\n",
    "        dataD = PowerDataD[start:goal,:4]\n",
    "        data = ArrayKLD[start:goal]\n",
    "        #dataE,dataDをPower\n",
    "        ax.plot(range(0,len(dataE)),dataE[:,0],'r',label=\"train data No0\")\n",
    "        bx.plot(range(0,len(dataE)),dataE[:,1],'r',label=\"train data No1\")\n",
    "        cx.plot(range(0,len(dataE)),dataE[:,2],'r',label=\"train data No2\")\n",
    "        dx.plot(range(0,len(dataE)),dataE[:,3],'r',label=\"train data No3\")\n",
    "\n",
    "        ax.plot(range(0,len(dataD)),dataD[:,0],'b',label=\"reconstruct No0\")\n",
    "        bx.plot(range(0,len(dataD)),dataD[:,1],'b',label=\"reconstruct No1\")\n",
    "        cx.plot(range(0,len(dataD)),dataD[:,2],'b',label=\"reconstruct No2\")\n",
    "        dx.plot(range(0,len(dataD)),dataD[:,3],'b',label=\"reconstruct No3\")\n",
    "\n",
    "        ex.plot(range(0,len(data)),data,'g',label=\"Kullback\")\n",
    "\n",
    "        ax.legend(loc='best')\n",
    "        ax.set_title(str(start)+\"-\"+str(goal))\n",
    "        \n",
    "        bx.legend(loc='best')\n",
    "        bx.set_title(str(start)+\"-\"+str(goal))\n",
    "        \n",
    "        cx.legend(loc='best')\n",
    "        cx.set_title(str(start)+\"-\"+str(goal))\n",
    "        \n",
    "        dx.legend(loc='best')\n",
    "        dx.set_title(str(start)+\"-\"+str(goal))\n",
    "        \n",
    "        ex.legend(loc='best')\n",
    "        ex.set_title(str(start)+\"-\"+str(goal))\n",
    " \n",
    "        ax.figure.savefig(SaveFileNameGraph+'-'+str(start)+\"-\"+str(goal)+'-'+'No0-3-kld&power'+'-glaph')\n",
    "        \n",
    "        ax.clear()\n",
    "        bx.clear()\n",
    "        cx.clear()\n",
    "        dx.clear()\n",
    "        ex.clear()\n",
    "        print 'Graph range='+str(start)+' : '+str(goal)\n",
    "        time.sleep(3)\n",
    "    \n",
    "    for i in range(width,PowerDataE.shape[0],width):\n",
    "        start =i-width \n",
    "        goal=i\n",
    "\n",
    "        dataE = PowerDataE[start:goal,4:]\n",
    "        dataD = PowerDataD[start:goal,4:]\n",
    "        data = ArrayKLD[start:goal]\n",
    "        #dataE,dataDをPower\n",
    "        ax.plot(range(0,len(dataE)),dataE[:,0],'r',label=\"train data No4\")\n",
    "        bx.plot(range(0,len(dataE)),dataE[:,1],'r',label=\"train data No5\")\n",
    "        cx.plot(range(0,len(dataE)),dataE[:,2],'r',label=\"train data No6\")\n",
    "        dx.plot(range(0,len(dataE)),dataE[:,3],'r',label=\"train data No7\")\n",
    "\n",
    "        ax.plot(range(0,len(dataD)),dataD[:,0],'b',label=\"reconstruct No4\")\n",
    "        bx.plot(range(0,len(dataD)),dataD[:,1],'b',label=\"reconstruct No5\")\n",
    "        cx.plot(range(0,len(dataD)),dataD[:,2],'b',label=\"reconstruct No6\")\n",
    "        dx.plot(range(0,len(dataD)),dataD[:,3],'b',label=\"reconstruct No7\")\n",
    "\n",
    "        ex.plot(range(0,len(data)),data,'g',label=\"Kullback\")\n",
    "\n",
    "        ax.legend(loc='best')\n",
    "        ax.set_title(str(start)+\"-\"+str(goal))\n",
    "        \n",
    "        bx.legend(loc='best')\n",
    "        bx.set_title(str(start)+\"-\"+str(goal))\n",
    "        \n",
    "        cx.legend(loc='best')\n",
    "        cx.set_title(str(start)+\"-\"+str(goal))\n",
    "        \n",
    "        dx.legend(loc='best')\n",
    "        dx.set_title(str(start)+\"-\"+str(goal))\n",
    "        \n",
    "        ex.legend(loc='best')\n",
    "        ex.set_title(str(start)+\"-\"+str(goal))\n",
    " \n",
    "        ax.figure.savefig(SaveFileNameGraph+'-'+str(start)+\"-\"+str(goal)+'-'+'No4-7-kld&power'+'-glaph')\n",
    "        \n",
    "        ax.clear()\n",
    "        bx.clear()\n",
    "        cx.clear()\n",
    "        dx.clear()\n",
    "        ex.clear()\n"
   ]
  },
  {
   "cell_type": "code",
   "execution_count": null,
   "metadata": {
    "collapsed": false
   },
   "outputs": [],
   "source": [
    "window.size"
   ]
  },
  {
   "cell_type": "code",
   "execution_count": null,
   "metadata": {
    "collapsed": false
   },
   "outputs": [],
   "source": []
  },
  {
   "cell_type": "code",
   "execution_count": null,
   "metadata": {
    "collapsed": true
   },
   "outputs": [],
   "source": []
  }
 ],
 "metadata": {
  "kernelspec": {
   "display_name": "Python 2",
   "language": "python",
   "name": "python2"
  },
  "language_info": {
   "codemirror_mode": {
    "name": "ipython",
    "version": 2
   },
   "file_extension": ".py",
   "mimetype": "text/x-python",
   "name": "python",
   "nbconvert_exporter": "python",
   "pygments_lexer": "ipython2",
   "version": "2.7.11"
  }
 },
 "nbformat": 4,
 "nbformat_minor": 0
}
