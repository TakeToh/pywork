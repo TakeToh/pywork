{
 "cells": [
  {
   "cell_type": "markdown",
   "metadata": {},
   "source": [
    "important 変数を個々に定義する"
   ]
  },
  {
   "cell_type": "code",
   "execution_count": 19,
   "metadata": {
    "collapsed": true
   },
   "outputs": [],
   "source": [
    "SensorNum=1 # Sensor number\n",
    "SampleNum=32 # Window Width\n",
    "Overlap=0.5 # overlap\n",
    "width=1000 # graph width \n",
    "EncodingDim=[4,8,12,16,32,64] # number of hidden layer note \n",
    "Axis='AccX' # Axis"
   ]
  },
  {
   "cell_type": "code",
   "execution_count": 20,
   "metadata": {
    "collapsed": false
   },
   "outputs": [],
   "source": [
    "import numpy as np\n",
    "import pandas as pd\n",
    "from scipy import fftpack\n",
    "from scipy import signal\n",
    "import time\n",
    "import os\n",
    "import matplotlib.pyplot as plt\n",
    "import pylab\n",
    "import pickle\n",
    "import copy\n",
    "\n",
    "import processing\n",
    "import window\n",
    "\n",
    "import matplotlib.animation as animation\n",
    "import datetime\n",
    "\n",
    "%matplotlib inline"
   ]
  },
  {
   "cell_type": "code",
   "execution_count": 21,
   "metadata": {
    "collapsed": false
   },
   "outputs": [],
   "source": [
    "from keras.models import Sequential\n",
    "from keras.datasets import cifar10\n",
    "from keras.layers import Dense, Activation, Flatten\n",
    "from keras.optimizers import Adadelta\n",
    "from keras.utils import np_utils\n",
    "from keras.layers.convolutional import Convolution2D, MaxPooling2D\n",
    "from keras.utils.visualize_util import model_to_dot, plot\n",
    "from keras import backend as K\n",
    "from keras.layers import Input, Dense\n",
    "from keras.models import Model\n",
    "from keras.callbacks import EarlyStopping\n",
    "\n",
    "import matplotlib.image as mpimg\n"
   ]
  },
  {
   "cell_type": "code",
   "execution_count": 22,
   "metadata": {
    "collapsed": true
   },
   "outputs": [],
   "source": [
    "DataName='sensor'+str(SensorNum)+'_'+Axis\n",
    "SensorName='sensor'+str(SensorNum)\n",
    "DicName='MemSensor'+str(SensorNum)"
   ]
  },
  {
   "cell_type": "code",
   "execution_count": 23,
   "metadata": {
    "collapsed": false
   },
   "outputs": [],
   "source": [
    "WORKSPACE_PATH = '/home/takeyama/pywork/ipython/2016-07-11'\n",
    "\n",
    "StudyDataPath=WORKSPACE_PATH+'/Study/'+DataName+'/'+'Window='+str(SampleNum)+'-Overlap='+str(Overlap*100)+'/'\n",
    "if not os.path.exists(StudyDataPath): os.makedirs(StudyDataPath)\n",
    "\n",
    "GlaphDataPath=WORKSPACE_PATH+'/Graph/'+DataName+'/Learning-Window='+str(SampleNum)+'-Overlap='+str(Overlap*100)+'/'\n",
    "if not os.path.exists(GlaphDataPath): os.makedirs(GlaphDataPath)\n",
    "\n",
    "StudyDataModelPicPath=WORKSPACE_PATH+'/Study/'+DataName+'/modelPic-Window='+str(SampleNum)+'-Overlap='+str(Overlap*100)+'/'\n",
    "if not os.path.exists(StudyDataModelPicPath): os.makedirs(StudyDataModelPicPath)\n",
    "\n",
    "WindowDataPath=WORKSPACE_PATH+'/window/'\n",
    "RawDataPath=WORKSPACE_PATH+'/raw/'"
   ]
  },
  {
   "cell_type": "markdown",
   "metadata": {},
   "source": [
    "**Phase1 計測データの取得**"
   ]
  },
  {
   "cell_type": "code",
   "execution_count": 24,
   "metadata": {
    "collapsed": false
   },
   "outputs": [],
   "source": [
    "dic=processing.LoadDicDataFromFileNPZ(RawDataPath+DicName)"
   ]
  },
  {
   "cell_type": "markdown",
   "metadata": {},
   "source": [
    "**Phase2 window flame 作成**"
   ]
  },
  {
   "cell_type": "code",
   "execution_count": 25,
   "metadata": {
    "collapsed": false
   },
   "outputs": [
    {
     "name": "stdout",
     "output_type": "stream",
     "text": [
      "AccX is registed now\n",
      "Build Complete\n",
      "(254742,)\n"
     ]
    }
   ],
   "source": [
    "w=window.Window()\n",
    "w.SetData(Axis,dic[Axis])\n",
    "wind=w.Compile(windowWidth=SampleNum,overlap=Overlap)\n",
    "windoW=wind.reshape((len(wind),np.prod(wind.shape[1:])))"
   ]
  },
  {
   "cell_type": "code",
   "execution_count": 26,
   "metadata": {
    "collapsed": false
   },
   "outputs": [
    {
     "data": {
      "text/plain": [
       "(7960, 32)"
      ]
     },
     "execution_count": 26,
     "metadata": {},
     "output_type": "execute_result"
    }
   ],
   "source": [
    "windoW.shape"
   ]
  },
  {
   "cell_type": "markdown",
   "metadata": {},
   "source": [
    "**前回やった学習をもう１度やってみる**"
   ]
  },
  {
   "cell_type": "code",
   "execution_count": 27,
   "metadata": {
    "collapsed": false,
    "scrolled": true
   },
   "outputs": [
    {
     "name": "stdout",
     "output_type": "stream",
     "text": [
      "Train on 7960 samples, validate on 7960 samples\n",
      "Epoch 1/50\n",
      "7960/7960 [==============================] - 1s - loss: 0.1888 - val_loss: 0.0172\n",
      "Epoch 2/50\n",
      "7960/7960 [==============================] - 1s - loss: 0.0118 - val_loss: 0.0086\n",
      "Epoch 3/50\n",
      "7960/7960 [==============================] - 1s - loss: 0.0074 - val_loss: 0.0063\n",
      "Epoch 4/50\n",
      "7960/7960 [==============================] - 1s - loss: 0.0057 - val_loss: 0.0052\n",
      "Epoch 5/50\n",
      "7960/7960 [==============================] - 1s - loss: 0.0047 - val_loss: 0.0043\n",
      "Epoch 6/50\n",
      "7960/7960 [==============================] - 1s - loss: 0.0040 - val_loss: 0.0037\n",
      "Epoch 7/50\n",
      "7960/7960 [==============================] - 1s - loss: 0.0035 - val_loss: 0.0033\n",
      "Epoch 8/50\n",
      "7960/7960 [==============================] - 1s - loss: 0.0031 - val_loss: 0.0029\n",
      "Epoch 9/50\n",
      "7960/7960 [==============================] - 1s - loss: 0.0027 - val_loss: 0.0025\n",
      "Epoch 10/50\n",
      "7960/7960 [==============================] - 1s - loss: 0.0024 - val_loss: 0.0023\n",
      "Epoch 11/50\n",
      "7960/7960 [==============================] - 1s - loss: 0.0021 - val_loss: 0.0019\n",
      "Epoch 12/50\n",
      "7960/7960 [==============================] - 1s - loss: 0.0019 - val_loss: 0.0017\n",
      "Epoch 13/50\n",
      "7960/7960 [==============================] - 1s - loss: 0.0017 - val_loss: 0.0015\n",
      "Epoch 14/50\n",
      "7960/7960 [==============================] - 1s - loss: 0.0016 - val_loss: 0.0016\n",
      "Epoch 15/50\n",
      "7960/7960 [==============================] - 1s - loss: 0.0015 - val_loss: 0.0013\n",
      "Epoch 16/50\n",
      "7960/7960 [==============================] - 1s - loss: 0.0014 - val_loss: 0.0013\n",
      "Epoch 17/50\n",
      "7960/7960 [==============================] - 1s - loss: 0.0013 - val_loss: 0.0012\n",
      "Epoch 18/50\n",
      "7960/7960 [==============================] - 1s - loss: 0.0013 - val_loss: 0.0014\n",
      "Epoch 19/50\n",
      "7960/7960 [==============================] - 1s - loss: 0.0012 - val_loss: 0.0011\n",
      "Epoch 20/50\n",
      "7960/7960 [==============================] - 1s - loss: 0.0012 - val_loss: 0.0011\n",
      "Epoch 21/50\n",
      "7960/7960 [==============================] - 1s - loss: 0.0011 - val_loss: 0.0010\n",
      "Epoch 22/50\n",
      "7960/7960 [==============================] - 1s - loss: 0.0011 - val_loss: 0.0010\n",
      "Epoch 23/50\n",
      "7960/7960 [==============================] - 1s - loss: 0.0011 - val_loss: 0.0010\n",
      "Epoch 24/50\n",
      "7960/7960 [==============================] - 1s - loss: 0.0010 - val_loss: 9.3263e-04\n",
      "Epoch 25/50\n",
      "7960/7960 [==============================] - 1s - loss: 9.9836e-04 - val_loss: 8.8571e-04\n",
      "Epoch 26/50\n",
      "7960/7960 [==============================] - 1s - loss: 9.7087e-04 - val_loss: 8.5434e-04\n",
      "Epoch 27/50\n",
      "7960/7960 [==============================] - 1s - loss: 9.5119e-04 - val_loss: 8.1820e-04\n",
      "Epoch 28/50\n",
      "7960/7960 [==============================] - 1s - loss: 9.0230e-04 - val_loss: 0.0014\n",
      "Epoch 29/50\n",
      "7960/7960 [==============================] - 1s - loss: 8.7909e-04 - val_loss: 7.6500e-04\n",
      "Epoch 30/50\n",
      "7960/7960 [==============================] - 1s - loss: 8.4264e-04 - val_loss: 8.5231e-04\n",
      "Epoch 31/50\n",
      "7960/7960 [==============================] - 1s - loss: 8.3673e-04 - val_loss: 8.0933e-04\n",
      "Epoch 32/50\n",
      "7960/7960 [==============================] - 1s - loss: 7.9014e-04 - val_loss: 6.6707e-04\n",
      "Epoch 33/50\n",
      "7960/7960 [==============================] - 1s - loss: 7.6517e-04 - val_loss: 7.2011e-04\n",
      "Epoch 34/50\n",
      "7960/7960 [==============================] - 1s - loss: 7.3279e-04 - val_loss: 6.1468e-04\n",
      "Epoch 35/50\n",
      "7960/7960 [==============================] - 1s - loss: 7.4496e-04 - val_loss: 6.5267e-04\n",
      "Epoch 36/50\n",
      "7960/7960 [==============================] - 1s - loss: 6.9716e-04 - val_loss: 5.8832e-04\n",
      "Epoch 37/50\n",
      "7960/7960 [==============================] - 1s - loss: 6.8865e-04 - val_loss: 6.9648e-04\n",
      "Epoch 38/50\n",
      "7960/7960 [==============================] - 1s - loss: 6.5351e-04 - val_loss: 5.3340e-04\n",
      "Epoch 39/50\n",
      "7960/7960 [==============================] - 1s - loss: 6.2680e-04 - val_loss: 5.0565e-04\n",
      "Epoch 40/50\n",
      "7960/7960 [==============================] - 1s - loss: 6.2590e-04 - val_loss: 0.0021\n",
      "Epoch 41/50\n",
      "7960/7960 [==============================] - 1s - loss: 5.9195e-04 - val_loss: 4.7034e-04\n",
      "Epoch 42/50\n",
      "7960/7960 [==============================] - 1s - loss: 5.8759e-04 - val_loss: 8.6393e-04\n",
      "Epoch 43/50\n",
      "7960/7960 [==============================] - 1s - loss: 5.7347e-04 - val_loss: 4.4967e-04\n",
      "Epoch 44/50\n",
      "7960/7960 [==============================] - 1s - loss: 5.6126e-04 - val_loss: 5.8475e-04\n",
      "Epoch 45/50\n",
      "7960/7960 [==============================] - 1s - loss: 5.5704e-04 - val_loss: 4.1621e-04\n",
      "Epoch 46/50\n",
      "7960/7960 [==============================] - 1s - loss: 5.2594e-04 - val_loss: 4.0563e-04\n",
      "Epoch 47/50\n",
      "7960/7960 [==============================] - 1s - loss: 5.1268e-04 - val_loss: 4.0990e-04\n",
      "Epoch 48/50\n",
      "7960/7960 [==============================] - 1s - loss: 5.0792e-04 - val_loss: 4.1603e-04\n",
      "Epoch 49/50\n",
      "7960/7960 [==============================] - 1s - loss: 4.9933e-04 - val_loss: 4.6026e-04\n"
     ]
    },
    {
     "data": {
      "image/png": "[encoded data removed]",
      "text/plain": [
       "<matplotlib.figure.Figure at 0x7f1394331290>"
      ]
     },
     "metadata": {},
     "output_type": "display_data"
    },
    {
     "name": "stdout",
     "output_type": "stream",
     "text": [
      "Train on 7960 samples, validate on 7960 samples\n",
      "Epoch 1/50\n",
      "7960/7960 [==============================] - 0s - loss: 0.1207 - val_loss: 0.0098\n",
      "Epoch 2/50\n",
      "7960/7960 [==============================] - 1s - loss: 0.0071 - val_loss: 0.0057\n",
      "Epoch 3/50\n",
      "7960/7960 [==============================] - 1s - loss: 0.0048 - val_loss: 0.0042\n",
      "Epoch 4/50\n",
      "7960/7960 [==============================] - 1s - loss: 0.0039 - val_loss: 0.0045\n",
      "Epoch 5/50\n",
      "7960/7960 [==============================] - 1s - loss: 0.0033 - val_loss: 0.0030\n",
      "Epoch 6/50\n",
      "7960/7960 [==============================] - 1s - loss: 0.0028 - val_loss: 0.0025\n",
      "Epoch 7/50\n",
      "7960/7960 [==============================] - 1s - loss: 0.0024 - val_loss: 0.0021\n",
      "Epoch 8/50\n",
      "7960/7960 [==============================] - 1s - loss: 0.0020 - val_loss: 0.0017\n",
      "Epoch 9/50\n",
      "7960/7960 [==============================] - 1s - loss: 0.0017 - val_loss: 0.0015\n",
      "Epoch 10/50\n",
      "7960/7960 [==============================] - 1s - loss: 0.0015 - val_loss: 0.0013\n",
      "Epoch 11/50\n",
      "7960/7960 [==============================] - 1s - loss: 0.0013 - val_loss: 0.0012\n",
      "Epoch 12/50\n",
      "7960/7960 [==============================] - 1s - loss: 0.0012 - val_loss: 9.8852e-04\n",
      "Epoch 13/50\n",
      "7960/7960 [==============================] - 0s - loss: 0.0011 - val_loss: 9.2613e-04\n",
      "Epoch 14/50\n",
      "7960/7960 [==============================] - 1s - loss: 0.0010 - val_loss: 0.0011\n",
      "Epoch 15/50\n",
      "7960/7960 [==============================] - 1s - loss: 9.4921e-04 - val_loss: 7.7487e-04\n",
      "Epoch 16/50\n",
      "7960/7960 [==============================] - 1s - loss: 9.0195e-04 - val_loss: 7.6862e-04\n",
      "Epoch 17/50\n",
      "7960/7960 [==============================] - 0s - loss: 8.5111e-04 - val_loss: 8.1680e-04\n",
      "Epoch 18/50\n",
      "7960/7960 [==============================] - 1s - loss: 8.2675e-04 - val_loss: 0.0019\n",
      "Epoch 19/50\n",
      "7960/7960 [==============================] - 0s - loss: 7.7438e-04 - val_loss: 6.2278e-04\n",
      "Epoch 20/50\n",
      "7960/7960 [==============================] - 1s - loss: 7.4901e-04 - val_loss: 6.3103e-04\n",
      "Epoch 21/50\n",
      "7960/7960 [==============================] - 1s - loss: 7.1686e-04 - val_loss: 5.4887e-04\n",
      "Epoch 22/50\n",
      "7960/7960 [==============================] - 1s - loss: 7.5343e-04 - val_loss: 5.3508e-04\n",
      "Epoch 23/50\n",
      "7960/7960 [==============================] - 1s - loss: 6.9275e-04 - val_loss: 5.2026e-04\n",
      "Epoch 24/50\n",
      "7960/7960 [==============================] - 1s - loss: 6.5334e-04 - val_loss: 4.9964e-04\n",
      "Epoch 25/50\n",
      "7960/7960 [==============================] - 0s - loss: 6.5315e-04 - val_loss: 5.0305e-04\n",
      "Epoch 26/50\n",
      "7960/7960 [==============================] - 1s - loss: 6.7297e-04 - val_loss: 5.3598e-04\n",
      "Epoch 27/50\n",
      "7960/7960 [==============================] - 1s - loss: 6.5879e-04 - val_loss: 4.8485e-04\n",
      "Epoch 28/50\n",
      "7960/7960 [==============================] - 1s - loss: 6.1782e-04 - val_loss: 4.9066e-04\n",
      "Epoch 29/50\n",
      "7960/7960 [==============================] - 1s - loss: 6.3040e-04 - val_loss: 4.9083e-04\n",
      "Epoch 30/50\n",
      "7960/7960 [==============================] - 1s - loss: 6.1283e-04 - val_loss: 8.7843e-04\n"
     ]
    },
    {
     "data": {
      "image/png": "[encoded data removed]",
      "text/plain": [
       "<matplotlib.figure.Figure at 0x7f139620f450>"
      ]
     },
     "metadata": {},
     "output_type": "display_data"
    },
    {
     "name": "stdout",
     "output_type": "stream",
     "text": [
      "Train on 7960 samples, validate on 7960 samples\n",
      "Epoch 1/50\n",
      "7960/7960 [==============================] - 0s - loss: 0.1195 - val_loss: 0.0078\n",
      "Epoch 2/50\n",
      "7960/7960 [==============================] - 0s - loss: 0.0057 - val_loss: 0.0043\n",
      "Epoch 3/50\n",
      "7960/7960 [==============================] - 0s - loss: 0.0037 - val_loss: 0.0031\n",
      "Epoch 4/50\n",
      "7960/7960 [==============================] - 1s - loss: 0.0027 - val_loss: 0.0023\n",
      "Epoch 5/50\n",
      "7960/7960 [==============================] - 1s - loss: 0.0022 - val_loss: 0.0018\n",
      "Epoch 6/50\n",
      "7960/7960 [==============================] - 1s - loss: 0.0018 - val_loss: 0.0016\n",
      "Epoch 7/50\n",
      "7960/7960 [==============================] - 1s - loss: 0.0015 - val_loss: 0.0013\n",
      "Epoch 8/50\n",
      "7960/7960 [==============================] - 1s - loss: 0.0014 - val_loss: 0.0011\n",
      "Epoch 9/50\n",
      "7960/7960 [==============================] - 1s - loss: 0.0012 - val_loss: 0.0015\n",
      "Epoch 10/50\n",
      "7960/7960 [==============================] - 1s - loss: 0.0012 - val_loss: 9.8738e-04\n",
      "Epoch 11/50\n",
      "7960/7960 [==============================] - 1s - loss: 0.0011 - val_loss: 9.1346e-04\n",
      "Epoch 12/50\n",
      "7960/7960 [==============================] - 0s - loss: 9.6294e-04 - val_loss: 8.8712e-04\n",
      "Epoch 13/50\n",
      "7960/7960 [==============================] - 1s - loss: 9.3834e-04 - val_loss: 8.3153e-04\n",
      "Epoch 14/50\n",
      "7960/7960 [==============================] - 1s - loss: 8.6959e-04 - val_loss: 7.4651e-04\n",
      "Epoch 15/50\n",
      "7960/7960 [==============================] - 1s - loss: 8.2911e-04 - val_loss: 6.1507e-04\n",
      "Epoch 16/50\n",
      "7960/7960 [==============================] - 1s - loss: 7.9392e-04 - val_loss: 6.0622e-04\n",
      "Epoch 17/50\n",
      "7960/7960 [==============================] - 1s - loss: 7.4656e-04 - val_loss: 5.4750e-04\n",
      "Epoch 18/50\n",
      "7960/7960 [==============================] - 1s - loss: 7.1810e-04 - val_loss: 5.3083e-04\n",
      "Epoch 19/50\n",
      "7960/7960 [==============================] - 0s - loss: 6.7072e-04 - val_loss: 5.7356e-04\n",
      "Epoch 20/50\n",
      "7960/7960 [==============================] - 1s - loss: 6.8323e-04 - val_loss: 6.1802e-04\n",
      "Epoch 21/50\n",
      "7960/7960 [==============================] - 0s - loss: 6.8712e-04 - val_loss: 4.8503e-04\n",
      "Epoch 22/50\n",
      "7960/7960 [==============================] - 0s - loss: 6.7168e-04 - val_loss: 4.9870e-04\n",
      "Epoch 23/50\n",
      "7960/7960 [==============================] - 0s - loss: 6.2294e-04 - val_loss: 4.4947e-04\n",
      "Epoch 24/50\n",
      "7960/7960 [==============================] - 1s - loss: 6.7459e-04 - val_loss: 0.0019\n",
      "Epoch 25/50\n",
      "7960/7960 [==============================] - 1s - loss: 6.1308e-04 - val_loss: 4.0738e-04\n",
      "Epoch 26/50\n",
      "7960/7960 [==============================] - 1s - loss: 6.0605e-04 - val_loss: 4.9715e-04\n",
      "Epoch 27/50\n",
      "7960/7960 [==============================] - 1s - loss: 5.8931e-04 - val_loss: 5.6408e-04\n",
      "Epoch 28/50\n",
      "7960/7960 [==============================] - 1s - loss: 6.1221e-04 - val_loss: 4.1066e-04\n"
     ]
    },
    {
     "data": {
      "image/png": "[encoded data removed]",
      "text/plain": [
       "<matplotlib.figure.Figure at 0x7f138e392e90>"
      ]
     },
     "metadata": {},
     "output_type": "display_data"
    },
    {
     "name": "stdout",
     "output_type": "stream",
     "text": [
      "Train on 7960 samples, validate on 7960 samples\n",
      "Epoch 1/50\n",
      "7960/7960 [==============================] - 0s - loss: 0.0671 - val_loss: 0.0060\n",
      "Epoch 2/50\n",
      "7960/7960 [==============================] - 0s - loss: 0.0047 - val_loss: 0.0037\n",
      "Epoch 3/50\n",
      "7960/7960 [==============================] - 0s - loss: 0.0032 - val_loss: 0.0027\n",
      "Epoch 4/50\n",
      "7960/7960 [==============================] - 1s - loss: 0.0023 - val_loss: 0.0019\n",
      "Epoch 5/50\n",
      "7960/7960 [==============================] - 1s - loss: 0.0018 - val_loss: 0.0018\n",
      "Epoch 6/50\n",
      "7960/7960 [==============================] - 1s - loss: 0.0014 - val_loss: 0.0014\n",
      "Epoch 7/50\n",
      "7960/7960 [==============================] - 1s - loss: 0.0012 - val_loss: 0.0048\n",
      "Epoch 8/50\n",
      "7960/7960 [==============================] - 1s - loss: 0.0011 - val_loss: 9.0834e-04\n",
      "Epoch 9/50\n",
      "7960/7960 [==============================] - 1s - loss: 9.8479e-04 - val_loss: 7.8789e-04\n",
      "Epoch 10/50\n",
      "7960/7960 [==============================] - 1s - loss: 9.0559e-04 - val_loss: 7.4808e-04\n",
      "Epoch 11/50\n",
      "7960/7960 [==============================] - 1s - loss: 8.6039e-04 - val_loss: 6.6227e-04\n",
      "Epoch 12/50\n",
      "7960/7960 [==============================] - 1s - loss: 8.1651e-04 - val_loss: 6.5408e-04\n",
      "Epoch 13/50\n",
      "7960/7960 [==============================] - 1s - loss: 7.7576e-04 - val_loss: 6.0329e-04\n",
      "Epoch 14/50\n",
      "7960/7960 [==============================] - 1s - loss: 7.6797e-04 - val_loss: 7.3930e-04\n",
      "Epoch 15/50\n",
      "7960/7960 [==============================] - 1s - loss: 7.1825e-04 - val_loss: 5.1160e-04\n",
      "Epoch 16/50\n",
      "7960/7960 [==============================] - 1s - loss: 7.0429e-04 - val_loss: 5.7485e-04\n",
      "Epoch 17/50\n",
      "7960/7960 [==============================] - 1s - loss: 7.0276e-04 - val_loss: 5.3085e-04\n",
      "Epoch 18/50\n",
      "7960/7960 [==============================] - 1s - loss: 6.9523e-04 - val_loss: 4.5702e-04\n",
      "Epoch 19/50\n",
      "7960/7960 [==============================] - 1s - loss: 6.3579e-04 - val_loss: 5.7468e-04\n",
      "Epoch 20/50\n",
      "7960/7960 [==============================] - 1s - loss: 6.6425e-04 - val_loss: 4.2319e-04\n",
      "Epoch 21/50\n",
      "7960/7960 [==============================] - 1s - loss: 6.3124e-04 - val_loss: 4.1554e-04\n",
      "Epoch 22/50\n",
      "7960/7960 [==============================] - 1s - loss: 6.4193e-04 - val_loss: 4.5017e-04\n",
      "Epoch 23/50\n",
      "7960/7960 [==============================] - 1s - loss: 5.8375e-04 - val_loss: 4.3131e-04\n",
      "Epoch 24/50\n",
      "7960/7960 [==============================] - 1s - loss: 6.1435e-04 - val_loss: 3.7340e-04\n",
      "Epoch 25/50\n",
      "7960/7960 [==============================] - 1s - loss: 6.2351e-04 - val_loss: 4.3123e-04\n",
      "Epoch 26/50\n",
      "7960/7960 [==============================] - 1s - loss: 5.6498e-04 - val_loss: 6.1848e-04\n",
      "Epoch 27/50\n",
      "7960/7960 [==============================] - 1s - loss: 5.8992e-04 - val_loss: 9.6720e-04\n"
     ]
    },
    {
     "data": {
      "image/png": "[encoded data removed]",
      "text/plain": [
       "<matplotlib.figure.Figure at 0x7f13961f6710>"
      ]
     },
     "metadata": {},
     "output_type": "display_data"
    },
    {
     "name": "stdout",
     "output_type": "stream",
     "text": [
      "Train on 7960 samples, validate on 7960 samples\n",
      "Epoch 1/50\n",
      "7960/7960 [==============================] - 1s - loss: 0.0474 - val_loss: 0.0036\n",
      "Epoch 2/50\n",
      "7960/7960 [==============================] - 0s - loss: 0.0027 - val_loss: 0.0020\n",
      "Epoch 3/50\n",
      "7960/7960 [==============================] - 1s - loss: 0.0017 - val_loss: 0.0012\n",
      "Epoch 4/50\n",
      "7960/7960 [==============================] - 0s - loss: 0.0013 - val_loss: 0.0012\n",
      "Epoch 5/50\n",
      "7960/7960 [==============================] - 1s - loss: 0.0011 - val_loss: 8.0646e-04\n",
      "Epoch 6/50\n",
      "7960/7960 [==============================] - 1s - loss: 9.1768e-04 - val_loss: 0.0013\n",
      "Epoch 7/50\n",
      "7960/7960 [==============================] - 1s - loss: 8.3873e-04 - val_loss: 6.2324e-04\n",
      "Epoch 8/50\n",
      "7960/7960 [==============================] - 1s - loss: 8.1673e-04 - val_loss: 5.7407e-04\n",
      "Epoch 9/50\n",
      "7960/7960 [==============================] - 1s - loss: 7.3328e-04 - val_loss: 6.8452e-04\n",
      "Epoch 10/50\n",
      "7960/7960 [==============================] - 1s - loss: 6.8904e-04 - val_loss: 0.0029\n",
      "Epoch 11/50\n",
      "7960/7960 [==============================] - 1s - loss: 6.8944e-04 - val_loss: 4.1478e-04\n",
      "Epoch 12/50\n",
      "7960/7960 [==============================] - 1s - loss: 6.7473e-04 - val_loss: 7.9432e-04\n",
      "Epoch 13/50\n",
      "7960/7960 [==============================] - 1s - loss: 6.6253e-04 - val_loss: 4.1340e-04\n",
      "Epoch 14/50\n",
      "7960/7960 [==============================] - 1s - loss: 6.5365e-04 - val_loss: 0.0012\n",
      "Epoch 15/50\n",
      "7960/7960 [==============================] - 1s - loss: 6.1353e-04 - val_loss: 4.1046e-04\n",
      "Epoch 16/50\n",
      "7960/7960 [==============================] - 1s - loss: 6.4002e-04 - val_loss: 3.8510e-04\n",
      "Epoch 17/50\n",
      "7960/7960 [==============================] - 1s - loss: 5.9944e-04 - val_loss: 0.0012\n",
      "Epoch 18/50\n",
      "7960/7960 [==============================] - 1s - loss: 6.8197e-04 - val_loss: 0.0013\n",
      "Epoch 19/50\n",
      "7960/7960 [==============================] - 1s - loss: 6.1021e-04 - val_loss: 3.7081e-04\n",
      "Epoch 20/50\n",
      "7960/7960 [==============================] - 1s - loss: 6.1372e-04 - val_loss: 3.6320e-04\n",
      "Epoch 21/50\n",
      "7960/7960 [==============================] - 1s - loss: 6.2170e-04 - val_loss: 3.0303e-04\n",
      "Epoch 22/50\n",
      "7960/7960 [==============================] - 1s - loss: 5.5998e-04 - val_loss: 4.2710e-04\n",
      "Epoch 23/50\n",
      "7960/7960 [==============================] - 1s - loss: 5.7148e-04 - val_loss: 5.5799e-04\n",
      "Epoch 24/50\n",
      "7960/7960 [==============================] - 1s - loss: 5.6874e-04 - val_loss: 3.0155e-04\n",
      "Epoch 25/50\n",
      "7960/7960 [==============================] - 1s - loss: 6.4999e-04 - val_loss: 3.1357e-04\n",
      "Epoch 26/50\n",
      "7960/7960 [==============================] - 1s - loss: 4.9465e-04 - val_loss: 7.5366e-04\n",
      "Epoch 27/50\n",
      "7960/7960 [==============================] - 1s - loss: 5.5293e-04 - val_loss: 2.9638e-04\n",
      "Epoch 28/50\n",
      "7960/7960 [==============================] - 1s - loss: 5.6998e-04 - val_loss: 7.1281e-04\n",
      "Epoch 29/50\n",
      "7960/7960 [==============================] - 1s - loss: 5.5295e-04 - val_loss: 2.8669e-04\n",
      "Epoch 30/50\n",
      "7960/7960 [==============================] - 1s - loss: 5.2855e-04 - val_loss: 2.8992e-04\n",
      "Epoch 31/50\n",
      "7960/7960 [==============================] - 1s - loss: 5.4598e-04 - val_loss: 5.5156e-04\n",
      "Epoch 32/50\n",
      "7960/7960 [==============================] - 1s - loss: 5.4844e-04 - val_loss: 6.0134e-04\n"
     ]
    },
    {
     "data": {
      "image/png": "[encoded data removed]",
      "text/plain": [
       "<matplotlib.figure.Figure at 0x7f13e4892850>"
      ]
     },
     "metadata": {},
     "output_type": "display_data"
    },
    {
     "name": "stdout",
     "output_type": "stream",
     "text": [
      "Train on 7960 samples, validate on 7960 samples\n",
      "Epoch 1/50\n",
      "7960/7960 [==============================] - 0s - loss: 0.0276 - val_loss: 0.0023\n",
      "Epoch 2/50\n",
      "7960/7960 [==============================] - 1s - loss: 0.0016 - val_loss: 9.7750e-04\n",
      "Epoch 3/50\n",
      "7960/7960 [==============================] - 1s - loss: 9.9102e-04 - val_loss: 0.0010\n",
      "Epoch 4/50\n",
      "7960/7960 [==============================] - 0s - loss: 8.4416e-04 - val_loss: 5.3911e-04\n",
      "Epoch 5/50\n",
      "7960/7960 [==============================] - 0s - loss: 7.9430e-04 - val_loss: 9.7439e-04\n",
      "Epoch 6/50\n",
      "7960/7960 [==============================] - 1s - loss: 7.2949e-04 - val_loss: 4.7437e-04\n",
      "Epoch 7/50\n",
      "7960/7960 [==============================] - 1s - loss: 7.4976e-04 - val_loss: 4.0834e-04\n",
      "Epoch 8/50\n",
      "7960/7960 [==============================] - 1s - loss: 7.1877e-04 - val_loss: 7.4916e-04\n",
      "Epoch 9/50\n",
      "7960/7960 [==============================] - 0s - loss: 7.5669e-04 - val_loss: 6.3418e-04\n",
      "Epoch 10/50\n",
      "7960/7960 [==============================] - 1s - loss: 7.3516e-04 - val_loss: 3.6398e-04\n",
      "Epoch 11/50\n",
      "7960/7960 [==============================] - 0s - loss: 6.3507e-04 - val_loss: 3.0660e-04\n",
      "Epoch 12/50\n",
      "7960/7960 [==============================] - 1s - loss: 5.9268e-04 - val_loss: 3.9542e-04\n",
      "Epoch 13/50\n",
      "7960/7960 [==============================] - 1s - loss: 6.4531e-04 - val_loss: 3.0162e-04\n",
      "Epoch 14/50\n",
      "7960/7960 [==============================] - 0s - loss: 7.0719e-04 - val_loss: 4.1137e-04\n",
      "Epoch 15/50\n",
      "7960/7960 [==============================] - 1s - loss: 6.0458e-04 - val_loss: 6.3574e-04\n",
      "Epoch 16/50\n",
      "7960/7960 [==============================] - 1s - loss: 6.1063e-04 - val_loss: 2.6728e-04\n",
      "Epoch 17/50\n",
      "7960/7960 [==============================] - 1s - loss: 5.7008e-04 - val_loss: 2.1605e-04\n",
      "Epoch 18/50\n",
      "7960/7960 [==============================] - 1s - loss: 6.0389e-04 - val_loss: 1.9489e-04\n",
      "Epoch 19/50\n",
      "7960/7960 [==============================] - 1s - loss: 5.5488e-04 - val_loss: 0.0018\n",
      "Epoch 20/50\n",
      "7960/7960 [==============================] - 1s - loss: 6.0699e-04 - val_loss: 1.8558e-04\n",
      "Epoch 21/50\n",
      "7960/7960 [==============================] - 1s - loss: 4.9902e-04 - val_loss: 8.3185e-04\n",
      "Epoch 22/50\n",
      "7960/7960 [==============================] - 1s - loss: 5.5382e-04 - val_loss: 4.0914e-04\n",
      "Epoch 23/50\n",
      "7960/7960 [==============================] - 1s - loss: 5.5212e-04 - val_loss: 2.3117e-04\n"
     ]
    },
    {
     "data": {
      "image/png": "[encoded data removed]",
      "text/plain": [
       "<matplotlib.figure.Figure at 0x7f138eb2f410>"
      ]
     },
     "metadata": {},
     "output_type": "display_data"
    }
   ],
   "source": [
    "# define SaveFileName\n",
    "for encoding_dim in EncodingDim:\n",
    "    SaveFileNameEncord=DataName+'_encoded'+'_edim='+str(encoding_dim)+'-Window='+str(SampleNum)+'-Overlap='+str(Overlap*100)\n",
    "    SaveFileNameDecord=DataName+'_decoded'+'_edim='+str(encoding_dim)+'-Window='+str(SampleNum)+'-Overlap='+str(Overlap*100)\n",
    "    SaveFileNameNet=DataName+'_net'+'_edim='+str(encoding_dim)+'-Window='+str(SampleNum)+'-Overlap='+str(Overlap*100)\n",
    "    SaveFileNameTrain=DataName+'_train'+'_edim='+str(encoding_dim)+'-Window='+str(SampleNum)+'-Overlap='+str(Overlap*100)\n",
    "    SaveFileNameTest=DataName+'_test'+'_edim='+str(encoding_dim)+'-Window='+str(SampleNum)+'-Overlap='+str(Overlap*100)\n",
    "    SaveFileNameGlaph=GlaphDataPath+DataName+'_edim='+str(encoding_dim)+'-Window='+str(SampleNum)+'-Overlap='+str(Overlap*100)+'_loss_val_loss.png'\n",
    "\n",
    "    window_test=windoW\n",
    "    window_train=windoW\n",
    "    processing.SaveDicDataFromFileNPZ(WindowDataPath,SaveFileNameTrain,window_test)\n",
    "    processing.SaveDicDataFromFileNPZ(WindowDataPath,SaveFileNameTest,window_test)\n",
    "    shapeNum=windoW.shape[1]\n",
    "\n",
    "    # this is our input placeholder\n",
    "    input_img = Input(shape=(shapeNum,))\n",
    "    # \"encoded\" is the encoded representation of the input\n",
    "    encoded = Dense(encoding_dim, activation='tanh')(input_img)\n",
    "    # \"decoded\" is the lossy reconstruction of the input\n",
    "    decoded = Dense(shapeNum, activation='linear')(encoded)\n",
    "\n",
    "    # this model maps an input to its reconstruction\n",
    "    autoencoder = Model(input=input_img, output=decoded)\n",
    "\n",
    "    # this model maps an input to its encoded representation\n",
    "    encoder = Model(input=input_img, output=encoded)\n",
    "\n",
    "    # create a placeholder for an encoded (32-dimensional) input\n",
    "    encoded_input = Input(shape=(encoding_dim,))\n",
    "    # retrieve the last layer of the autoencoder model\n",
    "    decoder_layer = autoencoder.layers[-1]\n",
    "    # create the decoder model\n",
    "    decoder = Model(input=encoded_input, output=decoder_layer(encoded_input))\n",
    "\n",
    "    autoencoder.compile(optimizer='adadelta', loss='mse')\n",
    "    plot(autoencoder,  to_file=StudyDataModelPicPath+SaveFileNameNet+'.png')\n",
    "\n",
    "    early_stopping = EarlyStopping(monitor='val_loss', patience=2)\n",
    "    hist = autoencoder.fit(window_train, window_train,\n",
    "                    nb_epoch=50,\n",
    "                    batch_size=shapeNum/4,\n",
    "                    shuffle=True,\n",
    "                    validation_data=(window_test, window_test),\n",
    "                    callbacks=[early_stopping])\n",
    "\n",
    "    encoded_imgs = encoder.predict(window_test)\n",
    "    decoded_imgs = decoder.predict(encoded_imgs)\n",
    "\n",
    "    processing.SaveDicDataFromFileNPZ(StudyDataPath,SaveFileNameEncord,encoded_imgs)\n",
    "    processing.SaveDicDataFromFileNPZ(StudyDataPath,SaveFileNameDecord,decoded_imgs)\n",
    "\n",
    "    # save model and wights\n",
    "    json_string = encoder.to_json()\n",
    "    open(StudyDataPath+SaveFileNameEncord+'.json', 'w').write(json_string)\n",
    "    encoder.save_weights(StudyDataPath+SaveFileNameEncord+'_weights.h5')\n",
    "\n",
    "    json_string = decoder.to_json()\n",
    "    open(StudyDataPath+SaveFileNameDecord+'.json', 'w').write(json_string)\n",
    "    decoder.save_weights(StudyDataPath+SaveFileNameDecord+'_weights.h5')\n",
    "\n",
    "    json_string = autoencoder.to_json()\n",
    "    open(StudyDataPath+SaveFileNameNet+'.json', 'w').write(json_string)\n",
    "    autoencoder.save_weights(StudyDataPath+SaveFileNameNet+'_weights.h5')\n",
    "\n",
    "    # plot loss\n",
    "    loss = hist.history['loss']\n",
    "    val_loss = hist.history['val_loss']\n",
    "\n",
    "    nb_epoch = len(loss)\n",
    "    plt.plot(range(nb_epoch), loss, marker='.', label='loss')\n",
    "    plt.plot(range(nb_epoch), val_loss, marker='.', label='val_loss')\n",
    "    plt.legend(loc='best', fontsize=10)\n",
    "    plt.grid()\n",
    "    plt.xlabel('epoch')\n",
    "    plt.ylabel('loss')\n",
    "    plt.savefig(SaveFileNameGlaph)\n",
    "    plt.show()"
   ]
  },
  {
   "cell_type": "code",
   "execution_count": null,
   "metadata": {
    "collapsed": true
   },
   "outputs": [],
   "source": []
  }
 ],
 "metadata": {
  "kernelspec": {
   "display_name": "Python 2",
   "language": "python",
   "name": "python2"
  },
  "language_info": {
   "codemirror_mode": {
    "name": "ipython",
    "version": 2
   },
   "file_extension": ".py",
   "mimetype": "text/x-python",
   "name": "python",
   "nbconvert_exporter": "python",
   "pygments_lexer": "ipython2",
   "version": "2.7.11"
  }
 },
 "nbformat": 4,
 "nbformat_minor": 0
}
