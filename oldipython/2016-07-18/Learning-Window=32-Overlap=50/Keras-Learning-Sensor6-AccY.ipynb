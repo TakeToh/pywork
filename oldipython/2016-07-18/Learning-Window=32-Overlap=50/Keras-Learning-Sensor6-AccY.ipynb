{
 "cells": [
  {
   "cell_type": "markdown",
   "metadata": {},
   "source": [
    "important 変数を個々に定義する"
   ]
  },
  {
   "cell_type": "code",
   "execution_count": 1,
   "metadata": {
    "collapsed": true
   },
   "outputs": [],
   "source": [
    "SensorNum=6 # Sensor number\n",
    "SampleNum=32 # Window Width\n",
    "Overlap=0.5 # overlap\n",
    "width=1000 # graph width \n",
    "EncodingDim=[4,8,12,16,32,64] # number of hidden layer note \n",
    "Axis='AccY' # Axis"
   ]
  },
  {
   "cell_type": "code",
   "execution_count": 2,
   "metadata": {
    "collapsed": false
   },
   "outputs": [],
   "source": [
    "import numpy as np\n",
    "import pandas as pd\n",
    "from scipy import fftpack\n",
    "from scipy import signal\n",
    "import time\n",
    "import os\n",
    "import matplotlib.pyplot as plt\n",
    "import pylab\n",
    "import pickle\n",
    "import copy\n",
    "\n",
    "import processing\n",
    "import window\n",
    "\n",
    "import matplotlib.animation as animation\n",
    "import datetime\n",
    "\n",
    "%matplotlib inline"
   ]
  },
  {
   "cell_type": "code",
   "execution_count": 3,
   "metadata": {
    "collapsed": false
   },
   "outputs": [
    {
     "name": "stderr",
     "output_type": "stream",
     "text": [
      "Using Theano backend.\n",
      "Using gpu device 0: GeForce GTX 970 (CNMeM is disabled, cuDNN 4007)\n"
     ]
    }
   ],
   "source": [
    "from keras.models import Sequential\n",
    "from keras.datasets import cifar10\n",
    "from keras.layers import Dense, Activation, Flatten\n",
    "from keras.optimizers import Adadelta\n",
    "from keras.utils import np_utils\n",
    "from keras.layers.convolutional import Convolution2D, MaxPooling2D\n",
    "from keras.utils.visualize_util import model_to_dot, plot\n",
    "from keras import backend as K\n",
    "from keras.layers import Input, Dense\n",
    "from keras.models import Model\n",
    "from keras.callbacks import EarlyStopping\n",
    "\n",
    "import matplotlib.image as mpimg\n"
   ]
  },
  {
   "cell_type": "code",
   "execution_count": 4,
   "metadata": {
    "collapsed": true
   },
   "outputs": [],
   "source": [
    "DataName='sensor'+str(SensorNum)+'_'+Axis\n",
    "SensorName='sensor'+str(SensorNum)\n",
    "DicName='MemSensor'+str(SensorNum)"
   ]
  },
  {
   "cell_type": "code",
   "execution_count": 5,
   "metadata": {
    "collapsed": false
   },
   "outputs": [],
   "source": [
    "WORKSPACE_PATH = '/home/takeyama/pywork/ipython/2016-07-11'\n",
    "\n",
    "StudyDataPath=WORKSPACE_PATH+'/Study/'+DataName+'/'+'Window='+str(SampleNum)+'-Overlap='+str(Overlap*100)+'/'\n",
    "if not os.path.exists(StudyDataPath): os.makedirs(StudyDataPath)\n",
    "\n",
    "GlaphDataPath=WORKSPACE_PATH+'/Graph/'+DataName+'/Learning-Window='+str(SampleNum)+'-Overlap='+str(Overlap*100)+'/'\n",
    "if not os.path.exists(GlaphDataPath): os.makedirs(GlaphDataPath)\n",
    "\n",
    "StudyDataModelPicPath=WORKSPACE_PATH+'/Study/'+DataName+'/modelPic-Window='+str(SampleNum)+'-Overlap='+str(Overlap*100)+'/'\n",
    "if not os.path.exists(StudyDataModelPicPath): os.makedirs(StudyDataModelPicPath)\n",
    "\n",
    "WindowDataPath=WORKSPACE_PATH+'/window/'\n",
    "RawDataPath=WORKSPACE_PATH+'/raw/'"
   ]
  },
  {
   "cell_type": "markdown",
   "metadata": {},
   "source": [
    "**Phase1 計測データの取得**"
   ]
  },
  {
   "cell_type": "code",
   "execution_count": 6,
   "metadata": {
    "collapsed": false
   },
   "outputs": [],
   "source": [
    "dic=processing.LoadDicDataFromFileNPZ(RawDataPath+DicName)"
   ]
  },
  {
   "cell_type": "markdown",
   "metadata": {},
   "source": [
    "**Phase2 window flame 作成**"
   ]
  },
  {
   "cell_type": "code",
   "execution_count": 7,
   "metadata": {
    "collapsed": false
   },
   "outputs": [
    {
     "name": "stdout",
     "output_type": "stream",
     "text": [
      "AccY is registed now\n",
      "Build Complete\n",
      "(254742,)\n"
     ]
    }
   ],
   "source": [
    "w=window.Window()\n",
    "w.SetData(Axis,dic[Axis])\n",
    "wind=w.Compile(windowWidth=SampleNum,overlap=Overlap)\n",
    "windoW=wind.reshape((len(wind),np.prod(wind.shape[1:])))"
   ]
  },
  {
   "cell_type": "code",
   "execution_count": 8,
   "metadata": {
    "collapsed": false
   },
   "outputs": [
    {
     "data": {
      "text/plain": [
       "(7960, 32)"
      ]
     },
     "execution_count": 8,
     "metadata": {},
     "output_type": "execute_result"
    }
   ],
   "source": [
    "windoW.shape"
   ]
  },
  {
   "cell_type": "markdown",
   "metadata": {},
   "source": [
    "**前回やった学習をもう１度やってみる**"
   ]
  },
  {
   "cell_type": "code",
   "execution_count": 9,
   "metadata": {
    "collapsed": false,
    "scrolled": true
   },
   "outputs": [
    {
     "name": "stdout",
     "output_type": "stream",
     "text": [
      "Train on 7960 samples, validate on 7960 samples\n",
      "Epoch 1/50\n",
      "7960/7960 [==============================] - 3s - loss: 0.0763 - val_loss: 0.0053\n",
      "Epoch 2/50\n",
      "7960/7960 [==============================] - 3s - loss: 0.0036 - val_loss: 0.0028\n",
      "Epoch 3/50\n",
      "7960/7960 [==============================] - 3s - loss: 0.0025 - val_loss: 0.0022\n",
      "Epoch 4/50\n",
      "7960/7960 [==============================] - 3s - loss: 0.0021 - val_loss: 0.0020\n",
      "Epoch 5/50\n",
      "7960/7960 [==============================] - 3s - loss: 0.0019 - val_loss: 0.0018\n",
      "Epoch 6/50\n",
      "7960/7960 [==============================] - 2s - loss: 0.0018 - val_loss: 0.0017\n",
      "Epoch 7/50\n",
      "7960/7960 [==============================] - 3s - loss: 0.0017 - val_loss: 0.0016\n",
      "Epoch 8/50\n",
      "7960/7960 [==============================] - 3s - loss: 0.0016 - val_loss: 0.0016\n",
      "Epoch 9/50\n",
      "7960/7960 [==============================] - 2s - loss: 0.0015 - val_loss: 0.0017\n",
      "Epoch 10/50\n",
      "7960/7960 [==============================] - 2s - loss: 0.0014 - val_loss: 0.0014\n",
      "Epoch 11/50\n",
      "7960/7960 [==============================] - 2s - loss: 0.0014 - val_loss: 0.0013\n",
      "Epoch 12/50\n",
      "7960/7960 [==============================] - 3s - loss: 0.0013 - val_loss: 0.0013\n",
      "Epoch 13/50\n",
      "7960/7960 [==============================] - 3s - loss: 0.0012 - val_loss: 0.0011\n",
      "Epoch 14/50\n",
      "7960/7960 [==============================] - 2s - loss: 0.0011 - val_loss: 0.0011\n",
      "Epoch 15/50\n",
      "7960/7960 [==============================] - 2s - loss: 0.0010 - val_loss: 0.0010\n",
      "Epoch 16/50\n",
      "7960/7960 [==============================] - 2s - loss: 9.5906e-04 - val_loss: 9.0055e-04\n",
      "Epoch 17/50\n",
      "7960/7960 [==============================] - 2s - loss: 8.9512e-04 - val_loss: 8.3800e-04\n",
      "Epoch 18/50\n",
      "7960/7960 [==============================] - 3s - loss: 8.4363e-04 - val_loss: 8.1109e-04\n",
      "Epoch 19/50\n",
      "7960/7960 [==============================] - 2s - loss: 8.0029e-04 - val_loss: 8.1252e-04\n",
      "Epoch 20/50\n",
      "7960/7960 [==============================] - 2s - loss: 7.7256e-04 - val_loss: 7.4973e-04\n",
      "Epoch 21/50\n",
      "7960/7960 [==============================] - 2s - loss: 7.5034e-04 - val_loss: 7.0706e-04\n",
      "Epoch 22/50\n",
      "7960/7960 [==============================] - 2s - loss: 7.2905e-04 - val_loss: 6.9407e-04\n",
      "Epoch 23/50\n",
      "7960/7960 [==============================] - 2s - loss: 7.1729e-04 - val_loss: 6.7922e-04\n",
      "Epoch 24/50\n",
      "7960/7960 [==============================] - 2s - loss: 7.0498e-04 - val_loss: 6.6826e-04\n",
      "Epoch 25/50\n",
      "7960/7960 [==============================] - 3s - loss: 6.9400e-04 - val_loss: 6.6383e-04\n",
      "Epoch 26/50\n",
      "7960/7960 [==============================] - 3s - loss: 6.8335e-04 - val_loss: 6.5383e-04\n",
      "Epoch 27/50\n",
      "7960/7960 [==============================] - 3s - loss: 6.6906e-04 - val_loss: 6.3712e-04\n",
      "Epoch 28/50\n",
      "7960/7960 [==============================] - 3s - loss: 6.6467e-04 - val_loss: 6.4448e-04\n",
      "Epoch 29/50\n",
      "7960/7960 [==============================] - 1s - loss: 6.5933e-04 - val_loss: 6.2221e-04\n",
      "Epoch 30/50\n",
      "7960/7960 [==============================] - 2s - loss: 6.5151e-04 - val_loss: 6.3032e-04\n",
      "Epoch 31/50\n",
      "7960/7960 [==============================] - 2s - loss: 6.3707e-04 - val_loss: 6.1146e-04\n",
      "Epoch 32/50\n",
      "7960/7960 [==============================] - 2s - loss: 6.2880e-04 - val_loss: 5.9706e-04\n",
      "Epoch 33/50\n",
      "7960/7960 [==============================] - 2s - loss: 6.2514e-04 - val_loss: 5.8396e-04\n",
      "Epoch 34/50\n",
      "7960/7960 [==============================] - 2s - loss: 6.1269e-04 - val_loss: 5.7667e-04\n",
      "Epoch 35/50\n",
      "7960/7960 [==============================] - 2s - loss: 6.0372e-04 - val_loss: 6.2526e-04\n",
      "Epoch 36/50\n",
      "7960/7960 [==============================] - 2s - loss: 5.9307e-04 - val_loss: 5.6714e-04\n",
      "Epoch 37/50\n",
      "7960/7960 [==============================] - 2s - loss: 5.8806e-04 - val_loss: 5.6343e-04\n",
      "Epoch 38/50\n",
      "7960/7960 [==============================] - 2s - loss: 5.8365e-04 - val_loss: 5.4865e-04\n",
      "Epoch 39/50\n",
      "7960/7960 [==============================] - 2s - loss: 5.8237e-04 - val_loss: 5.6627e-04\n",
      "Epoch 40/50\n",
      "7960/7960 [==============================] - 2s - loss: 5.6861e-04 - val_loss: 5.3122e-04\n",
      "Epoch 41/50\n",
      "7960/7960 [==============================] - 2s - loss: 5.5790e-04 - val_loss: 5.3821e-04\n",
      "Epoch 42/50\n",
      "7960/7960 [==============================] - 2s - loss: 5.5989e-04 - val_loss: 5.6215e-04\n",
      "Epoch 43/50\n",
      "7960/7960 [==============================] - 2s - loss: 5.4817e-04 - val_loss: 5.3549e-04\n"
     ]
    },
    {
     "data": {
      "image/png": "[encoded data removed]",
      "text/plain": [
       "<matplotlib.figure.Figure at 0x7fc84b5a0990>"
      ]
     },
     "metadata": {},
     "output_type": "display_data"
    },
    {
     "name": "stdout",
     "output_type": "stream",
     "text": [
      "Train on 7960 samples, validate on 7960 samples\n",
      "Epoch 1/50\n",
      "7960/7960 [==============================] - 2s - loss: 0.0674 - val_loss: 0.0030\n",
      "Epoch 2/50\n",
      "7960/7960 [==============================] - 3s - loss: 0.0024 - val_loss: 0.0021\n",
      "Epoch 3/50\n",
      "7960/7960 [==============================] - 3s - loss: 0.0019 - val_loss: 0.0018\n",
      "Epoch 4/50\n",
      "7960/7960 [==============================] - 2s - loss: 0.0016 - val_loss: 0.0015\n",
      "Epoch 5/50\n",
      "7960/7960 [==============================] - 2s - loss: 0.0014 - val_loss: 0.0013\n",
      "Epoch 6/50\n",
      "7960/7960 [==============================] - 2s - loss: 0.0012 - val_loss: 0.0011\n",
      "Epoch 7/50\n",
      "7960/7960 [==============================] - 2s - loss: 0.0010 - val_loss: 9.3256e-04\n",
      "Epoch 8/50\n",
      "7960/7960 [==============================] - 2s - loss: 8.9225e-04 - val_loss: 8.2046e-04\n",
      "Epoch 9/50\n",
      "7960/7960 [==============================] - 2s - loss: 7.8780e-04 - val_loss: 7.0447e-04\n",
      "Epoch 10/50\n",
      "7960/7960 [==============================] - 2s - loss: 7.0949e-04 - val_loss: 6.4189e-04\n",
      "Epoch 11/50\n",
      "7960/7960 [==============================] - 2s - loss: 6.7114e-04 - val_loss: 6.6602e-04\n",
      "Epoch 12/50\n",
      "7960/7960 [==============================] - 3s - loss: 6.2835e-04 - val_loss: 5.6458e-04\n",
      "Epoch 13/50\n",
      "7960/7960 [==============================] - 3s - loss: 6.0737e-04 - val_loss: 5.7490e-04\n",
      "Epoch 14/50\n",
      "7960/7960 [==============================] - 3s - loss: 5.7820e-04 - val_loss: 5.1706e-04\n",
      "Epoch 15/50\n",
      "7960/7960 [==============================] - 3s - loss: 5.6054e-04 - val_loss: 5.4972e-04\n",
      "Epoch 16/50\n",
      "7960/7960 [==============================] - 3s - loss: 5.3636e-04 - val_loss: 6.1372e-04\n",
      "Epoch 17/50\n",
      "7960/7960 [==============================] - 2s - loss: 5.2459e-04 - val_loss: 4.9779e-04\n",
      "Epoch 18/50\n",
      "7960/7960 [==============================] - 2s - loss: 5.1002e-04 - val_loss: 4.5648e-04\n",
      "Epoch 19/50\n",
      "7960/7960 [==============================] - 2s - loss: 4.9906e-04 - val_loss: 4.7459e-04\n",
      "Epoch 20/50\n",
      "7960/7960 [==============================] - 2s - loss: 4.9191e-04 - val_loss: 4.4128e-04\n",
      "Epoch 21/50\n",
      "7960/7960 [==============================] - 3s - loss: 4.7654e-04 - val_loss: 4.5135e-04\n",
      "Epoch 22/50\n",
      "7960/7960 [==============================] - 3s - loss: 4.6775e-04 - val_loss: 4.5939e-04\n",
      "Epoch 23/50\n",
      "7960/7960 [==============================] - 2s - loss: 4.6298e-04 - val_loss: 4.1394e-04\n",
      "Epoch 24/50\n",
      "7960/7960 [==============================] - 3s - loss: 4.5473e-04 - val_loss: 5.6741e-04\n",
      "Epoch 25/50\n",
      "7960/7960 [==============================] - 2s - loss: 4.5154e-04 - val_loss: 3.9427e-04\n",
      "Epoch 26/50\n",
      "7960/7960 [==============================] - 2s - loss: 4.4995e-04 - val_loss: 3.9836e-04\n",
      "Epoch 27/50\n",
      "7960/7960 [==============================] - 3s - loss: 4.3492e-04 - val_loss: 5.2038e-04\n",
      "Epoch 28/50\n",
      "7960/7960 [==============================] - 3s - loss: 4.2721e-04 - val_loss: 4.2129e-04\n"
     ]
    },
    {
     "data": {
      "image/png": "[encoded data removed]",
      "text/plain": [
       "<matplotlib.figure.Figure at 0x7fc8a3a8d050>"
      ]
     },
     "metadata": {},
     "output_type": "display_data"
    },
    {
     "name": "stdout",
     "output_type": "stream",
     "text": [
      "Train on 7960 samples, validate on 7960 samples\n",
      "Epoch 1/50\n",
      "7960/7960 [==============================] - 3s - loss: 0.0484 - val_loss: 0.0029\n",
      "Epoch 2/50\n",
      "7960/7960 [==============================] - 2s - loss: 0.0024 - val_loss: 0.0020\n",
      "Epoch 3/50\n",
      "7960/7960 [==============================] - 2s - loss: 0.0018 - val_loss: 0.0016\n",
      "Epoch 4/50\n",
      "7960/7960 [==============================] - 2s - loss: 0.0014 - val_loss: 0.0012\n",
      "Epoch 5/50\n",
      "7960/7960 [==============================] - 2s - loss: 0.0012 - val_loss: 0.0010\n",
      "Epoch 6/50\n",
      "7960/7960 [==============================] - 2s - loss: 9.7895e-04 - val_loss: 8.6162e-04\n",
      "Epoch 7/50\n",
      "7960/7960 [==============================] - 3s - loss: 8.6162e-04 - val_loss: 7.7520e-04\n",
      "Epoch 8/50\n",
      "7960/7960 [==============================] - 2s - loss: 7.7922e-04 - val_loss: 7.0186e-04\n",
      "Epoch 9/50\n",
      "7960/7960 [==============================] - 3s - loss: 7.1209e-04 - val_loss: 6.6326e-04\n",
      "Epoch 10/50\n",
      "7960/7960 [==============================] - 3s - loss: 6.6926e-04 - val_loss: 7.1669e-04\n",
      "Epoch 11/50\n",
      "7960/7960 [==============================] - 2s - loss: 6.2229e-04 - val_loss: 5.5034e-04\n",
      "Epoch 12/50\n",
      "7960/7960 [==============================] - 2s - loss: 5.9217e-04 - val_loss: 5.2863e-04\n",
      "Epoch 13/50\n",
      "7960/7960 [==============================] - 2s - loss: 5.6336e-04 - val_loss: 4.8687e-04\n",
      "Epoch 14/50\n",
      "7960/7960 [==============================] - 2s - loss: 5.3388e-04 - val_loss: 4.8591e-04\n",
      "Epoch 15/50\n",
      "7960/7960 [==============================] - 2s - loss: 5.1259e-04 - val_loss: 8.5602e-04\n",
      "Epoch 16/50\n",
      "7960/7960 [==============================] - 2s - loss: 4.9708e-04 - val_loss: 6.7658e-04\n",
      "Epoch 17/50\n",
      "7960/7960 [==============================] - 2s - loss: 4.7216e-04 - val_loss: 4.8813e-04\n"
     ]
    },
    {
     "data": {
      "image/png": "[encoded data removed]",
      "text/plain": [
       "<matplotlib.figure.Figure at 0x7fc84ed8b810>"
      ]
     },
     "metadata": {},
     "output_type": "display_data"
    },
    {
     "name": "stdout",
     "output_type": "stream",
     "text": [
      "Train on 7960 samples, validate on 7960 samples\n",
      "Epoch 1/50\n",
      "7960/7960 [==============================] - 2s - loss: 0.0365 - val_loss: 0.0025\n",
      "Epoch 2/50\n",
      "7960/7960 [==============================] - 3s - loss: 0.0020 - val_loss: 0.0016\n",
      "Epoch 3/50\n",
      "7960/7960 [==============================] - 2s - loss: 0.0014 - val_loss: 0.0012\n",
      "Epoch 4/50\n",
      "7960/7960 [==============================] - 2s - loss: 0.0011 - val_loss: 9.0599e-04\n",
      "Epoch 5/50\n",
      "7960/7960 [==============================] - 2s - loss: 8.8543e-04 - val_loss: 7.7202e-04\n",
      "Epoch 6/50\n",
      "7960/7960 [==============================] - 2s - loss: 7.7211e-04 - val_loss: 7.3652e-04\n",
      "Epoch 7/50\n",
      "7960/7960 [==============================] - 2s - loss: 6.9809e-04 - val_loss: 6.3630e-04\n",
      "Epoch 8/50\n",
      "7960/7960 [==============================] - 2s - loss: 6.4427e-04 - val_loss: 5.8227e-04\n",
      "Epoch 9/50\n",
      "7960/7960 [==============================] - 2s - loss: 6.0430e-04 - val_loss: 5.2027e-04\n",
      "Epoch 10/50\n",
      "7960/7960 [==============================] - 2s - loss: 5.6910e-04 - val_loss: 4.9595e-04\n",
      "Epoch 11/50\n",
      "7960/7960 [==============================] - 2s - loss: 5.4480e-04 - val_loss: 4.6444e-04\n",
      "Epoch 12/50\n",
      "7960/7960 [==============================] - 2s - loss: 5.2431e-04 - val_loss: 4.5288e-04\n",
      "Epoch 13/50\n",
      "7960/7960 [==============================] - 2s - loss: 5.1319e-04 - val_loss: 4.2373e-04\n",
      "Epoch 14/50\n",
      "7960/7960 [==============================] - 2s - loss: 4.9401e-04 - val_loss: 5.6619e-04\n",
      "Epoch 15/50\n",
      "7960/7960 [==============================] - 2s - loss: 4.7831e-04 - val_loss: 3.9134e-04\n",
      "Epoch 16/50\n",
      "7960/7960 [==============================] - 2s - loss: 4.6782e-04 - val_loss: 4.9560e-04\n",
      "Epoch 17/50\n",
      "7960/7960 [==============================] - 2s - loss: 4.3927e-04 - val_loss: 3.8400e-04\n",
      "Epoch 18/50\n",
      "7960/7960 [==============================] - 2s - loss: 4.3318e-04 - val_loss: 5.0163e-04\n",
      "Epoch 19/50\n",
      "7960/7960 [==============================] - 3s - loss: 4.2908e-04 - val_loss: 7.5651e-04\n",
      "Epoch 20/50\n",
      "7960/7960 [==============================] - 2s - loss: 4.1192e-04 - val_loss: 3.7707e-04\n",
      "Epoch 21/50\n",
      "7960/7960 [==============================] - 3s - loss: 4.1337e-04 - val_loss: 3.4043e-04\n",
      "Epoch 22/50\n",
      "7960/7960 [==============================] - 2s - loss: 4.0571e-04 - val_loss: 3.6862e-04\n",
      "Epoch 23/50\n",
      "7960/7960 [==============================] - 2s - loss: 3.9794e-04 - val_loss: 3.4038e-04\n",
      "Epoch 24/50\n",
      "7960/7960 [==============================] - 2s - loss: 3.7422e-04 - val_loss: 3.9228e-04\n",
      "Epoch 25/50\n",
      "7960/7960 [==============================] - 2s - loss: 3.7443e-04 - val_loss: 3.4075e-04\n",
      "Epoch 26/50\n",
      "7960/7960 [==============================] - 3s - loss: 3.5934e-04 - val_loss: 2.8551e-04\n",
      "Epoch 27/50\n",
      "7960/7960 [==============================] - 3s - loss: 3.5882e-04 - val_loss: 2.7731e-04\n",
      "Epoch 28/50\n",
      "7960/7960 [==============================] - 3s - loss: 3.4471e-04 - val_loss: 4.3934e-04\n",
      "Epoch 29/50\n",
      "7960/7960 [==============================] - 3s - loss: 3.3967e-04 - val_loss: 2.5636e-04\n",
      "Epoch 30/50\n",
      "7960/7960 [==============================] - 3s - loss: 3.4675e-04 - val_loss: 3.1442e-04\n",
      "Epoch 31/50\n",
      "7960/7960 [==============================] - 3s - loss: 3.2309e-04 - val_loss: 2.9086e-04\n",
      "Epoch 32/50\n",
      "7960/7960 [==============================] - 3s - loss: 3.0662e-04 - val_loss: 3.7613e-04\n"
     ]
    },
    {
     "data": {
      "image/png": "[encoded data removed]",
      "text/plain": [
       "<matplotlib.figure.Figure at 0x7fc8a3af1250>"
      ]
     },
     "metadata": {},
     "output_type": "display_data"
    },
    {
     "name": "stdout",
     "output_type": "stream",
     "text": [
      "Train on 7960 samples, validate on 7960 samples\n",
      "Epoch 1/50\n",
      "7960/7960 [==============================] - 2s - loss: 0.0377 - val_loss: 0.0016\n",
      "Epoch 2/50\n",
      "7960/7960 [==============================] - 2s - loss: 0.0012 - val_loss: 0.0011\n",
      "Epoch 3/50\n",
      "7960/7960 [==============================] - 2s - loss: 7.9722e-04 - val_loss: 6.2612e-04\n",
      "Epoch 4/50\n",
      "7960/7960 [==============================] - 2s - loss: 6.3950e-04 - val_loss: 5.3862e-04\n",
      "Epoch 5/50\n",
      "7960/7960 [==============================] - 3s - loss: 5.4624e-04 - val_loss: 7.6735e-04\n",
      "Epoch 6/50\n",
      "7960/7960 [==============================] - 2s - loss: 4.9326e-04 - val_loss: 3.7758e-04\n",
      "Epoch 7/50\n",
      "7960/7960 [==============================] - 2s - loss: 4.4540e-04 - val_loss: 5.2542e-04\n",
      "Epoch 8/50\n",
      "7960/7960 [==============================] - 1s - loss: 4.1682e-04 - val_loss: 3.2618e-04\n",
      "Epoch 9/50\n",
      "7960/7960 [==============================] - 2s - loss: 3.8081e-04 - val_loss: 3.8184e-04\n",
      "Epoch 10/50\n",
      "7960/7960 [==============================] - 2s - loss: 3.7103e-04 - val_loss: 2.6570e-04\n",
      "Epoch 11/50\n",
      "7960/7960 [==============================] - 3s - loss: 3.3698e-04 - val_loss: 2.5049e-04\n",
      "Epoch 12/50\n",
      "7960/7960 [==============================] - 3s - loss: 3.4145e-04 - val_loss: 7.7903e-04\n",
      "Epoch 13/50\n",
      "7960/7960 [==============================] - 3s - loss: 3.1667e-04 - val_loss: 2.6317e-04\n",
      "Epoch 14/50\n",
      "7960/7960 [==============================] - 3s - loss: 3.1468e-04 - val_loss: 2.1224e-04\n",
      "Epoch 15/50\n",
      "7960/7960 [==============================] - 3s - loss: 3.0148e-04 - val_loss: 2.2323e-04\n",
      "Epoch 16/50\n",
      "7960/7960 [==============================] - 3s - loss: 3.0025e-04 - val_loss: 3.1485e-04\n",
      "Epoch 17/50\n",
      "7960/7960 [==============================] - 3s - loss: 2.8178e-04 - val_loss: 1.9232e-04\n",
      "Epoch 18/50\n",
      "7960/7960 [==============================] - 3s - loss: 2.9396e-04 - val_loss: 1.8215e-04\n",
      "Epoch 19/50\n",
      "7960/7960 [==============================] - 3s - loss: 2.8301e-04 - val_loss: 2.1715e-04\n",
      "Epoch 20/50\n",
      "7960/7960 [==============================] - 3s - loss: 2.9000e-04 - val_loss: 2.3276e-04\n",
      "Epoch 21/50\n",
      "7960/7960 [==============================] - 2s - loss: 2.6718e-04 - val_loss: 3.4045e-04\n"
     ]
    },
    {
     "data": {
      "image/png": "[encoded data removed]",
      "text/plain": [
       "<matplotlib.figure.Figure at 0x7fc86104df10>"
      ]
     },
     "metadata": {},
     "output_type": "display_data"
    },
    {
     "name": "stdout",
     "output_type": "stream",
     "text": [
      "Train on 7960 samples, validate on 7960 samples\n",
      "Epoch 1/50\n",
      "7960/7960 [==============================] - 3s - loss: 0.0169 - val_loss: 0.0014\n",
      "Epoch 2/50\n",
      "7960/7960 [==============================] - 2s - loss: 0.0011 - val_loss: 7.5957e-04\n",
      "Epoch 3/50\n",
      "7960/7960 [==============================] - 3s - loss: 7.3661e-04 - val_loss: 5.9031e-04\n",
      "Epoch 4/50\n",
      "7960/7960 [==============================] - 2s - loss: 5.8323e-04 - val_loss: 4.4693e-04\n",
      "Epoch 5/50\n",
      "7960/7960 [==============================] - 2s - loss: 5.0664e-04 - val_loss: 3.9390e-04\n",
      "Epoch 6/50\n",
      "7960/7960 [==============================] - 2s - loss: 4.3334e-04 - val_loss: 3.1013e-04\n",
      "Epoch 7/50\n",
      "7960/7960 [==============================] - 2s - loss: 3.8447e-04 - val_loss: 3.1392e-04\n",
      "Epoch 8/50\n",
      "7960/7960 [==============================] - 2s - loss: 3.5356e-04 - val_loss: 2.1600e-04\n",
      "Epoch 9/50\n",
      "7960/7960 [==============================] - 1s - loss: 3.2549e-04 - val_loss: 6.3311e-04\n",
      "Epoch 10/50\n",
      "7960/7960 [==============================] - 1s - loss: 2.9460e-04 - val_loss: 2.4017e-04\n",
      "Epoch 11/50\n",
      "7960/7960 [==============================] - 1s - loss: 2.8166e-04 - val_loss: 1.8673e-04\n",
      "Epoch 12/50\n",
      "7960/7960 [==============================] - 1s - loss: 2.5630e-04 - val_loss: 1.4533e-04\n",
      "Epoch 13/50\n",
      "7960/7960 [==============================] - 1s - loss: 2.5982e-04 - val_loss: 2.2045e-04\n",
      "Epoch 14/50\n",
      "7960/7960 [==============================] - 1s - loss: 2.5216e-04 - val_loss: 2.0330e-04\n",
      "Epoch 15/50\n",
      "7960/7960 [==============================] - 1s - loss: 2.2827e-04 - val_loss: 4.6808e-04\n"
     ]
    },
    {
     "data": {
      "image/png": "[encoded data removed]",
      "text/plain": [
       "<matplotlib.figure.Figure at 0x7fc8a373b390>"
      ]
     },
     "metadata": {},
     "output_type": "display_data"
    }
   ],
   "source": [
    "# define SaveFileName\n",
    "for encoding_dim in EncodingDim:\n",
    "    SaveFileNameEncord=DataName+'_encoded'+'_edim='+str(encoding_dim)+'-Window='+str(SampleNum)+'-Overlap='+str(Overlap*100)\n",
    "    SaveFileNameDecord=DataName+'_decoded'+'_edim='+str(encoding_dim)+'-Window='+str(SampleNum)+'-Overlap='+str(Overlap*100)\n",
    "    SaveFileNameNet=DataName+'_net'+'_edim='+str(encoding_dim)+'-Window='+str(SampleNum)+'-Overlap='+str(Overlap*100)\n",
    "    SaveFileNameTrain=DataName+'_train'+'_edim='+str(encoding_dim)+'-Window='+str(SampleNum)+'-Overlap='+str(Overlap*100)\n",
    "    SaveFileNameTest=DataName+'_test'+'_edim='+str(encoding_dim)+'-Window='+str(SampleNum)+'-Overlap='+str(Overlap*100)\n",
    "    SaveFileNameGlaph=GlaphDataPath+DataName+'_edim='+str(encoding_dim)+'-Window='+str(SampleNum)+'-Overlap='+str(Overlap*100)+'_loss_val_loss.png'\n",
    "\n",
    "    window_test=windoW\n",
    "    window_train=windoW\n",
    "    processing.SaveDicDataFromFileNPZ(WindowDataPath,SaveFileNameTrain,window_test)\n",
    "    processing.SaveDicDataFromFileNPZ(WindowDataPath,SaveFileNameTest,window_test)\n",
    "    shapeNum=windoW.shape[1]\n",
    "\n",
    "    # this is our input placeholder\n",
    "    input_img = Input(shape=(shapeNum,))\n",
    "    # \"encoded\" is the encoded representation of the input\n",
    "    encoded = Dense(encoding_dim, activation='tanh')(input_img)\n",
    "    # \"decoded\" is the lossy reconstruction of the input\n",
    "    decoded = Dense(shapeNum, activation='linear')(encoded)\n",
    "\n",
    "    # this model maps an input to its reconstruction\n",
    "    autoencoder = Model(input=input_img, output=decoded)\n",
    "\n",
    "    # this model maps an input to its encoded representation\n",
    "    encoder = Model(input=input_img, output=encoded)\n",
    "\n",
    "    # create a placeholder for an encoded (32-dimensional) input\n",
    "    encoded_input = Input(shape=(encoding_dim,))\n",
    "    # retrieve the last layer of the autoencoder model\n",
    "    decoder_layer = autoencoder.layers[-1]\n",
    "    # create the decoder model\n",
    "    decoder = Model(input=encoded_input, output=decoder_layer(encoded_input))\n",
    "\n",
    "    autoencoder.compile(optimizer='adadelta', loss='mse')\n",
    "    plot(autoencoder,  to_file=StudyDataModelPicPath+SaveFileNameNet+'.png')\n",
    "\n",
    "    early_stopping = EarlyStopping(monitor='val_loss', patience=2)\n",
    "    hist = autoencoder.fit(window_train, window_train,\n",
    "                    nb_epoch=50,\n",
    "                    batch_size=shapeNum/4,\n",
    "                    shuffle=True,\n",
    "                    validation_data=(window_test, window_test),\n",
    "                    callbacks=[early_stopping])\n",
    "\n",
    "    encoded_imgs = encoder.predict(window_test)\n",
    "    decoded_imgs = decoder.predict(encoded_imgs)\n",
    "\n",
    "    processing.SaveDicDataFromFileNPZ(StudyDataPath,SaveFileNameEncord,encoded_imgs)\n",
    "    processing.SaveDicDataFromFileNPZ(StudyDataPath,SaveFileNameDecord,decoded_imgs)\n",
    "\n",
    "    # save model and wights\n",
    "    json_string = encoder.to_json()\n",
    "    open(StudyDataPath+SaveFileNameEncord+'.json', 'w').write(json_string)\n",
    "    encoder.save_weights(StudyDataPath+SaveFileNameEncord+'_weights.h5')\n",
    "\n",
    "    json_string = decoder.to_json()\n",
    "    open(StudyDataPath+SaveFileNameDecord+'.json', 'w').write(json_string)\n",
    "    decoder.save_weights(StudyDataPath+SaveFileNameDecord+'_weights.h5')\n",
    "\n",
    "    json_string = autoencoder.to_json()\n",
    "    open(StudyDataPath+SaveFileNameNet+'.json', 'w').write(json_string)\n",
    "    autoencoder.save_weights(StudyDataPath+SaveFileNameNet+'_weights.h5')\n",
    "\n",
    "    # plot loss\n",
    "    loss = hist.history['loss']\n",
    "    val_loss = hist.history['val_loss']\n",
    "\n",
    "    nb_epoch = len(loss)\n",
    "    plt.plot(range(nb_epoch), loss, marker='.', label='loss')\n",
    "    plt.plot(range(nb_epoch), val_loss, marker='.', label='val_loss')\n",
    "    plt.legend(loc='best', fontsize=10)\n",
    "    plt.grid()\n",
    "    plt.xlabel('epoch')\n",
    "    plt.ylabel('loss')\n",
    "    plt.savefig(SaveFileNameGlaph)\n",
    "    plt.show()"
   ]
  },
  {
   "cell_type": "code",
   "execution_count": null,
   "metadata": {
    "collapsed": true
   },
   "outputs": [],
   "source": []
  }
 ],
 "metadata": {
  "kernelspec": {
   "display_name": "Python 2",
   "language": "python",
   "name": "python2"
  },
  "language_info": {
   "codemirror_mode": {
    "name": "ipython",
    "version": 2
   },
   "file_extension": ".py",
   "mimetype": "text/x-python",
   "name": "python",
   "nbconvert_exporter": "python",
   "pygments_lexer": "ipython2",
   "version": "2.7.11"
  }
 },
 "nbformat": 4,
 "nbformat_minor": 0
}
