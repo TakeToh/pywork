{
 "cells": [
  {
   "cell_type": "markdown",
   "metadata": {},
   "source": [
    "important 変数を個々に定義する"
   ]
  },
  {
   "cell_type": "code",
   "execution_count": 1,
   "metadata": {
    "collapsed": true
   },
   "outputs": [],
   "source": [
    "SensorNum=3 # Sensor number\n",
    "SampleNum=32 # Window Width\n",
    "Overlap=0.5 # overlap\n",
    "width=1000 # graph width \n",
    "EncodingDim=[4,8,12,16,32,64] # number of hidden layer note \n",
    "Axis='AccX' # Axis"
   ]
  },
  {
   "cell_type": "code",
   "execution_count": 2,
   "metadata": {
    "collapsed": false
   },
   "outputs": [],
   "source": [
    "import numpy as np\n",
    "import pandas as pd\n",
    "from scipy import fftpack\n",
    "from scipy import signal\n",
    "import time\n",
    "import os\n",
    "import matplotlib.pyplot as plt\n",
    "import pylab\n",
    "import pickle\n",
    "import copy\n",
    "\n",
    "import processing\n",
    "import window\n",
    "\n",
    "import matplotlib.animation as animation\n",
    "import datetime\n",
    "\n",
    "%matplotlib inline"
   ]
  },
  {
   "cell_type": "code",
   "execution_count": 3,
   "metadata": {
    "collapsed": false
   },
   "outputs": [
    {
     "name": "stderr",
     "output_type": "stream",
     "text": [
      "Using Theano backend.\n",
      "Using gpu device 0: GeForce GTX 970 (CNMeM is disabled, cuDNN 4007)\n"
     ]
    }
   ],
   "source": [
    "from keras.models import Sequential\n",
    "from keras.datasets import cifar10\n",
    "from keras.layers import Dense, Activation, Flatten\n",
    "from keras.optimizers import Adadelta\n",
    "from keras.utils import np_utils\n",
    "from keras.layers.convolutional import Convolution2D, MaxPooling2D\n",
    "from keras.utils.visualize_util import model_to_dot, plot\n",
    "from keras import backend as K\n",
    "from keras.layers import Input, Dense\n",
    "from keras.models import Model\n",
    "from keras.callbacks import EarlyStopping\n",
    "\n",
    "import matplotlib.image as mpimg\n"
   ]
  },
  {
   "cell_type": "code",
   "execution_count": 4,
   "metadata": {
    "collapsed": true
   },
   "outputs": [],
   "source": [
    "DataName='sensor'+str(SensorNum)+'_'+Axis\n",
    "SensorName='sensor'+str(SensorNum)\n",
    "DicName='MemSensor'+str(SensorNum)"
   ]
  },
  {
   "cell_type": "code",
   "execution_count": 5,
   "metadata": {
    "collapsed": false
   },
   "outputs": [],
   "source": [
    "WORKSPACE_PATH = '/home/takeyama/pywork/ipython/2016-07-11'\n",
    "\n",
    "StudyDataPath=WORKSPACE_PATH+'/Study/'+DataName+'/'+'Window='+str(SampleNum)+'-Overlap='+str(Overlap*100)+'/'\n",
    "if not os.path.exists(StudyDataPath): os.makedirs(StudyDataPath)\n",
    "\n",
    "GlaphDataPath=WORKSPACE_PATH+'/Graph/'+DataName+'/Learning-Window='+str(SampleNum)+'-Overlap='+str(Overlap*100)+'/'\n",
    "if not os.path.exists(GlaphDataPath): os.makedirs(GlaphDataPath)\n",
    "\n",
    "StudyDataModelPicPath=WORKSPACE_PATH+'/Study/'+DataName+'/modelPic-Window='+str(SampleNum)+'-Overlap='+str(Overlap*100)+'/'\n",
    "if not os.path.exists(StudyDataModelPicPath): os.makedirs(StudyDataModelPicPath)\n",
    "\n",
    "WindowDataPath=WORKSPACE_PATH+'/window/'\n",
    "RawDataPath=WORKSPACE_PATH+'/raw/'"
   ]
  },
  {
   "cell_type": "markdown",
   "metadata": {},
   "source": [
    "**Phase1 計測データの取得**"
   ]
  },
  {
   "cell_type": "code",
   "execution_count": 6,
   "metadata": {
    "collapsed": false
   },
   "outputs": [],
   "source": [
    "dic=processing.LoadDicDataFromFileNPZ(RawDataPath+DicName)"
   ]
  },
  {
   "cell_type": "markdown",
   "metadata": {},
   "source": [
    "**Phase2 window flame 作成**"
   ]
  },
  {
   "cell_type": "code",
   "execution_count": 7,
   "metadata": {
    "collapsed": false
   },
   "outputs": [
    {
     "name": "stdout",
     "output_type": "stream",
     "text": [
      "AccX is registed now\n",
      "Build Complete\n",
      "(254742,)\n"
     ]
    }
   ],
   "source": [
    "w=window.Window()\n",
    "w.SetData(Axis,dic[Axis])\n",
    "wind=w.Compile(windowWidth=SampleNum,overlap=Overlap)\n",
    "windoW=wind.reshape((len(wind),np.prod(wind.shape[1:])))"
   ]
  },
  {
   "cell_type": "code",
   "execution_count": 8,
   "metadata": {
    "collapsed": false
   },
   "outputs": [
    {
     "data": {
      "text/plain": [
       "(7960, 32)"
      ]
     },
     "execution_count": 8,
     "metadata": {},
     "output_type": "execute_result"
    }
   ],
   "source": [
    "windoW.shape"
   ]
  },
  {
   "cell_type": "markdown",
   "metadata": {},
   "source": [
    "**前回やった学習をもう１度やってみる**"
   ]
  },
  {
   "cell_type": "code",
   "execution_count": 9,
   "metadata": {
    "collapsed": false,
    "scrolled": true
   },
   "outputs": [
    {
     "name": "stdout",
     "output_type": "stream",
     "text": [
      "Train on 7960 samples, validate on 7960 samples\n",
      "Epoch 1/50\n",
      "7960/7960 [==============================] - 2s - loss: 0.1835 - val_loss: 0.0237\n",
      "Epoch 2/50\n",
      "7960/7960 [==============================] - 2s - loss: 0.0182 - val_loss: 0.0141\n",
      "Epoch 3/50\n",
      "7960/7960 [==============================] - 2s - loss: 0.0116 - val_loss: 0.0094\n",
      "Epoch 4/50\n",
      "7960/7960 [==============================] - 2s - loss: 0.0084 - val_loss: 0.0074\n",
      "Epoch 5/50\n",
      "7960/7960 [==============================] - 2s - loss: 0.0070 - val_loss: 0.0066\n",
      "Epoch 6/50\n",
      "7960/7960 [==============================] - 2s - loss: 0.0063 - val_loss: 0.0059\n",
      "Epoch 7/50\n",
      "7960/7960 [==============================] - 2s - loss: 0.0058 - val_loss: 0.0055\n",
      "Epoch 8/50\n",
      "7960/7960 [==============================] - 2s - loss: 0.0052 - val_loss: 0.0050\n",
      "Epoch 9/50\n",
      "7960/7960 [==============================] - 2s - loss: 0.0045 - val_loss: 0.0041\n",
      "Epoch 10/50\n",
      "7960/7960 [==============================] - 2s - loss: 0.0039 - val_loss: 0.0035\n",
      "Epoch 11/50\n",
      "7960/7960 [==============================] - 2s - loss: 0.0033 - val_loss: 0.0029\n",
      "Epoch 12/50\n",
      "7960/7960 [==============================] - 2s - loss: 0.0028 - val_loss: 0.0026\n",
      "Epoch 13/50\n",
      "7960/7960 [==============================] - 2s - loss: 0.0025 - val_loss: 0.0023\n",
      "Epoch 14/50\n",
      "7960/7960 [==============================] - 2s - loss: 0.0023 - val_loss: 0.0022\n",
      "Epoch 15/50\n",
      "7960/7960 [==============================] - 2s - loss: 0.0021 - val_loss: 0.0028\n",
      "Epoch 16/50\n",
      "7960/7960 [==============================] - 2s - loss: 0.0020 - val_loss: 0.0018\n",
      "Epoch 17/50\n",
      "7960/7960 [==============================] - 2s - loss: 0.0019 - val_loss: 0.0023\n",
      "Epoch 18/50\n",
      "7960/7960 [==============================] - 2s - loss: 0.0018 - val_loss: 0.0020\n",
      "Epoch 19/50\n",
      "7960/7960 [==============================] - 3s - loss: 0.0017 - val_loss: 0.0016\n",
      "Epoch 20/50\n",
      "7960/7960 [==============================] - 3s - loss: 0.0017 - val_loss: 0.0015\n",
      "Epoch 21/50\n",
      "7960/7960 [==============================] - 2s - loss: 0.0016 - val_loss: 0.0017\n",
      "Epoch 22/50\n",
      "7960/7960 [==============================] - 3s - loss: 0.0016 - val_loss: 0.0014\n",
      "Epoch 23/50\n",
      "7960/7960 [==============================] - 2s - loss: 0.0015 - val_loss: 0.0014\n",
      "Epoch 24/50\n",
      "7960/7960 [==============================] - 2s - loss: 0.0015 - val_loss: 0.0017\n",
      "Epoch 25/50\n",
      "7960/7960 [==============================] - 3s - loss: 0.0015 - val_loss: 0.0014\n",
      "Epoch 26/50\n",
      "7960/7960 [==============================] - 3s - loss: 0.0014 - val_loss: 0.0014\n",
      "Epoch 27/50\n",
      "7960/7960 [==============================] - 2s - loss: 0.0014 - val_loss: 0.0016\n",
      "Epoch 28/50\n",
      "7960/7960 [==============================] - 3s - loss: 0.0014 - val_loss: 0.0015\n",
      "Epoch 29/50\n",
      "7960/7960 [==============================] - 2s - loss: 0.0013 - val_loss: 0.0012\n",
      "Epoch 30/50\n",
      "7960/7960 [==============================] - 2s - loss: 0.0013 - val_loss: 0.0012\n",
      "Epoch 31/50\n",
      "7960/7960 [==============================] - 2s - loss: 0.0013 - val_loss: 0.0013\n",
      "Epoch 32/50\n",
      "7960/7960 [==============================] - 2s - loss: 0.0013 - val_loss: 0.0011\n",
      "Epoch 33/50\n",
      "7960/7960 [==============================] - 3s - loss: 0.0012 - val_loss: 0.0011\n",
      "Epoch 34/50\n",
      "7960/7960 [==============================] - 2s - loss: 0.0012 - val_loss: 0.0011\n",
      "Epoch 35/50\n",
      "7960/7960 [==============================] - 2s - loss: 0.0012 - val_loss: 0.0010\n",
      "Epoch 36/50\n",
      "7960/7960 [==============================] - 2s - loss: 0.0011 - val_loss: 0.0011\n",
      "Epoch 37/50\n",
      "7960/7960 [==============================] - 2s - loss: 0.0011 - val_loss: 0.0011\n",
      "Epoch 38/50\n",
      "7960/7960 [==============================] - 2s - loss: 0.0011 - val_loss: 9.6375e-04\n",
      "Epoch 39/50\n",
      "7960/7960 [==============================] - 2s - loss: 0.0011 - val_loss: 8.9891e-04\n",
      "Epoch 40/50\n",
      "7960/7960 [==============================] - 2s - loss: 0.0010 - val_loss: 8.9194e-04\n",
      "Epoch 41/50\n",
      "7960/7960 [==============================] - 2s - loss: 9.9373e-04 - val_loss: 8.7794e-04\n",
      "Epoch 42/50\n",
      "7960/7960 [==============================] - 2s - loss: 9.6507e-04 - val_loss: 0.0012\n",
      "Epoch 43/50\n",
      "7960/7960 [==============================] - 2s - loss: 9.4975e-04 - val_loss: 0.0012\n",
      "Epoch 44/50\n",
      "7960/7960 [==============================] - 2s - loss: 9.5384e-04 - val_loss: 8.9808e-04\n"
     ]
    },
    {
     "data": {
      "image/png": "[encoded data removed]",
      "text/plain": [
       "<matplotlib.figure.Figure at 0x7f29cdec7990>"
      ]
     },
     "metadata": {},
     "output_type": "display_data"
    },
    {
     "name": "stdout",
     "output_type": "stream",
     "text": [
      "Train on 7960 samples, validate on 7960 samples\n",
      "Epoch 1/50\n",
      "7960/7960 [==============================] - 2s - loss: 0.1075 - val_loss: 0.0156\n",
      "Epoch 2/50\n",
      "7960/7960 [==============================] - 2s - loss: 0.0113 - val_loss: 0.0082\n",
      "Epoch 3/50\n",
      "7960/7960 [==============================] - 2s - loss: 0.0068 - val_loss: 0.0056\n",
      "Epoch 4/50\n",
      "7960/7960 [==============================] - 2s - loss: 0.0050 - val_loss: 0.0043\n",
      "Epoch 5/50\n",
      "7960/7960 [==============================] - 2s - loss: 0.0038 - val_loss: 0.0032\n",
      "Epoch 6/50\n",
      "7960/7960 [==============================] - 2s - loss: 0.0029 - val_loss: 0.0027\n",
      "Epoch 7/50\n",
      "7960/7960 [==============================] - 2s - loss: 0.0024 - val_loss: 0.0021\n",
      "Epoch 8/50\n",
      "7960/7960 [==============================] - 2s - loss: 0.0021 - val_loss: 0.0018\n",
      "Epoch 9/50\n",
      "7960/7960 [==============================] - 2s - loss: 0.0019 - val_loss: 0.0017\n",
      "Epoch 10/50\n",
      "7960/7960 [==============================] - 2s - loss: 0.0017 - val_loss: 0.0016\n",
      "Epoch 11/50\n",
      "7960/7960 [==============================] - 2s - loss: 0.0016 - val_loss: 0.0016\n",
      "Epoch 12/50\n",
      "7960/7960 [==============================] - 2s - loss: 0.0015 - val_loss: 0.0019\n",
      "Epoch 13/50\n",
      "7960/7960 [==============================] - 2s - loss: 0.0014 - val_loss: 0.0012\n",
      "Epoch 14/50\n",
      "7960/7960 [==============================] - 2s - loss: 0.0013 - val_loss: 0.0012\n",
      "Epoch 15/50\n",
      "7960/7960 [==============================] - 2s - loss: 0.0013 - val_loss: 0.0011\n",
      "Epoch 16/50\n",
      "7960/7960 [==============================] - 3s - loss: 0.0012 - val_loss: 0.0010\n",
      "Epoch 17/50\n",
      "7960/7960 [==============================] - 2s - loss: 0.0011 - val_loss: 9.7134e-04\n",
      "Epoch 18/50\n",
      "7960/7960 [==============================] - 2s - loss: 0.0011 - val_loss: 0.0018\n",
      "Epoch 19/50\n",
      "7960/7960 [==============================] - 2s - loss: 0.0010 - val_loss: 9.5127e-04\n",
      "Epoch 20/50\n",
      "7960/7960 [==============================] - 3s - loss: 9.8315e-04 - val_loss: 0.0018\n",
      "Epoch 21/50\n",
      "7960/7960 [==============================] - 2s - loss: 9.5902e-04 - val_loss: 7.6490e-04\n",
      "Epoch 22/50\n",
      "7960/7960 [==============================] - 3s - loss: 9.2411e-04 - val_loss: 7.1793e-04\n",
      "Epoch 23/50\n",
      "7960/7960 [==============================] - 4s - loss: 8.8528e-04 - val_loss: 7.1419e-04\n",
      "Epoch 24/50\n",
      "7960/7960 [==============================] - 5s - loss: 8.8475e-04 - val_loss: 6.8699e-04\n",
      "Epoch 25/50\n",
      "7960/7960 [==============================] - 5s - loss: 8.2666e-04 - val_loss: 9.6282e-04\n",
      "Epoch 26/50\n",
      "7960/7960 [==============================] - 6s - loss: 8.2951e-04 - val_loss: 6.2155e-04\n",
      "Epoch 27/50\n",
      "7960/7960 [==============================] - 5s - loss: 7.8275e-04 - val_loss: 7.2358e-04\n",
      "Epoch 28/50\n",
      "7960/7960 [==============================] - 5s - loss: 8.2107e-04 - val_loss: 5.9418e-04\n",
      "Epoch 29/50\n",
      "7960/7960 [==============================] - 5s - loss: 7.9666e-04 - val_loss: 6.4418e-04\n",
      "Epoch 30/50\n",
      "7960/7960 [==============================] - 5s - loss: 7.5412e-04 - val_loss: 6.4941e-04\n",
      "Epoch 31/50\n",
      "7960/7960 [==============================] - 5s - loss: 7.4174e-04 - val_loss: 5.6423e-04\n",
      "Epoch 32/50\n",
      "7960/7960 [==============================] - 5s - loss: 6.9551e-04 - val_loss: 6.6328e-04\n",
      "Epoch 33/50\n",
      "7960/7960 [==============================] - 5s - loss: 7.7781e-04 - val_loss: 0.0012\n",
      "Epoch 34/50\n",
      "7960/7960 [==============================] - 6s - loss: 7.2451e-04 - val_loss: 0.0012\n"
     ]
    },
    {
     "data": {
      "image/png": "[encoded data removed]",
      "text/plain": [
       "<matplotlib.figure.Figure at 0x7f2a26224590>"
      ]
     },
     "metadata": {},
     "output_type": "display_data"
    },
    {
     "name": "stdout",
     "output_type": "stream",
     "text": [
      "Train on 7960 samples, validate on 7960 samples\n",
      "Epoch 1/50\n",
      "7960/7960 [==============================] - 5s - loss: 0.1033 - val_loss: 0.0140\n",
      "Epoch 2/50\n",
      "7960/7960 [==============================] - 5s - loss: 0.0104 - val_loss: 0.0081\n",
      "Epoch 3/50\n",
      "7960/7960 [==============================] - 5s - loss: 0.0069 - val_loss: 0.0058\n",
      "Epoch 4/50\n",
      "7960/7960 [==============================] - 5s - loss: 0.0050 - val_loss: 0.0041\n",
      "Epoch 5/50\n",
      "7960/7960 [==============================] - 5s - loss: 0.0037 - val_loss: 0.0031\n",
      "Epoch 6/50\n",
      "7960/7960 [==============================] - 5s - loss: 0.0027 - val_loss: 0.0023\n",
      "Epoch 7/50\n",
      "7960/7960 [==============================] - 5s - loss: 0.0022 - val_loss: 0.0020\n",
      "Epoch 8/50\n",
      "7960/7960 [==============================] - 5s - loss: 0.0019 - val_loss: 0.0016\n",
      "Epoch 9/50\n",
      "7960/7960 [==============================] - 5s - loss: 0.0016 - val_loss: 0.0015\n",
      "Epoch 10/50\n",
      "7960/7960 [==============================] - 5s - loss: 0.0015 - val_loss: 0.0012\n",
      "Epoch 11/50\n",
      "7960/7960 [==============================] - 5s - loss: 0.0014 - val_loss: 0.0012\n",
      "Epoch 12/50\n",
      "7960/7960 [==============================] - 5s - loss: 0.0012 - val_loss: 0.0010\n",
      "Epoch 13/50\n",
      "7960/7960 [==============================] - 5s - loss: 0.0011 - val_loss: 9.1441e-04\n",
      "Epoch 14/50\n",
      "7960/7960 [==============================] - 5s - loss: 0.0010 - val_loss: 8.9278e-04\n",
      "Epoch 15/50\n",
      "7960/7960 [==============================] - 5s - loss: 0.0010 - val_loss: 9.7577e-04\n",
      "Epoch 16/50\n",
      "7960/7960 [==============================] - 5s - loss: 9.1436e-04 - val_loss: 8.4632e-04\n",
      "Epoch 17/50\n",
      "7960/7960 [==============================] - 5s - loss: 8.7306e-04 - val_loss: 7.0253e-04\n",
      "Epoch 18/50\n",
      "7960/7960 [==============================] - 5s - loss: 8.7633e-04 - val_loss: 7.1478e-04\n",
      "Epoch 19/50\n",
      "7960/7960 [==============================] - 5s - loss: 8.5334e-04 - val_loss: 7.8464e-04\n",
      "Epoch 20/50\n",
      "7960/7960 [==============================] - 5s - loss: 7.9320e-04 - val_loss: 6.8583e-04\n",
      "Epoch 21/50\n",
      "7960/7960 [==============================] - 5s - loss: 8.1035e-04 - val_loss: 5.7431e-04\n",
      "Epoch 22/50\n",
      "7960/7960 [==============================] - 5s - loss: 7.5752e-04 - val_loss: 6.8707e-04\n",
      "Epoch 23/50\n",
      "7960/7960 [==============================] - 5s - loss: 7.8139e-04 - val_loss: 5.3985e-04\n",
      "Epoch 24/50\n",
      "7960/7960 [==============================] - 5s - loss: 6.9131e-04 - val_loss: 5.2698e-04\n",
      "Epoch 25/50\n",
      "7960/7960 [==============================] - 6s - loss: 7.3744e-04 - val_loss: 5.3281e-04\n",
      "Epoch 26/50\n",
      "7960/7960 [==============================] - 5s - loss: 6.8375e-04 - val_loss: 4.8289e-04\n",
      "Epoch 27/50\n",
      "7960/7960 [==============================] - 5s - loss: 7.4067e-04 - val_loss: 6.0647e-04\n",
      "Epoch 28/50\n",
      "7960/7960 [==============================] - 5s - loss: 6.7226e-04 - val_loss: 4.7114e-04\n",
      "Epoch 29/50\n",
      "7960/7960 [==============================] - 5s - loss: 7.7137e-04 - val_loss: 4.9630e-04\n",
      "Epoch 30/50\n",
      "7960/7960 [==============================] - 5s - loss: 6.8876e-04 - val_loss: 4.5247e-04\n",
      "Epoch 31/50\n",
      "7960/7960 [==============================] - 5s - loss: 6.2973e-04 - val_loss: 5.2975e-04\n",
      "Epoch 32/50\n",
      "7960/7960 [==============================] - 6s - loss: 6.9563e-04 - val_loss: 5.5598e-04\n",
      "Epoch 33/50\n",
      "7960/7960 [==============================] - 5s - loss: 6.9124e-04 - val_loss: 8.9737e-04\n"
     ]
    },
    {
     "data": {
      "image/png": "[encoded data removed]",
      "text/plain": [
       "<matplotlib.figure.Figure at 0x7f29d16e9ed0>"
      ]
     },
     "metadata": {},
     "output_type": "display_data"
    },
    {
     "name": "stdout",
     "output_type": "stream",
     "text": [
      "Train on 7960 samples, validate on 7960 samples\n",
      "Epoch 1/50\n",
      "7960/7960 [==============================] - 5s - loss: 0.1004 - val_loss: 0.0111\n",
      "Epoch 2/50\n",
      "7960/7960 [==============================] - 5s - loss: 0.0082 - val_loss: 0.0064\n",
      "Epoch 3/50\n",
      "7960/7960 [==============================] - 5s - loss: 0.0054 - val_loss: 0.0043\n",
      "Epoch 4/50\n",
      "7960/7960 [==============================] - 5s - loss: 0.0036 - val_loss: 0.0027\n",
      "Epoch 5/50\n",
      "7960/7960 [==============================] - 5s - loss: 0.0025 - val_loss: 0.0020\n",
      "Epoch 6/50\n",
      "7960/7960 [==============================] - 5s - loss: 0.0019 - val_loss: 0.0017\n",
      "Epoch 7/50\n",
      "7960/7960 [==============================] - 5s - loss: 0.0017 - val_loss: 0.0015\n",
      "Epoch 8/50\n",
      "7960/7960 [==============================] - 5s - loss: 0.0015 - val_loss: 0.0013\n",
      "Epoch 9/50\n",
      "7960/7960 [==============================] - 5s - loss: 0.0014 - val_loss: 0.0011\n",
      "Epoch 10/50\n",
      "7960/7960 [==============================] - 5s - loss: 0.0012 - val_loss: 9.9619e-04\n",
      "Epoch 11/50\n",
      "7960/7960 [==============================] - 5s - loss: 0.0012 - val_loss: 9.1015e-04\n",
      "Epoch 12/50\n",
      "7960/7960 [==============================] - 5s - loss: 0.0011 - val_loss: 9.4386e-04\n",
      "Epoch 13/50\n",
      "7960/7960 [==============================] - 5s - loss: 9.9417e-04 - val_loss: 7.5421e-04\n",
      "Epoch 14/50\n",
      "7960/7960 [==============================] - 5s - loss: 9.2728e-04 - val_loss: 8.9333e-04\n",
      "Epoch 15/50\n",
      "7960/7960 [==============================] - 5s - loss: 9.2979e-04 - val_loss: 0.0012\n",
      "Epoch 16/50\n",
      "7960/7960 [==============================] - 5s - loss: 8.4955e-04 - val_loss: 8.7249e-04\n"
     ]
    },
    {
     "data": {
      "image/png": "[encoded data removed]",
      "text/plain": [
       "<matplotlib.figure.Figure at 0x7f2a262d0f90>"
      ]
     },
     "metadata": {},
     "output_type": "display_data"
    },
    {
     "name": "stdout",
     "output_type": "stream",
     "text": [
      "Train on 7960 samples, validate on 7960 samples\n",
      "Epoch 1/50\n",
      "7960/7960 [==============================] - 5s - loss: 0.0560 - val_loss: 0.0072\n",
      "Epoch 2/50\n",
      "7960/7960 [==============================] - 5s - loss: 0.0049 - val_loss: 0.0031\n",
      "Epoch 3/50\n",
      "7960/7960 [==============================] - 5s - loss: 0.0026 - val_loss: 0.0020\n",
      "Epoch 4/50\n",
      "7960/7960 [==============================] - 5s - loss: 0.0019 - val_loss: 0.0019\n",
      "Epoch 5/50\n",
      "7960/7960 [==============================] - 5s - loss: 0.0015 - val_loss: 0.0012\n",
      "Epoch 6/50\n",
      "7960/7960 [==============================] - 5s - loss: 0.0012 - val_loss: 0.0011\n",
      "Epoch 7/50\n",
      "7960/7960 [==============================] - 5s - loss: 0.0011 - val_loss: 0.0011\n",
      "Epoch 8/50\n",
      "7960/7960 [==============================] - 5s - loss: 9.8635e-04 - val_loss: 0.0016\n",
      "Epoch 9/50\n",
      "7960/7960 [==============================] - 5s - loss: 9.7887e-04 - val_loss: 6.5957e-04\n",
      "Epoch 10/50\n",
      "7960/7960 [==============================] - 5s - loss: 8.5129e-04 - val_loss: 6.5018e-04\n",
      "Epoch 11/50\n",
      "7960/7960 [==============================] - 5s - loss: 8.2393e-04 - val_loss: 7.9807e-04\n",
      "Epoch 12/50\n",
      "7960/7960 [==============================] - 5s - loss: 8.1711e-04 - val_loss: 7.1863e-04\n",
      "Epoch 13/50\n",
      "7960/7960 [==============================] - 5s - loss: 7.8496e-04 - val_loss: 4.8283e-04\n",
      "Epoch 14/50\n",
      "7960/7960 [==============================] - 5s - loss: 8.5182e-04 - val_loss: 4.4085e-04\n",
      "Epoch 15/50\n",
      "7960/7960 [==============================] - 5s - loss: 6.7913e-04 - val_loss: 4.6375e-04\n",
      "Epoch 16/50\n",
      "7960/7960 [==============================] - 5s - loss: 6.9174e-04 - val_loss: 0.0021\n",
      "Epoch 17/50\n",
      "7960/7960 [==============================] - 5s - loss: 7.1704e-04 - val_loss: 4.0020e-04\n",
      "Epoch 18/50\n",
      "7960/7960 [==============================] - 5s - loss: 7.6833e-04 - val_loss: 3.8651e-04\n",
      "Epoch 19/50\n",
      "7960/7960 [==============================] - 5s - loss: 7.4406e-04 - val_loss: 0.0015\n",
      "Epoch 20/50\n",
      "7960/7960 [==============================] - 5s - loss: 8.0261e-04 - val_loss: 6.1924e-04\n",
      "Epoch 21/50\n",
      "7960/7960 [==============================] - 5s - loss: 7.7462e-04 - val_loss: 3.5394e-04\n",
      "Epoch 22/50\n",
      "7960/7960 [==============================] - 5s - loss: 7.2939e-04 - val_loss: 3.6895e-04\n",
      "Epoch 23/50\n",
      "7960/7960 [==============================] - 5s - loss: 6.3648e-04 - val_loss: 3.3781e-04\n",
      "Epoch 24/50\n",
      "7960/7960 [==============================] - 5s - loss: 7.1779e-04 - val_loss: 4.0646e-04\n",
      "Epoch 25/50\n",
      "7960/7960 [==============================] - 5s - loss: 6.9815e-04 - val_loss: 3.2695e-04\n",
      "Epoch 26/50\n",
      "7960/7960 [==============================] - 5s - loss: 6.8045e-04 - val_loss: 3.5578e-04\n",
      "Epoch 27/50\n",
      "7960/7960 [==============================] - 5s - loss: 7.6613e-04 - val_loss: 3.3842e-04\n",
      "Epoch 28/50\n",
      "7960/7960 [==============================] - 5s - loss: 6.2398e-04 - val_loss: 0.0012\n"
     ]
    },
    {
     "data": {
      "image/png": "[encoded data removed]",
      "text/plain": [
       "<matplotlib.figure.Figure at 0x7f29c6cb6290>"
      ]
     },
     "metadata": {},
     "output_type": "display_data"
    },
    {
     "name": "stdout",
     "output_type": "stream",
     "text": [
      "Train on 7960 samples, validate on 7960 samples\n",
      "Epoch 1/50\n",
      "7960/7960 [==============================] - 5s - loss: 0.0302 - val_loss: 0.0023\n",
      "Epoch 2/50\n",
      "7960/7960 [==============================] - 5s - loss: 0.0017 - val_loss: 0.0011\n",
      "Epoch 3/50\n",
      "7960/7960 [==============================] - 5s - loss: 0.0011 - val_loss: 9.7816e-04\n",
      "Epoch 4/50\n",
      "7960/7960 [==============================] - 5s - loss: 0.0010 - val_loss: 7.1996e-04\n",
      "Epoch 5/50\n",
      "7960/7960 [==============================] - 5s - loss: 9.6152e-04 - val_loss: 8.7381e-04\n",
      "Epoch 6/50\n",
      "7960/7960 [==============================] - 5s - loss: 8.9925e-04 - val_loss: 6.4517e-04\n",
      "Epoch 7/50\n",
      "7960/7960 [==============================] - 5s - loss: 9.4123e-04 - val_loss: 7.3712e-04\n",
      "Epoch 8/50\n",
      "7960/7960 [==============================] - 6s - loss: 8.7956e-04 - val_loss: 5.7107e-04\n",
      "Epoch 9/50\n",
      "7960/7960 [==============================] - 5s - loss: 7.6869e-04 - val_loss: 4.0293e-04\n",
      "Epoch 10/50\n",
      "7960/7960 [==============================] - 5s - loss: 7.4234e-04 - val_loss: 0.0022\n",
      "Epoch 11/50\n",
      "7960/7960 [==============================] - 5s - loss: 8.7563e-04 - val_loss: 8.7365e-04\n",
      "Epoch 12/50\n",
      "7960/7960 [==============================] - 5s - loss: 7.4509e-04 - val_loss: 4.1653e-04\n"
     ]
    },
    {
     "data": {
      "image/png": "[encoded data removed]",
      "text/plain": [
       "<matplotlib.figure.Figure at 0x7f29cde3d410>"
      ]
     },
     "metadata": {},
     "output_type": "display_data"
    }
   ],
   "source": [
    "# define SaveFileName\n",
    "for encoding_dim in EncodingDim:\n",
    "    SaveFileNameEncord=DataName+'_encoded'+'_edim='+str(encoding_dim)+'-Window='+str(SampleNum)+'-Overlap='+str(Overlap*100)\n",
    "    SaveFileNameDecord=DataName+'_decoded'+'_edim='+str(encoding_dim)+'-Window='+str(SampleNum)+'-Overlap='+str(Overlap*100)\n",
    "    SaveFileNameNet=DataName+'_net'+'_edim='+str(encoding_dim)+'-Window='+str(SampleNum)+'-Overlap='+str(Overlap*100)\n",
    "    SaveFileNameTrain=DataName+'_train'+'_edim='+str(encoding_dim)+'-Window='+str(SampleNum)+'-Overlap='+str(Overlap*100)\n",
    "    SaveFileNameTest=DataName+'_test'+'_edim='+str(encoding_dim)+'-Window='+str(SampleNum)+'-Overlap='+str(Overlap*100)\n",
    "    SaveFileNameGlaph=GlaphDataPath+DataName+'_edim='+str(encoding_dim)+'-Window='+str(SampleNum)+'-Overlap='+str(Overlap*100)+'_loss_val_loss.png'\n",
    "\n",
    "    window_test=windoW\n",
    "    window_train=windoW\n",
    "    processing.SaveDicDataFromFileNPZ(WindowDataPath,SaveFileNameTrain,window_test)\n",
    "    processing.SaveDicDataFromFileNPZ(WindowDataPath,SaveFileNameTest,window_test)\n",
    "    shapeNum=windoW.shape[1]\n",
    "\n",
    "    # this is our input placeholder\n",
    "    input_img = Input(shape=(shapeNum,))\n",
    "    # \"encoded\" is the encoded representation of the input\n",
    "    encoded = Dense(encoding_dim, activation='tanh')(input_img)\n",
    "    # \"decoded\" is the lossy reconstruction of the input\n",
    "    decoded = Dense(shapeNum, activation='linear')(encoded)\n",
    "\n",
    "    # this model maps an input to its reconstruction\n",
    "    autoencoder = Model(input=input_img, output=decoded)\n",
    "\n",
    "    # this model maps an input to its encoded representation\n",
    "    encoder = Model(input=input_img, output=encoded)\n",
    "\n",
    "    # create a placeholder for an encoded (32-dimensional) input\n",
    "    encoded_input = Input(shape=(encoding_dim,))\n",
    "    # retrieve the last layer of the autoencoder model\n",
    "    decoder_layer = autoencoder.layers[-1]\n",
    "    # create the decoder model\n",
    "    decoder = Model(input=encoded_input, output=decoder_layer(encoded_input))\n",
    "\n",
    "    autoencoder.compile(optimizer='adadelta', loss='mse')\n",
    "    plot(autoencoder,  to_file=StudyDataModelPicPath+SaveFileNameNet+'.png')\n",
    "\n",
    "    early_stopping = EarlyStopping(monitor='val_loss', patience=2)\n",
    "    hist = autoencoder.fit(window_train, window_train,\n",
    "                    nb_epoch=50,\n",
    "                    batch_size=shapeNum/4,\n",
    "                    shuffle=True,\n",
    "                    validation_data=(window_test, window_test),\n",
    "                    callbacks=[early_stopping])\n",
    "\n",
    "    encoded_imgs = encoder.predict(window_test)\n",
    "    decoded_imgs = decoder.predict(encoded_imgs)\n",
    "\n",
    "    processing.SaveDicDataFromFileNPZ(StudyDataPath,SaveFileNameEncord,encoded_imgs)\n",
    "    processing.SaveDicDataFromFileNPZ(StudyDataPath,SaveFileNameDecord,decoded_imgs)\n",
    "\n",
    "    # save model and wights\n",
    "    json_string = encoder.to_json()\n",
    "    open(StudyDataPath+SaveFileNameEncord+'.json', 'w').write(json_string)\n",
    "    encoder.save_weights(StudyDataPath+SaveFileNameEncord+'_weights.h5')\n",
    "\n",
    "    json_string = decoder.to_json()\n",
    "    open(StudyDataPath+SaveFileNameDecord+'.json', 'w').write(json_string)\n",
    "    decoder.save_weights(StudyDataPath+SaveFileNameDecord+'_weights.h5')\n",
    "\n",
    "    json_string = autoencoder.to_json()\n",
    "    open(StudyDataPath+SaveFileNameNet+'.json', 'w').write(json_string)\n",
    "    autoencoder.save_weights(StudyDataPath+SaveFileNameNet+'_weights.h5')\n",
    "\n",
    "    # plot loss\n",
    "    loss = hist.history['loss']\n",
    "    val_loss = hist.history['val_loss']\n",
    "\n",
    "    nb_epoch = len(loss)\n",
    "    plt.plot(range(nb_epoch), loss, marker='.', label='loss')\n",
    "    plt.plot(range(nb_epoch), val_loss, marker='.', label='val_loss')\n",
    "    plt.legend(loc='best', fontsize=10)\n",
    "    plt.grid()\n",
    "    plt.xlabel('epoch')\n",
    "    plt.ylabel('loss')\n",
    "    plt.savefig(SaveFileNameGlaph)\n",
    "    plt.show()"
   ]
  },
  {
   "cell_type": "code",
   "execution_count": null,
   "metadata": {
    "collapsed": true
   },
   "outputs": [],
   "source": []
  }
 ],
 "metadata": {
  "kernelspec": {
   "display_name": "Python 2",
   "language": "python",
   "name": "python2"
  },
  "language_info": {
   "codemirror_mode": {
    "name": "ipython",
    "version": 2
   },
   "file_extension": ".py",
   "mimetype": "text/x-python",
   "name": "python",
   "nbconvert_exporter": "python",
   "pygments_lexer": "ipython2",
   "version": "2.7.11"
  }
 },
 "nbformat": 4,
 "nbformat_minor": 0
}
