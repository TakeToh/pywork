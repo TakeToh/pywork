{
 "cells": [
  {
   "cell_type": "markdown",
   "metadata": {},
   "source": [
    "important 変数を個々に定義する"
   ]
  },
  {
   "cell_type": "code",
   "execution_count": 1,
   "metadata": {
    "collapsed": true
   },
   "outputs": [],
   "source": [
    "SensorNum=5# Sensor number\n",
    "SampleNum=32 # Window Width\n",
    "Overlap=0.5 # overlap\n",
    "width=1000 # graph width \n",
    "EncodingDim=[4,8,12,16,32,64] # number of hidden layer note \n",
    "Axis='AccX' # Axis"
   ]
  },
  {
   "cell_type": "code",
   "execution_count": 2,
   "metadata": {
    "collapsed": false
   },
   "outputs": [],
   "source": [
    "import numpy as np\n",
    "import pandas as pd\n",
    "from scipy import fftpack\n",
    "from scipy import signal\n",
    "import time\n",
    "import os\n",
    "import matplotlib.pyplot as plt\n",
    "import pylab\n",
    "import pickle\n",
    "import copy\n",
    "\n",
    "import processing\n",
    "import window\n",
    "\n",
    "import matplotlib.animation as animation\n",
    "import datetime\n",
    "\n",
    "%matplotlib inline"
   ]
  },
  {
   "cell_type": "code",
   "execution_count": 3,
   "metadata": {
    "collapsed": false
   },
   "outputs": [
    {
     "name": "stderr",
     "output_type": "stream",
     "text": [
      "Using Theano backend.\n",
      "Using gpu device 0: GeForce GTX 970 (CNMeM is disabled, cuDNN 4007)\n"
     ]
    }
   ],
   "source": [
    "from keras.models import Sequential\n",
    "from keras.datasets import cifar10\n",
    "from keras.layers import Dense, Activation, Flatten\n",
    "from keras.optimizers import Adadelta\n",
    "from keras.utils import np_utils\n",
    "from keras.layers.convolutional import Convolution2D, MaxPooling2D\n",
    "from keras.utils.visualize_util import model_to_dot, plot\n",
    "from keras import backend as K\n",
    "from keras.layers import Input, Dense\n",
    "from keras.models import Model\n",
    "from keras.callbacks import EarlyStopping\n",
    "\n",
    "import matplotlib.image as mpimg\n"
   ]
  },
  {
   "cell_type": "code",
   "execution_count": 4,
   "metadata": {
    "collapsed": true
   },
   "outputs": [],
   "source": [
    "DataName='sensor'+str(SensorNum)+'_'+Axis\n",
    "SensorName='sensor'+str(SensorNum)\n",
    "DicName='MemSensor'+str(SensorNum)"
   ]
  },
  {
   "cell_type": "code",
   "execution_count": 5,
   "metadata": {
    "collapsed": false
   },
   "outputs": [],
   "source": [
    "WORKSPACE_PATH = '/home/takeyama/pywork/ipython/2016-07-11'\n",
    "\n",
    "StudyDataPath=WORKSPACE_PATH+'/Study/'+DataName+'/'+'Window='+str(SampleNum)+'-Overlap='+str(Overlap*100)+'/'\n",
    "if not os.path.exists(StudyDataPath): os.makedirs(StudyDataPath)\n",
    "\n",
    "GlaphDataPath=WORKSPACE_PATH+'/Graph/'+DataName+'/Learning-Window='+str(SampleNum)+'-Overlap='+str(Overlap*100)+'/'\n",
    "if not os.path.exists(GlaphDataPath): os.makedirs(GlaphDataPath)\n",
    "\n",
    "StudyDataModelPicPath=WORKSPACE_PATH+'/Study/'+DataName+'/modelPic-Window='+str(SampleNum)+'-Overlap='+str(Overlap*100)+'/'\n",
    "if not os.path.exists(StudyDataModelPicPath): os.makedirs(StudyDataModelPicPath)\n",
    "\n",
    "WindowDataPath=WORKSPACE_PATH+'/window/'\n",
    "RawDataPath=WORKSPACE_PATH+'/raw/'"
   ]
  },
  {
   "cell_type": "markdown",
   "metadata": {},
   "source": [
    "**Phase1 計測データの取得**"
   ]
  },
  {
   "cell_type": "code",
   "execution_count": 6,
   "metadata": {
    "collapsed": false
   },
   "outputs": [],
   "source": [
    "dic=processing.LoadDicDataFromFileNPZ(RawDataPath+DicName)"
   ]
  },
  {
   "cell_type": "markdown",
   "metadata": {},
   "source": [
    "**Phase2 window flame 作成**"
   ]
  },
  {
   "cell_type": "code",
   "execution_count": 7,
   "metadata": {
    "collapsed": false
   },
   "outputs": [
    {
     "name": "stdout",
     "output_type": "stream",
     "text": [
      "AccX is registed now\n",
      "Build Complete\n",
      "(254742,)\n"
     ]
    }
   ],
   "source": [
    "w=window.Window()\n",
    "w.SetData(Axis,dic[Axis])\n",
    "wind=w.Compile(windowWidth=SampleNum,overlap=Overlap)\n",
    "windoW=wind.reshape((len(wind),np.prod(wind.shape[1:])))"
   ]
  },
  {
   "cell_type": "code",
   "execution_count": 8,
   "metadata": {
    "collapsed": false
   },
   "outputs": [
    {
     "data": {
      "text/plain": [
       "(7960, 32)"
      ]
     },
     "execution_count": 8,
     "metadata": {},
     "output_type": "execute_result"
    }
   ],
   "source": [
    "windoW.shape"
   ]
  },
  {
   "cell_type": "markdown",
   "metadata": {},
   "source": [
    "**前回やった学習をもう１度やってみる**"
   ]
  },
  {
   "cell_type": "code",
   "execution_count": 9,
   "metadata": {
    "collapsed": false,
    "scrolled": true
   },
   "outputs": [
    {
     "name": "stdout",
     "output_type": "stream",
     "text": [
      "Train on 7960 samples, validate on 7960 samples\n",
      "Epoch 1/50\n",
      "7960/7960 [==============================] - 3s - loss: 0.0824 - val_loss: 0.0052\n",
      "Epoch 2/50\n",
      "7960/7960 [==============================] - 2s - loss: 0.0027 - val_loss: 0.0018\n",
      "Epoch 3/50\n",
      "7960/7960 [==============================] - 3s - loss: 0.0015 - val_loss: 0.0014\n",
      "Epoch 4/50\n",
      "7960/7960 [==============================] - 3s - loss: 0.0013 - val_loss: 0.0012\n",
      "Epoch 5/50\n",
      "7960/7960 [==============================] - 3s - loss: 0.0011 - val_loss: 0.0011\n",
      "Epoch 6/50\n",
      "7960/7960 [==============================] - 4s - loss: 0.0010 - val_loss: 9.5833e-04\n",
      "Epoch 7/50\n",
      "7960/7960 [==============================] - 3s - loss: 9.4482e-04 - val_loss: 9.1493e-04\n",
      "Epoch 8/50\n",
      "7960/7960 [==============================] - 3s - loss: 8.7585e-04 - val_loss: 8.7223e-04\n",
      "Epoch 9/50\n",
      "7960/7960 [==============================] - 2s - loss: 8.1439e-04 - val_loss: 7.6461e-04\n",
      "Epoch 10/50\n",
      "7960/7960 [==============================] - 1s - loss: 7.5871e-04 - val_loss: 6.9708e-04\n",
      "Epoch 11/50\n",
      "7960/7960 [==============================] - 1s - loss: 7.0302e-04 - val_loss: 6.8720e-04\n",
      "Epoch 12/50\n",
      "7960/7960 [==============================] - 2s - loss: 6.4372e-04 - val_loss: 7.0661e-04\n",
      "Epoch 13/50\n",
      "7960/7960 [==============================] - 3s - loss: 5.9448e-04 - val_loss: 5.5319e-04\n",
      "Epoch 14/50\n",
      "7960/7960 [==============================] - 3s - loss: 5.3982e-04 - val_loss: 4.8503e-04\n",
      "Epoch 15/50\n",
      "7960/7960 [==============================] - 2s - loss: 4.8760e-04 - val_loss: 4.4245e-04\n",
      "Epoch 16/50\n",
      "7960/7960 [==============================] - 2s - loss: 4.3894e-04 - val_loss: 7.4326e-04\n",
      "Epoch 17/50\n",
      "7960/7960 [==============================] - 2s - loss: 3.9534e-04 - val_loss: 3.4431e-04\n",
      "Epoch 18/50\n",
      "7960/7960 [==============================] - 2s - loss: 3.5523e-04 - val_loss: 3.1211e-04\n",
      "Epoch 19/50\n",
      "7960/7960 [==============================] - 2s - loss: 3.2242e-04 - val_loss: 2.8468e-04\n",
      "Epoch 20/50\n",
      "7960/7960 [==============================] - 2s - loss: 2.9896e-04 - val_loss: 2.6131e-04\n",
      "Epoch 21/50\n",
      "7960/7960 [==============================] - 2s - loss: 2.7802e-04 - val_loss: 2.4241e-04\n",
      "Epoch 22/50\n",
      "7960/7960 [==============================] - 2s - loss: 2.6103e-04 - val_loss: 2.3779e-04\n",
      "Epoch 23/50\n",
      "7960/7960 [==============================] - 2s - loss: 2.5126e-04 - val_loss: 2.1819e-04\n",
      "Epoch 24/50\n",
      "7960/7960 [==============================] - 2s - loss: 2.4174e-04 - val_loss: 2.0482e-04\n",
      "Epoch 25/50\n",
      "7960/7960 [==============================] - 3s - loss: 2.3420e-04 - val_loss: 2.1925e-04\n",
      "Epoch 26/50\n",
      "7960/7960 [==============================] - 2s - loss: 2.2843e-04 - val_loss: 1.9842e-04\n",
      "Epoch 27/50\n",
      "7960/7960 [==============================] - 2s - loss: 2.2125e-04 - val_loss: 1.9949e-04\n",
      "Epoch 28/50\n",
      "7960/7960 [==============================] - 2s - loss: 2.1657e-04 - val_loss: 1.8992e-04\n",
      "Epoch 29/50\n",
      "7960/7960 [==============================] - 2s - loss: 2.1602e-04 - val_loss: 1.8700e-04\n",
      "Epoch 30/50\n",
      "7960/7960 [==============================] - 2s - loss: 2.1383e-04 - val_loss: 2.1633e-04\n",
      "Epoch 31/50\n",
      "7960/7960 [==============================] - 2s - loss: 2.1028e-04 - val_loss: 1.9027e-04\n",
      "Epoch 32/50\n",
      "7960/7960 [==============================] - 2s - loss: 2.1009e-04 - val_loss: 1.7572e-04\n",
      "Epoch 33/50\n",
      "7960/7960 [==============================] - 2s - loss: 2.0447e-04 - val_loss: 1.7504e-04\n",
      "Epoch 34/50\n",
      "7960/7960 [==============================] - 3s - loss: 2.0314e-04 - val_loss: 1.7093e-04\n",
      "Epoch 35/50\n",
      "7960/7960 [==============================] - 3s - loss: 1.9955e-04 - val_loss: 1.8793e-04\n",
      "Epoch 36/50\n",
      "7960/7960 [==============================] - 3s - loss: 1.9951e-04 - val_loss: 1.6677e-04\n",
      "Epoch 37/50\n",
      "7960/7960 [==============================] - 2s - loss: 1.9671e-04 - val_loss: 1.8181e-04\n",
      "Epoch 38/50\n",
      "7960/7960 [==============================] - 2s - loss: 1.9444e-04 - val_loss: 1.6430e-04\n",
      "Epoch 39/50\n",
      "7960/7960 [==============================] - 3s - loss: 1.9360e-04 - val_loss: 1.7592e-04\n",
      "Epoch 40/50\n",
      "7960/7960 [==============================] - 2s - loss: 1.9345e-04 - val_loss: 1.6038e-04\n",
      "Epoch 41/50\n",
      "7960/7960 [==============================] - 3s - loss: 1.9688e-04 - val_loss: 1.8748e-04\n",
      "Epoch 42/50\n",
      "7960/7960 [==============================] - 2s - loss: 1.9463e-04 - val_loss: 1.5756e-04\n",
      "Epoch 43/50\n",
      "7960/7960 [==============================] - 3s - loss: 1.8542e-04 - val_loss: 1.7287e-04\n",
      "Epoch 44/50\n",
      "7960/7960 [==============================] - 2s - loss: 1.8617e-04 - val_loss: 1.9487e-04\n",
      "Epoch 45/50\n",
      "7960/7960 [==============================] - 2s - loss: 1.8235e-04 - val_loss: 1.5493e-04\n",
      "Epoch 46/50\n",
      "7960/7960 [==============================] - 2s - loss: 1.7968e-04 - val_loss: 1.6761e-04\n",
      "Epoch 47/50\n",
      "7960/7960 [==============================] - 2s - loss: 1.8273e-04 - val_loss: 1.7351e-04\n",
      "Epoch 48/50\n",
      "7960/7960 [==============================] - 2s - loss: 1.8406e-04 - val_loss: 1.5344e-04\n",
      "Epoch 49/50\n",
      "7960/7960 [==============================] - 3s - loss: 1.8356e-04 - val_loss: 1.7876e-04\n",
      "Epoch 50/50\n",
      "7960/7960 [==============================] - 2s - loss: 1.8042e-04 - val_loss: 1.5947e-04\n"
     ]
    },
    {
     "data": {
      "image/png": "[encoded data removed]",
      "text/plain": [
       "<matplotlib.figure.Figure at 0x7fc954797990>"
      ]
     },
     "metadata": {},
     "output_type": "display_data"
    },
    {
     "name": "stdout",
     "output_type": "stream",
     "text": [
      "Train on 7960 samples, validate on 7960 samples\n",
      "Epoch 1/50\n",
      "7960/7960 [==============================] - 3s - loss: 0.0538 - val_loss: 0.0023\n",
      "Epoch 2/50\n",
      "7960/7960 [==============================] - 3s - loss: 0.0015 - val_loss: 0.0011\n",
      "Epoch 3/50\n",
      "7960/7960 [==============================] - 2s - loss: 0.0010 - val_loss: 0.0010\n",
      "Epoch 4/50\n",
      "7960/7960 [==============================] - 3s - loss: 8.4516e-04 - val_loss: 7.6914e-04\n",
      "Epoch 5/50\n",
      "7960/7960 [==============================] - 2s - loss: 7.1274e-04 - val_loss: 6.4387e-04\n",
      "Epoch 6/50\n",
      "7960/7960 [==============================] - 2s - loss: 5.9499e-04 - val_loss: 5.1458e-04\n",
      "Epoch 7/50\n",
      "7960/7960 [==============================] - 3s - loss: 5.1058e-04 - val_loss: 4.5507e-04\n",
      "Epoch 8/50\n",
      "7960/7960 [==============================] - 2s - loss: 4.3695e-04 - val_loss: 3.6598e-04\n",
      "Epoch 9/50\n",
      "7960/7960 [==============================] - 2s - loss: 3.7547e-04 - val_loss: 3.1648e-04\n",
      "Epoch 10/50\n",
      "7960/7960 [==============================] - 2s - loss: 3.3430e-04 - val_loss: 2.9437e-04\n",
      "Epoch 11/50\n",
      "7960/7960 [==============================] - 2s - loss: 3.0172e-04 - val_loss: 2.6755e-04\n",
      "Epoch 12/50\n",
      "7960/7960 [==============================] - 2s - loss: 2.8582e-04 - val_loss: 3.5624e-04\n",
      "Epoch 13/50\n",
      "7960/7960 [==============================] - 2s - loss: 2.7312e-04 - val_loss: 2.5251e-04\n",
      "Epoch 14/50\n",
      "7960/7960 [==============================] - 2s - loss: 2.5630e-04 - val_loss: 2.6611e-04\n",
      "Epoch 15/50\n",
      "7960/7960 [==============================] - 2s - loss: 2.4822e-04 - val_loss: 2.0222e-04\n",
      "Epoch 16/50\n",
      "7960/7960 [==============================] - 2s - loss: 2.4400e-04 - val_loss: 2.2209e-04\n",
      "Epoch 17/50\n",
      "7960/7960 [==============================] - 2s - loss: 2.3477e-04 - val_loss: 1.9968e-04\n",
      "Epoch 18/50\n",
      "7960/7960 [==============================] - 2s - loss: 2.2993e-04 - val_loss: 1.9438e-04\n",
      "Epoch 19/50\n",
      "7960/7960 [==============================] - 2s - loss: 2.2383e-04 - val_loss: 2.9886e-04\n",
      "Epoch 20/50\n",
      "7960/7960 [==============================] - 2s - loss: 2.2758e-04 - val_loss: 2.9219e-04\n",
      "Epoch 21/50\n",
      "7960/7960 [==============================] - 2s - loss: 2.1969e-04 - val_loss: 1.7267e-04\n",
      "Epoch 22/50\n",
      "7960/7960 [==============================] - 2s - loss: 2.1698e-04 - val_loss: 4.2115e-04\n",
      "Epoch 23/50\n",
      "7960/7960 [==============================] - 2s - loss: 2.0596e-04 - val_loss: 1.6272e-04\n",
      "Epoch 24/50\n",
      "7960/7960 [==============================] - 2s - loss: 2.1134e-04 - val_loss: 1.6827e-04\n",
      "Epoch 25/50\n",
      "7960/7960 [==============================] - 2s - loss: 2.0795e-04 - val_loss: 1.6008e-04\n",
      "Epoch 26/50\n",
      "7960/7960 [==============================] - 2s - loss: 2.0335e-04 - val_loss: 2.0119e-04\n",
      "Epoch 27/50\n",
      "7960/7960 [==============================] - 2s - loss: 1.9067e-04 - val_loss: 2.7799e-04\n",
      "Epoch 28/50\n",
      "7960/7960 [==============================] - 2s - loss: 1.9404e-04 - val_loss: 2.9653e-04\n"
     ]
    },
    {
     "data": {
      "image/png": "[encoded data removed]",
      "text/plain": [
       "<matplotlib.figure.Figure at 0x7fc9aaaf2850>"
      ]
     },
     "metadata": {},
     "output_type": "display_data"
    },
    {
     "name": "stdout",
     "output_type": "stream",
     "text": [
      "Train on 7960 samples, validate on 7960 samples\n",
      "Epoch 1/50\n",
      "7960/7960 [==============================] - 3s - loss: 0.0589 - val_loss: 0.0015\n",
      "Epoch 2/50\n",
      "7960/7960 [==============================] - 2s - loss: 0.0012 - val_loss: 0.0012\n",
      "Epoch 3/50\n",
      "7960/7960 [==============================] - 2s - loss: 8.9521e-04 - val_loss: 7.8949e-04\n",
      "Epoch 4/50\n",
      "7960/7960 [==============================] - 2s - loss: 7.5735e-04 - val_loss: 7.0536e-04\n",
      "Epoch 5/50\n",
      "7960/7960 [==============================] - 2s - loss: 6.5316e-04 - val_loss: 5.7384e-04\n",
      "Epoch 6/50\n",
      "7960/7960 [==============================] - 2s - loss: 5.6725e-04 - val_loss: 6.6867e-04\n",
      "Epoch 7/50\n",
      "7960/7960 [==============================] - 2s - loss: 4.9575e-04 - val_loss: 4.5551e-04\n",
      "Epoch 8/50\n",
      "7960/7960 [==============================] - 2s - loss: 4.3534e-04 - val_loss: 3.6304e-04\n",
      "Epoch 9/50\n",
      "7960/7960 [==============================] - 2s - loss: 3.8261e-04 - val_loss: 3.1852e-04\n",
      "Epoch 10/50\n",
      "7960/7960 [==============================] - 2s - loss: 3.4331e-04 - val_loss: 2.9298e-04\n",
      "Epoch 11/50\n",
      "7960/7960 [==============================] - 2s - loss: 3.2389e-04 - val_loss: 6.0500e-04\n",
      "Epoch 12/50\n",
      "7960/7960 [==============================] - 2s - loss: 3.0440e-04 - val_loss: 2.4453e-04\n",
      "Epoch 13/50\n",
      "7960/7960 [==============================] - 3s - loss: 2.8820e-04 - val_loss: 2.4577e-04\n",
      "Epoch 14/50\n",
      "7960/7960 [==============================] - 3s - loss: 2.7906e-04 - val_loss: 2.3944e-04\n",
      "Epoch 15/50\n",
      "7960/7960 [==============================] - 2s - loss: 2.6952e-04 - val_loss: 2.8281e-04\n",
      "Epoch 16/50\n",
      "7960/7960 [==============================] - 2s - loss: 2.6478e-04 - val_loss: 2.2695e-04\n",
      "Epoch 17/50\n",
      "7960/7960 [==============================] - 3s - loss: 2.5910e-04 - val_loss: 2.1707e-04\n",
      "Epoch 18/50\n",
      "7960/7960 [==============================] - 3s - loss: 2.4835e-04 - val_loss: 1.9750e-04\n",
      "Epoch 19/50\n",
      "7960/7960 [==============================] - 3s - loss: 2.4392e-04 - val_loss: 1.9148e-04\n",
      "Epoch 20/50\n",
      "7960/7960 [==============================] - 2s - loss: 2.3551e-04 - val_loss: 2.2200e-04\n",
      "Epoch 21/50\n",
      "7960/7960 [==============================] - 3s - loss: 2.3280e-04 - val_loss: 1.8221e-04\n",
      "Epoch 22/50\n",
      "7960/7960 [==============================] - 2s - loss: 2.3116e-04 - val_loss: 2.6686e-04\n",
      "Epoch 23/50\n",
      "7960/7960 [==============================] - 2s - loss: 2.2112e-04 - val_loss: 2.1248e-04\n",
      "Epoch 24/50\n",
      "7960/7960 [==============================] - 3s - loss: 2.2508e-04 - val_loss: 1.7649e-04\n",
      "Epoch 25/50\n",
      "7960/7960 [==============================] - 3s - loss: 2.2364e-04 - val_loss: 2.3421e-04\n",
      "Epoch 26/50\n",
      "7960/7960 [==============================] - 3s - loss: 2.0856e-04 - val_loss: 1.9796e-04\n",
      "Epoch 27/50\n",
      "7960/7960 [==============================] - 2s - loss: 2.1545e-04 - val_loss: 3.1524e-04\n"
     ]
    },
    {
     "data": {
      "image/png": "[encoded data removed]",
      "text/plain": [
       "<matplotlib.figure.Figure at 0x7fc957f7c510>"
      ]
     },
     "metadata": {},
     "output_type": "display_data"
    },
    {
     "name": "stdout",
     "output_type": "stream",
     "text": [
      "Train on 7960 samples, validate on 7960 samples\n",
      "Epoch 1/50\n",
      "7960/7960 [==============================] - 3s - loss: 0.0203 - val_loss: 0.0012\n",
      "Epoch 2/50\n",
      "7960/7960 [==============================] - 2s - loss: 9.6507e-04 - val_loss: 7.5410e-04\n",
      "Epoch 3/50\n",
      "7960/7960 [==============================] - 2s - loss: 6.7817e-04 - val_loss: 5.6457e-04\n",
      "Epoch 4/50\n",
      "7960/7960 [==============================] - 1s - loss: 5.2313e-04 - val_loss: 4.4454e-04\n",
      "Epoch 5/50\n",
      "7960/7960 [==============================] - 2s - loss: 4.2413e-04 - val_loss: 3.4398e-04\n",
      "Epoch 6/50\n",
      "7960/7960 [==============================] - 2s - loss: 3.6636e-04 - val_loss: 2.9258e-04\n",
      "Epoch 7/50\n",
      "7960/7960 [==============================] - 1s - loss: 3.2539e-04 - val_loss: 2.6754e-04\n",
      "Epoch 8/50\n",
      "7960/7960 [==============================] - 1s - loss: 3.0169e-04 - val_loss: 2.5463e-04\n",
      "Epoch 9/50\n",
      "7960/7960 [==============================] - 1s - loss: 2.9077e-04 - val_loss: 2.7218e-04\n",
      "Epoch 10/50\n",
      "7960/7960 [==============================] - 1s - loss: 2.8204e-04 - val_loss: 5.2103e-04\n",
      "Epoch 11/50\n",
      "7960/7960 [==============================] - 1s - loss: 2.7851e-04 - val_loss: 2.9203e-04\n"
     ]
    },
    {
     "data": {
      "image/png": "[encoded data removed]",
      "text/plain": [
       "<matplotlib.figure.Figure at 0x7fc9680dd250>"
      ]
     },
     "metadata": {},
     "output_type": "display_data"
    },
    {
     "name": "stdout",
     "output_type": "stream",
     "text": [
      "Train on 7960 samples, validate on 7960 samples\n",
      "Epoch 1/50\n",
      "7960/7960 [==============================] - 2s - loss: 0.0205 - val_loss: 9.1966e-04\n",
      "Epoch 2/50\n",
      "7960/7960 [==============================] - 1s - loss: 6.8502e-04 - val_loss: 4.8302e-04\n",
      "Epoch 3/50\n",
      "7960/7960 [==============================] - 1s - loss: 4.0133e-04 - val_loss: 3.4677e-04\n",
      "Epoch 4/50\n",
      "7960/7960 [==============================] - 1s - loss: 3.0617e-04 - val_loss: 6.7754e-04\n",
      "Epoch 5/50\n",
      "7960/7960 [==============================] - 1s - loss: 2.7288e-04 - val_loss: 2.0073e-04\n",
      "Epoch 6/50\n",
      "7960/7960 [==============================] - 1s - loss: 2.4980e-04 - val_loss: 2.1625e-04\n",
      "Epoch 7/50\n",
      "7960/7960 [==============================] - 1s - loss: 2.3655e-04 - val_loss: 1.7536e-04\n",
      "Epoch 8/50\n",
      "7960/7960 [==============================] - 1s - loss: 2.3211e-04 - val_loss: 1.7791e-04\n",
      "Epoch 9/50\n",
      "7960/7960 [==============================] - 1s - loss: 2.1937e-04 - val_loss: 1.8957e-04\n",
      "Epoch 10/50\n",
      "7960/7960 [==============================] - 1s - loss: 2.2057e-04 - val_loss: 6.9057e-04\n"
     ]
    },
    {
     "data": {
      "image/png": "[encoded data removed]",
      "text/plain": [
       "<matplotlib.figure.Figure at 0x7fc95b59c7d0>"
      ]
     },
     "metadata": {},
     "output_type": "display_data"
    },
    {
     "name": "stdout",
     "output_type": "stream",
     "text": [
      "Train on 7960 samples, validate on 7960 samples\n",
      "Epoch 1/50\n",
      "7960/7960 [==============================] - 1s - loss: 0.0169 - val_loss: 8.4171e-04\n",
      "Epoch 2/50\n",
      "7960/7960 [==============================] - 1s - loss: 3.9641e-04 - val_loss: 2.9524e-04\n",
      "Epoch 3/50\n",
      "7960/7960 [==============================] - 1s - loss: 2.9650e-04 - val_loss: 3.5793e-04\n",
      "Epoch 4/50\n",
      "7960/7960 [==============================] - 1s - loss: 2.5383e-04 - val_loss: 1.6118e-04\n",
      "Epoch 5/50\n",
      "7960/7960 [==============================] - 1s - loss: 2.1998e-04 - val_loss: 2.4083e-04\n",
      "Epoch 6/50\n",
      "7960/7960 [==============================] - 1s - loss: 2.0701e-04 - val_loss: 2.5079e-04\n",
      "Epoch 7/50\n",
      "7960/7960 [==============================] - 1s - loss: 2.0420e-04 - val_loss: 1.1209e-04\n",
      "Epoch 8/50\n",
      "7960/7960 [==============================] - 1s - loss: 1.8524e-04 - val_loss: 1.0667e-04\n",
      "Epoch 9/50\n",
      "7960/7960 [==============================] - 1s - loss: 1.8396e-04 - val_loss: 9.9742e-05\n",
      "Epoch 10/50\n",
      "7960/7960 [==============================] - 1s - loss: 1.7450e-04 - val_loss: 1.4277e-04\n",
      "Epoch 11/50\n",
      "7960/7960 [==============================] - 1s - loss: 1.7165e-04 - val_loss: 1.5798e-04\n",
      "Epoch 12/50\n",
      "7960/7960 [==============================] - 1s - loss: 1.6169e-04 - val_loss: 9.4080e-05\n",
      "Epoch 13/50\n",
      "7960/7960 [==============================] - 1s - loss: 1.6326e-04 - val_loss: 1.7927e-04\n",
      "Epoch 14/50\n",
      "7960/7960 [==============================] - 1s - loss: 1.4842e-04 - val_loss: 2.7577e-04\n",
      "Epoch 15/50\n",
      "7960/7960 [==============================] - 1s - loss: 1.4611e-04 - val_loss: 7.6314e-05\n",
      "Epoch 16/50\n",
      "7960/7960 [==============================] - 1s - loss: 1.4739e-04 - val_loss: 8.1229e-05\n",
      "Epoch 17/50\n",
      "7960/7960 [==============================] - 1s - loss: 1.4016e-04 - val_loss: 1.6531e-04\n",
      "Epoch 18/50\n",
      "7960/7960 [==============================] - 1s - loss: 1.5474e-04 - val_loss: 7.0004e-05\n",
      "Epoch 19/50\n",
      "7960/7960 [==============================] - 1s - loss: 1.4249e-04 - val_loss: 1.0290e-04\n",
      "Epoch 20/50\n",
      "7960/7960 [==============================] - 1s - loss: 1.3665e-04 - val_loss: 8.4217e-05\n",
      "Epoch 21/50\n",
      "7960/7960 [==============================] - 1s - loss: 1.3068e-04 - val_loss: 7.3958e-05\n"
     ]
    },
    {
     "data": {
      "image/png": "[encoded data removed]",
      "text/plain": [
       "<matplotlib.figure.Figure at 0x7fc960069a10>"
      ]
     },
     "metadata": {},
     "output_type": "display_data"
    }
   ],
   "source": [
    "# define SaveFileName\n",
    "for encoding_dim in EncodingDim:\n",
    "    SaveFileNameEncord=DataName+'_encoded'+'_edim='+str(encoding_dim)+'-Window='+str(SampleNum)+'-Overlap='+str(Overlap*100)\n",
    "    SaveFileNameDecord=DataName+'_decoded'+'_edim='+str(encoding_dim)+'-Window='+str(SampleNum)+'-Overlap='+str(Overlap*100)\n",
    "    SaveFileNameNet=DataName+'_net'+'_edim='+str(encoding_dim)+'-Window='+str(SampleNum)+'-Overlap='+str(Overlap*100)\n",
    "    SaveFileNameTrain=DataName+'_train'+'_edim='+str(encoding_dim)+'-Window='+str(SampleNum)+'-Overlap='+str(Overlap*100)\n",
    "    SaveFileNameTest=DataName+'_test'+'_edim='+str(encoding_dim)+'-Window='+str(SampleNum)+'-Overlap='+str(Overlap*100)\n",
    "    SaveFileNameGlaph=GlaphDataPath+DataName+'_edim='+str(encoding_dim)+'-Window='+str(SampleNum)+'-Overlap='+str(Overlap*100)+'_loss_val_loss.png'\n",
    "\n",
    "    window_test=windoW\n",
    "    window_train=windoW\n",
    "    processing.SaveDicDataFromFileNPZ(WindowDataPath,SaveFileNameTrain,window_test)\n",
    "    processing.SaveDicDataFromFileNPZ(WindowDataPath,SaveFileNameTest,window_test)\n",
    "    shapeNum=windoW.shape[1]\n",
    "\n",
    "    # this is our input placeholder\n",
    "    input_img = Input(shape=(shapeNum,))\n",
    "    # \"encoded\" is the encoded representation of the input\n",
    "    encoded = Dense(encoding_dim, activation='tanh')(input_img)\n",
    "    # \"decoded\" is the lossy reconstruction of the input\n",
    "    decoded = Dense(shapeNum, activation='linear')(encoded)\n",
    "\n",
    "    # this model maps an input to its reconstruction\n",
    "    autoencoder = Model(input=input_img, output=decoded)\n",
    "\n",
    "    # this model maps an input to its encoded representation\n",
    "    encoder = Model(input=input_img, output=encoded)\n",
    "\n",
    "    # create a placeholder for an encoded (32-dimensional) input\n",
    "    encoded_input = Input(shape=(encoding_dim,))\n",
    "    # retrieve the last layer of the autoencoder model\n",
    "    decoder_layer = autoencoder.layers[-1]\n",
    "    # create the decoder model\n",
    "    decoder = Model(input=encoded_input, output=decoder_layer(encoded_input))\n",
    "\n",
    "    autoencoder.compile(optimizer='adadelta', loss='mse')\n",
    "    plot(autoencoder,  to_file=StudyDataModelPicPath+SaveFileNameNet+'.png')\n",
    "\n",
    "    early_stopping = EarlyStopping(monitor='val_loss', patience=2)\n",
    "    hist = autoencoder.fit(window_train, window_train,\n",
    "                    nb_epoch=50,\n",
    "                    batch_size=shapeNum/4,\n",
    "                    shuffle=True,\n",
    "                    validation_data=(window_test, window_test),\n",
    "                    callbacks=[early_stopping])\n",
    "\n",
    "    encoded_imgs = encoder.predict(window_test)\n",
    "    decoded_imgs = decoder.predict(encoded_imgs)\n",
    "\n",
    "    processing.SaveDicDataFromFileNPZ(StudyDataPath,SaveFileNameEncord,encoded_imgs)\n",
    "    processing.SaveDicDataFromFileNPZ(StudyDataPath,SaveFileNameDecord,decoded_imgs)\n",
    "\n",
    "    # save model and wights\n",
    "    json_string = encoder.to_json()\n",
    "    open(StudyDataPath+SaveFileNameEncord+'.json', 'w').write(json_string)\n",
    "    encoder.save_weights(StudyDataPath+SaveFileNameEncord+'_weights.h5')\n",
    "\n",
    "    json_string = decoder.to_json()\n",
    "    open(StudyDataPath+SaveFileNameDecord+'.json', 'w').write(json_string)\n",
    "    decoder.save_weights(StudyDataPath+SaveFileNameDecord+'_weights.h5')\n",
    "\n",
    "    json_string = autoencoder.to_json()\n",
    "    open(StudyDataPath+SaveFileNameNet+'.json', 'w').write(json_string)\n",
    "    autoencoder.save_weights(StudyDataPath+SaveFileNameNet+'_weights.h5')\n",
    "\n",
    "    # plot loss\n",
    "    loss = hist.history['loss']\n",
    "    val_loss = hist.history['val_loss']\n",
    "\n",
    "    nb_epoch = len(loss)\n",
    "    plt.plot(range(nb_epoch), loss, marker='.', label='loss')\n",
    "    plt.plot(range(nb_epoch), val_loss, marker='.', label='val_loss')\n",
    "    plt.legend(loc='best', fontsize=10)\n",
    "    plt.grid()\n",
    "    plt.xlabel('epoch')\n",
    "    plt.ylabel('loss')\n",
    "    plt.savefig(SaveFileNameGlaph)\n",
    "    plt.show()"
   ]
  },
  {
   "cell_type": "code",
   "execution_count": null,
   "metadata": {
    "collapsed": true
   },
   "outputs": [],
   "source": []
  }
 ],
 "metadata": {
  "kernelspec": {
   "display_name": "Python 2",
   "language": "python",
   "name": "python2"
  },
  "language_info": {
   "codemirror_mode": {
    "name": "ipython",
    "version": 2
   },
   "file_extension": ".py",
   "mimetype": "text/x-python",
   "name": "python",
   "nbconvert_exporter": "python",
   "pygments_lexer": "ipython2",
   "version": "2.7.11"
  }
 },
 "nbformat": 4,
 "nbformat_minor": 0
}
