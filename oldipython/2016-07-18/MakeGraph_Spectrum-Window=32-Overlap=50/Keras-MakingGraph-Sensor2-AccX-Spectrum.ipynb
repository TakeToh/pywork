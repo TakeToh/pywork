{
 "cells": [
  {
   "cell_type": "code",
   "execution_count": 1,
   "metadata": {
    "collapsed": false
   },
   "outputs": [],
   "source": [
    "import numpy as np\n",
    "import pandas as pd\n",
    "from scipy import fftpack\n",
    "from scipy import signal\n",
    "import time\n",
    "import os\n",
    "import matplotlib\n",
    "matplotlib.use('TkAgg')\n",
    "import matplotlib.pyplot as plt\n",
    "import pylab\n",
    "import pickle\n",
    "import copy\n",
    "import processing\n",
    "import matplotlib.animation as animation\n",
    "import datetime\n",
    "import multiprocessing as mp\n",
    "import processing\n",
    "from scipy import stats\n",
    "\n",
    "%matplotlib inline"
   ]
  },
  {
   "cell_type": "markdown",
   "metadata": {},
   "source": [
    "共通変数をここに定義"
   ]
  },
  {
   "cell_type": "code",
   "execution_count": 2,
   "metadata": {
    "collapsed": true
   },
   "outputs": [],
   "source": [
    "DataName='sensor2_AccX'\n",
    "SensorName='sensor2'\n",
    "Axis='AccX'\n",
    "SampleNum=32\n",
    "width=1000"
   ]
  },
  {
   "cell_type": "code",
   "execution_count": 3,
   "metadata": {
    "collapsed": false
   },
   "outputs": [],
   "source": [
    "WORKSPACE_PATH = '/home/takeyama/pywork/ipython/2016-07-11'\n",
    "\n",
    "StudyDataPath=WORKSPACE_PATH+'/Study/'+DataName+'/'\n",
    "if not os.path.exists(StudyDataPath): os.makedirs(StudyDataPath)\n",
    "\n",
    "GlaphDataPath=WORKSPACE_PATH+'/Graph/'+DataName+'/spectrum/'\n",
    "if not os.path.exists(GlaphDataPath): os.makedirs(GlaphDataPath)\n",
    "\n",
    "StudyDataModelPicPath=WORKSPACE_PATH+'/Study/'+DataName+'/modelPic/'\n",
    "if not os.path.exists(StudyDataModelPicPath): os.makedirs(StudyDataModelPicPath)\n",
    "\n",
    "WindowDataPath=WORKSPACE_PATH+'/window/'\n",
    "RawDataPath=WORKSPACE_PATH+'/raw/'"
   ]
  },
  {
   "cell_type": "markdown",
   "metadata": {},
   "source": [
    "並列処理でグラフを作成する"
   ]
  },
  {
   "cell_type": "code",
   "execution_count": 4,
   "metadata": {
    "collapsed": false,
    "scrolled": true
   },
   "outputs": [
    {
     "name": "stderr",
     "output_type": "stream",
     "text": [
      "/home/takeyama/.pyenv/versions/takeyama/lib/python2.7/site-packages/matplotlib/axes/_axes.py:519: UserWarning: No labelled objects found. Use label='...' kwarg on individual plots.\n",
      "  warnings.warn(\"No labelled objects found. \"\n"
     ]
    },
    {
     "name": "stdout",
     "output_type": "stream",
     "text": [
      "Graph range=0 : 1000\n",
      "Graph range=1000 : 2000\n",
      "Graph range=2000 : 3000\n",
      "Graph range=3000 : 4000\n",
      "Graph range=4000 : 5000\n",
      "Graph range=5000 : 6000\n",
      "Graph range=6000 : 7000\n",
      "Graph range=7000 : 8000\n",
      "Graph range=8000 : 9000\n",
      "Graph range=9000 : 10000\n",
      "Graph range=10000 : 11000\n",
      "Graph range=11000 : 12000\n",
      "Graph range=12000 : 13000\n",
      "Graph range=13000 : 14000\n",
      "Graph range=14000 : 15000\n",
      "Graph range=0 : 1000\n",
      "Graph range=1000 : 2000\n",
      "Graph range=2000 : 3000\n",
      "Graph range=3000 : 4000\n",
      "Graph range=4000 : 5000\n",
      "Graph range=5000 : 6000\n",
      "Graph range=6000 : 7000\n",
      "Graph range=7000 : 8000\n",
      "Graph range=8000 : 9000\n",
      "Graph range=9000 : 10000\n",
      "Graph range=10000 : 11000\n",
      "Graph range=11000 : 12000\n",
      "Graph range=12000 : 13000\n",
      "Graph range=13000 : 14000\n",
      "Graph range=14000 : 15000\n",
      "Graph range=0 : 1000\n",
      "Graph range=1000 : 2000\n",
      "Graph range=2000 : 3000\n",
      "Graph range=3000 : 4000\n",
      "Graph range=4000 : 5000\n",
      "Graph range=5000 : 6000\n",
      "Graph range=6000 : 7000\n",
      "Graph range=7000 : 8000\n",
      "Graph range=8000 : 9000\n",
      "Graph range=9000 : 10000\n",
      "Graph range=10000 : 11000\n",
      "Graph range=11000 : 12000\n",
      "Graph range=12000 : 13000\n",
      "Graph range=13000 : 14000\n",
      "Graph range=14000 : 15000\n",
      "Graph range=0 : 1000\n",
      "Graph range=1000 : 2000\n",
      "Graph range=2000 : 3000\n",
      "Graph range=3000 : 4000\n",
      "Graph range=4000 : 5000\n",
      "Graph range=5000 : 6000\n",
      "Graph range=6000 : 7000\n",
      "Graph range=7000 : 8000\n",
      "Graph range=8000 : 9000\n",
      "Graph range=9000 : 10000\n",
      "Graph range=10000 : 11000\n",
      "Graph range=11000 : 12000\n",
      "Graph range=12000 : 13000\n",
      "Graph range=13000 : 14000\n",
      "Graph range=14000 : 15000\n",
      "Graph range=0 : 1000\n",
      "Graph range=1000 : 2000\n",
      "Graph range=2000 : 3000\n",
      "Graph range=3000 : 4000\n",
      "Graph range=4000 : 5000\n",
      "Graph range=5000 : 6000\n",
      "Graph range=6000 : 7000\n",
      "Graph range=7000 : 8000\n",
      "Graph range=8000 : 9000\n",
      "Graph range=9000 : 10000\n",
      "Graph range=10000 : 11000\n",
      "Graph range=11000 : 12000\n",
      "Graph range=12000 : 13000\n",
      "Graph range=13000 : 14000\n",
      "Graph range=14000 : 15000\n",
      "Graph range=0 : 1000\n",
      "Graph range=1000 : 2000\n",
      "Graph range=2000 : 3000\n",
      "Graph range=3000 : 4000\n",
      "Graph range=4000 : 5000\n",
      "Graph range=5000 : 6000\n",
      "Graph range=6000 : 7000\n",
      "Graph range=7000 : 8000\n",
      "Graph range=8000 : 9000\n",
      "Graph range=9000 : 10000\n",
      "Graph range=10000 : 11000\n",
      "Graph range=11000 : 12000\n",
      "Graph range=12000 : 13000\n",
      "Graph range=13000 : 14000\n",
      "Graph range=14000 : 15000\n"
     ]
    },
    {
     "data": {
      "image/png": "[encoded data removed]",
      "text/plain": [
       "<matplotlib.figure.Figure at 0x7fdbea8b6d90>"
      ]
     },
     "metadata": {},
     "output_type": "display_data"
    }
   ],
   "source": [
    "# define SaveFileName\n",
    "# 8, 4, 12, 16, 32, 64\n",
    "# 32 floats -> compression of factor 24.5, assuming the input is 784 floats\n",
    "def kld(p, q):\n",
    "    \"\"\"Calculates Kullback–Leibler divergence\"\"\"\n",
    "    p = np.array(p)\n",
    "    q = np.array(q)\n",
    "    return np.sum(p * np.log(p / q), axis=(p.ndim - 1))\n",
    " \n",
    "def jsd(p, q):\n",
    "    \"\"\"Calculates Jensen-Shannon Divergence\"\"\"\n",
    "    p = np.array(p)\n",
    "    q = np.array(q)\n",
    "    m = 0.5 * (p + q)\n",
    "    return 0.5 * kld(p, m) + 0.5 * kld(q, m)\n",
    "\n",
    "AllEncoding_dim = [4, 8, 12, 16, 32, 64]  \n",
    "window = processing.LoadDicDataFromFileNPZ(WindowDataPath+SensorName+'_'+Axis+'_train_edim=8.npz')\n",
    "fig = plt.figure(figsize=(30,15))\n",
    "ax = fig.add_subplot(311)\n",
    "bx = fig.add_subplot(312)\n",
    "cx = fig.add_subplot(313)\n",
    "\n",
    "for encoding_dim in AllEncoding_dim:\n",
    "    SaveFileNameDecord=DataName+'_decoded'+'_edim='+str(encoding_dim)\n",
    "    SaveFileNameGraph=GlaphDataPath+ DataName+'_edim='+str(encoding_dim)\n",
    "\n",
    "    reconstructData = processing.LoadDicDataFromFileNPZ(StudyDataPath+SaveFileNameDecord)\n",
    "    \n",
    "    PowerDataE=processing.LoadDicDataFromFileNPZ(StudyDataPath+DataName+'_edim='+str(encoding_dim)+'-power-raw.npz')\n",
    "    PowerDataD=processing.LoadDicDataFromFileNPZ(StudyDataPath+DataName+'_edim='+str(encoding_dim)+'-power-restruct.npz')\n",
    "\n",
    "    # to distribution\n",
    "    DistributePowerDataE = np.array([])\n",
    "    DistributePowerDataD = np.array([])\n",
    "\n",
    "    for i in range( PowerDataE.shape[0] ):\n",
    "        DistributePowerDataE = np.append(DistributePowerDataE,PowerDataE[i]/( np.sum(PowerDataE[i]) ))\n",
    "    DistributePowerDataE = DistributePowerDataE.reshape(PowerDataE.shape)\n",
    "    \n",
    "    for i in range( PowerDataD.shape[0] ):\n",
    "        DistributePowerDataD = np.append(DistributePowerDataD,PowerDataD[i]/( np.sum(PowerDataD[i]) ))\n",
    "    DistributePowerDataD = DistributePowerDataD.reshape(PowerDataD.shape)\n",
    "    \n",
    "    processing.SaveDicDataFromFileNPZ(StudyDataPath, DataName+'_edim='+str(encoding_dim)+'-power-distribution-raw',DistributePowerDataE)\n",
    "    processing.SaveDicDataFromFileNPZ(StudyDataPath, DataName+'_edim='+str(encoding_dim)+'-power-distribution-reconst',DistributePowerDataD)\n",
    "    \n",
    "    ArrayKLD = np.array([])\n",
    "    \n",
    "    # Kullback-leibler-divergence plot\n",
    "    for i in range(DistributePowerDataE.shape[0]):\n",
    "        ArrayKLD = np.append(ArrayKLD, kld(DistributePowerDataE[i],DistributePowerDataD[i]))\n",
    "    \n",
    "    for i in range(width,DistributePowerDataE.shape[0],width):\n",
    "        start =i-width\n",
    "        goal=i\n",
    "\n",
    "        data = ArrayKLD[start:goal]\n",
    "        dataE = DistributePowerDataE[start:goal]\n",
    "        dataD = DistributePowerDataD[start:goal]\n",
    "\n",
    "        #dataE,dataDをPower\n",
    "        ax.pcolormesh(range(start,goal),range(dataE.shape[1]),dataE.T ,label='rawData')\n",
    "        ax.legend(loc='best')\n",
    "        ax.set_title(str(start)+\"-\"+str(goal))\n",
    "        \n",
    "        bx.pcolormesh(range(start,goal),range(dataD.shape[1]),dataD.T ,label='reconst' )\n",
    "        bx.legend(loc='best')\n",
    "        bx.set_title(str(start)+\"-\"+str(goal))\n",
    "        \n",
    "        cx.plot(range(start,goal),data,'g',label=\"kld data\")\n",
    "        cx.legend(loc='best')\n",
    "        cx.set_title(str(start)+\"-\"+str(goal))\n",
    "        ax.figure.savefig(SaveFileNameGraph+'-'+str(start)+\"-\"+str(goal)+'-'+'-glaph')\n",
    "        ax.clear()\n",
    "        bx.clear()\n",
    "        cx.clear()\n",
    "        print 'Graph range='+str(start)+' : '+str(goal)\n",
    "        time.sleep(3)"
   ]
  },
  {
   "cell_type": "code",
   "execution_count": null,
   "metadata": {
    "collapsed": true
   },
   "outputs": [],
   "source": []
  }
 ],
 "metadata": {
  "kernelspec": {
   "display_name": "Python 2",
   "language": "python",
   "name": "python2"
  },
  "language_info": {
   "codemirror_mode": {
    "name": "ipython",
    "version": 2
   },
   "file_extension": ".py",
   "mimetype": "text/x-python",
   "name": "python",
   "nbconvert_exporter": "python",
   "pygments_lexer": "ipython2",
   "version": "2.7.11"
  }
 },
 "nbformat": 4,
 "nbformat_minor": 0
}
