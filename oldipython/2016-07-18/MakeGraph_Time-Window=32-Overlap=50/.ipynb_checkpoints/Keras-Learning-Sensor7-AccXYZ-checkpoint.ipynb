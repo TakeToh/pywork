{
 "cells": [
  {
   "cell_type": "markdown",
   "metadata": {},
   "source": [
    "important 変数を個々に定義する"
   ]
  },
  {
   "cell_type": "code",
   "execution_count": 7,
   "metadata": {
    "collapsed": true
   },
   "outputs": [],
   "source": [
    "SensorNum=3 # Sensor number\n",
    "SampleNum=32 # Window Width\n",
    "Overlap=0.5 # overlap\n",
    "width=1000 # graph width \n",
    "EncodingDim=[4,8,12,16,32,64] # number of hidden layer note \n",
    "Axis='AccX,AccY,AccZ' # Axis\n",
    "PathAxis='AccXYZ'"
   ]
  },
  {
   "cell_type": "code",
   "execution_count": 8,
   "metadata": {
    "collapsed": false
   },
   "outputs": [],
   "source": [
    "import numpy as np\n",
    "import pandas as pd\n",
    "from scipy import fftpack\n",
    "from scipy import signal\n",
    "import time\n",
    "import os\n",
    "import matplotlib.pyplot as plt\n",
    "import pylab\n",
    "import pickle\n",
    "import copy\n",
    "\n",
    "import processing\n",
    "import window\n",
    "\n",
    "import matplotlib.animation as animation\n",
    "import datetime\n",
    "\n",
    "%matplotlib inline"
   ]
  },
  {
   "cell_type": "code",
   "execution_count": 9,
   "metadata": {
    "collapsed": false
   },
   "outputs": [],
   "source": [
    "from keras.models import Sequential\n",
    "from keras.datasets import cifar10\n",
    "from keras.layers import Dense, Activation, Flatten\n",
    "from keras.optimizers import Adadelta\n",
    "from keras.utils import np_utils\n",
    "from keras.layers.convolutional import Convolution2D, MaxPooling2D\n",
    "from keras.utils.visualize_util import model_to_dot, plot\n",
    "from keras import backend as K\n",
    "from keras.layers import Input, Dense\n",
    "from keras.models import Model\n",
    "from keras.callbacks import EarlyStopping\n",
    "\n",
    "import matplotlib.image as mpimg\n"
   ]
  },
  {
   "cell_type": "code",
   "execution_count": 10,
   "metadata": {
    "collapsed": true
   },
   "outputs": [],
   "source": [
    "DataName='sensor'+str(SensorNum)+'_'+PathAxis\n",
    "SensorName='sensor'+str(SensorNum)\n",
    "DicName='MemSensor'+str(SensorNum)\n",
    "ArrayAxis = Axis.split(\",\")"
   ]
  },
  {
   "cell_type": "code",
   "execution_count": null,
   "metadata": {
    "collapsed": false
   },
   "outputs": [],
   "source": [
    "WORKSPACE_PATH = '/home/takeyama/pywork/ipython/2016-07-18'\n",
    "\n",
    "StudyDataPath=WORKSPACE_PATH+'/Study/'+DataName+'/'+'Window='+str(SampleNum)+'-Overlap='+str(Overlap*100)+'/'\n",
    "if not os.path.exists(StudyDataPath): os.makedirs(StudyDataPath)\n",
    "\n",
    "GlaphDataPath=WORKSPACE_PATH+'/Graph/'+DataName+'/Learning-Window='+str(SampleNum)+'-Overlap='+str(Overlap*100)+'/'\n",
    "if not os.path.exists(GlaphDataPath): os.makedirs(GlaphDataPath)\n",
    "\n",
    "StudyDataModelPicPath=WORKSPACE_PATH+'/Study/'+DataName+'/modelPic-Window='+str(SampleNum)+'-Overlap='+str(Overlap*100)+'/'\n",
    "if not os.path.exists(StudyDataModelPicPath): os.makedirs(StudyDataModelPicPath)\n",
    "\n",
    "WindowDataPath=WORKSPACE_PATH+'/window/'\n",
    "RawDataPath=WORKSPACE_PATH+'/raw/'"
   ]
  },
  {
   "cell_type": "markdown",
   "metadata": {},
   "source": [
    "**前回やった学習をもう１度やってみる**"
   ]
  },
  {
   "cell_type": "code",
   "execution_count": null,
   "metadata": {
    "collapsed": false,
    "scrolled": true
   },
   "outputs": [
    {
     "name": "stdout",
     "output_type": "stream",
     "text": [
      "Graph range=0 : 1000\n",
      "Graph range=1000 : 2000\n",
      "Graph range=2000 : 3000\n",
      "Graph range=3000 : 4000\n",
      "Graph range=4000 : 5000\n",
      "Graph range=5000 : 6000\n",
      "Graph range=6000 : 7000\n",
      "Graph range=7000 : 8000\n",
      "Graph range=8000 : 9000\n",
      "Graph range=9000 : 10000\n",
      "Graph range=10000 : 11000\n",
      "Graph range=11000 : 12000\n",
      "Graph range=12000 : 13000\n",
      "Graph range=13000 : 14000\n"
     ]
    }
   ],
   "source": [
    "fig = plt.figure(figsize=(30,15))\n",
    "ax = fig.add_subplot(111)\n",
    "\n",
    "for AxisName,WindowNum in zip(ArrayAxis,range(3)):\n",
    "    for encoding_dim in EncodingDim:\n",
    "        # define SaveFileName\n",
    "        commonLabel='_edim='+str(encoding_dim)+'-Window='+str(SampleNum)+'-Overlap='+str(Overlap*100)+AxisName\n",
    "        SaveFileNameEncord=DataName+'_encoded'+commonLabel\n",
    "        SaveFileNameDecord=DataName+'_decoded'+commonLabel\n",
    "        SaveFileNameNet=DataName+'_net'+commonLabel\n",
    "        SaveFileNameTrain=DataName+'_train'+commonLabel\n",
    "        SaveFileNameTest=DataName+'_test'+commonLabel\n",
    "        SaveFileNameGraph=GlaphDataPath+ DataName+commonLabel\n",
    "        # load train data\n",
    "        window = processing.LoadDicDataFromFileNPZ(WindowDataPath+SaveFileNameTrain+'.npz')\n",
    "        rawData = window.reshape(window.size,1)\n",
    "\n",
    "        # AutoEncoder Output\n",
    "        reconstructData = processing.LoadDicDataFromFileNPZ(StudyDataPath+SaveFileNameDecord+'.npz')\n",
    "        reconstructData = reconstructData.reshape(reconstructData.size,1)\n",
    "\n",
    "        for i in range(width,rawData.size,width):\n",
    "            start =i-width \n",
    "            goal=i\n",
    "\n",
    "            dataE = rawData[start:goal]\n",
    "            dataD = reconstructData[start:goal]\n",
    "\n",
    "\n",
    "            ax.plot(range(0,len(dataE)),dataE,'r',label=\"raw data\")\n",
    "            ax.plot(range(0,len(dataD)),dataD,'b',label=\"reconstruct\")\n",
    "            ax.legend(loc='best',fontsize=40)\n",
    "            ax.set_title(str(start)+\"-\"+str(goal))\n",
    "            ax.figure.savefig(SaveFileNameGraph+'-'+str(start)+\"-\"+str(goal)+'-'+'graph.jpg')\n",
    "            ax.clear()\n",
    "            print 'Graph range='+str(start)+' : '+str(goal)\n",
    "            time.sleep(3)"
   ]
  },
  {
   "cell_type": "code",
   "execution_count": null,
   "metadata": {
    "collapsed": true
   },
   "outputs": [],
   "source": []
  }
 ],
 "metadata": {
  "kernelspec": {
   "display_name": "Python 2",
   "language": "python",
   "name": "python2"
  },
  "language_info": {
   "codemirror_mode": {
    "name": "ipython",
    "version": 2
   },
   "file_extension": ".py",
   "mimetype": "text/x-python",
   "name": "python",
   "nbconvert_exporter": "python",
   "pygments_lexer": "ipython2",
   "version": "2.7.11"
  }
 },
 "nbformat": 4,
 "nbformat_minor": 0
}
