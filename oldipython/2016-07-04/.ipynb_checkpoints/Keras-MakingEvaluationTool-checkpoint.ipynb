{
 "cells": [
  {
   "cell_type": "code",
   "execution_count": 1,
   "metadata": {
    "collapsed": true
   },
   "outputs": [],
   "source": [
    "import numpy as np\n",
    "import pandas as pd\n",
    "from scipy import fftpack\n",
    "from scipy import signal\n",
    "import time\n",
    "import os\n",
    "import matplotlib.pyplot as plt\n",
    "import pickle\n",
    "import copy\n",
    "%matplotlib inline"
   ]
  },
  {
   "cell_type": "code",
   "execution_count": 2,
   "metadata": {
    "collapsed": false
   },
   "outputs": [
    {
     "name": "stderr",
     "output_type": "stream",
     "text": [
      "Using Theano backend.\n",
      "Using gpu device 0: GeForce GTX 970 (CNMeM is disabled, cuDNN 4007)\n"
     ]
    }
   ],
   "source": [
    "from keras.models import Sequential\n",
    "from keras.datasets import cifar10\n",
    "from keras.layers import Dense, Activation, Flatten\n",
    "from keras.optimizers import Adadelta\n",
    "from keras.utils import np_utils\n",
    "from keras.layers.convolutional import Convolution2D, MaxPooling2D\n",
    "from keras.utils.visualize_util import model_to_dot, plot\n",
    "from keras import backend as K\n",
    "import numpy as np\n",
    "\n",
    "from matplotlib import pyplot as plt\n",
    "import matplotlib.image as mpimg\n",
    "%matplotlib inline"
   ]
  },
  {
   "cell_type": "code",
   "execution_count": 3,
   "metadata": {
    "collapsed": true
   },
   "outputs": [],
   "source": [
    "WORKSPACE_PATH = '/home/takeyama/pywork/ipython/2016-06-27'"
   ]
  },
  {
   "cell_type": "code",
   "execution_count": 4,
   "metadata": {
    "collapsed": false
   },
   "outputs": [],
   "source": [
    "RawDataPath=WORKSPACE_PATH+'/raw/'"
   ]
  },
  {
   "cell_type": "code",
   "execution_count": 5,
   "metadata": {
    "collapsed": true
   },
   "outputs": [],
   "source": [
    "StudyDataPath=WORKSPACE_PATH+'/study/'"
   ]
  },
  {
   "cell_type": "code",
   "execution_count": 6,
   "metadata": {
    "collapsed": false
   },
   "outputs": [],
   "source": [
    "WindowDataPath=WORKSPACE_PATH+'/window/'"
   ]
  },
  {
   "cell_type": "code",
   "execution_count": 7,
   "metadata": {
    "collapsed": false
   },
   "outputs": [],
   "source": [
    "import processing"
   ]
  },
  {
   "cell_type": "markdown",
   "metadata": {},
   "source": [
    "センサデータを読み込む"
   ]
  },
  {
   "cell_type": "code",
   "execution_count": 8,
   "metadata": {
    "collapsed": false
   },
   "outputs": [],
   "source": [
    "dic1=processing.LoadDicDataFromFileNPZ(RawDataPath+\"MemSensor1\")\n",
    "dic2=processing.LoadDicDataFromFileNPZ(RawDataPath+\"MemSensor2\")\n",
    "dic3=processing.LoadDicDataFromFileNPZ(RawDataPath+\"MemSensor3\")\n",
    "dic4=processing.LoadDicDataFromFileNPZ(RawDataPath+\"MemSensor4\")\n",
    "dic5=processing.LoadDicDataFromFileNPZ(RawDataPath+\"MemSensor5\")\n",
    "dic6=processing.LoadDicDataFromFileNPZ(RawDataPath+\"MemSensor6\")\n",
    "dic7=processing.LoadDicDataFromFileNPZ(RawDataPath+\"MemSensor7\")"
   ]
  },
  {
   "cell_type": "markdown",
   "metadata": {},
   "source": [
    "windows関数を作成する。\n",
    "要求仕様\n",
    "* 入力データは2次元配列　raw 時間、colm　データの種類（加速度X,加速度Y,・・・）\n",
    "* 出力データは4次元配列　numberOfWindow * windowWidth * kindOfData * \n",
    "# how to use\n",
    "1. Set Data(1darray)\n",
    "case 1  \n",
    "    seed.append(AccX)  \n",
    "    seed.append(AccY)  \n",
    "    seed.append(AccZ)  \n",
    "2. Making window\n",
    "w = build(seed)  \n",
    "w -> [ [AccX],[AccY],[AccZ] ]  \n",
    "window = compile(w)  \n",
    "window -> \n",
    "          [ [[AccX],[AccY],[AccZ]],  \n",
    "            [[AccX],[AccY],[AccZ]],  \n",
    "            [[AccX],[AccY],[AccZ]], ....]"
   ]
  },
  {
   "cell_type": "code",
   "execution_count": 9,
   "metadata": {
    "collapsed": false
   },
   "outputs": [],
   "source": [
    "class Window:\n",
    "    \"\"\"Input dictionary\n",
    "       Ouput Windows\n",
    "    \"\"\"         \n",
    "    def __init__(self):                  \n",
    "        self.seed ={}\n",
    "    \n",
    "    def SetData(self, RegistDataName, RegistData):\n",
    "        if RegistDataName in self.seed:\n",
    "            print RegistDataName+' has been registed before'\n",
    "            return -1\n",
    "        \n",
    "        self.seed[RegistDataName] = RegistData\n",
    "        print RegistDataName+' is registed now'\n",
    "    \n",
    "    def _Build(self):\n",
    "        keys = self.seed.keys()\n",
    "        array = self.seed[keys[0]]\n",
    "        \n",
    "        for k in keys[1:]:\n",
    "            array = np.vstack( (array,self.seed[k]))\n",
    "        print 'Build Complete'\n",
    "        return array.T\n",
    "    \n",
    "    def Compile(self,windowWidth,overlap):\n",
    "        source = self._Build()\n",
    "        print source.shape\n",
    "       \n",
    "        sourceRows = source.ndim\n",
    "        sourceColum = source.size\n",
    "        offset = len(source)%windowWidth\n",
    "        if offset % 2 == 1:\n",
    "            offset=offset/2 +1\n",
    "        else:\n",
    "            offset=offset/2\n",
    "        # first array\n",
    "        start = offset\n",
    "        goal = start+windowWidth\n",
    "        window = source[start:goal].T\n",
    "        \n",
    "        for i in range(1,len(source)/windowWidth):\n",
    "            start = start+ int(windowWidth*overlap)\n",
    "            goal = start+windowWidth\n",
    "            adding = source[start:goal].T\n",
    "            window = np.dstack((window,adding))\n",
    "        return window.T"
   ]
  },
  {
   "cell_type": "code",
   "execution_count": 10,
   "metadata": {
    "collapsed": true
   },
   "outputs": [],
   "source": [
    "w = Window()"
   ]
  },
  {
   "cell_type": "code",
   "execution_count": 11,
   "metadata": {
    "collapsed": false
   },
   "outputs": [
    {
     "name": "stdout",
     "output_type": "stream",
     "text": [
      "dic1-AccX is registed now\n",
      "dic1-AccY is registed now\n",
      "dic1-AccZ is registed now\n"
     ]
    }
   ],
   "source": [
    "w.SetData('dic1-AccX',dic1['AccX'])\n",
    "w.SetData('dic1-AccY',dic1['AccY'])\n",
    "w.SetData('dic1-AccZ',dic1['AccZ'])"
   ]
  },
  {
   "cell_type": "code",
   "execution_count": 12,
   "metadata": {
    "collapsed": false
   },
   "outputs": [
    {
     "name": "stdout",
     "output_type": "stream",
     "text": [
      "dic2-AccX is registed now\n",
      "dic2-AccY is registed now\n",
      "dic2-AccZ is registed now\n"
     ]
    }
   ],
   "source": [
    "w.SetData('dic2-AccX',dic2['AccX'])\n",
    "w.SetData('dic2-AccY',dic2['AccY'])\n",
    "w.SetData('dic2-AccZ',dic2['AccZ'])"
   ]
  },
  {
   "cell_type": "code",
   "execution_count": 13,
   "metadata": {
    "collapsed": false
   },
   "outputs": [
    {
     "name": "stdout",
     "output_type": "stream",
     "text": [
      "dic3-AccX is registed now\n",
      "dic3-AccY is registed now\n",
      "dic3-AccZ is registed now\n"
     ]
    }
   ],
   "source": [
    "w.SetData('dic3-AccX',dic3['AccX'])\n",
    "w.SetData('dic3-AccY',dic3['AccY'])\n",
    "w.SetData('dic3-AccZ',dic3['AccZ'])"
   ]
  },
  {
   "cell_type": "code",
   "execution_count": 14,
   "metadata": {
    "collapsed": false
   },
   "outputs": [
    {
     "name": "stdout",
     "output_type": "stream",
     "text": [
      "dic4-AccX is registed now\n",
      "dic4-AccY is registed now\n",
      "dic4-AccZ is registed now\n"
     ]
    }
   ],
   "source": [
    "w.SetData('dic4-AccX',dic4['AccX'])\n",
    "w.SetData('dic4-AccY',dic4['AccY'])\n",
    "w.SetData('dic4-AccZ',dic4['AccZ'])"
   ]
  },
  {
   "cell_type": "code",
   "execution_count": 15,
   "metadata": {
    "collapsed": false
   },
   "outputs": [
    {
     "name": "stdout",
     "output_type": "stream",
     "text": [
      "dic5-AccX is registed now\n",
      "dic5-AccY is registed now\n",
      "dic5-AccZ is registed now\n"
     ]
    }
   ],
   "source": [
    "w.SetData('dic5-AccX',dic5['AccX'])\n",
    "w.SetData('dic5-AccY',dic5['AccY'])\n",
    "w.SetData('dic5-AccZ',dic5['AccZ'])"
   ]
  },
  {
   "cell_type": "code",
   "execution_count": 16,
   "metadata": {
    "collapsed": false
   },
   "outputs": [
    {
     "name": "stdout",
     "output_type": "stream",
     "text": [
      "dic6-AccX is registed now\n",
      "dic6-AccY is registed now\n",
      "dic6-AccZ is registed now\n"
     ]
    }
   ],
   "source": [
    "w.SetData('dic6-AccX',dic6['AccX'])\n",
    "w.SetData('dic6-AccY',dic6['AccY'])\n",
    "w.SetData('dic6-AccZ',dic6['AccZ'])"
   ]
  },
  {
   "cell_type": "code",
   "execution_count": 17,
   "metadata": {
    "collapsed": false
   },
   "outputs": [
    {
     "name": "stdout",
     "output_type": "stream",
     "text": [
      "dic7-AccX is registed now\n",
      "dic7-AccY is registed now\n",
      "dic7-AccZ is registed now\n"
     ]
    }
   ],
   "source": [
    "w.SetData('dic7-AccX',dic7['AccX'])\n",
    "w.SetData('dic7-AccY',dic7['AccY'])\n",
    "w.SetData('dic7-AccZ',dic7['AccZ'])"
   ]
  },
  {
   "cell_type": "code",
   "execution_count": 18,
   "metadata": {
    "collapsed": false
   },
   "outputs": [
    {
     "name": "stdout",
     "output_type": "stream",
     "text": [
      "Build Complete\n",
      "(254742, 21)\n"
     ]
    }
   ],
   "source": [
    "window = w.Compile(windowWidth=16,overlap=0.5)"
   ]
  },
  {
   "cell_type": "markdown",
   "metadata": {},
   "source": [
    "出来上がったwindowの形をみれば、Mnistを模倣したほうがいいかもしれない  \n",
    "というのは、windowの集合を見るとMnistに近いものになっていた  \n",
    "Mnistの訓練データは[sample, 28,28]  \n",
    "一方、出来上がったwindowは[sample,windowWidth,data]  \n",
    "また、cifar10は[sample,32,32,3]  \n"
   ]
  },
  {
   "cell_type": "markdown",
   "metadata": {},
   "source": [
    "kerasとMnistに関して、入力層をどのようにやっているのかわからないので実際にデータをダウンロードしてどのような構造でダウンロードして、入力層に与えるときに何をしているかをはっきりさせる"
   ]
  },
  {
   "cell_type": "code",
   "execution_count": 19,
   "metadata": {
    "collapsed": true
   },
   "outputs": [],
   "source": [
    "def Convert3dto2d(window):\n",
    "    output = window.reshape((len(window),np.prod(window.shape[1:])))\n",
    "    return output"
   ]
  },
  {
   "cell_type": "code",
   "execution_count": 20,
   "metadata": {
    "collapsed": true
   },
   "outputs": [],
   "source": [
    "window_train = window.reshape((len(window),np.prod(window.shape[1:])))\n",
    "#window_train = window_train[:12000]\n",
    "window_test = window.reshape((len(window),np.prod(window.shape[1:])))\n",
    "#window_test = window_test[12001:]"
   ]
  },
  {
   "cell_type": "markdown",
   "metadata": {},
   "source": [
    "すべてのセンサデータの加速度データ、角速度データを食わせる"
   ]
  },
  {
   "cell_type": "code",
   "execution_count": 25,
   "metadata": {
    "collapsed": false,
    "scrolled": true
   },
   "outputs": [
    {
     "name": "stdout",
     "output_type": "stream",
     "text": [
      "Train on 15921 samples, validate on 15921 samples\n",
      "Epoch 1/50\n",
      "15921/15921 [==============================] - 0s - loss: 0.1911 - val_loss: 0.0836\n",
      "Epoch 2/50\n",
      "15921/15921 [==============================] - 0s - loss: 0.0749 - val_loss: 0.0699\n",
      "Epoch 3/50\n",
      "15921/15921 [==============================] - 0s - loss: 0.0641 - val_loss: 0.0581\n",
      "Epoch 4/50\n",
      "15921/15921 [==============================] - 0s - loss: 0.0530 - val_loss: 0.0484\n",
      "Epoch 5/50\n",
      "15921/15921 [==============================] - 0s - loss: 0.0455 - val_loss: 0.0430\n",
      "Epoch 6/50\n",
      "15921/15921 [==============================] - 0s - loss: 0.0414 - val_loss: 0.0401\n",
      "Epoch 7/50\n",
      "15921/15921 [==============================] - 0s - loss: 0.0391 - val_loss: 0.0382\n",
      "Epoch 8/50\n",
      "15921/15921 [==============================] - 0s - loss: 0.0374 - val_loss: 0.0368\n",
      "Epoch 9/50\n",
      "15921/15921 [==============================] - 0s - loss: 0.0359 - val_loss: 0.0350\n",
      "Epoch 10/50\n",
      "15921/15921 [==============================] - 0s - loss: 0.0342 - val_loss: 0.0335\n",
      "Epoch 11/50\n",
      "15921/15921 [==============================] - 0s - loss: 0.0324 - val_loss: 0.0315\n",
      "Epoch 12/50\n",
      "15921/15921 [==============================] - 0s - loss: 0.0307 - val_loss: 0.0299\n",
      "Epoch 13/50\n",
      "15921/15921 [==============================] - 0s - loss: 0.0292 - val_loss: 0.0285\n",
      "Epoch 14/50\n",
      "15921/15921 [==============================] - 0s - loss: 0.0278 - val_loss: 0.0271\n",
      "Epoch 15/50\n",
      "15921/15921 [==============================] - 0s - loss: 0.0266 - val_loss: 0.0258\n",
      "Epoch 16/50\n",
      "15921/15921 [==============================] - 0s - loss: 0.0255 - val_loss: 0.0249\n",
      "Epoch 17/50\n",
      "15921/15921 [==============================] - 0s - loss: 0.0247 - val_loss: 0.0242\n",
      "Epoch 18/50\n",
      "15921/15921 [==============================] - 0s - loss: 0.0241 - val_loss: 0.0237\n",
      "Epoch 19/50\n",
      "15921/15921 [==============================] - 0s - loss: 0.0237 - val_loss: 0.0233\n",
      "Epoch 20/50\n",
      "15921/15921 [==============================] - 0s - loss: 0.0232 - val_loss: 0.0226\n",
      "Epoch 21/50\n",
      "15921/15921 [==============================] - 0s - loss: 0.0226 - val_loss: 0.0222\n",
      "Epoch 22/50\n",
      "15921/15921 [==============================] - 0s - loss: 0.0224 - val_loss: 0.0216\n",
      "Epoch 23/50\n",
      "15921/15921 [==============================] - 0s - loss: 0.0218 - val_loss: 0.0230\n",
      "Epoch 24/50\n",
      "15921/15921 [==============================] - 0s - loss: 0.0215 - val_loss: 0.0214\n",
      "Epoch 25/50\n",
      "15921/15921 [==============================] - 0s - loss: 0.0212 - val_loss: 0.0205\n",
      "Epoch 26/50\n",
      "15921/15921 [==============================] - 0s - loss: 0.0211 - val_loss: 0.0207\n",
      "Epoch 27/50\n",
      "15921/15921 [==============================] - 0s - loss: 0.0207 - val_loss: 0.0202\n",
      "Epoch 28/50\n",
      "15921/15921 [==============================] - 0s - loss: 0.0203 - val_loss: 0.0199\n",
      "Epoch 29/50\n",
      "15921/15921 [==============================] - 0s - loss: 0.0203 - val_loss: 0.0199\n",
      "Epoch 30/50\n",
      "15921/15921 [==============================] - 0s - loss: 0.0199 - val_loss: 0.0204\n",
      "Epoch 31/50\n",
      "15921/15921 [==============================] - 0s - loss: 0.0198 - val_loss: 0.0208\n",
      "Epoch 32/50\n",
      "15921/15921 [==============================] - 0s - loss: 0.0197 - val_loss: 0.0210\n",
      "Epoch 33/50\n",
      "15921/15921 [==============================] - 0s - loss: 0.0196 - val_loss: 0.0190\n",
      "Epoch 34/50\n",
      "15921/15921 [==============================] - 0s - loss: 0.0197 - val_loss: 0.0198\n",
      "Epoch 35/50\n",
      "15921/15921 [==============================] - 0s - loss: 0.0197 - val_loss: 0.0189\n",
      "Epoch 36/50\n",
      "15921/15921 [==============================] - 0s - loss: 0.0196 - val_loss: 0.0197\n",
      "Epoch 37/50\n",
      "15921/15921 [==============================] - 0s - loss: 0.0195 - val_loss: 0.0201\n",
      "Epoch 38/50\n",
      "15921/15921 [==============================] - 0s - loss: 0.0191 - val_loss: 0.0199\n",
      "Epoch 39/50\n",
      "15921/15921 [==============================] - 0s - loss: 0.0188 - val_loss: 0.0181\n",
      "Epoch 40/50\n",
      "15921/15921 [==============================] - 0s - loss: 0.0190 - val_loss: 0.0196\n",
      "Epoch 41/50\n",
      "15921/15921 [==============================] - 0s - loss: 0.0190 - val_loss: 0.0187\n",
      "Epoch 42/50\n",
      "15921/15921 [==============================] - 0s - loss: 0.0189 - val_loss: 0.0185\n",
      "Epoch 43/50\n",
      "15921/15921 [==============================] - 0s - loss: 0.0189 - val_loss: 0.0180\n",
      "Epoch 44/50\n",
      "15921/15921 [==============================] - 0s - loss: 0.0188 - val_loss: 0.0185\n",
      "Epoch 45/50\n",
      "15921/15921 [==============================] - 0s - loss: 0.0188 - val_loss: 0.0178\n",
      "Epoch 46/50\n",
      "15921/15921 [==============================] - 0s - loss: 0.0184 - val_loss: 0.0186\n",
      "Epoch 47/50\n",
      "15921/15921 [==============================] - 0s - loss: 0.0182 - val_loss: 0.0176\n",
      "Epoch 48/50\n",
      "15921/15921 [==============================] - 0s - loss: 0.0183 - val_loss: 0.0177\n",
      "Epoch 49/50\n",
      "15921/15921 [==============================] - 0s - loss: 0.0184 - val_loss: 0.0185\n",
      "Epoch 50/50\n",
      "15921/15921 [==============================] - 0s - loss: 0.0180 - val_loss: 0.0178\n",
      "[WARNING] /home/takeyama/pywork/ipython/2016-06-27/study/All_encoded_weights.h5 already exists - overwrite? [y/n]y\n",
      "[TIP] Next time specify overwrite=True in save_weights!\n",
      "[WARNING] /home/takeyama/pywork/ipython/2016-06-27/study/All_encoded_weights.h5 already exists - overwrite? [y/n]y\n",
      "[TIP] Next time specify overwrite=True in save_weights!\n",
      "[WARNING] /home/takeyama/pywork/ipython/2016-06-27/study/All_net_weights.h5 already exists - overwrite? [y/n]y\n",
      "[TIP] Next time specify overwrite=True in save_weights!\n"
     ]
    },
    {
     "data": {
      "image/png": "[encoded data removed]",
      "text/plain": [
       "<matplotlib.figure.Figure at 0x7f37f72cc850>"
      ]
     },
     "metadata": {},
     "output_type": "display_data"
    },
    {
     "data": {
      "text/plain": [
       "<matplotlib.figure.Figure at 0x7f38093c3c10>"
      ]
     },
     "metadata": {},
     "output_type": "display_data"
    }
   ],
   "source": [
    "from keras.layers import Input, Dense\n",
    "from keras.models import Model\n",
    "\n",
    "windoW = window\n",
    "col = windoW.shape[1]\n",
    "row = windoW.shape[2]\n",
    "shapeNum=col*row\n",
    "\n",
    "SaveFileNameEncord='All_encoded'\n",
    "SaveFileNameDecord='All_decoded'\n",
    "SaveFileNameNet='All_net'\n",
    "\n",
    "SaveFileNameTrain='All_train'\n",
    "SaveFileNameTest='All_test'\n",
    "\n",
    "window_train=Convert3dto2d(windoW)\n",
    "window_test=Convert3dto2d(windoW)\n",
    "\n",
    "processing.SaveDicDataFromFileNPZ(WindowDataPath,SaveFileNameTrain,window_test)\n",
    "processing.SaveDicDataFromFileNPZ(WindowDataPath,SaveFileNameTest,window_test)\n",
    "# this is the size of our encoded representations\n",
    "encoding_dim = 8  # 32 floats -> compression of factor 24.5, assuming the input is 784 floats\n",
    "\n",
    "shapeNum=window_train.shape[1]\n",
    "\n",
    "# this is our input placeholder\n",
    "input_img = Input(shape=(shapeNum,))\n",
    "# \"encoded\" is the encoded representation of the input\n",
    "encoded = Dense(encoding_dim, activation='tanh')(input_img)\n",
    "# \"decoded\" is the lossy reconstruction of the input\n",
    "decoded = Dense(shapeNum, activation='linear')(encoded)\n",
    "\n",
    "# this model maps an input to its reconstruction\n",
    "autoencoder = Model(input=input_img, output=decoded)\n",
    "\n",
    "# this model maps an input to its encoded representation\n",
    "encoderALL = Model(input=input_img, output=encoded)\n",
    "\n",
    "# create a placeholder for an encoded (32-dimensional) input\n",
    "encoded_input = Input(shape=(encoding_dim,))\n",
    "# retrieve the last layer of the autoencoder model\n",
    "decoder_layer = autoencoder.layers[-1]\n",
    "# create the decoder model\n",
    "decoderALL = Model(input=encoded_input, output=decoder_layer(encoded_input))\n",
    "\n",
    "autoencoder.compile(optimizer='adadelta', loss='mse')\n",
    "\n",
    "hist=autoencoder.fit(window_train, window_train,\n",
    "                nb_epoch=50,\n",
    "                batch_size=shapeNum/4,\n",
    "                shuffle=True,\n",
    "                validation_data=(window_test, window_test))\n",
    "\n",
    "encoded_imgs = encoderALL.predict(window_test)\n",
    "decoded_imgs = decoderALL.predict(encoded_imgs)\n",
    "\n",
    "processing.SaveDicDataFromFileNPZ(StudyDataPath,SaveFileNameEncord,encoded_imgs)\n",
    "processing.SaveDicDataFromFileNPZ(StudyDataPath,SaveFileNameDecord,decoded_imgs)\n",
    "\n",
    "json_string = encoderALL.to_json()\n",
    "open(StudyDataPath+SaveFileNameEncord+'.json', 'w').write(json_string)\n",
    "encoderALL.save_weights(StudyDataPath+SaveFileNameEncord+'_weights.h5')\n",
    "\n",
    "json_string = decoderALL.to_json()\n",
    "open(StudyDataPath+SaveFileNameDecord+'.json', 'w').write(json_string)\n",
    "decoderALL.save_weights(StudyDataPath+SaveFileNameEncord+'_weights.h5')\n",
    "\n",
    "json_string = autoencoder.to_json()\n",
    "open(StudyDataPath+SaveFileNameNet+'.json', 'w').write(json_string)\n",
    "autoencoder.save_weights(StudyDataPath+SaveFileNameNet+'_weights.h5')\n",
    "\n",
    "# plot loss\n",
    "loss = hist.history['loss']\n",
    "val_loss = hist.history['val_loss']\n",
    "\n",
    "nb_epoch = len(loss)\n",
    "plt.plot(range(nb_epoch), loss, marker='.', label='loss')\n",
    "plt.plot(range(nb_epoch), val_loss, marker='.', label='val_loss')\n",
    "plt.legend(loc='best', fontsize=10)\n",
    "plt.grid()\n",
    "plt.xlabel('epoch')\n",
    "plt.ylabel('loss')\n",
    "plt.show()\n",
    "plt.savefig('All_sensors_loss_val_loss.png')"
   ]
  },
  {
   "cell_type": "markdown",
   "metadata": {},
   "source": [
    "あるセンサの一次元のみでやってみる"
   ]
  },
  {
   "cell_type": "code",
   "execution_count": null,
   "metadata": {
    "collapsed": false
   },
   "outputs": [],
   "source": [
    "from keras.layers import Input, Dense\n",
    "from keras.models import Model\n",
    "\n",
    "w1 = Window()\n",
    "w1.SetData('AccX', dic1['AccX'])\n",
    "window1 = w1.Compile(windowWidth=16,overlap=0.5)\n",
    "\n",
    "windoW = window1\n",
    "\n",
    "col = windoW.shape[1]\n",
    "row = windoW.shape[2]\n",
    "shapeNum=col*row\n",
    "\n",
    "SaveFileNameEncord='sensor1_AccX_encoded'\n",
    "SaveFileNameDecord='sensor1_AccX_decoded'\n",
    "SaveFileNameNet='sensor1_AccX_net'\n",
    "window_train=Convert3dto2d(windoW)\n",
    "window_test=Convert3dto2d(windoW)\n",
    "\n",
    "SaveFileNameTrain='sensor1_AccX_train'\n",
    "SaveFileNameTest='sensor1_AccX_test'\n",
    "processing.SaveDicDataFromFileNPZ(WindowDataPath,SaveFileNameTrain,window_test)\n",
    "processing.SaveDicDataFromFileNPZ(WindowDataPath,SaveFileNameTest,window_test)\n",
    "encoding_dim = 8  # 32 floats -> compression of factor 24.5, assuming the input is 784 floats\n",
    "\n",
    "# this is our input placeholder\n",
    "input_img = Input(shape=(shapeNum,))\n",
    "# \"encoded\" is the encoded representation of the input\n",
    "encoded = Dense(encoding_dim, activation='tanh')(input_img)\n",
    "# \"decoded\" is the lossy reconstruction of the input\n",
    "decoded = Dense(shapeNum, activation='linear')(encoded)\n",
    "\n",
    "# this model maps an input to its reconstruction\n",
    "autoencoder1 = Model(input=input_img, output=decoded)\n",
    "\n",
    "# this model maps an input to its encoded representation\n",
    "encoder1 = Model(input=input_img, output=encoded)\n",
    "\n",
    "# create a placeholder for an encoded (32-dimensional) input\n",
    "encoded_input = Input(shape=(encoding_dim,))\n",
    "# retrieve the last layer of the autoencoder model\n",
    "decoder_layer = autoencoder.layers[-1]\n",
    "# create the decoder model\n",
    "decoder1 = Model(input=encoded_input, output=decoder_layer(encoded_input))\n",
    "\n",
    "autoencoder1.compile(optimizer='adadelta', loss='mse')\n",
    "\n",
    "autoencoder1.fit(window_train, window_train,\n",
    "                nb_epoch=50,\n",
    "                batch_size=shapeNum/4,\n",
    "                shuffle=True,\n",
    "                validation_data=(window_test, window_test))\n",
    "\n",
    "encoded_imgs = encoder1.predict(window_test)\n",
    "decoded_imgs = decoder1.predict(encoded_imgs)\n",
    "\n",
    "processing.SaveDicDataFromFileNPZ(StudyDataPath,SaveFileNameEncord,encoded_imgs)\n",
    "processing.SaveDicDataFromFileNPZ(StudyDataPath,SaveFileNameDecord,decoded_imgs)\n",
    "\n",
    "json_string = encoderALL.to_json()\n",
    "open(StudyDataPath+SaveFileNameEncord+'.json', 'w').write(json_string)\n",
    "model.save_weights(StudyDataPath+SaveFileNameEncord+'_weights.h5')\n",
    "\n",
    "json_string = decoderALL.to_json()\n",
    "open(StudyDataPath+SaveFileNameDecord+'.json', 'w').write(json_string)\n",
    "model.save_weights(StudyDataPath+SaveFileNameEncord+'_weights.h5')\n",
    "\n",
    "json_string = decoderALL.to_json()\n",
    "open(StudyDataPath+SaveFileNameNet+'.json', 'w').write(json_string)\n",
    "model.save_weights(StudyDataPath+SaveFileNameNet+'_weights.h5')"
   ]
  },
  {
   "cell_type": "markdown",
   "metadata": {},
   "source": [
    "2つ目のセンサーで同じようにやってみる"
   ]
  },
  {
   "cell_type": "code",
   "execution_count": null,
   "metadata": {
    "collapsed": true
   },
   "outputs": [],
   "source": [
    "w2 = Window()\n",
    "w2.SetData('AccX', dic2['AccX'])\n",
    "window2 = w2.Compile(windowWidth=16,overlap=0.5)\n",
    "\n",
    "windoW = window2\n",
    "col = windoW.shape[1]\n",
    "row = windoW.shape[2]\n",
    "shapeNum=col*row\n",
    "\n",
    "SaveFileNameEncord='sensor2_AccX_encoded'\n",
    "SaveFileNameDecord='sensor2_AccX_decoded'\n",
    "SaveFileNameNet='sensor2_AccX_net'\n",
    "\n",
    "window_train=Convert3dto2d(windoW)\n",
    "window_test=Convert3dto2d(windoW)\n",
    "\n",
    "SaveFileNameTrain='sensor2_AccX_train'\n",
    "SaveFileNameTest='sensor2_AccX_test'\n",
    "processing.SaveDicDataFromFileNPZ(WindowDataPath,SaveFileNameTrain,window_test)\n",
    "processing.SaveDicDataFromFileNPZ(WindowDataPath,SaveFileNameTest,window_test)\n",
    "\n",
    "encoding_dim = 8  # 32 floats -> compression of factor 24.5, assuming the input is 784 floats\n",
    "\n",
    "# this is our input placeholder\n",
    "input_img = Input(shape=(shapeNum,))\n",
    "# \"encoded\" is the encoded representation of the input\n",
    "encoded = Dense(encoding_dim, activation='tanh')(input_img)\n",
    "# \"decoded\" is the lossy reconstruction of the input\n",
    "decoded = Dense(shapeNum, activation='linear')(encoded)\n",
    "\n",
    "# this model maps an input to its reconstruction\n",
    "autoencoder = Model(input=input_img, output=decoded)\n",
    "\n",
    "# this model maps an input to its encoded representation\n",
    "encoder = Model(input=input_img, output=encoded)\n",
    "\n",
    "# create a placeholder for an encoded (32-dimensional) input\n",
    "encoded_input = Input(shape=(encoding_dim,))\n",
    "# retrieve the last layer of the autoencoder model\n",
    "decoder_layer = autoencoder.layers[-1]\n",
    "# create the decoder model\n",
    "decoder = Model(input=encoded_input, output=decoder_layer(encoded_input))\n",
    "\n",
    "autoencoder.compile(optimizer='adadelta', loss='mse')\n",
    "\n",
    "autoencoder.fit(window_train, window_train,\n",
    "                nb_epoch=50,\n",
    "                batch_size=shapeNum/4,\n",
    "                shuffle=True,\n",
    "                validation_data=(window_test, window_test))\n",
    "\n",
    "encoded_imgs = encoder.predict(window_test)\n",
    "decoded_imgs = decoder.predict(encoded_imgs)\n",
    "\n",
    "processing.SaveDicDataFromFileNPZ(StudyDataPath,SaveFileNameEncord,encoded_imgs)\n",
    "processing.SaveDicDataFromFileNPZ(StudyDataPath,SaveFileNameDecord,decoded_imgs)\n",
    "\n",
    "json_string = encoderALL.to_json()\n",
    "open(StudyDataPath+SaveFileNameEncord+'.json', 'w').write(json_string)\n",
    "model.save_weights(StudyDataPath+SaveFileNameEncord+'_weights.h5')\n",
    "\n",
    "json_string = decoderALL.to_json()\n",
    "open(StudyDataPath+SaveFileNameDecord+'.json', 'w').write(json_string)\n",
    "model.save_weights(StudyDataPath+SaveFileNameEncord+'_weights.h5')\n",
    "\n",
    "json_string = decoderALL.to_json()\n",
    "open(StudyDataPath+SaveFileNameNet+'.json', 'w').write(json_string)\n",
    "model.save_weights(StudyDataPath+SaveFileNameNet+'_weights.h5')"
   ]
  },
  {
   "cell_type": "markdown",
   "metadata": {},
   "source": [
    "３つ目のデータ"
   ]
  },
  {
   "cell_type": "code",
   "execution_count": null,
   "metadata": {
    "collapsed": true
   },
   "outputs": [],
   "source": [
    "w3 = Window()\n",
    "w3.SetData('AccX', dic3['AccX'])\n",
    "window3 = w3.Compile(windowWidth=16,overlap=0.5)\n",
    "\n",
    "windoW = window3\n",
    "col = windoW.shape[1]\n",
    "row = windoW.shape[2]\n",
    "shapeNum=col*row\n",
    "\n",
    "SaveFileNameEncord='sensor3_AccX_encoded'\n",
    "SaveFileNameDecord='sensor3_AccX_decoded'\n",
    "SaveFileNameNet='sensor3_AccX_net'\n",
    "\n",
    "window_train=Convert3dto2d(windoW)\n",
    "window_test=Convert3dto2d(windoW)\n",
    "\n",
    "SaveFileNameTrain='sensor3_AccX_train'\n",
    "SaveFileNameTest='sensor3_AccX_test'\n",
    "processing.SaveDicDataFromFileNPZ(WindowDataPath,SaveFileNameTrain,window_test)\n",
    "processing.SaveDicDataFromFileNPZ(WindowDataPath,SaveFileNameTest,window_test)\n",
    "\n",
    "encoding_dim = 8  # 32 floats -> compression of factor 24.5, assuming the input is 784 floats\n",
    "\n",
    "# this is our input placeholder\n",
    "input_img = Input(shape=(shapeNum,))\n",
    "# \"encoded\" is the encoded representation of the input\n",
    "encoded = Dense(encoding_dim, activation='tanh')(input_img)\n",
    "# \"decoded\" is the lossy reconstruction of the input\n",
    "decoded = Dense(shapeNum, activation='linear')(encoded)\n",
    "\n",
    "# this model maps an input to its reconstruction\n",
    "autoencoder = Model(input=input_img, output=decoded)\n",
    "\n",
    "# this model maps an input to its encoded representation\n",
    "encoder = Model(input=input_img, output=encoded)\n",
    "\n",
    "# create a placeholder for an encoded (32-dimensional) input\n",
    "encoded_input = Input(shape=(encoding_dim,))\n",
    "# retrieve the last layer of the autoencoder model\n",
    "decoder_layer = autoencoder.layers[-1]\n",
    "# create the decoder model\n",
    "decoder = Model(input=encoded_input, output=decoder_layer(encoded_input))\n",
    "\n",
    "autoencoder.compile(optimizer='adadelta', loss='mse')\n",
    "\n",
    "autoencoder.fit(window_train, window_train,\n",
    "                nb_epoch=50,\n",
    "                batch_size=shapeNum/4,\n",
    "                shuffle=True,\n",
    "                validation_data=(window_test, window_test))\n",
    "\n",
    "processing.SaveDicDataFromFileNPZ(StudyDataPath,SaveFileNameEncord,encoded_imgs)\n",
    "processing.SaveDicDataFromFileNPZ(StudyDataPath,SaveFileNameDecord,decoded_imgs)\n",
    "\n",
    "json_string = encoderALL.to_json()\n",
    "open(StudyDataPath+SaveFileNameEncord+'.json', 'w').write(json_string)\n",
    "model.save_weights(StudyDataPath+SaveFileNameEncord+'_weights.h5')\n",
    "\n",
    "json_string = decoderALL.to_json()\n",
    "open(StudyDataPath+SaveFileNameDecord+'.json', 'w').write(json_string)\n",
    "model.save_weights(StudyDataPath+SaveFileNameEncord+'_weights.h5')\n",
    "\n",
    "json_string = decoderALL.to_json()\n",
    "open(StudyDataPath+SaveFileNameNet+'.json', 'w').write(json_string)\n",
    "model.save_weights(StudyDataPath+SaveFileNameNet+'_weights.h5')"
   ]
  },
  {
   "cell_type": "markdown",
   "metadata": {},
   "source": [
    "4つ目のセンサデータ"
   ]
  },
  {
   "cell_type": "code",
   "execution_count": null,
   "metadata": {
    "collapsed": true
   },
   "outputs": [],
   "source": [
    "w4 = Window()\n",
    "w4.SetData('AccX', dic4['AccX'])\n",
    "window4 = w4.Compile(windowWidth=16,overlap=0.5)\n",
    "\n",
    "windoW = window4\n",
    "col = windoW.shape[1]\n",
    "row = windoW.shape[2]\n",
    "shapeNum=col*row\n",
    "\n",
    "SaveFileNameEncord='sensor4_AccX_encoded'\n",
    "SaveFileNameDecord='sensor4_AccX_decoded'\n",
    "SaveFileNameNet='sensor4_AccX_net'\n",
    "\n",
    "window_train=Convert3dto2d(windoW)\n",
    "window_test=Convert3dto2d(windoW)\n",
    "\n",
    "SaveFileNameTrain='sensor4_AccX_train'\n",
    "SaveFileNameTest='sensor4_AccX_test'\n",
    "processing.SaveDicDataFromFileNPZ(WindowDataPath,SaveFileNameTrain,window_test)\n",
    "processing.SaveDicDataFromFileNPZ(WindowDataPath,SaveFileNameTest,window_test)\n",
    "\n",
    "encoding_dim = 8  # 32 floats -> compression of factor 24.5, assuming the input is 784 floats\n",
    "\n",
    "# this is our input placeholder\n",
    "input_img = Input(shape=(shapeNum,))\n",
    "# \"encoded\" is the encoded representation of the input\n",
    "encoded = Dense(encoding_dim, activation='tanh')(input_img)\n",
    "# \"decoded\" is the lossy reconstruction of the input\n",
    "decoded = Dense(shapeNum, activation='linear')(encoded)\n",
    "\n",
    "# this model maps an input to its reconstruction\n",
    "autoencoder = Model(input=input_img, output=decoded)\n",
    "\n",
    "# this model maps an input to its encoded representation\n",
    "encoder = Model(input=input_img, output=encoded)\n",
    "\n",
    "# create a placeholder for an encoded (32-dimensional) input\n",
    "encoded_input = Input(shape=(encoding_dim,))\n",
    "# retrieve the last layer of the autoencoder model\n",
    "decoder_layer = autoencoder.layers[-1]\n",
    "# create the decoder model\n",
    "decoder = Model(input=encoded_input, output=decoder_layer(encoded_input))\n",
    "\n",
    "autoencoder.compile(optimizer='adadelta', loss='mse')\n",
    "\n",
    "autoencoder.fit(window_train, window_train,\n",
    "                nb_epoch=50,\n",
    "                batch_size=shapeNum/4,\n",
    "                shuffle=True,\n",
    "                validation_data=(window_test, window_test))\n",
    "\n",
    "encoded_imgs = encoder.predict(window_test)\n",
    "decoded_imgs = decoder.predict(encoded_imgs)\n",
    "\n",
    "processing.SaveDicDataFromFileNPZ(StudyDataPath,SaveFileNameEncord,encoded_imgs)\n",
    "processing.SaveDicDataFromFileNPZ(StudyDataPath,SaveFileNameDecord,decoded_imgs)\n",
    "\n",
    "json_string = encoderALL.to_json()\n",
    "open(StudyDataPath+SaveFileNameEncord+'.json', 'w').write(json_string)\n",
    "model.save_weights(StudyDataPath+SaveFileNameEncord+'_weights.h5')\n",
    "\n",
    "json_string = decoderALL.to_json()\n",
    "open(StudyDataPath+SaveFileNameDecord+'.json', 'w').write(json_string)\n",
    "model.save_weights(StudyDataPath+SaveFileNameEncord+'_weights.h5')\n",
    "\n",
    "json_string = decoderALL.to_json()\n",
    "open(StudyDataPath+SaveFileNameNet+'.json', 'w').write(json_string)\n",
    "model.save_weights(StudyDataPath+SaveFileNameNet+'_weights.h5')"
   ]
  },
  {
   "cell_type": "markdown",
   "metadata": {},
   "source": [
    "５つ目のセンサデータ"
   ]
  },
  {
   "cell_type": "code",
   "execution_count": null,
   "metadata": {
    "collapsed": true
   },
   "outputs": [],
   "source": [
    "w5 = Window()\n",
    "w5.SetData('AccX', dic5['AccX'])\n",
    "window5 = w5.Compile(windowWidth=16,overlap=0.5)\n",
    "\n",
    "windoW = window5\n",
    "col = windoW.shape[1]\n",
    "row = windoW.shape[2]\n",
    "shapeNum=col*row\n",
    "\n",
    "SaveFileNameEncord='sensor5_AccX_encoded'\n",
    "SaveFileNameDecord='sensor5_AccX_decoded'\n",
    "SaveFileNameNet='sensor5_AccX_net'\n",
    "\n",
    "window_train=Convert3dto2d(windoW)\n",
    "window_test=Convert3dto2d(windoW)\n",
    "\n",
    "SaveFileNameTrain='sensor5_AccX_train'\n",
    "SaveFileNameTest='sensor5_AccX_test'\n",
    "processing.SaveDicDataFromFileNPZ(WindowDataPath,SaveFileNameTrain,window_test)\n",
    "processing.SaveDicDataFromFileNPZ(WindowDataPath,SaveFileNameTest,window_test)\n",
    "\n",
    "encoding_dim = 8  # 32 floats -> compression of factor 24.5, assuming the input is 784 floats\n",
    "\n",
    "# this is our input placeholder\n",
    "input_img = Input(shape=(shapeNum,))\n",
    "# \"encoded\" is the encoded representation of the input\n",
    "encoded = Dense(encoding_dim, activation='tanh')(input_img)\n",
    "# \"decoded\" is the lossy reconstruction of the input\n",
    "decoded = Dense(shapeNum, activation='linear')(encoded)\n",
    "\n",
    "# this model maps an input to its reconstruction\n",
    "autoencoder = Model(input=input_img, output=decoded)\n",
    "\n",
    "# this model maps an input to its encoded representation\n",
    "encoder = Model(input=input_img, output=encoded)\n",
    "\n",
    "# create a placeholder for an encoded (32-dimensional) input\n",
    "encoded_input = Input(shape=(encoding_dim,))\n",
    "# retrieve the last layer of the autoencoder model\n",
    "decoder_layer = autoencoder.layers[-1]\n",
    "# create the decoder model\n",
    "decoder = Model(input=encoded_input, output=decoder_layer(encoded_input))\n",
    "\n",
    "autoencoder.compile(optimizer='adadelta', loss='mse')\n",
    "\n",
    "autoencoder.fit(window_train, window_train,\n",
    "                nb_epoch=50,\n",
    "                batch_size=shapeNum/4,\n",
    "                shuffle=True,\n",
    "                validation_data=(window_test, window_test))\n",
    "\n",
    "encoded_imgs = encoder.predict(window_test)\n",
    "decoded_imgs = decoder.predict(encoded_imgs)\n",
    "\n",
    "processing.SaveDicDataFromFileNPZ(StudyDataPath,SaveFileNameEncord,encoded_imgs)\n",
    "processing.SaveDicDataFromFileNPZ(StudyDataPath,SaveFileNameDecord,decoded_imgs)\n",
    "\n",
    "json_string = encoderALL.to_json()\n",
    "open(StudyDataPath+SaveFileNameEncord+'.json', 'w').write(json_string)\n",
    "model.save_weights(StudyDataPath+SaveFileNameEncord+'_weights.h5')\n",
    "\n",
    "json_string = decoderALL.to_json()\n",
    "open(StudyDataPath+SaveFileNameDecord+'.json', 'w').write(json_string)\n",
    "model.save_weights(StudyDataPath+SaveFileNameEncord+'_weights.h5')\n",
    "\n",
    "json_string = decoderALL.to_json()\n",
    "open(StudyDataPath+SaveFileNameNet+'.json', 'w').write(json_string)\n",
    "model.save_weights(StudyDataPath+SaveFileNameNet+'_weights.h5')"
   ]
  },
  {
   "cell_type": "markdown",
   "metadata": {},
   "source": [
    "６つ目のセンサでやってみる"
   ]
  },
  {
   "cell_type": "code",
   "execution_count": null,
   "metadata": {
    "collapsed": false,
    "scrolled": true
   },
   "outputs": [],
   "source": [
    "w6 = Window()\n",
    "w6.SetData('AccX', dic6['AccX'])\n",
    "window6 = w6.Compile(windowWidth=16,overlap=0.5)\n",
    "\n",
    "windoW = window6\n",
    "col = windoW.shape[1]\n",
    "row = windoW.shape[2]\n",
    "shapeNum=col*row\n",
    "\n",
    "SaveFileNameEncord='sensor6_AccX_encoded'\n",
    "SaveFileNameDecord='sensor6_AccX_decoded'\n",
    "SaveFileNameNet='sensor6_AccX_net'\n",
    "\n",
    "window_train=Convert3dto2d(windoW)\n",
    "window_test=Convert3dto2d(windoW)\n",
    "\n",
    "SaveFileNameTrain='sensor6_AccX_train'\n",
    "SaveFileNameTest='sensor6_AccX_test'\n",
    "processing.SaveDicDataFromFileNPZ(WindowDataPath,SaveFileNameTrain,window_test)\n",
    "processing.SaveDicDataFromFileNPZ(WindowDataPath,SaveFileNameTest,window_test)\n",
    "\n",
    "encoding_dim = 8  # 32 floats -> compression of factor 24.5, assuming the input is 784 floats\n",
    "\n",
    "# this is our input placeholder\n",
    "input_img = Input(shape=(shapeNum,))\n",
    "# \"encoded\" is the encoded representation of the input\n",
    "encoded = Dense(encoding_dim, activation='tanh')(input_img)\n",
    "# \"decoded\" is the lossy reconstruction of the input\n",
    "decoded = Dense(shapeNum, activation='linear')(encoded)\n",
    "\n",
    "# this model maps an input to its reconstruction\n",
    "autoencoder = Model(input=input_img, output=decoded)\n",
    "\n",
    "# this model maps an input to its encoded representation\n",
    "encoder = Model(input=input_img, output=encoded)\n",
    "\n",
    "# create a placeholder for an encoded (32-dimensional) input\n",
    "encoded_input = Input(shape=(encoding_dim,))\n",
    "# retrieve the last layer of the autoencoder model\n",
    "decoder_layer = autoencoder.layers[-1]\n",
    "# create the decoder model\n",
    "decoder = Model(input=encoded_input, output=decoder_layer(encoded_input))\n",
    "\n",
    "autoencoder.compile(optimizer='adadelta', loss='mse')\n",
    "\n",
    "autoencoder.fit(window_train, window_train,\n",
    "                nb_epoch=50,\n",
    "                batch_size=shapeNum/4,\n",
    "                shuffle=True,\n",
    "                validation_data=(window_test, window_test))\n",
    "\n",
    "encoded_imgs = encoder.predict(window_test)\n",
    "decoded_imgs = decoder.predict(encoded_imgs)\n",
    "\n",
    "processing.SaveDicDataFromFileNPZ(StudyDataPath,SaveFileNameEncord,encoded_imgs)\n",
    "processing.SaveDicDataFromFileNPZ(StudyDataPath,SaveFileNameDecord,decoded_imgs)\n",
    "\n",
    "json_string = encoderALL.to_json()\n",
    "open(StudyDataPath+SaveFileNameEncord+'.json', 'w').write(json_string)\n",
    "model.save_weights(StudyDataPath+SaveFileNameEncord+'_weights.h5')\n",
    "\n",
    "json_string = decoderALL.to_json()\n",
    "open(StudyDataPath+SaveFileNameDecord+'.json', 'w').write(json_string)\n",
    "model.save_weights(StudyDataPath+SaveFileNameEncord+'_weights.h5')\n",
    "\n",
    "json_string = decoderALL.to_json()\n",
    "open(StudyDataPath+SaveFileNameNet+'.json', 'w').write(json_string)\n",
    "model.save_weights(StudyDataPath+SaveFileNameNet+'_weights.h5')"
   ]
  },
  {
   "cell_type": "markdown",
   "metadata": {},
   "source": [
    "７つ目のセンサーでやってみる"
   ]
  },
  {
   "cell_type": "code",
   "execution_count": null,
   "metadata": {
    "collapsed": true
   },
   "outputs": [],
   "source": [
    "w7 = Window()\n",
    "w7.SetData('AccX', dic6['AccX'])\n",
    "window7 = w7.Compile(windowWidth=16,overlap=0.5)\n",
    "\n",
    "windoW = window7\n",
    "col = windoW.shape[1]\n",
    "row = windoW.shape[2]\n",
    "shapeNum=col*row\n",
    "\n",
    "SaveFileNameEncord='sensor7_AccX_encoded'\n",
    "SaveFileNameDecord='sensor7_AccX_decoded'\n",
    "SaveFileNameNet='sensor7_AccX_net'\n",
    "\n",
    "window_train=Convert3dto2d(windoW)\n",
    "window_test=Convert3dto2d(windoW)\n",
    "\n",
    "SaveFileNameTrain='sensor7_AccX_train'\n",
    "SaveFileNameTest='sensor7_AccX_test'\n",
    "processing.SaveDicDataFromFileNPZ(WindowDataPath,SaveFileNameTrain,window_test)\n",
    "processing.SaveDicDataFromFileNPZ(WindowDataPath,SaveFileNameTest,window_test)\n",
    "\n",
    "encoding_dim = 8  # 32 floats -> compression of factor 24.5, assuming the input is 784 floats\n",
    "\n",
    "# this is our input placeholder\n",
    "input_img = Input(shape=(shapeNum,))\n",
    "# \"encoded\" is the encoded representation of the input\n",
    "encoded = Dense(encoding_dim, activation='tanh')(input_img)\n",
    "# \"decoded\" is the lossy reconstruction of the input\n",
    "decoded = Dense(shapeNum, activation='linear')(encoded)\n",
    "\n",
    "# this model maps an input to its reconstruction\n",
    "autoencoder = Model(input=input_img, output=decoded)\n",
    "\n",
    "# this model maps an input to its encoded representation\n",
    "encoder = Model(input=input_img, output=encoded)\n",
    "\n",
    "# create a placeholder for an encoded (32-dimensional) input\n",
    "encoded_input = Input(shape=(encoding_dim,))\n",
    "# retrieve the last layer of the autoencoder model\n",
    "decoder_layer = autoencoder.layers[-1]\n",
    "# create the decoder model\n",
    "decoder = Model(input=encoded_input, output=decoder_layer(encoded_input))\n",
    "\n",
    "autoencoder.compile(optimizer='adadelta', loss='mse')\n",
    "\n",
    "autoencoder.fit(window_train, window_train,\n",
    "                nb_epoch=50,\n",
    "                batch_size=shapeNum/4,\n",
    "                shuffle=True,\n",
    "                validation_data=(window_test, window_test))\n",
    "\n",
    "encoded_imgs = encoder.predict(window_test)\n",
    "decoded_imgs = decoder.predict(encoded_imgs)\n",
    "\n",
    "processing.SaveDicDataFromFileNPZ(StudyDataPath,SaveFileNameEncord,encoded_imgs)\n",
    "processing.SaveDicDataFromFileNPZ(StudyDataPath,SaveFileNameDecord,decoded_imgs)\n",
    "\n",
    "json_string = encoderALL.to_json()\n",
    "open(StudyDataPath+SaveFileNameEncord+'.json', 'w').write(json_string)\n",
    "model.save_weights(StudyDataPath+SaveFileNameEncord+'_weights.h5')\n",
    "\n",
    "json_string = decoderALL.to_json()\n",
    "open(StudyDataPath+SaveFileNameDecord+'.json', 'w').write(json_string)\n",
    "model.save_weights(StudyDataPath+SaveFileNameEncord+'_weights.h5')\n",
    "\n",
    "json_string = decoderALL.to_json()\n",
    "open(StudyDataPath+SaveFileNameNet+'.json', 'w').write(json_string)\n",
    "model.save_weights(StudyDataPath+SaveFileNameNet+'_weights.h5')"
   ]
  },
  {
   "cell_type": "code",
   "execution_count": null,
   "metadata": {
    "collapsed": true
   },
   "outputs": [],
   "source": []
  }
 ],
 "metadata": {
  "kernelspec": {
   "display_name": "Python 2",
   "language": "python",
   "name": "python2"
  },
  "language_info": {
   "codemirror_mode": {
    "name": "ipython",
    "version": 2
   },
   "file_extension": ".py",
   "mimetype": "text/x-python",
   "name": "python",
   "nbconvert_exporter": "python",
   "pygments_lexer": "ipython2",
   "version": "2.7.11"
  }
 },
 "nbformat": 4,
 "nbformat_minor": 0
}
