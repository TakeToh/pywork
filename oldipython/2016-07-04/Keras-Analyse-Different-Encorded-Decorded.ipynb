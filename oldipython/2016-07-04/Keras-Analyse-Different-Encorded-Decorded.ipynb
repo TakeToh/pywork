{
 "cells": [
  {
   "cell_type": "code",
   "execution_count": 1,
   "metadata": {
    "collapsed": true
   },
   "outputs": [],
   "source": [
    "import numpy as np\n",
    "import pandas as pd\n",
    "from scipy import fftpack\n",
    "from scipy import signal\n",
    "import time\n",
    "import os\n",
    "import matplotlib.pyplot as plt\n",
    "import pylab\n",
    "import pickle\n",
    "import copy\n",
    "import processing\n",
    "import matplotlib.animation as animation\n",
    "%matplotlib inline\n",
    "\n",
    "WORKSPACE_PATH = '/home/takeyama/pywork/ipython/2016-07-04'\n",
    "RawDataPath=WORKSPACE_PATH+'/raw/'\n",
    "StudyDataPath=WORKSPACE_PATH+'/study/'\n",
    "GlaphDataPath=WORKSPACE_PATH+'/glaph/'\n",
    "GlaphDataFftPath=WORKSPACE_PATH+'/fft/'\n",
    "WindowDataPath=WORKSPACE_PATH+'/window/'\n",
    "StudyDataModelPicPath=StudyDataPath+'modelPic/'"
   ]
  },
  {
   "cell_type": "code",
   "execution_count": 2,
   "metadata": {
    "collapsed": false
   },
   "outputs": [
    {
     "name": "stderr",
     "output_type": "stream",
     "text": [
      "Using Theano backend.\n",
      "Using gpu device 0: GeForce GTX 970 (CNMeM is disabled, cuDNN 4007)\n"
     ]
    }
   ],
   "source": [
    "from keras.models import Sequential\n",
    "from keras.datasets import cifar10\n",
    "from keras.layers import Dense, Activation, Flatten\n",
    "from keras.optimizers import Adadelta\n",
    "from keras.utils import np_utils\n",
    "from keras.layers.convolutional import Convolution2D, MaxPooling2D\n",
    "from keras.utils.visualize_util import model_to_dot, plot\n",
    "from keras import backend as K\n",
    "import numpy as np\n",
    "\n",
    "from matplotlib import pyplot as plt\n",
    "import matplotlib.image as mpimg\n",
    "%matplotlib inline"
   ]
  },
  {
   "cell_type": "code",
   "execution_count": 3,
   "metadata": {
    "collapsed": true
   },
   "outputs": [],
   "source": [
    "DataName='ALL_sensor_AccX'\n",
    "SensorName='all_sensor'\n",
    "encoding_dim=0\n",
    "width=3000"
   ]
  },
  {
   "cell_type": "code",
   "execution_count": 4,
   "metadata": {
    "collapsed": false
   },
   "outputs": [],
   "source": [
    "WORKSPACE_PATH = '/home/takeyama/pywork/ipython/2016-07-04'\n",
    "\n",
    "    \n",
    "if not os.path.exists(WORKSPACE_PATH+'/'+DataName+'/study/'): os.makedirs(WORKSPACE_PATH+'/'+DataName+'/study/')\n",
    "StudyDataPath=WORKSPACE_PATH+'/'+DataName+'/study/'\n",
    "\n",
    "if not os.path.exists(WORKSPACE_PATH+'/'+DataName+'/glaph/'): os.makedirs(WORKSPACE_PATH+'/'+DataName+'/glaph/')\n",
    "GlaphDataPath=WORKSPACE_PATH+'/'+DataName+'/glaph/'\n",
    "\n",
    "if not os.path.exists(WORKSPACE_PATH+'/'+DataName+'/modelPic/'): os.makedirs(WORKSPACE_PATH+'/'+DataName+'/modelPic/')\n",
    "StudyDataModelPicPath=WORKSPACE_PATH+'/'+DataName+'/modelPic/'\n",
    "\n",
    "WindowDataPath=WORKSPACE_PATH+'/window/'\n",
    "RawDataPath=WORKSPACE_PATH+'/raw/'"
   ]
  },
  {
   "cell_type": "code",
   "execution_count": 5,
   "metadata": {
    "collapsed": false
   },
   "outputs": [],
   "source": [
    "\"\"\"\n",
    "    encordData,decordData\n",
    "    firstNum:\n",
    "    goalNum:\n",
    "    commonLabel:共通名前\n",
    "\"\"\"\n",
    "def MakeGlaph(encordData,decordData,firstNum,goalNum,commonLabel):\n",
    "    eRow, eCol=encordData.shape\n",
    "    dRow, dCol=decordData.shape\n",
    "    if (eRow!=dRow) | (eCol!=dCol):\n",
    "        print 'check encordData & decordData'\n",
    "        return -1\n",
    "        \n",
    "    start = firstNum\n",
    "    goal=goalNum\n",
    "    print str(start)+' is start '+str(goal)+' is goal'\n",
    "    dataE = encordData.reshape(eRow*eCol,1)[start:goal]\n",
    "    dataD = decordData.reshape(dRow*dCol,1)[start:goal]\n",
    "    plt.figure(figsize=(160,90))\n",
    "    plt.plot(range(0,len(dataE)),dataE,'--r',label=\"Encoded\")\n",
    "    plt.plot(range(0,len(dataD)),dataD,'b',label=\"Decoded\")\n",
    "    plt.legend(loc='best')\n",
    "    plt.title(str(start)+\"-\"+str(goal))\n",
    "    plt.savefig(commonLabel+'-'+str(start)+\"-\"+str(goal)+'-'+'glaph')\n",
    "    plt.close()"
   ]
  },
  {
   "cell_type": "markdown",
   "metadata": {},
   "source": [
    "辞書型の変数を読み込む"
   ]
  },
  {
   "cell_type": "code",
   "execution_count": null,
   "metadata": {
    "collapsed": false
   },
   "outputs": [],
   "source": [
    "dic1=processing.LoadDicDataFromFileNPZ(RawDataPath+\"MemSensor1\")\n",
    "dic2=processing.LoadDicDataFromFileNPZ(RawDataPath+\"MemSensor2\")\n",
    "dic3=processing.LoadDicDataFromFileNPZ(RawDataPath+\"MemSensor3\")\n",
    "dic4=processing.LoadDicDataFromFileNPZ(RawDataPath+\"MemSensor4\")\n",
    "dic5=processing.LoadDicDataFromFileNPZ(RawDataPath+\"MemSensor5\")\n",
    "dic6=processing.LoadDicDataFromFileNPZ(RawDataPath+\"MemSensor6\")\n",
    "dic7=processing.LoadDicDataFromFileNPZ(RawDataPath+\"MemSensor7\")"
   ]
  },
  {
   "cell_type": "markdown",
   "metadata": {},
   "source": [
    "windowにしたものを読み込む"
   ]
  },
  {
   "cell_type": "code",
   "execution_count": null,
   "metadata": {
    "collapsed": false,
    "scrolled": true
   },
   "outputs": [
    {
     "name": "stdout",
     "output_type": "stream",
     "text": [
      "number=0\n",
      "0 is start 3000 is goal\n",
      "number=3000\n",
      "3000 is start 6000 is goal\n",
      "number=6000\n",
      "6000 is start 9000 is goal\n",
      "number=9000\n",
      "9000 is start 12000 is goal\n",
      "number=12000\n",
      "12000 is start 15000 is goal\n",
      "number=15000\n",
      "15000 is start 18000 is goal\n",
      "number=18000\n",
      "18000 is start 21000 is goal\n",
      "number=21000\n",
      "21000 is start 24000 is goal\n",
      "number=24000\n",
      "24000 is start 27000 is goal\n",
      "number=27000\n",
      "27000 is start 30000 is goal\n",
      "number=30000\n",
      "30000 is start 33000 is goal\n",
      "number=33000\n",
      "33000 is start 36000 is goal\n"
     ]
    }
   ],
   "source": [
    "encord=processing.LoadDicDataFromFileNPZ('window/sensor1_AccX_train.npz')\n",
    "decord=processing.LoadDicDataFromFileNPZ('study/sensor1_AccX_decoded.npz')\n",
    "\n",
    "for n in range(0,encord.size,width):\n",
    "    print 'number='+str(n)\n",
    "    MakeGlaph(encord,decord,n,n+width,GlaphDataPath+'Sensor1-AccX')\n",
    "    time.sleep(1)"
   ]
  },
  {
   "cell_type": "code",
   "execution_count": null,
   "metadata": {
    "collapsed": false,
    "scrolled": true
   },
   "outputs": [],
   "source": [
    "encord=processing.LoadDicDataFromFileNPZ('window/sensor2_AccX_train.npz')\n",
    "decord=processing.LoadDicDataFromFileNPZ('study/sensor2_AccX_decoded.npz')\n",
    "\n",
    "for n in range(0,16*16000,width):\n",
    "    print 'number='+str(n)\n",
    "    MakeGlaph(encord,decord,n,n+width,GlaphDataPath+'Sensor2-AccX')\n",
    "    time.sleep(1)"
   ]
  },
  {
   "cell_type": "code",
   "execution_count": null,
   "metadata": {
    "collapsed": false,
    "scrolled": true
   },
   "outputs": [],
   "source": [
    "encord=processing.LoadDicDataFromFileNPZ('window/sensor3_AccX_train.npz')\n",
    "decord=processing.LoadDicDataFromFileNPZ('study/sensor3_AccX_decoded.npz')\n",
    "\n",
    "for n in range(0,16*16000,width):\n",
    "    print 'number='+str(n)\n",
    "    MakeGlaph(encord,decord,n,n+width,GlaphDataPath+'Sensor3-AccX')\n",
    "    time.sleep(1)"
   ]
  },
  {
   "cell_type": "code",
   "execution_count": null,
   "metadata": {
    "collapsed": false,
    "scrolled": true
   },
   "outputs": [],
   "source": [
    "encord=processing.LoadDicDataFromFileNPZ('window/sensor4_AccX_train.npz')\n",
    "decord=processing.LoadDicDataFromFileNPZ('study/sensor4_AccX_decoded.npz')\n",
    "\n",
    "for n in range(0,16*16000,width):\n",
    "    print 'number='+str(n)\n",
    "    MakeGlaph(encord,decord,n,n+width,GlaphDataPath+'Sensor4-AccX')\n",
    "    time.sleep(1)"
   ]
  },
  {
   "cell_type": "code",
   "execution_count": null,
   "metadata": {
    "collapsed": false,
    "scrolled": true
   },
   "outputs": [],
   "source": [
    "encord=processing.LoadDicDataFromFileNPZ('window/sensor5_AccX_train.npz')\n",
    "decord=processing.LoadDicDataFromFileNPZ('study/sensor5_AccX_decoded.npz')\n",
    "\n",
    "for n in range(0,16*16000,width):\n",
    "    print 'number='+str(n)\n",
    "    MakeGlaph(encord,decord,n,n+width,GlaphDataPath+'Sensor5-AccX')\n",
    "    time.sleep(1)"
   ]
  },
  {
   "cell_type": "code",
   "execution_count": null,
   "metadata": {
    "collapsed": false,
    "scrolled": true
   },
   "outputs": [],
   "source": [
    "encord=processing.LoadDicDataFromFileNPZ('window/sensor6_AccX_train.npz')\n",
    "decord=processing.LoadDicDataFromFileNPZ('study/sensor6_AccX_decoded.npz')\n",
    "\n",
    "for n in range(0,16*16000,width):\n",
    "    print 'number='+str(n)\n",
    "    MakeGlaph(encord,decord,n,n+width,GlaphDataPath+'Sensor6-AccX')\n",
    "    time.sleep(1)"
   ]
  },
  {
   "cell_type": "code",
   "execution_count": null,
   "metadata": {
    "collapsed": false,
    "scrolled": true
   },
   "outputs": [],
   "source": [
    "encord=processing.LoadDicDataFromFileNPZ('window/sensor7_AccX_train.npz')\n",
    "decord=processing.LoadDicDataFromFileNPZ('study/sensor7_AccX_decoded.npz')\n",
    "\n",
    "for n in range(0,16*16000,width):\n",
    "    print 'number='+str(n)\n",
    "    MakeGlaph(encord,decord,n,n+width,GlaphDataPath+'Sensor7-AccX')\n",
    "    time.sleep(1)"
   ]
  },
  {
   "cell_type": "code",
   "execution_count": null,
   "metadata": {
    "collapsed": true
   },
   "outputs": [],
   "source": [
    "def CalcFFT(self,samp,overlap=0.5):\n",
    "        start = time.time()\n",
    "        fft_data = np.array([])\n",
    "        \n",
    "        for n,f in zip( self._columns,self._fft_col):\n",
    "            print 'start'+n+'->'+f\n",
    "            sw = self._sliding_window(n,samp,overlap)\n",
    "            while True:\n",
    "                try:\n",
    "                    d=sw.next()\n",
    "                    fft_data = np.append(fft_data, fftpack.fft(d)[1:(samp/2)+1] )   # fftの直流成分を除くsample/2の\n",
    "                except StopIteration:\n",
    "                    print 'CalcFFTStopIteration'\n",
    "                    fft_data = fft_data.reshape(len(fft_data)/(samp/2),(samp/2) )\n",
    "                    self._FFTData[f] = fft_data\n",
    "                    np.savez(p_path+'fft/'+self.ClassName+'_'+str(f)+'_'+str(samp),self._FFTData[f])\n",
    "                    break   \n",
    "        elapsed_time = time.time() - start\n",
    "        print (\"elapsed_time:{0}\".format(elapsed_time)) + \"[sec]\""
   ]
  },
  {
   "cell_type": "code",
   "execution_count": null,
   "metadata": {
    "collapsed": false
   },
   "outputs": [],
   "source": [
    "encord=processing.LoadDicDataFromFileNPZ('window/sensor7_AccX_train.npz')\n",
    "decord=processing.LoadDicDataFromFileNPZ('study/sensor7_AccX_decoded.npz')\n",
    "\n",
    "fftDataE = np.array([])\n",
    "fftDataD = np.array([])\n",
    "\n",
    "for i in range(len(encord)):\n",
    "        fftDataE=np.append(fftDataE, fftpack.fft(encord[i])[1:len(encord)/2+1])\n",
    "        fftDataD=np.append(fftDataD, fftpack.fft(encord[i])[1:len(encord)/2+1])\n",
    "\n",
    "fftDataE = fftDataE.reshape(len(encord),len(encord)/2)\n",
    "fftDataD = fftDataD.reshape(len(encord),len(encord)/2)"
   ]
  },
  {
   "cell_type": "code",
   "execution_count": null,
   "metadata": {
    "collapsed": false
   },
   "outputs": [],
   "source": [
    "fftDataE"
   ]
  },
  {
   "cell_type": "code",
   "execution_count": null,
   "metadata": {
    "collapsed": false
   },
   "outputs": [],
   "source": [
    "np.imag( fftDataE ).shape"
   ]
  },
  {
   "cell_type": "code",
   "execution_count": null,
   "metadata": {
    "collapsed": false
   },
   "outputs": [],
   "source": [
    "np.real( fftDataE ).shape"
   ]
  },
  {
   "cell_type": "code",
   "execution_count": null,
   "metadata": {
    "collapsed": false
   },
   "outputs": [],
   "source": [
    "fftDataD.shape"
   ]
  },
  {
   "cell_type": "code",
   "execution_count": null,
   "metadata": {
    "collapsed": true
   },
   "outputs": [],
   "source": [
    "fwidth=3000"
   ]
  },
  {
   "cell_type": "code",
   "execution_count": null,
   "metadata": {
    "collapsed": true
   },
   "outputs": [],
   "source": [
    "Sensor ='sensor1'\n",
    "encord=processing.LoadDicDataFromFileNPZ('study/'+Sensor+'_AccX_encoded.npz')\n",
    "decord=processing.LoadDicDataFromFileNPZ('study/'+Sensor+'_AccX_decoded.npz')\n",
    "\n",
    "fftDataE = np.array([])\n",
    "fftDataD = np.array([])\n",
    "\n",
    "for i in range(len(encord)):\n",
    "        fftDataE=np.append(fftDataE, fftpack.fft(encord[i])[1:len(encord[i])/2+1])\n",
    "        fftDataD=np.append(fftDataD, fftpack.fft(decord[i])[1:len(encord[i])/2+1])\n",
    "\n",
    "fftDataE = fftDataE.reshape(len(encord),len(encord[0])/2)\n",
    "fftDataD = fftDataD.reshape(len(encord),len(encord[0])/2)\n",
    "\n",
    "print np.imag(fftDataE).shape\n",
    "print fftDataD.shape\n",
    "\n",
    "for n in range(0,len(encord[0])/2*16000,fwidth):\n",
    "    MakeGlaph(np.imag(fftDataE), np.imag(fftDataD) ,n,n+fwidth,GlaphDataFftPath+Sensor+'-fft-image-AccX')\n",
    "    \n",
    "for n in range(0,len(encord[0])/2*16000,fwidth):\n",
    "    MakeGlaph(np.real(fftDataE), np.real(fftDataD) ,n,n+fwidth,GlaphDataFftPath+Sensor+'-fft-real-AccX')\n",
    "    \n",
    "PowerE = np.imag(fftDataE)**2+np.real(fftDataE)**2\n",
    "PowerD = np.imag(fftDataD)**2+np.real(fftDataD)**2\n",
    "\n",
    "for n in range(0,len(encord[0])/2*16000,fwidth):\n",
    "    MakeGlaph(PowerE, PowerD,n,n+fwidth,GlaphDataFftPath+Sensor+'-fft-power-AccX')"
   ]
  },
  {
   "cell_type": "code",
   "execution_count": null,
   "metadata": {
    "collapsed": false,
    "scrolled": true
   },
   "outputs": [],
   "source": [
    "Sensor ='sensor2'\n",
    "encord=processing.LoadDicDataFromFileNPZ('study/'+Sensor+'_AccX_encoded.npz')\n",
    "decord=processing.LoadDicDataFromFileNPZ('study/'+Sensor+'_AccX_decoded.npz')\n",
    "\n",
    "fftDataE = np.array([])\n",
    "fftDataD = np.array([])\n",
    "\n",
    "for i in range(len(encord)):\n",
    "        fftDataE=np.append(fftDataE, fftpack.fft(encord[i])[1:len(encord[i])/2+1])\n",
    "        fftDataD=np.append(fftDataD, fftpack.fft(decord[i])[1:len(encord[i])/2+1])\n",
    "\n",
    "fftDataE = fftDataE.reshape(len(encord),len(encord[0])/2)\n",
    "fftDataD = fftDataD.reshape(len(encord),len(encord[0])/2)\n",
    "\n",
    "print np.imag(fftDataE).shape\n",
    "print fftDataD.shape\n",
    "\n",
    "for n in range(0,len(encord[0])/2*16000,fwidth):\n",
    "    MakeGlaph(np.imag(fftDataE), np.imag(fftDataD) ,n,n+fwidth,GlaphDataFftPath+Sensor+'-fft-image-AccX')\n",
    "    \n",
    "for n in range(0,len(encord[0])/2*16000,fwidth):\n",
    "    MakeGlaph(np.real(fftDataE), np.real(fftDataD) ,n,n+fwidth,GlaphDataFftPath+Sensor+'-fft-real-AccX')\n",
    "    \n",
    "PowerE = np.imag(fftDataE)**2+np.real(fftDataE)**2\n",
    "PowerD = np.imag(fftDataD)**2+np.real(fftDataD)**2\n",
    "\n",
    "for n in range(0,len(encord[0])/2*16000,fwidth):\n",
    "    MakeGlaph(PowerE, PowerD,n,n+fwidth,GlaphDataFftPath+Sensor+'-fft-power-AccX')"
   ]
  },
  {
   "cell_type": "code",
   "execution_count": null,
   "metadata": {
    "collapsed": false,
    "scrolled": true
   },
   "outputs": [],
   "source": [
    "Sensor ='sensor3'\n",
    "encord=processing.LoadDicDataFromFileNPZ('study/'+Sensor+'_AccX_encoded.npz')\n",
    "decord=processing.LoadDicDataFromFileNPZ('study/'+Sensor+'_AccX_decoded.npz')\n",
    "\n",
    "fftDataE = np.array([])\n",
    "fftDataD = np.array([])\n",
    "\n",
    "for i in range(len(encord)):\n",
    "        fftDataE=np.append(fftDataE, fftpack.fft(encord[i])[1:len(encord[i])/2+1])\n",
    "        fftDataD=np.append(fftDataD, fftpack.fft(decord[i])[1:len(encord[i])/2+1])\n",
    "\n",
    "fftDataE = fftDataE.reshape(len(encord),len(encord[0])/2)\n",
    "fftDataD = fftDataD.reshape(len(encord),len(encord[0])/2)\n",
    "\n",
    "print np.imag(fftDataE).shape\n",
    "print fftDataD.shape\n",
    "\n",
    "for n in range(0,len(encord[0])/2*16000,fwidth):\n",
    "    MakeGlaph(np.imag(fftDataE), np.imag(fftDataD) ,n,n+fwidth,GlaphDataFftPath+Sensor+'-fft-image-AccX')\n",
    "    \n",
    "for n in range(0,len(encord[0])/2*16000,fwidth):\n",
    "    MakeGlaph(np.real(fftDataE), np.real(fftDataD) ,n,n+fwidth,GlaphDataFftPath+Sensor+'-fft-real-AccX')\n",
    "    \n",
    "PowerE = np.imag(fftDataE)**2+np.real(fftDataE)**2\n",
    "PowerD = np.imag(fftDataD)**2+np.real(fftDataD)**2\n",
    "\n",
    "for n in range(0,len(encord[0])/2*16000,fwidth):\n",
    "    MakeGlaph(PowerE, PowerD,n,n+fwidth,GlaphDataFftPath+Sensor+'-fft-power-AccX')"
   ]
  },
  {
   "cell_type": "code",
   "execution_count": null,
   "metadata": {
    "collapsed": false,
    "scrolled": true
   },
   "outputs": [],
   "source": [
    "Sensor ='sensor4'\n",
    "encord=processing.LoadDicDataFromFileNPZ('study/'+Sensor+'_AccX_encoded.npz')\n",
    "decord=processing.LoadDicDataFromFileNPZ('study/'+Sensor+'_AccX_decoded.npz')\n",
    "\n",
    "fftDataE = np.array([])\n",
    "fftDataD = np.array([])\n",
    "\n",
    "for i in range(len(encord)):\n",
    "        fftDataE=np.append(fftDataE, fftpack.fft(encord[i])[1:len(encord[i])/2+1])\n",
    "        fftDataD=np.append(fftDataD, fftpack.fft(decord[i])[1:len(encord[i])/2+1])\n",
    "\n",
    "fftDataE = fftDataE.reshape(len(encord),len(encord[0])/2)\n",
    "fftDataD = fftDataD.reshape(len(encord),len(encord[0])/2)\n",
    "\n",
    "print np.imag(fftDataE).shape\n",
    "print fftDataD.shape\n",
    "\n",
    "for n in range(0,len(encord[0])/2*16000,fwidth):\n",
    "    MakeGlaph(np.imag(fftDataE), np.imag(fftDataD) ,n,n+fwidth,GlaphDataFftPath+Sensor+'-fft-image-AccX')\n",
    "    \n",
    "for n in range(0,len(encord[0])/2*16000,fwidth):\n",
    "    MakeGlaph(np.real(fftDataE), np.real(fftDataD) ,n,n+fwidth,GlaphDataFftPath+Sensor+'-fft-real-AccX')\n",
    "    \n",
    "PowerE = np.imag(fftDataE)**2+np.real(fftDataE)**2\n",
    "PowerD = np.imag(fftDataD)**2+np.real(fftDataD)**2\n",
    "\n",
    "for n in range(0,len(encord[0])/2*16000,fwidth):\n",
    "    MakeGlaph(PowerE, PowerD,n,n+fwidth,GlaphDataFftPath+Sensor+'-fft-power-AccX')"
   ]
  },
  {
   "cell_type": "code",
   "execution_count": null,
   "metadata": {
    "collapsed": false,
    "scrolled": true
   },
   "outputs": [],
   "source": [
    "Sensor ='sensor5'\n",
    "encord=processing.LoadDicDataFromFileNPZ('study/'+Sensor+'_AccX_encoded.npz')\n",
    "decord=processing.LoadDicDataFromFileNPZ('study/'+Sensor+'_AccX_decoded.npz')\n",
    "\n",
    "fftDataE = np.array([])\n",
    "fftDataD = np.array([])\n",
    "\n",
    "for i in range(len(encord)):\n",
    "        fftDataE=np.append(fftDataE, fftpack.fft(encord[i])[1:len(encord[i])/2+1])\n",
    "        fftDataD=np.append(fftDataD, fftpack.fft(decord[i])[1:len(encord[i])/2+1])\n",
    "\n",
    "fftDataE = fftDataE.reshape(len(encord),len(encord[0])/2)\n",
    "fftDataD = fftDataD.reshape(len(encord),len(encord[0])/2)\n",
    "\n",
    "print np.imag(fftDataE).shape\n",
    "print fftDataD.shape\n",
    "\n",
    "for n in range(0,len(encord[0])/2*16000,fwidth):\n",
    "    MakeGlaph(np.imag(fftDataE), np.imag(fftDataD) ,n,n+fwidth,GlaphDataFftPath+Sensor+'-fft-image-AccX')\n",
    "    \n",
    "for n in range(0,len(encord[0])/2*16000,fwidth):\n",
    "    MakeGlaph(np.real(fftDataE), np.real(fftDataD) ,n,n+fwidth,GlaphDataFftPath+Sensor+'-fft-real-AccX')\n",
    "    \n",
    "PowerE = np.imag(fftDataE)**2+np.real(fftDataE)**2\n",
    "PowerD = np.imag(fftDataD)**2+np.real(fftDataD)**2\n",
    "\n",
    "for n in range(0,len(encord[0])/2*16000,fwidth):\n",
    "    MakeGlaph(PowerE, PowerD,n,n+fwidth,GlaphDataFftPath+Sensor+'-fft-power-AccX')"
   ]
  },
  {
   "cell_type": "code",
   "execution_count": null,
   "metadata": {
    "collapsed": false,
    "scrolled": true
   },
   "outputs": [],
   "source": [
    "Sensor ='sensor6'\n",
    "encord=processing.LoadDicDataFromFileNPZ('study/'+Sensor+'_AccX_encoded.npz')\n",
    "decord=processing.LoadDicDataFromFileNPZ('study/'+Sensor+'_AccX_decoded.npz')\n",
    "\n",
    "fftDataE = np.array([])\n",
    "fftDataD = np.array([])\n",
    "\n",
    "for i in range(len(encord)):\n",
    "        fftDataE=np.append(fftDataE, fftpack.fft(encord[i])[1:len(encord[i])/2+1])\n",
    "        fftDataD=np.append(fftDataD, fftpack.fft(decord[i])[1:len(encord[i])/2+1])\n",
    "\n",
    "fftDataE = fftDataE.reshape(len(encord),len(encord[0])/2)\n",
    "fftDataD = fftDataD.reshape(len(encord),len(encord[0])/2)\n",
    "\n",
    "print np.imag(fftDataE).shape\n",
    "print fftDataD.shape\n",
    "\n",
    "for n in range(0,len(encord[0])/2*16000,fwidth):\n",
    "    MakeGlaph(np.imag(fftDataE), np.imag(fftDataD) ,n,n+fwidth,GlaphDataFftPath+Sensor+'-fft-image-AccX')\n",
    "    \n",
    "for n in range(0,len(encord[0])/2*16000,fwidth):\n",
    "    MakeGlaph(np.real(fftDataE), np.real(fftDataD) ,n,n+fwidth,GlaphDataFftPath+Sensor+'-fft-real-AccX')\n",
    "    \n",
    "PowerE = np.imag(fftDataE)**2+np.real(fftDataE)**2\n",
    "PowerD = np.imag(fftDataD)**2+np.real(fftDataD)**2\n",
    "\n",
    "for n in range(0,len(encord[0])/2*16000,fwidth):\n",
    "    MakeGlaph(PowerE, PowerD,n,n+fwidth,GlaphDataFftPath+Sensor+'-fft-power-AccX')"
   ]
  },
  {
   "cell_type": "code",
   "execution_count": null,
   "metadata": {
    "collapsed": false,
    "scrolled": true
   },
   "outputs": [],
   "source": [
    "Sensor ='sensor7'\n",
    "encord=processing.LoadDicDataFromFileNPZ('study/'+Sensor+'_AccX_encoded.npz')\n",
    "decord=processing.LoadDicDataFromFileNPZ('study/'+Sensor+'_AccX_decoded.npz')\n",
    "\n",
    "fftDataE = np.array([])\n",
    "fftDataD = np.array([])\n",
    "\n",
    "for i in range(len(encord)):\n",
    "        fftDataE=np.append(fftDataE, fftpack.fft(encord[i])[1:len(encord[i])/2+1])\n",
    "        fftDataD=np.append(fftDataD, fftpack.fft(decord[i])[1:len(encord[i])/2+1])\n",
    "\n",
    "fftDataE = fftDataE.reshape(len(encord),len(encord[0])/2)\n",
    "fftDataD = fftDataD.reshape(len(encord),len(encord[0])/2)\n",
    "\n",
    "print np.imag(fftDataE).shape\n",
    "print fftDataD.shape\n",
    "\n",
    "for n in range(0,len(encord[0])/2*16000,fwidth):\n",
    "    MakeGlaph(np.imag(fftDataE), np.imag(fftDataD) ,n,n+fwidth,GlaphDataFftPath+Sensor+'-fft-image-AccX')\n",
    "    \n",
    "for n in range(0,len(encord[0])/2*16000,fwidth):\n",
    "    MakeGlaph(np.real(fftDataE), np.real(fftDataD) ,n,n+fwidth,GlaphDataFftPath+Sensor+'-fft-real-AccX')\n",
    "    \n",
    "PowerE = np.imag(fftDataE)**2+np.real(fftDataE)**2\n",
    "PowerD = np.imag(fftDataD)**2+np.real(fftDataD)**2\n",
    "\n",
    "for n in range(0,len(encord[0])/2*16000,fwidth):\n",
    "    MakeGlaph(PowerE, PowerD,n,n+fwidth,GlaphDataFftPath+Sensor+'-fft-power-AccX')"
   ]
  },
  {
   "cell_type": "markdown",
   "metadata": {
    "collapsed": true
   },
   "source": []
  }
 ],
 "metadata": {
  "kernelspec": {
   "display_name": "Python 2",
   "language": "python",
   "name": "python2"
  },
  "language_info": {
   "codemirror_mode": {
    "name": "ipython",
    "version": 2
   },
   "file_extension": ".py",
   "mimetype": "text/x-python",
   "name": "python",
   "nbconvert_exporter": "python",
   "pygments_lexer": "ipython2",
   "version": "2.7.11"
  }
 },
 "nbformat": 4,
 "nbformat_minor": 0
}
