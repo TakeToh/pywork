{
 "cells": [
  {
   "cell_type": "code",
   "execution_count": 1,
   "metadata": {
    "collapsed": true
   },
   "outputs": [],
   "source": [
    "SensorNum=4 # Sensor number\n",
    "WindowWidth=[16,32,64,128,256,512,1024] # Window Width\n",
    "OverlapArray=[4,8,16,32,64,128,256] # sliding window\n",
    "width=3000 # graph width \n",
    "EncodingDim=[4,8,12,16,32,64] # number of hidden layer note\n",
    "Axis='AccX,AccY,AccZ' # Axis\n",
    "PathAxis='AccXYZ'\n",
    "\n",
    "# chopin\n",
    "#WORKSPACE_PATH = \"/media/takeyama/HD-PZU3/01_TAKEYAMA_WORKSPACE/02_CommonData/2016-07-25\"\n",
    "\n",
    "# mozart\n",
    "WORKSPACE_PATH = \"/home/takeyama/Documents/01_SyncChopin/2016-07-25\""
   ]
  },
  {
   "cell_type": "code",
   "execution_count": 2,
   "metadata": {
    "collapsed": false
   },
   "outputs": [],
   "source": [
    "import numpy as np\n",
    "import pandas as pd\n",
    "from scipy import fftpack\n",
    "from scipy import signal\n",
    "import time\n",
    "import os\n",
    "import matplotlib\n",
    "matplotlib.use('TkAgg')\n",
    "import matplotlib.pyplot as plt\n",
    "import pylab\n",
    "import pickle\n",
    "import copy\n",
    "import processing\n",
    "import matplotlib.animation as animation\n",
    "import datetime\n",
    "import multiprocessing as mp\n",
    "import processing\n",
    "\n",
    "%matplotlib inline"
   ]
  },
  {
   "cell_type": "code",
   "execution_count": 3,
   "metadata": {
    "collapsed": false
   },
   "outputs": [],
   "source": [
    "DataName='sensor'+str(SensorNum)+'_'+Axis\n",
    "SensorName='sensor'+str(SensorNum)\n",
    "DicName='MemSensor'+str(SensorNum)"
   ]
  },
  {
   "cell_type": "code",
   "execution_count": 4,
   "metadata": {
    "collapsed": false
   },
   "outputs": [],
   "source": [
    "if not os.path.exists(WORKSPACE_PATH+'/study/'+DataName+'/'): os.makedirs(WORKSPACE_PATH+'/study/'+DataName+'/')\n",
    "StudyDataPath=WORKSPACE_PATH+'/study/'+DataName+'/'\n",
    "\n",
    "if not os.path.exists(WORKSPACE_PATH+'/graph/'+DataName+'/loss/'): os.makedirs(WORKSPACE_PATH+'/graph/'+DataName+'/loss/')\n",
    "GraphDataPath=WORKSPACE_PATH+'/graph/'+DataName+'/loss/'\n",
    "\n",
    "if not os.path.exists(WORKSPACE_PATH+'/graph/'+DataName+'/Time/'): os.makedirs(WORKSPACE_PATH+'/graph/'+DataName+'/Time/')\n",
    "GraphDataTimePath=WORKSPACE_PATH+'/graph/'+DataName+'/Time/'\n",
    "\n",
    "if not os.path.exists(WORKSPACE_PATH+'/graph/'+DataName+'/Spectrum/'): os.makedirs(WORKSPACE_PATH+'/graph/'+DataName+'/Spectrum/')\n",
    "GraphDataSpectrumPath=WORKSPACE_PATH+'/graph/'+DataName+'/Spectrum/'\n",
    "\n",
    "if not os.path.exists(WORKSPACE_PATH+'/modelPic/'+DataName+'/'): os.makedirs(WORKSPACE_PATH+'/modelPic/'+DataName+'/')\n",
    "StudyDataModelPicPath=WORKSPACE_PATH+'/modelPic/'+DataName+'/'\n",
    "\n",
    "if not os.path.exists(WORKSPACE_PATH+'/window/'+DataName+'/'): os.makedirs(WORKSPACE_PATH+'/window/'+DataName+'/')\n",
    "WindowDataPath=WORKSPACE_PATH+'/window/'+DataName+'/'\n",
    "\n",
    "RawDataPath=WORKSPACE_PATH+\"raw/\""
   ]
  },
  {
   "cell_type": "code",
   "execution_count": null,
   "metadata": {
    "collapsed": true
   },
   "outputs": [],
   "source": [
    "def kld(p, q):\n",
    "    \"\"\"Calculates Kullback–Leibler divergence\"\"\"\n",
    "    p = np.array(p)\n",
    "    q = np.array(q)\n",
    "    return np.sum(p * np.log(p / q), axis=(p.ndim - 1))\n",
    " \n",
    "def jsd(p, q):\n",
    "    \"\"\"Calculates Jensen-Shannon Divergence\"\"\"\n",
    "    p = np.array(p)\n",
    "    q = np.array(q)\n",
    "    m = 0.5 * (p + q)\n",
    "    return 0.5 * kld(p, m) + 0.5 * kld(q, m)"
   ]
  },
  {
   "cell_type": "markdown",
   "metadata": {},
   "source": [
    "並列処理でグラフを作成する"
   ]
  },
  {
   "cell_type": "code",
   "execution_count": null,
   "metadata": {
    "collapsed": false,
    "scrolled": true
   },
   "outputs": [
    {
     "name": "stdout",
     "output_type": "stream",
     "text": [
      "hiden node = 4\n",
      "CommonName= _edim=4-Window=16-Overlap=4-AccX\n"
     ]
    }
   ],
   "source": [
    "fig = plt.figure(figsize=(30,15))\n",
    "ax = fig.add_subplot(311)\n",
    "bx = fig.add_subplot(312)\n",
    "cx = fig.add_subplot(313)\n",
    "\n",
    "# loop windowWidth\n",
    "for SampleNum,Overlap in zip(WindowWidth,OverlapArray):\n",
    "    ArrayAxis = Axis.split(\",\")\n",
    "\n",
    "    # define SaveFileName\n",
    "    for AxisName,WindowNum in zip(ArrayAxis,range(3)):\n",
    "        for encoding_dim in EncodingDim:\n",
    "            print \"hiden node = \"+str(encoding_dim)\n",
    "            CommonName = '_edim='+str(encoding_dim)+'-Window='+str(SampleNum)+'-Overlap='+str(Overlap)+'-'+AxisName\n",
    "            print \"CommonName= \"+str(CommonName)\n",
    "            SaveFileNameEncord=DataName+'_encoded'+ CommonName\n",
    "            SaveFileNameDecord=DataName+'_decoded'+ CommonName\n",
    "            SaveFileNameNet=DataName+'_net'+ CommonName\n",
    "            SaveFileNameTrain=DataName+'_train'+ CommonName\n",
    "            SaveFileNameTest=DataName+'_test'+ CommonName\n",
    "            SaveFileNameGraph= GraphDataSpectrumPath+DataName+CommonName\n",
    "\n",
    "            #window = processing.LoadDicDataFromFileNPZ(StudyDataPath+SaveFileNameTrain)\n",
    "            window = processing.LoadDicDataFromFileNPZ(WindowDataPath+SaveFileNameTrain)\n",
    "            reconstructData= processing.LoadDicDataFromFileNPZ(StudyDataPath+SaveFileNameDecord)\n",
    "            \n",
    "            # FFT \n",
    "            fftDataE = np.array([])\n",
    "            fftDataD = np.array([])\n",
    "            for i in range(len(window)):\n",
    "                    fftDataE=np.append(fftDataE, fftpack.fft( window[i])[1:(SampleNum/2)+1])\n",
    "                    fftDataD=np.append(fftDataD, fftpack.fft( reconstructData[i])[1:(SampleNum/2)+1])\n",
    "            fftDataE = fftDataE.reshape(len(fftDataE)/(SampleNum/2),(SampleNum/2))\n",
    "            fftDataD = fftDataD.reshape(len(fftDataD)/(SampleNum/2),(SampleNum/2))\n",
    "            processing.SaveDicDataFromFileNPZ(StudyDataPath, DataName+CommonName+'-fft-raw',fftDataE)\n",
    "            processing.SaveDicDataFromFileNPZ(StudyDataPath, DataName+CommonName+'-fft-restruct',fftDataD)\n",
    "\n",
    "            # Power\n",
    "            PowerDataE = np.imag(fftDataE)**2+np.real(fftDataE)**2\n",
    "            PowerDataD = np.imag(fftDataD)**2+np.real(fftDataD)**2\n",
    "            processing.SaveDicDataFromFileNPZ(StudyDataPath, DataName+CommonName+'-power-raw',PowerDataE)\n",
    "            processing.SaveDicDataFromFileNPZ(StudyDataPath, DataName+CommonName+'-power-restruct',PowerDataD)\n",
    "\n",
    "            # to distribution\n",
    "            DistributePowerDataE = np.array([])\n",
    "            DistributePowerDataD = np.array([])\n",
    "\n",
    "            for i in range( PowerDataE.shape[0] ):\n",
    "                DistributePowerDataE = np.append(DistributePowerDataE,PowerDataE[i]/( np.sum(PowerDataE[i]) ))\n",
    "            DistributePowerDataE = DistributePowerDataE.reshape(PowerDataE.shape)\n",
    "\n",
    "            for i in range( PowerDataD.shape[0] ):\n",
    "                DistributePowerDataD = np.append(DistributePowerDataD,PowerDataD[i]/( np.sum(PowerDataD[i]) ))\n",
    "            DistributePowerDataD = DistributePowerDataD.reshape(PowerDataD.shape)\n",
    "\n",
    "            processing.SaveDicDataFromFileNPZ(StudyDataPath, DataName+CommonName+'-power-distribution-raw',DistributePowerDataE)\n",
    "            processing.SaveDicDataFromFileNPZ(StudyDataPath, DataName+CommonName+'-power-distribution-reconst',DistributePowerDataD)\n",
    "\n",
    "            # Kullback-leibler-divergence plot\n",
    "            ArrayKLD = np.array([])\n",
    "            for i in range(DistributePowerDataE.shape[0]):\n",
    "                ArrayKLD = np.append(ArrayKLD, kld(DistributePowerDataE[i],DistributePowerDataD[i]))\n",
    "                \n",
    "            width = DistributePowerDataE.shape[0]/20\n",
    "            for i in range(width,DistributePowerDataE.shape[0],width):\n",
    "                start =i-width\n",
    "                goal=i\n",
    "\n",
    "                data = ArrayKLD[start:goal]\n",
    "                dataE = DistributePowerDataE[start:goal]\n",
    "                dataD = DistributePowerDataD[start:goal]\n",
    "\n",
    "                #dataE,dataDをPower\n",
    "                ax.pcolormesh(range(start,goal),range(dataE.shape[1]),dataE.T ,label='rawData')\n",
    "                ax.legend(loc='best')\n",
    "                ax.set_title(str(start)+\"-\"+str(goal))\n",
    "\n",
    "                bx.pcolormesh(range(start,goal),range(dataD.shape[1]),dataD.T ,label='reconst' )\n",
    "                bx.legend(loc='best')\n",
    "                bx.set_title(str(start)+\"-\"+str(goal))\n",
    "\n",
    "                cx.plot(range(start,goal),data,'g',label=\"kld data\")\n",
    "                cx.legend(loc='best')\n",
    "                cx.set_title(str(start)+\"-\"+str(goal))\n",
    "                ax.figure.savefig(SaveFileNameGraph+'-'+str(start)+\"-\"+str(goal)+'-'+'-glaph')\n",
    "                ax.clear()\n",
    "                bx.clear()\n",
    "                cx.clear()\n",
    "                print 'Graph range='+str(start)+' : '+str(goal)\n",
    "                time.sleep(3)"
   ]
  },
  {
   "cell_type": "code",
   "execution_count": null,
   "metadata": {
    "collapsed": false
   },
   "outputs": [],
   "source": [
    "print \"finish\""
   ]
  },
  {
   "cell_type": "code",
   "execution_count": null,
   "metadata": {
    "collapsed": true
   },
   "outputs": [],
   "source": []
  }
 ],
 "metadata": {
  "kernelspec": {
   "display_name": "Python 2",
   "language": "python",
   "name": "python2"
  },
  "language_info": {
   "codemirror_mode": {
    "name": "ipython",
    "version": 2
   },
   "file_extension": ".py",
   "mimetype": "text/x-python",
   "name": "python",
   "nbconvert_exporter": "python",
   "pygments_lexer": "ipython2",
   "version": "2.7.11"
  }
 },
 "nbformat": 4,
 "nbformat_minor": 0
}
