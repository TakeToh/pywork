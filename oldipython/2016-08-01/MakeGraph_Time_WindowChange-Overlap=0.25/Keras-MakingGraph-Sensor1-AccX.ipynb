{
 "cells": [
  {
   "cell_type": "code",
   "execution_count": 6,
   "metadata": {
    "collapsed": false
   },
   "outputs": [],
   "source": [
    "SensorNum=1 # Sensor number\n",
    "WindowWidth=[16,32,64,128,256,512,1024] # Window Width\n",
    "OverlapArray=[4,8,16,32,64,128,256] # sliding window\n",
    "EncodingDim=[4,8,12,16,32,64] # number of hidden layer note\n",
    "Axis='AccX' # Axis\n",
    "\n",
    "# chopin\n",
    "#WORKSPACE_PATH = \"/media/takeyama/HD-PZU3/01_TAKEYAMA_WORKSPACE/02_CommonData/2016-07-25\"\n",
    "\n",
    "# mozart\n",
    "WORKSPACE_PATH = \"/home/takeyama/Documents/01_SyncChopin\""
   ]
  },
  {
   "cell_type": "code",
   "execution_count": 7,
   "metadata": {
    "collapsed": false
   },
   "outputs": [],
   "source": [
    "import numpy as np\n",
    "import pandas as pd\n",
    "from scipy import fftpack\n",
    "from scipy import signal\n",
    "import time\n",
    "import os\n",
    "import matplotlib\n",
    "import matplotlib.pyplot as plt\n",
    "import pylab\n",
    "import pickle\n",
    "import copy\n",
    "import processing\n",
    "import datetime\n",
    "import multiprocessing as mp\n",
    "import processing\n",
    "\n",
    "%matplotlib inline"
   ]
  },
  {
   "cell_type": "code",
   "execution_count": 8,
   "metadata": {
    "collapsed": true
   },
   "outputs": [],
   "source": [
    "DataName='sensor'+str(SensorNum)+'_'+Axis\n",
    "SensorName='sensor'+str(SensorNum)\n",
    "DicName='MemSensor'+str(SensorNum)"
   ]
  },
  {
   "cell_type": "code",
   "execution_count": null,
   "metadata": {
    "collapsed": false
   },
   "outputs": [],
   "source": [
    "if not os.path.exists(WORKSPACE_PATH+'/study/'+DataName+'/'): os.makedirs(WORKSPACE_PATH+'/study/'+DataName+'/')\n",
    "StudyDataPath=WORKSPACE_PATH+'/study/'+DataName+'/'\n",
    "\n",
    "if not os.path.exists(WORKSPACE_PATH+'/graph/'+DataName+'/loss/'): os.makedirs(WORKSPACE_PATH+'/graph/'+DataName+'/loss/')\n",
    "GlaphDataPath=WORKSPACE_PATH+'/graph/'+DataName+'/loss/'\n",
    "\n",
    "if not os.path.exists(WORKSPACE_PATH+'/graph/'+DataName+'/Time/'): os.makedirs(WORKSPACE_PATH+'/graph/'+DataName+'/Time/')\n",
    "GlaphDataTimePath=WORKSPACE_PATH+'/graph/'+DataName+'/Time/'\n",
    "\n",
    "if not os.path.exists(WORKSPACE_PATH+'/modelPic/'+DataName+'/'): os.makedirs(WORKSPACE_PATH+'/modelPic/'+DataName+'/')\n",
    "StudyDataModelPicPath=WORKSPACE_PATH+'/modelPic/'+DataName+'/'\n",
    "\n",
    "if not os.path.exists(WORKSPACE_PATH+'/window/'+DataName+'/'): os.makedirs(WORKSPACE_PATH+'/window/'+DataName+'/')\n",
    "WindowDataPath=WORKSPACE_PATH+'/window/'+DataName+'/'\n",
    "\n",
    "RawDataPath=\"/media/takeyama/HD-PZU3/01_TAKEYAMA_WORKSPACE/02_CommonData/raw/\""
   ]
  },
  {
   "cell_type": "code",
   "execution_count": null,
   "metadata": {
    "collapsed": false,
    "scrolled": true
   },
   "outputs": [
    {
     "name": "stdout",
     "output_type": "stream",
     "text": [
      "hiden node = 4\n",
      "Graph range=0 : 50945\n",
      "Graph range=50945 : 101890\n",
      "Graph range=101890 : 152835\n",
      "Graph range=152835 : 203780\n",
      "Graph range=203780 : 254725\n",
      "Graph range=254725 : 305670\n",
      "Graph range=305670 : 356615\n",
      "Graph range=356615 : 407560\n",
      "Graph range=407560 : 458505\n",
      "Graph range=458505 : 509450\n",
      "Graph range=509450 : 560395\n",
      "Graph range=560395 : 611340\n",
      "Graph range=611340 : 662285\n",
      "Graph range=662285 : 713230\n",
      "Graph range=713230 : 764175\n",
      "Graph range=764175 : 815120\n",
      "Graph range=815120 : 866065\n",
      "Graph range=866065 : 917010\n"
     ]
    }
   ],
   "source": [
    "fig = plt.figure(figsize=(20,10))\n",
    "ax = fig.add_subplot(111)\n",
    "\n",
    "# loop windowWidth\n",
    "for SampleNum,Overlap in zip(WindowWidth,OverlapArray):\n",
    "    # define SaveFileName\n",
    "    for encoding_dim in EncodingDim:\n",
    "        print \"hiden node = \"+str(encoding_dim)\n",
    "        SaveFileNameEncord=DataName+'_encoded'+'_edim='+str(encoding_dim)+'-Window='+str(SampleNum)+'-Overlap='+str(Overlap*100)\n",
    "        SaveFileNameDecord=DataName+'_decoded'+'_edim='+str(encoding_dim)+'-Window='+str(SampleNum)+'-Overlap='+str(Overlap*100)\n",
    "        SaveFileNameNet=DataName+'_net'+'_edim='+str(encoding_dim)+'-Window='+str(SampleNum)+'-Overlap='+str(Overlap*100)\n",
    "        SaveFileNameTrain=DataName+'_train'+'_edim='+str(encoding_dim)+'-Window='+str(SampleNum)+'-Overlap='+str(Overlap*100)\n",
    "        SaveFileNameTest=DataName+'_test'+'_edim='+str(encoding_dim)+'-Window='+str(SampleNum)+'-Overlap='+str(Overlap*100)\n",
    "        SaveFileNameGraph= GlaphDataTimePath+'DataName'+'_edim='+str(encoding_dim)+'-Window='+str(SampleNum)+'-Overlap='+str(Overlap)\n",
    "\n",
    "        #window = processing.LoadDicDataFromFileNPZ(StudyDataPath+SaveFileNameTrain)\n",
    "        window = processing.LoadDicDataFromFileNPZ(WindowDataPath+SaveFileNameTrain)\n",
    "        wind = window.reshape(window.size,1)\n",
    "        reconstructData = processing.LoadDicDataFromFileNPZ(StudyDataPath+SaveFileNameDecord)\n",
    "        reconst = reconstructData.reshape(reconstructData.size,1)\n",
    "        width=wind.size/20 # graph width \n",
    "        for i in range(width, wind.size, width):\n",
    "            start =i-width \n",
    "            goal=i\n",
    "\n",
    "            dataE = wind[start:goal]\n",
    "            dataD = reconst[start:goal]\n",
    "\n",
    "            ax.plot(range(0,len(dataE)),dataE,'r',label=\"raw data\")\n",
    "            ax.plot(range(0,len(dataD)),dataD,'b',label=\"reconstruct\")\n",
    "            ax.legend(loc='best',fontsize=10)\n",
    "            ax.set_title(str(start)+\"-\"+str(goal))\n",
    "            ax.figure.savefig(SaveFileNameGraph+'-'+str(start)+\"-\"+str(goal)+'-glaph')\n",
    "            ax.clear()\n",
    "            print 'Graph range='+str(start)+' : '+str(goal)\n",
    "            time.sleep(5)"
   ]
  },
  {
   "cell_type": "code",
   "execution_count": null,
   "metadata": {
    "collapsed": true
   },
   "outputs": [],
   "source": []
  }
 ],
 "metadata": {
  "kernelspec": {
   "display_name": "Python 2",
   "language": "python",
   "name": "python2"
  },
  "language_info": {
   "codemirror_mode": {
    "name": "ipython",
    "version": 2
   },
   "file_extension": ".py",
   "mimetype": "text/x-python",
   "name": "python",
   "nbconvert_exporter": "python",
   "pygments_lexer": "ipython2",
   "version": "2.7.11"
  }
 },
 "nbformat": 4,
 "nbformat_minor": 0
}
