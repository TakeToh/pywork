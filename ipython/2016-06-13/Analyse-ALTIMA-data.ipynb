{
 "cells": [
  {
   "cell_type": "code",
   "execution_count": 1,
   "metadata": {
    "collapsed": false
   },
   "outputs": [],
   "source": [
    "import numpy as np\n",
    "import pandas as pd\n",
    "from scipy import fftpack\n",
    "from scipy import signal\n",
    "import time\n",
    "import os\n",
    "import matplotlib.pyplot as plt\n",
    "%matplotlib inline"
   ]
  },
  {
   "cell_type": "code",
   "execution_count": 2,
   "metadata": {
    "collapsed": false
   },
   "outputs": [],
   "source": [
    "WORKSPACE_PATH = '/home/takeyama/pywork/ipython/2016-06-13/'"
   ]
  },
  {
   "cell_type": "markdown",
   "metadata": {},
   "source": [
    "mozartの環境設定"
   ]
  },
  {
   "cell_type": "code",
   "execution_count": 3,
   "metadata": {
    "collapsed": true
   },
   "outputs": [],
   "source": [
    "#p_path=\"/home/takeyama/pywork/ipython/2016-05-30/\""
   ]
  },
  {
   "cell_type": "code",
   "execution_count": 4,
   "metadata": {
    "collapsed": false
   },
   "outputs": [],
   "source": [
    "#cd ~/Documents/SyncRecord/cleaning-addingLABEL/"
   ]
  },
  {
   "cell_type": "markdown",
   "metadata": {},
   "source": [
    "workstationの環境設定"
   ]
  },
  {
   "cell_type": "code",
   "execution_count": 5,
   "metadata": {
    "collapsed": false
   },
   "outputs": [
    {
     "name": "stdout",
     "output_type": "stream",
     "text": [
      "/home/takeyama/Documents/ALTIMA/20160617-103037\n"
     ]
    }
   ],
   "source": [
    "cd ~/Documents/ALTIMA/20160617-103037/"
   ]
  },
  {
   "cell_type": "code",
   "execution_count": 6,
   "metadata": {
    "collapsed": true
   },
   "outputs": [],
   "source": [
    "class SensorData:\n",
    "    \n",
    "    def __init__(self):\n",
    "        print \"__class__\"\n",
    "        # raw data\n",
    "        self._RawData={}    \n",
    "        # fft data\n",
    "        self._FFTData={}\n",
    "        # power spectol data\n",
    "        self._PowerData={}    \n",
    "        # flag exsist data\n",
    "        self._Flag_exist_data=False\n",
    "        \n",
    "        self._columns=['AccX','AccY','AccZ','GyrX','GyrY','GyrZ']\n",
    "        self._fft_col=['fft_AccX','fft_AccY','fft_AccZ','fft_GyrX','fft_GyrY','fft_GyrZ']\n",
    "        self._power_col=['power_AccX','power_AccY','power_AccZ','power_GyrX','power_GyrY','power_GyrZ']\n",
    "        \n",
    "    def ImportCSV(self,Sclass,csv_file):\n",
    "        self.ClassName=Sclass\n",
    "        self.Flag_exist_data=True\n",
    "        # design dataframe\n",
    "        data = pd.read_csv(csv_file)\n",
    "        data.columns=[u'Type',u'Time',u'AccX',u'AccY',u'AccZ',u'GyrX',u'GyrY',u'GyrZ']\n",
    "        data = data[data.Type=='ags']\n",
    "        data = pd.pivot_table(data,values=[u'AccX',u'AccY',u'AccZ',u'GyrX',u'GyrY',u'GyrZ'],index=[u'Time'])\n",
    "        \n",
    "        # convert numpy.darray\n",
    "        AccX=data.AccX.values*0.0001\n",
    "        AccY=data.AccY.values*0.0001\n",
    "        AccZ=data.AccZ.values*0.0001\n",
    "        GyrX=data.GyrX.values*0.01\n",
    "        GyrY=data.GyrY.values*0.01\n",
    "        GyrZ=data.GyrZ.values*0.01\n",
    "        Time=data.index\n",
    "        \n",
    "        # regist each raw data \n",
    "        self._RawData['AccX'] = AccX\n",
    "        self._RawData['AccY'] = AccY\n",
    "        self._RawData['AccZ'] = AccZ\n",
    "        self._RawData['GyrX'] = GyrX\n",
    "        self._RawData['GyrY'] = GyrY\n",
    "        self._RawData['GyrZ'] = GyrZ\n",
    "        self._RawData['Time'] = Time\n",
    "    \n",
    "    def ShowFlagExistData(self):\n",
    "        return self.Flag_exist_data\n",
    "    \n",
    "    def GetColumns(self):\n",
    "        return self._columns\n",
    "    \n",
    "    def GetTime(self):\n",
    "        return self._RawData['Time']\n",
    "\n",
    "    def ShowAllDf(self):\n",
    "        print 'AccX : ';print self._RawData['AccX']\n",
    "        print 'AccY : ';print self._RawData['AccY']\n",
    "        print 'AccZ : ';print self._RawData['AccZ']\n",
    "        print 'GyrX : ';print self._RawData['GyrX']\n",
    "        print 'GyrY : ';print self._RawData['GyrY']\n",
    "        print 'GyrZ : ';print self._RawData['GyrZ']\n",
    "        \n",
    "    def _Time2Num(self,time):\n",
    "        return np.where(self._RawData['Time']==np.datetime64(time) )[0][0]\n",
    "    \n",
    "    def ShowQuery(self,Sname,rng=[]):\n",
    "        data = self._RawData[Sname]\n",
    "        print Sname+':'+str( data[rng[0]:rng[1]])\n",
    "            \n",
    "    def _sliding_window(self,Sname,samp, overlap):\n",
    "        count =0\n",
    "        s =self._RawData['Time'][0]\n",
    "        start=self._Time2Num(s)\n",
    "        g = s+np.timedelta64(samp*10,'ms')\n",
    "        goal= self._Time2Num(g)\n",
    "        yield self._RawData[Sname][start:goal]\n",
    "        \n",
    "        add=overlap*0.01\n",
    "        \n",
    "        while True:\n",
    "            try:\n",
    "                count +=1\n",
    "                s =s+np.timedelta64(samp*10,'ms')\n",
    "                start=self._Time2Num(s)\n",
    "                g  =s+np.timedelta64(samp*10,'ms')\n",
    "                goal= self._Time2Num(g)\n",
    "                yield self._RawData[Sname][start:goal]\n",
    "            except StopIteration:\n",
    "                print '_sliding_window StopIteration'\n",
    "                break   \n",
    "            except IndexError:\n",
    "                print '_sliding_window IndexError'\n",
    "                break  \n",
    "                \n",
    "# Fast Frier transaction            \n",
    "    def GetFFT(self,Sfft,samp):\n",
    "        return np.load(p_path+'fft/'+self.ClassName+'_'+Sfft+'_'+str(samp)+'.npz')['arr_0']\n",
    "    \n",
    "    def CalcFFT(self,samp,overlap=0.5):\n",
    "        start = time.time()\n",
    "        fft_data = np.array([])\n",
    "        \n",
    "        for n,f in zip( self._columns,self._fft_col):\n",
    "            print 'start'+n+'->'+f\n",
    "            sw = self._sliding_window(n,samp,overlap)\n",
    "            while True:\n",
    "                try:\n",
    "                    d=sw.next()\n",
    "                    fft_data = np.append(fft_data, fftpack.fft(d)[1:(samp/2)+1] )   # fftの直流成分を除くsample/2の\n",
    "                except StopIteration:\n",
    "                    print 'CalcFFTStopIteration'\n",
    "                    fft_data = fft_data.reshape(len(fft_data)/(samp/2),(samp/2) )\n",
    "                    self._FFTData[f] = fft_data\n",
    "                    np.savez(p_path+'fft/'+self.ClassName+'_'+str(f)+'_'+str(samp),self._FFTData[f])\n",
    "                    break   \n",
    "        elapsed_time = time.time() - start\n",
    "        print (\"elapsed_time:{0}\".format(elapsed_time)) + \"[sec]\"\n",
    "           \n",
    "\n",
    "# Spectol Power \n",
    "    def GetPower(self,Spower,samp):\n",
    "        return np.load(p_path+'power/'+self.ClassName+'_'+Spower+'_'+str(samp)+'.npz')['arr_0']\n",
    "    \n",
    "    def _power(self,fft_array):\n",
    "        p=lambda x,y : np.sqrt(x**2+y**2)\n",
    "        power_array=np.array([])\n",
    "        for vector in fft_array:\n",
    "            tmp = p( np.real(vector),np.imag(vector) )\n",
    "            tmp = tmp/np.sum(tmp)\n",
    "            power_array = np.append(power_array,tmp)\n",
    "        return power_array\n",
    "        \n",
    "    def CalcPower(self,samp,overlap=0.5):\n",
    "        start = time.time()\n",
    "        for fft_name,power_name in zip( self._fft_col, self._power_col):\n",
    "            print 'start'+fft_name+'->'+power_name\n",
    "            fft_data = self.GetFFT(fft_name,samp)\n",
    "            power_data=self._power(fft_data)\n",
    "            np.savez(p_path+'power/'+self.ClassName+'_'+power_name+'_'+str(samp),power_data)\n",
    "        elapsed_time = time.time() - start\n",
    "        print (\"elapsed_time:{0}\".format(elapsed_time)) + \"[sec]\""
   ]
  },
  {
   "cell_type": "code",
   "execution_count": 7,
   "metadata": {
    "collapsed": false
   },
   "outputs": [],
   "source": [
    "'''\n",
    "csv_file -> ファイル名\n",
    "mode Round -> 四捨五入\n",
    "     Roundup -> 切り上げ\n",
    "     Rounddown -> 切り捨て\n",
    "'''\n",
    "def ImportCSV(csv_file,freq,mode='Round'):\n",
    "        # data dictionary \n",
    "        RawData={}   \n",
    "        \n",
    "        # design dataframe and import csv\n",
    "        data = pd.read_csv(csv_file)\n",
    "        data.columns=[u'Type',u'Time',u'AccX',u'AccY',u'AccZ',u'GyrX',u'GyrY',u'GyrZ']\n",
    "        data = data[ data['Type']=='ags']\n",
    "        \n",
    "        # convert numpy.darray \n",
    "        # Acc Data  [0.1mG]=>[G]\n",
    "        # Gyr Data  [0.01dps]=>[dps]   ...dps=degree per second\n",
    "        AccX=data.AccX.values*0.0001\n",
    "        AccY=data.AccY.values*0.0001\n",
    "        AccZ=data.AccZ.values*0.0001\n",
    "        GyrX=data.GyrX.values*0.01\n",
    "        GyrY=data.GyrY.values*0.01\n",
    "        GyrZ=data.GyrZ.values*0.01\n",
    "        \n",
    "        # regist each raw data \n",
    "        RawData['AccX'] = AccX\n",
    "        RawData['AccY'] = AccY\n",
    "        RawData['AccZ'] = AccZ\n",
    "        RawData['GyrX'] = GyrX\n",
    "        RawData['GyrY'] = GyrY\n",
    "        RawData['GyrZ'] = GyrZ\n",
    "        \n",
    "        # import time by using numpy\n",
    "        time = data.Time.values #時間の列だけを抽出       \n",
    "        \n",
    "        if mode == 'Roundup':\n",
    "            func = lambda x: int(x/freq)*freq\n",
    "        elif mode == 'Rounddown':\n",
    "            func = lambda x: int(x/freq)*freq\n",
    "        elif mode == 'Round':\n",
    "            func = lambda x: int((x+freq/2)/freq)*freq\n",
    "        #ERROR\n",
    "        else:\n",
    "            print 'check mode and inputed word is caused error'\n",
    "            return -1\n",
    "        \n",
    "        output = map(func,time)\n",
    "        RawData['Time'] = np.array(output)\n",
    "        return RawData\n",
    "            "
   ]
  },
  {
   "cell_type": "code",
   "execution_count": 8,
   "metadata": {
    "collapsed": true
   },
   "outputs": [],
   "source": [
    "def CalcStartTime(array):\n",
    "    MAX = min(array[0])\n",
    "    \n",
    "    for i in range(len(array)):\n",
    "        if MAX < min(array[i]):\n",
    "            MAX = min(array[i])\n",
    "     \n",
    "    return  MAX"
   ]
  },
  {
   "cell_type": "code",
   "execution_count": 9,
   "metadata": {
    "collapsed": true
   },
   "outputs": [],
   "source": [
    "def CalcGoalTime(array):\n",
    "    MIN = max(array[0])\n",
    "    \n",
    "    for i in range(len(array)):\n",
    "        if MIN > max(array[i]):\n",
    "            MIN = max(array[i])\n",
    "     \n",
    "    return  MIN"
   ]
  },
  {
   "cell_type": "markdown",
   "metadata": {
    "collapsed": true
   },
   "source": [
    "**2016-06-14**  \n",
    "もう１度、前処理について考える。特に、入力データの特徴、出力データの仕様を改める。  \n",
    "*feacher of Precondition*\n",
    "1. センサデータは{time, accx, accy, accz, gyrx, gyry, gyrz}が揃っている\n",
    "2. また、センサデータはすべて整数型となっている。\n",
    "3. nanデータはない\n",
    "\n",
    "*output Data*\n",
    "1. accは[0.1mG]から[G]に単位変換、gyrは[0.01dpg]は[dpg]に変換する。\n",
    "2. timeはサンプリング周期で丸める。\n",
    "3. Nanデータは存在する。\n"
   ]
  },
  {
   "cell_type": "code",
   "execution_count": 10,
   "metadata": {
    "collapsed": false
   },
   "outputs": [],
   "source": [
    "\"\"\"\n",
    "    checkData に入れるものは辞書型にする\n",
    "    freqは計測周期\n",
    "\"\"\"\n",
    "def NanPating(DicData,freq):\n",
    "    import time\n",
    "    start_time = time.time()\n",
    "    \n",
    "    # detection for hidden Nan Data\n",
    "    diffNum =np.array([])\n",
    "    diffIndex=np.array([])\n",
    "    checkData = DicData['Time']\n",
    "    width = len(checkData)\n",
    "    for i in range(0,width-1):\n",
    "        if ( checkData[i+1]-checkData[i] )!=freq:\n",
    "            diffNum=np.append(diffNum, int(checkData[i+1]-checkData[i]) )\n",
    "            diffIndex=np.append(diffIndex,i)\n",
    "   \n",
    "    # insert NAN data to SensorData\n",
    "    # insert time_data\n",
    "    def Insert(data,dI,dN,f,mode):\n",
    "        StartIndex= 0\n",
    "        tmp =np.array([])\n",
    "        if mode =='Sensor':\n",
    "            # insert NAN DATA\n",
    "            adding = np.nan\n",
    "            for count,l in enumerate(dI):\n",
    "                tmp = np.append(tmp, data[StartIndex:int(l)])\n",
    "                for i in range(0,int(dN[count]/f) ):\n",
    "                    tmp = np.append(tmp,np.nan)\n",
    "                StartIndex = int(l)+1\n",
    "            tmp=np.append(tmp, data[StartIndex:])\n",
    "        elif mode =='Time':\n",
    "            # insert \n",
    "            for count,l in enumerate(dI):\n",
    "                tmp = np.append(tmp, data[StartIndex:int(l)])\n",
    "                for i in range(0,int(dN[count]/f) ):\n",
    "                    t = int( tmp[-1]+f )\n",
    "                    tmp = np.append(tmp,t)\n",
    "                StartIndex = int(l)+1\n",
    "            tmp=np.append(tmp, data[StartIndex:])\n",
    "        else:\n",
    "            print 'mode name error'\n",
    "        return tmp\n",
    "    Array ={}\n",
    "    tmpArrayAccX=Insert(DicData['AccX'],diffIndex,diffNum,freq,mode='Sensor')\n",
    "    tmpArrayAccY=Insert(DicData['AccY'],diffIndex,diffNum,freq,mode='Sensor')\n",
    "    tmpArrayAccZ=Insert(DicData['AccZ'],diffIndex,diffNum,freq,mode='Sensor')\n",
    "    tmpArrayGyrX=Insert(DicData['GyrX'],diffIndex,diffNum,freq,mode='Sensor')\n",
    "    tmpArrayGyrY=Insert(DicData['GyrY'],diffIndex,diffNum,freq,mode='Sensor')\n",
    "    tmpArrayGyrZ=Insert(DicData['GyrZ'],diffIndex,diffNum,freq,mode='Sensor')\n",
    "    tmpArrayTime=Insert(DicData['Time'],diffIndex,diffNum,freq,mode='Time')\n",
    "    Array['AccX'] = tmpArrayAccX\n",
    "    Array['AccY'] = tmpArrayAccY\n",
    "    Array['AccZ'] = tmpArrayAccZ\n",
    "    Array['GyrX'] = tmpArrayGyrX\n",
    "    Array['GyrY'] = tmpArrayGyrY\n",
    "    Array['GyrZ'] = tmpArrayGyrZ\n",
    "    Array['Time'] = tmpArrayTime\n",
    "    #Array=[Time:tmpArrayTime,tmpArrayAccX,tmpArrayAccY,tmpArrayAccZ,tmpArrayGyrX,tmpArrayGyrY,tmpArrayGyrZ]\n",
    "    elapsed_time = time.time() -start_time\n",
    "    print (\"elapsed_time:{0}\".format(elapsed_time)) + \"[sec]\"\n",
    "    return Array"
   ]
  },
  {
   "cell_type": "code",
   "execution_count": 11,
   "metadata": {
    "collapsed": true
   },
   "outputs": [],
   "source": [
    "def CalcSearchIndexFromTime(checkData,CompareTime):\n",
    "    count = 0\n",
    "    for i in range(0, len(checkData)):\n",
    "        if CompareTime == checkData[i]:\n",
    "            print str(CompareTime)+' is much in the index  whose number is '+str(i)\n",
    "            return i\n",
    "        "
   ]
  },
  {
   "cell_type": "code",
   "execution_count": 12,
   "metadata": {
    "collapsed": false
   },
   "outputs": [],
   "source": [
    "def Extraction(dic,start,goal):\n",
    "    keys = dic.keys()\n",
    "    output = {}\n",
    "    for i in range( len(dic)):\n",
    "        output[keys[i]] = dic[keys[i]][start:goal]\n",
    "        if keys[i]=='Time': output[keys[i]] = output[keys[i]].astype(int)\n",
    "    return output\n",
    "    "
   ]
  },
  {
   "cell_type": "markdown",
   "metadata": {},
   "source": [
    "とりあえず、前処理について大方終わった.\n",
    "ここで、なぜできたのかを振り返るためにアルゴリズムや処理の流れについて考える。\n",
    "まず、対象とする入力データからNANデータを加えてから共通区間を導くという考えである。\n",
    "では、NANデータを加えるまでの流れを述べていく。\n",
    "入力データは\n",
    "* センサデータは{time, accx, accy, accz, gyrx, gyry, gyrz}が揃っている\n",
    "* また、センサデータはすべて整数型となっている。\n",
    "* nanデータはない\n",
    "\n",
    "よって、まずはtimeで前後の差がサンプリング周期と異なるもの(今回はサンプリング周期は１０msとしている。）\n",
    "インデックスを探す。そして、そのときのインデックスと前後の差を算出する。\n",
    "つぎに、その算出したものを使って加速度、角速度データはNANを加える。時計には差の文だけインデックスを追加する。\n",
    "そして、{timeData,nan,nan,nan,nan,nan,nan}というような行を加える。\n",
    "次に、共通区間のスタート、ゴールを探す。このやり方は今までできたやり方で行ったのでここでは省略。\n",
    "そして、共通区間のスタート、ゴールのデータを抽出できた。\n"
   ]
  },
  {
   "cell_type": "code",
   "execution_count": 13,
   "metadata": {
    "collapsed": false
   },
   "outputs": [
    {
     "name": "stdout",
     "output_type": "stream",
     "text": [
      "11411715-20160617-103037714.csv  14011714-20160617-103037714.csv  settings.sgu\r\n",
      "14011711-20160617-103037714.csv  14011716-20160617-103037714.csv  settings.sse\r\n",
      "14011712-20160617-103037714.csv  14011717-20160617-103037714.csv  \u001b[0m\u001b[01;35mvideo1.wmv\u001b[0m\r\n",
      "14011713-20160617-103037714.csv  \u001b[01;34mmem\u001b[0m/                             \u001b[01;35mvideo2.wmv\u001b[0m\r\n"
     ]
    }
   ],
   "source": [
    "ls"
   ]
  },
  {
   "cell_type": "code",
   "execution_count": 14,
   "metadata": {
    "collapsed": false
   },
   "outputs": [],
   "source": [
    "DataCsv1= ImportCSV('14011711-20160617-103037714.csv',1)\n",
    "DataCsv2= ImportCSV('14011712-20160617-103037714.csv',1)\n",
    "DataCsv3= ImportCSV('14011713-20160617-103037714.csv',1)\n",
    "DataCsv4= ImportCSV('14011714-20160617-103037714.csv',1)\n",
    "DataCsv5= ImportCSV('11411715-20160617-103037714.csv',1)\n",
    "DataCsv6= ImportCSV('14011716-20160617-103037714.csv',1)\n",
    "DataCsv7= ImportCSV('14011717-20160617-103037714.csv',1)"
   ]
  },
  {
   "cell_type": "code",
   "execution_count": 15,
   "metadata": {
    "collapsed": false
   },
   "outputs": [
    {
     "data": {
      "text/plain": [
       "{'AccX': array([ 0.0043,  0.0021, -0.0027, ...,  0.0493,  0.0568,  0.0534]),\n",
       " 'AccY': array([-0.0268, -0.0263, -0.0342, ...,  0.0286,  0.0333,  0.0345]),\n",
       " 'AccZ': array([ 0.9306,  0.8986,  0.9028, ...,  0.9223,  0.9221,  0.9248]),\n",
       " 'GyrX': array([ 1.11,  0.91,  0.92, ...,  0.59,  0.5 ,  0.45]),\n",
       " 'GyrY': array([-0.6 , -0.57, -0.69, ..., -0.85, -0.89, -0.86]),\n",
       " 'GyrZ': array([-0.31, -0.31, -0.34, ..., -0.35, -0.29, -0.45]),\n",
       " 'Time': array([37838721, 37838722, 37838723, ..., 37969461, 37969462, 37969463])}"
      ]
     },
     "execution_count": 15,
     "metadata": {},
     "output_type": "execute_result"
    }
   ],
   "source": [
    "DataCsv1"
   ]
  },
  {
   "cell_type": "code",
   "execution_count": 16,
   "metadata": {
    "collapsed": true
   },
   "outputs": [],
   "source": [
    "def SearchNAN(array,freq):\n",
    "    diffNum =np.array([])\n",
    "    diffIndex=np.array([])\n",
    "    width = len(array)\n",
    "    for i in range(0,width-1):\n",
    "        if ( array[i+1]-array[i] )!=freq:\n",
    "            diffNum=np.append(diffNum, int(array[i+1]-array[i]) )\n",
    "            diffIndex=np.append(diffIndex,i)\n",
    "    print 'diffNum='+str(diffNum)\n",
    "    print 'diffIndex'+str(diffIndex)"
   ]
  },
  {
   "cell_type": "code",
   "execution_count": 17,
   "metadata": {
    "collapsed": true
   },
   "outputs": [
    {
     "name": "stdout",
     "output_type": "stream",
     "text": [
      "diffNum=[   38.   874.     4.  1014.    26.   963.   554.   326.   663.   200.\n",
      "   707.   255.   616.   338.   736.   290.   843.   346.   616.   341.\n",
      "   553.   341.   605.   358.   719.   414.   603.   377.   667.   427.\n",
      "   687.   396.   609.   349.   919.   305.   831.   513.  1085.   780.\n",
      "  1175.   445.   978.   382.   762.   376.   911.   343.   792.   510.\n",
      "   857.   378.  1266.  1033.  1038.   783.   751.   740.   981.   400.\n",
      "   733.   524.   545.   541.  1051.   276.   853.   560.   834.   373.\n",
      "   762.   533.   573.   631.   691.   548.   423.   566.   764.   518.\n",
      "   724.   332.   596.   613.   509.   505.   432.   512.   644.  1237.\n",
      "   915.   899.  1394.   859.   877.   931.  1177.   962.  1112.   774.\n",
      "  1271.  1134.  1209.  1143.   857.  1033.  1473.  1140.   829.   847.\n",
      "   928.   883.  1403.   902.   810.   935.  1268.  1169.   906.  1143.\n",
      "  2187.  1395.   826.   531.   599.   503.   564.   517.   111.  1040.\n",
      "     4.  1068.    89.  1277.    15.  1106.    64.  1060.  1177.   156.\n",
      "   864.   121.  1428.   218.  1413.   169.  1459.   140.   939.   180.\n",
      "  1113.  1060.   134.  1230.   352.   865.   433.   897.   427.  1096.\n",
      "   302.   833.   234.  1058.]\n",
      "diffIndex[   309.    310.    478.    479.    642.    643.    816.    921.    979.\n",
      "   1084.   1143.   1248.   1307.   1411.   1471.   1574.   1635.   1737.\n",
      "   1798.   1900.   1962.   2064.   2126.   2227.   2290.   2391.   2454.\n",
      "   2554.   2618.   2717.   2781.   2880.   2945.   3043.   3109.   3207.\n",
      "   3273.   3371.   3437.   3535.   3601.   3698.   3764.   3862.   3928.\n",
      "   4026.   4092.   4189.   4256.   4352.   4420.   4515.   4584.   4678.\n",
      "   4748.   4841.   4911.   5004.   5075.   5167.   5239.   5331.   5403.\n",
      "   5495.   5567.   5658.   5731.   5821.   5894.   5984.   6058.   6148.\n",
      "   6222.   6312.   6386.   6476.   6550.   6639.   6714.   6802.   6877.\n",
      "   6965.   7041.   7129.   7205.   7292.   7369.   7455.   7533.   7618.\n",
      "   7697.   7782.   7860.   7945.   8024.   8109.   8188.   8273.   8352.\n",
      "   8436.   8516.   8599.   8680.   8762.   8844.   8925.   9007.   9088.\n",
      "   9171.   9252.   9335.   9416.   9499.   9580.   9663.   9743.   9827.\n",
      "   9906.   9990.  10069.  10154.  10233.  10318.  10396.  10482.  10559.\n",
      "  10646.  10723.  10809.  10810.  10987.  10988.  11160.  11161.  11338.\n",
      "  11339.  11516.  11517.  11696.  11834.  11859.  11997.  12023.  12161.\n",
      "  12187.  12325.  12351.  12489.  12515.  12652.  12678.  12842.  12961.\n",
      "  13006.  13124.  13170.  13287.  13334.  13450.  13498.  13614.  13661.\n",
      "  13777.  13825.]\n"
     ]
    }
   ],
   "source": [
    "SearchNAN(DataCsv1['Time'],1)"
   ]
  },
  {
   "cell_type": "code",
   "execution_count": 18,
   "metadata": {
    "collapsed": false
   },
   "outputs": [
    {
     "data": {
      "text/plain": [
       "37839030"
      ]
     },
     "execution_count": 18,
     "metadata": {},
     "output_type": "execute_result"
    }
   ],
   "source": [
    "DataCsv1['Time'][309]"
   ]
  },
  {
   "cell_type": "code",
   "execution_count": 19,
   "metadata": {
    "collapsed": false
   },
   "outputs": [
    {
     "data": {
      "text/plain": [
       "37839068"
      ]
     },
     "execution_count": 19,
     "metadata": {},
     "output_type": "execute_result"
    }
   ],
   "source": [
    "DataCsv1['Time'][310]"
   ]
  },
  {
   "cell_type": "code",
   "execution_count": 20,
   "metadata": {
    "collapsed": false
   },
   "outputs": [],
   "source": [
    "MemDataCsv1= ImportCSV('mem/mem-14011711-20160617-103038606.csv',1)\n",
    "MemDataCsv2= ImportCSV('mem/mem-14011712-20160617-103038627.csv',1)\n",
    "MemDataCsv3= ImportCSV('mem/mem-14011713-20160617-103038690.csv',1)\n",
    "MemDataCsv4= ImportCSV('mem/mem-14011714-20160617-103038731.csv',1)\n",
    "MemDataCsv5= ImportCSV('mem/mem-11411715-20160617-103038767.csv',1)\n",
    "MemDataCsv6= ImportCSV('mem/mem-14011716-20160617-103038807.csv',1)\n",
    "MemDataCsv7= ImportCSV('mem/mem-14011717-20160617-103037850.csv',1)"
   ]
  },
  {
   "cell_type": "code",
   "execution_count": 21,
   "metadata": {
    "collapsed": true
   },
   "outputs": [
    {
     "name": "stdout",
     "output_type": "stream",
     "text": [
      "diffNum=[   38.   874.     4.  1014.    26.   963.   554.   326.   663.   200.\n",
      "   707.   255.   616.   338.   736.   290.   843.   346.   616.   341.\n",
      "   553.   341.   605.   358.   719.   414.   603.   377.   667.   427.\n",
      "   687.   396.   609.   349.   919.   305.   831.   513.  1085.   780.\n",
      "  1175.   445.   978.   382.   762.   376.   911.   343.   792.   510.\n",
      "   857.   378.  1266.  1033.  1038.   783.   751.   740.   981.   400.\n",
      "   733.   524.   545.   541.  1051.   276.   853.   560.   834.   373.\n",
      "   762.   533.   573.   631.   691.   548.   423.   566.   764.   518.\n",
      "   724.   332.   596.   613.   509.   505.   432.   512.   644.  1237.\n",
      "   915.   899.  1394.   859.   877.   931.  1177.   962.  1112.   774.\n",
      "  1271.  1134.  1209.  1143.   857.  1033.  1473.  1140.   829.   847.\n",
      "   928.   883.  1403.   902.   810.   935.  1268.  1169.   906.  1143.\n",
      "  2187.  1395.   826.   531.   599.   503.   564.   517.   111.  1040.\n",
      "     4.  1068.    89.  1277.    15.  1106.    64.  1060.  1177.   156.\n",
      "   864.   121.  1428.   218.  1413.   169.  1459.   140.   939.   180.\n",
      "  1113.  1060.   134.  1230.   352.   865.   433.   897.   427.  1096.\n",
      "   302.   833.   234.  1058.]\n",
      "diffIndex[   309.    310.    478.    479.    642.    643.    816.    921.    979.\n",
      "   1084.   1143.   1248.   1307.   1411.   1471.   1574.   1635.   1737.\n",
      "   1798.   1900.   1962.   2064.   2126.   2227.   2290.   2391.   2454.\n",
      "   2554.   2618.   2717.   2781.   2880.   2945.   3043.   3109.   3207.\n",
      "   3273.   3371.   3437.   3535.   3601.   3698.   3764.   3862.   3928.\n",
      "   4026.   4092.   4189.   4256.   4352.   4420.   4515.   4584.   4678.\n",
      "   4748.   4841.   4911.   5004.   5075.   5167.   5239.   5331.   5403.\n",
      "   5495.   5567.   5658.   5731.   5821.   5894.   5984.   6058.   6148.\n",
      "   6222.   6312.   6386.   6476.   6550.   6639.   6714.   6802.   6877.\n",
      "   6965.   7041.   7129.   7205.   7292.   7369.   7455.   7533.   7618.\n",
      "   7697.   7782.   7860.   7945.   8024.   8109.   8188.   8273.   8352.\n",
      "   8436.   8516.   8599.   8680.   8762.   8844.   8925.   9007.   9088.\n",
      "   9171.   9252.   9335.   9416.   9499.   9580.   9663.   9743.   9827.\n",
      "   9906.   9990.  10069.  10154.  10233.  10318.  10396.  10482.  10559.\n",
      "  10646.  10723.  10809.  10810.  10987.  10988.  11160.  11161.  11338.\n",
      "  11339.  11516.  11517.  11696.  11834.  11859.  11997.  12023.  12161.\n",
      "  12187.  12325.  12351.  12489.  12515.  12652.  12678.  12842.  12961.\n",
      "  13006.  13124.  13170.  13287.  13334.  13450.  13498.  13614.  13661.\n",
      "  13777.  13825.]\n"
     ]
    }
   ],
   "source": [
    "SearchNAN(DataCsv1['Time'],1)"
   ]
  },
  {
   "cell_type": "code",
   "execution_count": 22,
   "metadata": {
    "collapsed": false
   },
   "outputs": [
    {
     "name": "stdout",
     "output_type": "stream",
     "text": [
      "diffNum=[]\n",
      "diffIndex[]\n"
     ]
    }
   ],
   "source": [
    "SearchNAN(MemDataCsv2['Time'],1)"
   ]
  },
  {
   "cell_type": "code",
   "execution_count": 23,
   "metadata": {
    "collapsed": false
   },
   "outputs": [
    {
     "name": "stdout",
     "output_type": "stream",
     "text": [
      "diffNum=[]\n",
      "diffIndex[]\n"
     ]
    }
   ],
   "source": [
    "SearchNAN(MemDataCsv3['Time'],1)"
   ]
  },
  {
   "cell_type": "code",
   "execution_count": 24,
   "metadata": {
    "collapsed": false
   },
   "outputs": [
    {
     "name": "stdout",
     "output_type": "stream",
     "text": [
      "diffNum=[]\n",
      "diffIndex[]\n"
     ]
    }
   ],
   "source": [
    "SearchNAN(MemDataCsv4['Time'],1)"
   ]
  },
  {
   "cell_type": "code",
   "execution_count": 25,
   "metadata": {
    "collapsed": false
   },
   "outputs": [
    {
     "name": "stdout",
     "output_type": "stream",
     "text": [
      "diffNum=[]\n",
      "diffIndex[]\n"
     ]
    }
   ],
   "source": [
    "SearchNAN(MemDataCsv5['Time'],1)"
   ]
  },
  {
   "cell_type": "code",
   "execution_count": 26,
   "metadata": {
    "collapsed": false
   },
   "outputs": [
    {
     "name": "stdout",
     "output_type": "stream",
     "text": [
      "diffNum=[]\n",
      "diffIndex[]\n"
     ]
    }
   ],
   "source": [
    "SearchNAN(MemDataCsv5['Time'],1)"
   ]
  },
  {
   "cell_type": "code",
   "execution_count": 27,
   "metadata": {
    "collapsed": false
   },
   "outputs": [
    {
     "name": "stdout",
     "output_type": "stream",
     "text": [
      "diffNum=[]\n",
      "diffIndex[]\n"
     ]
    }
   ],
   "source": [
    "SearchNAN(MemDataCsv6['Time'],1)"
   ]
  },
  {
   "cell_type": "code",
   "execution_count": 28,
   "metadata": {
    "collapsed": false
   },
   "outputs": [
    {
     "name": "stdout",
     "output_type": "stream",
     "text": [
      "diffNum=[]\n",
      "diffIndex[]\n"
     ]
    }
   ],
   "source": [
    "SearchNAN(MemDataCsv7['Time'],1)"
   ]
  },
  {
   "cell_type": "markdown",
   "metadata": {},
   "source": [
    "**2016-06-18**  \n",
    "必要な前処理を見極める"
   ]
  },
  {
   "cell_type": "code",
   "execution_count": 29,
   "metadata": {
    "collapsed": false
   },
   "outputs": [
    {
     "name": "stdout",
     "output_type": "stream",
     "text": [
      "37838721\n",
      "37838742\n",
      "37838805\n",
      "37838846\n",
      "37838882\n",
      "37838922\n",
      "37837965\n"
     ]
    }
   ],
   "source": [
    "print MemDataCsv1['Time'][0]\n",
    "print MemDataCsv2['Time'][0]\n",
    "print MemDataCsv3['Time'][0]\n",
    "print MemDataCsv4['Time'][0]\n",
    "print MemDataCsv5['Time'][0]\n",
    "print MemDataCsv6['Time'][0]\n",
    "print MemDataCsv7['Time'][0]"
   ]
  },
  {
   "cell_type": "code",
   "execution_count": 33,
   "metadata": {
    "collapsed": false
   },
   "outputs": [
    {
     "name": "stdout",
     "output_type": "stream",
     "text": [
      "37838721\n",
      "37838742\n",
      "37838805\n",
      "37838846\n",
      "37838882\n",
      "37838922\n",
      "37837965\n"
     ]
    }
   ],
   "source": [
    "print DataCsv1['Time'][0]\n",
    "print DataCsv2['Time'][0]\n",
    "print DataCsv3['Time'][0]\n",
    "print DataCsv4['Time'][0]\n",
    "print DataCsv5['Time'][0]\n",
    "print DataCsv6['Time'][0]\n",
    "print DataCsv7['Time'][0]"
   ]
  },
  {
   "cell_type": "code",
   "execution_count": null,
   "metadata": {
    "collapsed": true
   },
   "outputs": [],
   "source": []
  }
 ],
 "metadata": {
  "kernelspec": {
   "display_name": "Python 2",
   "language": "python",
   "name": "python2"
  },
  "language_info": {
   "codemirror_mode": {
    "name": "ipython",
    "version": 2
   },
   "file_extension": ".py",
   "mimetype": "text/x-python",
   "name": "python",
   "nbconvert_exporter": "python",
   "pygments_lexer": "ipython2",
   "version": "2.7.11"
  }
 },
 "nbformat": 4,
 "nbformat_minor": 0
}
