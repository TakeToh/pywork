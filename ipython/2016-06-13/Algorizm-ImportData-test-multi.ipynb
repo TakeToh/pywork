{
 "cells": [
  {
   "cell_type": "code",
   "execution_count": 1,
   "metadata": {
    "collapsed": true
   },
   "outputs": [],
   "source": [
    "import numpy as np\n",
    "import pandas as pd\n",
    "from scipy import fftpack\n",
    "from scipy import signal\n",
    "import datetime\n",
    "import pickle\n",
    "import time\n",
    "%matplotlib inline"
   ]
  },
  {
   "cell_type": "code",
   "execution_count": 2,
   "metadata": {
    "collapsed": true
   },
   "outputs": [],
   "source": [
    "p_path=\"/home/takeyama/pywork/ipython/2016-05-30/\""
   ]
  },
  {
   "cell_type": "code",
   "execution_count": 3,
   "metadata": {
    "collapsed": false
   },
   "outputs": [
    {
     "name": "stdout",
     "output_type": "stream",
     "text": [
      "/home/takeyama/Documents/SyncRecord/cleaning-addingLABEL\n"
     ]
    }
   ],
   "source": [
    "cd ~/Documents/SyncRecord/cleaning-addingLABEL/"
   ]
  },
  {
   "cell_type": "code",
   "execution_count": 4,
   "metadata": {
    "collapsed": true
   },
   "outputs": [],
   "source": [
    "class LabelData:\n",
    "    \n",
    "    def __init__(self):\n",
    "        print \"__class__\"\n",
    "        # raw data\n",
    "        self._RawData={}    \n",
    "        \n",
    "    def ImportLabelCSV(self,csv_file):\n",
    "        self.Flag_exist_data=True\n",
    "        # design dataframe\n",
    "        data = pd.read_csv(csv_file,encoding=\"SHIFT-JIS\")\n",
    "        print data\n",
    "        Label = np.array(data['Info1'],dtype=np.string_)\n",
    "        Time=np.array(pd.to_datetime(data['#Time']),dtype=np.datetime64)\n",
    "        \n",
    "        # regist each raw data \n",
    "        self._RawData['Time'] = Time\n",
    "        self._RawData['Label'] = Label\n",
    "\n",
    "    \n",
    "    def GetTime(self):\n",
    "        return self._RawData['Time']\n",
    "\n",
    "    def GetLabel(self):\n",
    "        return self._RawData['Label']"
   ]
  },
  {
   "cell_type": "code",
   "execution_count": 5,
   "metadata": {
    "collapsed": false
   },
   "outputs": [
    {
     "name": "stdout",
     "output_type": "stream",
     "text": [
      "__class__\n"
     ]
    }
   ],
   "source": [
    "test = LabelData()"
   ]
  },
  {
   "cell_type": "code",
   "execution_count": 6,
   "metadata": {
    "collapsed": false,
    "scrolled": true
   },
   "outputs": [
    {
     "name": "stdout",
     "output_type": "stream",
     "text": [
      "            #Time                           Info1  Info2  Info3\n",
      "0    18:06:15.696                         walking    NaN    NaN\n",
      "1    18:06:18.745                    walking-turn    NaN    NaN\n",
      "2    18:06:19.570                         walking    NaN    NaN\n",
      "3    18:06:23.588                    walking-turn    NaN    NaN\n",
      "4    18:06:24.492                         walking    NaN    NaN\n",
      "5    18:06:28.200                    walking-turn    NaN    NaN\n",
      "6    18:06:29.954                         walking    NaN    NaN\n",
      "7    18:06:33.333                    walking-turn    NaN    NaN\n",
      "8    18:06:34.999                         walking    NaN    NaN\n",
      "9    18:06:39.181                    walking-turn    NaN    NaN\n",
      "10   18:06:44.914                    walking-turn    NaN    NaN\n",
      "11   18:06:45.904                walking-back-arm    NaN    NaN\n",
      "12   18:06:50.468           walking-back-arm-turn    NaN    NaN\n",
      "13   18:06:51.878                walking-back-arm    NaN    NaN\n",
      "14   18:06:55.595           walking-back-arm-turn    NaN    NaN\n",
      "15   18:06:57.390                walking-back-arm    NaN    NaN\n",
      "16   18:07:00.560               walking-cross-arm    NaN    NaN\n",
      "17   18:07:01.884          walking-cross-arm-turn    NaN    NaN\n",
      "18   18:07:03.487               walking-cross-arm    NaN    NaN\n",
      "19   18:07:07.542          walking-cross-arm-turn    NaN    NaN\n",
      "20   18:07:09.139               walking-cross-arm    NaN    NaN\n",
      "21   18:07:13.208          walking-cross-arm-turn    NaN    NaN\n",
      "22   18:07:15.430               walking-cross-arm    NaN    NaN\n",
      "23   18:07:19.466          walking-cross-arm-turn    NaN    NaN\n",
      "24   18:07:21.022               walking-cross-arm    NaN    NaN\n",
      "25   18:07:23.462                         walking    NaN    NaN\n",
      "26   18:07:24.360                  grap-small-box    NaN    NaN\n",
      "27   18:07:25.316                  rift-small-box    NaN    NaN\n",
      "28   18:07:27.035          walking-with-small-box    NaN    NaN\n",
      "29   18:07:30.612     walking-with-small-box-turn    NaN    NaN\n",
      "..            ...                             ...    ...    ...\n",
      "147  18:13:57.386                    walking-turn    NaN    NaN\n",
      "148  18:14:00.854                         walking    NaN    NaN\n",
      "149  18:14:04.031                    walking-turn    NaN    NaN\n",
      "150  18:14:05.844                         walking    NaN    NaN\n",
      "151  18:14:09.631                    walking-turn    NaN    NaN\n",
      "152  18:14:11.867                         walking    NaN    NaN\n",
      "153  18:14:14.867                            stop    NaN    NaN\n",
      "154  18:14:15.871                     shaking-arm    NaN    NaN\n",
      "155  18:14:25.706                         walking    NaN    NaN\n",
      "156  18:14:28.013                            stop    NaN    NaN\n",
      "157  18:14:29.862                         walking    NaN    NaN\n",
      "158  18:14:32.954                    walking-turn    NaN    NaN\n",
      "159  18:14:34.098                         walking    NaN    NaN\n",
      "160  18:14:38.841                    walking-turn    NaN    NaN\n",
      "161  18:14:41.028       walking-with-shaking-hand    NaN    NaN\n",
      "162  18:14:45.999  walking-with-shaking-hand-turn    NaN    NaN\n",
      "163  18:14:48.520                         walking    NaN    NaN\n",
      "164  18:14:49.315                    walking-turn    NaN    NaN\n",
      "165  18:14:51.306                         walking    NaN    NaN\n",
      "166  18:14:52.283                    walking-turn    NaN    NaN\n",
      "167  18:14:54.227                         walking    NaN    NaN\n",
      "168  18:14:57.640                    walking-turn    NaN    NaN\n",
      "169  18:14:59.673                         walking    NaN    NaN\n",
      "170  18:15:02.634                    walking-turn    NaN    NaN\n",
      "171  18:15:08.019                         walking    NaN    NaN\n",
      "172  18:15:12.407                    walking-turn    NaN    NaN\n",
      "173  18:15:16.504                         walking    NaN    NaN\n",
      "174  18:15:20.073                            stop    NaN    NaN\n",
      "175  18:15:21.180                         walking    NaN    NaN\n",
      "176  18:15:22.789                         UNKNOWN    NaN    NaN\n",
      "\n",
      "[177 rows x 4 columns]\n"
     ]
    }
   ],
   "source": [
    "test.ImportLabelCSV('label-data.csv')"
   ]
  },
  {
   "cell_type": "code",
   "execution_count": 7,
   "metadata": {
    "collapsed": false,
    "scrolled": true
   },
   "outputs": [
    {
     "data": {
      "text/plain": [
       "array(['2016-06-04T18:06:15.696000000', '2016-06-04T18:06:18.745000000',\n",
       "       '2016-06-04T18:06:19.570000000', '2016-06-04T18:06:23.588000000',\n",
       "       '2016-06-04T18:06:24.492000000', '2016-06-04T18:06:28.200000000',\n",
       "       '2016-06-04T18:06:29.954000000', '2016-06-04T18:06:33.333000000',\n",
       "       '2016-06-04T18:06:34.999000000', '2016-06-04T18:06:39.181000000',\n",
       "       '2016-06-04T18:06:44.914000000', '2016-06-04T18:06:45.904000000',\n",
       "       '2016-06-04T18:06:50.468000000', '2016-06-04T18:06:51.878000000',\n",
       "       '2016-06-04T18:06:55.595000000', '2016-06-04T18:06:57.390000000',\n",
       "       '2016-06-04T18:07:00.560000000', '2016-06-04T18:07:01.884000000',\n",
       "       '2016-06-04T18:07:03.487000000', '2016-06-04T18:07:07.542000000',\n",
       "       '2016-06-04T18:07:09.139000000', '2016-06-04T18:07:13.208000000',\n",
       "       '2016-06-04T18:07:15.430000000', '2016-06-04T18:07:19.466000000',\n",
       "       '2016-06-04T18:07:21.022000000', '2016-06-04T18:07:23.462000000',\n",
       "       '2016-06-04T18:07:24.360000000', '2016-06-04T18:07:25.316000000',\n",
       "       '2016-06-04T18:07:27.035000000', '2016-06-04T18:07:30.612000000',\n",
       "       '2016-06-04T18:07:32.248000000', '2016-06-04T18:07:36.512000000',\n",
       "       '2016-06-04T18:07:37.548000000', '2016-06-04T18:07:41.775000000',\n",
       "       '2016-06-04T18:07:42.524000000', '2016-06-04T18:07:43.319000000',\n",
       "       '2016-06-04T18:07:46.766000000', '2016-06-04T18:07:47.925000000',\n",
       "       '2016-06-04T18:07:51.532000000', '2016-06-04T18:07:53.419000000',\n",
       "       '2016-06-04T18:07:57.131000000', '2016-06-04T18:07:59.113000000',\n",
       "       '2016-06-04T18:07:59.977000000', '2016-06-04T18:08:02.059000000',\n",
       "       '2016-06-04T18:08:05.906000000', '2016-06-04T18:08:07.431000000',\n",
       "       '2016-06-04T18:08:12.720000000', '2016-06-04T18:08:14.170000000',\n",
       "       '2016-06-04T18:08:18.789000000', '2016-06-04T18:08:20.570000000',\n",
       "       '2016-06-04T18:08:23.794000000', '2016-06-04T18:08:25.816000000',\n",
       "       '2016-06-04T18:08:26.840000000', '2016-06-04T18:08:29.655000000',\n",
       "       '2016-06-04T18:08:30.135000000', '2016-06-04T18:08:31.665000000',\n",
       "       '2016-06-04T18:08:33.501000000', '2016-06-04T18:08:34.985000000',\n",
       "       '2016-06-04T18:08:37.327000000', '2016-06-04T18:08:38.696000000',\n",
       "       '2016-06-04T18:08:39.110000000', '2016-06-04T18:08:40.602000000',\n",
       "       '2016-06-04T18:08:43.002000000', '2016-06-04T18:08:43.990000000',\n",
       "       '2016-06-04T18:08:44.803000000', '2016-06-04T18:08:48.808000000',\n",
       "       '2016-06-04T18:08:52.701000000', '2016-06-04T18:08:54.209000000',\n",
       "       '2016-06-04T18:08:57.176000000', '2016-06-04T18:08:58.419000000',\n",
       "       '2016-06-04T18:08:59.176000000', '2016-06-04T18:09:00.743000000',\n",
       "       '2016-06-04T18:09:01.695000000', '2016-06-04T18:09:03.908000000',\n",
       "       '2016-06-04T18:09:05.776000000', '2016-06-04T18:09:08.672000000',\n",
       "       '2016-06-04T18:09:09.771000000', '2016-06-04T18:09:10.512000000',\n",
       "       '2016-06-04T18:09:14.460000000', '2016-06-04T18:09:15.574000000',\n",
       "       '2016-06-04T18:09:18.960000000', '2016-06-04T18:09:20.310000000',\n",
       "       '2016-06-04T18:09:24.192000000', '2016-06-04T18:09:24.400000000',\n",
       "       '2016-06-04T18:09:27.329000000', '2016-06-04T18:09:56.081000000',\n",
       "       '2016-06-04T18:09:57.464000000', '2016-06-04T18:10:11.292000000',\n",
       "       '2016-06-04T18:10:13.125000000', '2016-06-04T18:10:17.791000000',\n",
       "       '2016-06-04T18:10:21.102000000', '2016-06-04T18:10:27.178000000',\n",
       "       '2016-06-04T18:10:27.559000000', '2016-06-04T18:10:28.484000000',\n",
       "       '2016-06-04T18:10:29.605000000', '2016-06-04T18:10:30.913000000',\n",
       "       '2016-06-04T18:10:42.668000000', '2016-06-04T18:10:43.667000000',\n",
       "       '2016-06-04T18:11:01.581000000', '2016-06-04T18:11:15.422000000',\n",
       "       '2016-06-04T18:11:17.931000000', '2016-06-04T18:11:21.313000000',\n",
       "       '2016-06-04T18:11:22.110000000', '2016-06-04T18:11:23.340000000',\n",
       "       '2016-06-04T18:11:27.140000000', '2016-06-04T18:11:29.073000000',\n",
       "       '2016-06-04T18:11:29.787000000', '2016-06-04T18:11:36.792000000',\n",
       "       '2016-06-04T18:11:39.427000000', '2016-06-04T18:11:40.406000000',\n",
       "       '2016-06-04T18:11:44.496000000', '2016-06-04T18:11:46.041000000',\n",
       "       '2016-06-04T18:11:49.044000000', '2016-06-04T18:11:50.956000000',\n",
       "       '2016-06-04T18:11:54.276000000', '2016-06-04T18:11:54.908000000',\n",
       "       '2016-06-04T18:12:01.480000000', '2016-06-04T18:12:09.420000000',\n",
       "       '2016-06-04T18:12:16.360000000', '2016-06-04T18:12:25.211000000',\n",
       "       '2016-06-04T18:12:38.676000000', '2016-06-04T18:12:44.300000000',\n",
       "       '2016-06-04T18:12:45.013000000', '2016-06-04T18:12:48.181000000',\n",
       "       '2016-06-04T18:12:49.358000000', '2016-06-04T18:12:52.630000000',\n",
       "       '2016-06-04T18:12:53.906000000', '2016-06-04T18:12:59.730000000',\n",
       "       '2016-06-04T18:13:01.105000000', '2016-06-04T18:13:04.501000000',\n",
       "       '2016-06-04T18:13:05.812000000', '2016-06-04T18:13:10.956000000',\n",
       "       '2016-06-04T18:13:11.502000000', '2016-06-04T18:13:14.887000000',\n",
       "       '2016-06-04T18:13:16.206000000', '2016-06-04T18:13:22.452000000',\n",
       "       '2016-06-04T18:13:23.866000000', '2016-06-04T18:13:27.511000000',\n",
       "       '2016-06-04T18:13:28.695000000', '2016-06-04T18:13:33.777000000',\n",
       "       '2016-06-04T18:13:37.964000000', '2016-06-04T18:13:41.062000000',\n",
       "       '2016-06-04T18:13:43.016000000', '2016-06-04T18:13:47.420000000',\n",
       "       '2016-06-04T18:13:49.055000000', '2016-06-04T18:13:50.424000000',\n",
       "       '2016-06-04T18:13:53.244000000', '2016-06-04T18:13:57.386000000',\n",
       "       '2016-06-04T18:14:00.854000000', '2016-06-04T18:14:04.031000000',\n",
       "       '2016-06-04T18:14:05.844000000', '2016-06-04T18:14:09.631000000',\n",
       "       '2016-06-04T18:14:11.867000000', '2016-06-04T18:14:14.867000000',\n",
       "       '2016-06-04T18:14:15.871000000', '2016-06-04T18:14:25.706000000',\n",
       "       '2016-06-04T18:14:28.013000000', '2016-06-04T18:14:29.862000000',\n",
       "       '2016-06-04T18:14:32.954000000', '2016-06-04T18:14:34.098000000',\n",
       "       '2016-06-04T18:14:38.841000000', '2016-06-04T18:14:41.028000000',\n",
       "       '2016-06-04T18:14:45.999000000', '2016-06-04T18:14:48.520000000',\n",
       "       '2016-06-04T18:14:49.315000000', '2016-06-04T18:14:51.306000000',\n",
       "       '2016-06-04T18:14:52.283000000', '2016-06-04T18:14:54.227000000',\n",
       "       '2016-06-04T18:14:57.640000000', '2016-06-04T18:14:59.673000000',\n",
       "       '2016-06-04T18:15:02.634000000', '2016-06-04T18:15:08.019000000',\n",
       "       '2016-06-04T18:15:12.407000000', '2016-06-04T18:15:16.504000000',\n",
       "       '2016-06-04T18:15:20.073000000', '2016-06-04T18:15:21.180000000',\n",
       "       '2016-06-04T18:15:22.789000000'], dtype='datetime64[ns]')"
      ]
     },
     "execution_count": 7,
     "metadata": {},
     "output_type": "execute_result"
    }
   ],
   "source": [
    "test._RawData['Time']"
   ]
  },
  {
   "cell_type": "code",
   "execution_count": 8,
   "metadata": {
    "collapsed": false,
    "scrolled": true
   },
   "outputs": [
    {
     "data": {
      "text/plain": [
       "array(['walking', 'walking-turn', 'walking', 'walking-turn', 'walking',\n",
       "       'walking-turn', 'walking', 'walking-turn', 'walking',\n",
       "       'walking-turn', 'walking-turn', 'walking-back-arm',\n",
       "       'walking-back-arm-turn', 'walking-back-arm',\n",
       "       'walking-back-arm-turn', 'walking-back-arm', 'walking-cross-arm',\n",
       "       'walking-cross-arm-turn', 'walking-cross-arm',\n",
       "       'walking-cross-arm-turn', 'walking-cross-arm',\n",
       "       'walking-cross-arm-turn', 'walking-cross-arm',\n",
       "       'walking-cross-arm-turn', 'walking-cross-arm', 'walking',\n",
       "       'grap-small-box', 'rift-small-box', 'walking-with-small-box',\n",
       "       'walking-with-small-box-turn', 'walking-with-small-box',\n",
       "       'walking-with-small-box-turn', 'walking-with-small-box',\n",
       "       'walking-with-small-box-turn', 'walking-change-hand',\n",
       "       'walking-changed-with-small-box',\n",
       "       'walking-changed-with-small-box-turn',\n",
       "       'walking-changed-with-small-box',\n",
       "       'walking-changed-with-small-box-turn',\n",
       "       'walking-changed-with-small-box', 'put-small-box', 'grap-big-box',\n",
       "       'rift-big-box', 'walking-with-small-box',\n",
       "       'walking-with-small-box-turn', 'walking-with-small-box',\n",
       "       'walking-with-small-box-turn', 'walking-with-small-box',\n",
       "       'walking-with-small-box-turn', 'walking-with-small-box',\n",
       "       'walking-with-small-box-turn', 'walking-with-small-box',\n",
       "       'put-big-box', 'grap-big-box', 'rift-big-box',\n",
       "       'walking-with-small-box', 'walking-with-small-box-turn',\n",
       "       'walking-with-small-box', 'put-big-box', 'grap-big-box',\n",
       "       'rift-big-box', 'walking-with-small-box', 'take-big-box',\n",
       "       'grap-small-box-one-hand', 'put-small-box-one-hand',\n",
       "       'walking-with-small-box', 'walking-with-small-box-turn',\n",
       "       'walking-with-small-box', 'put-big-box', 'grap-big-box',\n",
       "       'rift-big-box', 'walking-with-small-box-turn',\n",
       "       'walking-with-small-box', 'walking-with-small-box-turn',\n",
       "       'walking-with-small-box', 'put-big-box', 'grap-big-box',\n",
       "       'rift-big-box', 'walking-with-small-box-turn',\n",
       "       'walking-with-small-box', 'put-big-box', 'free', 'grap-cleaner',\n",
       "       'rift-cleaner', 'use-cleaner', 'get-away-things', 'use-cleaner',\n",
       "       'walking-with-one-hand-cleaner', 'use-cleaner',\n",
       "       'walking-with-one-hand-cleaner', 'use-cleaner',\n",
       "       'stop-with-one-hand-cleaner', 'put-on-cleaner', 'grap-bloom',\n",
       "       'walking-with-bloom', 'use-bloom', 'walking-with-bloom',\n",
       "       'use-bloom', 'walking-with-bloom', 'put-away-bloom',\n",
       "       'walking-with-bloom-one-hand', 'put-on-bloom', 'walking-turn',\n",
       "       'walking', 'walking-turn', 'walking', 'walking-with-shaking-hand',\n",
       "       'walking', 'walking-turn', 'walking', 'walking-turn', 'walking',\n",
       "       'walking-turn', 'walking-with-arm-on-west', 'exercises-start',\n",
       "       'exercises-1', 'exercises-2', 'exercises-3', 'exercises-4',\n",
       "       'exercises-5', 'exercises-6', 'exercises-finish', 'walking',\n",
       "       'walking-turn', 'walking', 'walking-turn', 'walking',\n",
       "       'walking-turn', 'walking', 'walking-turn', 'walking',\n",
       "       'walking-turn', 'walking', 'walking-turn', 'walking',\n",
       "       'walking-turn', 'walking', 'walking-turn', 'walking',\n",
       "       'walking-turn', 'walking', 'walking-turn', 'walking',\n",
       "       'walking-turn', 'walking', 'walking-turn', 'walking',\n",
       "       'walking-turn', 'walking', 'walking-turn', 'walking',\n",
       "       'walking-turn', 'walking', 'stop', 'shaking-arm', 'walking', 'stop',\n",
       "       'walking', 'walking-turn', 'walking', 'walking-turn',\n",
       "       'walking-with-shaking-hand', 'walking-with-shaking-hand-turn',\n",
       "       'walking', 'walking-turn', 'walking', 'walking-turn', 'walking',\n",
       "       'walking-turn', 'walking', 'walking-turn', 'walking',\n",
       "       'walking-turn', 'walking', 'stop', 'walking', 'UNKNOWN'], \n",
       "      dtype='|S64')"
      ]
     },
     "execution_count": 8,
     "metadata": {},
     "output_type": "execute_result"
    }
   ],
   "source": [
    "test.GetLabel()"
   ]
  },
  {
   "cell_type": "code",
   "execution_count": 9,
   "metadata": {
    "collapsed": false,
    "scrolled": true
   },
   "outputs": [
    {
     "data": {
      "text/plain": [
       "array(['2016-06-04T18:06:15.696000000', '2016-06-04T18:06:18.745000000',\n",
       "       '2016-06-04T18:06:19.570000000', '2016-06-04T18:06:23.588000000',\n",
       "       '2016-06-04T18:06:24.492000000', '2016-06-04T18:06:28.200000000',\n",
       "       '2016-06-04T18:06:29.954000000', '2016-06-04T18:06:33.333000000',\n",
       "       '2016-06-04T18:06:34.999000000', '2016-06-04T18:06:39.181000000',\n",
       "       '2016-06-04T18:06:44.914000000', '2016-06-04T18:06:45.904000000',\n",
       "       '2016-06-04T18:06:50.468000000', '2016-06-04T18:06:51.878000000',\n",
       "       '2016-06-04T18:06:55.595000000', '2016-06-04T18:06:57.390000000',\n",
       "       '2016-06-04T18:07:00.560000000', '2016-06-04T18:07:01.884000000',\n",
       "       '2016-06-04T18:07:03.487000000', '2016-06-04T18:07:07.542000000',\n",
       "       '2016-06-04T18:07:09.139000000', '2016-06-04T18:07:13.208000000',\n",
       "       '2016-06-04T18:07:15.430000000', '2016-06-04T18:07:19.466000000',\n",
       "       '2016-06-04T18:07:21.022000000', '2016-06-04T18:07:23.462000000',\n",
       "       '2016-06-04T18:07:24.360000000', '2016-06-04T18:07:25.316000000',\n",
       "       '2016-06-04T18:07:27.035000000', '2016-06-04T18:07:30.612000000',\n",
       "       '2016-06-04T18:07:32.248000000', '2016-06-04T18:07:36.512000000',\n",
       "       '2016-06-04T18:07:37.548000000', '2016-06-04T18:07:41.775000000',\n",
       "       '2016-06-04T18:07:42.524000000', '2016-06-04T18:07:43.319000000',\n",
       "       '2016-06-04T18:07:46.766000000', '2016-06-04T18:07:47.925000000',\n",
       "       '2016-06-04T18:07:51.532000000', '2016-06-04T18:07:53.419000000',\n",
       "       '2016-06-04T18:07:57.131000000', '2016-06-04T18:07:59.113000000',\n",
       "       '2016-06-04T18:07:59.977000000', '2016-06-04T18:08:02.059000000',\n",
       "       '2016-06-04T18:08:05.906000000', '2016-06-04T18:08:07.431000000',\n",
       "       '2016-06-04T18:08:12.720000000', '2016-06-04T18:08:14.170000000',\n",
       "       '2016-06-04T18:08:18.789000000', '2016-06-04T18:08:20.570000000',\n",
       "       '2016-06-04T18:08:23.794000000', '2016-06-04T18:08:25.816000000',\n",
       "       '2016-06-04T18:08:26.840000000', '2016-06-04T18:08:29.655000000',\n",
       "       '2016-06-04T18:08:30.135000000', '2016-06-04T18:08:31.665000000',\n",
       "       '2016-06-04T18:08:33.501000000', '2016-06-04T18:08:34.985000000',\n",
       "       '2016-06-04T18:08:37.327000000', '2016-06-04T18:08:38.696000000',\n",
       "       '2016-06-04T18:08:39.110000000', '2016-06-04T18:08:40.602000000',\n",
       "       '2016-06-04T18:08:43.002000000', '2016-06-04T18:08:43.990000000',\n",
       "       '2016-06-04T18:08:44.803000000', '2016-06-04T18:08:48.808000000',\n",
       "       '2016-06-04T18:08:52.701000000', '2016-06-04T18:08:54.209000000',\n",
       "       '2016-06-04T18:08:57.176000000', '2016-06-04T18:08:58.419000000',\n",
       "       '2016-06-04T18:08:59.176000000', '2016-06-04T18:09:00.743000000',\n",
       "       '2016-06-04T18:09:01.695000000', '2016-06-04T18:09:03.908000000',\n",
       "       '2016-06-04T18:09:05.776000000', '2016-06-04T18:09:08.672000000',\n",
       "       '2016-06-04T18:09:09.771000000', '2016-06-04T18:09:10.512000000',\n",
       "       '2016-06-04T18:09:14.460000000', '2016-06-04T18:09:15.574000000',\n",
       "       '2016-06-04T18:09:18.960000000', '2016-06-04T18:09:20.310000000',\n",
       "       '2016-06-04T18:09:24.192000000', '2016-06-04T18:09:24.400000000',\n",
       "       '2016-06-04T18:09:27.329000000', '2016-06-04T18:09:56.081000000',\n",
       "       '2016-06-04T18:09:57.464000000', '2016-06-04T18:10:11.292000000',\n",
       "       '2016-06-04T18:10:13.125000000', '2016-06-04T18:10:17.791000000',\n",
       "       '2016-06-04T18:10:21.102000000', '2016-06-04T18:10:27.178000000',\n",
       "       '2016-06-04T18:10:27.559000000', '2016-06-04T18:10:28.484000000',\n",
       "       '2016-06-04T18:10:29.605000000', '2016-06-04T18:10:30.913000000',\n",
       "       '2016-06-04T18:10:42.668000000', '2016-06-04T18:10:43.667000000',\n",
       "       '2016-06-04T18:11:01.581000000', '2016-06-04T18:11:15.422000000',\n",
       "       '2016-06-04T18:11:17.931000000', '2016-06-04T18:11:21.313000000',\n",
       "       '2016-06-04T18:11:22.110000000', '2016-06-04T18:11:23.340000000',\n",
       "       '2016-06-04T18:11:27.140000000', '2016-06-04T18:11:29.073000000',\n",
       "       '2016-06-04T18:11:29.787000000', '2016-06-04T18:11:36.792000000',\n",
       "       '2016-06-04T18:11:39.427000000', '2016-06-04T18:11:40.406000000',\n",
       "       '2016-06-04T18:11:44.496000000', '2016-06-04T18:11:46.041000000',\n",
       "       '2016-06-04T18:11:49.044000000', '2016-06-04T18:11:50.956000000',\n",
       "       '2016-06-04T18:11:54.276000000', '2016-06-04T18:11:54.908000000',\n",
       "       '2016-06-04T18:12:01.480000000', '2016-06-04T18:12:09.420000000',\n",
       "       '2016-06-04T18:12:16.360000000', '2016-06-04T18:12:25.211000000',\n",
       "       '2016-06-04T18:12:38.676000000', '2016-06-04T18:12:44.300000000',\n",
       "       '2016-06-04T18:12:45.013000000', '2016-06-04T18:12:48.181000000',\n",
       "       '2016-06-04T18:12:49.358000000', '2016-06-04T18:12:52.630000000',\n",
       "       '2016-06-04T18:12:53.906000000', '2016-06-04T18:12:59.730000000',\n",
       "       '2016-06-04T18:13:01.105000000', '2016-06-04T18:13:04.501000000',\n",
       "       '2016-06-04T18:13:05.812000000', '2016-06-04T18:13:10.956000000',\n",
       "       '2016-06-04T18:13:11.502000000', '2016-06-04T18:13:14.887000000',\n",
       "       '2016-06-04T18:13:16.206000000', '2016-06-04T18:13:22.452000000',\n",
       "       '2016-06-04T18:13:23.866000000', '2016-06-04T18:13:27.511000000',\n",
       "       '2016-06-04T18:13:28.695000000', '2016-06-04T18:13:33.777000000',\n",
       "       '2016-06-04T18:13:37.964000000', '2016-06-04T18:13:41.062000000',\n",
       "       '2016-06-04T18:13:43.016000000', '2016-06-04T18:13:47.420000000',\n",
       "       '2016-06-04T18:13:49.055000000', '2016-06-04T18:13:50.424000000',\n",
       "       '2016-06-04T18:13:53.244000000', '2016-06-04T18:13:57.386000000',\n",
       "       '2016-06-04T18:14:00.854000000', '2016-06-04T18:14:04.031000000',\n",
       "       '2016-06-04T18:14:05.844000000', '2016-06-04T18:14:09.631000000',\n",
       "       '2016-06-04T18:14:11.867000000', '2016-06-04T18:14:14.867000000',\n",
       "       '2016-06-04T18:14:15.871000000', '2016-06-04T18:14:25.706000000',\n",
       "       '2016-06-04T18:14:28.013000000', '2016-06-04T18:14:29.862000000',\n",
       "       '2016-06-04T18:14:32.954000000', '2016-06-04T18:14:34.098000000',\n",
       "       '2016-06-04T18:14:38.841000000', '2016-06-04T18:14:41.028000000',\n",
       "       '2016-06-04T18:14:45.999000000', '2016-06-04T18:14:48.520000000',\n",
       "       '2016-06-04T18:14:49.315000000', '2016-06-04T18:14:51.306000000',\n",
       "       '2016-06-04T18:14:52.283000000', '2016-06-04T18:14:54.227000000',\n",
       "       '2016-06-04T18:14:57.640000000', '2016-06-04T18:14:59.673000000',\n",
       "       '2016-06-04T18:15:02.634000000', '2016-06-04T18:15:08.019000000',\n",
       "       '2016-06-04T18:15:12.407000000', '2016-06-04T18:15:16.504000000',\n",
       "       '2016-06-04T18:15:20.073000000', '2016-06-04T18:15:21.180000000',\n",
       "       '2016-06-04T18:15:22.789000000'], dtype='datetime64[ns]')"
      ]
     },
     "execution_count": 9,
     "metadata": {},
     "output_type": "execute_result"
    }
   ],
   "source": [
    "test.GetTime()"
   ]
  },
  {
   "cell_type": "code",
   "execution_count": 10,
   "metadata": {
    "collapsed": true
   },
   "outputs": [],
   "source": [
    "class SensorData:\n",
    "    \n",
    "    def __init__(self):\n",
    "        print \"__class__\"\n",
    "        # raw data\n",
    "        self._RawData={}    \n",
    "        # fft data\n",
    "        self._FFTData={}\n",
    "        # power spectol data\n",
    "        self._PowerData={}    \n",
    "        # flag exsist data\n",
    "        self._Flag_exist_data=False\n",
    "        \n",
    "        self._columns=['AccX','AccY','AccZ','GyrX','GyrY','GyrZ']\n",
    "        self._fft_col=['fft_AccX','fft_AccY','fft_AccZ','fft_GyrX','fft_GyrY','fft_GyrZ']\n",
    "        self._power_col=['power_AccX','power_AccY','power_AccZ','power_GyrX','power_GyrY','power_GyrZ']\n",
    "        \n",
    "    def ImportCSV(self,Sclass,csv_file):\n",
    "        self.ClassName=Sclass\n",
    "        self.Flag_exist_data=True\n",
    "        # design dataframe\n",
    "        data = pd.read_csv(csv_file,encoding=\"SHIFT-JIS\")\n",
    "        data.columns=[u'Type',u'Time',u'AccX',u'AccY',u'AccZ',u'GyrX',u'GyrY',u'GyrZ']\n",
    "        data.Time=pd.to_datetime(data.Time)\n",
    "        data = pd.pivot_table(data,values=[u'AccX',u'AccY',u'AccZ',u'GyrX',u'GyrY',u'GyrZ'],index=[u'Time'])\n",
    "        \n",
    "        # convert numpy.darray\n",
    "        AccX=data.AccX.values*0.0001\n",
    "        AccY=data.AccY.values*0.0001\n",
    "        AccZ=data.AccZ.values*0.0001\n",
    "        GyrX=data.GyrX.values*0.01\n",
    "        GyrY=data.GyrY.values*0.01\n",
    "        GyrZ=data.GyrZ.values*0.01\n",
    "        Time=data.index.to_pydatetime().astype('datetime64[ns]')\n",
    "        \n",
    "        # regist each raw data \n",
    "        self._RawData['AccX'] = AccX\n",
    "        self._RawData['AccY'] = AccY\n",
    "        self._RawData['AccZ'] = AccZ\n",
    "        self._RawData['GyrX'] = GyrX\n",
    "        self._RawData['GyrY'] = GyrY\n",
    "        self._RawData['GyrZ'] = GyrZ\n",
    "        self._RawData['Time'] = Time\n",
    "    \n",
    "    def ShowFlagExistData(self):\n",
    "        return self.Flag_exist_data\n",
    "    \n",
    "    def GetColumns(self):\n",
    "        return self._columns\n",
    "\n",
    "    def ShowAllDf(self):\n",
    "        print 'AccX : ';print self._RawData['AccX']\n",
    "        print 'AccY : ';print self._RawData['AccY']\n",
    "        print 'AccZ : ';print self._RawData['AccZ']\n",
    "        print 'GyrX : ';print self._RawData['GyrX']\n",
    "        print 'GyrY : ';print self._RawData['GyrY']\n",
    "        print 'GyrZ : ';print self._RawData['GyrZ']\n",
    "        \n",
    "    def _Time2Num(self,time):\n",
    "        return np.where(self._RawData['Time']==np.datetime64(time) )[0][0]\n",
    "    \n",
    "    def ShowQuery(self,Sname,rng=[]):\n",
    "        data = self._RawData[Sname]\n",
    "        print Sname+':'+str( data[rng[0]:rng[1]])\n",
    "            \n",
    "    def _sliding_window(self,Sname,samp, overlap):\n",
    "        count =0\n",
    "        s =self._RawData['Time'][0]\n",
    "        start=self._Time2Num(s)\n",
    "        g = s+np.timedelta64(samp*10,'ms')\n",
    "        goal= self._Time2Num(g)\n",
    "        yield self._RawData[Sname][start:goal]\n",
    "        \n",
    "        add=overlap*0.01\n",
    "        \n",
    "        while True:\n",
    "            try:\n",
    "                count +=1\n",
    "                s =s+np.timedelta64(samp*10,'ms')\n",
    "                start=self._Time2Num(s)\n",
    "                g  =s+np.timedelta64(samp*10,'ms')\n",
    "                goal= self._Time2Num(g)\n",
    "                yield self._RawData[Sname][start:goal]\n",
    "            except StopIteration:\n",
    "                print '_sliding_window StopIteration'\n",
    "                break   \n",
    "            except IndexError:\n",
    "                print '_sliding_window IndexError'\n",
    "                break  \n",
    "                \n",
    "# Fast Frier transaction            \n",
    "    def GetFFT(self,Sfft,samp):\n",
    "        return np.load(p_path+'fft/'+self.ClassName+'_'+Sfft+'_'+str(samp)+'.npz')['arr_0']\n",
    "    \n",
    "    def CalcFFT(self,samp,overlap=0.5):\n",
    "        start = time.time()\n",
    "        fft_data = np.array([])\n",
    "        \n",
    "        for n,f in zip( self._columns,self._fft_col):\n",
    "            print 'start'+n+'->'+f\n",
    "            sw = self._sliding_window(n,samp,overlap)\n",
    "            while True:\n",
    "                try:\n",
    "                    d=sw.next()\n",
    "                    fft_data = np.append(fft_data, fftpack.fft(d)[1:(samp/2)+1] )   # fftの直流成分を除くsample/2の\n",
    "                except StopIteration:\n",
    "                    print 'CalcFFTStopIteration'\n",
    "                    fft_data = fft_data.reshape(len(fft_data)/(samp/2),(samp/2) )\n",
    "                    self._FFTData[f] = fft_data\n",
    "                    np.savez(p_path+'fft/'+self.ClassName+'_'+str(f)+'_'+str(samp),self._FFTData[f])\n",
    "                    break   \n",
    "        elapsed_time = time.time() - start\n",
    "        print (\"elapsed_time:{0}\".format(elapsed_time)) + \"[sec]\"\n",
    "           \n",
    "\n",
    "# Spectol Power \n",
    "    def GetPower(self,Spower,samp):\n",
    "        return np.load(p_path+'power/'+self.ClassName+'_'+Spower+'_'+str(samp)+'.npz')['arr_0']\n",
    "    \n",
    "    def _power(self,fft_array):\n",
    "        p=lambda x,y : np.sqrt(x**2+y**2)\n",
    "        power_array=np.array([])\n",
    "        for vector in fft_array:\n",
    "            tmp = p( np.real(vector),np.imag(vector) )\n",
    "            tmp = tmp/np.sum(tmp)\n",
    "            power_array = np.append(power_array,tmp)\n",
    "        return power_array\n",
    "        \n",
    "    def CalcPower(self,samp,overlap=0.5):\n",
    "        start = time.time()\n",
    "        for fft_name,power_name in zip( self._fft_col, self._power_col):\n",
    "            print 'start'+fft_name+'->'+power_name\n",
    "            fft_data = self.GetFFT(fft_name,samp)\n",
    "            power_data=self._power(fft_data)\n",
    "            np.savez(p_path+'power/'+self.ClassName+'_'+power_name+'_'+str(samp),power_data)\n",
    "        elapsed_time = time.time() - start\n",
    "        print (\"elapsed_time:{0}\".format(elapsed_time)) + \"[sec]\""
   ]
  },
  {
   "cell_type": "code",
   "execution_count": 11,
   "metadata": {
    "collapsed": false
   },
   "outputs": [
    {
     "name": "stdout",
     "output_type": "stream",
     "text": [
      "__class__\n"
     ]
    }
   ],
   "source": [
    "left_hand = SensorData()"
   ]
  },
  {
   "cell_type": "code",
   "execution_count": 12,
   "metadata": {
    "collapsed": true
   },
   "outputs": [],
   "source": [
    "left_hand.ImportCSV('left_hand','Conv-left-hand-ags.csv')"
   ]
  },
  {
   "cell_type": "code",
   "execution_count": 13,
   "metadata": {
    "collapsed": true
   },
   "outputs": [],
   "source": [
    "time = left_hand._RawData['Time']"
   ]
  },
  {
   "cell_type": "code",
   "execution_count": 14,
   "metadata": {
    "collapsed": false
   },
   "outputs": [
    {
     "data": {
      "text/plain": [
       "array(['2016-06-04T18:06:15.696000000', '2016-06-04T18:06:15.706000000',\n",
       "       '2016-06-04T18:06:15.716000000', ...,\n",
       "       '2016-06-04T18:15:30.376000000', '2016-06-04T18:15:30.386000000',\n",
       "       '2016-06-04T18:15:30.396000000'], dtype='datetime64[ns]')"
      ]
     },
     "execution_count": 14,
     "metadata": {},
     "output_type": "execute_result"
    }
   ],
   "source": [
    "time"
   ]
  },
  {
   "cell_type": "code",
   "execution_count": 15,
   "metadata": {
    "collapsed": true
   },
   "outputs": [],
   "source": [
    "labelTime=test.GetTime()"
   ]
  },
  {
   "cell_type": "code",
   "execution_count": 16,
   "metadata": {
    "collapsed": false
   },
   "outputs": [],
   "source": [
    "index = np.arange(labelTime[0], labelTime[-1], dtype='datetime64[10ms]')"
   ]
  },
  {
   "cell_type": "code",
   "execution_count": 17,
   "metadata": {
    "collapsed": false
   },
   "outputs": [
    {
     "data": {
      "text/plain": [
       "array(['2016-06-04T18:06:15.690', '2016-06-04T18:06:15.700',\n",
       "       '2016-06-04T18:06:15.710', ..., '2016-06-04T18:15:22.750',\n",
       "       '2016-06-04T18:15:22.760', '2016-06-04T18:15:22.770'], dtype='datetime64[10ms]')"
      ]
     },
     "execution_count": 17,
     "metadata": {},
     "output_type": "execute_result"
    }
   ],
   "source": [
    "index"
   ]
  },
  {
   "cell_type": "code",
   "execution_count": 18,
   "metadata": {
    "collapsed": false
   },
   "outputs": [
    {
     "data": {
      "text/plain": [
       "numpy.timedelta64(-6000000,'ns')"
      ]
     },
     "execution_count": 18,
     "metadata": {},
     "output_type": "execute_result"
    }
   ],
   "source": [
    "index[0]-time[0] "
   ]
  },
  {
   "cell_type": "markdown",
   "metadata": {},
   "source": [
    "以下からアルゴリズムの実行"
   ]
  },
  {
   "cell_type": "code",
   "execution_count": 64,
   "metadata": {
    "collapsed": true
   },
   "outputs": [],
   "source": [
    "import multiprocessing as mp"
   ]
  },
  {
   "cell_type": "code",
   "execution_count": 77,
   "metadata": {
    "collapsed": false
   },
   "outputs": [
    {
     "data": {
      "text/plain": [
       "(54709,)"
      ]
     },
     "execution_count": 77,
     "metadata": {},
     "output_type": "execute_result"
    }
   ],
   "source": [
    "index.shape"
   ]
  },
  {
   "cell_type": "code",
   "execution_count": null,
   "metadata": {
    "collapsed": false
   },
   "outputs": [],
   "source": [
    "def func(queue,time):\n",
    "    tmp=np.array([])\n",
    "    start =0\n",
    "    f=FloatProgress(min=0,max=len(time))\n",
    "    display(f)\n",
    "    for t in range( len(time) ):\n",
    "        for i in range(start, len(index) ):\n",
    "            diff = time[t]-index[i]\n",
    "            if ( diff > np.timedelta64(-4,'ms'))&( diff < np.timedelta64(4,'ms') ):\n",
    "                tmp = np.append(tmp,left_hand._RawData['AccX'][i])\n",
    "                start = i+1\n",
    "    f.value=t\n",
    "    \n",
    "    queue.put(tmp)\n",
    "\n",
    "pool = mp.Pool(processes=6)\n",
    "\n",
    "array1 = time[: len(time)-len(time)%6]\n",
    "\n",
    "array1 = array1.reshape(6,len(array1)/6)\n",
    "\n",
    "queue = mp.Queue()\n",
    "\n",
    "# 8個のプロセスを用意\n",
    "ps = [ \n",
    "    mp.Process(target=func, args=(queue, array1[0])),\n",
    "    mp.Process(target=func, args=(queue, array1[1])),\n",
    "    mp.Process(target=func, args=(queue, array1[2])),\n",
    "    mp.Process(target=func, args=(queue, array1[3])),\n",
    "    mp.Process(target=func, args=(queue, array1[4])),\n",
    "    mp.Process(target=func, args=(queue, array1[5])),\n",
    "]\n",
    "\n",
    "# すべてを開始\n",
    "for p in ps:\n",
    "    p.start()\n",
    "\n",
    "# キューから結果を回収\n",
    "total = 0\n",
    "for i in range(8):\n",
    "    total += queue.get()   # キューに値が無い場合は、値が入るまで待機になる\n"
   ]
  },
  {
   "cell_type": "code",
   "execution_count": null,
   "metadata": {
    "collapsed": false
   },
   "outputs": [],
   "source": []
  },
  {
   "cell_type": "code",
   "execution_count": null,
   "metadata": {
    "collapsed": false
   },
   "outputs": [],
   "source": []
  },
  {
   "cell_type": "code",
   "execution_count": null,
   "metadata": {
    "collapsed": true
   },
   "outputs": [],
   "source": []
  }
 ],
 "metadata": {
  "kernelspec": {
   "display_name": "Python 2",
   "language": "python",
   "name": "python2"
  },
  "language_info": {
   "codemirror_mode": {
    "name": "ipython",
    "version": 2
   },
   "file_extension": ".py",
   "mimetype": "text/x-python",
   "name": "python",
   "nbconvert_exporter": "python",
   "pygments_lexer": "ipython2",
   "version": "2.7.11"
  }
 },
 "nbformat": 4,
 "nbformat_minor": 0
}
