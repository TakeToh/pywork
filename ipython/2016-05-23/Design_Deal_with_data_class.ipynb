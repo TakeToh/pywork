{
 "cells": [
  {
   "cell_type": "code",
   "execution_count": 4,
   "metadata": {
    "collapsed": true
   },
   "outputs": [],
   "source": [
    "import numpy as np\n",
    "import pandas as pd\n",
    "from scipy import fftpack\n",
    "from scipy import signal\n",
    "import datetime\n",
    "import pickle\n",
    "%matplotlib inline"
   ]
  },
  {
   "cell_type": "code",
   "execution_count": 5,
   "metadata": {
    "collapsed": true
   },
   "outputs": [],
   "source": [
    "p_path=\"/home/takeyama/pywork/ipython/2016-05-16/\""
   ]
  },
  {
   "cell_type": "code",
   "execution_count": 6,
   "metadata": {
    "collapsed": false
   },
   "outputs": [
    {
     "name": "stdout",
     "output_type": "stream",
     "text": [
      "/home/takeyama/Documents/SyncRecord/cleaning-addingLABEL\n"
     ]
    }
   ],
   "source": [
    "cd ~/Documents/SyncRecord/cleaning-addingLABEL/"
   ]
  },
  {
   "cell_type": "code",
   "execution_count": 9,
   "metadata": {
    "collapsed": false
   },
   "outputs": [],
   "source": [
    "class RecordData:\n",
    "    \n",
    "    def __init__(self):\n",
    "        print \"__class__\"\n",
    "        # raw data\n",
    "        self._AccX=np.array([])\n",
    "        self._AccY=np.array([])\n",
    "        self._AccZ=np.array([])\n",
    "        self._GyrX=np.array([])\n",
    "        self._GyrY=np.array([])\n",
    "        self._GyrZ=np.array([])\n",
    "        self._Columns=np.array([])\n",
    "        \n",
    "        # fft data\n",
    "        self._fft_AccX=np.array([])\n",
    "        self._fft_AccY=np.array([])\n",
    "        self._fft_AccZ=np.array([])\n",
    "        self._fft_GyrX=np.array([])\n",
    "        self._fft_GyrY=np.array([])\n",
    "        self._fft_GyrZ=np.array([])\n",
    "\n",
    "        # power spectol data\n",
    "        self._power_AccX=np.array([])\n",
    "        self._power_AccY=np.array([])\n",
    "        self._power_AccZ=np.array([])\n",
    "        self._power_GyrX=np.array([])\n",
    "        self._power_GyrY=np.array([])\n",
    "        self._power_GyrZ=np.array([])\n",
    "        \n",
    "    def ImportCSV(self,csv_file):\n",
    "        # design dataframe\n",
    "        self._data = pd.read_csv(csv_file,encoding=\"SHIFT-JIS\")\n",
    "        self._data.columns=[u'Type',u'Time',u'AccX',u'AccY',u'AccZ',u'GyrX',u'GyrY',u'GyrZ']\n",
    "        self._data.Time=pd.to_datetime(self._data.Time)\n",
    "        self._data = pd.pivot_table(self._data,values=[u'AccX',u'AccY',u'AccZ',u'GyrX',u'GyrY',u'GyrZ'],index=[u'Time'])\n",
    "        \n",
    "        # convert numpy.darray\n",
    "        self._AccX=self._data.AccX.values\n",
    "        self._AccY=self._data.AccY.values\n",
    "        self._AccZ=self._data.AccZ.values\n",
    "        self._GyrX=self._data.GyrX.values\n",
    "        self._GyrY=self._data.GyrY.values\n",
    "        self._GyrZ=self._data.GyrZ.values\n",
    "        self._Time=self._data.index.to_pydatetime().astype('datetime64[ns]')\n",
    "        self._Columns=['Time','AccX','AccY','AccZ','GyrX','GyrY','GyrZ']\n",
    "        self._fft_col=['fft_AccX','fft_AccY','fft_AccZ','fft_GyrX','fft_GyrY','fft_GyrZ']\n",
    "        self._power_col=['power_AccX','power_AccY','power_AccZ','power_GyrX','power_GyrY','power_GyrZ']\n",
    "    \n",
    "    def GetColumns(self):\n",
    "        return self._Columns\n",
    "\n",
    "    def ShowAllDf(self):\n",
    "        print self._AccX;print self._AccY;print self._AccZ;print self._GyrX;print self._GyrY;print self._GyrZ;print self._Time\n",
    "        \n",
    "    def _String2Var(self,Sname):\n",
    "        if(Sname=='AccX'):return self._AccX\n",
    "        elif(Sname=='AccY'):return self._AccY\n",
    "        elif(Sname=='AccZ'):return self._AccZ\n",
    "        elif(Sname=='GyrX'):return self._GyrX\n",
    "        elif(Sname=='GyrY'):return self._GyrY\n",
    "        elif(Sname=='GyrZ'):return self._GyrZ\n",
    "        elif(Sname=='Time'):return self._Time\n",
    "        else:print 'Wrong Axis Name'\n",
    "    \n",
    "    def _Time2Num(self,time):\n",
    "        index=np.where(test._Time==np.datetime64(time) )\n",
    "        return index[0][0]    \n",
    "    \n",
    "    def _Query(self,Sname,rng=[]):\n",
    "        data = self._String2Var(Sname)\n",
    "        return data[rng[0]:rng[1]]\n",
    "            \n",
    "    def GetLength(self,Sname):\n",
    "        data = _String2Var(Sname)\n",
    "        print Sname+' length ='+str( len(data) )\n",
    "            \n",
    "    def ShowQuery(self,Sname,rng=[]):\n",
    "        data = self._String2Var(Sname)\n",
    "        print Sname+':'+str( data[rng[0]:rng[1]])\n",
    "            \n",
    "    def _sliding_window(self,Sname,samp, overlap):\n",
    "        count =0\n",
    "        s =self._Time[0]\n",
    "        start=self._Time2Num(s)\n",
    "        g = s+np.timedelta64(samp*10,'ms')\n",
    "        goal= self._Time2Num(g)\n",
    "        yield self._Query(Sname,[start,goal])\n",
    "        \n",
    "        add=overlap*0.01\n",
    "        \n",
    "        while True:\n",
    "            try:\n",
    "                count +=1\n",
    "                s =s+np.timedelta64(samp*10,'ms')\n",
    "                start=self._Time2Num(s)\n",
    "                g  =s+np.timedelta64(samp*10,'ms')\n",
    "                goal= self._Time2Num(g)\n",
    "                yield self._Query(Sname,[start,goal])\n",
    "            except StopIteration:\n",
    "                print '_sliding_window StopIteration'\n",
    "                break   \n",
    "            except IndexError:\n",
    "                print '_sliding_window IndexError'\n",
    "                break   \n",
    "    def _set_fft(self,Sname,array):\n",
    "        #print array\n",
    "        if(Sname=='fft_AccX'):   self._fft_AccX=np.append(self._fft_AccX,np.array([array]) )\n",
    "        elif(Sname=='fft_AccY'): self._fft_AccY=np.append(self._fft_AccY,np.array([array]) )\n",
    "        elif(Sname=='fft_AccZ'): self._fft_AccZ=np.append(self._fft_AccZ,np.array([array]) )\n",
    "        elif(Sname=='fft_GyrX'): self._fft_GyrX=np.append(self._fft_GyrX,np.array([array]) )\n",
    "        elif(Sname=='fft_GyrY'): self._fft_GyrY=np.append(self._fft_GyrY,np.array([array]) )\n",
    "        elif(Sname=='fft_GyrZ'): self._fft_GyrZ=np.append(self._fft_GyrZ,np.array([array]) )\n",
    "        else:print 'Wrong Axis Name'\n",
    "            \n",
    "    def _GetFFT(self,Sfft,samp):\n",
    "        return np.load(p_path+'fft/'+Sfft+'_'+str(samp)+'.npz')['arr_0']\n",
    "    \n",
    "    def _GetPower(self,Spower,samp):\n",
    "        return np.load(p_path+'power/'+Spower+'_'+str(samp)+'.npz')['arr_0']\n",
    "    \n",
    "    def CalcFFT(self,samp,overlap=0.5):\n",
    "        for n,f in zip( self._Columns[1:],self._fft_col):\n",
    "            print 'start'+n+'->'+f\n",
    "            sw = self._sliding_window(n,samp,overlap)\n",
    "            count=0\n",
    "            while True:\n",
    "                try:\n",
    "                    #print 'count ='+str(count)\n",
    "                    d=sw.next()\n",
    "                    # fftの直流成分を除くsample/2のみ\n",
    "                    self._set_fft(f,fftpack.fft(d)[1:(samp/2)+1])     \n",
    "                    count = count+1\n",
    "                except StopIteration:\n",
    "                    print 'CalcFFTStopIteration'\n",
    "                    break   \n",
    "                    \n",
    "        self._fft_AccX=self._fft_AccX.reshape(len(self._fft_AccX)/(samp/2),(samp/2) )\n",
    "        self._fft_AccY=self._fft_AccY.reshape(len(self._fft_AccY)/(samp/2),(samp/2) )\n",
    "        self._fft_AccZ=self._fft_AccZ.reshape(len(self._fft_AccZ)/(samp/2),(samp/2) )\n",
    "        self._fft_GyrX=self._fft_GyrX.reshape(len(self._fft_GyrX)/(samp/2),(samp/2) )\n",
    "        self._fft_GyrY=self._fft_GyrY.reshape(len(self._fft_GyrY)/(samp/2),(samp/2) )\n",
    "        self._fft_GyrZ=self._fft_GyrZ.reshape(len(self._fft_GyrZ)/(samp/2),(samp/2) )\n",
    "        \n",
    "        np.savez(p_path+'fft/'+'fft_AccX_'+str(samp),self._fft_AccX)\n",
    "        np.savez(p_path+'fft/'+'fft_AccY_'+str(samp),self._fft_AccY)\n",
    "        np.savez(p_path+'fft/'+'fft_AccZ_'+str(samp),self._fft_AccZ)\n",
    "        np.savez(p_path+'fft/'+'fft_GyrX_'+str(samp),self._fft_GyrX)\n",
    "        np.savez(p_path+'fft/'+'fft_GyrY_'+str(samp),self._fft_GyrY)\n",
    "        np.savez(p_path+'fft/'+'fft_GyrZ_'+str(samp),self._fft_GyrZ)\n",
    "\n",
    "        \n",
    "    def _power(self,fft_array):\n",
    "        p=lambda x,y : np.sqrt(x**2+y**2)\n",
    "        power_array=np.array([])\n",
    "        for vector in fft_array:\n",
    "            tmp = p( np.real(vector),np.imag(vector) )\n",
    "            tmp = tmp/np.sum(tmp)\n",
    "            power_array = np.append(power_array,tmp)\n",
    "        return power_array\n",
    "        \n",
    "    def CalcPower(self,samp,overlap=0.5):\n",
    "        local_fft_AccX=np.load(p_path+'fft/'+'fft_AccX_'+str(samp)+'.npz')['arr_0']\n",
    "        local_fft_AccY=np.load(p_path+'fft/'+'fft_AccY_'+str(samp)+'.npz')['arr_0']\n",
    "        local_fft_AccZ=np.load(p_path+'fft/'+'fft_AccZ_'+str(samp)+'.npz')['arr_0']\n",
    "        local_fft_GyrX=np.load(p_path+'fft/'+'fft_GyrX_'+str(samp)+'.npz')['arr_0']\n",
    "        local_fft_GyrY=np.load(p_path+'fft/'+'fft_GyrY_'+str(samp)+'.npz')['arr_0']\n",
    "        local_fft_GyrZ=np.load(p_path+'fft/'+'fft_GyrZ_'+str(samp)+'.npz')['arr_0']\n",
    "           \n",
    "        self._power_AccX = self._power(local_fft_AccX)\n",
    "        self._power_AccY = self._power(local_fft_AccY)\n",
    "        self._power_AccZ = self._power(local_fft_AccZ)\n",
    "        self._power_GyrX = self._power(local_fft_GyrX)\n",
    "        self._power_GyrY = self._power(local_fft_GyrY)\n",
    "        self._power_GyrZ = self._power(local_fft_GyrZ)\n",
    "\n",
    "        np.savez(p_path+'power/'+'power_AccX_'+str(samp),self._power_AccX)\n",
    "        np.savez(p_path+'power/'+'power_AccY_'+str(samp),self._power_AccY)\n",
    "        np.savez(p_path+'power/'+'power_AccZ_'+str(samp),self._power_AccZ)\n",
    "        np.savez(p_path+'power/'+'power_GyrX_'+str(samp),self._power_GyrX)\n",
    "        np.savez(p_path+'power/'+'power_GyrY_'+str(samp),self._power_GyrY)\n",
    "        np.savez(p_path+'power/'+'power_GyrZ_'+str(samp),self._power_GyrZ)\n",
    "        \n",
    "    def _KLD(self,vect1,vect2):\n",
    "        f =lambda p,q : np.sum(p * np.log(p / q), axis=(p.ndim - 1))\n",
    "        kld_array=np.array([])\n",
    "        for vector1 in vect1:\n",
    "            for vector2 in vect2:\n",
    "                tmp = f( vector1, vector2 )\n",
    "                kld_array = np.append(kld_array,tmp)\n",
    "        return kld_array\n",
    "    \n",
    "    def CalcKLD(self,Sarray1,Sarray2,samp):\n",
    "        dist1 = self._GetPower(Sarray1,samp)\n",
    "        dist2 = self._GetPower(Sarray2,samp)\n",
    "        \n",
    "        self._kld = self._KLD(dist1,dist2)    \n",
    "        np.savez(p_path+'kld/'+Sarray1+'_VS_'+Sarray2,self._kld)\n",
    "        \n",
    "    def ShowKLD(self,Sarray1,Sarray2,samp):\n",
    "        tmp = np.load(p_path+'kld/'+Sarray1+'_VS_'+Sarray2+'.npz')['arr_0']\n",
    "        print Sarray1+'_VS_'+Sarray2+'Kullback–Leibler Divergence'\n",
    "        print 'shape ='+str(tmp.shape)\n",
    "        print tmp\n",
    "        \n",
    "    def _JSD(self,vect1,vect2):\n",
    "        f =lambda p,q : 0.5*self._KLD(p,(0.5*(p+q)) )+0.5*self._KLD(q,(0.5*(p+q)) )\n",
    "        kld_array=np.array([])\n",
    "        for vector1 in vect1:\n",
    "            for vector2 in vect2:\n",
    "                tmp = f( vector1, vector2 )\n",
    "                kld_array = np.append(kld_array,tmp)\n",
    "        return kld_array\n",
    "        \n",
    "    def CalcJSD(self,Sarray1,Sarray2,samp):\n",
    "        dist1 = self._GetPower(Sarray1,samp)\n",
    "        dist2 = self._GetPower(Sarray2,samp)\n",
    "        \n",
    "        self._jsd = self._JSD(dist1,dist2)    \n",
    "        np.savez(p_path+'jsd/'+Sarray1+'_VS_'+Sarray2,self._jsd)\n",
    "        \n",
    "    def ShowJSD(self,Sarray1,Sarray2,samp):\n",
    "        tmp = np.load(p_path+'jsd/'+Sarray1+'_VS_'+Sarray2+'.npz')['arr_0']\n",
    "        print Sarray1+'_VS_'+Sarray2+'Jensen-Shannon Divergence'\n",
    "        print 'shape ='+str(tmp.shape)\n",
    "        print tmp\n",
    "        \n",
    "        \n",
    "    def ShowFFT(self,name):\n",
    "        data = self._String2Var(name)\n",
    "        print data"
   ]
  },
  {
   "cell_type": "code",
   "execution_count": null,
   "metadata": {
    "collapsed": false
   },
   "outputs": [
    {
     "name": "stdout",
     "output_type": "stream",
     "text": [
      "__class__\n",
      "power_AccX_VS_power_AccXKullback–Leibler Divergence\n",
      "shape =(121801,)\n",
      "[ 0.          0.26283912  0.16866306 ...,  0.11657819  0.20916036  0.        ]\n"
     ]
    }
   ],
   "source": [
    "test = RecordData()\n",
    "test.ImportCSV('west.csv')\n",
    "#test.CalcFFT(512)\n",
    "#test.CalcPower(512)\n",
    "test.CalcKLD('power_AccX','power_AccX',16)\n",
    "test.ShowKLD('power_AccX','power_AccX',16)\n",
    "\n",
    "test.CalcJSD('power_AccX','power_AccX',16)\n",
    "test.ShowJSD('power_AccX','power_AccX',16)\n",
    "\n",
    "#print test._power_AccX.shape\n",
    "#d=test._Query('AccX',[test._Time[0],test._Time[0]+datetime.timedelta(seconds=0.16)])\n",
    "#fftpack.fft(test._AccX)\n",
    "#print test._Time[0]\n",
    "#print type(test._Time[0])\n",
    "#print test._Time[0]+np.timedelta64(160,'ms')\n",
    "#np.where(test._Time==np.datetime64('2016-05-20T18:06:15.908000000') )\n",
    "#min(test._Time)> max(test._Time)\n",
    "#test.ShowFFT('fft_AccX')\n",
    "#test.ShowFFT('fft_AccY')\n",
    "#test.ShowFFT('fft_AccZ')\n",
    "#test.ShowFFT('fft_GyrX')\n",
    "#test.ShowFFT('fft_GyrY')\n",
    "#test.ShowFFT('fft_GyrZ')"
   ]
  },
  {
   "cell_type": "code",
   "execution_count": null,
   "metadata": {
    "collapsed": false
   },
   "outputs": [],
   "source": [
    "data = pd.read_csv(\"Conv-west-ags.csv\",encoding=\"Shift-JIS\")\n",
    "data.columns=[u'Type',u'Time',u'AccX',u'AccY',u'AccZ',u'GyrX',u'GyrY',u'GyrZ']\n",
    "data.AccX = data.AccX*0.1*0.001\n",
    "data.AccY = data.AccY*0.1*0.001\n",
    "data.AccZ = data.AccZ*0.1*0.001\n",
    "\n",
    "data.GyrX = data.GyrX*0.1*0.001\n",
    "data.GyrY = data.GyrY*0.1*0.001\n",
    "data.GyrZ = data.GyrZ*0.1*0.001\n",
    "\n",
    "data.Time=pd.to_datetime(data.Time)\n",
    "\n",
    "data = pd.pivot_table(data,values=[u'AccX',u'AccY',u'AccZ',u'GyrX',u'GyrY',u'GyrZ'],index=[u'Time'])\n",
    "AccX=data.AccX"
   ]
  },
  {
   "cell_type": "code",
   "execution_count": null,
   "metadata": {
    "collapsed": false
   },
   "outputs": [],
   "source": [
    "2784/8"
   ]
  },
  {
   "cell_type": "code",
   "execution_count": 526,
   "metadata": {
    "collapsed": false
   },
   "outputs": [
    {
     "data": {
      "text/plain": [
       "array([[ 6.08276253,  5.38516481,  5.        ],\n",
       "       [ 5.        ,  5.38516481,  6.08276253]])"
      ]
     },
     "execution_count": 526,
     "metadata": {},
     "output_type": "execute_result"
    }
   ],
   "source": [
    "x=np.array( [[1,2,3],[4,5,6]])\n",
    "y=np.array( [[6,5,4],[3,2,1]])\n",
    "\n",
    "f=lambda x,y: np.sqrt(x**2+y**2)\n",
    "f(x,y)"
   ]
  },
  {
   "cell_type": "code",
   "execution_count": 550,
   "metadata": {
    "collapsed": false
   },
   "outputs": [
    {
     "data": {
      "text/plain": [
       "0.26666666666666666"
      ]
     },
     "execution_count": 550,
     "metadata": {},
     "output_type": "execute_result"
    }
   ],
   "source": [
    "4.0/15"
   ]
  },
  {
   "cell_type": "code",
   "execution_count": null,
   "metadata": {
    "collapsed": true
   },
   "outputs": [],
   "source": []
  }
 ],
 "metadata": {
  "kernelspec": {
   "display_name": "Python 2",
   "language": "python",
   "name": "python2"
  },
  "language_info": {
   "codemirror_mode": {
    "name": "ipython",
    "version": 2
   },
   "file_extension": ".py",
   "mimetype": "text/x-python",
   "name": "python",
   "nbconvert_exporter": "python",
   "pygments_lexer": "ipython2",
   "version": "2.7.10"
  }
 },
 "nbformat": 4,
 "nbformat_minor": 0
}
