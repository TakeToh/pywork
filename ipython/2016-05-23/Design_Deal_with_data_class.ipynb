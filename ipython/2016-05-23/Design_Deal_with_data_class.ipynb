{
 "cells": [
  {
   "cell_type": "code",
   "execution_count": 209,
   "metadata": {
    "collapsed": true
   },
   "outputs": [],
   "source": [
    "import numpy as np\n",
    "import pandas as pd\n",
    "from scipy import fftpack\n",
    "from scipy import signal\n",
    "import datetime\n",
    "import pickle\n",
    "import time\n",
    "%matplotlib inline"
   ]
  },
  {
   "cell_type": "code",
   "execution_count": 182,
   "metadata": {
    "collapsed": true
   },
   "outputs": [],
   "source": [
    "p_path=\"/home/takeyama/pywork/ipython/2016-05-23/\""
   ]
  },
  {
   "cell_type": "code",
   "execution_count": 11,
   "metadata": {
    "collapsed": false
   },
   "outputs": [
    {
     "name": "stdout",
     "output_type": "stream",
     "text": [
      "/home/takeyama/Documents/SyncRecord/cleaning-addingLABEL\n"
     ]
    }
   ],
   "source": [
    "cd ~/Documents/SyncRecord/cleaning-addingLABEL/"
   ]
  },
  {
   "cell_type": "code",
   "execution_count": 18,
   "metadata": {
    "collapsed": false
   },
   "outputs": [],
   "source": [
    "class SensorData:\n",
    "    \n",
    "    def __init__(self):\n",
    "        print \"__class__\"\n",
    "        # raw data\n",
    "        self._AccX=np.array([])\n",
    "        self._AccY=np.array([])\n",
    "        self._AccZ=np.array([])\n",
    "        self._GyrX=np.array([])\n",
    "        self._GyrY=np.array([])\n",
    "        self._GyrZ=np.array([])\n",
    "        self._Columns=np.array([])\n",
    "        \n",
    "        # fft data\n",
    "        self._fft_AccX=np.array([])\n",
    "        self._fft_AccY=np.array([])\n",
    "        self._fft_AccZ=np.array([])\n",
    "        self._fft_GyrX=np.array([])\n",
    "        self._fft_GyrY=np.array([])\n",
    "        self._fft_GyrZ=np.array([])\n",
    "\n",
    "        # power spectol data\n",
    "        self._power_AccX=np.array([])\n",
    "        self._power_AccY=np.array([])\n",
    "        self._power_AccZ=np.array([])\n",
    "        self._power_GyrX=np.array([])\n",
    "        self._power_GyrY=np.array([])\n",
    "        self._power_GyrZ=np.array([])\n",
    "        \n",
    "        # flag exsist data\n",
    "        self.Flag_exist_data=False\n",
    "        \n",
    "    def ImportCSV(self,csv_file):\n",
    "        self.Flag_exist_data=True\n",
    "        # design dataframe\n",
    "        self._data = pd.read_csv(csv_file,encoding=\"SHIFT-JIS\")\n",
    "        self._data.columns=[u'Type',u'Time',u'AccX',u'AccY',u'AccZ',u'GyrX',u'GyrY',u'GyrZ']\n",
    "        self._data.Time=pd.to_datetime(self._data.Time)\n",
    "        self._data = pd.pivot_table(self._data,values=[u'AccX',u'AccY',u'AccZ',u'GyrX',u'GyrY',u'GyrZ'],index=[u'Time'])\n",
    "        \n",
    "        # convert numpy.darray\n",
    "        self._AccX=self._data.AccX.values\n",
    "        self._AccY=self._data.AccY.values\n",
    "        self._AccZ=self._data.AccZ.values\n",
    "        self._GyrX=self._data.GyrX.values\n",
    "        self._GyrY=self._data.GyrY.values\n",
    "        self._GyrZ=self._data.GyrZ.values\n",
    "        self._Time=self._data.index.to_pydatetime().astype('datetime64[ns]')\n",
    "        self._Columns=['Time','AccX','AccY','AccZ','GyrX','GyrY','GyrZ']\n",
    "        self._fft_col=['fft_AccX','fft_AccY','fft_AccZ','fft_GyrX','fft_GyrY','fft_GyrZ']\n",
    "        self._power_col=['power_AccX','power_AccY','power_AccZ','power_GyrX','power_GyrY','power_GyrZ']\n",
    "    \n",
    "    def ShowFlagExistData(self):\n",
    "        return self.Flag_exist_data\n",
    "    \n",
    "    def GetColumns(self):\n",
    "        return self._Columns\n",
    "\n",
    "    def ShowAllDf(self):\n",
    "        print self._AccX;print self._AccY;print self._AccZ;print self._GyrX;print self._GyrY;print self._GyrZ;print self._Time\n",
    "        \n",
    "    def _String2Var(self,Sname):\n",
    "        if(Sname=='AccX'):return self._AccX\n",
    "        elif(Sname=='AccY'):return self._AccY\n",
    "        elif(Sname=='AccZ'):return self._AccZ\n",
    "        elif(Sname=='GyrX'):return self._GyrX\n",
    "        elif(Sname=='GyrY'):return self._GyrY\n",
    "        elif(Sname=='GyrZ'):return self._GyrZ\n",
    "        elif(Sname=='Time'):return self._Time\n",
    "        else:print 'Wrong Axis Name'\n",
    "    \n",
    "    def _Time2Num(self,time):\n",
    "        index=np.where(test._Time==np.datetime64(time) )\n",
    "        return index[0][0]    \n",
    "    \n",
    "    def _Query(self,Sname,rng=[]):\n",
    "        data = self._String2Var(Sname)\n",
    "        return data[rng[0]:rng[1]]\n",
    "            \n",
    "    def GetLength(self,Sname):\n",
    "        data = _String2Var(Sname)\n",
    "        print Sname+' length ='+str( len(data) )\n",
    "            \n",
    "    def ShowQuery(self,Sname,rng=[]):\n",
    "        data = self._String2Var(Sname)\n",
    "        print Sname+':'+str( data[rng[0]:rng[1]])\n",
    "            \n",
    "    def _sliding_window(self,Sname,samp, overlap):\n",
    "        count =0\n",
    "        s =self._Time[0]\n",
    "        start=self._Time2Num(s)\n",
    "        g = s+np.timedelta64(samp*10,'ms')\n",
    "        goal= self._Time2Num(g)\n",
    "        yield self._Query(Sname,[start,goal])\n",
    "        \n",
    "        add=overlap*0.01\n",
    "        \n",
    "        while True:\n",
    "            try:\n",
    "                count +=1\n",
    "                s =s+np.timedelta64(samp*10,'ms')\n",
    "                start=self._Time2Num(s)\n",
    "                g  =s+np.timedelta64(samp*10,'ms')\n",
    "                goal= self._Time2Num(g)\n",
    "                yield self._Query(Sname,[start,goal])\n",
    "            except StopIteration:\n",
    "                print '_sliding_window StopIteration'\n",
    "                break   \n",
    "            except IndexError:\n",
    "                print '_sliding_window IndexError'\n",
    "                break  \n",
    "                \n",
    "# Fast Frier transaction\n",
    "    def _set_fft(self,Sname,array):\n",
    "        #print array\n",
    "        if(Sname=='fft_AccX'):   self._fft_AccX=np.append(self._fft_AccX,np.array([array]) )\n",
    "        elif(Sname=='fft_AccY'): self._fft_AccY=np.append(self._fft_AccY,np.array([array]) )\n",
    "        elif(Sname=='fft_AccZ'): self._fft_AccZ=np.append(self._fft_AccZ,np.array([array]) )\n",
    "        elif(Sname=='fft_GyrX'): self._fft_GyrX=np.append(self._fft_GyrX,np.array([array]) )\n",
    "        elif(Sname=='fft_GyrY'): self._fft_GyrY=np.append(self._fft_GyrY,np.array([array]) )\n",
    "        elif(Sname=='fft_GyrZ'): self._fft_GyrZ=np.append(self._fft_GyrZ,np.array([array]) )\n",
    "        else:print 'Wrong Axis Name'\n",
    "            \n",
    "    def _GetFFT(self,Sfft,samp):\n",
    "        return np.load(p_path+'fft/'+Sfft+'_'+str(samp)+'.npz')['arr_0']\n",
    "    \n",
    "    def CalcFFT(self,samp,overlap=0.5):\n",
    "        for n,f in zip( self._Columns[1:],self._fft_col):\n",
    "            print 'start'+n+'->'+f\n",
    "            sw = self._sliding_window(n,samp,overlap)\n",
    "            count=0\n",
    "            while True:\n",
    "                try:\n",
    "                    #print 'count ='+str(count)\n",
    "                    d=sw.next()\n",
    "                    # fftの直流成分を除くsample/2のみ\n",
    "                    self._set_fft(f,fftpack.fft(d)[1:(samp/2)+1])     \n",
    "                    count = count+1\n",
    "                except StopIteration:\n",
    "                    print 'CalcFFTStopIteration'\n",
    "                    break   \n",
    "                    \n",
    "        self._fft_AccX=self._fft_AccX.reshape(len(self._fft_AccX)/(samp/2),(samp/2) )\n",
    "        self._fft_AccY=self._fft_AccY.reshape(len(self._fft_AccY)/(samp/2),(samp/2) )\n",
    "        self._fft_AccZ=self._fft_AccZ.reshape(len(self._fft_AccZ)/(samp/2),(samp/2) )\n",
    "        self._fft_GyrX=self._fft_GyrX.reshape(len(self._fft_GyrX)/(samp/2),(samp/2) )\n",
    "        self._fft_GyrY=self._fft_GyrY.reshape(len(self._fft_GyrY)/(samp/2),(samp/2) )\n",
    "        self._fft_GyrZ=self._fft_GyrZ.reshape(len(self._fft_GyrZ)/(samp/2),(samp/2) )\n",
    "        \n",
    "        np.savez(p_path+'fft/'+'fft_AccX_'+str(samp),self._fft_AccX)\n",
    "        np.savez(p_path+'fft/'+'fft_AccY_'+str(samp),self._fft_AccY)\n",
    "        np.savez(p_path+'fft/'+'fft_AccZ_'+str(samp),self._fft_AccZ)\n",
    "        np.savez(p_path+'fft/'+'fft_GyrX_'+str(samp),self._fft_GyrX)\n",
    "        np.savez(p_path+'fft/'+'fft_GyrY_'+str(samp),self._fft_GyrY)\n",
    "        np.savez(p_path+'fft/'+'fft_GyrZ_'+str(samp),self._fft_GyrZ)\n",
    "\n",
    "# Spectol Power \n",
    "    def _GetPower(self,Spower,samp):\n",
    "        return np.load(p_path+'power/'+Spower+'_'+str(samp)+'.npz')['arr_0']\n",
    "    \n",
    "    def _power(self,fft_array):\n",
    "        p=lambda x,y : np.sqrt(x**2+y**2)\n",
    "        power_array=np.array([])\n",
    "        for vector in fft_array:\n",
    "            tmp = p( np.real(vector),np.imag(vector) )\n",
    "            tmp = tmp/np.sum(tmp)\n",
    "            power_array = np.append(power_array,tmp)\n",
    "        return power_array\n",
    "        \n",
    "    def CalcPower(self,samp,overlap=0.5):\n",
    "        local_fft_AccX=np.load(p_path+'fft/'+'fft_AccX_'+str(samp)+'.npz')['arr_0']\n",
    "        local_fft_AccY=np.load(p_path+'fft/'+'fft_AccY_'+str(samp)+'.npz')['arr_0']\n",
    "        local_fft_AccZ=np.load(p_path+'fft/'+'fft_AccZ_'+str(samp)+'.npz')['arr_0']\n",
    "        local_fft_GyrX=np.load(p_path+'fft/'+'fft_GyrX_'+str(samp)+'.npz')['arr_0']\n",
    "        local_fft_GyrY=np.load(p_path+'fft/'+'fft_GyrY_'+str(samp)+'.npz')['arr_0']\n",
    "        local_fft_GyrZ=np.load(p_path+'fft/'+'fft_GyrZ_'+str(samp)+'.npz')['arr_0']\n",
    "           \n",
    "        self._power_AccX = self._power(local_fft_AccX)\n",
    "        self._power_AccY = self._power(local_fft_AccY)\n",
    "        self._power_AccZ = self._power(local_fft_AccZ)\n",
    "        self._power_GyrX = self._power(local_fft_GyrX)\n",
    "        self._power_GyrY = self._power(local_fft_GyrY)\n",
    "        self._power_GyrZ = self._power(local_fft_GyrZ)\n",
    "\n",
    "        np.savez(p_path+'power/'+'power_AccX_'+str(samp),self._power_AccX)\n",
    "        np.savez(p_path+'power/'+'power_AccY_'+str(samp),self._power_AccY)\n",
    "        np.savez(p_path+'power/'+'power_AccZ_'+str(samp),self._power_AccZ)\n",
    "        np.savez(p_path+'power/'+'power_GyrX_'+str(samp),self._power_GyrX)\n",
    "        np.savez(p_path+'power/'+'power_GyrY_'+str(samp),self._power_GyrY)\n",
    "        np.savez(p_path+'power/'+'power_GyrZ_'+str(samp),self._power_GyrZ)\n",
    "        \n",
    "# Kallback Librar Divergence\n",
    "    def _KLD(self,vect1,vect2):\n",
    "        f =lambda p,q : np.sum(p * np.log(p / q), axis=(p.ndim - 1))\n",
    "        kld_array=np.array([])\n",
    "        for vector1 in vect1:\n",
    "            for vector2 in vect2:\n",
    "                tmp = f( vector1, vector2 )\n",
    "                kld_array = np.append(kld_array,tmp)\n",
    "        return kld_array\n",
    "    \n",
    "    def CalcKLD(self,Sarray1,Sarray2,samp):\n",
    "        dist1 = self._GetPower(Sarray1,samp)\n",
    "        dist2 = self._GetPower(Sarray2,samp)\n",
    "        \n",
    "        self._kld = self._KLD(dist1,dist2)    \n",
    "        np.savez(p_path+'kld/'+Sarray1+'_VS_'+Sarray2,self._kld)\n",
    "        \n",
    "    def ShowKLD(self,Sarray1,Sarray2,samp):\n",
    "        tmp = np.load(p_path+'kld/'+Sarray1+'_VS_'+Sarray2+'.npz')['arr_0']\n",
    "        print Sarray1+'_VS_'+Sarray2+'Kullback–Leibler Divergence'\n",
    "        print 'shape ='+str(tmp.shape)\n",
    "        print tmp\n",
    "        \n",
    "    def _JSD(self,vect1,vect2):\n",
    "        f =lambda p,q : 0.5*self._KLD(p,(0.5*(p+q)) )+0.5*self._KLD(q,(0.5*(p+q)) )\n",
    "        kld_array=np.array([])\n",
    "        for vector1 in vect1:\n",
    "            for vector2 in vect2:\n",
    "                tmp = f( vector1, vector2 )\n",
    "                kld_array = np.append(kld_array,tmp)\n",
    "        return kld_array\n",
    "    \n",
    "# Janson Shanon Divergence\n",
    "    def CalcJSD(self,Sarray1,Sarray2,samp):\n",
    "        dist1 = self._GetPower(Sarray1,samp)\n",
    "        dist2 = self._GetPower(Sarray2,samp)\n",
    "        \n",
    "        self._jsd = self._JSD(dist1,dist2)    \n",
    "        np.savez(p_path+'jsd/'+Sarray1+'_VS_'+Sarray2,self._jsd)\n",
    "        \n",
    "    def ShowJSD(self,Sarray1,Sarray2,samp):\n",
    "        tmp = np.load(p_path+'jsd/'+Sarray1+'_VS_'+Sarray2+'.npz')['arr_0']\n",
    "        print Sarray1+'_VS_'+Sarray2+'Jensen-Shannon Divergence'\n",
    "        print 'shape ='+str(tmp.shape)\n",
    "        print tmp\n",
    "        \n",
    "        \n",
    "    def ShowFFT(self,name):\n",
    "        data = self._String2Var(name)\n",
    "        print data"
   ]
  },
  {
   "cell_type": "code",
   "execution_count": 15,
   "metadata": {
    "collapsed": false
   },
   "outputs": [
    {
     "ename": "NameError",
     "evalue": "name 'RecordData' is not defined",
     "output_type": "error",
     "traceback": [
      "\u001b[1;31m---------------------------------------------------------------------------\u001b[0m",
      "\u001b[1;31mNameError\u001b[0m                                 Traceback (most recent call last)",
      "\u001b[1;32m<ipython-input-15-4e150c62d8cf>\u001b[0m in \u001b[0;36m<module>\u001b[1;34m()\u001b[0m\n\u001b[1;32m----> 1\u001b[1;33m \u001b[0mtest\u001b[0m \u001b[1;33m=\u001b[0m \u001b[0mRecordData\u001b[0m\u001b[1;33m(\u001b[0m\u001b[1;33m)\u001b[0m\u001b[1;33m\u001b[0m\u001b[0m\n\u001b[0m\u001b[0;32m      2\u001b[0m \u001b[0mtest\u001b[0m\u001b[1;33m.\u001b[0m\u001b[0mImportCSV\u001b[0m\u001b[1;33m(\u001b[0m\u001b[1;34m'west.csv'\u001b[0m\u001b[1;33m)\u001b[0m\u001b[1;33m\u001b[0m\u001b[0m\n\u001b[0;32m      3\u001b[0m \u001b[1;31m#test.CalcFFT(512)\u001b[0m\u001b[1;33m\u001b[0m\u001b[1;33m\u001b[0m\u001b[0m\n\u001b[0;32m      4\u001b[0m \u001b[1;31m#test.CalcPower(512)\u001b[0m\u001b[1;33m\u001b[0m\u001b[1;33m\u001b[0m\u001b[0m\n\u001b[0;32m      5\u001b[0m \u001b[0mtest\u001b[0m\u001b[1;33m.\u001b[0m\u001b[0mCalcKLD\u001b[0m\u001b[1;33m(\u001b[0m\u001b[1;34m'power_AccX'\u001b[0m\u001b[1;33m,\u001b[0m\u001b[1;34m'power_AccX'\u001b[0m\u001b[1;33m,\u001b[0m\u001b[1;36m16\u001b[0m\u001b[1;33m)\u001b[0m\u001b[1;33m\u001b[0m\u001b[0m\n",
      "\u001b[1;31mNameError\u001b[0m: name 'RecordData' is not defined"
     ]
    }
   ],
   "source": [
    "test = RecordData()\n",
    "test.ImportCSV('west.csv')\n",
    "#test.CalcFFT(512)\n",
    "#test.CalcPower(512)\n",
    "test.CalcKLD('power_AccX','power_AccX',16)\n",
    "test.ShowKLD('power_AccX','power_AccX',16)\n",
    "\n",
    "test.CalcJSD('power_AccX','power_AccX',16)\n",
    "test.ShowJSD('power_AccX','power_AccX',16)\n",
    "\n",
    "#print test._power_AccX.shape\n",
    "#d=test._Query('AccX',[test._Time[0],test._Time[0]+datetime.timedelta(seconds=0.16)])\n",
    "#fftpack.fft(test._AccX)\n",
    "#print test._Time[0]\n",
    "#print type(test._Time[0])\n",
    "#print test._Time[0]+np.timedelta64(160,'ms')\n",
    "#np.where(test._Time==np.datetime64('2016-05-20T18:06:15.908000000') )\n",
    "#min(test._Time)> max(test._Time)\n",
    "#test.ShowFFT('fft_AccX')\n",
    "#test.ShowFFT('fft_AccY')\n",
    "#test.ShowFFT('fft_AccZ')\n",
    "#test.ShowFFT('fft_GyrX')\n",
    "#test.ShowFFT('fft_GyrY')\n",
    "#test.ShowFFT('fft_GyrZ')"
   ]
  },
  {
   "cell_type": "code",
   "execution_count": null,
   "metadata": {
    "collapsed": false
   },
   "outputs": [],
   "source": [
    "data = pd.read_csv(\"Conv-west-ags.csv\",encoding=\"Shift-JIS\")\n",
    "data.columns=[u'Type',u'Time',u'AccX',u'AccY',u'AccZ',u'GyrX',u'GyrY',u'GyrZ']\n",
    "data.AccX = data.AccX*0.1*0.001\n",
    "data.AccY = data.AccY*0.1*0.001\n",
    "data.AccZ = data.AccZ*0.1*0.001\n",
    "\n",
    "data.GyrX = data.GyrX*0.1*0.001\n",
    "data.GyrY = data.GyrY*0.1*0.001\n",
    "data.GyrZ = data.GyrZ*0.1*0.001\n",
    "\n",
    "data.Time=pd.to_datetime(data.Time)\n",
    "\n",
    "data = pd.pivot_table(data,values=[u'AccX',u'AccY',u'AccZ',u'GyrX',u'GyrY',u'GyrZ'],index=[u'Time'])\n",
    "AccX=data.AccX"
   ]
  },
  {
   "cell_type": "code",
   "execution_count": null,
   "metadata": {
    "collapsed": false
   },
   "outputs": [],
   "source": [
    "2784/8"
   ]
  },
  {
   "cell_type": "code",
   "execution_count": 526,
   "metadata": {
    "collapsed": false
   },
   "outputs": [
    {
     "data": {
      "text/plain": [
       "array([[ 6.08276253,  5.38516481,  5.        ],\n",
       "       [ 5.        ,  5.38516481,  6.08276253]])"
      ]
     },
     "execution_count": 526,
     "metadata": {},
     "output_type": "execute_result"
    }
   ],
   "source": [
    "x=np.array( [[1,2,3],[4,5,6]])\n",
    "y=np.array( [[6,5,4],[3,2,1]])\n",
    "\n",
    "f=lambda x,y: np.sqrt(x**2+y**2)\n",
    "f(x,y)"
   ]
  },
  {
   "cell_type": "code",
   "execution_count": 550,
   "metadata": {
    "collapsed": false
   },
   "outputs": [
    {
     "data": {
      "text/plain": [
       "0.26666666666666666"
      ]
     },
     "execution_count": 550,
     "metadata": {},
     "output_type": "execute_result"
    }
   ],
   "source": [
    "4.0/15"
   ]
  },
  {
   "cell_type": "markdown",
   "metadata": {
    "collapsed": true
   },
   "source": [
    "クラスの問題について、レビューを頂いたのでメモする。\n",
    "・オブジェクトをセンサデータ１つにしたことに対して問題がある。\n",
    "センサ間のJS、KLダイバージェンスを調べるときに内部のインスタンスを呼ばないと大変\n",
    "→１つのクラスですべてのセンサデータを扱える方がいい\n",
    "\n",
    "問題に対して、クラスを位置から設計するのは大変\n",
    "・クラスをまとめるクラスを用意する必要がある。"
   ]
  },
  {
   "cell_type": "code",
   "execution_count": 28,
   "metadata": {
    "collapsed": false
   },
   "outputs": [],
   "source": [
    "nA,nB=10,20\n",
    "sA,sB=str(10),str(20)\n",
    "num = {}\n",
    "test = {}"
   ]
  },
  {
   "cell_type": "code",
   "execution_count": 119,
   "metadata": {
    "collapsed": false
   },
   "outputs": [
    {
     "ename": "ValueError",
     "evalue": "need more than 1 value to unpack",
     "output_type": "error",
     "traceback": [
      "\u001b[1;31m---------------------------------------------------------------------------\u001b[0m",
      "\u001b[1;31mValueError\u001b[0m                                Traceback (most recent call last)",
      "\u001b[1;32m<ipython-input-119-f7a75f71a563>\u001b[0m in \u001b[0;36m<module>\u001b[1;34m()\u001b[0m\n\u001b[0;32m      1\u001b[0m \u001b[0mnum\u001b[0m\u001b[1;33m[\u001b[0m\u001b[1;34m'new'\u001b[0m\u001b[1;33m]\u001b[0m\u001b[1;33m=\u001b[0m\u001b[1;36m40\u001b[0m\u001b[1;33m\u001b[0m\u001b[0m\n\u001b[1;32m----> 2\u001b[1;33m \u001b[0ma\u001b[0m\u001b[1;33m,\u001b[0m\u001b[0mb\u001b[0m\u001b[1;33m=\u001b[0m\u001b[0mnum\u001b[0m\u001b[1;33m\u001b[0m\u001b[0m\n\u001b[0m",
      "\u001b[1;31mValueError\u001b[0m: need more than 1 value to unpack"
     ]
    }
   ],
   "source": [
    "num['new']=40"
   ]
  },
  {
   "cell_type": "code",
   "execution_count": 30,
   "metadata": {
    "collapsed": false
   },
   "outputs": [
    {
     "data": {
      "text/plain": [
       "0"
      ]
     },
     "execution_count": 30,
     "metadata": {},
     "output_type": "execute_result"
    }
   ],
   "source": [
    "len(test)\n"
   ]
  },
  {
   "cell_type": "code",
   "execution_count": 102,
   "metadata": {
    "collapsed": false
   },
   "outputs": [
    {
     "data": {
      "text/plain": [
       "1"
      ]
     },
     "execution_count": 102,
     "metadata": {},
     "output_type": "execute_result"
    }
   ],
   "source": [
    "len(num)"
   ]
  },
  {
   "cell_type": "code",
   "execution_count": 107,
   "metadata": {
    "collapsed": false
   },
   "outputs": [
    {
     "data": {
      "text/plain": [
       "1"
      ]
     },
     "execution_count": 107,
     "metadata": {},
     "output_type": "execute_result"
    }
   ],
   "source": [
    "len(num.items())"
   ]
  },
  {
   "cell_type": "code",
   "execution_count": 221,
   "metadata": {
    "collapsed": false
   },
   "outputs": [],
   "source": [
    "class AllSensorData:        \n",
    "    def __init__(self):\n",
    "            self._DicSensor={}\n",
    "    \n",
    "    def regist(self, Sname, Pdata):\n",
    "        if len(self._DicSensor)==7:\n",
    "            print \"this class has max data\"\n",
    "        else:\n",
    "            data = SensorData()\n",
    "            data.ImportCSV(Sname,Pdata)   \n",
    "            self._DicSensor[Sname]=data\n",
    "            \n",
    "    def ExecFFT(self,Sname,samp):\n",
    "        print self._DicSensor[Sname].ClassName\n",
    "        self._DicSensor[Sname].CalcFFT(samp)\n",
    "\n",
    "    def DispFFT(self,Sname,samp):\n",
    "        print self._DicSensor[Sname].ClassName\n",
    "        col = self._DicSensor[Sname].GetColumns()\n",
    "        for axis in col:\n",
    "            print self._DicSensor[Sname].GetFFT('fft_'+axis,samp)    \n",
    "            \n",
    "    def ExecPower(self,Sname,samp):\n",
    "        print self._DicSensor[Sname].ClassName\n",
    "        self._DicSensor[Sname].CalcPower(samp)\n",
    "\n",
    "    def DispPower(self,Sname,samp):\n",
    "        print self._DicSensor[Sname].ClassName\n",
    "        col = self._DicSensor[Sname].GetColumns()\n",
    "        for axis in col:\n",
    "            print self._DicSensor[Sname].GetPower('power_'+axis,samp)\n",
    "            \n",
    "    def ShowData(self,Sname):\n",
    "        print self._DicSensor[Sname].ShowAllDf()\n",
    "        \n",
    "    # Kallback Librar Divergence\n",
    "    def _KLD(self,vect1,vect2):\n",
    "        f =lambda p,q : np.sum(p * np.log(p / q), axis=(p.ndim - 1))\n",
    "        kld_array=np.array([])\n",
    "        for vector1 in vect1:\n",
    "            for vector2 in vect2:\n",
    "                tmp = f( vector1, vector2 )\n",
    "                kld_array = np.append(kld_array,tmp)\n",
    "        return kld_array\n",
    "    \n",
    "    def ExecKLD(self,Sarray1,Saxis1,Sarray2,Saxis2,samp):\n",
    "        start = time.time()\n",
    "        dist1 = self._DicSensor[Sarray1].GetPower('power_'+Saxis1,samp)\n",
    "        dist2 = self._DicSensor[Sarray1].GetPower('power_'+Saxis2,samp)\n",
    "        \n",
    "        kld = self._KLD(dist1,dist2)    \n",
    "        np.savez(p_path+'kld/'+Sarray1+'_'+Saxis1+'_VS_'+Sarray2+'_'+Saxis2,kld)\n",
    "        elapsed_time = time.time() - start\n",
    "        print (\"elapsed_time:{0}\".format(elapsed_time)) + \"[sec]\"\n",
    "        \n",
    "    def ShowKLD(self,Sarray1,Saxis1,Sarray2,samp):\n",
    "        tmp = np.load(p_path+'kld/'+Sarray1+'_'+Saxis1+'_VS_'+Sarray2+'_'+Saxis2+'.npz')['arr_0']\n",
    "        print Sarray1+'_'+Saxis1+'_VS_'+Sarray2+'_'+Saxis2+'_'+'Kullback–Leibler Divergence'\n",
    "        print 'shape ='+str(tmp.shape)\n",
    "        print tmp\n",
    "        \n",
    "    def _JSD(self,vect1,vect2):\n",
    "        f =lambda p,q : 0.5*self._KLD(p,(0.5*(p+q)) )+0.5*self._KLD(q,(0.5*(p+q)) )\n",
    "        kld_array=np.array([])\n",
    "        for vector1 in vect1:\n",
    "            for vector2 in vect2:\n",
    "                tmp = f( vector1, vector2 )\n",
    "                kld_array = np.append(kld_array,tmp)\n",
    "        return kld_array\n",
    "    \n",
    "# Janson Shanon Divergence\n",
    "    def ExecJSD(self,Sarray1,Saxis1,Sarray2,samp):\n",
    "        start = time.time()\n",
    "        dist1 = self._DicSensor[Sarray1].GetPower('power_'+Saxis1,samp)\n",
    "        dist2 = self._DicSensor[Sarray1].GetPower('power_'+Saxis2,samp)\n",
    "        \n",
    "        jsd = self._JSD(dist1,dist2)    \n",
    "        np.savez(p_path+'jsd/'+Sarray1+'_'+Saxis1+'_VS_'+Sarray2+'_'+Saxis2,kld)\n",
    "        elapsed_time = time.time() - start\n",
    "        print (\"elapsed_time:{0}\".format(elapsed_time)) + \"[sec]\"\n",
    "        \n",
    "    def ShowJSD(self,Sarray1,Sarray2,samp):\n",
    "        tmp = np.load(p_path+'jsd/'+Sarray1+'_'+Saxis1+'_VS_'+Sarray2+'_'+Saxis2+'.npz')['arr_0']\n",
    "        print Sarray1+'_'+Saxis1+'_VS_'+Sarray2+'_'+Saxis2+'_'+'Jensen-Shannon Divergence'\n",
    "        print 'shape ='+str(tmp.shape)\n",
    "        print tmp\n",
    "        "
   ]
  },
  {
   "cell_type": "code",
   "execution_count": 222,
   "metadata": {
    "collapsed": false
   },
   "outputs": [],
   "source": [
    "class SensorData:\n",
    "    \n",
    "    def __init__(self):\n",
    "        print \"__class__\"\n",
    "        # raw data\n",
    "        self._RawData={}    \n",
    "        # fft data\n",
    "        self._FFTData={}\n",
    "        # power spectol data\n",
    "        self._PowerData={}    \n",
    "        # flag exsist data\n",
    "        self._Flag_exist_data=False\n",
    "        \n",
    "        self._columns=['AccX','AccY','AccZ','GyrX','GyrY','GyrZ']\n",
    "        self._fft_col=['fft_AccX','fft_AccY','fft_AccZ','fft_GyrX','fft_GyrY','fft_GyrZ']\n",
    "        self._power_col=['power_AccX','power_AccY','power_AccZ','power_GyrX','power_GyrY','power_GyrZ']\n",
    "        \n",
    "    def ImportCSV(self,Sclass,csv_file):\n",
    "        self.ClassName=Sclass\n",
    "        self.Flag_exist_data=True\n",
    "        # design dataframe\n",
    "        data = pd.read_csv(csv_file,encoding=\"SHIFT-JIS\")\n",
    "        data.columns=[u'Type',u'Time',u'AccX',u'AccY',u'AccZ',u'GyrX',u'GyrY',u'GyrZ']\n",
    "        data.Time=pd.to_datetime(data.Time)\n",
    "        data = pd.pivot_table(data,values=[u'AccX',u'AccY',u'AccZ',u'GyrX',u'GyrY',u'GyrZ'],index=[u'Time'])\n",
    "        \n",
    "        # convert numpy.darray\n",
    "        AccX=data.AccX.values*0.0001\n",
    "        AccY=data.AccY.values*0.0001\n",
    "        AccZ=data.AccZ.values*0.0001\n",
    "        GyrX=data.GyrX.values*0.01\n",
    "        GyrY=data.GyrY.values*0.01\n",
    "        GyrZ=data.GyrZ.values*0.01\n",
    "        Time=data.index.to_pydatetime().astype('datetime64[ns]')\n",
    "        \n",
    "        # regist each raw data \n",
    "        self._RawData['AccX'] = AccX\n",
    "        self._RawData['AccY'] = AccY\n",
    "        self._RawData['AccZ'] = AccZ\n",
    "        self._RawData['GyrX'] = GyrX\n",
    "        self._RawData['GyrY'] = GyrY\n",
    "        self._RawData['GyrZ'] = GyrZ\n",
    "        self._RawData['Time'] = Time\n",
    "    \n",
    "    def ShowFlagExistData(self):\n",
    "        return self.Flag_exist_data\n",
    "    \n",
    "    def GetColumns(self):\n",
    "        return self._columns\n",
    "\n",
    "    def ShowAllDf(self):\n",
    "        print 'AccX : ';print self._RawData['AccX']\n",
    "        print 'AccY : ';print self._RawData['AccY']\n",
    "        print 'AccZ : ';print self._RawData['AccZ']\n",
    "        print 'GyrX : ';print self._RawData['GyrX']\n",
    "        print 'GyrY : ';print self._RawData['GyrY']\n",
    "        print 'GyrZ : ';print self._RawData['GyrZ']\n",
    "        \n",
    "    def _Time2Num(self,time):\n",
    "        return np.where(self._RawData['Time']==np.datetime64(time) )[0][0]\n",
    "    \n",
    "    def ShowQuery(self,Sname,rng=[]):\n",
    "        data = self._RawData[Sname]\n",
    "        print Sname+':'+str( data[rng[0]:rng[1]])\n",
    "            \n",
    "    def _sliding_window(self,Sname,samp, overlap):\n",
    "        count =0\n",
    "        s =self._RawData['Time'][0]\n",
    "        start=self._Time2Num(s)\n",
    "        g = s+np.timedelta64(samp*10,'ms')\n",
    "        goal= self._Time2Num(g)\n",
    "        yield self._RawData[Sname][start:goal]\n",
    "        \n",
    "        add=overlap*0.01\n",
    "        \n",
    "        while True:\n",
    "            try:\n",
    "                count +=1\n",
    "                s =s+np.timedelta64(samp*10,'ms')\n",
    "                start=self._Time2Num(s)\n",
    "                g  =s+np.timedelta64(samp*10,'ms')\n",
    "                goal= self._Time2Num(g)\n",
    "                yield self._RawData[Sname][start:goal]\n",
    "            except StopIteration:\n",
    "                print '_sliding_window StopIteration'\n",
    "                break   \n",
    "            except IndexError:\n",
    "                print '_sliding_window IndexError'\n",
    "                break  \n",
    "                \n",
    "# Fast Frier transaction            \n",
    "    def GetFFT(self,Sfft,samp):\n",
    "        return np.load(p_path+'fft/'+self.ClassName+'_'+Sfft+'_'+str(samp)+'.npz')['arr_0']\n",
    "    \n",
    "    def CalcFFT(self,samp,overlap=0.5):\n",
    "        start = time.time()\n",
    "        fft_data = np.array([])\n",
    "        \n",
    "        for n,f in zip( self._columns,self._fft_col):\n",
    "            print 'start'+n+'->'+f\n",
    "            sw = self._sliding_window(n,samp,overlap)\n",
    "            while True:\n",
    "                try:\n",
    "                    d=sw.next()\n",
    "                    fft_data = np.append(fft_data, fftpack.fft(d)[1:(samp/2)+1] )   # fftの直流成分を除くsample/2の\n",
    "                except StopIteration:\n",
    "                    print 'CalcFFTStopIteration'\n",
    "                    fft_data = fft_data.reshape(len(fft_data)/(samp/2),(samp/2) )\n",
    "                    self._FFTData[f] = fft_data\n",
    "                    np.savez(p_path+'fft/'+self.ClassName+'_'+str(f)+'_'+str(samp),self._FFTData[f])\n",
    "                    break   \n",
    "        elapsed_time = time.time() - start\n",
    "        print (\"elapsed_time:{0}\".format(elapsed_time)) + \"[sec]\"\n",
    "           \n",
    "\n",
    "# Spectol Power \n",
    "    def GetPower(self,Spower,samp):\n",
    "        return np.load(p_path+'power/'+self.ClassName+'_'+Spower+'_'+str(samp)+'.npz')['arr_0']\n",
    "    \n",
    "    def _power(self,fft_array):\n",
    "        p=lambda x,y : np.sqrt(x**2+y**2)\n",
    "        power_array=np.array([])\n",
    "        for vector in fft_array:\n",
    "            tmp = p( np.real(vector),np.imag(vector) )\n",
    "            tmp = tmp/np.sum(tmp)\n",
    "            power_array = np.append(power_array,tmp)\n",
    "        return power_array\n",
    "        \n",
    "    def CalcPower(self,samp,overlap=0.5):\n",
    "        start = time.time()\n",
    "        for fft_name,power_name in zip( self._fft_col, self._power_col):\n",
    "            print 'start'+fft_name+'->'+power_name\n",
    "            fft_data = self.GetFFT(fft_name,samp)\n",
    "            power_data=self._power(fft_data)\n",
    "            np.savez(p_path+'power/'+self.ClassName+'_'+power_name+'_'+str(samp),power_data)\n",
    "        elapsed_time = time.time() - start\n",
    "        print (\"elapsed_time:{0}\".format(elapsed_time)) + \"[sec]\""
   ]
  },
  {
   "cell_type": "code",
   "execution_count": 223,
   "metadata": {
    "collapsed": false
   },
   "outputs": [
    {
     "name": "stdout",
     "output_type": "stream",
     "text": [
      "__class__\n",
      "__class__\n"
     ]
    }
   ],
   "source": [
    "AllTest = AllSensorData()\n",
    "AllTest.regist('left_hand','Conv-left-hand-ags.csv')\n",
    "AllTest.regist('right_leg','Conv-right-leg-ags.csv')"
   ]
  },
  {
   "cell_type": "code",
   "execution_count": 224,
   "metadata": {
    "collapsed": false
   },
   "outputs": [
    {
     "name": "stdout",
     "output_type": "stream",
     "text": [
      "AccX : \n",
      "[ 0.8226  0.8058  0.8292 ..., -0.1397 -0.1346 -0.1292]\n",
      "AccY : \n",
      "[ 0.7922  0.8437  0.9091 ...,  0.7067  0.7526  0.8188]\n",
      "AccZ : \n",
      "[-0.0543 -0.0582 -0.0231 ..., -0.5123 -0.4901 -0.5248]\n",
      "GyrX : \n",
      "[ 353.11  361.41  353.95 ...,   -4.59   -2.53   -2.67]\n",
      "GyrY : \n",
      "[ 71.96  59.74  48.03 ...,  56.    57.86  60.15]\n",
      "GyrZ : \n",
      "[ -9.53 -22.7  -34.02 ..., -36.9  -32.73 -29.73]\n",
      "None\n"
     ]
    }
   ],
   "source": [
    "AllTest.ShowData('left_hand')"
   ]
  },
  {
   "cell_type": "code",
   "execution_count": 225,
   "metadata": {
    "collapsed": false
   },
   "outputs": [
    {
     "name": "stdout",
     "output_type": "stream",
     "text": [
      "AccX : \n",
      "[ 0.8565  0.8391  0.8926 ...,  0.9554  0.9534  0.9619]\n",
      "AccY : \n",
      "[ 0.0087 -0.0596 -0.0813 ..., -0.28   -0.2688 -0.2673]\n",
      "AccZ : \n",
      "[ 0.209   0.157   0.1709 ...,  0.0203  0.0527  0.0481]\n",
      "GyrX : \n",
      "[-21.33 -23.51 -14.14 ...,   7.81   7.21   6.54]\n",
      "GyrY : \n",
      "[ -4.79   7.47  17.92 ...,   6.63   5.67   5.02]\n",
      "GyrZ : \n",
      "[ 13.29   5.15  -5.34 ...,  -7.26  -7.03  -6.23]\n",
      "None\n"
     ]
    }
   ],
   "source": [
    "AllTest.ShowData('right_leg')"
   ]
  },
  {
   "cell_type": "code",
   "execution_count": 226,
   "metadata": {
    "collapsed": false
   },
   "outputs": [
    {
     "name": "stdout",
     "output_type": "stream",
     "text": [
      "left_hand\n",
      "startAccX->fft_AccX\n",
      "_sliding_window IndexError\n",
      "CalcFFTStopIteration\n",
      "startAccY->fft_AccY\n",
      "_sliding_window IndexError\n",
      "CalcFFTStopIteration\n",
      "startAccZ->fft_AccZ\n",
      "_sliding_window IndexError\n",
      "CalcFFTStopIteration\n",
      "startGyrX->fft_GyrX\n",
      "_sliding_window IndexError\n",
      "CalcFFTStopIteration\n",
      "startGyrY->fft_GyrY\n",
      "_sliding_window IndexError\n",
      "CalcFFTStopIteration\n",
      "startGyrZ->fft_GyrZ\n",
      "_sliding_window IndexError\n",
      "CalcFFTStopIteration\n",
      "elapsed_time:5.95280098915[sec]\n"
     ]
    }
   ],
   "source": [
    "AllTest.ExecFFT('left_hand',16)"
   ]
  },
  {
   "cell_type": "code",
   "execution_count": 227,
   "metadata": {
    "collapsed": false
   },
   "outputs": [
    {
     "name": "stdout",
     "output_type": "stream",
     "text": [
      "right_leg\n",
      "startAccX->fft_AccX\n",
      "_sliding_window IndexError\n",
      "CalcFFTStopIteration\n",
      "startAccY->fft_AccY\n",
      "_sliding_window IndexError\n",
      "CalcFFTStopIteration\n",
      "startAccZ->fft_AccZ\n",
      "_sliding_window IndexError\n",
      "CalcFFTStopIteration\n",
      "startGyrX->fft_GyrX\n",
      "_sliding_window IndexError\n",
      "CalcFFTStopIteration\n",
      "startGyrY->fft_GyrY\n",
      "_sliding_window IndexError\n",
      "CalcFFTStopIteration\n",
      "startGyrZ->fft_GyrZ\n",
      "_sliding_window IndexError\n",
      "CalcFFTStopIteration\n",
      "elapsed_time:6.05334711075[sec]\n"
     ]
    }
   ],
   "source": [
    "AllTest.ExecFFT('right_leg',16)"
   ]
  },
  {
   "cell_type": "code",
   "execution_count": 228,
   "metadata": {
    "collapsed": false
   },
   "outputs": [
    {
     "name": "stdout",
     "output_type": "stream",
     "text": [
      "left_hand\n",
      "[[ 0.37920144-0.05929202j -0.05606245-0.02899706j  0.04128879-0.0864666j\n",
      "  ...,  0.01606245+0.02560294j  0.05219851+0.06089044j  0.11930000+0.j        ]\n",
      " [ 0.09903043-0.92279313j  0.27451966-0.49979698j  0.15211482-0.28934496j\n",
      "  ...,  0.17708034-0.09459698j  0.16682011-0.03510812j  0.19270000+0.j        ]\n",
      " [ 0.38919818+0.18367701j  0.01575534+0.14228835j -0.00706838+0.11749315j\n",
      "  ..., -0.05495534+0.03448835j -0.04392128-0.00738628j -0.05050000+0.j        ]\n",
      " ..., \n",
      " [-0.41038202-0.19909711j -0.37146435+0.13109855j  0.06954730+0.09766265j\n",
      "  ..., -0.06613565+0.00989855j -0.03534312-0.02376532j -0.08550000+0.j        ]\n",
      " [ 0.25773225+0.66071007j -0.25461936+0.26735258j -0.01388304+0.20446779j\n",
      "  ..., -0.08958064+0.05155258j -0.09345433+0.02243494j -0.12290000+0.j        ]\n",
      " [ 0.30710427+0.04456604j  0.02138894-0.0667804j   0.02723755+0.03917587j\n",
      "  ..., -0.02018894+0.0826196j  -0.06477277-0.07910414j  0.08690000+0.j        ]]\n",
      "[[ 0.37920144-0.05929202j -0.05606245-0.02899706j  0.04128879-0.0864666j\n",
      "  ...,  0.01606245+0.02560294j  0.05219851+0.06089044j  0.11930000+0.j        ]\n",
      " [ 0.09903043-0.92279313j  0.27451966-0.49979698j  0.15211482-0.28934496j\n",
      "  ...,  0.17708034-0.09459698j  0.16682011-0.03510812j  0.19270000+0.j        ]\n",
      " [ 0.38919818+0.18367701j  0.01575534+0.14228835j -0.00706838+0.11749315j\n",
      "  ..., -0.05495534+0.03448835j -0.04392128-0.00738628j -0.05050000+0.j        ]\n",
      " ..., \n",
      " [-0.84526362+1.74003542j  0.28683700+0.28611467j -0.01702327-0.00334136j\n",
      "  ..., -0.05483700+0.09091467j -0.12149851+0.00851502j -0.10320000+0.j        ]\n",
      " [ 0.33022359-0.08494462j  0.06534773+0.16870824j -0.21422748+0.09595315j\n",
      "  ..., -0.02374773-0.04369176j -0.04262596+0.02143183j  0.01860000+0.j        ]\n",
      " [ 0.48362362-0.39900696j  0.26757830-0.24070765j -0.00151927-0.07658143j\n",
      "  ...,  0.08882170-0.01950765j  0.10093726-0.0155269j   0.10180000+0.j        ]]\n",
      "[[ 0.37920144-0.05929202j -0.05606245-0.02899706j  0.04128879-0.0864666j\n",
      "  ...,  0.01606245+0.02560294j  0.05219851+0.06089044j  0.11930000+0.j        ]\n",
      " [ 0.09903043-0.92279313j  0.27451966-0.49979698j  0.15211482-0.28934496j\n",
      "  ...,  0.17708034-0.09459698j  0.16682011-0.03510812j  0.19270000+0.j        ]\n",
      " [ 0.38919818+0.18367701j  0.01575534+0.14228835j -0.00706838+0.11749315j\n",
      "  ..., -0.05495534+0.03448835j -0.04392128-0.00738628j -0.05050000+0.j        ]\n",
      " ..., \n",
      " [-0.63392402-1.76269188j -0.30421797-0.23827979j  0.28550869-0.31931077j\n",
      "  ...,  0.08341797-0.07807979j  0.13855385-0.04565437j  0.22580000+0.j        ]\n",
      " [ 0.14459308+0.86795411j -0.19473250+0.07387363j  0.02110519+0.2762247j\n",
      "  ..., -0.06886750+0.11987363j -0.06686088-0.03532198j -0.16760000+0.j        ]\n",
      " [ 0.88401445+0.28329363j -0.03076016-0.08607235j  0.08187974-0.23794682j\n",
      "  ..., -0.00883984-0.01787235j  0.01570190+0.0434856j   0.09420000+0.j        ]]\n",
      "[[  3.79201435e-01 -5.92920209e-02j  -5.60624458e-02 -2.89970563e-02j\n",
      "    4.12887930e-02 -8.64666011e-02j ...,   1.60624458e-02 +2.56029437e-02j\n",
      "    5.21985141e-02 +6.08904393e-02j   1.19300000e-01 +0.00000000e+00j]\n",
      " [  9.90304338e-02 -9.22793131e-01j   2.74519657e-01 -4.99796980e-01j\n",
      "    1.52114823e-01 -2.89344957e-01j ...,   1.77080343e-01 -9.45969801e-02j\n",
      "    1.66820115e-01 -3.51081242e-02j   1.92700000e-01 +0.00000000e+00j]\n",
      " [  3.89198181e-01 +1.83677008e-01j   1.57553391e-02 +1.42288348e-01j\n",
      "   -7.06838029e-03 +1.17493146e-01j ...,  -5.49553391e-02 +3.44883476e-02j\n",
      "   -4.39212764e-02 -7.38627506e-03j  -5.05000000e-02 +0.00000000e+00j]\n",
      " ..., \n",
      " [ -2.08459274e+02 -6.96211850e+01j  -3.88941992e+00 +4.52025346e+01j\n",
      "   -7.32915574e+00 +4.12845262e+00j ...,  -1.47505801e+01 +6.64253460e+00j\n",
      "   -1.20653811e+01 +3.34635750e+00j  -1.09400000e+01 +0.00000000e+00j]\n",
      " [  1.52712282e+02 +1.23964441e+01j  -1.20419571e+01 -3.10187338e+00j\n",
      "    5.15854247e+00 -2.20243274e+01j ...,   9.24195706e+00 +9.38126625e-01j\n",
      "    5.85417396e+00 -2.41252991e+00j   1.41000000e+00 +0.00000000e+00j]\n",
      " [  8.98548772e+01 +7.45206680e+01j  -8.83669660e+00 -1.81889419e+01j\n",
      "   -1.99653473e+01 -1.70800717e+01j ...,   2.56696603e-01 -3.68894190e+00j\n",
      "    1.02070065e+00 +1.69319579e-01j   1.70000000e-01 +0.00000000e+00j]]\n",
      "[[  3.79201435e-01 -5.92920209e-02j  -5.60624458e-02 -2.89970563e-02j\n",
      "    4.12887930e-02 -8.64666011e-02j ...,   1.60624458e-02 +2.56029437e-02j\n",
      "    5.21985141e-02 +6.08904393e-02j   1.19300000e-01 +0.00000000e+00j]\n",
      " [  9.90304338e-02 -9.22793131e-01j   2.74519657e-01 -4.99796980e-01j\n",
      "    1.52114823e-01 -2.89344957e-01j ...,   1.77080343e-01 -9.45969801e-02j\n",
      "    1.66820115e-01 -3.51081242e-02j   1.92700000e-01 +0.00000000e+00j]\n",
      " [  3.89198181e-01 +1.83677008e-01j   1.57553391e-02 +1.42288348e-01j\n",
      "   -7.06838029e-03 +1.17493146e-01j ...,  -5.49553391e-02 +3.44883476e-02j\n",
      "   -4.39212764e-02 -7.38627506e-03j  -5.05000000e-02 +0.00000000e+00j]\n",
      " ..., \n",
      " [ -1.15619593e+02 +2.20863084e+02j  -4.73593669e+01 +9.48595623e+01j\n",
      "   -4.27272347e+01 +4.76635536e+01j ...,  -3.65406331e+01 +1.46995623e+01j\n",
      "   -3.66391772e+01 +7.50002799e+00j  -3.47200000e+01 +0.00000000e+00j]\n",
      " [  7.67041490e+01 +4.71065409e+00j   3.48741595e+00 -7.96574206e+00j\n",
      "    8.33701942e+00 -1.00796796e+01j ...,   5.79258405e+00 +6.54257941e-01j\n",
      "    5.40650972e+00 -2.21402628e+00j   3.08000000e+00 +0.00000000e+00j]\n",
      " [  5.31657506e+01 -5.76949710e+01j   4.27093362e+00 -1.92964293e+01j\n",
      "    4.53222564e+00 -1.25774728e+01j ...,   7.26906638e+00 -3.07642928e+00j\n",
      "    7.51119963e+00 -8.47542094e-03j   8.82000000e+00 +0.00000000e+00j]]\n",
      "[[  3.79201435e-01 -5.92920209e-02j  -5.60624458e-02 -2.89970563e-02j\n",
      "    4.12887930e-02 -8.64666011e-02j ...,   1.60624458e-02 +2.56029437e-02j\n",
      "    5.21985141e-02 +6.08904393e-02j   1.19300000e-01 +0.00000000e+00j]\n",
      " [  9.90304338e-02 -9.22793131e-01j   2.74519657e-01 -4.99796980e-01j\n",
      "    1.52114823e-01 -2.89344957e-01j ...,   1.77080343e-01 -9.45969801e-02j\n",
      "    1.66820115e-01 -3.51081242e-02j   1.92700000e-01 +0.00000000e+00j]\n",
      " [  3.89198181e-01 +1.83677008e-01j   1.57553391e-02 +1.42288348e-01j\n",
      "   -7.06838029e-03 +1.17493146e-01j ...,  -5.49553391e-02 +3.44883476e-02j\n",
      "   -4.39212764e-02 -7.38627506e-03j  -5.05000000e-02 +0.00000000e+00j]\n",
      " ..., \n",
      " [ -5.96117733e+01 -5.67714984e+01j  -2.07360130e+01 -9.49538239e+00j\n",
      "   -1.16093406e+01 +5.81156222e-01j ...,   1.15601297e+00 -3.51538239e+00j\n",
      "    3.86629495e+00 -1.34405392e-01j   2.48000000e+00 +0.00000000e+00j]\n",
      " [  3.61397985e+01 -4.42687892e+01j   2.36890368e+01 -3.63145029e+01j\n",
      "    1.51211328e+01 -2.11425078e+01j ...,   1.39309632e+01 -5.57450286e+00j\n",
      "    1.57429555e+01 -1.96517813e+00j   1.43400000e+01 +0.00000000e+00j]\n",
      " [ -4.87714696e+01 -3.39964000e+01j  -1.59053676e+01 +4.24407684e+00j\n",
      "    7.30032549e-01 -2.26883088e+00j ...,   4.85367594e-01 +1.14407684e+00j\n",
      "    1.81569686e+00 -7.59146766e-01j   6.70000000e-01 +0.00000000e+00j]]\n"
     ]
    }
   ],
   "source": [
    "AllTest.DispFFT('left_hand',16)"
   ]
  },
  {
   "cell_type": "code",
   "execution_count": 229,
   "metadata": {
    "collapsed": false
   },
   "outputs": [
    {
     "name": "stdout",
     "output_type": "stream",
     "text": [
      "right_leg\n",
      "[[ 0.18918139+0.53636481j -0.10848650+0.23996887j -0.18146697+0.18075618j\n",
      "  ..., -0.08331350+0.08416887j -0.07049860+0.01898412j -0.08560000+0.j        ]\n",
      " [-0.29460938-0.40254504j  0.02090725-0.16157155j  0.05883569-0.09217763j\n",
      "  ...,  0.05329275-0.02977155j  0.06774223-0.00630691j  0.05470000+0.j        ]\n",
      " [ 0.87916669+1.30013644j -1.05767381+1.11453425j -1.03616793-0.52221813j\n",
      "  ...,  0.52907381-0.04906575j -0.05488085+0.2882013j   0.15530000+0.j        ]\n",
      " ..., \n",
      " [-0.04969063-0.02721006j  0.02955914+0.12793114j  0.07629629-0.00991074j\n",
      "  ..., -0.03195914+0.02353114j -0.02192056+0.00235949j -0.02570000+0.j        ]\n",
      " [ 0.22240105-0.18728499j  0.04075772-0.10320078j  0.03319202-0.05019173j\n",
      "  ...,  0.03524228-0.00640078j  0.05850273-0.02156943j  0.05690000+0.j        ]\n",
      " [-0.22815089+0.05091498j  0.07373940+0.01295097j -0.01489403+0.03022817j\n",
      "  ..., -0.00573940+0.00515097j -0.00989675+0.02194959j  0.00670000+0.j        ]]\n",
      "[[ 0.18918139+0.53636481j -0.10848650+0.23996887j -0.18146697+0.18075618j\n",
      "  ..., -0.08331350+0.08416887j -0.07049860+0.01898412j -0.08560000+0.j        ]\n",
      " [-0.29460938-0.40254504j  0.02090725-0.16157155j  0.05883569-0.09217763j\n",
      "  ...,  0.05329275-0.02977155j  0.06774223-0.00630691j  0.05470000+0.j        ]\n",
      " [ 0.87916669+1.30013644j -1.05767381+1.11453425j -1.03616793-0.52221813j\n",
      "  ...,  0.52907381-0.04906575j -0.05488085+0.2882013j   0.15530000+0.j        ]\n",
      " ..., \n",
      " [ 0.18873979-0.25233099j  0.11358032-0.11915921j  0.20504674-0.03661926j\n",
      "  ...,  0.01401968-0.02395921j  0.03350386+0.00946093j  0.03080000+0.j        ]\n",
      " [ 0.26272071-0.17597019j  0.14125326-0.08194342j  0.07317382-0.11421601j\n",
      "  ...,  0.07294674-0.03614342j  0.05449606+0.00550487j  0.07990000+0.j        ]\n",
      " [-0.08153506+0.20144854j  0.03225914+0.0429697j  -0.05138868+0.05863656j\n",
      "  ..., -0.02925914-0.0032303j  -0.00708575+0.04373471j -0.01470000+0.j        ]]\n",
      "[[ 0.18918139 +5.36364809e-01j -0.10848650 +2.39968874e-01j\n",
      "  -0.18146697 +1.80756180e-01j ..., -0.08331350 +8.41688742e-02j\n",
      "  -0.07049860 +1.89841236e-02j -0.08560000 +0.00000000e+00j]\n",
      " [-0.29460938 -4.02545043e-01j  0.02090725 -1.61571547e-01j\n",
      "   0.05883569 -9.21776275e-02j ...,  0.05329275 -2.97715475e-02j\n",
      "   0.06774223 -6.30691187e-03j  0.05470000 +0.00000000e+00j]\n",
      " [ 0.87916669 +1.30013644e+00j -1.05767381 +1.11453425e+00j\n",
      "  -1.03616793 -5.22218135e-01j ...,  0.52907381 -4.90657511e-02j\n",
      "  -0.05488085 +2.88201304e-01j  0.15530000 +0.00000000e+00j]\n",
      " ..., \n",
      " [-0.30055298 -7.24931758e-02j  0.08297401 -4.46920923e-02j\n",
      "   0.11483017 -1.78811094e-01j ...,  0.07222599 -4.12920923e-02j\n",
      "   0.07723689 -1.69817835e-02j  0.11490000 +0.00000000e+00j]\n",
      " [-0.21870039 +1.00797353e-01j -0.10789417 +1.35787276e-01j\n",
      "  -0.00870663 +1.01278724e-01j ..., -0.01950583 -1.01272375e-03j\n",
      "  -0.04168523 +3.96707921e-03j  0.00920000 +0.00000000e+00j]\n",
      " [-0.01526745 +4.88604418e-01j -0.18272088 +1.33682608e-01j\n",
      "  -0.07146188 +7.56483523e-02j ..., -0.07707912 +1.60826081e-02j\n",
      "  -0.08680463 +2.37336965e-02j -0.05980000 +0.00000000e+00j]]\n",
      "[[  0.18918139 +5.36364809e-01j  -0.10848650 +2.39968874e-01j\n",
      "   -0.18146697 +1.80756180e-01j ...,  -0.08331350 +8.41688742e-02j\n",
      "   -0.07049860 +1.89841236e-02j  -0.08560000 +0.00000000e+00j]\n",
      " [ -0.29460938 -4.02545043e-01j   0.02090725 -1.61571547e-01j\n",
      "    0.05883569 -9.21776275e-02j ...,   0.05329275 -2.97715475e-02j\n",
      "    0.06774223 -6.30691187e-03j   0.05470000 +0.00000000e+00j]\n",
      " [  0.87916669 +1.30013644e+00j  -1.05767381 +1.11453425e+00j\n",
      "   -1.03616793 -5.22218135e-01j ...,   0.52907381 -4.90657511e-02j\n",
      "   -0.05488085 +2.88201304e-01j   0.15530000 +0.00000000e+00j]\n",
      " ..., \n",
      " [-17.35705168 +4.91404100e+01j  -2.20066017 +4.01792842e+01j\n",
      "   -1.97401219 +1.61403427e+01j ...,  -0.07933983 -9.20715754e-01j\n",
      "    0.13243047 +3.87985100e-01j   1.81000000 +0.00000000e+00j]\n",
      " [  3.76330502 +2.01484321e+01j  -5.05745779 -1.03933983e-01j\n",
      "    6.88752876 +4.39784459e+00j ...,   2.19745779 +3.16066017e-01j\n",
      "    1.30265386 +1.66023019e-01j   1.43000000 +0.00000000e+00j]\n",
      " [  7.35132986 +3.07171887e+01j  -9.32868578 +2.23645768e+01j\n",
      "   -8.39671865 +5.81847799e+00j ...,  -5.41131422 +2.62457682e+00j\n",
      "   -5.62504343 +6.42778167e-01j  -5.59000000 +0.00000000e+00j]]\n",
      "[[  1.89181392e-01 +5.36364809e-01j  -1.08486501e-01 +2.39968874e-01j\n",
      "   -1.81466967e-01 +1.80756180e-01j ...,  -8.33134993e-02 +8.41688742e-02j\n",
      "   -7.04986003e-02 +1.89841236e-02j  -8.56000000e-02 +0.00000000e+00j]\n",
      " [ -2.94609377e-01 -4.02545043e-01j   2.09072547e-02 -1.61571547e-01j\n",
      "    5.88356879e-02 -9.21776275e-02j ...,   5.32927453e-02 -2.97715475e-02j\n",
      "    6.77422275e-02 -6.30691187e-03j   5.47000000e-02 +0.00000000e+00j]\n",
      " [  8.79166690e-01 +1.30013644e+00j  -1.05767381e+00 +1.11453425e+00j\n",
      "   -1.03616793e+00 -5.22218135e-01j ...,   5.29073808e-01 -4.90657511e-02j\n",
      "   -5.48808467e-02 +2.88201304e-01j   1.55300000e-01 +0.00000000e+00j]\n",
      " ..., \n",
      " [  8.28675755e+00 -2.91387046e+01j   6.04161472e+00 -1.18145498e+01j\n",
      "    8.32714293e-01 -4.33500753e+00j ...,   2.13838528e+00 -2.34549776e-01j\n",
      "    1.99002527e+00 -5.50812095e-01j   1.60000000e+00 +0.00000000e+00j]\n",
      " [ -1.16093454e+01 +2.86890471e+01j  -6.12490332e+00 +2.13302265e+01j\n",
      "   -7.28359022e+00 +1.13101960e+01j ...,  -7.93509668e+00 +3.39022654e+00j\n",
      "   -8.34895983e+00 +2.04375349e+00j  -8.26000000e+00 +0.00000000e+00j]\n",
      " [ -3.18140053e+01 -1.96000571e+01j   2.58828427e+00 -1.17695245e+01j\n",
      "    8.45811801e-01 -5.65853580e+00j ...,   2.53171573e+00 -1.26952452e+00j\n",
      "    3.00753419e+00 -8.08775023e-01j   2.23000000e+00 +0.00000000e+00j]]\n",
      "[[  1.89181392e-01 +5.36364809e-01j  -1.08486501e-01 +2.39968874e-01j\n",
      "   -1.81466967e-01 +1.80756180e-01j ...,  -8.33134993e-02 +8.41688742e-02j\n",
      "   -7.04986003e-02 +1.89841236e-02j  -8.56000000e-02 +0.00000000e+00j]\n",
      " [ -2.94609377e-01 -4.02545043e-01j   2.09072547e-02 -1.61571547e-01j\n",
      "    5.88356879e-02 -9.21776275e-02j ...,   5.32927453e-02 -2.97715475e-02j\n",
      "    6.77422275e-02 -6.30691187e-03j   5.47000000e-02 +0.00000000e+00j]\n",
      " [  8.79166690e-01 +1.30013644e+00j  -1.05767381e+00 +1.11453425e+00j\n",
      "   -1.03616793e+00 -5.22218135e-01j ...,   5.29073808e-01 -4.90657511e-02j\n",
      "   -5.48808467e-02 +2.88201304e-01j   1.55300000e-01 +0.00000000e+00j]\n",
      " ..., \n",
      " [ -1.68395930e-01 -4.70776482e+01j   4.85796898e+00 -2.58758109e+01j\n",
      "    6.88476556e+00 -1.79150383e+01j ...,   9.24203102e+00 -3.93581095e+00j\n",
      "    9.94925813e+00 -2.03036176e+00j   9.78000000e+00 +0.00000000e+00j]\n",
      " [  1.14711697e+01 -6.44080430e+01j   1.34514571e+01 -3.21808423e+01j\n",
      "    1.14679040e+01 -1.84840455e+01j ...,   1.17685429e+01 -4.80084233e+00j\n",
      "    1.24381196e+01 -2.60944494e+00j   1.29100000e+01 +0.00000000e+00j]\n",
      " [  2.45532203e+01 -7.64241953e+00j   2.77012193e+00 -2.77534055e+00j\n",
      "    4.71669833e+00 -2.22634450e+00j ...,   1.94987807e+00 -6.75340546e-01j\n",
      "    2.34384824e+00 -8.64459219e-01j   2.25000000e+00 +0.00000000e+00j]]\n"
     ]
    }
   ],
   "source": [
    "AllTest.DispFFT('right_leg',16)"
   ]
  },
  {
   "cell_type": "code",
   "execution_count": null,
   "metadata": {
    "collapsed": false
   },
   "outputs": [
    {
     "name": "stdout",
     "output_type": "stream",
     "text": [
      "left_hand\n",
      "startfft_AccX->power_AccX\n",
      "startfft_AccY->power_AccY\n",
      "startfft_AccZ->power_AccZ\n",
      "startfft_GyrX->power_GyrX\n",
      "startfft_GyrY->power_GyrY\n",
      "startfft_GyrZ->power_GyrZ\n",
      "elapsed_time:3.73180413246[sec]\n",
      "right_leg\n",
      "startfft_AccX->power_AccX\n",
      "startfft_AccY->power_AccY\n",
      "startfft_AccZ->power_AccZ\n",
      "startfft_GyrX->power_GyrX\n",
      "startfft_GyrY->power_GyrY\n",
      "startfft_GyrZ->power_GyrZ\n",
      "elapsed_time:3.62736821175[sec]\n"
     ]
    }
   ],
   "source": [
    "AllTest.ExecPower('left_hand',16)\n",
    "AllTest.ExecPower('right_leg',16)"
   ]
  },
  {
   "cell_type": "code",
   "execution_count": null,
   "metadata": {
    "collapsed": false
   },
   "outputs": [],
   "source": [
    "AllTest.ExecKLD('left_hand','AccX','right_leg','AccX',samp=16)"
   ]
  },
  {
   "cell_type": "code",
   "execution_count": null,
   "metadata": {
    "collapsed": true
   },
   "outputs": [],
   "source": []
  },
  {
   "cell_type": "code",
   "execution_count": null,
   "metadata": {
    "collapsed": true
   },
   "outputs": [],
   "source": []
  },
  {
   "cell_type": "code",
   "execution_count": null,
   "metadata": {
    "collapsed": true
   },
   "outputs": [],
   "source": []
  },
  {
   "cell_type": "code",
   "execution_count": null,
   "metadata": {
    "collapsed": true
   },
   "outputs": [],
   "source": []
  },
  {
   "cell_type": "code",
   "execution_count": null,
   "metadata": {
    "collapsed": true
   },
   "outputs": [],
   "source": []
  }
 ],
 "metadata": {
  "kernelspec": {
   "display_name": "Python 2",
   "language": "python",
   "name": "python2"
  },
  "language_info": {
   "codemirror_mode": {
    "name": "ipython",
    "version": 2
   },
   "file_extension": ".py",
   "mimetype": "text/x-python",
   "name": "python",
   "nbconvert_exporter": "python",
   "pygments_lexer": "ipython2",
   "version": "2.7.10"
  }
 },
 "nbformat": 4,
 "nbformat_minor": 0
}
