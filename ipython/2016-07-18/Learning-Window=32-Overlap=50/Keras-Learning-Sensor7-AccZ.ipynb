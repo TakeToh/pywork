{
 "cells": [
  {
   "cell_type": "markdown",
   "metadata": {},
   "source": [
    "important 変数を個々に定義する"
   ]
  },
  {
   "cell_type": "code",
   "execution_count": 1,
   "metadata": {
    "collapsed": true
   },
   "outputs": [],
   "source": [
    "SensorNum=7 # Sensor number\n",
    "SampleNum=32 # Window Width\n",
    "Overlap=0.5 # overlap\n",
    "width=1000 # graph width \n",
    "EncodingDim=[4,8,12,16,32,64] # number of hidden layer note \n",
    "Axis='AccZ' # Axis"
   ]
  },
  {
   "cell_type": "code",
   "execution_count": 2,
   "metadata": {
    "collapsed": false
   },
   "outputs": [],
   "source": [
    "import numpy as np\n",
    "import pandas as pd\n",
    "from scipy import fftpack\n",
    "from scipy import signal\n",
    "import time\n",
    "import os\n",
    "import matplotlib.pyplot as plt\n",
    "import pylab\n",
    "import pickle\n",
    "import copy\n",
    "\n",
    "import processing\n",
    "import window\n",
    "\n",
    "import matplotlib.animation as animation\n",
    "import datetime\n",
    "\n",
    "%matplotlib inline"
   ]
  },
  {
   "cell_type": "code",
   "execution_count": 3,
   "metadata": {
    "collapsed": false
   },
   "outputs": [
    {
     "name": "stderr",
     "output_type": "stream",
     "text": [
      "Using Theano backend.\n",
      "Using gpu device 0: GeForce GTX 970 (CNMeM is disabled, cuDNN 4007)\n"
     ]
    }
   ],
   "source": [
    "from keras.models import Sequential\n",
    "from keras.datasets import cifar10\n",
    "from keras.layers import Dense, Activation, Flatten\n",
    "from keras.optimizers import Adadelta\n",
    "from keras.utils import np_utils\n",
    "from keras.layers.convolutional import Convolution2D, MaxPooling2D\n",
    "from keras.utils.visualize_util import model_to_dot, plot\n",
    "from keras import backend as K\n",
    "from keras.layers import Input, Dense\n",
    "from keras.models import Model\n",
    "from keras.callbacks import EarlyStopping\n",
    "\n",
    "import matplotlib.image as mpimg\n"
   ]
  },
  {
   "cell_type": "code",
   "execution_count": 4,
   "metadata": {
    "collapsed": true
   },
   "outputs": [],
   "source": [
    "DataName='sensor'+str(SensorNum)+'_'+Axis\n",
    "SensorName='sensor'+str(SensorNum)\n",
    "DicName='MemSensor'+str(SensorNum)"
   ]
  },
  {
   "cell_type": "code",
   "execution_count": 5,
   "metadata": {
    "collapsed": false
   },
   "outputs": [],
   "source": [
    "WORKSPACE_PATH = '/home/takeyama/pywork/ipython/2016-07-11'\n",
    "\n",
    "StudyDataPath=WORKSPACE_PATH+'/Study/'+DataName+'/'+'Window='+str(SampleNum)+'-Overlap='+str(Overlap*100)+'/'\n",
    "if not os.path.exists(StudyDataPath): os.makedirs(StudyDataPath)\n",
    "\n",
    "GlaphDataPath=WORKSPACE_PATH+'/Graph/'+DataName+'/Learning-Window='+str(SampleNum)+'-Overlap='+str(Overlap*100)+'/'\n",
    "if not os.path.exists(GlaphDataPath): os.makedirs(GlaphDataPath)\n",
    "\n",
    "StudyDataModelPicPath=WORKSPACE_PATH+'/Study/'+DataName+'/modelPic-Window='+str(SampleNum)+'-Overlap='+str(Overlap*100)+'/'\n",
    "if not os.path.exists(StudyDataModelPicPath): os.makedirs(StudyDataModelPicPath)\n",
    "\n",
    "WindowDataPath=WORKSPACE_PATH+'/window/'\n",
    "RawDataPath=WORKSPACE_PATH+'/raw/'"
   ]
  },
  {
   "cell_type": "markdown",
   "metadata": {},
   "source": [
    "**Phase1 計測データの取得**"
   ]
  },
  {
   "cell_type": "code",
   "execution_count": 6,
   "metadata": {
    "collapsed": false
   },
   "outputs": [],
   "source": [
    "dic=processing.LoadDicDataFromFileNPZ(RawDataPath+DicName)"
   ]
  },
  {
   "cell_type": "markdown",
   "metadata": {},
   "source": [
    "**Phase2 window flame 作成**"
   ]
  },
  {
   "cell_type": "code",
   "execution_count": 7,
   "metadata": {
    "collapsed": false
   },
   "outputs": [
    {
     "name": "stdout",
     "output_type": "stream",
     "text": [
      "AccZ is registed now\n",
      "Build Complete\n",
      "(254742,)\n"
     ]
    }
   ],
   "source": [
    "w=window.Window()\n",
    "w.SetData(Axis,dic[Axis])\n",
    "wind=w.Compile(windowWidth=SampleNum,overlap=Overlap)\n",
    "windoW=wind.reshape((len(wind),np.prod(wind.shape[1:])))"
   ]
  },
  {
   "cell_type": "code",
   "execution_count": 8,
   "metadata": {
    "collapsed": false
   },
   "outputs": [
    {
     "data": {
      "text/plain": [
       "(7960, 32)"
      ]
     },
     "execution_count": 8,
     "metadata": {},
     "output_type": "execute_result"
    }
   ],
   "source": [
    "windoW.shape"
   ]
  },
  {
   "cell_type": "markdown",
   "metadata": {},
   "source": [
    "**前回やった学習をもう１度やってみる**"
   ]
  },
  {
   "cell_type": "code",
   "execution_count": 9,
   "metadata": {
    "collapsed": false,
    "scrolled": true
   },
   "outputs": [
    {
     "name": "stdout",
     "output_type": "stream",
     "text": [
      "Train on 7960 samples, validate on 7960 samples\n",
      "Epoch 1/50\n",
      "7960/7960 [==============================] - 1s - loss: 0.1059 - val_loss: 0.0029\n",
      "Epoch 2/50\n",
      "7960/7960 [==============================] - 1s - loss: 0.0014 - val_loss: 7.9088e-04\n",
      "Epoch 3/50\n",
      "7960/7960 [==============================] - 2s - loss: 7.6539e-04 - val_loss: 7.1583e-04\n",
      "Epoch 4/50\n",
      "7960/7960 [==============================] - 2s - loss: 7.0541e-04 - val_loss: 6.4293e-04\n",
      "Epoch 5/50\n",
      "7960/7960 [==============================] - 2s - loss: 6.7352e-04 - val_loss: 6.9307e-04\n",
      "Epoch 6/50\n",
      "7960/7960 [==============================] - 2s - loss: 6.5237e-04 - val_loss: 6.0003e-04\n",
      "Epoch 7/50\n",
      "7960/7960 [==============================] - 2s - loss: 6.2717e-04 - val_loss: 6.6303e-04\n",
      "Epoch 8/50\n",
      "7960/7960 [==============================] - 2s - loss: 6.1672e-04 - val_loss: 5.8762e-04\n",
      "Epoch 9/50\n",
      "7960/7960 [==============================] - 2s - loss: 5.9120e-04 - val_loss: 5.3306e-04\n",
      "Epoch 10/50\n",
      "7960/7960 [==============================] - 3s - loss: 5.7836e-04 - val_loss: 6.3688e-04\n",
      "Epoch 11/50\n",
      "7960/7960 [==============================] - 2s - loss: 5.6350e-04 - val_loss: 5.0568e-04\n",
      "Epoch 12/50\n",
      "7960/7960 [==============================] - 2s - loss: 5.5079e-04 - val_loss: 4.8755e-04\n",
      "Epoch 13/50\n",
      "7960/7960 [==============================] - 2s - loss: 5.3934e-04 - val_loss: 5.9658e-04\n",
      "Epoch 14/50\n",
      "7960/7960 [==============================] - 2s - loss: 5.2274e-04 - val_loss: 5.0765e-04\n",
      "Epoch 15/50\n",
      "7960/7960 [==============================] - 3s - loss: 5.0921e-04 - val_loss: 4.8901e-04\n"
     ]
    },
    {
     "data": {
      "image/png": "[encoded data removed]",
      "text/plain": [
       "<matplotlib.figure.Figure at 0x7f6756841990>"
      ]
     },
     "metadata": {},
     "output_type": "display_data"
    },
    {
     "name": "stdout",
     "output_type": "stream",
     "text": [
      "Train on 7960 samples, validate on 7960 samples\n",
      "Epoch 1/50\n",
      "7960/7960 [==============================] - 3s - loss: 0.0764 - val_loss: 0.0020\n",
      "Epoch 2/50\n",
      "7960/7960 [==============================] - 3s - loss: 0.0012 - val_loss: 8.2213e-04\n",
      "Epoch 3/50\n",
      "7960/7960 [==============================] - 3s - loss: 8.2883e-04 - val_loss: 7.7652e-04\n",
      "Epoch 4/50\n",
      "7960/7960 [==============================] - 2s - loss: 7.7574e-04 - val_loss: 7.8070e-04\n",
      "Epoch 5/50\n",
      "7960/7960 [==============================] - 2s - loss: 7.3819e-04 - val_loss: 7.0019e-04\n",
      "Epoch 6/50\n",
      "7960/7960 [==============================] - 2s - loss: 7.1386e-04 - val_loss: 7.0356e-04\n",
      "Epoch 7/50\n",
      "7960/7960 [==============================] - 2s - loss: 6.9009e-04 - val_loss: 6.1388e-04\n",
      "Epoch 8/50\n",
      "7960/7960 [==============================] - 2s - loss: 6.6267e-04 - val_loss: 5.9139e-04\n",
      "Epoch 9/50\n",
      "7960/7960 [==============================] - 2s - loss: 6.3923e-04 - val_loss: 6.6478e-04\n",
      "Epoch 10/50\n",
      "7960/7960 [==============================] - 2s - loss: 6.1516e-04 - val_loss: 6.0780e-04\n",
      "Epoch 11/50\n",
      "7960/7960 [==============================] - 2s - loss: 5.9743e-04 - val_loss: 7.0020e-04\n"
     ]
    },
    {
     "data": {
      "image/png": "[encoded data removed]",
      "text/plain": [
       "<matplotlib.figure.Figure at 0x7f67b1338750>"
      ]
     },
     "metadata": {},
     "output_type": "display_data"
    },
    {
     "name": "stdout",
     "output_type": "stream",
     "text": [
      "Train on 7960 samples, validate on 7960 samples\n",
      "Epoch 1/50\n",
      "7960/7960 [==============================] - 2s - loss: 0.0522 - val_loss: 0.0010\n",
      "Epoch 2/50\n",
      "7960/7960 [==============================] - 3s - loss: 7.8684e-04 - val_loss: 6.4451e-04\n",
      "Epoch 3/50\n",
      "7960/7960 [==============================] - 2s - loss: 6.6603e-04 - val_loss: 5.8297e-04\n",
      "Epoch 4/50\n",
      "7960/7960 [==============================] - 2s - loss: 6.2727e-04 - val_loss: 6.2246e-04\n",
      "Epoch 5/50\n",
      "7960/7960 [==============================] - 2s - loss: 5.8727e-04 - val_loss: 5.1051e-04\n",
      "Epoch 6/50\n",
      "7960/7960 [==============================] - 2s - loss: 5.6331e-04 - val_loss: 4.8968e-04\n",
      "Epoch 7/50\n",
      "7960/7960 [==============================] - 2s - loss: 5.3849e-04 - val_loss: 6.6145e-04\n",
      "Epoch 8/50\n",
      "7960/7960 [==============================] - 2s - loss: 5.0692e-04 - val_loss: 5.2066e-04\n",
      "Epoch 9/50\n",
      "7960/7960 [==============================] - 2s - loss: 5.0287e-04 - val_loss: 6.3666e-04\n"
     ]
    },
    {
     "data": {
      "image/png": "[encoded data removed]",
      "text/plain": [
       "<matplotlib.figure.Figure at 0x7f675a02bbd0>"
      ]
     },
     "metadata": {},
     "output_type": "display_data"
    },
    {
     "name": "stdout",
     "output_type": "stream",
     "text": [
      "Train on 7960 samples, validate on 7960 samples\n",
      "Epoch 1/50\n",
      "7960/7960 [==============================] - 3s - loss: 0.0534 - val_loss: 0.0010\n",
      "Epoch 2/50\n",
      "7960/7960 [==============================] - 3s - loss: 7.2361e-04 - val_loss: 5.9977e-04\n",
      "Epoch 3/50\n",
      "7960/7960 [==============================] - 2s - loss: 6.4324e-04 - val_loss: 9.3028e-04\n",
      "Epoch 4/50\n",
      "7960/7960 [==============================] - 2s - loss: 6.0613e-04 - val_loss: 5.3951e-04\n",
      "Epoch 5/50\n",
      "7960/7960 [==============================] - 2s - loss: 5.8227e-04 - val_loss: 5.0381e-04\n",
      "Epoch 6/50\n",
      "7960/7960 [==============================] - 2s - loss: 5.5289e-04 - val_loss: 4.6642e-04\n",
      "Epoch 7/50\n",
      "7960/7960 [==============================] - 2s - loss: 5.4319e-04 - val_loss: 5.1188e-04\n",
      "Epoch 8/50\n",
      "7960/7960 [==============================] - 3s - loss: 5.2862e-04 - val_loss: 4.2896e-04\n",
      "Epoch 9/50\n",
      "7960/7960 [==============================] - 3s - loss: 5.0446e-04 - val_loss: 7.7786e-04\n",
      "Epoch 10/50\n",
      "7960/7960 [==============================] - 2s - loss: 4.9139e-04 - val_loss: 3.8734e-04\n",
      "Epoch 11/50\n",
      "7960/7960 [==============================] - 2s - loss: 4.8712e-04 - val_loss: 4.3169e-04\n",
      "Epoch 12/50\n",
      "7960/7960 [==============================] - 3s - loss: 4.5322e-04 - val_loss: 5.3207e-04\n",
      "Epoch 13/50\n",
      "7960/7960 [==============================] - 3s - loss: 4.4336e-04 - val_loss: 3.4852e-04\n",
      "Epoch 14/50\n",
      "7960/7960 [==============================] - 2s - loss: 4.3505e-04 - val_loss: 3.8543e-04\n",
      "Epoch 15/50\n",
      "7960/7960 [==============================] - 3s - loss: 4.2030e-04 - val_loss: 3.3168e-04\n",
      "Epoch 16/50\n",
      "7960/7960 [==============================] - 2s - loss: 4.2437e-04 - val_loss: 3.2475e-04\n",
      "Epoch 17/50\n",
      "7960/7960 [==============================] - 3s - loss: 4.2795e-04 - val_loss: 3.8940e-04\n",
      "Epoch 18/50\n",
      "7960/7960 [==============================] - 2s - loss: 4.1065e-04 - val_loss: 4.5958e-04\n",
      "Epoch 19/50\n",
      "7960/7960 [==============================] - 2s - loss: 4.0422e-04 - val_loss: 3.1416e-04\n",
      "Epoch 20/50\n",
      "7960/7960 [==============================] - 3s - loss: 3.9430e-04 - val_loss: 6.1887e-04\n",
      "Epoch 21/50\n",
      "7960/7960 [==============================] - 2s - loss: 3.8700e-04 - val_loss: 2.8807e-04\n",
      "Epoch 22/50\n",
      "7960/7960 [==============================] - 2s - loss: 3.7593e-04 - val_loss: 3.1743e-04\n",
      "Epoch 23/50\n",
      "7960/7960 [==============================] - 2s - loss: 3.8533e-04 - val_loss: 4.6089e-04\n",
      "Epoch 24/50\n",
      "7960/7960 [==============================] - 2s - loss: 3.8049e-04 - val_loss: 2.7657e-04\n",
      "Epoch 25/50\n",
      "7960/7960 [==============================] - 2s - loss: 3.9443e-04 - val_loss: 2.8688e-04\n",
      "Epoch 26/50\n",
      "7960/7960 [==============================] - 2s - loss: 3.6329e-04 - val_loss: 5.0537e-04\n",
      "Epoch 27/50\n",
      "7960/7960 [==============================] - 2s - loss: 3.6282e-04 - val_loss: 2.8777e-04\n"
     ]
    },
    {
     "data": {
      "image/png": "[encoded data removed]",
      "text/plain": [
       "<matplotlib.figure.Figure at 0x7f675a4dca50>"
      ]
     },
     "metadata": {},
     "output_type": "display_data"
    },
    {
     "name": "stdout",
     "output_type": "stream",
     "text": [
      "Train on 7960 samples, validate on 7960 samples\n",
      "Epoch 1/50\n",
      "7960/7960 [==============================] - 2s - loss: 0.0377 - val_loss: 7.1277e-04\n",
      "Epoch 2/50\n",
      "7960/7960 [==============================] - 2s - loss: 6.8923e-04 - val_loss: 6.0259e-04\n",
      "Epoch 3/50\n",
      "7960/7960 [==============================] - 2s - loss: 6.1084e-04 - val_loss: 8.9013e-04\n",
      "Epoch 4/50\n",
      "7960/7960 [==============================] - 3s - loss: 5.6680e-04 - val_loss: 6.3168e-04\n",
      "Epoch 5/50\n",
      "7960/7960 [==============================] - 3s - loss: 5.4572e-04 - val_loss: 4.0727e-04\n",
      "Epoch 6/50\n",
      "7960/7960 [==============================] - 2s - loss: 4.9755e-04 - val_loss: 5.8561e-04\n",
      "Epoch 7/50\n",
      "7960/7960 [==============================] - 3s - loss: 4.7362e-04 - val_loss: 4.1140e-04\n",
      "Epoch 8/50\n",
      "7960/7960 [==============================] - 2s - loss: 4.6986e-04 - val_loss: 4.4347e-04\n"
     ]
    },
    {
     "data": {
      "image/png": "[encoded data removed]",
      "text/plain": [
       "<matplotlib.figure.Figure at 0x7f675d71d210>"
      ]
     },
     "metadata": {},
     "output_type": "display_data"
    },
    {
     "name": "stdout",
     "output_type": "stream",
     "text": [
      "Train on 7960 samples, validate on 7960 samples\n",
      "Epoch 1/50\n",
      "7960/7960 [==============================] - 3s - loss: 0.0280 - val_loss: 8.6817e-04\n",
      "Epoch 2/50\n",
      "7960/7960 [==============================] - 2s - loss: 8.4837e-04 - val_loss: 7.7270e-04\n",
      "Epoch 3/50\n",
      "7960/7960 [==============================] - 3s - loss: 7.3116e-04 - val_loss: 4.9356e-04\n",
      "Epoch 4/50\n",
      "7960/7960 [==============================] - 2s - loss: 6.5145e-04 - val_loss: 4.9500e-04\n",
      "Epoch 5/50\n",
      "7960/7960 [==============================] - 2s - loss: 6.1304e-04 - val_loss: 5.1062e-04\n",
      "Epoch 6/50\n",
      "7960/7960 [==============================] - 2s - loss: 5.6724e-04 - val_loss: 6.0492e-04\n"
     ]
    },
    {
     "data": {
      "image/png": "[encoded data removed]",
      "text/plain": [
       "<matplotlib.figure.Figure at 0x7f674fee2390>"
      ]
     },
     "metadata": {},
     "output_type": "display_data"
    }
   ],
   "source": [
    "# define SaveFileName\n",
    "for encoding_dim in EncodingDim:\n",
    "    SaveFileNameEncord=DataName+'_encoded'+'_edim='+str(encoding_dim)+'-Window='+str(SampleNum)+'-Overlap='+str(Overlap*100)\n",
    "    SaveFileNameDecord=DataName+'_decoded'+'_edim='+str(encoding_dim)+'-Window='+str(SampleNum)+'-Overlap='+str(Overlap*100)\n",
    "    SaveFileNameNet=DataName+'_net'+'_edim='+str(encoding_dim)+'-Window='+str(SampleNum)+'-Overlap='+str(Overlap*100)\n",
    "    SaveFileNameTrain=DataName+'_train'+'_edim='+str(encoding_dim)+'-Window='+str(SampleNum)+'-Overlap='+str(Overlap*100)\n",
    "    SaveFileNameTest=DataName+'_test'+'_edim='+str(encoding_dim)+'-Window='+str(SampleNum)+'-Overlap='+str(Overlap*100)\n",
    "    SaveFileNameGlaph=GlaphDataPath+DataName+'_edim='+str(encoding_dim)+'-Window='+str(SampleNum)+'-Overlap='+str(Overlap*100)+'_loss_val_loss.png'\n",
    "\n",
    "    window_test=windoW\n",
    "    window_train=windoW\n",
    "    processing.SaveDicDataFromFileNPZ(WindowDataPath,SaveFileNameTrain,window_test)\n",
    "    processing.SaveDicDataFromFileNPZ(WindowDataPath,SaveFileNameTest,window_test)\n",
    "    shapeNum=windoW.shape[1]\n",
    "\n",
    "    # this is our input placeholder\n",
    "    input_img = Input(shape=(shapeNum,))\n",
    "    # \"encoded\" is the encoded representation of the input\n",
    "    encoded = Dense(encoding_dim, activation='tanh')(input_img)\n",
    "    # \"decoded\" is the lossy reconstruction of the input\n",
    "    decoded = Dense(shapeNum, activation='linear')(encoded)\n",
    "\n",
    "    # this model maps an input to its reconstruction\n",
    "    autoencoder = Model(input=input_img, output=decoded)\n",
    "\n",
    "    # this model maps an input to its encoded representation\n",
    "    encoder = Model(input=input_img, output=encoded)\n",
    "\n",
    "    # create a placeholder for an encoded (32-dimensional) input\n",
    "    encoded_input = Input(shape=(encoding_dim,))\n",
    "    # retrieve the last layer of the autoencoder model\n",
    "    decoder_layer = autoencoder.layers[-1]\n",
    "    # create the decoder model\n",
    "    decoder = Model(input=encoded_input, output=decoder_layer(encoded_input))\n",
    "\n",
    "    autoencoder.compile(optimizer='adadelta', loss='mse')\n",
    "    plot(autoencoder,  to_file=StudyDataModelPicPath+SaveFileNameNet+'.png')\n",
    "\n",
    "    early_stopping = EarlyStopping(monitor='val_loss', patience=2)\n",
    "    hist = autoencoder.fit(window_train, window_train,\n",
    "                    nb_epoch=50,\n",
    "                    batch_size=shapeNum/4,\n",
    "                    shuffle=True,\n",
    "                    validation_data=(window_test, window_test),\n",
    "                    callbacks=[early_stopping])\n",
    "\n",
    "    encoded_imgs = encoder.predict(window_test)\n",
    "    decoded_imgs = decoder.predict(encoded_imgs)\n",
    "\n",
    "    processing.SaveDicDataFromFileNPZ(StudyDataPath,SaveFileNameEncord,encoded_imgs)\n",
    "    processing.SaveDicDataFromFileNPZ(StudyDataPath,SaveFileNameDecord,decoded_imgs)\n",
    "\n",
    "    # save model and wights\n",
    "    json_string = encoder.to_json()\n",
    "    open(StudyDataPath+SaveFileNameEncord+'.json', 'w').write(json_string)\n",
    "    encoder.save_weights(StudyDataPath+SaveFileNameEncord+'_weights.h5')\n",
    "\n",
    "    json_string = decoder.to_json()\n",
    "    open(StudyDataPath+SaveFileNameDecord+'.json', 'w').write(json_string)\n",
    "    decoder.save_weights(StudyDataPath+SaveFileNameDecord+'_weights.h5')\n",
    "\n",
    "    json_string = autoencoder.to_json()\n",
    "    open(StudyDataPath+SaveFileNameNet+'.json', 'w').write(json_string)\n",
    "    autoencoder.save_weights(StudyDataPath+SaveFileNameNet+'_weights.h5')\n",
    "\n",
    "    # plot loss\n",
    "    loss = hist.history['loss']\n",
    "    val_loss = hist.history['val_loss']\n",
    "\n",
    "    nb_epoch = len(loss)\n",
    "    plt.plot(range(nb_epoch), loss, marker='.', label='loss')\n",
    "    plt.plot(range(nb_epoch), val_loss, marker='.', label='val_loss')\n",
    "    plt.legend(loc='best', fontsize=10)\n",
    "    plt.grid()\n",
    "    plt.xlabel('epoch')\n",
    "    plt.ylabel('loss')\n",
    "    plt.savefig(SaveFileNameGlaph)\n",
    "    plt.show()"
   ]
  },
  {
   "cell_type": "code",
   "execution_count": null,
   "metadata": {
    "collapsed": true
   },
   "outputs": [],
   "source": []
  }
 ],
 "metadata": {
  "kernelspec": {
   "display_name": "Python 2",
   "language": "python",
   "name": "python2"
  },
  "language_info": {
   "codemirror_mode": {
    "name": "ipython",
    "version": 2
   },
   "file_extension": ".py",
   "mimetype": "text/x-python",
   "name": "python",
   "nbconvert_exporter": "python",
   "pygments_lexer": "ipython2",
   "version": "2.7.11"
  }
 },
 "nbformat": 4,
 "nbformat_minor": 0
}
