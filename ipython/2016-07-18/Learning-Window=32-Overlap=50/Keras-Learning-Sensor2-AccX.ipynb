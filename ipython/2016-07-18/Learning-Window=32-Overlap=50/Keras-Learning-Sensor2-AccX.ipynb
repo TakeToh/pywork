{
 "cells": [
  {
   "cell_type": "markdown",
   "metadata": {},
   "source": [
    "important 変数を個々に定義する"
   ]
  },
  {
   "cell_type": "code",
   "execution_count": 13,
   "metadata": {
    "collapsed": true
   },
   "outputs": [],
   "source": [
    "SensorNum=2 # Sensor number\n",
    "SampleNum=32 # Window Width\n",
    "Overlap=0.5 # overlap\n",
    "width=1000 # graph width \n",
    "EncodingDim=[4,8,12,16,32,64] # number of hidden layer note \n",
    "Axis='AccX' # Axis"
   ]
  },
  {
   "cell_type": "code",
   "execution_count": 14,
   "metadata": {
    "collapsed": false
   },
   "outputs": [],
   "source": [
    "import numpy as np\n",
    "import pandas as pd\n",
    "from scipy import fftpack\n",
    "from scipy import signal\n",
    "import time\n",
    "import os\n",
    "import matplotlib.pyplot as plt\n",
    "import pylab\n",
    "import pickle\n",
    "import copy\n",
    "\n",
    "import processing\n",
    "import window\n",
    "\n",
    "import matplotlib.animation as animation\n",
    "import datetime\n",
    "\n",
    "%matplotlib inline"
   ]
  },
  {
   "cell_type": "code",
   "execution_count": 15,
   "metadata": {
    "collapsed": false
   },
   "outputs": [],
   "source": [
    "from keras.models import Sequential\n",
    "from keras.datasets import cifar10\n",
    "from keras.layers import Dense, Activation, Flatten\n",
    "from keras.optimizers import Adadelta\n",
    "from keras.utils import np_utils\n",
    "from keras.layers.convolutional import Convolution2D, MaxPooling2D\n",
    "from keras.utils.visualize_util import model_to_dot, plot\n",
    "from keras import backend as K\n",
    "from keras.layers import Input, Dense\n",
    "from keras.models import Model\n",
    "from keras.callbacks import EarlyStopping\n",
    "\n",
    "import matplotlib.image as mpimg\n"
   ]
  },
  {
   "cell_type": "code",
   "execution_count": 16,
   "metadata": {
    "collapsed": false
   },
   "outputs": [],
   "source": [
    "DataName='sensor'+str(SensorNum)+'_'+Axis\n",
    "SensorName='sensor'+str(SensorNum)\n",
    "DicName='MemSensor'+str(SensorNum)"
   ]
  },
  {
   "cell_type": "code",
   "execution_count": 17,
   "metadata": {
    "collapsed": false
   },
   "outputs": [],
   "source": [
    "WORKSPACE_PATH = '/home/takeyama/pywork/ipython/2016-07-11'\n",
    "\n",
    "StudyDataPath=WORKSPACE_PATH+'/Study/'+DataName+'/'+'Window='+str(SampleNum)+'-Overlap='+str(Overlap*100)+'/'\n",
    "if not os.path.exists(StudyDataPath): os.makedirs(StudyDataPath)\n",
    "\n",
    "GlaphDataPath=WORKSPACE_PATH+'/Graph/'+DataName+'/Learning-Window='+str(SampleNum)+'-Overlap='+str(Overlap*100)+'/'\n",
    "if not os.path.exists(GlaphDataPath): os.makedirs(GlaphDataPath)\n",
    "\n",
    "StudyDataModelPicPath=WORKSPACE_PATH+'/Study/'+DataName+'/modelPic-Window='+str(SampleNum)+'-Overlap='+str(Overlap*100)+'/'\n",
    "if not os.path.exists(StudyDataModelPicPath): os.makedirs(StudyDataModelPicPath)\n",
    "\n",
    "WindowDataPath=WORKSPACE_PATH+'/window/'\n",
    "RawDataPath=WORKSPACE_PATH+'/raw/'"
   ]
  },
  {
   "cell_type": "markdown",
   "metadata": {},
   "source": [
    "**Phase1 計測データの取得**"
   ]
  },
  {
   "cell_type": "code",
   "execution_count": 18,
   "metadata": {
    "collapsed": false
   },
   "outputs": [],
   "source": [
    "dic=processing.LoadDicDataFromFileNPZ(RawDataPath+DicName)"
   ]
  },
  {
   "cell_type": "markdown",
   "metadata": {},
   "source": [
    "**Phase2 window flame 作成**"
   ]
  },
  {
   "cell_type": "code",
   "execution_count": 19,
   "metadata": {
    "collapsed": false
   },
   "outputs": [
    {
     "name": "stdout",
     "output_type": "stream",
     "text": [
      "AccX is registed now\n",
      "Build Complete\n",
      "(254742,)\n"
     ]
    }
   ],
   "source": [
    "w=window.Window()\n",
    "w.SetData(Axis,dic[Axis])\n",
    "wind=w.Compile(windowWidth=SampleNum,overlap=Overlap)\n",
    "windoW=wind.reshape((len(wind),np.prod(wind.shape[1:])))"
   ]
  },
  {
   "cell_type": "code",
   "execution_count": 20,
   "metadata": {
    "collapsed": false
   },
   "outputs": [
    {
     "data": {
      "text/plain": [
       "(7960, 32)"
      ]
     },
     "execution_count": 20,
     "metadata": {},
     "output_type": "execute_result"
    }
   ],
   "source": [
    "windoW.shape"
   ]
  },
  {
   "cell_type": "markdown",
   "metadata": {},
   "source": [
    "**前回やった学習をもう１度やってみる**"
   ]
  },
  {
   "cell_type": "code",
   "execution_count": 21,
   "metadata": {
    "collapsed": false,
    "scrolled": true
   },
   "outputs": [
    {
     "name": "stdout",
     "output_type": "stream",
     "text": [
      "Train on 7960 samples, validate on 7960 samples\n",
      "Epoch 1/50\n",
      "7960/7960 [==============================] - 1s - loss: 0.1643 - val_loss: 0.0118\n",
      "Epoch 2/50\n",
      "7960/7960 [==============================] - 1s - loss: 0.0065 - val_loss: 0.0042\n",
      "Epoch 3/50\n",
      "7960/7960 [==============================] - 1s - loss: 0.0036 - val_loss: 0.0033\n",
      "Epoch 4/50\n",
      "7960/7960 [==============================] - 1s - loss: 0.0029 - val_loss: 0.0026\n",
      "Epoch 5/50\n",
      "7960/7960 [==============================] - 1s - loss: 0.0025 - val_loss: 0.0023\n",
      "Epoch 6/50\n",
      "7960/7960 [==============================] - 1s - loss: 0.0022 - val_loss: 0.0021\n",
      "Epoch 7/50\n",
      "7960/7960 [==============================] - 1s - loss: 0.0020 - val_loss: 0.0019\n",
      "Epoch 8/50\n",
      "7960/7960 [==============================] - 1s - loss: 0.0018 - val_loss: 0.0018\n",
      "Epoch 9/50\n",
      "7960/7960 [==============================] - 1s - loss: 0.0017 - val_loss: 0.0016\n",
      "Epoch 10/50\n",
      "7960/7960 [==============================] - 1s - loss: 0.0016 - val_loss: 0.0015\n",
      "Epoch 11/50\n",
      "7960/7960 [==============================] - 1s - loss: 0.0015 - val_loss: 0.0014\n",
      "Epoch 12/50\n",
      "7960/7960 [==============================] - 1s - loss: 0.0014 - val_loss: 0.0014\n",
      "Epoch 13/50\n",
      "7960/7960 [==============================] - 1s - loss: 0.0014 - val_loss: 0.0013\n",
      "Epoch 14/50\n",
      "7960/7960 [==============================] - 1s - loss: 0.0013 - val_loss: 0.0012\n",
      "Epoch 15/50\n",
      "7960/7960 [==============================] - 1s - loss: 0.0013 - val_loss: 0.0012\n",
      "Epoch 16/50\n",
      "7960/7960 [==============================] - 1s - loss: 0.0012 - val_loss: 0.0011\n",
      "Epoch 17/50\n",
      "7960/7960 [==============================] - 1s - loss: 0.0012 - val_loss: 0.0011\n",
      "Epoch 18/50\n",
      "7960/7960 [==============================] - 1s - loss: 0.0011 - val_loss: 0.0012\n",
      "Epoch 19/50\n",
      "7960/7960 [==============================] - 1s - loss: 0.0011 - val_loss: 0.0011\n",
      "Epoch 20/50\n",
      "7960/7960 [==============================] - 0s - loss: 0.0011 - val_loss: 0.0010\n",
      "Epoch 21/50\n",
      "7960/7960 [==============================] - 0s - loss: 0.0011 - val_loss: 0.0014\n",
      "Epoch 22/50\n",
      "7960/7960 [==============================] - 0s - loss: 0.0010 - val_loss: 9.5873e-04\n",
      "Epoch 23/50\n",
      "7960/7960 [==============================] - 0s - loss: 0.0010 - val_loss: 9.5361e-04\n",
      "Epoch 24/50\n",
      "7960/7960 [==============================] - 1s - loss: 0.0010 - val_loss: 9.3358e-04\n",
      "Epoch 25/50\n",
      "7960/7960 [==============================] - 1s - loss: 9.8523e-04 - val_loss: 0.0010\n",
      "Epoch 26/50\n",
      "7960/7960 [==============================] - 1s - loss: 9.7346e-04 - val_loss: 8.8706e-04\n",
      "Epoch 27/50\n",
      "7960/7960 [==============================] - 1s - loss: 9.5860e-04 - val_loss: 8.9089e-04\n",
      "Epoch 28/50\n",
      "7960/7960 [==============================] - 1s - loss: 9.3735e-04 - val_loss: 0.0011\n",
      "Epoch 29/50\n",
      "7960/7960 [==============================] - 1s - loss: 9.3283e-04 - val_loss: 8.4415e-04\n",
      "Epoch 30/50\n",
      "7960/7960 [==============================] - 0s - loss: 9.1888e-04 - val_loss: 9.9495e-04\n",
      "Epoch 31/50\n",
      "7960/7960 [==============================] - 0s - loss: 9.0258e-04 - val_loss: 8.2755e-04\n",
      "Epoch 32/50\n",
      "7960/7960 [==============================] - 1s - loss: 9.0272e-04 - val_loss: 8.1774e-04\n",
      "Epoch 33/50\n",
      "7960/7960 [==============================] - 1s - loss: 8.9086e-04 - val_loss: 0.0013\n",
      "Epoch 34/50\n",
      "7960/7960 [==============================] - 0s - loss: 8.7041e-04 - val_loss: 7.9116e-04\n",
      "Epoch 35/50\n",
      "7960/7960 [==============================] - 0s - loss: 8.7452e-04 - val_loss: 8.0274e-04\n",
      "Epoch 36/50\n",
      "7960/7960 [==============================] - 0s - loss: 8.7272e-04 - val_loss: 7.8382e-04\n",
      "Epoch 37/50\n",
      "7960/7960 [==============================] - 0s - loss: 8.7199e-04 - val_loss: 7.7267e-04\n",
      "Epoch 38/50\n",
      "7960/7960 [==============================] - 1s - loss: 8.4311e-04 - val_loss: 7.6440e-04\n",
      "Epoch 39/50\n",
      "7960/7960 [==============================] - 1s - loss: 8.3590e-04 - val_loss: 7.5961e-04\n",
      "Epoch 40/50\n",
      "7960/7960 [==============================] - 0s - loss: 8.3298e-04 - val_loss: 7.7871e-04\n",
      "Epoch 41/50\n",
      "7960/7960 [==============================] - 1s - loss: 8.4958e-04 - val_loss: 7.4556e-04\n",
      "Epoch 42/50\n",
      "7960/7960 [==============================] - 1s - loss: 8.2916e-04 - val_loss: 7.4228e-04\n",
      "Epoch 43/50\n",
      "7960/7960 [==============================] - 1s - loss: 8.2013e-04 - val_loss: 8.9165e-04\n",
      "Epoch 44/50\n",
      "7960/7960 [==============================] - 0s - loss: 8.1516e-04 - val_loss: 7.3212e-04\n",
      "Epoch 45/50\n",
      "7960/7960 [==============================] - 1s - loss: 8.2020e-04 - val_loss: 7.2599e-04\n",
      "Epoch 46/50\n",
      "7960/7960 [==============================] - 0s - loss: 8.0824e-04 - val_loss: 0.0011\n",
      "Epoch 47/50\n",
      "7960/7960 [==============================] - 0s - loss: 8.0889e-04 - val_loss: 7.2918e-04\n",
      "Epoch 48/50\n",
      "7960/7960 [==============================] - 0s - loss: 8.0944e-04 - val_loss: 7.1843e-04\n",
      "Epoch 49/50\n",
      "7960/7960 [==============================] - 0s - loss: 7.9680e-04 - val_loss: 7.2232e-04\n",
      "Epoch 50/50\n",
      "7960/7960 [==============================] - 0s - loss: 7.9907e-04 - val_loss: 7.1242e-04\n"
     ]
    },
    {
     "data": {
      "image/png": "[encoded data removed]",
      "text/plain": [
       "<matplotlib.figure.Figure at 0x7fe291ee5410>"
      ]
     },
     "metadata": {},
     "output_type": "display_data"
    },
    {
     "name": "stdout",
     "output_type": "stream",
     "text": [
      "Train on 7960 samples, validate on 7960 samples\n",
      "Epoch 1/50\n",
      "7960/7960 [==============================] - 1s - loss: 0.0735 - val_loss: 0.0054\n",
      "Epoch 2/50\n",
      "7960/7960 [==============================] - 0s - loss: 0.0041 - val_loss: 0.0033\n",
      "Epoch 3/50\n",
      "7960/7960 [==============================] - 0s - loss: 0.0029 - val_loss: 0.0025\n",
      "Epoch 4/50\n",
      "7960/7960 [==============================] - 0s - loss: 0.0023 - val_loss: 0.0020\n",
      "Epoch 5/50\n",
      "7960/7960 [==============================] - 0s - loss: 0.0019 - val_loss: 0.0021\n",
      "Epoch 6/50\n",
      "7960/7960 [==============================] - 0s - loss: 0.0016 - val_loss: 0.0013\n",
      "Epoch 7/50\n",
      "7960/7960 [==============================] - 1s - loss: 0.0013 - val_loss: 0.0011\n",
      "Epoch 8/50\n",
      "7960/7960 [==============================] - 1s - loss: 0.0011 - val_loss: 0.0018\n",
      "Epoch 9/50\n",
      "7960/7960 [==============================] - 1s - loss: 0.0010 - val_loss: 0.0011\n",
      "Epoch 10/50\n",
      "7960/7960 [==============================] - 1s - loss: 9.3060e-04 - val_loss: 8.4175e-04\n",
      "Epoch 11/50\n",
      "7960/7960 [==============================] - 1s - loss: 8.7698e-04 - val_loss: 8.1389e-04\n",
      "Epoch 12/50\n",
      "7960/7960 [==============================] - 1s - loss: 8.0454e-04 - val_loss: 7.7131e-04\n",
      "Epoch 13/50\n",
      "7960/7960 [==============================] - 0s - loss: 7.9268e-04 - val_loss: 8.0874e-04\n",
      "Epoch 14/50\n",
      "7960/7960 [==============================] - 1s - loss: 7.5630e-04 - val_loss: 6.7166e-04\n",
      "Epoch 15/50\n",
      "7960/7960 [==============================] - 0s - loss: 7.3202e-04 - val_loss: 5.9469e-04\n",
      "Epoch 16/50\n",
      "7960/7960 [==============================] - 0s - loss: 6.8979e-04 - val_loss: 5.8928e-04\n",
      "Epoch 17/50\n",
      "7960/7960 [==============================] - 0s - loss: 6.6629e-04 - val_loss: 5.5133e-04\n",
      "Epoch 18/50\n",
      "7960/7960 [==============================] - 0s - loss: 6.4956e-04 - val_loss: 6.3126e-04\n",
      "Epoch 19/50\n",
      "7960/7960 [==============================] - 0s - loss: 6.0283e-04 - val_loss: 5.2835e-04\n",
      "Epoch 20/50\n",
      "7960/7960 [==============================] - 1s - loss: 6.2548e-04 - val_loss: 5.5839e-04\n",
      "Epoch 21/50\n",
      "7960/7960 [==============================] - 1s - loss: 6.0757e-04 - val_loss: 6.9557e-04\n",
      "Epoch 22/50\n",
      "7960/7960 [==============================] - 0s - loss: 5.8200e-04 - val_loss: 4.6500e-04\n",
      "Epoch 23/50\n",
      "7960/7960 [==============================] - 0s - loss: 5.6416e-04 - val_loss: 4.8946e-04\n",
      "Epoch 24/50\n",
      "7960/7960 [==============================] - 0s - loss: 5.7639e-04 - val_loss: 9.2252e-04\n",
      "Epoch 25/50\n",
      "7960/7960 [==============================] - 0s - loss: 5.5653e-04 - val_loss: 0.0013\n"
     ]
    },
    {
     "data": {
      "image/png": "[encoded data removed]",
      "text/plain": [
       "<matplotlib.figure.Figure at 0x7fe2b697d810>"
      ]
     },
     "metadata": {},
     "output_type": "display_data"
    },
    {
     "name": "stdout",
     "output_type": "stream",
     "text": [
      "Train on 7960 samples, validate on 7960 samples\n",
      "Epoch 1/50\n",
      "7960/7960 [==============================] - 1s - loss: 0.0694 - val_loss: 0.0049\n",
      "Epoch 2/50\n",
      "7960/7960 [==============================] - 1s - loss: 0.0039 - val_loss: 0.0034\n",
      "Epoch 3/50\n",
      "7960/7960 [==============================] - 1s - loss: 0.0029 - val_loss: 0.0025\n",
      "Epoch 4/50\n",
      "7960/7960 [==============================] - 1s - loss: 0.0024 - val_loss: 0.0020\n",
      "Epoch 5/50\n",
      "7960/7960 [==============================] - 1s - loss: 0.0020 - val_loss: 0.0022\n",
      "Epoch 6/50\n",
      "7960/7960 [==============================] - 0s - loss: 0.0017 - val_loss: 0.0015\n",
      "Epoch 7/50\n",
      "7960/7960 [==============================] - 0s - loss: 0.0014 - val_loss: 0.0012\n",
      "Epoch 8/50\n",
      "7960/7960 [==============================] - 1s - loss: 0.0012 - val_loss: 0.0010\n",
      "Epoch 9/50\n",
      "7960/7960 [==============================] - 0s - loss: 0.0011 - val_loss: 9.2611e-04\n",
      "Epoch 10/50\n",
      "7960/7960 [==============================] - 0s - loss: 0.0010 - val_loss: 0.0011\n",
      "Epoch 11/50\n",
      "7960/7960 [==============================] - 0s - loss: 9.5002e-04 - val_loss: 8.0665e-04\n",
      "Epoch 12/50\n",
      "7960/7960 [==============================] - 1s - loss: 8.6504e-04 - val_loss: 7.3993e-04\n",
      "Epoch 13/50\n",
      "7960/7960 [==============================] - 1s - loss: 8.2734e-04 - val_loss: 7.7556e-04\n",
      "Epoch 14/50\n",
      "7960/7960 [==============================] - 1s - loss: 7.9203e-04 - val_loss: 6.7317e-04\n",
      "Epoch 15/50\n",
      "7960/7960 [==============================] - 1s - loss: 7.4942e-04 - val_loss: 0.0013\n",
      "Epoch 16/50\n",
      "7960/7960 [==============================] - 1s - loss: 7.1192e-04 - val_loss: 5.5824e-04\n",
      "Epoch 17/50\n",
      "7960/7960 [==============================] - 1s - loss: 6.7852e-04 - val_loss: 0.0014\n",
      "Epoch 18/50\n",
      "7960/7960 [==============================] - 1s - loss: 6.3797e-04 - val_loss: 5.0991e-04\n",
      "Epoch 19/50\n",
      "7960/7960 [==============================] - 0s - loss: 6.0524e-04 - val_loss: 4.7743e-04\n",
      "Epoch 20/50\n",
      "7960/7960 [==============================] - 0s - loss: 5.9666e-04 - val_loss: 4.8172e-04\n",
      "Epoch 21/50\n",
      "7960/7960 [==============================] - 0s - loss: 5.6093e-04 - val_loss: 4.3557e-04\n",
      "Epoch 22/50\n",
      "7960/7960 [==============================] - 0s - loss: 5.4773e-04 - val_loss: 4.6380e-04\n",
      "Epoch 23/50\n",
      "7960/7960 [==============================] - 0s - loss: 5.4377e-04 - val_loss: 4.3750e-04\n",
      "Epoch 24/50\n",
      "7960/7960 [==============================] - 1s - loss: 5.0882e-04 - val_loss: 6.4951e-04\n"
     ]
    },
    {
     "data": {
      "image/png": "[encoded data removed]",
      "text/plain": [
       "<matplotlib.figure.Figure at 0x7fe2b643a610>"
      ]
     },
     "metadata": {},
     "output_type": "display_data"
    },
    {
     "name": "stdout",
     "output_type": "stream",
     "text": [
      "Train on 7960 samples, validate on 7960 samples\n",
      "Epoch 1/50\n",
      "7960/7960 [==============================] - 1s - loss: 0.0426 - val_loss: 0.0043\n",
      "Epoch 2/50\n",
      "7960/7960 [==============================] - 2s - loss: 0.0034 - val_loss: 0.0027\n",
      "Epoch 3/50\n",
      "7960/7960 [==============================] - 2s - loss: 0.0023 - val_loss: 0.0019\n",
      "Epoch 4/50\n",
      "7960/7960 [==============================] - 3s - loss: 0.0018 - val_loss: 0.0014\n",
      "Epoch 5/50\n",
      "7960/7960 [==============================] - 3s - loss: 0.0014 - val_loss: 0.0021\n",
      "Epoch 6/50\n",
      "7960/7960 [==============================] - 3s - loss: 0.0012 - val_loss: 9.8874e-04\n",
      "Epoch 7/50\n",
      "7960/7960 [==============================] - 3s - loss: 0.0011 - val_loss: 8.8107e-04\n",
      "Epoch 8/50\n",
      "7960/7960 [==============================] - 3s - loss: 9.7282e-04 - val_loss: 8.0525e-04\n",
      "Epoch 9/50\n",
      "7960/7960 [==============================] - 4s - loss: 8.8070e-04 - val_loss: 7.0984e-04\n",
      "Epoch 10/50\n",
      "7960/7960 [==============================] - 3s - loss: 8.1789e-04 - val_loss: 6.8706e-04\n",
      "Epoch 11/50\n",
      "7960/7960 [==============================] - 3s - loss: 7.4687e-04 - val_loss: 5.8445e-04\n",
      "Epoch 12/50\n",
      "7960/7960 [==============================] - 3s - loss: 7.0599e-04 - val_loss: 6.0017e-04\n",
      "Epoch 13/50\n",
      "7960/7960 [==============================] - 3s - loss: 6.6989e-04 - val_loss: 5.5342e-04\n",
      "Epoch 14/50\n",
      "7960/7960 [==============================] - 3s - loss: 6.3184e-04 - val_loss: 9.3197e-04\n",
      "Epoch 15/50\n",
      "7960/7960 [==============================] - 3s - loss: 6.0950e-04 - val_loss: 4.2967e-04\n",
      "Epoch 16/50\n",
      "7960/7960 [==============================] - 3s - loss: 5.6304e-04 - val_loss: 4.3551e-04\n",
      "Epoch 17/50\n",
      "7960/7960 [==============================] - 3s - loss: 5.5303e-04 - val_loss: 8.8021e-04\n",
      "Epoch 18/50\n",
      "7960/7960 [==============================] - 4s - loss: 5.4474e-04 - val_loss: 6.3590e-04\n"
     ]
    },
    {
     "data": {
      "image/png": "[encoded data removed]",
      "text/plain": [
       "<matplotlib.figure.Figure at 0x7fe270008050>"
      ]
     },
     "metadata": {},
     "output_type": "display_data"
    },
    {
     "name": "stdout",
     "output_type": "stream",
     "text": [
      "Train on 7960 samples, validate on 7960 samples\n",
      "Epoch 1/50\n",
      "7960/7960 [==============================] - 3s - loss: 0.0429 - val_loss: 0.0035\n",
      "Epoch 2/50\n",
      "7960/7960 [==============================] - 3s - loss: 0.0024 - val_loss: 0.0033\n",
      "Epoch 3/50\n",
      "7960/7960 [==============================] - 3s - loss: 0.0015 - val_loss: 0.0012\n",
      "Epoch 4/50\n",
      "7960/7960 [==============================] - 3s - loss: 0.0011 - val_loss: 0.0013\n",
      "Epoch 5/50\n",
      "7960/7960 [==============================] - 3s - loss: 9.5611e-04 - val_loss: 7.3237e-04\n",
      "Epoch 6/50\n",
      "7960/7960 [==============================] - 3s - loss: 8.0545e-04 - val_loss: 7.3292e-04\n",
      "Epoch 7/50\n",
      "7960/7960 [==============================] - 3s - loss: 7.3556e-04 - val_loss: 5.7081e-04\n",
      "Epoch 8/50\n",
      "7960/7960 [==============================] - 3s - loss: 6.4604e-04 - val_loss: 4.8688e-04\n",
      "Epoch 9/50\n",
      "7960/7960 [==============================] - 3s - loss: 6.0228e-04 - val_loss: 4.3510e-04\n",
      "Epoch 10/50\n",
      "7960/7960 [==============================] - 3s - loss: 5.5132e-04 - val_loss: 0.0011\n",
      "Epoch 11/50\n",
      "7960/7960 [==============================] - 3s - loss: 5.2199e-04 - val_loss: 3.4053e-04\n",
      "Epoch 12/50\n",
      "7960/7960 [==============================] - 3s - loss: 5.2976e-04 - val_loss: 5.5069e-04\n",
      "Epoch 13/50\n",
      "7960/7960 [==============================] - 3s - loss: 5.2944e-04 - val_loss: 3.1349e-04\n",
      "Epoch 14/50\n",
      "7960/7960 [==============================] - 3s - loss: 5.0953e-04 - val_loss: 3.0925e-04\n",
      "Epoch 15/50\n",
      "7960/7960 [==============================] - 4s - loss: 4.3912e-04 - val_loss: 8.7817e-04\n",
      "Epoch 16/50\n",
      "7960/7960 [==============================] - 3s - loss: 4.2730e-04 - val_loss: 3.1289e-04\n",
      "Epoch 17/50\n",
      "7960/7960 [==============================] - 3s - loss: 4.1673e-04 - val_loss: 2.7070e-04\n",
      "Epoch 18/50\n",
      "7960/7960 [==============================] - 4s - loss: 4.1702e-04 - val_loss: 2.4051e-04\n",
      "Epoch 19/50\n",
      "7960/7960 [==============================] - 3s - loss: 4.3757e-04 - val_loss: 6.3620e-04\n",
      "Epoch 20/50\n",
      "7960/7960 [==============================] - 2s - loss: 4.3573e-04 - val_loss: 2.2543e-04\n",
      "Epoch 21/50\n",
      "7960/7960 [==============================] - 2s - loss: 4.4049e-04 - val_loss: 2.2658e-04\n",
      "Epoch 22/50\n",
      "7960/7960 [==============================] - 2s - loss: 4.1657e-04 - val_loss: 3.5927e-04\n",
      "Epoch 23/50\n",
      "7960/7960 [==============================] - 2s - loss: 4.0793e-04 - val_loss: 3.0236e-04\n"
     ]
    },
    {
     "data": {
      "image/png": "[encoded data removed]",
      "text/plain": [
       "<matplotlib.figure.Figure at 0x7fe2b6ece710>"
      ]
     },
     "metadata": {},
     "output_type": "display_data"
    },
    {
     "name": "stdout",
     "output_type": "stream",
     "text": [
      "Train on 7960 samples, validate on 7960 samples\n",
      "Epoch 1/50\n",
      "7960/7960 [==============================] - 0s - loss: 0.0257 - val_loss: 0.0019\n",
      "Epoch 2/50\n",
      "7960/7960 [==============================] - 0s - loss: 0.0015 - val_loss: 0.0021\n",
      "Epoch 3/50\n",
      "7960/7960 [==============================] - 0s - loss: 9.9269e-04 - val_loss: 6.8484e-04\n",
      "Epoch 4/50\n",
      "7960/7960 [==============================] - 0s - loss: 7.1698e-04 - val_loss: 5.1758e-04\n",
      "Epoch 5/50\n",
      "7960/7960 [==============================] - 0s - loss: 5.5840e-04 - val_loss: 3.5278e-04\n",
      "Epoch 6/50\n",
      "7960/7960 [==============================] - 0s - loss: 4.5595e-04 - val_loss: 2.7617e-04\n",
      "Epoch 7/50\n",
      "7960/7960 [==============================] - 0s - loss: 4.1243e-04 - val_loss: 3.2558e-04\n",
      "Epoch 8/50\n",
      "7960/7960 [==============================] - 0s - loss: 3.7932e-04 - val_loss: 2.0206e-04\n",
      "Epoch 9/50\n",
      "7960/7960 [==============================] - 0s - loss: 3.2617e-04 - val_loss: 1.6618e-04\n",
      "Epoch 10/50\n",
      "7960/7960 [==============================] - 0s - loss: 3.4921e-04 - val_loss: 2.0173e-04\n",
      "Epoch 11/50\n",
      "7960/7960 [==============================] - 0s - loss: 3.0059e-04 - val_loss: 0.0010\n",
      "Epoch 12/50\n",
      "7960/7960 [==============================] - 0s - loss: 2.9494e-04 - val_loss: 4.7751e-04\n"
     ]
    },
    {
     "data": {
      "image/png": "[encoded data removed]",
      "text/plain": [
       "<matplotlib.figure.Figure at 0x7fe2b64fec90>"
      ]
     },
     "metadata": {},
     "output_type": "display_data"
    }
   ],
   "source": [
    "# define SaveFileName\n",
    "for encoding_dim in EncodingDim:\n",
    "    SaveFileNameEncord=DataName+'_encoded'+'_edim='+str(encoding_dim)+'-Window='+str(SampleNum)+'-Overlap='+str(Overlap*100)\n",
    "    SaveFileNameDecord=DataName+'_decoded'+'_edim='+str(encoding_dim)+'-Window='+str(SampleNum)+'-Overlap='+str(Overlap*100)\n",
    "    SaveFileNameNet=DataName+'_net'+'_edim='+str(encoding_dim)+'-Window='+str(SampleNum)+'-Overlap='+str(Overlap*100)\n",
    "    SaveFileNameTrain=DataName+'_train'+'_edim='+str(encoding_dim)+'-Window='+str(SampleNum)+'-Overlap='+str(Overlap*100)\n",
    "    SaveFileNameTest=DataName+'_test'+'_edim='+str(encoding_dim)+'-Window='+str(SampleNum)+'-Overlap='+str(Overlap*100)\n",
    "    SaveFileNameGlaph=GlaphDataPath+DataName+'_edim='+str(encoding_dim)+'-Window='+str(SampleNum)+'-Overlap='+str(Overlap*100)+'_loss_val_loss.png'\n",
    "\n",
    "    window_test=windoW\n",
    "    window_train=windoW\n",
    "    processing.SaveDicDataFromFileNPZ(WindowDataPath,SaveFileNameTrain,window_test)\n",
    "    processing.SaveDicDataFromFileNPZ(WindowDataPath,SaveFileNameTest,window_test)\n",
    "    shapeNum=windoW.shape[1]\n",
    "\n",
    "    # this is our input placeholder\n",
    "    input_img = Input(shape=(shapeNum,))\n",
    "    # \"encoded\" is the encoded representation of the input\n",
    "    encoded = Dense(encoding_dim, activation='tanh')(input_img)\n",
    "    # \"decoded\" is the lossy reconstruction of the input\n",
    "    decoded = Dense(shapeNum, activation='linear')(encoded)\n",
    "\n",
    "    # this model maps an input to its reconstruction\n",
    "    autoencoder = Model(input=input_img, output=decoded)\n",
    "\n",
    "    # this model maps an input to its encoded representation\n",
    "    encoder = Model(input=input_img, output=encoded)\n",
    "\n",
    "    # create a placeholder for an encoded (32-dimensional) input\n",
    "    encoded_input = Input(shape=(encoding_dim,))\n",
    "    # retrieve the last layer of the autoencoder model\n",
    "    decoder_layer = autoencoder.layers[-1]\n",
    "    # create the decoder model\n",
    "    decoder = Model(input=encoded_input, output=decoder_layer(encoded_input))\n",
    "\n",
    "    autoencoder.compile(optimizer='adadelta', loss='mse')\n",
    "    plot(autoencoder,  to_file=StudyDataModelPicPath+SaveFileNameNet+'.png')\n",
    "\n",
    "    early_stopping = EarlyStopping(monitor='val_loss', patience=2)\n",
    "    hist = autoencoder.fit(window_train, window_train,\n",
    "                    nb_epoch=50,\n",
    "                    batch_size=shapeNum/4,\n",
    "                    shuffle=True,\n",
    "                    validation_data=(window_test, window_test),\n",
    "                    callbacks=[early_stopping])\n",
    "\n",
    "    encoded_imgs = encoder.predict(window_test)\n",
    "    decoded_imgs = decoder.predict(encoded_imgs)\n",
    "\n",
    "    processing.SaveDicDataFromFileNPZ(StudyDataPath,SaveFileNameEncord,encoded_imgs)\n",
    "    processing.SaveDicDataFromFileNPZ(StudyDataPath,SaveFileNameDecord,decoded_imgs)\n",
    "\n",
    "    # save model and wights\n",
    "    json_string = encoder.to_json()\n",
    "    open(StudyDataPath+SaveFileNameEncord+'.json', 'w').write(json_string)\n",
    "    encoder.save_weights(StudyDataPath+SaveFileNameEncord+'_weights.h5')\n",
    "\n",
    "    json_string = decoder.to_json()\n",
    "    open(StudyDataPath+SaveFileNameDecord+'.json', 'w').write(json_string)\n",
    "    decoder.save_weights(StudyDataPath+SaveFileNameDecord+'_weights.h5')\n",
    "\n",
    "    json_string = autoencoder.to_json()\n",
    "    open(StudyDataPath+SaveFileNameNet+'.json', 'w').write(json_string)\n",
    "    autoencoder.save_weights(StudyDataPath+SaveFileNameNet+'_weights.h5')\n",
    "\n",
    "    # plot loss\n",
    "    loss = hist.history['loss']\n",
    "    val_loss = hist.history['val_loss']\n",
    "\n",
    "    nb_epoch = len(loss)\n",
    "    plt.plot(range(nb_epoch), loss, marker='.', label='loss')\n",
    "    plt.plot(range(nb_epoch), val_loss, marker='.', label='val_loss')\n",
    "    plt.legend(loc='best', fontsize=10)\n",
    "    plt.grid()\n",
    "    plt.xlabel('epoch')\n",
    "    plt.ylabel('loss')\n",
    "    plt.savefig(SaveFileNameGlaph)\n",
    "    plt.show()\n",
    "    time.sleep(5)"
   ]
  },
  {
   "cell_type": "code",
   "execution_count": null,
   "metadata": {
    "collapsed": true
   },
   "outputs": [],
   "source": []
  }
 ],
 "metadata": {
  "kernelspec": {
   "display_name": "Python 2",
   "language": "python",
   "name": "python2"
  },
  "language_info": {
   "codemirror_mode": {
    "name": "ipython",
    "version": 2
   },
   "file_extension": ".py",
   "mimetype": "text/x-python",
   "name": "python",
   "nbconvert_exporter": "python",
   "pygments_lexer": "ipython2",
   "version": "2.7.11"
  }
 },
 "nbformat": 4,
 "nbformat_minor": 0
}
