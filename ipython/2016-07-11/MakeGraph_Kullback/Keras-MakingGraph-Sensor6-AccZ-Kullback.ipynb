{
 "cells": [
  {
   "cell_type": "code",
   "execution_count": 34,
   "metadata": {
    "collapsed": false
   },
   "outputs": [],
   "source": [
    "import numpy as np\n",
    "import pandas as pd\n",
    "from scipy import fftpack\n",
    "from scipy import signal\n",
    "import time\n",
    "import os\n",
    "import matplotlib\n",
    "matplotlib.use('TkAgg')\n",
    "import matplotlib.pyplot as plt\n",
    "import pylab\n",
    "import pickle\n",
    "import copy\n",
    "import processing\n",
    "import matplotlib.animation as animation\n",
    "import datetime\n",
    "import multiprocessing as mp\n",
    "import processing\n",
    "from scipy import stats\n",
    "\n",
    "%matplotlib inline"
   ]
  },
  {
   "cell_type": "markdown",
   "metadata": {},
   "source": [
    "共通変数をここに定義"
   ]
  },
  {
   "cell_type": "code",
   "execution_count": 35,
   "metadata": {
    "collapsed": true
   },
   "outputs": [],
   "source": [
    "DataName='sensor6_AccZ'\n",
    "SensorName='sensor6'\n",
    "Axis='AccZ'\n",
    "SampleNum=16\n",
    "width=1000"
   ]
  },
  {
   "cell_type": "code",
   "execution_count": 36,
   "metadata": {
    "collapsed": false
   },
   "outputs": [],
   "source": [
    "WORKSPACE_PATH = '/home/takeyama/pywork/ipython/2016-07-11'\n",
    "\n",
    "StudyDataPath=WORKSPACE_PATH+'/Study/'+DataName+'/'\n",
    "if not os.path.exists(StudyDataPath): os.makedirs(StudyDataPath)\n",
    "\n",
    "GlaphDataPath=WORKSPACE_PATH+'/Graph/'+DataName+'/kullback/'\n",
    "if not os.path.exists(GlaphDataPath): os.makedirs(GlaphDataPath)\n",
    "\n",
    "StudyDataModelPicPath=WORKSPACE_PATH+'/Study/'+DataName+'/modelPic/'\n",
    "if not os.path.exists(StudyDataModelPicPath): os.makedirs(StudyDataModelPicPath)\n",
    "\n",
    "WindowDataPath=WORKSPACE_PATH+'/window/'\n",
    "RawDataPath=WORKSPACE_PATH+'/raw/'"
   ]
  },
  {
   "cell_type": "code",
   "execution_count": 37,
   "metadata": {
    "collapsed": false
   },
   "outputs": [],
   "source": [
    "\"\"\"\n",
    "    encordData,decordData\n",
    "    firstNum:\n",
    "    goalNum:\n",
    "    commonLabel:共通名前\n",
    "\"\"\"\n",
    "def MakeGlaph(encordData,decordData,firstNum,goalNum,commonLabel):\n",
    "    eRow, eCol=encordData.shape\n",
    "    dRow, dCol=decordData.shape\n",
    "    \n",
    "    if eRow!=dRow | eCol!=dCol:\n",
    "        return -1\n",
    "    start = firstNum\n",
    "    goal=goalNum\n",
    "    print str(start)+' is start '+str(goal)+' is goal'\n",
    "    dataE = encordData.reshape(eRow*eCol,1)[start:goal]\n",
    "    dataD = decordData.reshape(dRow*dCol,1)[start:goal]\n",
    "    plt.clf() \n",
    "    plt.figure(figsize=(100,50))\n",
    "    plt.plot(range(0,len(dataE)),dataE,'--r',label=\"raw data\")\n",
    "    plt.plot(range(0,len(dataD)),dataD,'b',label=\"reconstruct\")\n",
    "    plt.legend(loc='best')\n",
    "    plt.title(str(start)+\"-\"+str(goal))\n",
    "    plt.savefig(commonLabel+'-'+str(start)+\"-\"+str(goal)+'-'+'glaph')\n",
    "    plt.clf()\n",
    "    plt.cla()\n",
    "    plt.close('all')\n",
    "    return 1"
   ]
  },
  {
   "cell_type": "markdown",
   "metadata": {},
   "source": [
    "すべてのデータを読みdし、グラフ化する"
   ]
  },
  {
   "cell_type": "markdown",
   "metadata": {},
   "source": [
    "並列処理でグラフを作成する"
   ]
  },
  {
   "cell_type": "code",
   "execution_count": 38,
   "metadata": {
    "collapsed": false
   },
   "outputs": [],
   "source": [
    "encoding_dim = 4\n",
    "PowerDataE=processing.LoadDicDataFromFileNPZ(StudyDataPath+DataName+'_edim='+str(encoding_dim)+'-power-raw.npz')\n",
    "PowerDataD=processing.LoadDicDataFromFileNPZ(StudyDataPath+DataName+'_edim='+str(encoding_dim)+'-power-restruct.npz')\n",
    "\n",
    "# to distribution\n",
    "DistributePowerDataE = np.array([])\n",
    "DistributePowerDataD = np.array([])\n",
    "\n",
    "for i in range(PowerDataE.shape[0]):\n",
    "    DistributePowerDataE = np.append(DistributePowerDataE,np.sum(PowerDataE[i,:]))\n"
   ]
  },
  {
   "cell_type": "code",
   "execution_count": 39,
   "metadata": {
    "collapsed": false
   },
   "outputs": [
    {
     "data": {
      "text/plain": [
       "array([[  1.47252235e-03,   6.93386474e-04,   4.39740644e-05, ...,\n",
       "          1.19335264e-05,   1.28724870e-05,   1.34560000e-04],\n",
       "       [  1.65687821e-03,   1.38204722e-03,   7.48660851e-04, ...,\n",
       "          9.70927786e-05,   3.43826892e-04,   1.82250000e-04],\n",
       "       [  1.82047188e-03,   1.61321682e-03,   3.88833767e-05, ...,\n",
       "          2.17303181e-04,   2.49804443e-05,   2.70400000e-05],\n",
       "       ..., \n",
       "       [  2.13057223e-02,   5.76618471e-03,   2.10209550e-03, ...,\n",
       "          1.01165529e-03,   1.28808887e-03,   1.10224000e-03],\n",
       "       [  2.19483843e-02,   6.46475845e-03,   2.64256340e-03, ...,\n",
       "          7.47941548e-04,   6.95104493e-04,   1.39129000e-03],\n",
       "       [  1.51423120e-02,   9.91667926e-03,   1.79707441e-03, ...,\n",
       "          3.11340742e-04,   1.04081604e-03,   8.70250000e-04]])"
      ]
     },
     "execution_count": 39,
     "metadata": {},
     "output_type": "execute_result"
    }
   ],
   "source": [
    "PowerDataE"
   ]
  },
  {
   "cell_type": "code",
   "execution_count": 40,
   "metadata": {
    "collapsed": false
   },
   "outputs": [
    {
     "data": {
      "text/plain": [
       "(15921, 8)"
      ]
     },
     "execution_count": 40,
     "metadata": {},
     "output_type": "execute_result"
    }
   ],
   "source": [
    "PowerDataE.shape"
   ]
  },
  {
   "cell_type": "code",
   "execution_count": 41,
   "metadata": {
    "collapsed": false
   },
   "outputs": [
    {
     "data": {
      "text/plain": [
       "array([  1.47252235e-03,   6.93386474e-04,   4.39740644e-05,\n",
       "         5.67620000e-04,   1.86391094e-04,   1.19335264e-05,\n",
       "         1.28724870e-05,   1.34560000e-04])"
      ]
     },
     "execution_count": 41,
     "metadata": {},
     "output_type": "execute_result"
    }
   ],
   "source": [
    "PowerDataE[0,:]"
   ]
  },
  {
   "cell_type": "code",
   "execution_count": 42,
   "metadata": {
    "collapsed": false
   },
   "outputs": [
    {
     "data": {
      "text/plain": [
       "0.0031232600000000014"
      ]
     },
     "execution_count": 42,
     "metadata": {},
     "output_type": "execute_result"
    }
   ],
   "source": [
    "np.sum(PowerDataE[0,:])"
   ]
  },
  {
   "cell_type": "code",
   "execution_count": 43,
   "metadata": {
    "collapsed": false
   },
   "outputs": [
    {
     "data": {
      "text/plain": [
       "array([ 0.47146967,  0.22200729,  0.01407954,  0.18173959,  0.05967838,\n",
       "        0.00382086,  0.00412149,  0.04308319])"
      ]
     },
     "execution_count": 43,
     "metadata": {},
     "output_type": "execute_result"
    }
   ],
   "source": [
    "PowerDataE[0]/( np.sum(PowerDataE[0]) )"
   ]
  },
  {
   "cell_type": "code",
   "execution_count": 44,
   "metadata": {
    "collapsed": false
   },
   "outputs": [],
   "source": [
    "DistributePowerDataE = np.array([])\n",
    "for i in range( PowerDataE.shape[0] ):\n",
    "    DistributePowerDataE = np.append(DistributePowerDataE,PowerDataE[0]/( np.sum(PowerDataE[0]) ))"
   ]
  },
  {
   "cell_type": "code",
   "execution_count": 45,
   "metadata": {
    "collapsed": false
   },
   "outputs": [],
   "source": [
    "DistributePowerDataE = DistributePowerDataE.reshape(PowerDataE.shape)"
   ]
  },
  {
   "cell_type": "code",
   "execution_count": 46,
   "metadata": {
    "collapsed": false
   },
   "outputs": [
    {
     "data": {
      "text/plain": [
       "(15921, 8)"
      ]
     },
     "execution_count": 46,
     "metadata": {},
     "output_type": "execute_result"
    }
   ],
   "source": [
    "DistributePowerDataE.shape"
   ]
  },
  {
   "cell_type": "code",
   "execution_count": null,
   "metadata": {
    "collapsed": true
   },
   "outputs": [],
   "source": []
  },
  {
   "cell_type": "code",
   "execution_count": 47,
   "metadata": {
    "collapsed": false,
    "scrolled": true
   },
   "outputs": [
    {
     "name": "stdout",
     "output_type": "stream",
     "text": [
      "Graph range=0 : 1000\n",
      "Graph range=1000 : 2000\n",
      "Graph range=2000 : 3000\n",
      "Graph range=3000 : 4000\n",
      "Graph range=4000 : 5000\n",
      "Graph range=5000 : 6000\n",
      "Graph range=6000 : 7000\n",
      "Graph range=7000 : 8000\n",
      "Graph range=8000 : 9000\n",
      "Graph range=9000 : 10000\n",
      "Graph range=10000 : 11000\n",
      "Graph range=11000 : 12000\n",
      "Graph range=12000 : 13000\n",
      "Graph range=13000 : 14000\n",
      "Graph range=14000 : 15000\n",
      "Graph range=0 : 1000\n",
      "Graph range=1000 : 2000\n",
      "Graph range=2000 : 3000\n",
      "Graph range=3000 : 4000\n",
      "Graph range=4000 : 5000\n",
      "Graph range=5000 : 6000\n",
      "Graph range=6000 : 7000\n",
      "Graph range=7000 : 8000\n",
      "Graph range=8000 : 9000\n",
      "Graph range=9000 : 10000\n",
      "Graph range=10000 : 11000\n",
      "Graph range=11000 : 12000\n",
      "Graph range=12000 : 13000\n",
      "Graph range=13000 : 14000\n",
      "Graph range=14000 : 15000\n",
      "Graph range=0 : 1000\n",
      "Graph range=1000 : 2000\n",
      "Graph range=2000 : 3000\n",
      "Graph range=3000 : 4000\n",
      "Graph range=4000 : 5000\n",
      "Graph range=5000 : 6000\n",
      "Graph range=6000 : 7000\n",
      "Graph range=7000 : 8000\n",
      "Graph range=8000 : 9000\n",
      "Graph range=9000 : 10000\n",
      "Graph range=10000 : 11000\n",
      "Graph range=11000 : 12000\n",
      "Graph range=12000 : 13000\n",
      "Graph range=13000 : 14000\n",
      "Graph range=14000 : 15000\n",
      "Graph range=0 : 1000\n",
      "Graph range=1000 : 2000\n",
      "Graph range=2000 : 3000\n",
      "Graph range=3000 : 4000\n",
      "Graph range=4000 : 5000\n",
      "Graph range=5000 : 6000\n",
      "Graph range=6000 : 7000\n",
      "Graph range=7000 : 8000\n",
      "Graph range=8000 : 9000\n",
      "Graph range=9000 : 10000\n",
      "Graph range=10000 : 11000\n",
      "Graph range=11000 : 12000\n",
      "Graph range=12000 : 13000\n",
      "Graph range=13000 : 14000\n",
      "Graph range=14000 : 15000\n",
      "Graph range=0 : 1000\n",
      "Graph range=1000 : 2000\n",
      "Graph range=2000 : 3000\n",
      "Graph range=3000 : 4000\n",
      "Graph range=4000 : 5000\n",
      "Graph range=5000 : 6000\n",
      "Graph range=6000 : 7000\n",
      "Graph range=7000 : 8000\n",
      "Graph range=8000 : 9000\n",
      "Graph range=9000 : 10000\n",
      "Graph range=10000 : 11000\n",
      "Graph range=11000 : 12000\n",
      "Graph range=12000 : 13000\n",
      "Graph range=13000 : 14000\n",
      "Graph range=14000 : 15000\n",
      "Graph range=0 : 1000\n",
      "Graph range=1000 : 2000\n",
      "Graph range=2000 : 3000\n",
      "Graph range=3000 : 4000\n",
      "Graph range=4000 : 5000\n",
      "Graph range=5000 : 6000\n",
      "Graph range=6000 : 7000\n",
      "Graph range=7000 : 8000\n",
      "Graph range=8000 : 9000\n",
      "Graph range=9000 : 10000\n",
      "Graph range=10000 : 11000\n",
      "Graph range=11000 : 12000\n",
      "Graph range=12000 : 13000\n",
      "Graph range=13000 : 14000\n",
      "Graph range=14000 : 15000\n"
     ]
    },
    {
     "data": {
      "image/png": "[encoded data removed]",
      "text/plain": [
       "<matplotlib.figure.Figure at 0x7f1b8c666450>"
      ]
     },
     "metadata": {},
     "output_type": "display_data"
    }
   ],
   "source": [
    "# define SaveFileName\n",
    "# 8, 4, 12, 16, 32, 64\n",
    "# 32 floats -> compression of factor 24.5, assuming the input is 784 floats\n",
    "def kld(p, q):\n",
    "    \"\"\"Calculates Kullback–Leibler divergence\"\"\"\n",
    "    p = np.array(p)\n",
    "    q = np.array(q)\n",
    "    return np.sum(p * np.log(p / q), axis=(p.ndim - 1))\n",
    " \n",
    "def jsd(p, q):\n",
    "    \"\"\"Calculates Jensen-Shannon Divergence\"\"\"\n",
    "    p = np.array(p)\n",
    "    q = np.array(q)\n",
    "    m = 0.5 * (p + q)\n",
    "    return 0.5 * kld(p, m) + 0.5 * kld(q, m)\n",
    "\n",
    "AllEncoding_dim = [4, 8, 12, 16, 32, 64]  \n",
    "window = processing.LoadDicDataFromFileNPZ(WindowDataPath+SensorName+'_'+Axis+'_train_edim=8.npz')\n",
    "fig = plt.figure(figsize=(30,15))\n",
    "ax = fig.add_subplot(111)\n",
    "\n",
    "for encoding_dim in AllEncoding_dim:\n",
    "    SaveFileNameDecord=DataName+'_decoded'+'_edim='+str(encoding_dim)\n",
    "    SaveFileNameGraph=GlaphDataPath+ DataName+'_edim='+str(encoding_dim)\n",
    "\n",
    "    reconstructData = processing.LoadDicDataFromFileNPZ(StudyDataPath+SaveFileNameDecord)\n",
    "    \n",
    "    PowerDataE=processing.LoadDicDataFromFileNPZ(StudyDataPath+DataName+'_edim='+str(encoding_dim)+'-power-raw.npz')\n",
    "    PowerDataD=processing.LoadDicDataFromFileNPZ(StudyDataPath+DataName+'_edim='+str(encoding_dim)+'-power-restruct.npz')\n",
    "\n",
    "    # to distribution\n",
    "    DistributePowerDataE = np.array([])\n",
    "    DistributePowerDataD = np.array([])\n",
    "\n",
    "    for i in range( PowerDataE.shape[0] ):\n",
    "        DistributePowerDataE = np.append(DistributePowerDataE,PowerDataE[i]/( np.sum(PowerDataE[i]) ))\n",
    "    DistributePowerDataE = DistributePowerDataE.reshape(PowerDataE.shape)\n",
    "    \n",
    "    for i in range( PowerDataD.shape[0] ):\n",
    "        DistributePowerDataD = np.append(DistributePowerDataD,PowerDataD[i]/( np.sum(PowerDataD[i]) ))\n",
    "    DistributePowerDataD = DistributePowerDataD.reshape(PowerDataD.shape)\n",
    "    \n",
    "    processing.SaveDicDataFromFileNPZ(StudyDataPath, DataName+'_edim='+str(encoding_dim)+'-power-distribution-raw',DistributePowerDataE)\n",
    "    processing.SaveDicDataFromFileNPZ(StudyDataPath, DataName+'_edim='+str(encoding_dim)+'-power-distribution-reconst',DistributePowerDataD)\n",
    "    \n",
    "    ArrayKLD = np.array([])\n",
    "    \n",
    "    # Kullback-leibler-divergence plot\n",
    "    for i in range(DistributePowerDataE.shape[0]):\n",
    "        ArrayKLD = np.append(ArrayKLD, kld(DistributePowerDataE[i],DistributePowerDataD[i]))\n",
    "\n",
    "    for i in range(width,DistributePowerDataE.shape[0],width):\n",
    "        start =i-width\n",
    "        goal=i\n",
    "\n",
    "        data = ArrayKLD[start:goal]\n",
    "\n",
    "        #dataE,dataDをPower\n",
    "        ax.plot(range(0,len(data)),data,'g',label=\"kld data\")\n",
    "        ax.legend(loc='best')\n",
    "        ax.set_title(str(start)+\"-\"+str(goal))\n",
    "        ax.figure.savefig(SaveFileNameGraph+'-'+str(start)+\"-\"+str(goal)+'-'+'-glaph')\n",
    "        ax.clear()\n",
    "        print 'Graph range='+str(start)+' : '+str(goal)\n",
    "        time.sleep(3)"
   ]
  },
  {
   "cell_type": "code",
   "execution_count": 48,
   "metadata": {
    "collapsed": false
   },
   "outputs": [
    {
     "data": {
      "text/plain": [
       "254736"
      ]
     },
     "execution_count": 48,
     "metadata": {},
     "output_type": "execute_result"
    }
   ],
   "source": [
    "window.size"
   ]
  },
  {
   "cell_type": "code",
   "execution_count": null,
   "metadata": {
    "collapsed": false
   },
   "outputs": [],
   "source": []
  },
  {
   "cell_type": "code",
   "execution_count": null,
   "metadata": {
    "collapsed": true
   },
   "outputs": [],
   "source": []
  }
 ],
 "metadata": {
  "kernelspec": {
   "display_name": "Python 2",
   "language": "python",
   "name": "python2"
  },
  "language_info": {
   "codemirror_mode": {
    "name": "ipython",
    "version": 2
   },
   "file_extension": ".py",
   "mimetype": "text/x-python",
   "name": "python",
   "nbconvert_exporter": "python",
   "pygments_lexer": "ipython2",
   "version": "2.7.11"
  }
 },
 "nbformat": 4,
 "nbformat_minor": 0
}
