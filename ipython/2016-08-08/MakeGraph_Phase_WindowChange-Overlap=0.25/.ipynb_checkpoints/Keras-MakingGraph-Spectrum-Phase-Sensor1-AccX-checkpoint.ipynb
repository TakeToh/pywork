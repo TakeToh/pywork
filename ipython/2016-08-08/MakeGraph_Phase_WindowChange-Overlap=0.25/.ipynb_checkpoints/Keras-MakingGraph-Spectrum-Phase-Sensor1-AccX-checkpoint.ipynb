{
 "cells": [
  {
   "cell_type": "code",
   "execution_count": 2,
   "metadata": {
    "collapsed": false
   },
   "outputs": [],
   "source": [
    "SensorNum=1 # Sensor number\n",
    "WindowWidth=[16,32,64,128,256,512,1024] # Window Width\n",
    "OverlapArray=[4,8,16,32,64,128,256] # sliding window\n",
    "width=3000 # graph width \n",
    "EncodingDim=[4,8,12,16,32,64] # number of hidden layer note\n",
    "Axis='AccX' # Axis\n",
    "\n",
    "# chopin\n",
    "#WORKSPACE_PATH = \"/media/takeyama/HD-PZU3/01_TAKEYAMA_WORKSPACE/02_CommonData/2016-07-25\"\n",
    "\n",
    "# mozart\n",
    "WORKSPACE_PATH = \"/home/takeyama/Documents/01_SyncChopin\""
   ]
  },
  {
   "cell_type": "code",
   "execution_count": 3,
   "metadata": {
    "collapsed": false
   },
   "outputs": [],
   "source": [
    "import numpy as np\n",
    "import pandas as pd\n",
    "from scipy import fftpack\n",
    "from scipy import signal\n",
    "import time\n",
    "import os\n",
    "import matplotlib\n",
    "import matplotlib.pyplot as plt\n",
    "import pylab\n",
    "import pickle\n",
    "import copy\n",
    "import processing\n",
    "import datetime\n",
    "import multiprocessing as mp\n",
    "import processing\n",
    "\n",
    "%matplotlib inline"
   ]
  },
  {
   "cell_type": "code",
   "execution_count": 4,
   "metadata": {
    "collapsed": true
   },
   "outputs": [],
   "source": [
    "DataName='sensor'+str(SensorNum)+'_'+Axis\n",
    "SensorName='sensor'+str(SensorNum)\n",
    "DicName='MemSensor'+str(SensorNum)"
   ]
  },
  {
   "cell_type": "code",
   "execution_count": 5,
   "metadata": {
    "collapsed": false
   },
   "outputs": [],
   "source": [
    "if not os.path.exists(WORKSPACE_PATH+'/study/'+DataName+'/'): os.makedirs(WORKSPACE_PATH+'/study/'+DataName+'/')\n",
    "StudyDataPath=WORKSPACE_PATH+'/study/'+DataName+'/'\n",
    "\n",
    "if not os.path.exists(WORKSPACE_PATH+'/graph/'+DataName+'/loss/'): os.makedirs(WORKSPACE_PATH+'/graph/'+DataName+'/loss/')\n",
    "GraphDataPath=WORKSPACE_PATH+'/graph/'+DataName+'/loss/'\n",
    "\n",
    "if not os.path.exists(WORKSPACE_PATH+'/graph/'+DataName+'/Time/'): os.makedirs(WORKSPACE_PATH+'/graph/'+DataName+'/Time/')\n",
    "GraphDataTimePath=WORKSPACE_PATH+'/graph/'+DataName+'/Time/'\n",
    "\n",
    "if not os.path.exists(WORKSPACE_PATH+'/graph/'+DataName+'/Spectrum_Phase/'): os.makedirs(WORKSPACE_PATH+'/graph/'+DataName+'/Spectrum_Phase/')\n",
    "GraphDataSpectrumPath=WORKSPACE_PATH+'/graph/'+DataName+'/Spectrum_Phase/'\n",
    "\n",
    "if not os.path.exists(WORKSPACE_PATH+'/modelPic/'+DataName+'/'): os.makedirs(WORKSPACE_PATH+'/modelPic/'+DataName+'/')\n",
    "StudyDataModelPicPath=WORKSPACE_PATH+'/modelPic/'+DataName+'/'\n",
    "\n",
    "if not os.path.exists(WORKSPACE_PATH+'/window/'+DataName+'/'): os.makedirs(WORKSPACE_PATH+'/window/'+DataName+'/')\n",
    "WindowDataPath=WORKSPACE_PATH+'/window/'+DataName+'/'\n",
    "\n",
    "RawDataPath=WORKSPACE_PATH+\"raw/\""
   ]
  },
  {
   "cell_type": "code",
   "execution_count": 6,
   "metadata": {
    "collapsed": true
   },
   "outputs": [],
   "source": [
    "def kld(p, q):\n",
    "    \"\"\"Calculates Kullback–Leibler divergence\"\"\"\n",
    "    p = np.array(p)\n",
    "    q = np.array(q)\n",
    "    return np.sum(p * np.log(p / q), axis=(p.ndim - 1))\n",
    " \n",
    "def jsd(p, q):\n",
    "    \"\"\"Calculates Jensen-Shannon Divergence\"\"\"\n",
    "    p = np.array(p)\n",
    "    q = np.array(q)\n",
    "    m = 0.5 * (p + q)\n",
    "    return 0.5 * kld(p, m) + 0.5 * kld(q, m)"
   ]
  },
  {
   "cell_type": "code",
   "execution_count": 7,
   "metadata": {
    "collapsed": false,
    "scrolled": true
   },
   "outputs": [
    {
     "name": "stdout",
     "output_type": "stream",
     "text": [
      "hiden node = 4\n",
      "calcurate FFT\n",
      "calcurate Phase\n",
      "Graph range=0 : 3184\n",
      "Graph range=3184 : 6368\n",
      "Graph range=6368 : 9552\n",
      "Graph range=9552 : 12736\n",
      "Graph range=12736 : 15920\n",
      "Graph range=15920 : 19104\n",
      "Graph range=19104 : 22288\n",
      "Graph range=22288 : 25472\n",
      "Graph range=25472 : 28656\n",
      "Graph range=28656 : 31840\n",
      "Graph range=31840 : 35024\n",
      "Graph range=35024 : 38208\n",
      "Graph range=38208 : 41392\n",
      "Graph range=41392 : 44576\n",
      "Graph range=44576 : 47760\n",
      "Graph range=47760 : 50944\n",
      "Graph range=50944 : 54128\n",
      "Graph range=54128 : 57312\n",
      "Graph range=57312 : 60496\n",
      "Graph range=60496 : 63680\n",
      "Graph range=0 : 3184\n",
      "Graph range=3184 : 6368\n",
      "Graph range=6368 : 9552\n",
      "Graph range=9552 : 12736\n",
      "Graph range=12736 : 15920\n",
      "Graph range=15920 : 19104\n",
      "Graph range=19104 : 22288\n",
      "Graph range=22288 : 25472\n",
      "Graph range=25472 : 28656\n",
      "Graph range=28656 : 31840\n",
      "Graph range=31840 : 35024\n",
      "Graph range=35024 : 38208\n",
      "Graph range=38208 : 41392\n",
      "Graph range=41392 : 44576\n",
      "Graph range=44576 : 47760\n",
      "Graph range=47760 : 50944\n",
      "Graph range=50944 : 54128\n",
      "Graph range=54128 : 57312\n",
      "Graph range=57312 : 60496\n",
      "Graph range=60496 : 63680\n",
      "Graph range=0 : 3184\n",
      "Graph range=3184 : 6368\n",
      "Graph range=6368 : 9552\n"
     ]
    },
    {
     "ename": "KeyboardInterrupt",
     "evalue": "",
     "output_type": "error",
     "traceback": [
      "\u001b[0;31m---------------------------------------------------------------------------\u001b[0m",
      "\u001b[0;31mKeyboardInterrupt\u001b[0m                         Traceback (most recent call last)",
      "\u001b[0;32m<ipython-input-7-1b362fe25c73>\u001b[0m in \u001b[0;36m<module>\u001b[0;34m()\u001b[0m\n\u001b[1;32m     68\u001b[0m                 \u001b[0mcx\u001b[0m\u001b[0;34m.\u001b[0m\u001b[0mclear\u001b[0m\u001b[0;34m(\u001b[0m\u001b[0;34m)\u001b[0m\u001b[0;34m\u001b[0m\u001b[0m\n\u001b[1;32m     69\u001b[0m                 \u001b[0;32mprint\u001b[0m \u001b[0;34m'Graph range='\u001b[0m\u001b[0;34m+\u001b[0m\u001b[0mstr\u001b[0m\u001b[0;34m(\u001b[0m\u001b[0mstart\u001b[0m\u001b[0;34m)\u001b[0m\u001b[0;34m+\u001b[0m\u001b[0;34m' : '\u001b[0m\u001b[0;34m+\u001b[0m\u001b[0mstr\u001b[0m\u001b[0;34m(\u001b[0m\u001b[0mgoal\u001b[0m\u001b[0;34m)\u001b[0m\u001b[0;34m\u001b[0m\u001b[0m\n\u001b[0;32m---> 70\u001b[0;31m                 \u001b[0mtime\u001b[0m\u001b[0;34m.\u001b[0m\u001b[0msleep\u001b[0m\u001b[0;34m(\u001b[0m\u001b[0;36m3\u001b[0m\u001b[0;34m)\u001b[0m\u001b[0;34m\u001b[0m\u001b[0m\n\u001b[0m",
      "\u001b[0;31mKeyboardInterrupt\u001b[0m: "
     ]
    },
    {
     "data": {
      "image/png": "[encoded data removed]",
      "text/plain": [
       "<matplotlib.figure.Figure at 0x7f2be2c2c510>"
      ]
     },
     "metadata": {},
     "output_type": "display_data"
    }
   ],
   "source": [
    "fig = plt.figure(figsize=(30,15))\n",
    "ax = fig.add_subplot(311)\n",
    "bx = fig.add_subplot(312)\n",
    "cx = fig.add_subplot(313)\n",
    "\n",
    "# loop windowWidth\n",
    "for SampleNum,Overlap in zip(WindowWidth,OverlapArray):\n",
    "    # define SaveFileName\n",
    "    for encoding_dim in EncodingDim:\n",
    "        print \"hiden node = \"+str(encoding_dim)\n",
    "        CommonName = '_edim='+str(encoding_dim)+'-Window='+str(SampleNum)+'-Overlap='+str(Overlap*100)\n",
    "        SaveFileNameEncord=DataName+'_encoded'+ CommonName\n",
    "        SaveFileNameDecord=DataName+'_decoded'+ CommonName\n",
    "        SaveFileNameNet=DataName+'_net'+ CommonName\n",
    "        SaveFileNameTrain=DataName+'_train'+ CommonName\n",
    "        SaveFileNameTest=DataName+'_test'+ CommonName\n",
    "        SaveFileNameGraph= GraphDataSpectrumPath+DataName+CommonName\n",
    "\n",
    "        #window = processing.LoadDicDataFromFileNPZ(StudyDataPath+SaveFileNameTrain)\n",
    "        window = processing.LoadDicDataFromFileNPZ(WindowDataPath+SaveFileNameTrain)\n",
    "        reconstructData = processing.LoadDicDataFromFileNPZ(StudyDataPath+SaveFileNameDecord)\n",
    "        \n",
    "        # FFT \n",
    "        print \"calcurate FFT\"\n",
    "        fftDataE = np.array([])\n",
    "        fftDataD = np.array([])\n",
    "        for i in range(len(window)):\n",
    "                fftDataE=np.append(fftDataE, fftpack.fft( window[i])[1:(SampleNum/2)+1])\n",
    "                fftDataD=np.append(fftDataD, fftpack.fft( reconstructData[i])[1:(SampleNum/2)+1])\n",
    "        fftDataE = fftDataE.reshape(len(fftDataE)/(SampleNum/2),(SampleNum/2))\n",
    "        fftDataD = fftDataD.reshape(len(fftDataD)/(SampleNum/2),(SampleNum/2))\n",
    "        processing.SaveDicDataFromFileNPZ(StudyDataPath, DataName+CommonName+'-fft-raw',fftDataE)\n",
    "        processing.SaveDicDataFromFileNPZ(StudyDataPath, DataName+CommonName+'-fft-restruct',fftDataD)\n",
    "        \n",
    "        # Phase\n",
    "        print \"calcurate Phase\"\n",
    "        phaseDataE = np.arctan(np.imag(fftDataE)/np.real(fftDataE)) * 180/np.pi\n",
    "        phaseDataD = np.arctan(np.imag(fftDataD)/np.real(fftDataD)) * 180/np.pi\n",
    "\n",
    "        processing.SaveDicDataFromFileNPZ(StudyDataPath, DataName+CommonName+'-phase-raw',phaseDataE)\n",
    "        processing.SaveDicDataFromFileNPZ(StudyDataPath, DataName+CommonName+'-phase-restruct',phaseDataD)\n",
    "        \n",
    "        width = phaseDataE.shape[0]/20\n",
    "        for l in range(0,SampleNum/2):\n",
    "            for i in range(width,phaseDataE.shape[0],width):\n",
    "                start =i-width\n",
    "                goal=i\n",
    "\n",
    "                data = (phaseDataD[start:goal,l]-phaseDataE[start:goal,l])**2\n",
    "                dataE = phaseDataE[start:goal,l]\n",
    "                dataD = phaseDataD[start:goal,l]\n",
    "\n",
    "                #dataE,dataDをPower\n",
    "                ax.plot(range(start,goal),dataE ,label='phase-rawData')\n",
    "                ax.legend(loc='best')\n",
    "                ax.set_title(str(start)+\"-\"+str(goal))\n",
    "\n",
    "                bx.plot(range(start,goal),dataD,label='phase-reconst' )\n",
    "                bx.legend(loc='best')\n",
    "                bx.set_title(str(start)+\"-\"+str(goal))\n",
    "\n",
    "                cx.plot(range(start,goal),data,'g',label=\"diff-phase\")\n",
    "                cx.legend(loc='best')\n",
    "                cx.set_title(str(start)+\"-\"+str(goal))\n",
    "                ax.figure.savefig(SaveFileNameGraph+'-'+str(start)+\"-\"+str(goal)+'-'+'-phase='+str(l)+'-glaph')\n",
    "                ax.clear()\n",
    "                bx.clear()\n",
    "                cx.clear()\n",
    "                print 'Graph range='+str(start)+' : '+str(goal)\n",
    "                time.sleep(3)"
   ]
  },
  {
   "cell_type": "code",
   "execution_count": null,
   "metadata": {
    "collapsed": false
   },
   "outputs": [],
   "source": [
    "SampleNum"
   ]
  },
  {
   "cell_type": "code",
   "execution_count": null,
   "metadata": {
    "collapsed": false
   },
   "outputs": [],
   "source": [
    "phaseDataD"
   ]
  },
  {
   "cell_type": "code",
   "execution_count": null,
   "metadata": {
    "collapsed": true
   },
   "outputs": [],
   "source": []
  }
 ],
 "metadata": {
  "kernelspec": {
   "display_name": "Python 2",
   "language": "python",
   "name": "python2"
  },
  "language_info": {
   "codemirror_mode": {
    "name": "ipython",
    "version": 2
   },
   "file_extension": ".py",
   "mimetype": "text/x-python",
   "name": "python",
   "nbconvert_exporter": "python",
   "pygments_lexer": "ipython2",
   "version": "2.7.11"
  }
 },
 "nbformat": 4,
 "nbformat_minor": 0
}
