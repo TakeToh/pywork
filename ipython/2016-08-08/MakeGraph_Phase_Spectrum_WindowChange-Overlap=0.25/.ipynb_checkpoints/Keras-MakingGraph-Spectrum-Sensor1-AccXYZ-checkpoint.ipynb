{
 "cells": [
  {
   "cell_type": "code",
   "execution_count": 1,
   "metadata": {
    "collapsed": true
   },
   "outputs": [],
   "source": [
    "SensorNum=1 # Sensor number\n",
    "WindowWidth=[16,32,64,128,256,512,1024] # Window Width\n",
    "OverlapArray=[4,8,16,32,64,128,256] # sliding window\n",
    "width=1000 # graph width \n",
    "EncodingDim=[4,8,12,16,32,64] # number of hidden layer note\n",
    "Axis='AccX,AccY,AccZ' # Axis\n",
    "PathAxis='AccXYZ'\n",
    "\n",
    "# chopin\n",
    "#WORKSPACE_PATH = \"/media/takeyama/HD-PZU3/01_TAKEYAMA_WORKSPACE/02_CommonData/2016-07-25\"\n",
    "\n",
    "# mozart\n",
    "WORKSPACE_PATH = \"/home/takeyama/Documents\""
   ]
  },
  {
   "cell_type": "code",
   "execution_count": 2,
   "metadata": {
    "collapsed": false
   },
   "outputs": [],
   "source": [
    "import numpy as np\n",
    "import pandas as pd\n",
    "from scipy import fftpack\n",
    "from scipy import signal\n",
    "import time\n",
    "import os\n",
    "import matplotlib\n",
    "matplotlib.use('TkAgg')\n",
    "import matplotlib.pyplot as plt\n",
    "import pylab\n",
    "import pickle\n",
    "import copy\n",
    "import processing\n",
    "import matplotlib.animation as animation\n",
    "import datetime\n",
    "import multiprocessing as mp\n",
    "import processing\n",
    "\n",
    "%matplotlib inline"
   ]
  },
  {
   "cell_type": "code",
   "execution_count": 3,
   "metadata": {
    "collapsed": true
   },
   "outputs": [],
   "source": [
    "SensorName='sensor'+str(SensorNum)\n",
    "DicName='MemSensor'+str(SensorNum)"
   ]
  },
  {
   "cell_type": "code",
   "execution_count": 8,
   "metadata": {
    "collapsed": false
   },
   "outputs": [],
   "source": [
    "if not os.path.exists(WORKSPACE_PATH+'/study/'+DataName+'/'): os.makedirs(WORKSPACE_PATH+'/study/'+DataName+'/')\n",
    "StudyDataPath=WORKSPACE_PATH+'/study/'+DataName+'/'\n",
    "\n",
    "if not os.path.exists(WORKSPACE_PATH+'/graph/'+DataName+'/loss/'): os.makedirs(WORKSPACE_PATH+'/graph/'+DataName+'/loss/')\n",
    "GraphDataPath=WORKSPACE_PATH+'/graph/'+DataName+'/loss/'\n",
    "\n",
    "if not os.path.exists(WORKSPACE_PATH+'/graph/'+DataName+'/Time/'): os.makedirs(WORKSPACE_PATH+'/graph/'+DataName+'/Time/')\n",
    "GraphDataTimePath=WORKSPACE_PATH+'/graph/'+DataName+'/Time/'\n",
    "\n",
    "if not os.path.exists(WORKSPACE_PATH+'/graph/'+DataName+'/Spectrum/'): os.makedirs(WORKSPACE_PATH+'/graph/'+DataName+'/Spectrum/')\n",
    "GraphDataSpectrumPath=WORKSPACE_PATH+'/graph/'+DataName+'/Spectrum/'\n",
    "\n",
    "if not os.path.exists(WORKSPACE_PATH+'/modelPic/'+DataName+'/'): os.makedirs(WORKSPACE_PATH+'/modelPic/'+DataName+'/')\n",
    "StudyDataModelPicPath=WORKSPACE_PATH+'/modelPic/'+DataName+'/'\n",
    "\n",
    "if not os.path.exists(WORKSPACE_PATH+'/window/'+DataName+'/'): os.makedirs(WORKSPACE_PATH+'/window/'+DataName+'/')\n",
    "WindowDataPath=WORKSPACE_PATH+'/window/'+DataName+'/'\n",
    "\n",
    "RawDataPath=WORKSPACE_PATH+\"raw/\""
   ]
  },
  {
   "cell_type": "code",
   "execution_count": 9,
   "metadata": {
    "collapsed": true
   },
   "outputs": [],
   "source": [
    "def kld(p, q):\n",
    "    \"\"\"Calculates Kullback–Leibler divergence\"\"\"\n",
    "    p = np.array(p)\n",
    "    q = np.array(q)\n",
    "    return np.sum(p * np.log(p / q), axis=(p.ndim - 1))\n",
    " \n",
    "def jsd(p, q):\n",
    "    \"\"\"Calculates Jensen-Shannon Divergence\"\"\"\n",
    "    p = np.array(p)\n",
    "    q = np.array(q)\n",
    "    m = 0.5 * (p + q)\n",
    "    return 0.5 * kld(p, m) + 0.5 * kld(q, m)"
   ]
  },
  {
   "cell_type": "markdown",
   "metadata": {},
   "source": [
    "並列処理でグラフを作成する"
   ]
  },
  {
   "cell_type": "code",
   "execution_count": 11,
   "metadata": {
    "collapsed": false,
    "scrolled": true
   },
   "outputs": [
    {
     "name": "stdout",
     "output_type": "stream",
     "text": [
      "hiden node = 4\n"
     ]
    },
    {
     "ename": "IOError",
     "evalue": "[Errno 2] No such file or directory: '/home/takeyama/Documents/window/sensor1_AccX,AccY,AccZ/sensor1_AccX,AccY,AccZ_train_edim=4-Window=16-Overlap=400.npz'",
     "output_type": "error",
     "traceback": [
      "\u001b[1;31m---------------------------------------------------------------------------\u001b[0m",
      "\u001b[1;31mIOError\u001b[0m                                   Traceback (most recent call last)",
      "\u001b[1;32m<ipython-input-11-b63e9c08f038>\u001b[0m in \u001b[0;36m<module>\u001b[1;34m()\u001b[0m\n\u001b[0;32m     21\u001b[0m \u001b[1;33m\u001b[0m\u001b[0m\n\u001b[0;32m     22\u001b[0m             \u001b[1;31m#window = processing.LoadDicDataFromFileNPZ(StudyDataPath+SaveFileNameTrain)\u001b[0m\u001b[1;33m\u001b[0m\u001b[1;33m\u001b[0m\u001b[0m\n\u001b[1;32m---> 23\u001b[1;33m             \u001b[0mwind\u001b[0m \u001b[1;33m=\u001b[0m \u001b[0mprocessing\u001b[0m\u001b[1;33m.\u001b[0m\u001b[0mLoadDicDataFromFileNPZ\u001b[0m\u001b[1;33m(\u001b[0m\u001b[0mWindowDataPath\u001b[0m\u001b[1;33m+\u001b[0m\u001b[0mSaveFileNameTrain\u001b[0m\u001b[1;33m)\u001b[0m\u001b[1;33m\u001b[0m\u001b[0m\n\u001b[0m\u001b[0;32m     24\u001b[0m             \u001b[0mwindow\u001b[0m \u001b[1;33m=\u001b[0m\u001b[0mwind\u001b[0m\u001b[1;33m[\u001b[0m\u001b[1;33m:\u001b[0m\u001b[1;33m,\u001b[0m\u001b[1;33m:\u001b[0m\u001b[1;33m,\u001b[0m\u001b[0mWindowNum\u001b[0m\u001b[1;33m]\u001b[0m\u001b[1;33m\u001b[0m\u001b[0m\n\u001b[0;32m     25\u001b[0m             \u001b[0mrecon\u001b[0m\u001b[1;33m=\u001b[0m \u001b[0mprocessing\u001b[0m\u001b[1;33m.\u001b[0m\u001b[0mLoadDicDataFromFileNPZ\u001b[0m\u001b[1;33m(\u001b[0m\u001b[0mStudyDataPath\u001b[0m\u001b[1;33m+\u001b[0m\u001b[0mSaveFileNameDecord\u001b[0m\u001b[1;33m)\u001b[0m\u001b[1;33m\u001b[0m\u001b[0m\n",
      "\u001b[1;32m/home/takeyama/pywork/ipython/2016-08-01/MakeGraph_Spectrum_WindowChange-Overlap=0.25/processing.pyc\u001b[0m in \u001b[0;36mLoadDicDataFromFileNPZ\u001b[1;34m(loadName)\u001b[0m\n",
      "\u001b[1;32m/home/takeyama/.pyenv/versions/takeyama/lib/python2.7/site-packages/numpy-1.12.0.dev0+330d023-py2.7-linux-x86_64.egg/numpy/lib/npyio.pyc\u001b[0m in \u001b[0;36mload\u001b[1;34m(file, mmap_mode, allow_pickle, fix_imports, encoding)\u001b[0m\n\u001b[0;32m    367\u001b[0m     \u001b[0mown_fid\u001b[0m \u001b[1;33m=\u001b[0m \u001b[0mFalse\u001b[0m\u001b[1;33m\u001b[0m\u001b[0m\n\u001b[0;32m    368\u001b[0m     \u001b[1;32mif\u001b[0m \u001b[0misinstance\u001b[0m\u001b[1;33m(\u001b[0m\u001b[0mfile\u001b[0m\u001b[1;33m,\u001b[0m \u001b[0mbasestring\u001b[0m\u001b[1;33m)\u001b[0m\u001b[1;33m:\u001b[0m\u001b[1;33m\u001b[0m\u001b[0m\n\u001b[1;32m--> 369\u001b[1;33m         \u001b[0mfid\u001b[0m \u001b[1;33m=\u001b[0m \u001b[0mopen\u001b[0m\u001b[1;33m(\u001b[0m\u001b[0mfile\u001b[0m\u001b[1;33m,\u001b[0m \u001b[1;34m\"rb\"\u001b[0m\u001b[1;33m)\u001b[0m\u001b[1;33m\u001b[0m\u001b[0m\n\u001b[0m\u001b[0;32m    370\u001b[0m         \u001b[0mown_fid\u001b[0m \u001b[1;33m=\u001b[0m \u001b[0mTrue\u001b[0m\u001b[1;33m\u001b[0m\u001b[0m\n\u001b[0;32m    371\u001b[0m     \u001b[1;32melif\u001b[0m \u001b[0mis_pathlib_path\u001b[0m\u001b[1;33m(\u001b[0m\u001b[0mfile\u001b[0m\u001b[1;33m)\u001b[0m\u001b[1;33m:\u001b[0m\u001b[1;33m\u001b[0m\u001b[0m\n",
      "\u001b[1;31mIOError\u001b[0m: [Errno 2] No such file or directory: '/home/takeyama/Documents/window/sensor1_AccX,AccY,AccZ/sensor1_AccX,AccY,AccZ_train_edim=4-Window=16-Overlap=400.npz'"
     ]
    },
    {
     "data": {
      "image/png": "[encoded data removed]",
      "text/plain": [
       "<matplotlib.figure.Figure at 0x7fa5e036c3d0>"
      ]
     },
     "metadata": {},
     "output_type": "display_data"
    }
   ],
   "source": [
    "fig = plt.figure(figsize=(30,15))\n",
    "ax = fig.add_subplot(311)\n",
    "bx = fig.add_subplot(312)\n",
    "cx = fig.add_subplot(313)\n",
    "\n",
    "# loop windowWidth\n",
    "for SampleNum,Overlap in zip(WindowWidth,OverlapArray):\n",
    "    ArrayAxis = Axis.split(\",\")\n",
    "\n",
    "    # define SaveFileName\n",
    "    for AxisName,WindowNum in zip(ArrayAxis,range(3)):\n",
    "        DataName='sensor'+str(SensorNum)+'_'+Axis\n",
    "\n",
    "        for encoding_dim in EncodingDim:\n",
    "            print \"hiden node = \"+str(encoding_dim)\n",
    "            CommonName = '_edim='+str(encoding_dim)+'-Window='+str(SampleNum)+'-Overlap='+str(Overlap*100)\n",
    "            SaveFileNameEncord=DataName+'_encoded'+ CommonName\n",
    "            SaveFileNameDecord=DataName+'_decoded'+ CommonName\n",
    "            SaveFileNameNet=DataName+'_net'+ CommonName\n",
    "            SaveFileNameTrain=DataName+'_train'+ CommonName\n",
    "            SaveFileNameTest=DataName+'_test'+ CommonName\n",
    "            SaveFileNameGraph= GraphDataSpectrumPath+DataName+CommonName\n",
    "\n",
    "            #window = processing.LoadDicDataFromFileNPZ(StudyDataPath+SaveFileNameTrain)\n",
    "            wind = processing.LoadDicDataFromFileNPZ(WindowDataPath+SaveFileNameTrain)\n",
    "            window =wind[:,:,WindowNum]\n",
    "            recon= processing.LoadDicDataFromFileNPZ(StudyDataPath+SaveFileNameDecord)\n",
    "            reconstructData = recon[:,:,WindowNum]\n",
    "            \n",
    "            # FFT \n",
    "            fftDataE = np.array([])\n",
    "            fftDataD = np.array([])\n",
    "            for i in range(len(window)):\n",
    "                    fftDataE=np.append(fftDataE, fftpack.fft( window[i])[1:(SampleNum/2)+1])\n",
    "                    fftDataD=np.append(fftDataD, fftpack.fft( reconstructData[i])[1:(SampleNum/2)+1])\n",
    "            fftDataE = fftDataE.reshape(len(fftDataE)/(SampleNum/2),(SampleNum/2))\n",
    "            fftDataD = fftDataD.reshape(len(fftDataD)/(SampleNum/2),(SampleNum/2))\n",
    "            processing.SaveDicDataFromFileNPZ(StudyDataPath, DataName+CommonName+'-fft-raw',fftDataE)\n",
    "            processing.SaveDicDataFromFileNPZ(StudyDataPath, DataName+CommonName+'-fft-restruct',fftDataD)\n",
    "\n",
    "            # Power\n",
    "            PowerDataE = np.imag(fftDataE)**2+np.real(fftDataE)**2\n",
    "            PowerDataD = np.imag(fftDataD)**2+np.real(fftDataD)**2\n",
    "            processing.SaveDicDataFromFileNPZ(StudyDataPath, DataName+CommonName+'-power-raw',PowerDataE)\n",
    "            processing.SaveDicDataFromFileNPZ(StudyDataPath, DataName+CommonName+'-power-restruct',PowerDataD)\n",
    "\n",
    "            # to distribution\n",
    "            DistributePowerDataE = np.array([])\n",
    "            DistributePowerDataD = np.array([])\n",
    "\n",
    "            for i in range( PowerDataE.shape[0] ):\n",
    "                DistributePowerDataE = np.append(DistributePowerDataE,PowerDataE[i]/( np.sum(PowerDataE[i]) ))\n",
    "            DistributePowerDataE = DistributePowerDataE.reshape(PowerDataE.shape)\n",
    "\n",
    "            for i in range( PowerDataD.shape[0] ):\n",
    "                DistributePowerDataD = np.append(DistributePowerDataD,PowerDataD[i]/( np.sum(PowerDataD[i]) ))\n",
    "            DistributePowerDataD = DistributePowerDataD.reshape(PowerDataD.shape)\n",
    "\n",
    "            processing.SaveDicDataFromFileNPZ(StudyDataPath, DataName+CommonName+'-power-distribution-raw',DistributePowerDataE)\n",
    "            processing.SaveDicDataFromFileNPZ(StudyDataPath, DataName+CommonName+'-power-distribution-reconst',DistributePowerDataD)\n",
    "\n",
    "            # Kullback-leibler-divergence plot\n",
    "            ArrayKLD = np.array([])\n",
    "            for i in range(DistributePowerDataE.shape[0]):\n",
    "                ArrayKLD = np.append(ArrayKLD, kld(DistributePowerDataE[i],DistributePowerDataD[i]))\n",
    "\n",
    "            for i in range(width,DistributePowerDataE.shape[0],width):\n",
    "                start =i-width\n",
    "                goal=i\n",
    "\n",
    "                data = ArrayKLD[start:goal]\n",
    "                dataE = DistributePowerDataE[start:goal]\n",
    "                dataD = DistributePowerDataD[start:goal]\n",
    "\n",
    "                #dataE,dataDをPower\n",
    "                ax.pcolormesh(range(start,goal),range(dataE.shape[1]),dataE.T ,label='rawData')\n",
    "                ax.legend(loc='best')\n",
    "                ax.set_title(str(start)+\"-\"+str(goal))\n",
    "\n",
    "                bx.pcolormesh(range(start,goal),range(dataD.shape[1]),dataD.T ,label='reconst' )\n",
    "                bx.legend(loc='best')\n",
    "                bx.set_title(str(start)+\"-\"+str(goal))\n",
    "\n",
    "                cx.plot(range(start,goal),data,'g',label=\"kld data\")\n",
    "                cx.legend(loc='best')\n",
    "                cx.set_title(str(start)+\"-\"+str(goal))\n",
    "                ax.figure.savefig(SaveFileNameGraph+'-'+str(start)+\"-\"+str(goal)+'-'+'-glaph')\n",
    "                ax.clear()\n",
    "                bx.clear()\n",
    "                cx.clear()\n",
    "                print 'Graph range='+str(start)+' : '+str(goal)\n",
    "                time.sleep(3)"
   ]
  },
  {
   "cell_type": "code",
   "execution_count": null,
   "metadata": {
    "collapsed": true
   },
   "outputs": [],
   "source": []
  }
 ],
 "metadata": {
  "kernelspec": {
   "display_name": "Python 2",
   "language": "python",
   "name": "python2"
  },
  "language_info": {
   "codemirror_mode": {
    "name": "ipython",
    "version": 2
   },
   "file_extension": ".py",
   "mimetype": "text/x-python",
   "name": "python",
   "nbconvert_exporter": "python",
   "pygments_lexer": "ipython2",
   "version": "2.7.11"
  }
 },
 "nbformat": 4,
 "nbformat_minor": 0
}
