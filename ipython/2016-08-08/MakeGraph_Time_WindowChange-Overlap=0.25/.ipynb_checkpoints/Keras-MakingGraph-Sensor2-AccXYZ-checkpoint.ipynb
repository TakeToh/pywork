{
 "cells": [
  {
   "cell_type": "markdown",
   "metadata": {},
   "source": [
    "important 変数を個々に定義する"
   ]
  },
  {
   "cell_type": "code",
   "execution_count": 1,
   "metadata": {
    "collapsed": true
   },
   "outputs": [],
   "source": [
    "SensorNum=1 # Sensor number\n",
    "SampleNum=32 # Window Width\n",
    "Overlap=0.5 # overlap\n",
    "WindowWidth=[16,32,64,128,256,512,1024] # Window Width\n",
    "OverlapArray=[4,8,16,32,64,128,256] # sliding window\n",
    "EncodingDim=[4,8,12,16,32,64] # number of hidden layer note\n",
    "Axis='AccX,AccY,AccZ' # Axis\n",
    "PathAxis='AccXYZ'\n",
    "\n",
    "# chopin\n",
    "#WORKSPACE_PATH = \"/media/takeyama/HD-PZU3/01_TAKEYAMA_WORKSPACE/02_CommonData/2016-07-25\"\n",
    "\n",
    "# mozart\n",
    "WORKSPACE_PATH = \"/home/takeyama/Documents/01_SyncChopin/2016-07-25\""
   ]
  },
  {
   "cell_type": "code",
   "execution_count": 2,
   "metadata": {
    "collapsed": false
   },
   "outputs": [],
   "source": [
    "import numpy as np\n",
    "import pandas as pd\n",
    "from scipy import fftpack\n",
    "from scipy import signal\n",
    "import time\n",
    "import os\n",
    "import matplotlib.pyplot as plt\n",
    "import pylab\n",
    "import pickle\n",
    "import copy\n",
    "\n",
    "import processing\n",
    "import window\n",
    "\n",
    "import matplotlib.animation as animation\n",
    "import datetime\n",
    "\n",
    "%matplotlib inline"
   ]
  },
  {
   "cell_type": "code",
   "execution_count": 3,
   "metadata": {
    "collapsed": false
   },
   "outputs": [
    {
     "name": "stderr",
     "output_type": "stream",
     "text": [
      "Using Theano backend.\n",
      "Using gpu device 0: GeForce GTX 970 (CNMeM is disabled, cuDNN 4007)\n"
     ]
    }
   ],
   "source": [
    "from keras.models import Sequential\n",
    "from keras.datasets import cifar10\n",
    "from keras.layers import Dense, Activation, Flatten\n",
    "from keras.optimizers import Adadelta\n",
    "from keras.utils import np_utils\n",
    "from keras.layers.convolutional import Convolution2D, MaxPooling2D\n",
    "from keras.utils.visualize_util import model_to_dot, plot\n",
    "from keras import backend as K\n",
    "from keras.layers import Input, Dense\n",
    "from keras.models import Model\n",
    "from keras.callbacks import EarlyStopping\n",
    "\n",
    "import matplotlib.image as mpimg\n"
   ]
  },
  {
   "cell_type": "code",
   "execution_count": 4,
   "metadata": {
    "collapsed": true
   },
   "outputs": [],
   "source": [
    "DataName='sensor'+str(SensorNum)+'_'+Axis\n",
    "SensorName='sensor'+str(SensorNum)\n",
    "DicName='MemSensor'+str(SensorNum)\n",
    "ArrayAxis = Axis.split(\",\")"
   ]
  },
  {
   "cell_type": "code",
   "execution_count": 5,
   "metadata": {
    "collapsed": false
   },
   "outputs": [],
   "source": [
    "if not os.path.exists(WORKSPACE_PATH+'/study/'+DataName+'/'): os.makedirs(WORKSPACE_PATH+'/study/'+DataName+'/')\n",
    "StudyDataPath=WORKSPACE_PATH+'/study/'+DataName+'/'\n",
    "\n",
    "if not os.path.exists(WORKSPACE_PATH+'/graph/'+DataName+'/loss/'): os.makedirs(WORKSPACE_PATH+'/graph/'+DataName+'/loss/')\n",
    "GlaphDataPath=WORKSPACE_PATH+'/graph/'+DataName+'/loss/'\n",
    "\n",
    "if not os.path.exists(WORKSPACE_PATH+'/graph/'+DataName+'/Time/'): os.makedirs(WORKSPACE_PATH+'/graph/'+DataName+'/Time/')\n",
    "GlaphDataTimePath=WORKSPACE_PATH+'/graph/'+DataName+'/Time/'\n",
    "\n",
    "if not os.path.exists(WORKSPACE_PATH+'/modelPic/'+DataName+'/'): os.makedirs(WORKSPACE_PATH+'/modelPic/'+DataName+'/')\n",
    "StudyDataModelPicPath=WORKSPACE_PATH+'/modelPic/'+DataName+'/'\n",
    "\n",
    "if not os.path.exists(WORKSPACE_PATH+'/window/'+DataName+'/'): os.makedirs(WORKSPACE_PATH+'/window/'+DataName+'/')\n",
    "WindowDataPath=WORKSPACE_PATH+'/window/'+DataName+'/'\n",
    "\n",
    "RawDataPath=\"/media/takeyama/HD-PZU3/01_TAKEYAMA_WORKSPACE/02_CommonData/raw/\""
   ]
  },
  {
   "cell_type": "markdown",
   "metadata": {},
   "source": [
    "**前回やった学習をもう１度やってみる**"
   ]
  },
  {
   "cell_type": "code",
   "execution_count": null,
   "metadata": {
    "collapsed": false,
    "scrolled": true
   },
   "outputs": [
    {
     "name": "stdout",
     "output_type": "stream",
     "text": [
      "Graph range=0 : 50945\n",
      "Graph range=50945 : 101890\n",
      "Graph range=101890 : 152835\n",
      "Graph range=152835 : 203780\n",
      "Graph range=203780 : 254725\n",
      "Graph range=254725 : 305670\n",
      "Graph range=305670 : 356615\n",
      "Graph range=356615 : 407560\n",
      "Graph range=407560 : 458505\n",
      "Graph range=458505 : 509450\n",
      "Graph range=509450 : 560395\n",
      "Graph range=560395 : 611340\n",
      "Graph range=611340 : 662285\n",
      "Graph range=662285 : 713230\n",
      "Graph range=713230 : 764175\n",
      "Graph range=764175 : 815120\n",
      "Graph range=815120 : 866065\n",
      "Graph range=866065 : 917010\n",
      "Graph range=917010 : 967955\n",
      "Graph range=967955 : 1018900\n",
      "Graph range=0 : 50945\n",
      "Graph range=50945 : 101890\n",
      "Graph range=101890 : 152835\n",
      "Graph range=152835 : 203780\n",
      "Graph range=203780 : 254725\n",
      "Graph range=254725 : 305670\n",
      "Graph range=305670 : 356615\n",
      "Graph range=356615 : 407560\n",
      "Graph range=407560 : 458505\n",
      "Graph range=458505 : 509450\n",
      "Graph range=509450 : 560395\n",
      "Graph range=560395 : 611340\n"
     ]
    }
   ],
   "source": [
    "fig = plt.figure(figsize=(30,15))\n",
    "ax = fig.add_subplot(111)\n",
    "\n",
    "for AxisName,WindowNum in zip(ArrayAxis,range(3)):\n",
    "    for SampleNum,Overlap in zip(WindowWidth,OverlapArray):\n",
    "\n",
    "        for encoding_dim in EncodingDim:\n",
    "            # define SaveFileName\n",
    "            commonLabel='_edim='+str(encoding_dim)+'-Window='+str(SampleNum)+'-Overlap='+str(Overlap)+'-'+AxisName\n",
    "            SaveFileNameEncord=DataName+'_encoded'+commonLabel\n",
    "            SaveFileNameDecord=DataName+'_decoded'+commonLabel\n",
    "            SaveFileNameNet=DataName+'_net'+commonLabel\n",
    "            SaveFileNameTrain=DataName+'_train'+commonLabel\n",
    "            SaveFileNameTest=DataName+'_test'+commonLabel\n",
    "            SaveFileNameGraph=GlaphDataPath+ DataName+commonLabel\n",
    "            # load train data\n",
    "            window = processing.LoadDicDataFromFileNPZ(WindowDataPath+SaveFileNameTrain+'.npz')\n",
    "            rawData = window.reshape(window.size,1)\n",
    "\n",
    "            # AutoEncoder Output\n",
    "            reconstructData = processing.LoadDicDataFromFileNPZ(StudyDataPath+SaveFileNameDecord+'.npz')\n",
    "            reconstructData = reconstructData.reshape(reconstructData.size,1)\n",
    "            width=rawData.size/20 # graph width \n",
    "            for i in range(width,rawData.size,width):\n",
    "                start =i-width \n",
    "                goal=i\n",
    "\n",
    "                dataE = rawData[start:goal]\n",
    "                dataD = reconstructData[start:goal]\n",
    "\n",
    "\n",
    "                ax.plot(range(0,len(dataE)),dataE,'r',label=\"raw data\")\n",
    "                ax.plot(range(0,len(dataD)),dataD,'b',label=\"reconstruct\")\n",
    "                ax.legend(loc='best',fontsize=40)\n",
    "                ax.set_title(str(start)+\"-\"+str(goal))\n",
    "                ax.figure.savefig(SaveFileNameGraph+'-'+str(start)+\"-\"+str(goal)+'-'+'graph.jpg')\n",
    "                ax.clear()\n",
    "                print 'Graph range='+str(start)+' : '+str(goal)\n",
    "                time.sleep(3)"
   ]
  },
  {
   "cell_type": "code",
   "execution_count": null,
   "metadata": {
    "collapsed": false
   },
   "outputs": [],
   "source": [
    "print \"finish\""
   ]
  },
  {
   "cell_type": "code",
   "execution_count": null,
   "metadata": {
    "collapsed": true
   },
   "outputs": [],
   "source": []
  }
 ],
 "metadata": {
  "kernelspec": {
   "display_name": "Python 2",
   "language": "python",
   "name": "python2"
  },
  "language_info": {
   "codemirror_mode": {
    "name": "ipython",
    "version": 2
   },
   "file_extension": ".py",
   "mimetype": "text/x-python",
   "name": "python",
   "nbconvert_exporter": "python",
   "pygments_lexer": "ipython2",
   "version": "2.7.11"
  }
 },
 "nbformat": 4,
 "nbformat_minor": 0
}
