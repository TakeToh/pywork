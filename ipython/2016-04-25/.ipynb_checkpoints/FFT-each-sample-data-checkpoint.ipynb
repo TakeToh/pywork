{
 "cells": [
  {
   "cell_type": "code",
   "execution_count": null,
   "metadata": {
    "collapsed": true
   },
   "outputs": [],
   "source": [
    "import numpy as np\n",
    "import matplotlib.pyplot as plt\n",
    "import matplotlib\n",
    "from scipy import fftpack\n",
    "from scipy import signal\n",
    "import numpy as np\n",
    "import pandas as pd\n",
    "import datetime\n",
    "import prettyplotlib as ppl"
   ]
  },
  {
   "cell_type": "code",
   "execution_count": null,
   "metadata": {
    "collapsed": false
   },
   "outputs": [],
   "source": [
    "cd ~/Documents/01_SensorData/2016_04_12/cleaning-addingLABEL/"
   ]
  },
  {
   "cell_type": "code",
   "execution_count": null,
   "metadata": {
    "collapsed": true
   },
   "outputs": [],
   "source": [
    "left_hand = pd.read_csv('Cleaning-Conv-left-hand-ags.csv',parse_dates=['Time'])\n",
    "#left_hand.Time=pd.to_timedelta(left_hand.Time)\n",
    "left_leg = pd.read_csv('Cleaning-Conv-left-leg-ags.csv',parse_dates=['Time'])\n",
    "#left_leg.Time=pd.to_timedelta(left_leg.Time)\n",
    "right_hand = pd.read_csv('Cleaning-Conv-right-hand-ags.csv',parse_dates=['Time'])\n",
    "#right_hand.Time=pd.to_timedelta(right_hand.Time)\n",
    "right_leg = pd.read_csv('Cleaning-Conv-right-leg-ags.csv',parse_dates=['Time'])\n",
    "#right_leg.Time=pd.to_timedelta(right_leg.Time)\n",
    "west = pd.read_csv('Cleaning-Conv-west-ags.csv',parse_dates=['Time'])\n",
    "#west.Time=pd.to_timedelta(west.Time)\n",
    "\n",
    "name=['Cleaning-Conv-left-hand-ags.csv','Cleaning-Conv-left-leg-ags.csv','Cleaning-Conv-right-hand-ags.csv',\\\n",
    "     'Cleaning-Conv-right-leg-ags.csv','Cleaning-Conv-west-ags.csv']"
   ]
  },
  {
   "cell_type": "code",
   "execution_count": null,
   "metadata": {
    "collapsed": false
   },
   "outputs": [],
   "source": [
    "# labering data -> pandas dateframe\n",
    "# freq -> sampling time [seconds]\n",
    "# overlap -> % to freq\n",
    "def sliding_window(labeling_data,freq, overlap):\n",
    "    \n",
    "    count =0\n",
    "    start =labeling_data.Time[0]\n",
    "    goal = start+datetime.timedelta(seconds=freq)\n",
    "    add=freq*overlap\n",
    "    yield labeling_data[(start <= labeling_data.Time) &(labeling_data.Time <= goal)]\n",
    "       \n",
    "    while True:\n",
    "        try:\n",
    "            count +=1\n",
    "            start =start+datetime.timedelta(seconds=add)\n",
    "            goal  =start+datetime.timedelta(seconds=freq)\n",
    "            #print goal\n",
    "            yield labeling_data[(start <= labeling_data.Time) &(labeling_data.Time <= goal)]\n",
    "        except StopIteration:\n",
    "            break"
   ]
  },
  {
   "cell_type": "code",
   "execution_count": 9,
   "metadata": {
    "collapsed": false
   },
   "outputs": [
    {
     "ename": "ValueError",
     "evalue": "If using all scalar values, you must pass an index",
     "output_type": "error",
     "traceback": [
      "\u001b[1;31m---------------------------------------------------------------------------\u001b[0m",
      "\u001b[1;31mValueError\u001b[0m                                Traceback (most recent call last)",
      "\u001b[1;32m<ipython-input-9-43d1047b85f6>\u001b[0m in \u001b[0;36m<module>\u001b[1;34m()\u001b[0m\n\u001b[0;32m     33\u001b[0m                 \u001b[1;34m'GyrX'\u001b[0m\u001b[1;33m:\u001b[0m\u001b[0mnp\u001b[0m\u001b[1;33m.\u001b[0m\u001b[0mreal\u001b[0m\u001b[1;33m(\u001b[0m\u001b[0mlGyrX\u001b[0m\u001b[1;33m)\u001b[0m\u001b[1;33m,\u001b[0m\u001b[1;33m\u001b[0m\u001b[0m\n\u001b[0;32m     34\u001b[0m                 \u001b[1;34m'GyrY'\u001b[0m\u001b[1;33m:\u001b[0m\u001b[0mnp\u001b[0m\u001b[1;33m.\u001b[0m\u001b[0mreal\u001b[0m\u001b[1;33m(\u001b[0m\u001b[0mlGyrY\u001b[0m\u001b[1;33m)\u001b[0m\u001b[1;33m,\u001b[0m\u001b[1;33m\u001b[0m\u001b[0m\n\u001b[1;32m---> 35\u001b[1;33m                 \u001b[1;34m'GyrZ'\u001b[0m\u001b[1;33m:\u001b[0m\u001b[0mnp\u001b[0m\u001b[1;33m.\u001b[0m\u001b[0mreal\u001b[0m\u001b[1;33m(\u001b[0m\u001b[0mlGyrZ\u001b[0m\u001b[1;33m)\u001b[0m\u001b[1;33m,\u001b[0m\u001b[1;33m\u001b[0m\u001b[0m\n\u001b[0m\u001b[0;32m     36\u001b[0m             })\n\u001b[0;32m     37\u001b[0m         \u001b[0mfftdf\u001b[0m\u001b[1;33m.\u001b[0m\u001b[0mto_csv\u001b[0m\u001b[1;33m(\u001b[0m\u001b[1;34m\"FFT-\"\u001b[0m\u001b[1;33m+\u001b[0m\u001b[0mi\u001b[0m\u001b[1;33m+\u001b[0m\u001b[1;34m\"-\"\u001b[0m\u001b[1;33m+\u001b[0m\u001b[0mstr\u001b[0m\u001b[1;33m(\u001b[0m\u001b[0msamp\u001b[0m\u001b[1;33m)\u001b[0m\u001b[1;33m+\u001b[0m\u001b[1;34m\"bit-samp-.csv\"\u001b[0m\u001b[1;33m)\u001b[0m\u001b[1;33m\u001b[0m\u001b[0m\n",
      "\u001b[1;32m/home/takeyama/.pyenv/versions/2.7.11/envs/my_theano/lib/python2.7/site-packages/pandas/core/frame.pyc\u001b[0m in \u001b[0;36m__init__\u001b[1;34m(self, data, index, columns, dtype, copy)\u001b[0m\n\u001b[0;32m    221\u001b[0m                                  dtype=dtype, copy=copy)\n\u001b[0;32m    222\u001b[0m         \u001b[1;32melif\u001b[0m \u001b[0misinstance\u001b[0m\u001b[1;33m(\u001b[0m\u001b[0mdata\u001b[0m\u001b[1;33m,\u001b[0m \u001b[0mdict\u001b[0m\u001b[1;33m)\u001b[0m\u001b[1;33m:\u001b[0m\u001b[1;33m\u001b[0m\u001b[0m\n\u001b[1;32m--> 223\u001b[1;33m             \u001b[0mmgr\u001b[0m \u001b[1;33m=\u001b[0m \u001b[0mself\u001b[0m\u001b[1;33m.\u001b[0m\u001b[0m_init_dict\u001b[0m\u001b[1;33m(\u001b[0m\u001b[0mdata\u001b[0m\u001b[1;33m,\u001b[0m \u001b[0mindex\u001b[0m\u001b[1;33m,\u001b[0m \u001b[0mcolumns\u001b[0m\u001b[1;33m,\u001b[0m \u001b[0mdtype\u001b[0m\u001b[1;33m=\u001b[0m\u001b[0mdtype\u001b[0m\u001b[1;33m)\u001b[0m\u001b[1;33m\u001b[0m\u001b[0m\n\u001b[0m\u001b[0;32m    224\u001b[0m         \u001b[1;32melif\u001b[0m \u001b[0misinstance\u001b[0m\u001b[1;33m(\u001b[0m\u001b[0mdata\u001b[0m\u001b[1;33m,\u001b[0m \u001b[0mma\u001b[0m\u001b[1;33m.\u001b[0m\u001b[0mMaskedArray\u001b[0m\u001b[1;33m)\u001b[0m\u001b[1;33m:\u001b[0m\u001b[1;33m\u001b[0m\u001b[0m\n\u001b[0;32m    225\u001b[0m             \u001b[1;32mimport\u001b[0m \u001b[0mnumpy\u001b[0m\u001b[1;33m.\u001b[0m\u001b[0mma\u001b[0m\u001b[1;33m.\u001b[0m\u001b[0mmrecords\u001b[0m \u001b[1;32mas\u001b[0m \u001b[0mmrecords\u001b[0m\u001b[1;33m\u001b[0m\u001b[0m\n",
      "\u001b[1;32m/home/takeyama/.pyenv/versions/2.7.11/envs/my_theano/lib/python2.7/site-packages/pandas/core/frame.pyc\u001b[0m in \u001b[0;36m_init_dict\u001b[1;34m(self, data, index, columns, dtype)\u001b[0m\n\u001b[0;32m    357\u001b[0m             \u001b[0marrays\u001b[0m \u001b[1;33m=\u001b[0m \u001b[1;33m[\u001b[0m\u001b[0mdata\u001b[0m\u001b[1;33m[\u001b[0m\u001b[0mk\u001b[0m\u001b[1;33m]\u001b[0m \u001b[1;32mfor\u001b[0m \u001b[0mk\u001b[0m \u001b[1;32min\u001b[0m \u001b[0mkeys\u001b[0m\u001b[1;33m]\u001b[0m\u001b[1;33m\u001b[0m\u001b[0m\n\u001b[0;32m    358\u001b[0m \u001b[1;33m\u001b[0m\u001b[0m\n\u001b[1;32m--> 359\u001b[1;33m         \u001b[1;32mreturn\u001b[0m \u001b[0m_arrays_to_mgr\u001b[0m\u001b[1;33m(\u001b[0m\u001b[0marrays\u001b[0m\u001b[1;33m,\u001b[0m \u001b[0mdata_names\u001b[0m\u001b[1;33m,\u001b[0m \u001b[0mindex\u001b[0m\u001b[1;33m,\u001b[0m \u001b[0mcolumns\u001b[0m\u001b[1;33m,\u001b[0m \u001b[0mdtype\u001b[0m\u001b[1;33m=\u001b[0m\u001b[0mdtype\u001b[0m\u001b[1;33m)\u001b[0m\u001b[1;33m\u001b[0m\u001b[0m\n\u001b[0m\u001b[0;32m    360\u001b[0m \u001b[1;33m\u001b[0m\u001b[0m\n\u001b[0;32m    361\u001b[0m     \u001b[1;32mdef\u001b[0m \u001b[0m_init_ndarray\u001b[0m\u001b[1;33m(\u001b[0m\u001b[0mself\u001b[0m\u001b[1;33m,\u001b[0m \u001b[0mvalues\u001b[0m\u001b[1;33m,\u001b[0m \u001b[0mindex\u001b[0m\u001b[1;33m,\u001b[0m \u001b[0mcolumns\u001b[0m\u001b[1;33m,\u001b[0m \u001b[0mdtype\u001b[0m\u001b[1;33m=\u001b[0m\u001b[0mNone\u001b[0m\u001b[1;33m,\u001b[0m \u001b[0mcopy\u001b[0m\u001b[1;33m=\u001b[0m\u001b[0mFalse\u001b[0m\u001b[1;33m)\u001b[0m\u001b[1;33m:\u001b[0m\u001b[1;33m\u001b[0m\u001b[0m\n",
      "\u001b[1;32m/home/takeyama/.pyenv/versions/2.7.11/envs/my_theano/lib/python2.7/site-packages/pandas/core/frame.pyc\u001b[0m in \u001b[0;36m_arrays_to_mgr\u001b[1;34m(arrays, arr_names, index, columns, dtype)\u001b[0m\n\u001b[0;32m   5238\u001b[0m     \u001b[1;31m# figure out the index, if necessary\u001b[0m\u001b[1;33m\u001b[0m\u001b[1;33m\u001b[0m\u001b[0m\n\u001b[0;32m   5239\u001b[0m     \u001b[1;32mif\u001b[0m \u001b[0mindex\u001b[0m \u001b[1;32mis\u001b[0m \u001b[0mNone\u001b[0m\u001b[1;33m:\u001b[0m\u001b[1;33m\u001b[0m\u001b[0m\n\u001b[1;32m-> 5240\u001b[1;33m         \u001b[0mindex\u001b[0m \u001b[1;33m=\u001b[0m \u001b[0mextract_index\u001b[0m\u001b[1;33m(\u001b[0m\u001b[0marrays\u001b[0m\u001b[1;33m)\u001b[0m\u001b[1;33m\u001b[0m\u001b[0m\n\u001b[0m\u001b[0;32m   5241\u001b[0m     \u001b[1;32melse\u001b[0m\u001b[1;33m:\u001b[0m\u001b[1;33m\u001b[0m\u001b[0m\n\u001b[0;32m   5242\u001b[0m         \u001b[0mindex\u001b[0m \u001b[1;33m=\u001b[0m \u001b[0m_ensure_index\u001b[0m\u001b[1;33m(\u001b[0m\u001b[0mindex\u001b[0m\u001b[1;33m)\u001b[0m\u001b[1;33m\u001b[0m\u001b[0m\n",
      "\u001b[1;32m/home/takeyama/.pyenv/versions/2.7.11/envs/my_theano/lib/python2.7/site-packages/pandas/core/frame.pyc\u001b[0m in \u001b[0;36mextract_index\u001b[1;34m(data)\u001b[0m\n\u001b[0;32m   5277\u001b[0m \u001b[1;33m\u001b[0m\u001b[0m\n\u001b[0;32m   5278\u001b[0m         \u001b[1;32mif\u001b[0m \u001b[1;32mnot\u001b[0m \u001b[0mindexes\u001b[0m \u001b[1;32mand\u001b[0m \u001b[1;32mnot\u001b[0m \u001b[0mraw_lengths\u001b[0m\u001b[1;33m:\u001b[0m\u001b[1;33m\u001b[0m\u001b[0m\n\u001b[1;32m-> 5279\u001b[1;33m             raise ValueError('If using all scalar values, you must pass'\n\u001b[0m\u001b[0;32m   5280\u001b[0m                              ' an index')\n\u001b[0;32m   5281\u001b[0m \u001b[1;33m\u001b[0m\u001b[0m\n",
      "\u001b[1;31mValueError\u001b[0m: If using all scalar values, you must pass an index"
     ]
    }
   ],
   "source": [
    "sample=[16,32,64,128,256,512]\n",
    "\n",
    "\n",
    "for samp in sample:\n",
    "    freq=samp*0.01\n",
    "    for i in name:\n",
    "        Source=pd.read_csv(i,parse_dates=['Time'])\n",
    "        df=sliding_window(Source,freq,0.5)\n",
    "        lAccX=[]\n",
    "        lAccY=[]\n",
    "        lAccZ=[]\n",
    "        lGyrX=[]\n",
    "        lGyrY=[]\n",
    "        lGyrZ=[]\n",
    "\n",
    "        while True:\n",
    "            try:\n",
    "                d=df.next()\n",
    "                # fftの直流成分を除くsample/2のみ\n",
    "                lAccX.append(fftpack.fft(d.AccX)[1:samp/2-1])\n",
    "                lAccY.append(fftpack.fft(d.AccY)[1:samp/2-1])\n",
    "                lAccZ.append(fftpack.fft(d.AccZ)[1:samp/2-1])\n",
    "                lGyrX.append(fftpack.fft(d.GyrX)[1:samp/2-1])\n",
    "                lGyrY.append(fftpack.fft(d.GyrY)[1:samp/2-1])\n",
    "                lGyrZ.append(fftpack.fft(d.GyrZ)[1:samp/2-1])\n",
    "            except ValueError:\n",
    "                break\n",
    "\n",
    "        fftdf=pd.DataFrame({\n",
    "                'AccX_real':np.real(lAccX),\n",
    "                'AccY_real':np.real(lAccY),\n",
    "                'AccZ_real':np.real(lAccZ),\n",
    "                'GyrX_real':np.real(lGyrX),\n",
    "                'GyrY_real':np.real(lGyrY),\n",
    "                'GyrZ_real':np.real(lGyrZ),\n",
    "                'AccX_imag':np.imag(lAccX),\n",
    "                'AccY_imag':np.imag(lAccY),\n",
    "                'AccZ_imag':np.imag(lAccZ),\n",
    "                'GyrX_imag':np.imag(lGyrX),\n",
    "                'GyrY_imag':np.imag(lGyrY),\n",
    "                'GyrZ_imag':np.imag(lGyrZ),\n",
    "            })\n",
    "        fftdf.to_csv(\"FFT-\"+i+\"-\"+str(samp)+\"bit-samp-.csv\")"
   ]
  },
  {
   "cell_type": "code",
   "execution_count": 163,
   "metadata": {
    "collapsed": false
   },
   "outputs": [
    {
     "data": {
      "text/plain": [
       "array([ 0.35804487, -0.094514  ,  0.05838963, -0.0034708 ,  0.02233362,\n",
       "        0.01685079])"
      ]
     },
     "execution_count": 163,
     "metadata": {},
     "output_type": "execute_result"
    }
   ],
   "source": [
    "np.real(fftdf.AccX[0])"
   ]
  },
  {
   "cell_type": "code",
   "execution_count": 206,
   "metadata": {
    "collapsed": false
   },
   "outputs": [],
   "source": [
    "Power=[]\n",
    "for i in range(len(fftdf.AccX)):\n",
    "    Power.append( np.real(fftdf.AccX[i])**2+np.imag(fftdf.AccX[i])**2 )\n",
    "Bpower=Power\n",
    "PowerAccX=np.array(Power)"
   ]
  },
  {
   "cell_type": "code",
   "execution_count": 207,
   "metadata": {
    "collapsed": false
   },
   "outputs": [
    {
     "data": {
      "text/plain": [
       "(6934, 6)"
      ]
     },
     "execution_count": 207,
     "metadata": {},
     "output_type": "execute_result"
    }
   ],
   "source": [
    "PowerAccX.shape"
   ]
  },
  {
   "cell_type": "code",
   "execution_count": 208,
   "metadata": {
    "collapsed": false
   },
   "outputs": [
    {
     "data": {
      "text/plain": [
       "array([[  1.28426921e-01,   1.97426479e-02,   1.43354484e-02, ...,\n",
       "          3.76111145e-02,   2.44380819e-02,   1.86716828e-03],\n",
       "       [  1.00625269e-03,   2.74033276e-03,   1.67867618e+00, ...,\n",
       "          3.88531918e-02,   1.89335371e-01,   9.87252714e-03],\n",
       "       [  1.02898684e-02,   8.40448323e-03,   5.54594994e-03, ...,\n",
       "          2.03050821e-03,   2.11837787e-04,   5.40460398e-04],\n",
       "       [  1.64959394e-02,   2.05961391e-02,   9.64817895e-04, ...,\n",
       "          6.42102151e-01,   2.11126595e-01,   1.28927717e-01],\n",
       "       [  8.74830289e-02,   6.61149817e-02,   4.62157579e+00, ...,\n",
       "          3.91892660e-03,   1.73059770e-01,   3.34744588e-02],\n",
       "       [  1.60910893e-02,   5.47021517e-03,   3.31271592e-03, ...,\n",
       "          1.27377598e-03,   7.12004043e-04,   6.31815997e-03]])"
      ]
     },
     "execution_count": 208,
     "metadata": {},
     "output_type": "execute_result"
    }
   ],
   "source": [
    "PowerAccX.reshape( (6,6934))"
   ]
  },
  {
   "cell_type": "code",
   "execution_count": 210,
   "metadata": {
    "collapsed": false
   },
   "outputs": [
    {
     "data": {
      "text/plain": [
       "array([[  3.30642865e-02,   5.08286394e-03,   3.69074777e-03,\n",
       "          1.45336259e-03,   6.30537376e-04,   9.22461323e-05],\n",
       "       [  1.34964174e-01,   2.53706397e-03,   1.08156797e-03,\n",
       "          1.18412254e-03,   1.19456737e-03,   2.15795528e-03],\n",
       "       [  2.96046449e-01,   9.53607793e-02,   3.82768583e-02,\n",
       "          2.22085648e-02,   1.78234269e-02,   1.31702913e-02],\n",
       "       ..., \n",
       "       [  9.76643615e-02,   2.92767842e-03,   4.71115596e-03,\n",
       "          3.26446848e-03,   3.49531078e-03,   3.02721075e-03],\n",
       "       [  1.40640729e-02,   2.30345284e-03,   8.94682741e-04,\n",
       "          7.93265804e-04,   3.54009778e-04,   8.21492398e-05],\n",
       "       [  1.62664844e-03,   1.83309741e-04,   3.27941320e-04,\n",
       "          3.27941320e-04,   1.83309741e-04,   1.62664844e-03]])"
      ]
     },
     "execution_count": 210,
     "metadata": {},
     "output_type": "execute_result"
    }
   ],
   "source": [
    "PowerAccX*255/PowerAccX.max()"
   ]
  },
  {
   "cell_type": "code",
   "execution_count": 218,
   "metadata": {
    "collapsed": false
   },
   "outputs": [
    {
     "data": {
      "text/plain": [
       "<matplotlib.image.AxesImage at 0x7f1df0f369d0>"
      ]
     },
     "execution_count": 218,
     "metadata": {},
     "output_type": "execute_result"
    },
    {
     "data": {
      "image/png": "[encoded data removed]",
      "text/plain": [
       "<matplotlib.figure.Figure at 0x7f1df0fce1d0>"
      ]
     },
     "metadata": {},
     "output_type": "display_data"
    }
   ],
   "source": [
    "plt.imshow(PowerAccX[:10])"
   ]
  },
  {
   "cell_type": "code",
   "execution_count": 160,
   "metadata": {
    "collapsed": false
   },
   "outputs": [
    {
     "data": {
      "text/plain": [
       "array([[ array([ 0.12796533-0.0108788j , -0.00187686+0.01965323j,\n",
       "       -0.00751675-0.0122067j , -0.00562100+0.00052099j,\n",
       "       -0.00145153-0.00197261j,  0.00020960+0.0002906j ]),\n",
       "        array([-0.27626409+0.44551889j, -0.00881100-0.00441302j,\n",
       "        0.00040097-0.0041818j , -0.00252780-0.00384239j,\n",
       "        0.00253986-0.003883j  ,  0.00538946-0.00641942j]),\n",
       "        array([-1.12811164-0.22274207j, -0.19561807-0.31452668j,\n",
       "       -0.10048998-0.10956978j, -0.01712109-0.08454542j,\n",
       "        0.01927312-0.06649213j,  0.02485208-0.04471307j]),\n",
       "        array([-0.39171948-0.64960276j, -0.13027226-0.16325784j,\n",
       "       -0.02929335-0.10089662j, -0.01033768-0.05312074j,\n",
       "        0.01646106-0.03190393j,  0.01676651-0.02138858j]),\n",
       "        array([ 0.12342319+0.30907486j, -0.04557542+0.00600383j,\n",
       "       -0.02754596-0.01253449j, -0.00170750-0.01149682j,\n",
       "       -0.00095122-0.009481j  ,  0.00309935-0.00713618j]),\n",
       "        array([-7.85266778+4.09027979j, -2.33035995-0.90409457j,\n",
       "       -0.67033442-0.84183945j, -0.16461623-0.70114221j,\n",
       "        0.09400997-0.5008291j ,  0.22438928-0.32340856j])],\n",
       "       [ array([-24.48537574-14.7602328j ,  -2.64534387 -3.12192025j,\n",
       "        -0.77928652 -1.82770187j,  -0.08060855 -1.14289345j,\n",
       "         0.23831784 -0.76741074j,   0.40590159 -0.53299855j]),\n",
       "        array([ 3.45418746+9.74786832j, -0.37466997+0.17438336j,\n",
       "       -0.06658452+0.01452438j, -0.02862426-0.02176532j,\n",
       "       -0.00953086-0.01718683j,  0.00760567-0.01399015j]),\n",
       "        array([-3.57803298-12.53555089j, -1.75862450 -1.63269887j,\n",
       "       -0.32001942 -0.80863566j, -0.02228329 -0.47563312j,\n",
       "        0.09307348 -0.35370127j,  0.18586172 -0.21726942j]),\n",
       "        array([-0.24159778+0.1731139j , -0.11005590-0.26366232j,\n",
       "       -0.02310104-0.08167569j,  0.02364359-0.05481426j,\n",
       "        0.03179699-0.045485j  ,  0.03158551-0.01451402j]),\n",
       "        array([-1.21099914-0.99601168j, -0.18475122-0.25322169j,\n",
       "       -0.03849207-0.07413435j,  0.00457898-0.06088623j,\n",
       "        0.00831594-0.02707886j,  0.02773272-0.02322089j]),\n",
       "        array([  1.54398428e-01 +1.89456698e-01j,\n",
       "         1.70327970e-02 -1.95133989e-03j,\n",
       "        -6.19284560e-06 -2.61582906e-04j,\n",
       "         2.03965383e-03 -1.58643831e-03j,\n",
       "         7.38769858e-04 -3.76324717e-04j,  -7.75430036e-05 +9.57421895e-05j])],\n",
       "       [ array([-0.05521889-0.15852258j, -0.03574067-0.00529579j,\n",
       "       -0.00906995-0.01043494j, -0.00122930-0.00786328j,\n",
       "        0.00485924-0.01277264j,  0.00388461-0.00353929j]),\n",
       "        array([-0.50005378+0.80404052j, -0.30167353+0.01044016j,\n",
       "       -0.13717877-0.12535416j, -0.02605345-0.09497827j,\n",
       "        0.02013589-0.0634159j ,  0.04137958-0.04249673j]),\n",
       "        array([-4.47001663-3.86716517j, -0.08229757-0.40553319j,\n",
       "        0.09585483-0.17570913j,  0.04030140-0.06850988j,\n",
       "        0.03083214-0.03591727j,  0.03397497-0.01926351j]),\n",
       "        array([ -4.38094698e+00 +4.73680699e-01j,\n",
       "        -4.97305184e-02 +7.90398026e-03j,\n",
       "        -1.27294770e-02 -1.80642541e-02j,\n",
       "        -5.14909258e-04 +6.42817970e-04j,\n",
       "         2.00770404e-04 -7.98901078e-04j,  -1.09740909e-03 -4.21809102e-04j]),\n",
       "        array([ -2.09249780e+00 +1.29796282e+00j,\n",
       "         4.09371958e-02 +3.94032397e-02j,\n",
       "         1.19609450e-02 +7.16414243e-03j,\n",
       "         2.29146785e-03 +2.26152962e-03j,\n",
       "         7.05491227e-04 -6.35323798e-04j,   5.07759392e-04 -3.61646027e-05j]),\n",
       "        array([ 0.11835258 +9.69648927e-01j,  0.02958163 +1.70046247e-02j,\n",
       "        0.00197203 +1.15421538e-02j, -0.00029428 -2.96002088e-05j,\n",
       "       -0.00095275 -1.10664073e-04j,  0.00047139 -1.12608767e-03j])],\n",
       "       ..., \n",
       "       [ array([  1.12767661e-01-0.08390956j,  -1.25944764e-02+0.0068754j ,\n",
       "         3.74554814e-03-0.00017955j,  -5.32690698e-03+0.0007951j ,\n",
       "        -3.27372259e-04-0.00029787j,  -4.49840216e-06+0.00042264j]),\n",
       "        array([-0.09688705 -1.60777791e-01j, -0.04727684 +4.02731500e-02j,\n",
       "       -0.01649351 -3.81049416e-02j, -0.00325187 -7.21565294e-03j,\n",
       "        0.00052179 +8.12771815e-05j, -0.00052577 -8.46004280e-04j]),\n",
       "        array([-0.08373357+0.02375185j,  0.06028254+0.02669936j,\n",
       "       -0.00187632+0.00533485j,  0.00090660+0.00179091j,\n",
       "        0.00023261-0.00084497j,  0.00204951-0.00505964j]),\n",
       "        array([-0.08101266+0.04968566j,  0.05479554-0.18465794j,\n",
       "        0.01175039-0.05099741j,  0.00194709-0.00362294j,\n",
       "        0.00619019-0.00630952j,  0.00032498-0.00796301j]),\n",
       "        array([  1.26156955e-01 +1.46654740e-01j,\n",
       "         5.38987598e-03 -4.02798931e-02j,\n",
       "        -4.81098868e-03 -2.47822253e-02j,\n",
       "         1.32328168e-05 -4.02256484e-04j,\n",
       "         7.90646576e-06 -9.70791293e-06j,  -3.72932624e-04 -2.25943538e-04j]),\n",
       "        array([-0.12231608-0.00395011j, -0.07641592+0.09911311j,\n",
       "        0.01465389-0.06363517j,  0.01540650-0.03355801j,\n",
       "        0.01138094-0.02110953j,  0.00434509-0.0060868j ])],\n",
       "       [ array([-0.47898891-0.19789849j, -0.07094426+0.03681133j,\n",
       "        0.01027299+0.0077374j ,  0.00170834-0.00457311j,\n",
       "       -0.00277956-0.0003122j ,  0.00164313-0.01008501j]),\n",
       "        array([ 0.10843382+0.01504456j, -0.01034323+0.00497321j,\n",
       "        0.02790213+0.03828128j,  0.01871084+0.00262124j,\n",
       "       -0.00563360+0.00140554j,  0.00126584+0.00891307j]),\n",
       "        array([-0.26543832-0.11782049j, -0.13243849-0.00261156j,\n",
       "       -0.02707058+0.0209239j , -0.00484065+0.00802831j,\n",
       "        0.00951931+0.01461002j,  0.00311493-0.00734272j]),\n",
       "        array([-0.76470303-0.36876097j,  0.02198967-0.03844853j,\n",
       "       -0.02547917+0.00613332j,  0.00791520-0.05946835j,\n",
       "       -0.00848791-0.03465739j,  0.01011737+0.00203881j]),\n",
       "        array([ 0.02012802+0.04732327j,  0.00467782-0.00546233j,\n",
       "       -0.01597812-0.10266505j, -0.00873155-0.0219554j ,\n",
       "        0.01195823-0.00742137j,  0.01497949+0.0021158j ]),\n",
       "        array([ -8.88061040e-01+0.70994457j,  -9.07769768e-02-0.35967213j,\n",
       "        -1.55281234e-01-0.09867561j,   3.20810360e-02-0.03167803j,\n",
       "        -8.40252864e-03-0.03718499j,   8.10335088e-04-0.01657312j])],\n",
       "       [ array([-0.91339275-1.39804771j, -0.15698107-0.56566626j,\n",
       "        0.03390165-0.08486683j,  0.04288371-0.09929322j,\n",
       "        0.00307544-0.07127006j,  0.03009591-0.04393363j]),\n",
       "        array([ -7.90068652e-01 +6.55173757e-01j,\n",
       "         9.54022437e-03 +4.21971396e-02j,\n",
       "        -1.34045546e-02 +1.36889493e-02j,\n",
       "        -4.12308831e-04 -1.86506084e-04j,\n",
       "        -7.78801941e-04 -2.94433644e-04j,  -1.31527383e-03 +6.88016062e-04j]),\n",
       "        array([ 0.11986828+0.22756075j,  0.15202729-0.03822423j,\n",
       "       -0.02775134+0.01374608j,  0.01030803-0.00460431j,\n",
       "        0.00051401+0.00036093j,  0.00038509+0.00135207j]),\n",
       "        array([-0.04811129-0.08049494j, -0.01557915+0.03338547j,\n",
       "       -0.01096442-0.00152418j, -0.00100064+0.00387316j,\n",
       "       -0.00143351+0.00410618j, -0.00052237+0.00157811j]),\n",
       "        array([-0.59178873+0.42076128j, -0.00212225-0.1250081j ,\n",
       "       -0.08159669-0.01858748j, -0.00920271-0.02935155j,\n",
       "        0.01719004-0.00349318j,  0.00118797-0.02667208j]),\n",
       "        array([ 0.40188125-0.22322274j, -0.00775372-0.03109618j,\n",
       "       -0.00127171-0.04747774j, -0.01446692-0.02691881j,\n",
       "       -0.00257428-0.01302972j,  0.00088541-0.00184325j])]], dtype=object)"
      ]
     },
     "execution_count": 160,
     "metadata": {},
     "output_type": "execute_result"
    }
   ],
   "source": [
    "Power=Power[:6930]\n",
    "Power.reshape(1155,6)"
   ]
  },
  {
   "cell_type": "code",
   "execution_count": null,
   "metadata": {
    "collapsed": false
   },
   "outputs": [],
   "source": []
  },
  {
   "cell_type": "code",
   "execution_count": null,
   "metadata": {
    "collapsed": true
   },
   "outputs": [],
   "source": []
  },
  {
   "cell_type": "code",
   "execution_count": null,
   "metadata": {
    "collapsed": true
   },
   "outputs": [],
   "source": []
  }
 ],
 "metadata": {
  "kernelspec": {
   "display_name": "Python 2",
   "language": "python",
   "name": "python2"
  },
  "language_info": {
   "codemirror_mode": {
    "name": "ipython",
    "version": 2
   },
   "file_extension": ".py",
   "mimetype": "text/x-python",
   "name": "python",
   "nbconvert_exporter": "python",
   "pygments_lexer": "ipython2",
   "version": "2.7.11"
  }
 },
 "nbformat": 4,
 "nbformat_minor": 0
}
