{
 "cells": [
  {
   "cell_type": "code",
   "execution_count": 2,
   "metadata": {
    "collapsed": true
   },
   "outputs": [],
   "source": [
    "import numpy as np\n",
    "import matplotlib.pyplot as plt\n",
    "import matplotlib\n",
    "from scipy import fftpack\n",
    "from scipy import signal\n",
    "import numpy as np\n",
    "import pandas as pd\n",
    "import datetime\n",
    "import prettyplotlib as ppl"
   ]
  },
  {
   "cell_type": "code",
   "execution_count": 3,
   "metadata": {
    "collapsed": false
   },
   "outputs": [
    {
     "name": "stdout",
     "output_type": "stream",
     "text": [
      "/home/takeyama/Documents/01_SensorData/2016_04_12/cleaning-addingLABEL\n"
     ]
    }
   ],
   "source": [
    "cd ~/Documents/01_SensorData/2016_04_12/cleaning-addingLABEL/"
   ]
  },
  {
   "cell_type": "code",
   "execution_count": 4,
   "metadata": {
    "collapsed": true
   },
   "outputs": [],
   "source": [
    "left_hand = pd.read_csv('Cleaning-Conv-left-hand-ags.csv',parse_dates=['Time'])\n",
    "#left_hand.Time=pd.to_timedelta(left_hand.Time)\n",
    "left_leg = pd.read_csv('Cleaning-Conv-left-leg-ags.csv',parse_dates=['Time'])\n",
    "#left_leg.Time=pd.to_timedelta(left_leg.Time)\n",
    "right_hand = pd.read_csv('Cleaning-Conv-right-hand-ags.csv',parse_dates=['Time'])\n",
    "#right_hand.Time=pd.to_timedelta(right_hand.Time)\n",
    "right_leg = pd.read_csv('Cleaning-Conv-right-leg-ags.csv',parse_dates=['Time'])\n",
    "#right_leg.Time=pd.to_timedelta(right_leg.Time)\n",
    "west = pd.read_csv('Cleaning-Conv-west-ags.csv',parse_dates=['Time'])\n",
    "#west.Time=pd.to_timedelta(west.Time)\n",
    "\n",
    "name=['Cleaning-Conv-left-hand-ags.csv','Cleaning-Conv-left-leg-ags.csv','Cleaning-Conv-right-hand-ags.csv',\\\n",
    "     'Cleaning-Conv-right-leg-ags.csv','Cleaning-Conv-west-ags.csv']"
   ]
  },
  {
   "cell_type": "code",
   "execution_count": 5,
   "metadata": {
    "collapsed": false
   },
   "outputs": [],
   "source": [
    "# labering data -> pandas dateframe\n",
    "# freq -> sampling time [seconds]\n",
    "# overlap -> % to freq\n",
    "def sliding_window(labeling_data,freq, overlap):\n",
    "    \n",
    "    count =0\n",
    "    start =labeling_data.Time[0]\n",
    "    goal = start+datetime.timedelta(seconds=freq)\n",
    "    add=freq*overlap\n",
    "    yield labeling_data[(start <= labeling_data.Time) &(labeling_data.Time <= goal)]\n",
    "       \n",
    "    while True:\n",
    "        try:\n",
    "            count +=1\n",
    "            start =start+datetime.timedelta(seconds=add)\n",
    "            goal  =start+datetime.timedelta(seconds=freq)\n",
    "            #print goal\n",
    "            yield labeling_data[(start <= labeling_data.Time) &(labeling_data.Time <= goal)]\n",
    "        except StopIteration:\n",
    "            break"
   ]
  },
  {
   "cell_type": "code",
   "execution_count": 44,
   "metadata": {
    "collapsed": false
   },
   "outputs": [
    {
     "ename": "IndentationError",
     "evalue": "expected an indented block (<ipython-input-44-6cf03feeb394>, line 4)",
     "output_type": "error",
     "traceback": [
      "\u001b[1;36m  File \u001b[1;32m\"<ipython-input-44-6cf03feeb394>\"\u001b[1;36m, line \u001b[1;32m4\u001b[0m\n\u001b[1;33m    elif sample_num==32:\u001b[0m\n\u001b[1;37m       ^\u001b[0m\n\u001b[1;31mIndentationError\u001b[0m\u001b[1;31m:\u001b[0m expected an indented block\n"
     ]
    }
   ],
   "source": [
    "def Get_MultiIndex(sample_num):\n",
    "    if sample_num==16:\n",
    "        \n",
    "    elif sample_num==32:\n",
    "        \n",
    "    elif sample_num==64:\n",
    "        \n",
    "    elif sample_num==128:\n",
    "\n",
    "    elif sample_num==256:\n",
    "        \n",
    "    elif sample_num==512:"
   ]
  },
  {
   "cell_type": "code",
   "execution_count": 28,
   "metadata": {
    "collapsed": false
   },
   "outputs": [
    {
     "ename": "AttributeError",
     "evalue": "'DataFrame' object has no attribute 'AccX'",
     "output_type": "error",
     "traceback": [
      "\u001b[1;31m---------------------------------------------------------------------------\u001b[0m",
      "\u001b[1;31mAttributeError\u001b[0m                            Traceback (most recent call last)",
      "\u001b[1;32m<ipython-input-28-2492c7892dd2>\u001b[0m in \u001b[0;36m<module>\u001b[1;34m()\u001b[0m\n\u001b[0;32m     50\u001b[0m         fftdf_real=pd.DataFrame(\n\u001b[0;32m     51\u001b[0m             {'Time':time[:4096],\n\u001b[1;32m---> 52\u001b[1;33m              \u001b[1;34m'AccX'\u001b[0m\u001b[1;33m:\u001b[0m\u001b[0mnp\u001b[0m\u001b[1;33m.\u001b[0m\u001b[0mreal\u001b[0m\u001b[1;33m(\u001b[0m\u001b[0mfftdf\u001b[0m\u001b[1;33m.\u001b[0m\u001b[0mAccX\u001b[0m\u001b[1;33m)\u001b[0m\u001b[1;33m,\u001b[0m\u001b[1;33m\u001b[0m\u001b[0m\n\u001b[0m\u001b[0;32m     53\u001b[0m             \u001b[1;34m'AccY'\u001b[0m\u001b[1;33m:\u001b[0m\u001b[0mnp\u001b[0m\u001b[1;33m.\u001b[0m\u001b[0mreal\u001b[0m\u001b[1;33m(\u001b[0m\u001b[0mfftdf\u001b[0m\u001b[1;33m.\u001b[0m\u001b[0mAccY\u001b[0m\u001b[1;33m)\u001b[0m\u001b[1;33m,\u001b[0m\u001b[1;33m\u001b[0m\u001b[0m\n\u001b[0;32m     54\u001b[0m             \u001b[1;34m'AccZ'\u001b[0m\u001b[1;33m:\u001b[0m\u001b[0mnp\u001b[0m\u001b[1;33m.\u001b[0m\u001b[0mreal\u001b[0m\u001b[1;33m(\u001b[0m\u001b[0mfftdf\u001b[0m\u001b[1;33m.\u001b[0m\u001b[0mAccZ\u001b[0m\u001b[1;33m)\u001b[0m\u001b[1;33m,\u001b[0m\u001b[1;33m\u001b[0m\u001b[0m\n",
      "\u001b[1;32m/home/takeyama/.pyenv/versions/2.7.11/envs/my_theano/lib/python2.7/site-packages/pandas/core/generic.pyc\u001b[0m in \u001b[0;36m__getattr__\u001b[1;34m(self, name)\u001b[0m\n\u001b[0;32m   2667\u001b[0m             \u001b[1;32mif\u001b[0m \u001b[0mname\u001b[0m \u001b[1;32min\u001b[0m \u001b[0mself\u001b[0m\u001b[1;33m.\u001b[0m\u001b[0m_info_axis\u001b[0m\u001b[1;33m:\u001b[0m\u001b[1;33m\u001b[0m\u001b[0m\n\u001b[0;32m   2668\u001b[0m                 \u001b[1;32mreturn\u001b[0m \u001b[0mself\u001b[0m\u001b[1;33m[\u001b[0m\u001b[0mname\u001b[0m\u001b[1;33m]\u001b[0m\u001b[1;33m\u001b[0m\u001b[0m\n\u001b[1;32m-> 2669\u001b[1;33m             \u001b[1;32mreturn\u001b[0m \u001b[0mobject\u001b[0m\u001b[1;33m.\u001b[0m\u001b[0m__getattribute__\u001b[0m\u001b[1;33m(\u001b[0m\u001b[0mself\u001b[0m\u001b[1;33m,\u001b[0m \u001b[0mname\u001b[0m\u001b[1;33m)\u001b[0m\u001b[1;33m\u001b[0m\u001b[0m\n\u001b[0m\u001b[0;32m   2670\u001b[0m \u001b[1;33m\u001b[0m\u001b[0m\n\u001b[0;32m   2671\u001b[0m     \u001b[1;32mdef\u001b[0m \u001b[0m__setattr__\u001b[0m\u001b[1;33m(\u001b[0m\u001b[0mself\u001b[0m\u001b[1;33m,\u001b[0m \u001b[0mname\u001b[0m\u001b[1;33m,\u001b[0m \u001b[0mvalue\u001b[0m\u001b[1;33m)\u001b[0m\u001b[1;33m:\u001b[0m\u001b[1;33m\u001b[0m\u001b[0m\n",
      "\u001b[1;31mAttributeError\u001b[0m: 'DataFrame' object has no attribute 'AccX'"
     ]
    }
   ],
   "source": [
    "sample=[16,32,64,128,256,512]\n",
    "\n",
    "lAccX=[]\n",
    "lAccY=[]\n",
    "lAccZ=[]\n",
    "lGyrX=[]\n",
    "lGyrY=[]\n",
    "lGyrZ=[]\n",
    "time=[]\n",
    "\n",
    "for samp in sample:\n",
    "    freq=samp*0.01\n",
    "    for i in name:\n",
    "        Source=pd.read_csv(i,parse_dates=['Time'])\n",
    "        df=sliding_window(Source,freq,0.5)\n",
    "\n",
    "        while True:\n",
    "            try:\n",
    "                d=df.next()\n",
    "                # fftの直流成分を除くsample/2のみ\n",
    "                lAccX.append(fftpack.fft(d.AccX)[1:samp/2-1])\n",
    "                lAccY.append(fftpack.fft(d.AccY)[1:samp/2-1])\n",
    "                lAccZ.append(fftpack.fft(d.AccZ)[1:samp/2-1])\n",
    "                lGyrX.append(fftpack.fft(d.GyrX)[1:samp/2-1])\n",
    "                lGyrY.append(fftpack.fft(d.GyrY)[1:samp/2-1])\n",
    "                lGyrZ.append(fftpack.fft(d.GyrZ)[1:samp/2-1])\n",
    "                time.append( min(d.Time) )\n",
    "            except ValueError:\n",
    "                break\n",
    "        \n",
    "        lAccX=np.array(lAccX,dtype=np.complex)\n",
    "        lAccY=np.array(lAccY,dtype=np.complex)\n",
    "        lAccZ=np.array(lAccZ,dtype=np.complex)\n",
    "        lGyrX=np.array(lGyrX,dtype=np.complex)\n",
    "        lGyrY=np.array(lGyrY,dtype=np.complex)\n",
    "        lGyrZ=np.array(lGyrZ,dtype=np.complex)\n",
    "        \n",
    "        \n",
    "        fftdf=pd.DataFrame({\n",
    "                'Time':time[:4096],\n",
    "                'AccX':lAccX[:4096,:],\n",
    "                'AccY':lAccZ[:4096,:],\n",
    "                'AccZ':lAccZ[:4096,:],\n",
    "                'GyrX':lGyrX[:4096,:],\n",
    "                'GyrY':lGyrY[:4096,:],\n",
    "                'GyrZ':lGyrZ[:4096,:]},\n",
    "                columns=[range(samp/2-2)])\n",
    "        fftdf.to_csv(\"FFT-\"+i+\"-\"+str(samp)+\"bit-samp-.csv\")\n",
    "       \n",
    "        fftdf_real=pd.DataFrame(\n",
    "            {'Time':time[:4096],\n",
    "             'AccX':np.real(fftdf.AccX),\n",
    "            'AccY':np.real(fftdf.AccY),\n",
    "            'AccZ':np.real(fftdf.AccZ),\n",
    "            'GyrX':np.real(fftdf.GyrX),\n",
    "            'GyrY':np.real(fftdf.GyrY),\n",
    "            'GyrZ':np.real(fftdf.GyrZ)},\n",
    "             index=['Time'])\n",
    "        fftdf_real.to_csv(\"FFT-\"+i+\"-\"+str(samp)+\"bit-samp-real.csv\")\n",
    "        \n",
    "        fftdf_image=pd.DataFrame({\n",
    "            'Time':time[:4096],\n",
    "            'AccX':np.imag(fftdf.lAccX),\n",
    "            'AccY':np.imag(fftdf.lAccY),\n",
    "            'AccZ':np.imag(fftdf.lAccZ),\n",
    "            'GyrX':np.imag(fftdf.lGyrX),\n",
    "            'GyrY':np.imag(fftdf.lGyrY),\n",
    "            'GyrZ':np.imag(fftdf.lGyrZ)},\n",
    "             index=['Time'])\n",
    "        fftdf_image.to_csv(\"FFT-\"+i+\"-\"+str(samp)+\"bit-samp-image.csv\")"
   ]
  },
  {
   "cell_type": "code",
   "execution_count": 185,
   "metadata": {
    "collapsed": false
   },
   "outputs": [
    {
     "data": {
      "text/html": [
       "<div>\n",
       "<table border=\"1\" class=\"dataframe\">\n",
       "  <thead>\n",
       "    <tr>\n",
       "      <th>DataName</th>\n",
       "      <th>6933</th>\n",
       "    </tr>\n",
       "    <tr>\n",
       "      <th>Number</th>\n",
       "      <th>6th</th>\n",
       "    </tr>\n",
       "  </thead>\n",
       "  <tbody>\n",
       "  </tbody>\n",
       "</table>\n",
       "</div>"
      ],
      "text/plain": [
       "Empty DataFrame\n",
       "Columns: [(6933, 6th)]\n",
       "Index: []"
      ]
     },
     "execution_count": 185,
     "metadata": {},
     "output_type": "execute_result"
    }
   ],
   "source": [
    "\n",
    "Source=pd.read_csv(name[0],parse_dates=['Time'])\n",
    "df=sliding_window(Source,0.16,0.5)\n",
    "lAccX=[]\n",
    "lAccY=[]\n",
    "lAccZ=[]\n",
    "lGyrX=[]\n",
    "lGyrY=[]\n",
    "lGyrZ=[]\n",
    "time=[]\n",
    "samp=16\n",
    "\n",
    "while True:\n",
    "    try:\n",
    "        d=df.next()\n",
    "        # fftの直流成分を除くsample/2のみ\n",
    "        lAccX.append(fftpack.fft(d.AccX)[1:samp/2-1])\n",
    "        lAccY.append(fftpack.fft(d.AccY)[1:samp/2-1])\n",
    "        lAccZ.append(fftpack.fft(d.AccZ)[1:samp/2-1])\n",
    "        lGyrX.append(fftpack.fft(d.GyrX)[1:samp/2-1])\n",
    "        lGyrY.append(fftpack.fft(d.GyrY)[1:samp/2-1])\n",
    "        lGyrZ.append(fftpack.fft(d.GyrZ)[1:samp/2-1])\n",
    "        time.append( min(d.Time) )\n",
    "    except ValueError:\n",
    "        break\n",
    "\n",
    "lAccX=np.array(lAccX,dtype=np.complex)\n",
    "lAccY=np.array(lAccY,dtype=np.complex)\n",
    "lAccZ=np.array(lAccZ,dtype=np.complex)\n",
    "lGyrX=np.array(lGyrX,dtype=np.complex)\n",
    "lGyrY=np.array(lGyrY,dtype=np.complex)\n",
    "lGyrZ=np.array(lGyrZ,dtype=np.complex)\n",
    "time=np.array(time,dtype=np.datetime64)\n",
    "\n",
    "arrays1=[['AccX','AccX','AccX','AccX','AccX','AccX',\n",
    "         'AccY','AccY','AccY','AccY','AccY','AccY',\n",
    "         'AccZ','AccZ','AccZ','AccZ','AccZ','AccZ',\n",
    "         'GyrX','GyrX','GyrX','GyrX','GyrX','GyrX',\n",
    "         'GyrY','GyrY','GyrY','GyrY','GyrY','GyrY',\n",
    "         'GyrZ','GyrZ','GyrZ','GyrZ','GyrZ','GyrZ',],\n",
    "        ['1st','2nd','3rd','4th','5th','6th',\n",
    "         '1st','2nd','3rd','4th','5th','6th',\n",
    "         '1st','2nd','3rd','4th','5th','6th',\n",
    "         '1st','2nd','3rd','4th','5th','6th',\n",
    "         '1st','2nd','3rd','4th','5th','6th',\n",
    "         '1st','2nd','3rd','4th','5th','6th',]]\n",
    "\n",
    "arrays2=[['time','time','time','time','time','time'],\n",
    "        ['1st','2nd','3rd','4th','5th','6th']]\n",
    "\n",
    "array =  ['1st','2nd','3rd','4th','5th','6th']\n",
    "\n",
    "TimeArray=[]\n",
    "LabelArray=[]\n",
    "\n",
    "for t in range(len(time)):\n",
    "    for i in range(len(array)):\n",
    "        TimeArray.append(str(t))\n",
    "        \n",
    "\n",
    "for i in range(len(time)):\n",
    "    for a in array:\n",
    "        LabelArray.append(a)\n",
    "        \n",
    "TimeArray=np.array(TimeArray)\n",
    "LabelArray=np.array(LabelArray)\n",
    "        \n",
    "ArrayCol=np.vstack( (t,a) )\n",
    "columns= pd.MultiIndex.from_arrays(ArrayCol, names=['DataName', 'Number'])\n",
    "\n",
    "AccX_real = np.real(lAccX)\n",
    "AccY_real = np.real(lAccY)\n",
    "AccZ_real = np.real(lAccZ)\n",
    "GyrX_real = np.real(lGyrX)\n",
    "GyrY_real = np.real(lGyrY)\n",
    "GyrZ_real = np.real(lGyrZ)\n",
    "AccX_imag = np.imag(lAccX)\n",
    "AccY_imag = np.imag(lAccY)\n",
    "AccZ_imag = np.imag(lAccZ)\n",
    "GyrX_imag = np.imag(lGyrX)\n",
    "GyrY_imag = np.imag(lGyrY)\n",
    "GyrZ_imag = np.imag(lGyrZ)\n",
    "\n",
    "fftdf=pd.DataFrame({\n",
    "        'AccX_real':AccX_real,\n",
    "        'AccY_real':AccY_real,\n",
    "        'AccZ_real':AccZ_real,\n",
    "        'GyrX_real':GyrX_real,\n",
    "        'GyrY_real':GyrY_real,\n",
    "        'GyrZ_real':GyrZ_real,\n",
    "        'AccX_imag':AccX_imag[0,:],\n",
    "        'AccY_imag':AccY_imag[0,:],\n",
    "        'AccZ_imag':AccZ_imag[0,:],\n",
    "        'GyrX_imag':GyrX_imag[0,:],\n",
    "        'GyrY_imag':GyrY_imag[0,:],\n",
    "        'GyrZ_imag':GyrZ_imag[0,:]\n",
    "        },columns=columns\n",
    "      )\n",
    "\n",
    "#fftdf = fftdf.astype(np.float64)\n",
    "\n",
    "fftdf\n"
   ]
  },
  {
   "cell_type": "code",
   "execution_count": 186,
   "metadata": {
    "collapsed": false
   },
   "outputs": [
    {
     "data": {
      "text/plain": [
       "array(['0', '0', '0', '0', '0', '0', '1', '1', '1', '1', '1'], \n",
       "      dtype='|S4')"
      ]
     },
     "execution_count": 186,
     "metadata": {},
     "output_type": "execute_result"
    }
   ],
   "source": [
    "TimeArray[0:11]"
   ]
  },
  {
   "cell_type": "code",
   "execution_count": 187,
   "metadata": {
    "collapsed": false
   },
   "outputs": [
    {
     "data": {
      "text/plain": [
       "array(['1st', '2nd', '3rd', '4th', '5th', '6th', '1st', '2nd', '3rd',\n",
       "       '4th', '5th'], \n",
       "      dtype='|S3')"
      ]
     },
     "execution_count": 187,
     "metadata": {},
     "output_type": "execute_result"
    }
   ],
   "source": [
    "LabelArray[0:11]"
   ]
  },
  {
   "cell_type": "code",
   "execution_count": 188,
   "metadata": {
    "collapsed": false
   },
   "outputs": [
    {
     "data": {
      "text/plain": [
       "array([['6933'],\n",
       "       ['6th']], \n",
       "      dtype='|S21')"
      ]
     },
     "execution_count": 188,
     "metadata": {},
     "output_type": "execute_result"
    }
   ],
   "source": [
    "ArrayCol"
   ]
  },
  {
   "cell_type": "code",
   "execution_count": 179,
   "metadata": {
    "collapsed": false
   },
   "outputs": [
    {
     "data": {
      "text/plain": [
       "MultiIndex(levels=[[u'6933'], [u'6th']],\n",
       "           labels=[[0], [0]],\n",
       "           names=[u'DataName', u'Number'])"
      ]
     },
     "execution_count": 179,
     "metadata": {},
     "output_type": "execute_result"
    }
   ],
   "source": [
    "columns"
   ]
  },
  {
   "cell_type": "code",
   "execution_count": 119,
   "metadata": {
    "collapsed": false
   },
   "outputs": [
    {
     "data": {
      "text/plain": [
       "array([-0.01519195, -0.10396996, -0.10452798, -0.07505361, -0.04416239,\n",
       "        0.00862261])"
      ]
     },
     "execution_count": 119,
     "metadata": {},
     "output_type": "execute_result"
    }
   ],
   "source": [
    "AccX_imag[0]"
   ]
  },
  {
   "cell_type": "code",
   "execution_count": 94,
   "metadata": {
    "collapsed": false
   },
   "outputs": [],
   "source": [
    "test=np.real(lAccX)"
   ]
  },
  {
   "cell_type": "code",
   "execution_count": 95,
   "metadata": {
    "collapsed": false
   },
   "outputs": [
    {
     "data": {
      "text/plain": [
       "dtype('float64')"
      ]
     },
     "execution_count": 95,
     "metadata": {},
     "output_type": "execute_result"
    }
   ],
   "source": [
    "test.dtype"
   ]
  },
  {
   "cell_type": "code",
   "execution_count": 131,
   "metadata": {
    "collapsed": false
   },
   "outputs": [
    {
     "data": {
      "text/plain": [
       "array(6934)"
      ]
     },
     "execution_count": 131,
     "metadata": {},
     "output_type": "execute_result"
    }
   ],
   "source": [
    "i"
   ]
  },
  {
   "cell_type": "code",
   "execution_count": 74,
   "metadata": {
    "collapsed": false
   },
   "outputs": [
    {
     "data": {
      "text/plain": [
       "(6934, 6)"
      ]
     },
     "execution_count": 74,
     "metadata": {},
     "output_type": "execute_result"
    }
   ],
   "source": [
    "lAccX.shape"
   ]
  },
  {
   "cell_type": "code",
   "execution_count": 24,
   "metadata": {
    "collapsed": false
   },
   "outputs": [],
   "source": [
    "lAccX=np.array(lAccX,dtype=np.complex)"
   ]
  },
  {
   "cell_type": "code",
   "execution_count": 55,
   "metadata": {
    "collapsed": false
   },
   "outputs": [
    {
     "data": {
      "text/plain": [
       "(6,)"
      ]
     },
     "execution_count": 55,
     "metadata": {},
     "output_type": "execute_result"
    }
   ],
   "source": [
    "lAccX[0].shape"
   ]
  },
  {
   "cell_type": "code",
   "execution_count": 69,
   "metadata": {
    "collapsed": false
   },
   "outputs": [],
   "source": [
    "arrays=[['AccX','AccX','AccX','AccX','AccX','AccX',\n",
    "         'AccY','AccY','AccY','AccY','AccY','AccY',\n",
    "         'AccZ','AccZ','AccZ','AccZ','AccZ','AccZ',\n",
    "         'GyrX','GyrX','GyrX','GyrX','GyrX','GyrX',\n",
    "         'GyrY','GyrY','GyrY','GyrY','GyrY','GyrY',\n",
    "         'GyrZ','GyrZ','GyrZ','GyrZ','GyrZ','GyrZ',],\n",
    "        ['1st','2nd','3rd','4th','5th','6th',\n",
    "         '1st','2nd','3rd','4th','5th','6th',\n",
    "         '1st','2nd','3rd','4th','5th','6th',\n",
    "         '1st','2nd','3rd','4th','5th','6th',\n",
    "         '1st','2nd','3rd','4th','5th','6th',\n",
    "         '1st','2nd','3rd','4th','5th','6th',]]"
   ]
  },
  {
   "cell_type": "code",
   "execution_count": 65,
   "metadata": {
    "collapsed": true
   },
   "outputs": [],
   "source": [
    "arrays=[['time','time','time','time','time','time'],\n",
    "        ['1st','2nd','3rd','4th','5th','6th']]"
   ]
  },
  {
   "cell_type": "code",
   "execution_count": 70,
   "metadata": {
    "collapsed": false
   },
   "outputs": [],
   "source": [
    "index = pd.MultiIndex.from_arrays(arrays, names=['DataName', 'Namber'])"
   ]
  },
  {
   "cell_type": "code",
   "execution_count": 71,
   "metadata": {
    "collapsed": false
   },
   "outputs": [],
   "source": [
    "df = pd.DataFrame(np.random.randn(2, 36), columns=index)"
   ]
  },
  {
   "cell_type": "code",
   "execution_count": 72,
   "metadata": {
    "collapsed": false
   },
   "outputs": [
    {
     "data": {
      "text/html": [
       "<div>\n",
       "<table border=\"1\" class=\"dataframe\">\n",
       "  <thead>\n",
       "    <tr>\n",
       "      <th>DataName</th>\n",
       "      <th colspan=\"6\" halign=\"left\">AccX</th>\n",
       "      <th colspan=\"4\" halign=\"left\">AccY</th>\n",
       "      <th>...</th>\n",
       "      <th colspan=\"4\" halign=\"left\">GyrY</th>\n",
       "      <th colspan=\"6\" halign=\"left\">GyrZ</th>\n",
       "    </tr>\n",
       "    <tr>\n",
       "      <th>Namber</th>\n",
       "      <th>1st</th>\n",
       "      <th>2nd</th>\n",
       "      <th>3rd</th>\n",
       "      <th>4th</th>\n",
       "      <th>5th</th>\n",
       "      <th>6th</th>\n",
       "      <th>1st</th>\n",
       "      <th>2nd</th>\n",
       "      <th>3rd</th>\n",
       "      <th>4th</th>\n",
       "      <th>...</th>\n",
       "      <th>3rd</th>\n",
       "      <th>4th</th>\n",
       "      <th>5th</th>\n",
       "      <th>6th</th>\n",
       "      <th>1st</th>\n",
       "      <th>2nd</th>\n",
       "      <th>3rd</th>\n",
       "      <th>4th</th>\n",
       "      <th>5th</th>\n",
       "      <th>6th</th>\n",
       "    </tr>\n",
       "  </thead>\n",
       "  <tbody>\n",
       "    <tr>\n",
       "      <th>0</th>\n",
       "      <td>-0.137268</td>\n",
       "      <td>1.903465</td>\n",
       "      <td>0.726928</td>\n",
       "      <td>0.537887</td>\n",
       "      <td>1.744202</td>\n",
       "      <td>0.603453</td>\n",
       "      <td>-0.093335</td>\n",
       "      <td>-1.033839</td>\n",
       "      <td>-1.102219</td>\n",
       "      <td>0.495619</td>\n",
       "      <td>...</td>\n",
       "      <td>0.765002</td>\n",
       "      <td>-1.006274</td>\n",
       "      <td>-1.304457</td>\n",
       "      <td>-0.143454</td>\n",
       "      <td>-0.525762</td>\n",
       "      <td>0.334712</td>\n",
       "      <td>-0.385216</td>\n",
       "      <td>-0.788301</td>\n",
       "      <td>-0.736256</td>\n",
       "      <td>-1.189516</td>\n",
       "    </tr>\n",
       "    <tr>\n",
       "      <th>1</th>\n",
       "      <td>-1.214001</td>\n",
       "      <td>-0.717530</td>\n",
       "      <td>0.811779</td>\n",
       "      <td>-0.369269</td>\n",
       "      <td>1.870385</td>\n",
       "      <td>1.238480</td>\n",
       "      <td>-0.122354</td>\n",
       "      <td>-0.042798</td>\n",
       "      <td>0.220465</td>\n",
       "      <td>0.862618</td>\n",
       "      <td>...</td>\n",
       "      <td>0.205825</td>\n",
       "      <td>-0.947922</td>\n",
       "      <td>-0.178218</td>\n",
       "      <td>2.541736</td>\n",
       "      <td>-0.709699</td>\n",
       "      <td>-0.461351</td>\n",
       "      <td>0.352766</td>\n",
       "      <td>-0.126579</td>\n",
       "      <td>0.612695</td>\n",
       "      <td>1.776302</td>\n",
       "    </tr>\n",
       "  </tbody>\n",
       "</table>\n",
       "<p>2 rows × 36 columns</p>\n",
       "</div>"
      ],
      "text/plain": [
       "DataName      AccX                                                    \\\n",
       "Namber         1st       2nd       3rd       4th       5th       6th   \n",
       "0        -0.137268  1.903465  0.726928  0.537887  1.744202  0.603453   \n",
       "1        -1.214001 -0.717530  0.811779 -0.369269  1.870385  1.238480   \n",
       "\n",
       "DataName      AccY                                  ...         GyrY  \\\n",
       "Namber         1st       2nd       3rd       4th    ...          3rd   \n",
       "0        -0.093335 -1.033839 -1.102219  0.495619    ...     0.765002   \n",
       "1        -0.122354 -0.042798  0.220465  0.862618    ...     0.205825   \n",
       "\n",
       "DataName                                    GyrZ                      \\\n",
       "Namber         4th       5th       6th       1st       2nd       3rd   \n",
       "0        -1.006274 -1.304457 -0.143454 -0.525762  0.334712 -0.385216   \n",
       "1        -0.947922 -0.178218  2.541736 -0.709699 -0.461351  0.352766   \n",
       "\n",
       "DataName                                \n",
       "Namber         4th       5th       6th  \n",
       "0        -0.788301 -0.736256 -1.189516  \n",
       "1        -0.126579  0.612695  1.776302  \n",
       "\n",
       "[2 rows x 36 columns]"
      ]
     },
     "execution_count": 72,
     "metadata": {},
     "output_type": "execute_result"
    }
   ],
   "source": [
    "df"
   ]
  },
  {
   "cell_type": "code",
   "execution_count": 12,
   "metadata": {
    "collapsed": false
   },
   "outputs": [
    {
     "data": {
      "text/plain": [
       "6934"
      ]
     },
     "execution_count": 12,
     "metadata": {},
     "output_type": "execute_result"
    }
   ],
   "source": [
    "len(lGyrX)"
   ]
  },
  {
   "cell_type": "code",
   "execution_count": 66,
   "metadata": {
    "collapsed": false
   },
   "outputs": [
    {
     "data": {
      "text/plain": [
       "0       2016-04-21 18:06:15.696\n",
       "1       2016-04-21 18:06:15.706\n",
       "2       2016-04-21 18:06:15.716\n",
       "3       2016-04-21 18:06:15.726\n",
       "4       2016-04-21 18:06:15.736\n",
       "5       2016-04-21 18:06:15.746\n",
       "6       2016-04-21 18:06:15.756\n",
       "7       2016-04-21 18:06:15.766\n",
       "8       2016-04-21 18:06:15.776\n",
       "9       2016-04-21 18:06:15.786\n",
       "10      2016-04-21 18:06:15.796\n",
       "11      2016-04-21 18:06:15.806\n",
       "12      2016-04-21 18:06:15.816\n",
       "13      2016-04-21 18:06:15.826\n",
       "14      2016-04-21 18:06:15.836\n",
       "15      2016-04-21 18:06:15.846\n",
       "16      2016-04-21 18:06:15.856\n",
       "17      2016-04-21 18:06:15.866\n",
       "18      2016-04-21 18:06:15.876\n",
       "19      2016-04-21 18:06:15.886\n",
       "20      2016-04-21 18:06:15.896\n",
       "21      2016-04-21 18:06:15.906\n",
       "22      2016-04-21 18:06:15.916\n",
       "23      2016-04-21 18:06:15.926\n",
       "24      2016-04-21 18:06:15.936\n",
       "25      2016-04-21 18:06:15.946\n",
       "26      2016-04-21 18:06:15.956\n",
       "27      2016-04-21 18:06:15.966\n",
       "28      2016-04-21 18:06:15.976\n",
       "29      2016-04-21 18:06:15.986\n",
       "                  ...          \n",
       "55441   2016-04-21 18:15:30.106\n",
       "55442   2016-04-21 18:15:30.116\n",
       "55443   2016-04-21 18:15:30.126\n",
       "55444   2016-04-21 18:15:30.136\n",
       "55445   2016-04-21 18:15:30.146\n",
       "55446   2016-04-21 18:15:30.156\n",
       "55447   2016-04-21 18:15:30.166\n",
       "55448   2016-04-21 18:15:30.176\n",
       "55449   2016-04-21 18:15:30.186\n",
       "55450   2016-04-21 18:15:30.196\n",
       "55451   2016-04-21 18:15:30.206\n",
       "55452   2016-04-21 18:15:30.216\n",
       "55453   2016-04-21 18:15:30.226\n",
       "55454   2016-04-21 18:15:30.236\n",
       "55455   2016-04-21 18:15:30.246\n",
       "55456   2016-04-21 18:15:30.256\n",
       "55457   2016-04-21 18:15:30.266\n",
       "55458   2016-04-21 18:15:30.276\n",
       "55459   2016-04-21 18:15:30.286\n",
       "55460   2016-04-21 18:15:30.296\n",
       "55461   2016-04-21 18:15:30.306\n",
       "55462   2016-04-21 18:15:30.316\n",
       "55463   2016-04-21 18:15:30.326\n",
       "55464   2016-04-21 18:15:30.336\n",
       "55465   2016-04-21 18:15:30.346\n",
       "55466   2016-04-21 18:15:30.356\n",
       "55467   2016-04-21 18:15:30.366\n",
       "55468   2016-04-21 18:15:30.376\n",
       "55469   2016-04-21 18:15:30.386\n",
       "55470   2016-04-21 18:15:30.396\n",
       "Name: Time, dtype: datetime64[ns]"
      ]
     },
     "execution_count": 66,
     "metadata": {},
     "output_type": "execute_result"
    }
   ],
   "source": [
    "Source.Time"
   ]
  },
  {
   "cell_type": "code",
   "execution_count": 16,
   "metadata": {
    "collapsed": false
   },
   "outputs": [],
   "source": [
    "Power=[]\n",
    "for i in range(len(fftdf.AccX)):\n",
    "    Power.append( np.real(fftdf.AccX[i])**2+np.imag(fftdf.AccX[i])**2 )\n",
    "Bpower=Power\n",
    "PowerAccX=np.array(Power)"
   ]
  },
  {
   "cell_type": "code",
   "execution_count": 17,
   "metadata": {
    "collapsed": false
   },
   "outputs": [
    {
     "data": {
      "text/plain": [
       "(217,)"
      ]
     },
     "execution_count": 17,
     "metadata": {},
     "output_type": "execute_result"
    }
   ],
   "source": [
    "PowerAccX.shape"
   ]
  },
  {
   "cell_type": "code",
   "execution_count": 19,
   "metadata": {
    "collapsed": false
   },
   "outputs": [],
   "source": [
    "PowerAccX=PowerAccX[:128]"
   ]
  },
  {
   "cell_type": "code",
   "execution_count": null,
   "metadata": {
    "collapsed": true
   },
   "outputs": [],
   "source": []
  },
  {
   "cell_type": "code",
   "execution_count": 210,
   "metadata": {
    "collapsed": false
   },
   "outputs": [
    {
     "data": {
      "text/plain": [
       "array([[  3.30642865e-02,   5.08286394e-03,   3.69074777e-03,\n",
       "          1.45336259e-03,   6.30537376e-04,   9.22461323e-05],\n",
       "       [  1.34964174e-01,   2.53706397e-03,   1.08156797e-03,\n",
       "          1.18412254e-03,   1.19456737e-03,   2.15795528e-03],\n",
       "       [  2.96046449e-01,   9.53607793e-02,   3.82768583e-02,\n",
       "          2.22085648e-02,   1.78234269e-02,   1.31702913e-02],\n",
       "       ..., \n",
       "       [  9.76643615e-02,   2.92767842e-03,   4.71115596e-03,\n",
       "          3.26446848e-03,   3.49531078e-03,   3.02721075e-03],\n",
       "       [  1.40640729e-02,   2.30345284e-03,   8.94682741e-04,\n",
       "          7.93265804e-04,   3.54009778e-04,   8.21492398e-05],\n",
       "       [  1.62664844e-03,   1.83309741e-04,   3.27941320e-04,\n",
       "          3.27941320e-04,   1.83309741e-04,   1.62664844e-03]])"
      ]
     },
     "execution_count": 210,
     "metadata": {},
     "output_type": "execute_result"
    }
   ],
   "source": [
    "PowerAccX*255/PowerAccX.max()"
   ]
  },
  {
   "cell_type": "code",
   "execution_count": 218,
   "metadata": {
    "collapsed": false
   },
   "outputs": [
    {
     "data": {
      "text/plain": [
       "<matplotlib.image.AxesImage at 0x7f1df0f369d0>"
      ]
     },
     "execution_count": 218,
     "metadata": {},
     "output_type": "execute_result"
    },
    {
     "data": {
      "image/png": "[encoded data removed]",
      "text/plain": [
       "<matplotlib.figure.Figure at 0x7f1df0fce1d0>"
      ]
     },
     "metadata": {},
     "output_type": "display_data"
    }
   ],
   "source": [
    "plt.imshow(PowerAccX[:10])"
   ]
  },
  {
   "cell_type": "code",
   "execution_count": 160,
   "metadata": {
    "collapsed": false
   },
   "outputs": [
    {
     "data": {
      "text/plain": [
       "array([[ array([ 0.12796533-0.0108788j , -0.00187686+0.01965323j,\n",
       "       -0.00751675-0.0122067j , -0.00562100+0.00052099j,\n",
       "       -0.00145153-0.00197261j,  0.00020960+0.0002906j ]),\n",
       "        array([-0.27626409+0.44551889j, -0.00881100-0.00441302j,\n",
       "        0.00040097-0.0041818j , -0.00252780-0.00384239j,\n",
       "        0.00253986-0.003883j  ,  0.00538946-0.00641942j]),\n",
       "        array([-1.12811164-0.22274207j, -0.19561807-0.31452668j,\n",
       "       -0.10048998-0.10956978j, -0.01712109-0.08454542j,\n",
       "        0.01927312-0.06649213j,  0.02485208-0.04471307j]),\n",
       "        array([-0.39171948-0.64960276j, -0.13027226-0.16325784j,\n",
       "       -0.02929335-0.10089662j, -0.01033768-0.05312074j,\n",
       "        0.01646106-0.03190393j,  0.01676651-0.02138858j]),\n",
       "        array([ 0.12342319+0.30907486j, -0.04557542+0.00600383j,\n",
       "       -0.02754596-0.01253449j, -0.00170750-0.01149682j,\n",
       "       -0.00095122-0.009481j  ,  0.00309935-0.00713618j]),\n",
       "        array([-7.85266778+4.09027979j, -2.33035995-0.90409457j,\n",
       "       -0.67033442-0.84183945j, -0.16461623-0.70114221j,\n",
       "        0.09400997-0.5008291j ,  0.22438928-0.32340856j])],\n",
       "       [ array([-24.48537574-14.7602328j ,  -2.64534387 -3.12192025j,\n",
       "        -0.77928652 -1.82770187j,  -0.08060855 -1.14289345j,\n",
       "         0.23831784 -0.76741074j,   0.40590159 -0.53299855j]),\n",
       "        array([ 3.45418746+9.74786832j, -0.37466997+0.17438336j,\n",
       "       -0.06658452+0.01452438j, -0.02862426-0.02176532j,\n",
       "       -0.00953086-0.01718683j,  0.00760567-0.01399015j]),\n",
       "        array([-3.57803298-12.53555089j, -1.75862450 -1.63269887j,\n",
       "       -0.32001942 -0.80863566j, -0.02228329 -0.47563312j,\n",
       "        0.09307348 -0.35370127j,  0.18586172 -0.21726942j]),\n",
       "        array([-0.24159778+0.1731139j , -0.11005590-0.26366232j,\n",
       "       -0.02310104-0.08167569j,  0.02364359-0.05481426j,\n",
       "        0.03179699-0.045485j  ,  0.03158551-0.01451402j]),\n",
       "        array([-1.21099914-0.99601168j, -0.18475122-0.25322169j,\n",
       "       -0.03849207-0.07413435j,  0.00457898-0.06088623j,\n",
       "        0.00831594-0.02707886j,  0.02773272-0.02322089j]),\n",
       "        array([  1.54398428e-01 +1.89456698e-01j,\n",
       "         1.70327970e-02 -1.95133989e-03j,\n",
       "        -6.19284560e-06 -2.61582906e-04j,\n",
       "         2.03965383e-03 -1.58643831e-03j,\n",
       "         7.38769858e-04 -3.76324717e-04j,  -7.75430036e-05 +9.57421895e-05j])],\n",
       "       [ array([-0.05521889-0.15852258j, -0.03574067-0.00529579j,\n",
       "       -0.00906995-0.01043494j, -0.00122930-0.00786328j,\n",
       "        0.00485924-0.01277264j,  0.00388461-0.00353929j]),\n",
       "        array([-0.50005378+0.80404052j, -0.30167353+0.01044016j,\n",
       "       -0.13717877-0.12535416j, -0.02605345-0.09497827j,\n",
       "        0.02013589-0.0634159j ,  0.04137958-0.04249673j]),\n",
       "        array([-4.47001663-3.86716517j, -0.08229757-0.40553319j,\n",
       "        0.09585483-0.17570913j,  0.04030140-0.06850988j,\n",
       "        0.03083214-0.03591727j,  0.03397497-0.01926351j]),\n",
       "        array([ -4.38094698e+00 +4.73680699e-01j,\n",
       "        -4.97305184e-02 +7.90398026e-03j,\n",
       "        -1.27294770e-02 -1.80642541e-02j,\n",
       "        -5.14909258e-04 +6.42817970e-04j,\n",
       "         2.00770404e-04 -7.98901078e-04j,  -1.09740909e-03 -4.21809102e-04j]),\n",
       "        array([ -2.09249780e+00 +1.29796282e+00j,\n",
       "         4.09371958e-02 +3.94032397e-02j,\n",
       "         1.19609450e-02 +7.16414243e-03j,\n",
       "         2.29146785e-03 +2.26152962e-03j,\n",
       "         7.05491227e-04 -6.35323798e-04j,   5.07759392e-04 -3.61646027e-05j]),\n",
       "        array([ 0.11835258 +9.69648927e-01j,  0.02958163 +1.70046247e-02j,\n",
       "        0.00197203 +1.15421538e-02j, -0.00029428 -2.96002088e-05j,\n",
       "       -0.00095275 -1.10664073e-04j,  0.00047139 -1.12608767e-03j])],\n",
       "       ..., \n",
       "       [ array([  1.12767661e-01-0.08390956j,  -1.25944764e-02+0.0068754j ,\n",
       "         3.74554814e-03-0.00017955j,  -5.32690698e-03+0.0007951j ,\n",
       "        -3.27372259e-04-0.00029787j,  -4.49840216e-06+0.00042264j]),\n",
       "        array([-0.09688705 -1.60777791e-01j, -0.04727684 +4.02731500e-02j,\n",
       "       -0.01649351 -3.81049416e-02j, -0.00325187 -7.21565294e-03j,\n",
       "        0.00052179 +8.12771815e-05j, -0.00052577 -8.46004280e-04j]),\n",
       "        array([-0.08373357+0.02375185j,  0.06028254+0.02669936j,\n",
       "       -0.00187632+0.00533485j,  0.00090660+0.00179091j,\n",
       "        0.00023261-0.00084497j,  0.00204951-0.00505964j]),\n",
       "        array([-0.08101266+0.04968566j,  0.05479554-0.18465794j,\n",
       "        0.01175039-0.05099741j,  0.00194709-0.00362294j,\n",
       "        0.00619019-0.00630952j,  0.00032498-0.00796301j]),\n",
       "        array([  1.26156955e-01 +1.46654740e-01j,\n",
       "         5.38987598e-03 -4.02798931e-02j,\n",
       "        -4.81098868e-03 -2.47822253e-02j,\n",
       "         1.32328168e-05 -4.02256484e-04j,\n",
       "         7.90646576e-06 -9.70791293e-06j,  -3.72932624e-04 -2.25943538e-04j]),\n",
       "        array([-0.12231608-0.00395011j, -0.07641592+0.09911311j,\n",
       "        0.01465389-0.06363517j,  0.01540650-0.03355801j,\n",
       "        0.01138094-0.02110953j,  0.00434509-0.0060868j ])],\n",
       "       [ array([-0.47898891-0.19789849j, -0.07094426+0.03681133j,\n",
       "        0.01027299+0.0077374j ,  0.00170834-0.00457311j,\n",
       "       -0.00277956-0.0003122j ,  0.00164313-0.01008501j]),\n",
       "        array([ 0.10843382+0.01504456j, -0.01034323+0.00497321j,\n",
       "        0.02790213+0.03828128j,  0.01871084+0.00262124j,\n",
       "       -0.00563360+0.00140554j,  0.00126584+0.00891307j]),\n",
       "        array([-0.26543832-0.11782049j, -0.13243849-0.00261156j,\n",
       "       -0.02707058+0.0209239j , -0.00484065+0.00802831j,\n",
       "        0.00951931+0.01461002j,  0.00311493-0.00734272j]),\n",
       "        array([-0.76470303-0.36876097j,  0.02198967-0.03844853j,\n",
       "       -0.02547917+0.00613332j,  0.00791520-0.05946835j,\n",
       "       -0.00848791-0.03465739j,  0.01011737+0.00203881j]),\n",
       "        array([ 0.02012802+0.04732327j,  0.00467782-0.00546233j,\n",
       "       -0.01597812-0.10266505j, -0.00873155-0.0219554j ,\n",
       "        0.01195823-0.00742137j,  0.01497949+0.0021158j ]),\n",
       "        array([ -8.88061040e-01+0.70994457j,  -9.07769768e-02-0.35967213j,\n",
       "        -1.55281234e-01-0.09867561j,   3.20810360e-02-0.03167803j,\n",
       "        -8.40252864e-03-0.03718499j,   8.10335088e-04-0.01657312j])],\n",
       "       [ array([-0.91339275-1.39804771j, -0.15698107-0.56566626j,\n",
       "        0.03390165-0.08486683j,  0.04288371-0.09929322j,\n",
       "        0.00307544-0.07127006j,  0.03009591-0.04393363j]),\n",
       "        array([ -7.90068652e-01 +6.55173757e-01j,\n",
       "         9.54022437e-03 +4.21971396e-02j,\n",
       "        -1.34045546e-02 +1.36889493e-02j,\n",
       "        -4.12308831e-04 -1.86506084e-04j,\n",
       "        -7.78801941e-04 -2.94433644e-04j,  -1.31527383e-03 +6.88016062e-04j]),\n",
       "        array([ 0.11986828+0.22756075j,  0.15202729-0.03822423j,\n",
       "       -0.02775134+0.01374608j,  0.01030803-0.00460431j,\n",
       "        0.00051401+0.00036093j,  0.00038509+0.00135207j]),\n",
       "        array([-0.04811129-0.08049494j, -0.01557915+0.03338547j,\n",
       "       -0.01096442-0.00152418j, -0.00100064+0.00387316j,\n",
       "       -0.00143351+0.00410618j, -0.00052237+0.00157811j]),\n",
       "        array([-0.59178873+0.42076128j, -0.00212225-0.1250081j ,\n",
       "       -0.08159669-0.01858748j, -0.00920271-0.02935155j,\n",
       "        0.01719004-0.00349318j,  0.00118797-0.02667208j]),\n",
       "        array([ 0.40188125-0.22322274j, -0.00775372-0.03109618j,\n",
       "       -0.00127171-0.04747774j, -0.01446692-0.02691881j,\n",
       "       -0.00257428-0.01302972j,  0.00088541-0.00184325j])]], dtype=object)"
      ]
     },
     "execution_count": 160,
     "metadata": {},
     "output_type": "execute_result"
    }
   ],
   "source": [
    "Power=Power[:6930]\n",
    "Power.reshape(1155,6)"
   ]
  },
  {
   "cell_type": "code",
   "execution_count": null,
   "metadata": {
    "collapsed": false
   },
   "outputs": [],
   "source": []
  },
  {
   "cell_type": "code",
   "execution_count": null,
   "metadata": {
    "collapsed": true
   },
   "outputs": [],
   "source": []
  },
  {
   "cell_type": "code",
   "execution_count": null,
   "metadata": {
    "collapsed": true
   },
   "outputs": [],
   "source": []
  }
 ],
 "metadata": {
  "kernelspec": {
   "display_name": "Python 2",
   "language": "python",
   "name": "python2"
  },
  "language_info": {
   "codemirror_mode": {
    "name": "ipython",
    "version": 2
   },
   "file_extension": ".py",
   "mimetype": "text/x-python",
   "name": "python",
   "nbconvert_exporter": "python",
   "pygments_lexer": "ipython2",
   "version": "2.7.11"
  }
 },
 "nbformat": 4,
 "nbformat_minor": 0
}
