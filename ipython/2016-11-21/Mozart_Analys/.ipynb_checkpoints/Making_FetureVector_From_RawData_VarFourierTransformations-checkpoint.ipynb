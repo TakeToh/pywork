{
 "cells": [
  {
   "cell_type": "markdown",
   "metadata": {},
   "source": [
    "幅広くデータを見ていく\n",
    "* 加速度の波形を並べていみる\n",
    "* ウィンドウフレームごとの平均，分散の変化"
   ]
  },
  {
   "cell_type": "code",
   "execution_count": 13,
   "metadata": {
    "collapsed": true
   },
   "outputs": [],
   "source": [
    "# 表示用\n",
    "from tqdm import tqdm\n",
    "from tqdm import tnrange, tqdm_notebook"
   ]
  },
  {
   "cell_type": "code",
   "execution_count": 14,
   "metadata": {
    "collapsed": false
   },
   "outputs": [],
   "source": [
    "import numpy as np\n",
    "from numpy import zeros, newaxis\n",
    "import datetime\n",
    "import os\n",
    "import copy\n",
    "import time\n",
    "\n",
    "# Parametor about Sensor\n",
    "SensorNum=1 # Sensor number\n",
    "#SensorAxis='AccX' # Axis\n",
    "\n",
    "# Parametor about  \" Sliding Window \" \n",
    "WindowWidth =np.array([128,256,512,1024,2048,4096]) # Window Width\n",
    "SlidingWidth =WindowWidth/4 #sliding window\n",
    "\n",
    "# Parametor about Neural Network\n",
    "AEDimention = 16\n",
    "\n",
    "# Define Data Name\n",
    "DATE= str( datetime.date.today() )+'/'\n",
    "TITLE=\"Participants01_First_1/\"\n",
    "\n",
    "# Parametor about \" Data Path\"\n",
    "DataPath = \"/media/takeyama/Transfer/02_ActivityResearch/Paticipants01/01_First/20161018-105301/mem/\"\n",
    "\n",
    "#chopin\n",
    "#StorePath = \"/home/takeyama/Documents/\"\n",
    "#mozart\n",
    "StorePath =\"/media/takeyama/HD-PNFU3/01_ActivityResearchData/\"\n",
    "if not os.path.exists(StorePath+TITLE+'dictionary/'): \n",
    "    os.makedirs(StorePath+TITLE+'dictionary/')\n",
    "DictionaryDataPath=StorePath+TITLE+'dictionary/'\n",
    "\n",
    "if not os.path.exists(StorePath+TITLE+'window/'): \n",
    "    os.makedirs(StorePath+TITLE+'window/')\n",
    "WindowDataPath=StorePath+TITLE+'window/'\n",
    "\n",
    "if not os.path.exists(StorePath+TITLE+DATE+'studyOutput/'): \n",
    "    os.makedirs(StorePath+TITLE+DATE+'studyOutput/')\n",
    "StudyOutputPath=StorePath+TITLE+DATE+'studyOutput/'\n",
    "\n",
    "if not os.path.exists(StorePath+TITLE+DATE+'parametor/'): \n",
    "    os.makedirs(StorePath+TITLE+DATE+'parametor/')\n",
    "ParametorPath=StorePath+TITLE+DATE+'parametor/'\n",
    "\n",
    "if not os.path.exists(StorePath+TITLE+DATE+'result/'): \n",
    "    os.makedirs(StorePath+TITLE+DATE+'result/')\n",
    "ResultPath=StorePath+TITLE+DATE+'result/'\n",
    "\n",
    "if not os.path.exists(StorePath+'/'+TITLE+DATE+'graph/'): \n",
    "    os.makedirs(StorePath+'/'+TITLE+DATE+'graph/')\n",
    "GraphPath=StorePath+'/'+TITLE+DATE+'graph/'"
   ]
  },
  {
   "cell_type": "markdown",
   "metadata": {},
   "source": [
    "センサデータの読み込み"
   ]
  },
  {
   "cell_type": "code",
   "execution_count": 15,
   "metadata": {
    "collapsed": true
   },
   "outputs": [],
   "source": [
    "# センサデータのcsvファイル名をリストに集約する関数\n",
    "def SensorDataFileNameList(path):\n",
    "    l = os.listdir(DataPath)\n",
    "    FilePath =[]\n",
    "    SensorName = []\n",
    "    \n",
    "    for n in range(len(l)):\n",
    "        if (l[n][:4].find('mem-') != -1):\n",
    "            FilePath.append(l[n])\n",
    "            SensorName.append(l[n][4:15])\n",
    "    \n",
    "    return FilePath,SensorName"
   ]
  },
  {
   "cell_type": "markdown",
   "metadata": {},
   "source": [
    "CSVを読み込んで，CSVの中身を辞書型で表現する"
   ]
  },
  {
   "cell_type": "code",
   "execution_count": 16,
   "metadata": {
    "collapsed": true
   },
   "outputs": [],
   "source": [
    "# FFT library\n",
    "from scipy import fftpack\n",
    "from scipy import signal\n",
    "\n",
    "# Graph Plot\n",
    "import matplotlib.pyplot as plt\n",
    "from matplotlib import gridspec\n",
    "\n",
    "# Generate WindowFrame Function\n",
    "from mymodule import window\n",
    "\n",
    "# timer\n",
    "import time\n",
    "\n",
    "%matplotlib inline"
   ]
  },
  {
   "cell_type": "code",
   "execution_count": 17,
   "metadata": {
    "collapsed": false
   },
   "outputs": [
    {
     "name": "stdout",
     "output_type": "stream",
     "text": [
      "['Chest.npz', 'LeftHand.npz', 'LeftLeg.npz', 'RightHand.npz', 'Rightleg.npz', 'West.npz']\n"
     ]
    }
   ],
   "source": [
    "DictName = os.listdir(DictionaryDataPath)\n",
    "print DictName"
   ]
  },
  {
   "cell_type": "code",
   "execution_count": 18,
   "metadata": {
    "collapsed": false
   },
   "outputs": [],
   "source": [
    "Sensor5 = np.load(DictionaryDataPath+DictName[0])['data'][()]\n",
    "Sensor1 = np.load(DictionaryDataPath+DictName[1])['data'][()]\n",
    "Sensor3 = np.load(DictionaryDataPath+DictName[2])['data'][()]\n",
    "Sensor2 = np.load(DictionaryDataPath+DictName[3])['data'][()]\n",
    "Sensor4 = np.load(DictionaryDataPath+DictName[4])['data'][()]\n",
    "Sensor6 = np.load(DictionaryDataPath+DictName[5])['data'][()]"
   ]
  },
  {
   "cell_type": "code",
   "execution_count": 19,
   "metadata": {
    "collapsed": false
   },
   "outputs": [],
   "source": [
    "def GetWindowFrame(windowName, dataRaw, wWidth, sWidth, PATH):\n",
    "    \"\"\"\n",
    "    data　ウィンドウフレームに変換するデータ\n",
    "    registName　ウィンドウフレームに登録するデータの名前\n",
    "    windowWidth　ウィンドウ幅\n",
    "    slidingWidth　スライド幅\n",
    "    PATH ウィドウフレームを保存するディレクトリ\n",
    "    \n",
    "    \n",
    "    About Function:\n",
    "        与えられたdataからウィンドウ幅windowWidth,スライド幅slidingWidthにしたがって\n",
    "        registNameのウィドウフレームを返す．\n",
    "        また，与えれたPATH内に同様なパラメータ( WindowWidth, slidingWidth)かつ同様な\n",
    "        windowNameのものがある場合，そのデータを返す．\n",
    "        この関数が登録，ウィンドウフレームに変換できるデータは１つとする\n",
    "    \"\"\"\n",
    "    storedName = windowName+'_Win='+str(wWidth).zfill(4)+'_Sld='+str(sWidth).zfill(4)+'.npz'\n",
    "    l = os.listdir(PATH)\n",
    "    \n",
    "    if storedName in l:\n",
    "        print \"this data had finished making\"\n",
    "        return np.load(PATH+storedName)['data'][()]\n",
    "    \n",
    "    w=window()\n",
    "    w.SetData(windowName,dataRaw)    \n",
    "    wind=w.Compile(wWidth,sWidth)\n",
    "    windoW=wind.reshape((len(wind),np.prod(wind.shape[1:])))\n",
    "    \n",
    "    np.savez(PATH+storedName,data=wind)\n",
    "\n",
    "    return wind"
   ]
  },
  {
   "cell_type": "code",
   "execution_count": 20,
   "metadata": {
    "collapsed": false
   },
   "outputs": [
    {
     "name": "stdout",
     "output_type": "stream",
     "text": [
      "this data had finished making\n"
     ]
    }
   ],
   "source": [
    "windowNum = 256\n",
    "slidingNum = windowNum/32\n",
    "\n",
    "wind=GetWindowFrame('AccX', Sensor1['AccX'], windowNum, slidingNum, WindowDataPath)"
   ]
  },
  {
   "cell_type": "code",
   "execution_count": 21,
   "metadata": {
    "collapsed": false
   },
   "outputs": [
    {
     "data": {
      "text/plain": [
       "(134702, 256)"
      ]
     },
     "execution_count": 21,
     "metadata": {},
     "output_type": "execute_result"
    }
   ],
   "source": [
    "wind.shape"
   ]
  },
  {
   "cell_type": "markdown",
   "metadata": {},
   "source": [
    "# Methematical/Statistical Functions"
   ]
  },
  {
   "cell_type": "markdown",
   "metadata": {},
   "source": [
    "## Mean, Median"
   ]
  },
  {
   "cell_type": "code",
   "execution_count": 22,
   "metadata": {
    "collapsed": true
   },
   "outputs": [],
   "source": [
    "def Vector_Mean(windowName, dataRaw, wWidth, sWidth, PATH):\n",
    "    # get windowFrame\n",
    "    wind=GetWindowFrame(windowName, dataRaw, wWidth, sWidth, PATH)\n",
    "    \n",
    "    Output = np.array([])\n",
    "    for i in tqdm_notebook( range( wind.shape[0] ) ):\n",
    "        Output = np.append(Output, wind[i,:].mean())\n",
    "    return Output"
   ]
  },
  {
   "cell_type": "code",
   "execution_count": 23,
   "metadata": {
    "collapsed": true
   },
   "outputs": [],
   "source": [
    "def Vector_Median(windowName, dataRaw, wWidth, sWidth, PATH):\n",
    "    # get windowFrame\n",
    "    wind=GetWindowFrame(windowName, dataRaw, wWidth, sWidth, PATH)\n",
    "    \n",
    "    Output = np.array([])\n",
    "    for i in tqdm_notebook( range( wind.shape[0] ) ):\n",
    "        Output = np.append(Output, np.median(wind[i,:].mean()) )\n",
    "    return Output"
   ]
  },
  {
   "cell_type": "code",
   "execution_count": 24,
   "metadata": {
    "collapsed": false
   },
   "outputs": [
    {
     "name": "stdout",
     "output_type": "stream",
     "text": [
      "this data had finished making\n",
      "\n"
     ]
    },
    {
     "data": {
      "text/plain": [
       "array([ 0.99480742,  0.99419883,  0.99307266, ..., -0.22953281,\n",
       "       -0.22897422, -0.22832773])"
      ]
     },
     "execution_count": 24,
     "metadata": {},
     "output_type": "execute_result"
    }
   ],
   "source": [
    "Vector_Mean('AccX', Sensor1['AccX'], windowNum, slidingNum, WindowDataPath)"
   ]
  },
  {
   "cell_type": "code",
   "execution_count": 25,
   "metadata": {
    "collapsed": false
   },
   "outputs": [
    {
     "name": "stdout",
     "output_type": "stream",
     "text": [
      "this data had finished making\n",
      "\n"
     ]
    },
    {
     "data": {
      "text/plain": [
       "array([ 0.99480742,  0.99419883,  0.99307266, ..., -0.22953281,\n",
       "       -0.22897422, -0.22832773])"
      ]
     },
     "execution_count": 25,
     "metadata": {},
     "output_type": "execute_result"
    }
   ],
   "source": [
    "Vector_Median('AccX', Sensor1['AccX'], windowNum, slidingNum, WindowDataPath)"
   ]
  },
  {
   "cell_type": "markdown",
   "metadata": {},
   "source": [
    "## Variance, Std Deviation"
   ]
  },
  {
   "cell_type": "code",
   "execution_count": 26,
   "metadata": {
    "collapsed": true
   },
   "outputs": [],
   "source": [
    "def Vector_Var(windowName, dataRaw, wWidth, sWidth, PATH):\n",
    "    # get windowFrame\n",
    "    wind=GetWindowFrame(windowName, dataRaw, wWidth, sWidth, PATH)\n",
    "    \n",
    "    Output = np.array([])\n",
    "    for i in tqdm_notebook( range( wind.shape[0] ) ):\n",
    "        Output = np.append(Output, wind[i,:].var())\n",
    "    return Output"
   ]
  },
  {
   "cell_type": "code",
   "execution_count": 27,
   "metadata": {
    "collapsed": true
   },
   "outputs": [],
   "source": [
    "def Vector_StdDev(windowName, dataRaw, wWidth, sWidth, PATH):\n",
    "    # get windowFrame\n",
    "    wind=GetWindowFrame(windowName, dataRaw, wWidth, sWidth, PATH)\n",
    "    \n",
    "    Output = np.array([])\n",
    "    for i in tqdm_notebook( range( wind.shape[0] ) ):\n",
    "        Output = np.append(Output, wind[i,:].var()**0.5)\n",
    "    return Output"
   ]
  },
  {
   "cell_type": "code",
   "execution_count": 28,
   "metadata": {
    "collapsed": false
   },
   "outputs": [
    {
     "name": "stdout",
     "output_type": "stream",
     "text": [
      "this data had finished making\n",
      "\n"
     ]
    },
    {
     "data": {
      "text/plain": [
       "array([ 0.00019847,  0.00019454,  0.00018795, ...,  0.00286388,\n",
       "        0.00274794,  0.00263213])"
      ]
     },
     "execution_count": 28,
     "metadata": {},
     "output_type": "execute_result"
    }
   ],
   "source": [
    "Vector_Var('AccX', Sensor1['AccX'], windowNum, slidingNum, WindowDataPath)"
   ]
  },
  {
   "cell_type": "code",
   "execution_count": 29,
   "metadata": {
    "collapsed": false
   },
   "outputs": [
    {
     "name": "stdout",
     "output_type": "stream",
     "text": [
      "this data had finished making\n",
      "\n"
     ]
    },
    {
     "data": {
      "text/plain": [
       "array([ 0.01408788,  0.01394773,  0.01370958, ...,  0.05351527,\n",
       "        0.05242077,  0.05130431])"
      ]
     },
     "execution_count": 29,
     "metadata": {},
     "output_type": "execute_result"
    }
   ],
   "source": [
    "Vector_StdDev('AccX', Sensor1['AccX'], windowNum, slidingNum, WindowDataPath)"
   ]
  },
  {
   "cell_type": "markdown",
   "metadata": {},
   "source": [
    "## Min, Max, Range\n",
    "Range = the difference between maximum and minimum sample values"
   ]
  },
  {
   "cell_type": "code",
   "execution_count": 30,
   "metadata": {
    "collapsed": true
   },
   "outputs": [],
   "source": [
    "def Vector_Max(windowName, dataRaw, wWidth, sWidth, PATH):\n",
    "    # get windowFrame\n",
    "    wind=GetWindowFrame(windowName, dataRaw, wWidth, sWidth, PATH)\n",
    "    \n",
    "    Output = np.array([])\n",
    "    for i in tqdm_notebook( range( wind.shape[0] ) ):\n",
    "        Output = np.append(Output, wind[i,:].max())\n",
    "    return Output"
   ]
  },
  {
   "cell_type": "code",
   "execution_count": 31,
   "metadata": {
    "collapsed": false
   },
   "outputs": [],
   "source": [
    "def Vector_Min(windowName, dataRaw, wWidth, sWidth, PATH):\n",
    "    # get windowFrame\n",
    "    wind=GetWindowFrame(windowName, dataRaw, wWidth, sWidth, PATH)\n",
    "    \n",
    "    Output = np.array([])\n",
    "    for i in tqdm_notebook( range( wind.shape[0] ) ):\n",
    "        Output = np.append(Output, wind[i,:].min())\n",
    "    return Output"
   ]
  },
  {
   "cell_type": "code",
   "execution_count": 32,
   "metadata": {
    "collapsed": false
   },
   "outputs": [],
   "source": [
    "def Vector_Range(windowName, dataRaw, wWidth, sWidth, PATH):\n",
    "    # get windowFrame\n",
    "    wind=GetWindowFrame(windowName, dataRaw, wWidth, sWidth, PATH)\n",
    "    \n",
    "    Output = np.array([])\n",
    "    for i in tqdm_notebook( range( wind.shape[0] ) ):\n",
    "        Output = np.append(Output, wind[i,:].max()-wind[i,:].min())\n",
    "    return Output"
   ]
  },
  {
   "cell_type": "code",
   "execution_count": 33,
   "metadata": {
    "collapsed": false
   },
   "outputs": [
    {
     "name": "stdout",
     "output_type": "stream",
     "text": [
      "this data had finished making\n",
      "\n"
     ]
    },
    {
     "data": {
      "text/plain": [
       "array([ 1.023 ,  1.023 ,  1.023 , ..., -0.0819, -0.0819, -0.0819])"
      ]
     },
     "execution_count": 33,
     "metadata": {},
     "output_type": "execute_result"
    }
   ],
   "source": [
    "Vector_Max('AccX', Sensor1['AccX'], windowNum, slidingNum, WindowDataPath)"
   ]
  },
  {
   "cell_type": "code",
   "execution_count": 34,
   "metadata": {
    "collapsed": false
   },
   "outputs": [
    {
     "name": "stdout",
     "output_type": "stream",
     "text": [
      "this data had finished making\n",
      "\n"
     ]
    },
    {
     "data": {
      "text/plain": [
       "array([ 0.9673,  0.9673,  0.9673, ..., -0.3585, -0.3358, -0.3358])"
      ]
     },
     "execution_count": 34,
     "metadata": {},
     "output_type": "execute_result"
    }
   ],
   "source": [
    "Vector_Min('AccX', Sensor1['AccX'], windowNum, slidingNum, WindowDataPath)"
   ]
  },
  {
   "cell_type": "code",
   "execution_count": 35,
   "metadata": {
    "collapsed": false
   },
   "outputs": [
    {
     "name": "stdout",
     "output_type": "stream",
     "text": [
      "this data had finished making\n",
      "\n"
     ]
    },
    {
     "data": {
      "text/plain": [
       "array([ 0.0557,  0.0557,  0.0557, ...,  0.2766,  0.2539,  0.2539])"
      ]
     },
     "execution_count": 35,
     "metadata": {},
     "output_type": "execute_result"
    }
   ],
   "source": [
    "Vector_Range('AccX', Sensor1['AccX'], windowNum, slidingNum, WindowDataPath)"
   ]
  },
  {
   "cell_type": "markdown",
   "metadata": {},
   "source": [
    "## RMS"
   ]
  },
  {
   "cell_type": "code",
   "execution_count": 36,
   "metadata": {
    "collapsed": false
   },
   "outputs": [
    {
     "data": {
      "text/plain": [
       "256"
      ]
     },
     "execution_count": 36,
     "metadata": {},
     "output_type": "execute_result"
    }
   ],
   "source": [
    "wind[0,:].size"
   ]
  },
  {
   "cell_type": "code",
   "execution_count": 37,
   "metadata": {
    "collapsed": true
   },
   "outputs": [
    {
     "data": {
      "text/plain": [
       "array([ 0.99281296,  1.004004  ,  0.99760144,  1.01425041,  1.02758769,\n",
       "        1.03002201,  1.02070609,  1.022121  ,  1.03408561,  1.03795344,\n",
       "        1.02860164,  1.03063104,  1.03306896,  1.02860164,  1.02313225,\n",
       "        1.01969604,  1.02171664,  1.01767744,  1.00781521,  0.99221521,\n",
       "        0.99760144,  0.99281296,  0.99022401,  0.98346889,  0.98307225,\n",
       "        0.98069409,  0.96471684,  0.962361  ,  0.95570176,  0.96510976,\n",
       "        0.95570176,  0.95277121,  0.9604    ,  0.94711824,  0.938961  ,\n",
       "        0.94128804,  0.94653441,  0.95413824,  0.93566929,  0.93799225,\n",
       "        0.93857344,  0.94128804,  0.94653441,  0.94458961,  0.93760489,\n",
       "        0.94458961,  0.94711824,  0.94848121,  0.95609284,  0.95804944,\n",
       "        0.96510976,  0.95316169,  0.95140516,  0.96707556,  0.97772544,\n",
       "        0.97042201,  0.97337956,  0.9801    ,  0.97199881,  0.97140736,\n",
       "        0.9604    ,  0.97101316,  0.97239321,  0.96609241,  0.95902849,\n",
       "        0.96138025,  0.95374756,  0.95316169,  0.95140516,  0.95511529,\n",
       "        0.94711824,  0.95511529,  0.95374756,  0.95179536,  0.94420089,\n",
       "        0.94458961,  0.94750756,  0.96805921,  0.97278769,  0.97101316,\n",
       "        0.97535376,  0.97713225,  0.98644624,  0.99860049,  1.01566084,\n",
       "        1.01384761,  1.01183481,  1.01767744,  1.01082916,  1.01324356,\n",
       "        1.02252544,  1.02353689,  1.03103716,  1.02556129,  1.03693489,\n",
       "        1.02515625,  1.01969604,  1.01284096,  1.01909025,  1.01465329,\n",
       "        1.01868649,  1.022121  ,  1.024144  ,  1.01284096,  1.01666889,\n",
       "        1.01969604,  1.03754596,  1.03306896,  1.04305369,  1.04489284,\n",
       "        1.046529  ,  1.022121  ,  1.02353689,  1.02070609,  1.03693489,\n",
       "        1.02353689,  1.024144  ,  1.02070609,  1.02860164,  1.02111025,\n",
       "        1.02454884,  1.01666889,  1.01183481,  1.00942209,  1.00942209,\n",
       "        1.00982401,  1.00681156,  0.998001  ,  1.00240144,  0.99181681,\n",
       "        0.99361024,  0.99121936,  0.97970404,  0.96707556,  0.96707556,\n",
       "        0.97042201,  0.98109025,  0.96904336,  0.96373489,  0.94848121,\n",
       "        0.94381225,  0.937024  ,  0.94750756,  0.94887081,  0.95374756,\n",
       "        0.95707089,  0.95804944,  0.95804944,  0.95942025,  0.96138025,\n",
       "        0.97199881,  0.9801    ,  0.99281296,  0.99281296,  1.002001  ,\n",
       "        0.99720196,  1.01566084,  1.01022601,  1.00641024,  1.02697956,\n",
       "        1.02657424,  1.00741369,  0.98883136,  1.00340289,  1.00440484,\n",
       "        1.00140049,  1.01022601,  0.99720196,  0.98743969,  0.98883136,\n",
       "        0.98346889,  0.98307225,  0.98307225,  0.99281296,  0.98644624,\n",
       "        0.97239321,  0.96943716,  0.97713225,  0.98922916,  0.99720196,\n",
       "        0.99520576,  0.99082116,  0.99420841,  0.99361024,  0.99181681,\n",
       "        0.99121936,  0.99760144,  0.98485776,  0.99361024,  0.97772544,\n",
       "        0.97377424,  0.98247744,  0.97574884,  0.95043001,  0.94887081,\n",
       "        0.962361  ,  0.95804944,  0.9604    ,  0.97377424,  0.97101316,\n",
       "        0.96943716,  0.96569929,  0.96845281,  0.96373489,  0.96668224,\n",
       "        0.97476129,  0.98148649,  0.97673689,  0.98883136,  0.98783721,\n",
       "        0.982081  ,  0.98485776,  0.98883136,  0.98585041,  0.98783721,\n",
       "        0.98346889,  0.97871449,  0.97772544,  0.98485776,  0.98545329,\n",
       "        1.00100025,  1.01183481,  1.01465329,  1.00982401,  1.01425041,\n",
       "        1.02799321,  1.02961609,  1.03063104,  1.03510276,  1.03999204,\n",
       "        1.02961609,  1.03652761,  1.03205281,  1.03002201,  1.03144336,\n",
       "        1.01767744,  1.01727396,  1.01425041,  1.00440484,  1.00340289,\n",
       "        1.00140049,  1.00881936,  0.99960004,  1.00340289,  1.00841764,\n",
       "        1.00100025,  0.99620361,  0.98883136,  0.98982601,  0.99082116,\n",
       "        0.99221521,  0.998001  ,  0.99361024,  0.98743969,  0.97871449,\n",
       "        0.96766569])"
      ]
     },
     "execution_count": 37,
     "metadata": {},
     "output_type": "execute_result"
    }
   ],
   "source": [
    "wind[0,:]**2"
   ]
  },
  {
   "cell_type": "code",
   "execution_count": 38,
   "metadata": {
    "collapsed": false
   },
   "outputs": [
    {
     "data": {
      "text/plain": [
       "0.98984027496093763"
      ]
     },
     "execution_count": 38,
     "metadata": {},
     "output_type": "execute_result"
    }
   ],
   "source": [
    "np.sum( wind[0,:]**2/wind[0,:].size )"
   ]
  },
  {
   "cell_type": "code",
   "execution_count": 39,
   "metadata": {
    "collapsed": true
   },
   "outputs": [],
   "source": [
    "def Vector_RMS(windowName, dataRaw, wWidth, sWidth, PATH):\n",
    "    # get windowFrame\n",
    "    wind=GetWindowFrame(windowName, dataRaw, wWidth, sWidth, PATH)\n",
    "    \n",
    "    Output = np.array([])\n",
    "    for i in tqdm_notebook( range( wind.shape[0] ) ):\n",
    "        Output = np.append(Output, np.sum( wind[i,:]**2/wind[i,:].size ) )\n",
    "    return Output"
   ]
  },
  {
   "cell_type": "code",
   "execution_count": 40,
   "metadata": {
    "collapsed": false
   },
   "outputs": [
    {
     "name": "stdout",
     "output_type": "stream",
     "text": [
      "this data had finished making\n",
      "\n"
     ]
    },
    {
     "data": {
      "text/plain": [
       "array([ 0.98984027,  0.98862585,  0.98638125, ...,  0.0555492 ,\n",
       "        0.05517713,  0.05476569])"
      ]
     },
     "execution_count": 40,
     "metadata": {},
     "output_type": "execute_result"
    }
   ],
   "source": [
    "Vector_RMS('AccX', Sensor1['AccX'], windowNum, slidingNum, WindowDataPath)"
   ]
  },
  {
   "cell_type": "markdown",
   "metadata": {},
   "source": [
    "## Correlation, Cross-Correlation"
   ]
  },
  {
   "cell_type": "code",
   "execution_count": 63,
   "metadata": {
    "collapsed": false
   },
   "outputs": [],
   "source": [
    "def Vector_Corr(windowNameX, dataRawX, windowNameY, dataRawY, wWidth, sWidth, PATH):\n",
    "    # get windowFrame\n",
    "    windX=GetWindowFrame(windowNameX, dataRawX, wWidth, sWidth, PATH)\n",
    "    windY=GetWindowFrame(windowNameY, dataRawY, wWidth, sWidth, PATH)\n",
    "\n",
    "    Output = np.array([])\n",
    "    tmpArray = np.array([])\n",
    "    \n",
    "    for i in tqdm_notebook( range( windX.shape[0] ) ):\n",
    "        tmpArray = np.array([])\n",
    "        for l in tqdm_notebook( range(windY.shape[0]),leave=False):\n",
    "            tmpArray = np.append(tmpArray, np.corrcoef(windX[i,:],windY[l,:]) ) \n",
    "            \n",
    "        Output = np.append(Output, tmpArray, axis=0)\n",
    "    return Output  "
   ]
  },
  {
   "cell_type": "code",
   "execution_count": null,
   "metadata": {
    "collapsed": false
   },
   "outputs": [
    {
     "name": "stdout",
     "output_type": "stream",
     "text": [
      "this data had finished making\n",
      "this data had finished making\n"
     ]
    }
   ],
   "source": [
    "Vector_Corr('AccX', Sensor1['AccX'],'AccX', Sensor1['AccX'], windowNum, slidingNum, WindowDataPath)"
   ]
  },
  {
   "cell_type": "code",
   "execution_count": null,
   "metadata": {
    "collapsed": true
   },
   "outputs": [],
   "source": []
  }
 ],
 "metadata": {
  "kernelspec": {
   "display_name": "Python 2",
   "language": "python",
   "name": "python2"
  },
  "language_info": {
   "codemirror_mode": {
    "name": "ipython",
    "version": 2
   },
   "file_extension": ".py",
   "mimetype": "text/x-python",
   "name": "python",
   "nbconvert_exporter": "python",
   "pygments_lexer": "ipython2",
   "version": "2.7.11"
  },
  "widgets": {
   "state": {
    "076389f2cf9a4825b77eab043860a44d": {
     "views": [
      {
       "cell_index": 16
      }
     ]
    },
    "13075acac378455da4fa045b15ea8fe0": {
     "views": [
      {
       "cell_index": 21
      }
     ]
    },
    "1fd2916bcf524175b62f56ba4ca3f391": {
     "views": [
      {
       "cell_index": 38
      }
     ]
    },
    "346894948abb4252b5cfbd16785fe689": {
     "views": [
      {
       "cell_index": 38
      }
     ]
    },
    "42871ac62ec2416ea5cee08d226b2069": {
     "views": [
      {
       "cell_index": 27
      }
     ]
    },
    "784121bd9ac549f8acdd25ce5a53fc04": {
     "views": [
      {
       "cell_index": 38
      }
     ]
    },
    "91a9f54a1c2343d6852d5dd9fcfbaf90": {
     "views": [
      {
       "cell_index": 38
      }
     ]
    },
    "95c47ddc0fe74954a348e8f5ffda1765": {
     "views": [
      {
       "cell_index": 38
      }
     ]
    },
    "9802dc9d3bc144c3b5b0cec6e8f658d1": {
     "views": [
      {
       "cell_index": 28
      }
     ]
    },
    "a26af00879054d659944cd78ab10188d": {
     "views": [
      {
       "cell_index": 38
      }
     ]
    },
    "aa2b0772ecc6402ab334b75182d3dc38": {
     "views": [
      {
       "cell_index": 38
      }
     ]
    },
    "ae4f2e13b1b149d3b4c1c02af0c5240c": {
     "views": [
      {
       "cell_index": 17
      }
     ]
    },
    "b5abb40227a640038de27e08c5e2f3b1": {
     "views": [
      {
       "cell_index": 29
      }
     ]
    },
    "b7fae721c67b4c899049a7ee88f9f971": {
     "views": [
      {
       "cell_index": 38
      }
     ]
    },
    "c18c5a01d35a41a6b064ef44bdab12da": {
     "views": [
      {
       "cell_index": 29
      }
     ]
    },
    "d9772d72fc2747078b1da93c46367f78": {
     "views": [
      {
       "cell_index": 38
      }
     ]
    },
    "e129133985e7444f92b3d953f9713546": {
     "views": [
      {
       "cell_index": 22
      }
     ]
    },
    "e53c0b3a536442679ef0009275cd038e": {
     "views": [
      {
       "cell_index": 38
      }
     ]
    },
    "e70b894f5e4d43df82670b23f9fd614e": {
     "views": [
      {
       "cell_index": 27
      }
     ]
    },
    "f2c07bbc93ad4811a65c226ed2e2bc61": {
     "views": [
      {
       "cell_index": 35
      }
     ]
    },
    "f35e5690ce454c21a459690b6cd50730": {
     "views": [
      {
       "cell_index": 38
      }
     ]
    }
   },
   "version": "1.2.0"
  }
 },
 "nbformat": 4,
 "nbformat_minor": 0
}
