{
 "cells": [
  {
   "cell_type": "code",
   "execution_count": 1,
   "metadata": {
    "collapsed": true
   },
   "outputs": [],
   "source": [
    "import numpy as np\n",
    "import pandas as pd\n",
    "from scipy import fftpack\n",
    "from scipy import signal\n",
    "import datetime\n",
    "import pickle\n",
    "import time\n",
    "%matplotlib inline"
   ]
  },
  {
   "cell_type": "code",
   "execution_count": 2,
   "metadata": {
    "collapsed": true
   },
   "outputs": [],
   "source": [
    "p_path=\"/home/takeyama/pywork/ipython/2016-05-30/\""
   ]
  },
  {
   "cell_type": "code",
   "execution_count": 3,
   "metadata": {
    "collapsed": false
   },
   "outputs": [
    {
     "name": "stdout",
     "output_type": "stream",
     "text": [
      "/home/takeyama/Documents/SyncRecord/cleaning-addingLABEL\n"
     ]
    }
   ],
   "source": [
    "cd ~/Documents/SyncRecord/cleaning-addingLABEL/"
   ]
  },
  {
   "cell_type": "markdown",
   "metadata": {
    "collapsed": true
   },
   "source": [
    "クラスの問題について、レビューを頂いたのでメモする。\n",
    "・オブジェクトをセンサデータ１つにしたことに対して問題がある。\n",
    "センサ間のJS、KLダイバージェンスを調べるときに内部のインスタンスを呼ばないと大変\n",
    "→１つのクラスですべてのセンサデータを扱える方がいい\n",
    "\n",
    "問題に対して、クラスを位置から設計するのは大変\n",
    "・クラスをまとめるクラスを用意する必要がある。"
   ]
  },
  {
   "cell_type": "code",
   "execution_count": 4,
   "metadata": {
    "collapsed": false
   },
   "outputs": [],
   "source": [
    "class AllSensorData:        \n",
    "    def __init__(self):\n",
    "            self._DicSensor={}\n",
    "    \n",
    "    def regist(self, Sname, Pdata):\n",
    "        if len(self._DicSensor)==7:\n",
    "            print \"this class has max data\"\n",
    "        else:\n",
    "            data = SensorData()\n",
    "            data.ImportCSV(Sname,Pdata)   \n",
    "            self._DicSensor[Sname]=data\n",
    "            \n",
    "    def ExecFFT(self,Sname,samp):\n",
    "        print self._DicSensor[Sname].ClassName\n",
    "        self._DicSensor[Sname].CalcFFT(samp)\n",
    "\n",
    "    def DispFFT(self,Sname,samp):\n",
    "        print self._DicSensor[Sname].ClassName\n",
    "        col = self._DicSensor[Sname].GetColumns()\n",
    "        for axis in col:\n",
    "            print self._DicSensor[Sname].GetFFT('fft_'+axis,samp)    \n",
    "            \n",
    "    def ExecPower(self,Sname,samp):\n",
    "        print self._DicSensor[Sname].ClassName\n",
    "        self._DicSensor[Sname].CalcPower(samp)\n",
    "\n",
    "    def DispPower(self,Sname,samp):\n",
    "        print self._DicSensor[Sname].ClassName\n",
    "        col = self._DicSensor[Sname].GetColumns()\n",
    "        for axis in col:\n",
    "            print self._DicSensor[Sname].GetPower('power_'+axis,samp)\n",
    "            \n",
    "    def ShowData(self,Sname):\n",
    "        print self._DicSensor[Sname].ShowAllDf()\n",
    "        \n",
    "    # Kallback Librar Divergence\n",
    "    def _KLD(self,vect1,vect2):\n",
    "        f =lambda p,q : np.sum(p * np.log(p / q), axis=(p.ndim - 1))\n",
    "        kld_array=np.array([])\n",
    "        for vector1 in vect1:\n",
    "            for vector2 in vect2:\n",
    "                tmp = f( vector1, vector2 )\n",
    "                kld_array = np.append(kld_array,tmp)\n",
    "        return kld_array\n",
    "    \n",
    "    def ExecKLD(self,Sarray1,Saxis1,Sarray2,Saxis2,samp):\n",
    "        start = time.time()\n",
    "        dist1 = self._DicSensor[Sarray1].GetPower('power_'+Saxis1,samp)\n",
    "        dist2 = self._DicSensor[Sarray1].GetPower('power_'+Saxis2,samp)\n",
    "        \n",
    "        kld = self._KLD(dist1,dist2)    \n",
    "        np.savez(p_path+'kld/'+Sarray1+'_'+Saxis1+'_VS_'+Sarray2+'_'+Saxis2,kld)\n",
    "        elapsed_time = time.time() - start\n",
    "        print (\"elapsed_time:{0}\".format(elapsed_time)) + \"[sec]\"\n",
    "        \n",
    "    def ShowKLD(self,Sarray1,Saxis1,Sarray2,samp):\n",
    "        tmp = np.load(p_path+'kld/'+Sarray1+'_'+Saxis1+'_VS_'+Sarray2+'_'+Saxis2+'.npz')['arr_0']\n",
    "        print Sarray1+'_'+Saxis1+'_VS_'+Sarray2+'_'+Saxis2+'_'+'Kullback–Leibler Divergence'\n",
    "        print 'shape ='+str(tmp.shape)\n",
    "        print tmp\n",
    "        \n",
    "    def _JSD(self,vect1,vect2):\n",
    "        f =lambda p,q : 0.5*self._KLD(p,(0.5*(p+q)) )+0.5*self._KLD(q,(0.5*(p+q)) )\n",
    "        kld_array=np.array([])\n",
    "        for vector1 in vect1:\n",
    "            for vector2 in vect2:\n",
    "                tmp = f( vector1, vector2 )\n",
    "                kld_array = np.append(kld_array,tmp)\n",
    "        return kld_array\n",
    "    \n",
    "# Janson Shanon Divergence\n",
    "    def ExecJSD(self,Sarray1,Saxis1,Sarray2,samp):\n",
    "        start = time.time()\n",
    "        dist1 = self._DicSensor[Sarray1].GetPower('power_'+Saxis1,samp)\n",
    "        dist2 = self._DicSensor[Sarray1].GetPower('power_'+Saxis2,samp)\n",
    "        \n",
    "        jsd = self._JSD(dist1,dist2)    \n",
    "        np.savez(p_path+'jsd/'+Sarray1+'_'+Saxis1+'_VS_'+Sarray2+'_'+Saxis2,kld)\n",
    "        elapsed_time = time.time() - start\n",
    "        print (\"elapsed_time:{0}\".format(elapsed_time)) + \"[sec]\"\n",
    "        \n",
    "    def ShowJSD(self,Sarray1,Sarray2,samp):\n",
    "        tmp = np.load(p_path+'jsd/'+Sarray1+'_'+Saxis1+'_VS_'+Sarray2+'_'+Saxis2+'.npz')['arr_0']\n",
    "        print Sarray1+'_'+Saxis1+'_VS_'+Sarray2+'_'+Saxis2+'_'+'Jensen-Shannon Divergence'\n",
    "        print 'shape ='+str(tmp.shape)\n",
    "        print tmp\n",
    "        "
   ]
  },
  {
   "cell_type": "code",
   "execution_count": 5,
   "metadata": {
    "collapsed": false
   },
   "outputs": [],
   "source": [
    "class SensorData:\n",
    "    \n",
    "    def __init__(self):\n",
    "        print \"__class__\"\n",
    "        # raw data\n",
    "        self._RawData={}    \n",
    "        # fft data\n",
    "        self._FFTData={}\n",
    "        # power spectol data\n",
    "        self._PowerData={}    \n",
    "        # flag exsist data\n",
    "        self._Flag_exist_data=False\n",
    "        \n",
    "        self._columns=['AccX','AccY','AccZ','GyrX','GyrY','GyrZ']\n",
    "        self._fft_col=['fft_AccX','fft_AccY','fft_AccZ','fft_GyrX','fft_GyrY','fft_GyrZ']\n",
    "        self._power_col=['power_AccX','power_AccY','power_AccZ','power_GyrX','power_GyrY','power_GyrZ']\n",
    "        \n",
    "    def ImportCSV(self,Sclass,csv_file):\n",
    "        self.ClassName=Sclass\n",
    "        self.Flag_exist_data=True\n",
    "        # design dataframe\n",
    "        data = pd.read_csv(csv_file,encoding=\"SHIFT-JIS\")\n",
    "        data.columns=[u'Type',u'Time',u'AccX',u'AccY',u'AccZ',u'GyrX',u'GyrY',u'GyrZ']\n",
    "        data.Time=pd.to_datetime(data.Time)\n",
    "        data = pd.pivot_table(data,values=[u'AccX',u'AccY',u'AccZ',u'GyrX',u'GyrY',u'GyrZ'],index=[u'Time'])\n",
    "        \n",
    "        # convert numpy.darray\n",
    "        AccX=data.AccX.values*0.0001\n",
    "        AccY=data.AccY.values*0.0001\n",
    "        AccZ=data.AccZ.values*0.0001\n",
    "        GyrX=data.GyrX.values*0.01\n",
    "        GyrY=data.GyrY.values*0.01\n",
    "        GyrZ=data.GyrZ.values*0.01\n",
    "        Time=data.index.to_pydatetime().astype('datetime64[ns]')\n",
    "        \n",
    "        # regist each raw data \n",
    "        self._RawData['AccX'] = AccX\n",
    "        self._RawData['AccY'] = AccY\n",
    "        self._RawData['AccZ'] = AccZ\n",
    "        self._RawData['GyrX'] = GyrX\n",
    "        self._RawData['GyrY'] = GyrY\n",
    "        self._RawData['GyrZ'] = GyrZ\n",
    "        self._RawData['Time'] = Time\n",
    "    \n",
    "    def ShowFlagExistData(self):\n",
    "        return self.Flag_exist_data\n",
    "    \n",
    "    def GetColumns(self):\n",
    "        return self._columns\n",
    "\n",
    "    def ShowAllDf(self):\n",
    "        print 'AccX : ';print self._RawData['AccX']\n",
    "        print 'AccY : ';print self._RawData['AccY']\n",
    "        print 'AccZ : ';print self._RawData['AccZ']\n",
    "        print 'GyrX : ';print self._RawData['GyrX']\n",
    "        print 'GyrY : ';print self._RawData['GyrY']\n",
    "        print 'GyrZ : ';print self._RawData['GyrZ']\n",
    "        \n",
    "    def _Time2Num(self,time):\n",
    "        return np.where(self._RawData['Time']==np.datetime64(time) )[0][0]\n",
    "    \n",
    "    def ShowQuery(self,Sname,rng=[]):\n",
    "        data = self._RawData[Sname]\n",
    "        print Sname+':'+str( data[rng[0]:rng[1]])\n",
    "            \n",
    "    def _sliding_window(self,Sname,samp, overlap):\n",
    "        count =0\n",
    "        s =self._RawData['Time'][0]\n",
    "        start=self._Time2Num(s)\n",
    "        g = s+np.timedelta64(samp*10,'ms')\n",
    "        goal= self._Time2Num(g)\n",
    "        yield self._RawData[Sname][start:goal]\n",
    "        \n",
    "        add=overlap*0.01\n",
    "        \n",
    "        while True:\n",
    "            try:\n",
    "                count +=1\n",
    "                s =s+np.timedelta64(samp*10,'ms')\n",
    "                start=self._Time2Num(s)\n",
    "                g  =s+np.timedelta64(samp*10,'ms')\n",
    "                goal= self._Time2Num(g)\n",
    "                yield self._RawData[Sname][start:goal]\n",
    "            except StopIteration:\n",
    "                print '_sliding_window StopIteration'\n",
    "                break   \n",
    "            except IndexError:\n",
    "                print '_sliding_window IndexError'\n",
    "                break  \n",
    "                \n",
    "# Fast Frier transaction            \n",
    "    def GetFFT(self,Sfft,samp):\n",
    "        return np.load(p_path+'fft/'+self.ClassName+'_'+Sfft+'_'+str(samp)+'.npz')['arr_0']\n",
    "    \n",
    "    def CalcFFT(self,samp,overlap=0.5):\n",
    "        start = time.time()\n",
    "        fft_data = np.array([])\n",
    "        \n",
    "        for n,f in zip( self._columns,self._fft_col):\n",
    "            print 'start'+n+'->'+f\n",
    "            sw = self._sliding_window(n,samp,overlap)\n",
    "            while True:\n",
    "                try:\n",
    "                    d=sw.next()\n",
    "                    fft_data = np.append(fft_data, fftpack.fft(d)[1:(samp/2)+1] )   # fftの直流成分を除くsample/2の\n",
    "                except StopIteration:\n",
    "                    print 'CalcFFTStopIteration'\n",
    "                    fft_data = fft_data.reshape(len(fft_data)/(samp/2),(samp/2) )\n",
    "                    self._FFTData[f] = fft_data\n",
    "                    np.savez(p_path+'fft/'+self.ClassName+'_'+str(f)+'_'+str(samp),self._FFTData[f])\n",
    "                    break   \n",
    "        elapsed_time = time.time() - start\n",
    "        print (\"elapsed_time:{0}\".format(elapsed_time)) + \"[sec]\"\n",
    "           \n",
    "\n",
    "# Spectol Power \n",
    "    def GetPower(self,Spower,samp):\n",
    "        return np.load(p_path+'power/'+self.ClassName+'_'+Spower+'_'+str(samp)+'.npz')['arr_0']\n",
    "    \n",
    "    def _power(self,fft_array):\n",
    "        p=lambda x,y : np.sqrt(x**2+y**2)\n",
    "        power_array=np.array([])\n",
    "        for vector in fft_array:\n",
    "            tmp = p( np.real(vector),np.imag(vector) )\n",
    "            tmp = tmp/np.sum(tmp)\n",
    "            power_array = np.append(power_array,tmp)\n",
    "        return power_array\n",
    "        \n",
    "    def CalcPower(self,samp,overlap=0.5):\n",
    "        start = time.time()\n",
    "        for fft_name,power_name in zip( self._fft_col, self._power_col):\n",
    "            print 'start'+fft_name+'->'+power_name\n",
    "            fft_data = self.GetFFT(fft_name,samp)\n",
    "            power_data=self._power(fft_data)\n",
    "            np.savez(p_path+'power/'+self.ClassName+'_'+power_name+'_'+str(samp),power_data)\n",
    "        elapsed_time = time.time() - start\n",
    "        print (\"elapsed_time:{0}\".format(elapsed_time)) + \"[sec]\""
   ]
  },
  {
   "cell_type": "markdown",
   "metadata": {},
   "source": [
    "作成したクラスのデータをテストする"
   ]
  },
  {
   "cell_type": "markdown",
   "metadata": {},
   "source": [
    "class.regist(検索ワード,ファイル名)　クラスにファイルを追加する"
   ]
  },
  {
   "cell_type": "code",
   "execution_count": 7,
   "metadata": {
    "collapsed": false
   },
   "outputs": [
    {
     "name": "stdout",
     "output_type": "stream",
     "text": [
      "__class__\n",
      "__class__\n",
      "__class__\n",
      "__class__\n"
     ]
    }
   ],
   "source": [
    "AllTest = AllSensorData()\n",
    "AllTest.regist('left_hand','Conv-left-hand-ags.csv')\n",
    "AllTest.regist('right_leg','Conv-right-leg-ags.csv')\n",
    "AllTest.regist('left_leg','Conv-left-leg-ags.csv')\n",
    "AllTest.regist('right_hand','Conv-right-hand-ags.csv')"
   ]
  },
  {
   "cell_type": "markdown",
   "metadata": {},
   "source": [
    "class.ShowData(検索ワード)　クラスに追加したファイルを表示する"
   ]
  },
  {
   "cell_type": "code",
   "execution_count": 8,
   "metadata": {
    "collapsed": false
   },
   "outputs": [
    {
     "name": "stdout",
     "output_type": "stream",
     "text": [
      "AccX : \n",
      "[ 0.8226  0.8058  0.8292 ..., -0.1397 -0.1346 -0.1292]\n",
      "AccY : \n",
      "[ 0.7922  0.8437  0.9091 ...,  0.7067  0.7526  0.8188]\n",
      "AccZ : \n",
      "[-0.0543 -0.0582 -0.0231 ..., -0.5123 -0.4901 -0.5248]\n",
      "GyrX : \n",
      "[ 353.11  361.41  353.95 ...,   -4.59   -2.53   -2.67]\n",
      "GyrY : \n",
      "[ 71.96  59.74  48.03 ...,  56.    57.86  60.15]\n",
      "GyrZ : \n",
      "[ -9.53 -22.7  -34.02 ..., -36.9  -32.73 -29.73]\n",
      "None\n"
     ]
    }
   ],
   "source": [
    "AllTest.ShowData('left_hand')"
   ]
  },
  {
   "cell_type": "code",
   "execution_count": 9,
   "metadata": {
    "collapsed": false
   },
   "outputs": [
    {
     "name": "stdout",
     "output_type": "stream",
     "text": [
      "AccX : \n",
      "[ 0.9501  0.9526  0.9584 ...,  0.9294  0.967   0.8093]\n",
      "AccY : \n",
      "[ 0.1694  0.1709  0.1829 ..., -0.454  -0.5392 -0.1962]\n",
      "AccZ : \n",
      "[-0.0438 -0.0521 -0.0445 ...,  0.5364  0.5989 -0.1353]\n",
      "GyrX : \n",
      "[  6.08   7.53   9.67 ...,  62.94  71.18  83.5 ]\n",
      "GyrY : \n",
      "[-15.73 -16.93 -18.4  ...,  37.97  54.34  46.68]\n",
      "GyrZ : \n",
      "[-5.98 -6.38 -6.61 ..., -8.83  0.36 -5.52]\n",
      "None\n"
     ]
    }
   ],
   "source": [
    "AllTest.ShowData('left_leg')"
   ]
  },
  {
   "cell_type": "code",
   "execution_count": 10,
   "metadata": {
    "collapsed": false
   },
   "outputs": [
    {
     "name": "stdout",
     "output_type": "stream",
     "text": [
      "AccX : \n",
      "[ 0.8565  0.8391  0.8926 ...,  0.9554  0.9534  0.9619]\n",
      "AccY : \n",
      "[ 0.0087 -0.0596 -0.0813 ..., -0.28   -0.2688 -0.2673]\n",
      "AccZ : \n",
      "[ 0.209   0.157   0.1709 ...,  0.0203  0.0527  0.0481]\n",
      "GyrX : \n",
      "[-21.33 -23.51 -14.14 ...,   7.81   7.21   6.54]\n",
      "GyrY : \n",
      "[ -4.79   7.47  17.92 ...,   6.63   5.67   5.02]\n",
      "GyrZ : \n",
      "[ 13.29   5.15  -5.34 ...,  -7.26  -7.03  -6.23]\n",
      "None\n"
     ]
    }
   ],
   "source": [
    "AllTest.ShowData('right_leg')"
   ]
  },
  {
   "cell_type": "code",
   "execution_count": 11,
   "metadata": {
    "collapsed": false
   },
   "outputs": [
    {
     "name": "stdout",
     "output_type": "stream",
     "text": [
      "AccX : \n",
      "[ 0.8258  0.8805  0.9398 ...,  0.0316  0.0463  0.0057]\n",
      "AccY : \n",
      "[-0.3066 -0.2997 -0.2975 ..., -0.0693 -0.1137 -0.0734]\n",
      "AccZ : \n",
      "[ 0.1603  0.1664  0.1911 ...,  1.1037  1.0844  1.0234]\n",
      "GyrX : \n",
      "[-158.22 -152.1  -146.42 ...,  -13.93  -15.14  -11.08]\n",
      "GyrY : \n",
      "[-18.43 -23.89 -28.76 ..., -13.11 -12.04  -9.8 ]\n",
      "GyrZ : \n",
      "[-87.73 -89.44 -92.54 ...,  42.57  42.61  41.56]\n",
      "None\n"
     ]
    }
   ],
   "source": [
    "AllTest.ShowData('right_hand')"
   ]
  },
  {
   "cell_type": "markdown",
   "metadata": {},
   "source": [
    "class.ExecFFT(検索ワード,ウィンドウ幅orデータのサンプル数)\n",
    "FFTを実行する"
   ]
  },
  {
   "cell_type": "code",
   "execution_count": 12,
   "metadata": {
    "collapsed": false
   },
   "outputs": [
    {
     "name": "stdout",
     "output_type": "stream",
     "text": [
      "left_hand\n",
      "startAccX->fft_AccX\n",
      "_sliding_window IndexError\n",
      "CalcFFTStopIteration\n",
      "startAccY->fft_AccY\n",
      "_sliding_window IndexError\n",
      "CalcFFTStopIteration\n",
      "startAccZ->fft_AccZ\n",
      "_sliding_window IndexError\n",
      "CalcFFTStopIteration\n",
      "startGyrX->fft_GyrX\n",
      "_sliding_window IndexError\n",
      "CalcFFTStopIteration\n",
      "startGyrY->fft_GyrY\n",
      "_sliding_window IndexError\n",
      "CalcFFTStopIteration\n",
      "startGyrZ->fft_GyrZ\n",
      "_sliding_window IndexError\n",
      "CalcFFTStopIteration\n",
      "elapsed_time:6.03894305229[sec]\n",
      "left_leg\n",
      "startAccX->fft_AccX\n",
      "_sliding_window IndexError\n",
      "CalcFFTStopIteration\n",
      "startAccY->fft_AccY\n",
      "_sliding_window IndexError\n",
      "CalcFFTStopIteration\n",
      "startAccZ->fft_AccZ\n",
      "_sliding_window IndexError\n",
      "CalcFFTStopIteration\n",
      "startGyrX->fft_GyrX\n",
      "_sliding_window IndexError\n",
      "CalcFFTStopIteration\n",
      "startGyrY->fft_GyrY\n",
      "_sliding_window IndexError\n",
      "CalcFFTStopIteration\n",
      "startGyrZ->fft_GyrZ\n",
      "_sliding_window IndexError\n",
      "CalcFFTStopIteration\n",
      "elapsed_time:5.98586606979[sec]\n"
     ]
    }
   ],
   "source": [
    "AllTest.ExecFFT('left_hand',16)\n",
    "AllTest.ExecFFT('left_leg',16)"
   ]
  },
  {
   "cell_type": "code",
   "execution_count": 13,
   "metadata": {
    "collapsed": false
   },
   "outputs": [
    {
     "name": "stdout",
     "output_type": "stream",
     "text": [
      "right_leg\n",
      "startAccX->fft_AccX\n",
      "_sliding_window IndexError\n",
      "CalcFFTStopIteration\n",
      "startAccY->fft_AccY\n",
      "_sliding_window IndexError\n",
      "CalcFFTStopIteration\n",
      "startAccZ->fft_AccZ\n",
      "_sliding_window IndexError\n",
      "CalcFFTStopIteration\n",
      "startGyrX->fft_GyrX\n",
      "_sliding_window IndexError\n",
      "CalcFFTStopIteration\n",
      "startGyrY->fft_GyrY\n",
      "_sliding_window IndexError\n",
      "CalcFFTStopIteration\n",
      "startGyrZ->fft_GyrZ\n",
      "_sliding_window IndexError\n",
      "CalcFFTStopIteration\n",
      "elapsed_time:5.82902503014[sec]\n",
      "right_hand\n",
      "startAccX->fft_AccX\n",
      "_sliding_window IndexError\n",
      "CalcFFTStopIteration\n",
      "startAccY->fft_AccY\n",
      "_sliding_window IndexError\n",
      "CalcFFTStopIteration\n",
      "startAccZ->fft_AccZ\n",
      "_sliding_window IndexError\n",
      "CalcFFTStopIteration\n",
      "startGyrX->fft_GyrX\n",
      "_sliding_window IndexError\n",
      "CalcFFTStopIteration\n",
      "startGyrY->fft_GyrY\n",
      "_sliding_window IndexError\n",
      "CalcFFTStopIteration\n",
      "startGyrZ->fft_GyrZ\n",
      "_sliding_window IndexError\n",
      "CalcFFTStopIteration\n",
      "elapsed_time:5.93414902687[sec]\n"
     ]
    }
   ],
   "source": [
    "AllTest.ExecFFT('right_leg',16)\n",
    "AllTest.ExecFFT('right_hand',16)"
   ]
  },
  {
   "cell_type": "markdown",
   "metadata": {},
   "source": [
    "class.DispFFT(検索ワード,ウィンドウ幅orデータのサンプル数)\n",
    "FFTした結果を表示する"
   ]
  },
  {
   "cell_type": "code",
   "execution_count": 15,
   "metadata": {
    "collapsed": false
   },
   "outputs": [
    {
     "name": "stdout",
     "output_type": "stream",
     "text": [
      "left_hand\n",
      "[[ 0.37920144-0.05929202j -0.05606245-0.02899706j  0.04128879-0.0864666j\n",
      "  ...,  0.01606245+0.02560294j  0.05219851+0.06089044j  0.11930000+0.j        ]\n",
      " [ 0.09903043-0.92279313j  0.27451966-0.49979698j  0.15211482-0.28934496j\n",
      "  ...,  0.17708034-0.09459698j  0.16682011-0.03510812j  0.19270000+0.j        ]\n",
      " [ 0.38919818+0.18367701j  0.01575534+0.14228835j -0.00706838+0.11749315j\n",
      "  ..., -0.05495534+0.03448835j -0.04392128-0.00738628j -0.05050000+0.j        ]\n",
      " ..., \n",
      " [-0.41038202-0.19909711j -0.37146435+0.13109855j  0.06954730+0.09766265j\n",
      "  ..., -0.06613565+0.00989855j -0.03534312-0.02376532j -0.08550000+0.j        ]\n",
      " [ 0.25773225+0.66071007j -0.25461936+0.26735258j -0.01388304+0.20446779j\n",
      "  ..., -0.08958064+0.05155258j -0.09345433+0.02243494j -0.12290000+0.j        ]\n",
      " [ 0.30710427+0.04456604j  0.02138894-0.0667804j   0.02723755+0.03917587j\n",
      "  ..., -0.02018894+0.0826196j  -0.06477277-0.07910414j  0.08690000+0.j        ]]\n",
      "[[ 0.37920144-0.05929202j -0.05606245-0.02899706j  0.04128879-0.0864666j\n",
      "  ...,  0.01606245+0.02560294j  0.05219851+0.06089044j  0.11930000+0.j        ]\n",
      " [ 0.09903043-0.92279313j  0.27451966-0.49979698j  0.15211482-0.28934496j\n",
      "  ...,  0.17708034-0.09459698j  0.16682011-0.03510812j  0.19270000+0.j        ]\n",
      " [ 0.38919818+0.18367701j  0.01575534+0.14228835j -0.00706838+0.11749315j\n",
      "  ..., -0.05495534+0.03448835j -0.04392128-0.00738628j -0.05050000+0.j        ]\n",
      " ..., \n",
      " [-0.84526362+1.74003542j  0.28683700+0.28611467j -0.01702327-0.00334136j\n",
      "  ..., -0.05483700+0.09091467j -0.12149851+0.00851502j -0.10320000+0.j        ]\n",
      " [ 0.33022359-0.08494462j  0.06534773+0.16870824j -0.21422748+0.09595315j\n",
      "  ..., -0.02374773-0.04369176j -0.04262596+0.02143183j  0.01860000+0.j        ]\n",
      " [ 0.48362362-0.39900696j  0.26757830-0.24070765j -0.00151927-0.07658143j\n",
      "  ...,  0.08882170-0.01950765j  0.10093726-0.0155269j   0.10180000+0.j        ]]\n",
      "[[ 0.37920144-0.05929202j -0.05606245-0.02899706j  0.04128879-0.0864666j\n",
      "  ...,  0.01606245+0.02560294j  0.05219851+0.06089044j  0.11930000+0.j        ]\n",
      " [ 0.09903043-0.92279313j  0.27451966-0.49979698j  0.15211482-0.28934496j\n",
      "  ...,  0.17708034-0.09459698j  0.16682011-0.03510812j  0.19270000+0.j        ]\n",
      " [ 0.38919818+0.18367701j  0.01575534+0.14228835j -0.00706838+0.11749315j\n",
      "  ..., -0.05495534+0.03448835j -0.04392128-0.00738628j -0.05050000+0.j        ]\n",
      " ..., \n",
      " [-0.63392402-1.76269188j -0.30421797-0.23827979j  0.28550869-0.31931077j\n",
      "  ...,  0.08341797-0.07807979j  0.13855385-0.04565437j  0.22580000+0.j        ]\n",
      " [ 0.14459308+0.86795411j -0.19473250+0.07387363j  0.02110519+0.2762247j\n",
      "  ..., -0.06886750+0.11987363j -0.06686088-0.03532198j -0.16760000+0.j        ]\n",
      " [ 0.88401445+0.28329363j -0.03076016-0.08607235j  0.08187974-0.23794682j\n",
      "  ..., -0.00883984-0.01787235j  0.01570190+0.0434856j   0.09420000+0.j        ]]\n",
      "[[  3.79201435e-01 -5.92920209e-02j  -5.60624458e-02 -2.89970563e-02j\n",
      "    4.12887930e-02 -8.64666011e-02j ...,   1.60624458e-02 +2.56029437e-02j\n",
      "    5.21985141e-02 +6.08904393e-02j   1.19300000e-01 +0.00000000e+00j]\n",
      " [  9.90304338e-02 -9.22793131e-01j   2.74519657e-01 -4.99796980e-01j\n",
      "    1.52114823e-01 -2.89344957e-01j ...,   1.77080343e-01 -9.45969801e-02j\n",
      "    1.66820115e-01 -3.51081242e-02j   1.92700000e-01 +0.00000000e+00j]\n",
      " [  3.89198181e-01 +1.83677008e-01j   1.57553391e-02 +1.42288348e-01j\n",
      "   -7.06838029e-03 +1.17493146e-01j ...,  -5.49553391e-02 +3.44883476e-02j\n",
      "   -4.39212764e-02 -7.38627506e-03j  -5.05000000e-02 +0.00000000e+00j]\n",
      " ..., \n",
      " [ -2.08459274e+02 -6.96211850e+01j  -3.88941992e+00 +4.52025346e+01j\n",
      "   -7.32915574e+00 +4.12845262e+00j ...,  -1.47505801e+01 +6.64253460e+00j\n",
      "   -1.20653811e+01 +3.34635750e+00j  -1.09400000e+01 +0.00000000e+00j]\n",
      " [  1.52712282e+02 +1.23964441e+01j  -1.20419571e+01 -3.10187338e+00j\n",
      "    5.15854247e+00 -2.20243274e+01j ...,   9.24195706e+00 +9.38126625e-01j\n",
      "    5.85417396e+00 -2.41252991e+00j   1.41000000e+00 +0.00000000e+00j]\n",
      " [  8.98548772e+01 +7.45206680e+01j  -8.83669660e+00 -1.81889419e+01j\n",
      "   -1.99653473e+01 -1.70800717e+01j ...,   2.56696603e-01 -3.68894190e+00j\n",
      "    1.02070065e+00 +1.69319579e-01j   1.70000000e-01 +0.00000000e+00j]]\n",
      "[[  3.79201435e-01 -5.92920209e-02j  -5.60624458e-02 -2.89970563e-02j\n",
      "    4.12887930e-02 -8.64666011e-02j ...,   1.60624458e-02 +2.56029437e-02j\n",
      "    5.21985141e-02 +6.08904393e-02j   1.19300000e-01 +0.00000000e+00j]\n",
      " [  9.90304338e-02 -9.22793131e-01j   2.74519657e-01 -4.99796980e-01j\n",
      "    1.52114823e-01 -2.89344957e-01j ...,   1.77080343e-01 -9.45969801e-02j\n",
      "    1.66820115e-01 -3.51081242e-02j   1.92700000e-01 +0.00000000e+00j]\n",
      " [  3.89198181e-01 +1.83677008e-01j   1.57553391e-02 +1.42288348e-01j\n",
      "   -7.06838029e-03 +1.17493146e-01j ...,  -5.49553391e-02 +3.44883476e-02j\n",
      "   -4.39212764e-02 -7.38627506e-03j  -5.05000000e-02 +0.00000000e+00j]\n",
      " ..., \n",
      " [ -1.15619593e+02 +2.20863084e+02j  -4.73593669e+01 +9.48595623e+01j\n",
      "   -4.27272347e+01 +4.76635536e+01j ...,  -3.65406331e+01 +1.46995623e+01j\n",
      "   -3.66391772e+01 +7.50002799e+00j  -3.47200000e+01 +0.00000000e+00j]\n",
      " [  7.67041490e+01 +4.71065409e+00j   3.48741595e+00 -7.96574206e+00j\n",
      "    8.33701942e+00 -1.00796796e+01j ...,   5.79258405e+00 +6.54257941e-01j\n",
      "    5.40650972e+00 -2.21402628e+00j   3.08000000e+00 +0.00000000e+00j]\n",
      " [  5.31657506e+01 -5.76949710e+01j   4.27093362e+00 -1.92964293e+01j\n",
      "    4.53222564e+00 -1.25774728e+01j ...,   7.26906638e+00 -3.07642928e+00j\n",
      "    7.51119963e+00 -8.47542094e-03j   8.82000000e+00 +0.00000000e+00j]]\n",
      "[[  3.79201435e-01 -5.92920209e-02j  -5.60624458e-02 -2.89970563e-02j\n",
      "    4.12887930e-02 -8.64666011e-02j ...,   1.60624458e-02 +2.56029437e-02j\n",
      "    5.21985141e-02 +6.08904393e-02j   1.19300000e-01 +0.00000000e+00j]\n",
      " [  9.90304338e-02 -9.22793131e-01j   2.74519657e-01 -4.99796980e-01j\n",
      "    1.52114823e-01 -2.89344957e-01j ...,   1.77080343e-01 -9.45969801e-02j\n",
      "    1.66820115e-01 -3.51081242e-02j   1.92700000e-01 +0.00000000e+00j]\n",
      " [  3.89198181e-01 +1.83677008e-01j   1.57553391e-02 +1.42288348e-01j\n",
      "   -7.06838029e-03 +1.17493146e-01j ...,  -5.49553391e-02 +3.44883476e-02j\n",
      "   -4.39212764e-02 -7.38627506e-03j  -5.05000000e-02 +0.00000000e+00j]\n",
      " ..., \n",
      " [ -5.96117733e+01 -5.67714984e+01j  -2.07360130e+01 -9.49538239e+00j\n",
      "   -1.16093406e+01 +5.81156222e-01j ...,   1.15601297e+00 -3.51538239e+00j\n",
      "    3.86629495e+00 -1.34405392e-01j   2.48000000e+00 +0.00000000e+00j]\n",
      " [  3.61397985e+01 -4.42687892e+01j   2.36890368e+01 -3.63145029e+01j\n",
      "    1.51211328e+01 -2.11425078e+01j ...,   1.39309632e+01 -5.57450286e+00j\n",
      "    1.57429555e+01 -1.96517813e+00j   1.43400000e+01 +0.00000000e+00j]\n",
      " [ -4.87714696e+01 -3.39964000e+01j  -1.59053676e+01 +4.24407684e+00j\n",
      "    7.30032549e-01 -2.26883088e+00j ...,   4.85367594e-01 +1.14407684e+00j\n",
      "    1.81569686e+00 -7.59146766e-01j   6.70000000e-01 +0.00000000e+00j]]\n"
     ]
    }
   ],
   "source": [
    "AllTest.DispFFT('left_hand',16)"
   ]
  },
  {
   "cell_type": "code",
   "execution_count": 16,
   "metadata": {
    "collapsed": false
   },
   "outputs": [
    {
     "name": "stdout",
     "output_type": "stream",
     "text": [
      "left_leg\n",
      "[[-0.05430379 +1.41873617e-02j -0.00152197 -9.13047294e-02j\n",
      "   0.02561294 -1.57209102e-04j ..., -0.05087803 +2.46952706e-02j\n",
      "  -0.01050739 -1.79984248e-02j  0.03450000 +0.00000000e+00j]\n",
      " [ 0.00398147 +3.13533492e-01j -0.04101243 +2.64053798e-01j\n",
      "  -0.10123079 +8.25556837e-02j ..., -0.10818757 +6.30537985e-02j\n",
      "  -0.08432004 +4.01623882e-02j -0.04840000 +0.00000000e+00j]\n",
      " [ 0.12887828 +5.31425453e-01j  0.13709350 +3.81140003e-01j\n",
      "  -0.12627790 +1.96792441e-01j ..., -0.20189350 +3.87400033e-02j\n",
      "  -0.18833976 -4.71151671e-05j -0.15690000 +0.00000000e+00j]\n",
      " ..., \n",
      " [-0.55308459 +7.98166815e-01j -0.08130969 +2.25691143e-01j\n",
      "  -0.15218231 +1.57155629e-01j ..., -0.09729031 -1.85088566e-02j\n",
      "  -0.06821343 -1.87749232e-02j -0.09950000 +0.00000000e+00j]\n",
      " [-0.23377219 -4.14532004e-01j  0.03361918 +3.90612265e-02j\n",
      "  -0.02743281 -2.32508283e-01j ...,  0.11338082 +2.48612265e-02j\n",
      "  -0.02037739 -1.70189376e-02j  0.01080000 +0.00000000e+00j]\n",
      " [-0.19055571 +3.87255994e-02j  0.02774335 +3.51379726e-02j\n",
      "   0.00944252 -1.17452081e-02j ..., -0.00874335 -1.16620274e-02j\n",
      "   0.01599508 -1.35621206e-02j -0.00570000 +0.00000000e+00j]]\n",
      "[[-0.05430379 +1.41873617e-02j -0.00152197 -9.13047294e-02j\n",
      "   0.02561294 -1.57209102e-04j ..., -0.05087803 +2.46952706e-02j\n",
      "  -0.01050739 -1.79984248e-02j  0.03450000 +0.00000000e+00j]\n",
      " [ 0.00398147 +3.13533492e-01j -0.04101243 +2.64053798e-01j\n",
      "  -0.10123079 +8.25556837e-02j ..., -0.10818757 +6.30537985e-02j\n",
      "  -0.08432004 +4.01623882e-02j -0.04840000 +0.00000000e+00j]\n",
      " [ 0.12887828 +5.31425453e-01j  0.13709350 +3.81140003e-01j\n",
      "  -0.12627790 +1.96792441e-01j ..., -0.20189350 +3.87400033e-02j\n",
      "  -0.18833976 -4.71151671e-05j -0.15690000 +0.00000000e+00j]\n",
      " ..., \n",
      " [ 0.71169498 -8.70007468e-01j  0.31649352 -3.21234769e-01j\n",
      "   0.18086884 -1.35088397e-01j ...,  0.17450648 -5.18347689e-02j\n",
      "   0.14529017 -1.71627795e-03j  0.14040000 +0.00000000e+00j]\n",
      " [ 0.10104524 +1.29343403e+00j -0.27898816 +8.19457023e-01j\n",
      "  -0.32641464 +4.24448135e-01j ..., -0.34701184 +1.09257023e-01j\n",
      "  -0.27265951 +6.27147610e-02j -0.33540000 +0.00000000e+00j]\n",
      " [ 0.25637371 -1.04268690e+00j  0.01500312 -7.64521341e-01j\n",
      "   0.03280747 -3.67189046e-01j ...,  0.24919688 -1.90921341e-01j\n",
      "   0.18991788 -9.56607635e-02j  0.16830000 +0.00000000e+00j]]\n",
      "[[-0.05430379 +1.41873617e-02j -0.00152197 -9.13047294e-02j\n",
      "   0.02561294 -1.57209102e-04j ..., -0.05087803 +2.46952706e-02j\n",
      "  -0.01050739 -1.79984248e-02j  0.03450000 +0.00000000e+00j]\n",
      " [ 0.00398147 +3.13533492e-01j -0.04101243 +2.64053798e-01j\n",
      "  -0.10123079 +8.25556837e-02j ..., -0.10818757 +6.30537985e-02j\n",
      "  -0.08432004 +4.01623882e-02j -0.04840000 +0.00000000e+00j]\n",
      " [ 0.12887828 +5.31425453e-01j  0.13709350 +3.81140003e-01j\n",
      "  -0.12627790 +1.96792441e-01j ..., -0.20189350 +3.87400033e-02j\n",
      "  -0.18833976 -4.71151671e-05j -0.15690000 +0.00000000e+00j]\n",
      " ..., \n",
      " [-0.05530270 +6.77602369e-02j -0.08328076 +1.54168900e-01j\n",
      "  -0.05743434 +1.82028312e-02j ..., -0.08511924 -2.70311004e-02j\n",
      "  -0.03039191 -2.28127645e-02j -0.01650000 +0.00000000e+00j]\n",
      " [-0.81493642 -1.21860850e+00j  0.41835876 -3.69779282e-01j\n",
      "   0.07615675 -2.93090573e-01j ...,  0.17384124 +3.36207181e-02j\n",
      "   0.05451874 +5.98862139e-02j  0.08030000 +0.00000000e+00j]\n",
      " [-0.24542639 +1.77733026e+00j -0.41369863 +8.29934693e-01j\n",
      "  -0.46176958 +6.72876824e-01j ..., -0.38810137 +1.34134693e-01j\n",
      "  -0.44591562 +8.54295916e-02j -0.46690000 +0.00000000e+00j]]\n",
      "[[ -5.43037895e-02 +1.41873617e-02j  -1.52197334e-03 -9.13047294e-02j\n",
      "    2.56129358e-02 -1.57209102e-04j ...,  -5.08780267e-02 +2.46952706e-02j\n",
      "   -1.05073936e-02 -1.79984248e-02j   3.45000000e-02 +0.00000000e+00j]\n",
      " [  3.98147420e-03 +3.13533492e-01j  -4.10124279e-02 +2.64053798e-01j\n",
      "   -1.01230787e-01 +8.25556837e-02j ...,  -1.08187572e-01 +6.30537985e-02j\n",
      "   -8.43200385e-02 +4.01623882e-02j  -4.84000000e-02 +0.00000000e+00j]\n",
      " [  1.28878275e-01 +5.31425453e-01j   1.37093495e-01 +3.81140003e-01j\n",
      "   -1.26277898e-01 +1.96792441e-01j ...,  -2.01893495e-01 +3.87400033e-02j\n",
      "   -1.88339762e-01 -4.71151671e-05j  -1.56900000e-01 +0.00000000e+00j]\n",
      " ..., \n",
      " [ -4.69145952e+01 +2.67359840e+01j  -3.89096944e+01 -1.11385343e+01j\n",
      "   -1.69998308e+01 +4.09557860e+00j ...,  -7.33030558e+00 +1.28146574e+00j\n",
      "   -5.02428141e+00 +5.31881955e-02j  -3.42000000e+00 +0.00000000e+00j]\n",
      " [  4.28032399e+02 -9.27492046e+02j   1.35730585e+02 -4.12284640e+02j\n",
      "    1.83247202e+02 -2.53615595e+02j ...,   1.64269415e+02 -6.66246404e+01j\n",
      "    1.64079501e+02 -3.15618711e+01j   1.63510000e+02 +0.00000000e+00j]\n",
      " [ -2.09713233e+02 +6.79556193e+02j  -5.77792056e+01 +1.95309928e+02j\n",
      "   -7.67714218e+01 +1.15887148e+02j ...,  -7.70407944e+01 +3.15299277e+01j\n",
      "   -8.12813935e+01 +1.41072984e+01j  -8.29800000e+01 +0.00000000e+00j]]\n",
      "[[ -5.43037895e-02 +1.41873617e-02j  -1.52197334e-03 -9.13047294e-02j\n",
      "    2.56129358e-02 -1.57209102e-04j ...,  -5.08780267e-02 +2.46952706e-02j\n",
      "   -1.05073936e-02 -1.79984248e-02j   3.45000000e-02 +0.00000000e+00j]\n",
      " [  3.98147420e-03 +3.13533492e-01j  -4.10124279e-02 +2.64053798e-01j\n",
      "   -1.01230787e-01 +8.25556837e-02j ...,  -1.08187572e-01 +6.30537985e-02j\n",
      "   -8.43200385e-02 +4.01623882e-02j  -4.84000000e-02 +0.00000000e+00j]\n",
      " [  1.28878275e-01 +5.31425453e-01j   1.37093495e-01 +3.81140003e-01j\n",
      "   -1.26277898e-01 +1.96792441e-01j ...,  -2.01893495e-01 +3.87400033e-02j\n",
      "   -1.88339762e-01 -4.71151671e-05j  -1.56900000e-01 +0.00000000e+00j]\n",
      " ..., \n",
      " [ -5.74672017e+01 +6.38984559e+01j  -2.38396255e+01 +2.59564711e+01j\n",
      "   -1.89923924e+01 +1.46815870e+01j ...,  -1.47603745e+01 +5.97647112e+00j\n",
      "   -1.36424988e+01 +2.25063995e+00j  -1.28100000e+01 +0.00000000e+00j]\n",
      " [ -8.25702583e+01 -1.68358151e+02j   6.59794949e+01 -1.19805287e+02j\n",
      "    1.63715025e+01 -6.51813986e+01j ...,   4.61805051e+01 -2.01452871e+01j\n",
      "    3.97739315e+01 -4.51259178e+00j   3.97100000e+01 +0.00000000e+00j]\n",
      " [  1.41149640e+02 -1.60414487e+01j   2.42389776e+01 +3.43404112e+00j\n",
      "    1.51792390e+01 +9.41785950e+00j ...,   9.61022382e-01 +5.54041123e-01j\n",
      "    6.59532713e-01 +3.11486399e-01j   4.00000000e-01 +0.00000000e+00j]]\n",
      "[[ -5.43037895e-02 +1.41873617e-02j  -1.52197334e-03 -9.13047294e-02j\n",
      "    2.56129358e-02 -1.57209102e-04j ...,  -5.08780267e-02 +2.46952706e-02j\n",
      "   -1.05073936e-02 -1.79984248e-02j   3.45000000e-02 +0.00000000e+00j]\n",
      " [  3.98147420e-03 +3.13533492e-01j  -4.10124279e-02 +2.64053798e-01j\n",
      "   -1.01230787e-01 +8.25556837e-02j ...,  -1.08187572e-01 +6.30537985e-02j\n",
      "   -8.43200385e-02 +4.01623882e-02j  -4.84000000e-02 +0.00000000e+00j]\n",
      " [  1.28878275e-01 +5.31425453e-01j   1.37093495e-01 +3.81140003e-01j\n",
      "   -1.26277898e-01 +1.96792441e-01j ...,  -2.01893495e-01 +3.87400033e-02j\n",
      "   -1.88339762e-01 -4.71151671e-05j  -1.56900000e-01 +0.00000000e+00j]\n",
      " ..., \n",
      " [  4.71645457e+01 +8.27747968e+00j   1.68172186e+00 +1.86055104e+01j\n",
      "   -2.38817722e+00 +9.13435602e+00j ...,  -6.42172186e+00 +3.38551045e+00j\n",
      "   -6.28769650e+00 +1.64956987e+00j  -7.79000000e+00 +0.00000000e+00j]\n",
      " [ -1.24962627e+02 +2.74095750e+01j  -1.89518081e+01 +3.29495072e+01j\n",
      "   -1.73988905e+01 +1.37349014e+01j ...,  -1.14281919e+01 +3.16950719e+00j\n",
      "   -1.28774169e+01 +2.33280946e+00j  -1.17400000e+01 +0.00000000e+00j]\n",
      " [  7.31974052e+01 -5.46657274e+01j   1.81973716e+01 -1.59209668e+01j\n",
      "    1.79563097e+01 -1.20902199e+01j ...,   1.03626284e+01 -2.18096680e+00j\n",
      "    9.33331266e+00 -1.82658238e+00j   9.67000000e+00 +0.00000000e+00j]]\n"
     ]
    }
   ],
   "source": [
    "AllTest.DispFFT('left_leg',16)"
   ]
  },
  {
   "cell_type": "code",
   "execution_count": 17,
   "metadata": {
    "collapsed": false
   },
   "outputs": [
    {
     "name": "stdout",
     "output_type": "stream",
     "text": [
      "right_leg\n",
      "[[ 0.18918139+0.53636481j -0.10848650+0.23996887j -0.18146697+0.18075618j\n",
      "  ..., -0.08331350+0.08416887j -0.07049860+0.01898412j -0.08560000+0.j        ]\n",
      " [-0.29460938-0.40254504j  0.02090725-0.16157155j  0.05883569-0.09217763j\n",
      "  ...,  0.05329275-0.02977155j  0.06774223-0.00630691j  0.05470000+0.j        ]\n",
      " [ 0.87916669+1.30013644j -1.05767381+1.11453425j -1.03616793-0.52221813j\n",
      "  ...,  0.52907381-0.04906575j -0.05488085+0.2882013j   0.15530000+0.j        ]\n",
      " ..., \n",
      " [-0.04969063-0.02721006j  0.02955914+0.12793114j  0.07629629-0.00991074j\n",
      "  ..., -0.03195914+0.02353114j -0.02192056+0.00235949j -0.02570000+0.j        ]\n",
      " [ 0.22240105-0.18728499j  0.04075772-0.10320078j  0.03319202-0.05019173j\n",
      "  ...,  0.03524228-0.00640078j  0.05850273-0.02156943j  0.05690000+0.j        ]\n",
      " [-0.22815089+0.05091498j  0.07373940+0.01295097j -0.01489403+0.03022817j\n",
      "  ..., -0.00573940+0.00515097j -0.00989675+0.02194959j  0.00670000+0.j        ]]\n",
      "[[ 0.18918139+0.53636481j -0.10848650+0.23996887j -0.18146697+0.18075618j\n",
      "  ..., -0.08331350+0.08416887j -0.07049860+0.01898412j -0.08560000+0.j        ]\n",
      " [-0.29460938-0.40254504j  0.02090725-0.16157155j  0.05883569-0.09217763j\n",
      "  ...,  0.05329275-0.02977155j  0.06774223-0.00630691j  0.05470000+0.j        ]\n",
      " [ 0.87916669+1.30013644j -1.05767381+1.11453425j -1.03616793-0.52221813j\n",
      "  ...,  0.52907381-0.04906575j -0.05488085+0.2882013j   0.15530000+0.j        ]\n",
      " ..., \n",
      " [ 0.18873979-0.25233099j  0.11358032-0.11915921j  0.20504674-0.03661926j\n",
      "  ...,  0.01401968-0.02395921j  0.03350386+0.00946093j  0.03080000+0.j        ]\n",
      " [ 0.26272071-0.17597019j  0.14125326-0.08194342j  0.07317382-0.11421601j\n",
      "  ...,  0.07294674-0.03614342j  0.05449606+0.00550487j  0.07990000+0.j        ]\n",
      " [-0.08153506+0.20144854j  0.03225914+0.0429697j  -0.05138868+0.05863656j\n",
      "  ..., -0.02925914-0.0032303j  -0.00708575+0.04373471j -0.01470000+0.j        ]]\n",
      "[[ 0.18918139 +5.36364809e-01j -0.10848650 +2.39968874e-01j\n",
      "  -0.18146697 +1.80756180e-01j ..., -0.08331350 +8.41688742e-02j\n",
      "  -0.07049860 +1.89841236e-02j -0.08560000 +0.00000000e+00j]\n",
      " [-0.29460938 -4.02545043e-01j  0.02090725 -1.61571547e-01j\n",
      "   0.05883569 -9.21776275e-02j ...,  0.05329275 -2.97715475e-02j\n",
      "   0.06774223 -6.30691187e-03j  0.05470000 +0.00000000e+00j]\n",
      " [ 0.87916669 +1.30013644e+00j -1.05767381 +1.11453425e+00j\n",
      "  -1.03616793 -5.22218135e-01j ...,  0.52907381 -4.90657511e-02j\n",
      "  -0.05488085 +2.88201304e-01j  0.15530000 +0.00000000e+00j]\n",
      " ..., \n",
      " [-0.30055298 -7.24931758e-02j  0.08297401 -4.46920923e-02j\n",
      "   0.11483017 -1.78811094e-01j ...,  0.07222599 -4.12920923e-02j\n",
      "   0.07723689 -1.69817835e-02j  0.11490000 +0.00000000e+00j]\n",
      " [-0.21870039 +1.00797353e-01j -0.10789417 +1.35787276e-01j\n",
      "  -0.00870663 +1.01278724e-01j ..., -0.01950583 -1.01272375e-03j\n",
      "  -0.04168523 +3.96707921e-03j  0.00920000 +0.00000000e+00j]\n",
      " [-0.01526745 +4.88604418e-01j -0.18272088 +1.33682608e-01j\n",
      "  -0.07146188 +7.56483523e-02j ..., -0.07707912 +1.60826081e-02j\n",
      "  -0.08680463 +2.37336965e-02j -0.05980000 +0.00000000e+00j]]\n",
      "[[  0.18918139 +5.36364809e-01j  -0.10848650 +2.39968874e-01j\n",
      "   -0.18146697 +1.80756180e-01j ...,  -0.08331350 +8.41688742e-02j\n",
      "   -0.07049860 +1.89841236e-02j  -0.08560000 +0.00000000e+00j]\n",
      " [ -0.29460938 -4.02545043e-01j   0.02090725 -1.61571547e-01j\n",
      "    0.05883569 -9.21776275e-02j ...,   0.05329275 -2.97715475e-02j\n",
      "    0.06774223 -6.30691187e-03j   0.05470000 +0.00000000e+00j]\n",
      " [  0.87916669 +1.30013644e+00j  -1.05767381 +1.11453425e+00j\n",
      "   -1.03616793 -5.22218135e-01j ...,   0.52907381 -4.90657511e-02j\n",
      "   -0.05488085 +2.88201304e-01j   0.15530000 +0.00000000e+00j]\n",
      " ..., \n",
      " [-17.35705168 +4.91404100e+01j  -2.20066017 +4.01792842e+01j\n",
      "   -1.97401219 +1.61403427e+01j ...,  -0.07933983 -9.20715754e-01j\n",
      "    0.13243047 +3.87985100e-01j   1.81000000 +0.00000000e+00j]\n",
      " [  3.76330502 +2.01484321e+01j  -5.05745779 -1.03933983e-01j\n",
      "    6.88752876 +4.39784459e+00j ...,   2.19745779 +3.16066017e-01j\n",
      "    1.30265386 +1.66023019e-01j   1.43000000 +0.00000000e+00j]\n",
      " [  7.35132986 +3.07171887e+01j  -9.32868578 +2.23645768e+01j\n",
      "   -8.39671865 +5.81847799e+00j ...,  -5.41131422 +2.62457682e+00j\n",
      "   -5.62504343 +6.42778167e-01j  -5.59000000 +0.00000000e+00j]]\n",
      "[[  1.89181392e-01 +5.36364809e-01j  -1.08486501e-01 +2.39968874e-01j\n",
      "   -1.81466967e-01 +1.80756180e-01j ...,  -8.33134993e-02 +8.41688742e-02j\n",
      "   -7.04986003e-02 +1.89841236e-02j  -8.56000000e-02 +0.00000000e+00j]\n",
      " [ -2.94609377e-01 -4.02545043e-01j   2.09072547e-02 -1.61571547e-01j\n",
      "    5.88356879e-02 -9.21776275e-02j ...,   5.32927453e-02 -2.97715475e-02j\n",
      "    6.77422275e-02 -6.30691187e-03j   5.47000000e-02 +0.00000000e+00j]\n",
      " [  8.79166690e-01 +1.30013644e+00j  -1.05767381e+00 +1.11453425e+00j\n",
      "   -1.03616793e+00 -5.22218135e-01j ...,   5.29073808e-01 -4.90657511e-02j\n",
      "   -5.48808467e-02 +2.88201304e-01j   1.55300000e-01 +0.00000000e+00j]\n",
      " ..., \n",
      " [  8.28675755e+00 -2.91387046e+01j   6.04161472e+00 -1.18145498e+01j\n",
      "    8.32714293e-01 -4.33500753e+00j ...,   2.13838528e+00 -2.34549776e-01j\n",
      "    1.99002527e+00 -5.50812095e-01j   1.60000000e+00 +0.00000000e+00j]\n",
      " [ -1.16093454e+01 +2.86890471e+01j  -6.12490332e+00 +2.13302265e+01j\n",
      "   -7.28359022e+00 +1.13101960e+01j ...,  -7.93509668e+00 +3.39022654e+00j\n",
      "   -8.34895983e+00 +2.04375349e+00j  -8.26000000e+00 +0.00000000e+00j]\n",
      " [ -3.18140053e+01 -1.96000571e+01j   2.58828427e+00 -1.17695245e+01j\n",
      "    8.45811801e-01 -5.65853580e+00j ...,   2.53171573e+00 -1.26952452e+00j\n",
      "    3.00753419e+00 -8.08775023e-01j   2.23000000e+00 +0.00000000e+00j]]\n",
      "[[  1.89181392e-01 +5.36364809e-01j  -1.08486501e-01 +2.39968874e-01j\n",
      "   -1.81466967e-01 +1.80756180e-01j ...,  -8.33134993e-02 +8.41688742e-02j\n",
      "   -7.04986003e-02 +1.89841236e-02j  -8.56000000e-02 +0.00000000e+00j]\n",
      " [ -2.94609377e-01 -4.02545043e-01j   2.09072547e-02 -1.61571547e-01j\n",
      "    5.88356879e-02 -9.21776275e-02j ...,   5.32927453e-02 -2.97715475e-02j\n",
      "    6.77422275e-02 -6.30691187e-03j   5.47000000e-02 +0.00000000e+00j]\n",
      " [  8.79166690e-01 +1.30013644e+00j  -1.05767381e+00 +1.11453425e+00j\n",
      "   -1.03616793e+00 -5.22218135e-01j ...,   5.29073808e-01 -4.90657511e-02j\n",
      "   -5.48808467e-02 +2.88201304e-01j   1.55300000e-01 +0.00000000e+00j]\n",
      " ..., \n",
      " [ -1.68395930e-01 -4.70776482e+01j   4.85796898e+00 -2.58758109e+01j\n",
      "    6.88476556e+00 -1.79150383e+01j ...,   9.24203102e+00 -3.93581095e+00j\n",
      "    9.94925813e+00 -2.03036176e+00j   9.78000000e+00 +0.00000000e+00j]\n",
      " [  1.14711697e+01 -6.44080430e+01j   1.34514571e+01 -3.21808423e+01j\n",
      "    1.14679040e+01 -1.84840455e+01j ...,   1.17685429e+01 -4.80084233e+00j\n",
      "    1.24381196e+01 -2.60944494e+00j   1.29100000e+01 +0.00000000e+00j]\n",
      " [  2.45532203e+01 -7.64241953e+00j   2.77012193e+00 -2.77534055e+00j\n",
      "    4.71669833e+00 -2.22634450e+00j ...,   1.94987807e+00 -6.75340546e-01j\n",
      "    2.34384824e+00 -8.64459219e-01j   2.25000000e+00 +0.00000000e+00j]]\n"
     ]
    }
   ],
   "source": [
    "AllTest.DispFFT('right_leg',16)"
   ]
  },
  {
   "cell_type": "code",
   "execution_count": 19,
   "metadata": {
    "collapsed": false
   },
   "outputs": [
    {
     "name": "stdout",
     "output_type": "stream",
     "text": [
      "right_hand\n",
      "[[-0.45982319+0.68872581j -0.36633099+0.3341367j  -0.19361401+0.25788001j\n",
      "  ..., -0.18106901+0.0751367j  -0.17933127+0.04957271j -0.17620000+0.j        ]\n",
      " [ 0.19889739-0.54039914j  0.05762477-0.18230571j  0.05213918-0.11751329j\n",
      "  ...,  0.07657523-0.04170571j  0.08424588-0.0063013j   0.10220000+0.j        ]\n",
      " [ 0.11076755+0.06095781j  0.01538808+0.05582361j -0.00544721+0.02228161j\n",
      "  ..., -0.03198808-0.00137639j -0.01388773+0.01919313j -0.00100000+0.j        ]\n",
      " ..., \n",
      " [ 0.81745523-0.43096431j  0.61408931-0.64506799j  0.82149424-0.45956686j\n",
      "  ...,  0.08291069+0.11813201j  0.57034805-0.40957525j  0.02830000+0.j        ]\n",
      " [-0.42094338+0.55120469j -0.15981041+0.23798437j -0.08467249-0.08384312j\n",
      "  ..., -0.14778959+0.17878437j -0.11832490-0.01352289j -0.11110000+0.j        ]\n",
      " [-0.17221011+0.10663402j -0.00823627+0.26120619j -0.04777862-0.05460637j\n",
      "  ..., -0.17016373+0.14000619j -0.04831151+0.02028154j  0.06790000+0.j        ]]\n",
      "[[-0.45982319 +6.88725806e-01j -0.36633099 +3.34136702e-01j\n",
      "  -0.19361401 +2.57880006e-01j ..., -0.18106901 +7.51367025e-02j\n",
      "  -0.17933127 +4.95727109e-02j -0.17620000 +0.00000000e+00j]\n",
      " [ 0.19889739 -5.40399145e-01j  0.05762477 -1.82305714e-01j\n",
      "   0.05213918 -1.17513285e-01j ...,  0.07657523 -4.17057141e-02j\n",
      "   0.08424588 -6.30130221e-03j  0.10220000 +0.00000000e+00j]\n",
      " [ 0.11076755 +6.09578054e-02j  0.01538808 +5.58236111e-02j\n",
      "  -0.00544721 +2.22816115e-02j ..., -0.03198808 -1.37638892e-03j\n",
      "  -0.01388773 +1.91931301e-02j -0.00100000 +0.00000000e+00j]\n",
      " ..., \n",
      " [-0.51040763 +4.45265408e-01j -0.76669957 +2.14985021e-01j\n",
      "  -0.16426699 +2.80398403e-01j ..., -0.18970043 +1.48185021e-01j\n",
      "  -0.39333618 -9.84973186e-02j -0.38300000 +0.00000000e+00j]\n",
      " [ 0.16191369 -1.52926529e+00j  0.04954704 +6.15460641e-02j\n",
      "  -0.17427431 -2.89755838e-01j ...,  0.18545296 +1.20746064e-01j\n",
      "   0.01611439 -3.62141043e-02j  0.18940000 +0.00000000e+00j]\n",
      " [ 0.36965695 +6.36418386e-01j  0.08170538 -3.56459120e-01j\n",
      "   0.33602902 -3.75416244e-02j ...,  0.06869462 +9.79408804e-02j\n",
      "  -0.12433273 -6.27309943e-03j -0.01700000 +0.00000000e+00j]]\n",
      "[[-0.45982319+0.68872581j -0.36633099+0.3341367j  -0.19361401+0.25788001j\n",
      "  ..., -0.18106901+0.0751367j  -0.17933127+0.04957271j -0.17620000+0.j        ]\n",
      " [ 0.19889739-0.54039914j  0.05762477-0.18230571j  0.05213918-0.11751329j\n",
      "  ...,  0.07657523-0.04170571j  0.08424588-0.0063013j   0.10220000+0.j        ]\n",
      " [ 0.11076755+0.06095781j  0.01538808+0.05582361j -0.00544721+0.02228161j\n",
      "  ..., -0.03198808-0.00137639j -0.01388773+0.01919313j -0.00100000+0.j        ]\n",
      " ..., \n",
      " [ 0.49975596-0.93445952j  0.37202180-0.59829374j -0.01348525-0.13785896j\n",
      "  ...,  0.19057820-0.06709374j -0.09222392+0.12380825j -0.04620000+0.j        ]\n",
      " [-0.11798101+0.49688726j -0.36371047+0.54646281j -0.13808441+0.05372219j\n",
      "  ..., -0.27008953+0.01526281j -0.29728661+0.05455077j -0.20550000+0.j        ]\n",
      " [-0.56109608+0.24934019j  0.05358778-0.03921811j  0.20901723+0.06208756j\n",
      "  ..., -0.06138778+0.16098189j -0.16648182-0.08950079j  0.08130000+0.j        ]]\n",
      "[[ -4.59823185e-01 +6.88725806e-01j  -3.66330988e-01 +3.34136702e-01j\n",
      "   -1.93614014e-01 +2.57880006e-01j ...,  -1.81069012e-01 +7.51367025e-02j\n",
      "   -1.79331266e-01 +4.95727109e-02j  -1.76200000e-01 +0.00000000e+00j]\n",
      " [  1.98897386e-01 -5.40399145e-01j   5.76247691e-02 -1.82305714e-01j\n",
      "    5.21391780e-02 -1.17513285e-01j ...,   7.65752309e-02 -4.17057141e-02j\n",
      "    8.42458824e-02 -6.30130221e-03j   1.02200000e-01 +0.00000000e+00j]\n",
      " [  1.10767546e-01 +6.09578054e-02j   1.53880772e-02 +5.58236111e-02j\n",
      "   -5.44720826e-03 +2.22816115e-02j ...,  -3.19880772e-02 -1.37638892e-03j\n",
      "   -1.38877334e-02 +1.91931301e-02j  -1.00000000e-03 +0.00000000e+00j]\n",
      " ..., \n",
      " [  2.80612010e+02 -5.26583606e+01j   5.50115061e+01 +2.94315188e+00j\n",
      "    2.03530162e+01 +3.28178005e+01j ...,  -1.19515061e+01 -6.09684812e+00j\n",
      "    4.29779048e+00 +2.94210985e+00j   6.00000000e-02 +0.00000000e+00j]\n",
      " [  2.16715843e+02 -7.36833725e+01j  -4.88098827e+01 -9.80790955e+01j\n",
      "    3.69460070e+01 -2.56158352e+01j ...,   2.57898827e+01 -1.29790955e+01j\n",
      "    2.80852257e+01 -5.20144400e+00j   2.73500000e+01 +0.00000000e+00j]\n",
      " [ -4.35311284e+01 +6.59605112e+01j   1.49737172e+01 -1.77636075e+01j\n",
      "    1.11552015e+01 +1.70837641e+01j ...,   3.88628284e+00 -8.82360749e+00j\n",
      "    1.59528579e+01 -4.36886903e+00j   1.13200000e+01 +0.00000000e+00j]]\n",
      "[[ -4.59823185e-01 +6.88725806e-01j  -3.66330988e-01 +3.34136702e-01j\n",
      "   -1.93614014e-01 +2.57880006e-01j ...,  -1.81069012e-01 +7.51367025e-02j\n",
      "   -1.79331266e-01 +4.95727109e-02j  -1.76200000e-01 +0.00000000e+00j]\n",
      " [  1.98897386e-01 -5.40399145e-01j   5.76247691e-02 -1.82305714e-01j\n",
      "    5.21391780e-02 -1.17513285e-01j ...,   7.65752309e-02 -4.17057141e-02j\n",
      "    8.42458824e-02 -6.30130221e-03j   1.02200000e-01 +0.00000000e+00j]\n",
      " [  1.10767546e-01 +6.09578054e-02j   1.53880772e-02 +5.58236111e-02j\n",
      "   -5.44720826e-03 +2.22816115e-02j ...,  -3.19880772e-02 -1.37638892e-03j\n",
      "   -1.38877334e-02 +1.91931301e-02j  -1.00000000e-03 +0.00000000e+00j]\n",
      " ..., \n",
      " [ -5.33478819e+00 -1.07043835e+02j  -1.05760635e+01 -4.63847381e+01j\n",
      "    1.14396727e+00 -1.40157285e+01j ...,   9.33606348e+00 -8.68473806e+00j\n",
      "    9.28511215e+00 +5.44779047e-01j   1.17300000e+01 +0.00000000e+00j]\n",
      " [  5.20710478e+01 -4.63300617e+01j   2.59597118e+01 -3.15745177e+01j\n",
      "    1.05273422e+01 -2.56492728e+01j ...,   1.74602882e+01 -6.93451765e+00j\n",
      "    1.37525510e+01 -7.23881367e-01j   1.67000000e+01 +0.00000000e+00j]\n",
      " [ -4.74211663e+01 +1.24172677e+02j  -3.10779041e+00 +3.87628228e+01j\n",
      "   -1.68917211e+01 +2.23145052e+01j ...,  -1.44922096e+01 +4.58282284e+00j\n",
      "   -1.43107464e+01 +3.05760457e+00j  -1.50600000e+01 +0.00000000e+00j]]\n",
      "[[ -4.59823185e-01 +6.88725806e-01j  -3.66330988e-01 +3.34136702e-01j\n",
      "   -1.93614014e-01 +2.57880006e-01j ...,  -1.81069012e-01 +7.51367025e-02j\n",
      "   -1.79331266e-01 +4.95727109e-02j  -1.76200000e-01 +0.00000000e+00j]\n",
      " [  1.98897386e-01 -5.40399145e-01j   5.76247691e-02 -1.82305714e-01j\n",
      "    5.21391780e-02 -1.17513285e-01j ...,   7.65752309e-02 -4.17057141e-02j\n",
      "    8.42458824e-02 -6.30130221e-03j   1.02200000e-01 +0.00000000e+00j]\n",
      " [  1.10767546e-01 +6.09578054e-02j   1.53880772e-02 +5.58236111e-02j\n",
      "   -5.44720826e-03 +2.22816115e-02j ...,  -3.19880772e-02 -1.37638892e-03j\n",
      "   -1.38877334e-02 +1.91931301e-02j  -1.00000000e-03 +0.00000000e+00j]\n",
      " ..., \n",
      " [ -1.02993730e+02 -2.24605688e+02j   2.64142309e+01 -1.21927449e+02j\n",
      "    3.76932607e+01 -7.43242852e+01j ...,   4.66657691e+01 -1.16874487e+01j\n",
      "    4.47023198e+01 -1.41167615e+01j   3.85000000e+01 +0.00000000e+00j]\n",
      " [  5.55051516e+00 +1.07348821e+01j   9.95200144e+00 +2.64120851e+01j\n",
      "    9.58486673e+00 +1.06072980e+00j ...,  -1.19200144e+00 +3.85208512e+00j\n",
      "   -1.58438384e+00 +7.42048050e-01j  -7.80000000e-01 +0.00000000e+00j]\n",
      " [ -6.46672716e+01 +3.93954202e+01j   3.64925107e+00 +1.56381659e+01j\n",
      "   -5.80911061e-01 +1.43998001e+01j ...,  -1.45092511e+01 +1.14581659e+01j\n",
      "   -1.37782486e+01 +6.72312083e+00j  -1.07800000e+01 +0.00000000e+00j]]\n"
     ]
    }
   ],
   "source": [
    "AllTest.DispFFT('right_hand',16)"
   ]
  },
  {
   "cell_type": "markdown",
   "metadata": {},
   "source": [
    "class.ExecPower(検索ワード,サンプル数)\n",
    "パワースペクトルの計算"
   ]
  },
  {
   "cell_type": "code",
   "execution_count": 20,
   "metadata": {
    "collapsed": false
   },
   "outputs": [
    {
     "name": "stdout",
     "output_type": "stream",
     "text": [
      "left_hand\n",
      "startfft_AccX->power_AccX\n",
      "startfft_AccY->power_AccY\n",
      "startfft_AccZ->power_AccZ\n",
      "startfft_GyrX->power_GyrX\n",
      "startfft_GyrY->power_GyrY\n",
      "startfft_GyrZ->power_GyrZ\n",
      "elapsed_time:3.64416480064[sec]\n",
      "right_leg\n",
      "startfft_AccX->power_AccX\n",
      "startfft_AccY->power_AccY\n",
      "startfft_AccZ->power_AccZ\n",
      "startfft_GyrX->power_GyrX\n",
      "startfft_GyrY->power_GyrY\n",
      "startfft_GyrZ->power_GyrZ\n",
      "elapsed_time:3.67760515213[sec]\n",
      "left_leg\n",
      "startfft_AccX->power_AccX\n",
      "startfft_AccY->power_AccY\n",
      "startfft_AccZ->power_AccZ\n",
      "startfft_GyrX->power_GyrX\n",
      "startfft_GyrY->power_GyrY\n",
      "startfft_GyrZ->power_GyrZ\n",
      "elapsed_time:3.64089894295[sec]\n",
      "right_hand\n",
      "startfft_AccX->power_AccX\n",
      "startfft_AccY->power_AccY\n",
      "startfft_AccZ->power_AccZ\n",
      "startfft_GyrX->power_GyrX\n",
      "startfft_GyrY->power_GyrY\n",
      "startfft_GyrZ->power_GyrZ\n",
      "elapsed_time:3.61064887047[sec]\n"
     ]
    }
   ],
   "source": [
    "AllTest.ExecPower('left_hand',16)\n",
    "AllTest.ExecPower('right_leg',16)\n",
    "AllTest.ExecPower('left_leg',16)\n",
    "AllTest.ExecPower('right_hand',16)"
   ]
  },
  {
   "cell_type": "markdown",
   "metadata": {},
   "source": [
    "class.DispPower(検索ワード,サンプル数)\n",
    "パワースペクトルの表示"
   ]
  },
  {
   "cell_type": "code",
   "execution_count": 21,
   "metadata": {
    "collapsed": false
   },
   "outputs": [
    {
     "name": "stdout",
     "output_type": "stream",
     "text": [
      "left_hand\n",
      "[ 0.46232776  0.07603003  0.11542119 ...,  0.10343152  0.12433572\n",
      "  0.10568071]\n",
      "[ 0.46232776  0.07603003  0.11542119 ...,  0.05804979  0.06519015  0.064983  ]\n",
      "[ 0.46232776  0.07603003  0.11542119 ...,  0.01278377  0.02964241\n",
      "  0.06039579]\n",
      "[ 0.46232776  0.07603003  0.11542119 ...,  0.02010032  0.005624    0.00092406]\n",
      "[ 0.46232776  0.07603003  0.11542119 ...,  0.05010525  0.04767994\n",
      "  0.05598797]\n",
      "[ 0.46232776  0.07603003  0.11542119 ...,  0.01496412  0.02369655\n",
      "  0.00806739]\n"
     ]
    }
   ],
   "source": [
    "AllTest.DispPower('left_hand',16)"
   ]
  },
  {
   "cell_type": "code",
   "execution_count": 22,
   "metadata": {
    "collapsed": false
   },
   "outputs": [
    {
     "name": "stdout",
     "output_type": "stream",
     "text": [
      "left_leg\n",
      "[ 0.16275935  0.26480835  0.0742755  ...,  0.04539268  0.06530898\n",
      "  0.01775142]\n",
      "[ 0.16275935  0.26480835  0.0742755  ...,  0.08998267  0.06095294\n",
      "  0.04824081]\n",
      "[ 0.16275935  0.26480835  0.0742755  ...,  0.06917866  0.07648995\n",
      "  0.07865896]\n",
      "[ 0.16275935  0.26480835  0.0742755  ...,  0.05490231  0.0544099\n",
      "  0.05472876]\n",
      "[ 0.16275935  0.26480835  0.0742755  ...,  0.00552456  0.00363254\n",
      "  0.0019921 ]\n",
      "[ 0.16275935  0.26480835  0.0742755  ...,  0.05528338  0.04964899\n",
      "  0.05048234]\n"
     ]
    }
   ],
   "source": [
    "AllTest.DispPower('left_leg',16)"
   ]
  },
  {
   "cell_type": "code",
   "execution_count": 23,
   "metadata": {
    "collapsed": false
   },
   "outputs": [
    {
     "name": "stdout",
     "output_type": "stream",
     "text": [
      "right_leg\n",
      "[ 0.33154776  0.15351877  0.1493092  ...,  0.01825159  0.05698402\n",
      "  0.01585678]\n",
      "[ 0.33154776  0.15351877  0.1493092  ...,  0.05726374  0.08618664\n",
      "  0.02859596]\n",
      "[ 0.33154776  0.15351877  0.1493092  ...,  0.06389513  0.07302561\n",
      "  0.04852646]\n",
      "[ 0.33154776  0.15351877  0.1493092  ...,  0.06144643  0.05784436\n",
      "  0.05711233]\n",
      "[ 0.33154776  0.15351877  0.1493092  ...,  0.04037917  0.04440252\n",
      "  0.03179366]\n",
      "[ 0.33154776  0.15351877  0.1493092  ...,  0.04347318  0.05263045\n",
      "  0.04740187]\n"
     ]
    }
   ],
   "source": [
    "AllTest.DispPower('right_leg',16)"
   ]
  },
  {
   "cell_type": "code",
   "execution_count": 24,
   "metadata": {
    "collapsed": false
   },
   "outputs": [
    {
     "name": "stdout",
     "output_type": "stream",
     "text": [
      "right_hand\n",
      "[ 0.31254463  0.18713317  0.12170602 ...,  0.16039295  0.0381378\n",
      "  0.04942278]\n",
      "[ 0.31254463  0.18713317  0.12170602 ...,  0.05524016  0.05748465\n",
      "  0.00784988]\n",
      "[ 0.31254463  0.18713317  0.12170602 ...,  0.09888579  0.10848537\n",
      "  0.04666228]\n",
      "[ 0.31254463  0.18713317  0.12170602 ...,  0.04660753  0.07995627\n",
      "  0.05472128]\n",
      "[ 0.31254463  0.18713317  0.12170602 ...,  0.05376991  0.0517683\n",
      "  0.05327623]\n",
      "[ 0.31254463  0.18713317  0.12170602 ...,  0.09345732  0.07749855\n",
      "  0.05449304]\n"
     ]
    }
   ],
   "source": [
    "AllTest.DispPower('right_hand',16)"
   ]
  },
  {
   "cell_type": "code",
   "execution_count": null,
   "metadata": {
    "collapsed": false
   },
   "outputs": [],
   "source": [
    "AllTest.ExecKLD('left_hand','AccX','righ_hand','AccX',samp=16)"
   ]
  },
  {
   "cell_type": "code",
   "execution_count": null,
   "metadata": {
    "collapsed": true
   },
   "outputs": [],
   "source": [
    "import multiprocessing as mp"
   ]
  },
  {
   "cell_type": "code",
   "execution_count": null,
   "metadata": {
    "collapsed": true
   },
   "outputs": [],
   "source": [
    "class AllSensorData:        \n",
    "    def __init__(self):\n",
    "            self._DicSensor={}\n",
    "    \n",
    "    def regist(self, Sname, Pdata):\n",
    "        if len(self._DicSensor)==7:\n",
    "            print \"this class has max data\"\n",
    "        else:\n",
    "            data = SensorData()\n",
    "            data.ImportCSV(Sname,Pdata)   \n",
    "            self._DicSensor[Sname]=data\n",
    "            \n",
    "    def ExecFFT(self,Sname,samp):\n",
    "        print self._DicSensor[Sname].ClassName\n",
    "        self._DicSensor[Sname].CalcFFT(samp)\n",
    "\n",
    "    def DispFFT(self,Sname,samp):\n",
    "        print self._DicSensor[Sname].ClassName\n",
    "        col = self._DicSensor[Sname].GetColumns()\n",
    "        for axis in col:\n",
    "            print self._DicSensor[Sname].GetFFT('fft_'+axis,samp)    \n",
    "            \n",
    "    def ExecPower(self,Sname,samp):\n",
    "        print self._DicSensor[Sname].ClassName\n",
    "        self._DicSensor[Sname].CalcPower(samp)\n",
    "\n",
    "    def DispPower(self,Sname,samp):\n",
    "        print self._DicSensor[Sname].ClassName\n",
    "        col = self._DicSensor[Sname].GetColumns()\n",
    "        for axis in col:\n",
    "            print self._DicSensor[Sname].GetPower('power_'+axis,samp)\n",
    "            \n",
    "    def ShowData(self,Sname):\n",
    "        print self._DicSensor[Sname].ShowAllDf()\n",
    "        \n",
    "    # Kallback Librar Divergence\n",
    "    def _KLD(self,vect1,vect2):\n",
    "        f =lambda p,q : np.sum(p * np.log(p / q), axis=(p.ndim - 1))\n",
    "        kld_array=np.array([])\n",
    "        for vector1 in vect1:\n",
    "            for vector2 in vect2:\n",
    "                tmp = f( vector1, vector2 )\n",
    "                kld_array = np.append(kld_array,tmp)\n",
    "        return kld_array\n",
    "    \n",
    "    def ExecKLD(self,Sarray1,Saxis1,Sarray2,Saxis2,samp):\n",
    "        start = time.time()\n",
    "        dist1 = self._DicSensor[Sarray1].GetPower('power_'+Saxis1,samp)\n",
    "        dist2 = self._DicSensor[Sarray1].GetPower('power_'+Saxis2,samp)\n",
    "        \n",
    "        proc = 8\n",
    "        \n",
    "        def subcalc(p):\n",
    "            ini = len(dist)*p/proc\n",
    "            fin = len(dist)*p/proc\n",
    "            \n",
    "            jsd = self._KLD(dist1[ini,fin],dist2[ini,fin]) \n",
    "            return jsd\n",
    "        \n",
    "        pool = mp.Pool(proc)\n",
    "        callback = pool.map(subcalc, range(8))\n",
    "        \n",
    "        total = callback.reshape(1,)\n",
    "        \n",
    "        kld = self._KLD(dist1,dist2)    \n",
    "        np.savez(p_path+'kld/'+Sarray1+'_'+Saxis1+'_VS_'+Sarray2+'_'+Saxis2,kld)\n",
    "        elapsed_time = time.time() - start\n",
    "        print (\"elapsed_time:{0}\".format(elapsed_time)) + \"[sec]\"\n",
    "        \n",
    "    def ShowKLD(self,Sarray1,Saxis1,Sarray2,samp):\n",
    "        tmp = np.load(p_path+'kld/'+Sarray1+'_'+Saxis1+'_VS_'+Sarray2+'_'+Saxis2+'.npz')['arr_0']\n",
    "        print Sarray1+'_'+Saxis1+'_VS_'+Sarray2+'_'+Saxis2+'_'+'Kullback–Leibler Divergence'\n",
    "        print 'shape ='+str(tmp.shape)\n",
    "        print tmp\n",
    "        \n",
    "    def _JSD(self,vect1,vect2):\n",
    "        f =lambda p,q : 0.5*self._KLD(p,(0.5*(p+q)) )+0.5*self._KLD(q,(0.5*(p+q)) )\n",
    "        kld_array=np.array([])\n",
    "        for vector1 in vect1:\n",
    "            for vector2 in vect2:\n",
    "                tmp = f( vector1, vector2 )\n",
    "                kld_array = np.append(kld_array,tmp)\n",
    "        return kld_array\n",
    "    \n",
    "# Janson Shanon Divergence\n",
    "    def ExecJSD(self,Sarray1,Saxis1,Sarray2,samp):\n",
    "        start = time.time()\n",
    "        dist1 = self._DicSensor[Sarray1].GetPower('power_'+Saxis1,samp)\n",
    "        dist2 = self._DicSensor[Sarray1].GetPower('power_'+Saxis2,samp)\n",
    "        \n",
    "        proc = 8\n",
    "        \n",
    "        def subcalc(p):\n",
    "            ini = len(dist)*p/proc\n",
    "            fin = len(dist)*p/proc\n",
    "            \n",
    "            jsd = self._JSD(dist1[ini,fin],dist2[ini,fin]) \n",
    "            return jsd\n",
    "        \n",
    "        pool = mp.Pool(proc)\n",
    "        callback = pool.map(subcalc, range(8))\n",
    "        \n",
    "        total = callback.reshape(1,)\n",
    "        \n",
    "        np.savez(p_path+'jsd/'+Sarray1+'_'+Saxis1+'_VS_'+Sarray2+'_'+Saxis2,total)\n",
    "        elapsed_time = time.time() - start\n",
    "        print (\"elapsed_time:{0}\".format(elapsed_time)) + \"[sec]\"\n",
    "        \n",
    "    def ShowJSD(self,Sarray1,Sarray2,samp):\n",
    "        tmp = np.load(p_path+'jsd/'+Sarray1+'_'+Saxis1+'_VS_'+Sarray2+'_'+Saxis2+'.npz')['arr_0']\n",
    "        print Sarray1+'_'+Saxis1+'_VS_'+Sarray2+'_'+Saxis2+'_'+'Jensen-Shannon Divergence'\n",
    "        print 'shape ='+str(tmp.shape)\n",
    "        print tmp\n",
    "        "
   ]
  },
  {
   "cell_type": "code",
   "execution_count": null,
   "metadata": {
    "collapsed": true
   },
   "outputs": [],
   "source": [
    "AllTest.ExecKLD('left_hand','AccX','righ_hand','AccX',samp=16)"
   ]
  },
  {
   "cell_type": "code",
   "execution_count": null,
   "metadata": {
    "collapsed": true
   },
   "outputs": [],
   "source": []
  }
 ],
 "metadata": {
  "kernelspec": {
   "display_name": "Python 2",
   "language": "python",
   "name": "python2"
  },
  "language_info": {
   "codemirror_mode": {
    "name": "ipython",
    "version": 2
   },
   "file_extension": ".py",
   "mimetype": "text/x-python",
   "name": "python",
   "nbconvert_exporter": "python",
   "pygments_lexer": "ipython2",
   "version": "2.7.10"
  }
 },
 "nbformat": 4,
 "nbformat_minor": 0
}
