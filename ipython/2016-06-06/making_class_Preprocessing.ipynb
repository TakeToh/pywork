{
 "cells": [
  {
   "cell_type": "code",
   "execution_count": 116,
   "metadata": {
    "collapsed": false
   },
   "outputs": [],
   "source": [
    "import numpy as np\n",
    "import pandas as pd\n",
    "from scipy import fftpack\n",
    "from scipy import signal\n",
    "import datetime\n",
    "import pickle\n",
    "import time\n",
    "import os\n",
    "import matplotlib.pyplot as plt\n",
    "%matplotlib inline"
   ]
  },
  {
   "cell_type": "code",
   "execution_count": 2,
   "metadata": {
    "collapsed": false
   },
   "outputs": [],
   "source": [
    "WORKSPACE_PATH = '/home/takeyama/pywork/ipython/2016-06-06/'"
   ]
  },
  {
   "cell_type": "markdown",
   "metadata": {},
   "source": [
    "mozartの環境設定"
   ]
  },
  {
   "cell_type": "code",
   "execution_count": 3,
   "metadata": {
    "collapsed": true
   },
   "outputs": [],
   "source": [
    "#p_path=\"/home/takeyama/pywork/ipython/2016-05-30/\""
   ]
  },
  {
   "cell_type": "code",
   "execution_count": 4,
   "metadata": {
    "collapsed": false
   },
   "outputs": [],
   "source": [
    "#cd ~/Documents/SyncRecord/cleaning-addingLABEL/"
   ]
  },
  {
   "cell_type": "markdown",
   "metadata": {},
   "source": [
    "workstationの環境設定"
   ]
  },
  {
   "cell_type": "code",
   "execution_count": 5,
   "metadata": {
    "collapsed": false
   },
   "outputs": [
    {
     "name": "stdout",
     "output_type": "stream",
     "text": [
      "/home/takeyama/Documents/AddingLabel+FFTdata\n"
     ]
    }
   ],
   "source": [
    "cd ~/Documents/AddingLabel+FFTdata/"
   ]
  },
  {
   "cell_type": "code",
   "execution_count": 6,
   "metadata": {
    "collapsed": true
   },
   "outputs": [],
   "source": [
    "class SensorData:\n",
    "    \n",
    "    def __init__(self):\n",
    "        print \"__class__\"\n",
    "        # raw data\n",
    "        self._RawData={}    \n",
    "        # fft data\n",
    "        self._FFTData={}\n",
    "        # power spectol data\n",
    "        self._PowerData={}    \n",
    "        # flag exsist data\n",
    "        self._Flag_exist_data=False\n",
    "        \n",
    "        self._columns=['AccX','AccY','AccZ','GyrX','GyrY','GyrZ']\n",
    "        self._fft_col=['fft_AccX','fft_AccY','fft_AccZ','fft_GyrX','fft_GyrY','fft_GyrZ']\n",
    "        self._power_col=['power_AccX','power_AccY','power_AccZ','power_GyrX','power_GyrY','power_GyrZ']\n",
    "        \n",
    "    def ImportCSV(self,Sclass,csv_file):\n",
    "        self.ClassName=Sclass\n",
    "        self.Flag_exist_data=True\n",
    "        # design dataframe\n",
    "        data = pd.read_csv(csv_file,encoding=\"SHIFT-JIS\")\n",
    "        data.columns=[u'Type',u'Time',u'AccX',u'AccY',u'AccZ',u'GyrX',u'GyrY',u'GyrZ']\n",
    "        data.Time=pd.to_datetime(data.Time)\n",
    "        data = pd.pivot_table(data,values=[u'AccX',u'AccY',u'AccZ',u'GyrX',u'GyrY',u'GyrZ'],index=[u'Time'])\n",
    "        \n",
    "        # convert numpy.darray\n",
    "        AccX=data.AccX.values*0.0001\n",
    "        AccY=data.AccY.values*0.0001\n",
    "        AccZ=data.AccZ.values*0.0001\n",
    "        GyrX=data.GyrX.values*0.01\n",
    "        GyrY=data.GyrY.values*0.01\n",
    "        GyrZ=data.GyrZ.values*0.01\n",
    "        Time=data.index.to_pydatetime().astype('datetime64[ns]')\n",
    "        \n",
    "        # regist each raw data \n",
    "        self._RawData['AccX'] = AccX\n",
    "        self._RawData['AccY'] = AccY\n",
    "        self._RawData['AccZ'] = AccZ\n",
    "        self._RawData['GyrX'] = GyrX\n",
    "        self._RawData['GyrY'] = GyrY\n",
    "        self._RawData['GyrZ'] = GyrZ\n",
    "        self._RawData['Time'] = Time\n",
    "    \n",
    "    def ShowFlagExistData(self):\n",
    "        return self.Flag_exist_data\n",
    "    \n",
    "    def GetColumns(self):\n",
    "        return self._columns\n",
    "    \n",
    "    def GetTime(self):\n",
    "        return self._RawData['Time']\n",
    "\n",
    "    def ShowAllDf(self):\n",
    "        print 'AccX : ';print self._RawData['AccX']\n",
    "        print 'AccY : ';print self._RawData['AccY']\n",
    "        print 'AccZ : ';print self._RawData['AccZ']\n",
    "        print 'GyrX : ';print self._RawData['GyrX']\n",
    "        print 'GyrY : ';print self._RawData['GyrY']\n",
    "        print 'GyrZ : ';print self._RawData['GyrZ']\n",
    "        \n",
    "    def _Time2Num(self,time):\n",
    "        return np.where(self._RawData['Time']==np.datetime64(time) )[0][0]\n",
    "    \n",
    "    def ShowQuery(self,Sname,rng=[]):\n",
    "        data = self._RawData[Sname]\n",
    "        print Sname+':'+str( data[rng[0]:rng[1]])\n",
    "            \n",
    "    def _sliding_window(self,Sname,samp, overlap):\n",
    "        count =0\n",
    "        s =self._RawData['Time'][0]\n",
    "        start=self._Time2Num(s)\n",
    "        g = s+np.timedelta64(samp*10,'ms')\n",
    "        goal= self._Time2Num(g)\n",
    "        yield self._RawData[Sname][start:goal]\n",
    "        \n",
    "        add=overlap*0.01\n",
    "        \n",
    "        while True:\n",
    "            try:\n",
    "                count +=1\n",
    "                s =s+np.timedelta64(samp*10,'ms')\n",
    "                start=self._Time2Num(s)\n",
    "                g  =s+np.timedelta64(samp*10,'ms')\n",
    "                goal= self._Time2Num(g)\n",
    "                yield self._RawData[Sname][start:goal]\n",
    "            except StopIteration:\n",
    "                print '_sliding_window StopIteration'\n",
    "                break   \n",
    "            except IndexError:\n",
    "                print '_sliding_window IndexError'\n",
    "                break  \n",
    "                \n",
    "# Fast Frier transaction            \n",
    "    def GetFFT(self,Sfft,samp):\n",
    "        return np.load(p_path+'fft/'+self.ClassName+'_'+Sfft+'_'+str(samp)+'.npz')['arr_0']\n",
    "    \n",
    "    def CalcFFT(self,samp,overlap=0.5):\n",
    "        start = time.time()\n",
    "        fft_data = np.array([])\n",
    "        \n",
    "        for n,f in zip( self._columns,self._fft_col):\n",
    "            print 'start'+n+'->'+f\n",
    "            sw = self._sliding_window(n,samp,overlap)\n",
    "            while True:\n",
    "                try:\n",
    "                    d=sw.next()\n",
    "                    fft_data = np.append(fft_data, fftpack.fft(d)[1:(samp/2)+1] )   # fftの直流成分を除くsample/2の\n",
    "                except StopIteration:\n",
    "                    print 'CalcFFTStopIteration'\n",
    "                    fft_data = fft_data.reshape(len(fft_data)/(samp/2),(samp/2) )\n",
    "                    self._FFTData[f] = fft_data\n",
    "                    np.savez(p_path+'fft/'+self.ClassName+'_'+str(f)+'_'+str(samp),self._FFTData[f])\n",
    "                    break   \n",
    "        elapsed_time = time.time() - start\n",
    "        print (\"elapsed_time:{0}\".format(elapsed_time)) + \"[sec]\"\n",
    "           \n",
    "\n",
    "# Spectol Power \n",
    "    def GetPower(self,Spower,samp):\n",
    "        return np.load(p_path+'power/'+self.ClassName+'_'+Spower+'_'+str(samp)+'.npz')['arr_0']\n",
    "    \n",
    "    def _power(self,fft_array):\n",
    "        p=lambda x,y : np.sqrt(x**2+y**2)\n",
    "        power_array=np.array([])\n",
    "        for vector in fft_array:\n",
    "            tmp = p( np.real(vector),np.imag(vector) )\n",
    "            tmp = tmp/np.sum(tmp)\n",
    "            power_array = np.append(power_array,tmp)\n",
    "        return power_array\n",
    "        \n",
    "    def CalcPower(self,samp,overlap=0.5):\n",
    "        start = time.time()\n",
    "        for fft_name,power_name in zip( self._fft_col, self._power_col):\n",
    "            print 'start'+fft_name+'->'+power_name\n",
    "            fft_data = self.GetFFT(fft_name,samp)\n",
    "            power_data=self._power(fft_data)\n",
    "            np.savez(p_path+'power/'+self.ClassName+'_'+power_name+'_'+str(samp),power_data)\n",
    "        elapsed_time = time.time() - start\n",
    "        print (\"elapsed_time:{0}\".format(elapsed_time)) + \"[sec]\""
   ]
  },
  {
   "cell_type": "markdown",
   "metadata": {},
   "source": [
    "センサーのスタート時間を求める"
   ]
  },
  {
   "cell_type": "code",
   "execution_count": 7,
   "metadata": {
    "collapsed": false
   },
   "outputs": [
    {
     "name": "stdout",
     "output_type": "stream",
     "text": [
      "__class__\n",
      "__class__\n",
      "__class__\n",
      "__class__\n",
      "__class__\n"
     ]
    }
   ],
   "source": [
    "data1 = SensorData()\n",
    "data2 = SensorData()\n",
    "data3 = SensorData()\n",
    "data4 = SensorData()\n",
    "data5 = SensorData()"
   ]
  },
  {
   "cell_type": "code",
   "execution_count": 8,
   "metadata": {
    "collapsed": false
   },
   "outputs": [],
   "source": [
    "data1.ImportCSV('left_hand','Conv-left-hand-ags.csv')\n",
    "data2.ImportCSV('left_leg','Conv-left-leg-ags.csv')\n",
    "data3.ImportCSV('right_hand','Conv-right-hand-ags.csv')\n",
    "data4.ImportCSV('right_leg','Conv-right-leg-ags.csv')\n",
    "data5.ImportCSV('west','Conv-west-ags.csv')"
   ]
  },
  {
   "cell_type": "code",
   "execution_count": 9,
   "metadata": {
    "collapsed": false
   },
   "outputs": [],
   "source": [
    "time1=data1.GetTime()\n",
    "time2=data2.GetTime()\n",
    "time3=data3.GetTime()\n",
    "time4=data4.GetTime()\n",
    "time5=data5.GetTime()"
   ]
  },
  {
   "cell_type": "code",
   "execution_count": 10,
   "metadata": {
    "collapsed": false
   },
   "outputs": [
    {
     "name": "stdout",
     "output_type": "stream",
     "text": [
      "2016-06-10T18:06:15.877000000\n"
     ]
    }
   ],
   "source": [
    "if min(time1) < min(time2):\n",
    "    MAX = min(time2)\n",
    "else:\n",
    "    MAX = min(time1)\n",
    "\n",
    "if MAX < min(time3):\n",
    "    MAX = min(time3)\n",
    "\n",
    "if MAX < min(time4):\n",
    "    MAX = min(time4)\n",
    "\n",
    "if MAX < min(time5):\n",
    "    MAX = min(time5)\n",
    "\n",
    "print MAX"
   ]
  },
  {
   "cell_type": "markdown",
   "metadata": {},
   "source": [
    "Conv-から始まるファイルはすでにhh:mm:ssSSのように変換されている。\n",
    "しかし、この形では四捨五入といった丸めることができない。\n",
    "\n",
    "よって、最初のmsの状態で位置の桁を四捨五入すれば簡単に丸めることができるのではないだろうか？\n",
    "試しに、値をleft-hand.csvの時刻から四捨五入して、hh:mm:ssSSの形に直してみる。"
   ]
  },
  {
   "cell_type": "code",
   "execution_count": 11,
   "metadata": {
    "collapsed": false
   },
   "outputs": [
    {
     "data": {
      "text/plain": [
       "array(datetime.datetime(1970, 1, 1, 15, 30, 44, 456000), dtype='datetime64[ms]')"
      ]
     },
     "execution_count": 11,
     "metadata": {},
     "output_type": "execute_result"
    }
   ],
   "source": [
    "np.array(55844456,dtype='datetime64[ms]')"
   ]
  },
  {
   "cell_type": "code",
   "execution_count": 12,
   "metadata": {
    "collapsed": false
   },
   "outputs": [
    {
     "data": {
      "text/plain": [
       "numpy.datetime64('1970-01-01T15:30:44.456')"
      ]
     },
     "execution_count": 12,
     "metadata": {},
     "output_type": "execute_result"
    }
   ],
   "source": [
    "np.datetime64(55844456,'ms')"
   ]
  },
  {
   "cell_type": "code",
   "execution_count": 13,
   "metadata": {
    "collapsed": false
   },
   "outputs": [
    {
     "data": {
      "text/plain": [
       "55844460.0"
      ]
     },
     "execution_count": 13,
     "metadata": {},
     "output_type": "execute_result"
    }
   ],
   "source": [
    "round(55844456*0.1)*10"
   ]
  },
  {
   "cell_type": "code",
   "execution_count": 14,
   "metadata": {
    "collapsed": false
   },
   "outputs": [
    {
     "data": {
      "text/plain": [
       "numpy.datetime64('1970-01-01T15:30:44.460')"
      ]
     },
     "execution_count": 14,
     "metadata": {},
     "output_type": "execute_result"
    }
   ],
   "source": [
    "a=round(55844456*0.1)*10\n",
    "np.datetime64(int(a),'ms')"
   ]
  },
  {
   "cell_type": "code",
   "execution_count": 15,
   "metadata": {
    "collapsed": false
   },
   "outputs": [
    {
     "data": {
      "text/plain": [
       "numpy.datetime64('1970-01-01T15:30:44.456')"
      ]
     },
     "execution_count": 15,
     "metadata": {},
     "output_type": "execute_result"
    }
   ],
   "source": [
    "np.datetime64(55844456,'ms')"
   ]
  },
  {
   "cell_type": "markdown",
   "metadata": {},
   "source": [
    "CSVファイルをnumpyで読み込んでクラスのインポートと同じような動作ができるかどうかやってみる。"
   ]
  },
  {
   "cell_type": "code",
   "execution_count": 16,
   "metadata": {
    "collapsed": false
   },
   "outputs": [],
   "source": [
    "time = np.genfromtxt(\"left-hand.csv\",delimiter=\",\",usecols=(1)) #時間の列だけを抽出"
   ]
  },
  {
   "cell_type": "code",
   "execution_count": 17,
   "metadata": {
    "collapsed": false
   },
   "outputs": [],
   "source": [
    "func = lambda x: int(round(x*0.1)*10)\n",
    "a= map( func, time) \n",
    "\n",
    "t = lambda x: np.datetime64(x,'ms')\n",
    "times = map(t, a)\n",
    "time = np.array(times,dtype=np.datetime64)"
   ]
  },
  {
   "cell_type": "code",
   "execution_count": 18,
   "metadata": {
    "collapsed": false
   },
   "outputs": [
    {
     "data": {
      "text/plain": [
       "numpy.datetime64('1970-01-01T18:06:15.700')"
      ]
     },
     "execution_count": 18,
     "metadata": {},
     "output_type": "execute_result"
    }
   ],
   "source": [
    "time[0]"
   ]
  },
  {
   "cell_type": "code",
   "execution_count": 19,
   "metadata": {
    "collapsed": false
   },
   "outputs": [
    {
     "data": {
      "text/plain": [
       "numpy.datetime64('1970-01-01T15:30:44.456')"
      ]
     },
     "execution_count": 19,
     "metadata": {},
     "output_type": "execute_result"
    }
   ],
   "source": [
    "np.datetime64(55844456,'ms')"
   ]
  },
  {
   "cell_type": "markdown",
   "metadata": {
    "collapsed": true
   },
   "source": [
    "前処理クラス　時系列の統一　アルゴリズム　考案　2016-06-07\n",
    "\n",
    "現在の作業状況の途中経過をここにメモする。\n",
    "まずは、肝心の時系列だがpandasで読み込むよりnumpy.loadcsv使ったほうが正確である\n",
    "しかし、この読み込み方法だと問題が１つある。それは、加速度データがなぜかよみこまれない\n",
    "からである。\n",
    "一番怪しいのは、マイナスとか符号が原因でエラーが起きているのではないかと考える。\n"
   ]
  },
  {
   "cell_type": "code",
   "execution_count": 20,
   "metadata": {
    "collapsed": true
   },
   "outputs": [],
   "source": [
    "#sampling freqency \n",
    "samp=10"
   ]
  },
  {
   "cell_type": "markdown",
   "metadata": {},
   "source": [
    "サンプリング周波数を決め、切り上げ、切り捨て、四捨五入を関数を使用しないで実装してみる\n",
    "この計算では各データの単位はmsで行う。\n",
    "理由として、csvファイルの時刻は当日０時から経過したmsであるから"
   ]
  },
  {
   "cell_type": "code",
   "execution_count": 21,
   "metadata": {
    "collapsed": false
   },
   "outputs": [],
   "source": [
    "time = np.genfromtxt(\"left-hand.csv\",delimiter=\",\",usecols=(1)) #時間の列だけを抽出"
   ]
  },
  {
   "cell_type": "code",
   "execution_count": 22,
   "metadata": {
    "collapsed": false
   },
   "outputs": [
    {
     "data": {
      "text/plain": [
       "array([ 65175696.,  65175706.,  65175716., ...,  65730376.,  65730386.,\n",
       "        65730396.])"
      ]
     },
     "execution_count": 22,
     "metadata": {},
     "output_type": "execute_result"
    }
   ],
   "source": [
    "time"
   ]
  },
  {
   "cell_type": "code",
   "execution_count": 23,
   "metadata": {
    "collapsed": false
   },
   "outputs": [
    {
     "data": {
      "text/plain": [
       "array([65175690, 65175700, 65175710, ..., 65730370, 65730380, 65730390])"
      ]
     },
     "execution_count": 23,
     "metadata": {},
     "output_type": "execute_result"
    }
   ],
   "source": [
    "#切り捨て\n",
    "output = (time/samp).astype(int)*samp\n",
    "output"
   ]
  },
  {
   "cell_type": "code",
   "execution_count": 24,
   "metadata": {
    "collapsed": false
   },
   "outputs": [
    {
     "data": {
      "text/plain": [
       "array([65175700, 65175710, 65175720, ..., 65730380, 65730390, 65730400])"
      ]
     },
     "execution_count": 24,
     "metadata": {},
     "output_type": "execute_result"
    }
   ],
   "source": [
    "#切り上げ\n",
    "output = ((time+samp)/samp).astype(int)*samp\n",
    "output"
   ]
  },
  {
   "cell_type": "code",
   "execution_count": 25,
   "metadata": {
    "collapsed": false
   },
   "outputs": [
    {
     "data": {
      "text/plain": [
       "array([65175700, 65175710, 65175720, ..., 65730380, 65730390, 65730400])"
      ]
     },
     "execution_count": 25,
     "metadata": {},
     "output_type": "execute_result"
    }
   ],
   "source": [
    "#四捨五入\n",
    "output = ( (time+samp/2)/samp).astype(int)*samp\n",
    "output"
   ]
  },
  {
   "cell_type": "markdown",
   "metadata": {},
   "source": [
    "結局、最初のデータは時間を指すことはわかるが、２番めの数字は元データをみても該当するものはない。\n",
    "よって、２通りのCSV読む方法を取る。１つはpandas、もう１つはnumpy.loadtxtである。\n",
    "pandasのほうでは、加速度、角速度を読み込む\n",
    "numpyのほうでは、時系列を読み込む"
   ]
  },
  {
   "cell_type": "code",
   "execution_count": 26,
   "metadata": {
    "collapsed": false
   },
   "outputs": [],
   "source": [
    "'''\n",
    "csv_file -> ファイル名\n",
    "mode Round -> 四捨五入\n",
    "     Roundup -> 切り上げ\n",
    "     Rounddown -> 切り捨て\n",
    "'''\n",
    "def ImportCSV(csv_file,samp,mode='Round'):\n",
    "        # data dictionary \n",
    "        RawData={}   \n",
    "        \n",
    "        # design dataframe and import csv\n",
    "        data = pd.read_csv(csv_file,encoding=\"SHIFT-JIS\")\n",
    "        data.columns=[u'Type',u'Time',u'AccX',u'AccY',u'AccZ',u'GyrX',u'GyrY',u'GyrZ']\n",
    "        data = data[ data['Type']=='ags']\n",
    "        \n",
    "        # convert numpy.darray \n",
    "        # Acc Data  [0.1mG]=>[G]\n",
    "        # Gyr Data  [0.01dps]=>[dps]   ...dps=degree per second\n",
    "        AccX=data.AccX.values*0.0001\n",
    "        AccY=data.AccY.values*0.0001\n",
    "        AccZ=data.AccZ.values*0.0001\n",
    "        GyrX=data.GyrX.values*0.01\n",
    "        GyrY=data.GyrY.values*0.01\n",
    "        GyrZ=data.GyrZ.values*0.01\n",
    "        \n",
    "        # regist each raw data \n",
    "        RawData['AccX'] = AccX\n",
    "        RawData['AccY'] = AccY\n",
    "        RawData['AccZ'] = AccZ\n",
    "        RawData['GyrX'] = GyrX\n",
    "        RawData['GyrY'] = GyrY\n",
    "        RawData['GyrZ'] = GyrZ\n",
    "        \n",
    "        # import time by using numpy\n",
    "        time = data.Time.values #時間の列だけを抽出       \n",
    "        \n",
    "        if mode == 'Roundup':\n",
    "            func = lambda x: int(x/samp)*samp\n",
    "        elif mode == 'Rounddown':\n",
    "            func = lambda x: int(x/samp)*samp\n",
    "        elif mode == 'Round':\n",
    "            func = lambda x: int((x+samp/2)/samp)*samp\n",
    "        #ERROR\n",
    "        else:\n",
    "            print 'check mode and inputed word is caused error'\n",
    "            return -1\n",
    "        \n",
    "        output = map(func,time)\n",
    "        RawData['Time'] = output\n",
    "        return RawData\n",
    "            "
   ]
  },
  {
   "cell_type": "code",
   "execution_count": 27,
   "metadata": {
    "collapsed": false
   },
   "outputs": [],
   "source": [
    "check1 = ImportCSV('left-hand.csv',10)"
   ]
  },
  {
   "cell_type": "code",
   "execution_count": 28,
   "metadata": {
    "collapsed": false
   },
   "outputs": [
    {
     "data": {
      "text/plain": [
       "65176370"
      ]
     },
     "execution_count": 28,
     "metadata": {},
     "output_type": "execute_result"
    }
   ],
   "source": [
    "check1['Time'][66]"
   ]
  },
  {
   "cell_type": "markdown",
   "metadata": {
    "collapsed": true
   },
   "source": [
    "この関数を使用することによって、切り捨て切り上げ、四捨五入を行い\n",
    "時系列の時間を10msごとのデータになった ->1の桁はゼロである\n",
    "\n",
    "次に、各データの時系列を同期する"
   ]
  },
  {
   "cell_type": "code",
   "execution_count": 29,
   "metadata": {
    "collapsed": true
   },
   "outputs": [],
   "source": [
    "check2 = ImportCSV('left-leg.csv',10)\n",
    "check3 = ImportCSV('right-hand.csv',10)\n",
    "check4 = ImportCSV('right-leg.csv',10)\n",
    "check5 = ImportCSV('west.csv',10)"
   ]
  },
  {
   "cell_type": "markdown",
   "metadata": {},
   "source": [
    "センサの時系列の最小値を求める。そして、それぞれの最小値を比較して\n",
    "その中で一番大きい値をスタート時間とする"
   ]
  },
  {
   "cell_type": "code",
   "execution_count": 30,
   "metadata": {
    "collapsed": false
   },
   "outputs": [
    {
     "name": "stdout",
     "output_type": "stream",
     "text": [
      "65175890\n"
     ]
    }
   ],
   "source": [
    "if min(check1['Time']) < min(check2['Time']):\n",
    "    MAX = min(check2['Time'])\n",
    "else:\n",
    "    MAX = min(check1['Time'])\n",
    "\n",
    "if MAX < min(check3['Time']):\n",
    "    MAX = min(check3['Time'])\n",
    "\n",
    "if MAX < min(check4['Time']):\n",
    "    MAX = min(check4['Time'])\n",
    "\n",
    "if MAX < min(check5['Time']):\n",
    "    MAX = min(check5['Time'])\n",
    "\n",
    "print MAX"
   ]
  },
  {
   "cell_type": "code",
   "execution_count": 31,
   "metadata": {
    "collapsed": false
   },
   "outputs": [
    {
     "name": "stdout",
     "output_type": "stream",
     "text": [
      "65175710\n",
      "65175890\n",
      "65175670\n",
      "65175810\n",
      "65175760\n"
     ]
    }
   ],
   "source": [
    "print min(check1['Time'])\n",
    "print min(check2['Time'])\n",
    "print min(check3['Time'])\n",
    "print min(check4['Time'])\n",
    "print min(check5['Time'])"
   ]
  },
  {
   "cell_type": "markdown",
   "metadata": {},
   "source": [
    "センサの時系列の最大値を求める。そして、それぞれの最大値を比較して\n",
    "その中で一番小さい値をスタート時間とする"
   ]
  },
  {
   "cell_type": "code",
   "execution_count": 32,
   "metadata": {
    "collapsed": false
   },
   "outputs": [
    {
     "name": "stdout",
     "output_type": "stream",
     "text": [
      "65730150\n"
     ]
    }
   ],
   "source": [
    "if max(check1['Time']) < max(check2['Time']):\n",
    "    MIN = max(check1['Time'])\n",
    "else:\n",
    "    MIN = max(check2['Time'])\n",
    "\n",
    "if MIN > max(check3['Time']):\n",
    "    MIN = max(check3['Time'])\n",
    "\n",
    "if MIN > max(check4['Time']):\n",
    "    MIN = max(check4['Time'])\n",
    "\n",
    "if MIN > max(check5['Time']):\n",
    "    MIN = max(check5['Time'])\n",
    "\n",
    "print MIN"
   ]
  },
  {
   "cell_type": "code",
   "execution_count": 33,
   "metadata": {
    "collapsed": false
   },
   "outputs": [
    {
     "name": "stdout",
     "output_type": "stream",
     "text": [
      "65730400\n",
      "65730970\n",
      "65730150\n",
      "65730810\n",
      "65730620\n"
     ]
    }
   ],
   "source": [
    "print max(check1['Time'])\n",
    "print max(check2['Time'])\n",
    "print max(check3['Time'])\n",
    "print max(check4['Time'])\n",
    "print max(check5['Time'])"
   ]
  },
  {
   "cell_type": "markdown",
   "metadata": {},
   "source": [
    "各センサの時系列データをスタート時間を０番目となるようにする\n"
   ]
  },
  {
   "cell_type": "code",
   "execution_count": 34,
   "metadata": {
    "collapsed": false
   },
   "outputs": [
    {
     "name": "stdout",
     "output_type": "stream",
     "text": [
      "start index number is 18\n"
     ]
    }
   ],
   "source": [
    "for i in range(0, len(check1['Time'])):\n",
    "    if 65175890 == check1['Time'][i]:\n",
    "            print 'start index number is '+str(i)"
   ]
  },
  {
   "cell_type": "code",
   "execution_count": 35,
   "metadata": {
    "collapsed": false
   },
   "outputs": [
    {
     "data": {
      "text/plain": [
       "65175890"
      ]
     },
     "execution_count": 35,
     "metadata": {},
     "output_type": "execute_result"
    }
   ],
   "source": [
    "check1['Time'][18]"
   ]
  },
  {
   "cell_type": "code",
   "execution_count": 36,
   "metadata": {
    "collapsed": false
   },
   "outputs": [
    {
     "name": "stdout",
     "output_type": "stream",
     "text": [
      "start index number is 0\n"
     ]
    }
   ],
   "source": [
    "for i in range(0, len(check2['Time'])):\n",
    "    if 65175890 == check2['Time'][i]:\n",
    "            print 'start index number is '+str(i)"
   ]
  },
  {
   "cell_type": "code",
   "execution_count": 37,
   "metadata": {
    "collapsed": false
   },
   "outputs": [
    {
     "data": {
      "text/plain": [
       "65175890"
      ]
     },
     "execution_count": 37,
     "metadata": {},
     "output_type": "execute_result"
    }
   ],
   "source": [
    "check2['Time'][0]"
   ]
  },
  {
   "cell_type": "code",
   "execution_count": 38,
   "metadata": {
    "collapsed": false
   },
   "outputs": [
    {
     "name": "stdout",
     "output_type": "stream",
     "text": [
      "start index number is 22\n"
     ]
    }
   ],
   "source": [
    "for i in range(0, len(check3['Time'])):\n",
    "    if 65175890 == check3['Time'][i]:\n",
    "            print 'start index number is '+str(i)"
   ]
  },
  {
   "cell_type": "code",
   "execution_count": 39,
   "metadata": {
    "collapsed": false
   },
   "outputs": [
    {
     "data": {
      "text/plain": [
       "65175890"
      ]
     },
     "execution_count": 39,
     "metadata": {},
     "output_type": "execute_result"
    }
   ],
   "source": [
    "check3['Time'][22]"
   ]
  },
  {
   "cell_type": "code",
   "execution_count": 40,
   "metadata": {
    "collapsed": false
   },
   "outputs": [
    {
     "name": "stdout",
     "output_type": "stream",
     "text": [
      "start index number is 8\n"
     ]
    }
   ],
   "source": [
    "for i in range(0, len(check4['Time'])):\n",
    "    if 65175890 == check4['Time'][i]:\n",
    "            print 'start index number is '+str(i)"
   ]
  },
  {
   "cell_type": "code",
   "execution_count": 41,
   "metadata": {
    "collapsed": false
   },
   "outputs": [
    {
     "data": {
      "text/plain": [
       "65175890"
      ]
     },
     "execution_count": 41,
     "metadata": {},
     "output_type": "execute_result"
    }
   ],
   "source": [
    "check4['Time'][8]"
   ]
  },
  {
   "cell_type": "code",
   "execution_count": 42,
   "metadata": {
    "collapsed": false
   },
   "outputs": [
    {
     "name": "stdout",
     "output_type": "stream",
     "text": [
      "start index number is 13\n"
     ]
    }
   ],
   "source": [
    "for i in range(0, len(check5['Time'])):\n",
    "    if 65175890 == check5['Time'][i]:\n",
    "            print 'start index number is '+str(i)"
   ]
  },
  {
   "cell_type": "code",
   "execution_count": 43,
   "metadata": {
    "collapsed": false
   },
   "outputs": [
    {
     "data": {
      "text/plain": [
       "65175890"
      ]
     },
     "execution_count": 43,
     "metadata": {},
     "output_type": "execute_result"
    }
   ],
   "source": [
    "check5['Time'][13]"
   ]
  },
  {
   "cell_type": "markdown",
   "metadata": {},
   "source": [
    "上記の方法で求めたスタート時間とゴール時間の間を扱う。\n",
    "しかし、その区間にもセンサによっては取得できてない可能性もあるので確認する\n",
    "\n",
    "手法としては、スタート時間からゴール時間をステップ+10とした連続値の配列を作成する\n",
    "各センサデータの時系列はこの配列（以後、参照配列と呼称する）と比較してNANがあるかどうか調べる\n",
    "NANがある場合、同じ大きさの配列のフラグにFalseを入れる。ない場合はTrueを入れる\n"
   ]
  },
  {
   "cell_type": "code",
   "execution_count": 44,
   "metadata": {
    "collapsed": true
   },
   "outputs": [],
   "source": [
    "ReferenceIndex = range(65175890,65730150,10)\n",
    "Flag_ExistData = {}\n",
    "Flag_ExistData['check1']= range(0, len(ReferenceIndex))\n",
    "Flag_ExistData['check2']= range(0, len(ReferenceIndex))\n",
    "Flag_ExistData['check3']= range(0, len(ReferenceIndex))\n",
    "Flag_ExistData['check4']= range(0, len(ReferenceIndex))\n",
    "Flag_ExistData['check5']= range(0, len(ReferenceIndex))"
   ]
  },
  {
   "cell_type": "markdown",
   "metadata": {},
   "source": [
    "2016-6-8\n",
    "以後、行われていることはReferenceIndexと各データcheck1-5で違う時間\n",
    "をもっているかどうか\n",
    "つまり、スタート時間からゴール時間のデータを各データは保持している\n",
    "かどうかを調査する"
   ]
  },
  {
   "cell_type": "code",
   "execution_count": 45,
   "metadata": {
    "collapsed": false
   },
   "outputs": [
    {
     "name": "stdout",
     "output_type": "stream",
     "text": [
      "start index number is 18\n",
      "0\n"
     ]
    }
   ],
   "source": [
    "count = 0\n",
    "checkData = check1['Time']\n",
    "i=0\n",
    "for i in range(0, len(checkData)):\n",
    "    if 65175890 == checkData[i]:\n",
    "        startNum=i\n",
    "        print 'start index number is '+str(i)\n",
    "        break\n",
    "        \n",
    "if i == len(checkData)-1:\n",
    "    startNum=0\n",
    "    print 'start index number is '+str(0)\n",
    "    \n",
    "for i in range(0, len(ReferenceIndex)):\n",
    "    if (checkData[i+startNum]==ReferenceIndex[i]):\n",
    "        #print str(i)+' is all sensor data complete'\n",
    "        Flag_ExistData['check1'][i]=True\n",
    "    else:\n",
    "        #print str(i)+' is data has nan data'\n",
    "        Flag_ExistData['check1'][i]=False\n",
    "        count +=1\n",
    "print count"
   ]
  },
  {
   "cell_type": "code",
   "execution_count": 46,
   "metadata": {
    "collapsed": false
   },
   "outputs": [
    {
     "name": "stdout",
     "output_type": "stream",
     "text": [
      "start index number is 0\n",
      "0\n"
     ]
    }
   ],
   "source": [
    "count = 0\n",
    "checkData = check2['Time']\n",
    "i=0\n",
    "for i in range(0, len(checkData)):\n",
    "    if 65175890 == checkData[i]:\n",
    "        startNum=i\n",
    "        print 'start index number is '+str(i)\n",
    "        break\n",
    "        \n",
    "if i == len(checkData)-1:\n",
    "    startNum=0\n",
    "    print 'start index number is '+str(0)\n",
    "    \n",
    "for i in range(0, len(ReferenceIndex)):\n",
    "    if (checkData[i+startNum]==ReferenceIndex[i]):\n",
    "        #print str(i)+' is all sensor data complete'\n",
    "        Flag_ExistData['check2'][i]=True\n",
    "    else:\n",
    "        #print str(i)+' is data has nan data'\n",
    "        Flag_ExistData['check2'][i]=False\n",
    "        count +=1\n",
    "print count"
   ]
  },
  {
   "cell_type": "code",
   "execution_count": 47,
   "metadata": {
    "collapsed": false
   },
   "outputs": [
    {
     "name": "stdout",
     "output_type": "stream",
     "text": [
      "start index number is 22\n",
      "0\n"
     ]
    }
   ],
   "source": [
    "count = 0\n",
    "checkData = check3['Time']\n",
    "i=0\n",
    "for i in range(0, len(checkData)):\n",
    "    if 65175890 == checkData[i]:\n",
    "        startNum=i\n",
    "        print 'start index number is '+str(i)\n",
    "        break\n",
    "        \n",
    "if i == len(checkData)-1:\n",
    "    startNum=0\n",
    "    print 'start index number is '+str(0)\n",
    "    \n",
    "for i in range(0, len(ReferenceIndex)):\n",
    "    if (checkData[i+startNum]==ReferenceIndex[i]):\n",
    "        #print str(i)+' is all sensor data complete'\n",
    "        Flag_ExistData['check3'][i]=True\n",
    "    else:\n",
    "        #print str(i)+' is data has nan data'\n",
    "        Flag_ExistData['check3'][i]=False\n",
    "        count +=1\n",
    "print count"
   ]
  },
  {
   "cell_type": "code",
   "execution_count": 48,
   "metadata": {
    "collapsed": false
   },
   "outputs": [
    {
     "name": "stdout",
     "output_type": "stream",
     "text": [
      "start index number is 8\n",
      "0\n"
     ]
    }
   ],
   "source": [
    "count = 0\n",
    "checkData = check4['Time']\n",
    "i=0\n",
    "for i in range(0, len(checkData)):\n",
    "    if 65175890 == checkData[i]:\n",
    "        startNum=i\n",
    "        print 'start index number is '+str(i)\n",
    "        break\n",
    "        \n",
    "if i == len(checkData)-1:\n",
    "    startNum=0\n",
    "    print 'start index number is '+str(0)\n",
    "    \n",
    "for i in range(0, len(ReferenceIndex)):\n",
    "    if (checkData[i+startNum]==ReferenceIndex[i]):\n",
    "        #print str(i)+' is all sensor data complete'\n",
    "        Flag_ExistData['check4'][i]=True\n",
    "    else:\n",
    "        #print str(i)+' is data has nan data'\n",
    "        Flag_ExistData['check4'][i]=False\n",
    "        count +=1\n",
    "print count"
   ]
  },
  {
   "cell_type": "code",
   "execution_count": 49,
   "metadata": {
    "collapsed": false
   },
   "outputs": [
    {
     "data": {
      "text/plain": [
       "\"\\ncount = 0\\ncheckData = check5['Time']\\ni=0\\nfor i in range(0, len(checkData)):\\n    if 65175890 == checkData[i]:\\n        startNum=i\\n        print 'start index number is '+str(i)\\n        break\\n        \\nif i == len(checkData)-1:\\n    startNum=0\\n    print 'start index number is '+str(0)\\n\\nfor i in range(0, 55426):\\n    print checkData[i+startNum]\\n    if (checkData[i+startNum]==ReferenceIndex[i]):\\n        #print str(i)+' is all sensor data complete'\\n        Flag_ExistData['check5'][i]=True\\n    else:\\n        #print str(i)+' is data has nan data'\\n        Flag_ExistData['check5'][i]=False\\n        count +=1\\nprint count\\n\""
      ]
     },
     "execution_count": 49,
     "metadata": {},
     "output_type": "execute_result"
    }
   ],
   "source": [
    "'''\n",
    "count = 0\n",
    "checkData = check5['Time']\n",
    "i=0\n",
    "for i in range(0, len(checkData)):\n",
    "    if 65175890 == checkData[i]:\n",
    "        startNum=i\n",
    "        print 'start index number is '+str(i)\n",
    "        break\n",
    "        \n",
    "if i == len(checkData)-1:\n",
    "    startNum=0\n",
    "    print 'start index number is '+str(0)\n",
    "\n",
    "for i in range(0, 55426):\n",
    "    print checkData[i+startNum]\n",
    "    if (checkData[i+startNum]==ReferenceIndex[i]):\n",
    "        #print str(i)+' is all sensor data complete'\n",
    "        Flag_ExistData['check5'][i]=True\n",
    "    else:\n",
    "        #print str(i)+' is data has nan data'\n",
    "        Flag_ExistData['check5'][i]=False\n",
    "        count +=1\n",
    "print count\n",
    "'''"
   ]
  },
  {
   "cell_type": "markdown",
   "metadata": {},
   "source": [
    "上のアルゴリズムのについての原因を考える。原因は、check5の配列の長さが54992あるのに対して\n",
    "ReferenceIndexの長さは55426である。共通区間はあくまでも各データの時系列のデータの長さより小さくなければ\n",
    "共通という意味に矛盾する。つまり、ここが原因なのではないかと考える。\n",
    "\n",
    "確認方法として、配列の前後の差を調べる。そして、差が10以外のデータのインデックスを探す"
   ]
  },
  {
   "cell_type": "code",
   "execution_count": 50,
   "metadata": {
    "collapsed": true
   },
   "outputs": [],
   "source": [
    "checkData = check1['Time']\n",
    "diff =[]\n",
    "diff_index=[]\n",
    "for i in range(0,len(checkData)-1):\n",
    "    if ( checkData[i+1]-checkData[i] )!=10:\n",
    "        diff.append(checkData[i+1]-checkData[i])\n",
    "        diff_index.append(i)\n",
    "        print 'Error Index Num='+str(i)+' diff='+str( checkData[i+1]-checkData[i] )\n",
    "        print str(i)+'s Data ='+str( checkData[i])\n",
    "        print str(i+1)+'s Data ='+str( checkData[i+1])"
   ]
  },
  {
   "cell_type": "code",
   "execution_count": 51,
   "metadata": {
    "collapsed": true
   },
   "outputs": [],
   "source": [
    "checkData = check2['Time']\n",
    "diff =[]\n",
    "diff_index=[]\n",
    "for i in range(0,len(checkData)-1):\n",
    "    if ( checkData[i+1]-checkData[i] )!=10:\n",
    "        diff.append(checkData[i+1]-checkData[i])\n",
    "        diff_index.append(i)\n",
    "        print 'Error Index Num='+str(i)+' diff='+str( checkData[i+1]-checkData[i] )\n",
    "        print str(i)+'s Data ='+str( checkData[i])\n",
    "        print str(i+1)+'s Data ='+str( checkData[i+1])"
   ]
  },
  {
   "cell_type": "code",
   "execution_count": 52,
   "metadata": {
    "collapsed": true
   },
   "outputs": [],
   "source": [
    "checkData = check3['Time']\n",
    "diff =[]\n",
    "diff_index=[]\n",
    "for i in range(0,len(checkData)-1):\n",
    "    if ( checkData[i+1]-checkData[i] )!=10:\n",
    "        diff.append(checkData[i+1]-checkData[i])\n",
    "        diff_index.append(i)\n",
    "        print 'Error Index Num='+str(i)+' diff='+str( checkData[i+1]-checkData[i] )\n",
    "        print str(i)+'s Data ='+str( checkData[i])\n",
    "        print str(i+1)+'s Data ='+str( checkData[i+1])"
   ]
  },
  {
   "cell_type": "code",
   "execution_count": 53,
   "metadata": {
    "collapsed": true
   },
   "outputs": [],
   "source": [
    "checkData = check4['Time']\n",
    "diff =[]\n",
    "diff_index=[]\n",
    "for i in range(0,len(checkData)-1):\n",
    "    if ( checkData[i+1]-checkData[i] )!=10:\n",
    "        diff.append(checkData[i+1]-checkData[i])\n",
    "        diff_index.append(i)\n",
    "        print 'Error Index Num='+str(i)+' diff='+str( checkData[i+1]-checkData[i] )\n",
    "        print str(i)+'s Data ='+str( checkData[i])\n",
    "        print str(i+1)+'s Data ='+str( checkData[i+1])"
   ]
  },
  {
   "cell_type": "code",
   "execution_count": 54,
   "metadata": {
    "collapsed": false
   },
   "outputs": [
    {
     "name": "stdout",
     "output_type": "stream",
     "text": [
      "Error Index Num=5589 diff=1330\n",
      "5589s Data =65231650\n",
      "5590s Data =65232980\n",
      "Error Index Num=5650 diff=3000\n",
      "5650s Data =65233580\n",
      "5651s Data =65236580\n",
      "Error Index Num=5813 diff=90\n",
      "5813s Data =65238200\n",
      "5814s Data =65238290\n",
      "Error Index Num=5870 diff=430\n",
      "5870s Data =65238850\n",
      "5871s Data =65239280\n",
      "Error Index Num=6266 diff=140\n",
      "6266s Data =65243230\n",
      "6267s Data =65243370\n",
      "Error Index Num=6302 diff=20\n",
      "6302s Data =65243720\n",
      "6303s Data =65243740\n"
     ]
    }
   ],
   "source": [
    "# zero patting\n",
    "checkData = check5['Time']\n",
    "diff =[]\n",
    "diff_index=[]\n",
    "for i in range(0,len(checkData)-1):\n",
    "    if ( checkData[i+1]-checkData[i] )!=10:\n",
    "        diff.append(checkData[i+1]-checkData[i])\n",
    "        diff_index.append(i)\n",
    "        print 'Error Index Num='+str(i)+' diff='+str( checkData[i+1]-checkData[i] )\n",
    "        print str(i)+'s Data ='+str( checkData[i])\n",
    "        print str(i+1)+'s Data ='+str( checkData[i+1])\n"
   ]
  },
  {
   "cell_type": "code",
   "execution_count": 55,
   "metadata": {
    "collapsed": false
   },
   "outputs": [
    {
     "data": {
      "text/plain": [
       "[1330, 3000, 90, 430, 140, 20]"
      ]
     },
     "execution_count": 55,
     "metadata": {},
     "output_type": "execute_result"
    }
   ],
   "source": [
    "diff"
   ]
  },
  {
   "cell_type": "code",
   "execution_count": 56,
   "metadata": {
    "collapsed": false
   },
   "outputs": [
    {
     "data": {
      "text/plain": [
       "[5589, 5650, 5813, 5870, 6266, 6302]"
      ]
     },
     "execution_count": 56,
     "metadata": {},
     "output_type": "execute_result"
    }
   ],
   "source": [
    "diff_index"
   ]
  },
  {
   "cell_type": "markdown",
   "metadata": {
    "collapsed": false
   },
   "source": [
    "2016-06-09\n",
    "\n",
    "歯抜けデータがあったときの対象法２\n",
    "歯抜けしたデータを別の値で埋めるというzero pattingというやり方をする。\n",
    "\n",
    "1. diff, diff_indexに差が１０位外のときの差、その差が生じた時のインデックスを格納する。\n",
    "2. diff_indexに格納されているインデックス番号までのデータをtmpに格納する\n",
    "3. diff_indexに格納されている。10で割ることによって不足している要素数がわかるので、その要素数分までnanを格納する\n"
   ]
  },
  {
   "cell_type": "code",
   "execution_count": 57,
   "metadata": {
    "collapsed": false
   },
   "outputs": [
    {
     "name": "stdout",
     "output_type": "stream",
     "text": [
      "[ 65175760.  65175770.  65175780. ...,  65730600.  65730610.  65730620.]\n",
      "elapsed_time:0.020663022995[sec]\n"
     ]
    }
   ],
   "source": [
    "import time\n",
    "start_time = time.time()\n",
    "       \n",
    "start = 0\n",
    "checkData = check5['Time']\n",
    "\n",
    "tmp = np.array([])\n",
    "for count,l in enumerate(diff_index):\n",
    "    tmp = np.append(tmp, checkData[start:l])\n",
    "    for i in range(0,(diff[count]/10) ):\n",
    "        tmp = np.append(tmp,np.nan)\n",
    "    start = l+1\n",
    "tmp=np.append(tmp, checkData[start:])\n",
    "print tmp\n",
    "#print len(tmp)\n",
    "\n",
    "elapsed_time = time.time() -start_time\n",
    "print (\"elapsed_time:{0}\".format(elapsed_time)) + \"[sec]\""
   ]
  },
  {
   "cell_type": "markdown",
   "metadata": {},
   "source": [
    "歯抜けデータがあったときの対象1\n",
    "\n",
    "歯抜けしたインデックスを区切って別のデータとして保存\n",
    "\n",
    "1. diff, diff_indexに差が１０位外のときの差、その差が生じた時のインデックスを格納する。\n",
    "2. 1.の処理をすべてのセンサーに行う\n",
    "3. diff_indexをソートする\n",
    "4. diff_indexの奇数から偶数番目の区間が共通区間であるからその区間のインデックスを出す"
   ]
  },
  {
   "cell_type": "markdown",
   "metadata": {},
   "source": [
    "対象法１　ステップ１　歯抜けデータのインデックス、そしてそのインデックス"
   ]
  },
  {
   "cell_type": "markdown",
   "metadata": {},
   "source": [
    "ある配列に配列を加えたとき、[1,2,3],[1,3,4]にするためには\n",
    "np.append( daat, np.array(), axis=0)"
   ]
  },
  {
   "cell_type": "markdown",
   "metadata": {},
   "source": [
    "この関数の仕様を決める。入力データは歯抜けのあるデータとする。\n",
    "さっきのアルゴリズムの4番目に追加する。\n",
    "5. その区間の長さをサンプル数に応じた長さで配列を抽出する\n"
   ]
  },
  {
   "cell_type": "code",
   "execution_count": 58,
   "metadata": {
    "collapsed": true
   },
   "outputs": [],
   "source": [
    "samp = 8"
   ]
  },
  {
   "cell_type": "code",
   "execution_count": 59,
   "metadata": {
    "collapsed": false
   },
   "outputs": [
    {
     "data": {
      "text/plain": [
       "6"
      ]
     },
     "execution_count": 59,
     "metadata": {},
     "output_type": "execute_result"
    }
   ],
   "source": [
    "len(diff_index)"
   ]
  },
  {
   "cell_type": "code",
   "execution_count": 60,
   "metadata": {
    "collapsed": false
   },
   "outputs": [
    {
     "data": {
      "text/plain": [
       "[5589, 5650, 5813, 5870, 6266, 6302]"
      ]
     },
     "execution_count": 60,
     "metadata": {},
     "output_type": "execute_result"
    }
   ],
   "source": [
    "diff_index[0:10]"
   ]
  },
  {
   "cell_type": "code",
   "execution_count": 61,
   "metadata": {
    "collapsed": false
   },
   "outputs": [
    {
     "data": {
      "text/plain": [
       "54992"
      ]
     },
     "execution_count": 61,
     "metadata": {},
     "output_type": "execute_result"
    }
   ],
   "source": [
    "len( check5['Time'] )"
   ]
  },
  {
   "cell_type": "markdown",
   "metadata": {},
   "source": [
    "**2016-06-10**\n",
    "***\n",
    "以下のアルゴリズムについて説明する。\n",
    "これのアルゴリズムの目的は、NANデータを含まないが時系列が非連続となっているデータから\n",
    "連続となっている時系列を抽出し、そして抽出したデータを列(width)がサンプル数となるようにして出力する。\n",
    "\n",
    "目的と重複してしまうが、対象とする入力、出力データは\n",
    "入力データ　＝　NANデータを含まないが時系列が非連続となっているデータ\n",
    "出力データ　＝　連続となっている時系列を抽出し、そして抽出したデータを列(width)がサンプル数となるデータ\n",
    "\n",
    "アルゴリズムの流れは\n",
    "ある１つの時刻データから連続となっている部分の最後をdiff_indexに格納する。また、そして格納した時間と次のインデックスの\n",
    "時間の差をdiffに格納する。\n",
    "diff_indexのインデックスと連続となっている部分の最初のデータを抽出する。\n",
    "そして、抽出したデータをwidthをsample数にする。\n",
    "気をつけるとすると、抽出したデータの要素数がサンプル数以上であることが出力する条件である。\n"
   ]
  },
  {
   "cell_type": "markdown",
   "metadata": {},
   "source": [
    "スタート時間をもとめるプログラム"
   ]
  },
  {
   "cell_type": "code",
   "execution_count": 62,
   "metadata": {
    "collapsed": false
   },
   "outputs": [],
   "source": [
    "def ClacStartTime(array):\n",
    "    MAX = min(array[0])\n",
    "    \n",
    "    for i in range(len(array)):\n",
    "        if MAX < min(array[i]):\n",
    "            MAX = min(array[i])\n",
    "     \n",
    "    return  MAX"
   ]
  },
  {
   "cell_type": "code",
   "execution_count": 63,
   "metadata": {
    "collapsed": false
   },
   "outputs": [
    {
     "data": {
      "text/plain": [
       "65175890"
      ]
     },
     "execution_count": 63,
     "metadata": {},
     "output_type": "execute_result"
    }
   ],
   "source": [
    "SensorStartTime=ClacStartTime([check1['Time'],check2['Time'],check3['Time'],check4['Time'],check5['Time']])\n",
    "SensorStartTime"
   ]
  },
  {
   "cell_type": "markdown",
   "metadata": {},
   "source": [
    "ゴール時間をもとめるプログラム"
   ]
  },
  {
   "cell_type": "code",
   "execution_count": 64,
   "metadata": {
    "collapsed": true
   },
   "outputs": [],
   "source": [
    "def ClacGoalTime(array):\n",
    "    MIN = max(array[0])\n",
    "    \n",
    "    for i in range(len(array)):\n",
    "        if MIN > max(array[i]):\n",
    "            MIN = max(array[i])\n",
    "     \n",
    "    return  MIN"
   ]
  },
  {
   "cell_type": "code",
   "execution_count": 65,
   "metadata": {
    "collapsed": false
   },
   "outputs": [
    {
     "data": {
      "text/plain": [
       "65730150"
      ]
     },
     "execution_count": 65,
     "metadata": {},
     "output_type": "execute_result"
    }
   ],
   "source": [
    "SensorGoalTime=ClacGoalTime([check1['Time'],check2['Time'],check3['Time'],check4['Time'],check5['Time']])\n",
    "SensorGoalTime"
   ]
  },
  {
   "cell_type": "markdown",
   "metadata": {},
   "source": [
    "SensorStartTimeに定義した時間を格納した各センサの時系列のインデックスを算出する"
   ]
  },
  {
   "cell_type": "code",
   "execution_count": 66,
   "metadata": {
    "collapsed": false
   },
   "outputs": [],
   "source": [
    "def CalcSearchIndexFromTime(checkData,CompareTime):\n",
    "    count = 0\n",
    "    for i in range(0, len(checkData)):\n",
    "        if CompareTime == checkData[i]:\n",
    "            startNum=i\n",
    "            print 'start index number is '+str(i)\n",
    "            break\n",
    "    return startNum"
   ]
  },
  {
   "cell_type": "code",
   "execution_count": 67,
   "metadata": {
    "collapsed": false
   },
   "outputs": [
    {
     "name": "stdout",
     "output_type": "stream",
     "text": [
      "start index number is 0\n"
     ]
    },
    {
     "data": {
      "text/plain": [
       "0"
      ]
     },
     "execution_count": 67,
     "metadata": {},
     "output_type": "execute_result"
    }
   ],
   "source": [
    "CalcSearchIndexFromTime(check2['Time'],SensorStartTime)"
   ]
  },
  {
   "cell_type": "code",
   "execution_count": 68,
   "metadata": {
    "collapsed": false
   },
   "outputs": [
    {
     "name": "stdout",
     "output_type": "stream",
     "text": [
      "start index number is 55426\n"
     ]
    },
    {
     "data": {
      "text/plain": [
       "55426"
      ]
     },
     "execution_count": 68,
     "metadata": {},
     "output_type": "execute_result"
    }
   ],
   "source": [
    "CalcSearchIndexFromTime(check2['Time'],SensorGoalTime)"
   ]
  },
  {
   "cell_type": "markdown",
   "metadata": {},
   "source": [
    "diff_index,diffに時系列データからあるインデックスとその次のインデックスのデータの差が10msではないインデックス\n",
    "をdiff_indexにすべて格納する。そして、その時の差をdiffに格納する。"
   ]
  },
  {
   "cell_type": "code",
   "execution_count": 69,
   "metadata": {
    "collapsed": false
   },
   "outputs": [],
   "source": [
    "def CalcDiffTimeArray(checkData):\n",
    "    diff =[]\n",
    "    diff_index=[]\n",
    "    for i in range(0,len(checkData)-1):\n",
    "        if ( checkData[i+1]-checkData[i] )!=10:\n",
    "            diff.append(checkData[i+1]-checkData[i])\n",
    "            diff_index.append(i)\n",
    "            print 'Error Index Num='+str(i)+' diff='+str( checkData[i+1]-checkData[i] )\n",
    "            print str(i)+'s Data ='+str( checkData[i])\n",
    "            print str(i+1)+'s Data ='+str( checkData[i+1])\n",
    "    \n",
    "    return diff_index,diff"
   ]
  },
  {
   "cell_type": "code",
   "execution_count": 70,
   "metadata": {
    "collapsed": false
   },
   "outputs": [
    {
     "data": {
      "text/plain": [
       "([], [])"
      ]
     },
     "execution_count": 70,
     "metadata": {},
     "output_type": "execute_result"
    }
   ],
   "source": [
    "CalcDiffTimeArray(check1['Time'])"
   ]
  },
  {
   "cell_type": "code",
   "execution_count": 71,
   "metadata": {
    "collapsed": false
   },
   "outputs": [
    {
     "data": {
      "text/plain": [
       "([], [])"
      ]
     },
     "execution_count": 71,
     "metadata": {},
     "output_type": "execute_result"
    }
   ],
   "source": [
    "CalcDiffTimeArray(check2['Time'])"
   ]
  },
  {
   "cell_type": "code",
   "execution_count": 72,
   "metadata": {
    "collapsed": false
   },
   "outputs": [
    {
     "data": {
      "text/plain": [
       "([], [])"
      ]
     },
     "execution_count": 72,
     "metadata": {},
     "output_type": "execute_result"
    }
   ],
   "source": [
    "CalcDiffTimeArray(check3['Time'])"
   ]
  },
  {
   "cell_type": "code",
   "execution_count": 73,
   "metadata": {
    "collapsed": false
   },
   "outputs": [
    {
     "data": {
      "text/plain": [
       "([], [])"
      ]
     },
     "execution_count": 73,
     "metadata": {},
     "output_type": "execute_result"
    }
   ],
   "source": [
    "CalcDiffTimeArray(check4['Time'])"
   ]
  },
  {
   "cell_type": "code",
   "execution_count": 74,
   "metadata": {
    "collapsed": false
   },
   "outputs": [
    {
     "name": "stdout",
     "output_type": "stream",
     "text": [
      "Error Index Num=5589 diff=1330\n",
      "5589s Data =65231650\n",
      "5590s Data =65232980\n",
      "Error Index Num=5650 diff=3000\n",
      "5650s Data =65233580\n",
      "5651s Data =65236580\n",
      "Error Index Num=5813 diff=90\n",
      "5813s Data =65238200\n",
      "5814s Data =65238290\n",
      "Error Index Num=5870 diff=430\n",
      "5870s Data =65238850\n",
      "5871s Data =65239280\n",
      "Error Index Num=6266 diff=140\n",
      "6266s Data =65243230\n",
      "6267s Data =65243370\n",
      "Error Index Num=6302 diff=20\n",
      "6302s Data =65243720\n",
      "6303s Data =65243740\n"
     ]
    },
    {
     "data": {
      "text/plain": [
       "([5589, 5650, 5813, 5870, 6266, 6302], [1330, 3000, 90, 430, 140, 20])"
      ]
     },
     "execution_count": 74,
     "metadata": {},
     "output_type": "execute_result"
    }
   ],
   "source": [
    "CalcDiffTimeArray(check5['Time'])"
   ]
  },
  {
   "cell_type": "markdown",
   "metadata": {},
   "source": [
    "与えられた配列と、差が10ms生じるインデックスとその差の変数を2つ使って連続データを抽出し、そしてサンプル数に応じた幅の変数を返す"
   ]
  },
  {
   "cell_type": "code",
   "execution_count": 75,
   "metadata": {
    "collapsed": true
   },
   "outputs": [],
   "source": [
    "def CalcWindow(checkData,diff_index,diff):\n",
    "    start_time = time.time()\n",
    "\n",
    "    start = 0    \n",
    "    tmp = np.array([])\n",
    "    OuputData = np.array([0]*samp)\n",
    "\n",
    "    # researve tmp%samp\n",
    "    remainder = 0\n",
    "\n",
    "    for l in range(0,len(diff_index) ):\n",
    "        tmp = np.array( checkData[start:diff_index[l]] )\n",
    "        tmp = tmp[0:len(tmp)-(len(tmp)%samp)]\n",
    "        tmp = tmp.reshape(len(tmp)/samp,samp)\n",
    "        axis, width = tmp.shape\n",
    "        \n",
    "        remainder += len(tmp)%samp\n",
    "\n",
    "        # tmp elements must be over sample num\n",
    "        if tmp.size >= samp:\n",
    "            for i in range( axis ):\n",
    "                OuputData = np.append(OuputData,np.array(tmp[i,:]))\n",
    "        start =diff_index[l]+1\n",
    "\n",
    "    tmp = np.array( checkData[start:] )\n",
    "    tmp = tmp[0:len(tmp)-(len(tmp)%samp)]\n",
    "    tmp = tmp.reshape(len(tmp)/samp,samp)\n",
    "    axis, width = tmp.shape\n",
    "    \n",
    "    remainder += len(tmp)%samp\n",
    "    \n",
    "    if tmp.size >= samp:\n",
    "            for i in range( axis ):\n",
    "                OuputData = np.append(OuputData,tmp[i,:])\n",
    "\n",
    "    OuputData = OuputData.reshape(len(OuputData)/samp,samp)\n",
    "    \n",
    "    elapsed_time = time.time() -start_time\n",
    "    print (\"elapsed_time:{0}\".format(elapsed_time)) + \"[sec]\"\n",
    "    return OuputData"
   ]
  },
  {
   "cell_type": "markdown",
   "metadata": {},
   "source": [
    "下のアルゴリズムは、時系列データからあるインデックスとその次のインデックスのデータの差が10msではないインデックス\n",
    "をdiff_indexにすべて格納する。そして、その時の差をdiffに格納する。\n",
    "\n",
    "そして、そのデータを変数を使って、非連続な時系列データから連続データを取り出す。\n",
    "その方法は、そのdiff_indexの一つ前までを連続な時系列データであるとする。そして、そこまでの配列を\n",
    "別の変数に格納する。そして、新たに作成した変数を列(width)をサンプル数にして、出力する変数に格納する。\n",
    "また、このときのdiff_indexの値に+1をしたインデックス番号を次の連続な時系列データの区間のスタートとする。\n",
    "\n",
    "diff_indexによって分けられた区間分の抽出が終わったら、残りをさきほど同様な流れで出力する変数に加える。"
   ]
  },
  {
   "cell_type": "code",
   "execution_count": 76,
   "metadata": {
    "collapsed": false
   },
   "outputs": [
    {
     "name": "stdout",
     "output_type": "stream",
     "text": [
      "start=0 diff_index=5589 Non-Resize-element 5589\n",
      "axis=698 width=8 All elements=5584\n",
      "__tmp.elements 5584\n",
      "__Output.elements 5584\n",
      "__Remainder 5\n",
      "start=5590 diff_index=5650 Non-Resize-element 60\n",
      "axis=7 width=8 All elements=56\n",
      "__tmp.elements 56\n",
      "__Output.elements 5640\n",
      "__Remainder 9\n",
      "start=5651 diff_index=5813 Non-Resize-element 162\n",
      "axis=20 width=8 All elements=160\n",
      "__tmp.elements 160\n",
      "__Output.elements 5800\n",
      "__Remainder 11\n",
      "start=5814 diff_index=5870 Non-Resize-element 56\n",
      "axis=7 width=8 All elements=56\n",
      "__tmp.elements 56\n",
      "__Output.elements 5856\n",
      "__Remainder 11\n",
      "start=5871 diff_index=6266 Non-Resize-element 395\n",
      "axis=49 width=8 All elements=392\n",
      "__tmp.elements 392\n",
      "__Output.elements 6248\n",
      "__Remainder 14\n",
      "start=6267 diff_index=6302 Non-Resize-element 35\n",
      "axis=4 width=8 All elements=32\n",
      "__tmp.elements 32\n",
      "__Output.elements 6280\n",
      "__Remainder 17\n",
      "__tmp.elements 48688\n",
      "__Output.elements 54968\n",
      "__Remainder 18\n",
      "(6871, 8)\n",
      "[[65175760 65175770 65175780 ..., 65175810 65175820 65175830]\n",
      " [65175840 65175850 65175860 ..., 65175890 65175900 65175910]\n",
      " [65175920 65175930 65175940 ..., 65175970 65175980 65175990]\n",
      " ..., \n",
      " [65730380 65730390 65730400 ..., 65730430 65730440 65730450]\n",
      " [65730460 65730470 65730480 ..., 65730510 65730520 65730530]\n",
      " [65730540 65730550 65730560 ..., 65730590 65730600 65730610]]\n",
      "elapsed_time:0.158617019653[sec]\n"
     ]
    }
   ],
   "source": [
    "start_time = time.time()\n",
    "       \n",
    "goal = 0\n",
    "start = 0\n",
    "checkData = check5['Time']\n",
    "\n",
    "Output = np.empty((0,len(diff_index)+1), int)\n",
    "tmp = np.array([])\n",
    "count = 0\n",
    "Ouput = np.array([0]*samp)\n",
    "\n",
    "# researve tmp%samp\n",
    "remainder = 0\n",
    "\n",
    "for l in range(0,len(diff_index) ):\n",
    "    tmp = np.array( checkData[start:diff_index[l]] )\n",
    "    remainder += len(tmp)%samp\n",
    "    tmp = tmp[0:len(tmp)-(len(tmp)%samp)]\n",
    "    tmp = tmp.reshape(len(tmp)/samp,samp)\n",
    "    axis, width = tmp.shape\n",
    "    print 'start='+str(start)+' diff_index='+str(diff_index[l])+' Non-Resize-element '+str(diff_index[l]-start)\n",
    "    print 'axis='+str(axis)+' width='+str(width)+' All elements='+str(tmp.size)\n",
    "    # tmp elements must be over sample num\n",
    "    if tmp.size >= samp:\n",
    "        for i in range( axis ):\n",
    "            Output = np.append(Output,np.array(tmp[i,:]))\n",
    "    start =diff_index[l]+1\n",
    "    print '__tmp.elements '+str(tmp.size) \n",
    "    print '__Output.elements '+str(Output.size) \n",
    "    print '__Remainder '+str(remainder)   \n",
    "\n",
    "\n",
    "tmp = np.array( checkData[start:] )\n",
    "remainder += len(tmp)%samp\n",
    "tmp = tmp[0:len(tmp)-(len(tmp)%samp)]\n",
    "tmp = tmp.reshape(len(tmp)/samp,samp)\n",
    "axis, width = tmp.shape\n",
    "if tmp.size >= samp:\n",
    "        for i in range( axis ):\n",
    "            Output = np.append(Output,tmp[i,:])\n",
    "            \n",
    "Output = Output.reshape(len(Output)/samp,samp)\n",
    "print '__tmp.elements '+str(tmp.size) \n",
    "print '__Output.elements '+str(Output.size)   \n",
    "print '__Remainder '+str(remainder)   \n",
    "print Output.shape\n",
    "print Output\n",
    "#print len(tmp)\n",
    "\n",
    "elapsed_time = time.time() -start_time\n",
    "print (\"elapsed_time:{0}\".format(elapsed_time)) + \"[sec]\""
   ]
  },
  {
   "cell_type": "markdown",
   "metadata": {},
   "source": [
    "***--------------計算で使用する書く計算--------------***"
   ]
  },
  {
   "cell_type": "markdown",
   "metadata": {},
   "source": [
    "スタート時間をもとめるプログラム"
   ]
  },
  {
   "cell_type": "code",
   "execution_count": 77,
   "metadata": {
    "collapsed": true
   },
   "outputs": [],
   "source": [
    "def ClacStartTime(array):\n",
    "    MAX = min(array[0])\n",
    "    \n",
    "    for i in range(len(array)):\n",
    "        if MAX < min(array[i]):\n",
    "            MAX = min(array[i])\n",
    "     \n",
    "    return  MAX"
   ]
  },
  {
   "cell_type": "code",
   "execution_count": 78,
   "metadata": {
    "collapsed": false
   },
   "outputs": [
    {
     "data": {
      "text/plain": [
       "65175890"
      ]
     },
     "execution_count": 78,
     "metadata": {},
     "output_type": "execute_result"
    }
   ],
   "source": [
    "SensorStartTime=ClacStartTime([check1['Time'],check2['Time'],check3['Time'],check4['Time'],check5['Time']])\n",
    "SensorStartTime"
   ]
  },
  {
   "cell_type": "markdown",
   "metadata": {},
   "source": [
    "ゴール時間をもとめるプログラム"
   ]
  },
  {
   "cell_type": "code",
   "execution_count": 79,
   "metadata": {
    "collapsed": true
   },
   "outputs": [],
   "source": [
    "def ClacGoalTime(array):\n",
    "    MIN = max(array[0])\n",
    "    \n",
    "    for i in range(len(array)):\n",
    "        if MIN > max(array[i]):\n",
    "            MIN = max(array[i])\n",
    "     \n",
    "    return  MIN"
   ]
  },
  {
   "cell_type": "code",
   "execution_count": 80,
   "metadata": {
    "collapsed": false
   },
   "outputs": [
    {
     "data": {
      "text/plain": [
       "65730150"
      ]
     },
     "execution_count": 80,
     "metadata": {},
     "output_type": "execute_result"
    }
   ],
   "source": [
    "SensorGoalTime=ClacGoalTime([check1['Time'],check2['Time'],check3['Time'],check4['Time'],check5['Time']])\n",
    "SensorGoalTime"
   ]
  },
  {
   "cell_type": "markdown",
   "metadata": {},
   "source": [
    "SensorStartTimeに定義した時間を格納した各センサの時系列のインデックスを算出する"
   ]
  },
  {
   "cell_type": "code",
   "execution_count": 81,
   "metadata": {
    "collapsed": true
   },
   "outputs": [],
   "source": [
    "def CalcSearchIndexFromTime(checkData,CompareTime):\n",
    "    count = 0\n",
    "    for i in range(0, len(checkData)):\n",
    "        if CompareTime == checkData[i]:\n",
    "            startNum=i\n",
    "            print 'start index number is '+str(i)\n",
    "            break\n",
    "    return startNum"
   ]
  },
  {
   "cell_type": "code",
   "execution_count": 82,
   "metadata": {
    "collapsed": false
   },
   "outputs": [
    {
     "name": "stdout",
     "output_type": "stream",
     "text": [
      "start index number is 0\n"
     ]
    },
    {
     "data": {
      "text/plain": [
       "0"
      ]
     },
     "execution_count": 82,
     "metadata": {},
     "output_type": "execute_result"
    }
   ],
   "source": [
    "CalcSearchIndexFromTime(check2['Time'],SensorStartTime)"
   ]
  },
  {
   "cell_type": "code",
   "execution_count": 83,
   "metadata": {
    "collapsed": false
   },
   "outputs": [
    {
     "name": "stdout",
     "output_type": "stream",
     "text": [
      "start index number is 55426\n"
     ]
    },
    {
     "data": {
      "text/plain": [
       "55426"
      ]
     },
     "execution_count": 83,
     "metadata": {},
     "output_type": "execute_result"
    }
   ],
   "source": [
    "CalcSearchIndexFromTime(check2['Time'],SensorGoalTime)"
   ]
  },
  {
   "cell_type": "markdown",
   "metadata": {},
   "source": [
    "diff_index,diffに時系列データからあるインデックスとその次のインデックスのデータの差が10msではないインデックス\n",
    "をdiff_indexにすべて格納する。そして、その時の差をdiffに格納する。"
   ]
  },
  {
   "cell_type": "code",
   "execution_count": 84,
   "metadata": {
    "collapsed": true
   },
   "outputs": [],
   "source": [
    "def CalcDiffTimeArray(checkData):\n",
    "    diff =[]\n",
    "    diff_index=[]\n",
    "    for i in range(0,len(checkData)-1):\n",
    "        if ( checkData[i+1]-checkData[i] )!=10:\n",
    "            diff.append(checkData[i+1]-checkData[i])\n",
    "            diff_index.append(i)\n",
    "            print 'Error Index Num='+str(i)+' diff='+str( checkData[i+1]-checkData[i] )\n",
    "            print str(i)+'s Data ='+str( checkData[i])\n",
    "            print str(i+1)+'s Data ='+str( checkData[i+1])\n",
    "    \n",
    "    return diff_index,diff"
   ]
  },
  {
   "cell_type": "code",
   "execution_count": 85,
   "metadata": {
    "collapsed": false
   },
   "outputs": [
    {
     "data": {
      "text/plain": [
       "([], [])"
      ]
     },
     "execution_count": 85,
     "metadata": {},
     "output_type": "execute_result"
    }
   ],
   "source": [
    "CalcDiffTimeArray(check1['Time'])"
   ]
  },
  {
   "cell_type": "code",
   "execution_count": 86,
   "metadata": {
    "collapsed": false
   },
   "outputs": [
    {
     "data": {
      "text/plain": [
       "([], [])"
      ]
     },
     "execution_count": 86,
     "metadata": {},
     "output_type": "execute_result"
    }
   ],
   "source": [
    "CalcDiffTimeArray(check2['Time'])"
   ]
  },
  {
   "cell_type": "code",
   "execution_count": 87,
   "metadata": {
    "collapsed": false
   },
   "outputs": [
    {
     "data": {
      "text/plain": [
       "([], [])"
      ]
     },
     "execution_count": 87,
     "metadata": {},
     "output_type": "execute_result"
    }
   ],
   "source": [
    "CalcDiffTimeArray(check3['Time'])"
   ]
  },
  {
   "cell_type": "code",
   "execution_count": 88,
   "metadata": {
    "collapsed": false
   },
   "outputs": [
    {
     "data": {
      "text/plain": [
       "([], [])"
      ]
     },
     "execution_count": 88,
     "metadata": {},
     "output_type": "execute_result"
    }
   ],
   "source": [
    "CalcDiffTimeArray(check4['Time'])"
   ]
  },
  {
   "cell_type": "code",
   "execution_count": 89,
   "metadata": {
    "collapsed": false
   },
   "outputs": [
    {
     "name": "stdout",
     "output_type": "stream",
     "text": [
      "Error Index Num=5589 diff=1330\n",
      "5589s Data =65231650\n",
      "5590s Data =65232980\n",
      "Error Index Num=5650 diff=3000\n",
      "5650s Data =65233580\n",
      "5651s Data =65236580\n",
      "Error Index Num=5813 diff=90\n",
      "5813s Data =65238200\n",
      "5814s Data =65238290\n",
      "Error Index Num=5870 diff=430\n",
      "5870s Data =65238850\n",
      "5871s Data =65239280\n",
      "Error Index Num=6266 diff=140\n",
      "6266s Data =65243230\n",
      "6267s Data =65243370\n",
      "Error Index Num=6302 diff=20\n",
      "6302s Data =65243720\n",
      "6303s Data =65243740\n"
     ]
    },
    {
     "data": {
      "text/plain": [
       "([5589, 5650, 5813, 5870, 6266, 6302], [1330, 3000, 90, 430, 140, 20])"
      ]
     },
     "execution_count": 89,
     "metadata": {},
     "output_type": "execute_result"
    }
   ],
   "source": [
    "CalcDiffTimeArray(check5['Time'])"
   ]
  },
  {
   "cell_type": "markdown",
   "metadata": {},
   "source": [
    "与えられた配列と、差が10ms生じるインデックスとその差の変数を2つ使って連続データを抽出し、そしてサンプル数に応じた幅の変数を返す"
   ]
  },
  {
   "cell_type": "code",
   "execution_count": 90,
   "metadata": {
    "collapsed": true
   },
   "outputs": [],
   "source": [
    "def CalcWindow(checkData,diff_index,diff):\n",
    "    start_time = time.time()\n",
    "\n",
    "    start = 0    \n",
    "    tmp = np.array([])\n",
    "    OuputData = np.array([0]*samp)\n",
    "\n",
    "    # researve tmp%samp\n",
    "    remainder = 0\n",
    "\n",
    "    for l in range(0,len(diff_index) ):\n",
    "        tmp = np.array( checkData[start:diff_index[l]] )\n",
    "        tmp = tmp[0:len(tmp)-(len(tmp)%samp)]\n",
    "        tmp = tmp.reshape(len(tmp)/samp,samp)\n",
    "        axis, width = tmp.shape\n",
    "        \n",
    "        remainder += len(tmp)%samp\n",
    "\n",
    "        # tmp elements must be over sample num\n",
    "        if tmp.size >= samp:\n",
    "            for i in range( axis ):\n",
    "                OuputData = np.append(OuputData,np.array(tmp[i,:]))\n",
    "        start =diff_index[l]+1\n",
    "\n",
    "    tmp = np.array( checkData[start:] )\n",
    "    tmp = tmp[0:len(tmp)-(len(tmp)%samp)]\n",
    "    tmp = tmp.reshape(len(tmp)/samp,samp)\n",
    "    axis, width = tmp.shape\n",
    "    \n",
    "    remainder += len(tmp)%samp\n",
    "    \n",
    "    if tmp.size >= samp:\n",
    "            for i in range( axis ):\n",
    "                OuputData = np.append(OuputData,tmp[i,:])\n",
    "\n",
    "    OuputData = OuputData.reshape(len(OuputData)/samp,samp)\n",
    "    \n",
    "    elapsed_time = time.time() -start_time\n",
    "    print (\"elapsed_time:{0}\".format(elapsed_time)) + \"[sec]\"\n",
    "    return OuputData"
   ]
  },
  {
   "cell_type": "markdown",
   "metadata": {},
   "source": [
    "**メインアルゴリズム windows抽出方法その２**\n",
    "1. 各センサの時系列データから共通区間のスタート、ゴールを計算\n",
    "2. 共通区間のスタート、ゴールの時間が各センサにあるかどうか調べ、ある場合はそのインデックスを算出する\n",
    "3. 2で算出した値をインデックスに追加したインデックスから共通区間のゴールまで間が連続データか調べる。調べる方法は、あるインデックスとその次のインデックスの差に10以外の結果があるインデックスと、その差を算出する。ここでは、インデックスをdiff_index,その差をdiff_numとする。\n",
    "4. 3.で算出した情報を元に連続データの区間の最後インデックスをdiff_index[i]とする。そして、スタートは最初は0だがその後はdiff_index[i-1]とする。そして、その区間の大きさはサンプル数の倍数とする。そして、その区間を配列に入れその配列の列数をサンプル数と同じ値にする。diff_indexのすべての値を以上の計算したあと、配列に残りがある場合その区間も同様な計算をする\n",
    "\n",
    "5. **Option** 配列１つ一つをnumpyのファイルとして保存する"
   ]
  },
  {
   "cell_type": "code",
   "execution_count": 91,
   "metadata": {
    "collapsed": false,
    "scrolled": false
   },
   "outputs": [
    {
     "name": "stdout",
     "output_type": "stream",
     "text": [
      "start index number is 18\n",
      "start index number is 55444\n",
      "start index number is 0\n",
      "start index number is 55426\n",
      "start index number is 22\n",
      "start index number is 55448\n",
      "start index number is 8\n",
      "start index number is 55434\n",
      "start index number is 13\n",
      "start index number is 54944\n",
      "Error Index Num=5589 diff=1330\n",
      "5589s Data =65231650\n",
      "5590s Data =65232980\n",
      "Error Index Num=5650 diff=3000\n",
      "5650s Data =65233580\n",
      "5651s Data =65236580\n",
      "Error Index Num=5813 diff=90\n",
      "5813s Data =65238200\n",
      "5814s Data =65238290\n",
      "Error Index Num=5870 diff=430\n",
      "5870s Data =65238850\n",
      "5871s Data =65239280\n",
      "Error Index Num=6266 diff=140\n",
      "6266s Data =65243230\n",
      "6267s Data =65243370\n",
      "Error Index Num=6302 diff=20\n",
      "6302s Data =65243720\n",
      "6303s Data =65243740\n",
      "elapsed_time:0.152168035507[sec]\n",
      "(6864, 8)\n",
      "elapsed_time:0.15120100975[sec]\n",
      "(6864, 8)\n",
      "elapsed_time:0.151808023453[sec]\n",
      "(6864, 8)\n",
      "elapsed_time:0.155184030533[sec]\n",
      "(6864, 8)\n",
      "elapsed_time:0.15158200264[sec]\n",
      "(6864, 8)\n",
      "elapsed_time:0.148140907288[sec]\n",
      "elapsed_time:0.14862203598[sec]\n",
      "elapsed_time:0.147994995117[sec]\n",
      "elapsed_time:0.151452064514[sec]\n",
      "elapsed_time:0.151048183441[sec]\n",
      "elapsed_time:0.151051044464[sec]\n",
      "(6864, 8)\n",
      "elapsed_time:0.149174213409[sec]\n",
      "elapsed_time:0.150614976883[sec]\n",
      "elapsed_time:0.149554014206[sec]\n",
      "elapsed_time:0.151233911514[sec]\n",
      "elapsed_time:0.149721860886[sec]\n",
      "elapsed_time:0.151273012161[sec]\n",
      "(6864, 8)\n",
      "elapsed_time:0.146358966827[sec]\n",
      "elapsed_time:0.150923013687[sec]\n",
      "elapsed_time:0.1502430439[sec]\n",
      "elapsed_time:0.147444963455[sec]\n",
      "elapsed_time:0.149807929993[sec]\n",
      "elapsed_time:0.151548862457[sec]\n",
      "(6864, 8)\n",
      "elapsed_time:0.149518966675[sec]\n",
      "elapsed_time:0.150959014893[sec]\n",
      "elapsed_time:0.148981809616[sec]\n",
      "elapsed_time:0.150583028793[sec]\n",
      "elapsed_time:0.14972114563[sec]\n",
      "elapsed_time:0.151198148727[sec]\n",
      "(6864, 8)\n",
      "elapsed_time:0.147552967072[sec]\n",
      "elapsed_time:0.147917032242[sec]\n",
      "elapsed_time:0.146152019501[sec]\n",
      "elapsed_time:0.148333072662[sec]\n",
      "elapsed_time:0.146223068237[sec]\n",
      "elapsed_time:0.148219823837[sec]\n",
      "(6864, 8)\n"
     ]
    }
   ],
   "source": [
    "TimeArrayList = [check1['Time'],check2['Time'],check3['Time'],check4['Time'],check5['Time']]\n",
    "AccXArrayList = [check1['AccX'],check2['AccX'],check3['AccX'],check4['AccX'],check5['AccX']]\n",
    "AccYArrayList = [check1['AccY'],check2['AccY'],check3['AccY'],check4['AccY'],check5['AccY']]\n",
    "AccZArrayList = [check1['AccZ'],check2['AccZ'],check3['AccZ'],check4['AccZ'],check5['AccZ']]\n",
    "GyrXArrayList = [check1['GyrX'],check2['GyrX'],check3['GyrX'],check4['GyrX'],check5['GyrX']]\n",
    "GyrYArrayList = [check1['GyrY'],check2['GyrY'],check3['GyrY'],check4['GyrY'],check5['GyrY']]\n",
    "GyrZArrayList = [check1['GyrZ'],check2['GyrZ'],check3['GyrZ'],check4['GyrZ'],check5['GyrZ']]\n",
    "NameArrayList = ['Sensor1','Sensor2','Sensor3','Sensor4','Sensor5']\n",
    "# phase 1\n",
    "SensorStartTime = ClacStartTime(TimeArrayList)\n",
    "SensorGoalTime = ClacGoalTime(TimeArrayList)\n",
    "\n",
    "for data in TimeArrayList:\n",
    "# phase 2\n",
    "    StartIndex = CalcSearchIndexFromTime(data,SensorStartTime)\n",
    "    GoalIndex = CalcSearchIndexFromTime(data,SensorGoalTime)\n",
    "# phase 3\n",
    "    diffIndex, diffNum=CalcDiffTimeArray(data)\n",
    "    \n",
    "arrayTime=np.array([])\n",
    "arrayAccX=np.array([])\n",
    "arrayAccY=np.array([])\n",
    "arrayAccZ=np.array([])\n",
    "arrayGyrX=np.array([])\n",
    "arrayGyrY=np.array([])\n",
    "arrayGyrZ=np.array([])\n",
    "\n",
    "    \n",
    "for data in TimeArrayList:\n",
    "# phase 4\n",
    "    arrayTime = CalcWindow(data[StartIndex:GoalIndex],diffIndex,diffNum)\n",
    "    print arrayTime.shape\n",
    "\n",
    "for AccX,AccY,AccZ,GyrX,GyrY,GyrZ,Name in zip(AccXArrayList,AccYArrayList,AccZArrayList,GyrXArrayList,GyrYArrayList,GyrZArrayList,NameArrayList):\n",
    "# phase 4\n",
    "    arrayAccX =CalcWindow(AccX[StartIndex:GoalIndex],diffIndex,diffNum)\n",
    "    arrayAccY =CalcWindow(AccY[StartIndex:GoalIndex],diffIndex,diffNum)\n",
    "    arrayAccZ =CalcWindow(AccZ[StartIndex:GoalIndex],diffIndex,diffNum)\n",
    "    arrayGyrX =CalcWindow(GyrX[StartIndex:GoalIndex],diffIndex,diffNum)\n",
    "    arrayGyrY =CalcWindow(GyrY[StartIndex:GoalIndex],diffIndex,diffNum)\n",
    "    arrayGyrZ =CalcWindow(GyrZ[StartIndex:GoalIndex],diffIndex,diffNum)\n",
    "    \n",
    "    axis,width = arrayAccX.shape\n",
    "    for i in range(axis):\n",
    "        tmpAccX=arrayAccX[i,:]\n",
    "        tmpAccY=arrayAccY[i,:]\n",
    "        tmpAccZ=arrayAccZ[i,:]\n",
    "        tmpGyrX=arrayGyrX[i,:]\n",
    "        tmpGyrY=arrayGyrY[i,:]\n",
    "        tmpGyrZ=arrayGyrZ[i,:]\n",
    "        window = np.vstack( (tmpAccX,tmpAccY,tmpAccZ,tmpGyrX,tmpGyrY,tmpGyrZ))\n",
    "        window = window.T\n",
    "        \n",
    "        # phase 5\n",
    "        try:\n",
    "            os.mkdir( str(WORKSPACE_PATH+'window/'+Name) )\n",
    "        except OSError:\n",
    "            pass\n",
    "        p = '/home/takeyama/pywork/ipython/2016-06-06/window/'+Name+'/'+str(i)\n",
    "        np.save(p,window)\n",
    "    print arrayAccX.shape\n",
    "    "
   ]
  },
  {
   "cell_type": "markdown",
   "metadata": {},
   "source": [
    "saveしたnumpyの配列を視覚化するために、２次元配列を３次元配列に変換して見る"
   ]
  },
  {
   "cell_type": "code",
   "execution_count": 130,
   "metadata": {
    "collapsed": false
   },
   "outputs": [
    {
     "data": {
      "text/plain": [
       "<matplotlib.image.AxesImage at 0x7fb26fec3290>"
      ]
     },
     "execution_count": 130,
     "metadata": {},
     "output_type": "execute_result"
    },
    {
     "data": {
      "image/png": "[encoded data removed]",
      "text/plain": [
       "<matplotlib.figure.Figure at 0x7fb2712ba110>"
      ]
     },
     "metadata": {},
     "output_type": "display_data"
    }
   ],
   "source": [
    "p = '/home/takeyama/pywork/ipython/2016-06-06/window/'+'Sensor1'+'/'+str(1)+'.npy'\n",
    "l=np.load(p)\n",
    "l = l*255/l.max()\n",
    "plt.subplot( 131 )\n",
    "plt.imshow( l )\n",
    "\n",
    "p = '/home/takeyama/pywork/ipython/2016-06-06/window/'+'Sensor1'+'/'+str(2)+'.npy'\n",
    "l=np.load(p)\n",
    "l = l*255/l.max()\n",
    "plt.subplot( 132 )\n",
    "plt.imshow( l )\n",
    "\n",
    "p = '/home/takeyama/pywork/ipython/2016-06-06/window/'+'Sensor1'+'/'+str(3)+'.npy'\n",
    "l=np.load(p)\n",
    "l = l*255/l.max()\n",
    "plt.subplot( 133 )\n",
    "plt.imshow( l )"
   ]
  },
  {
   "cell_type": "code",
   "execution_count": 93,
   "metadata": {
    "collapsed": false
   },
   "outputs": [
    {
     "name": "stdout",
     "output_type": "stream",
     "text": [
      "[[  1.72500000e-01  -1.17070000e+00  -2.61400000e-01  -3.15000000e+01\n",
      "   -7.08300000e+01  -5.33000000e+00]\n",
      " [  1.57400000e-01  -1.18710000e+00  -2.19700000e-01  -3.78400000e+01\n",
      "   -6.51100000e+01  -7.74000000e+00]\n",
      " [  1.01000000e-01  -1.14610000e+00  -1.52500000e-01  -4.59300000e+01\n",
      "   -6.92100000e+01  -1.00000000e+01]\n",
      " [  7.15000000e-02  -1.15800000e+00  -2.01600000e-01  -5.15300000e+01\n",
      "   -6.68000000e+01  -9.54000000e+00]\n",
      " [  4.29000000e-02  -1.12160000e+00  -2.46500000e-01  -4.92300000e+01\n",
      "   -5.94000000e+01  -1.29300000e+01]\n",
      " [  5.17000000e-02  -1.11630000e+00  -2.32800000e-01  -3.85300000e+01\n",
      "   -5.64200000e+01  -1.45200000e+01]\n",
      " [  5.14000000e-02  -1.11140000e+00  -2.11900000e-01  -2.92000000e+01\n",
      "   -5.72000000e+01  -1.39300000e+01]\n",
      " [  3.22000000e-02  -1.10040000e+00  -1.96200000e-01  -2.17600000e+01\n",
      "   -6.43100000e+01  -1.54400000e+01]]\n"
     ]
    }
   ],
   "source": [
    "print window"
   ]
  },
  {
   "cell_type": "code",
   "execution_count": 94,
   "metadata": {
    "collapsed": false
   },
   "outputs": [
    {
     "name": "stdout",
     "output_type": "stream",
     "text": [
      "[[  1.72500000e-01   1.57400000e-01   1.01000000e-01   7.15000000e-02\n",
      "    4.29000000e-02   5.17000000e-02   5.14000000e-02   3.22000000e-02]\n",
      " [ -1.17070000e+00  -1.18710000e+00  -1.14610000e+00  -1.15800000e+00\n",
      "   -1.12160000e+00  -1.11630000e+00  -1.11140000e+00  -1.10040000e+00]\n",
      " [ -2.61400000e-01  -2.19700000e-01  -1.52500000e-01  -2.01600000e-01\n",
      "   -2.46500000e-01  -2.32800000e-01  -2.11900000e-01  -1.96200000e-01]\n",
      " [ -3.15000000e+01  -3.78400000e+01  -4.59300000e+01  -5.15300000e+01\n",
      "   -4.92300000e+01  -3.85300000e+01  -2.92000000e+01  -2.17600000e+01]\n",
      " [ -7.08300000e+01  -6.51100000e+01  -6.92100000e+01  -6.68000000e+01\n",
      "   -5.94000000e+01  -5.64200000e+01  -5.72000000e+01  -6.43100000e+01]\n",
      " [ -5.33000000e+00  -7.74000000e+00  -1.00000000e+01  -9.54000000e+00\n",
      "   -1.29300000e+01  -1.45200000e+01  -1.39300000e+01  -1.54400000e+01]]\n"
     ]
    }
   ],
   "source": [
    "print window.T"
   ]
  },
  {
   "cell_type": "code",
   "execution_count": 95,
   "metadata": {
    "collapsed": false
   },
   "outputs": [
    {
     "data": {
      "text/plain": [
       "array([[0, 1, 2, 3, 4, 5],\n",
       "       [1, 2, 3, 4, 5, 6]])"
      ]
     },
     "execution_count": 95,
     "metadata": {},
     "output_type": "execute_result"
    }
   ],
   "source": [
    "# 2次元配列のHstackの効果\n",
    "a=np.array([[0,1,2],[1,2,3]])\n",
    "b=np.array([[3,4,5],[4,5,6]])\n",
    "\n",
    "c=np.hstack((a,b))\n",
    "c"
   ]
  },
  {
   "cell_type": "code",
   "execution_count": 96,
   "metadata": {
    "collapsed": false
   },
   "outputs": [
    {
     "name": "stdout",
     "output_type": "stream",
     "text": [
      "[1 2 3]\n",
      "[[0 1]\n",
      " [1 2]\n",
      " [2 3]]\n"
     ]
    }
   ],
   "source": [
    "# 列指定して、転値ができるかどうか\n",
    "print a[1,:]\n",
    "print a.T\n"
   ]
  },
  {
   "cell_type": "markdown",
   "metadata": {},
   "source": [
    "具体的なnumpyのloadtxt,genfromtxtの違い"
   ]
  },
  {
   "cell_type": "markdown",
   "metadata": {
    "collapsed": true
   },
   "source": [
    "np.loadtxt('left-hand.csv',delimiter=',',usecols=(2,3,4))"
   ]
  },
  {
   "cell_type": "markdown",
   "metadata": {},
   "source": [
    "np.genfromtxt('left-hand.csv',delimiter=',',usecols=(2,3,4))"
   ]
  },
  {
   "cell_type": "code",
   "execution_count": null,
   "metadata": {
    "collapsed": true
   },
   "outputs": [],
   "source": []
  }
 ],
 "metadata": {
  "kernelspec": {
   "display_name": "Python 2",
   "language": "python",
   "name": "python2"
  },
  "language_info": {
   "codemirror_mode": {
    "name": "ipython",
    "version": 2
   },
   "file_extension": ".py",
   "mimetype": "text/x-python",
   "name": "python",
   "nbconvert_exporter": "python",
   "pygments_lexer": "ipython2",
   "version": "2.7.11"
  }
 },
 "nbformat": 4,
 "nbformat_minor": 0
}
