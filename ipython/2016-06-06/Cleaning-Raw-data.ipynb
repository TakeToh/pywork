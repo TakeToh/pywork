{
 "cells": [
  {
   "cell_type": "code",
   "execution_count": 23,
   "metadata": {
    "collapsed": true
   },
   "outputs": [],
   "source": [
    "import numpy as np\n",
    "import pandas as pd\n",
    "from scipy import fftpack\n",
    "from scipy import signal\n",
    "import datetime\n",
    "import pickle\n",
    "import time \n",
    "%matplotlib inline"
   ]
  },
  {
   "cell_type": "code",
   "execution_count": 2,
   "metadata": {
    "collapsed": false
   },
   "outputs": [
    {
     "name": "stdout",
     "output_type": "stream",
     "text": [
      "/home/takeyama/Documents/SyncRecord/cleaning-addingLABEL\n"
     ]
    }
   ],
   "source": [
    "cd ~/Documents/SyncRecord/cleaning-addingLABEL/"
   ]
  },
  {
   "cell_type": "code",
   "execution_count": 3,
   "metadata": {
    "collapsed": true
   },
   "outputs": [],
   "source": [
    "class RecordData:\n",
    "    \n",
    "    def __init__(self):\n",
    "        print \"__class__\"\n",
    "        # raw data\n",
    "        self._AccX=np.array([])\n",
    "        self._AccY=np.array([])\n",
    "        self._AccZ=np.array([])\n",
    "        self._GyrX=np.array([])\n",
    "        self._GyrY=np.array([])\n",
    "        self._GyrZ=np.array([])\n",
    "        self._Columns=np.array([])\n",
    "        \n",
    "        # fft data\n",
    "        self._fft_AccX=np.array([])\n",
    "        self._fft_AccY=np.array([])\n",
    "        self._fft_AccZ=np.array([])\n",
    "        self._fft_GyrX=np.array([])\n",
    "        self._fft_GyrY=np.array([])\n",
    "        self._fft_GyrZ=np.array([])\n",
    "\n",
    "        # power spectol data\n",
    "        self._power_AccX=np.array([])\n",
    "        self._power_AccY=np.array([])\n",
    "        self._power_AccZ=np.array([])\n",
    "        self._power_GyrX=np.array([])\n",
    "        self._power_GyrY=np.array([])\n",
    "        self._power_GyrZ=np.array([])\n",
    "        \n",
    "    def ImportCSV(self,csv_file):\n",
    "        # design dataframe\n",
    "        self._data = pd.read_csv(csv_file,encoding=\"SHIFT-JIS\")\n",
    "        self._data.columns=[u'Type',u'Time',u'AccX',u'AccY',u'AccZ',u'GyrX',u'GyrY',u'GyrZ']\n",
    "        self._data.Time=pd.to_datetime(self._data.Time)\n",
    "        self._data = pd.pivot_table(self._data,values=[u'AccX',u'AccY',u'AccZ',u'GyrX',u'GyrY',u'GyrZ'],index=[u'Time'])\n",
    "        \n",
    "        # convert numpy.darray\n",
    "        self._AccX=self._data.AccX.values\n",
    "        self._AccY=self._data.AccY.values\n",
    "        self._AccZ=self._data.AccZ.values\n",
    "        self._GyrX=self._data.GyrX.values\n",
    "        self._GyrY=self._data.GyrY.values\n",
    "        self._GyrZ=self._data.GyrZ.values\n",
    "        self._Time=self._data.index.to_pydatetime().astype('datetime64[ns]')\n",
    "        self._Columns=['Time','AccX','AccY','AccZ','GyrX','GyrY','GyrZ']\n",
    "        self._fft_col=['fft_AccX','fft_AccY','fft_AccZ','fft_GyrX','fft_GyrY','fft_GyrZ']\n",
    "        self._power_col=['power_AccX','power_AccY','power_AccZ','power_GyrX','power_GyrY','power_GyrZ']\n",
    "    \n",
    "    def GetColumns(self):\n",
    "        return self._Columns\n",
    "\n",
    "    def ShowAllDf(self):\n",
    "        print self._AccX;print self._AccY;print self._AccZ;print self._GyrX;print self._GyrY;print self._GyrZ;print self._Time\n",
    "        \n",
    "    def _String2Var(self,Sname):\n",
    "        if(Sname=='AccX'):return self._AccX\n",
    "        elif(Sname=='AccY'):return self._AccY\n",
    "        elif(Sname=='AccZ'):return self._AccZ\n",
    "        elif(Sname=='GyrX'):return self._GyrX\n",
    "        elif(Sname=='GyrY'):return self._GyrY\n",
    "        elif(Sname=='GyrZ'):return self._GyrZ\n",
    "        elif(Sname=='Time'):return self._Time\n",
    "        else:print 'Wrong Axis Name'\n",
    "    \n",
    "    def _Time2Num(self,time):\n",
    "        index=np.where(test._Time==np.datetime64(time) )\n",
    "        return index[0][0]    \n",
    "    \n",
    "    def _Query(self,Sname,rng=[]):\n",
    "        data = self._String2Var(Sname)\n",
    "        return data[rng[0]:rng[1]]\n",
    "            \n",
    "    def GetLength(self,Sname):\n",
    "        data = _String2Var(Sname)\n",
    "        print Sname+' length ='+str( len(data) )\n",
    "            \n",
    "    def ShowQuery(self,Sname,rng=[]):\n",
    "        data = self._String2Var(Sname)\n",
    "        print Sname+':'+str( data[rng[0]:rng[1]])\n",
    "            \n",
    "    def _sliding_window(self,Sname,samp, overlap):\n",
    "        count =0\n",
    "        s =self._Time[0]\n",
    "        start=self._Time2Num(s)\n",
    "        g = s+np.timedelta64(samp*10,'ms')\n",
    "        goal= self._Time2Num(g)\n",
    "        yield self._Query(Sname,[start,goal])\n",
    "        \n",
    "        add=overlap*0.01\n",
    "        \n",
    "        while True:\n",
    "            try:\n",
    "                count +=1\n",
    "                s =s+np.timedelta64(samp*10,'ms')\n",
    "                start=self._Time2Num(s)\n",
    "                g  =s+np.timedelta64(samp*10,'ms')\n",
    "                goal= self._Time2Num(g)\n",
    "                yield self._Query(Sname,[start,goal])\n",
    "            except StopIteration:\n",
    "                print '_sliding_window StopIteration'\n",
    "                break   \n",
    "            except IndexError:\n",
    "                print '_sliding_window IndexError'\n",
    "                break   \n",
    "    def _set_fft(self,Sname,array):\n",
    "        #print array\n",
    "        if(Sname=='fft_AccX'):   self._fft_AccX=np.append(self._fft_AccX,np.array([array]) )\n",
    "        elif(Sname=='fft_AccY'): self._fft_AccY=np.append(self._fft_AccY,np.array([array]) )\n",
    "        elif(Sname=='fft_AccZ'): self._fft_AccZ=np.append(self._fft_AccZ,np.array([array]) )\n",
    "        elif(Sname=='fft_GyrX'): self._fft_GyrX=np.append(self._fft_GyrX,np.array([array]) )\n",
    "        elif(Sname=='fft_GyrY'): self._fft_GyrY=np.append(self._fft_GyrY,np.array([array]) )\n",
    "        elif(Sname=='fft_GyrZ'): self._fft_GyrZ=np.append(self._fft_GyrZ,np.array([array]) )\n",
    "        else:print 'Wrong Axis Name'\n",
    "            \n",
    "    def _GetFFT(self,Sfft,samp):\n",
    "        return np.load(p_path+'fft/'+Sfft+'_'+str(samp)+'.npz')['arr_0']\n",
    "    \n",
    "    def _GetPower(self,Spower,samp):\n",
    "        return np.load(p_path+'power/'+Spower+'_'+str(samp)+'.npz')['arr_0']\n",
    "    \n",
    "    def CalcFFT(self,samp,overlap=0.5):\n",
    "        for n,f in zip( self._Columns[1:],self._fft_col):\n",
    "            print 'start'+n+'->'+f\n",
    "            sw = self._sliding_window(n,samp,overlap)\n",
    "            count=0\n",
    "            while True:\n",
    "                try:\n",
    "                    #print 'count ='+str(count)\n",
    "                    d=sw.next()\n",
    "                    # fftの直流成分を除くsample/2のみ\n",
    "                    self._set_fft(f,fftpack.fft(d)[1:(samp/2)+1])     \n",
    "                    count = count+1\n",
    "                except StopIteration:\n",
    "                    print 'CalcFFTStopIteration'\n",
    "                    break   \n",
    "                    \n",
    "        self._fft_AccX=self._fft_AccX.reshape(len(self._fft_AccX)/(samp/2),(samp/2) )\n",
    "        self._fft_AccY=self._fft_AccY.reshape(len(self._fft_AccY)/(samp/2),(samp/2) )\n",
    "        self._fft_AccZ=self._fft_AccZ.reshape(len(self._fft_AccZ)/(samp/2),(samp/2) )\n",
    "        self._fft_GyrX=self._fft_GyrX.reshape(len(self._fft_GyrX)/(samp/2),(samp/2) )\n",
    "        self._fft_GyrY=self._fft_GyrY.reshape(len(self._fft_GyrY)/(samp/2),(samp/2) )\n",
    "        self._fft_GyrZ=self._fft_GyrZ.reshape(len(self._fft_GyrZ)/(samp/2),(samp/2) )\n",
    "        \n",
    "        np.savez(p_path+'fft/'+'fft_AccX_'+str(samp),self._fft_AccX)\n",
    "        np.savez(p_path+'fft/'+'fft_AccY_'+str(samp),self._fft_AccY)\n",
    "        np.savez(p_path+'fft/'+'fft_AccZ_'+str(samp),self._fft_AccZ)\n",
    "        np.savez(p_path+'fft/'+'fft_GyrX_'+str(samp),self._fft_GyrX)\n",
    "        np.savez(p_path+'fft/'+'fft_GyrY_'+str(samp),self._fft_GyrY)\n",
    "        np.savez(p_path+'fft/'+'fft_GyrZ_'+str(samp),self._fft_GyrZ)\n",
    "\n",
    "        \n",
    "    def _power(self,fft_array):\n",
    "        p=lambda x,y : np.sqrt(x**2+y**2)\n",
    "        power_array=np.array([])\n",
    "        for vector in fft_array:\n",
    "            tmp = p( np.real(vector),np.imag(vector) )\n",
    "            tmp = tmp/np.sum(tmp)\n",
    "            power_array = np.append(power_array,tmp)\n",
    "        return power_array\n",
    "        \n",
    "    def CalcPower(self,samp,overlap=0.5):\n",
    "        local_fft_AccX=np.load(p_path+'fft/'+'fft_AccX_'+str(samp)+'.npz')['arr_0']\n",
    "        local_fft_AccY=np.load(p_path+'fft/'+'fft_AccY_'+str(samp)+'.npz')['arr_0']\n",
    "        local_fft_AccZ=np.load(p_path+'fft/'+'fft_AccZ_'+str(samp)+'.npz')['arr_0']\n",
    "        local_fft_GyrX=np.load(p_path+'fft/'+'fft_GyrX_'+str(samp)+'.npz')['arr_0']\n",
    "        local_fft_GyrY=np.load(p_path+'fft/'+'fft_GyrY_'+str(samp)+'.npz')['arr_0']\n",
    "        local_fft_GyrZ=np.load(p_path+'fft/'+'fft_GyrZ_'+str(samp)+'.npz')['arr_0']\n",
    "           \n",
    "        self._power_AccX = self._power(local_fft_AccX)\n",
    "        self._power_AccY = self._power(local_fft_AccY)\n",
    "        self._power_AccZ = self._power(local_fft_AccZ)\n",
    "        self._power_GyrX = self._power(local_fft_GyrX)\n",
    "        self._power_GyrY = self._power(local_fft_GyrY)\n",
    "        self._power_GyrZ = self._power(local_fft_GyrZ)\n",
    "\n",
    "        np.savez(p_path+'power/'+'power_AccX_'+str(samp),self._power_AccX)\n",
    "        np.savez(p_path+'power/'+'power_AccY_'+str(samp),self._power_AccY)\n",
    "        np.savez(p_path+'power/'+'power_AccZ_'+str(samp),self._power_AccZ)\n",
    "        np.savez(p_path+'power/'+'power_GyrX_'+str(samp),self._power_GyrX)\n",
    "        np.savez(p_path+'power/'+'power_GyrY_'+str(samp),self._power_GyrY)\n",
    "        np.savez(p_path+'power/'+'power_GyrZ_'+str(samp),self._power_GyrZ)\n",
    "        \n",
    "    def _KLD(self,vect1,vect2):\n",
    "        f =lambda p,q : np.sum(p * np.log(p / q), axis=(p.ndim - 1))\n",
    "        kld_array=np.array([])\n",
    "        for vector1 in vect1:\n",
    "            for vector2 in vect2:\n",
    "                tmp = f( vector1, vector2 )\n",
    "                kld_array = np.append(kld_array,tmp)\n",
    "        return kld_array\n",
    "    \n",
    "    def CalcKLD(self,Sarray1,Sarray2,samp):\n",
    "        dist1 = self._GetPower(Sarray1,samp)\n",
    "        dist2 = self._GetPower(Sarray2,samp)\n",
    "        \n",
    "        self._kld = self._KLD(dist1,dist2)    \n",
    "        np.savez(p_path+'kld/'+Sarray1+'_VS_'+Sarray2,self._kld)\n",
    "        \n",
    "    def ShowKLD(self,Sarray1,Sarray2,samp):\n",
    "        tmp = np.load(p_path+'kld/'+Sarray1+'_VS_'+Sarray2+'.npz')['arr_0']\n",
    "        print Sarray1+'_VS_'+Sarray2+'Kullback–Leibler Divergence'\n",
    "        print 'shape ='+str(tmp.shape)\n",
    "        print tmp\n",
    "        \n",
    "    def _JSD(self,vect1,vect2):\n",
    "        f =lambda p,q : 0.5*self._KLD(p,(0.5*(p+q)) )+0.5*self._KLD(q,(0.5*(p+q)) )\n",
    "        kld_array=np.array([])\n",
    "        for vector1 in vect1:\n",
    "            for vector2 in vect2:\n",
    "                tmp = f( vector1, vector2 )\n",
    "                kld_array = np.append(kld_array,tmp)\n",
    "        return kld_array\n",
    "        \n",
    "    def CalcJSD(self,Sarray1,Sarray2,samp):\n",
    "        dist1 = self._GetPower(Sarray1,samp)\n",
    "        dist2 = self._GetPower(Sarray2,samp)\n",
    "        \n",
    "        self._jsd = self._JSD(dist1,dist2)    \n",
    "        np.savez(p_path+'jsd/'+Sarray1+'_VS_'+Sarray2,self._jsd)\n",
    "        \n",
    "    def ShowJSD(self,Sarray1,Sarray2,samp):\n",
    "        tmp = np.load(p_path+'jsd/'+Sarray1+'_VS_'+Sarray2+'.npz')['arr_0']\n",
    "        print Sarray1+'_VS_'+Sarray2+'Jensen-Shannon Divergence'\n",
    "        print 'shape ='+str(tmp.shape)\n",
    "        print tmp\n",
    "        \n",
    "        \n",
    "    def ShowFFT(self,name):\n",
    "        data = self._String2Var(name)\n",
    "        print data"
   ]
  },
  {
   "cell_type": "code",
   "execution_count": 4,
   "metadata": {
    "collapsed": false
   },
   "outputs": [
    {
     "name": "stdout",
     "output_type": "stream",
     "text": [
      "__class__\n",
      "__class__\n"
     ]
    }
   ],
   "source": [
    "west=RecordData()\n",
    "west.ImportCSV('Conv-west-ags.csv')\n",
    "\n",
    "left_hand=RecordData()\n",
    "left_hand.ImportCSV('Conv-left-hand-ags.csv')"
   ]
  },
  {
   "cell_type": "code",
   "execution_count": 5,
   "metadata": {
    "collapsed": false
   },
   "outputs": [
    {
     "data": {
      "text/plain": [
       "array(['2016-05-27T18:06:15.748000000', '2016-05-27T18:06:15.758000000',\n",
       "       '2016-05-27T18:06:15.768000000', ...,\n",
       "       '2016-05-27T18:15:30.598000000', '2016-05-27T18:15:30.608000000',\n",
       "       '2016-05-27T18:15:30.618000000'], dtype='datetime64[ns]')"
      ]
     },
     "execution_count": 5,
     "metadata": {},
     "output_type": "execute_result"
    }
   ],
   "source": [
    "west._Time\n"
   ]
  },
  {
   "cell_type": "code",
   "execution_count": 6,
   "metadata": {
    "collapsed": false
   },
   "outputs": [
    {
     "data": {
      "text/plain": [
       "array(['2016-05-27T18:06:15.696000000', '2016-05-27T18:06:15.706000000',\n",
       "       '2016-05-27T18:06:15.716000000', ...,\n",
       "       '2016-05-27T18:15:30.376000000', '2016-05-27T18:15:30.386000000',\n",
       "       '2016-05-27T18:15:30.396000000'], dtype='datetime64[ns]')"
      ]
     },
     "execution_count": 6,
     "metadata": {},
     "output_type": "execute_result"
    }
   ],
   "source": [
    "left_hand._Time"
   ]
  },
  {
   "cell_type": "code",
   "execution_count": 7,
   "metadata": {
    "collapsed": false
   },
   "outputs": [],
   "source": [
    "label = pd.read_csv('label-data.csv')\n",
    "label.columns=[u'Time',u'info1',u'info2',u'info3']\n",
    "label.Time=pd.to_datetime(label.Time)"
   ]
  },
  {
   "cell_type": "code",
   "execution_count": 8,
   "metadata": {
    "collapsed": false
   },
   "outputs": [
    {
     "data": {
      "text/html": [
       "<div>\n",
       "<table border=\"1\" class=\"dataframe\">\n",
       "  <thead>\n",
       "    <tr style=\"text-align: right;\">\n",
       "      <th></th>\n",
       "      <th>Time</th>\n",
       "      <th>info1</th>\n",
       "      <th>info2</th>\n",
       "      <th>info3</th>\n",
       "    </tr>\n",
       "  </thead>\n",
       "  <tbody>\n",
       "    <tr>\n",
       "      <th>0</th>\n",
       "      <td>2016-05-27 18:06:15.696</td>\n",
       "      <td>walking</td>\n",
       "      <td>NaN</td>\n",
       "      <td>NaN</td>\n",
       "    </tr>\n",
       "    <tr>\n",
       "      <th>1</th>\n",
       "      <td>2016-05-27 18:06:18.745</td>\n",
       "      <td>walking-turn</td>\n",
       "      <td>NaN</td>\n",
       "      <td>NaN</td>\n",
       "    </tr>\n",
       "    <tr>\n",
       "      <th>2</th>\n",
       "      <td>2016-05-27 18:06:19.570</td>\n",
       "      <td>walking</td>\n",
       "      <td>NaN</td>\n",
       "      <td>NaN</td>\n",
       "    </tr>\n",
       "    <tr>\n",
       "      <th>3</th>\n",
       "      <td>2016-05-27 18:06:23.588</td>\n",
       "      <td>walking-turn</td>\n",
       "      <td>NaN</td>\n",
       "      <td>NaN</td>\n",
       "    </tr>\n",
       "    <tr>\n",
       "      <th>4</th>\n",
       "      <td>2016-05-27 18:06:24.492</td>\n",
       "      <td>walking</td>\n",
       "      <td>NaN</td>\n",
       "      <td>NaN</td>\n",
       "    </tr>\n",
       "    <tr>\n",
       "      <th>5</th>\n",
       "      <td>2016-05-27 18:06:28.200</td>\n",
       "      <td>walking-turn</td>\n",
       "      <td>NaN</td>\n",
       "      <td>NaN</td>\n",
       "    </tr>\n",
       "    <tr>\n",
       "      <th>6</th>\n",
       "      <td>2016-05-27 18:06:29.954</td>\n",
       "      <td>walking</td>\n",
       "      <td>NaN</td>\n",
       "      <td>NaN</td>\n",
       "    </tr>\n",
       "    <tr>\n",
       "      <th>7</th>\n",
       "      <td>2016-05-27 18:06:33.333</td>\n",
       "      <td>walking-turn</td>\n",
       "      <td>NaN</td>\n",
       "      <td>NaN</td>\n",
       "    </tr>\n",
       "    <tr>\n",
       "      <th>8</th>\n",
       "      <td>2016-05-27 18:06:34.999</td>\n",
       "      <td>walking</td>\n",
       "      <td>NaN</td>\n",
       "      <td>NaN</td>\n",
       "    </tr>\n",
       "    <tr>\n",
       "      <th>9</th>\n",
       "      <td>2016-05-27 18:06:39.181</td>\n",
       "      <td>walking-turn</td>\n",
       "      <td>NaN</td>\n",
       "      <td>NaN</td>\n",
       "    </tr>\n",
       "    <tr>\n",
       "      <th>10</th>\n",
       "      <td>2016-05-27 18:06:44.914</td>\n",
       "      <td>walking-turn</td>\n",
       "      <td>NaN</td>\n",
       "      <td>NaN</td>\n",
       "    </tr>\n",
       "    <tr>\n",
       "      <th>11</th>\n",
       "      <td>2016-05-27 18:06:45.904</td>\n",
       "      <td>walking-back-arm</td>\n",
       "      <td>NaN</td>\n",
       "      <td>NaN</td>\n",
       "    </tr>\n",
       "    <tr>\n",
       "      <th>12</th>\n",
       "      <td>2016-05-27 18:06:50.468</td>\n",
       "      <td>walking-back-arm-turn</td>\n",
       "      <td>NaN</td>\n",
       "      <td>NaN</td>\n",
       "    </tr>\n",
       "    <tr>\n",
       "      <th>13</th>\n",
       "      <td>2016-05-27 18:06:51.878</td>\n",
       "      <td>walking-back-arm</td>\n",
       "      <td>NaN</td>\n",
       "      <td>NaN</td>\n",
       "    </tr>\n",
       "    <tr>\n",
       "      <th>14</th>\n",
       "      <td>2016-05-27 18:06:55.595</td>\n",
       "      <td>walking-back-arm-turn</td>\n",
       "      <td>NaN</td>\n",
       "      <td>NaN</td>\n",
       "    </tr>\n",
       "    <tr>\n",
       "      <th>15</th>\n",
       "      <td>2016-05-27 18:06:57.390</td>\n",
       "      <td>walking-back-arm</td>\n",
       "      <td>NaN</td>\n",
       "      <td>NaN</td>\n",
       "    </tr>\n",
       "    <tr>\n",
       "      <th>16</th>\n",
       "      <td>2016-05-27 18:07:00.560</td>\n",
       "      <td>walking-cross-arm</td>\n",
       "      <td>NaN</td>\n",
       "      <td>NaN</td>\n",
       "    </tr>\n",
       "    <tr>\n",
       "      <th>17</th>\n",
       "      <td>2016-05-27 18:07:01.884</td>\n",
       "      <td>walking-cross-arm-turn</td>\n",
       "      <td>NaN</td>\n",
       "      <td>NaN</td>\n",
       "    </tr>\n",
       "    <tr>\n",
       "      <th>18</th>\n",
       "      <td>2016-05-27 18:07:03.487</td>\n",
       "      <td>walking-cross-arm</td>\n",
       "      <td>NaN</td>\n",
       "      <td>NaN</td>\n",
       "    </tr>\n",
       "    <tr>\n",
       "      <th>19</th>\n",
       "      <td>2016-05-27 18:07:07.542</td>\n",
       "      <td>walking-cross-arm-turn</td>\n",
       "      <td>NaN</td>\n",
       "      <td>NaN</td>\n",
       "    </tr>\n",
       "    <tr>\n",
       "      <th>20</th>\n",
       "      <td>2016-05-27 18:07:09.139</td>\n",
       "      <td>walking-cross-arm</td>\n",
       "      <td>NaN</td>\n",
       "      <td>NaN</td>\n",
       "    </tr>\n",
       "    <tr>\n",
       "      <th>21</th>\n",
       "      <td>2016-05-27 18:07:13.208</td>\n",
       "      <td>walking-cross-arm-turn</td>\n",
       "      <td>NaN</td>\n",
       "      <td>NaN</td>\n",
       "    </tr>\n",
       "    <tr>\n",
       "      <th>22</th>\n",
       "      <td>2016-05-27 18:07:15.430</td>\n",
       "      <td>walking-cross-arm</td>\n",
       "      <td>NaN</td>\n",
       "      <td>NaN</td>\n",
       "    </tr>\n",
       "    <tr>\n",
       "      <th>23</th>\n",
       "      <td>2016-05-27 18:07:19.466</td>\n",
       "      <td>walking-cross-arm-turn</td>\n",
       "      <td>NaN</td>\n",
       "      <td>NaN</td>\n",
       "    </tr>\n",
       "    <tr>\n",
       "      <th>24</th>\n",
       "      <td>2016-05-27 18:07:21.022</td>\n",
       "      <td>walking-cross-arm</td>\n",
       "      <td>NaN</td>\n",
       "      <td>NaN</td>\n",
       "    </tr>\n",
       "    <tr>\n",
       "      <th>25</th>\n",
       "      <td>2016-05-27 18:07:23.462</td>\n",
       "      <td>walking</td>\n",
       "      <td>NaN</td>\n",
       "      <td>NaN</td>\n",
       "    </tr>\n",
       "    <tr>\n",
       "      <th>26</th>\n",
       "      <td>2016-05-27 18:07:24.360</td>\n",
       "      <td>grap-small-box</td>\n",
       "      <td>NaN</td>\n",
       "      <td>NaN</td>\n",
       "    </tr>\n",
       "    <tr>\n",
       "      <th>27</th>\n",
       "      <td>2016-05-27 18:07:25.316</td>\n",
       "      <td>rift-small-box</td>\n",
       "      <td>NaN</td>\n",
       "      <td>NaN</td>\n",
       "    </tr>\n",
       "    <tr>\n",
       "      <th>28</th>\n",
       "      <td>2016-05-27 18:07:27.035</td>\n",
       "      <td>walking-with-small-box</td>\n",
       "      <td>NaN</td>\n",
       "      <td>NaN</td>\n",
       "    </tr>\n",
       "    <tr>\n",
       "      <th>29</th>\n",
       "      <td>2016-05-27 18:07:30.612</td>\n",
       "      <td>walking-with-small-box-turn</td>\n",
       "      <td>NaN</td>\n",
       "      <td>NaN</td>\n",
       "    </tr>\n",
       "    <tr>\n",
       "      <th>...</th>\n",
       "      <td>...</td>\n",
       "      <td>...</td>\n",
       "      <td>...</td>\n",
       "      <td>...</td>\n",
       "    </tr>\n",
       "    <tr>\n",
       "      <th>147</th>\n",
       "      <td>2016-05-27 18:13:57.386</td>\n",
       "      <td>walking-turn</td>\n",
       "      <td>NaN</td>\n",
       "      <td>NaN</td>\n",
       "    </tr>\n",
       "    <tr>\n",
       "      <th>148</th>\n",
       "      <td>2016-05-27 18:14:00.854</td>\n",
       "      <td>walking</td>\n",
       "      <td>NaN</td>\n",
       "      <td>NaN</td>\n",
       "    </tr>\n",
       "    <tr>\n",
       "      <th>149</th>\n",
       "      <td>2016-05-27 18:14:04.031</td>\n",
       "      <td>walking-turn</td>\n",
       "      <td>NaN</td>\n",
       "      <td>NaN</td>\n",
       "    </tr>\n",
       "    <tr>\n",
       "      <th>150</th>\n",
       "      <td>2016-05-27 18:14:05.844</td>\n",
       "      <td>walking</td>\n",
       "      <td>NaN</td>\n",
       "      <td>NaN</td>\n",
       "    </tr>\n",
       "    <tr>\n",
       "      <th>151</th>\n",
       "      <td>2016-05-27 18:14:09.631</td>\n",
       "      <td>walking-turn</td>\n",
       "      <td>NaN</td>\n",
       "      <td>NaN</td>\n",
       "    </tr>\n",
       "    <tr>\n",
       "      <th>152</th>\n",
       "      <td>2016-05-27 18:14:11.867</td>\n",
       "      <td>walking</td>\n",
       "      <td>NaN</td>\n",
       "      <td>NaN</td>\n",
       "    </tr>\n",
       "    <tr>\n",
       "      <th>153</th>\n",
       "      <td>2016-05-27 18:14:14.867</td>\n",
       "      <td>stop</td>\n",
       "      <td>NaN</td>\n",
       "      <td>NaN</td>\n",
       "    </tr>\n",
       "    <tr>\n",
       "      <th>154</th>\n",
       "      <td>2016-05-27 18:14:15.871</td>\n",
       "      <td>shaking-arm</td>\n",
       "      <td>NaN</td>\n",
       "      <td>NaN</td>\n",
       "    </tr>\n",
       "    <tr>\n",
       "      <th>155</th>\n",
       "      <td>2016-05-27 18:14:25.706</td>\n",
       "      <td>walking</td>\n",
       "      <td>NaN</td>\n",
       "      <td>NaN</td>\n",
       "    </tr>\n",
       "    <tr>\n",
       "      <th>156</th>\n",
       "      <td>2016-05-27 18:14:28.013</td>\n",
       "      <td>stop</td>\n",
       "      <td>NaN</td>\n",
       "      <td>NaN</td>\n",
       "    </tr>\n",
       "    <tr>\n",
       "      <th>157</th>\n",
       "      <td>2016-05-27 18:14:29.862</td>\n",
       "      <td>walking</td>\n",
       "      <td>NaN</td>\n",
       "      <td>NaN</td>\n",
       "    </tr>\n",
       "    <tr>\n",
       "      <th>158</th>\n",
       "      <td>2016-05-27 18:14:32.954</td>\n",
       "      <td>walking-turn</td>\n",
       "      <td>NaN</td>\n",
       "      <td>NaN</td>\n",
       "    </tr>\n",
       "    <tr>\n",
       "      <th>159</th>\n",
       "      <td>2016-05-27 18:14:34.098</td>\n",
       "      <td>walking</td>\n",
       "      <td>NaN</td>\n",
       "      <td>NaN</td>\n",
       "    </tr>\n",
       "    <tr>\n",
       "      <th>160</th>\n",
       "      <td>2016-05-27 18:14:38.841</td>\n",
       "      <td>walking-turn</td>\n",
       "      <td>NaN</td>\n",
       "      <td>NaN</td>\n",
       "    </tr>\n",
       "    <tr>\n",
       "      <th>161</th>\n",
       "      <td>2016-05-27 18:14:41.028</td>\n",
       "      <td>walking-with-shaking-hand</td>\n",
       "      <td>NaN</td>\n",
       "      <td>NaN</td>\n",
       "    </tr>\n",
       "    <tr>\n",
       "      <th>162</th>\n",
       "      <td>2016-05-27 18:14:45.999</td>\n",
       "      <td>walking-with-shaking-hand-turn</td>\n",
       "      <td>NaN</td>\n",
       "      <td>NaN</td>\n",
       "    </tr>\n",
       "    <tr>\n",
       "      <th>163</th>\n",
       "      <td>2016-05-27 18:14:48.520</td>\n",
       "      <td>walking</td>\n",
       "      <td>NaN</td>\n",
       "      <td>NaN</td>\n",
       "    </tr>\n",
       "    <tr>\n",
       "      <th>164</th>\n",
       "      <td>2016-05-27 18:14:49.315</td>\n",
       "      <td>walking-turn</td>\n",
       "      <td>NaN</td>\n",
       "      <td>NaN</td>\n",
       "    </tr>\n",
       "    <tr>\n",
       "      <th>165</th>\n",
       "      <td>2016-05-27 18:14:51.306</td>\n",
       "      <td>walking</td>\n",
       "      <td>NaN</td>\n",
       "      <td>NaN</td>\n",
       "    </tr>\n",
       "    <tr>\n",
       "      <th>166</th>\n",
       "      <td>2016-05-27 18:14:52.283</td>\n",
       "      <td>walking-turn</td>\n",
       "      <td>NaN</td>\n",
       "      <td>NaN</td>\n",
       "    </tr>\n",
       "    <tr>\n",
       "      <th>167</th>\n",
       "      <td>2016-05-27 18:14:54.227</td>\n",
       "      <td>walking</td>\n",
       "      <td>NaN</td>\n",
       "      <td>NaN</td>\n",
       "    </tr>\n",
       "    <tr>\n",
       "      <th>168</th>\n",
       "      <td>2016-05-27 18:14:57.640</td>\n",
       "      <td>walking-turn</td>\n",
       "      <td>NaN</td>\n",
       "      <td>NaN</td>\n",
       "    </tr>\n",
       "    <tr>\n",
       "      <th>169</th>\n",
       "      <td>2016-05-27 18:14:59.673</td>\n",
       "      <td>walking</td>\n",
       "      <td>NaN</td>\n",
       "      <td>NaN</td>\n",
       "    </tr>\n",
       "    <tr>\n",
       "      <th>170</th>\n",
       "      <td>2016-05-27 18:15:02.634</td>\n",
       "      <td>walking-turn</td>\n",
       "      <td>NaN</td>\n",
       "      <td>NaN</td>\n",
       "    </tr>\n",
       "    <tr>\n",
       "      <th>171</th>\n",
       "      <td>2016-05-27 18:15:08.019</td>\n",
       "      <td>walking</td>\n",
       "      <td>NaN</td>\n",
       "      <td>NaN</td>\n",
       "    </tr>\n",
       "    <tr>\n",
       "      <th>172</th>\n",
       "      <td>2016-05-27 18:15:12.407</td>\n",
       "      <td>walking-turn</td>\n",
       "      <td>NaN</td>\n",
       "      <td>NaN</td>\n",
       "    </tr>\n",
       "    <tr>\n",
       "      <th>173</th>\n",
       "      <td>2016-05-27 18:15:16.504</td>\n",
       "      <td>walking</td>\n",
       "      <td>NaN</td>\n",
       "      <td>NaN</td>\n",
       "    </tr>\n",
       "    <tr>\n",
       "      <th>174</th>\n",
       "      <td>2016-05-27 18:15:20.073</td>\n",
       "      <td>stop</td>\n",
       "      <td>NaN</td>\n",
       "      <td>NaN</td>\n",
       "    </tr>\n",
       "    <tr>\n",
       "      <th>175</th>\n",
       "      <td>2016-05-27 18:15:21.180</td>\n",
       "      <td>walking</td>\n",
       "      <td>NaN</td>\n",
       "      <td>NaN</td>\n",
       "    </tr>\n",
       "    <tr>\n",
       "      <th>176</th>\n",
       "      <td>2016-05-27 18:15:22.789</td>\n",
       "      <td>UNKNOWN</td>\n",
       "      <td>NaN</td>\n",
       "      <td>NaN</td>\n",
       "    </tr>\n",
       "  </tbody>\n",
       "</table>\n",
       "<p>177 rows × 4 columns</p>\n",
       "</div>"
      ],
      "text/plain": [
       "                       Time                           info1  info2  info3\n",
       "0   2016-05-27 18:06:15.696                         walking    NaN    NaN\n",
       "1   2016-05-27 18:06:18.745                    walking-turn    NaN    NaN\n",
       "2   2016-05-27 18:06:19.570                         walking    NaN    NaN\n",
       "3   2016-05-27 18:06:23.588                    walking-turn    NaN    NaN\n",
       "4   2016-05-27 18:06:24.492                         walking    NaN    NaN\n",
       "5   2016-05-27 18:06:28.200                    walking-turn    NaN    NaN\n",
       "6   2016-05-27 18:06:29.954                         walking    NaN    NaN\n",
       "7   2016-05-27 18:06:33.333                    walking-turn    NaN    NaN\n",
       "8   2016-05-27 18:06:34.999                         walking    NaN    NaN\n",
       "9   2016-05-27 18:06:39.181                    walking-turn    NaN    NaN\n",
       "10  2016-05-27 18:06:44.914                    walking-turn    NaN    NaN\n",
       "11  2016-05-27 18:06:45.904                walking-back-arm    NaN    NaN\n",
       "12  2016-05-27 18:06:50.468           walking-back-arm-turn    NaN    NaN\n",
       "13  2016-05-27 18:06:51.878                walking-back-arm    NaN    NaN\n",
       "14  2016-05-27 18:06:55.595           walking-back-arm-turn    NaN    NaN\n",
       "15  2016-05-27 18:06:57.390                walking-back-arm    NaN    NaN\n",
       "16  2016-05-27 18:07:00.560               walking-cross-arm    NaN    NaN\n",
       "17  2016-05-27 18:07:01.884          walking-cross-arm-turn    NaN    NaN\n",
       "18  2016-05-27 18:07:03.487               walking-cross-arm    NaN    NaN\n",
       "19  2016-05-27 18:07:07.542          walking-cross-arm-turn    NaN    NaN\n",
       "20  2016-05-27 18:07:09.139               walking-cross-arm    NaN    NaN\n",
       "21  2016-05-27 18:07:13.208          walking-cross-arm-turn    NaN    NaN\n",
       "22  2016-05-27 18:07:15.430               walking-cross-arm    NaN    NaN\n",
       "23  2016-05-27 18:07:19.466          walking-cross-arm-turn    NaN    NaN\n",
       "24  2016-05-27 18:07:21.022               walking-cross-arm    NaN    NaN\n",
       "25  2016-05-27 18:07:23.462                         walking    NaN    NaN\n",
       "26  2016-05-27 18:07:24.360                  grap-small-box    NaN    NaN\n",
       "27  2016-05-27 18:07:25.316                  rift-small-box    NaN    NaN\n",
       "28  2016-05-27 18:07:27.035          walking-with-small-box    NaN    NaN\n",
       "29  2016-05-27 18:07:30.612     walking-with-small-box-turn    NaN    NaN\n",
       "..                      ...                             ...    ...    ...\n",
       "147 2016-05-27 18:13:57.386                    walking-turn    NaN    NaN\n",
       "148 2016-05-27 18:14:00.854                         walking    NaN    NaN\n",
       "149 2016-05-27 18:14:04.031                    walking-turn    NaN    NaN\n",
       "150 2016-05-27 18:14:05.844                         walking    NaN    NaN\n",
       "151 2016-05-27 18:14:09.631                    walking-turn    NaN    NaN\n",
       "152 2016-05-27 18:14:11.867                         walking    NaN    NaN\n",
       "153 2016-05-27 18:14:14.867                            stop    NaN    NaN\n",
       "154 2016-05-27 18:14:15.871                     shaking-arm    NaN    NaN\n",
       "155 2016-05-27 18:14:25.706                         walking    NaN    NaN\n",
       "156 2016-05-27 18:14:28.013                            stop    NaN    NaN\n",
       "157 2016-05-27 18:14:29.862                         walking    NaN    NaN\n",
       "158 2016-05-27 18:14:32.954                    walking-turn    NaN    NaN\n",
       "159 2016-05-27 18:14:34.098                         walking    NaN    NaN\n",
       "160 2016-05-27 18:14:38.841                    walking-turn    NaN    NaN\n",
       "161 2016-05-27 18:14:41.028       walking-with-shaking-hand    NaN    NaN\n",
       "162 2016-05-27 18:14:45.999  walking-with-shaking-hand-turn    NaN    NaN\n",
       "163 2016-05-27 18:14:48.520                         walking    NaN    NaN\n",
       "164 2016-05-27 18:14:49.315                    walking-turn    NaN    NaN\n",
       "165 2016-05-27 18:14:51.306                         walking    NaN    NaN\n",
       "166 2016-05-27 18:14:52.283                    walking-turn    NaN    NaN\n",
       "167 2016-05-27 18:14:54.227                         walking    NaN    NaN\n",
       "168 2016-05-27 18:14:57.640                    walking-turn    NaN    NaN\n",
       "169 2016-05-27 18:14:59.673                         walking    NaN    NaN\n",
       "170 2016-05-27 18:15:02.634                    walking-turn    NaN    NaN\n",
       "171 2016-05-27 18:15:08.019                         walking    NaN    NaN\n",
       "172 2016-05-27 18:15:12.407                    walking-turn    NaN    NaN\n",
       "173 2016-05-27 18:15:16.504                         walking    NaN    NaN\n",
       "174 2016-05-27 18:15:20.073                            stop    NaN    NaN\n",
       "175 2016-05-27 18:15:21.180                         walking    NaN    NaN\n",
       "176 2016-05-27 18:15:22.789                         UNKNOWN    NaN    NaN\n",
       "\n",
       "[177 rows x 4 columns]"
      ]
     },
     "execution_count": 8,
     "metadata": {},
     "output_type": "execute_result"
    }
   ],
   "source": [
    "label"
   ]
  },
  {
   "cell_type": "code",
   "execution_count": 9,
   "metadata": {
    "collapsed": false
   },
   "outputs": [],
   "source": [
    "label_time=label.Time.values"
   ]
  },
  {
   "cell_type": "code",
   "execution_count": 10,
   "metadata": {
    "collapsed": false
   },
   "outputs": [
    {
     "data": {
      "text/plain": [
       "numpy.datetime64('2016-05-27T18:06:15.696000000')"
      ]
     },
     "execution_count": 10,
     "metadata": {},
     "output_type": "execute_result"
    }
   ],
   "source": [
    "label_time[0]"
   ]
  },
  {
   "cell_type": "code",
   "execution_count": 11,
   "metadata": {
    "collapsed": false
   },
   "outputs": [
    {
     "data": {
      "text/plain": [
       "numpy.datetime64('2016-05-27T18:15:22.789000000')"
      ]
     },
     "execution_count": 11,
     "metadata": {},
     "output_type": "execute_result"
    }
   ],
   "source": [
    "label_time[-1]"
   ]
  },
  {
   "cell_type": "code",
   "execution_count": 12,
   "metadata": {
    "collapsed": false
   },
   "outputs": [
    {
     "data": {
      "text/plain": [
       "numpy.ndarray"
      ]
     },
     "execution_count": 12,
     "metadata": {},
     "output_type": "execute_result"
    }
   ],
   "source": [
    "# データのインデックス　ラベルの最初から10ms追加した配列、ラベルの最後のじか\n",
    "index=pd.date_range(start=label_time[0],end=label_time[-1],freq='ms').to_pydatetime().astype('datetime64[ns]')\n",
    "type(index)"
   ]
  },
  {
   "cell_type": "code",
   "execution_count": 13,
   "metadata": {
    "collapsed": false
   },
   "outputs": [
    {
     "data": {
      "text/plain": [
       "numpy.datetime64('2016-05-27T18:06:15.748000000')"
      ]
     },
     "execution_count": 13,
     "metadata": {},
     "output_type": "execute_result"
    }
   ],
   "source": [
    " west._Time[0]"
   ]
  },
  {
   "cell_type": "code",
   "execution_count": 14,
   "metadata": {
    "collapsed": false
   },
   "outputs": [
    {
     "data": {
      "text/plain": [
       "numpy.datetime64('2016-05-27T18:06:15.697000000')"
      ]
     },
     "execution_count": 14,
     "metadata": {},
     "output_type": "execute_result"
    }
   ],
   "source": [
    "index[1]"
   ]
  },
  {
   "cell_type": "code",
   "execution_count": 16,
   "metadata": {
    "collapsed": false
   },
   "outputs": [
    {
     "data": {
      "text/plain": [
       "30086340342"
      ]
     },
     "execution_count": 16,
     "metadata": {},
     "output_type": "execute_result"
    }
   ],
   "source": [
    "len(west._Time)*len(index)"
   ]
  },
  {
   "cell_type": "code",
   "execution_count": 17,
   "metadata": {
    "collapsed": false
   },
   "outputs": [
    {
     "data": {
      "text/plain": [
       "547094"
      ]
     },
     "execution_count": 17,
     "metadata": {},
     "output_type": "execute_result"
    }
   ],
   "source": [
    "len(index)"
   ]
  },
  {
   "cell_type": "code",
   "execution_count": 18,
   "metadata": {
    "collapsed": false
   },
   "outputs": [
    {
     "data": {
      "text/plain": [
       "54993"
      ]
     },
     "execution_count": 18,
     "metadata": {},
     "output_type": "execute_result"
    }
   ],
   "source": [
    "len(west._Time)"
   ]
  },
  {
   "cell_type": "code",
   "execution_count": 24,
   "metadata": {
    "collapsed": false
   },
   "outputs": [
    {
     "name": "stdout",
     "output_type": "stream",
     "text": [
      "elapsed_time:129927.843744[sec]\n"
     ]
    }
   ],
   "source": [
    "start = time.time()\n",
    "\n",
    "clean_west=np.zeros(len(index))\n",
    "\n",
    "for l in range( len(west._Time) ):\n",
    "    for i in range( len(index) ):\n",
    "        ans=index[i] - west._Time[l]\n",
    "        if (np.timedelta64(-4,'ns') < ans ) & (ans > np.timedelta64(4,'ns') ):\n",
    "            #print index[i]\n",
    "            #print 'index number='+str(i)\n",
    "            #print west._Time[0]\n",
    "            continue\n",
    "        clean_west[i]=west._Time[l]\n",
    "            \n",
    "np.savez('clean_west',clean_west)\n",
    "elapsed_time = time.time() - start\n",
    "print (\"elapsed_time:{0}\".format(elapsed_time)) + \"[sec]\""
   ]
  },
  {
   "cell_type": "code",
   "execution_count": 26,
   "metadata": {
    "collapsed": false
   },
   "outputs": [
    {
     "data": {
      "text/plain": [
       "36.090833333333336"
      ]
     },
     "execution_count": 26,
     "metadata": {},
     "output_type": "execute_result"
    }
   ],
   "source": [
    "129927/3600.0"
   ]
  },
  {
   "cell_type": "code",
   "execution_count": null,
   "metadata": {
    "collapsed": true
   },
   "outputs": [],
   "source": []
  }
 ],
 "metadata": {
  "kernelspec": {
   "display_name": "Python 2",
   "language": "python",
   "name": "python2"
  },
  "language_info": {
   "codemirror_mode": {
    "name": "ipython",
    "version": 2
   },
   "file_extension": ".py",
   "mimetype": "text/x-python",
   "name": "python",
   "nbconvert_exporter": "python",
   "pygments_lexer": "ipython2",
   "version": "2.7.10"
  }
 },
 "nbformat": 4,
 "nbformat_minor": 0
}
