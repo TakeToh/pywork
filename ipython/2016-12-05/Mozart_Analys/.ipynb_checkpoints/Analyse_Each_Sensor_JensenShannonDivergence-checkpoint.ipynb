{
 "cells": [
  {
   "cell_type": "markdown",
   "metadata": {},
   "source": [
    "幅広くデータを見ていく\n",
    "* 加速度の波形を並べていみる\n",
    "* ウィンドウフレームごとの平均，分散の変化"
   ]
  },
  {
   "cell_type": "code",
   "execution_count": 1,
   "metadata": {
    "collapsed": true
   },
   "outputs": [],
   "source": [
    "# 表示用\n",
    "from tqdm import tqdm\n",
    "from tqdm import tnrange, tqdm_notebook"
   ]
  },
  {
   "cell_type": "code",
   "execution_count": 27,
   "metadata": {
    "collapsed": false
   },
   "outputs": [],
   "source": [
    "import numpy as np\n",
    "from numpy import zeros, newaxis\n",
    "import datetime\n",
    "import os\n",
    "import copy\n",
    "import time\n",
    "\n",
    "# Parametor about Sensor\n",
    "SensorNum=1 # Sensor number\n",
    "#SensorAxis='AccX' # Axis\n",
    "\n",
    "# Parametor about  \" Sliding Window \" \n",
    "WindowWidth =np.array([128,256,512,1024,2048,4096]) # Window Width\n",
    "SlidingWidth =WindowWidth/4 #sliding window\n",
    "\n",
    "# Parametor about Neural Network\n",
    "AEDimention = 16\n",
    "\n",
    "# Define Data Name\n",
    "DATE= str( datetime.date.today() )+'/'\n",
    "TITLE=\"Participants01_First_1/\"\n",
    "\n",
    "# Parametor about \" Data Path\"\n",
    "DataPath = \"/media/takeyama/Transfer/02_ActivityResearch/Paticipants01/01_First/20161018-105301/mem/\"\n",
    "\n",
    "#chopin\n",
    "#StorePath = \"/home/takeyama/Documents/\"\n",
    "#mozart\n",
    "StorePath =\"/media/takeyama/HD-PNFU3/01_ActivityResearchData/\"\n",
    "if not os.path.exists(StorePath+TITLE+'dictionary/'): \n",
    "    os.makedirs(StorePath+TITLE+'dictionary/')\n",
    "DictionaryDataPath=StorePath+TITLE+'dictionary/'\n",
    "\n",
    "if not os.path.exists(StorePath+TITLE+'window/'): \n",
    "    os.makedirs(StorePath+TITLE+'window/')\n",
    "WindowDataPath=StorePath+TITLE+'window/'\n",
    "\n",
    "if not os.path.exists(StorePath+TITLE+DATE+'studyOutput/'): \n",
    "    os.makedirs(StorePath+TITLE+DATE+'studyOutput/')\n",
    "StudyOutputPath=StorePath+TITLE+DATE+'studyOutput/'\n",
    "\n",
    "if not os.path.exists(StorePath+TITLE+DATE+'parametor/'): \n",
    "    os.makedirs(StorePath+TITLE+DATE+'parametor/')\n",
    "ParametorPath=StorePath+TITLE+DATE+'parametor/'\n",
    "\n",
    "if not os.path.exists(StorePath+TITLE+DATE+'result/'): \n",
    "    os.makedirs(StorePath+TITLE+DATE+'result/')\n",
    "ResultPath=StorePath+TITLE+DATE+'result/'\n",
    "\n",
    "if not os.path.exists(StorePath+'/'+TITLE+DATE+'graph/'): \n",
    "    os.makedirs(StorePath+'/'+TITLE+DATE+'graph/')\n",
    "GraphPath=StorePath+'/'+TITLE+DATE+'graph/'\n",
    "\n",
    "if not os.path.exists(StorePath+'/'+TITLE+'feature/'): \n",
    "    os.makedirs(StorePath+'/'+TITLE+'feature/')\n",
    "FeaturePath=StorePath+'/'+TITLE+'feature/'\n",
    "\n",
    "if not os.path.exists(StorePath+'/'+TITLE+DATE+'graph/kld/'): \n",
    "    os.makedirs(StorePath+'/'+TITLE+DATE+'graph/kld/')\n",
    "KLDMapGraphPath=StorePath+'/'+TITLE+DATE+'graph/kld/'"
   ]
  },
  {
   "cell_type": "markdown",
   "metadata": {},
   "source": [
    "センサデータの読み込み"
   ]
  },
  {
   "cell_type": "code",
   "execution_count": 3,
   "metadata": {
    "collapsed": true
   },
   "outputs": [],
   "source": [
    "# センサデータのcsvファイル名をリストに集約する関数\n",
    "def SensorDataFileNameList(path):\n",
    "    l = os.listdir(DataPath)\n",
    "    FilePath =[]\n",
    "    SensorName = []\n",
    "    \n",
    "    for n in range(len(l)):\n",
    "        if (l[n][:4].find('mem-') != -1):\n",
    "            FilePath.append(l[n])\n",
    "            SensorName.append(l[n][4:15])\n",
    "    \n",
    "    return FilePath,SensorName"
   ]
  },
  {
   "cell_type": "markdown",
   "metadata": {},
   "source": [
    "CSVを読み込んで，CSVの中身を辞書型で表現する"
   ]
  },
  {
   "cell_type": "code",
   "execution_count": 4,
   "metadata": {
    "collapsed": true
   },
   "outputs": [],
   "source": [
    "# FFT library\n",
    "from scipy import fftpack\n",
    "from scipy import signal\n",
    "\n",
    "# Graph Plot\n",
    "import matplotlib.pyplot as plt\n",
    "from matplotlib import gridspec\n",
    "\n",
    "# Generate WindowFrame Function\n",
    "from mymodule import window\n",
    "\n",
    "# timer\n",
    "import time\n",
    "\n",
    "# temp file \n",
    "import tempfile\n",
    "\n",
    "%matplotlib inline"
   ]
  },
  {
   "cell_type": "code",
   "execution_count": 5,
   "metadata": {
    "collapsed": false
   },
   "outputs": [
    {
     "name": "stdout",
     "output_type": "stream",
     "text": [
      "['Chest.npz', 'LeftHand.npz', 'LeftLeg.npz', 'RightHand.npz', 'Rightleg.npz', 'West.npz']\n"
     ]
    }
   ],
   "source": [
    "DictName = os.listdir(DictionaryDataPath)\n",
    "print DictName"
   ]
  },
  {
   "cell_type": "code",
   "execution_count": 6,
   "metadata": {
    "collapsed": false
   },
   "outputs": [],
   "source": [
    "Sensor5 = np.load(DictionaryDataPath+DictName[0])['data'][()]\n",
    "Sensor1 = np.load(DictionaryDataPath+DictName[1])['data'][()]\n",
    "Sensor3 = np.load(DictionaryDataPath+DictName[2])['data'][()]\n",
    "Sensor2 = np.load(DictionaryDataPath+DictName[3])['data'][()]\n",
    "Sensor4 = np.load(DictionaryDataPath+DictName[4])['data'][()]\n",
    "Sensor6 = np.load(DictionaryDataPath+DictName[5])['data'][()]"
   ]
  },
  {
   "cell_type": "code",
   "execution_count": 22,
   "metadata": {
    "collapsed": false
   },
   "outputs": [
    {
     "data": {
      "text/plain": [
       "(1077870,)"
      ]
     },
     "execution_count": 22,
     "metadata": {},
     "output_type": "execute_result"
    }
   ],
   "source": [
    "Sensor1['AccX'].shape"
   ]
  },
  {
   "cell_type": "code",
   "execution_count": 7,
   "metadata": {
    "collapsed": false
   },
   "outputs": [],
   "source": [
    "def GetWindowFrame(windowName, dataRaw, wWidth, sWidth, PATH):\n",
    "    \"\"\"\n",
    "    data　ウィンドウフレームに変換するデータ\n",
    "    registName　ウィンドウフレームに登録するデータの名前\n",
    "    windowWidth　ウィンドウ幅\n",
    "    slidingWidth　スライド幅\n",
    "    PATH ウィドウフレームを保存するディレクトリ\n",
    "    \n",
    "    \n",
    "    About Function:\n",
    "        与えられたdataからウィンドウ幅windowWidth,スライド幅slidingWidthにしたがって\n",
    "        registNameのウィドウフレームを返す．\n",
    "        また，与えれたPATH内に同様なパラメータ( WindowWidth, slidingWidth)かつ同様な\n",
    "        windowNameのものがある場合，そのデータを返す．\n",
    "        この関数が登録，ウィンドウフレームに変換できるデータは１つとする\n",
    "    \"\"\"\n",
    "    storedName = windowName+'_Win='+str(wWidth).zfill(4)+'_Sld='+str(sWidth).zfill(4)+'.npz'\n",
    "    l = os.listdir(PATH)\n",
    "    \n",
    "    if storedName in l:\n",
    "        print \"this data had finished making\"\n",
    "        return np.load(PATH+storedName)['data'][()]\n",
    "    \n",
    "    w=window()\n",
    "    w.SetData(windowName,dataRaw)    \n",
    "    wind=w.Compile(wWidth,sWidth)\n",
    "    windoW=wind.reshape((len(wind),np.prod(wind.shape[1:])))\n",
    "    \n",
    "    np.savez(PATH+storedName,data=wind)\n",
    "\n",
    "    return wind"
   ]
  },
  {
   "cell_type": "markdown",
   "metadata": {},
   "source": [
    "# Fourier Transformation"
   ]
  },
  {
   "cell_type": "markdown",
   "metadata": {},
   "source": [
    "## Energy"
   ]
  },
  {
   "cell_type": "code",
   "execution_count": 8,
   "metadata": {
    "collapsed": true
   },
   "outputs": [],
   "source": [
    "def FastVector_Energy(windowName, dataRaw, wWidth, sWidth, PATH):\n",
    "    # get windowFrame\n",
    "    wind=GetWindowFrame(windowName, dataRaw, wWidth, sWidth, PATH)\n",
    "    \n",
    "    fftwind = np.fft.fft(wind)  # calcurate fast fourier Transfromation\n",
    "    fftwind = fftwind[:,1:fftwind.shape[1]/2-1] # Orthogonal and Colossus removed\n",
    "    \n",
    "    # calcurate eq\n",
    "    f = lambda x: np.real(x)**2+np.imag(x)**2\n",
    "        \n",
    "    # windowFrame(raw wave) 2d -> windowFrame(power) 1d\n",
    "    SqrF=np.array([\n",
    "            np.real(fftwind[i,l])**2+np.imag(fftwind[i,l])**2\n",
    "            for i in range( fftwind.shape[0] )\n",
    "            for l in range( fftwind.shape[1] )\n",
    "        ])\n",
    "    SqrF = SqrF.reshape(fftwind.shape)    \n",
    "    # calcurate Squared Energy\n",
    "    SqrF=SqrF/SqrF[0,:].size\n",
    "    Output = SqrF**0.5\n",
    "    return Output"
   ]
  },
  {
   "cell_type": "markdown",
   "metadata": {},
   "source": [
    "# Frequency"
   ]
  },
  {
   "cell_type": "code",
   "execution_count": 9,
   "metadata": {
    "collapsed": true
   },
   "outputs": [],
   "source": [
    "def FastVector_Frequency(windowName, dataRaw, wWidth, sWidth, PATH):\n",
    "    # get windowFrame\n",
    "    wind=GetWindowFrame(windowName, dataRaw, wWidth, sWidth, PATH)\n",
    "    \n",
    "    fftwind = np.fft.fft(wind)  # calcurate fast fourier Transfromation\n",
    "    fftwind = fftwind[:,1:fftwind.shape[1]/2-1] # Orthogonal and Colossus removed\n",
    "    print fftwind.shape\n",
    "    freq = np.array([np.arctan2(np.imag(fftwind[i,l]),np.real(fftwind[i,l]))\n",
    "                     for i in range( fftwind.shape[0] ) \n",
    "                     for l in range( fftwind.shape[1] ) ])\n",
    "    freq = freq.reshape(fftwind.shape)    \n",
    "    return freq"
   ]
  },
  {
   "cell_type": "markdown",
   "metadata": {},
   "source": [
    "# Energy"
   ]
  },
  {
   "cell_type": "code",
   "execution_count": 10,
   "metadata": {
    "collapsed": false
   },
   "outputs": [],
   "source": [
    "def FastVector_Energy(windowName, dataRaw, wWidth, sWidth, PATH):\n",
    "    # get windowFrame\n",
    "    wind=GetWindowFrame(windowName, dataRaw, wWidth, sWidth, PATH)\n",
    "    \n",
    "    ###########################\n",
    "    ###    calcurate FFT    ###\n",
    "    ###########################\n",
    "    fftwind = np.fft.fft(wind)  # calcurate fast fourier Transfromation\n",
    "    fftwind = fftwind[:,1:fftwind.shape[1]/2-1] # Orthogonal and Colossus removed\n",
    "    \n",
    "    # calcurate eq\n",
    "    f = lambda x: np.real(x)**2+np.imag(x)**2\n",
    "        \n",
    "    # windowFrame(raw wave) 2d -> windowFrame(power) 1d\n",
    "    SqrF=np.array([\n",
    "            np.real(fftwind[i,l])**2+np.imag(fftwind[i,l])**2\n",
    "            for i in range( fftwind.shape[0] )\n",
    "            for l in range( fftwind.shape[1] )\n",
    "        ])\n",
    "    SqrF = SqrF.reshape(fftwind.shape)\n",
    "    \n",
    "    # calcurate Squared Energy\n",
    "    SqrF=SqrF/SqrF[0,:].size\n",
    "    \n",
    "    ##############################\n",
    "    ###    calcurate Entropy   ###\n",
    "    ##############################\n",
    "    P = np.array([SqrF[i]/SqrF[i,:].sum() for i in range(SqrF.shape[0])])\n",
    "    P = P.reshape(SqrF.shape)\n",
    "    \n",
    "    P_logP = np.array([ P[i,l]*np.log(P[i,l]) \\\n",
    "                      for i in range(P.shape[0]) for l in range(P.shape[1])])\n",
    "    P_logP = P_logP.reshape(P.shape)\n",
    "    \n",
    "    Entropy = np.array([\n",
    "            -1*np.sum( P_logP[i,:] ) for i in range(P.shape[0])])\n",
    "    \n",
    "    return Entropy"
   ]
  },
  {
   "cell_type": "markdown",
   "metadata": {},
   "source": [
    "# Kullback leibler Divergence"
   ]
  },
  {
   "cell_type": "code",
   "execution_count": 11,
   "metadata": {
    "collapsed": false
   },
   "outputs": [],
   "source": [
    "def FastVector_KLD(dataNameX, dataX, dataNameY, dataY, wWidth, sWidth, PATH):\n",
    "    \"\"\"\n",
    "        Calculates Kullback–Leibler divergence\n",
    "        input dataX dataY -> 1d Vector\n",
    "    \"\"\"\n",
    "    func_kld =lambda p,q: np.sum(p * np.log(p / q))\n",
    "    \n",
    "    KLD = np.array([ func_kld(dataX[i],dataY[i])\\\n",
    "                    for i in range(dataX.shape[0])])\n",
    "    return KLD"
   ]
  },
  {
   "cell_type": "markdown",
   "metadata": {},
   "source": [
    "# Jensen Shannon Divergence"
   ]
  },
  {
   "cell_type": "code",
   "execution_count": 12,
   "metadata": {
    "collapsed": true
   },
   "outputs": [],
   "source": [
    "def FastVector_JSD(dataName, dataX, dataY, wWidth, sWidth, PATH):\n",
    "    \n",
    "    func_kld =lambda p,q: np.sum(p * np.log(p / q))\n",
    "    func_jsd =lambda p,q: 0.5 * func_kld(p, (p+q)/2) + 0.5 * func_kld(q, (p+q)/2)\n",
    "\n",
    "    JSD = np.array([ func_jsd(dataX[i],dataY[i])\\\n",
    "                    for i in range(dataX.shape[0])])\n",
    "    return JSD.sum()"
   ]
  },
  {
   "cell_type": "markdown",
   "metadata": {},
   "source": [
    "# 各センサのKLDを求める"
   ]
  },
  {
   "cell_type": "code",
   "execution_count": 13,
   "metadata": {
    "collapsed": false
   },
   "outputs": [
    {
     "name": "stdout",
     "output_type": "stream",
     "text": [
      "(18, 1077870)\n"
     ]
    }
   ],
   "source": [
    "DataList = np.array( [x[n]\\\n",
    "            for x in [Sensor1,Sensor2,Sensor3,Sensor4,Sensor5,Sensor5]\\\n",
    "            for n in ['AccX','AccY','AccZ']])\n",
    "print DataList.shape"
   ]
  },
  {
   "cell_type": "code",
   "execution_count": 16,
   "metadata": {
    "collapsed": false
   },
   "outputs": [
    {
     "name": "stderr",
     "output_type": "stream",
     "text": [
      "/home/takeyama/.pyenv/versions/2.7.11/envs/takeyama/lib/python2.7/site-packages/ipykernel/__main__.py:6: RuntimeWarning: invalid value encountered in log\n",
      "/home/takeyama/.pyenv/versions/2.7.11/envs/takeyama/lib/python2.7/site-packages/ipykernel/__main__.py:6: RuntimeWarning: divide by zero encountered in double_scalars\n",
      "/home/takeyama/.pyenv/versions/2.7.11/envs/takeyama/lib/python2.7/site-packages/ipykernel/__main__.py:6: RuntimeWarning: divide by zero encountered in log\n",
      "/home/takeyama/.pyenv/versions/2.7.11/envs/takeyama/lib/python2.7/site-packages/ipykernel/__main__.py:6: RuntimeWarning: invalid value encountered in double_scalars\n"
     ]
    }
   ],
   "source": [
    "windowNum = 256\n",
    "slidingNum = 32\n",
    "KLDMapAccX = np.array([\n",
    "         FastVector_KLD(x['Name'], x['AccX'],y['Name'], y['AccX'], \\\n",
    "                         windowNum, slidingNum, WindowDataPath)\n",
    "        for x in [Sensor1,Sensor2,Sensor3,Sensor4,Sensor5,Sensor6]\n",
    "        for y in [Sensor1,Sensor2,Sensor3,Sensor4,Sensor5,Sensor6]\n",
    "    ])\n",
    "\n",
    "np.savez(FeaturePath+'w='+str(windowNum).zfill(4)+'_s='+str(slidingNum).zfill(4)\\\n",
    "         +'_KLDMapAccX',data=KLDMapAccX)"
   ]
  },
  {
   "cell_type": "code",
   "execution_count": 17,
   "metadata": {
    "collapsed": true
   },
   "outputs": [],
   "source": [
    "KLDMapAccX =KLDMapAccX[:,:,newaxis]"
   ]
  },
  {
   "cell_type": "code",
   "execution_count": 24,
   "metadata": {
    "collapsed": false
   },
   "outputs": [
    {
     "name": "stdout",
     "output_type": "stream",
     "text": [
      "(36, 1077870, 1)\n"
     ]
    }
   ],
   "source": [
    "print KLDMapAccX.shape\n",
    "KLDMapAccX = KLDMapAccX.reshape(6,6,1077870)"
   ]
  },
  {
   "cell_type": "code",
   "execution_count": 23,
   "metadata": {
    "collapsed": false
   },
   "outputs": [
    {
     "data": {
      "text/plain": [
       "array([ 0.69314718,  0.69314718,  0.69314718])"
      ]
     },
     "execution_count": 23,
     "metadata": {},
     "output_type": "execute_result"
    }
   ],
   "source": [
    "a=np.array([2,4,8])\n",
    "b=np.array([1,2,4])\n",
    "np.log(a/b)"
   ]
  },
  {
   "cell_type": "code",
   "execution_count": 25,
   "metadata": {
    "collapsed": true
   },
   "outputs": [],
   "source": [
    "fil1 = np.array([KLDMapAccX[:,:,i] for i in xrange(0,33676,9)])\n",
    "fil2 = np.array([KLDMapAccX[:,:,i] for i in xrange(1,33676,9)])\n",
    "fil3 = np.array([KLDMapAccX[:,:,i] for i in xrange(2,33676,9)])\n",
    "fil4 = np.array([KLDMapAccX[:,:,i] for i in xrange(3,33676,9)])\n",
    "fil5 = np.array([KLDMapAccX[:,:,i] for i in xrange(4,33676,9)])\n",
    "fil6 = np.array([KLDMapAccX[:,:,i] for i in xrange(5,33676,9)])\n",
    "fil7 = np.array([KLDMapAccX[:,:,i] for i in xrange(6,33676,9)])\n",
    "fil8 = np.array([KLDMapAccX[:,:,i] for i in xrange(7,33676,9)])\n",
    "fil9 = np.array([KLDMapAccX[:,:,i] for i in xrange(8,33676,9)])"
   ]
  },
  {
   "cell_type": "code",
   "execution_count": null,
   "metadata": {
    "collapsed": false
   },
   "outputs": [],
   "source": [
    "fig = plt.figure(figsize=(15, 15))\n",
    "fig = plt.figure()\n",
    "fig.subplots_adjust(bottom = 0)\n",
    "fig.subplots_adjust(top = 1)\n",
    "fig.subplots_adjust(right = 1)\n",
    "fig.subplots_adjust(left = 0)\n",
    "\n",
    "X = xrange(6)\n",
    "Y = xrange(6)\n",
    "\n",
    "for i in tqdm_notebook( xrange(0,fil1.shape[0],9) ):\n",
    "    ax1 = fig.add_subplot(331)\n",
    "    ax1.set_title(str(i))\n",
    "    cax1=ax1.imshow(fil1[i,:,:], interpolation='nearest')\n",
    "\n",
    "    ax2 = fig.add_subplot(332)\n",
    "    ax2.set_title(str(i+1))\n",
    "    cax2=ax2.imshow(fil2[i+1,:,:], interpolation='nearest')\n",
    "\n",
    "    ax3 = fig.add_subplot(333)\n",
    "    ax3.set_title(str(i+2))\n",
    "    cax3=ax3.imshow(fil3[i+2,:,:], interpolation='nearest')\n",
    "\n",
    "    ax4 = fig.add_subplot(334)\n",
    "    ax4.set_title(str(i+3))\n",
    "    cax4=ax4.imshow(fil4[i+3,:,:], interpolation='nearest')\n",
    "\n",
    "    ax5 = fig.add_subplot(335)\n",
    "    ax5.set_title(str(i+4))\n",
    "    cax5=ax5.imshow(fil5[i+4,:,:], interpolation='nearest')\n",
    "\n",
    "    ax6 = fig.add_subplot(336)\n",
    "    ax6.set_title(str(i+2))\n",
    "    cax6=ax6.imshow(fil6[i+5,:,:], interpolation='nearest')\n",
    "\n",
    "    ax7 = fig.add_subplot(337)\n",
    "    ax7.set_title('Pattern7')\n",
    "    cax7=ax7.imshow(fil7[i+6,:,:], interpolation='nearest')\n",
    "\n",
    "    ax8 = fig.add_subplot(338)\n",
    "    ax8.set_title('Pattern8')\n",
    "    cax8=ax8.imshow(fil8[i+7,:,:], interpolation='nearest')\n",
    "\n",
    "    ax9 = fig.add_subplot(339)\n",
    "    ax9.set_title('Pattern9')\n",
    "    cax9=ax9.imshow(fil9[i+8,:,:], interpolation='nearest')\n",
    "\n",
    "    fig.tight_layout()\n",
    "    fig.savefig(KLDMapGraphPath+'_'+str(i).zfill(4)+'_'+str(i+8).zfill(4))\n",
    "    plt.cla()\n",
    "    plt.clf()\n",
    "    plt.close(fig)\n",
    "    time.sleep(5)"
   ]
  },
  {
   "cell_type": "code",
   "execution_count": null,
   "metadata": {
    "collapsed": true
   },
   "outputs": [],
   "source": []
  }
 ],
 "metadata": {
  "kernelspec": {
   "display_name": "Python 2",
   "language": "python",
   "name": "python2"
  },
  "language_info": {
   "codemirror_mode": {
    "name": "ipython",
    "version": 2
   },
   "file_extension": ".py",
   "mimetype": "text/x-python",
   "name": "python",
   "nbconvert_exporter": "python",
   "pygments_lexer": "ipython2",
   "version": "2.7.11"
  },
  "widgets": {
   "state": {
    "c7e27baf0c9448c8a6e4685592b9a14a": {
     "views": [
      {
       "cell_index": 29
      }
     ]
    }
   },
   "version": "1.2.0"
  }
 },
 "nbformat": 4,
 "nbformat_minor": 0
}
