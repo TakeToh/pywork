{
 "cells": [
  {
   "cell_type": "code",
   "execution_count": 1,
   "metadata": {
    "collapsed": false
   },
   "outputs": [
    {
     "name": "stderr",
     "output_type": "stream",
     "text": [
      "Using gpu device 0: GeForce GTX 1080 (CNMeM is disabled, cuDNN 5005)\n"
     ]
    }
   ],
   "source": [
    "from theano import *"
   ]
  },
  {
   "cell_type": "code",
   "execution_count": 2,
   "metadata": {
    "collapsed": true
   },
   "outputs": [],
   "source": [
    "import theano.tensor as T"
   ]
  },
  {
   "cell_type": "markdown",
   "metadata": {},
   "source": [
    "Baby Steps -Algebra"
   ]
  },
  {
   "cell_type": "code",
   "execution_count": 3,
   "metadata": {
    "collapsed": true
   },
   "outputs": [],
   "source": [
    "import numpy"
   ]
  },
  {
   "cell_type": "code",
   "execution_count": 4,
   "metadata": {
    "collapsed": true
   },
   "outputs": [],
   "source": [
    "import theano.tensor as T"
   ]
  },
  {
   "cell_type": "code",
   "execution_count": 5,
   "metadata": {
    "collapsed": true
   },
   "outputs": [],
   "source": [
    "from theano import function"
   ]
  },
  {
   "cell_type": "markdown",
   "metadata": {},
   "source": [
    "x,yを数学で言う変数として定義する．  \n",
    "T.dscalarとは０次元のベクトルを表す．これはtheanoで定義したものである．"
   ]
  },
  {
   "cell_type": "code",
   "execution_count": 6,
   "metadata": {
    "collapsed": true
   },
   "outputs": [],
   "source": [
    "x = T.dscalar('x')"
   ]
  },
  {
   "cell_type": "code",
   "execution_count": 7,
   "metadata": {
    "collapsed": true
   },
   "outputs": [],
   "source": [
    "y = T.dscalar('y')"
   ]
  },
  {
   "cell_type": "code",
   "execution_count": 8,
   "metadata": {
    "collapsed": true
   },
   "outputs": [],
   "source": [
    "z = x+y"
   ]
  },
  {
   "cell_type": "markdown",
   "metadata": {},
   "source": [
    "functionは関数を定義するものである．  \n",
    "最初のリストは関数の引数を示す．  \n",
    "第二変数はよくあるのは，出力として見たいものが入る．  \n",
    "式を見る感じだと，第１変数に引数で第２変数で式の定義を入れるといいかも  "
   ]
  },
  {
   "cell_type": "code",
   "execution_count": 11,
   "metadata": {
    "collapsed": false
   },
   "outputs": [],
   "source": [
    "f = function([x,y],z)"
   ]
  },
  {
   "cell_type": "code",
   "execution_count": 12,
   "metadata": {
    "collapsed": false
   },
   "outputs": [
    {
     "data": {
      "text/plain": [
       "array(5.0)"
      ]
     },
     "execution_count": 12,
     "metadata": {},
     "output_type": "execute_result"
    }
   ],
   "source": [
    "f(2,3)"
   ]
  },
  {
   "cell_type": "code",
   "execution_count": 13,
   "metadata": {
    "collapsed": false
   },
   "outputs": [
    {
     "data": {
      "text/plain": [
       "True"
      ]
     },
     "execution_count": 13,
     "metadata": {},
     "output_type": "execute_result"
    }
   ],
   "source": [
    "numpy.allclose(f(16.3, 12.1), 28.4)"
   ]
  },
  {
   "cell_type": "markdown",
   "metadata": {},
   "source": [
    "Adding two Matrices"
   ]
  },
  {
   "cell_type": "code",
   "execution_count": 14,
   "metadata": {
    "collapsed": true
   },
   "outputs": [],
   "source": [
    "x=T.dmatrix('x')"
   ]
  },
  {
   "cell_type": "code",
   "execution_count": 15,
   "metadata": {
    "collapsed": true
   },
   "outputs": [],
   "source": [
    "y=T.dmatrix('y')"
   ]
  },
  {
   "cell_type": "code",
   "execution_count": 16,
   "metadata": {
    "collapsed": true
   },
   "outputs": [],
   "source": [
    "z = x+y"
   ]
  },
  {
   "cell_type": "code",
   "execution_count": 17,
   "metadata": {
    "collapsed": true
   },
   "outputs": [],
   "source": [
    "f=function([x,y],z)"
   ]
  },
  {
   "cell_type": "code",
   "execution_count": 18,
   "metadata": {
    "collapsed": false
   },
   "outputs": [
    {
     "data": {
      "text/plain": [
       "array([[ 11.,  22.],\n",
       "       [ 33.,  44.]])"
      ]
     },
     "execution_count": 18,
     "metadata": {},
     "output_type": "execute_result"
    }
   ],
   "source": [
    "f( [[1, 2], [3, 4]], [[10, 20],[30, 40]])"
   ]
  },
  {
   "cell_type": "markdown",
   "metadata": {},
   "source": [
    "numpyで行列を定義しても大丈夫みたい"
   ]
  },
  {
   "cell_type": "code",
   "execution_count": 19,
   "metadata": {
    "collapsed": false
   },
   "outputs": [
    {
     "data": {
      "text/plain": [
       "array([[ 11.,  22.],\n",
       "       [ 33.,  44.]])"
      ]
     },
     "execution_count": 19,
     "metadata": {},
     "output_type": "execute_result"
    }
   ],
   "source": [
    "f(numpy.array([[1, 2], [3, 4]]), numpy.array([[10, 20], [30, 40]]))"
   ]
  },
  {
   "cell_type": "markdown",
   "metadata": {},
   "source": [
    "# Exercise"
   ]
  },
  {
   "cell_type": "code",
   "execution_count": 20,
   "metadata": {
    "collapsed": true
   },
   "outputs": [],
   "source": [
    "import theano"
   ]
  },
  {
   "cell_type": "code",
   "execution_count": 21,
   "metadata": {
    "collapsed": true
   },
   "outputs": [],
   "source": [
    "a = theano.tensor.vector()"
   ]
  },
  {
   "cell_type": "code",
   "execution_count": 22,
   "metadata": {
    "collapsed": true
   },
   "outputs": [],
   "source": [
    "out = a+a**10"
   ]
  },
  {
   "cell_type": "code",
   "execution_count": 24,
   "metadata": {
    "collapsed": false
   },
   "outputs": [],
   "source": [
    "f = theano.function([a],out)"
   ]
  },
  {
   "cell_type": "code",
   "execution_count": 25,
   "metadata": {
    "collapsed": false
   },
   "outputs": [
    {
     "name": "stdout",
     "output_type": "stream",
     "text": [
      "[    0.     2.  1026.]\n"
     ]
    }
   ],
   "source": [
    "print(f( [0, 1, 2]) )"
   ]
  },
  {
   "cell_type": "code",
   "execution_count": 30,
   "metadata": {
    "collapsed": false
   },
   "outputs": [
    {
     "data": {
      "text/plain": [
       "array([   59052.,  1048580.,  9765630.], dtype=float32)"
      ]
     },
     "execution_count": 30,
     "metadata": {},
     "output_type": "execute_result"
    }
   ],
   "source": [
    "f( [3, 4, 5])"
   ]
  },
  {
   "cell_type": "markdown",
   "metadata": {},
   "source": [
    "# Logistic Function"
   ]
  },
  {
   "cell_type": "code",
   "execution_count": 34,
   "metadata": {
    "collapsed": true
   },
   "outputs": [],
   "source": [
    "#　変数を定義する\n",
    "x = T.dmatrix('x')"
   ]
  },
  {
   "cell_type": "code",
   "execution_count": 35,
   "metadata": {
    "collapsed": true
   },
   "outputs": [],
   "source": [
    "#　計算式を定義する\n",
    "s = 1/( 1+T.exp(-x))"
   ]
  },
  {
   "cell_type": "code",
   "execution_count": 36,
   "metadata": {
    "collapsed": true
   },
   "outputs": [],
   "source": [
    "#　変数と計算式を元に，関数を定義する\n",
    "logistic = theano.function([x],s)"
   ]
  },
  {
   "cell_type": "code",
   "execution_count": 37,
   "metadata": {
    "collapsed": false
   },
   "outputs": [
    {
     "data": {
      "text/plain": [
       "array([[ 0.5       ,  0.73105858],\n",
       "       [ 0.26894142,  0.11920292]])"
      ]
     },
     "execution_count": 37,
     "metadata": {},
     "output_type": "execute_result"
    }
   ],
   "source": [
    "logistic([[0,1],[-1,-2]])"
   ]
  },
  {
   "cell_type": "markdown",
   "metadata": {},
   "source": [
    "# tanh"
   ]
  },
  {
   "cell_type": "code",
   "execution_count": 38,
   "metadata": {
    "collapsed": true
   },
   "outputs": [],
   "source": [
    "s2 = (1+T.tanh(x/2))/2"
   ]
  },
  {
   "cell_type": "code",
   "execution_count": 40,
   "metadata": {
    "collapsed": false
   },
   "outputs": [],
   "source": [
    "logistic2 = theano.function([x],s2)"
   ]
  },
  {
   "cell_type": "code",
   "execution_count": 41,
   "metadata": {
    "collapsed": false
   },
   "outputs": [
    {
     "data": {
      "text/plain": [
       "array([[ 0.5       ,  0.73105858],\n",
       "       [ 0.26894142,  0.11920292]])"
      ]
     },
     "execution_count": 41,
     "metadata": {},
     "output_type": "execute_result"
    }
   ],
   "source": [
    "logistic2([[0,1],[-1,-2]])"
   ]
  },
  {
   "cell_type": "markdown",
   "metadata": {},
   "source": [
    "Computing More than one Thing at the Same Time"
   ]
  },
  {
   "cell_type": "code",
   "execution_count": 46,
   "metadata": {
    "collapsed": true
   },
   "outputs": [],
   "source": [
    "a,b = T.dmatrices('a','b')"
   ]
  },
  {
   "cell_type": "code",
   "execution_count": 50,
   "metadata": {
    "collapsed": true
   },
   "outputs": [],
   "source": [
    "diff = a-b"
   ]
  },
  {
   "cell_type": "code",
   "execution_count": 51,
   "metadata": {
    "collapsed": true
   },
   "outputs": [],
   "source": [
    "abs_diff = abs(diff)"
   ]
  },
  {
   "cell_type": "code",
   "execution_count": 52,
   "metadata": {
    "collapsed": true
   },
   "outputs": [],
   "source": [
    "diff_squared=diff**2"
   ]
  },
  {
   "cell_type": "code",
   "execution_count": 53,
   "metadata": {
    "collapsed": false
   },
   "outputs": [],
   "source": [
    "f= theano.function([a,b],[diff,abs_diff, diff_squared])"
   ]
  },
  {
   "cell_type": "code",
   "execution_count": 55,
   "metadata": {
    "collapsed": false
   },
   "outputs": [
    {
     "data": {
      "text/plain": [
       "[array([[ 1.,  0.],\n",
       "        [-1., -2.]]), array([[ 1.,  0.],\n",
       "        [ 1.,  2.]]), array([[ 1.,  0.],\n",
       "        [ 1.,  4.]])]"
      ]
     },
     "execution_count": 55,
     "metadata": {},
     "output_type": "execute_result"
    }
   ],
   "source": [
    "f([[1,1],[1,1]],[[0,1],[2,3]])"
   ]
  },
  {
   "cell_type": "markdown",
   "metadata": {},
   "source": [
    "# Setting Default Value for an Argument"
   ]
  },
  {
   "cell_type": "code",
   "execution_count": 56,
   "metadata": {
    "collapsed": true
   },
   "outputs": [],
   "source": [
    "x,y= T.dscalars('x','y')"
   ]
  },
  {
   "cell_type": "code",
   "execution_count": 57,
   "metadata": {
    "collapsed": true
   },
   "outputs": [],
   "source": [
    "z = x+y"
   ]
  },
  {
   "cell_type": "code",
   "execution_count": 63,
   "metadata": {
    "collapsed": false
   },
   "outputs": [],
   "source": [
    "from theano import In\n",
    "from theano import function\n",
    "\n",
    "f = theano.function([x,In(y,value=1)],z)"
   ]
  },
  {
   "cell_type": "code",
   "execution_count": 64,
   "metadata": {
    "collapsed": false
   },
   "outputs": [
    {
     "data": {
      "text/plain": [
       "array(34.0)"
      ]
     },
     "execution_count": 64,
     "metadata": {},
     "output_type": "execute_result"
    }
   ],
   "source": [
    "f(33)"
   ]
  },
  {
   "cell_type": "code",
   "execution_count": 65,
   "metadata": {
    "collapsed": false
   },
   "outputs": [
    {
     "data": {
      "text/plain": [
       "array(43.0)"
      ]
     },
     "execution_count": 65,
     "metadata": {},
     "output_type": "execute_result"
    }
   ],
   "source": [
    "f(33,10)"
   ]
  },
  {
   "cell_type": "code",
   "execution_count": 66,
   "metadata": {
    "collapsed": true
   },
   "outputs": [],
   "source": [
    "x,y,w = T.dscalars('x','y','w')"
   ]
  },
  {
   "cell_type": "code",
   "execution_count": 67,
   "metadata": {
    "collapsed": true
   },
   "outputs": [],
   "source": [
    "z=(x+y)*w"
   ]
  },
  {
   "cell_type": "code",
   "execution_count": 69,
   "metadata": {
    "collapsed": false
   },
   "outputs": [],
   "source": [
    "f = function([x,In(y, value=1), In(w,value=2, name='w_by_name')], z)"
   ]
  },
  {
   "cell_type": "code",
   "execution_count": 70,
   "metadata": {
    "collapsed": false
   },
   "outputs": [
    {
     "data": {
      "text/plain": [
       "array(68.0)"
      ]
     },
     "execution_count": 70,
     "metadata": {},
     "output_type": "execute_result"
    }
   ],
   "source": [
    "f(33)"
   ]
  },
  {
   "cell_type": "code",
   "execution_count": 71,
   "metadata": {
    "collapsed": false
   },
   "outputs": [
    {
     "data": {
      "text/plain": [
       "array(70.0)"
      ]
     },
     "execution_count": 71,
     "metadata": {},
     "output_type": "execute_result"
    }
   ],
   "source": [
    "f(33,2)"
   ]
  },
  {
   "cell_type": "code",
   "execution_count": 72,
   "metadata": {
    "collapsed": false
   },
   "outputs": [
    {
     "data": {
      "text/plain": [
       "array(35.0)"
      ]
     },
     "execution_count": 72,
     "metadata": {},
     "output_type": "execute_result"
    }
   ],
   "source": [
    "f(33,2,1)"
   ]
  },
  {
   "cell_type": "code",
   "execution_count": 73,
   "metadata": {
    "collapsed": false
   },
   "outputs": [
    {
     "data": {
      "text/plain": [
       "array(34.0)"
      ]
     },
     "execution_count": 73,
     "metadata": {},
     "output_type": "execute_result"
    }
   ],
   "source": [
    "f(33, w_by_name=1)"
   ]
  },
  {
   "cell_type": "code",
   "execution_count": 74,
   "metadata": {
    "collapsed": false
   },
   "outputs": [
    {
     "data": {
      "text/plain": [
       "array(33.0)"
      ]
     },
     "execution_count": 74,
     "metadata": {},
     "output_type": "execute_result"
    }
   ],
   "source": [
    "f(33, w_by_name=1,y=0)"
   ]
  },
  {
   "cell_type": "markdown",
   "metadata": {},
   "source": [
    "# Using Shared Variables"
   ]
  },
  {
   "cell_type": "code",
   "execution_count": 75,
   "metadata": {
    "collapsed": true
   },
   "outputs": [],
   "source": [
    "from theano import shared"
   ]
  },
  {
   "cell_type": "code",
   "execution_count": 76,
   "metadata": {
    "collapsed": true
   },
   "outputs": [],
   "source": [
    "state = shared(0)"
   ]
  },
  {
   "cell_type": "code",
   "execution_count": 77,
   "metadata": {
    "collapsed": true
   },
   "outputs": [],
   "source": [
    "inc = T.iscalar('inc')"
   ]
  },
  {
   "cell_type": "code",
   "execution_count": 78,
   "metadata": {
    "collapsed": true
   },
   "outputs": [],
   "source": [
    "accumulator = function([inc], state, updates=[(state, state+inc)])"
   ]
  },
  {
   "cell_type": "code",
   "execution_count": 79,
   "metadata": {
    "collapsed": false
   },
   "outputs": [
    {
     "name": "stdout",
     "output_type": "stream",
     "text": [
      "0\n"
     ]
    }
   ],
   "source": [
    "print state.get_value()"
   ]
  },
  {
   "cell_type": "code",
   "execution_count": 80,
   "metadata": {
    "collapsed": false
   },
   "outputs": [
    {
     "data": {
      "text/plain": [
       "array(0)"
      ]
     },
     "execution_count": 80,
     "metadata": {},
     "output_type": "execute_result"
    }
   ],
   "source": [
    "accumulator(1)"
   ]
  },
  {
   "cell_type": "code",
   "execution_count": 81,
   "metadata": {
    "collapsed": false
   },
   "outputs": [
    {
     "name": "stdout",
     "output_type": "stream",
     "text": [
      "1\n"
     ]
    }
   ],
   "source": [
    "print state.get_value()"
   ]
  },
  {
   "cell_type": "code",
   "execution_count": 82,
   "metadata": {
    "collapsed": false
   },
   "outputs": [
    {
     "data": {
      "text/plain": [
       "array(1)"
      ]
     },
     "execution_count": 82,
     "metadata": {},
     "output_type": "execute_result"
    }
   ],
   "source": [
    "accumulator(300)"
   ]
  },
  {
   "cell_type": "code",
   "execution_count": 83,
   "metadata": {
    "collapsed": false
   },
   "outputs": [
    {
     "name": "stdout",
     "output_type": "stream",
     "text": [
      "301\n"
     ]
    }
   ],
   "source": [
    "print state.get_value()"
   ]
  },
  {
   "cell_type": "code",
   "execution_count": 84,
   "metadata": {
    "collapsed": true
   },
   "outputs": [],
   "source": [
    "state.set_value(-1)"
   ]
  },
  {
   "cell_type": "code",
   "execution_count": 85,
   "metadata": {
    "collapsed": false
   },
   "outputs": [
    {
     "data": {
      "text/plain": [
       "array(-1)"
      ]
     },
     "execution_count": 85,
     "metadata": {},
     "output_type": "execute_result"
    }
   ],
   "source": [
    "accumulator(3)"
   ]
  },
  {
   "cell_type": "code",
   "execution_count": 86,
   "metadata": {
    "collapsed": false
   },
   "outputs": [
    {
     "name": "stdout",
     "output_type": "stream",
     "text": [
      "2\n"
     ]
    }
   ],
   "source": [
    "print state.get_value()"
   ]
  },
  {
   "cell_type": "code",
   "execution_count": 87,
   "metadata": {
    "collapsed": true
   },
   "outputs": [],
   "source": [
    "fn_of_state = state*2 + inc"
   ]
  },
  {
   "cell_type": "code",
   "execution_count": 88,
   "metadata": {
    "collapsed": true
   },
   "outputs": [],
   "source": [
    "foo = T.scalar(dtype=state.dtype)"
   ]
  },
  {
   "cell_type": "code",
   "execution_count": 92,
   "metadata": {
    "collapsed": true
   },
   "outputs": [],
   "source": [
    "# givensによって，incにstateの値が入る\n",
    "skip_shared = function([inc, foo], fn_of_state, givens=[(state, foo)])"
   ]
  },
  {
   "cell_type": "code",
   "execution_count": 93,
   "metadata": {
    "collapsed": false
   },
   "outputs": [
    {
     "data": {
      "text/plain": [
       "array(7)"
      ]
     },
     "execution_count": 93,
     "metadata": {},
     "output_type": "execute_result"
    }
   ],
   "source": [
    "skip_shared(1, 3)"
   ]
  },
  {
   "cell_type": "code",
   "execution_count": 94,
   "metadata": {
    "collapsed": false
   },
   "outputs": [
    {
     "name": "stdout",
     "output_type": "stream",
     "text": [
      "2\n"
     ]
    }
   ],
   "source": [
    "print state.get_value()"
   ]
  },
  {
   "cell_type": "code",
   "execution_count": 95,
   "metadata": {
    "collapsed": true
   },
   "outputs": [],
   "source": [
    "import theano\n",
    "import theano.tensor as T"
   ]
  },
  {
   "cell_type": "code",
   "execution_count": 96,
   "metadata": {
    "collapsed": true
   },
   "outputs": [],
   "source": [
    "state = theano.shared(0)"
   ]
  },
  {
   "cell_type": "code",
   "execution_count": 98,
   "metadata": {
    "collapsed": false
   },
   "outputs": [],
   "source": [
    "inc = T.iscalar('inc')"
   ]
  },
  {
   "cell_type": "code",
   "execution_count": 99,
   "metadata": {
    "collapsed": true
   },
   "outputs": [],
   "source": [
    "accumulator = function([inc], state, updates=[(state, state+inc)],\\\n",
    "                      on_unused_input='ignore')"
   ]
  },
  {
   "cell_type": "code",
   "execution_count": 100,
   "metadata": {
    "collapsed": false
   },
   "outputs": [
    {
     "data": {
      "text/plain": [
       "array(0)"
      ]
     },
     "execution_count": 100,
     "metadata": {},
     "output_type": "execute_result"
    }
   ],
   "source": [
    "accumulator(10)"
   ]
  },
  {
   "cell_type": "code",
   "execution_count": 101,
   "metadata": {
    "collapsed": false
   },
   "outputs": [
    {
     "name": "stdout",
     "output_type": "stream",
     "text": [
      "10\n"
     ]
    }
   ],
   "source": [
    "print state.get_value()"
   ]
  },
  {
   "cell_type": "code",
   "execution_count": 102,
   "metadata": {
    "collapsed": false
   },
   "outputs": [
    {
     "data": {
      "text/plain": [
       "[array(0)]"
      ]
     },
     "execution_count": 102,
     "metadata": {},
     "output_type": "execute_result"
    }
   ],
   "source": [
    "new_state = theano.shared(0)\n",
    "new_accumulator = accumulator.copy(swap={state:new_state})\n",
    "new_accumulator(100)"
   ]
  },
  {
   "cell_type": "code",
   "execution_count": 103,
   "metadata": {
    "collapsed": false
   },
   "outputs": [
    {
     "name": "stdout",
     "output_type": "stream",
     "text": [
      "100\n"
     ]
    }
   ],
   "source": [
    "print new_state.get_value()"
   ]
  },
  {
   "cell_type": "code",
   "execution_count": 104,
   "metadata": {
    "collapsed": false
   },
   "outputs": [
    {
     "name": "stdout",
     "output_type": "stream",
     "text": [
      "10\n"
     ]
    }
   ],
   "source": [
    "print state.get_value()"
   ]
  },
  {
   "cell_type": "code",
   "execution_count": 110,
   "metadata": {
    "collapsed": true
   },
   "outputs": [],
   "source": [
    "# updateしないようにする\n",
    "null_accumulator = accumulator.copy(delete_updates=True)"
   ]
  },
  {
   "cell_type": "code",
   "execution_count": 106,
   "metadata": {
    "collapsed": false
   },
   "outputs": [
    {
     "data": {
      "text/plain": [
       "[array(10)]"
      ]
     },
     "execution_count": 106,
     "metadata": {},
     "output_type": "execute_result"
    }
   ],
   "source": [
    "null_accumulator(9000)"
   ]
  },
  {
   "cell_type": "code",
   "execution_count": 108,
   "metadata": {
    "collapsed": false
   },
   "outputs": [
    {
     "name": "stdout",
     "output_type": "stream",
     "text": [
      "10\n"
     ]
    }
   ],
   "source": [
    "print state.get_value()"
   ]
  },
  {
   "cell_type": "code",
   "execution_count": 109,
   "metadata": {
    "collapsed": false
   },
   "outputs": [
    {
     "name": "stdout",
     "output_type": "stream",
     "text": [
      "100\n"
     ]
    }
   ],
   "source": [
    "print new_state.get_value()"
   ]
  },
  {
   "cell_type": "code",
   "execution_count": 111,
   "metadata": {
    "collapsed": true
   },
   "outputs": [],
   "source": [
    "from theano.tensor.shared_randomstreams import RandomStreams\n",
    "from theano import function"
   ]
  },
  {
   "cell_type": "code",
   "execution_count": 112,
   "metadata": {
    "collapsed": true
   },
   "outputs": [],
   "source": [
    "srng = RandomStreams(seed=234)"
   ]
  },
  {
   "cell_type": "code",
   "execution_count": 113,
   "metadata": {
    "collapsed": true
   },
   "outputs": [],
   "source": [
    "rv_u=srng.uniform((2,2))"
   ]
  },
  {
   "cell_type": "code",
   "execution_count": 114,
   "metadata": {
    "collapsed": true
   },
   "outputs": [],
   "source": [
    "rv_n=srng.normal((2,2))"
   ]
  },
  {
   "cell_type": "code",
   "execution_count": 115,
   "metadata": {
    "collapsed": true
   },
   "outputs": [],
   "source": [
    "f=function([],rv_u)"
   ]
  },
  {
   "cell_type": "code",
   "execution_count": 116,
   "metadata": {
    "collapsed": true
   },
   "outputs": [],
   "source": [
    "g=function([], rv_n, no_default_updates=True) #Not updating rv_n.rng"
   ]
  },
  {
   "cell_type": "code",
   "execution_count": 117,
   "metadata": {
    "collapsed": true
   },
   "outputs": [],
   "source": [
    "nearly_zeros = function([], rv_u+rv_u-2*rv_u)"
   ]
  },
  {
   "cell_type": "code",
   "execution_count": 119,
   "metadata": {
    "collapsed": true
   },
   "outputs": [],
   "source": [
    "f_val0 = f()"
   ]
  },
  {
   "cell_type": "code",
   "execution_count": 120,
   "metadata": {
    "collapsed": true
   },
   "outputs": [],
   "source": [
    "f_val1 = f()  #different numbers from f_val0"
   ]
  },
  {
   "cell_type": "code",
   "execution_count": 122,
   "metadata": {
    "collapsed": true
   },
   "outputs": [],
   "source": [
    "g_val0 = g() # different numbers from f_val0 and f_val1\n",
    "g_val1 = g() # same nubers as g_val0"
   ]
  },
  {
   "cell_type": "markdown",
   "metadata": {},
   "source": [
    "# Seeding Streams"
   ]
  },
  {
   "cell_type": "code",
   "execution_count": 123,
   "metadata": {
    "collapsed": true
   },
   "outputs": [],
   "source": [
    "rng_val = rv_u.rng.get_value(borrow=True) # get the rng for rv_u"
   ]
  },
  {
   "cell_type": "code",
   "execution_count": 124,
   "metadata": {
    "collapsed": true
   },
   "outputs": [],
   "source": [
    "rng_val.seed(89234) # seeds the generator"
   ]
  },
  {
   "cell_type": "code",
   "execution_count": 125,
   "metadata": {
    "collapsed": true
   },
   "outputs": [],
   "source": [
    "rv_u.rng.set_value(rng_val, borrow=True) # Assign back seeded rng"
   ]
  },
  {
   "cell_type": "markdown",
   "metadata": {},
   "source": [
    "# A Real Example: Logistic Regression"
   ]
  },
  {
   "cell_type": "code",
   "execution_count": 126,
   "metadata": {
    "collapsed": true
   },
   "outputs": [],
   "source": [
    "import numpy as np\n",
    "import theano\n",
    "import theano.tensor as T\n",
    "rng = np.random"
   ]
  },
  {
   "cell_type": "code",
   "execution_count": 127,
   "metadata": {
    "collapsed": true
   },
   "outputs": [],
   "source": [
    "N=400 # training sample size\n",
    "feats=784 # number of input variables"
   ]
  },
  {
   "cell_type": "code",
   "execution_count": 129,
   "metadata": {
    "collapsed": false
   },
   "outputs": [],
   "source": [
    "D = (rng.randn(N, feats), rng.randint(size=N, low=0, high=2))"
   ]
  },
  {
   "cell_type": "code",
   "execution_count": 130,
   "metadata": {
    "collapsed": true
   },
   "outputs": [],
   "source": [
    "training_steps= 10000"
   ]
  },
  {
   "cell_type": "code",
   "execution_count": 133,
   "metadata": {
    "collapsed": false
   },
   "outputs": [],
   "source": [
    "x = T.dmatrix('x')\n",
    "y = T.dvector('y')\n",
    "\n",
    "w = theano.shared(rng.randn(feats), name='w')\n",
    "b = theano.shared(0. , name='b')"
   ]
  },
  {
   "cell_type": "code",
   "execution_count": 134,
   "metadata": {
    "collapsed": false
   },
   "outputs": [
    {
     "name": "stdout",
     "output_type": "stream",
     "text": [
      "Initial model:\n"
     ]
    }
   ],
   "source": [
    "print 'Initial model:'"
   ]
  },
  {
   "cell_type": "code",
   "execution_count": 135,
   "metadata": {
    "collapsed": false,
    "scrolled": true
   },
   "outputs": [
    {
     "name": "stdout",
     "output_type": "stream",
     "text": [
      "[-1.28189719  0.22161708  0.23601178  0.22684021  0.51761438  0.52066065\n",
      " -0.31373256 -0.03686652  0.74009067 -0.14489015 -1.01229186  0.07617446\n",
      " -0.70564215  1.1439683  -1.47993632 -0.44438721  2.08315561  0.36955029\n",
      "  1.65124517 -0.44196756 -1.43799097 -0.61884677 -0.30585448 -0.16277661\n",
      " -1.46951305  0.02057496 -0.68354908 -0.11215946  0.40345191  0.26182675\n",
      " -0.56443267 -0.66071754 -1.07119104 -0.35776597  0.69874497  0.67061642\n",
      " -1.02466252 -0.73159338 -1.46123996  1.02574359  0.35354883  0.57088068\n",
      "  1.32944411 -0.86664568 -0.34160262 -0.19009235  0.99255114 -1.59246396\n",
      "  0.72241211  2.15001813 -1.43246741  1.61025195 -0.64498457  1.9014883\n",
      "  0.38341153  1.3333019   1.1224447  -1.86555107 -0.31276958  0.95351068\n",
      " -1.13464762  0.54323387 -1.74999362  0.6817106   1.91485037  1.11951556\n",
      " -1.6688983  -0.70609747 -0.14730667 -0.79898238 -1.64226181  0.57308188\n",
      " -0.43304255  0.77112839  1.7123874   2.24338142  0.67124389 -0.45003172\n",
      " -0.33348088  0.87581781 -0.30355698  1.70052542 -1.63924427 -0.86816239\n",
      " -0.13809486 -0.14035201 -0.63763351  0.09513595 -1.38300173 -0.47708287\n",
      " -1.23666097  0.66753226 -0.552224   -0.6907454   1.35390758 -1.23216958\n",
      " -0.30858311 -2.58378659  0.44044314 -0.10837656 -0.69684524  0.70733307\n",
      "  0.62721716  1.14349171  0.31586948 -0.11101593 -0.24968926 -0.25802362\n",
      " -0.19435452  0.83123799  0.66605136 -0.75826812 -0.05926217  0.33656992\n",
      "  0.80357006 -0.2251967  -1.66468785  1.33973101  0.94516091  2.79909176\n",
      "  0.22152266 -0.11935703  0.4129668  -1.07200153  0.12157173 -0.35242746\n",
      " -0.91776794 -1.80851487 -0.10341782  0.91498087 -0.12700986 -0.36975054\n",
      " -0.80004591 -0.6720152   0.60741631 -1.37088997 -0.17933853  0.75372103\n",
      " -1.95754589  0.90798436 -0.91126612  0.73491405  0.880776   -2.04300741\n",
      " -1.6841025  -0.4890201   0.03229499 -0.89903843  0.83387836 -0.35048645\n",
      " -1.67454883 -0.56553169  0.54131998 -0.22363393 -1.1952033   2.17222262\n",
      " -0.08019835 -0.76789154 -1.86666623  1.17588983  0.79979375  0.09094959\n",
      "  0.43624095  0.06146423 -0.67535226 -0.26564605  1.92648222  0.3798807\n",
      " -0.30752702  0.28211748  1.09204112 -0.29313087  0.94080975 -1.17327861\n",
      "  0.36353946  1.06560786 -1.10804339  0.59506283  0.58610783 -0.31717273\n",
      " -1.36088181 -1.29394433  2.20956906 -0.99360868  0.1958463  -1.13303605\n",
      " -0.0527694  -0.53462351 -0.70054592  0.36288669  0.67825577  0.03417134\n",
      "  1.66151862 -1.38161239  1.55349326  1.99019208 -1.02737935  0.09891627\n",
      " -0.88788694  0.64639498  0.98947059 -0.26109538 -1.08345692 -0.9059116\n",
      " -0.65672882  1.59721108 -0.28718638 -0.49975837 -1.07360074 -2.76790152\n",
      "  0.26416732 -1.40033658  1.70496816  0.87987754 -0.85873194 -0.50550625\n",
      "  0.2400724   0.73886071 -1.12586892  0.41818531 -0.67583597  0.67118593\n",
      "  1.4479611   0.92819895 -0.96517876  1.63069866 -0.13862815 -0.2090324\n",
      "  0.88775853  0.04252902  1.60452133 -1.39596732 -1.50973843  0.4103625\n",
      "  0.42540578 -1.09760341  0.2207706   1.59220201  1.78114107 -0.31481592\n",
      "  0.86591857 -0.33220345  1.87565229  0.23794645 -0.42022799 -2.01498163\n",
      " -0.3070655   1.91385984  0.9795812   0.27507457 -0.82303612  1.49766885\n",
      "  0.58193961 -0.28239302 -0.92256469 -0.45491878  0.29123709  0.45969747\n",
      " -1.22021626  1.04898865  0.2491453   2.02109405 -2.56000489  0.49095483\n",
      "  1.46087874  0.22284007 -0.56223815 -0.09703885 -1.75652393 -1.94644977\n",
      " -0.37421152  0.43202504  0.56319066  3.08143301 -0.28101042  0.78343037\n",
      "  1.14814395  1.07813936  0.96593528  0.80133528  0.35014982  0.31417355\n",
      " -0.91648268  1.33266117  0.50436948 -0.00387662  0.29489343  0.13401287\n",
      " -0.44314001  1.12109572  2.49992985 -1.29507117 -0.46126748 -1.09922536\n",
      "  0.78356536 -0.93224026  0.82702159  1.14020044 -0.18699278  0.63569111\n",
      " -1.16149196  1.02948157 -1.46258197 -1.86540916 -0.93705121 -0.76959711\n",
      "  1.34251108  1.21086313  1.93669482  0.19111169  0.4925642  -0.05708227\n",
      "  0.68016423 -0.08481923 -0.24346201 -1.36458093 -0.64100315  1.13274153\n",
      " -0.11888757 -0.51507224 -0.60973849 -0.13561081 -1.45956778  0.46344436\n",
      " -0.92309383  0.2978386  -1.1015288   0.23254956 -0.90837489 -0.15762012\n",
      "  0.49370304  1.6780785  -1.30974099  0.37660923 -1.31982384 -0.15033677\n",
      " -0.73325871 -1.07169057 -0.62879052  0.06372395 -0.33455318 -1.53433457\n",
      "  1.36719537  0.4058561   0.13868199 -1.33365532  0.12834685 -0.47054552\n",
      " -1.60944366 -0.96788257 -1.15429492  0.73894168 -0.55483067  0.29175611\n",
      "  2.74912669  0.828307   -0.77445187 -2.27977832 -0.60570375 -0.32483397\n",
      "  0.20654303  0.73222063 -1.89781631  0.05442524  2.3456639   1.53156631\n",
      " -0.19062267 -0.65147171 -1.0033718   0.72245748 -0.89843261  0.32715212\n",
      "  1.52792319 -0.80478623 -1.59907406  1.1443041   0.61164142  0.88005976\n",
      "  0.18420822  2.00031595  0.71673563 -1.80854294  0.06526438  2.26768779\n",
      "  0.05533157 -0.22131811  0.3811275  -1.80687474  0.78568251  1.49724657\n",
      " -1.03749297 -0.95447411 -0.13371286 -0.0852479   0.37963268  1.43772355\n",
      "  0.54814226 -1.27198925 -0.53383588 -1.22456409 -0.5950676   0.28378539\n",
      " -0.82965391  0.17065032  0.62036016  0.31516001  0.17456264 -1.65857121\n",
      "  0.09810583  0.05289667  0.56542813 -2.29587606 -0.36517157  1.21623381\n",
      " -0.30851058  0.31265934  1.13015975 -0.6542359  -0.19400032  0.62079392\n",
      " -1.30411448  1.19519431 -0.90708777  1.49179351  0.59287929 -0.18771157\n",
      "  0.5152278  -0.3649036   1.764133   -0.5107453   0.49422998 -1.52581086\n",
      "  3.11401701 -0.27208024 -1.77621308  0.51341367 -0.09964363 -0.62489763\n",
      "  1.43109094 -1.73552795  0.63817559 -1.09231355 -0.67019482 -0.37278113\n",
      "  1.19251768  1.03696835 -0.21712696 -0.81471929  0.48727259  0.62449116\n",
      " -0.19476463  0.39235221  0.98747648  0.36112846 -1.37944495 -0.55213305\n",
      " -0.14221243 -0.38341997 -1.30174456  0.38820758 -0.85953164 -1.38202433\n",
      "  0.08944303 -0.69461244 -0.58443856  0.2100639   0.78013544  0.29262533\n",
      "  0.34522625  0.21577078  0.48891946  1.70724075 -1.9212146   0.88079907\n",
      "  0.30347665 -1.72726529 -0.64970765 -0.94814932  1.18469745  0.14221623\n",
      "  1.84829645  0.47975436 -0.92761249 -0.40532645  2.29487004  1.85558056\n",
      " -0.41523527 -0.58339086  0.20719765  1.04462867  0.49493536 -1.15446605\n",
      "  0.29577473  1.18037049 -0.27442773  0.95556616  1.15109897 -0.42677463\n",
      "  0.42091385  0.68012014 -1.5921587   1.40894113 -1.01337437  1.35444834\n",
      "  0.01020813  0.16664772 -0.32108036 -0.88918433  0.03982669  0.2219216\n",
      " -0.18352864  0.20544653  0.21545165  1.13278337 -2.21594277  0.07643837\n",
      " -1.57839513 -1.0011982   1.08589774 -0.50113638  0.6815264   0.26778776\n",
      " -1.3235382   0.54615558  1.40463366  0.19358985 -1.25885821 -0.11993394\n",
      " -0.9526682   0.07116423  2.43332424 -0.1359206   0.7856946   1.1450854\n",
      " -0.74811743 -1.25437718  1.61718756  0.11263948 -0.48216819  1.89506864\n",
      "  0.17108858 -0.56544466  1.81239519  0.95348157  1.22647507  0.17684027\n",
      "  0.95753819 -0.01299217 -0.75444251  1.3235218  -3.04348952  0.79492652\n",
      "  1.38693755 -0.6473338  -1.36924355  2.03187733  0.77571775  0.68187032\n",
      "  0.25602498  0.71503046 -0.57218558  1.14048747 -0.01426715  0.62936595\n",
      "  1.43450029  0.86365956 -0.20209564  0.19100088  0.14671129  1.94559899\n",
      "  1.94572531  0.21936818 -1.62402583 -0.76425776  0.22168074  0.30724255\n",
      "  1.64749077 -0.79762155  0.74022245  0.7779296  -0.98021777  0.7647684\n",
      "  0.94792146  0.97433365  1.28325222 -0.01320056 -0.09120298 -1.46216507\n",
      "  0.6467415   1.16178258 -1.65697527  0.49510807  1.05262382  1.34168674\n",
      "  0.20215393 -1.41439465  1.18996568  0.5127698   0.23582804 -0.22080069\n",
      "  0.175466    0.03024574 -0.68041575 -0.99445377  0.63843894 -0.43830097\n",
      "  1.44519682  0.34176691  0.71617799  1.84020141 -0.08765448 -0.38992733\n",
      "  0.40060275 -0.14583321 -0.13593207 -1.34556482 -0.27094391  0.94633973\n",
      " -0.31396731  0.25354527  0.68116955 -0.30840995  0.45010305 -0.21188522\n",
      "  1.02373592 -0.77042557 -1.95554759  2.27465357 -0.62317569  1.04434482\n",
      " -0.26900465 -0.42630194 -0.92015259  0.38809061 -1.22119348  0.44579539\n",
      " -0.31950643 -2.57119594 -0.94787483 -1.98628461 -0.21079623  0.0516224\n",
      "  1.06763373  1.4539722   0.07720916 -0.14370822 -0.9824649  -0.79460809\n",
      " -1.22692396 -0.79133501 -0.75322746  0.93961004  1.49934756  0.73727138\n",
      "  0.37940857  0.53098573 -1.1844066   0.4518718  -0.09887565  0.30649749\n",
      " -0.95136541 -0.59436461  1.05730978  0.47152242  1.87557754 -0.55661373\n",
      "  2.06280055  0.13795441  0.80210443  0.6086729  -0.56698792  0.51048829\n",
      "  0.18693259  0.94483562 -2.1970393  -0.70416271  0.25569601 -0.75785223\n",
      " -0.39180696 -0.13995512 -0.7883802   3.17642584 -0.7546302  -0.76671639\n",
      " -0.0385879   1.58277554 -0.70004026  0.73843322  0.35505555  0.51082145\n",
      " -0.76561346  0.25031086  0.35301914  0.38564822 -0.4539074   0.22907142\n",
      "  0.72585115  3.29833038  1.17703381  0.22916978 -1.36266782 -1.60267492\n",
      " -0.96525391 -1.96385781  1.28872055 -0.38688067 -0.17029537 -0.40568081\n",
      "  1.77980704  0.45131305  0.83805005  0.03077072  0.03790024  1.53531994\n",
      "  0.27104095  0.00626767 -1.77575836 -0.46133427 -0.80894408 -1.87880284\n",
      " -0.16250405 -1.06202594 -1.33134597  1.35474511 -0.50447845 -1.76043739\n",
      " -0.5079245  -0.62388914 -1.28933118 -0.65136138  1.36450888  1.84122037\n",
      "  0.96247827  1.31991269 -1.8028996   0.53442687 -0.54502167  0.1425271\n",
      " -0.43688467 -0.11822226  0.52742059 -0.82463851 -0.70348194  0.6645534\n",
      " -0.57496148  0.00983672 -0.91844894  1.03338816 -0.65542232 -0.50121811\n",
      "  0.23677471 -1.76444274  0.33885774  0.16399931 -0.30723725 -0.70390337\n",
      " -0.92580525  1.49314891 -0.13557388  1.044205   -1.45005144  0.208533\n",
      " -1.02174855 -0.6421843   0.77546368 -1.12842442  2.08310142  0.18741129\n",
      "  0.68688657 -2.06740561 -1.18376425 -0.17597225  0.29593609 -1.34643606\n",
      "  0.63793794 -0.78200278  0.1987125   0.37367392  1.61064136 -1.21928936\n",
      " -0.55831144 -0.33736777  1.18285407 -0.64084288]\n"
     ]
    }
   ],
   "source": [
    "print w.get_value()"
   ]
  },
  {
   "cell_type": "code",
   "execution_count": 136,
   "metadata": {
    "collapsed": false
   },
   "outputs": [
    {
     "name": "stdout",
     "output_type": "stream",
     "text": [
      "0.0\n"
     ]
    }
   ],
   "source": [
    "print b.get_value()"
   ]
  },
  {
   "cell_type": "code",
   "execution_count": 137,
   "metadata": {
    "collapsed": true
   },
   "outputs": [],
   "source": [
    "p_1 = 1/(1 + T.exp(-T.dot(x, w)-b))"
   ]
  },
  {
   "cell_type": "code",
   "execution_count": 138,
   "metadata": {
    "collapsed": true
   },
   "outputs": [],
   "source": [
    "prediction = p_1 >0.5"
   ]
  },
  {
   "cell_type": "code",
   "execution_count": 140,
   "metadata": {
    "collapsed": true
   },
   "outputs": [],
   "source": [
    "xent = -y* T.log(p_1) - (1-y)*T.log(1-p_1) # cross-entropy loss function"
   ]
  },
  {
   "cell_type": "code",
   "execution_count": 142,
   "metadata": {
    "collapsed": false
   },
   "outputs": [],
   "source": [
    "cost = xent.mean()+ 0.01*(w**2).sum()"
   ]
  },
  {
   "cell_type": "code",
   "execution_count": 143,
   "metadata": {
    "collapsed": true
   },
   "outputs": [],
   "source": [
    "gw, gb = T.grad(cost, [w,b])"
   ]
  },
  {
   "cell_type": "code",
   "execution_count": 147,
   "metadata": {
    "collapsed": true
   },
   "outputs": [],
   "source": [
    "# compile\n",
    "# 書いたことをまとめる\n",
    "# x,yを入力データとする\n",
    "# 入力データxをp_1( logistic関数 )に入る\n",
    "# 関数の出力が0.5以下のものをFalse,それ以外をTrue\n",
    "# ここで，Pythonの仕様だと{ 1-True }は0, { 1-False }は1となる\n",
    "# x,yを使って，クロスエントロピーを計算する\n",
    "# クロスエントロピーをw,bで微分し，結果をgw, gbにいれる\n",
    "# アップデート方法は，w-0.1*gwで行う\n",
    "train = theano.function(\n",
    "inputs=[x,y],\n",
    "outputs=[prediction, xent],\n",
    "updates=((w, w - 0.1 * gw), (b, b - 0.1 * gb)))"
   ]
  },
  {
   "cell_type": "code",
   "execution_count": 148,
   "metadata": {
    "collapsed": true
   },
   "outputs": [],
   "source": [
    "predict = theano.function(inputs=[x], outputs=prediction)"
   ]
  },
  {
   "cell_type": "code",
   "execution_count": 149,
   "metadata": {
    "collapsed": true
   },
   "outputs": [],
   "source": [
    "# Train\n",
    "for i in range(training_steps):\n",
    "    pred, err = train(D[0], D[1])"
   ]
  },
  {
   "cell_type": "code",
   "execution_count": 150,
   "metadata": {
    "collapsed": false
   },
   "outputs": [
    {
     "name": "stdout",
     "output_type": "stream",
     "text": [
      "Final model:\n",
      "[  3.31739598e-02   1.34800209e-01   6.84186116e-03  -8.91698492e-02\n",
      "  -3.97774263e-02  -2.07729348e-01  -1.23857691e-01   5.74378447e-02\n",
      "  -8.59472952e-02  -1.62202966e-01  -2.10737540e-02  -1.30212333e-01\n",
      "  -8.84553805e-02   1.67322278e-03   5.43404614e-02   1.10613863e-02\n",
      "  -3.01151018e-02   1.50855641e-01   4.20946037e-02   1.51373856e-03\n",
      "   4.08118119e-02   2.95109882e-02  -5.84653974e-03   1.60046979e-01\n",
      "  -1.24103805e-02  -1.02845874e-01   9.24932758e-02  -8.69586019e-02\n",
      "   1.34677024e-01  -1.28997918e-02   5.47259561e-02  -5.66205631e-02\n",
      "  -6.78370766e-03   9.38262157e-03  -7.21655597e-02   7.40480274e-02\n",
      "  -2.40748528e-01   2.50211288e-02  -2.26594550e-02  -6.60428262e-02\n",
      "  -7.13144541e-02   3.04297589e-02   1.26253150e-02  -2.95633275e-02\n",
      "   2.14443730e-01  -6.01331383e-02   1.53965595e-02   8.27302215e-02\n",
      "   1.85153959e-02   1.33035083e-02   8.50051407e-02   1.52704099e-01\n",
      "   4.76618219e-02  -1.11010867e-01  -3.80633370e-02  -1.07338615e-01\n",
      "  -1.45165707e-01   2.65220086e-02  -7.25450403e-02  -9.53073984e-02\n",
      "  -1.89557507e-02   6.51453440e-02  -6.95904029e-02  -5.00674800e-02\n",
      "   6.87806014e-02  -1.49832416e-01  -4.48335589e-02  -3.04849830e-02\n",
      "  -1.19354730e-01   1.67057243e-01  -2.13144701e-02   4.64327358e-02\n",
      "  -1.21730216e-01   7.96553268e-03   1.39077601e-01   3.21540906e-02\n",
      "   2.00582728e-01  -3.55223706e-02  -5.07180216e-02  -1.43650774e-01\n",
      "  -3.70305709e-03   1.50523903e-01   4.09822464e-02   1.77269402e-01\n",
      "   5.99443503e-02  -2.70486512e-03  -5.46083622e-03  -1.75575017e-01\n",
      "  -1.12537886e-01   1.44253254e-01   1.92654919e-01  -1.09989838e-02\n",
      "   2.06830731e-02   6.69773086e-02  -1.84660863e-01   5.29043828e-02\n",
      "  -4.03288953e-02  -6.42275787e-02  -2.10765356e-02  -1.31886735e-01\n",
      "  -1.36490103e-01  -5.81170604e-02  -1.17163652e-01  -4.52366585e-02\n",
      "   1.03314392e-01  -9.86249795e-03   9.96553318e-03  -2.00298621e-02\n",
      "   6.04025520e-02   1.47214457e-01  -1.00273949e-01  -4.87415736e-02\n",
      "   1.64090859e-01  -5.81334354e-03   2.16005524e-01  -1.75561763e-02\n",
      "  -2.45141044e-01  -1.37606422e-01  -7.02607027e-02  -4.67868561e-02\n",
      "  -2.18778490e-01   4.59575165e-02  -6.15088844e-02   5.63660587e-02\n",
      "   7.43893778e-02  -1.46455373e-01   7.43873286e-02   2.38077845e-02\n",
      "   1.90740270e-02   8.93492981e-02  -2.17965586e-02  -6.97175213e-02\n",
      "  -2.12284703e-02  -3.35845061e-02   1.00253703e-01  -1.04627088e-01\n",
      "   1.48419942e-02   4.85192376e-02   2.87743154e-02  -2.14406976e-01\n",
      "   1.44745094e-01  -5.59318702e-02   4.32815944e-02  -5.86498322e-02\n",
      "   8.99315757e-02  -1.03590012e-01   1.01444570e-01  -5.69109606e-02\n",
      "  -7.29017475e-02   1.35906904e-02  -5.17096803e-02  -3.58748351e-02\n",
      "   1.41842861e-02   1.27599766e-01   2.39566609e-02  -7.31323584e-02\n",
      "   6.48027326e-02   1.08229492e-02  -5.99816393e-02  -7.73100902e-02\n",
      "   2.99754276e-02  -8.19860340e-02   7.49334382e-02  -4.92661994e-02\n",
      "  -6.11832137e-02   1.76262650e-01   1.04360109e-01   1.80826960e-02\n",
      "  -1.24941563e-01  -2.14280554e-02   1.10094842e-03  -1.62772625e-01\n",
      "  -2.82676565e-02   1.98105135e-01  -1.69930934e-03   2.50790556e-02\n",
      "  -3.45214622e-02  -1.23006689e-01  -2.04712912e-01  -3.09714787e-02\n",
      "  -8.16445482e-02   1.28039303e-01   7.01488872e-02   4.26713189e-03\n",
      "  -2.02597566e-01  -3.30170700e-02  -2.02663376e-01   1.09289550e-02\n",
      "   1.08512452e-01  -4.96618722e-03   4.82211217e-02   8.52073717e-02\n",
      "  -3.42490460e-02  -4.89775509e-02  -6.42238944e-02   4.01782738e-02\n",
      "   2.06721304e-02   8.81568581e-02   3.20488560e-02   2.35798809e-02\n",
      "  -6.29231320e-04  -5.31815648e-02   3.06735257e-01   1.60688624e-02\n",
      "   1.70564751e-02   7.14274855e-02   1.91727217e-03   8.62241409e-02\n",
      "  -6.74376476e-03  -4.75926981e-02  -1.17534567e-03  -2.80265336e-02\n",
      "   2.41967549e-02   1.80947517e-01  -1.22441572e-01  -1.91988896e-02\n",
      "  -9.85626319e-02  -1.07075434e-01   2.21846278e-02  -1.90892484e-03\n",
      "  -4.35772836e-02   8.45402297e-02  -2.47438646e-02   2.17778935e-02\n",
      "   1.14875268e-01  -2.44050454e-01   9.14887314e-02  -6.79027343e-03\n",
      "   8.64838614e-03  -3.02103269e-02   2.43544389e-02   3.88046816e-02\n",
      "   7.86466301e-02  -4.11809419e-05   6.24469969e-03  -9.26597134e-02\n",
      "   1.31442272e-01   8.65702674e-02   3.11027603e-02  -4.56725558e-03\n",
      "  -4.80075246e-02  -1.34318876e-01  -5.06380726e-02   5.48627591e-02\n",
      "  -2.33452686e-02   2.44252831e-01  -8.57597154e-02   1.27277757e-02\n",
      "  -9.96279447e-02   7.57160352e-02   8.80640045e-03  -1.63107555e-02\n",
      "   1.44078470e-01   5.64503200e-03   4.55177574e-02  -1.58206792e-02\n",
      "  -2.59658040e-03   9.75087295e-02   1.41022026e-02   3.79770030e-02\n",
      "   1.08271006e-02  -4.48155424e-02  -3.91191735e-02   1.22751071e-01\n",
      "  -4.06184303e-02   4.36635308e-02   6.05152336e-02  -1.63778103e-01\n",
      "  -1.80988586e-01   5.91721523e-02  -1.45467878e-01  -2.44476950e-02\n",
      "  -1.14206388e-01   3.97380660e-02  -7.72123206e-02  -1.95036883e-01\n",
      "  -1.64316194e-01  -3.98547721e-02   1.71187608e-01   3.00090474e-02\n",
      "   7.24211077e-02   4.17517849e-02  -4.77845307e-02  -2.66263109e-01\n",
      "  -8.48813870e-02  -5.58216928e-02  -1.51077774e-01  -3.46955888e-02\n",
      "  -2.11237067e-01   4.63745403e-02   4.00458225e-02  -1.69713263e-02\n",
      "  -3.84934800e-02   7.99364929e-02   1.36958891e-01   3.26183384e-02\n",
      "  -3.42951419e-02   7.52082151e-02   8.17576436e-02   5.82521923e-02\n",
      "  -3.01985465e-02  -1.42391576e-01   6.35319056e-02   4.08286145e-02\n",
      "   1.46517192e-01   7.99282999e-02   8.05434306e-02  -1.26556830e-01\n",
      "  -1.60594416e-02   2.02596635e-02   4.47432975e-02  -5.27525110e-02\n",
      "   1.42319807e-01  -3.11851295e-02  -7.40219428e-03  -9.40806404e-03\n",
      "   2.33270353e-02   1.08299967e-01   1.06209157e-01   1.54146486e-01\n",
      "  -8.29938120e-02  -6.77960911e-02  -9.17222798e-02  -5.24008017e-02\n",
      "  -6.63775158e-02  -3.07244550e-02   3.32332181e-02   5.18533220e-02\n",
      "   6.33753055e-02   4.75870114e-02   1.27879439e-01  -1.87805669e-02\n",
      "  -1.82805220e-01  -1.79945533e-01   1.10210385e-01  -8.33110385e-03\n",
      "   1.89626511e-02   1.71633061e-01  -5.92635056e-02   6.84554734e-02\n",
      "  -1.10955154e-01   5.05011506e-02   2.10101484e-02   1.08622125e-01\n",
      "  -1.18079395e-01  -8.37570445e-02  -3.39014231e-02   6.86997582e-02\n",
      "   1.04326825e-01   8.65384911e-02  -3.14762320e-02   1.00555779e-01\n",
      "   5.37099374e-02  -5.37749961e-03   1.89057289e-02  -5.25365232e-02\n",
      "   1.55788249e-01  -2.13366608e-02   1.84563242e-02  -6.25259192e-02\n",
      "   2.16523034e-03  -4.67454252e-02  -6.20705321e-02   2.60408368e-02\n",
      "  -7.17505464e-02   3.55913748e-02   1.30966533e-01  -3.45507750e-02\n",
      "  -2.47919382e-02   1.95056394e-01  -8.54951445e-02  -1.80141793e-01\n",
      "   1.83406315e-02   1.09081762e-01   1.02768119e-01   2.23945412e-02\n",
      "  -7.45144633e-02  -1.08968803e-01  -1.30451828e-01  -2.51016729e-02\n",
      "  -1.23316962e-01  -1.91250950e-01  -1.12342519e-01  -1.83576386e-02\n",
      "  -3.34244088e-02   1.54785023e-01   1.21191716e-01   1.15228655e-01\n",
      "   5.07216159e-02   7.89064175e-02   8.98654931e-02   2.12475235e-02\n",
      "   9.56245397e-02  -6.30564866e-02  -1.10520521e-02  -1.69814824e-02\n",
      "   2.52223296e-02   5.74283510e-02  -8.00330164e-02  -1.12894078e-01\n",
      "  -6.89607515e-02  -5.13704209e-02  -4.95412293e-02   6.23045116e-02\n",
      "   3.55395254e-02  -5.57808413e-02   1.63989601e-01  -1.27948340e-01\n",
      "  -1.16306460e-01   6.24923604e-02   9.37840205e-02   3.32710562e-02\n",
      "  -3.39863581e-02   4.19208737e-02  -1.43915855e-01  -1.66313971e-01\n",
      "   4.70750984e-03  -6.58851289e-02  -2.31969731e-02   3.69124129e-02\n",
      "   4.17030292e-02   1.05732504e-03  -3.07418279e-02   3.37529207e-02\n",
      "  -7.56827862e-02  -1.18625870e-02  -1.67174544e-02   1.10471697e-01\n",
      "   4.20425843e-02   1.32588140e-01  -2.27296322e-04   9.98438499e-04\n",
      "  -7.31125497e-02  -7.65260022e-02  -1.01766636e-01   2.42503580e-02\n",
      "  -3.85112961e-02   4.16820941e-02   1.90364151e-02  -4.41764916e-02\n",
      "   1.81800505e-02  -1.78878293e-02  -1.66032391e-02   1.29386275e-02\n",
      "  -1.42436402e-02   4.42960097e-02   8.99359872e-02  -1.63871582e-01\n",
      "  -7.43377689e-02   2.13227267e-02  -3.81938682e-02   2.36292686e-02\n",
      "  -2.27795411e-02   3.35210413e-02  -8.95533907e-02   2.01844785e-01\n",
      "  -3.59583422e-02  -2.44289641e-02  -3.80603227e-03  -7.98972896e-02\n",
      "   9.43581708e-04  -2.22147094e-02   1.17013794e-01   4.85517837e-02\n",
      "  -2.01604826e-02   1.49937488e-02  -7.92226229e-02  -7.22476840e-03\n",
      "  -5.00147086e-02   2.46149511e-02   6.47894878e-03   1.49069110e-01\n",
      "  -2.23339764e-02  -9.51913006e-02  -6.39537511e-02   5.54087330e-02\n",
      "   1.19483461e-01  -1.62531683e-01   5.33827357e-02   1.34617574e-02\n",
      "   1.82167903e-01   4.82625588e-03   8.50769103e-02  -7.38135045e-02\n",
      "   1.59612888e-01   1.33259810e-01   1.08203351e-01  -2.04745752e-01\n",
      "   6.75390182e-02  -4.57201413e-02  -4.48656961e-02  -3.27603446e-02\n",
      "   4.58303649e-02   1.51156520e-01   8.29043194e-02   1.02499458e-01\n",
      "   1.52872358e-02  -5.27480830e-02   8.19730967e-03   9.09239530e-02\n",
      "   5.83658601e-02  -1.55538728e-02  -4.54460346e-02   1.83795337e-04\n",
      "  -5.21312170e-02   3.63484893e-02   6.63693901e-02   9.44144318e-02\n",
      "  -5.50473416e-02   6.18225118e-02   5.99005045e-03   3.64791284e-02\n",
      "   5.24417462e-02  -9.38070055e-02   9.25452550e-02  -1.75152147e-01\n",
      "  -1.99449645e-02  -8.91514224e-02   7.06575735e-02   7.11152078e-02\n",
      "  -2.64392886e-02  -2.45368096e-01   2.92248599e-02  -4.41638922e-02\n",
      "  -1.51160146e-01  -5.14133474e-02   9.88811484e-02   6.55065790e-02\n",
      "  -1.33265386e-01   1.01499989e-01  -2.01892220e-02   5.03790629e-02\n",
      "  -4.30232856e-02   9.49829650e-02  -2.01507948e-01   2.15220214e-02\n",
      "   2.29847522e-02   4.46253826e-02  -4.82501136e-02   2.48186565e-02\n",
      "   5.98759568e-03   1.06060187e-01  -5.62349409e-02   6.81186446e-02\n",
      "  -5.58056973e-02   5.92610817e-02  -1.34117014e-01  -5.73671808e-02\n",
      "  -1.30611359e-01  -1.40670082e-01   2.05669290e-02   7.44258571e-03\n",
      "  -3.89364463e-02  -1.08160507e-02   9.53953798e-02  -1.45719821e-01\n",
      "   1.93825879e-01   7.02328594e-02  -1.61870199e-01  -7.68776653e-02\n",
      "   7.44034527e-02   4.12318347e-02  -5.85105666e-02  -4.97666498e-02\n",
      "  -1.03827158e-01   9.62874126e-02   1.21855108e-01  -2.20097980e-02\n",
      "  -1.18451522e-01  -5.18600550e-02  -6.42811958e-02   6.08628088e-03\n",
      "   6.42275126e-02   6.04547829e-02   1.17603521e-01  -1.42198654e-01\n",
      "   1.24105876e-01  -2.29969160e-02   1.02625708e-01  -5.19814308e-02\n",
      "  -2.69108622e-02   1.43556450e-01   4.51764174e-02  -8.78082854e-02\n",
      "  -1.25691212e-01  -1.14895664e-01  -1.60292167e-01  -3.16957790e-02\n",
      "   5.51598891e-02  -1.16120042e-01  -5.52432583e-02   1.51957490e-01\n",
      "   1.55922804e-01  -3.13042857e-02  -9.40196404e-02   5.69644024e-02\n",
      "   6.08746783e-02   3.24309922e-02   1.54204161e-01   1.52086413e-01\n",
      "  -3.77044591e-02   1.44643257e-01  -8.94023423e-02   1.56806443e-01\n",
      "  -1.04223846e-02  -3.42354394e-02  -1.40143949e-01   5.78550026e-02\n",
      "  -2.31028356e-02   2.08118338e-02  -3.64826612e-03  -2.55061888e-03\n",
      "  -5.54653231e-02   3.22607415e-03  -2.15983014e-02  -2.90882508e-02\n",
      "  -1.39738184e-01   8.61985321e-02   2.45531417e-02  -6.23454638e-02\n",
      "  -2.62133862e-01  -3.21863459e-02  -2.55183554e-01   8.14678082e-02\n",
      "   1.97391472e-01  -7.22708697e-02   3.46343356e-02  -2.43692325e-02\n",
      "  -2.77396883e-01  -3.25173839e-02  -1.90346972e-02   1.08640852e-01\n",
      "  -1.57867440e-01  -5.66312599e-02  -1.41270054e-01  -5.80624175e-02\n",
      "   4.25696747e-02  -1.28515888e-02   7.61108346e-02   8.75886507e-02\n",
      "  -2.77504118e-03  -1.97800224e-02   2.65927308e-02   2.24175893e-02\n",
      "   5.82414104e-02  -2.62122833e-03   1.22062666e-01  -2.66097307e-02\n",
      "   5.93002312e-02  -1.76000709e-02  -7.97561021e-02  -5.98343000e-02\n",
      "  -6.57613006e-02   2.23734684e-02  -8.93808830e-02  -1.21908084e-01\n",
      "  -3.35955718e-02  -1.44974173e-02  -9.77741443e-02   2.58106990e-02\n",
      "  -2.16804082e-01  -6.63241178e-02  -4.92639054e-04   2.37691451e-02\n",
      "   9.94940316e-02  -2.99194174e-02   7.32112234e-02   1.37980817e-01\n",
      "  -9.98088727e-02  -6.57551240e-02  -6.23215284e-02   1.00931942e-01\n",
      "   8.82849522e-02   6.70615459e-02   1.38660567e-01  -2.16669622e-02\n",
      "  -4.36450779e-02  -7.75497613e-02  -7.78120102e-02   1.30684768e-01\n",
      "  -1.22291005e-01   5.87514884e-02   3.93074962e-02   8.03276208e-03\n",
      "   5.99957216e-02   8.59271599e-03   5.20934703e-02  -2.77167812e-02\n",
      "  -1.16650344e-01  -1.70245131e-01   7.15179945e-02  -2.04536826e-01\n",
      "   2.70169831e-01  -2.80570029e-02   6.22521819e-02   1.51492576e-01\n",
      "   5.20619246e-03  -4.56827023e-02  -1.53396039e-01  -6.31038402e-02\n",
      "  -1.45928952e-01  -5.69476224e-03  -9.13470849e-02   1.15798235e-01\n",
      "  -4.56915530e-03  -2.97340009e-02  -2.42526412e-02   1.24141035e-01\n",
      "   7.94466538e-02  -7.11137778e-02   9.73886769e-02   9.43154824e-03\n",
      "  -7.70213150e-02   4.06946543e-02  -5.35283119e-02   1.22927243e-02\n",
      "  -4.18581425e-02   2.51625496e-03   4.14492307e-03  -8.11441391e-02\n",
      "  -3.04417923e-02   9.33896472e-03  -5.58919018e-02  -3.56572513e-02\n",
      "   8.61444745e-02  -3.87320807e-02   6.48721590e-02   1.55869546e-02\n",
      "   8.39143175e-02  -9.18360961e-02   3.64226837e-02   1.68922067e-02\n",
      "  -4.07366208e-03  -7.48080317e-03  -8.71493042e-02  -3.67324192e-02\n",
      "   1.46231577e-01  -3.74919255e-03   1.61153236e-02  -4.84262792e-02\n",
      "   1.86321344e-02   8.41790450e-02  -6.16665382e-02   4.82654731e-02\n",
      "  -1.12339591e-01   1.03561570e-01   4.60904266e-02  -4.42758895e-02\n",
      "   1.34870755e-01  -1.61965043e-02  -4.56757528e-03  -1.28342873e-01\n",
      "  -8.15816851e-02   4.43610127e-02  -4.02306824e-02   5.92553209e-02\n",
      "   2.25402009e-02   8.96051993e-02  -2.10757499e-02   9.26361686e-05\n",
      "  -8.42525234e-02   1.18898632e-03  -3.88030490e-04  -2.33519359e-01\n",
      "   7.97919642e-02   1.59982775e-01   4.35465591e-02  -8.89318886e-02\n",
      "   3.95845658e-02  -1.00836497e-01  -1.01126039e-01   2.26731376e-02\n",
      "   1.39245923e-02   2.73962678e-02   1.46294371e-01  -1.56155074e-01\n",
      "   8.86819104e-02   3.51534834e-02   3.95382768e-02  -5.18885683e-02\n",
      "  -4.96976593e-02   4.13261895e-02  -9.79176410e-02  -8.50749647e-02]\n",
      "0.177824198453\n",
      "target values for D:\n",
      "[1 1 0 1 1 0 0 0 1 1 0 0 1 1 0 1 0 0 1 0 1 0 0 1 0 1 0 0 1 1 0 1 0 1 1 1 1\n",
      " 0 0 1 1 1 1 0 0 0 1 1 0 0 1 0 1 0 1 1 0 0 0 0 1 1 0 1 0 0 1 1 0 1 1 1 1 0\n",
      " 1 0 0 1 0 0 0 0 1 0 1 0 0 1 0 1 0 0 0 0 1 1 0 0 0 1 0 1 0 0 1 0 0 0 0 0 1\n",
      " 0 0 1 0 1 1 0 1 1 1 0 1 0 1 0 0 0 0 1 1 0 0 1 1 1 0 1 0 0 1 0 0 1 0 1 1 1\n",
      " 0 1 1 0 0 0 0 0 1 0 1 1 1 1 1 0 0 1 1 1 0 0 1 1 0 1 0 0 1 0 0 1 0 1 1 1 1\n",
      " 1 1 0 0 0 1 0 0 0 1 0 1 0 0 1 1 0 0 1 1 0 1 1 1 1 0 1 1 1 1 1 0 1 1 0 1 1\n",
      " 1 0 1 1 1 0 1 1 0 0 1 1 1 0 0 1 1 1 1 0 0 0 1 0 1 0 1 1 1 1 1 1 0 0 1 0 1\n",
      " 0 1 1 1 1 1 0 0 1 0 1 1 1 0 0 0 0 1 0 1 1 0 1 1 0 1 1 0 0 0 0 0 1 1 0 1 1\n",
      " 1 1 0 0 1 0 1 0 1 1 1 0 0 0 0 0 1 1 1 1 0 1 0 0 0 1 0 1 1 0 1 1 1 0 0 0 0\n",
      " 1 0 1 1 1 1 0 1 0 0 0 0 0 0 1 1 1 1 0 1 0 1 1 0 0 0 1 0 1 0 1 0 0 0 1 1 0\n",
      " 1 1 0 1 1 0 1 1 1 0 1 1 0 0 0 0 0 1 1 0 1 1 1 0 0 0 1 0 1 0]\n",
      "prediction on D:\n",
      "[1 1 0 1 1 0 0 0 1 1 0 0 1 1 0 1 0 0 1 0 1 0 0 1 0 1 0 0 1 1 0 1 0 1 1 1 1\n",
      " 0 0 1 1 1 1 0 0 0 1 1 0 0 1 0 1 0 1 1 0 0 0 0 1 1 0 1 0 0 1 1 0 1 1 1 1 0\n",
      " 1 0 0 1 0 0 0 0 1 0 1 0 0 1 0 1 0 0 0 0 1 1 0 0 0 1 0 1 0 0 1 0 0 0 0 0 1\n",
      " 0 0 1 0 1 1 0 1 1 1 0 1 0 1 0 0 0 0 1 1 0 0 1 1 1 0 1 0 0 1 0 0 1 0 1 1 1\n",
      " 0 1 1 0 0 0 0 0 1 0 1 1 1 1 1 0 0 1 1 1 0 0 1 1 0 1 0 0 1 0 0 1 0 1 1 1 1\n",
      " 1 1 0 0 0 1 0 0 0 1 0 1 0 0 1 1 0 0 1 1 0 1 1 1 1 0 1 1 1 1 1 0 1 1 0 1 1\n",
      " 1 0 1 1 1 0 1 1 0 0 1 1 1 0 0 1 1 1 1 0 0 0 1 0 1 0 1 1 1 1 1 1 0 0 1 0 1\n",
      " 0 1 1 1 1 1 0 0 1 0 1 1 1 0 0 0 0 1 0 1 1 0 1 1 0 1 1 0 0 0 0 0 1 1 0 1 1\n",
      " 1 1 0 0 1 0 1 0 1 1 1 0 0 0 0 0 1 1 1 1 0 1 0 0 0 1 0 1 1 0 1 1 1 0 0 0 0\n",
      " 1 0 1 1 1 1 0 1 0 0 0 0 0 0 1 1 1 1 0 1 0 1 1 0 0 0 1 0 1 0 1 0 0 0 1 1 0\n",
      " 1 1 0 1 1 0 1 1 1 0 1 1 0 0 0 0 0 1 1 0 1 1 1 0 0 0 1 0 1 0]\n"
     ]
    }
   ],
   "source": [
    "print(\"Final model:\")\n",
    "print(w.get_value())\n",
    "print(b.get_value())\n",
    "print(\"target values for D:\")\n",
    "print(D[1])\n",
    "print(\"prediction on D:\")\n",
    "print(predict(D[0]))"
   ]
  },
  {
   "cell_type": "markdown",
   "metadata": {},
   "source": [
    "# Computing Gradients"
   ]
  },
  {
   "cell_type": "code",
   "execution_count": 154,
   "metadata": {
    "collapsed": true
   },
   "outputs": [],
   "source": [
    "import numpy as np\n",
    "import theano\n",
    "import theano.tensor as T\n",
    "from theano import pp"
   ]
  },
  {
   "cell_type": "code",
   "execution_count": 155,
   "metadata": {
    "collapsed": true
   },
   "outputs": [],
   "source": [
    "x=T.dscalar('x')"
   ]
  },
  {
   "cell_type": "code",
   "execution_count": 156,
   "metadata": {
    "collapsed": true
   },
   "outputs": [],
   "source": [
    "y = x**2"
   ]
  },
  {
   "cell_type": "code",
   "execution_count": 157,
   "metadata": {
    "collapsed": true
   },
   "outputs": [],
   "source": [
    "gy = T.grad(y, x)"
   ]
  },
  {
   "cell_type": "code",
   "execution_count": 158,
   "metadata": {
    "collapsed": false
   },
   "outputs": [
    {
     "data": {
      "text/plain": [
       "'((fill((x ** TensorConstant{2}), TensorConstant{1.0}) * TensorConstant{2}) * (x ** (TensorConstant{2} - TensorConstant{1})))'"
      ]
     },
     "execution_count": 158,
     "metadata": {},
     "output_type": "execute_result"
    }
   ],
   "source": [
    "pp(gy)"
   ]
  },
  {
   "cell_type": "code",
   "execution_count": 159,
   "metadata": {
    "collapsed": true
   },
   "outputs": [],
   "source": [
    "f = theano.function([x], gy)"
   ]
  },
  {
   "cell_type": "code",
   "execution_count": 160,
   "metadata": {
    "collapsed": false
   },
   "outputs": [
    {
     "data": {
      "text/plain": [
       "array(8.0)"
      ]
     },
     "execution_count": 160,
     "metadata": {},
     "output_type": "execute_result"
    }
   ],
   "source": [
    "f(4)"
   ]
  },
  {
   "cell_type": "code",
   "execution_count": 161,
   "metadata": {
    "collapsed": false
   },
   "outputs": [
    {
     "data": {
      "text/plain": [
       "True"
      ]
     },
     "execution_count": 161,
     "metadata": {},
     "output_type": "execute_result"
    }
   ],
   "source": [
    "np.allclose(f(94.2), 188.4)"
   ]
  },
  {
   "cell_type": "code",
   "execution_count": 162,
   "metadata": {
    "collapsed": false
   },
   "outputs": [
    {
     "data": {
      "text/plain": [
       "'(TensorConstant{2.0} * x)'"
      ]
     },
     "execution_count": 162,
     "metadata": {},
     "output_type": "execute_result"
    }
   ],
   "source": [
    "pp(f.maker.fgraph.outputs[0])"
   ]
  },
  {
   "cell_type": "code",
   "execution_count": 163,
   "metadata": {
    "collapsed": true
   },
   "outputs": [],
   "source": [
    "x = T.dmatrix('x')"
   ]
  },
  {
   "cell_type": "markdown",
   "metadata": {},
   "source": [
    "$ \\frac{ds(x)}{dx}= s(x)\\dot(1-s(x))$"
   ]
  },
  {
   "cell_type": "code",
   "execution_count": 165,
   "metadata": {
    "collapsed": false
   },
   "outputs": [],
   "source": [
    "s = T.sum(1 / (1+T.exp(-x)))"
   ]
  },
  {
   "cell_type": "code",
   "execution_count": 166,
   "metadata": {
    "collapsed": true
   },
   "outputs": [],
   "source": [
    "# sの式をxで微分する\n",
    "gs = T.grad(s,x)"
   ]
  },
  {
   "cell_type": "code",
   "execution_count": 167,
   "metadata": {
    "collapsed": true
   },
   "outputs": [],
   "source": [
    "dlogistic = function([x],gs)"
   ]
  },
  {
   "cell_type": "code",
   "execution_count": 168,
   "metadata": {
    "collapsed": false
   },
   "outputs": [
    {
     "data": {
      "text/plain": [
       "array([[ 0.25      ,  0.19661193],\n",
       "       [ 0.19661193,  0.10499359]])"
      ]
     },
     "execution_count": 168,
     "metadata": {},
     "output_type": "execute_result"
    }
   ],
   "source": [
    "dlogistic([[0,1],[-1,-2]])"
   ]
  },
  {
   "cell_type": "markdown",
   "metadata": {},
   "source": [
    "# AutoEncoder\n",
    "チュートリアルに関して，だんだんlオペレータとかニューラルネットワークの計算以外の計算についての話になってきたので，一度個々で中断する．\n",
    "一度，以下のサイトを頼りにAutoEncoderを実装してみる．\n",
    "\n",
    "URL: http://aidiary.hatenablog.com/entry/20151203/1449146680  \n",
    "を参考にAutoEncoderを実装する"
   ]
  },
  {
   "cell_type": "code",
   "execution_count": 171,
   "metadata": {
    "collapsed": true
   },
   "outputs": [],
   "source": [
    "import os\n",
    "import sys\n",
    "import timeit\n",
    "\n",
    "import numpy as np\n",
    "\n",
    "import theano\n",
    "import theano.tensor as T\n",
    "from theano.sandbox.rng_mrg import MRG_RandomStreams as RandomStreams"
   ]
  },
  {
   "cell_type": "code",
   "execution_count": 173,
   "metadata": {
    "collapsed": true
   },
   "outputs": [],
   "source": [
    "class dA(object):\n",
    "    \"\"\"Denoising Auto-Encoder class (dA)\n",
    "\n",
    "    A denoising autoencoders tries to reconstruct the input from a corrupted\n",
    "    version of it by projecting it first in a latent space and reprojecting\n",
    "    it afterwards back in the input space. Please refer to Vincent et al.,2008\n",
    "    for more details. If x is the input then equation (1) computes a partially\n",
    "    destroyed version of x by means of a stochastic mapping q_D. Equation (2)\n",
    "    computes the projection of the input into the latent space. Equation (3)\n",
    "    computes the reconstruction of the input, while equation (4) computes the\n",
    "    reconstruction error.\n",
    "    \"\"\"\n",
    "    def __init__(\n",
    "        self, numpy_rng, theano_rng=None, input=None,\n",
    "        n_visible=784, n_hidden=500, W=None,\n",
    "        bhid=None, bvis=None):\n",
    "        \n",
    "        self.n_visible = n_visible # input layer's node \n",
    "        self.n_hidden = n_hidden # hidden layer's node\n",
    "        \n",
    "        if not theano_rng:\n",
    "            theano_rng = RandomStreams(numpy_rng.randint(2 ** 30))\n",
    "        if not W:\n",
    "            initial_W = np.asarray(\n",
    "                        numpy_rng.uniform(\n",
    "                            low=-4 * np.sqrt(6. / (n_hidden + n_visible)),\n",
    "                            high=4 * np.sqrt(6. / (n_hidden + n_visible)),\n",
    "                            size=(n_visible, n_hidden)\n",
    "                        ),\n",
    "                            dtype=theano.config.floatX\n",
    "                        )\n",
    "            W = theano.shared(value=initial_W, name='W', borrow=True)\n",
    "        if not bvis:\n",
    "            bvis = theano.shared(value=numpy.zeros(\n",
    "                    n_visible,\n",
    "                    dtype=theano.config.floatX\n",
    "                ),\n",
    "                borrow=True\n",
    "            )\n",
    "\n",
    "        if not bhid:\n",
    "            bhid = theano.shared(\n",
    "                value=numpy.zeros(\n",
    "                    n_hidden,\n",
    "                    dtype=theano.config.floatX\n",
    "                ),\n",
    "                name='b',\n",
    "                borrow=True\n",
    "            )"
   ]
  },
  {
   "cell_type": "markdown",
   "metadata": {},
   "source": [
    "$\\tilde{x}-~ q_D(\\tilde{x}|x)\\dots(1)$  \n",
    "$y = s(W \\tilde{x} + b)                                           \\dots(2)$  \n",
    "$x = s(W' y  + b')                                                \\dots(3)$  \n",
    "$L(x,z) = -\\sum_{k=1}^d [x_k \\log z_k + (1-x_k) \\log( 1-z_k)]      \\dots(4)$  \n"
   ]
  },
  {
   "cell_type": "code",
   "execution_count": null,
   "metadata": {
    "collapsed": true
   },
   "outputs": [],
   "source": []
  }
 ],
 "metadata": {
  "kernelspec": {
   "display_name": "Python 2",
   "language": "python",
   "name": "python2"
  },
  "language_info": {
   "codemirror_mode": {
    "name": "ipython",
    "version": 2
   },
   "file_extension": ".py",
   "mimetype": "text/x-python",
   "name": "python",
   "nbconvert_exporter": "python",
   "pygments_lexer": "ipython2",
   "version": "2.7.11"
  }
 },
 "nbformat": 4,
 "nbformat_minor": 1
}
