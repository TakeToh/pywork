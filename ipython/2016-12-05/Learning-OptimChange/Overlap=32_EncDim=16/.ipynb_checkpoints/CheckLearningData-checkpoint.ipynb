{
 "cells": [
  {
   "cell_type": "markdown",
   "metadata": {},
   "source": [
    "ここに学習で必要なパラメータを定義する"
   ]
  },
  {
   "cell_type": "code",
   "execution_count": 1,
   "metadata": {
    "collapsed": true
   },
   "outputs": [],
   "source": [
    "# 表示用\n",
    "from tqdm import tqdm\n",
    "from tqdm import tnrange, tqdm_notebook"
   ]
  },
  {
   "cell_type": "code",
   "execution_count": 18,
   "metadata": {
    "collapsed": false
   },
   "outputs": [],
   "source": [
    "import numpy as np\n",
    "import datetime\n",
    "import os\n",
    "import copy\n",
    "import time\n",
    "\n",
    "# Parametor about Sensor\n",
    "SensorNum=1 # Sensor number\n",
    "#SensorAxis='AccX' # Axis\n",
    "\n",
    "# Parametor about  \" Sliding Window \" \n",
    "WindowWidth =np.array([128,256,512,1024,2048,4096]) # Window Width\n",
    "SlidingWidth =WindowWidth/4 #sliding window\n",
    "\n",
    "# Parametor about Neural Network\n",
    "AEDimention = 16\n",
    "\n",
    "# Define Data Name\n",
    "DATE= str( datetime.date.today() )+'/'\n",
    "TITLE=\"Participants01_First_1/\"\n",
    "\n",
    "# Parametor about \" Data Path\"\n",
    "DataPath = \"/media/takeyama/Transfer/02_ActivityResearch/Paticipants01/01_First/20161018-105301/mem/\"\n",
    "StorePath = \"/home/takeyama/Documents/\"\n",
    "\n",
    "if not os.path.exists(StorePath+'/'+TITLE+DATE+'dictionary/'): \n",
    "    os.makedirs(StorePath+'/'+TITLE+DATE+'dictionary/')\n",
    "DictionaryDataPath=StorePath+'/'+TITLE+DATE+'dictionary/'\n",
    "\n",
    "if not os.path.exists(StorePath+'/'+TITLE+DATE+'window/'): \n",
    "    os.makedirs(StorePath+'/'+TITLE+DATE+'window/')\n",
    "WindowDataPath=StorePath+'/'+TITLE+DATE+'window/'\n",
    "\n",
    "if not os.path.exists(StorePath+'/'+TITLE+DATE+'studyOutput/'): \n",
    "    os.makedirs(StorePath+'/'+TITLE+DATE+'studyOutput/')\n",
    "StudyOutputPath=StorePath+'/'+TITLE+DATE+'studyOutput/'\n",
    "\n",
    "if not os.path.exists(StorePath+'/'+TITLE+DATE+'parametor/'): \n",
    "    os.makedirs(StorePath+'/'+TITLE+DATE+'parametor/')\n",
    "ParametorPath=StorePath+'/'+TITLE+DATE+'parametor/'\n",
    "\n",
    "if not os.path.exists(StorePath+'/'+TITLE+DATE+'result/'): \n",
    "    os.makedirs(StorePath+'/'+TITLE+DATE+'result/')\n",
    "ResultPath=StorePath+'/'+TITLE+DATE+'result/'\n"
   ]
  },
  {
   "cell_type": "markdown",
   "metadata": {},
   "source": [
    "**センサデータの読み込み**"
   ]
  },
  {
   "cell_type": "code",
   "execution_count": 3,
   "metadata": {
    "collapsed": false
   },
   "outputs": [],
   "source": [
    "# センサデータのcsvファイル名をリストに集約する関数\n",
    "def SensorDataFileNameList(path):\n",
    "    l = os.listdir(DataPath)\n",
    "    FilePath =[]\n",
    "    SensorName = []\n",
    "    \n",
    "    for n in range(len(l)):\n",
    "        if (l[n][:4].find('mem-') != -1):\n",
    "            FilePath.append(l[n])\n",
    "            SensorName.append(l[n][4:15])\n",
    "    \n",
    "    return FilePath,SensorName"
   ]
  },
  {
   "cell_type": "markdown",
   "metadata": {},
   "source": [
    "CSVを読み込んで，CSVの中身を辞書型で表現する．"
   ]
  },
  {
   "cell_type": "code",
   "execution_count": 4,
   "metadata": {
    "collapsed": true
   },
   "outputs": [],
   "source": [
    "def ImportCSV(csv_file,SensorName,mode='Round'):\n",
    "    import pandas as pd\n",
    "    '''\n",
    "    ~Argument~\n",
    "    csv_file -> ファイル名 \n",
    "    mode Round -> 四捨五入\n",
    "         Roundup -> 切り上げ\n",
    "         Rounddown -> 切り捨て\n",
    "    \n",
    "    ~Conversion~\n",
    "    Acc Data  [0.1mG]=>[G]\n",
    "    Gyr Data  [0.01dps]=>[dps]   ...dps=degree per second\n",
    "    '''\n",
    "    # data dictionary \n",
    "    RawData={}   \n",
    "    AccConversion = 0.1 * 0.001\n",
    "    GyrConversion = 0.01\n",
    "    \n",
    "    # design dataframe and import csv\n",
    "    data = pd.read_csv(csv_file)\n",
    "    data.columns=[u'Type',u'Time',u'AccX',u'AccY',u'AccZ',u'GyrX',u'GyrY',u'GyrZ']\n",
    "    data = data[ data['Type']=='ags']\n",
    "\n",
    "    # convert numpy.darray \n",
    "\n",
    "    AccX=data.AccX.values*AccConversion\n",
    "    AccY=data.AccY.values*AccConversion\n",
    "    AccZ=data.AccZ.values*AccConversion\n",
    "    \n",
    "    GyrX=data.GyrX.values*GyrConversion\n",
    "    GyrY=data.GyrY.values*GyrConversion\n",
    "    GyrZ=data.GyrZ.values*GyrConversion\n",
    "\n",
    "    # regist each raw data \n",
    "    RawData['AccX'] = AccX\n",
    "    RawData['AccY'] = AccY\n",
    "    RawData['AccZ'] = AccZ\n",
    "    RawData['GyrX'] = GyrX\n",
    "    RawData['GyrY'] = GyrY\n",
    "    RawData['GyrZ'] = GyrZ\n",
    "    RawData['Name'] = SensorName\n",
    "\n",
    "    RawData['Time'] = data.Time.values\n",
    "    return RawData"
   ]
  },
  {
   "cell_type": "code",
   "execution_count": 5,
   "metadata": {
    "collapsed": false
   },
   "outputs": [],
   "source": [
    "import processing\n",
    "import window\n",
    "\n",
    "Label = ['LeftHand','RightHand','LeftLeg','Rightleg','West','Chest']\n",
    "\n",
    "DataFileNameList,SensorName=SensorDataFileNameList(DataPath)\n",
    "l=[]\n",
    "for i in range( len(DataFileNameList) ):\n",
    "    l.append( ImportCSV(DataPath+DataFileNameList[i],Label[i]) )"
   ]
  },
  {
   "cell_type": "markdown",
   "metadata": {},
   "source": [
    "読み込んだセンサデータの時系列を整理する．\n",
    "→具体的には，センサデータのスタート時間とゴール時間を整える．\n"
   ]
  },
  {
   "cell_type": "code",
   "execution_count": 6,
   "metadata": {
    "collapsed": true
   },
   "outputs": [],
   "source": [
    "def MakeCommonSection(inputDataArray):\n",
    "    # 共通区間のスタート時間、ゴール時間を求める\n",
    "    # スタート時間を求める\n",
    "    startTime = min(inputDataArray[0]['Time'])\n",
    "    \n",
    "    for i in range(len(inputDataArray)):\n",
    "        if startTime < min(inputDataArray[i]['Time']):\n",
    "            startTime = min(inputDataArray[i]['Time'])\n",
    "    \n",
    "    # ゴール時間を求める\n",
    "    goalTime = max(inputDataArray[0]['Time'])\n",
    "    \n",
    "    for i in range(len(inputDataArray)):\n",
    "        if goalTime > max(inputDataArray[i]['Time']):\n",
    "            goalTime = max(inputDataArray[i]['Time'])\n",
    "\n",
    "    # 共通区間のスタート時間のインデックス、ゴール時間のインデックスを探索する\n",
    "    def CalcSearchIndexFromTime(data, keyTime):\n",
    "        \"\"\"\n",
    "        data　辞書型\n",
    "        keyTime data['Time']の中の探す値\n",
    "        \"\"\"\n",
    "        count = 0\n",
    "        for i in range(0, len(data['Time'])):\n",
    "            if keyTime == data['Time'][i]:\n",
    "                print str(keyTime)+' is much in the index  whose number is '+str(i)\n",
    "                return i\n",
    "            \n",
    "    startIndex = np.array([])\n",
    "    goalIndex = np.array([])\n",
    "    for obj in inputDataArray:\n",
    "        print 'start'\n",
    "        startIndex = np.append(startIndex, CalcSearchIndexFromTime(obj, startTime) ).astype(int)\n",
    "        print 'goal'\n",
    "        goalIndex = np.append(goalIndex, CalcSearchIndexFromTime(obj, goalTime) ).astype(int)\n",
    "\n",
    "    tmp={}\n",
    "    comDataArray =[]\n",
    "    key={}\n",
    "\n",
    "    # センサデータすべて（時刻、加速度、角速度）に対して共通区間のみのデータを抽出\n",
    "    for number,iDA in enumerate( inputDataArray ):\n",
    "\n",
    "        tmp['AccX'] = copy.deepcopy( iDA['AccX'][startIndex[number]:goalIndex[number]] )\n",
    "        tmp['AccY'] = copy.deepcopy( iDA['AccY'][startIndex[number]:goalIndex[number]] )\n",
    "        tmp['AccZ'] = copy.deepcopy( iDA['AccZ'][startIndex[number]:goalIndex[number]] )\n",
    "        tmp['GyrX'] = copy.deepcopy( iDA['GyrX'][startIndex[number]:goalIndex[number]] )\n",
    "        tmp['GyrY'] = copy.deepcopy( iDA['GyrY'][startIndex[number]:goalIndex[number]] )\n",
    "        tmp['GyrZ'] = copy.deepcopy( iDA['GyrZ'][startIndex[number]:goalIndex[number]] )\n",
    "        tmp['Time'] = copy.deepcopy( iDA['Time'][startIndex[number]:goalIndex[number]] )\n",
    "        tmp['Name'] = copy.deepcopy( iDA['Name'] )\n",
    "        comDataArray.append(copy.deepcopy(tmp) )    \n",
    "        key[ tmp['Name'] ] = number\n",
    "       \n",
    "    return key,comDataArray"
   ]
  },
  {
   "cell_type": "code",
   "execution_count": 7,
   "metadata": {
    "collapsed": false
   },
   "outputs": [
    {
     "name": "stdout",
     "output_type": "stream",
     "text": [
      "start\n",
      "36290413 is much in the index  whose number is 35\n",
      "goal\n",
      "37368283 is much in the index  whose number is 1077905\n",
      "start\n",
      "36290413 is much in the index  whose number is 0\n",
      "goal\n",
      "37368283 is much in the index  whose number is 1077870\n",
      "start\n",
      "36290413 is much in the index  whose number is 959\n",
      "goal\n",
      "37368283 is much in the index  whose number is 1078829\n",
      "start\n",
      "36290413 is much in the index  whose number is 911\n",
      "goal\n",
      "37368283 is much in the index  whose number is 1078781\n",
      "start\n",
      "36290413 is much in the index  whose number is 871\n",
      "goal\n",
      "37368283 is much in the index  whose number is 1078741\n",
      "start\n",
      "36290413 is much in the index  whose number is 834\n",
      "goal\n",
      "37368283 is much in the index  whose number is 1078704\n"
     ]
    }
   ],
   "source": [
    "TrimKey,TrimData = MakeCommonSection(l)"
   ]
  },
  {
   "cell_type": "markdown",
   "metadata": {},
   "source": [
    "辞書型に変換したデータをnp.savez関数でnpz型に圧縮し，保存する"
   ]
  },
  {
   "cell_type": "code",
   "execution_count": 8,
   "metadata": {
    "collapsed": true
   },
   "outputs": [],
   "source": [
    "for i in range(6):\n",
    "    np.savez(DictionaryDataPath+TrimData[i]['Name'],data=TrimData[i])"
   ]
  },
  {
   "cell_type": "markdown",
   "metadata": {},
   "source": [
    "ラベルデータのインポート"
   ]
  },
  {
   "cell_type": "code",
   "execution_count": 9,
   "metadata": {
    "collapsed": false
   },
   "outputs": [
    {
     "data": {
      "text/plain": [
       "array([36290413, 36290414, 36290415, ..., 37368280, 37368281, 37368282])"
      ]
     },
     "execution_count": 9,
     "metadata": {},
     "output_type": "execute_result"
    }
   ],
   "source": [
    "TrimData[0]['Time']"
   ]
  },
  {
   "cell_type": "code",
   "execution_count": 10,
   "metadata": {
    "collapsed": false
   },
   "outputs": [
    {
     "data": {
      "text/plain": [
       "array([36290413, 36290414, 36290415, ..., 37368280, 37368281, 37368282])"
      ]
     },
     "execution_count": 10,
     "metadata": {},
     "output_type": "execute_result"
    }
   ],
   "source": [
    "TrimData[2]['Time']"
   ]
  },
  {
   "cell_type": "code",
   "execution_count": 11,
   "metadata": {
    "collapsed": false
   },
   "outputs": [],
   "source": [
    "LabelPath = \"/media/takeyama/Transfer/02_ActivityResearch/Paticipants01/01_First/20161018-first-syncplay/\"\n",
    "import pandas as pd"
   ]
  },
  {
   "cell_type": "code",
   "execution_count": 12,
   "metadata": {
    "collapsed": false,
    "scrolled": true
   },
   "outputs": [
    {
     "name": "stdout",
     "output_type": "stream",
     "text": [
      "\n"
     ]
    }
   ],
   "source": [
    "data = pd.read_csv(LabelPath+'spa_First_2.csv',encoding='Shift_JIS')\n",
    "\n",
    "array = pd.to_datetime( data['#Time'].values )\n",
    "t = np.array([])\n",
    "for i in tqdm_notebook( range( len(array) ) ):\n",
    "    t = np.append(t, array[i].hour*3600*1000+array[i].minute*60*1000+array[i].second*1000+array[i].microsecond*0.001)\n",
    "    \n",
    "data['#Time'] = t.astype(int)"
   ]
  },
  {
   "cell_type": "markdown",
   "metadata": {},
   "source": [
    "ラベルとデータのリンクを行う\n",
    "\n",
    "テストデータとして，Paticipants01のLeftHandのデータにラベルをリンクさせる．\n",
    "\n",
    "まず，ラベルの時間軸をセンサデータの軸にするために，ラベルのi番目とi+1番目のデータの間に２以上の差があるとき限定でパティングを行う．\n",
    "\n",
    "2016-11-16\n",
    "まずは，ラベルデータをセンサデータとリンクするために\n",
    "* 時間軸のステップが1である\n",
    "* 時間軸はiとi+1の差が1以上ある場合はその間を差の-1回だけ間にi番目のラベルを挿入する\n",
    "\n",
    "やっていく処理の流れ\n",
    "* pandasからnumpyに変換する．\n",
    "*  "
   ]
  },
  {
   "cell_type": "code",
   "execution_count": 13,
   "metadata": {
    "collapsed": false,
    "scrolled": true
   },
   "outputs": [],
   "source": [
    "PdArray =data.as_matrix()"
   ]
  },
  {
   "cell_type": "code",
   "execution_count": 14,
   "metadata": {
    "collapsed": true
   },
   "outputs": [
    {
     "name": "stdout",
     "output_type": "stream",
     "text": [
      "[[36295020 u'\\u505c\\u6b62' nan ..., nan nan nan]\n",
      " [36307158 u'\\u306a\\u3057' u'\\u306a\\u3057' ..., u'\\u306a\\u3057'\n",
      "  u'\\u76f4\\u7acb' 0.0]\n",
      " [36309723 u'\\u6301\\u3064' u'\\u6642\\u8a08' ..., u'\\u306a\\u3057'\n",
      "  u'\\u76f4\\u7acb' 101.0]\n",
      " ..., \n",
      " [37217223 u'\\u306a\\u3057' u'\\u306a\\u3057' ..., u'\\u306a\\u3057'\n",
      "  u'\\u76f4\\u7acb' 114.0]\n",
      " [37221638 u'\\u306a\\u3057' u'\\u306a\\u3057' ..., u'\\u306a\\u3057'\n",
      "  u'\\u76f4\\u7acb' 114.0]\n",
      " [37233827 u'\\u306a\\u3057' u'\\u306a\\u3057' ..., u'\\u306a\\u3057'\n",
      "  u'\\u306a\\u3057' 114.0]]\n"
     ]
    }
   ],
   "source": [
    "print PdArray"
   ]
  },
  {
   "cell_type": "code",
   "execution_count": 15,
   "metadata": {
    "collapsed": false
   },
   "outputs": [
    {
     "data": {
      "text/plain": [
       "array([36295020, u'\\u505c\\u6b62', nan, nan, nan, nan, nan, nan, nan, nan], dtype=object)"
      ]
     },
     "execution_count": 15,
     "metadata": {},
     "output_type": "execute_result"
    }
   ],
   "source": [
    "PdArray[0]"
   ]
  },
  {
   "cell_type": "code",
   "execution_count": null,
   "metadata": {
    "collapsed": false
   },
   "outputs": [],
   "source": [
    "Output = np.array(PdArray[0])\n",
    "\n",
    "for i in  tqdm_notebook( range( len(PdArray)-1 ),leave=False ):\n",
    "    Diff = PdArray[i+1][0]-PdArray[i][0]\n",
    "    if Diff > 0:\n",
    "        for l in tqdm_notebook( range(Diff-1),leave=False ):\n",
    "            Output = np.vstack( (Output, PdArray[i]) )\n",
    "    Output = np.vstack( (Output, PdArray[i+1]) )\n",
    "    time.sleep(0.1)"
   ]
  },
  {
   "cell_type": "code",
   "execution_count": 19,
   "metadata": {
    "collapsed": false
   },
   "outputs": [],
   "source": [
    "def TrimLabel(PandasObject):\n",
    "    TimeArray = PandasObject['#Time']\n",
    "    TrimArray = np.array([])\n",
    "    TrimArray = np.append(TrimArray,PandasObject.ix[0:])\n",
    "\n",
    "    for i in range( len(TimeArray)-1):\n",
    "        Diff = TimeArray[i+1]-TimeArray[i]\n",
    "        if Diff >1:\n",
    "            for l in range(Diff-1):\n",
    "                TrimArray = np.append(TrimArray,PandasObject[i:i+1])\n",
    "            TrimArray = np.append(TrimArray,TimeArray[i+1:i+2])\n",
    "    return TrimArray"
   ]
  },
  {
   "cell_type": "code",
   "execution_count": null,
   "metadata": {
    "collapsed": true
   },
   "outputs": [],
   "source": []
  },
  {
   "cell_type": "code",
   "execution_count": null,
   "metadata": {
    "collapsed": true
   },
   "outputs": [],
   "source": []
  }
 ],
 "metadata": {
  "kernelspec": {
   "display_name": "Python 2",
   "language": "python",
   "name": "python2"
  },
  "language_info": {
   "codemirror_mode": {
    "name": "ipython",
    "version": 2
   },
   "file_extension": ".py",
   "mimetype": "text/x-python",
   "name": "python",
   "nbconvert_exporter": "python",
   "pygments_lexer": "ipython2",
   "version": "2.7.11"
  }
 },
 "nbformat": 4,
 "nbformat_minor": 0
}
