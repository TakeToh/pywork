{
 "cells": [
  {
   "cell_type": "code",
   "execution_count": 1,
   "metadata": {
    "collapsed": false
   },
   "outputs": [],
   "source": [
    "SensorNum=1 # Sensor number\n",
    "WindowWidth=[128,256,512,1024,2048,4096] # Window Width\n",
    "OverlapArray=[16,16,16,16,16,16] # sliding window\n",
    "#width=1000 # graph width \n",
    "#EncodingDim=[4,8,12,16,32,64] # number of hidden layer note\n",
    "encoding_dim=32\n",
    "Axis='AccZ' # Axis\n",
    "\n",
    "#WORKSPACE_PATH = \"/media/takeyama/HD-PZU3/01_TAKEYAMA_WORKSPACE/02_CommonData\"\n",
    "WORKSPACE_PATH = \"/home/takeyama/Documents/01_SyncChopin\"\n",
    "DATE_PATH=\"/2016-08-15/\"\n",
    "TITLE_PATH=\"Optim/\""
   ]
  },
  {
   "cell_type": "code",
   "execution_count": 2,
   "metadata": {
    "collapsed": false
   },
   "outputs": [],
   "source": [
    "import numpy as np\n",
    "import pandas as pd\n",
    "from scipy import fftpack\n",
    "from scipy import signal\n",
    "import time\n",
    "import os\n",
    "import matplotlib.pyplot as plt\n",
    "import pylab\n",
    "import pickle\n",
    "import copy\n",
    "\n",
    "import processing\n",
    "import window\n",
    "\n",
    "import matplotlib.animation as animation\n",
    "import datetime\n",
    "\n",
    "%matplotlib inline"
   ]
  },
  {
   "cell_type": "code",
   "execution_count": 3,
   "metadata": {
    "collapsed": false
   },
   "outputs": [
    {
     "name": "stderr",
     "output_type": "stream",
     "text": [
      "Using Theano backend.\n",
      "Using gpu device 0: GeForce GTX 970 (CNMeM is disabled, cuDNN 4007)\n"
     ]
    }
   ],
   "source": [
    "from keras.models import Sequential\n",
    "from keras.datasets import cifar10\n",
    "from keras.layers import Dense, Activation, Flatten\n",
    "from keras.optimizers import SGD, Adadelta, Adagrad, Adam, Adamax, RMSprop, Nadam\n",
    "from keras.utils import np_utils\n",
    "from keras.layers.convolutional import Convolution2D, MaxPooling2D\n",
    "from keras.utils.visualize_util import model_to_dot, plot\n",
    "from keras import backend as K\n",
    "from keras.layers import Input, Dense\n",
    "from keras.models import Model\n",
    "from keras.callbacks import EarlyStopping\n",
    "\n",
    "import matplotlib.image as mpimg\n"
   ]
  },
  {
   "cell_type": "code",
   "execution_count": 4,
   "metadata": {
    "collapsed": true
   },
   "outputs": [],
   "source": [
    "DataName='sensor'+str(SensorNum)+'_'+Axis\n",
    "SensorName='sensor'+str(SensorNum)\n",
    "DicName='MemSensor'+str(SensorNum)"
   ]
  },
  {
   "cell_type": "code",
   "execution_count": 5,
   "metadata": {
    "collapsed": false
   },
   "outputs": [],
   "source": [
    "# define rawdata directory\n",
    "if not os.path.exists(WORKSPACE_PATH+\"/raw/\"):\n",
    "    os.makedirs(WORKSPACE_PATH+\"/raw/\")\n",
    "RawDataPath=WORKSPACE_PATH+\"/raw/\"\n",
    "\n",
    "# define restoring windowdata directory\n",
    "if not os.path.exists(WORKSPACE_PATH+'/window/'+TITLE_PATH+DataName+'/'): \n",
    "    os.makedirs(WORKSPACE_PATH+'/window/'+TITLE_PATH+DataName+'/')\n",
    "WindowDataPath=WORKSPACE_PATH+'/window/'+TITLE_PATH+DataName+'/'\n",
    "\n",
    "# define restoring netowrk model picture's directory\n",
    "if not os.path.exists(WORKSPACE_PATH+DATE_PATH+'/modelPic/'+TITLE_PATH+DataName+'/'): \n",
    "    os.makedirs(WORKSPACE_PATH+DATE_PATH+'/modelPic/'+TITLE_PATH+DataName+'/')\n",
    "StudyDataModelPicPath=WORKSPACE_PATH+DATE_PATH+'/modelPic/'+TITLE_PATH+DataName+'/'\n",
    "\n",
    "# define restoring graph data's directory\n",
    "if not os.path.exists(WORKSPACE_PATH+DATE_PATH+'/graph/'+TITLE_PATH+DataName+'/'): \n",
    "    os.makedirs(WORKSPACE_PATH+DATE_PATH+'/graph/'+TITLE_PATH+DataName+'/')\n",
    "GraphDataPath=WORKSPACE_PATH+DATE_PATH+'/graph/'+TITLE_PATH+DataName+'/'\n",
    "\n",
    "# define restoring model paarmeter directory\n",
    "if not os.path.exists(WORKSPACE_PATH+DATE_PATH+'/study/'+TITLE_PATH+DataName+'/'): \n",
    "    os.makedirs(WORKSPACE_PATH+DATE_PATH+'/study/'+TITLE_PATH+DataName+'/')\n",
    "StudyDataPath=WORKSPACE_PATH+DATE_PATH+'/study/'+TITLE_PATH+DataName+'/'"
   ]
  },
  {
   "cell_type": "markdown",
   "metadata": {},
   "source": [
    "**Phase1 計測データの取得**"
   ]
  },
  {
   "cell_type": "code",
   "execution_count": 6,
   "metadata": {
    "collapsed": false
   },
   "outputs": [],
   "source": [
    "dic=processing.LoadDicDataFromFileNPZ(RawDataPath+DicName)"
   ]
  },
  {
   "cell_type": "markdown",
   "metadata": {},
   "source": [
    "**Phase2 window flame 作成 & Learning**"
   ]
  },
  {
   "cell_type": "code",
   "execution_count": 7,
   "metadata": {
    "collapsed": false
   },
   "outputs": [],
   "source": [
    "optimizers = [SGD, Adadelta, Adamax, Adam, Adagrad,  RMSprop, Nadam]\n",
    "optimArray = [\"SGD\", \"Adadelta\",\"Adamax\", \"Adam\", \"Adagrad\",\"RMSprop\",\"Nadam\"]"
   ]
  },
  {
   "cell_type": "code",
   "execution_count": 8,
   "metadata": {
    "collapsed": false,
    "scrolled": true
   },
   "outputs": [
    {
     "name": "stdout",
     "output_type": "stream",
     "text": [
      "hiden node = 32\n",
      "-edim=32-Window=128-Overlap=16-SGD\n"
     ]
    },
    {
     "ename": "IOError",
     "evalue": "[Errno 2] No such file or directory: '/home/takeyama/Documents/01_SyncChopin/window/Optim/sensor1_AccZ/sensor1_AccZ_train-edim=32-Window=128-Overlap=16-SGD.npz'",
     "output_type": "error",
     "traceback": [
      "\u001b[0;31m---------------------------------------------------------------------------\u001b[0m",
      "\u001b[0;31mIOError\u001b[0m                                   Traceback (most recent call last)",
      "\u001b[0;32m<ipython-input-8-d9063c5ec2b7>\u001b[0m in \u001b[0;36m<module>\u001b[0;34m()\u001b[0m\n\u001b[1;32m     15\u001b[0m         \u001b[0mSaveFileNameGraph\u001b[0m\u001b[0;34m=\u001b[0m\u001b[0mGraphDataPath\u001b[0m\u001b[0;34m+\u001b[0m\u001b[0mDataName\u001b[0m\u001b[0;34m+\u001b[0m\u001b[0mCommonName\u001b[0m\u001b[0;34m\u001b[0m\u001b[0m\n\u001b[1;32m     16\u001b[0m \u001b[0;34m\u001b[0m\u001b[0m\n\u001b[0;32m---> 17\u001b[0;31m         \u001b[0mwindow_train\u001b[0m\u001b[0;34m=\u001b[0m\u001b[0mprocessing\u001b[0m\u001b[0;34m.\u001b[0m\u001b[0mLoadDicDataFromFileNPZ\u001b[0m\u001b[0;34m(\u001b[0m\u001b[0mWindowDataPath\u001b[0m\u001b[0;34m+\u001b[0m\u001b[0mSaveFileNameTrain\u001b[0m\u001b[0;34m)\u001b[0m\u001b[0;34m\u001b[0m\u001b[0m\n\u001b[0m\u001b[1;32m     18\u001b[0m         \u001b[0;31m#window_test=processing.LoadDicDataFromFileNPZ(WindowDataPath+SaveFileNameTest)\u001b[0m\u001b[0;34m\u001b[0m\u001b[0;34m\u001b[0m\u001b[0m\n\u001b[1;32m     19\u001b[0m         \u001b[0;31m#encoded_imgs = processing.LoadDicDataFromFileNPZ(StudyDataPath+SaveFileNameEncord)\u001b[0m\u001b[0;34m\u001b[0m\u001b[0;34m\u001b[0m\u001b[0m\n",
      "\u001b[0;32m/home/takeyama/pywork/ipython/2016-08-15/MakeGraph-OptimChange/Overlap=32_EncDim=16/processing.pyc\u001b[0m in \u001b[0;36mLoadDicDataFromFileNPZ\u001b[0;34m(loadName)\u001b[0m\n",
      "\u001b[0;32m/home/takeyama/.pyenv/versions/2.7.11/envs/takeyama/lib/python2.7/site-packages/numpy-1.12.0.dev0+330d023-py2.7-linux-x86_64.egg/numpy/lib/npyio.pyc\u001b[0m in \u001b[0;36mload\u001b[0;34m(file, mmap_mode, allow_pickle, fix_imports, encoding)\u001b[0m\n\u001b[1;32m    367\u001b[0m     \u001b[0mown_fid\u001b[0m \u001b[0;34m=\u001b[0m \u001b[0mFalse\u001b[0m\u001b[0;34m\u001b[0m\u001b[0m\n\u001b[1;32m    368\u001b[0m     \u001b[0;32mif\u001b[0m \u001b[0misinstance\u001b[0m\u001b[0;34m(\u001b[0m\u001b[0mfile\u001b[0m\u001b[0;34m,\u001b[0m \u001b[0mbasestring\u001b[0m\u001b[0;34m)\u001b[0m\u001b[0;34m:\u001b[0m\u001b[0;34m\u001b[0m\u001b[0m\n\u001b[0;32m--> 369\u001b[0;31m         \u001b[0mfid\u001b[0m \u001b[0;34m=\u001b[0m \u001b[0mopen\u001b[0m\u001b[0;34m(\u001b[0m\u001b[0mfile\u001b[0m\u001b[0;34m,\u001b[0m \u001b[0;34m\"rb\"\u001b[0m\u001b[0;34m)\u001b[0m\u001b[0;34m\u001b[0m\u001b[0m\n\u001b[0m\u001b[1;32m    370\u001b[0m         \u001b[0mown_fid\u001b[0m \u001b[0;34m=\u001b[0m \u001b[0mTrue\u001b[0m\u001b[0;34m\u001b[0m\u001b[0m\n\u001b[1;32m    371\u001b[0m     \u001b[0;32melif\u001b[0m \u001b[0mis_pathlib_path\u001b[0m\u001b[0;34m(\u001b[0m\u001b[0mfile\u001b[0m\u001b[0;34m)\u001b[0m\u001b[0;34m:\u001b[0m\u001b[0;34m\u001b[0m\u001b[0m\n",
      "\u001b[0;31mIOError\u001b[0m: [Errno 2] No such file or directory: '/home/takeyama/Documents/01_SyncChopin/window/Optim/sensor1_AccZ/sensor1_AccZ_train-edim=32-Window=128-Overlap=16-SGD.npz'"
     ]
    },
    {
     "data": {
      "image/png": "[encoded data removed]",
      "text/plain": [
       "<matplotlib.figure.Figure at 0x7f4c796c4ad0>"
      ]
     },
     "metadata": {},
     "output_type": "display_data"
    }
   ],
   "source": [
    "fig = plt.figure(figsize=(20,10))\n",
    "ax = fig.add_subplot(111)\n",
    "\n",
    "# loop windowWidth\n",
    "for SampleNum,Overlap in zip(WindowWidth,OverlapArray): \n",
    "    for opt,optName in zip(optimizers,optimArray):\n",
    "        print \"hiden node = \"+str(encoding_dim)\n",
    "        CommonName='-edim='+str(encoding_dim)+'-Window='+str(SampleNum)+'-Overlap='+str(Overlap)+'-'+optName\n",
    "        print CommonName\n",
    "        SaveFileNameEncord=DataName+'_encoded'+CommonName\n",
    "        SaveFileNameDecord=DataName+'_decoded'+CommonName\n",
    "        SaveFileNameNet=DataName+'_net'+CommonName\n",
    "        SaveFileNameTrain=DataName+'_train'+CommonName\n",
    "        SaveFileNameTest=DataName+'_test'+CommonName\n",
    "        SaveFileNameGraph=GraphDataPath+DataName+CommonName\n",
    "\n",
    "        window_train=processing.LoadDicDataFromFileNPZ(WindowDataPath+SaveFileNameTrain)\n",
    "        #window_test=processing.LoadDicDataFromFileNPZ(WindowDataPath+SaveFileNameTest)\n",
    "        #encoded_imgs = processing.LoadDicDataFromFileNPZ(StudyDataPath+SaveFileNameEncord)\n",
    "        decoded_imgs = processing.LoadDicDataFromFileNPZ(StudyDataPath+SaveFileNameDecord)\n",
    "        \n",
    "        length_Raw = window_train.shape[0]*window_train.shape[1]\n",
    "        length_Rec = decoded_imgs.shape[0]*decoded_imgs.shape[1]\n",
    "        \n",
    "        window_train = window_train.reshape(length_Raw,1)\n",
    "        decoded_imgs = decoded_imgs.reshape(length_Rec,1)\n",
    "        \n",
    "        width = length_Raw/20\n",
    "        for i in range(width,length_Raw,width):\n",
    "            start =i-width \n",
    "            goal=i\n",
    "\n",
    "            dataE = window_train[start:goal]\n",
    "            dataD = decoded_imgs[start:goal]\n",
    "            \n",
    "            ax.plot(range(0,len(dataE)),dataE,'r',label=\"raw data\")\n",
    "            ax.plot(range(0,len(dataD)),dataD,'b',label=\"reconstruct\")\n",
    "            ax.legend(loc='best',fontsize=10)\n",
    "            ax.set_title(str(start)+\"-\"+str(goal))\n",
    "            ax.figure.savefig(SaveFileNameGraph+'-'+str(start)+\"-\"+str(goal)+'-graph')\n",
    "            ax.clear()\n",
    "            print 'Graph range='+str(start)+' : '+str(goal)"
   ]
  },
  {
   "cell_type": "code",
   "execution_count": null,
   "metadata": {
    "collapsed": false
   },
   "outputs": [],
   "source": [
    "print \"finish\""
   ]
  },
  {
   "cell_type": "code",
   "execution_count": null,
   "metadata": {
    "collapsed": false
   },
   "outputs": [],
   "source": []
  },
  {
   "cell_type": "code",
   "execution_count": null,
   "metadata": {
    "collapsed": true
   },
   "outputs": [],
   "source": []
  }
 ],
 "metadata": {
  "kernelspec": {
   "display_name": "Python 2",
   "language": "python",
   "name": "python2"
  },
  "language_info": {
   "codemirror_mode": {
    "name": "ipython",
    "version": 2
   },
   "file_extension": ".py",
   "mimetype": "text/x-python",
   "name": "python",
   "nbconvert_exporter": "python",
   "pygments_lexer": "ipython2",
   "version": "2.7.11"
  }
 },
 "nbformat": 4,
 "nbformat_minor": 0
}
