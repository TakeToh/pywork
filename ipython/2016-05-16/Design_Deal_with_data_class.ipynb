{
 "cells": [
  {
   "cell_type": "code",
   "execution_count": 158,
   "metadata": {
    "collapsed": true
   },
   "outputs": [],
   "source": [
    "import numpy as np\n",
    "import pandas as pd\n",
    "from scipy import fftpack\n",
    "from scipy import signal\n",
    "import datetime\n",
    "%matplotlib inline"
   ]
  },
  {
   "cell_type": "code",
   "execution_count": 159,
   "metadata": {
    "collapsed": false
   },
   "outputs": [
    {
     "name": "stdout",
     "output_type": "stream",
     "text": [
      "/home/takeyama/Documents/SyncRecord/cleaning-addingLABEL\n"
     ]
    }
   ],
   "source": [
    "cd ~/Documents/SyncRecord/cleaning-addingLABEL/"
   ]
  },
  {
   "cell_type": "code",
   "execution_count": 440,
   "metadata": {
    "collapsed": false
   },
   "outputs": [
    {
     "ename": "SyntaxError",
     "evalue": "invalid syntax (<ipython-input-440-44fff64d0ad8>, line 124)",
     "output_type": "error",
     "traceback": [
      "\u001b[1;36m  File \u001b[1;32m\"<ipython-input-440-44fff64d0ad8>\"\u001b[1;36m, line \u001b[1;32m124\u001b[0m\n\u001b[1;33m    self._fft_AccX=self._fft_AccX.reshape(len(self._fft_AccX)/(samp/2),: )\u001b[0m\n\u001b[1;37m                                                                       ^\u001b[0m\n\u001b[1;31mSyntaxError\u001b[0m\u001b[1;31m:\u001b[0m invalid syntax\n"
     ]
    }
   ],
   "source": [
    "class RecordData:\n",
    "    \n",
    "    def __init__(self):\n",
    "        print \"__class__\"\n",
    "        self._fft_AccX=np.array([])\n",
    "        self._fft_AccY=np.array([])\n",
    "        self._fft_AccZ=np.array([])\n",
    "        self._fft_GyrX=np.array([])\n",
    "        self._fft_GyrY=np.array([])\n",
    "        self._fft_GyrZ=np.array([])\n",
    "        self._AccX=np.array([])\n",
    "        self._AccY=np.array([])\n",
    "        self._AccZ=np.array([])\n",
    "        self._GyrX=np.array([])\n",
    "        self._GyrY=np.array([])\n",
    "        self._GyrZ=np.array([])\n",
    "        self._Columns=np.array([])\n",
    "        \n",
    "    def ImportCSV(self,csv_file):\n",
    "        # design dataframe\n",
    "        self._data = pd.read_csv(csv_file,encoding=\"SHIFT-JIS\")\n",
    "        self._data.columns=[u'Type',u'Time',u'AccX',u'AccY',u'AccZ',u'GyrX',u'GyrY',u'GyrZ']\n",
    "        self._data.Time=pd.to_datetime(self._data.Time)\n",
    "        self._data = pd.pivot_table(self._data,values=[u'AccX',u'AccY',u'AccZ',u'GyrX',u'GyrY',u'GyrZ'],index=[u'Time'])\n",
    "        \n",
    "        # convert numpy.darray\n",
    "        self._AccX=data.AccX.values\n",
    "        self._AccY=data.AccY.values\n",
    "        self._AccZ=data.AccZ.values\n",
    "        self._GyrX=data.GyrX.values\n",
    "        self._GyrY=data.GyrY.values\n",
    "        self._GyrZ=data.GyrZ.values\n",
    "        self._Time=data.index.to_pydatetime().astype('datetime64[ns]')\n",
    "        self._Columns=['Time','AccX','AccY','AccZ','GyrX','GyrY','GyrZ']\n",
    "        self._fft_col=['fft_AccX','fft_AccY','fft_AccZ','fft_GyrX','fft_GyrY','fft_GyrZ']\n",
    "        \n",
    "    def GetColumns(self):\n",
    "        return self._Columns\n",
    "\n",
    "    def ShowAllDf(self):\n",
    "        print self._AccX;print self._AccY;print self._AccZ;print self._GyrX;print self._GyrY;print self._GyrZ;print self._Time\n",
    "        \n",
    "    def _String2Var(self,Sname):\n",
    "        if(Sname=='AccX'):return self._AccX\n",
    "        elif(Sname=='AccY'):return self._AccY\n",
    "        elif(Sname=='AccZ'):return self._AccZ\n",
    "        elif(Sname=='GyrX'):return self._GyrX\n",
    "        elif(Sname=='GyrY'):return self._GyrY\n",
    "        elif(Sname=='GyrZ'):return self._GyrZ\n",
    "        elif(Sname=='Time'):return self._Time\n",
    "        elif(Sname=='fft_AccX'):return self._fft_AccX\n",
    "        elif(Sname=='fft_AccY'):return self._fft_AccY\n",
    "        elif(Sname=='fft_AccZ'):return self._fft_AccZ\n",
    "        elif(Sname=='fft_GyrX'):return self._fft_GyrX\n",
    "        elif(Sname=='fft_GyrY'):return self._fft_GyrY\n",
    "        elif(Sname=='fft_GyrZ'):return self._fft_GyrZ\n",
    "        else:print 'Wrong Axis Name'\n",
    "    \n",
    "    def _Time2Num(self,time):\n",
    "        index=np.where(test._Time==np.datetime64(time) )\n",
    "        return index[0][0]    \n",
    "    \n",
    "    def _Query(self,Sname,rng=[]):\n",
    "        data = self._String2Var(Sname)\n",
    "        return data[rng[0]:rng[1]]\n",
    "            \n",
    "    def GetLength(self,Sname):\n",
    "        data = _String2Var(Sname)\n",
    "        print Sname+' length ='+str( len(data) )\n",
    "            \n",
    "    def ShowQuery(self,Sname,rng=[]):\n",
    "        data = self._String2Var(Sname)\n",
    "        print Sname+':'+str( data[rng[0]:rng[1]])\n",
    "            \n",
    "    def _sliding_window(self,Sname,samp, overlap):\n",
    "        count =0\n",
    "        s =self._Time[0]\n",
    "        start=self._Time2Num(s)\n",
    "        g = s+np.timedelta64(samp*10,'ms')\n",
    "        goal= self._Time2Num(g)\n",
    "        yield self._Query(Sname,[start,goal])\n",
    "        \n",
    "        add=overlap*0.01\n",
    "        \n",
    "        while True:\n",
    "            try:\n",
    "                count +=1\n",
    "                s =s+np.timedelta64(samp*10,'ms')\n",
    "                start=self._Time2Num(s)\n",
    "                g  =s+np.timedelta64(samp*10,'ms')\n",
    "                goal= self._Time2Num(g)\n",
    "                yield self._Query(Sname,[start,goal])\n",
    "            except StopIteration:\n",
    "                print '_sliding_window StopIteration'\n",
    "                break   \n",
    "            except IndexError:\n",
    "                print '_sliding_window IndexError'\n",
    "                break   \n",
    "    def _set_fft(self,Sname,array):\n",
    "        #print array\n",
    "        if(Sname=='fft_AccX'):   self._fft_AccX=np.append(self._fft_AccX,np.array([array]) )\n",
    "        elif(Sname=='fft_AccY'): self._fft_AccY=np.append(self._fft_AccY,np.array([array]) )\n",
    "        elif(Sname=='fft_AccZ'): self._fft_AccZ=np.append(self._fft_AccZ,np.array([array]) )\n",
    "        elif(Sname=='fft_GyrX'): self._fft_GyrX=np.append(self._fft_GyrX,np.array([array]) )\n",
    "        elif(Sname=='fft_GyrY'): self._fft_GyrY=np.append(self._fft_GyrY,np.array([array]) )\n",
    "        elif(Sname=='fft_GyrZ'): self._fft_GyrZ=np.append(self._fft_GyrZ,np.array([array]) )\n",
    "        else:print 'Wrong Axis Name'\n",
    "            \n",
    "    def CalcFFT(self,samp,overlap=0.5):\n",
    "        for n,f in zip( self._Columns[1:],self._fft_col):\n",
    "            print 'start'+n+'->'+f\n",
    "            sw = self._sliding_window(n,samp,overlap)\n",
    "            count=0\n",
    "            while True:\n",
    "                try:\n",
    "                    #print 'count ='+str(count)\n",
    "                    d=sw.next()\n",
    "                    # fftの直流成分を除くsample/2のみ\n",
    "                    self._set_fft(f,fftpack.fft(d)[1:(samp/2)+1])     \n",
    "                    count = count+1\n",
    "                except StopIteration:\n",
    "                    print 'CalcFFTStopIteration'\n",
    "                    break   \n",
    "        self._fft_AccX=self._fft_AccX.reshape(len(self._fft_AccX)/(samp/2),(samp/2) )\n",
    "        self._fft_AccY=self._fft_AccY.reshape(len(self._fft_AccY)/(samp/2),(samp/2) )\n",
    "        self._fft_AccZ=self._fft_AccZ.reshape(len(self._fft_AccZ)/(samp/2),(samp/2) )\n",
    "        self._fft_GyrX=self._fft_GyrX.reshape(len(self._fft_GyrX)/(samp/2),(samp/2) )\n",
    "        self._fft_GyrY=self._fft_GyrY.reshape(len(self._fft_GyrY)/(samp/2),(samp/2) )\n",
    "        self._fft_GyrZ=self._fft_GyrZ.reshape(len(self._fft_GyrZ)/(samp/2),(samp/2) )\n",
    "    #def CalcFFT(self,samp,overlap=0.5):\n",
    "            \n",
    "                \n",
    "    def ShowFFT(self,name):\n",
    "        data = self._String2Var(name)\n",
    "        print data"
   ]
  },
  {
   "cell_type": "code",
   "execution_count": 441,
   "metadata": {
    "collapsed": false
   },
   "outputs": [
    {
     "name": "stdout",
     "output_type": "stream",
     "text": [
      "__class__\n",
      "startAccX->fft_AccX\n",
      "_sliding_window IndexError\n",
      "CalcFFTStopIteration\n",
      "startAccY->fft_AccY\n",
      "_sliding_window IndexError\n",
      "CalcFFTStopIteration\n",
      "startAccZ->fft_AccZ\n",
      "_sliding_window IndexError\n",
      "CalcFFTStopIteration\n",
      "startGyrX->fft_GyrX\n",
      "_sliding_window IndexError\n",
      "CalcFFTStopIteration\n",
      "startGyrY->fft_GyrY\n",
      "_sliding_window IndexError\n",
      "CalcFFTStopIteration\n",
      "startGyrZ->fft_GyrZ\n",
      "_sliding_window IndexError\n",
      "CalcFFTStopIteration\n",
      "[[ 0.32560971-0.16837066j  0.06307975-0.10497946j  0.05093345-0.05475064j\n",
      "  ...,  0.02532025-0.00037946j  0.02975063-0.00937987j  0.05600000+0.j        ]\n",
      " [-0.23214476-0.19113553j -0.02342584+0.03783417j -0.00507246+0.00053545j\n",
      "  ..., -0.00037416-0.00516583j  0.00105448-0.00114718j  0.01810000+0.j        ]\n",
      " [ 0.12049876-0.11881285j  0.06768305+0.00859899j  0.03543651-0.00484711j\n",
      "  ...,  0.01931695+0.03099899j -0.01758362-0.10443194j -0.03470000+0.j        ]\n",
      " ..., \n",
      " [-0.06101110-0.06334839j  0.08257666-0.02822864j -0.03634715-0.00618046j\n",
      "  ...,  0.00762334-0.02522864j  0.00169810-0.01599965j  0.00520000+0.j        ]\n",
      " [-0.18497636+0.24864575j -0.04103711+0.07647529j -0.02634936+0.04902391j\n",
      "  ..., -0.01176289+0.02407529j -0.01410589-0.00470698j -0.02230000+0.j        ]\n",
      " [ 0.14895166-0.18981061j  0.03982075-0.25509989j  0.09913209-0.15548239j\n",
      "  ...,  0.09737925-0.05729989j  0.05548093-0.02139585j  0.09200000+0.j        ]]\n",
      "[[ 0.14743248+0.28802889j -0.04649153+0.05855914j -0.04482205+0.07103371j\n",
      "  ..., -0.02230847+0.00295914j -0.02706108+0.01555068j -0.02010000+0.j        ]\n",
      " [ 0.05599462-0.1284713j   0.00659289-0.01844041j -0.00198776-0.02220148j\n",
      "  ...,  0.00800711-0.02144041j  0.00362518-0.01094468j  0.02440000+0.j        ]\n",
      " [ 0.10369880-0.32889445j  0.04146289-0.15322891j  0.05495368-0.10522782j\n",
      "  ...,  0.07073711-0.02962891j  0.06972273-0.10540934j  0.05860000+0.j        ]\n",
      " ..., \n",
      " [-0.03965443+0.57163488j  0.11627514+0.1536055j   0.05348634+0.0683534j\n",
      "  ..., -0.01807514+0.0226055j  -0.03065310+0.01575714j -0.03620000+0.j        ]\n",
      " [-0.01762435-0.07422735j -0.02321630+0.02968219j  0.00722782+0.00222679j\n",
      "  ..., -0.01798370+0.02448219j  0.01972385+0.03443581j -0.05570000+0.j        ]\n",
      " [ 0.07237741-1.36325562j  0.42406063-0.96125902j  0.30833147-0.33241442j\n",
      "  ...,  0.22493937-0.08525902j  0.24160611-0.08155818j  0.25490000+0.j        ]]\n",
      "[[ 0.10095652-0.05202791j -0.04009985-0.03536137j -0.01926918-0.02737178j\n",
      "  ..., -0.00630015+0.00523863j -0.01501468-0.00592871j  0.00640000+0.j        ]\n",
      " [-0.06575654+0.01498415j -0.00728457+0.10700824j -0.00255892+0.04088596j\n",
      "  ..., -0.01831543+0.01800824j -0.01161230+0.01701775j -0.02130000+0.j        ]\n",
      " [ 0.07585420+0.01329739j  0.00473000+0.01242513j  0.00482603-0.00190335j\n",
      "  ..., -0.02313000-0.01737487j -0.01935155-0.00891754j -0.00900000+0.j        ]\n",
      " ..., \n",
      " [-0.61455930+0.47600134j -0.17224041+0.34262249j -0.08112294+0.09402543j\n",
      "  ..., -0.13235959+0.06382249j -0.06734228+0.0381958j  -0.12430000+0.j        ]\n",
      " [-0.14461274+0.5527821j  -0.05322046+0.13574413j -0.08198511+0.09275188j\n",
      "  ..., -0.04317954+0.01034413j -0.00279731+0.03882395j -0.11000000+0.j        ]\n",
      " [ 0.00546304+0.54427687j -0.03656934+0.08632296j  0.02589674+0.14498323j\n",
      "  ..., -0.01083066+0.02172296j -0.04212507-0.07587866j -0.00200000+0.j        ]]\n",
      "[[ 0.18778310-0.05585686j  0.00207797+0.03447817j  0.00240414-0.0407996j\n",
      "  ...,  0.03432203-0.01892183j -0.00900308+0.00983057j  0.02250000+0.j        ]\n",
      " [-0.01968718+0.09044049j -0.10444874+0.074059j   -0.02214451+0.08482134j\n",
      "  ..., -0.05495126+0.021259j   -0.04242510+0.0121357j  -0.01370000+0.j        ]\n",
      " [ 0.10108467+0.12688191j -0.05146913+0.18535719j -0.08307799+0.11065166j\n",
      "  ..., -0.07353087+0.03695719j -0.13045927-0.07603793j -0.13470000+0.j        ]\n",
      " ..., \n",
      " [ 0.10113086+0.92413496j  0.11215260+0.05236123j -0.01004847+0.07053443j\n",
      "  ..., -0.00975260+0.01156123j -0.05081329+0.01627981j -0.01480000+0.j        ]\n",
      " [ 0.17409245-0.22839195j  0.02426447-0.06935656j  0.03386498-0.03772094j\n",
      "  ...,  0.03133553-0.00955656j  0.01501407-0.01253111j  0.03570000+0.j        ]\n",
      " [ 0.12850992+0.06528548j -0.09079153-0.15058311j  0.06777752-0.0051663j\n",
      "  ..., -0.06660847+0.02061689j -0.03098301+0.01555654j -0.04020000+0.j        ]]\n",
      "[[ 0.17264913+0.11402595j  0.00531062+0.10733753j  0.01992724+0.07395025j\n",
      "  ..., -0.05451062+0.01753753j -0.04287743-0.02834129j -0.06560000+0.j        ]\n",
      " [-0.03381964+0.06055453j -0.05813000+0.11800565j  0.01274844-0.01973533j\n",
      "  ..., -0.03027000+0.02440565j -0.03634403+0.02444915j -0.03230000+0.j        ]\n",
      " [-0.25322839-0.26317953j -0.11739120-0.2060973j   0.00251845-0.17956144j\n",
      "  ...,  0.17139120-0.1236973j   0.17707608+0.05000448j  0.24300000+0.j        ]\n",
      " ..., \n",
      " [-0.60755779-0.76722873j  0.10176137-0.22565876j -0.03100315-0.14906693j\n",
      "  ...,  0.07163863-0.01885876j  0.05693863-0.0171671j   0.06900000+0.j        ]\n",
      " [-0.12127724-0.50314963j  0.05856842-0.22662897j  0.10369557-0.13473048j\n",
      "  ...,  0.10863158-0.03782897j  0.11049406-0.02753778j  0.10500000+0.j        ]\n",
      " [-0.14869254+0.06669053j -0.08995240+0.13340235j  0.02354182+0.01228795j\n",
      "  ..., -0.01584760-0.00159765j -0.01435611+0.00222808j -0.00840000+0.j        ]]\n",
      "[[-0.14417835 +5.21829775e-01j -0.07763087 +1.19285195e-01j\n",
      "  -0.04411446 +5.93430435e-02j ..., -0.05556913 +1.30851947e-02j\n",
      "  -0.05781201 +1.56220913e-02j -0.05530000 +0.00000000e+00j]\n",
      " [ 0.13606028 -1.09867306e-02j  0.01118162 +1.24396970e-02j\n",
      "   0.00309928 -1.19628326e-02j ...,  0.01881838 -5.60303038e-04j\n",
      "  -0.00097630 -6.88307261e-03j -0.01310000 +0.00000000e+00j]\n",
      " [ 0.00420396 +1.89810412e-01j -0.01460259 +6.59390440e-02j\n",
      "  -0.01727424 +4.27921051e-02j ..., -0.03199741 -4.60956031e-04j\n",
      "  -0.04127360 +8.12242069e-02j -0.00540000 +0.00000000e+00j]\n",
      " ..., \n",
      " [ 0.22976915 +8.10914984e-01j -0.05200051 +2.37236075e-01j\n",
      "  -0.02165127 +1.08056591e-01j ..., -0.07179949 +2.86360749e-02j\n",
      "  -0.06682547 +1.99094944e-02j -0.06900000 +0.00000000e+00j]\n",
      " [ 0.17853167 -2.84914805e-01j  0.07232584 -1.28602709e-01j\n",
      "   0.05970420 -7.84140524e-02j ...,  0.04927416 -1.72027091e-02j\n",
      "   0.05635820 -1.14299931e-02j  0.04100000 +0.00000000e+00j]\n",
      " [-0.09277025 +2.02702809e-01j -0.01009512 +6.46719913e-02j\n",
      "  -0.05908570 +7.74435062e-02j ..., -0.04290488 +2.52719913e-02j\n",
      "  -0.04324712 +1.16645050e-02j -0.04520000 +0.00000000e+00j]]\n"
     ]
    },
    {
     "data": {
      "text/plain": [
       "(349, 8)"
      ]
     },
     "execution_count": 441,
     "metadata": {},
     "output_type": "execute_result"
    }
   ],
   "source": [
    "test = RecordData()\n",
    "test.ImportCSV('west.csv')\n",
    "test.CalcFFT(16)\n",
    "#d=test._Query('AccX',[test._Time[0],test._Time[0]+datetime.timedelta(seconds=0.16)])\n",
    "#fftpack.fft(test._AccX)\n",
    "#print test._Time[0]\n",
    "#print type(test._Time[0])\n",
    "#print test._Time[0]+np.timedelta64(160,'ms')\n",
    "#np.where(test._Time==np.datetime64('2016-05-20T18:06:15.908000000') )\n",
    "#min(test._Time)> max(test._Time)\n",
    "test.ShowFFT('fft_AccX')\n",
    "test.ShowFFT('fft_AccY')\n",
    "test.ShowFFT('fft_AccZ')\n",
    "test.ShowFFT('fft_GyrX')\n",
    "test.ShowFFT('fft_GyrY')\n",
    "test.ShowFFT('fft_GyrZ')\n",
    "test._fft_AccX.shape"
   ]
  },
  {
   "cell_type": "code",
   "execution_count": 216,
   "metadata": {
    "collapsed": false
   },
   "outputs": [],
   "source": [
    "data = pd.read_csv(\"Conv-west-ags.csv\",encoding=\"Shift-JIS\")\n",
    "data.columns=[u'Type',u'Time',u'AccX',u'AccY',u'AccZ',u'GyrX',u'GyrY',u'GyrZ']\n",
    "data.AccX = data.AccX*0.1*0.001\n",
    "data.AccY = data.AccY*0.1*0.001\n",
    "data.AccZ = data.AccZ*0.1*0.001\n",
    "\n",
    "data.GyrX = data.GyrX*0.1*0.001\n",
    "data.GyrY = data.GyrY*0.1*0.001\n",
    "data.GyrZ = data.GyrZ*0.1*0.001\n",
    "\n",
    "data.Time=pd.to_datetime(data.Time)\n",
    "\n",
    "data = pd.pivot_table(data,values=[u'AccX',u'AccY',u'AccZ',u'GyrX',u'GyrY',u'GyrZ'],index=[u'Time'])\n",
    "AccX=data.AccX"
   ]
  },
  {
   "cell_type": "code",
   "execution_count": 431,
   "metadata": {
    "collapsed": false
   },
   "outputs": [
    {
     "data": {
      "text/plain": [
       "348"
      ]
     },
     "execution_count": 431,
     "metadata": {},
     "output_type": "execute_result"
    }
   ],
   "source": [
    "2784/8"
   ]
  },
  {
   "cell_type": "code",
   "execution_count": null,
   "metadata": {
    "collapsed": true
   },
   "outputs": [],
   "source": []
  },
  {
   "cell_type": "code",
   "execution_count": null,
   "metadata": {
    "collapsed": true
   },
   "outputs": [],
   "source": []
  }
 ],
 "metadata": {
  "kernelspec": {
   "display_name": "Python 2",
   "language": "python",
   "name": "python2"
  },
  "language_info": {
   "codemirror_mode": {
    "name": "ipython",
    "version": 2
   },
   "file_extension": ".py",
   "mimetype": "text/x-python",
   "name": "python",
   "nbconvert_exporter": "python",
   "pygments_lexer": "ipython2",
   "version": "2.7.10"
  }
 },
 "nbformat": 4,
 "nbformat_minor": 0
}
