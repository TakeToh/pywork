{
 "cells": [
  {
   "cell_type": "code",
   "execution_count": 6,
   "metadata": {
    "collapsed": true
   },
   "outputs": [],
   "source": [
    "import numpy as np\n",
    "import matplotlib.pyplot as plt\n",
    "import matplotlib\n",
    "from scipy import fftpack\n",
    "from scipy import signal\n",
    "from scipy import stats\n",
    "import numpy as np\n",
    "import pandas as pd\n",
    "import datetime\n",
    "import time as T"
   ]
  },
  {
   "cell_type": "code",
   "execution_count": 7,
   "metadata": {
    "collapsed": true
   },
   "outputs": [],
   "source": [
    "#mozart"
   ]
  },
  {
   "cell_type": "code",
   "execution_count": 8,
   "metadata": {
    "collapsed": false
   },
   "outputs": [
    {
     "name": "stdout",
     "output_type": "stream",
     "text": [
      "/home/takeyama/Documents/SyncRecord/FFT-data\n"
     ]
    }
   ],
   "source": [
    "cd ~/Documents/SyncRecord/FFT-data/"
   ]
  },
  {
   "cell_type": "code",
   "execution_count": 9,
   "metadata": {
    "collapsed": true
   },
   "outputs": [],
   "source": [
    "fft_left_hand = pd.read_csv('FFT-'+'Cleaning-Conv-left-hand-ags.csv'+'-16'+'bit.csv')\n",
    "#left_hand.Time=pd.to_timedelta(left_hand.Time)\n",
    "fft_left_leg = pd.read_csv('FFT-'+'Cleaning-Conv-left-leg-ags.csv'+'-16'+'bit.csv')\n",
    "#left_leg.Time=pd.to_timedelta(left_leg.Time)\n",
    "fft_right_hand = pd.read_csv('FFT-'+'Cleaning-Conv-right-hand-ags.csv'+'-16'+'bit.csv')\n",
    "#right_hand.Time=pd.to_timedelta(right_hand.Time)\n",
    "fft_right_leg = pd.read_csv('FFT-'+'Cleaning-Conv-right-leg-ags.csv'+'-16'+'bit.csv')\n",
    "#right_leg.Time=pd.to_timedelta(right_leg.Time)\n",
    "fft_west = pd.read_csv('FFT-'+'Cleaning-Conv-west-ags.csv'+'-16'+'bit.csv')\n",
    "#west.Time=pd.to_timedelta(west.Time)"
   ]
  },
  {
   "cell_type": "code",
   "execution_count": 10,
   "metadata": {
    "collapsed": false
   },
   "outputs": [
    {
     "name": "stdout",
     "output_type": "stream",
     "text": [
      "elapsed_time:547.806058[sec]\n"
     ]
    }
   ],
   "source": [
    "start_time = T.clock()\n",
    "Amp_left_handAX=np.array([])\n",
    "Amp_left_handAY=np.array([])\n",
    "Amp_left_handAZ=np.array([])\n",
    "\n",
    "Amp_left_handGX=np.array([])\n",
    "Amp_left_handGY=np.array([])\n",
    "Amp_left_handGZ=np.array([])\n",
    "\n",
    "x = fft_right_leg.where(fft_left_hand.Time==0).dropna()\n",
    "\n",
    "tmp =np.array( np.sqrt(x.AccX_imag**2+x.AccX_real**2) )\n",
    "tmp =tmp/tmp.sum()\n",
    "Amp_left_handAX = np.append(Amp_left_handAX, tmp)\n",
    "\n",
    "tmp =np.array( np.sqrt(x.AccY_imag**2+x.AccY_real**2) )\n",
    "tmp =tmp/tmp.sum()\n",
    "Amp_left_handAY = np.append(Amp_left_handAY, tmp)\n",
    "\n",
    "tmp =np.array( np.sqrt(x.AccZ_imag**2+x.AccZ_real**2) )\n",
    "tmp =tmp/tmp.sum()\n",
    "Amp_left_handAZ = np.append(Amp_left_handAZ, tmp)\n",
    "\n",
    "for t in range(1,fft_right_leg.Time.max()):\n",
    "    try:\n",
    "        # 抽出したデータベースを格納\n",
    "        x = fft_right_leg.where(fft_left_hand.Time==t).dropna()\n",
    "\n",
    "        # 各軸、それぞれパワースペクトルを計算\n",
    "        tmp =np.array( np.sqrt(x.AccX_imag**2+x.AccX_real**2) )\n",
    "        tmp =tmp/tmp.sum()\n",
    "        Amp_left_handAX = np.vstack((Amp_left_handAX, tmp))\n",
    "\n",
    "        tmp =np.array( np.sqrt(x.AccY_imag**2+x.AccY_real**2) )\n",
    "        tmp =tmp/tmp.sum()\n",
    "        Amp_left_handAY = np.vstack((Amp_left_handAY, tmp))\n",
    "\n",
    "        tmp =np.array( np.sqrt(x.AccZ_imag**2+x.AccZ_real**2) )\n",
    "        tmp =tmp/tmp.sum()\n",
    "        Amp_left_handAZ = np.vstack((Amp_left_handAZ, tmp))\n",
    "    except ValueError:\n",
    "        break\n",
    "    \n",
    "    \n",
    "elapsed_time = T.clock() - start_time\n",
    "print (\"elapsed_time:{0}\".format(elapsed_time)) + \"[sec]\""
   ]
  },
  {
   "cell_type": "code",
   "execution_count": 11,
   "metadata": {
    "collapsed": false
   },
   "outputs": [
    {
     "name": "stdout",
     "output_type": "stream",
     "text": [
      "elapsed_time:543.063016[sec]\n"
     ]
    }
   ],
   "source": [
    "start_time = T.clock()\n",
    "Amp_right_legAX=np.array([])\n",
    "Amp_right_legAY=np.array([])\n",
    "Amp_right_legAZ=np.array([])\n",
    "\n",
    "Amp_right_legGX=np.array([])\n",
    "Amp_right_legGY=np.array([])\n",
    "Amp_right_legGZ=np.array([])\n",
    "\n",
    "x = fft_right_leg.where(fft_left_hand.Time==0).dropna()\n",
    "\n",
    "tmp =np.array( np.sqrt(x.AccX_imag**2+x.AccX_real**2) )\n",
    "tmp =tmp/tmp.sum()\n",
    "Amp_right_legAX = np.append(Amp_right_legAX, tmp)\n",
    "\n",
    "tmp =np.array( np.sqrt(x.AccY_imag**2+x.AccY_real**2) )\n",
    "tmp =tmp/tmp.sum()\n",
    "Amp_right_legAY = np.append(Amp_right_legAY, tmp)\n",
    "\n",
    "tmp =np.array( np.sqrt(x.AccZ_imag**2+x.AccZ_real**2) )\n",
    "tmp =tmp/tmp.sum()\n",
    "Amp_right_legAZ = np.append(Amp_right_legAZ, tmp)\n",
    "\n",
    "for t in range(1,fft_right_leg.Time.max()):\n",
    "    try:\n",
    "        # 抽出したデータベースを格納\n",
    "        x = fft_right_leg.where(fft_left_hand.Time==t).dropna()\n",
    "\n",
    "        # 各軸、それぞれパワースペクトルを計算\n",
    "        tmp =np.array( np.sqrt(x.AccX_imag**2+x.AccX_real**2) )\n",
    "        tmp =tmp/tmp.sum()\n",
    "        Amp_right_legAX = np.vstack((Amp_right_legAX, tmp))\n",
    "\n",
    "        tmp =np.array( np.sqrt(x.AccY_imag**2+x.AccY_real**2) )\n",
    "        tmp =tmp/tmp.sum()\n",
    "        Amp_right_legAY = np.vstack((Amp_right_legAY, tmp))\n",
    "\n",
    "        tmp =np.array( np.sqrt(x.AccZ_imag**2+x.AccZ_real**2) )\n",
    "        tmp =tmp/tmp.sum()\n",
    "        Amp_right_legAZ = np.vstack((Amp_right_legAZ, tmp))\n",
    "    except ValueError:\n",
    "        break\n",
    "    \n",
    "    \n",
    "elapsed_time = T.clock() - start_time\n",
    "print (\"elapsed_time:{0}\".format(elapsed_time)) + \"[sec]\""
   ]
  },
  {
   "cell_type": "code",
   "execution_count": null,
   "metadata": {
    "collapsed": false
   },
   "outputs": [],
   "source": [
    "start_time = T.clock()\n",
    "\n",
    "\n",
    "kld_ll_rl_AX=np.array([])\n",
    "kld_ll_rl_AY=np.array([])\n",
    "kld_ll_rl_AZ=np.array([])\n",
    "\n",
    "for x in Amp_left_handAX:\n",
    "    for ax in Amp_right_legAX:\n",
    "        m=0.5*x+0.5*ax\n",
    "        tmp=0.5*stats.entropy(x,m)+0.5*stats.entropy(ax,m)\n",
    "        kld_ll_rl_AX=np.append(kld_ll_rl_AX, np.array(tmp) )\n",
    "    for ay in Amp_right_legAY:\n",
    "        m=0.5*x+0.5*ax\n",
    "        tmp=0.5*stats.entropy(x,m)+0.5*stats.entropy(ay,m)\n",
    "        kld_ll_rl_AY=np.append(kld_ll_rl_AY, np.array(tmp) )\n",
    "    for az in Amp_right_legAZ:\n",
    "        m=0.5*x+0.5*ax\n",
    "        tmp=0.5*stats.entropy(x,m)+0.5*stats.entropy(az,m)\n",
    "        kld_ll_rl_AZ=np.append(kld_ll_rl_AZ, np.array(tmp) )\n",
    "\n",
    "        \n",
    "elapsed_time = T.clock() - start_time\n",
    "print (\"elapsed_time:{0}\".format(elapsed_time)) + \"[sec]\""
   ]
  },
  {
   "cell_type": "code",
   "execution_count": null,
   "metadata": {
    "collapsed": false
   },
   "outputs": [],
   "source": []
  },
  {
   "cell_type": "code",
   "execution_count": null,
   "metadata": {
    "collapsed": true
   },
   "outputs": [],
   "source": []
  }
 ],
 "metadata": {
  "kernelspec": {
   "display_name": "Python 2",
   "language": "python",
   "name": "python2"
  },
  "language_info": {
   "codemirror_mode": {
    "name": "ipython",
    "version": 2
   },
   "file_extension": ".py",
   "mimetype": "text/x-python",
   "name": "python",
   "nbconvert_exporter": "python",
   "pygments_lexer": "ipython2",
   "version": "2.7.10"
  }
 },
 "nbformat": 4,
 "nbformat_minor": 0
}
