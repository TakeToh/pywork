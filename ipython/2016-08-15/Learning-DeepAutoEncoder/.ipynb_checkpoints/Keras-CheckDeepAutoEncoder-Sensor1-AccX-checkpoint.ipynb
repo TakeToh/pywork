{
 "cells": [
  {
   "cell_type": "code",
   "execution_count": 1,
   "metadata": {
    "collapsed": false
   },
   "outputs": [],
   "source": [
    "SensorNum=1 # Sensor number\n",
    "WindowWidth=[128,256,512,1024,2048,4096] # Window Width\n",
    "OverlapArray=[16,16,16,16,16,16] # sliding window\n",
    "#width=1000 # graph width \n",
    "#EncodingDim=[4,8,12,16,32,64] # number of hidden layer note\n",
    "encoding_dim=16\n",
    "Axis='AccX' # Axis\n",
    "\n",
    "WORKSPACE_PATH = \"/media/takeyama/HD-PZU3/01_TAKEYAMA_WORKSPACE/02_CommonData/2016-07-25\""
   ]
  },
  {
   "cell_type": "code",
   "execution_count": 2,
   "metadata": {
    "collapsed": false
   },
   "outputs": [],
   "source": [
    "import numpy as np\n",
    "import pandas as pd\n",
    "from scipy import fftpack\n",
    "from scipy import signal\n",
    "import time\n",
    "import os\n",
    "import matplotlib.pyplot as plt\n",
    "import pylab\n",
    "import pickle\n",
    "import copy\n",
    "\n",
    "import processing\n",
    "import window\n",
    "\n",
    "import matplotlib.animation as animation\n",
    "import datetime\n",
    "\n",
    "%matplotlib inline"
   ]
  },
  {
   "cell_type": "code",
   "execution_count": 3,
   "metadata": {
    "collapsed": false
   },
   "outputs": [
    {
     "name": "stderr",
     "output_type": "stream",
     "text": [
      "Using Theano backend.\n",
      "Using gpu device 0: GeForce GTX 1080 (CNMeM is disabled, cuDNN 5005)\n"
     ]
    }
   ],
   "source": [
    "from keras.models import Sequential\n",
    "from keras.datasets import cifar10\n",
    "from keras.layers import Dense, Activation, Flatten\n",
    "from keras.optimizers import Adadelta\n",
    "from keras.utils import np_utils\n",
    "from keras.layers.convolutional import Convolution2D, MaxPooling2D\n",
    "from keras.utils.visualize_util import model_to_dot, plot\n",
    "from keras import backend as K\n",
    "from keras.layers import Input, Dense\n",
    "from keras.models import Model\n",
    "from keras.callbacks import EarlyStopping\n",
    "\n",
    "import matplotlib.image as mpimg\n"
   ]
  },
  {
   "cell_type": "code",
   "execution_count": 4,
   "metadata": {
    "collapsed": true
   },
   "outputs": [],
   "source": [
    "DataName='sensor'+str(SensorNum)+'_'+Axis\n",
    "SensorName='sensor'+str(SensorNum)\n",
    "DicName='MemSensor'+str(SensorNum)"
   ]
  },
  {
   "cell_type": "code",
   "execution_count": 5,
   "metadata": {
    "collapsed": false
   },
   "outputs": [],
   "source": [
    "if not os.path.exists(WORKSPACE_PATH+'/study/'+DataName+'/OptimChange/'): os.makedirs(WORKSPACE_PATH+'/study/'+DataName+'/OptimChange/')\n",
    "StudyDataPath=WORKSPACE_PATH+'/study/'+DataName+'/OptimChange/'\n",
    "\n",
    "if not os.path.exists(WORKSPACE_PATH+'/graph/'+DataName+'/OptimChange_loss/'): os.makedirs(WORKSPACE_PATH+'/graph/'+DataName+'/OptimChange_loss/')\n",
    "GlaphDataPath=WORKSPACE_PATH+'/graph/'+DataName+'/OptimChange_loss/'\n",
    "\n",
    "#if not os.path.exists(WORKSPACE_PATH+'/graph/'+DataName+'/Time'): os.makedirs(WORKSPACE_PATH+'/graph/'+DataName+'/Time')\n",
    "#GlaphDataTimePath=WORKSPACE_PATH+'/graph/'+DataName+'/Time'\n",
    "\n",
    "if not os.path.exists(WORKSPACE_PATH+'/OptimChange_modelPic/'+DataName+'/'): os.makedirs(WORKSPACE_PATH+'/OptimChange_modelPic/'+DataName+'/')\n",
    "StudyDataModelPicPath=WORKSPACE_PATH+'/OptimChange_modelPic/'+DataName+'/'\n",
    "\n",
    "if not os.path.exists(WORKSPACE_PATH+'/OptimChange_window/'+DataName+'/'): os.makedirs(WORKSPACE_PATH+'/OptimChange_window/'+DataName+'/')\n",
    "WindowDataPath=WORKSPACE_PATH+'/OptimChange_window/'+DataName+'/'\n",
    "\n",
    "RawDataPath=\"/media/takeyama/HD-PZU3/01_TAKEYAMA_WORKSPACE/02_CommonData/raw/\""
   ]
  },
  {
   "cell_type": "markdown",
   "metadata": {},
   "source": [
    "**Phase1 計測データの取得**"
   ]
  },
  {
   "cell_type": "code",
   "execution_count": 6,
   "metadata": {
    "collapsed": false
   },
   "outputs": [],
   "source": [
    "dic=processing.LoadDicDataFromFileNPZ(RawDataPath+DicName)"
   ]
  },
  {
   "cell_type": "markdown",
   "metadata": {},
   "source": [
    "**Phase2 window flame 作成 & Learning**"
   ]
  },
  {
   "cell_type": "code",
   "execution_count": null,
   "metadata": {
    "collapsed": true
   },
   "outputs": [],
   "source": [
    "OptimArray=['adagrad','adamax','adadelta','sgd','adam','rmspop','nadam']"
   ]
  },
  {
   "cell_type": "code",
   "execution_count": null,
   "metadata": {
    "collapsed": false,
    "scrolled": true
   },
   "outputs": [
    {
     "name": "stdout",
     "output_type": "stream",
     "text": [
      "AccX is registed now\n",
      "Build Complete\n",
      "(254742,)\n",
      "windowData's num =15914\n",
      "SourceData's aborting data = 6\n",
      "window shape is (15914, 128, 1)\n",
      "hiden node = 16\n",
      "Train on 15914 samples, validate on 15914 samples\n",
      "Epoch 1/50\n",
      "0s - loss: 0.0301 - val_loss: 0.0137\n",
      "Epoch 2/50\n",
      "0s - loss: 0.0129 - val_loss: 0.0112\n",
      "Epoch 3/50\n",
      "0s - loss: 0.0102 - val_loss: 0.0161\n",
      "Epoch 4/50\n",
      "0s - loss: 0.0081 - val_loss: 0.0070\n",
      "Epoch 5/50\n",
      "0s - loss: 0.0067 - val_loss: 0.0060\n",
      "Epoch 6/50\n",
      "0s - loss: 0.0058 - val_loss: 0.0053\n",
      "Epoch 7/50\n",
      "0s - loss: 0.0054 - val_loss: 0.0062\n",
      "Epoch 8/50\n",
      "0s - loss: 0.0048 - val_loss: 0.0060\n",
      "Epoch 9/50\n",
      "0s - loss: 0.0044 - val_loss: 0.0044\n",
      "Epoch 10/50\n",
      "0s - loss: 0.0042 - val_loss: 0.0040\n",
      "Epoch 11/50\n",
      "0s - loss: 0.0039 - val_loss: 0.0038\n",
      "Epoch 12/50\n",
      "0s - loss: 0.0037 - val_loss: 0.0037\n",
      "Epoch 13/50\n",
      "0s - loss: 0.0035 - val_loss: 0.0033\n",
      "Epoch 14/50\n",
      "0s - loss: 0.0034 - val_loss: 0.0031\n",
      "Epoch 15/50\n",
      "0s - loss: 0.0032 - val_loss: 0.0030\n",
      "Epoch 16/50\n",
      "0s - loss: 0.0031 - val_loss: 0.0043\n",
      "Epoch 17/50\n",
      "0s - loss: 0.0029 - val_loss: 0.0029\n",
      "Epoch 18/50\n",
      "0s - loss: 0.0029 - val_loss: 0.0027\n",
      "Epoch 19/50\n",
      "0s - loss: 0.0028 - val_loss: 0.0026\n",
      "Epoch 20/50\n",
      "0s - loss: 0.0027 - val_loss: 0.0025\n",
      "Epoch 21/50\n",
      "0s - loss: 0.0026 - val_loss: 0.0057\n",
      "Epoch 22/50\n",
      "0s - loss: 0.0026 - val_loss: 0.0024\n",
      "Epoch 23/50\n",
      "0s - loss: 0.0025 - val_loss: 0.0036\n",
      "Epoch 24/50\n",
      "0s - loss: 0.0024 - val_loss: 0.0028\n",
      "Epoch 25/50\n",
      "0s - loss: 0.0024 - val_loss: 0.0028\n",
      "Epoch 26/50\n",
      "0s - loss: 0.0023 - val_loss: 0.0022\n",
      "Epoch 27/50\n",
      "0s - loss: 0.0022 - val_loss: 0.0021\n",
      "Epoch 28/50\n",
      "0s - loss: 0.0022 - val_loss: 0.0021\n",
      "Epoch 29/50\n",
      "0s - loss: 0.0021 - val_loss: 0.0029\n",
      "Epoch 30/50\n",
      "0s - loss: 0.0021 - val_loss: 0.0022\n",
      "Epoch 31/50\n",
      "0s - loss: 0.0021 - val_loss: 0.0020\n",
      "Epoch 32/50\n",
      "0s - loss: 0.0020 - val_loss: 0.0022\n",
      "Epoch 33/50\n",
      "0s - loss: 0.0020 - val_loss: 0.0019\n",
      "Epoch 34/50\n",
      "0s - loss: 0.0020 - val_loss: 0.0019\n",
      "Epoch 35/50\n",
      "0s - loss: 0.0019 - val_loss: 0.0026\n",
      "Epoch 36/50\n",
      "0s - loss: 0.0019 - val_loss: 0.0018\n",
      "Epoch 37/50\n",
      "0s - loss: 0.0018 - val_loss: 0.0018\n",
      "Epoch 38/50\n",
      "0s - loss: 0.0018 - val_loss: 0.0017\n",
      "Epoch 39/50\n",
      "0s - loss: 0.0018 - val_loss: 0.0021\n",
      "Epoch 40/50\n",
      "0s - loss: 0.0017 - val_loss: 0.0018\n",
      "Epoch 41/50\n",
      "0s - loss: 0.0017 - val_loss: 0.0016\n",
      "Epoch 42/50\n",
      "0s - loss: 0.0017 - val_loss: 0.0016\n",
      "Epoch 43/50\n",
      "0s - loss: 0.0016 - val_loss: 0.0016\n",
      "Epoch 44/50\n",
      "0s - loss: 0.0016 - val_loss: 0.0016\n",
      "Epoch 45/50\n",
      "0s - loss: 0.0016 - val_loss: 0.0017\n",
      "Epoch 46/50\n",
      "0s - loss: 0.0015 - val_loss: 0.0015\n",
      "Epoch 47/50\n",
      "0s - loss: 0.0015 - val_loss: 0.0014\n",
      "Epoch 48/50\n",
      "0s - loss: 0.0015 - val_loss: 0.0014\n",
      "Epoch 49/50\n",
      "0s - loss: 0.0015 - val_loss: 0.0015\n",
      "Epoch 50/50\n",
      "0s - loss: 0.0014 - val_loss: 0.0014\n"
     ]
    },
    {
     "data": {
      "image/png": "[encoded data removed]",
      "text/plain": [
       "<matplotlib.figure.Figure at 0x7fb1f2c0ac10>"
      ]
     },
     "metadata": {},
     "output_type": "display_data"
    },
    {
     "name": "stdout",
     "output_type": "stream",
     "text": [
      "hiden node = 16\n",
      "Train on 15914 samples, validate on 15914 samples\n",
      "Epoch 1/50\n",
      "0s - loss: 0.0468 - val_loss: 0.0143\n",
      "Epoch 2/50\n",
      "0s - loss: 0.0122 - val_loss: 0.0099\n",
      "Epoch 3/50\n",
      "0s - loss: 0.0081 - val_loss: 0.0061\n",
      "Epoch 4/50\n",
      "0s - loss: 0.0053 - val_loss: 0.0042\n",
      "Epoch 5/50\n",
      "0s - loss: 0.0037 - val_loss: 0.0032\n",
      "Epoch 6/50\n",
      "0s - loss: 0.0028 - val_loss: 0.0022\n",
      "Epoch 7/50\n",
      "0s - loss: 0.0022 - val_loss: 0.0017\n",
      "Epoch 8/50\n",
      "0s - loss: 0.0018 - val_loss: 0.0016\n",
      "Epoch 9/50\n",
      "0s - loss: 0.0015 - val_loss: 0.0018\n",
      "Epoch 10/50\n",
      "0s - loss: 0.0013 - val_loss: 0.0015\n",
      "Epoch 11/50\n",
      "0s - loss: 0.0011 - val_loss: 0.0011\n",
      "Epoch 12/50\n",
      "0s - loss: 9.7375e-04 - val_loss: 7.3935e-04\n",
      "Epoch 13/50\n",
      "0s - loss: 8.5713e-04 - val_loss: 6.6604e-04\n",
      "Epoch 14/50\n",
      "0s - loss: 7.8351e-04 - val_loss: 0.0012\n",
      "Epoch 15/50\n",
      "0s - loss: 7.5679e-04 - val_loss: 7.8607e-04\n",
      "Epoch 16/50\n",
      "0s - loss: 7.3119e-04 - val_loss: 5.5715e-04\n",
      "Epoch 17/50\n",
      "0s - loss: 6.9673e-04 - val_loss: 5.6387e-04\n",
      "Epoch 18/50\n",
      "0s - loss: 6.4181e-04 - val_loss: 9.2838e-04\n",
      "Epoch 19/50\n",
      "0s - loss: 6.3183e-04 - val_loss: 4.3804e-04\n",
      "Epoch 20/50\n",
      "0s - loss: 5.5906e-04 - val_loss: 4.6239e-04\n",
      "Epoch 21/50\n"
     ]
    }
   ],
   "source": [
    "# loop windowWidth\n",
    "for SampleNum,Overlap in zip(WindowWidth,OverlapArray):\n",
    "    w=window.Window()\n",
    "    w.SetData(Axis,dic[Axis])\n",
    "    wind=w.Compile(windowWidth=SampleNum,overlapNum=Overlap)\n",
    "    windoW=wind.reshape((len(wind),np.prod(wind.shape[1:])))\n",
    "    \n",
    "    for opt in OptimArray:\n",
    "        print \"hiden node = \"+str(encoding_dim)\n",
    "        CommonName='_encoded'+'_edim='+str(encoding_dim)+'-Window='+str(SampleNum)+'-Overlap='+str(Overlap)+'-'+opt\n",
    "        print CommonName\n",
    "        SaveFileNameEncord=DataName+'_encoded'+CommonName\n",
    "        SaveFileNameDecord=DataName+'_decoded'+CommonName\n",
    "        SaveFileNameNet=DataName+'_net'+CommonName\n",
    "        SaveFileNameTrain=DataName+'_train'+CommonName\n",
    "        SaveFileNameTest=DataName+'_test'+CommonName\n",
    "        SaveFileNameGlaph=GlaphDataPath+DataName+CommonName+'_loss_val_loss.png'\n",
    "\n",
    "        window_test=windoW\n",
    "        window_train=windoW\n",
    "        processing.SaveDicDataFromFileNPZ(WindowDataPath,SaveFileNameTrain,window_test)\n",
    "        processing.SaveDicDataFromFileNPZ(WindowDataPath,SaveFileNameTest,window_test)\n",
    "        shapeNum=windoW.shape[1]\n",
    "\n",
    "        # this is our input placeholder\n",
    "        input_img = Input(shape=(shapeNum,))\n",
    "        # \"encoded\" is the encoded representation of the input\n",
    "        encoded = Dense(encoding_dim, activation='tanh')(input_img)\n",
    "        # \"decoded\" is the lossy reconstruction of the input\n",
    "        decoded = Dense(shapeNum, activation='linear')(encoded)\n",
    "\n",
    "        # this model maps an input to its reconstruction\n",
    "        autoencoder = Model(input=input_img, output=decoded)\n",
    "\n",
    "        # this model maps an input to its encoded representation\n",
    "        encoder = Model(input=input_img, output=encoded)\n",
    "\n",
    "        # create a placeholder for an encoded (32-dimensional) input\n",
    "        encoded_input = Input(shape=(encoding_dim,))\n",
    "        # retrieve the last layer of the autoencoder model\n",
    "        decoder_layer = autoencoder.layers[-1]\n",
    "        # create the decoder model\n",
    "        decoder = Model(input=encoded_input, output=decoder_layer(encoded_input))\n",
    "\n",
    "        autoencoder.compile(optimizer=opt, loss='mse')\n",
    "        plot(autoencoder,  to_file=StudyDataModelPicPath+SaveFileNameNet+'.png')\n",
    "\n",
    "        early_stopping = EarlyStopping(monitor='val_loss', patience=5)\n",
    "        hist = autoencoder.fit(window_train, window_train,\n",
    "                        nb_epoch=50,\n",
    "                        verbose=2,\n",
    "                        batch_size=32,\n",
    "                        shuffle=True,\n",
    "                        validation_data=(window_test, window_test),\n",
    "                        callbacks=[early_stopping])\n",
    "        time.sleep(0.1)\n",
    "        encoded_imgs = encoder.predict(window_test)\n",
    "        decoded_imgs = decoder.predict(encoded_imgs)\n",
    "\n",
    "        processing.SaveDicDataFromFileNPZ(StudyDataPath,SaveFileNameEncord,encoded_imgs)\n",
    "        processing.SaveDicDataFromFileNPZ(StudyDataPath,SaveFileNameDecord,decoded_imgs)\n",
    "\n",
    "        # save model and wights\n",
    "        json_string = encoder.to_json()\n",
    "        open(StudyDataPath+SaveFileNameEncord+'.json', 'w').write(json_string)\n",
    "        encoder.save_weights(StudyDataPath+SaveFileNameEncord+'_weights.h5',overwrite=True)\n",
    "\n",
    "        json_string = decoder.to_json()\n",
    "        open(StudyDataPath+SaveFileNameDecord+'.json', 'w').write(json_string)\n",
    "        decoder.save_weights(StudyDataPath+SaveFileNameDecord+'_weights.h5',overwrite=True)\n",
    "\n",
    "        json_string = autoencoder.to_json()\n",
    "        open(StudyDataPath+SaveFileNameNet+'.json', 'w').write(json_string)\n",
    "        autoencoder.save_weights(StudyDataPath+SaveFileNameNet+'_weights.h5',overwrite=True)\n",
    "\n",
    "        # plot loss\n",
    "        loss = hist.history['loss']\n",
    "        val_loss = hist.history['val_loss']\n",
    "\n",
    "        nb_epoch = len(loss)\n",
    "        plt.plot(range(nb_epoch), loss, marker='.', label='loss')\n",
    "        plt.plot(range(nb_epoch), val_loss, marker='.', label='val_loss')\n",
    "        plt.legend(loc='best', fontsize=10)\n",
    "        plt.grid()\n",
    "        plt.xlabel('epoch')\n",
    "        plt.ylabel('loss')\n",
    "        plt.savefig(SaveFileNameGlaph)\n",
    "        plt.show()"
   ]
  },
  {
   "cell_type": "code",
   "execution_count": null,
   "metadata": {
    "collapsed": true
   },
   "outputs": [],
   "source": []
  },
  {
   "cell_type": "code",
   "execution_count": null,
   "metadata": {
    "collapsed": true
   },
   "outputs": [],
   "source": []
  }
 ],
 "metadata": {
  "kernelspec": {
   "display_name": "Python 2",
   "language": "python",
   "name": "python2"
  },
  "language_info": {
   "codemirror_mode": {
    "name": "ipython",
    "version": 2
   },
   "file_extension": ".py",
   "mimetype": "text/x-python",
   "name": "python",
   "nbconvert_exporter": "python",
   "pygments_lexer": "ipython2",
   "version": "2.7.11"
  }
 },
 "nbformat": 4,
 "nbformat_minor": 0
}
