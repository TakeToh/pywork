{
 "cells": [
  {
   "cell_type": "markdown",
   "metadata": {},
   "source": [
    "ここに学習で必要なパラメータを定義する"
   ]
  },
  {
   "cell_type": "code",
   "execution_count": 2,
   "metadata": {
    "collapsed": true
   },
   "outputs": [],
   "source": [
    "# 表示用\n",
    "from tqdm import tqdm\n",
    "from tqdm import tnrange, tqdm_notebook"
   ]
  },
  {
   "cell_type": "code",
   "execution_count": 3,
   "metadata": {
    "collapsed": false
   },
   "outputs": [],
   "source": [
    "import numpy as np\n",
    "import datetime\n",
    "import os\n",
    "import copy\n",
    "import time\n",
    "\n",
    "# Parametor about Sensor\n",
    "SensorNum=1 # Sensor number\n",
    "#SensorAxis='AccX' # Axis\n",
    "\n",
    "# Parametor about  \" Sliding Window \" \n",
    "WindowWidth =np.array([128,256,512,1024,2048,4096]) # Window Width\n",
    "SlidingWidth =WindowWidth/4 #sliding window\n",
    "\n",
    "# Parametor about Neural Network\n",
    "AEDimention = 16\n",
    "\n",
    "# Define Data Name\n",
    "DATE= str( datetime.date.today() )+'/'\n",
    "TITLE=\"Participants01_First_1/\"\n",
    "\n",
    "# Parametor about \" Data Path\"\n",
    "DataPath = \"/media/takeyama/Transfer/02_ActivityResearch/Paticipants01/01_First/20161018-105301/mem/\"\n",
    "StorePath = \"/media/takeyama/Transfer/02_ActivityResearch\"\n",
    "\n",
    "if not os.path.exists(StorePath+'/'+TITLE+DATE+'dictionary/'): \n",
    "    os.makedirs(StorePath+'/'+TITLE+DATE+'dictionary/')\n",
    "DictionaryDataPath=StorePath+'/'+TITLE+DATE+'dictionary/'\n",
    "\n",
    "if not os.path.exists(StorePath+'/'+TITLE+DATE+'window/'): \n",
    "    os.makedirs(StorePath+'/'+TITLE+DATE+'window/')\n",
    "WindowDataPath=StorePath+'/'+TITLE+DATE+'window/'\n",
    "\n",
    "if not os.path.exists(StorePath+'/'+TITLE+DATE+'studyOutput/'): \n",
    "    os.makedirs(StorePath+'/'+TITLE+DATE+'studyOutput/')\n",
    "StudyOutputPath=StorePath+'/'+TITLE+DATE+'studyOutput/'\n",
    "\n",
    "if not os.path.exists(StorePath+'/'+TITLE+DATE+'parametor/'): \n",
    "    os.makedirs(StorePath+'/'+TITLE+DATE+'parametor/')\n",
    "ParametorPath=StorePath+'/'+TITLE+DATE+'parametor/'\n",
    "\n",
    "if not os.path.exists(StorePath+'/'+TITLE+DATE+'result/'): \n",
    "    os.makedirs(StorePath+'/'+TITLE+DATE+'result/')\n",
    "ResultPath=StorePath+'/'+TITLE+DATE+'result/'\n"
   ]
  },
  {
   "cell_type": "markdown",
   "metadata": {},
   "source": [
    "**センサデータの読み込み**"
   ]
  },
  {
   "cell_type": "code",
   "execution_count": 4,
   "metadata": {
    "collapsed": false
   },
   "outputs": [],
   "source": [
    "# センサデータのcsvファイル名をリストに集約する関数\n",
    "def SensorDataFileNameList(path):\n",
    "    l = os.listdir(DataPath)\n",
    "    FilePath =[]\n",
    "    SensorName = []\n",
    "    \n",
    "    for n in range(len(l)):\n",
    "        if (l[n][:4].find('mem-') != -1):\n",
    "            FilePath.append(l[n])\n",
    "            SensorName.append(l[n][4:15])\n",
    "    \n",
    "    return FilePath,SensorName"
   ]
  },
  {
   "cell_type": "markdown",
   "metadata": {},
   "source": [
    "CSVを読み込んで，CSVの中身を辞書型で表現する．"
   ]
  },
  {
   "cell_type": "code",
   "execution_count": 5,
   "metadata": {
    "collapsed": true
   },
   "outputs": [],
   "source": [
    "def ImportCSV(csv_file,SensorName,mode='Round'):\n",
    "    import pandas as pd\n",
    "    '''\n",
    "    ~Argument~\n",
    "    csv_file -> ファイル名 \n",
    "    mode Round -> 四捨五入\n",
    "         Roundup -> 切り上げ\n",
    "         Rounddown -> 切り捨て\n",
    "    \n",
    "    ~Conversion~\n",
    "    Acc Data  [0.1mG]=>[G]\n",
    "    Gyr Data  [0.01dps]=>[dps]   ...dps=degree per second\n",
    "    '''\n",
    "    # data dictionary \n",
    "    RawData={}   \n",
    "    AccConversion = 0.1 * 0.001\n",
    "    GyrConversion = 0.01\n",
    "    \n",
    "    # design dataframe and import csv\n",
    "    data = pd.read_csv(csv_file)\n",
    "    data.columns=[u'Type',u'Time',u'AccX',u'AccY',u'AccZ',u'GyrX',u'GyrY',u'GyrZ']\n",
    "    data = data[ data['Type']=='ags']\n",
    "\n",
    "    # convert numpy.darray \n",
    "\n",
    "    AccX=data.AccX.values*AccConversion\n",
    "    AccY=data.AccY.values*AccConversion\n",
    "    AccZ=data.AccZ.values*AccConversion\n",
    "    \n",
    "    GyrX=data.GyrX.values*GyrConversion\n",
    "    GyrY=data.GyrY.values*GyrConversion\n",
    "    GyrZ=data.GyrZ.values*GyrConversion\n",
    "\n",
    "    # regist each raw data \n",
    "    RawData['AccX'] = AccX\n",
    "    RawData['AccY'] = AccY\n",
    "    RawData['AccZ'] = AccZ\n",
    "    RawData['GyrX'] = GyrX\n",
    "    RawData['GyrY'] = GyrY\n",
    "    RawData['GyrZ'] = GyrZ\n",
    "    RawData['Name'] = SensorName\n",
    "\n",
    "    RawData['Time'] = data.Time.values\n",
    "    return RawData"
   ]
  },
  {
   "cell_type": "code",
   "execution_count": 6,
   "metadata": {
    "collapsed": false
   },
   "outputs": [],
   "source": [
    "import processing\n",
    "import window\n",
    "\n",
    "Label = ['LeftHand','RightHand','LeftLeg','Rightleg','West','Chest']\n",
    "\n",
    "DataFileNameList,SensorName=SensorDataFileNameList(DataPath)\n",
    "l=[]\n",
    "for i in range( len(DataFileNameList) ):\n",
    "    l.append( ImportCSV(DataPath+DataFileNameList[i],Label[i]) )"
   ]
  },
  {
   "cell_type": "markdown",
   "metadata": {},
   "source": [
    "読み込んだセンサデータの時系列を整理する．\n",
    "→具体的には，センサデータのスタート時間とゴール時間を整える．\n"
   ]
  },
  {
   "cell_type": "code",
   "execution_count": 7,
   "metadata": {
    "collapsed": true
   },
   "outputs": [],
   "source": [
    "def MakeCommonSection(inputDataArray):\n",
    "    # 共通区間のスタート時間、ゴール時間を求める\n",
    "    # スタート時間を求める\n",
    "    startTime = min(inputDataArray[0]['Time'])\n",
    "    \n",
    "    for i in range(len(inputDataArray)):\n",
    "        if startTime < min(inputDataArray[i]['Time']):\n",
    "            startTime = min(inputDataArray[i]['Time'])\n",
    "    \n",
    "    # ゴール時間を求める\n",
    "    goalTime = max(inputDataArray[0]['Time'])\n",
    "    \n",
    "    for i in range(len(inputDataArray)):\n",
    "        if goalTime > max(inputDataArray[i]['Time']):\n",
    "            goalTime = max(inputDataArray[i]['Time'])\n",
    "\n",
    "    # 共通区間のスタート時間のインデックス、ゴール時間のインデックスを探索する\n",
    "    def CalcSearchIndexFromTime(data, keyTime):\n",
    "        \"\"\"\n",
    "        data　辞書型\n",
    "        keyTime data['Time']の中の探す値\n",
    "        \"\"\"\n",
    "        count = 0\n",
    "        for i in range(0, len(data['Time'])):\n",
    "            if keyTime == data['Time'][i]:\n",
    "                print str(keyTime)+' is much in the index  whose number is '+str(i)\n",
    "                return i\n",
    "            \n",
    "    startIndex = np.array([])\n",
    "    goalIndex = np.array([])\n",
    "    for obj in inputDataArray:\n",
    "        print 'start'\n",
    "        startIndex = np.append(startIndex, CalcSearchIndexFromTime(obj, startTime) ).astype(int)\n",
    "        print 'goal'\n",
    "        goalIndex = np.append(goalIndex, CalcSearchIndexFromTime(obj, goalTime) ).astype(int)\n",
    "\n",
    "    tmp={}\n",
    "    comDataArray =[]\n",
    "    key={}\n",
    "\n",
    "    # センサデータすべて（時刻、加速度、角速度）に対して共通区間のみのデータを抽出\n",
    "    for number,iDA in enumerate( inputDataArray ):\n",
    "\n",
    "        tmp['AccX'] = copy.deepcopy( iDA['AccX'][startIndex[number]:goalIndex[number]] )\n",
    "        tmp['AccY'] = copy.deepcopy( iDA['AccY'][startIndex[number]:goalIndex[number]] )\n",
    "        tmp['AccZ'] = copy.deepcopy( iDA['AccZ'][startIndex[number]:goalIndex[number]] )\n",
    "        tmp['GyrX'] = copy.deepcopy( iDA['GyrX'][startIndex[number]:goalIndex[number]] )\n",
    "        tmp['GyrY'] = copy.deepcopy( iDA['GyrY'][startIndex[number]:goalIndex[number]] )\n",
    "        tmp['GyrZ'] = copy.deepcopy( iDA['GyrZ'][startIndex[number]:goalIndex[number]] )\n",
    "        tmp['Time'] = copy.deepcopy( iDA['Time'][startIndex[number]:goalIndex[number]] )\n",
    "        tmp['Name'] = copy.deepcopy( iDA['Name'] )\n",
    "        comDataArray.append(copy.deepcopy(tmp) )    \n",
    "        key[ tmp['Name'] ] = number\n",
    "       \n",
    "    return key,comDataArray"
   ]
  },
  {
   "cell_type": "code",
   "execution_count": 8,
   "metadata": {
    "collapsed": false
   },
   "outputs": [
    {
     "name": "stdout",
     "output_type": "stream",
     "text": [
      "start\n",
      "36290413 is much in the index  whose number is 35\n",
      "goal\n",
      "37368283 is much in the index  whose number is 1077905\n",
      "start\n",
      "36290413 is much in the index  whose number is 0\n",
      "goal\n",
      "37368283 is much in the index  whose number is 1077870\n",
      "start\n",
      "36290413 is much in the index  whose number is 959\n",
      "goal\n",
      "37368283 is much in the index  whose number is 1078829\n",
      "start\n",
      "36290413 is much in the index  whose number is 911\n",
      "goal\n",
      "37368283 is much in the index  whose number is 1078781\n",
      "start\n",
      "36290413 is much in the index  whose number is 871\n",
      "goal\n",
      "37368283 is much in the index  whose number is 1078741\n",
      "start\n",
      "36290413 is much in the index  whose number is 834\n",
      "goal\n",
      "37368283 is much in the index  whose number is 1078704\n"
     ]
    }
   ],
   "source": [
    "TrimKey,TrimData = MakeCommonSection(l)"
   ]
  },
  {
   "cell_type": "markdown",
   "metadata": {},
   "source": [
    "辞書型に変換したデータをnp.savez関数でnpz型に圧縮し，保存する"
   ]
  },
  {
   "cell_type": "code",
   "execution_count": 9,
   "metadata": {
    "collapsed": true
   },
   "outputs": [],
   "source": [
    "for i in range(6):\n",
    "    np.savez(DictionaryDataPath+TrimData[i]['Name'],data=TrimData[i])"
   ]
  },
  {
   "cell_type": "markdown",
   "metadata": {},
   "source": [
    "ラベルデータのインポート"
   ]
  },
  {
   "cell_type": "code",
   "execution_count": 10,
   "metadata": {
    "collapsed": false
   },
   "outputs": [
    {
     "data": {
      "text/plain": [
       "array([36290413, 36290414, 36290415, ..., 37368280, 37368281, 37368282])"
      ]
     },
     "execution_count": 10,
     "metadata": {},
     "output_type": "execute_result"
    }
   ],
   "source": [
    "TrimData[0]['Time']"
   ]
  },
  {
   "cell_type": "code",
   "execution_count": 11,
   "metadata": {
    "collapsed": false
   },
   "outputs": [
    {
     "data": {
      "text/plain": [
       "array([36290413, 36290414, 36290415, ..., 37368280, 37368281, 37368282])"
      ]
     },
     "execution_count": 11,
     "metadata": {},
     "output_type": "execute_result"
    }
   ],
   "source": [
    "TrimData[2]['Time']"
   ]
  },
  {
   "cell_type": "code",
   "execution_count": 12,
   "metadata": {
    "collapsed": false
   },
   "outputs": [],
   "source": [
    "LabelPath = \"/media/takeyama/Transfer/02_ActivityResearch/Paticipants01/01_First/20161018-first-syncplay/\"\n",
    "import pandas as pd"
   ]
  },
  {
   "cell_type": "code",
   "execution_count": 13,
   "metadata": {
    "collapsed": false,
    "scrolled": true
   },
   "outputs": [
    {
     "name": "stdout",
     "output_type": "stream",
     "text": [
      "\n"
     ]
    }
   ],
   "source": [
    "data = pd.read_csv(LabelPath+'spa_First_2.csv',encoding='Shift_JIS')\n",
    "\n",
    "array = pd.to_datetime( data['#Time'].values )\n",
    "t = np.array([])\n",
    "for i in tqdm_notebook( range( len(array) ) ):\n",
    "    t = np.append(t, array[i].hour*3600*1000+array[i].minute*60*1000+array[i].second*1000+array[i].microsecond*0.001)\n",
    "    \n",
    "data['#Time'] = t.astype(int)"
   ]
  },
  {
   "cell_type": "markdown",
   "metadata": {},
   "source": [
    "ラベルとデータのリンクを行う\n",
    "\n",
    "テストデータとして，Paticipants01のLeftHandのデータにラベルをリンクさせる．\n",
    "\n",
    "まず，ラベルの時間軸をセンサデータの軸にするために，ラベルのi番目とi+1番目のデータの間に２以上の差があるとき限定でパティングを行う．\n",
    "\n",
    "2016-11-16\n",
    "まずは，ラベルデータをセンサデータとリンクするために\n",
    "* 時間軸のステップが1である\n",
    "* 時間軸はiとi+1の差が1以上ある場合はその間を差の-1回だけ間にi番目のラベルを挿入する\n",
    "\n",
    "やっていく処理の流れ\n",
    "* pandasからnumpyに変換する．\n",
    "*  "
   ]
  },
  {
   "cell_type": "code",
   "execution_count": 14,
   "metadata": {
    "collapsed": false,
    "scrolled": true
   },
   "outputs": [],
   "source": [
    "PdArray =data.as_matrix()"
   ]
  },
  {
   "cell_type": "code",
   "execution_count": 15,
   "metadata": {
    "collapsed": false
   },
   "outputs": [
    {
     "name": "stdout",
     "output_type": "stream",
     "text": [
      "[[36295020 u'\\u505c\\u6b62' nan ..., nan nan nan]\n",
      " [36307158 u'\\u306a\\u3057' u'\\u306a\\u3057' ..., u'\\u306a\\u3057'\n",
      "  u'\\u76f4\\u7acb' 0.0]\n",
      " [36309723 u'\\u6301\\u3064' u'\\u6642\\u8a08' ..., u'\\u306a\\u3057'\n",
      "  u'\\u76f4\\u7acb' 101.0]\n",
      " ..., \n",
      " [37217223 u'\\u306a\\u3057' u'\\u306a\\u3057' ..., u'\\u306a\\u3057'\n",
      "  u'\\u76f4\\u7acb' 114.0]\n",
      " [37221638 u'\\u306a\\u3057' u'\\u306a\\u3057' ..., u'\\u306a\\u3057'\n",
      "  u'\\u76f4\\u7acb' 114.0]\n",
      " [37233827 u'\\u306a\\u3057' u'\\u306a\\u3057' ..., u'\\u306a\\u3057'\n",
      "  u'\\u306a\\u3057' 114.0]]\n"
     ]
    }
   ],
   "source": [
    "print PdArray"
   ]
  },
  {
   "cell_type": "code",
   "execution_count": 16,
   "metadata": {
    "collapsed": false
   },
   "outputs": [
    {
     "data": {
      "text/plain": [
       "array([36295020, u'\\u505c\\u6b62', nan, nan, nan, nan, nan, nan, nan, nan], dtype=object)"
      ]
     },
     "execution_count": 16,
     "metadata": {},
     "output_type": "execute_result"
    }
   ],
   "source": [
    "PdArray[0]"
   ]
  },
  {
   "cell_type": "code",
   "execution_count": null,
   "metadata": {
    "collapsed": false,
    "scrolled": true
   },
   "outputs": [
    {
     "name": "stderr",
     "output_type": "stream",
     "text": [
      "Exception in thread Thread-5:\n",
      "Traceback (most recent call last):\n",
      "  File \"/home/takeyama/.pyenv/versions/2.7.11/lib/python2.7/threading.py\", line 801, in __bootstrap_inner\n",
      "    self.run()\n",
      "  File \"/home/takeyama/.pyenv/versions/2.7.11/envs/takeyama/src/tqdm/tqdm/_tqdm.py\", line 102, in run\n",
      "    for instance in self.tqdm_cls._instances:\n",
      "  File \"/home/takeyama/.pyenv/versions/2.7.11/envs/takeyama/lib/python2.7/_weakrefset.py\", line 60, in __iter__\n",
      "    for itemref in self.data:\n",
      "RuntimeError: Set changed size during iteration\n",
      "\n"
     ]
    }
   ],
   "source": [
    "Output = np.array(PdArray[0])\n",
    "\n",
    "for i in  tqdm_notebook( range( len(PdArray)-1 ),leave=False ):\n",
    "    Diff = PdArray[i+1][0]-PdArray[i][0]\n",
    "    if Diff > 0:\n",
    "        for l in tqdm_notebook( range(Diff-1),leave=False ):\n",
    "            AddingArray =PdArray[i]\n",
    "            AddingArray[0] = AddingArray[0]+(l+1)\n",
    "            Output = np.vstack( (Output,AddingArray ) )\n",
    "    Output = np.vstack( (Output, PdArray[i+1]) )\n",
    "    time.sleep(0.1)"
   ]
  },
  {
   "cell_type": "code",
   "execution_count": null,
   "metadata": {
    "collapsed": false
   },
   "outputs": [],
   "source": [
    "np.savez('output',data=Output)"
   ]
  },
  {
   "cell_type": "code",
   "execution_count": null,
   "metadata": {
    "collapsed": false
   },
   "outputs": [],
   "source": [
    "np.savetxt(\"MakingLabelArray.csv\", Output, delimiter=\",\")"
   ]
  },
  {
   "cell_type": "code",
   "execution_count": null,
   "metadata": {
    "collapsed": true
   },
   "outputs": [],
   "source": []
  },
  {
   "cell_type": "code",
   "execution_count": null,
   "metadata": {
    "collapsed": true
   },
   "outputs": [],
   "source": []
  },
  {
   "cell_type": "code",
   "execution_count": null,
   "metadata": {
    "collapsed": true
   },
   "outputs": [],
   "source": []
  },
  {
   "cell_type": "code",
   "execution_count": null,
   "metadata": {
    "collapsed": true
   },
   "outputs": [],
   "source": []
  },
  {
   "cell_type": "code",
   "execution_count": null,
   "metadata": {
    "collapsed": false
   },
   "outputs": [],
   "source": [
    "def TrimLabel(PandasObject):\n",
    "    TimeArray = PandasObject['#Time']\n",
    "    TrimArray = np.array([])\n",
    "    TrimArray = np.append(TrimArray,PandasObject.ix[0:])\n",
    "\n",
    "    for i in range( len(TimeArray)-1):\n",
    "        Diff = TimeArray[i+1]-TimeArray[i]\n",
    "        if Diff >1:\n",
    "            for l in range(Diff-1):\n",
    "                TrimArray = np.append(TrimArray,PandasObject[i:i+1])\n",
    "            TrimArray = np.append(TrimArray,TimeArray[i+1:i+2])\n",
    "    return TrimArray"
   ]
  },
  {
   "cell_type": "code",
   "execution_count": null,
   "metadata": {
    "collapsed": false
   },
   "outputs": [],
   "source": [
    "Output=Output.T"
   ]
  },
  {
   "cell_type": "code",
   "execution_count": null,
   "metadata": {
    "collapsed": false
   },
   "outputs": [],
   "source": [
    "Output.astype(np.int16)"
   ]
  },
  {
   "cell_type": "code",
   "execution_count": null,
   "metadata": {
    "collapsed": false
   },
   "outputs": [],
   "source": [
    "index = np.where(Output[0] == 36290413)"
   ]
  },
  {
   "cell_type": "code",
   "execution_count": null,
   "metadata": {
    "collapsed": false
   },
   "outputs": [],
   "source": [
    "index"
   ]
  },
  {
   "cell_type": "code",
   "execution_count": null,
   "metadata": {
    "collapsed": true
   },
   "outputs": [],
   "source": []
  }
 ],
 "metadata": {
  "kernelspec": {
   "display_name": "Python 2",
   "language": "python",
   "name": "python2"
  },
  "language_info": {
   "codemirror_mode": {
    "name": "ipython",
    "version": 2
   },
   "file_extension": ".py",
   "mimetype": "text/x-python",
   "name": "python",
   "nbconvert_exporter": "python",
   "pygments_lexer": "ipython2",
   "version": "2.7.11"
  },
  "widgets": {
   "state": {
    "013a092abc4849d1aa28749e47e65409": {
     "views": [
      {
       "cell_index": 22
      }
     ]
    },
    "01f5b288839041c99b1a94167f8afcad": {
     "views": [
      {
       "cell_index": 22
      }
     ]
    },
    "022ce99455154e79ac4a65ef88422d68": {
     "views": [
      {
       "cell_index": 22
      }
     ]
    },
    "0260c44577e34607940814b6356e3c4a": {
     "views": [
      {
       "cell_index": 22
      }
     ]
    },
    "03c7ffef95ce412eaccd702cda669332": {
     "views": [
      {
       "cell_index": 22
      }
     ]
    },
    "044627837b9f4e70bf0b2a43980663ff": {
     "views": [
      {
       "cell_index": 22
      }
     ]
    },
    "05de0ba814b14cbdbabac8179955b6c2": {
     "views": [
      {
       "cell_index": 22
      }
     ]
    },
    "069944655f1e49efa9d1f1cc1cd39d11": {
     "views": [
      {
       "cell_index": 22
      }
     ]
    },
    "06b286513faf4720a92bb71fd68d33cd": {
     "views": [
      {
       "cell_index": 22
      }
     ]
    },
    "0775d9bb20ac4a2d93118ef08dfbd10f": {
     "views": [
      {
       "cell_index": 22
      }
     ]
    },
    "07f4cc0c178f4ac5839a7e687aa53d49": {
     "views": [
      {
       "cell_index": 22
      }
     ]
    },
    "0973bc27735949248ae1a5a76df1a111": {
     "views": [
      {
       "cell_index": 22
      }
     ]
    },
    "0a1b17a84cf24f0e9e46d66f392f8a8e": {
     "views": [
      {
       "cell_index": 22
      }
     ]
    },
    "0a2916ba46394f469095c90ea78d8fe7": {
     "views": [
      {
       "cell_index": 22
      }
     ]
    },
    "0a4391abccf44d96b93d7a2b976af71b": {
     "views": [
      {
       "cell_index": 22
      }
     ]
    },
    "0ecbfb28dc6b48e4a65e6f7b57c460d2": {
     "views": [
      {
       "cell_index": 22
      }
     ]
    },
    "0f5e5c24da2c4e9bbf0f6b4689c68682": {
     "views": [
      {
       "cell_index": 22
      }
     ]
    },
    "102cd2d9feca4a0fbb134f9b588dd70b": {
     "views": [
      {
       "cell_index": 22
      }
     ]
    },
    "10c355564c0148f49a9cd3983ab95bb6": {
     "views": [
      {
       "cell_index": 22
      }
     ]
    },
    "11fdd6ab9ab3480c82f6d4ecca7b3af2": {
     "views": [
      {
       "cell_index": 22
      }
     ]
    },
    "13aa3629ec7445009509937db06e2fe4": {
     "views": [
      {
       "cell_index": 22
      }
     ]
    },
    "15d654ace51746ecad9657993610c7ca": {
     "views": [
      {
       "cell_index": 22
      }
     ]
    },
    "188b30f2572f4cca8fa0e54c3ddf536d": {
     "views": [
      {
       "cell_index": 22
      }
     ]
    },
    "19d8b5baf99e4079adc76a6d2aefb195": {
     "views": [
      {
       "cell_index": 22
      }
     ]
    },
    "1a3c0ab0bb4f457ea7cd5f062e730cea": {
     "views": [
      {
       "cell_index": 22
      }
     ]
    },
    "1a6cb0affde04e19ac4080780b3cbb0b": {
     "views": [
      {
       "cell_index": 22
      }
     ]
    },
    "1d3455f5acb245b4a6e0b446a6eea012": {
     "views": [
      {
       "cell_index": 22
      }
     ]
    },
    "1d4c2cfbb9cc4ab889f6adc7815fab0d": {
     "views": [
      {
       "cell_index": 22
      }
     ]
    },
    "1de7b4a4e3cc4045ba001c12f54d0191": {
     "views": [
      {
       "cell_index": 22
      }
     ]
    },
    "1e1f496b37154bdf91999c50698c95d0": {
     "views": [
      {
       "cell_index": 22
      }
     ]
    },
    "1e50d3e2167a4ee3858ac5320b47252c": {
     "views": [
      {
       "cell_index": 22
      }
     ]
    },
    "215d454f5bca45979c90cac934f8711d": {
     "views": [
      {
       "cell_index": 22
      }
     ]
    },
    "219f33cde2204ffc8baa5a3bbb31e6ca": {
     "views": [
      {
       "cell_index": 22
      }
     ]
    },
    "2256125c372448178f12be4ecd1e4d48": {
     "views": [
      {
       "cell_index": 22
      }
     ]
    },
    "22951298e91a4d53bd1eaafddb8c1aa9": {
     "views": [
      {
       "cell_index": 22
      }
     ]
    },
    "2371d4738abf4cf296e8874a58b21ece": {
     "views": [
      {
       "cell_index": 22
      }
     ]
    },
    "24f7940850954f50bdf6960a96fc1b30": {
     "views": [
      {
       "cell_index": 22
      }
     ]
    },
    "25c2ec7823cb4ded8d16af6ea173d9e0": {
     "views": [
      {
       "cell_index": 22
      }
     ]
    },
    "2667eca391034b3b9e3cda578d32b07f": {
     "views": [
      {
       "cell_index": 22
      }
     ]
    },
    "26aafbd3dd5e4c76b68640eb82a8006f": {
     "views": [
      {
       "cell_index": 22
      }
     ]
    },
    "294477dc4293468a8212586fe475f782": {
     "views": [
      {
       "cell_index": 22
      }
     ]
    },
    "2d96f284c2314b508eb2efeed5733203": {
     "views": [
      {
       "cell_index": 22
      }
     ]
    },
    "2dfbd4dfac064f4ead46d9c114339b77": {
     "views": [
      {
       "cell_index": 22
      }
     ]
    },
    "2e28589674484422a8714950ddb4549a": {
     "views": [
      {
       "cell_index": 22
      }
     ]
    },
    "2f000f9b8bca45d295e65e3042470df2": {
     "views": [
      {
       "cell_index": 22
      }
     ]
    },
    "31114994f62e4aca8f00b7a69e873aed": {
     "views": [
      {
       "cell_index": 22
      }
     ]
    },
    "316eb37c4b9f481ca642aa72c60bd286": {
     "views": [
      {
       "cell_index": 22
      }
     ]
    },
    "31787dc524f14234b066c6b809200fc9": {
     "views": [
      {
       "cell_index": 22
      }
     ]
    },
    "31efafd8cee24565bc05569ba16f9206": {
     "views": [
      {
       "cell_index": 22
      }
     ]
    },
    "3403f8daf7a6479c8beef921f1f0755d": {
     "views": [
      {
       "cell_index": 22
      }
     ]
    },
    "352c34f02d534d6b956131e318e688df": {
     "views": [
      {
       "cell_index": 22
      }
     ]
    },
    "37034f1651ef4d3c8c8ce5d9202f5bac": {
     "views": [
      {
       "cell_index": 22
      }
     ]
    },
    "3a06d3873f5d485c8f43e863cdf87d20": {
     "views": [
      {
       "cell_index": 22
      }
     ]
    },
    "3a713bd73412434b80c22367dad9abf9": {
     "views": [
      {
       "cell_index": 22
      }
     ]
    },
    "3b1e29bf92d04d17b9405120a971713e": {
     "views": [
      {
       "cell_index": 22
      }
     ]
    },
    "3c7684073ea547a0857f74cad741fe75": {
     "views": [
      {
       "cell_index": 22
      }
     ]
    },
    "3fbae1eee8284210ac9742571beeff69": {
     "views": [
      {
       "cell_index": 22
      }
     ]
    },
    "40449a56f63c44cbbf059de67a98a89b": {
     "views": [
      {
       "cell_index": 22
      }
     ]
    },
    "40cd06e15e744b1aa9b23b74634033f6": {
     "views": [
      {
       "cell_index": 22
      }
     ]
    },
    "41025160d5c14d4abe0d8693d9a822f8": {
     "views": [
      {
       "cell_index": 22
      }
     ]
    },
    "4217f1bb44914c22888bad0d2f125c77": {
     "views": [
      {
       "cell_index": 22
      }
     ]
    },
    "4238fd571b924237b1f5fc63e06306be": {
     "views": [
      {
       "cell_index": 22
      }
     ]
    },
    "45fba91a6d7d479582ff990f60926517": {
     "views": [
      {
       "cell_index": 22
      }
     ]
    },
    "490ec81048124a669258e071281e0ba8": {
     "views": [
      {
       "cell_index": 22
      }
     ]
    },
    "4bb6181d0f8b425a9873bfcd623073a7": {
     "views": [
      {
       "cell_index": 22
      }
     ]
    },
    "4c2f49ee7802447cb4139a2a001ff792": {
     "views": [
      {
       "cell_index": 22
      }
     ]
    },
    "4cab2cfa05764635a4190c080c3520a1": {
     "views": [
      {
       "cell_index": 22
      }
     ]
    },
    "4d406e03f0da4ddaa08dfbbcb9e2f4df": {
     "views": [
      {
       "cell_index": 22
      }
     ]
    },
    "51b4652e3dc64b66856b34a3d47c1162": {
     "views": [
      {
       "cell_index": 22
      }
     ]
    },
    "524e1d24b085460f80855bd14f884792": {
     "views": [
      {
       "cell_index": 22
      }
     ]
    },
    "53fe50f8066e4467bb878a40a5d7691f": {
     "views": [
      {
       "cell_index": 22
      }
     ]
    },
    "54d5ca3d3c9f4e0481d59a87f95fc765": {
     "views": [
      {
       "cell_index": 22
      }
     ]
    },
    "5560fce180d24a05b2cb34235d15c76d": {
     "views": [
      {
       "cell_index": 22
      }
     ]
    },
    "572ebf2071eb44979c339ae6e9c2da40": {
     "views": [
      {
       "cell_index": 22
      }
     ]
    },
    "593bf6f188e243dea16b13cf0d822ec0": {
     "views": [
      {
       "cell_index": 22
      }
     ]
    },
    "5b5fe2f61098498cb7cc857c7c17a2bf": {
     "views": [
      {
       "cell_index": 22
      }
     ]
    },
    "5cf077e6336b4a50b8e28dc0def9d8f2": {
     "views": [
      {
       "cell_index": 22
      }
     ]
    },
    "5d64a2c4d65045b185deeac653279a92": {
     "views": [
      {
       "cell_index": 22
      }
     ]
    },
    "601fa31d26c44e89b1777fbf8a21d1db": {
     "views": [
      {
       "cell_index": 22
      }
     ]
    },
    "62d8e6a164ee4481841cabe1a17c2a29": {
     "views": [
      {
       "cell_index": 22
      }
     ]
    },
    "65015ab452a24d228d0968144fa19a0e": {
     "views": [
      {
       "cell_index": 22
      }
     ]
    },
    "65f92a57ddf84a6a9e2ce34363522196": {
     "views": [
      {
       "cell_index": 22
      }
     ]
    },
    "663534d0b9cf4f34b8faea9de4811716": {
     "views": [
      {
       "cell_index": 22
      }
     ]
    },
    "6691aa91d2ba45f5b8fc32cb71dcc9df": {
     "views": [
      {
       "cell_index": 22
      }
     ]
    },
    "680d67f8cc524037909c78d810d287c5": {
     "views": [
      {
       "cell_index": 22
      }
     ]
    },
    "68b217eff06d4e88aaa0b2476150cb67": {
     "views": [
      {
       "cell_index": 22
      }
     ]
    },
    "68e73a19440445e58e98b40784c183e1": {
     "views": [
      {
       "cell_index": 22
      }
     ]
    },
    "6938aafc9bde45da8cacc61b948337f3": {
     "views": [
      {
       "cell_index": 22
      }
     ]
    },
    "6db2119fdaf94db38066d605fcc6e0a6": {
     "views": [
      {
       "cell_index": 22
      }
     ]
    },
    "6f41c02d3b934266871ad33054757b51": {
     "views": [
      {
       "cell_index": 22
      }
     ]
    },
    "6fc7dc8464cd42579d03d17fd9681932": {
     "views": [
      {
       "cell_index": 22
      }
     ]
    },
    "70b22fd69125480686eac3f9e48c2b45": {
     "views": [
      {
       "cell_index": 22
      }
     ]
    },
    "71f7eee7b25442659f8f607fbaf30f75": {
     "views": [
      {
       "cell_index": 17
      }
     ]
    },
    "73bd12a859a740c5aae59b90ebcc283d": {
     "views": [
      {
       "cell_index": 22
      }
     ]
    },
    "73ea684cce514fcd9bd2a89538f6f612": {
     "views": [
      {
       "cell_index": 22
      }
     ]
    },
    "750c9be699594441b4d53b16fb69430b": {
     "views": [
      {
       "cell_index": 22
      }
     ]
    },
    "756cf5e288a948229d71b0a01828a610": {
     "views": [
      {
       "cell_index": 22
      }
     ]
    },
    "769cfdeba79e4dc1ae36954bde518f6b": {
     "views": [
      {
       "cell_index": 22
      }
     ]
    },
    "77b7c254e81844799c563908d30efe5a": {
     "views": [
      {
       "cell_index": 22
      }
     ]
    },
    "78126b53091f432cb370e3f550e4f522": {
     "views": [
      {
       "cell_index": 22
      }
     ]
    },
    "782bc0d41f03406ea9e4935ffeba138a": {
     "views": [
      {
       "cell_index": 22
      }
     ]
    },
    "7e8957a18c894192a5b5527493dcf81d": {
     "views": [
      {
       "cell_index": 22
      }
     ]
    },
    "8076707f5b8b42419d7ca339eebee9b1": {
     "views": [
      {
       "cell_index": 22
      }
     ]
    },
    "8157ef13641d46c5b2c0616fc81bc31f": {
     "views": [
      {
       "cell_index": 22
      }
     ]
    },
    "83396482691e417cbed802c217232a8e": {
     "views": [
      {
       "cell_index": 22
      }
     ]
    },
    "8419d9e0ef6542daa909d82d55400923": {
     "views": [
      {
       "cell_index": 22
      }
     ]
    },
    "842b5bb344b94fd495977f6f8bb9ccd2": {
     "views": [
      {
       "cell_index": 22
      }
     ]
    },
    "851d53e498c54864afcb09137e5da35c": {
     "views": [
      {
       "cell_index": 22
      }
     ]
    },
    "86e41ea062b747b796c45d922c6a605c": {
     "views": [
      {
       "cell_index": 22
      }
     ]
    },
    "8931c203d74e4f599558877c92da2881": {
     "views": [
      {
       "cell_index": 22
      }
     ]
    },
    "8c339af15d164419aa8af9efb4a07dcc": {
     "views": [
      {
       "cell_index": 22
      }
     ]
    },
    "8da9fa8117d44a678ea4fcc1286952a0": {
     "views": [
      {
       "cell_index": 22
      }
     ]
    },
    "90411f0ccf2a4697b60304a7049865d2": {
     "views": [
      {
       "cell_index": 22
      }
     ]
    },
    "9218d2784f804d189af9a1d56275043a": {
     "views": [
      {
       "cell_index": 22
      }
     ]
    },
    "92bf244fad18472dbad0109a5f96cb56": {
     "views": [
      {
       "cell_index": 22
      }
     ]
    },
    "971bb1b0cb0e4978922730d8d8290040": {
     "views": [
      {
       "cell_index": 22
      }
     ]
    },
    "97fecdb5f0e24ae78899df4c3cc6d5c7": {
     "views": [
      {
       "cell_index": 22
      }
     ]
    },
    "98cc6d62a3d849f1add1c35ff8e3dc6d": {
     "views": [
      {
       "cell_index": 22
      }
     ]
    },
    "995558081dec40cc9181640fb898ab76": {
     "views": [
      {
       "cell_index": 22
      }
     ]
    },
    "9b99f71f5e2343c6bd0754feaad2fa52": {
     "views": [
      {
       "cell_index": 22
      }
     ]
    },
    "9d5bf3fec5af4dfb830e16a732e3a263": {
     "views": [
      {
       "cell_index": 22
      }
     ]
    },
    "9d7d09f0876a4c40b96129ac440afd06": {
     "views": [
      {
       "cell_index": 22
      }
     ]
    },
    "9d7f4f6020f243b7b9a94ca54917bff5": {
     "views": [
      {
       "cell_index": 22
      }
     ]
    },
    "9e4879621a5c41f49512fe259a1ba58d": {
     "views": [
      {
       "cell_index": 22
      }
     ]
    },
    "9e7c697f6b444456b902119c6eea119a": {
     "views": [
      {
       "cell_index": 22
      }
     ]
    },
    "9fa9651bf6a54ec686a4f8e17dbcc8ac": {
     "views": [
      {
       "cell_index": 22
      }
     ]
    },
    "a01e184f913c491397a04c0df8aa4d66": {
     "views": [
      {
       "cell_index": 22
      }
     ]
    },
    "a12b81d9e3e94b38a169e2ebbe0b435d": {
     "views": [
      {
       "cell_index": 22
      }
     ]
    },
    "a9447b0fd8734645b5f6315eb5539777": {
     "views": [
      {
       "cell_index": 22
      }
     ]
    },
    "ab2e571a23e5459dbff89b58602085b7": {
     "views": [
      {
       "cell_index": 22
      }
     ]
    },
    "abab6d3c0f304a47b1eb0e2575cddf4a": {
     "views": [
      {
       "cell_index": 22
      }
     ]
    },
    "ac2c07105dbc44f08fc6de53bb1540e8": {
     "views": [
      {
       "cell_index": 22
      }
     ]
    },
    "adddfa3139ac40fb897dfba752476393": {
     "views": [
      {
       "cell_index": 22
      }
     ]
    },
    "aee5b3db72a0499390c9f06ae859b4b7": {
     "views": [
      {
       "cell_index": 22
      }
     ]
    },
    "af46d61148594931bf3d2d6115588278": {
     "views": [
      {
       "cell_index": 22
      }
     ]
    },
    "af9f44ef7ceb4e93865328543f777efa": {
     "views": [
      {
       "cell_index": 22
      }
     ]
    },
    "b1047ceee574414db229b4ca2eb09d20": {
     "views": [
      {
       "cell_index": 22
      }
     ]
    },
    "b139e8de6929458490b7d1992c513aea": {
     "views": [
      {
       "cell_index": 22
      }
     ]
    },
    "b1dd5d4321314da5b4a6507a8109e8ce": {
     "views": [
      {
       "cell_index": 22
      }
     ]
    },
    "b211740b06894bbd83e5b77a8ebfb049": {
     "views": [
      {
       "cell_index": 22
      }
     ]
    },
    "b3bbbcaa05b742c58d6e29b4ec320df5": {
     "views": [
      {
       "cell_index": 22
      }
     ]
    },
    "b48f6370997e4d19994b7185be78aa09": {
     "views": [
      {
       "cell_index": 22
      }
     ]
    },
    "b6d10b118fa44f658b9af1525a242c05": {
     "views": [
      {
       "cell_index": 22
      }
     ]
    },
    "b7ac2745ecb143bcb61fb0c94cefe28c": {
     "views": [
      {
       "cell_index": 22
      }
     ]
    },
    "b96cad16dbfa49f08b352d558688a849": {
     "views": [
      {
       "cell_index": 22
      }
     ]
    },
    "b9ad50ac54784bfd92a9bd4b54c997d4": {
     "views": [
      {
       "cell_index": 22
      }
     ]
    },
    "ba1b62c0dde64646a142f6842734fcb2": {
     "views": [
      {
       "cell_index": 22
      }
     ]
    },
    "ba5f2843a1334cb08cb17e2aeccd534e": {
     "views": [
      {
       "cell_index": 22
      }
     ]
    },
    "bb8953b59e11479189969f33445285d6": {
     "views": [
      {
       "cell_index": 22
      }
     ]
    },
    "bc7e72fe1b6f4851b7bb7d37841b67fb": {
     "views": [
      {
       "cell_index": 22
      }
     ]
    },
    "bd344f0fbf1c429bb8588a2f6ecf1f9a": {
     "views": [
      {
       "cell_index": 22
      }
     ]
    },
    "bd6319418c444231904b8f031b2f2bdb": {
     "views": [
      {
       "cell_index": 22
      }
     ]
    },
    "bdc76e899c1d423386444c17fe298103": {
     "views": [
      {
       "cell_index": 22
      }
     ]
    },
    "bffeef7e727e460c983be65fb1961d62": {
     "views": [
      {
       "cell_index": 22
      }
     ]
    },
    "c0940503483e4a02a15e362888366e7f": {
     "views": [
      {
       "cell_index": 22
      }
     ]
    },
    "c52579167c3d4275a0eb352f0f9c6c0b": {
     "views": [
      {
       "cell_index": 22
      }
     ]
    },
    "c77f3351de9e4cc8842a7ece79113bdc": {
     "views": [
      {
       "cell_index": 22
      }
     ]
    },
    "c9f700dd6a1d4364875e15fc96ebcb24": {
     "views": [
      {
       "cell_index": 22
      }
     ]
    },
    "caff8aecbd7d4fb6868e5921bdb4f233": {
     "views": [
      {
       "cell_index": 22
      }
     ]
    },
    "cbc58acb87b449a68bef3c0a53a6ceb9": {
     "views": [
      {
       "cell_index": 22
      }
     ]
    },
    "cc5439363755443d92d4f69fbedcc802": {
     "views": [
      {
       "cell_index": 22
      }
     ]
    },
    "cde82f4b3197422fa6cd94b067e7c476": {
     "views": [
      {
       "cell_index": 22
      }
     ]
    },
    "d256822752f047039e322dad85cef0d6": {
     "views": [
      {
       "cell_index": 22
      }
     ]
    },
    "d4a639e7e0bb4e558285b86e329bacde": {
     "views": [
      {
       "cell_index": 22
      }
     ]
    },
    "d5c586f24a7746bd89a22175253b2bae": {
     "views": [
      {
       "cell_index": 22
      }
     ]
    },
    "d6f8e874382e41bf8ea7ad698516a270": {
     "views": [
      {
       "cell_index": 22
      }
     ]
    },
    "d7332753f8cf4b0c962f51067666ad8d": {
     "views": [
      {
       "cell_index": 22
      }
     ]
    },
    "d81ee1340c7040d49bbaf800fa3da050": {
     "views": [
      {
       "cell_index": 22
      }
     ]
    },
    "d96317df653d4718aaa5ca72c3dde97c": {
     "views": [
      {
       "cell_index": 22
      }
     ]
    },
    "da9d0eaae7f84436973500e6f786abd8": {
     "views": [
      {
       "cell_index": 22
      }
     ]
    },
    "dcd609847d99495da0630632747ca989": {
     "views": [
      {
       "cell_index": 22
      }
     ]
    },
    "de290875d70d4f8fa71133592b50b685": {
     "views": [
      {
       "cell_index": 22
      }
     ]
    },
    "de5eaa8af53c48ed970c98d616960ca3": {
     "views": [
      {
       "cell_index": 22
      }
     ]
    },
    "dec675a5c3bc4acb9297a40bece2840e": {
     "views": [
      {
       "cell_index": 22
      }
     ]
    },
    "e25e3fcead514c9aba1774e642e9b6f7": {
     "views": [
      {
       "cell_index": 22
      }
     ]
    },
    "e26671e4de3546d3b2c4d86481a21e6f": {
     "views": [
      {
       "cell_index": 22
      }
     ]
    },
    "e462ba747fa94b80a70ed7aa5ea838cf": {
     "views": [
      {
       "cell_index": 22
      }
     ]
    },
    "e58660a3bef54be4b111303d43c3a10f": {
     "views": [
      {
       "cell_index": 22
      }
     ]
    },
    "e5eed5e1e8eb4e1489d888357dbecbf8": {
     "views": [
      {
       "cell_index": 22
      }
     ]
    },
    "e708bc4fee0344ecb0bbd7f97b71049d": {
     "views": [
      {
       "cell_index": 22
      }
     ]
    },
    "e976c465ce6340c7ae4d6581f06be8fc": {
     "views": [
      {
       "cell_index": 22
      }
     ]
    },
    "e9ed7c3b474b408c8d0c7b089bdcc4ef": {
     "views": [
      {
       "cell_index": 22
      }
     ]
    },
    "ea352bb4292c45319768200a39a37296": {
     "views": [
      {
       "cell_index": 22
      }
     ]
    },
    "ec788eeccefd4c4ba5824d16c86eb011": {
     "views": [
      {
       "cell_index": 22
      }
     ]
    },
    "ed90c144ccc043469cf8c59c12c88208": {
     "views": [
      {
       "cell_index": 22
      }
     ]
    },
    "ee46df6519534d3887720fccd4016db9": {
     "views": [
      {
       "cell_index": 22
      }
     ]
    },
    "f0151a7bc72048dda64aaa946789e252": {
     "views": [
      {
       "cell_index": 22
      }
     ]
    },
    "f05e80102fcf41cbb9324c3f085b5d32": {
     "views": [
      {
       "cell_index": 22
      }
     ]
    },
    "f29b1028778e4fbebb065e43f1b8c1a2": {
     "views": [
      {
       "cell_index": 22
      }
     ]
    },
    "f3aa3d67ecf94f25826eed90d9d377c7": {
     "views": [
      {
       "cell_index": 22
      }
     ]
    },
    "f41748a3f78341b69ac8646f253b820d": {
     "views": [
      {
       "cell_index": 22
      }
     ]
    },
    "f71efca2af6943debc1935b02d101a46": {
     "views": [
      {
       "cell_index": 22
      }
     ]
    },
    "f75fde075778486abe1e2190665209e8": {
     "views": [
      {
       "cell_index": 22
      }
     ]
    },
    "f96f100369f4455fbfb775720d2f4c94": {
     "views": [
      {
       "cell_index": 22
      }
     ]
    },
    "f9ced677f349415983cd4928ebbbd594": {
     "views": [
      {
       "cell_index": 22
      }
     ]
    },
    "fa0615a431e64e71a4fd47bf8146f9af": {
     "views": [
      {
       "cell_index": 22
      }
     ]
    },
    "fbb8ccdc0e38454e85051191d3995cfb": {
     "views": [
      {
       "cell_index": 22
      }
     ]
    },
    "fbefa094fca34743b69f45081e060fd8": {
     "views": [
      {
       "cell_index": 22
      }
     ]
    },
    "fd391383e7944682bb6af60425cf028c": {
     "views": [
      {
       "cell_index": 22
      }
     ]
    }
   },
   "version": "1.2.0"
  }
 },
 "nbformat": 4,
 "nbformat_minor": 0
}
