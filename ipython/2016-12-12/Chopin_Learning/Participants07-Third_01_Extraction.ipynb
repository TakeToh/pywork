{
 "cells": [
  {
   "cell_type": "code",
   "execution_count": 1,
   "metadata": {
    "collapsed": true
   },
   "outputs": [],
   "source": [
    "import numpy as np\n",
    "import datetime\n",
    "import os\n",
    "import copy\n",
    "# Generate WindowFrame Function\n",
    "from mymodule import window\n",
    "import joblib\n",
    "import pandas as pd\n",
    "\n",
    "# Parametor about Sensor\n",
    "SensorNum=1 # Sensor number\n",
    "#SensorAxis='AccX' # Axis\n",
    "\n",
    "# Define Data Name\n",
    "DATE= str( datetime.date.today() )+'/'\n",
    "\n",
    "# Parametor about \" Data Path\"\n",
    "StorePath = \"/media/takeyama/Transfer/02_ActivityResearch/\"\n",
    "\n",
    "ParticipantsNum=\"Participants07/\"\n",
    "Version = \"03_Third/\"\n",
    "Time = \"01_First/\"\n",
    "CommonName = 'Participants07-Third-01'\n",
    "LabelName = CommonName+'.csv'\n",
    "\n",
    "TITLE = ParticipantsNum+Version\n",
    "\n",
    "DataPath = StorePath+ParticipantsNum+Version+\"RawData/\"+Time\n",
    "\n",
    "if not os.path.exists(StorePath+TITLE+'LabelData/'+Time): \n",
    "    os.makedirs(StorePath+TITLE+'LabelData/'+Time)\n",
    "LabelDataPath=StorePath+TITLE+'LabelData/'+Time\n",
    "\n",
    "if not os.path.exists(StorePath+TITLE+'dictionary/'+Time): \n",
    "    os.makedirs(StorePath+TITLE+'dictionary/'+Time)\n",
    "DictionaryDataPath=StorePath+TITLE+'dictionary/'+Time\n",
    "\n",
    "if not os.path.exists(StorePath+TITLE+'feature/'+Time): \n",
    "    os.makedirs(StorePath+TITLE+'feature/'+Time)\n",
    "FeaturePath=StorePath+TITLE+'feature/'+Time\n",
    "\n",
    "if not os.path.exists(StorePath+TITLE+'window/'+Time): \n",
    "    os.makedirs(StorePath+TITLE+'window/'+Time)\n",
    "WindowDataPath=StorePath+TITLE+'window/'+Time\n",
    "\n",
    "if not os.path.exists(StorePath+TITLE+DATE+'studyOutput/'+Time): \n",
    "    os.makedirs(StorePath+TITLE+DATE+'studyOutput/'+Time)\n",
    "StudyOutputPath=StorePath+TITLE+DATE+'studyOutput/'+Time\n",
    "\n",
    "if not os.path.exists(StorePath+TITLE+DATE+'parametor/'+Time): \n",
    "    os.makedirs(StorePath+TITLE+DATE+'parametor/'+Time)\n",
    "ParametorPath=StorePath+TITLE+DATE+'parametor/'+Time\n",
    "\n",
    "if not os.path.exists(StorePath+TITLE+DATE+'result/'+Time): \n",
    "    os.makedirs(StorePath+TITLE+DATE+'result/'+Time)\n",
    "ResultPath=StorePath+TITLE+DATE+'result/'+Time\n",
    "\n",
    "if not os.path.exists(StorePath+TITLE+DATE+'graph/'+Time): \n",
    "    os.makedirs(StorePath+TITLE+DATE+'graph/'+Time)\n",
    "GraphPath=StorePath+TITLE+DATE+'graph/'+Time"
   ]
  },
  {
   "cell_type": "markdown",
   "metadata": {},
   "source": [
    "# 1 Read SensorData"
   ]
  },
  {
   "cell_type": "code",
   "execution_count": 2,
   "metadata": {
    "collapsed": true
   },
   "outputs": [],
   "source": [
    "# センサデータのcsvファイル名をリストに集約する関数\n",
    "def SensorDataFileNameList(path):\n",
    "    l = os.listdir(DataPath)\n",
    "    FilePath =[]\n",
    "    SensorName = []\n",
    "    \n",
    "    for n in range(len(l)):\n",
    "        if (l[n][:4].find('mem-') != -1):\n",
    "            FilePath.append(l[n])\n",
    "            SensorName.append(l[n][4:15])\n",
    "    \n",
    "    return FilePath,SensorName"
   ]
  },
  {
   "cell_type": "code",
   "execution_count": 3,
   "metadata": {
    "collapsed": true
   },
   "outputs": [],
   "source": [
    "# FFT library\n",
    "from scipy import fftpack\n",
    "from scipy import signal\n",
    "\n",
    "# Graph Plot\n",
    "import matplotlib.pyplot as plt\n",
    "from matplotlib import gridspec\n",
    "\n",
    "# Generate WindowFrame Function\n",
    "from mymodule import window\n",
    "\n",
    "# timer\n",
    "import time\n",
    "\n",
    "# temp file \n",
    "import tempfile\n",
    "\n",
    "%matplotlib inline"
   ]
  },
  {
   "cell_type": "code",
   "execution_count": 4,
   "metadata": {
    "collapsed": false
   },
   "outputs": [
    {
     "name": "stdout",
     "output_type": "stream",
     "text": [
      "['01_LeftHand.npz', '02_RightHand.npz', '03_LeftLeg.npz', '04_Rightleg.npz', '05_West.npz', '06_Chest.npz', '07_LabelData.npz']\n"
     ]
    }
   ],
   "source": [
    "DictName = os.listdir(DictionaryDataPath)\n",
    "print DictName\n",
    "Sensor1 = np.load(DictionaryDataPath+DictName[0])['data'][()]\n",
    "Sensor2 = np.load(DictionaryDataPath+DictName[1])['data'][()]\n",
    "Sensor3 = np.load(DictionaryDataPath+DictName[2])['data'][()]\n",
    "Sensor4 = np.load(DictionaryDataPath+DictName[3])['data'][()]\n",
    "Sensor5 = np.load(DictionaryDataPath+DictName[4])['data'][()]\n",
    "Sensor6 = np.load(DictionaryDataPath+DictName[5])['data'][()]"
   ]
  },
  {
   "cell_type": "code",
   "execution_count": 5,
   "metadata": {
    "collapsed": true
   },
   "outputs": [],
   "source": [
    "def GetWindowFrame(windowName, dataRaw, wWidth, sWidth, PATH):\n",
    "    \"\"\"\n",
    "    data　ウィンドウフレームに変換するデータ\n",
    "    registName　ウィンドウフレームに登録するデータの名前\n",
    "    windowWidth　ウィンドウ幅\n",
    "    slidingWidth　スライド幅\n",
    "    PATH ウィドウフレームを保存するディレクトリ\n",
    "    \n",
    "    \n",
    "    About Function:\n",
    "        与えられたdataからウィンドウ幅windowWidth,スライド幅slidingWidthにしたがって\n",
    "        registNameのウィドウフレームを返す．\n",
    "        また，与えれたPATH内に同様なパラメータ( WindowWidth, slidingWidth)かつ同様な\n",
    "        windowNameのものがある場合，そのデータを返す．\n",
    "        この関数が登録，ウィンドウフレームに変換できるデータは１つとする\n",
    "    \"\"\"\n",
    "    storedName = windowName+'_Win='+str(wWidth).zfill(4)+'_Sld='+str(sWidth).zfill(4)+'.npz'\n",
    "    l = os.listdir(PATH)\n",
    "    \n",
    "    if storedName in l:\n",
    "        print \"this data had finished making\"\n",
    "        return np.load(PATH+storedName)['data'][()]\n",
    "    \n",
    "    w=window()\n",
    "    w.SetData(windowName,dataRaw)    \n",
    "    wind=w.Compile(wWidth,sWidth)\n",
    "    windoW=wind.reshape((len(wind),np.prod(wind.shape[1:])))\n",
    "    \n",
    "    np.savez(PATH+storedName,data=wind)\n",
    "\n",
    "    return wind"
   ]
  },
  {
   "cell_type": "markdown",
   "metadata": {},
   "source": [
    "# Define Extraction Function"
   ]
  },
  {
   "cell_type": "markdown",
   "metadata": {},
   "source": [
    "# Frequency Domain"
   ]
  },
  {
   "cell_type": "code",
   "execution_count": 6,
   "metadata": {
    "collapsed": true
   },
   "outputs": [],
   "source": [
    "def Vector_FFT_Image(windowName, dataRaw, wWidth, sWidth, PATH):\n",
    "    # get windowFrame\n",
    "    wind=GetWindowFrame(windowName, dataRaw, wWidth, sWidth, PATH)\n",
    "    \n",
    "    fftwind = np.fft.fft(wind)  # calcurate fast fourier Transfromation\n",
    "    fftwind = fftwind[:,1:fftwind.shape[1]/2-1] # Orthogonal and Colossus removed\n",
    "    \n",
    "        \n",
    "    # windowFrame(raw wave) 2d -> windowFrame(power) 1d\n",
    "    Image=np.array([ np.imag(fftwind[i,l])\n",
    "            for i in range( fftwind.shape[0] )\n",
    "            for l in range( fftwind.shape[1] ) ])\n",
    "    Image = Image.reshape(fftwind.shape)    \n",
    "    # calcurate Squared Energy\n",
    "    print '===========finished Making Vector of FFT Image==========='\n",
    "    return Image"
   ]
  },
  {
   "cell_type": "code",
   "execution_count": 7,
   "metadata": {
    "collapsed": true
   },
   "outputs": [],
   "source": [
    "def Vector_FFT_Real(windowName, dataRaw, wWidth, sWidth, PATH):\n",
    "    # get windowFrame\n",
    "    wind=GetWindowFrame(windowName, dataRaw, wWidth, sWidth, PATH)\n",
    "    \n",
    "    fftwind = np.fft.fft(wind)  # calcurate fast fourier Transfromation\n",
    "    fftwind = fftwind[:,1:fftwind.shape[1]/2-1] # Orthogonal and Colossus removed\n",
    "    \n",
    "        \n",
    "    # windowFrame(raw wave) 2d -> windowFrame(power) 1d\n",
    "    Real=np.array([ np.real(fftwind[i,l])\n",
    "            for i in range( fftwind.shape[0] )\n",
    "            for l in range( fftwind.shape[1] ) ])\n",
    "    Real = Real.reshape(fftwind.shape)    \n",
    "    # calcurate Squared Energy\n",
    "    print '===========finished Making Vector of FFT Real==========='\n",
    "    return Real"
   ]
  },
  {
   "cell_type": "code",
   "execution_count": 8,
   "metadata": {
    "collapsed": true
   },
   "outputs": [],
   "source": [
    "def Vector_Energy(windowName, dataRaw, wWidth, sWidth, PATH):\n",
    "    # get windowFrame\n",
    "    wind=GetWindowFrame(windowName, dataRaw, wWidth, sWidth, PATH)\n",
    "    \n",
    "    fftwind = np.fft.fft(wind)  # calcurate fast fourier Transfromation\n",
    "    fftwind = fftwind[:,1:fftwind.shape[1]/2-1] # Orthogonal and Colossus removed\n",
    "      \n",
    "    # windowFrame(raw wave) 2d -> windowFrame(power) 1d\n",
    "    SqrF=np.array([\n",
    "            np.real(fftwind[i,l])**2+np.imag(fftwind[i,l])**2\n",
    "            for i in range( fftwind.shape[0] )\n",
    "            for l in range( fftwind.shape[1] )\n",
    "        ])\n",
    "    SqrF = SqrF.reshape(fftwind.shape) \n",
    "    \n",
    "    # Sum each window frame\n",
    "    SumSrqF = np.array([SqrF[i,:].sum() for i in range( SqrF.shape[0])])\n",
    "    \n",
    "    # normarise\n",
    "    NormSumSqrF = np.array([SumSrqF[i]/(fftwind.shape[1]/2-1)\n",
    "                           for i in range(SumSrqF.shape[0])])\n",
    "\n",
    "    # root\n",
    "    RootNormSumSqrF = NormSumSqrF**0.5\n",
    "\n",
    "    print '===========finished Making Vector of Energy==========='\n",
    "    return RootNormSumSqrF"
   ]
  },
  {
   "cell_type": "code",
   "execution_count": 9,
   "metadata": {
    "collapsed": true
   },
   "outputs": [],
   "source": [
    "def Vector_Frequency(windowName, dataRaw, wWidth, sWidth, PATH):\n",
    "    # get windowFrame\n",
    "    wind=GetWindowFrame(windowName, dataRaw, wWidth, sWidth, PATH)\n",
    "    print wind.shape\n",
    "    \n",
    "    fftwind = np.fft.fft(wind)  # calcurate fast fourier Transfromation\n",
    "    print fftwind.shape\n",
    "\n",
    "    fftwind = fftwind[:,1:fftwind.shape[1]/2-1] # Orthogonal and Colossus removed\n",
    "    print fftwind.shape\n",
    "    freq = np.array([np.arctan2(np.imag(fftwind[i,l]),np.real(fftwind[i,l]))\n",
    "                     for i in range( fftwind.shape[0] ) \n",
    "                     for l in range( fftwind.shape[1] ) ])\n",
    "    freq = freq.reshape(fftwind.shape)\n",
    "    print '===========finished Making Vector of Frequency==========='\n",
    "    return freq"
   ]
  },
  {
   "cell_type": "code",
   "execution_count": 10,
   "metadata": {
    "collapsed": true
   },
   "outputs": [],
   "source": [
    "def Vector_Entropy(windowName, dataRaw, wWidth, sWidth, PATH):\n",
    "    # get windowFrame\n",
    "    wind=GetWindowFrame(windowName, dataRaw, wWidth, sWidth, PATH)\n",
    "    \n",
    "    ###########################\n",
    "    ###    calcurate FFT    ###\n",
    "    ###########################\n",
    "    fftwind = np.fft.fft(wind)  # calcurate fast fourier Transfromation\n",
    "    fftwind = fftwind[:,1:fftwind.shape[1]/2-1] # Orthogonal and Colossus removed\n",
    "    \n",
    "    # calcurate eq\n",
    "    f = lambda x: np.real(x)**2+np.imag(x)**2\n",
    "        \n",
    "    # windowFrame(raw wave) 2d -> windowFrame(power) 1d\n",
    "    SqrF=np.array([\n",
    "            np.real(fftwind[i,l])**2+np.imag(fftwind[i,l])**2\n",
    "            for i in range( fftwind.shape[0] )\n",
    "            for l in range( fftwind.shape[1] )\n",
    "        ])\n",
    "    SqrF = SqrF.reshape(fftwind.shape)\n",
    "    \n",
    "    # calcurate Squared Energy\n",
    "    SqrF=SqrF/SqrF[0,:].size\n",
    "    print SqrF.shape\n",
    "    \n",
    "    ##############################\n",
    "    ###    calcurate Entropy   ###\n",
    "    ##############################\n",
    "    P = np.array([SqrF[i]/SqrF[i,:].sum() for i in range(SqrF.shape[0])])\n",
    "    print P.shape\n",
    "    P = P.reshape(SqrF.shape)\n",
    "    \n",
    "    P_logP = np.array([ P[i,l]*np.log(P[i,l]) \\\n",
    "                      for i in range(P.shape[0]) for l in range(P.shape[1])])\n",
    "    print P_logP.shape\n",
    "    P_logP = P_logP.reshape(P.shape)\n",
    "    \n",
    "    Entropy = np.array([\n",
    "            -1*np.sum( P_logP[i,:] ) for i in range(P.shape[0])])\n",
    "    print '===========finished Making Vector of Entropy==========='\n",
    "    return Entropy"
   ]
  },
  {
   "cell_type": "code",
   "execution_count": 11,
   "metadata": {
    "collapsed": true
   },
   "outputs": [],
   "source": [
    "def Vector_KLD(dataName, dataX, dataY, wWidth, sWidth, PATH):\n",
    "    \"\"\"\n",
    "        Calculates Kullback–Leibler divergence\n",
    "        input dataX dataY -> 1d Vector\n",
    "    \"\"\"\n",
    "    func_kld =lambda p,q: np.sum(p * np.log(p / q))\n",
    "    \n",
    "    KLD = np.array([ func_kld(dataX[i,:],dataY[i,:])\\\n",
    "                    for i in range(dataX.shape[0])])\n",
    "    print '===========finished Making Vector of KLD==========='\n",
    "    return KLD"
   ]
  },
  {
   "cell_type": "code",
   "execution_count": 12,
   "metadata": {
    "collapsed": true
   },
   "outputs": [],
   "source": [
    "def Vector_JSD(dataName, dataX, dataNameY, dataY, wWidth, sWidth, PATH):\n",
    "    \n",
    "    func_kld =lambda p,q: np.sum(p * np.log(p / q))\n",
    "    func_jsd =lambda p,q: 0.5 * func_kld(p, (p+q)/2) + 0.5 * func_kld(q, (p+q)/2)\n",
    "\n",
    "    JSD = np.array([ func_jsd(dataX[i,:],dataY[i,:])\\\n",
    "                    for i in range(dataX.shape[0])])\n",
    "    print '===========finished Making Vector of JSD==========='\n",
    "    return JSD"
   ]
  },
  {
   "cell_type": "markdown",
   "metadata": {},
   "source": [
    "# Methematical/Statistical Functions"
   ]
  },
  {
   "cell_type": "code",
   "execution_count": 13,
   "metadata": {
    "collapsed": true
   },
   "outputs": [],
   "source": [
    "def Vector_Mean(windowName, dataRaw, wWidth, sWidth, PATH):\n",
    "    # get windowFrame\n",
    "    wind=GetWindowFrame(windowName, dataRaw, wWidth, sWidth, PATH)\n",
    "    Output = np.array( [wind[i,:].mean() for i in range(wind.shape[0]) ] )\n",
    "    print '===========finished Making Vector of Mean==========='\n",
    "    return Output"
   ]
  },
  {
   "cell_type": "code",
   "execution_count": 14,
   "metadata": {
    "collapsed": true
   },
   "outputs": [],
   "source": [
    "def Vector_Median(windowName, dataRaw, wWidth, sWidth, PATH):\n",
    "    # get windowFrame\n",
    "    wind=GetWindowFrame(windowName, dataRaw, wWidth, sWidth, PATH)\n",
    "    Output = np.array( [np.median(wind[i,:]) for i in range(wind.shape[0]) ] )\n",
    "    print '===========finished Making Vector of Median==========='\n",
    "    return Output"
   ]
  },
  {
   "cell_type": "code",
   "execution_count": 15,
   "metadata": {
    "collapsed": true
   },
   "outputs": [],
   "source": [
    "def Vector_Var(windowName, dataRaw, wWidth, sWidth, PATH):\n",
    "    # get windowFrame\n",
    "    wind=GetWindowFrame(windowName, dataRaw, wWidth, sWidth, PATH)\n",
    "    Output = np.array( [wind[i,:].var() for i in range(wind.shape[0]) ] )\n",
    "    print '===========finished Making Vector of Variance==========='\n",
    "    return Output"
   ]
  },
  {
   "cell_type": "code",
   "execution_count": 16,
   "metadata": {
    "collapsed": true
   },
   "outputs": [],
   "source": [
    "def Vector_StdDev(windowName, dataRaw, wWidth, sWidth, PATH):\n",
    "    # get windowFrame\n",
    "    wind=GetWindowFrame(windowName, dataRaw, wWidth, sWidth, PATH)  \n",
    "    Output = np.array( [wind[i,:].var()**0.5 for i in range(wind.shape[0]) ] )\n",
    "    print '===========finished Making Vector of standard Deviation==========='\n",
    "    return Output"
   ]
  },
  {
   "cell_type": "code",
   "execution_count": 17,
   "metadata": {
    "collapsed": true
   },
   "outputs": [],
   "source": [
    "def Vector_Max(windowName, dataRaw, wWidth, sWidth, PATH):\n",
    "    # get windowFrame\n",
    "    wind=GetWindowFrame(windowName, dataRaw, wWidth, sWidth, PATH)\n",
    "    Output = np.array( [wind[i,:].max() for i in range(wind.shape[0]) ] )\n",
    "    print '===========finished Making Vector of Max==========='\n",
    "    return Output"
   ]
  },
  {
   "cell_type": "code",
   "execution_count": 18,
   "metadata": {
    "collapsed": true
   },
   "outputs": [],
   "source": [
    "def Vector_Min(windowName, dataRaw, wWidth, sWidth, PATH):\n",
    "    # get windowFrame\n",
    "    wind=GetWindowFrame(windowName, dataRaw, wWidth, sWidth, PATH)\n",
    "    Output = np.array( [wind[i,:].min() for i in range(wind.shape[0]) ] )\n",
    "    print '===========finished Making Vector of Max==========='\n",
    "    return Output"
   ]
  },
  {
   "cell_type": "code",
   "execution_count": 19,
   "metadata": {
    "collapsed": true
   },
   "outputs": [],
   "source": [
    "def Vector_Range(windowName, dataRaw, wWidth, sWidth, PATH):\n",
    "    # get windowFrame\n",
    "    wind=GetWindowFrame(windowName, dataRaw, wWidth, sWidth, PATH)\n",
    "    Output = np.array( [(wind[i,:].max()-wind[i,:].min())\\\n",
    "                        for i in range(wind.shape[0]) ] )\n",
    "    print '===========finished Making Vector of Range==========='\n",
    "    return Output"
   ]
  },
  {
   "cell_type": "code",
   "execution_count": 20,
   "metadata": {
    "collapsed": true
   },
   "outputs": [],
   "source": [
    "def Vector_RMS(windowName, dataRaw, wWidth, sWidth, PATH):\n",
    "    # get windowFrame\n",
    "    wind=GetWindowFrame(windowName, dataRaw, wWidth, sWidth, PATH)\n",
    "    Output = np.array( [( (np.sum( wind[i,:]**2 )/wWidth))**0.5\n",
    "                        for i in range(wind.shape[0]) ] )\n",
    "    print '===========finished Making Vector of RMS==========='\n",
    "    return Output"
   ]
  },
  {
   "cell_type": "code",
   "execution_count": 21,
   "metadata": {
    "collapsed": true
   },
   "outputs": [],
   "source": [
    "def Vector_Corr(windowNameX, dataRawX, windowNameY, dataRawY, wWidth, sWidth, PATH):\n",
    "    # get windowFrame\n",
    "    windX=GetWindowFrame(windowNameX, dataRawX, wWidth, sWidth, PATH)\n",
    "    windY=GetWindowFrame(windowNameY, dataRawY, wWidth, sWidth, PATH)\n",
    "    Output = np.array( [( np.corrcoef(windX[i,:],windY[i,:]) )\\\n",
    "                    for i in range(windX.shape[0]) ] )\n",
    "    print '===========finished Making Vector of Correlation==========='\n",
    "    return Output[:,0,1]"
   ]
  },
  {
   "cell_type": "code",
   "execution_count": 22,
   "metadata": {
    "collapsed": true
   },
   "outputs": [],
   "source": [
    "def Vector_SMA(windowName, dataRawX, dataRawY, dataRawZ, wWidth, sWidth, PATH):\n",
    "    # get windowFrame\n",
    "    windX=GetWindowFrame(windowName, dataRawX, wWidth, sWidth, PATH)\n",
    "    windY=GetWindowFrame(windowName, dataRawY, wWidth, sWidth, PATH)\n",
    "    windZ=GetWindowFrame(windowName, dataRawZ, wWidth, sWidth, PATH)\n",
    "    Output = np.array( [(np.sum((windX[i,:]**2+windY[i,:]**2+windZ[i,:]**2)**0.5))\\\n",
    "                for i in range(windX.shape[0]) ] )\n",
    "    print '===========finished Making Vector of Signal Magnitude Area==========='\n",
    "    return Output  "
   ]
  },
  {
   "cell_type": "markdown",
   "metadata": {},
   "source": [
    "# Extraction"
   ]
  },
  {
   "cell_type": "code",
   "execution_count": 23,
   "metadata": {
    "collapsed": false
   },
   "outputs": [],
   "source": [
    "def Extraction(Sensor,FileName,wNum,sNum):\n",
    "        joblib.dump(Vector_Mean(FileName, Sensor[axis], wNum,sNum, WindowDataPath),\n",
    "        FeaturePath+FileName+'_Mean.dump')\n",
    "        \n",
    "        joblib.dump(Vector_Median(FileName, Sensor[axis], wNum,sNum, WindowDataPath),\n",
    "                    FeaturePath+FileName+'_Median.dump')\n",
    "        \n",
    "        joblib.dump(Vector_Var(FileName, Sensor[axis], wNum,sNum, WindowDataPath),\n",
    "                    FeaturePath+FileName+'_Var.dump')\n",
    "        \n",
    "        joblib.dump(Vector_StdDev(FileName, Sensor[axis], wNum,sNum, WindowDataPath),\n",
    "                    FeaturePath+FileName+'_StdDev.dump')\n",
    "        \n",
    "        joblib.dump(Vector_Max(FileName, Sensor[axis], wNum,sNum, WindowDataPath),\n",
    "                    FeaturePath+FileName+'_Max.dump' )\n",
    "        \n",
    "        joblib.dump(Vector_Min(FileName, Sensor[axis], wNum,sNum, WindowDataPath),\n",
    "                    FeaturePath+FileName+'_Min.dump')\n",
    "        \n",
    "        joblib.dump(Vector_Range(FileName, Sensor[axis], wNum,sNum, WindowDataPath),\n",
    "                    FeaturePath+FileName+'_Range.dump')\n",
    "        \n",
    "        joblib.dump(Vector_RMS(FileName, Sensor[axis], windowNum, slidingNum, WindowDataPath),\n",
    "                    FeaturePath+FileName+'_RMS.dump' )\n",
    "        \n",
    "        joblib.dump(Vector_FFT_Real(FileName, Sensor[axis], wNum,sNum, WindowDataPath),\n",
    "                    FeaturePath+FileName+'_Real.dump' )\n",
    "\n",
    "        joblib.dump(Vector_FFT_Image(FileName, Sensor[axis], wNum,sNum, WindowDataPath),\n",
    "                    FeaturePath+FileName+'_Image.dump' )\n",
    "       \n",
    "        joblib.dump(Vector_Energy(FileName, Sensor[axis], wNum,sNum, WindowDataPath),\n",
    "                    FeaturePath+FileName+'_Energy.dump' )\n",
    "\n",
    "        joblib.dump(Vector_Entropy(FileName, Sensor[axis], wNum,sNum, WindowDataPath),\n",
    "                    FeaturePath+FileName+'_Entropy.dump' )\n",
    "\n",
    "        joblib.dump(Vector_Frequency(FileName, Sensor[axis], wNum,sNum, WindowDataPath),\n",
    "                    FeaturePath+FileName+'_Frequency.dump' )\n",
    "        "
   ]
  },
  {
   "cell_type": "code",
   "execution_count": 24,
   "metadata": {
    "collapsed": true
   },
   "outputs": [],
   "source": [
    "# 表示用\n",
    "from tqdm import tqdm\n",
    "from tqdm import tnrange, tqdm_notebook"
   ]
  },
  {
   "cell_type": "code",
   "execution_count": 25,
   "metadata": {
    "collapsed": false,
    "scrolled": true
   },
   "outputs": [
    {
     "name": "stderr",
     "output_type": "stream",
     "text": [
      "Widget Javascript not detected.  It may not be installed properly. Did you enable the widgetsnbextension? If not, then run \"jupyter nbextension enable --py --sys-prefix widgetsnbextension\"\n",
      "Widget Javascript not detected.  It may not be installed properly. Did you enable the widgetsnbextension? If not, then run \"jupyter nbextension enable --py --sys-prefix widgetsnbextension\"\n"
     ]
    },
    {
     "name": "stdout",
     "output_type": "stream",
     "text": [
      "this data had finished making\n",
      "===========finished Making Vector of Mean===========\n",
      "this data had finished making\n",
      "===========finished Making Vector of Median===========\n",
      "this data had finished making\n",
      "===========finished Making Vector of Variance===========\n",
      "this data had finished making\n",
      "===========finished Making Vector of standard Deviation===========\n",
      "this data had finished making\n",
      "===========finished Making Vector of Max===========\n",
      "this data had finished making\n",
      "===========finished Making Vector of Max===========\n",
      "this data had finished making\n",
      "===========finished Making Vector of Range===========\n",
      "this data had finished making\n",
      "===========finished Making Vector of RMS===========\n",
      "this data had finished making\n",
      "===========finished Making Vector of FFT Real===========\n",
      "this data had finished making\n",
      "===========finished Making Vector of FFT Image===========\n",
      "this data had finished making\n",
      "===========finished Making Vector of Energy===========\n",
      "this data had finished making\n",
      "(24166, 126)\n",
      "(24166, 126)\n",
      "(3044916,)\n",
      "===========finished Making Vector of Entropy===========\n",
      "this data had finished making\n",
      "(24166, 256)\n",
      "(24166, 256)\n",
      "(24166, 126)\n",
      "===========finished Making Vector of Frequency===========\n",
      "this data had finished making\n",
      "===========finished Making Vector of Mean===========\n",
      "this data had finished making\n",
      "===========finished Making Vector of Median===========\n",
      "this data had finished making\n",
      "===========finished Making Vector of Variance===========\n",
      "this data had finished making\n",
      "===========finished Making Vector of standard Deviation===========\n",
      "this data had finished making\n",
      "===========finished Making Vector of Max===========\n",
      "this data had finished making\n",
      "===========finished Making Vector of Max===========\n",
      "this data had finished making\n",
      "===========finished Making Vector of Range===========\n",
      "this data had finished making\n",
      "===========finished Making Vector of RMS===========\n",
      "this data had finished making\n",
      "===========finished Making Vector of FFT Real===========\n",
      "this data had finished making\n",
      "===========finished Making Vector of FFT Image===========\n",
      "this data had finished making\n"
     ]
    },
    {
     "ename": "KeyboardInterrupt",
     "evalue": "",
     "output_type": "error",
     "traceback": [
      "\u001b[0;31m---------------------------------------------------------------------------\u001b[0m",
      "\u001b[0;31mKeyboardInterrupt\u001b[0m                         Traceback (most recent call last)",
      "\u001b[0;32m<ipython-input-25-597831e13779>\u001b[0m in \u001b[0;36m<module>\u001b[0;34m()\u001b[0m\n\u001b[0;32m----> 1\u001b[0;31m \u001b[0mget_ipython\u001b[0m\u001b[0;34m(\u001b[0m\u001b[0;34m)\u001b[0m\u001b[0;34m.\u001b[0m\u001b[0mrun_cell_magic\u001b[0m\u001b[0;34m(\u001b[0m\u001b[0;34mu'time'\u001b[0m\u001b[0;34m,\u001b[0m \u001b[0;34mu''\u001b[0m\u001b[0;34m,\u001b[0m \u001b[0;34mu\"windowNum = 256\\nslidingNum = 32\\n\\nfor s in tqdm_notebook( [Sensor1,Sensor2,Sensor3,Sensor4,Sensor5,Sensor6],leave=False):\\n    for axis in tqdm_notebook( ['AccX','AccY','AccZ'],leave=False ):\\n        FileName = CommonName+'-'+s['Name']+'-'+axis+\\\\\\n        '-win='+str(windowNum).zfill(4)+'-sld='+str(slidingNum).zfill(4)\\n        Extraction(s,FileName,windowNum, slidingNum)\\n        time.sleep(1)\\n        \\n    FileNameTemp = CommonName+'-'+s['Name']+\\\\\\n    '-win='+str(windowNum).zfill(4)+'-sld='+str(slidingNum).zfill(4)\\n    joblib.dump(Vector_SMA(FileNameTemp+'AccXYZ', s['AccZ'], s['AccY'], s['AccZ'], windowNum, slidingNum, WindowDataPath),\\n            FeaturePath+FileNameTemp+'_SMA.dump')    \"\u001b[0m\u001b[0;34m)\u001b[0m\u001b[0;34m\u001b[0m\u001b[0m\n\u001b[0m",
      "\u001b[0;32m/home/takeyama/.pyenv/versions/2.7.11/envs/takeyama/lib/python2.7/site-packages/IPython/core/interactiveshell.pyc\u001b[0m in \u001b[0;36mrun_cell_magic\u001b[0;34m(self, magic_name, line, cell)\u001b[0m\n\u001b[1;32m   2113\u001b[0m             \u001b[0mmagic_arg_s\u001b[0m \u001b[0;34m=\u001b[0m \u001b[0mself\u001b[0m\u001b[0;34m.\u001b[0m\u001b[0mvar_expand\u001b[0m\u001b[0;34m(\u001b[0m\u001b[0mline\u001b[0m\u001b[0;34m,\u001b[0m \u001b[0mstack_depth\u001b[0m\u001b[0;34m)\u001b[0m\u001b[0;34m\u001b[0m\u001b[0m\n\u001b[1;32m   2114\u001b[0m             \u001b[0;32mwith\u001b[0m \u001b[0mself\u001b[0m\u001b[0;34m.\u001b[0m\u001b[0mbuiltin_trap\u001b[0m\u001b[0;34m:\u001b[0m\u001b[0;34m\u001b[0m\u001b[0m\n\u001b[0;32m-> 2115\u001b[0;31m                 \u001b[0mresult\u001b[0m \u001b[0;34m=\u001b[0m \u001b[0mfn\u001b[0m\u001b[0;34m(\u001b[0m\u001b[0mmagic_arg_s\u001b[0m\u001b[0;34m,\u001b[0m \u001b[0mcell\u001b[0m\u001b[0;34m)\u001b[0m\u001b[0;34m\u001b[0m\u001b[0m\n\u001b[0m\u001b[1;32m   2116\u001b[0m             \u001b[0;32mreturn\u001b[0m \u001b[0mresult\u001b[0m\u001b[0;34m\u001b[0m\u001b[0m\n\u001b[1;32m   2117\u001b[0m \u001b[0;34m\u001b[0m\u001b[0m\n",
      "\u001b[0;32m<decorator-gen-59>\u001b[0m in \u001b[0;36mtime\u001b[0;34m(self, line, cell, local_ns)\u001b[0m\n",
      "\u001b[0;32m/home/takeyama/.pyenv/versions/2.7.11/envs/takeyama/lib/python2.7/site-packages/IPython/core/magic.pyc\u001b[0m in \u001b[0;36m<lambda>\u001b[0;34m(f, *a, **k)\u001b[0m\n\u001b[1;32m    186\u001b[0m     \u001b[0;31m# but it's overkill for just that one bit of state.\u001b[0m\u001b[0;34m\u001b[0m\u001b[0;34m\u001b[0m\u001b[0m\n\u001b[1;32m    187\u001b[0m     \u001b[0;32mdef\u001b[0m \u001b[0mmagic_deco\u001b[0m\u001b[0;34m(\u001b[0m\u001b[0marg\u001b[0m\u001b[0;34m)\u001b[0m\u001b[0;34m:\u001b[0m\u001b[0;34m\u001b[0m\u001b[0m\n\u001b[0;32m--> 188\u001b[0;31m         \u001b[0mcall\u001b[0m \u001b[0;34m=\u001b[0m \u001b[0;32mlambda\u001b[0m \u001b[0mf\u001b[0m\u001b[0;34m,\u001b[0m \u001b[0;34m*\u001b[0m\u001b[0ma\u001b[0m\u001b[0;34m,\u001b[0m \u001b[0;34m**\u001b[0m\u001b[0mk\u001b[0m\u001b[0;34m:\u001b[0m \u001b[0mf\u001b[0m\u001b[0;34m(\u001b[0m\u001b[0;34m*\u001b[0m\u001b[0ma\u001b[0m\u001b[0;34m,\u001b[0m \u001b[0;34m**\u001b[0m\u001b[0mk\u001b[0m\u001b[0;34m)\u001b[0m\u001b[0;34m\u001b[0m\u001b[0m\n\u001b[0m\u001b[1;32m    189\u001b[0m \u001b[0;34m\u001b[0m\u001b[0m\n\u001b[1;32m    190\u001b[0m         \u001b[0;32mif\u001b[0m \u001b[0mcallable\u001b[0m\u001b[0;34m(\u001b[0m\u001b[0marg\u001b[0m\u001b[0;34m)\u001b[0m\u001b[0;34m:\u001b[0m\u001b[0;34m\u001b[0m\u001b[0m\n",
      "\u001b[0;32m/home/takeyama/.pyenv/versions/2.7.11/envs/takeyama/lib/python2.7/site-packages/IPython/core/magics/execution.pyc\u001b[0m in \u001b[0;36mtime\u001b[0;34m(self, line, cell, local_ns)\u001b[0m\n\u001b[1;32m   1178\u001b[0m         \u001b[0;32melse\u001b[0m\u001b[0;34m:\u001b[0m\u001b[0;34m\u001b[0m\u001b[0m\n\u001b[1;32m   1179\u001b[0m             \u001b[0mst\u001b[0m \u001b[0;34m=\u001b[0m \u001b[0mclock2\u001b[0m\u001b[0;34m(\u001b[0m\u001b[0;34m)\u001b[0m\u001b[0;34m\u001b[0m\u001b[0m\n\u001b[0;32m-> 1180\u001b[0;31m             \u001b[0;32mexec\u001b[0m\u001b[0;34m(\u001b[0m\u001b[0mcode\u001b[0m\u001b[0;34m,\u001b[0m \u001b[0mglob\u001b[0m\u001b[0;34m,\u001b[0m \u001b[0mlocal_ns\u001b[0m\u001b[0;34m)\u001b[0m\u001b[0;34m\u001b[0m\u001b[0m\n\u001b[0m\u001b[1;32m   1181\u001b[0m             \u001b[0mend\u001b[0m \u001b[0;34m=\u001b[0m \u001b[0mclock2\u001b[0m\u001b[0;34m(\u001b[0m\u001b[0;34m)\u001b[0m\u001b[0;34m\u001b[0m\u001b[0m\n\u001b[1;32m   1182\u001b[0m             \u001b[0mout\u001b[0m \u001b[0;34m=\u001b[0m \u001b[0mNone\u001b[0m\u001b[0;34m\u001b[0m\u001b[0m\n",
      "\u001b[0;32m<timed exec>\u001b[0m in \u001b[0;36m<module>\u001b[0;34m()\u001b[0m\n",
      "\u001b[0;32m<ipython-input-23-ccd68d38d9d0>\u001b[0m in \u001b[0;36mExtraction\u001b[0;34m(Sensor, FileName, wNum, sNum)\u001b[0m\n\u001b[1;32m     30\u001b[0m                     FeaturePath+FileName+'_Image.dump' )\n\u001b[1;32m     31\u001b[0m \u001b[0;34m\u001b[0m\u001b[0m\n\u001b[0;32m---> 32\u001b[0;31m         joblib.dump(Vector_Energy(FileName, Sensor[axis], wNum,sNum, WindowDataPath),\n\u001b[0m\u001b[1;32m     33\u001b[0m                     FeaturePath+FileName+'_Energy.dump' )\n\u001b[1;32m     34\u001b[0m \u001b[0;34m\u001b[0m\u001b[0m\n",
      "\u001b[0;32m<ipython-input-8-cca1a5654516>\u001b[0m in \u001b[0;36mVector_Energy\u001b[0;34m(windowName, dataRaw, wWidth, sWidth, PATH)\u001b[0m\n\u001b[1;32m     10\u001b[0m             \u001b[0mnp\u001b[0m\u001b[0;34m.\u001b[0m\u001b[0mreal\u001b[0m\u001b[0;34m(\u001b[0m\u001b[0mfftwind\u001b[0m\u001b[0;34m[\u001b[0m\u001b[0mi\u001b[0m\u001b[0;34m,\u001b[0m\u001b[0ml\u001b[0m\u001b[0;34m]\u001b[0m\u001b[0;34m)\u001b[0m\u001b[0;34m**\u001b[0m\u001b[0;36m2\u001b[0m\u001b[0;34m+\u001b[0m\u001b[0mnp\u001b[0m\u001b[0;34m.\u001b[0m\u001b[0mimag\u001b[0m\u001b[0;34m(\u001b[0m\u001b[0mfftwind\u001b[0m\u001b[0;34m[\u001b[0m\u001b[0mi\u001b[0m\u001b[0;34m,\u001b[0m\u001b[0ml\u001b[0m\u001b[0;34m]\u001b[0m\u001b[0;34m)\u001b[0m\u001b[0;34m**\u001b[0m\u001b[0;36m2\u001b[0m\u001b[0;34m\u001b[0m\u001b[0m\n\u001b[1;32m     11\u001b[0m             \u001b[0;32mfor\u001b[0m \u001b[0mi\u001b[0m \u001b[0;32min\u001b[0m \u001b[0mrange\u001b[0m\u001b[0;34m(\u001b[0m \u001b[0mfftwind\u001b[0m\u001b[0;34m.\u001b[0m\u001b[0mshape\u001b[0m\u001b[0;34m[\u001b[0m\u001b[0;36m0\u001b[0m\u001b[0;34m]\u001b[0m \u001b[0;34m)\u001b[0m\u001b[0;34m\u001b[0m\u001b[0m\n\u001b[0;32m---> 12\u001b[0;31m             \u001b[0;32mfor\u001b[0m \u001b[0ml\u001b[0m \u001b[0;32min\u001b[0m \u001b[0mrange\u001b[0m\u001b[0;34m(\u001b[0m \u001b[0mfftwind\u001b[0m\u001b[0;34m.\u001b[0m\u001b[0mshape\u001b[0m\u001b[0;34m[\u001b[0m\u001b[0;36m1\u001b[0m\u001b[0;34m]\u001b[0m \u001b[0;34m)\u001b[0m\u001b[0;34m\u001b[0m\u001b[0m\n\u001b[0m\u001b[1;32m     13\u001b[0m         ])\n\u001b[1;32m     14\u001b[0m     \u001b[0mSqrF\u001b[0m \u001b[0;34m=\u001b[0m \u001b[0mSqrF\u001b[0m\u001b[0;34m.\u001b[0m\u001b[0mreshape\u001b[0m\u001b[0;34m(\u001b[0m\u001b[0mfftwind\u001b[0m\u001b[0;34m.\u001b[0m\u001b[0mshape\u001b[0m\u001b[0;34m)\u001b[0m\u001b[0;34m\u001b[0m\u001b[0m\n",
      "\u001b[0;31mKeyboardInterrupt\u001b[0m: "
     ]
    }
   ],
   "source": [
    "%%time\n",
    "windowNum = 256\n",
    "slidingNum = 32\n",
    "\n",
    "for s in tqdm_notebook( [Sensor1,Sensor2,Sensor3,Sensor4,Sensor5,Sensor6],leave=False):\n",
    "    for axis in tqdm_notebook( ['AccX','AccY','AccZ'],leave=False ):\n",
    "        FileName = CommonName+'-'+s['Name']+'-'+axis+\\\n",
    "        '-win='+str(windowNum).zfill(4)+'-sld='+str(slidingNum).zfill(4)\n",
    "        Extraction(s,FileName,windowNum, slidingNum)\n",
    "        time.sleep(1)\n",
    "        \n",
    "    FileNameTemp = CommonName+'-'+s['Name']+\\\n",
    "    '-win='+str(windowNum).zfill(4)+'-sld='+str(slidingNum).zfill(4)\n",
    "    joblib.dump(Vector_SMA(FileNameTemp+'AccXYZ', s['AccZ'], s['AccY'], s['AccZ'], windowNum, slidingNum, WindowDataPath),\n",
    "            FeaturePath+FileNameTemp+'_SMA.dump')    "
   ]
  },
  {
   "cell_type": "code",
   "execution_count": null,
   "metadata": {
    "collapsed": false
   },
   "outputs": [],
   "source": [
    "%%time\n",
    "windowNum = 256\n",
    "slidingNum = 32\n",
    "\n",
    "for s in tqdm_notebook( [Sensor1,Sensor2,Sensor3,Sensor4,Sensor5,Sensor6],leave=False):\n",
    "    for saxis in tqdm_notebook( ['AccX','AccY','AccZ'],leave=False ):\n",
    "        sFileName = CommonName+'-'+s['Name']+'-'+saxis+\\\n",
    "        '-win='+str(windowNum).zfill(4)+'-sld='+str(slidingNum).zfill(4)\n",
    "        \n",
    "        for d in tqdm_notebook( [Sensor1,Sensor2,Sensor3,Sensor4,Sensor5,Sensor6],leave=False ):\n",
    "            for daxis in tqdm_notebook( ['AccX','AccY','AccZ'] ,leave=False):\n",
    "                dFileName = CommonName+'-'+d['Name']+'-'+daxis+\\\n",
    "                '-win='+str(windowNum).zfill(4)+'-sld='+str(slidingNum).zfill(4)\n",
    "                \n",
    "                FileNameTemp = CommonName+'-'+s['Name']+'-'+saxis+'-'+d['Name']+'-'+daxis\n",
    "                joblib.dump(Vector_Corr(sFileName, s[saxis],dFileName, d[daxis], \n",
    "                                windowNum, slidingNum, WindowDataPath),FeaturePath+FileNameTemp+'_Corr.dump')\n",
    "                time.sleep(1)"
   ]
  },
  {
   "cell_type": "code",
   "execution_count": 26,
   "metadata": {
    "collapsed": false
   },
   "outputs": [],
   "source": [
    "def CalcurateFeature(windowNum,slidingNum):\n",
    "    for s in tqdm_notebook( [Sensor1,Sensor2,Sensor3,Sensor4,Sensor5,Sensor6],leave=False):\n",
    "        for axis in tqdm_notebook( ['AccX','AccY','AccZ'],leave=False ):\n",
    "            FileName = CommonName+'-'+s['Name']+'-'+axis+\\\n",
    "            '-win='+str(windowNum).zfill(4)+'-sld='+str(slidingNum).zfill(4)\n",
    "            Extraction(s,FileName,windowNum, slidingNum)\n",
    "            time.sleep(1)\n",
    "        \n",
    "    FileNameTemp = CommonName+'-'+s['Name']+'-win='+str(windowNum).zfill(4)+'-sld='+str(slidingNum).zfill(4)\n",
    "    joblib.dump(Vector_SMA(FileNameTemp+'AccXYZ', s['AccZ'], s['AccY'], s['AccZ'], windowNum, slidingNum, WindowDataPath),\n",
    "            FeaturePath+FileNameTemp+'_SMA.dump')    "
   ]
  },
  {
   "cell_type": "code",
   "execution_count": 27,
   "metadata": {
    "collapsed": true
   },
   "outputs": [],
   "source": [
    "def CalcurateCorr(windowNum,slidingNumngNum):\n",
    "    for s in tqdm_notebook( [Sensor1,Sensor2,Sensor3,Sensor4,Sensor5,Sensor6],leave=False):\n",
    "        for saxis in tqdm_notebook( ['AccX','AccY','AccZ'],leave=False ):\n",
    "            sFileName = CommonName+'-'+s['Name']+'-'+saxis+\\\n",
    "            +'-win='+str(windowNum).zfill(4)+'-sld='+str(slidingNum).zfill(4)\n",
    "            \n",
    "            for d in tqdm_notebook( [Sensor1,Sensor2,Sensor3,Sensor4,Sensor5,Sensor6],leave=False ):\n",
    "                for daxis in tqdm_notebook( ['AccX','AccY','AccZ'] ,leave=False):\n",
    "                    dFileName = CommonName+'-'+d['Name']+'-'+daxis\\\n",
    "                    +'-win='+str(windowNum).zfill(4)+'-sld='+str(slidingNum).zfill(4)\n",
    "                    \n",
    "                    FileNameTemp = CommonName+'-'+s['Name']+'-'+saxis+'-'+d['Name']+'-'+daxis\\\n",
    "                    +'-win='+str(windowNum).zfill(4)+'-sld='+str(slidingNum).zfill(4)\n",
    "                    \n",
    "                    joblib.dump(Vector_Corr(sFileName, s[saxis],dFileName, d[daxis], \n",
    "                                    windowNum, slidingNum, WindowDataPath),FeaturePath+FileNameTemp+'_Corr.dump')\n",
    "                    time.sleep(1)"
   ]
  },
  {
   "cell_type": "code",
   "execution_count": null,
   "metadata": {
    "collapsed": false
   },
   "outputs": [],
   "source": [
    "CalcurateFeature(512,32)"
   ]
  },
  {
   "cell_type": "code",
   "execution_count": null,
   "metadata": {
    "collapsed": false
   },
   "outputs": [],
   "source": [
    "CalcurateFeature(512,512/8)"
   ]
  },
  {
   "cell_type": "code",
   "execution_count": null,
   "metadata": {
    "collapsed": false
   },
   "outputs": [],
   "source": [
    "CalcurateFeature(512,256)"
   ]
  },
  {
   "cell_type": "code",
   "execution_count": null,
   "metadata": {
    "collapsed": false,
    "scrolled": true
   },
   "outputs": [],
   "source": [
    "CalcurateFeature(1024,32)"
   ]
  },
  {
   "cell_type": "code",
   "execution_count": null,
   "metadata": {
    "collapsed": false
   },
   "outputs": [],
   "source": [
    "CalcurateFeature(1024,1024/8)"
   ]
  },
  {
   "cell_type": "code",
   "execution_count": null,
   "metadata": {
    "collapsed": false
   },
   "outputs": [],
   "source": [
    "CalcurateFeature(1024,512)"
   ]
  },
  {
   "cell_type": "code",
   "execution_count": null,
   "metadata": {
    "collapsed": false
   },
   "outputs": [],
   "source": [
    "CalcurateFeature(2048,32)"
   ]
  },
  {
   "cell_type": "code",
   "execution_count": null,
   "metadata": {
    "collapsed": true
   },
   "outputs": [],
   "source": []
  },
  {
   "cell_type": "code",
   "execution_count": 28,
   "metadata": {
    "collapsed": false
   },
   "outputs": [
    {
     "name": "stderr",
     "output_type": "stream",
     "text": [
      "Widget Javascript not detected.  It may not be installed properly. Did you enable the widgetsnbextension? If not, then run \"jupyter nbextension enable --py --sys-prefix widgetsnbextension\"\n",
      "Widget Javascript not detected.  It may not be installed properly. Did you enable the widgetsnbextension? If not, then run \"jupyter nbextension enable --py --sys-prefix widgetsnbextension\"\n"
     ]
    },
    {
     "name": "stdout",
     "output_type": "stream",
     "text": [
      "this data had finished making\n",
      "===========finished Making Vector of Mean===========\n",
      "this data had finished making\n",
      "===========finished Making Vector of Median===========\n",
      "this data had finished making\n",
      "===========finished Making Vector of Variance===========\n",
      "this data had finished making\n",
      "===========finished Making Vector of standard Deviation===========\n",
      "this data had finished making\n",
      "===========finished Making Vector of Max===========\n",
      "this data had finished making\n",
      "===========finished Making Vector of Max===========\n",
      "this data had finished making\n",
      "===========finished Making Vector of Range===========\n",
      "this data had finished making\n",
      "===========finished Making Vector of RMS===========\n",
      "this data had finished making\n",
      "===========finished Making Vector of FFT Real===========\n",
      "this data had finished making\n",
      "===========finished Making Vector of FFT Image===========\n",
      "this data had finished making\n"
     ]
    },
    {
     "name": "stderr",
     "output_type": "stream",
     "text": [
      "Exception in thread Thread-4:\n",
      "Traceback (most recent call last):\n",
      "  File \"/home/takeyama/.pyenv/versions/2.7.11/lib/python2.7/threading.py\", line 801, in __bootstrap_inner\n",
      "    self.run()\n",
      "  File \"/home/takeyama/.pyenv/versions/2.7.11/envs/takeyama/src/tqdm/tqdm/_tqdm.py\", line 102, in run\n",
      "    for instance in self.tqdm_cls._instances:\n",
      "  File \"/home/takeyama/.pyenv/versions/2.7.11/envs/takeyama/lib/python2.7/_weakrefset.py\", line 60, in __iter__\n",
      "    for itemref in self.data:\n",
      "RuntimeError: Set changed size during iteration\n",
      "\n"
     ]
    },
    {
     "name": "stdout",
     "output_type": "stream",
     "text": [
      "===========finished Making Vector of Energy===========\n",
      "this data had finished making\n",
      "(754, 1022)\n",
      "(754, 1022)\n",
      "(770588,)\n",
      "===========finished Making Vector of Entropy===========\n",
      "this data had finished making\n",
      "(754, 2048)\n",
      "(754, 2048)\n",
      "(754, 1022)\n",
      "===========finished Making Vector of Frequency===========\n",
      "this data had finished making\n",
      "===========finished Making Vector of Mean===========\n",
      "this data had finished making\n",
      "===========finished Making Vector of Median===========\n",
      "this data had finished making\n",
      "===========finished Making Vector of Variance===========\n",
      "this data had finished making\n",
      "===========finished Making Vector of standard Deviation===========\n",
      "this data had finished making\n",
      "===========finished Making Vector of Max===========\n",
      "this data had finished making\n",
      "===========finished Making Vector of Max===========\n",
      "this data had finished making\n",
      "===========finished Making Vector of Range===========\n",
      "this data had finished making\n",
      "===========finished Making Vector of RMS===========\n",
      "this data had finished making\n",
      "===========finished Making Vector of FFT Real===========\n",
      "this data had finished making\n",
      "===========finished Making Vector of FFT Image===========\n",
      "this data had finished making\n",
      "===========finished Making Vector of Energy===========\n",
      "this data had finished making\n",
      "(754, 1022)\n",
      "(754, 1022)\n",
      "(770588,)\n",
      "===========finished Making Vector of Entropy===========\n",
      "this data had finished making\n",
      "(754, 2048)\n",
      "(754, 2048)\n",
      "(754, 1022)\n",
      "===========finished Making Vector of Frequency===========\n",
      "this data had finished making\n",
      "===========finished Making Vector of Mean===========\n",
      "this data had finished making\n",
      "===========finished Making Vector of Median===========\n",
      "this data had finished making\n",
      "===========finished Making Vector of Variance===========\n",
      "this data had finished making\n",
      "===========finished Making Vector of standard Deviation===========\n",
      "this data had finished making\n",
      "===========finished Making Vector of Max===========\n",
      "this data had finished making\n",
      "===========finished Making Vector of Max===========\n",
      "this data had finished making\n",
      "===========finished Making Vector of Range===========\n",
      "this data had finished making\n",
      "===========finished Making Vector of RMS===========\n",
      "this data had finished making\n",
      "===========finished Making Vector of FFT Real===========\n",
      "this data had finished making\n",
      "===========finished Making Vector of FFT Image===========\n",
      "this data had finished making\n",
      "===========finished Making Vector of Energy===========\n",
      "this data had finished making\n",
      "(754, 1022)\n",
      "(754, 1022)\n",
      "(770588,)\n",
      "===========finished Making Vector of Entropy===========\n",
      "this data had finished making\n",
      "(754, 2048)\n",
      "(754, 2048)\n",
      "(754, 1022)\n",
      "===========finished Making Vector of Frequency===========\n",
      "this data had finished making\n"
     ]
    },
    {
     "name": "stderr",
     "output_type": "stream",
     "text": [
      "Widget Javascript not detected.  It may not be installed properly. Did you enable the widgetsnbextension? If not, then run \"jupyter nbextension enable --py --sys-prefix widgetsnbextension\"\n"
     ]
    },
    {
     "name": "stdout",
     "output_type": "stream",
     "text": [
      "===========finished Making Vector of Mean===========\n",
      "this data had finished making\n",
      "===========finished Making Vector of Median===========\n",
      "this data had finished making\n",
      "===========finished Making Vector of Variance===========\n",
      "this data had finished making\n",
      "===========finished Making Vector of standard Deviation===========\n",
      "this data had finished making\n",
      "===========finished Making Vector of Max===========\n",
      "this data had finished making\n",
      "===========finished Making Vector of Max===========\n",
      "this data had finished making\n",
      "===========finished Making Vector of Range===========\n",
      "this data had finished making\n",
      "===========finished Making Vector of RMS===========\n",
      "this data had finished making\n",
      "===========finished Making Vector of FFT Real===========\n",
      "this data had finished making\n",
      "===========finished Making Vector of FFT Image===========\n",
      "this data had finished making\n",
      "===========finished Making Vector of Energy===========\n",
      "this data had finished making\n",
      "(754, 1022)\n",
      "(754, 1022)\n",
      "(770588,)\n",
      "===========finished Making Vector of Entropy===========\n",
      "this data had finished making\n",
      "(754, 2048)\n",
      "(754, 2048)\n",
      "(754, 1022)\n",
      "===========finished Making Vector of Frequency===========\n",
      "this data had finished making\n",
      "===========finished Making Vector of Mean===========\n",
      "this data had finished making\n",
      "===========finished Making Vector of Median===========\n",
      "this data had finished making\n",
      "===========finished Making Vector of Variance===========\n",
      "this data had finished making\n",
      "===========finished Making Vector of standard Deviation===========\n",
      "this data had finished making\n",
      "===========finished Making Vector of Max===========\n",
      "this data had finished making\n",
      "===========finished Making Vector of Max===========\n",
      "this data had finished making\n",
      "===========finished Making Vector of Range===========\n",
      "this data had finished making\n",
      "===========finished Making Vector of RMS===========\n",
      "this data had finished making\n",
      "===========finished Making Vector of FFT Real===========\n",
      "this data had finished making\n",
      "===========finished Making Vector of FFT Image===========\n",
      "this data had finished making\n",
      "===========finished Making Vector of Energy===========\n",
      "this data had finished making\n",
      "(754, 1022)\n",
      "(754, 1022)\n",
      "(770588,)\n",
      "===========finished Making Vector of Entropy===========\n",
      "this data had finished making\n",
      "(754, 2048)\n",
      "(754, 2048)\n",
      "(754, 1022)\n",
      "===========finished Making Vector of Frequency===========\n",
      "this data had finished making\n",
      "===========finished Making Vector of Mean===========\n",
      "this data had finished making\n",
      "===========finished Making Vector of Median===========\n",
      "this data had finished making\n",
      "===========finished Making Vector of Variance===========\n",
      "this data had finished making\n",
      "===========finished Making Vector of standard Deviation===========\n",
      "this data had finished making\n",
      "===========finished Making Vector of Max===========\n",
      "this data had finished making\n",
      "===========finished Making Vector of Max===========\n",
      "this data had finished making\n",
      "===========finished Making Vector of Range===========\n",
      "this data had finished making\n",
      "===========finished Making Vector of RMS===========\n",
      "this data had finished making\n",
      "===========finished Making Vector of FFT Real===========\n",
      "this data had finished making\n",
      "===========finished Making Vector of FFT Image===========\n",
      "this data had finished making\n",
      "===========finished Making Vector of Energy===========\n",
      "this data had finished making\n",
      "(754, 1022)\n",
      "(754, 1022)\n",
      "(770588,)\n",
      "===========finished Making Vector of Entropy===========\n",
      "this data had finished making\n",
      "(754, 2048)\n",
      "(754, 2048)\n",
      "(754, 1022)\n",
      "===========finished Making Vector of Frequency===========\n",
      "this data had finished making\n"
     ]
    },
    {
     "name": "stderr",
     "output_type": "stream",
     "text": [
      "Widget Javascript not detected.  It may not be installed properly. Did you enable the widgetsnbextension? If not, then run \"jupyter nbextension enable --py --sys-prefix widgetsnbextension\"\n"
     ]
    },
    {
     "name": "stdout",
     "output_type": "stream",
     "text": [
      "===========finished Making Vector of Mean===========\n",
      "this data had finished making\n",
      "===========finished Making Vector of Median===========\n",
      "this data had finished making\n",
      "===========finished Making Vector of Variance===========\n",
      "this data had finished making\n",
      "===========finished Making Vector of standard Deviation===========\n",
      "this data had finished making\n",
      "===========finished Making Vector of Max===========\n",
      "this data had finished making\n",
      "===========finished Making Vector of Max===========\n",
      "this data had finished making\n",
      "===========finished Making Vector of Range===========\n",
      "this data had finished making\n",
      "===========finished Making Vector of RMS===========\n",
      "this data had finished making\n",
      "===========finished Making Vector of FFT Real===========\n",
      "this data had finished making\n",
      "===========finished Making Vector of FFT Image===========\n",
      "this data had finished making\n",
      "===========finished Making Vector of Energy===========\n",
      "this data had finished making\n",
      "(754, 1022)\n",
      "(754, 1022)\n",
      "(770588,)\n",
      "===========finished Making Vector of Entropy===========\n",
      "this data had finished making\n",
      "(754, 2048)\n",
      "(754, 2048)\n",
      "(754, 1022)\n",
      "===========finished Making Vector of Frequency===========\n",
      "this data had finished making\n",
      "===========finished Making Vector of Mean===========\n",
      "this data had finished making\n",
      "===========finished Making Vector of Median===========\n",
      "this data had finished making\n",
      "===========finished Making Vector of Variance===========\n",
      "this data had finished making\n",
      "===========finished Making Vector of standard Deviation===========\n",
      "this data had finished making\n",
      "===========finished Making Vector of Max===========\n",
      "this data had finished making\n",
      "===========finished Making Vector of Max===========\n",
      "this data had finished making\n",
      "===========finished Making Vector of Range===========\n",
      "this data had finished making\n",
      "===========finished Making Vector of RMS===========\n",
      "this data had finished making\n",
      "===========finished Making Vector of FFT Real===========\n",
      "this data had finished making\n",
      "===========finished Making Vector of FFT Image===========\n",
      "this data had finished making\n",
      "===========finished Making Vector of Energy===========\n",
      "this data had finished making\n",
      "(754, 1022)\n",
      "(754, 1022)\n",
      "(770588,)\n",
      "===========finished Making Vector of Entropy===========\n",
      "this data had finished making\n",
      "(754, 2048)\n",
      "(754, 2048)\n",
      "(754, 1022)\n",
      "===========finished Making Vector of Frequency===========\n",
      "this data had finished making\n",
      "===========finished Making Vector of Mean===========\n",
      "this data had finished making\n",
      "===========finished Making Vector of Median===========\n",
      "this data had finished making\n",
      "===========finished Making Vector of Variance===========\n",
      "this data had finished making\n",
      "===========finished Making Vector of standard Deviation===========\n",
      "this data had finished making\n",
      "===========finished Making Vector of Max===========\n",
      "this data had finished making\n",
      "===========finished Making Vector of Max===========\n",
      "this data had finished making\n",
      "===========finished Making Vector of Range===========\n",
      "this data had finished making\n",
      "===========finished Making Vector of RMS===========\n",
      "this data had finished making\n",
      "===========finished Making Vector of FFT Real===========\n",
      "this data had finished making\n",
      "===========finished Making Vector of FFT Image===========\n",
      "this data had finished making\n",
      "===========finished Making Vector of Energy===========\n",
      "this data had finished making\n",
      "(754, 1022)\n",
      "(754, 1022)\n",
      "(770588,)\n",
      "===========finished Making Vector of Entropy===========\n",
      "this data had finished making\n",
      "(754, 2048)\n",
      "(754, 2048)\n",
      "(754, 1022)\n",
      "===========finished Making Vector of Frequency===========\n",
      "this data had finished making\n"
     ]
    },
    {
     "name": "stderr",
     "output_type": "stream",
     "text": [
      "Widget Javascript not detected.  It may not be installed properly. Did you enable the widgetsnbextension? If not, then run \"jupyter nbextension enable --py --sys-prefix widgetsnbextension\"\n"
     ]
    },
    {
     "name": "stdout",
     "output_type": "stream",
     "text": [
      "===========finished Making Vector of Mean===========\n",
      "this data had finished making\n",
      "===========finished Making Vector of Median===========\n",
      "this data had finished making\n",
      "===========finished Making Vector of Variance===========\n",
      "this data had finished making\n",
      "===========finished Making Vector of standard Deviation===========\n",
      "this data had finished making\n",
      "===========finished Making Vector of Max===========\n",
      "this data had finished making\n",
      "===========finished Making Vector of Max===========\n",
      "this data had finished making\n",
      "===========finished Making Vector of Range===========\n",
      "this data had finished making\n",
      "===========finished Making Vector of RMS===========\n",
      "this data had finished making\n",
      "===========finished Making Vector of FFT Real===========\n",
      "this data had finished making\n",
      "===========finished Making Vector of FFT Image===========\n",
      "this data had finished making\n",
      "===========finished Making Vector of Energy===========\n",
      "this data had finished making\n",
      "(754, 1022)\n",
      "(754, 1022)\n",
      "(770588,)\n",
      "===========finished Making Vector of Entropy===========\n",
      "this data had finished making\n",
      "(754, 2048)\n",
      "(754, 2048)\n",
      "(754, 1022)\n",
      "===========finished Making Vector of Frequency===========\n",
      "this data had finished making\n",
      "===========finished Making Vector of Mean===========\n",
      "this data had finished making\n",
      "===========finished Making Vector of Median===========\n",
      "this data had finished making\n",
      "===========finished Making Vector of Variance===========\n",
      "this data had finished making\n",
      "===========finished Making Vector of standard Deviation===========\n",
      "this data had finished making\n",
      "===========finished Making Vector of Max===========\n",
      "this data had finished making\n",
      "===========finished Making Vector of Max===========\n",
      "this data had finished making\n",
      "===========finished Making Vector of Range===========\n",
      "this data had finished making\n",
      "===========finished Making Vector of RMS===========\n",
      "this data had finished making\n",
      "===========finished Making Vector of FFT Real===========\n",
      "this data had finished making\n",
      "===========finished Making Vector of FFT Image===========\n",
      "this data had finished making\n",
      "===========finished Making Vector of Energy===========\n",
      "this data had finished making\n",
      "(754, 1022)\n",
      "(754, 1022)\n",
      "(770588,)\n",
      "===========finished Making Vector of Entropy===========\n",
      "this data had finished making\n",
      "(754, 2048)\n",
      "(754, 2048)\n",
      "(754, 1022)\n",
      "===========finished Making Vector of Frequency===========\n",
      "this data had finished making\n",
      "===========finished Making Vector of Mean===========\n",
      "this data had finished making\n",
      "===========finished Making Vector of Median===========\n",
      "this data had finished making\n",
      "===========finished Making Vector of Variance===========\n",
      "this data had finished making\n",
      "===========finished Making Vector of standard Deviation===========\n",
      "this data had finished making\n",
      "===========finished Making Vector of Max===========\n",
      "this data had finished making\n",
      "===========finished Making Vector of Max===========\n",
      "this data had finished making\n",
      "===========finished Making Vector of Range===========\n",
      "this data had finished making\n",
      "===========finished Making Vector of RMS===========\n",
      "this data had finished making\n",
      "===========finished Making Vector of FFT Real===========\n",
      "this data had finished making\n",
      "===========finished Making Vector of FFT Image===========\n",
      "this data had finished making\n",
      "===========finished Making Vector of Energy===========\n",
      "this data had finished making\n",
      "(754, 1022)\n",
      "(754, 1022)\n",
      "(770588,)\n",
      "===========finished Making Vector of Entropy===========\n",
      "this data had finished making\n",
      "(754, 2048)\n",
      "(754, 2048)\n",
      "(754, 1022)\n",
      "===========finished Making Vector of Frequency===========\n",
      "this data had finished making\n"
     ]
    },
    {
     "name": "stderr",
     "output_type": "stream",
     "text": [
      "Widget Javascript not detected.  It may not be installed properly. Did you enable the widgetsnbextension? If not, then run \"jupyter nbextension enable --py --sys-prefix widgetsnbextension\"\n"
     ]
    },
    {
     "name": "stdout",
     "output_type": "stream",
     "text": [
      "===========finished Making Vector of Mean===========\n",
      "this data had finished making\n",
      "===========finished Making Vector of Median===========\n",
      "this data had finished making\n",
      "===========finished Making Vector of Variance===========\n",
      "this data had finished making\n",
      "===========finished Making Vector of standard Deviation===========\n",
      "this data had finished making\n",
      "===========finished Making Vector of Max===========\n",
      "this data had finished making\n",
      "===========finished Making Vector of Max===========\n",
      "this data had finished making\n",
      "===========finished Making Vector of Range===========\n",
      "this data had finished making\n",
      "===========finished Making Vector of RMS===========\n",
      "this data had finished making\n",
      "===========finished Making Vector of FFT Real===========\n",
      "this data had finished making\n",
      "===========finished Making Vector of FFT Image===========\n",
      "this data had finished making\n",
      "===========finished Making Vector of Energy===========\n",
      "this data had finished making\n",
      "(754, 1022)\n",
      "(754, 1022)\n",
      "(770588,)\n",
      "===========finished Making Vector of Entropy===========\n",
      "this data had finished making\n",
      "(754, 2048)\n",
      "(754, 2048)\n",
      "(754, 1022)\n",
      "===========finished Making Vector of Frequency===========\n",
      "this data had finished making\n",
      "===========finished Making Vector of Mean===========\n",
      "this data had finished making\n",
      "===========finished Making Vector of Median===========\n",
      "this data had finished making\n",
      "===========finished Making Vector of Variance===========\n",
      "this data had finished making\n",
      "===========finished Making Vector of standard Deviation===========\n",
      "this data had finished making\n",
      "===========finished Making Vector of Max===========\n",
      "this data had finished making\n",
      "===========finished Making Vector of Max===========\n",
      "this data had finished making\n",
      "===========finished Making Vector of Range===========\n",
      "this data had finished making\n",
      "===========finished Making Vector of RMS===========\n",
      "this data had finished making\n",
      "===========finished Making Vector of FFT Real===========\n",
      "this data had finished making\n",
      "===========finished Making Vector of FFT Image===========\n",
      "this data had finished making\n",
      "===========finished Making Vector of Energy===========\n",
      "this data had finished making\n",
      "(754, 1022)\n",
      "(754, 1022)\n",
      "(770588,)\n",
      "===========finished Making Vector of Entropy===========\n",
      "this data had finished making\n",
      "(754, 2048)\n",
      "(754, 2048)\n",
      "(754, 1022)\n",
      "===========finished Making Vector of Frequency===========\n",
      "this data had finished making\n",
      "===========finished Making Vector of Mean===========\n",
      "this data had finished making\n",
      "===========finished Making Vector of Median===========\n",
      "this data had finished making\n",
      "===========finished Making Vector of Variance===========\n",
      "this data had finished making\n",
      "===========finished Making Vector of standard Deviation===========\n",
      "this data had finished making\n",
      "===========finished Making Vector of Max===========\n",
      "this data had finished making\n",
      "===========finished Making Vector of Max===========\n",
      "this data had finished making\n",
      "===========finished Making Vector of Range===========\n",
      "this data had finished making\n",
      "===========finished Making Vector of RMS===========\n",
      "this data had finished making\n",
      "===========finished Making Vector of FFT Real===========\n",
      "this data had finished making\n",
      "===========finished Making Vector of FFT Image===========\n",
      "this data had finished making\n",
      "===========finished Making Vector of Energy===========\n",
      "this data had finished making\n",
      "(754, 1022)\n",
      "(754, 1022)\n",
      "(770588,)\n",
      "===========finished Making Vector of Entropy===========\n",
      "this data had finished making\n",
      "(754, 2048)\n",
      "(754, 2048)\n",
      "(754, 1022)\n",
      "===========finished Making Vector of Frequency===========\n",
      "this data had finished making\n"
     ]
    },
    {
     "name": "stderr",
     "output_type": "stream",
     "text": [
      "Widget Javascript not detected.  It may not be installed properly. Did you enable the widgetsnbextension? If not, then run \"jupyter nbextension enable --py --sys-prefix widgetsnbextension\"\n"
     ]
    },
    {
     "name": "stdout",
     "output_type": "stream",
     "text": [
      "===========finished Making Vector of Mean===========\n",
      "this data had finished making\n",
      "===========finished Making Vector of Median===========\n",
      "this data had finished making\n",
      "===========finished Making Vector of Variance===========\n",
      "this data had finished making\n",
      "===========finished Making Vector of standard Deviation===========\n",
      "this data had finished making\n",
      "===========finished Making Vector of Max===========\n",
      "this data had finished making\n",
      "===========finished Making Vector of Max===========\n",
      "this data had finished making\n",
      "===========finished Making Vector of Range===========\n",
      "this data had finished making\n",
      "===========finished Making Vector of RMS===========\n",
      "this data had finished making\n",
      "===========finished Making Vector of FFT Real===========\n",
      "this data had finished making\n",
      "===========finished Making Vector of FFT Image===========\n",
      "this data had finished making\n",
      "===========finished Making Vector of Energy===========\n",
      "this data had finished making\n",
      "(754, 1022)\n",
      "(754, 1022)\n",
      "(770588,)\n",
      "===========finished Making Vector of Entropy===========\n",
      "this data had finished making\n",
      "(754, 2048)\n",
      "(754, 2048)\n",
      "(754, 1022)\n",
      "===========finished Making Vector of Frequency===========\n",
      "this data had finished making\n",
      "===========finished Making Vector of Mean===========\n",
      "this data had finished making\n",
      "===========finished Making Vector of Median===========\n",
      "this data had finished making\n",
      "===========finished Making Vector of Variance===========\n",
      "this data had finished making\n",
      "===========finished Making Vector of standard Deviation===========\n",
      "this data had finished making\n",
      "===========finished Making Vector of Max===========\n",
      "this data had finished making\n",
      "===========finished Making Vector of Max===========\n",
      "this data had finished making\n",
      "===========finished Making Vector of Range===========\n",
      "this data had finished making\n",
      "===========finished Making Vector of RMS===========\n",
      "this data had finished making\n",
      "===========finished Making Vector of FFT Real===========\n",
      "this data had finished making\n",
      "===========finished Making Vector of FFT Image===========\n",
      "this data had finished making\n",
      "===========finished Making Vector of Energy===========\n",
      "this data had finished making\n",
      "(754, 1022)\n",
      "(754, 1022)\n",
      "(770588,)\n",
      "===========finished Making Vector of Entropy===========\n",
      "this data had finished making\n",
      "(754, 2048)\n",
      "(754, 2048)\n",
      "(754, 1022)\n",
      "===========finished Making Vector of Frequency===========\n",
      "this data had finished making\n",
      "===========finished Making Vector of Mean===========\n",
      "this data had finished making\n",
      "===========finished Making Vector of Median===========\n",
      "this data had finished making\n",
      "===========finished Making Vector of Variance===========\n",
      "this data had finished making\n",
      "===========finished Making Vector of standard Deviation===========\n",
      "this data had finished making\n",
      "===========finished Making Vector of Max===========\n",
      "this data had finished making\n",
      "===========finished Making Vector of Max===========\n",
      "this data had finished making\n",
      "===========finished Making Vector of Range===========\n",
      "this data had finished making\n",
      "===========finished Making Vector of RMS===========\n",
      "this data had finished making\n",
      "===========finished Making Vector of FFT Real===========\n",
      "this data had finished making\n",
      "===========finished Making Vector of FFT Image===========\n",
      "this data had finished making\n",
      "===========finished Making Vector of Energy===========\n",
      "this data had finished making\n",
      "(754, 1022)\n",
      "(754, 1022)\n",
      "(770588,)\n",
      "===========finished Making Vector of Entropy===========\n",
      "this data had finished making\n",
      "(754, 2048)\n",
      "(754, 2048)\n",
      "(754, 1022)\n",
      "===========finished Making Vector of Frequency===========\n",
      "this data had finished making\n",
      "this data had finished making\n",
      "this data had finished making\n",
      "===========finished Making Vector of Signal Magnitude Area===========\n"
     ]
    }
   ],
   "source": [
    "CalcurateFeature(2048,1024)"
   ]
  },
  {
   "cell_type": "code",
   "execution_count": 29,
   "metadata": {
    "collapsed": false
   },
   "outputs": [
    {
     "name": "stderr",
     "output_type": "stream",
     "text": [
      "Widget Javascript not detected.  It may not be installed properly. Did you enable the widgetsnbextension? If not, then run \"jupyter nbextension enable --py --sys-prefix widgetsnbextension\"\n",
      "Widget Javascript not detected.  It may not be installed properly. Did you enable the widgetsnbextension? If not, then run \"jupyter nbextension enable --py --sys-prefix widgetsnbextension\"\n"
     ]
    },
    {
     "name": "stdout",
     "output_type": "stream",
     "text": [
      "Participants07-Third-01-01_LeftHand-AccX-win=4096-sld=0032 is registed now\n",
      "Build Complete\n",
      "Source shape is(773550, 1)\n",
      "window frames num =24046\n",
      "offset=14\n",
      "(24046, 4096, 1)\n",
      "===========finished Making Vector of Mean===========\n",
      "this data had finished making\n",
      "===========finished Making Vector of Median===========\n",
      "this data had finished making\n",
      "===========finished Making Vector of Variance===========\n",
      "this data had finished making\n",
      "===========finished Making Vector of standard Deviation===========\n",
      "this data had finished making\n",
      "===========finished Making Vector of Max===========\n",
      "this data had finished making\n",
      "===========finished Making Vector of Max===========\n",
      "this data had finished making\n",
      "===========finished Making Vector of Range===========\n",
      "Participants07-Third-01-01_LeftHand-AccX-win=4096-sld=0032 is registed now\n",
      "Build Complete\n",
      "Source shape is(773550, 1)\n",
      "window frames num =24166\n",
      "offset=14\n",
      "(24166, 256, 1)\n",
      "===========finished Making Vector of RMS===========\n",
      "this data had finished making\n"
     ]
    },
    {
     "ename": "KeyboardInterrupt",
     "evalue": "",
     "output_type": "error",
     "traceback": [
      "\u001b[0;31m---------------------------------------------------------------------------\u001b[0m",
      "\u001b[0;31mKeyboardInterrupt\u001b[0m                         Traceback (most recent call last)",
      "\u001b[0;32m<ipython-input-29-926168f50bb8>\u001b[0m in \u001b[0;36m<module>\u001b[0;34m()\u001b[0m\n\u001b[0;32m----> 1\u001b[0;31m \u001b[0mCalcurateFeature\u001b[0m\u001b[0;34m(\u001b[0m\u001b[0;36m4096\u001b[0m\u001b[0;34m,\u001b[0m\u001b[0;36m32\u001b[0m\u001b[0;34m)\u001b[0m\u001b[0;34m\u001b[0m\u001b[0m\n\u001b[0m",
      "\u001b[0;32m<ipython-input-26-9f44dff3b0aa>\u001b[0m in \u001b[0;36mCalcurateFeature\u001b[0;34m(windowNum, slidingNum)\u001b[0m\n\u001b[1;32m      3\u001b[0m         \u001b[0;32mfor\u001b[0m \u001b[0maxis\u001b[0m \u001b[0;32min\u001b[0m \u001b[0mtqdm_notebook\u001b[0m\u001b[0;34m(\u001b[0m \u001b[0;34m[\u001b[0m\u001b[0;34m'AccX'\u001b[0m\u001b[0;34m,\u001b[0m\u001b[0;34m'AccY'\u001b[0m\u001b[0;34m,\u001b[0m\u001b[0;34m'AccZ'\u001b[0m\u001b[0;34m]\u001b[0m\u001b[0;34m,\u001b[0m\u001b[0mleave\u001b[0m\u001b[0;34m=\u001b[0m\u001b[0mFalse\u001b[0m \u001b[0;34m)\u001b[0m\u001b[0;34m:\u001b[0m\u001b[0;34m\u001b[0m\u001b[0m\n\u001b[1;32m      4\u001b[0m             \u001b[0mFileName\u001b[0m \u001b[0;34m=\u001b[0m \u001b[0mCommonName\u001b[0m\u001b[0;34m+\u001b[0m\u001b[0;34m'-'\u001b[0m\u001b[0;34m+\u001b[0m\u001b[0ms\u001b[0m\u001b[0;34m[\u001b[0m\u001b[0;34m'Name'\u001b[0m\u001b[0;34m]\u001b[0m\u001b[0;34m+\u001b[0m\u001b[0;34m'-'\u001b[0m\u001b[0;34m+\u001b[0m\u001b[0maxis\u001b[0m\u001b[0;34m+\u001b[0m            \u001b[0;34m'-win='\u001b[0m\u001b[0;34m+\u001b[0m\u001b[0mstr\u001b[0m\u001b[0;34m(\u001b[0m\u001b[0mwindowNum\u001b[0m\u001b[0;34m)\u001b[0m\u001b[0;34m.\u001b[0m\u001b[0mzfill\u001b[0m\u001b[0;34m(\u001b[0m\u001b[0;36m4\u001b[0m\u001b[0;34m)\u001b[0m\u001b[0;34m+\u001b[0m\u001b[0;34m'-sld='\u001b[0m\u001b[0;34m+\u001b[0m\u001b[0mstr\u001b[0m\u001b[0;34m(\u001b[0m\u001b[0mslidingNum\u001b[0m\u001b[0;34m)\u001b[0m\u001b[0;34m.\u001b[0m\u001b[0mzfill\u001b[0m\u001b[0;34m(\u001b[0m\u001b[0;36m4\u001b[0m\u001b[0;34m)\u001b[0m\u001b[0;34m\u001b[0m\u001b[0m\n\u001b[0;32m----> 5\u001b[0;31m             \u001b[0mExtraction\u001b[0m\u001b[0;34m(\u001b[0m\u001b[0ms\u001b[0m\u001b[0;34m,\u001b[0m\u001b[0mFileName\u001b[0m\u001b[0;34m,\u001b[0m\u001b[0mwindowNum\u001b[0m\u001b[0;34m,\u001b[0m \u001b[0mslidingNum\u001b[0m\u001b[0;34m)\u001b[0m\u001b[0;34m\u001b[0m\u001b[0m\n\u001b[0m\u001b[1;32m      6\u001b[0m             \u001b[0mtime\u001b[0m\u001b[0;34m.\u001b[0m\u001b[0msleep\u001b[0m\u001b[0;34m(\u001b[0m\u001b[0;36m1\u001b[0m\u001b[0;34m)\u001b[0m\u001b[0;34m\u001b[0m\u001b[0m\n\u001b[1;32m      7\u001b[0m \u001b[0;34m\u001b[0m\u001b[0m\n",
      "\u001b[0;32m<ipython-input-23-ccd68d38d9d0>\u001b[0m in \u001b[0;36mExtraction\u001b[0;34m(Sensor, FileName, wNum, sNum)\u001b[0m\n\u001b[1;32m     24\u001b[0m                     FeaturePath+FileName+'_RMS.dump' )\n\u001b[1;32m     25\u001b[0m \u001b[0;34m\u001b[0m\u001b[0m\n\u001b[0;32m---> 26\u001b[0;31m         joblib.dump(Vector_FFT_Real(FileName, Sensor[axis], wNum,sNum, WindowDataPath),\n\u001b[0m\u001b[1;32m     27\u001b[0m                     FeaturePath+FileName+'_Real.dump' )\n\u001b[1;32m     28\u001b[0m \u001b[0;34m\u001b[0m\u001b[0m\n",
      "\u001b[0;32m<ipython-input-7-883feab70df8>\u001b[0m in \u001b[0;36mVector_FFT_Real\u001b[0;34m(windowName, dataRaw, wWidth, sWidth, PATH)\u001b[0m\n\u001b[1;32m     10\u001b[0m     Real=np.array([ np.real(fftwind[i,l])\n\u001b[1;32m     11\u001b[0m             \u001b[0;32mfor\u001b[0m \u001b[0mi\u001b[0m \u001b[0;32min\u001b[0m \u001b[0mrange\u001b[0m\u001b[0;34m(\u001b[0m \u001b[0mfftwind\u001b[0m\u001b[0;34m.\u001b[0m\u001b[0mshape\u001b[0m\u001b[0;34m[\u001b[0m\u001b[0;36m0\u001b[0m\u001b[0;34m]\u001b[0m \u001b[0;34m)\u001b[0m\u001b[0;34m\u001b[0m\u001b[0m\n\u001b[0;32m---> 12\u001b[0;31m             for l in range( fftwind.shape[1] ) ])\n\u001b[0m\u001b[1;32m     13\u001b[0m     \u001b[0mReal\u001b[0m \u001b[0;34m=\u001b[0m \u001b[0mReal\u001b[0m\u001b[0;34m.\u001b[0m\u001b[0mreshape\u001b[0m\u001b[0;34m(\u001b[0m\u001b[0mfftwind\u001b[0m\u001b[0;34m.\u001b[0m\u001b[0mshape\u001b[0m\u001b[0;34m)\u001b[0m\u001b[0;34m\u001b[0m\u001b[0m\n\u001b[1;32m     14\u001b[0m     \u001b[0;31m# calcurate Squared Energy\u001b[0m\u001b[0;34m\u001b[0m\u001b[0;34m\u001b[0m\u001b[0m\n",
      "\u001b[0;32m/home/takeyama/.pyenv/versions/2.7.11/envs/takeyama/lib/python2.7/site-packages/numpy/lib/type_check.pyc\u001b[0m in \u001b[0;36mreal\u001b[0;34m(val)\u001b[0m\n\u001b[1;32m    137\u001b[0m \u001b[0;34m\u001b[0m\u001b[0m\n\u001b[1;32m    138\u001b[0m     \"\"\"\n\u001b[0;32m--> 139\u001b[0;31m     \u001b[0;32mreturn\u001b[0m \u001b[0masanyarray\u001b[0m\u001b[0;34m(\u001b[0m\u001b[0mval\u001b[0m\u001b[0;34m)\u001b[0m\u001b[0;34m.\u001b[0m\u001b[0mreal\u001b[0m\u001b[0;34m\u001b[0m\u001b[0m\n\u001b[0m\u001b[1;32m    140\u001b[0m \u001b[0;34m\u001b[0m\u001b[0m\n\u001b[1;32m    141\u001b[0m \u001b[0;32mdef\u001b[0m \u001b[0mimag\u001b[0m\u001b[0;34m(\u001b[0m\u001b[0mval\u001b[0m\u001b[0;34m)\u001b[0m\u001b[0;34m:\u001b[0m\u001b[0;34m\u001b[0m\u001b[0m\n",
      "\u001b[0;32m/home/takeyama/.pyenv/versions/2.7.11/envs/takeyama/lib/python2.7/site-packages/numpy/core/numeric.pyc\u001b[0m in \u001b[0;36masanyarray\u001b[0;34m(a, dtype, order)\u001b[0m\n\u001b[1;32m    531\u001b[0m \u001b[0;34m\u001b[0m\u001b[0m\n\u001b[1;32m    532\u001b[0m     \"\"\"\n\u001b[0;32m--> 533\u001b[0;31m     \u001b[0;32mreturn\u001b[0m \u001b[0marray\u001b[0m\u001b[0;34m(\u001b[0m\u001b[0ma\u001b[0m\u001b[0;34m,\u001b[0m \u001b[0mdtype\u001b[0m\u001b[0;34m,\u001b[0m \u001b[0mcopy\u001b[0m\u001b[0;34m=\u001b[0m\u001b[0mFalse\u001b[0m\u001b[0;34m,\u001b[0m \u001b[0morder\u001b[0m\u001b[0;34m=\u001b[0m\u001b[0morder\u001b[0m\u001b[0;34m,\u001b[0m \u001b[0msubok\u001b[0m\u001b[0;34m=\u001b[0m\u001b[0mTrue\u001b[0m\u001b[0;34m)\u001b[0m\u001b[0;34m\u001b[0m\u001b[0m\n\u001b[0m\u001b[1;32m    534\u001b[0m \u001b[0;34m\u001b[0m\u001b[0m\n\u001b[1;32m    535\u001b[0m \u001b[0;32mdef\u001b[0m \u001b[0mascontiguousarray\u001b[0m\u001b[0;34m(\u001b[0m\u001b[0ma\u001b[0m\u001b[0;34m,\u001b[0m \u001b[0mdtype\u001b[0m\u001b[0;34m=\u001b[0m\u001b[0mNone\u001b[0m\u001b[0;34m)\u001b[0m\u001b[0;34m:\u001b[0m\u001b[0;34m\u001b[0m\u001b[0m\n",
      "\u001b[0;31mKeyboardInterrupt\u001b[0m: "
     ]
    }
   ],
   "source": [
    "CalcurateFeature(4096,32)"
   ]
  },
  {
   "cell_type": "code",
   "execution_count": null,
   "metadata": {
    "collapsed": true
   },
   "outputs": [],
   "source": [
    "CalcurateFeature(4096,2048)"
   ]
  },
  {
   "cell_type": "code",
   "execution_count": null,
   "metadata": {
    "collapsed": true
   },
   "outputs": [],
   "source": []
  },
  {
   "cell_type": "code",
   "execution_count": null,
   "metadata": {
    "collapsed": true
   },
   "outputs": [],
   "source": []
  }
 ],
 "metadata": {
  "kernelspec": {
   "display_name": "Python 2",
   "language": "python",
   "name": "python2"
  },
  "language_info": {
   "codemirror_mode": {
    "name": "ipython",
    "version": 2
   },
   "file_extension": ".py",
   "mimetype": "text/x-python",
   "name": "python",
   "nbconvert_exporter": "python",
   "pygments_lexer": "ipython2",
   "version": "2.7.11"
  },
  "widgets": {
   "state": {
    "09c411c1cdf545d2994c934ddeef433b": {
     "views": [
      {
       "cell_index": 29
      }
     ]
    },
    "24766c6f59884107bc6dbf495a8a6f48": {
     "views": [
      {
       "cell_index": 41
      }
     ]
    },
    "3c2de9e530ac4527b2aef556d7ed16fd": {
     "views": [
      {
       "cell_index": 41
      }
     ]
    },
    "539941dd5f7145f4948c09fc375e505a": {
     "views": [
      {
       "cell_index": 41
      }
     ]
    },
    "5649fe4bff8e43b89b865758d55ddb70": {
     "views": [
      {
       "cell_index": 41
      }
     ]
    },
    "65678923883a43e8a83841b165b7b3ea": {
     "views": [
      {
       "cell_index": 42
      }
     ]
    },
    "9961e472dbf846edb0ce80d331e745c0": {
     "views": [
      {
       "cell_index": 42
      }
     ]
    },
    "bdd9a4f61764495b833574fbbad424da": {
     "views": [
      {
       "cell_index": 41
      }
     ]
    },
    "cac588955a744cafa7be6c7b23ff6f0e": {
     "views": [
      {
       "cell_index": 41
      }
     ]
    },
    "d468b034d6184950a70aee8b629c8403": {
     "views": [
      {
       "cell_index": 41
      }
     ]
    },
    "e945ab7290a046119c9f959276ec5c6c": {
     "views": [
      {
       "cell_index": 29
      }
     ]
    }
   },
   "version": "1.2.0"
  }
 },
 "nbformat": 4,
 "nbformat_minor": 1
}
