{
 "cells": [
  {
   "cell_type": "markdown",
   "metadata": {},
   "source": [
    "# 以下テンプレート"
   ]
  },
  {
   "cell_type": "code",
   "execution_count": 1,
   "metadata": {
    "collapsed": false
   },
   "outputs": [],
   "source": [
    "# 表示用\n",
    "from tqdm import tqdm\n",
    "from tqdm import tnrange, tqdm_notebook"
   ]
  },
  {
   "cell_type": "code",
   "execution_count": 2,
   "metadata": {
    "collapsed": false
   },
   "outputs": [],
   "source": [
    "import numpy as np\n",
    "import datetime\n",
    "import os\n",
    "import copy\n",
    "\n",
    "# Parametor about Sensor\n",
    "SensorNum=1 # Sensor number\n",
    "#SensorAxis='AccX' # Axis\n",
    "\n",
    "# Define Data Name\n",
    "DATE= str( datetime.date.today() )+'/'\n",
    "TITLE=\"Participants01_First_1/\"\n",
    "Label = ['LeftHand','RightHand','LeftLeg','Rightleg','West','Chest']\n",
    "\n",
    "# Parametor about \" Data Path\"\n",
    "DataPath = \"/media/takeyama/Transfer/02_ActivityResearch/Paticipants01/01_First/20161018-105301/mem/\"\n",
    "StorePath = \"/media/takeyama/Transfer/02_ActivityResearch/\"\n",
    "\n",
    "if not os.path.exists(StorePath+TITLE+'dictionary/'): \n",
    "    os.makedirs(StorePath+TITLE+'dictionary/')\n",
    "DictionaryDataPath=StorePath+TITLE+'dictionary/'\n",
    "\n",
    "if not os.path.exists(StorePath+TITLE+'window/'): \n",
    "    os.makedirs(StorePath+TITLE+'window/')\n",
    "WindowDataPath=StorePath+TITLE+'window/'\n",
    "\n",
    "if not os.path.exists(StorePath+TITLE+DATE+'studyOutput/'): \n",
    "    os.makedirs(StorePath+TITLE+DATE+'studyOutput/')\n",
    "StudyOutputPath=StorePath+TITLE+DATE+'studyOutput/'\n",
    "\n",
    "if not os.path.exists(StorePath+TITLE+DATE+'parametor/'): \n",
    "    os.makedirs(StorePath+TITLE+DATE+'parametor/')\n",
    "ParametorPath=StorePath+TITLE+DATE+'parametor/'\n",
    "\n",
    "if not os.path.exists(StorePath+TITLE+DATE+'result/'): \n",
    "    os.makedirs(StorePath+TITLE+DATE+'result/')\n",
    "ResultPath=StorePath+TITLE+DATE+'result/'\n",
    "\n",
    "if not os.path.exists(StorePath+TITLE+DATE+'graph/'): \n",
    "    os.makedirs(StorePath+TITLE+DATE+'graph/')\n",
    "GraphPath=StorePath+TITLE+DATE+'graph/'"
   ]
  },
  {
   "cell_type": "markdown",
   "metadata": {},
   "source": [
    "**センサデータの読み込み**"
   ]
  },
  {
   "cell_type": "code",
   "execution_count": 3,
   "metadata": {
    "collapsed": false
   },
   "outputs": [],
   "source": [
    "# センサデータのcsvファイル名をリストに集約する関数\n",
    "def SensorDataFileNameList(path):\n",
    "    l = os.listdir(DataPath)\n",
    "    FilePath =[]\n",
    "    SensorName = []\n",
    "    \n",
    "    for n in range(len(l)):\n",
    "        if (l[n][:4].find('mem-') != -1):\n",
    "            FilePath.append(l[n])\n",
    "            SensorName.append(l[n][4:15])\n",
    "    \n",
    "    return FilePath,SensorName"
   ]
  },
  {
   "cell_type": "markdown",
   "metadata": {},
   "source": [
    "CSVを読み込んで，CSVの中身を辞書型で表現する．"
   ]
  },
  {
   "cell_type": "code",
   "execution_count": 4,
   "metadata": {
    "collapsed": true
   },
   "outputs": [],
   "source": [
    "def ImportCSV(csv_file,SensorName,mode='Round'):\n",
    "    import pandas as pd\n",
    "    '''\n",
    "    ~Argument~\n",
    "    csv_file -> ファイル名 \n",
    "    mode Round -> 四捨五入\n",
    "         Roundup -> 切り上げ\n",
    "         Rounddown -> 切り捨て\n",
    "    \n",
    "    ~Conversion~\n",
    "    Acc Data  [0.1mG]=>[G]\n",
    "    Gyr Data  [0.01dps]=>[dps]   ...dps=degree per second\n",
    "    '''\n",
    "    # data dictionary \n",
    "    RawData={}   \n",
    "    AccConversion = 0.1 * 0.001\n",
    "    GyrConversion = 0.01\n",
    "    \n",
    "    # design dataframe and import csv\n",
    "    data = pd.read_csv(csv_file)\n",
    "    data.columns=[u'Type',u'Time',u'AccX',u'AccY',u'AccZ',u'GyrX',u'GyrY',u'GyrZ']\n",
    "    data = data[ data['Type']=='ags']\n",
    "\n",
    "    # convert numpy.darray \n",
    "\n",
    "    AccX=data.AccX.values*AccConversion\n",
    "    AccY=data.AccY.values*AccConversion\n",
    "    AccZ=data.AccZ.values*AccConversion\n",
    "    \n",
    "    GyrX=data.GyrX.values*GyrConversion\n",
    "    GyrY=data.GyrY.values*GyrConversion\n",
    "    GyrZ=data.GyrZ.values*GyrConversion\n",
    "\n",
    "    # regist each raw data \n",
    "    RawData['AccX'] = AccX\n",
    "    RawData['AccY'] = AccY\n",
    "    RawData['AccZ'] = AccZ\n",
    "    RawData['GyrX'] = GyrX\n",
    "    RawData['GyrY'] = GyrY\n",
    "    RawData['GyrZ'] = GyrZ\n",
    "    RawData['Name'] = SensorName\n",
    "\n",
    "    RawData['Time'] = data.Time.values\n",
    "\n",
    "    return RawData"
   ]
  },
  {
   "cell_type": "code",
   "execution_count": 5,
   "metadata": {
    "collapsed": false
   },
   "outputs": [],
   "source": [
    "# FFT library\n",
    "from scipy import fftpack\n",
    "from scipy import signal\n",
    "\n",
    "# Graph Plot\n",
    "import matplotlib.pyplot as plt\n",
    "\n",
    "# Generate WindowFrame Function\n",
    "from mymodule import window\n",
    "\n",
    "# timer\n",
    "import time\n",
    "\n",
    "%matplotlib inline"
   ]
  },
  {
   "cell_type": "code",
   "execution_count": 6,
   "metadata": {
    "collapsed": false
   },
   "outputs": [
    {
     "name": "stderr",
     "output_type": "stream",
     "text": [
      "Using Theano backend.\n",
      "Using gpu device 0: GeForce GTX 1080 (CNMeM is disabled, cuDNN 5005)\n"
     ]
    }
   ],
   "source": [
    "from keras.models import Sequential#,Graph\n",
    "from keras.datasets import cifar10\n",
    "from keras.layers import Dense, Activation, Flatten\n",
    "from keras.optimizers import SGD, Adadelta, Adagrad, Adam, Adamax, RMSprop, Nadam\n",
    "from keras.utils import np_utils\n",
    "from keras.layers.convolutional import Convolution2D, MaxPooling2D\n",
    "from keras.utils.visualize_util import model_to_dot, plot\n",
    "from keras import backend as K\n",
    "from keras.layers import Input, Dense\n",
    "from keras.models import Model\n",
    "from keras.callbacks import EarlyStopping\n",
    "\n",
    "import matplotlib.image as mpimg\n"
   ]
  },
  {
   "cell_type": "code",
   "execution_count": 7,
   "metadata": {
    "collapsed": false
   },
   "outputs": [
    {
     "name": "stderr",
     "output_type": "stream",
     "text": [
      "/home/takeyama/.pyenv/versions/2.7.11/envs/takeyama/lib/python2.7/site-packages/sklearn/cross_validation.py:44: DeprecationWarning: This module was deprecated in version 0.18 in favor of the model_selection module into which all the refactored classes and functions are moved. Also note that the interface of the new CV iterators are different from that of this module. This module will be removed in 0.20.\n",
      "  \"This module will be removed in 0.20.\", DeprecationWarning)\n"
     ]
    }
   ],
   "source": [
    "from mymodule.dnn.layers import FullyConnectedLayer\n",
    "from mymodule.dnn.optimizers import *\n",
    "from mymodule.dnn.utils import *"
   ]
  },
  {
   "cell_type": "code",
   "execution_count": 8,
   "metadata": {
    "collapsed": true
   },
   "outputs": [],
   "source": [
    "\"\"\"Sparse Autoencoder\"\"\"\n",
    "class SA(object):\n",
    "\tdef __init__(self, rng,\tinput=None,\tn_visible=784, \n",
    "\t\tn_hidden=784, sparse_reg=1e-3, optimizer=Adam, W=None, b=None):\n",
    "\t\tself.rng = rng\n",
    "\n",
    "\t\t\"\"\"symbol definition\"\"\"\n",
    "\t\tself.index = T.lscalar()\n",
    "\t\tself.s_level = T.fscalar()\n",
    "\t\tif input == None:\n",
    "\t\t\tself.x = T.matrix('x')\n",
    "\t\telse:\n",
    "\t\t\tself.x = input\n",
    "\n",
    "\t\t\"\"\"network structure definition\"\"\"\n",
    "\t\t\"\"\"encoder\"\"\"\n",
    "\t\tself.h = FullyConnectedLayer(\n",
    "\t\t\tself.rng,\n",
    "\t\t\tinput=self.x,\n",
    "\t\t\tn_input=n_visible,\n",
    "\t\t\tn_output=n_hidden,\n",
    "\t\t\tactivation=sigmoid,\n",
    "\t\t\tW=W,\n",
    "\t\t\tb=b\n",
    "\t\t)\n",
    "\t\t\"\"\"decoder\"\"\"\n",
    "\t\tself.y = FullyConnectedLayer(\n",
    "\t\t\tself.rng,\n",
    "\t\t\tinput=self.h.output,\n",
    "\t\t\tn_input=n_hidden,\n",
    "\t\t\tn_output=n_visible,\n",
    "\t\t\tactivation=sigmoid\n",
    "\t\t)\n",
    "\n",
    "\t\t\"\"\"loss accuracy error\"\"\"\n",
    "\t\tself.metric = Metric(self.y.output, self.x)\n",
    "\t\tsparsity_penalty = self.sparsity_penalty(self.h.output, sparsity_level=self.s_level, sparse_reg=sparse_reg, n_units=n_hidden)\n",
    "\t\tself.loss = self.metric.mean_squared_error() + sparsity_penalty\n",
    "\n",
    "\t\t\"\"\"parameters (i.e., weights and biases) for whole networks\"\"\"\n",
    "\t\tself.params = self.h.params + self.y.params\n",
    "\n",
    "\t\t\"\"\"optimizer for learning parameters\"\"\"\n",
    "\t\tself.optimizer = optimizer(params=self.params)\n",
    "\t\tself.updates = self.optimizer.updates(self.loss)\n",
    "\n",
    "\tdef kl_divergence(self, p, p_hat):\n",
    "\t\treturn p * T.log(p/p_hat) + (1-p)*T.log((1-p)/(1-p_hat))\n",
    "\n",
    "\tdef sparsity_penalty(self, h, sparsity_level=None, sparse_reg=1e-3, n_units=-1):\n",
    "\t\tsparsity_level = T.extra_ops.repeat(sparsity_level, n_units)\n",
    "\t\tavg_act = h.mean(axis=0)\n",
    "\t\tkl_div = self.kl_divergence(sparsity_level, avg_act)\n",
    "\t\tsparsity_penalty = sparse_reg * kl_div.sum()\n",
    "\t\treturn sparsity_penalty\n",
    "\n",
    "\tdef fit(self, x_train, x_valid, batchsize=128, n_epoch=10):\n",
    "\t\tself.batchsize = batchsize\n",
    "\t\tself.n_epoch = n_epoch\n",
    "\n",
    "\t\t\"\"\"data pre-processing\"\"\"\n",
    "\t\tself.x_train = shared_data(x_train, None)\n",
    "\t\tself.x_valid = shared_data(x_valid, None)\n",
    "\t\tself.n_train_batches = self.x_train.get_value(borrow=True).shape[0] / self.batchsize\n",
    "\t\tself.n_valid_batches = self.x_valid.get_value(borrow=True).shape[0] / self.batchsize\n",
    "\n",
    "\t\tself.train_model = theano.function(\n",
    "\t\t\tinputs = [self.index],\n",
    "\t\t\toutputs = self.loss,\n",
    "\t\t\tupdates = self.updates,\n",
    "\t\t\tgivens = {\n",
    "\t\t\t\tself.x: self.x_train[self.index*batchsize: (self.index+1)*batchsize],\n",
    "\t\t\t\tself.s_level: np.cast['float32'](1e-2),\n",
    "\t\t\t}\n",
    "\t\t)\n",
    "\n",
    "\t\tself.valid_model = theano.function(\n",
    "\t\t\tinputs = [self.index],\n",
    "\t\t\toutputs = self.loss,\n",
    "\t\t\tgivens = {\n",
    "\t\t\t\tself.x: self.x_valid[self.index*batchsize: (self.index+1)*batchsize],\n",
    "\t\t\t\tself.s_level: np.cast['float32'](1e-2),\n",
    "\t\t\t}\n",
    "\t\t)\n",
    "\n",
    "\n",
    "\t\tepoch = 0\n",
    "\t\tloss = []\n",
    "\t\tval_loss = []\n",
    "\n",
    "\t\twhile epoch < self.n_epoch:\n",
    "\t\t\tepoch += 1\n",
    "\n",
    "\t\t\tloss.append(0.0)\n",
    "\t\t\tfor batch_index in tqdm(xrange(self.n_train_batches)):\n",
    "\t\t\t\tbatch_loss = self.train_model(batch_index)\n",
    "\t\t\t\tloss[-1] += batch_loss\n",
    "\t\t\tloss[-1] /= self.n_train_batches\n",
    "\t\t\tprint 'epoch: {}, train mean loss={}'.format(epoch, loss[-1])\n",
    "\n",
    "\t\t\tval_loss.append(0.0)\n",
    "\t\t\tfor batch_index in xrange(self.n_valid_batches):\n",
    "\t\t\t\tbatch_loss = self.valid_model(batch_index)\n",
    "\t\t\t\tval_loss[-1] += batch_loss\n",
    "\t\t\tval_loss[-1] /= self.n_valid_batches\n",
    "\t\t\tprint 'epoch: {}, valid mean loss={}'.format(epoch, val_loss[-1])\n",
    "\n",
    "\t\thist = {}\n",
    "\t\thist[\"loss\"] = loss\n",
    "\t\thist[\"val_loss\"] = val_loss\n",
    "\t\treturn hist\n",
    "\n",
    "\tdef get_encoder_params(self):\n",
    "\t\treturn self.h.params"
   ]
  },
  {
   "cell_type": "markdown",
   "metadata": {},
   "source": [
    "**Phase1 計測データの取得**\n",
    "\n",
    "ここで行うことは，学習に用いるnpzファイルを読み込む"
   ]
  },
  {
   "cell_type": "code",
   "execution_count": 9,
   "metadata": {
    "collapsed": false
   },
   "outputs": [
    {
     "name": "stdout",
     "output_type": "stream",
     "text": [
      "/media/takeyama/Transfer/02_ActivityResearch/Participants01_First_1/dictionary/\n"
     ]
    }
   ],
   "source": [
    "print DictionaryDataPath"
   ]
  },
  {
   "cell_type": "code",
   "execution_count": 10,
   "metadata": {
    "collapsed": false
   },
   "outputs": [
    {
     "name": "stdout",
     "output_type": "stream",
     "text": [
      "['Chest.npz', 'LeftHand.npz', 'LeftLeg.npz', 'RightHand.npz', 'Rightleg.npz', 'West.npz']\n"
     ]
    }
   ],
   "source": [
    "DictName=os.listdir(DictionaryDataPath)\n",
    "print DictName"
   ]
  },
  {
   "cell_type": "code",
   "execution_count": 11,
   "metadata": {
    "collapsed": false
   },
   "outputs": [],
   "source": [
    "Sensor1 = np.load(DictionaryDataPath+DictName[0])['data'][()]\n",
    "Sensor2 = np.load(DictionaryDataPath+DictName[1])['data'][()]\n",
    "Sensor3 = np.load(DictionaryDataPath+DictName[2])['data'][()]\n",
    "Sensor4 = np.load(DictionaryDataPath+DictName[3])['data'][()]\n",
    "Sensor5 = np.load(DictionaryDataPath+DictName[4])['data'][()]\n",
    "Sensor6 = np.load(DictionaryDataPath+DictName[5])['data'][()]"
   ]
  },
  {
   "cell_type": "code",
   "execution_count": 12,
   "metadata": {
    "collapsed": false
   },
   "outputs": [],
   "source": [
    "def GetWindowFrame(windowName, dataRaw, wWidth, sWidth, PATH):\n",
    "    \"\"\"\n",
    "    data　ウィンドウフレームに変換するデータ\n",
    "    registName　ウィンドウフレームに登録するデータの名前\n",
    "    windowWidth　ウィンドウ幅\n",
    "    slidingWidth　スライド幅\n",
    "    PATH ウィドウフレームを保存するディレクトリ\n",
    "    \n",
    "    \n",
    "    About Function:\n",
    "        与えられたdataからウィンドウ幅windowWidth,スライド幅slidingWidthにしたがって\n",
    "        registNameのウィドウフレームを返す．\n",
    "        また，与えれたPATH内に同様なパラメータ( WindowWidth, slidingWidth)かつ同様な\n",
    "        windowNameのものがある場合，そのデータを返す．\n",
    "        この関数が登録，ウィンドウフレームに変換できるデータは１つとする\n",
    "    \"\"\"\n",
    "    storedName = windowName+'_Win='+str(wWidth).zfill(4)+'_Sld='+str(sWidth).zfill(4)+'.npz'\n",
    "    l = os.listdir(PATH)\n",
    "    \n",
    "    if storedName in l:\n",
    "        print \"this data had finished making\"\n",
    "        return np.load(PATH+storedName)['data'][()]\n",
    "    \n",
    "    w=window()\n",
    "    w.SetData(windowName,dataRaw)    \n",
    "    wind=w.Compile(wWidth,sWidth)\n",
    "    windoW=wind.reshape((len(wind),np.prod(wind.shape[1:])))\n",
    "    \n",
    "    np.savez(PATH+storedName,data=wind)\n",
    "\n",
    "    return wind"
   ]
  },
  {
   "cell_type": "markdown",
   "metadata": {
    "collapsed": false
   },
   "source": [
    "# https://github.com/hogefugabar/deep-learning-theano\n",
    "のコードで試して見る"
   ]
  },
  {
   "cell_type": "code",
   "execution_count": 16,
   "metadata": {
    "collapsed": false,
    "scrolled": true
   },
   "outputs": [
    {
     "name": "stdout",
     "output_type": "stream",
     "text": [
      "this data had finished making\n"
     ]
    },
    {
     "name": "stderr",
     "output_type": "stream",
     "text": [
      "100%|██████████| 263/263 [00:00<00:00, 1652.48it/s]\n",
      " 63%|██████▎   | 165/263 [00:00<00:00, 1644.05it/s]"
     ]
    },
    {
     "name": "stdout",
     "output_type": "stream",
     "text": [
      "epoch: 1, train mean loss=0.132470514406\n",
      "epoch: 1, valid mean loss=0.0638602828897\n"
     ]
    },
    {
     "name": "stderr",
     "output_type": "stream",
     "text": [
      "100%|██████████| 263/263 [00:00<00:00, 1681.60it/s]\n",
      "100%|██████████| 263/263 [00:00<00:00, 1961.88it/s]\n"
     ]
    },
    {
     "name": "stdout",
     "output_type": "stream",
     "text": [
      "epoch: 2, train mean loss=0.0577276785479\n",
      "epoch: 2, valid mean loss=0.0520651109956\n",
      "epoch: 3, train mean loss=0.0511837757154\n"
     ]
    },
    {
     "name": "stderr",
     "output_type": "stream",
     "text": [
      "100%|██████████| 263/263 [00:00<00:00, 1932.05it/s]\n",
      "  0%|          | 0/263 [00:00<?, ?it/s]"
     ]
    },
    {
     "name": "stdout",
     "output_type": "stream",
     "text": [
      "epoch: 3, valid mean loss=0.0476344484276\n",
      "epoch: 4, train mean loss=0.0476529585807\n",
      "epoch: 4, valid mean loss=0.0448016689722\n"
     ]
    },
    {
     "name": "stderr",
     "output_type": "stream",
     "text": [
      "100%|██████████| 263/263 [00:00<00:00, 2027.12it/s]\n",
      "100%|██████████| 263/263 [00:00<00:00, 2022.87it/s]\n"
     ]
    },
    {
     "name": "stdout",
     "output_type": "stream",
     "text": [
      "epoch: 5, train mean loss=0.0451316407779\n",
      "epoch: 5, valid mean loss=0.0425510914366\n",
      "epoch: 6, train mean loss=0.0428621127047\n"
     ]
    },
    {
     "name": "stderr",
     "output_type": "stream",
     "text": [
      "100%|██████████| 263/263 [00:00<00:00, 2029.40it/s]\n",
      "  0%|          | 0/263 [00:00<?, ?it/s]"
     ]
    },
    {
     "name": "stdout",
     "output_type": "stream",
     "text": [
      "epoch: 6, valid mean loss=0.040567045872\n",
      "epoch: 7, train mean loss=0.0408800215896\n",
      "epoch: 7, valid mean loss=0.0390751664969\n"
     ]
    },
    {
     "name": "stderr",
     "output_type": "stream",
     "text": [
      "100%|██████████| 263/263 [00:00<00:00, 2009.22it/s]\n",
      "100%|██████████| 263/263 [00:00<00:00, 2020.04it/s]\n"
     ]
    },
    {
     "name": "stdout",
     "output_type": "stream",
     "text": [
      "epoch: 8, train mean loss=0.0393378021755\n",
      "epoch: 8, valid mean loss=0.0377651938545\n",
      "epoch: 9, train mean loss=0.0379239055877\n"
     ]
    },
    {
     "name": "stderr",
     "output_type": "stream",
     "text": [
      "100%|██████████| 263/263 [00:00<00:00, 2025.76it/s]\n",
      "  0%|          | 0/263 [00:00<?, ?it/s]"
     ]
    },
    {
     "name": "stdout",
     "output_type": "stream",
     "text": [
      "epoch: 9, valid mean loss=0.0365084622112\n",
      "epoch: 10, train mean loss=0.0365428488486\n",
      "epoch: 10, valid mean loss=0.0350454689602\n"
     ]
    },
    {
     "name": "stderr",
     "output_type": "stream",
     "text": [
      "100%|██████████| 263/263 [00:00<00:00, 2010.36it/s]\n",
      "100%|██████████| 263/263 [00:00<00:00, 2006.04it/s]\n"
     ]
    },
    {
     "name": "stdout",
     "output_type": "stream",
     "text": [
      "epoch: 11, train mean loss=0.035046654463\n",
      "epoch: 11, valid mean loss=0.0337912260126\n",
      "epoch: 12, train mean loss=0.0336571725089\n"
     ]
    },
    {
     "name": "stderr",
     "output_type": "stream",
     "text": [
      "100%|██████████| 263/263 [00:00<00:00, 2033.67it/s]\n",
      "  0%|          | 0/263 [00:00<?, ?it/s]"
     ]
    },
    {
     "name": "stdout",
     "output_type": "stream",
     "text": [
      "epoch: 12, valid mean loss=0.0325629796953\n",
      "epoch: 13, train mean loss=0.0323837570131\n",
      "epoch: 13, valid mean loss=0.0316545824226\n"
     ]
    },
    {
     "name": "stderr",
     "output_type": "stream",
     "text": [
      "100%|██████████| 263/263 [00:00<00:00, 1730.34it/s]\n",
      " 63%|██████▎   | 167/263 [00:00<00:00, 1659.74it/s]"
     ]
    },
    {
     "name": "stdout",
     "output_type": "stream",
     "text": [
      "epoch: 14, train mean loss=0.0313779139243\n",
      "epoch: 14, valid mean loss=0.0308518009898\n"
     ]
    },
    {
     "name": "stderr",
     "output_type": "stream",
     "text": [
      "100%|██████████| 263/263 [00:00<00:00, 1688.21it/s]\n",
      " 71%|███████▏  | 188/263 [00:00<00:00, 1879.74it/s]"
     ]
    },
    {
     "name": "stdout",
     "output_type": "stream",
     "text": [
      "epoch: 15, train mean loss=0.0304506919542\n",
      "epoch: 15, valid mean loss=0.0299869507778\n"
     ]
    },
    {
     "name": "stderr",
     "output_type": "stream",
     "text": [
      "100%|██████████| 263/263 [00:00<00:00, 1855.01it/s]\n",
      "100%|██████████| 263/263 [00:00<00:00, 1905.45it/s]\n"
     ]
    },
    {
     "name": "stdout",
     "output_type": "stream",
     "text": [
      "epoch: 16, train mean loss=0.0293879344043\n",
      "epoch: 16, valid mean loss=0.0290503971095\n",
      "epoch: 17, train mean loss=0.0283871980157\n"
     ]
    },
    {
     "name": "stderr",
     "output_type": "stream",
     "text": [
      "100%|██████████| 263/263 [00:00<00:00, 1907.07it/s]\n",
      "  0%|          | 0/263 [00:00<?, ?it/s]"
     ]
    },
    {
     "name": "stdout",
     "output_type": "stream",
     "text": [
      "epoch: 17, valid mean loss=0.028314187843\n",
      "epoch: 18, train mean loss=0.0275387316163\n",
      "epoch: 18, valid mean loss=0.0274642689699\n"
     ]
    },
    {
     "name": "stderr",
     "output_type": "stream",
     "text": [
      "100%|██████████| 263/263 [00:00<00:00, 1873.82it/s]\n",
      "100%|██████████| 263/263 [00:00<00:00, 2004.15it/s]\n"
     ]
    },
    {
     "name": "stdout",
     "output_type": "stream",
     "text": [
      "epoch: 19, train mean loss=0.02661958638\n",
      "epoch: 19, valid mean loss=0.0266664145008\n",
      "epoch: 20, train mean loss=0.0258903067077\n"
     ]
    },
    {
     "name": "stderr",
     "output_type": "stream",
     "text": [
      "100%|██████████| 263/263 [00:00<00:00, 2018.78it/s]\n",
      "  0%|          | 0/263 [00:00<?, ?it/s]"
     ]
    },
    {
     "name": "stdout",
     "output_type": "stream",
     "text": [
      "epoch: 20, valid mean loss=0.0259816771455\n",
      "epoch: 21, train mean loss=0.025243307478\n",
      "epoch: 21, valid mean loss=0.0253292377649\n"
     ]
    },
    {
     "name": "stderr",
     "output_type": "stream",
     "text": [
      "100%|██████████| 263/263 [00:00<00:00, 2015.19it/s]\n",
      "100%|██████████| 263/263 [00:00<00:00, 2024.15it/s]\n"
     ]
    },
    {
     "name": "stdout",
     "output_type": "stream",
     "text": [
      "epoch: 22, train mean loss=0.0246352213205\n",
      "epoch: 22, valid mean loss=0.0246965409285\n",
      "epoch: 23, train mean loss=0.0240590629511\n"
     ]
    },
    {
     "name": "stderr",
     "output_type": "stream",
     "text": [
      "100%|██████████| 263/263 [00:00<00:00, 2013.21it/s]\n",
      "  0%|          | 0/263 [00:00<?, ?it/s]"
     ]
    },
    {
     "name": "stdout",
     "output_type": "stream",
     "text": [
      "epoch: 23, valid mean loss=0.024084334908\n",
      "epoch: 24, train mean loss=0.0235125587708\n",
      "epoch: 24, valid mean loss=0.0234951049642\n"
     ]
    },
    {
     "name": "stderr",
     "output_type": "stream",
     "text": [
      "100%|██████████| 263/263 [00:00<00:00, 2005.17it/s]\n",
      "100%|██████████| 263/263 [00:00<00:00, 2013.31it/s]\n"
     ]
    },
    {
     "name": "stdout",
     "output_type": "stream",
     "text": [
      "epoch: 25, train mean loss=0.0229938625085\n",
      "epoch: 25, valid mean loss=0.0229309292496\n",
      "epoch: 26, train mean loss=0.0225012216083\n"
     ]
    },
    {
     "name": "stderr",
     "output_type": "stream",
     "text": [
      "100%|██████████| 263/263 [00:00<00:00, 1636.78it/s]"
     ]
    },
    {
     "name": "stdout",
     "output_type": "stream",
     "text": [
      "epoch: 26, valid mean loss=0.022393051912\n",
      "epoch: 27, train mean loss=0.0220329408506\n"
     ]
    },
    {
     "name": "stderr",
     "output_type": "stream",
     "text": [
      "\n",
      "100%|██████████| 263/263 [00:00<00:00, 1824.26it/s]"
     ]
    },
    {
     "name": "stdout",
     "output_type": "stream",
     "text": [
      "epoch: 27, valid mean loss=0.0218816036695\n",
      "epoch: 28, train mean loss=0.0215878051249\n"
     ]
    },
    {
     "name": "stderr",
     "output_type": "stream",
     "text": [
      "\n",
      "100%|██████████| 263/263 [00:00<00:00, 1936.47it/s]\n",
      "  0%|          | 0/263 [00:00<?, ?it/s]"
     ]
    },
    {
     "name": "stdout",
     "output_type": "stream",
     "text": [
      "epoch: 28, valid mean loss=0.0213956704962\n",
      "epoch: 29, train mean loss=0.021165152245\n",
      "epoch: 29, valid mean loss=0.0209336155023\n"
     ]
    },
    {
     "name": "stderr",
     "output_type": "stream",
     "text": [
      "100%|██████████| 263/263 [00:00<00:00, 1929.41it/s]\n"
     ]
    },
    {
     "name": "stdout",
     "output_type": "stream",
     "text": [
      "epoch: 30, train mean loss=0.0207643364769\n",
      "epoch: 30, valid mean loss=0.0204929866467\n"
     ]
    },
    {
     "data": {
      "image/png": "[encoded data removed]",
      "text/plain": [
       "<matplotlib.figure.Figure at 0x7fde2ebf5f50>"
      ]
     },
     "metadata": {},
     "output_type": "display_data"
    }
   ],
   "source": [
    "import pandas as pd\n",
    "random_state = 1234\n",
    "\n",
    "windowTrain=GetWindowFrame('AccX',Sensor1['AccX'],256,256/8,WindowDataPath)\n",
    "\n",
    "x_train = windowTrain\n",
    "x_valid = windowTrain\n",
    "\n",
    "n_visible = x_train.shape[1]\n",
    "n_hidden = 256\n",
    "rng = np.random.RandomState(random_state)\n",
    "\n",
    "sa = SA(rng, n_visible=n_visible, n_hidden=n_hidden, sparse_reg=1e-3, optimizer=Adam)\n",
    "hist = sa.fit(x_train, x_valid, n_epoch=30)\n",
    "\n",
    "df = pd.DataFrame(hist)\n",
    "df.index += 1\n",
    "df.index.name = \"epoch\"\n",
    "\n",
    "df[[\"loss\", \"val_loss\"]].plot(linewidth=2, alpha=0.6)\n",
    "plt.ylabel(\"loss function value\")\n",
    "plt.title(\"sparse autoencoder example\")\n",
    "plt.show()"
   ]
  },
  {
   "cell_type": "code",
   "execution_count": null,
   "metadata": {
    "collapsed": true
   },
   "outputs": [],
   "source": []
  },
  {
   "cell_type": "code",
   "execution_count": null,
   "metadata": {
    "collapsed": true
   },
   "outputs": [],
   "source": []
  },
  {
   "cell_type": "code",
   "execution_count": null,
   "metadata": {
    "collapsed": true
   },
   "outputs": [],
   "source": []
  }
 ],
 "metadata": {
  "kernelspec": {
   "display_name": "Python 2",
   "language": "python",
   "name": "python2"
  },
  "language_info": {
   "codemirror_mode": {
    "name": "ipython",
    "version": 2
   },
   "file_extension": ".py",
   "mimetype": "text/x-python",
   "name": "python",
   "nbconvert_exporter": "python",
   "pygments_lexer": "ipython2",
   "version": "2.7.11"
  }
 },
 "nbformat": 4,
 "nbformat_minor": 0
}
