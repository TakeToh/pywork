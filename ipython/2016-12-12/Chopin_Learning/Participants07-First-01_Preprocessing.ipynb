{
 "cells": [
  {
   "cell_type": "code",
   "execution_count": 1,
   "metadata": {
    "collapsed": true
   },
   "outputs": [],
   "source": [
    "# 表示用\n",
    "from tqdm import tqdm\n",
    "from tqdm import tnrange, tqdm_notebook"
   ]
  },
  {
   "cell_type": "code",
   "execution_count": 2,
   "metadata": {
    "collapsed": false
   },
   "outputs": [],
   "source": [
    "import numpy as np\n",
    "import datetime\n",
    "import os\n",
    "import copy\n",
    "# Generate WindowFrame Function\n",
    "from mymodule import window\n",
    "import joblib\n",
    "import pandas as pd\n",
    "\n",
    "from tqdm import tqdm_notebook\n",
    "\n",
    "# Parametor about Sensor\n",
    "SensorNum=1 # Sensor number\n",
    "#SensorAxis='AccX' # Axis\n",
    "\n",
    "# Define Data Name\n",
    "DATE= str( datetime.date.today() )+'/'\n",
    "\n",
    "# Parametor about \" Data Path\"\n",
    "StorePath = \"/media/takeyama/Transfer/02_ActivityResearch/\"\n",
    "\n",
    "ParticipantsNum=\"Participants07/\"\n",
    "Version = \"01_First/\"\n",
    "Time = \"01_First/\"\n",
    "CommonName = 'Participants07-First-01'\n",
    "LabelName = CommonName+'.csv'\n",
    "\n",
    "TITLE = ParticipantsNum+Version\n",
    "\n",
    "DataPath = StorePath+ParticipantsNum+Version+\"RawData/\"+Time\n",
    "\n",
    "if not os.path.exists(StorePath+TITLE+'LabelData/'+Time): \n",
    "    os.makedirs(StorePath+TITLE+'LabelData/'+Time)\n",
    "LabelDataPath=StorePath+TITLE+'LabelData/'+Time\n",
    "\n",
    "if not os.path.exists(StorePath+TITLE+'dictionary/'+Time): \n",
    "    os.makedirs(StorePath+TITLE+'dictionary/'+Time)\n",
    "DictionaryDataPath=StorePath+TITLE+'dictionary/'+Time\n",
    "\n",
    "if not os.path.exists(StorePath+TITLE+'feature/'+Time): \n",
    "    os.makedirs(StorePath+TITLE+'feature/'+Time)\n",
    "FeaturePath=StorePath+TITLE+'feature/'+Time\n",
    "\n",
    "if not os.path.exists(StorePath+TITLE+'window/'+Time): \n",
    "    os.makedirs(StorePath+TITLE+'window/'+Time)\n",
    "WindowDataPath=StorePath+TITLE+'window/'+Time\n",
    "\n",
    "if not os.path.exists(StorePath+TITLE+DATE+'studyOutput/'+Time): \n",
    "    os.makedirs(StorePath+TITLE+DATE+'studyOutput/'+Time)\n",
    "StudyOutputPath=StorePath+TITLE+DATE+'studyOutput/'+Time\n",
    "\n",
    "if not os.path.exists(StorePath+TITLE+DATE+'parametor/'+Time): \n",
    "    os.makedirs(StorePath+TITLE+DATE+'parametor/'+Time)\n",
    "ParametorPath=StorePath+TITLE+DATE+'parametor/'+Time\n",
    "\n",
    "if not os.path.exists(StorePath+TITLE+DATE+'result/'+Time): \n",
    "    os.makedirs(StorePath+TITLE+DATE+'result/'+Time)\n",
    "ResultPath=StorePath+TITLE+DATE+'result/'+Time\n",
    "\n",
    "if not os.path.exists(StorePath+TITLE+DATE+'graph/'+Time): \n",
    "    os.makedirs(StorePath+TITLE+DATE+'graph/'+Time)\n",
    "GraphPath=StorePath+TITLE+DATE+'graph/'+Time"
   ]
  },
  {
   "cell_type": "markdown",
   "metadata": {},
   "source": [
    "# 1 making Sensor_Data_Array.npz"
   ]
  },
  {
   "cell_type": "code",
   "execution_count": 3,
   "metadata": {
    "collapsed": true
   },
   "outputs": [],
   "source": [
    "# センサデータの読み込み\n",
    "# センサデータのcsvファイル名をリストに集約する関数\n",
    "def SensorDataFileNameList(path):\n",
    "    l = os.listdir(DataPath)\n",
    "    FilePath =[]\n",
    "    SensorName = []\n",
    "    \n",
    "    for n in range(len(l)):\n",
    "        if (l[n][:4].find('mem-') != -1):\n",
    "            FilePath.append(l[n])\n",
    "            SensorName.append(l[n][4:15])\n",
    "    \n",
    "    return FilePath,SensorName"
   ]
  },
  {
   "cell_type": "code",
   "execution_count": 4,
   "metadata": {
    "collapsed": true
   },
   "outputs": [],
   "source": [
    "# CSVを読み込んで，CSVの中身を辞書型で表現する．\n",
    "def ImportCSV(csv_file,SensorName,mode='Round'):\n",
    "    import pandas as pd\n",
    "    '''\n",
    "    ~Argument~\n",
    "    csv_file -> ファイル名 \n",
    "    mode Round -> 四捨五入\n",
    "         Roundup -> 切り上げ\n",
    "         Rounddown -> 切り捨て\n",
    "    \n",
    "    ~Conversion~\n",
    "    Acc Data  [0.1mG]=>[G]\n",
    "    Gyr Data  [0.01dps]=>[dps]   ...dps=degree per second\n",
    "    '''\n",
    "    # data dictionary \n",
    "    RawData={}   \n",
    "    AccConversion = 0.1 * 0.001\n",
    "    GyrConversion = 0.01\n",
    "    \n",
    "    # design dataframe and import csv\n",
    "    data = pd.read_csv(csv_file)\n",
    "    data.columns=[u'Type',u'Time',u'AccX',u'AccY',u'AccZ',u'GyrX',u'GyrY',u'GyrZ']\n",
    "    data = data[ data['Type']=='ags']\n",
    "\n",
    "    # convert numpy.darray \n",
    "\n",
    "    AccX=data.AccX.values*AccConversion\n",
    "    AccY=data.AccY.values*AccConversion\n",
    "    AccZ=data.AccZ.values*AccConversion\n",
    "    \n",
    "    GyrX=data.GyrX.values*GyrConversion\n",
    "    GyrY=data.GyrY.values*GyrConversion\n",
    "    GyrZ=data.GyrZ.values*GyrConversion\n",
    "\n",
    "    # regist each raw data \n",
    "    RawData['AccX'] = AccX\n",
    "    RawData['AccY'] = AccY\n",
    "    RawData['AccZ'] = AccZ\n",
    "    RawData['GyrX'] = GyrX\n",
    "    RawData['GyrY'] = GyrY\n",
    "    RawData['GyrZ'] = GyrZ\n",
    "    RawData['Name'] = SensorName\n",
    "\n",
    "    RawData['Time'] = data.Time.values\n",
    "    return RawData"
   ]
  },
  {
   "cell_type": "markdown",
   "metadata": {},
   "source": [
    "Making sensor data and store the data"
   ]
  },
  {
   "cell_type": "code",
   "execution_count": 5,
   "metadata": {
    "collapsed": false
   },
   "outputs": [],
   "source": [
    "Label = ['01_LeftHand','02_RightHand','03_LeftLeg','04_Rightleg','05_West','06_Chest']\n",
    "\n",
    "DataFileNameList,SensorName=SensorDataFileNameList(DataPath)\n",
    "l=[]\n",
    "for i in range( len(DataFileNameList) ):\n",
    "    l.append( ImportCSV(DataPath+DataFileNameList[i],Label[i]) )"
   ]
  },
  {
   "cell_type": "markdown",
   "metadata": {},
   "source": [
    "Sync the data's start and goal time to each other sensor data"
   ]
  },
  {
   "cell_type": "code",
   "execution_count": 6,
   "metadata": {
    "collapsed": true
   },
   "outputs": [],
   "source": [
    "def MakeCommonSection(inputDataArray):\n",
    "    # 共通区間のスタート時間、ゴール時間を求める\n",
    "    # スタート時間を求める\n",
    "    startTime = min(inputDataArray[0]['Time'])\n",
    "    \n",
    "    for i in range(len(inputDataArray)):\n",
    "        if startTime < min(inputDataArray[i]['Time']):\n",
    "            startTime = min(inputDataArray[i]['Time'])\n",
    "    \n",
    "    # ゴール時間を求める\n",
    "    goalTime = max(inputDataArray[0]['Time'])\n",
    "    \n",
    "    for i in range(len(inputDataArray)):\n",
    "        if goalTime > max(inputDataArray[i]['Time']):\n",
    "            goalTime = max(inputDataArray[i]['Time'])\n",
    "\n",
    "    # 共通区間のスタート時間のインデックス、ゴール時間のインデックスを探索する\n",
    "    def CalcSearchIndexFromTime(data, keyTime):\n",
    "        \"\"\"\n",
    "        data　辞書型\n",
    "        keyTime data['Time']の中の探す値\n",
    "        \"\"\"\n",
    "        count = 0\n",
    "        for i in range(0, len(data['Time'])):\n",
    "            if keyTime == data['Time'][i]:\n",
    "                print str(keyTime)+' is much in the index  whose number is '+str(i)\n",
    "                return i\n",
    "            \n",
    "    startIndex = np.array([])\n",
    "    goalIndex = np.array([])\n",
    "    for obj in inputDataArray:\n",
    "        print 'start'\n",
    "        startIndex = np.append(startIndex, CalcSearchIndexFromTime(obj, startTime) ).astype(int)\n",
    "        print 'goal'\n",
    "        goalIndex = np.append(goalIndex, CalcSearchIndexFromTime(obj, goalTime) ).astype(int)\n",
    "\n",
    "    tmp={}\n",
    "    comDataArray =[]\n",
    "    key={}\n",
    "\n",
    "    # センサデータすべて（時刻、加速度、角速度）に対して共通区間のみのデータを抽出\n",
    "    for number,iDA in enumerate( inputDataArray ):\n",
    "\n",
    "        tmp['AccX'] = copy.deepcopy( iDA['AccX'][startIndex[number]:goalIndex[number]] )\n",
    "        tmp['AccY'] = copy.deepcopy( iDA['AccY'][startIndex[number]:goalIndex[number]] )\n",
    "        tmp['AccZ'] = copy.deepcopy( iDA['AccZ'][startIndex[number]:goalIndex[number]] )\n",
    "        tmp['GyrX'] = copy.deepcopy( iDA['GyrX'][startIndex[number]:goalIndex[number]] )\n",
    "        tmp['GyrY'] = copy.deepcopy( iDA['GyrY'][startIndex[number]:goalIndex[number]] )\n",
    "        tmp['GyrZ'] = copy.deepcopy( iDA['GyrZ'][startIndex[number]:goalIndex[number]] )\n",
    "        tmp['Time'] = copy.deepcopy( iDA['Time'][startIndex[number]:goalIndex[number]] )\n",
    "        tmp['Name'] = copy.deepcopy( iDA['Name'] )\n",
    "        comDataArray.append(copy.deepcopy(tmp) )    \n",
    "        key[ tmp['Name'] ] = number\n",
    "       \n",
    "    return key,comDataArray"
   ]
  },
  {
   "cell_type": "code",
   "execution_count": 7,
   "metadata": {
    "collapsed": false
   },
   "outputs": [
    {
     "name": "stdout",
     "output_type": "stream",
     "text": [
      "start\n",
      "47101062 is much in the index  whose number is 77\n",
      "goal\n",
      "47927899 is much in the index  whose number is 826914\n",
      "start\n",
      "47101062 is much in the index  whose number is 39\n",
      "goal\n",
      "47927899 is much in the index  whose number is 826876\n",
      "start\n",
      "47101062 is much in the index  whose number is 0\n",
      "goal\n",
      "47927899 is much in the index  whose number is 826837\n",
      "start\n",
      "47101062 is much in the index  whose number is 954\n",
      "goal\n",
      "47927899 is much in the index  whose number is 827791\n",
      "start\n",
      "47101062 is much in the index  whose number is 899\n",
      "goal\n",
      "47927899 is much in the index  whose number is 827736\n",
      "start\n",
      "47101062 is much in the index  whose number is 878\n",
      "goal\n",
      "47927899 is much in the index  whose number is 827715\n"
     ]
    }
   ],
   "source": [
    "TrimKey,TrimData = MakeCommonSection(l)"
   ]
  },
  {
   "cell_type": "markdown",
   "metadata": {},
   "source": [
    "store the data by using np.savez and change sensordata.csv to sensordata.npz"
   ]
  },
  {
   "cell_type": "code",
   "execution_count": 8,
   "metadata": {
    "collapsed": true
   },
   "outputs": [],
   "source": [
    "for i in range(6):\n",
    "    np.savez(DictionaryDataPath+TrimData[i]['Name'],data=TrimData[i])"
   ]
  },
  {
   "cell_type": "markdown",
   "metadata": {},
   "source": [
    "# 2 Making WindowFrame by using often used parameter"
   ]
  },
  {
   "cell_type": "code",
   "execution_count": 9,
   "metadata": {
    "collapsed": true
   },
   "outputs": [],
   "source": [
    "def GetWindowFrame(windowName, dataRaw, wWidth, sWidth, PATH):\n",
    "    \"\"\"\n",
    "    data　ウィンドウフレームに変換するデータ\n",
    "    registName　ウィンドウフレームに登録するデータの名前\n",
    "    windowWidth　ウィンドウ幅\n",
    "    slidingWidth　スライド幅\n",
    "    PATH ウィドウフレームを保存するディレクトリ\n",
    "    \n",
    "    \n",
    "    About Function:\n",
    "        与えられたdataからウィンドウ幅windowWidth,スライド幅slidingWidthにしたがって\n",
    "        registNameのウィドウフレームを返す．\n",
    "        また，与えれたPATH内に同様なパラメータ( WindowWidth, slidingWidth)かつ同様な\n",
    "        windowNameのものがある場合，そのデータを返す．\n",
    "        この関数が登録，ウィンドウフレームに変換できるデータは１つとする\n",
    "    \"\"\"\n",
    "    storedName = windowName+'_Win='+str(wWidth).zfill(4)+'_Sld='+str(sWidth).zfill(4)+'.npz'\n",
    "    l = os.listdir(PATH)\n",
    "    \n",
    "    if storedName in l:\n",
    "        print \"this data had finished making\"\n",
    "        return np.load(PATH+storedName)['data'][()]\n",
    "    \n",
    "    w=window()\n",
    "    w.SetData(windowName,dataRaw)    \n",
    "    wind=w.Compile(wWidth,sWidth)\n",
    "    windoW=wind.reshape((len(wind),np.prod(wind.shape[1:])))\n",
    "    \n",
    "    np.savez(PATH+storedName+'.npz',data=wind)\n",
    "\n",
    "    return wind"
   ]
  },
  {
   "cell_type": "code",
   "execution_count": 10,
   "metadata": {
    "collapsed": false
   },
   "outputs": [
    {
     "name": "stdout",
     "output_type": "stream",
     "text": [
      "['01_LeftHand.npz', '02_RightHand.npz', '03_LeftLeg.npz', '04_Rightleg.npz', '05_West.npz', '06_Chest.npz', '07_LabelData.npz']\n"
     ]
    }
   ],
   "source": [
    "DictName=os.listdir(DictionaryDataPath)\n",
    "print DictName\n",
    "Sensor5 = np.load(DictionaryDataPath+DictName[0])['data'][()]\n",
    "Sensor1 = np.load(DictionaryDataPath+DictName[1])['data'][()]\n",
    "Sensor3 = np.load(DictionaryDataPath+DictName[2])['data'][()]\n",
    "Sensor2 = np.load(DictionaryDataPath+DictName[3])['data'][()]\n",
    "Sensor4 = np.load(DictionaryDataPath+DictName[4])['data'][()]\n",
    "Sensor6 = np.load(DictionaryDataPath+DictName[5])['data'][()]"
   ]
  },
  {
   "cell_type": "code",
   "execution_count": 11,
   "metadata": {
    "collapsed": false,
    "scrolled": true
   },
   "outputs": [
    {
     "name": "stdout",
     "output_type": "stream",
     "text": [
      "Participants07-First-01-Sensor1-AccX is registed now\n",
      "Build Complete\n",
      "Source shape is(826837, 1)\n",
      "window frames num =25831\n",
      "offset=21\n",
      "(25831, 256, 1)\n",
      "Participants07-First-01-Sensor1-AccY is registed now\n",
      "Build Complete\n",
      "Source shape is(826837, 1)\n",
      "window frames num =25831\n",
      "offset=21\n",
      "(25831, 256, 1)\n",
      "Participants07-First-01-Sensor1-AccZ is registed now\n",
      "Build Complete\n",
      "Source shape is(826837, 1)\n",
      "window frames num =25831\n",
      "offset=21\n",
      "(25831, 256, 1)\n",
      "Participants07-First-01-Sensor2-AccX is registed now\n",
      "Build Complete\n",
      "Source shape is(826837, 1)\n",
      "window frames num =25831\n",
      "offset=21\n",
      "(25831, 256, 1)\n",
      "Participants07-First-01-Sensor2-AccY is registed now\n",
      "Build Complete\n",
      "Source shape is(826837, 1)\n",
      "window frames num =25831\n",
      "offset=21\n",
      "(25831, 256, 1)\n",
      "Participants07-First-01-Sensor2-AccZ is registed now\n",
      "Build Complete\n",
      "Source shape is(826837, 1)\n",
      "window frames num =25831\n",
      "offset=21\n",
      "(25831, 256, 1)\n",
      "Participants07-First-01-Sensor3-AccX is registed now\n",
      "Build Complete\n",
      "Source shape is(826837, 1)\n",
      "window frames num =25831\n",
      "offset=21\n",
      "(25831, 256, 1)\n",
      "Participants07-First-01-Sensor3-AccY is registed now\n",
      "Build Complete\n",
      "Source shape is(826837, 1)\n",
      "window frames num =25831\n",
      "offset=21\n",
      "(25831, 256, 1)\n",
      "Participants07-First-01-Sensor3-AccZ is registed now\n",
      "Build Complete\n",
      "Source shape is(826837, 1)\n",
      "window frames num =25831\n",
      "offset=21\n",
      "(25831, 256, 1)\n",
      "Participants07-First-01-Sensor4-AccX is registed now\n",
      "Build Complete\n",
      "Source shape is(826837, 1)\n",
      "window frames num =25831\n",
      "offset=21\n",
      "(25831, 256, 1)\n",
      "Participants07-First-01-Sensor4-AccY is registed now\n",
      "Build Complete\n",
      "Source shape is(826837, 1)\n",
      "window frames num =25831\n",
      "offset=21\n",
      "(25831, 256, 1)\n",
      "Participants07-First-01-Sensor4-AccZ is registed now\n",
      "Build Complete\n",
      "Source shape is(826837, 1)\n",
      "window frames num =25831\n",
      "offset=21\n",
      "(25831, 256, 1)\n",
      "Participants07-First-01-Sensor5-AccX is registed now\n",
      "Build Complete\n",
      "Source shape is(826837, 1)\n",
      "window frames num =25831\n",
      "offset=21\n",
      "(25831, 256, 1)\n",
      "Participants07-First-01-Sensor5-AccY is registed now\n",
      "Build Complete\n",
      "Source shape is(826837, 1)\n",
      "window frames num =25831\n",
      "offset=21\n",
      "(25831, 256, 1)\n",
      "Participants07-First-01-Sensor5-AccZ is registed now\n",
      "Build Complete\n",
      "Source shape is(826837, 1)\n",
      "window frames num =25831\n",
      "offset=21\n",
      "(25831, 256, 1)\n",
      "Participants07-First-01-Sensor6-AccX is registed now\n",
      "Build Complete\n",
      "Source shape is(826837, 1)\n",
      "window frames num =25831\n",
      "offset=21\n",
      "(25831, 256, 1)\n",
      "Participants07-First-01-Sensor6-AccY is registed now\n",
      "Build Complete\n",
      "Source shape is(826837, 1)\n",
      "window frames num =25831\n",
      "offset=21\n",
      "(25831, 256, 1)\n",
      "Participants07-First-01-Sensor6-AccZ is registed now\n",
      "Build Complete\n",
      "Source shape is(826837, 1)\n",
      "window frames num =25831\n",
      "offset=21\n",
      "(25831, 256, 1)\n"
     ]
    }
   ],
   "source": [
    "arrayData = [Sensor1,Sensor2,Sensor3,Sensor4,Sensor5,Sensor6]\n",
    "arrayDataName =['Sensor1','Sensor2','Sensor3','Sensor4','Sensor5','Sensor6']\n",
    "\n",
    "for ad,adn in zip(arrayData,arrayDataName):\n",
    "    for axis in ['AccX','AccY','AccZ']:\n",
    "        FileName = 'Participants07-First-01-'+adn+'-'+axis\n",
    "        GetWindowFrame(FileName,ad[axis],256,32,WindowDataPath)"
   ]
  },
  {
   "cell_type": "markdown",
   "metadata": {
    "collapsed": true
   },
   "source": [
    "# Making WindowFrame from Label Data"
   ]
  },
  {
   "cell_type": "code",
   "execution_count": 12,
   "metadata": {
    "collapsed": true
   },
   "outputs": [],
   "source": [
    "def MakeWindowFrameLabel(LabelData1d, wWidth, sWidth):\n",
    "    w=window()\n",
    "    w.SetData('DataAddingLabel', LabelData1d)    \n",
    "    wind=w.Compile(wWidth, sWidth)\n",
    "    windoW=wind.reshape((len(wind),np.prod(wind.shape[1:])))\n",
    "\n",
    "    LabelArray=np.array([np.unique(windoW[l,:])[\n",
    "            np.argmax(np.array([len( np.where(windoW[l]==np.unique(windoW[l])[i])[0])for i in range(np.unique(windoW[l]).size)]))]\n",
    "             for l in range(windoW.shape[0])\n",
    "    ])\n",
    "    return LabelArray"
   ]
  },
  {
   "cell_type": "code",
   "execution_count": 13,
   "metadata": {
    "collapsed": true
   },
   "outputs": [],
   "source": [
    "def MakeTimeDomainLabelData(DataName,StartTime,GoalTime):\n",
    "    # import LabelData -> pandas\n",
    "    LabelDf = pd.read_csv(DataName,encoding='Shift-JIS')\n",
    "    LabelData = LabelDf.as_matrix() #pandas -> ndarray\n",
    "    \n",
    "    # timedata hh.mm.ss -> ms\n",
    "    TimeArray = pd.to_datetime( LabelDf['#Time'].values ) \n",
    "    t = np.array([ TimeArray[i].hour*3600*1000+TimeArray[i].minute*60*1000+TimeArray[i].second*1000+TimeArray[i].microsecond*0.001\n",
    "                 for i in range( len(TimeArray) )]).astype(int)\n",
    "    \n",
    "    LabelData[:,0] = t.astype(int) #time data: unicode -> int\n",
    "    # Time Series\n",
    "    LabelArray = np.array([\n",
    "        np.append( np.array(LabelData[i,0]+l) , LabelData[i,1:])\n",
    "        for i in range(LabelData.shape[0]-1) \n",
    "        for l in range(LabelData[i+1,0]-LabelData[i,0])\n",
    "    ])\n",
    "    \n",
    "    StartLabelArray = np.array([\n",
    "        np.append( StartTime+i, LabelArray[0,1:])\n",
    "        for i in range(LabelArray[0,0]-StartTime)\n",
    "    ])\n",
    "    \n",
    "    GoalLabelArray = np.array([\n",
    "        np.append( GoalTime+i, LabelArray[-1,1:])\n",
    "        for i in range(1,1+GoalTime-LabelArray[-1,0])\n",
    "    ])\n",
    "    \n",
    "    LabelArrayComp = np.vstack((StartLabelArray, LabelArray))\n",
    "    LabelArrayComp = np.vstack((LabelArrayComp, GoalLabelArray))\n",
    "    df = pd.DataFrame(LabelArrayComp)\n",
    "    df.columns = LabelDf.columns\n",
    "    \n",
    "    return df.to_dict()"
   ]
  },
  {
   "cell_type": "code",
   "execution_count": 14,
   "metadata": {
    "collapsed": false
   },
   "outputs": [
    {
     "name": "stdout",
     "output_type": "stream",
     "text": [
      "['01_LeftHand.npz', '02_RightHand.npz', '03_LeftLeg.npz', '04_Rightleg.npz', '05_West.npz', '06_Chest.npz', '07_LabelData.npz']\n"
     ]
    }
   ],
   "source": [
    "DictName = os.listdir(DictionaryDataPath)\n",
    "print DictName\n",
    "Sensor5 = np.load(DictionaryDataPath+DictName[0])['data'][()]\n",
    "Sensor1 = np.load(DictionaryDataPath+DictName[1])['data'][()]\n",
    "Sensor3 = np.load(DictionaryDataPath+DictName[2])['data'][()]\n",
    "Sensor2 = np.load(DictionaryDataPath+DictName[3])['data'][()]\n",
    "Sensor4 = np.load(DictionaryDataPath+DictName[4])['data'][()]\n",
    "Sensor6 = np.load(DictionaryDataPath+DictName[5])['data'][()]\n",
    "\n",
    "StartTime = Sensor1['Time'][0]\n",
    "GoalTime = Sensor1['Time'][-1]"
   ]
  },
  {
   "cell_type": "code",
   "execution_count": 17,
   "metadata": {
    "collapsed": false
   },
   "outputs": [],
   "source": [
    "dictLabel=MakeTimeDomainLabelData(LabelDataPath+LabelName,StartTime,GoalTime)\n",
    "np.savez(DictionaryDataPath+'07_LabelData',data=dictLabel)"
   ]
  },
  {
   "cell_type": "code",
   "execution_count": null,
   "metadata": {
    "collapsed": true
   },
   "outputs": [],
   "source": []
  },
  {
   "cell_type": "code",
   "execution_count": null,
   "metadata": {
    "collapsed": true
   },
   "outputs": [],
   "source": []
  },
  {
   "cell_type": "code",
   "execution_count": null,
   "metadata": {
    "collapsed": true
   },
   "outputs": [],
   "source": []
  }
 ],
 "metadata": {
  "kernelspec": {
   "display_name": "Python 2",
   "language": "python",
   "name": "python2"
  },
  "language_info": {
   "codemirror_mode": {
    "name": "ipython",
    "version": 2
   },
   "file_extension": ".py",
   "mimetype": "text/x-python",
   "name": "python",
   "nbconvert_exporter": "python",
   "pygments_lexer": "ipython2",
   "version": "2.7.11"
  }
 },
 "nbformat": 4,
 "nbformat_minor": 1
}
