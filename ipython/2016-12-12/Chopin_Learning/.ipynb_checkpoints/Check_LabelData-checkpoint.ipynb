{
 "cells": [
  {
   "cell_type": "markdown",
   "metadata": {},
   "source": [
    "ここに学習で必要なパラメータを定義する"
   ]
  },
  {
   "cell_type": "code",
   "execution_count": 1,
   "metadata": {
    "collapsed": false
   },
   "outputs": [],
   "source": [
    "# 表示用\n",
    "from tqdm import tqdm\n",
    "from tqdm import tnrange, tqdm_notebook"
   ]
  },
  {
   "cell_type": "code",
   "execution_count": 2,
   "metadata": {
    "collapsed": false
   },
   "outputs": [],
   "source": [
    "import numpy as np\n",
    "import datetime\n",
    "import os\n",
    "import copy\n",
    "\n",
    "# Parametor about Sensor\n",
    "SensorNum=1 # Sensor number\n",
    "#SensorAxis='AccX' # Axis\n",
    "\n",
    "# Define Data Name\n",
    "DATE= str( datetime.date.today() )+'/'\n",
    "TITLE=\"Participants01_First_1/\"\n",
    "Label = ['LeftHand','RightHand','LeftLeg','Rightleg','West','Chest']\n",
    "\n",
    "# Parametor about \" Data Path\"\n",
    "DataPath = \"/media/takeyama/Transfer/02_ActivityResearch/Paticipants01/01_First/20161018-105301/mem/\"\n",
    "StorePath = \"/media/takeyama/Transfer/02_ActivityResearch/\"\n",
    "\n",
    "if not os.path.exists(StorePath+TITLE+'dictionary/'): \n",
    "    os.makedirs(StorePath+TITLE+'dictionary/')\n",
    "DictionaryDataPath=StorePath+TITLE+'dictionary/'\n",
    "\n",
    "if not os.path.exists(StorePath+TITLE+'window/'): \n",
    "    os.makedirs(StorePath+TITLE+'window/')\n",
    "WindowDataPath=StorePath+TITLE+'window/'\n",
    "\n",
    "if not os.path.exists(StorePath+TITLE+DATE+'studyOutput/'): \n",
    "    os.makedirs(StorePath+TITLE+DATE+'studyOutput/')\n",
    "StudyOutputPath=StorePath+TITLE+DATE+'studyOutput/'\n",
    "\n",
    "if not os.path.exists(StorePath+TITLE+DATE+'parametor/'): \n",
    "    os.makedirs(StorePath+TITLE+DATE+'parametor/')\n",
    "ParametorPath=StorePath+TITLE+DATE+'parametor/'\n",
    "\n",
    "if not os.path.exists(StorePath+TITLE+DATE+'result/'): \n",
    "    os.makedirs(StorePath+TITLE+DATE+'result/')\n",
    "ResultPath=StorePath+TITLE+DATE+'result/'\n",
    "\n",
    "if not os.path.exists(StorePath+TITLE+DATE+'graph/'): \n",
    "    os.makedirs(StorePath+TITLE+DATE+'graph/')\n",
    "GraphPath=StorePath+TITLE+DATE+'graph/'"
   ]
  },
  {
   "cell_type": "markdown",
   "metadata": {},
   "source": [
    "**センサデータの読み込み**"
   ]
  },
  {
   "cell_type": "code",
   "execution_count": 3,
   "metadata": {
    "collapsed": false
   },
   "outputs": [],
   "source": [
    "# センサデータのcsvファイル名をリストに集約する関数\n",
    "def SensorDataFileNameList(path):\n",
    "    l = os.listdir(DataPath)\n",
    "    FilePath =[]\n",
    "    SensorName = []\n",
    "    \n",
    "    for n in range(len(l)):\n",
    "        if (l[n][:4].find('mem-') != -1):\n",
    "            FilePath.append(l[n])\n",
    "            SensorName.append(l[n][4:15])\n",
    "    \n",
    "    return FilePath,SensorName"
   ]
  },
  {
   "cell_type": "markdown",
   "metadata": {},
   "source": [
    "CSVを読み込んで，CSVの中身を辞書型で表現する．"
   ]
  },
  {
   "cell_type": "code",
   "execution_count": 4,
   "metadata": {
    "collapsed": true
   },
   "outputs": [],
   "source": [
    "def ImportCSV(csv_file,SensorName,mode='Round'):\n",
    "    import pandas as pd\n",
    "    '''\n",
    "    ~Argument~\n",
    "    csv_file -> ファイル名 \n",
    "    mode Round -> 四捨五入\n",
    "         Roundup -> 切り上げ\n",
    "         Rounddown -> 切り捨て\n",
    "    \n",
    "    ~Conversion~\n",
    "    Acc Data  [0.1mG]=>[G]\n",
    "    Gyr Data  [0.01dps]=>[dps]   ...dps=degree per second\n",
    "    '''\n",
    "    # data dictionary \n",
    "    RawData={}   \n",
    "    AccConversion = 0.1 * 0.001\n",
    "    GyrConversion = 0.01\n",
    "    \n",
    "    # design dataframe and import csv\n",
    "    data = pd.read_csv(csv_file)\n",
    "    data.columns=[u'Type',u'Time',u'AccX',u'AccY',u'AccZ',u'GyrX',u'GyrY',u'GyrZ']\n",
    "    data = data[ data['Type']=='ags']\n",
    "\n",
    "    # convert numpy.darray \n",
    "\n",
    "    AccX=data.AccX.values*AccConversion\n",
    "    AccY=data.AccY.values*AccConversion\n",
    "    AccZ=data.AccZ.values*AccConversion\n",
    "    \n",
    "    GyrX=data.GyrX.values*GyrConversion\n",
    "    GyrY=data.GyrY.values*GyrConversion\n",
    "    GyrZ=data.GyrZ.values*GyrConversion\n",
    "\n",
    "    # regist each raw data \n",
    "    RawData['AccX'] = AccX\n",
    "    RawData['AccY'] = AccY\n",
    "    RawData['AccZ'] = AccZ\n",
    "    RawData['GyrX'] = GyrX\n",
    "    RawData['GyrY'] = GyrY\n",
    "    RawData['GyrZ'] = GyrZ\n",
    "    RawData['Name'] = SensorName\n",
    "\n",
    "    RawData['Time'] = data.Time.values\n",
    "\n",
    "    return RawData"
   ]
  },
  {
   "cell_type": "markdown",
   "metadata": {},
   "source": [
    "**出力チェック**"
   ]
  },
  {
   "cell_type": "markdown",
   "metadata": {},
   "source": [
    "読み込んだセンサデータの時系列を整理する．\n",
    "→具体的には，センサデータのスタート時間とゴール時間を整える．\n"
   ]
  },
  {
   "cell_type": "code",
   "execution_count": 5,
   "metadata": {
    "collapsed": true
   },
   "outputs": [],
   "source": [
    "def MakeCommonSection(inputDataArray):\n",
    "    # 共通区間のスタート時間、ゴール時間を求める\n",
    "    # スタート時間を求める\n",
    "    startTime = min(inputDataArray[0]['Time'])\n",
    "    \n",
    "    for i in range(len(inputDataArray)):\n",
    "        if startTime < min(inputDataArray[i]['Time']):\n",
    "            startTime = min(inputDataArray[i]['Time'])\n",
    "    \n",
    "    # ゴール時間を求める\n",
    "    goalTime = max(inputDataArray[0]['Time'])\n",
    "    \n",
    "    for i in range(len(inputDataArray)):\n",
    "        if goalTime > max(inputDataArray[i]['Time']):\n",
    "            goalTime = max(inputDataArray[i]['Time'])\n",
    "\n",
    "    # 共通区間のスタート時間のインデックス、ゴール時間のインデックスを探索する\n",
    "    def CalcSearchIndexFromTime(data, keyTime):\n",
    "        \"\"\"\n",
    "        data　辞書型\n",
    "        keyTime data['Time']の中の探す値\n",
    "        \"\"\"\n",
    "        count = 0\n",
    "        for i in range(0, len(data['Time'])):\n",
    "            if keyTime == data['Time'][i]:\n",
    "                print str(keyTime)+' is much in the index  whose number is '+str(i)\n",
    "                return i\n",
    "            \n",
    "    startIndex = np.array([])\n",
    "    goalIndex = np.array([])\n",
    "    for obj in inputDataArray:\n",
    "        print 'start'\n",
    "        startIndex = np.append(startIndex, CalcSearchIndexFromTime(obj, startTime) ).astype(int)\n",
    "        print 'goal'\n",
    "        goalIndex = np.append(goalIndex, CalcSearchIndexFromTime(obj, goalTime) ).astype(int)\n",
    "\n",
    "    tmp={}\n",
    "    comDataArray =[]\n",
    "    key={}\n",
    "\n",
    "    # センサデータすべて（時刻、加速度、角速度）に対して共通区間のみのデータを抽出\n",
    "    for number,iDA in enumerate( inputDataArray ):\n",
    "\n",
    "        tmp['AccX'] = copy.deepcopy( iDA['AccX'][startIndex[number]:goalIndex[number]] )\n",
    "        tmp['AccY'] = copy.deepcopy( iDA['AccY'][startIndex[number]:goalIndex[number]] )\n",
    "        tmp['AccZ'] = copy.deepcopy( iDA['AccZ'][startIndex[number]:goalIndex[number]] )\n",
    "        tmp['GyrX'] = copy.deepcopy( iDA['GyrX'][startIndex[number]:goalIndex[number]] )\n",
    "        tmp['GyrY'] = copy.deepcopy( iDA['GyrY'][startIndex[number]:goalIndex[number]] )\n",
    "        tmp['GyrZ'] = copy.deepcopy( iDA['GyrZ'][startIndex[number]:goalIndex[number]] )\n",
    "        tmp['Time'] = copy.deepcopy( iDA['Time'][startIndex[number]:goalIndex[number]] )\n",
    "        tmp['Name'] = copy.deepcopy( iDA['Name'] )\n",
    "        comDataArray.append(copy.deepcopy(tmp) )    \n",
    "        key[ tmp['Name'] ] = number\n",
    "       \n",
    "    return key,comDataArray"
   ]
  },
  {
   "cell_type": "markdown",
   "metadata": {},
   "source": [
    "辞書型に変換したデータをnp.savez関数でnpz型に圧縮し，保存する"
   ]
  },
  {
   "cell_type": "markdown",
   "metadata": {},
   "source": [
    "ライブラリをimportする"
   ]
  },
  {
   "cell_type": "code",
   "execution_count": 6,
   "metadata": {
    "collapsed": false
   },
   "outputs": [],
   "source": [
    "# FFT library\n",
    "from scipy import fftpack\n",
    "from scipy import signal\n",
    "\n",
    "# Graph Plot\n",
    "import matplotlib.pyplot as plt\n",
    "\n",
    "# Generate WindowFrame Function\n",
    "from mymodule import window\n",
    "\n",
    "# timer\n",
    "import time\n",
    "\n",
    "# pandas \n",
    "import pandas as pd\n",
    "\n",
    "%matplotlib inline"
   ]
  },
  {
   "cell_type": "code",
   "execution_count": 7,
   "metadata": {
    "collapsed": false
   },
   "outputs": [
    {
     "name": "stderr",
     "output_type": "stream",
     "text": [
      "Using Theano backend.\n",
      "Using gpu device 0: GeForce GTX 1080 (CNMeM is disabled, cuDNN 5005)\n"
     ]
    }
   ],
   "source": [
    "from keras.models import Sequential\n",
    "from keras.datasets import cifar10\n",
    "from keras.layers import Dense, Activation, Flatten\n",
    "from keras.optimizers import SGD, Adadelta, Adagrad, Adam, Adamax, RMSprop, Nadam\n",
    "from keras.utils import np_utils\n",
    "from keras.layers.convolutional import Convolution2D, MaxPooling2D\n",
    "from keras.utils.visualize_util import model_to_dot, plot\n",
    "from keras import backend as K\n",
    "from keras.layers import Input, Dense\n",
    "from keras.models import Model\n",
    "from keras.callbacks import EarlyStopping\n",
    "\n",
    "import matplotlib.image as mpimg\n"
   ]
  },
  {
   "cell_type": "markdown",
   "metadata": {},
   "source": [
    "**Phase1 計測データの取得**\n",
    "\n",
    "ここで行うことは，学習に用いるnpzファイルを読み込む"
   ]
  },
  {
   "cell_type": "code",
   "execution_count": 8,
   "metadata": {
    "collapsed": false
   },
   "outputs": [
    {
     "name": "stdout",
     "output_type": "stream",
     "text": [
      "['Chest.npz', 'LeftHand.npz', 'LeftLeg.npz', 'RightHand.npz', 'Rightleg.npz', 'West.npz']\n"
     ]
    }
   ],
   "source": [
    "l = os.listdir(DictionaryDataPath)\n",
    "print l"
   ]
  },
  {
   "cell_type": "code",
   "execution_count": 9,
   "metadata": {
    "collapsed": false
   },
   "outputs": [],
   "source": [
    "def LoadDataFromNPZ(Path,DataName):\n",
    "    \"\"\"\n",
    "    Path 　　NPZファイルがあるパス\n",
    "    DataName 名前，ここでは装着した部位を指す\n",
    "    \"\"\"\n",
    "    Label = ['LeftHand','RightHand','LeftLeg','RightLeg','West','Chest']\n",
    "    \n",
    "    # check which DataName is wrong\n",
    "    if not DataName in Label: return -1\n",
    "    \n",
    "    for i in range( len(Label) ):\n",
    "        if DataName == Label[i]:\n",
    "            return np.load(Path+DataName+'.npz')['data'][()]"
   ]
  },
  {
   "cell_type": "code",
   "execution_count": 10,
   "metadata": {
    "collapsed": false
   },
   "outputs": [
    {
     "name": "stdout",
     "output_type": "stream",
     "text": [
      "spa.csv  spa.spa.old      spa_First_2+Time.csv  spa_first.csv  splef2.spe\r\n",
      "spa.spa  spa_First_1.csv  spa_First_2.csv       splef.spe      splef3.spe\r\n"
     ]
    }
   ],
   "source": [
    "ls /media/takeyama/Transfer/02_ActivityResearch/RawData/Participants01/01_First/20161018-first-syncplay/"
   ]
  },
  {
   "cell_type": "code",
   "execution_count": 11,
   "metadata": {
    "collapsed": false
   },
   "outputs": [],
   "source": [
    "# design dataframe and import csv\n",
    "LabelPath = \"/media/takeyama/Transfer/02_ActivityResearch/RawData/Participants01/01_First/20161018-first-syncplay/\"\n",
    "\n",
    "data = pd.read_csv(LabelPath+'spa_First_2.csv',encoding='Shift_JIS')"
   ]
  },
  {
   "cell_type": "code",
   "execution_count": 12,
   "metadata": {
    "collapsed": false
   },
   "outputs": [],
   "source": [
    "TimeArray = pd.to_datetime( data['#Time'].values )\n",
    "\n",
    "t = np.array([ TimeArray[i].hour*3600*1000+TimeArray[i].minute*60*1000+TimeArray[i].second*1000+TimeArray[i].microsecond*0.001\n",
    "                 for i in range( len(TimeArray) )]).astype(int)"
   ]
  },
  {
   "cell_type": "code",
   "execution_count": 13,
   "metadata": {
    "collapsed": false,
    "scrolled": true
   },
   "outputs": [
    {
     "data": {
      "text/plain": [
       "array([36295020, 36307158, 36309723, 36312502, 36316655, 36319386,\n",
       "       36324260, 36326171, 36327188, 36334024, 36338430, 36342205,\n",
       "       36345297, 36349609, 36354040, 36355023, 36360368, 36364006,\n",
       "       36368181, 36373395, 36376424, 36377268, 36381020, 36382231,\n",
       "       36382626, 36384665, 36385209, 36388839, 36392295, 36400544,\n",
       "       36401227, 36406414, 36409470, 36411531, 36414697, 36416649,\n",
       "       36417547, 36420710, 36421596, 36422728, 36425137, 36426658,\n",
       "       36428238, 36428348, 36443697, 36444573, 36446333, 36448960,\n",
       "       36450864, 36453615, 36456280, 36458993, 36459993, 36461823,\n",
       "       36463420, 36465221, 36465866, 36468143, 36469524, 36472424,\n",
       "       36474684, 36477217, 36480146, 36480983, 36484157, 36499322,\n",
       "       36501874, 36503741, 36504838, 36511026, 36514589, 36519544,\n",
       "       36520212, 36527577, 36530057, 36532033, 36533036, 36536992,\n",
       "       36539517, 36543743, 36546341, 36547361, 36551537, 36553859,\n",
       "       36566491, 36568390, 36584910, 36585996, 36589472, 36591111,\n",
       "       36610047, 36617853, 36620129, 36622437, 36627401, 36630833,\n",
       "       36648879, 36652594, 36683210, 36686725, 36687817, 36690624,\n",
       "       36701992, 36706338, 36712476, 36714372, 36715740, 36717430,\n",
       "       36718640, 36721062, 36722818, 36725345, 36727608, 36732257,\n",
       "       36747111, 36749222, 36751608, 36753412, 36755692, 36772334,\n",
       "       36776674, 36776810, 36782835, 36784364, 36786248, 36788565,\n",
       "       36795190, 36797241, 36798475, 36800992, 36803100, 36812023,\n",
       "       36817297, 36826141, 36828315, 36830268, 36831508, 36836200,\n",
       "       36839144, 36851642, 36861925, 36865166, 36867852, 36875729,\n",
       "       36877876, 36879334, 36881697, 36883991, 36886393, 36899509,\n",
       "       36908717, 36953234, 36956023, 36958186, 36960190, 36964779,\n",
       "       36968242, 36974291, 36978638, 36979867, 36983266, 36989652,\n",
       "       37020919, 37025975, 37030082, 37031720, 37035521, 37039432,\n",
       "       37041600, 37061810, 37074103, 37076512, 37079784, 37086587,\n",
       "       37092372, 37096089, 37097642, 37102865, 37106093, 37136583,\n",
       "       37137991, 37140519, 37142722, 37143697, 37145603, 37148139,\n",
       "       37152493, 37153390, 37156762, 37160640, 37163199, 37164338,\n",
       "       37165365, 37166425, 37167673, 37171267, 37189960, 37196407,\n",
       "       37213010, 37217223, 37221638, 37233827])"
      ]
     },
     "execution_count": 13,
     "metadata": {},
     "output_type": "execute_result"
    }
   ],
   "source": [
    "t"
   ]
  },
  {
   "cell_type": "code",
   "execution_count": 14,
   "metadata": {
    "collapsed": true
   },
   "outputs": [],
   "source": [
    "LabelData = data.as_matrix()"
   ]
  },
  {
   "cell_type": "code",
   "execution_count": 15,
   "metadata": {
    "collapsed": false
   },
   "outputs": [
    {
     "data": {
      "text/html": [
       "<div>\n",
       "<table border=\"1\" class=\"dataframe\">\n",
       "  <thead>\n",
       "    <tr style=\"text-align: right;\">\n",
       "      <th></th>\n",
       "      <th>#Time</th>\n",
       "      <th>LeftHand-Verb</th>\n",
       "      <th>LeftHand-Object</th>\n",
       "      <th>RightHand-Verb</th>\n",
       "      <th>RightHand-Object</th>\n",
       "      <th>Leg-Number</th>\n",
       "      <th>Leg-Verb</th>\n",
       "      <th>Leg-Object</th>\n",
       "      <th>West</th>\n",
       "      <th>ActiveNumber</th>\n",
       "    </tr>\n",
       "  </thead>\n",
       "  <tbody>\n",
       "    <tr>\n",
       "      <th>0</th>\n",
       "      <td>10:04:55.020</td>\n",
       "      <td>停止</td>\n",
       "      <td>NaN</td>\n",
       "      <td>NaN</td>\n",
       "      <td>NaN</td>\n",
       "      <td>NaN</td>\n",
       "      <td>NaN</td>\n",
       "      <td>NaN</td>\n",
       "      <td>NaN</td>\n",
       "      <td>NaN</td>\n",
       "    </tr>\n",
       "    <tr>\n",
       "      <th>1</th>\n",
       "      <td>10:05:07.158</td>\n",
       "      <td>なし</td>\n",
       "      <td>なし</td>\n",
       "      <td>なし</td>\n",
       "      <td>なし</td>\n",
       "      <td>両足</td>\n",
       "      <td>歩く</td>\n",
       "      <td>なし</td>\n",
       "      <td>直立</td>\n",
       "      <td>0.0</td>\n",
       "    </tr>\n",
       "    <tr>\n",
       "      <th>2</th>\n",
       "      <td>10:05:09.723</td>\n",
       "      <td>持つ</td>\n",
       "      <td>時計</td>\n",
       "      <td>持つ</td>\n",
       "      <td>時計</td>\n",
       "      <td>両足</td>\n",
       "      <td>止まる</td>\n",
       "      <td>なし</td>\n",
       "      <td>直立</td>\n",
       "      <td>101.0</td>\n",
       "    </tr>\n",
       "    <tr>\n",
       "      <th>3</th>\n",
       "      <td>10:05:12.502</td>\n",
       "      <td>持つ</td>\n",
       "      <td>時計</td>\n",
       "      <td>持つ</td>\n",
       "      <td>時計</td>\n",
       "      <td>両足</td>\n",
       "      <td>歩く</td>\n",
       "      <td>なし</td>\n",
       "      <td>直立</td>\n",
       "      <td>101.0</td>\n",
       "    </tr>\n",
       "    <tr>\n",
       "      <th>4</th>\n",
       "      <td>10:05:16.655</td>\n",
       "      <td>置く</td>\n",
       "      <td>時計</td>\n",
       "      <td>置く</td>\n",
       "      <td>時計</td>\n",
       "      <td>両足</td>\n",
       "      <td>止まる</td>\n",
       "      <td>なし</td>\n",
       "      <td>直立</td>\n",
       "      <td>101.0</td>\n",
       "    </tr>\n",
       "    <tr>\n",
       "      <th>5</th>\n",
       "      <td>10:05:19.386</td>\n",
       "      <td>なし</td>\n",
       "      <td>なし</td>\n",
       "      <td>なし</td>\n",
       "      <td>なし</td>\n",
       "      <td>両足</td>\n",
       "      <td>止まる</td>\n",
       "      <td>なし</td>\n",
       "      <td>直立</td>\n",
       "      <td>101.0</td>\n",
       "    </tr>\n",
       "    <tr>\n",
       "      <th>6</th>\n",
       "      <td>10:05:24.260</td>\n",
       "      <td>なし</td>\n",
       "      <td>なし</td>\n",
       "      <td>なし</td>\n",
       "      <td>なし</td>\n",
       "      <td>両足</td>\n",
       "      <td>歩く</td>\n",
       "      <td>なし</td>\n",
       "      <td>直立</td>\n",
       "      <td>102.0</td>\n",
       "    </tr>\n",
       "    <tr>\n",
       "      <th>7</th>\n",
       "      <td>10:05:26.171</td>\n",
       "      <td>なし</td>\n",
       "      <td>なし</td>\n",
       "      <td>なし</td>\n",
       "      <td>なし</td>\n",
       "      <td>両足</td>\n",
       "      <td>止まる</td>\n",
       "      <td>なし</td>\n",
       "      <td>直立</td>\n",
       "      <td>102.0</td>\n",
       "    </tr>\n",
       "    <tr>\n",
       "      <th>8</th>\n",
       "      <td>10:05:27.188</td>\n",
       "      <td>持つ</td>\n",
       "      <td>雑誌</td>\n",
       "      <td>持つ</td>\n",
       "      <td>雑誌</td>\n",
       "      <td>両足</td>\n",
       "      <td>止まる</td>\n",
       "      <td>なし</td>\n",
       "      <td>直立</td>\n",
       "      <td>102.0</td>\n",
       "    </tr>\n",
       "    <tr>\n",
       "      <th>9</th>\n",
       "      <td>10:05:34.024</td>\n",
       "      <td>持つ</td>\n",
       "      <td>雑誌</td>\n",
       "      <td>持つ</td>\n",
       "      <td>雑誌</td>\n",
       "      <td>両足</td>\n",
       "      <td>歩く</td>\n",
       "      <td>なし</td>\n",
       "      <td>直立</td>\n",
       "      <td>102.0</td>\n",
       "    </tr>\n",
       "    <tr>\n",
       "      <th>10</th>\n",
       "      <td>10:05:38.430</td>\n",
       "      <td>持つ</td>\n",
       "      <td>雑誌</td>\n",
       "      <td>持つ</td>\n",
       "      <td>雑誌</td>\n",
       "      <td>両足</td>\n",
       "      <td>止まる</td>\n",
       "      <td>なし</td>\n",
       "      <td>前かがみ</td>\n",
       "      <td>102.0</td>\n",
       "    </tr>\n",
       "    <tr>\n",
       "      <th>11</th>\n",
       "      <td>10:05:42.205</td>\n",
       "      <td>しまう</td>\n",
       "      <td>雑誌</td>\n",
       "      <td>しまう</td>\n",
       "      <td>雑誌</td>\n",
       "      <td>両足</td>\n",
       "      <td>止まる</td>\n",
       "      <td>なし</td>\n",
       "      <td>前かがみ</td>\n",
       "      <td>102.0</td>\n",
       "    </tr>\n",
       "    <tr>\n",
       "      <th>12</th>\n",
       "      <td>10:05:45.297</td>\n",
       "      <td>持つ</td>\n",
       "      <td>雑誌</td>\n",
       "      <td>持つ</td>\n",
       "      <td>雑誌</td>\n",
       "      <td>両足</td>\n",
       "      <td>止まる</td>\n",
       "      <td>なし</td>\n",
       "      <td>前かがみ</td>\n",
       "      <td>102.0</td>\n",
       "    </tr>\n",
       "    <tr>\n",
       "      <th>13</th>\n",
       "      <td>10:05:49.609</td>\n",
       "      <td>しまう</td>\n",
       "      <td>雑誌</td>\n",
       "      <td>しまう</td>\n",
       "      <td>雑誌</td>\n",
       "      <td>両足</td>\n",
       "      <td>止まる</td>\n",
       "      <td>なし</td>\n",
       "      <td>前かがみ</td>\n",
       "      <td>102.0</td>\n",
       "    </tr>\n",
       "    <tr>\n",
       "      <th>14</th>\n",
       "      <td>10:05:54.040</td>\n",
       "      <td>持つ</td>\n",
       "      <td>雑誌</td>\n",
       "      <td>持つ</td>\n",
       "      <td>雑誌</td>\n",
       "      <td>両足</td>\n",
       "      <td>止まる</td>\n",
       "      <td>なし</td>\n",
       "      <td>前かがみ</td>\n",
       "      <td>102.0</td>\n",
       "    </tr>\n",
       "    <tr>\n",
       "      <th>15</th>\n",
       "      <td>10:05:55.023</td>\n",
       "      <td>しまう</td>\n",
       "      <td>雑誌</td>\n",
       "      <td>しまう</td>\n",
       "      <td>雑誌</td>\n",
       "      <td>両足</td>\n",
       "      <td>止まる</td>\n",
       "      <td>なし</td>\n",
       "      <td>前かがみ</td>\n",
       "      <td>102.0</td>\n",
       "    </tr>\n",
       "    <tr>\n",
       "      <th>16</th>\n",
       "      <td>10:06:00.368</td>\n",
       "      <td>持つ</td>\n",
       "      <td>雑誌</td>\n",
       "      <td>持つ</td>\n",
       "      <td>雑誌</td>\n",
       "      <td>両足</td>\n",
       "      <td>止まる</td>\n",
       "      <td>なし</td>\n",
       "      <td>前かがみ</td>\n",
       "      <td>102.0</td>\n",
       "    </tr>\n",
       "    <tr>\n",
       "      <th>17</th>\n",
       "      <td>10:06:04.006</td>\n",
       "      <td>しまう</td>\n",
       "      <td>雑誌</td>\n",
       "      <td>しまう</td>\n",
       "      <td>雑誌</td>\n",
       "      <td>両足</td>\n",
       "      <td>止まる</td>\n",
       "      <td>なし</td>\n",
       "      <td>前かがみ</td>\n",
       "      <td>102.0</td>\n",
       "    </tr>\n",
       "    <tr>\n",
       "      <th>18</th>\n",
       "      <td>10:06:08.181</td>\n",
       "      <td>なし</td>\n",
       "      <td>なし</td>\n",
       "      <td>なし</td>\n",
       "      <td>なし</td>\n",
       "      <td>両足</td>\n",
       "      <td>止まる</td>\n",
       "      <td>なし</td>\n",
       "      <td>直立</td>\n",
       "      <td>102.0</td>\n",
       "    </tr>\n",
       "    <tr>\n",
       "      <th>19</th>\n",
       "      <td>10:06:13.395</td>\n",
       "      <td>なし</td>\n",
       "      <td>なし</td>\n",
       "      <td>なし</td>\n",
       "      <td>なし</td>\n",
       "      <td>両足</td>\n",
       "      <td>歩く</td>\n",
       "      <td>なし</td>\n",
       "      <td>直立</td>\n",
       "      <td>103.0</td>\n",
       "    </tr>\n",
       "    <tr>\n",
       "      <th>20</th>\n",
       "      <td>10:06:16.424</td>\n",
       "      <td>なし</td>\n",
       "      <td>なし</td>\n",
       "      <td>なし</td>\n",
       "      <td>なし</td>\n",
       "      <td>両足</td>\n",
       "      <td>止まる</td>\n",
       "      <td>なし</td>\n",
       "      <td>前かがみ</td>\n",
       "      <td>103.0</td>\n",
       "    </tr>\n",
       "    <tr>\n",
       "      <th>21</th>\n",
       "      <td>10:06:17.268</td>\n",
       "      <td>なし</td>\n",
       "      <td>なし</td>\n",
       "      <td>掴む</td>\n",
       "      <td>長いハンディモップ</td>\n",
       "      <td>両足</td>\n",
       "      <td>止まる</td>\n",
       "      <td>なし</td>\n",
       "      <td>前かがみ</td>\n",
       "      <td>103.0</td>\n",
       "    </tr>\n",
       "    <tr>\n",
       "      <th>22</th>\n",
       "      <td>10:06:21.020</td>\n",
       "      <td>なし</td>\n",
       "      <td>なし</td>\n",
       "      <td>掴む</td>\n",
       "      <td>長いハンディモップ</td>\n",
       "      <td>両足</td>\n",
       "      <td>止まる</td>\n",
       "      <td>なし</td>\n",
       "      <td>前かがみ</td>\n",
       "      <td>103.0</td>\n",
       "    </tr>\n",
       "    <tr>\n",
       "      <th>23</th>\n",
       "      <td>10:06:22.231</td>\n",
       "      <td>なし</td>\n",
       "      <td>なし</td>\n",
       "      <td>しまう</td>\n",
       "      <td>長いハンディモップ</td>\n",
       "      <td>両足</td>\n",
       "      <td>止まる</td>\n",
       "      <td>なし</td>\n",
       "      <td>前かがみ</td>\n",
       "      <td>103.0</td>\n",
       "    </tr>\n",
       "    <tr>\n",
       "      <th>24</th>\n",
       "      <td>10:06:22.626</td>\n",
       "      <td>つかむ</td>\n",
       "      <td>ハンディモップ</td>\n",
       "      <td>しまう</td>\n",
       "      <td>長いハンディモップ</td>\n",
       "      <td>両足</td>\n",
       "      <td>止まる</td>\n",
       "      <td>なし</td>\n",
       "      <td>前かがみ</td>\n",
       "      <td>103.0</td>\n",
       "    </tr>\n",
       "    <tr>\n",
       "      <th>25</th>\n",
       "      <td>10:06:24.665</td>\n",
       "      <td>なし</td>\n",
       "      <td>なし</td>\n",
       "      <td>持つ</td>\n",
       "      <td>ハンディモップ</td>\n",
       "      <td>両足</td>\n",
       "      <td>止まる</td>\n",
       "      <td>なし</td>\n",
       "      <td>直立</td>\n",
       "      <td>103.0</td>\n",
       "    </tr>\n",
       "    <tr>\n",
       "      <th>26</th>\n",
       "      <td>10:06:25.209</td>\n",
       "      <td>なし</td>\n",
       "      <td>なし</td>\n",
       "      <td>持つ</td>\n",
       "      <td>ハンディモップ</td>\n",
       "      <td>両足</td>\n",
       "      <td>歩く</td>\n",
       "      <td>なし</td>\n",
       "      <td>直立</td>\n",
       "      <td>103.0</td>\n",
       "    </tr>\n",
       "    <tr>\n",
       "      <th>27</th>\n",
       "      <td>10:06:28.839</td>\n",
       "      <td>なし</td>\n",
       "      <td>なし</td>\n",
       "      <td>掃除する</td>\n",
       "      <td>時計</td>\n",
       "      <td>両足</td>\n",
       "      <td>止まる</td>\n",
       "      <td>なし</td>\n",
       "      <td>直立</td>\n",
       "      <td>103.0</td>\n",
       "    </tr>\n",
       "    <tr>\n",
       "      <th>28</th>\n",
       "      <td>10:06:32.295</td>\n",
       "      <td>なし</td>\n",
       "      <td>なし</td>\n",
       "      <td>掃除する</td>\n",
       "      <td>時計</td>\n",
       "      <td>両足</td>\n",
       "      <td>止まる</td>\n",
       "      <td>なし</td>\n",
       "      <td>前かがみ</td>\n",
       "      <td>103.0</td>\n",
       "    </tr>\n",
       "    <tr>\n",
       "      <th>29</th>\n",
       "      <td>10:06:40.544</td>\n",
       "      <td>なし</td>\n",
       "      <td>なし</td>\n",
       "      <td>持つ</td>\n",
       "      <td>ハンディモップ</td>\n",
       "      <td>両足</td>\n",
       "      <td>止まる</td>\n",
       "      <td>なし</td>\n",
       "      <td>直立</td>\n",
       "      <td>103.0</td>\n",
       "    </tr>\n",
       "    <tr>\n",
       "      <th>...</th>\n",
       "      <td>...</td>\n",
       "      <td>...</td>\n",
       "      <td>...</td>\n",
       "      <td>...</td>\n",
       "      <td>...</td>\n",
       "      <td>...</td>\n",
       "      <td>...</td>\n",
       "      <td>...</td>\n",
       "      <td>...</td>\n",
       "      <td>...</td>\n",
       "    </tr>\n",
       "    <tr>\n",
       "      <th>172</th>\n",
       "      <td>10:17:59.784</td>\n",
       "      <td>なし</td>\n",
       "      <td>なし</td>\n",
       "      <td>持つ</td>\n",
       "      <td>モップ</td>\n",
       "      <td>両足</td>\n",
       "      <td>止まる</td>\n",
       "      <td>なし</td>\n",
       "      <td>前かがみ</td>\n",
       "      <td>113.0</td>\n",
       "    </tr>\n",
       "    <tr>\n",
       "      <th>173</th>\n",
       "      <td>10:18:06.587</td>\n",
       "      <td>なし</td>\n",
       "      <td>なし</td>\n",
       "      <td>掃除する</td>\n",
       "      <td>モップ</td>\n",
       "      <td>両足</td>\n",
       "      <td>止まる</td>\n",
       "      <td>なし</td>\n",
       "      <td>直立</td>\n",
       "      <td>113.0</td>\n",
       "    </tr>\n",
       "    <tr>\n",
       "      <th>174</th>\n",
       "      <td>10:18:12.372</td>\n",
       "      <td>なし</td>\n",
       "      <td>なし</td>\n",
       "      <td>掃除する</td>\n",
       "      <td>モップ</td>\n",
       "      <td>両足</td>\n",
       "      <td>しゃがむ</td>\n",
       "      <td>なし</td>\n",
       "      <td>直立</td>\n",
       "      <td>113.0</td>\n",
       "    </tr>\n",
       "    <tr>\n",
       "      <th>175</th>\n",
       "      <td>10:18:16.089</td>\n",
       "      <td>持つ</td>\n",
       "      <td>椅子</td>\n",
       "      <td>持つ</td>\n",
       "      <td>モップ</td>\n",
       "      <td>両足</td>\n",
       "      <td>止まる</td>\n",
       "      <td>なし</td>\n",
       "      <td>前かがみ</td>\n",
       "      <td>113.0</td>\n",
       "    </tr>\n",
       "    <tr>\n",
       "      <th>176</th>\n",
       "      <td>10:18:17.642</td>\n",
       "      <td>持つ</td>\n",
       "      <td>椅子</td>\n",
       "      <td>掃除する</td>\n",
       "      <td>モップ</td>\n",
       "      <td>両足</td>\n",
       "      <td>止まる</td>\n",
       "      <td>なし</td>\n",
       "      <td>前かがみ</td>\n",
       "      <td>113.0</td>\n",
       "    </tr>\n",
       "    <tr>\n",
       "      <th>177</th>\n",
       "      <td>10:18:22.865</td>\n",
       "      <td>置く</td>\n",
       "      <td>椅子</td>\n",
       "      <td>持つ</td>\n",
       "      <td>モップ</td>\n",
       "      <td>両足</td>\n",
       "      <td>止まる</td>\n",
       "      <td>なし</td>\n",
       "      <td>前かがみ</td>\n",
       "      <td>113.0</td>\n",
       "    </tr>\n",
       "    <tr>\n",
       "      <th>178</th>\n",
       "      <td>10:18:26.093</td>\n",
       "      <td>なし</td>\n",
       "      <td>なし</td>\n",
       "      <td>掃除する</td>\n",
       "      <td>モップ</td>\n",
       "      <td>両足</td>\n",
       "      <td>歩く</td>\n",
       "      <td>なし</td>\n",
       "      <td>前かがみ</td>\n",
       "      <td>113.0</td>\n",
       "    </tr>\n",
       "    <tr>\n",
       "      <th>179</th>\n",
       "      <td>10:18:56.583</td>\n",
       "      <td>持つ</td>\n",
       "      <td>椅子</td>\n",
       "      <td>持つ</td>\n",
       "      <td>モップ</td>\n",
       "      <td>両足</td>\n",
       "      <td>止まる</td>\n",
       "      <td>なし</td>\n",
       "      <td>前かがみ</td>\n",
       "      <td>113.0</td>\n",
       "    </tr>\n",
       "    <tr>\n",
       "      <th>180</th>\n",
       "      <td>10:18:57.991</td>\n",
       "      <td>持つ</td>\n",
       "      <td>椅子</td>\n",
       "      <td>掃除する</td>\n",
       "      <td>モップ</td>\n",
       "      <td>両足</td>\n",
       "      <td>止まる</td>\n",
       "      <td>なし</td>\n",
       "      <td>前かがみ</td>\n",
       "      <td>113.0</td>\n",
       "    </tr>\n",
       "    <tr>\n",
       "      <th>181</th>\n",
       "      <td>10:19:00.519</td>\n",
       "      <td>置く</td>\n",
       "      <td>椅子</td>\n",
       "      <td>持つ</td>\n",
       "      <td>モップ</td>\n",
       "      <td>両足</td>\n",
       "      <td>止まる</td>\n",
       "      <td>なし</td>\n",
       "      <td>前かがみ</td>\n",
       "      <td>113.0</td>\n",
       "    </tr>\n",
       "    <tr>\n",
       "      <th>182</th>\n",
       "      <td>10:19:02.722</td>\n",
       "      <td>持つ</td>\n",
       "      <td>椅子</td>\n",
       "      <td>持つ</td>\n",
       "      <td>モップ</td>\n",
       "      <td>両足</td>\n",
       "      <td>止まる</td>\n",
       "      <td>なし</td>\n",
       "      <td>前かがみ</td>\n",
       "      <td>113.0</td>\n",
       "    </tr>\n",
       "    <tr>\n",
       "      <th>183</th>\n",
       "      <td>10:19:03.697</td>\n",
       "      <td>持つ</td>\n",
       "      <td>椅子</td>\n",
       "      <td>掃除する</td>\n",
       "      <td>モップ</td>\n",
       "      <td>両足</td>\n",
       "      <td>止まる</td>\n",
       "      <td>なし</td>\n",
       "      <td>前かがみ</td>\n",
       "      <td>113.0</td>\n",
       "    </tr>\n",
       "    <tr>\n",
       "      <th>184</th>\n",
       "      <td>10:19:05.603</td>\n",
       "      <td>置く</td>\n",
       "      <td>椅子</td>\n",
       "      <td>持つ</td>\n",
       "      <td>モップ</td>\n",
       "      <td>両足</td>\n",
       "      <td>止まる</td>\n",
       "      <td>なし</td>\n",
       "      <td>前かがみ</td>\n",
       "      <td>113.0</td>\n",
       "    </tr>\n",
       "    <tr>\n",
       "      <th>185</th>\n",
       "      <td>10:19:08.139</td>\n",
       "      <td>なし</td>\n",
       "      <td>なし</td>\n",
       "      <td>掃除する</td>\n",
       "      <td>モップ</td>\n",
       "      <td>両足</td>\n",
       "      <td>歩く</td>\n",
       "      <td>なし</td>\n",
       "      <td>直立</td>\n",
       "      <td>113.0</td>\n",
       "    </tr>\n",
       "    <tr>\n",
       "      <th>186</th>\n",
       "      <td>10:19:12.493</td>\n",
       "      <td>持つ</td>\n",
       "      <td>ごみ箱</td>\n",
       "      <td>持つ</td>\n",
       "      <td>モップ</td>\n",
       "      <td>両足</td>\n",
       "      <td>止まる</td>\n",
       "      <td>なし</td>\n",
       "      <td>前かがみ</td>\n",
       "      <td>113.0</td>\n",
       "    </tr>\n",
       "    <tr>\n",
       "      <th>187</th>\n",
       "      <td>10:19:13.390</td>\n",
       "      <td>持つ</td>\n",
       "      <td>ごみ箱</td>\n",
       "      <td>掃除する</td>\n",
       "      <td>モップ</td>\n",
       "      <td>両足</td>\n",
       "      <td>止まる</td>\n",
       "      <td>なし</td>\n",
       "      <td>前かがみ</td>\n",
       "      <td>113.0</td>\n",
       "    </tr>\n",
       "    <tr>\n",
       "      <th>188</th>\n",
       "      <td>10:19:16.762</td>\n",
       "      <td>置く</td>\n",
       "      <td>ごみ箱</td>\n",
       "      <td>持つ</td>\n",
       "      <td>モップ</td>\n",
       "      <td>両足</td>\n",
       "      <td>止まる</td>\n",
       "      <td>なし</td>\n",
       "      <td>前かがみ</td>\n",
       "      <td>113.0</td>\n",
       "    </tr>\n",
       "    <tr>\n",
       "      <th>189</th>\n",
       "      <td>10:19:20.640</td>\n",
       "      <td>なし</td>\n",
       "      <td>なし</td>\n",
       "      <td>掃除する</td>\n",
       "      <td>モップ</td>\n",
       "      <td>両足</td>\n",
       "      <td>歩く</td>\n",
       "      <td>なし</td>\n",
       "      <td>直立</td>\n",
       "      <td>113.0</td>\n",
       "    </tr>\n",
       "    <tr>\n",
       "      <th>190</th>\n",
       "      <td>10:19:23.199</td>\n",
       "      <td>持つ</td>\n",
       "      <td>椅子</td>\n",
       "      <td>持つ</td>\n",
       "      <td>モップ</td>\n",
       "      <td>両足</td>\n",
       "      <td>止まる</td>\n",
       "      <td>なし</td>\n",
       "      <td>前かがみ</td>\n",
       "      <td>113.0</td>\n",
       "    </tr>\n",
       "    <tr>\n",
       "      <th>191</th>\n",
       "      <td>10:19:24.338</td>\n",
       "      <td>持つ</td>\n",
       "      <td>椅子</td>\n",
       "      <td>掃除する</td>\n",
       "      <td>モップ</td>\n",
       "      <td>両足</td>\n",
       "      <td>止まる</td>\n",
       "      <td>なし</td>\n",
       "      <td>前かがみ</td>\n",
       "      <td>113.0</td>\n",
       "    </tr>\n",
       "    <tr>\n",
       "      <th>192</th>\n",
       "      <td>10:19:25.365</td>\n",
       "      <td>置く</td>\n",
       "      <td>椅子</td>\n",
       "      <td>掃除する</td>\n",
       "      <td>モップ</td>\n",
       "      <td>両足</td>\n",
       "      <td>止まる</td>\n",
       "      <td>なし</td>\n",
       "      <td>前かがみ</td>\n",
       "      <td>113.0</td>\n",
       "    </tr>\n",
       "    <tr>\n",
       "      <th>193</th>\n",
       "      <td>10:19:26.425</td>\n",
       "      <td>なし</td>\n",
       "      <td>なし</td>\n",
       "      <td>掃除する</td>\n",
       "      <td>モップ</td>\n",
       "      <td>両足</td>\n",
       "      <td>歩く</td>\n",
       "      <td>なし</td>\n",
       "      <td>前かがみ</td>\n",
       "      <td>113.0</td>\n",
       "    </tr>\n",
       "    <tr>\n",
       "      <th>194</th>\n",
       "      <td>10:19:27.673</td>\n",
       "      <td>持つ</td>\n",
       "      <td>椅子</td>\n",
       "      <td>掃除する</td>\n",
       "      <td>モップ</td>\n",
       "      <td>両足</td>\n",
       "      <td>止まる</td>\n",
       "      <td>なし</td>\n",
       "      <td>前かがみ</td>\n",
       "      <td>113.0</td>\n",
       "    </tr>\n",
       "    <tr>\n",
       "      <th>195</th>\n",
       "      <td>10:19:31.267</td>\n",
       "      <td>なし</td>\n",
       "      <td>なし</td>\n",
       "      <td>掃除する</td>\n",
       "      <td>モップ</td>\n",
       "      <td>両足</td>\n",
       "      <td>歩く</td>\n",
       "      <td>なし</td>\n",
       "      <td>直立</td>\n",
       "      <td>113.0</td>\n",
       "    </tr>\n",
       "    <tr>\n",
       "      <th>196</th>\n",
       "      <td>10:19:49.960</td>\n",
       "      <td>なし</td>\n",
       "      <td>なし</td>\n",
       "      <td>掃除する</td>\n",
       "      <td>モップ</td>\n",
       "      <td>両足</td>\n",
       "      <td>しゃがむ</td>\n",
       "      <td>なし</td>\n",
       "      <td>直立</td>\n",
       "      <td>113.0</td>\n",
       "    </tr>\n",
       "    <tr>\n",
       "      <th>197</th>\n",
       "      <td>10:19:56.407</td>\n",
       "      <td>なし</td>\n",
       "      <td>なし</td>\n",
       "      <td>掃除する</td>\n",
       "      <td>モップ</td>\n",
       "      <td>両足</td>\n",
       "      <td>歩く</td>\n",
       "      <td>なし</td>\n",
       "      <td>直立</td>\n",
       "      <td>113.0</td>\n",
       "    </tr>\n",
       "    <tr>\n",
       "      <th>198</th>\n",
       "      <td>10:20:13.010</td>\n",
       "      <td>なし</td>\n",
       "      <td>なし</td>\n",
       "      <td>持つ</td>\n",
       "      <td>モップ</td>\n",
       "      <td>両足</td>\n",
       "      <td>歩く</td>\n",
       "      <td>なし</td>\n",
       "      <td>直立</td>\n",
       "      <td>114.0</td>\n",
       "    </tr>\n",
       "    <tr>\n",
       "      <th>199</th>\n",
       "      <td>10:20:17.223</td>\n",
       "      <td>なし</td>\n",
       "      <td>なし</td>\n",
       "      <td>置く</td>\n",
       "      <td>モップ</td>\n",
       "      <td>両足</td>\n",
       "      <td>歩く</td>\n",
       "      <td>なし</td>\n",
       "      <td>直立</td>\n",
       "      <td>114.0</td>\n",
       "    </tr>\n",
       "    <tr>\n",
       "      <th>200</th>\n",
       "      <td>10:20:21.638</td>\n",
       "      <td>なし</td>\n",
       "      <td>なし</td>\n",
       "      <td>なし</td>\n",
       "      <td>なし</td>\n",
       "      <td>両足</td>\n",
       "      <td>止まる</td>\n",
       "      <td>なし</td>\n",
       "      <td>直立</td>\n",
       "      <td>114.0</td>\n",
       "    </tr>\n",
       "    <tr>\n",
       "      <th>201</th>\n",
       "      <td>10:20:33.827</td>\n",
       "      <td>なし</td>\n",
       "      <td>なし</td>\n",
       "      <td>なし</td>\n",
       "      <td>なし</td>\n",
       "      <td>なし</td>\n",
       "      <td>なし</td>\n",
       "      <td>なし</td>\n",
       "      <td>なし</td>\n",
       "      <td>114.0</td>\n",
       "    </tr>\n",
       "  </tbody>\n",
       "</table>\n",
       "<p>202 rows × 10 columns</p>\n",
       "</div>"
      ],
      "text/plain": [
       "            #Time LeftHand-Verb LeftHand-Object RightHand-Verb  \\\n",
       "0    10:04:55.020            停止             NaN            NaN   \n",
       "1    10:05:07.158            なし              なし             なし   \n",
       "2    10:05:09.723            持つ              時計             持つ   \n",
       "3    10:05:12.502            持つ              時計             持つ   \n",
       "4    10:05:16.655            置く              時計             置く   \n",
       "5    10:05:19.386            なし              なし             なし   \n",
       "6    10:05:24.260            なし              なし             なし   \n",
       "7    10:05:26.171            なし              なし             なし   \n",
       "8    10:05:27.188            持つ              雑誌             持つ   \n",
       "9    10:05:34.024            持つ              雑誌             持つ   \n",
       "10   10:05:38.430            持つ              雑誌             持つ   \n",
       "11   10:05:42.205           しまう              雑誌            しまう   \n",
       "12   10:05:45.297            持つ              雑誌             持つ   \n",
       "13   10:05:49.609           しまう              雑誌            しまう   \n",
       "14   10:05:54.040            持つ              雑誌             持つ   \n",
       "15   10:05:55.023           しまう              雑誌            しまう   \n",
       "16   10:06:00.368            持つ              雑誌             持つ   \n",
       "17   10:06:04.006           しまう              雑誌            しまう   \n",
       "18   10:06:08.181            なし              なし             なし   \n",
       "19   10:06:13.395            なし              なし             なし   \n",
       "20   10:06:16.424            なし              なし             なし   \n",
       "21   10:06:17.268            なし              なし             掴む   \n",
       "22   10:06:21.020            なし              なし             掴む   \n",
       "23   10:06:22.231            なし              なし            しまう   \n",
       "24   10:06:22.626           つかむ         ハンディモップ            しまう   \n",
       "25   10:06:24.665            なし              なし             持つ   \n",
       "26   10:06:25.209            なし              なし             持つ   \n",
       "27   10:06:28.839            なし              なし           掃除する   \n",
       "28   10:06:32.295            なし              なし           掃除する   \n",
       "29   10:06:40.544            なし              なし             持つ   \n",
       "..            ...           ...             ...            ...   \n",
       "172  10:17:59.784            なし              なし             持つ   \n",
       "173  10:18:06.587            なし              なし           掃除する   \n",
       "174  10:18:12.372            なし              なし           掃除する   \n",
       "175  10:18:16.089            持つ              椅子             持つ   \n",
       "176  10:18:17.642            持つ              椅子           掃除する   \n",
       "177  10:18:22.865            置く              椅子             持つ   \n",
       "178  10:18:26.093            なし              なし           掃除する   \n",
       "179  10:18:56.583            持つ              椅子             持つ   \n",
       "180  10:18:57.991            持つ              椅子           掃除する   \n",
       "181  10:19:00.519            置く              椅子             持つ   \n",
       "182  10:19:02.722            持つ              椅子             持つ   \n",
       "183  10:19:03.697            持つ              椅子           掃除する   \n",
       "184  10:19:05.603            置く              椅子             持つ   \n",
       "185  10:19:08.139            なし              なし           掃除する   \n",
       "186  10:19:12.493            持つ             ごみ箱             持つ   \n",
       "187  10:19:13.390            持つ             ごみ箱           掃除する   \n",
       "188  10:19:16.762            置く             ごみ箱             持つ   \n",
       "189  10:19:20.640            なし              なし           掃除する   \n",
       "190  10:19:23.199            持つ              椅子             持つ   \n",
       "191  10:19:24.338            持つ              椅子           掃除する   \n",
       "192  10:19:25.365            置く              椅子           掃除する   \n",
       "193  10:19:26.425            なし              なし           掃除する   \n",
       "194  10:19:27.673            持つ              椅子           掃除する   \n",
       "195  10:19:31.267            なし              なし           掃除する   \n",
       "196  10:19:49.960            なし              なし           掃除する   \n",
       "197  10:19:56.407            なし              なし           掃除する   \n",
       "198  10:20:13.010            なし              なし             持つ   \n",
       "199  10:20:17.223            なし              なし             置く   \n",
       "200  10:20:21.638            なし              なし             なし   \n",
       "201  10:20:33.827            なし              なし             なし   \n",
       "\n",
       "    RightHand-Object Leg-Number Leg-Verb Leg-Object  West  ActiveNumber  \n",
       "0                NaN        NaN      NaN        NaN   NaN           NaN  \n",
       "1                 なし         両足       歩く         なし    直立           0.0  \n",
       "2                 時計         両足      止まる         なし    直立         101.0  \n",
       "3                 時計         両足       歩く         なし    直立         101.0  \n",
       "4                 時計         両足      止まる         なし    直立         101.0  \n",
       "5                 なし         両足      止まる         なし    直立         101.0  \n",
       "6                 なし         両足       歩く         なし    直立         102.0  \n",
       "7                 なし         両足      止まる         なし    直立         102.0  \n",
       "8                 雑誌         両足      止まる         なし    直立         102.0  \n",
       "9                 雑誌         両足       歩く         なし    直立         102.0  \n",
       "10                雑誌         両足      止まる         なし  前かがみ         102.0  \n",
       "11                雑誌         両足      止まる         なし  前かがみ         102.0  \n",
       "12                雑誌         両足      止まる         なし  前かがみ         102.0  \n",
       "13                雑誌         両足      止まる         なし  前かがみ         102.0  \n",
       "14                雑誌         両足      止まる         なし  前かがみ         102.0  \n",
       "15                雑誌         両足      止まる         なし  前かがみ         102.0  \n",
       "16                雑誌         両足      止まる         なし  前かがみ         102.0  \n",
       "17                雑誌         両足      止まる         なし  前かがみ         102.0  \n",
       "18                なし         両足      止まる         なし    直立         102.0  \n",
       "19                なし         両足       歩く         なし    直立         103.0  \n",
       "20                なし         両足      止まる         なし  前かがみ         103.0  \n",
       "21         長いハンディモップ         両足      止まる         なし  前かがみ         103.0  \n",
       "22         長いハンディモップ         両足      止まる         なし  前かがみ         103.0  \n",
       "23         長いハンディモップ         両足      止まる         なし  前かがみ         103.0  \n",
       "24         長いハンディモップ         両足      止まる         なし  前かがみ         103.0  \n",
       "25           ハンディモップ         両足      止まる         なし    直立         103.0  \n",
       "26           ハンディモップ         両足       歩く         なし    直立         103.0  \n",
       "27                時計         両足      止まる         なし    直立         103.0  \n",
       "28                時計         両足      止まる         なし  前かがみ         103.0  \n",
       "29           ハンディモップ         両足      止まる         なし    直立         103.0  \n",
       "..               ...        ...      ...        ...   ...           ...  \n",
       "172              モップ         両足      止まる         なし  前かがみ         113.0  \n",
       "173              モップ         両足      止まる         なし    直立         113.0  \n",
       "174              モップ         両足     しゃがむ         なし    直立         113.0  \n",
       "175              モップ         両足      止まる         なし  前かがみ         113.0  \n",
       "176              モップ         両足      止まる         なし  前かがみ         113.0  \n",
       "177              モップ         両足      止まる         なし  前かがみ         113.0  \n",
       "178              モップ         両足       歩く         なし  前かがみ         113.0  \n",
       "179              モップ         両足      止まる         なし  前かがみ         113.0  \n",
       "180              モップ         両足      止まる         なし  前かがみ         113.0  \n",
       "181              モップ         両足      止まる         なし  前かがみ         113.0  \n",
       "182              モップ         両足      止まる         なし  前かがみ         113.0  \n",
       "183              モップ         両足      止まる         なし  前かがみ         113.0  \n",
       "184              モップ         両足      止まる         なし  前かがみ         113.0  \n",
       "185              モップ         両足       歩く         なし    直立         113.0  \n",
       "186              モップ         両足      止まる         なし  前かがみ         113.0  \n",
       "187              モップ         両足      止まる         なし  前かがみ         113.0  \n",
       "188              モップ         両足      止まる         なし  前かがみ         113.0  \n",
       "189              モップ         両足       歩く         なし    直立         113.0  \n",
       "190              モップ         両足      止まる         なし  前かがみ         113.0  \n",
       "191              モップ         両足      止まる         なし  前かがみ         113.0  \n",
       "192              モップ         両足      止まる         なし  前かがみ         113.0  \n",
       "193              モップ         両足       歩く         なし  前かがみ         113.0  \n",
       "194              モップ         両足      止まる         なし  前かがみ         113.0  \n",
       "195              モップ         両足       歩く         なし    直立         113.0  \n",
       "196              モップ         両足     しゃがむ         なし    直立         113.0  \n",
       "197              モップ         両足       歩く         なし    直立         113.0  \n",
       "198              モップ         両足       歩く         なし    直立         114.0  \n",
       "199              モップ         両足       歩く         なし    直立         114.0  \n",
       "200               なし         両足      止まる         なし    直立         114.0  \n",
       "201               なし         なし       なし         なし    なし         114.0  \n",
       "\n",
       "[202 rows x 10 columns]"
      ]
     },
     "execution_count": 15,
     "metadata": {},
     "output_type": "execute_result"
    }
   ],
   "source": [
    "data"
   ]
  },
  {
   "cell_type": "code",
   "execution_count": 16,
   "metadata": {
    "collapsed": false
   },
   "outputs": [
    {
     "data": {
      "text/plain": [
       "(202, 10)"
      ]
     },
     "execution_count": 16,
     "metadata": {},
     "output_type": "execute_result"
    }
   ],
   "source": [
    "LabelData.shape"
   ]
  },
  {
   "cell_type": "code",
   "execution_count": 17,
   "metadata": {
    "collapsed": false
   },
   "outputs": [],
   "source": [
    "LabelData[:,0] = t.astype(int)"
   ]
  },
  {
   "cell_type": "code",
   "execution_count": 18,
   "metadata": {
    "collapsed": false
   },
   "outputs": [
    {
     "data": {
      "text/plain": [
       "36295020"
      ]
     },
     "execution_count": 18,
     "metadata": {},
     "output_type": "execute_result"
    }
   ],
   "source": [
    "LabelData[0,0]"
   ]
  },
  {
   "cell_type": "code",
   "execution_count": 19,
   "metadata": {
    "collapsed": false
   },
   "outputs": [],
   "source": [
    "LabelArray = np.array([\n",
    "        LabelData[i,:] for i in range(LabelData.shape[0]-1) for l in range(LabelData[i+1,0]-LabelData[i,0]) \n",
    "    ])"
   ]
  },
  {
   "cell_type": "code",
   "execution_count": 20,
   "metadata": {
    "collapsed": false
   },
   "outputs": [],
   "source": [
    "LabelArray2 = np.array([\n",
    "        np.append( np.array(LabelData[i,0]+l) , LabelData[i,1:])\n",
    "        for i in range(LabelData.shape[0]-1) for l in range(LabelData[i+1,0]-LabelData[i,0])\n",
    "    ])"
   ]
  },
  {
   "cell_type": "code",
   "execution_count": 21,
   "metadata": {
    "collapsed": false
   },
   "outputs": [
    {
     "name": "stdout",
     "output_type": "stream",
     "text": [
      "[[36295020 u'\\u505c\\u6b62' nan ..., nan nan nan]\n",
      " [36295021 u'\\u505c\\u6b62' nan ..., nan nan nan]\n",
      " [36295022 u'\\u505c\\u6b62' nan ..., nan nan nan]\n",
      " ..., \n",
      " [37233824 u'\\u306a\\u3057' u'\\u306a\\u3057' ..., u'\\u306a\\u3057'\n",
      "  u'\\u76f4\\u7acb' 114.0]\n",
      " [37233825 u'\\u306a\\u3057' u'\\u306a\\u3057' ..., u'\\u306a\\u3057'\n",
      "  u'\\u76f4\\u7acb' 114.0]\n",
      " [37233826 u'\\u306a\\u3057' u'\\u306a\\u3057' ..., u'\\u306a\\u3057'\n",
      "  u'\\u76f4\\u7acb' 114.0]]\n"
     ]
    }
   ],
   "source": [
    "print LabelArray2"
   ]
  },
  {
   "cell_type": "code",
   "execution_count": 22,
   "metadata": {
    "collapsed": false
   },
   "outputs": [],
   "source": [
    "PdLabelArray2 = pd.DataFrame( LabelArray2 )"
   ]
  },
  {
   "cell_type": "code",
   "execution_count": 23,
   "metadata": {
    "collapsed": false,
    "scrolled": true
   },
   "outputs": [
    {
     "data": {
      "text/html": [
       "<div>\n",
       "<table border=\"1\" class=\"dataframe\">\n",
       "  <thead>\n",
       "    <tr style=\"text-align: right;\">\n",
       "      <th></th>\n",
       "      <th>0</th>\n",
       "      <th>1</th>\n",
       "      <th>2</th>\n",
       "      <th>3</th>\n",
       "      <th>4</th>\n",
       "      <th>5</th>\n",
       "      <th>6</th>\n",
       "      <th>7</th>\n",
       "      <th>8</th>\n",
       "      <th>9</th>\n",
       "    </tr>\n",
       "  </thead>\n",
       "  <tbody>\n",
       "    <tr>\n",
       "      <th>0</th>\n",
       "      <td>36295020</td>\n",
       "      <td>停止</td>\n",
       "      <td>NaN</td>\n",
       "      <td>NaN</td>\n",
       "      <td>NaN</td>\n",
       "      <td>NaN</td>\n",
       "      <td>NaN</td>\n",
       "      <td>NaN</td>\n",
       "      <td>NaN</td>\n",
       "      <td>NaN</td>\n",
       "    </tr>\n",
       "    <tr>\n",
       "      <th>1</th>\n",
       "      <td>36295021</td>\n",
       "      <td>停止</td>\n",
       "      <td>NaN</td>\n",
       "      <td>NaN</td>\n",
       "      <td>NaN</td>\n",
       "      <td>NaN</td>\n",
       "      <td>NaN</td>\n",
       "      <td>NaN</td>\n",
       "      <td>NaN</td>\n",
       "      <td>NaN</td>\n",
       "    </tr>\n",
       "    <tr>\n",
       "      <th>2</th>\n",
       "      <td>36295022</td>\n",
       "      <td>停止</td>\n",
       "      <td>NaN</td>\n",
       "      <td>NaN</td>\n",
       "      <td>NaN</td>\n",
       "      <td>NaN</td>\n",
       "      <td>NaN</td>\n",
       "      <td>NaN</td>\n",
       "      <td>NaN</td>\n",
       "      <td>NaN</td>\n",
       "    </tr>\n",
       "    <tr>\n",
       "      <th>3</th>\n",
       "      <td>36295023</td>\n",
       "      <td>停止</td>\n",
       "      <td>NaN</td>\n",
       "      <td>NaN</td>\n",
       "      <td>NaN</td>\n",
       "      <td>NaN</td>\n",
       "      <td>NaN</td>\n",
       "      <td>NaN</td>\n",
       "      <td>NaN</td>\n",
       "      <td>NaN</td>\n",
       "    </tr>\n",
       "    <tr>\n",
       "      <th>4</th>\n",
       "      <td>36295024</td>\n",
       "      <td>停止</td>\n",
       "      <td>NaN</td>\n",
       "      <td>NaN</td>\n",
       "      <td>NaN</td>\n",
       "      <td>NaN</td>\n",
       "      <td>NaN</td>\n",
       "      <td>NaN</td>\n",
       "      <td>NaN</td>\n",
       "      <td>NaN</td>\n",
       "    </tr>\n",
       "    <tr>\n",
       "      <th>5</th>\n",
       "      <td>36295025</td>\n",
       "      <td>停止</td>\n",
       "      <td>NaN</td>\n",
       "      <td>NaN</td>\n",
       "      <td>NaN</td>\n",
       "      <td>NaN</td>\n",
       "      <td>NaN</td>\n",
       "      <td>NaN</td>\n",
       "      <td>NaN</td>\n",
       "      <td>NaN</td>\n",
       "    </tr>\n",
       "    <tr>\n",
       "      <th>6</th>\n",
       "      <td>36295026</td>\n",
       "      <td>停止</td>\n",
       "      <td>NaN</td>\n",
       "      <td>NaN</td>\n",
       "      <td>NaN</td>\n",
       "      <td>NaN</td>\n",
       "      <td>NaN</td>\n",
       "      <td>NaN</td>\n",
       "      <td>NaN</td>\n",
       "      <td>NaN</td>\n",
       "    </tr>\n",
       "    <tr>\n",
       "      <th>7</th>\n",
       "      <td>36295027</td>\n",
       "      <td>停止</td>\n",
       "      <td>NaN</td>\n",
       "      <td>NaN</td>\n",
       "      <td>NaN</td>\n",
       "      <td>NaN</td>\n",
       "      <td>NaN</td>\n",
       "      <td>NaN</td>\n",
       "      <td>NaN</td>\n",
       "      <td>NaN</td>\n",
       "    </tr>\n",
       "    <tr>\n",
       "      <th>8</th>\n",
       "      <td>36295028</td>\n",
       "      <td>停止</td>\n",
       "      <td>NaN</td>\n",
       "      <td>NaN</td>\n",
       "      <td>NaN</td>\n",
       "      <td>NaN</td>\n",
       "      <td>NaN</td>\n",
       "      <td>NaN</td>\n",
       "      <td>NaN</td>\n",
       "      <td>NaN</td>\n",
       "    </tr>\n",
       "    <tr>\n",
       "      <th>9</th>\n",
       "      <td>36295029</td>\n",
       "      <td>停止</td>\n",
       "      <td>NaN</td>\n",
       "      <td>NaN</td>\n",
       "      <td>NaN</td>\n",
       "      <td>NaN</td>\n",
       "      <td>NaN</td>\n",
       "      <td>NaN</td>\n",
       "      <td>NaN</td>\n",
       "      <td>NaN</td>\n",
       "    </tr>\n",
       "    <tr>\n",
       "      <th>10</th>\n",
       "      <td>36295030</td>\n",
       "      <td>停止</td>\n",
       "      <td>NaN</td>\n",
       "      <td>NaN</td>\n",
       "      <td>NaN</td>\n",
       "      <td>NaN</td>\n",
       "      <td>NaN</td>\n",
       "      <td>NaN</td>\n",
       "      <td>NaN</td>\n",
       "      <td>NaN</td>\n",
       "    </tr>\n",
       "    <tr>\n",
       "      <th>11</th>\n",
       "      <td>36295031</td>\n",
       "      <td>停止</td>\n",
       "      <td>NaN</td>\n",
       "      <td>NaN</td>\n",
       "      <td>NaN</td>\n",
       "      <td>NaN</td>\n",
       "      <td>NaN</td>\n",
       "      <td>NaN</td>\n",
       "      <td>NaN</td>\n",
       "      <td>NaN</td>\n",
       "    </tr>\n",
       "    <tr>\n",
       "      <th>12</th>\n",
       "      <td>36295032</td>\n",
       "      <td>停止</td>\n",
       "      <td>NaN</td>\n",
       "      <td>NaN</td>\n",
       "      <td>NaN</td>\n",
       "      <td>NaN</td>\n",
       "      <td>NaN</td>\n",
       "      <td>NaN</td>\n",
       "      <td>NaN</td>\n",
       "      <td>NaN</td>\n",
       "    </tr>\n",
       "    <tr>\n",
       "      <th>13</th>\n",
       "      <td>36295033</td>\n",
       "      <td>停止</td>\n",
       "      <td>NaN</td>\n",
       "      <td>NaN</td>\n",
       "      <td>NaN</td>\n",
       "      <td>NaN</td>\n",
       "      <td>NaN</td>\n",
       "      <td>NaN</td>\n",
       "      <td>NaN</td>\n",
       "      <td>NaN</td>\n",
       "    </tr>\n",
       "    <tr>\n",
       "      <th>14</th>\n",
       "      <td>36295034</td>\n",
       "      <td>停止</td>\n",
       "      <td>NaN</td>\n",
       "      <td>NaN</td>\n",
       "      <td>NaN</td>\n",
       "      <td>NaN</td>\n",
       "      <td>NaN</td>\n",
       "      <td>NaN</td>\n",
       "      <td>NaN</td>\n",
       "      <td>NaN</td>\n",
       "    </tr>\n",
       "    <tr>\n",
       "      <th>15</th>\n",
       "      <td>36295035</td>\n",
       "      <td>停止</td>\n",
       "      <td>NaN</td>\n",
       "      <td>NaN</td>\n",
       "      <td>NaN</td>\n",
       "      <td>NaN</td>\n",
       "      <td>NaN</td>\n",
       "      <td>NaN</td>\n",
       "      <td>NaN</td>\n",
       "      <td>NaN</td>\n",
       "    </tr>\n",
       "    <tr>\n",
       "      <th>16</th>\n",
       "      <td>36295036</td>\n",
       "      <td>停止</td>\n",
       "      <td>NaN</td>\n",
       "      <td>NaN</td>\n",
       "      <td>NaN</td>\n",
       "      <td>NaN</td>\n",
       "      <td>NaN</td>\n",
       "      <td>NaN</td>\n",
       "      <td>NaN</td>\n",
       "      <td>NaN</td>\n",
       "    </tr>\n",
       "    <tr>\n",
       "      <th>17</th>\n",
       "      <td>36295037</td>\n",
       "      <td>停止</td>\n",
       "      <td>NaN</td>\n",
       "      <td>NaN</td>\n",
       "      <td>NaN</td>\n",
       "      <td>NaN</td>\n",
       "      <td>NaN</td>\n",
       "      <td>NaN</td>\n",
       "      <td>NaN</td>\n",
       "      <td>NaN</td>\n",
       "    </tr>\n",
       "    <tr>\n",
       "      <th>18</th>\n",
       "      <td>36295038</td>\n",
       "      <td>停止</td>\n",
       "      <td>NaN</td>\n",
       "      <td>NaN</td>\n",
       "      <td>NaN</td>\n",
       "      <td>NaN</td>\n",
       "      <td>NaN</td>\n",
       "      <td>NaN</td>\n",
       "      <td>NaN</td>\n",
       "      <td>NaN</td>\n",
       "    </tr>\n",
       "    <tr>\n",
       "      <th>19</th>\n",
       "      <td>36295039</td>\n",
       "      <td>停止</td>\n",
       "      <td>NaN</td>\n",
       "      <td>NaN</td>\n",
       "      <td>NaN</td>\n",
       "      <td>NaN</td>\n",
       "      <td>NaN</td>\n",
       "      <td>NaN</td>\n",
       "      <td>NaN</td>\n",
       "      <td>NaN</td>\n",
       "    </tr>\n",
       "    <tr>\n",
       "      <th>20</th>\n",
       "      <td>36295040</td>\n",
       "      <td>停止</td>\n",
       "      <td>NaN</td>\n",
       "      <td>NaN</td>\n",
       "      <td>NaN</td>\n",
       "      <td>NaN</td>\n",
       "      <td>NaN</td>\n",
       "      <td>NaN</td>\n",
       "      <td>NaN</td>\n",
       "      <td>NaN</td>\n",
       "    </tr>\n",
       "    <tr>\n",
       "      <th>21</th>\n",
       "      <td>36295041</td>\n",
       "      <td>停止</td>\n",
       "      <td>NaN</td>\n",
       "      <td>NaN</td>\n",
       "      <td>NaN</td>\n",
       "      <td>NaN</td>\n",
       "      <td>NaN</td>\n",
       "      <td>NaN</td>\n",
       "      <td>NaN</td>\n",
       "      <td>NaN</td>\n",
       "    </tr>\n",
       "    <tr>\n",
       "      <th>22</th>\n",
       "      <td>36295042</td>\n",
       "      <td>停止</td>\n",
       "      <td>NaN</td>\n",
       "      <td>NaN</td>\n",
       "      <td>NaN</td>\n",
       "      <td>NaN</td>\n",
       "      <td>NaN</td>\n",
       "      <td>NaN</td>\n",
       "      <td>NaN</td>\n",
       "      <td>NaN</td>\n",
       "    </tr>\n",
       "    <tr>\n",
       "      <th>23</th>\n",
       "      <td>36295043</td>\n",
       "      <td>停止</td>\n",
       "      <td>NaN</td>\n",
       "      <td>NaN</td>\n",
       "      <td>NaN</td>\n",
       "      <td>NaN</td>\n",
       "      <td>NaN</td>\n",
       "      <td>NaN</td>\n",
       "      <td>NaN</td>\n",
       "      <td>NaN</td>\n",
       "    </tr>\n",
       "    <tr>\n",
       "      <th>24</th>\n",
       "      <td>36295044</td>\n",
       "      <td>停止</td>\n",
       "      <td>NaN</td>\n",
       "      <td>NaN</td>\n",
       "      <td>NaN</td>\n",
       "      <td>NaN</td>\n",
       "      <td>NaN</td>\n",
       "      <td>NaN</td>\n",
       "      <td>NaN</td>\n",
       "      <td>NaN</td>\n",
       "    </tr>\n",
       "    <tr>\n",
       "      <th>25</th>\n",
       "      <td>36295045</td>\n",
       "      <td>停止</td>\n",
       "      <td>NaN</td>\n",
       "      <td>NaN</td>\n",
       "      <td>NaN</td>\n",
       "      <td>NaN</td>\n",
       "      <td>NaN</td>\n",
       "      <td>NaN</td>\n",
       "      <td>NaN</td>\n",
       "      <td>NaN</td>\n",
       "    </tr>\n",
       "    <tr>\n",
       "      <th>26</th>\n",
       "      <td>36295046</td>\n",
       "      <td>停止</td>\n",
       "      <td>NaN</td>\n",
       "      <td>NaN</td>\n",
       "      <td>NaN</td>\n",
       "      <td>NaN</td>\n",
       "      <td>NaN</td>\n",
       "      <td>NaN</td>\n",
       "      <td>NaN</td>\n",
       "      <td>NaN</td>\n",
       "    </tr>\n",
       "    <tr>\n",
       "      <th>27</th>\n",
       "      <td>36295047</td>\n",
       "      <td>停止</td>\n",
       "      <td>NaN</td>\n",
       "      <td>NaN</td>\n",
       "      <td>NaN</td>\n",
       "      <td>NaN</td>\n",
       "      <td>NaN</td>\n",
       "      <td>NaN</td>\n",
       "      <td>NaN</td>\n",
       "      <td>NaN</td>\n",
       "    </tr>\n",
       "    <tr>\n",
       "      <th>28</th>\n",
       "      <td>36295048</td>\n",
       "      <td>停止</td>\n",
       "      <td>NaN</td>\n",
       "      <td>NaN</td>\n",
       "      <td>NaN</td>\n",
       "      <td>NaN</td>\n",
       "      <td>NaN</td>\n",
       "      <td>NaN</td>\n",
       "      <td>NaN</td>\n",
       "      <td>NaN</td>\n",
       "    </tr>\n",
       "    <tr>\n",
       "      <th>29</th>\n",
       "      <td>36295049</td>\n",
       "      <td>停止</td>\n",
       "      <td>NaN</td>\n",
       "      <td>NaN</td>\n",
       "      <td>NaN</td>\n",
       "      <td>NaN</td>\n",
       "      <td>NaN</td>\n",
       "      <td>NaN</td>\n",
       "      <td>NaN</td>\n",
       "      <td>NaN</td>\n",
       "    </tr>\n",
       "    <tr>\n",
       "      <th>...</th>\n",
       "      <td>...</td>\n",
       "      <td>...</td>\n",
       "      <td>...</td>\n",
       "      <td>...</td>\n",
       "      <td>...</td>\n",
       "      <td>...</td>\n",
       "      <td>...</td>\n",
       "      <td>...</td>\n",
       "      <td>...</td>\n",
       "      <td>...</td>\n",
       "    </tr>\n",
       "    <tr>\n",
       "      <th>938777</th>\n",
       "      <td>37233797</td>\n",
       "      <td>なし</td>\n",
       "      <td>なし</td>\n",
       "      <td>なし</td>\n",
       "      <td>なし</td>\n",
       "      <td>両足</td>\n",
       "      <td>止まる</td>\n",
       "      <td>なし</td>\n",
       "      <td>直立</td>\n",
       "      <td>114</td>\n",
       "    </tr>\n",
       "    <tr>\n",
       "      <th>938778</th>\n",
       "      <td>37233798</td>\n",
       "      <td>なし</td>\n",
       "      <td>なし</td>\n",
       "      <td>なし</td>\n",
       "      <td>なし</td>\n",
       "      <td>両足</td>\n",
       "      <td>止まる</td>\n",
       "      <td>なし</td>\n",
       "      <td>直立</td>\n",
       "      <td>114</td>\n",
       "    </tr>\n",
       "    <tr>\n",
       "      <th>938779</th>\n",
       "      <td>37233799</td>\n",
       "      <td>なし</td>\n",
       "      <td>なし</td>\n",
       "      <td>なし</td>\n",
       "      <td>なし</td>\n",
       "      <td>両足</td>\n",
       "      <td>止まる</td>\n",
       "      <td>なし</td>\n",
       "      <td>直立</td>\n",
       "      <td>114</td>\n",
       "    </tr>\n",
       "    <tr>\n",
       "      <th>938780</th>\n",
       "      <td>37233800</td>\n",
       "      <td>なし</td>\n",
       "      <td>なし</td>\n",
       "      <td>なし</td>\n",
       "      <td>なし</td>\n",
       "      <td>両足</td>\n",
       "      <td>止まる</td>\n",
       "      <td>なし</td>\n",
       "      <td>直立</td>\n",
       "      <td>114</td>\n",
       "    </tr>\n",
       "    <tr>\n",
       "      <th>938781</th>\n",
       "      <td>37233801</td>\n",
       "      <td>なし</td>\n",
       "      <td>なし</td>\n",
       "      <td>なし</td>\n",
       "      <td>なし</td>\n",
       "      <td>両足</td>\n",
       "      <td>止まる</td>\n",
       "      <td>なし</td>\n",
       "      <td>直立</td>\n",
       "      <td>114</td>\n",
       "    </tr>\n",
       "    <tr>\n",
       "      <th>938782</th>\n",
       "      <td>37233802</td>\n",
       "      <td>なし</td>\n",
       "      <td>なし</td>\n",
       "      <td>なし</td>\n",
       "      <td>なし</td>\n",
       "      <td>両足</td>\n",
       "      <td>止まる</td>\n",
       "      <td>なし</td>\n",
       "      <td>直立</td>\n",
       "      <td>114</td>\n",
       "    </tr>\n",
       "    <tr>\n",
       "      <th>938783</th>\n",
       "      <td>37233803</td>\n",
       "      <td>なし</td>\n",
       "      <td>なし</td>\n",
       "      <td>なし</td>\n",
       "      <td>なし</td>\n",
       "      <td>両足</td>\n",
       "      <td>止まる</td>\n",
       "      <td>なし</td>\n",
       "      <td>直立</td>\n",
       "      <td>114</td>\n",
       "    </tr>\n",
       "    <tr>\n",
       "      <th>938784</th>\n",
       "      <td>37233804</td>\n",
       "      <td>なし</td>\n",
       "      <td>なし</td>\n",
       "      <td>なし</td>\n",
       "      <td>なし</td>\n",
       "      <td>両足</td>\n",
       "      <td>止まる</td>\n",
       "      <td>なし</td>\n",
       "      <td>直立</td>\n",
       "      <td>114</td>\n",
       "    </tr>\n",
       "    <tr>\n",
       "      <th>938785</th>\n",
       "      <td>37233805</td>\n",
       "      <td>なし</td>\n",
       "      <td>なし</td>\n",
       "      <td>なし</td>\n",
       "      <td>なし</td>\n",
       "      <td>両足</td>\n",
       "      <td>止まる</td>\n",
       "      <td>なし</td>\n",
       "      <td>直立</td>\n",
       "      <td>114</td>\n",
       "    </tr>\n",
       "    <tr>\n",
       "      <th>938786</th>\n",
       "      <td>37233806</td>\n",
       "      <td>なし</td>\n",
       "      <td>なし</td>\n",
       "      <td>なし</td>\n",
       "      <td>なし</td>\n",
       "      <td>両足</td>\n",
       "      <td>止まる</td>\n",
       "      <td>なし</td>\n",
       "      <td>直立</td>\n",
       "      <td>114</td>\n",
       "    </tr>\n",
       "    <tr>\n",
       "      <th>938787</th>\n",
       "      <td>37233807</td>\n",
       "      <td>なし</td>\n",
       "      <td>なし</td>\n",
       "      <td>なし</td>\n",
       "      <td>なし</td>\n",
       "      <td>両足</td>\n",
       "      <td>止まる</td>\n",
       "      <td>なし</td>\n",
       "      <td>直立</td>\n",
       "      <td>114</td>\n",
       "    </tr>\n",
       "    <tr>\n",
       "      <th>938788</th>\n",
       "      <td>37233808</td>\n",
       "      <td>なし</td>\n",
       "      <td>なし</td>\n",
       "      <td>なし</td>\n",
       "      <td>なし</td>\n",
       "      <td>両足</td>\n",
       "      <td>止まる</td>\n",
       "      <td>なし</td>\n",
       "      <td>直立</td>\n",
       "      <td>114</td>\n",
       "    </tr>\n",
       "    <tr>\n",
       "      <th>938789</th>\n",
       "      <td>37233809</td>\n",
       "      <td>なし</td>\n",
       "      <td>なし</td>\n",
       "      <td>なし</td>\n",
       "      <td>なし</td>\n",
       "      <td>両足</td>\n",
       "      <td>止まる</td>\n",
       "      <td>なし</td>\n",
       "      <td>直立</td>\n",
       "      <td>114</td>\n",
       "    </tr>\n",
       "    <tr>\n",
       "      <th>938790</th>\n",
       "      <td>37233810</td>\n",
       "      <td>なし</td>\n",
       "      <td>なし</td>\n",
       "      <td>なし</td>\n",
       "      <td>なし</td>\n",
       "      <td>両足</td>\n",
       "      <td>止まる</td>\n",
       "      <td>なし</td>\n",
       "      <td>直立</td>\n",
       "      <td>114</td>\n",
       "    </tr>\n",
       "    <tr>\n",
       "      <th>938791</th>\n",
       "      <td>37233811</td>\n",
       "      <td>なし</td>\n",
       "      <td>なし</td>\n",
       "      <td>なし</td>\n",
       "      <td>なし</td>\n",
       "      <td>両足</td>\n",
       "      <td>止まる</td>\n",
       "      <td>なし</td>\n",
       "      <td>直立</td>\n",
       "      <td>114</td>\n",
       "    </tr>\n",
       "    <tr>\n",
       "      <th>938792</th>\n",
       "      <td>37233812</td>\n",
       "      <td>なし</td>\n",
       "      <td>なし</td>\n",
       "      <td>なし</td>\n",
       "      <td>なし</td>\n",
       "      <td>両足</td>\n",
       "      <td>止まる</td>\n",
       "      <td>なし</td>\n",
       "      <td>直立</td>\n",
       "      <td>114</td>\n",
       "    </tr>\n",
       "    <tr>\n",
       "      <th>938793</th>\n",
       "      <td>37233813</td>\n",
       "      <td>なし</td>\n",
       "      <td>なし</td>\n",
       "      <td>なし</td>\n",
       "      <td>なし</td>\n",
       "      <td>両足</td>\n",
       "      <td>止まる</td>\n",
       "      <td>なし</td>\n",
       "      <td>直立</td>\n",
       "      <td>114</td>\n",
       "    </tr>\n",
       "    <tr>\n",
       "      <th>938794</th>\n",
       "      <td>37233814</td>\n",
       "      <td>なし</td>\n",
       "      <td>なし</td>\n",
       "      <td>なし</td>\n",
       "      <td>なし</td>\n",
       "      <td>両足</td>\n",
       "      <td>止まる</td>\n",
       "      <td>なし</td>\n",
       "      <td>直立</td>\n",
       "      <td>114</td>\n",
       "    </tr>\n",
       "    <tr>\n",
       "      <th>938795</th>\n",
       "      <td>37233815</td>\n",
       "      <td>なし</td>\n",
       "      <td>なし</td>\n",
       "      <td>なし</td>\n",
       "      <td>なし</td>\n",
       "      <td>両足</td>\n",
       "      <td>止まる</td>\n",
       "      <td>なし</td>\n",
       "      <td>直立</td>\n",
       "      <td>114</td>\n",
       "    </tr>\n",
       "    <tr>\n",
       "      <th>938796</th>\n",
       "      <td>37233816</td>\n",
       "      <td>なし</td>\n",
       "      <td>なし</td>\n",
       "      <td>なし</td>\n",
       "      <td>なし</td>\n",
       "      <td>両足</td>\n",
       "      <td>止まる</td>\n",
       "      <td>なし</td>\n",
       "      <td>直立</td>\n",
       "      <td>114</td>\n",
       "    </tr>\n",
       "    <tr>\n",
       "      <th>938797</th>\n",
       "      <td>37233817</td>\n",
       "      <td>なし</td>\n",
       "      <td>なし</td>\n",
       "      <td>なし</td>\n",
       "      <td>なし</td>\n",
       "      <td>両足</td>\n",
       "      <td>止まる</td>\n",
       "      <td>なし</td>\n",
       "      <td>直立</td>\n",
       "      <td>114</td>\n",
       "    </tr>\n",
       "    <tr>\n",
       "      <th>938798</th>\n",
       "      <td>37233818</td>\n",
       "      <td>なし</td>\n",
       "      <td>なし</td>\n",
       "      <td>なし</td>\n",
       "      <td>なし</td>\n",
       "      <td>両足</td>\n",
       "      <td>止まる</td>\n",
       "      <td>なし</td>\n",
       "      <td>直立</td>\n",
       "      <td>114</td>\n",
       "    </tr>\n",
       "    <tr>\n",
       "      <th>938799</th>\n",
       "      <td>37233819</td>\n",
       "      <td>なし</td>\n",
       "      <td>なし</td>\n",
       "      <td>なし</td>\n",
       "      <td>なし</td>\n",
       "      <td>両足</td>\n",
       "      <td>止まる</td>\n",
       "      <td>なし</td>\n",
       "      <td>直立</td>\n",
       "      <td>114</td>\n",
       "    </tr>\n",
       "    <tr>\n",
       "      <th>938800</th>\n",
       "      <td>37233820</td>\n",
       "      <td>なし</td>\n",
       "      <td>なし</td>\n",
       "      <td>なし</td>\n",
       "      <td>なし</td>\n",
       "      <td>両足</td>\n",
       "      <td>止まる</td>\n",
       "      <td>なし</td>\n",
       "      <td>直立</td>\n",
       "      <td>114</td>\n",
       "    </tr>\n",
       "    <tr>\n",
       "      <th>938801</th>\n",
       "      <td>37233821</td>\n",
       "      <td>なし</td>\n",
       "      <td>なし</td>\n",
       "      <td>なし</td>\n",
       "      <td>なし</td>\n",
       "      <td>両足</td>\n",
       "      <td>止まる</td>\n",
       "      <td>なし</td>\n",
       "      <td>直立</td>\n",
       "      <td>114</td>\n",
       "    </tr>\n",
       "    <tr>\n",
       "      <th>938802</th>\n",
       "      <td>37233822</td>\n",
       "      <td>なし</td>\n",
       "      <td>なし</td>\n",
       "      <td>なし</td>\n",
       "      <td>なし</td>\n",
       "      <td>両足</td>\n",
       "      <td>止まる</td>\n",
       "      <td>なし</td>\n",
       "      <td>直立</td>\n",
       "      <td>114</td>\n",
       "    </tr>\n",
       "    <tr>\n",
       "      <th>938803</th>\n",
       "      <td>37233823</td>\n",
       "      <td>なし</td>\n",
       "      <td>なし</td>\n",
       "      <td>なし</td>\n",
       "      <td>なし</td>\n",
       "      <td>両足</td>\n",
       "      <td>止まる</td>\n",
       "      <td>なし</td>\n",
       "      <td>直立</td>\n",
       "      <td>114</td>\n",
       "    </tr>\n",
       "    <tr>\n",
       "      <th>938804</th>\n",
       "      <td>37233824</td>\n",
       "      <td>なし</td>\n",
       "      <td>なし</td>\n",
       "      <td>なし</td>\n",
       "      <td>なし</td>\n",
       "      <td>両足</td>\n",
       "      <td>止まる</td>\n",
       "      <td>なし</td>\n",
       "      <td>直立</td>\n",
       "      <td>114</td>\n",
       "    </tr>\n",
       "    <tr>\n",
       "      <th>938805</th>\n",
       "      <td>37233825</td>\n",
       "      <td>なし</td>\n",
       "      <td>なし</td>\n",
       "      <td>なし</td>\n",
       "      <td>なし</td>\n",
       "      <td>両足</td>\n",
       "      <td>止まる</td>\n",
       "      <td>なし</td>\n",
       "      <td>直立</td>\n",
       "      <td>114</td>\n",
       "    </tr>\n",
       "    <tr>\n",
       "      <th>938806</th>\n",
       "      <td>37233826</td>\n",
       "      <td>なし</td>\n",
       "      <td>なし</td>\n",
       "      <td>なし</td>\n",
       "      <td>なし</td>\n",
       "      <td>両足</td>\n",
       "      <td>止まる</td>\n",
       "      <td>なし</td>\n",
       "      <td>直立</td>\n",
       "      <td>114</td>\n",
       "    </tr>\n",
       "  </tbody>\n",
       "</table>\n",
       "<p>938807 rows × 10 columns</p>\n",
       "</div>"
      ],
      "text/plain": [
       "               0   1    2    3    4    5    6    7    8    9\n",
       "0       36295020  停止  NaN  NaN  NaN  NaN  NaN  NaN  NaN  NaN\n",
       "1       36295021  停止  NaN  NaN  NaN  NaN  NaN  NaN  NaN  NaN\n",
       "2       36295022  停止  NaN  NaN  NaN  NaN  NaN  NaN  NaN  NaN\n",
       "3       36295023  停止  NaN  NaN  NaN  NaN  NaN  NaN  NaN  NaN\n",
       "4       36295024  停止  NaN  NaN  NaN  NaN  NaN  NaN  NaN  NaN\n",
       "5       36295025  停止  NaN  NaN  NaN  NaN  NaN  NaN  NaN  NaN\n",
       "6       36295026  停止  NaN  NaN  NaN  NaN  NaN  NaN  NaN  NaN\n",
       "7       36295027  停止  NaN  NaN  NaN  NaN  NaN  NaN  NaN  NaN\n",
       "8       36295028  停止  NaN  NaN  NaN  NaN  NaN  NaN  NaN  NaN\n",
       "9       36295029  停止  NaN  NaN  NaN  NaN  NaN  NaN  NaN  NaN\n",
       "10      36295030  停止  NaN  NaN  NaN  NaN  NaN  NaN  NaN  NaN\n",
       "11      36295031  停止  NaN  NaN  NaN  NaN  NaN  NaN  NaN  NaN\n",
       "12      36295032  停止  NaN  NaN  NaN  NaN  NaN  NaN  NaN  NaN\n",
       "13      36295033  停止  NaN  NaN  NaN  NaN  NaN  NaN  NaN  NaN\n",
       "14      36295034  停止  NaN  NaN  NaN  NaN  NaN  NaN  NaN  NaN\n",
       "15      36295035  停止  NaN  NaN  NaN  NaN  NaN  NaN  NaN  NaN\n",
       "16      36295036  停止  NaN  NaN  NaN  NaN  NaN  NaN  NaN  NaN\n",
       "17      36295037  停止  NaN  NaN  NaN  NaN  NaN  NaN  NaN  NaN\n",
       "18      36295038  停止  NaN  NaN  NaN  NaN  NaN  NaN  NaN  NaN\n",
       "19      36295039  停止  NaN  NaN  NaN  NaN  NaN  NaN  NaN  NaN\n",
       "20      36295040  停止  NaN  NaN  NaN  NaN  NaN  NaN  NaN  NaN\n",
       "21      36295041  停止  NaN  NaN  NaN  NaN  NaN  NaN  NaN  NaN\n",
       "22      36295042  停止  NaN  NaN  NaN  NaN  NaN  NaN  NaN  NaN\n",
       "23      36295043  停止  NaN  NaN  NaN  NaN  NaN  NaN  NaN  NaN\n",
       "24      36295044  停止  NaN  NaN  NaN  NaN  NaN  NaN  NaN  NaN\n",
       "25      36295045  停止  NaN  NaN  NaN  NaN  NaN  NaN  NaN  NaN\n",
       "26      36295046  停止  NaN  NaN  NaN  NaN  NaN  NaN  NaN  NaN\n",
       "27      36295047  停止  NaN  NaN  NaN  NaN  NaN  NaN  NaN  NaN\n",
       "28      36295048  停止  NaN  NaN  NaN  NaN  NaN  NaN  NaN  NaN\n",
       "29      36295049  停止  NaN  NaN  NaN  NaN  NaN  NaN  NaN  NaN\n",
       "...          ...  ..  ...  ...  ...  ...  ...  ...  ...  ...\n",
       "938777  37233797  なし   なし   なし   なし   両足  止まる   なし   直立  114\n",
       "938778  37233798  なし   なし   なし   なし   両足  止まる   なし   直立  114\n",
       "938779  37233799  なし   なし   なし   なし   両足  止まる   なし   直立  114\n",
       "938780  37233800  なし   なし   なし   なし   両足  止まる   なし   直立  114\n",
       "938781  37233801  なし   なし   なし   なし   両足  止まる   なし   直立  114\n",
       "938782  37233802  なし   なし   なし   なし   両足  止まる   なし   直立  114\n",
       "938783  37233803  なし   なし   なし   なし   両足  止まる   なし   直立  114\n",
       "938784  37233804  なし   なし   なし   なし   両足  止まる   なし   直立  114\n",
       "938785  37233805  なし   なし   なし   なし   両足  止まる   なし   直立  114\n",
       "938786  37233806  なし   なし   なし   なし   両足  止まる   なし   直立  114\n",
       "938787  37233807  なし   なし   なし   なし   両足  止まる   なし   直立  114\n",
       "938788  37233808  なし   なし   なし   なし   両足  止まる   なし   直立  114\n",
       "938789  37233809  なし   なし   なし   なし   両足  止まる   なし   直立  114\n",
       "938790  37233810  なし   なし   なし   なし   両足  止まる   なし   直立  114\n",
       "938791  37233811  なし   なし   なし   なし   両足  止まる   なし   直立  114\n",
       "938792  37233812  なし   なし   なし   なし   両足  止まる   なし   直立  114\n",
       "938793  37233813  なし   なし   なし   なし   両足  止まる   なし   直立  114\n",
       "938794  37233814  なし   なし   なし   なし   両足  止まる   なし   直立  114\n",
       "938795  37233815  なし   なし   なし   なし   両足  止まる   なし   直立  114\n",
       "938796  37233816  なし   なし   なし   なし   両足  止まる   なし   直立  114\n",
       "938797  37233817  なし   なし   なし   なし   両足  止まる   なし   直立  114\n",
       "938798  37233818  なし   なし   なし   なし   両足  止まる   なし   直立  114\n",
       "938799  37233819  なし   なし   なし   なし   両足  止まる   なし   直立  114\n",
       "938800  37233820  なし   なし   なし   なし   両足  止まる   なし   直立  114\n",
       "938801  37233821  なし   なし   なし   なし   両足  止まる   なし   直立  114\n",
       "938802  37233822  なし   なし   なし   なし   両足  止まる   なし   直立  114\n",
       "938803  37233823  なし   なし   なし   なし   両足  止まる   なし   直立  114\n",
       "938804  37233824  なし   なし   なし   なし   両足  止まる   なし   直立  114\n",
       "938805  37233825  なし   なし   なし   なし   両足  止まる   なし   直立  114\n",
       "938806  37233826  なし   なし   なし   なし   両足  止まる   なし   直立  114\n",
       "\n",
       "[938807 rows x 10 columns]"
      ]
     },
     "execution_count": 23,
     "metadata": {},
     "output_type": "execute_result"
    }
   ],
   "source": [
    "PdLabelArray2"
   ]
  },
  {
   "cell_type": "code",
   "execution_count": 24,
   "metadata": {
    "collapsed": false
   },
   "outputs": [],
   "source": [
    "check = [LabelArray2[i,0] for i in range(1,LabelArray2.shape[0]-1) if (LabelArray2[i,0]-LabelArray2[i-1,0])<=0 ]"
   ]
  },
  {
   "cell_type": "code",
   "execution_count": 25,
   "metadata": {
    "collapsed": false
   },
   "outputs": [
    {
     "data": {
      "text/plain": [
       "[]"
      ]
     },
     "execution_count": 25,
     "metadata": {},
     "output_type": "execute_result"
    }
   ],
   "source": [
    "check"
   ]
  },
  {
   "cell_type": "code",
   "execution_count": 26,
   "metadata": {
    "collapsed": false
   },
   "outputs": [
    {
     "data": {
      "text/plain": [
       "(938807, 10)"
      ]
     },
     "execution_count": 26,
     "metadata": {},
     "output_type": "execute_result"
    }
   ],
   "source": [
    "LabelArray2.shape"
   ]
  },
  {
   "cell_type": "code",
   "execution_count": 27,
   "metadata": {
    "collapsed": false
   },
   "outputs": [
    {
     "data": {
      "text/plain": [
       "array([[36295020, u'\\u505c\\u6b62', nan, ..., nan, nan, nan],\n",
       "       [36295021, u'\\u505c\\u6b62', nan, ..., nan, nan, nan],\n",
       "       [36295022, u'\\u505c\\u6b62', nan, ..., nan, nan, nan],\n",
       "       ..., \n",
       "       [37233824, u'\\u306a\\u3057', u'\\u306a\\u3057', ..., u'\\u306a\\u3057',\n",
       "        u'\\u76f4\\u7acb', 114.0],\n",
       "       [37233825, u'\\u306a\\u3057', u'\\u306a\\u3057', ..., u'\\u306a\\u3057',\n",
       "        u'\\u76f4\\u7acb', 114.0],\n",
       "       [37233826, u'\\u306a\\u3057', u'\\u306a\\u3057', ..., u'\\u306a\\u3057',\n",
       "        u'\\u76f4\\u7acb', 114.0]], dtype=object)"
      ]
     },
     "execution_count": 27,
     "metadata": {},
     "output_type": "execute_result"
    }
   ],
   "source": [
    "LabelArray2"
   ]
  },
  {
   "cell_type": "code",
   "execution_count": 28,
   "metadata": {
    "collapsed": false
   },
   "outputs": [
    {
     "name": "stdout",
     "output_type": "stream",
     "text": [
      "['Chest.npz', 'LeftHand.npz', 'LeftLeg.npz', 'RightHand.npz', 'Rightleg.npz', 'West.npz']\n"
     ]
    }
   ],
   "source": [
    "DictName = os.listdir(DictionaryDataPath)\n",
    "print DictName\n",
    "Sensor5 = np.load(DictionaryDataPath+DictName[0])['data'][()]\n",
    "Sensor1 = np.load(DictionaryDataPath+DictName[1])['data'][()]\n",
    "Sensor3 = np.load(DictionaryDataPath+DictName[2])['data'][()]\n",
    "Sensor2 = np.load(DictionaryDataPath+DictName[3])['data'][()]\n",
    "Sensor4 = np.load(DictionaryDataPath+DictName[4])['data'][()]\n",
    "Sensor6 = np.load(DictionaryDataPath+DictName[5])['data'][()]"
   ]
  },
  {
   "cell_type": "code",
   "execution_count": 29,
   "metadata": {
    "collapsed": false
   },
   "outputs": [
    {
     "data": {
      "text/plain": [
       "36290413"
      ]
     },
     "execution_count": 29,
     "metadata": {},
     "output_type": "execute_result"
    }
   ],
   "source": [
    "# Sensor1 start Time\n",
    "Sensor1['Time'][0]"
   ]
  },
  {
   "cell_type": "code",
   "execution_count": 30,
   "metadata": {
    "collapsed": false
   },
   "outputs": [
    {
     "data": {
      "text/plain": [
       "37368282"
      ]
     },
     "execution_count": 30,
     "metadata": {},
     "output_type": "execute_result"
    }
   ],
   "source": [
    "# Sensor1 goal Time\n",
    "Sensor1['Time'][-1]"
   ]
  },
  {
   "cell_type": "code",
   "execution_count": 31,
   "metadata": {
    "collapsed": false
   },
   "outputs": [
    {
     "data": {
      "text/plain": [
       "36295020"
      ]
     },
     "execution_count": 31,
     "metadata": {},
     "output_type": "execute_result"
    }
   ],
   "source": [
    "# labeling data start time\n",
    "LabelArray2[0,0]"
   ]
  },
  {
   "cell_type": "code",
   "execution_count": 32,
   "metadata": {
    "collapsed": false
   },
   "outputs": [
    {
     "data": {
      "text/plain": [
       "37233826"
      ]
     },
     "execution_count": 32,
     "metadata": {},
     "output_type": "execute_result"
    }
   ],
   "source": [
    "# labeling data goal time\n",
    "LabelArray2[-1,0]"
   ]
  },
  {
   "cell_type": "code",
   "execution_count": 33,
   "metadata": {
    "collapsed": true
   },
   "outputs": [],
   "source": [
    "# remake labelArray2\n",
    "StartLabelArray2 = np.array([\n",
    "        np.append( Sensor1['Time'][i], LabelArray2[0,1:])\n",
    "        for i in range(LabelArray2[0,0]-Sensor1['Time'][0])\n",
    "    ])"
   ]
  },
  {
   "cell_type": "code",
   "execution_count": 34,
   "metadata": {
    "collapsed": false
   },
   "outputs": [
    {
     "data": {
      "text/plain": [
       "array([[36290413, u'\\u505c\\u6b62', nan, ..., nan, nan, nan],\n",
       "       [36290414, u'\\u505c\\u6b62', nan, ..., nan, nan, nan],\n",
       "       [36290415, u'\\u505c\\u6b62', nan, ..., nan, nan, nan],\n",
       "       ..., \n",
       "       [36295017, u'\\u505c\\u6b62', nan, ..., nan, nan, nan],\n",
       "       [36295018, u'\\u505c\\u6b62', nan, ..., nan, nan, nan],\n",
       "       [36295019, u'\\u505c\\u6b62', nan, ..., nan, nan, nan]], dtype=object)"
      ]
     },
     "execution_count": 34,
     "metadata": {},
     "output_type": "execute_result"
    }
   ],
   "source": [
    "StartLabelArray2"
   ]
  },
  {
   "cell_type": "code",
   "execution_count": 35,
   "metadata": {
    "collapsed": true
   },
   "outputs": [],
   "source": [
    "# remake labelArray2\n",
    "GoalLabelArray2 = np.array([\n",
    "        np.append( LabelArray2[-1,0]+i, LabelArray2[-1,1:])\n",
    "        for i in range(1,1+Sensor1['Time'][-1]-LabelArray2[-1,0])\n",
    "    ])"
   ]
  },
  {
   "cell_type": "code",
   "execution_count": 36,
   "metadata": {
    "collapsed": false
   },
   "outputs": [
    {
     "data": {
      "text/plain": [
       "array([[37233827, u'\\u306a\\u3057', u'\\u306a\\u3057', ..., u'\\u306a\\u3057',\n",
       "        u'\\u76f4\\u7acb', 114.0],\n",
       "       [37233828, u'\\u306a\\u3057', u'\\u306a\\u3057', ..., u'\\u306a\\u3057',\n",
       "        u'\\u76f4\\u7acb', 114.0],\n",
       "       [37233829, u'\\u306a\\u3057', u'\\u306a\\u3057', ..., u'\\u306a\\u3057',\n",
       "        u'\\u76f4\\u7acb', 114.0],\n",
       "       ..., \n",
       "       [37368280, u'\\u306a\\u3057', u'\\u306a\\u3057', ..., u'\\u306a\\u3057',\n",
       "        u'\\u76f4\\u7acb', 114.0],\n",
       "       [37368281, u'\\u306a\\u3057', u'\\u306a\\u3057', ..., u'\\u306a\\u3057',\n",
       "        u'\\u76f4\\u7acb', 114.0],\n",
       "       [37368282, u'\\u306a\\u3057', u'\\u306a\\u3057', ..., u'\\u306a\\u3057',\n",
       "        u'\\u76f4\\u7acb', 114.0]], dtype=object)"
      ]
     },
     "execution_count": 36,
     "metadata": {},
     "output_type": "execute_result"
    }
   ],
   "source": [
    "GoalLabelArray2"
   ]
  },
  {
   "cell_type": "code",
   "execution_count": 37,
   "metadata": {
    "collapsed": false
   },
   "outputs": [],
   "source": [
    "LabelArrayComp = np.vstack((StartLabelArray2, LabelArray2))\n",
    "LabelArrayComp = np.vstack((LabelArrayComp, GoalLabelArray2))"
   ]
  },
  {
   "cell_type": "code",
   "execution_count": 38,
   "metadata": {
    "collapsed": false
   },
   "outputs": [
    {
     "data": {
      "text/plain": [
       "array([[36290413, u'\\u505c\\u6b62', nan, ..., nan, nan, nan],\n",
       "       [36290414, u'\\u505c\\u6b62', nan, ..., nan, nan, nan],\n",
       "       [36290415, u'\\u505c\\u6b62', nan, ..., nan, nan, nan],\n",
       "       ..., \n",
       "       [37368280, u'\\u306a\\u3057', u'\\u306a\\u3057', ..., u'\\u306a\\u3057',\n",
       "        u'\\u76f4\\u7acb', 114.0],\n",
       "       [37368281, u'\\u306a\\u3057', u'\\u306a\\u3057', ..., u'\\u306a\\u3057',\n",
       "        u'\\u76f4\\u7acb', 114.0],\n",
       "       [37368282, u'\\u306a\\u3057', u'\\u306a\\u3057', ..., u'\\u306a\\u3057',\n",
       "        u'\\u76f4\\u7acb', 114.0]], dtype=object)"
      ]
     },
     "execution_count": 38,
     "metadata": {},
     "output_type": "execute_result"
    }
   ],
   "source": [
    "LabelArrayComp"
   ]
  },
  {
   "cell_type": "code",
   "execution_count": 39,
   "metadata": {
    "collapsed": false
   },
   "outputs": [],
   "source": [
    "LabelArrayComp = LabelArrayComp.T"
   ]
  },
  {
   "cell_type": "code",
   "execution_count": 40,
   "metadata": {
    "collapsed": false
   },
   "outputs": [
    {
     "data": {
      "text/plain": [
       "(1077870,)"
      ]
     },
     "execution_count": 40,
     "metadata": {},
     "output_type": "execute_result"
    }
   ],
   "source": [
    "LabelArrayComp[0,:].shape"
   ]
  },
  {
   "cell_type": "code",
   "execution_count": 41,
   "metadata": {
    "collapsed": false
   },
   "outputs": [
    {
     "data": {
      "text/plain": [
       "array([36290413, 36290414, 36290415, ..., 37368280, 37368281, 37368282], dtype=object)"
      ]
     },
     "execution_count": 41,
     "metadata": {},
     "output_type": "execute_result"
    }
   ],
   "source": [
    "LabelArrayComp[0]"
   ]
  },
  {
   "cell_type": "code",
   "execution_count": 42,
   "metadata": {
    "collapsed": false
   },
   "outputs": [
    {
     "data": {
      "text/plain": [
       "(10, 1077870)"
      ]
     },
     "execution_count": 42,
     "metadata": {},
     "output_type": "execute_result"
    }
   ],
   "source": [
    "LabelArrayComp.shape"
   ]
  },
  {
   "cell_type": "code",
   "execution_count": 43,
   "metadata": {
    "collapsed": false
   },
   "outputs": [
    {
     "data": {
      "text/plain": [
       "(10, 1077870)"
      ]
     },
     "execution_count": 43,
     "metadata": {},
     "output_type": "execute_result"
    }
   ],
   "source": [
    "LabelArrayComp.shape"
   ]
  },
  {
   "cell_type": "code",
   "execution_count": 44,
   "metadata": {
    "collapsed": false
   },
   "outputs": [
    {
     "data": {
      "text/plain": [
       "(1077870,)"
      ]
     },
     "execution_count": 44,
     "metadata": {},
     "output_type": "execute_result"
    }
   ],
   "source": [
    "Sensor1['AccX'].shape"
   ]
  },
  {
   "cell_type": "code",
   "execution_count": 45,
   "metadata": {
    "collapsed": false
   },
   "outputs": [
    {
     "data": {
      "text/plain": [
       "['Name', 'Time', 'AccY', 'AccX', 'AccZ', 'GyrZ', 'GyrX', 'GyrY']"
      ]
     },
     "execution_count": 45,
     "metadata": {},
     "output_type": "execute_result"
    }
   ],
   "source": [
    "Sensor1.keys()"
   ]
  },
  {
   "cell_type": "code",
   "execution_count": 46,
   "metadata": {
    "collapsed": false
   },
   "outputs": [
    {
     "name": "stdout",
     "output_type": "stream",
     "text": [
      "LeftHand\n",
      "[36290413 36290414 36290415 ..., 37368280 37368281 37368282]\n",
      "[-0.0423 -0.0516 -0.0577 ..., -0.0248 -0.0275 -0.0248]\n",
      "[-1.0156 -1.0073 -1.0041 ..., -0.0739 -0.0747 -0.0742]\n",
      "[-0.2341 -0.2341 -0.2409 ...,  0.9472  0.9514  0.9502]\n",
      "[ 7.1   6.64  6.4  ..., -0.43 -0.41 -0.23]\n",
      "[ 53.34  53.19  53.04 ...,   0.47   0.28   0.13]\n",
      "[ 17.02  17.11  17.08 ...,  -0.77  -0.74  -0.83]\n"
     ]
    }
   ],
   "source": [
    "for s in Sensor1.keys():\n",
    "    print Sensor1[s]"
   ]
  },
  {
   "cell_type": "code",
   "execution_count": 47,
   "metadata": {
    "collapsed": false
   },
   "outputs": [],
   "source": [
    "npSensor1 = np.array([])\n",
    "npSensor1 = np.vstack((Sensor1['AccX'],Sensor1['AccY']))\n",
    "npSensor1 = np.vstack((npSensor1,Sensor1['AccZ']))\n",
    "npSensor1 = np.vstack((npSensor1,Sensor1['GyrX']))\n",
    "npSensor1 = np.vstack((npSensor1,Sensor1['GyrY']))\n",
    "npSensor1 = np.vstack((npSensor1,Sensor1['GyrZ']))\n",
    "npSensor1 = np.vstack((npSensor1,LabelArrayComp))"
   ]
  },
  {
   "cell_type": "code",
   "execution_count": 48,
   "metadata": {
    "collapsed": false
   },
   "outputs": [
    {
     "data": {
      "text/plain": [
       "(16, 1077870)"
      ]
     },
     "execution_count": 48,
     "metadata": {},
     "output_type": "execute_result"
    }
   ],
   "source": [
    "npSensor1.shape"
   ]
  },
  {
   "cell_type": "code",
   "execution_count": 49,
   "metadata": {
    "collapsed": false
   },
   "outputs": [
    {
     "data": {
      "text/plain": [
       "array([u'\\u505c\\u6b62', u'\\u505c\\u6b62', u'\\u505c\\u6b62', ...,\n",
       "       u'\\u306a\\u3057', u'\\u306a\\u3057', u'\\u306a\\u3057'], dtype=object)"
      ]
     },
     "execution_count": 49,
     "metadata": {},
     "output_type": "execute_result"
    }
   ],
   "source": [
    "npSensor1[7,:]"
   ]
  },
  {
   "cell_type": "code",
   "execution_count": 50,
   "metadata": {
    "collapsed": false
   },
   "outputs": [
    {
     "data": {
      "text/plain": [
       "'utf-8'"
      ]
     },
     "execution_count": 50,
     "metadata": {},
     "output_type": "execute_result"
    }
   ],
   "source": [
    "# -*- coding: utf_8 -*- \n",
    "import sys\n",
    "sys.getdefaultencoding()"
   ]
  },
  {
   "cell_type": "code",
   "execution_count": 51,
   "metadata": {
    "collapsed": false
   },
   "outputs": [
    {
     "name": "stdout",
     "output_type": "stream",
     "text": [
      "雑誌\n"
     ]
    }
   ],
   "source": [
    "print npSensor1[8,40000]"
   ]
  },
  {
   "cell_type": "code",
   "execution_count": 52,
   "metadata": {
    "collapsed": false
   },
   "outputs": [
    {
     "name": "stdout",
     "output_type": "stream",
     "text": [
      "停止\n"
     ]
    }
   ],
   "source": [
    "print npSensor1[7,0]"
   ]
  },
  {
   "cell_type": "code",
   "execution_count": 53,
   "metadata": {
    "collapsed": false
   },
   "outputs": [
    {
     "data": {
      "text/plain": [
       "unicode"
      ]
     },
     "execution_count": 53,
     "metadata": {},
     "output_type": "execute_result"
    }
   ],
   "source": [
    "type( npSensor1[7,0])"
   ]
  },
  {
   "cell_type": "code",
   "execution_count": 54,
   "metadata": {
    "collapsed": false
   },
   "outputs": [],
   "source": [
    "npSensor1T = npSensor1.T"
   ]
  },
  {
   "cell_type": "code",
   "execution_count": 55,
   "metadata": {
    "collapsed": false
   },
   "outputs": [
    {
     "data": {
      "text/plain": [
       "array([-1.0156, -0.042300000000000004, -0.2341, 53.34, 17.02,\n",
       "       7.1000000000000005, 36290413, u'\\u505c\\u6b62', nan, nan, nan, nan,\n",
       "       nan, nan, nan, nan], dtype=object)"
      ]
     },
     "execution_count": 55,
     "metadata": {},
     "output_type": "execute_result"
    }
   ],
   "source": [
    "npSensor1T[0,:]"
   ]
  },
  {
   "cell_type": "code",
   "execution_count": 56,
   "metadata": {
    "collapsed": false
   },
   "outputs": [
    {
     "data": {
      "text/plain": [
       "unicode"
      ]
     },
     "execution_count": 56,
     "metadata": {},
     "output_type": "execute_result"
    }
   ],
   "source": [
    "type( npSensor1T[0,7])"
   ]
  },
  {
   "cell_type": "code",
   "execution_count": 57,
   "metadata": {
    "collapsed": false
   },
   "outputs": [
    {
     "data": {
      "text/plain": [
       "array([[-1.0156, -1.0073, -1.0041, ..., -0.07390000000000001, -0.0747,\n",
       "        -0.0742],\n",
       "       [-0.042300000000000004, -0.0516, -0.0577, ...,\n",
       "        -0.024800000000000003, -0.0275, -0.024800000000000003],\n",
       "       [-0.2341, -0.2341, -0.2409, ..., 0.9472, 0.9514, 0.9502],\n",
       "       ..., \n",
       "       [nan, nan, nan, ..., u'\\u306a\\u3057', u'\\u306a\\u3057',\n",
       "        u'\\u306a\\u3057'],\n",
       "       [nan, nan, nan, ..., u'\\u76f4\\u7acb', u'\\u76f4\\u7acb',\n",
       "        u'\\u76f4\\u7acb'],\n",
       "       [nan, nan, nan, ..., 114.0, 114.0, 114.0]], dtype=object)"
      ]
     },
     "execution_count": 57,
     "metadata": {},
     "output_type": "execute_result"
    }
   ],
   "source": [
    "npSensor1"
   ]
  },
  {
   "cell_type": "code",
   "execution_count": 58,
   "metadata": {
    "collapsed": true
   },
   "outputs": [],
   "source": [
    "np.savez('Label_Sensor1.npz', data=npSensor1)"
   ]
  },
  {
   "cell_type": "code",
   "execution_count": null,
   "metadata": {
    "collapsed": true
   },
   "outputs": [],
   "source": []
  }
 ],
 "metadata": {
  "kernelspec": {
   "display_name": "Python 2",
   "language": "python",
   "name": "python2"
  },
  "language_info": {
   "codemirror_mode": {
    "name": "ipython",
    "version": 2
   },
   "file_extension": ".py",
   "mimetype": "text/x-python",
   "name": "python",
   "nbconvert_exporter": "python",
   "pygments_lexer": "ipython2",
   "version": "2.7.11"
  }
 },
 "nbformat": 4,
 "nbformat_minor": 0
}
