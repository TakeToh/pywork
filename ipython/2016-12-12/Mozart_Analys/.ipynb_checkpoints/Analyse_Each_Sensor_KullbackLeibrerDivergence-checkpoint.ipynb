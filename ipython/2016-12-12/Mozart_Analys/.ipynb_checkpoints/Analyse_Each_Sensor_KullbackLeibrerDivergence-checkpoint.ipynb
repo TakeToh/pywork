{
 "cells": [
  {
   "cell_type": "markdown",
   "metadata": {},
   "source": [
    "幅広くデータを見ていく\n",
    "* 加速度の波形を並べていみる\n",
    "* ウィンドウフレームごとの平均，分散の変化"
   ]
  },
  {
   "cell_type": "code",
   "execution_count": 1,
   "metadata": {
    "collapsed": true
   },
   "outputs": [],
   "source": [
    "# 表示用\n",
    "from tqdm import tqdm\n",
    "from tqdm import tnrange, tqdm_notebook"
   ]
  },
  {
   "cell_type": "code",
   "execution_count": 2,
   "metadata": {
    "collapsed": false
   },
   "outputs": [],
   "source": [
    "import numpy as np\n",
    "from numpy import zeros, newaxis\n",
    "import datetime\n",
    "import os\n",
    "import copy\n",
    "import time\n",
    "\n",
    "# Parametor about Sensor\n",
    "SensorNum=1 # Sensor number\n",
    "#SensorAxis='AccX' # Axis\n",
    "\n",
    "# Parametor about  \" Sliding Window \" \n",
    "WindowWidth =np.array([128,256,512,1024,2048,4096]) # Window Width\n",
    "SlidingWidth =WindowWidth/4 #sliding window\n",
    "\n",
    "# Parametor about Neural Network\n",
    "AEDimention = 16\n",
    "\n",
    "# Define Data Name\n",
    "DATE= str( datetime.date.today() )+'/'\n",
    "TITLE=\"Participants01_First_1/\"\n",
    "\n",
    "# Parametor about \" Data Path\"\n",
    "DataPath = \"/media/takeyama/Transfer/02_ActivityResearch/Paticipants01/01_First/20161018-105301/mem/\"\n",
    "\n",
    "#chopin\n",
    "#StorePath = \"/home/takeyama/Documents/\"\n",
    "#mozart\n",
    "StorePath =\"/media/takeyama/HD-PNFU3/01_ActivityResearchData/\"\n",
    "if not os.path.exists(StorePath+TITLE+'dictionary/'): \n",
    "    os.makedirs(StorePath+TITLE+'dictionary/')\n",
    "DictionaryDataPath=StorePath+TITLE+'dictionary/'\n",
    "\n",
    "if not os.path.exists(StorePath+TITLE+'window/'): \n",
    "    os.makedirs(StorePath+TITLE+'window/')\n",
    "WindowDataPath=StorePath+TITLE+'window/'\n",
    "\n",
    "if not os.path.exists(StorePath+TITLE+DATE+'studyOutput/'): \n",
    "    os.makedirs(StorePath+TITLE+DATE+'studyOutput/')\n",
    "StudyOutputPath=StorePath+TITLE+DATE+'studyOutput/'\n",
    "\n",
    "if not os.path.exists(StorePath+TITLE+DATE+'parametor/'): \n",
    "    os.makedirs(StorePath+TITLE+DATE+'parametor/')\n",
    "ParametorPath=StorePath+TITLE+DATE+'parametor/'\n",
    "\n",
    "if not os.path.exists(StorePath+TITLE+DATE+'result/'): \n",
    "    os.makedirs(StorePath+TITLE+DATE+'result/')\n",
    "ResultPath=StorePath+TITLE+DATE+'result/'\n",
    "\n",
    "if not os.path.exists(StorePath+'/'+TITLE+DATE+'graph/'): \n",
    "    os.makedirs(StorePath+'/'+TITLE+DATE+'graph/')\n",
    "GraphPath=StorePath+'/'+TITLE+DATE+'graph/'\n",
    "\n",
    "if not os.path.exists(StorePath+'/'+TITLE+'feature/'): \n",
    "    os.makedirs(StorePath+'/'+TITLE+'feature/')\n",
    "FeaturePath=StorePath+'/'+TITLE+'feature/'"
   ]
  },
  {
   "cell_type": "markdown",
   "metadata": {},
   "source": [
    "センサデータの読み込み"
   ]
  },
  {
   "cell_type": "code",
   "execution_count": 3,
   "metadata": {
    "collapsed": true
   },
   "outputs": [],
   "source": [
    "# センサデータのcsvファイル名をリストに集約する関数\n",
    "def SensorDataFileNameList(path):\n",
    "    l = os.listdir(DataPath)\n",
    "    FilePath =[]\n",
    "    SensorName = []\n",
    "    \n",
    "    for n in range(len(l)):\n",
    "        if (l[n][:4].find('mem-') != -1):\n",
    "            FilePath.append(l[n])\n",
    "            SensorName.append(l[n][4:15])\n",
    "    \n",
    "    return FilePath,SensorName"
   ]
  },
  {
   "cell_type": "markdown",
   "metadata": {},
   "source": [
    "CSVを読み込んで，CSVの中身を辞書型で表現する"
   ]
  },
  {
   "cell_type": "code",
   "execution_count": 4,
   "metadata": {
    "collapsed": true
   },
   "outputs": [],
   "source": [
    "# FFT library\n",
    "from scipy import fftpack\n",
    "from scipy import signal\n",
    "\n",
    "# Graph Plot\n",
    "import matplotlib.pyplot as plt\n",
    "from matplotlib import gridspec\n",
    "\n",
    "# Generate WindowFrame Function\n",
    "from mymodule import window\n",
    "\n",
    "# timer\n",
    "import time\n",
    "\n",
    "# temp file \n",
    "import tempfile\n",
    "\n",
    "%matplotlib inline"
   ]
  },
  {
   "cell_type": "code",
   "execution_count": 5,
   "metadata": {
    "collapsed": false
   },
   "outputs": [
    {
     "name": "stdout",
     "output_type": "stream",
     "text": [
      "['Chest.npz', 'LeftHand.npz', 'LeftLeg.npz', 'RightHand.npz', 'Rightleg.npz', 'West.npz']\n"
     ]
    }
   ],
   "source": [
    "DictName = os.listdir(DictionaryDataPath)\n",
    "print DictName"
   ]
  },
  {
   "cell_type": "code",
   "execution_count": 6,
   "metadata": {
    "collapsed": false
   },
   "outputs": [],
   "source": [
    "Sensor5 = np.load(DictionaryDataPath+DictName[0])['data'][()]\n",
    "Sensor1 = np.load(DictionaryDataPath+DictName[1])['data'][()]\n",
    "Sensor3 = np.load(DictionaryDataPath+DictName[2])['data'][()]\n",
    "Sensor2 = np.load(DictionaryDataPath+DictName[3])['data'][()]\n",
    "Sensor4 = np.load(DictionaryDataPath+DictName[4])['data'][()]\n",
    "Sensor6 = np.load(DictionaryDataPath+DictName[5])['data'][()]"
   ]
  },
  {
   "cell_type": "code",
   "execution_count": 7,
   "metadata": {
    "collapsed": false
   },
   "outputs": [],
   "source": [
    "def GetWindowFrame(windowName, dataRaw, wWidth, sWidth, PATH):\n",
    "    \"\"\"\n",
    "    data　ウィンドウフレームに変換するデータ\n",
    "    registName　ウィンドウフレームに登録するデータの名前\n",
    "    windowWidth　ウィンドウ幅\n",
    "    slidingWidth　スライド幅\n",
    "    PATH ウィドウフレームを保存するディレクトリ\n",
    "    \n",
    "    \n",
    "    About Function:\n",
    "        与えられたdataからウィンドウ幅windowWidth,スライド幅slidingWidthにしたがって\n",
    "        registNameのウィドウフレームを返す．\n",
    "        また，与えれたPATH内に同様なパラメータ( WindowWidth, slidingWidth)かつ同様な\n",
    "        windowNameのものがある場合，そのデータを返す．\n",
    "        この関数が登録，ウィンドウフレームに変換できるデータは１つとする\n",
    "    \"\"\"\n",
    "    storedName = windowName+'_Win='+str(wWidth).zfill(4)+'_Sld='+str(sWidth).zfill(4)+'.npz'\n",
    "    l = os.listdir(PATH)\n",
    "    \n",
    "    if storedName in l:\n",
    "        print \"this data had finished making\"\n",
    "        return np.load(PATH+storedName)['data'][()]\n",
    "    \n",
    "    w=window()\n",
    "    w.SetData(windowName,dataRaw)    \n",
    "    wind=w.Compile(wWidth,sWidth)\n",
    "    windoW=wind.reshape((len(wind),np.prod(wind.shape[1:])))\n",
    "    \n",
    "    np.savez(PATH+storedName,data=wind)\n",
    "\n",
    "    return wind"
   ]
  },
  {
   "cell_type": "code",
   "execution_count": 8,
   "metadata": {
    "collapsed": false
   },
   "outputs": [
    {
     "name": "stdout",
     "output_type": "stream",
     "text": [
      "this data had finished making\n"
     ]
    }
   ],
   "source": [
    "windowNum = 256\n",
    "slidingNum = windowNum/32\n",
    "\n",
    "wind=GetWindowFrame('AccX', Sensor1['AccX'], windowNum, slidingNum, WindowDataPath)"
   ]
  },
  {
   "cell_type": "code",
   "execution_count": 9,
   "metadata": {
    "collapsed": false
   },
   "outputs": [
    {
     "data": {
      "text/plain": [
       "(134702, 256)"
      ]
     },
     "execution_count": 9,
     "metadata": {},
     "output_type": "execute_result"
    }
   ],
   "source": [
    "wind.shape"
   ]
  },
  {
   "cell_type": "markdown",
   "metadata": {},
   "source": [
    "# Fourier Transformation"
   ]
  },
  {
   "cell_type": "markdown",
   "metadata": {},
   "source": [
    "## Energy"
   ]
  },
  {
   "cell_type": "code",
   "execution_count": 10,
   "metadata": {
    "collapsed": true
   },
   "outputs": [],
   "source": [
    "def FastVector_Energy(windowName, dataRaw, wWidth, sWidth, PATH):\n",
    "    # get windowFrame\n",
    "    wind=GetWindowFrame(windowName, dataRaw, wWidth, sWidth, PATH)\n",
    "    \n",
    "    fftwind = np.fft.fft(wind)  # calcurate fast fourier Transfromation\n",
    "    fftwind = fftwind[:,1:fftwind.shape[1]/2-1] # Orthogonal and Colossus removed\n",
    "    \n",
    "    # calcurate eq\n",
    "    f = lambda x: np.real(x)**2+np.imag(x)**2\n",
    "        \n",
    "    # windowFrame(raw wave) 2d -> windowFrame(power) 1d\n",
    "    SqrF=np.array([\n",
    "            np.real(fftwind[i,l])**2+np.imag(fftwind[i,l])**2\n",
    "            for i in range( fftwind.shape[0] )\n",
    "            for l in range( fftwind.shape[1] )\n",
    "        ])\n",
    "    SqrF = SqrF.reshape(fftwind.shape)    \n",
    "    # calcurate Squared Energy\n",
    "    SqrF=SqrF/SqrF[0,:].size\n",
    "    Output = SqrF**0.5\n",
    "    return Output"
   ]
  },
  {
   "cell_type": "code",
   "execution_count": 11,
   "metadata": {
    "collapsed": false
   },
   "outputs": [
    {
     "name": "stdout",
     "output_type": "stream",
     "text": [
      "this data had finished making\n"
     ]
    },
    {
     "data": {
      "text/plain": [
       "array([[ 1.03481492,  0.62800099,  0.35030575, ...,  0.00392943,\n",
       "         0.00404035,  0.00217489],\n",
       "       [ 1.07849852,  0.5655252 ,  0.36465172, ...,  0.00709209,\n",
       "         0.00864703,  0.00461766],\n",
       "       [ 1.13581682,  0.45977675,  0.44867489, ...,  0.00471155,\n",
       "         0.00884433,  0.0029428 ],\n",
       "       ..., \n",
       "       [ 0.0037493 ,  0.01603853,  0.00454915, ...,  0.00309802,\n",
       "         0.00192374,  0.00459849],\n",
       "       [ 0.00390687,  0.01594376,  0.00475628, ...,  0.00364699,\n",
       "         0.00280984,  0.00436053],\n",
       "       [ 0.00311395,  0.01685216,  0.00487422, ...,  0.0039133 ,\n",
       "         0.00356243,  0.00406847]])"
      ]
     },
     "execution_count": 11,
     "metadata": {},
     "output_type": "execute_result"
    }
   ],
   "source": [
    "FastVector_Energy('AccX', Sensor1['AccX'], windowNum, slidingNum, WindowDataPath)"
   ]
  },
  {
   "cell_type": "markdown",
   "metadata": {},
   "source": [
    "# Frequency"
   ]
  },
  {
   "cell_type": "code",
   "execution_count": 39,
   "metadata": {
    "collapsed": true
   },
   "outputs": [],
   "source": [
    "def FastVector_Frequency(windowName, dataRaw, wWidth, sWidth, PATH):\n",
    "    # get windowFrame\n",
    "    wind=GetWindowFrame(windowName, dataRaw, wWidth, sWidth, PATH)\n",
    "    \n",
    "    fftwind = np.fft.fft(wind)  # calcurate fast fourier Transfromation\n",
    "    fftwind = fftwind[:,1:fftwind.shape[1]/2-1] # Orthogonal and Colossus removed\n",
    "    print fftwind.shape\n",
    "    freq = np.array([np.arctan2(np.imag(fftwind[i,l]),np.real(fftwind[i,l]))\n",
    "                     for i in range( fftwind.shape[0] ) \n",
    "                     for l in range( fftwind.shape[1] ) ])\n",
    "    freq = freq.reshape(fftwind.shape)    \n",
    "    return freq"
   ]
  },
  {
   "cell_type": "code",
   "execution_count": 40,
   "metadata": {
    "collapsed": false
   },
   "outputs": [
    {
     "name": "stdout",
     "output_type": "stream",
     "text": [
      "this data had finished making\n",
      "(134702, 126)\n"
     ]
    },
    {
     "data": {
      "text/plain": [
       "array([[-2.3134421 , -0.66482306,  1.36607344, ..., -0.25934557,\n",
       "         1.13438076, -1.12534596],\n",
       "       [-2.16986485, -0.32701003,  2.14716003, ..., -0.27012506,\n",
       "         0.39047147, -0.29498291],\n",
       "       [-2.05626394,  0.02755833,  2.89894077, ..., -0.26393248,\n",
       "         0.25225265, -0.07524213],\n",
       "       ..., \n",
       "       [ 0.11269169,  2.55758805,  0.60936784, ..., -0.75162513,\n",
       "        -0.30178052, -1.74577297],\n",
       "       [ 0.31402101,  2.94081509,  1.19575204, ..., -1.29739876,\n",
       "        -0.70281606, -1.92154432],\n",
       "       [ 0.6380093 , -2.95361494,  1.97313302, ..., -1.83425335,\n",
       "        -1.09492972, -2.09209573]])"
      ]
     },
     "execution_count": 40,
     "metadata": {},
     "output_type": "execute_result"
    }
   ],
   "source": [
    "FastVector_Frequency('AccX', Sensor1['AccX'], windowNum, slidingNum, WindowDataPath)"
   ]
  },
  {
   "cell_type": "markdown",
   "metadata": {},
   "source": [
    "# Energy"
   ]
  },
  {
   "cell_type": "code",
   "execution_count": null,
   "metadata": {
    "collapsed": false
   },
   "outputs": [],
   "source": [
    "def FastVector_Energy(windowName, dataRaw, wWidth, sWidth, PATH):\n",
    "    # get windowFrame\n",
    "    wind=GetWindowFrame(windowName, dataRaw, wWidth, sWidth, PATH)\n",
    "    \n",
    "    ###########################\n",
    "    ###    calcurate FFT    ###\n",
    "    ###########################\n",
    "    fftwind = np.fft.fft(wind)  # calcurate fast fourier Transfromation\n",
    "    fftwind = fftwind[:,1:fftwind.shape[1]/2-1] # Orthogonal and Colossus removed\n",
    "    \n",
    "    # calcurate eq\n",
    "    f = lambda x: np.real(x)**2+np.imag(x)**2\n",
    "        \n",
    "    # windowFrame(raw wave) 2d -> windowFrame(power) 1d\n",
    "    SqrF=np.array([\n",
    "            np.real(fftwind[i,l])**2+np.imag(fftwind[i,l])**2\n",
    "            for i in range( fftwind.shape[0] )\n",
    "            for l in range( fftwind.shape[1] )\n",
    "        ])\n",
    "    SqrF = SqrF.reshape(fftwind.shape)\n",
    "    \n",
    "    # calcurate Squared Energy\n",
    "    SqrF=SqrF/SqrF[0,:].size\n",
    "    \n",
    "    ##############################\n",
    "    ###    calcurate Entropy   ###\n",
    "    ##############################\n",
    "    P = np.array([SqrF[i]/SqrF[i,:].sum() for i in range(SqrF.shape[0])])\n",
    "    P = P.reshape(SqrF.shape)\n",
    "    \n",
    "    P_logP = np.array([ P[i,l]*np.log(P[i,l]) \\\n",
    "                      for i in range(P.shape[0]) for l in range(P.shape[1])])\n",
    "    P_logP = P_logP.reshape(P.shape)\n",
    "    \n",
    "    Entropy = np.array([\n",
    "            -1*np.sum( P_logP[i,:] ) for i in range(P.shape[0])])\n",
    "    \n",
    "    return Entropy"
   ]
  },
  {
   "cell_type": "code",
   "execution_count": null,
   "metadata": {
    "collapsed": false
   },
   "outputs": [
    {
     "name": "stdout",
     "output_type": "stream",
     "text": [
      "this data had finished making\n"
     ]
    }
   ],
   "source": [
    "e=FastVector_Energy('AccX', Sensor1['AccX'], windowNum, slidingNum, WindowDataPath)"
   ]
  },
  {
   "cell_type": "code",
   "execution_count": null,
   "metadata": {
    "collapsed": false
   },
   "outputs": [],
   "source": [
    "# this length is num of windowFrame\n",
    "e.shape[0]"
   ]
  },
  {
   "cell_type": "markdown",
   "metadata": {},
   "source": [
    "# Kullback leibler Divergence"
   ]
  },
  {
   "cell_type": "code",
   "execution_count": null,
   "metadata": {
    "collapsed": false
   },
   "outputs": [],
   "source": [
    "def FastVector_KLD(dataName, dataX, dataY, wWidth, sWidth, PATH):\n",
    "    \"\"\"\n",
    "        Calculates Kullback–Leibler divergence\n",
    "        input dataX dataY -> 1d Vector\n",
    "    \"\"\"\n",
    "    func_kld =lambda p,q: np.sum(p * np.log(p / q))\n",
    "    \n",
    "    KLD = np.array([ func_kld(dataX[i],dataY[i])\\\n",
    "                    for i in range(dataX.shape[0])])\n",
    "    return KLD"
   ]
  },
  {
   "cell_type": "code",
   "execution_count": null,
   "metadata": {
    "collapsed": false
   },
   "outputs": [],
   "source": [
    "# for FastVector_KLD, make distribution\n",
    "distX=FastVector_Energy('AccX', Sensor1['AccX'], windowNum, slidingNum, WindowDataPath)\n",
    "distY=FastVector_Energy('AccY', Sensor1['AccY'], windowNum, slidingNum, WindowDataPath)"
   ]
  },
  {
   "cell_type": "code",
   "execution_count": null,
   "metadata": {
    "collapsed": false
   },
   "outputs": [],
   "source": [
    "FastVector_KLD('Sensor1',distX,distY, windowNum, slidingNum, WindowDataPath)"
   ]
  },
  {
   "cell_type": "markdown",
   "metadata": {},
   "source": [
    "# Jensen Shannon Divergence"
   ]
  },
  {
   "cell_type": "code",
   "execution_count": null,
   "metadata": {
    "collapsed": true
   },
   "outputs": [],
   "source": [
    "def FastVector_JSD(dataName, dataX, dataY, wWidth, sWidth, PATH):\n",
    "    \n",
    "    func_kld =lambda p,q: np.sum(p * np.log(p / q))\n",
    "    func_jsd =lambda p,q: 0.5 * kld(p, m) + 0.5 * kld(q, m)\n",
    "\n",
    "    JSD = np.array([ func_jsd(dataX[i],dataY[i])\\\n",
    "                    for i in range(dataX.shape[0])])\n",
    "    return JSD.sum()"
   ]
  },
  {
   "cell_type": "code",
   "execution_count": null,
   "metadata": {
    "collapsed": false
   },
   "outputs": [],
   "source": [
    "distX=FastVector_Energy('AccX', Sensor1['AccX'], windowNum, slidingNum, WindowDataPath)\n",
    "distY=FastVector_Energy('AccY', Sensor1['AccY'], windowNum, slidingNum, WindowDataPath)\n",
    "\n",
    "FastVector_JSD('Sensor1',distX,distY, windowNum, slidingNum, WindowDataPath)"
   ]
  },
  {
   "cell_type": "code",
   "execution_count": null,
   "metadata": {
    "collapsed": true
   },
   "outputs": [],
   "source": []
  },
  {
   "cell_type": "code",
   "execution_count": null,
   "metadata": {
    "collapsed": true
   },
   "outputs": [],
   "source": []
  }
 ],
 "metadata": {
  "kernelspec": {
   "display_name": "Python 2",
   "language": "python",
   "name": "python2"
  },
  "language_info": {
   "codemirror_mode": {
    "name": "ipython",
    "version": 2
   },
   "file_extension": ".py",
   "mimetype": "text/x-python",
   "name": "python",
   "nbconvert_exporter": "python",
   "pygments_lexer": "ipython2",
   "version": "2.7.11"
  }
 },
 "nbformat": 4,
 "nbformat_minor": 0
}
