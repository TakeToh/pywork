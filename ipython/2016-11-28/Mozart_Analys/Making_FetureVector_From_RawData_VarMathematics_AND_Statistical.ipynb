{
 "cells": [
  {
   "cell_type": "markdown",
   "metadata": {},
   "source": [
    "幅広くデータを見ていく\n",
    "* 加速度の波形を並べていみる\n",
    "* ウィンドウフレームごとの平均，分散の変化"
   ]
  },
  {
   "cell_type": "code",
   "execution_count": 1,
   "metadata": {
    "collapsed": true
   },
   "outputs": [],
   "source": [
    "# 表示用\n",
    "from tqdm import tqdm\n",
    "from tqdm import tnrange, tqdm_notebook"
   ]
  },
  {
   "cell_type": "code",
   "execution_count": 2,
   "metadata": {
    "collapsed": false
   },
   "outputs": [],
   "source": [
    "import numpy as np\n",
    "from numpy import zeros, newaxis\n",
    "import datetime\n",
    "import os\n",
    "import copy\n",
    "import time\n",
    "\n",
    "# Parametor about Sensor\n",
    "SensorNum=1 # Sensor number\n",
    "#SensorAxis='AccX' # Axis\n",
    "\n",
    "# Parametor about  \" Sliding Window \" \n",
    "WindowWidth =np.array([128,256,512,1024,2048,4096]) # Window Width\n",
    "SlidingWidth =WindowWidth/4 #sliding window\n",
    "\n",
    "# Parametor about Neural Network\n",
    "AEDimention = 16\n",
    "\n",
    "# Define Data Name\n",
    "DATE= str( datetime.date.today() )+'/'\n",
    "TITLE=\"Participants01_First_1/\"\n",
    "\n",
    "# Parametor about \" Data Path\"\n",
    "DataPath = \"/media/takeyama/Transfer/02_ActivityResearch/Paticipants01/01_First/20161018-105301/mem/\"\n",
    "\n",
    "#chopin\n",
    "#StorePath = \"/home/takeyama/Documents/\"\n",
    "#mozart\n",
    "StorePath =\"/media/takeyama/HD-PNFU3/01_ActivityResearchData/\"\n",
    "if not os.path.exists(StorePath+TITLE+'dictionary/'): \n",
    "    os.makedirs(StorePath+TITLE+'dictionary/')\n",
    "DictionaryDataPath=StorePath+TITLE+'dictionary/'\n",
    "\n",
    "if not os.path.exists(StorePath+TITLE+'window/'): \n",
    "    os.makedirs(StorePath+TITLE+'window/')\n",
    "WindowDataPath=StorePath+TITLE+'window/'\n",
    "\n",
    "if not os.path.exists(StorePath+TITLE+DATE+'studyOutput/'): \n",
    "    os.makedirs(StorePath+TITLE+DATE+'studyOutput/')\n",
    "StudyOutputPath=StorePath+TITLE+DATE+'studyOutput/'\n",
    "\n",
    "if not os.path.exists(StorePath+TITLE+DATE+'parametor/'): \n",
    "    os.makedirs(StorePath+TITLE+DATE+'parametor/')\n",
    "ParametorPath=StorePath+TITLE+DATE+'parametor/'\n",
    "\n",
    "if not os.path.exists(StorePath+TITLE+DATE+'result/'): \n",
    "    os.makedirs(StorePath+TITLE+DATE+'result/')\n",
    "ResultPath=StorePath+TITLE+DATE+'result/'\n",
    "\n",
    "if not os.path.exists(StorePath+'/'+TITLE+DATE+'graph/'): \n",
    "    os.makedirs(StorePath+'/'+TITLE+DATE+'graph/')\n",
    "GraphPath=StorePath+'/'+TITLE+DATE+'graph/'\n",
    "\n",
    "if not os.path.exists(StorePath+'/'+TITLE+'feature/'): \n",
    "    os.makedirs(StorePath+'/'+TITLE+'feature/')\n",
    "FeaturePath=StorePath+'/'+TITLE+'feature/'"
   ]
  },
  {
   "cell_type": "markdown",
   "metadata": {},
   "source": [
    "センサデータの読み込み"
   ]
  },
  {
   "cell_type": "code",
   "execution_count": 3,
   "metadata": {
    "collapsed": true
   },
   "outputs": [],
   "source": [
    "# センサデータのcsvファイル名をリストに集約する関数\n",
    "def SensorDataFileNameList(path):\n",
    "    l = os.listdir(DataPath)\n",
    "    FilePath =[]\n",
    "    SensorName = []\n",
    "    \n",
    "    for n in range(len(l)):\n",
    "        if (l[n][:4].find('mem-') != -1):\n",
    "            FilePath.append(l[n])\n",
    "            SensorName.append(l[n][4:15])\n",
    "    \n",
    "    return FilePath,SensorName"
   ]
  },
  {
   "cell_type": "markdown",
   "metadata": {},
   "source": [
    "CSVを読み込んで，CSVの中身を辞書型で表現する"
   ]
  },
  {
   "cell_type": "code",
   "execution_count": 4,
   "metadata": {
    "collapsed": true
   },
   "outputs": [],
   "source": [
    "# FFT library\n",
    "from scipy import fftpack\n",
    "from scipy import signal\n",
    "\n",
    "# Graph Plot\n",
    "import matplotlib.pyplot as plt\n",
    "from matplotlib import gridspec\n",
    "\n",
    "# Generate WindowFrame Function\n",
    "from mymodule import window\n",
    "\n",
    "# timer\n",
    "import time\n",
    "\n",
    "# temp file \n",
    "import tempfile\n",
    "\n",
    "%matplotlib inline"
   ]
  },
  {
   "cell_type": "code",
   "execution_count": 5,
   "metadata": {
    "collapsed": false
   },
   "outputs": [
    {
     "name": "stdout",
     "output_type": "stream",
     "text": [
      "['Chest.npz', 'LeftHand.npz', 'LeftLeg.npz', 'RightHand.npz', 'Rightleg.npz', 'West.npz']\n"
     ]
    }
   ],
   "source": [
    "DictName = os.listdir(DictionaryDataPath)\n",
    "print DictName"
   ]
  },
  {
   "cell_type": "code",
   "execution_count": 6,
   "metadata": {
    "collapsed": false
   },
   "outputs": [],
   "source": [
    "Sensor5 = np.load(DictionaryDataPath+DictName[0])['data'][()]\n",
    "Sensor1 = np.load(DictionaryDataPath+DictName[1])['data'][()]\n",
    "Sensor3 = np.load(DictionaryDataPath+DictName[2])['data'][()]\n",
    "Sensor2 = np.load(DictionaryDataPath+DictName[3])['data'][()]\n",
    "Sensor4 = np.load(DictionaryDataPath+DictName[4])['data'][()]\n",
    "Sensor6 = np.load(DictionaryDataPath+DictName[5])['data'][()]"
   ]
  },
  {
   "cell_type": "code",
   "execution_count": 7,
   "metadata": {
    "collapsed": false
   },
   "outputs": [],
   "source": [
    "def GetWindowFrame(windowName, dataRaw, wWidth, sWidth, PATH):\n",
    "    \"\"\"\n",
    "    data　ウィンドウフレームに変換するデータ\n",
    "    registName　ウィンドウフレームに登録するデータの名前\n",
    "    windowWidth　ウィンドウ幅\n",
    "    slidingWidth　スライド幅\n",
    "    PATH ウィドウフレームを保存するディレクトリ\n",
    "    \n",
    "    \n",
    "    About Function:\n",
    "        与えられたdataからウィンドウ幅windowWidth,スライド幅slidingWidthにしたがって\n",
    "        registNameのウィドウフレームを返す．\n",
    "        また，与えれたPATH内に同様なパラメータ( WindowWidth, slidingWidth)かつ同様な\n",
    "        windowNameのものがある場合，そのデータを返す．\n",
    "        この関数が登録，ウィンドウフレームに変換できるデータは１つとする\n",
    "    \"\"\"\n",
    "    storedName = windowName+'_Win='+str(wWidth).zfill(4)+'_Sld='+str(sWidth).zfill(4)+'.npz'\n",
    "    l = os.listdir(PATH)\n",
    "    \n",
    "    if storedName in l:\n",
    "        print \"this data had finished making\"\n",
    "        return np.load(PATH+storedName)['data'][()]\n",
    "    \n",
    "    w=window()\n",
    "    w.SetData(windowName,dataRaw)    \n",
    "    wind=w.Compile(wWidth,sWidth)\n",
    "    windoW=wind.reshape((len(wind),np.prod(wind.shape[1:])))\n",
    "    \n",
    "    np.savez(PATH+storedName,data=wind)\n",
    "\n",
    "    return wind"
   ]
  },
  {
   "cell_type": "code",
   "execution_count": 8,
   "metadata": {
    "collapsed": false
   },
   "outputs": [
    {
     "name": "stdout",
     "output_type": "stream",
     "text": [
      "this data had finished making\n"
     ]
    }
   ],
   "source": [
    "windowNum = 256\n",
    "slidingNum = windowNum/32\n",
    "\n",
    "SaveFileName=Sensor1['Name']+'_AccX'+str(windowNum).zfill(4)+str(slidingNum).zfill(4)\n",
    "\n",
    "wind=GetWindowFrame('AccX', Sensor1['AccX'], windowNum, slidingNum, WindowDataPath)"
   ]
  },
  {
   "cell_type": "markdown",
   "metadata": {},
   "source": [
    "# Methematical/Statistical Functions"
   ]
  },
  {
   "cell_type": "markdown",
   "metadata": {},
   "source": [
    "## Mean, Median"
   ]
  },
  {
   "cell_type": "code",
   "execution_count": 9,
   "metadata": {
    "collapsed": true
   },
   "outputs": [],
   "source": [
    "def Vector_Mean(windowName, dataRaw, wWidth, sWidth, PATH):\n",
    "    # get windowFrame\n",
    "    wind=GetWindowFrame(windowName, dataRaw, wWidth, sWidth, PATH)\n",
    "    \n",
    "    Output = np.array([])\n",
    "    for i in tqdm_notebook( range( wind.shape[0] ),desc='Mean' ):\n",
    "        Output = np.append(Output, wind[i,:].mean())\n",
    "    return Output"
   ]
  },
  {
   "cell_type": "code",
   "execution_count": 10,
   "metadata": {
    "collapsed": true
   },
   "outputs": [],
   "source": [
    "def Vector_Median(windowName, dataRaw, wWidth, sWidth, PATH):\n",
    "    # get windowFrame\n",
    "    wind=GetWindowFrame(windowName, dataRaw, wWidth, sWidth, PATH)\n",
    "    \n",
    "    Output = np.array([])\n",
    "    for i in tqdm_notebook( range( wind.shape[0] ) ,desc='Median'):\n",
    "        Output = np.append(Output, np.median(wind[i,:].mean()) )\n",
    "    return Output"
   ]
  },
  {
   "cell_type": "markdown",
   "metadata": {},
   "source": [
    "## Variance, Std Deviation"
   ]
  },
  {
   "cell_type": "code",
   "execution_count": 11,
   "metadata": {
    "collapsed": true
   },
   "outputs": [],
   "source": [
    "def Vector_Var(windowName, dataRaw, wWidth, sWidth, PATH):\n",
    "    # get windowFrame\n",
    "    wind=GetWindowFrame(windowName, dataRaw, wWidth, sWidth, PATH)\n",
    "    \n",
    "    Output = np.array([])\n",
    "    for i in tqdm_notebook( range( wind.shape[0] ) ,desc='Var' ):\n",
    "        Output = np.append(Output, wind[i,:].var())\n",
    "    return Output"
   ]
  },
  {
   "cell_type": "code",
   "execution_count": 12,
   "metadata": {
    "collapsed": true
   },
   "outputs": [],
   "source": [
    "def Vector_StdDev(windowName, dataRaw, wWidth, sWidth, PATH):\n",
    "    # get windowFrame\n",
    "    wind=GetWindowFrame(windowName, dataRaw, wWidth, sWidth, PATH)\n",
    "    \n",
    "    Output = np.array([])\n",
    "    for i in tqdm_notebook( range( wind.shape[0] ),desc='StdDev' ):\n",
    "        Output = np.append(Output, wind[i,:].var()**0.5)\n",
    "    return Output"
   ]
  },
  {
   "cell_type": "markdown",
   "metadata": {},
   "source": [
    "## Min, Max, Range\n",
    "Range = the difference between maximum and minimum sample values"
   ]
  },
  {
   "cell_type": "code",
   "execution_count": 13,
   "metadata": {
    "collapsed": true
   },
   "outputs": [],
   "source": [
    "def Vector_Max(windowName, dataRaw, wWidth, sWidth, PATH):\n",
    "    # get windowFrame\n",
    "    wind=GetWindowFrame(windowName, dataRaw, wWidth, sWidth, PATH)\n",
    "    \n",
    "    Output = np.array([])\n",
    "    for i in tqdm_notebook( range( wind.shape[0] ) ,desc='Max'):\n",
    "        Output = np.append(Output, wind[i,:].max())\n",
    "    return Output"
   ]
  },
  {
   "cell_type": "code",
   "execution_count": 14,
   "metadata": {
    "collapsed": false
   },
   "outputs": [],
   "source": [
    "def Vector_Min(windowName, dataRaw, wWidth, sWidth, PATH):\n",
    "    # get windowFrame\n",
    "    wind=GetWindowFrame(windowName, dataRaw, wWidth, sWidth, PATH)\n",
    "    \n",
    "    Output = np.array([])\n",
    "    for i in tqdm_notebook( range( wind.shape[0] ) ,desc='Min'):\n",
    "        Output = np.append(Output, wind[i,:].min())\n",
    "    return Output"
   ]
  },
  {
   "cell_type": "code",
   "execution_count": 15,
   "metadata": {
    "collapsed": false
   },
   "outputs": [],
   "source": [
    "def Vector_Range(windowName, dataRaw, wWidth, sWidth, PATH):\n",
    "    # get windowFrame\n",
    "    wind=GetWindowFrame(windowName, dataRaw, wWidth, sWidth, PATH)\n",
    "    \n",
    "    Output = np.array([])\n",
    "    for i in tqdm_notebook( range( wind.shape[0] ) ,desc='Range'):\n",
    "        Output = np.append(Output, wind[i,:].max()-wind[i,:].min())\n",
    "    return Output"
   ]
  },
  {
   "cell_type": "markdown",
   "metadata": {},
   "source": [
    "## RMS"
   ]
  },
  {
   "cell_type": "code",
   "execution_count": 16,
   "metadata": {
    "collapsed": true
   },
   "outputs": [],
   "source": [
    "def Vector_RMS(windowName, dataRaw, wWidth, sWidth, PATH):\n",
    "    # get windowFrame\n",
    "    wind=GetWindowFrame(windowName, dataRaw, wWidth, sWidth, PATH)\n",
    "    \n",
    "    Output = np.array([])\n",
    "    for i in tqdm_notebook( range( wind.shape[0] ) ,desc='RMS'):\n",
    "        Output = np.append(Output, (np.sum( wind[i,:]**2)/wind[i,:].size)**0.5 )\n",
    "    return Output"
   ]
  },
  {
   "cell_type": "markdown",
   "metadata": {},
   "source": [
    "## Correlation, Cross-Correlation"
   ]
  },
  {
   "cell_type": "markdown",
   "metadata": {
    "collapsed": false
   },
   "source": [
    "def Vector_Corr(windowNameX, dataRawX, windowNameY, dataRawY, wWidth, sWidth, PATH):\n",
    "    # get windowFrame\n",
    "    windX=GetWindowFrame(windowNameX, dataRawX, wWidth, sWidth, PATH)\n",
    "    windY=GetWindowFrame(windowNameY, dataRawY, wWidth, sWidth, PATH)\n",
    "\n",
    "    Output = np.array([])\n",
    "    tmpArray = np.array([])\n",
    "    \n",
    "    for i in tqdm_notebook( range( windX.shape[0] ) ):\n",
    "        tmpArray = np.array([])\n",
    "        for l in tqdm_notebook( range(windY.shape[0]),leave=False):\n",
    "            tmpArray = np.append(tmpArray, np.corrcoef(windX[i,:],windY[l,:]) ) \n",
    "            \n",
    "        Output = np.append(Output, tmpArray, axis=0)\n",
    "    return Output  "
   ]
  },
  {
   "cell_type": "code",
   "execution_count": 17,
   "metadata": {
    "collapsed": false
   },
   "outputs": [],
   "source": [
    "def Vector_Corr(windowNameX, dataRawX, windowNameY, dataRawY, wWidth, sWidth, PATH):\n",
    "    # get windowFrame\n",
    "    windX=GetWindowFrame(windowNameX, dataRawX, wWidth, sWidth, PATH)\n",
    "    windY=GetWindowFrame(windowNameY, dataRawY, wWidth, sWidth, PATH)\n",
    "\n",
    "    Output = np.array([])\n",
    "    tmpArray = np.array([])\n",
    "    \n",
    "    # devine num\n",
    "    dev = 10\n",
    "    \n",
    "    for i in tqdm_notebook( range(0, windX.shape[0], windX.shape[0]/dev) ,desc='Correlation'):\n",
    "        for d in range(windX.shape[0]/10):\n",
    "            tmpArray = np.array([])\n",
    "            for l in tqdm_notebook( range(windY.shape[0]),leave=False):\n",
    "                tmpArray = np.append(tmpArray, np.corrcoef(windX[i+d,:],windY[l,:]) ) \n",
    "\n",
    "            Output = np.append(Output, tmpArray, axis=0)\n",
    "        np.savez('tmpfile_'+str( int(i/windX.shape[0]) ),data=Output)\n",
    "        Output = np.array([])\n",
    "    \n",
    "    for i in range(dev):\n",
    "        OutputSum = np.append(OutputSum, np.load('tmpfile_'+str(i)+'.npz')['data'][()])\n",
    "    return OutputSum"
   ]
  },
  {
   "cell_type": "markdown",
   "metadata": {
    "collapsed": true
   },
   "source": [
    "# Signal magnitude area"
   ]
  },
  {
   "cell_type": "code",
   "execution_count": null,
   "metadata": {
    "collapsed": true
   },
   "outputs": [],
   "source": [
    "def Vector_SMA(windowName, dataRawX, dataRawY, dataRawZ, wWidth, sWidth, PATH):\n",
    "    # get windowFrame\n",
    "    windX=GetWindowFrame(windowName, dataRawX, wWidth, sWidth, PATH)\n",
    "    windY=GetWindowFrame(windowName, dataRawY, wWidth, sWidth, PATH)\n",
    "    windZ=GetWindowFrame(windowName, dataRawZ, wWidth, sWidth, PATH)\n",
    "    \n",
    "    # windowFrame roop\n",
    "    for i in tqdm_notebook( range( windX.shape[0] ) ,desc='SMA'):\n",
    "        SqrMag = windX[i,:]**2+windY[i,:]**2+windZ[i,:]**2\n",
    "        Mag = np.sum( SqrMag**0.5 )\n",
    "\n",
    "        Output = np.append(Output, Mag)\n",
    "    return Output  "
   ]
  },
  {
   "cell_type": "markdown",
   "metadata": {
    "collapsed": true
   },
   "source": [
    "# データからベクトルを算出する"
   ]
  },
  {
   "cell_type": "code",
   "execution_count": null,
   "metadata": {
    "collapsed": false
   },
   "outputs": [
    {
     "name": "stdout",
     "output_type": "stream",
     "text": [
      "this data had finished making\n",
      "this data had finished making\n",
      "\n",
      "this data had finished making\n",
      "\n",
      "this data had finished making\n",
      "\n",
      "this data had finished making\n",
      "\n",
      "this data had finished making\n",
      "\n",
      "this data had finished making\n",
      "\n",
      "this data had finished making\n",
      "\n",
      "this data had finished making\n",
      "\n",
      "this data had finished making\n",
      "this data had finished making\n"
     ]
    }
   ],
   "source": [
    "windowNum = 256\n",
    "slidingNum = windowNum/32\n",
    "\n",
    "SaveFileName=Sensor1['Name']+'_AccX'+'_Win='+str(windowNum).zfill(4)+'_Sld='+str(slidingNum).zfill(4)\n",
    "\n",
    "wind=GetWindowFrame('AccX', Sensor1['AccX'], windowNum, slidingNum, WindowDataPath)\n",
    "\n",
    "np.savez(FeaturePath+SaveFileName+'_Mean',data=\\\n",
    "     Vector_Mean('AccX', Sensor1['AccX'], windowNum, slidingNum, WindowDataPath)\n",
    ")\n",
    "np.savez(FeaturePath+SaveFileName+'_Median',data=\\\n",
    "    Vector_Median('AccX', Sensor1['AccX'], windowNum, slidingNum, WindowDataPath)\n",
    ")\n",
    "np.savez(FeaturePath+SaveFileName+'_Median',data=\\\n",
    "     Vector_Var('AccX', Sensor1['AccX'], windowNum, slidingNum, WindowDataPath)\n",
    ")\n",
    "np.savez(FeaturePath+SaveFileName+'_Median',data=\\\n",
    "     Vector_StdDev('AccX', Sensor1['AccX'], windowNum, slidingNum, WindowDataPath)\n",
    ")\n",
    "np.savez(FeaturePath+SaveFileName+'_Median',data=\\\n",
    "     Vector_Max('AccX', Sensor1['AccX'], windowNum, slidingNum, WindowDataPath)\n",
    ")\n",
    "np.savez(FeaturePath+SaveFileName+'_Median',data=\\\n",
    "    Vector_Min('AccX', Sensor1['AccX'], windowNum, slidingNum, WindowDataPath)\n",
    ")\n",
    "np.savez(FeaturePath+SaveFileName+'_Median',data=\\\n",
    "    Vector_Range('AccX', Sensor1['AccX'], windowNum, slidingNum, WindowDataPath)\n",
    ")\n",
    "np.savez(FeaturePath+SaveFileName+'_Median',data=\\\n",
    "     Vector_RMS('AccX', Sensor1['AccX'], windowNum, slidingNum, WindowDataPath)\n",
    ")\n",
    "np.savez(FeaturePath+SaveFileName+'_Median',data=\\\n",
    "    Vector_Corr('AccX', Sensor1['AccX'],'AccX', Sensor1['AccX'], windowNum, slidingNum, WindowDataPath)\n",
    ")\n",
    "np.savez(FeaturePath+SaveFileName+'_Median',data=\\\n",
    "    Vector_Corr('AccX', Sensor1['AccX'],'AccY', Sensor1['AccY'], windowNum, slidingNum, WindowDataPath)\n",
    ")\n",
    "np.savez(FeaturePath+SaveFileName+'_Median',data=\\\n",
    "    Vector_SMA('AccXYZ', Sensor1['AccX'], Sensor1['AccY'], Sensor1['AccZ'], windowNum, slidingNum, WindowDataPath)\n",
    ")\n",
    "\n"
   ]
  },
  {
   "cell_type": "code",
   "execution_count": null,
   "metadata": {
    "collapsed": true
   },
   "outputs": [],
   "source": []
  }
 ],
 "metadata": {
  "kernelspec": {
   "display_name": "Python 2",
   "language": "python",
   "name": "python2"
  },
  "language_info": {
   "codemirror_mode": {
    "name": "ipython",
    "version": 2
   },
   "file_extension": ".py",
   "mimetype": "text/x-python",
   "name": "python",
   "nbconvert_exporter": "python",
   "pygments_lexer": "ipython2",
   "version": "2.7.11"
  },
  "widgets": {
   "state": {
    "01ccfa5d51bd47f7bd11db17d810ada8": {
     "views": [
      {
       "cell_index": 29
      }
     ]
    },
    "02341b392d7a4d45a760a6881393dd1c": {
     "views": [
      {
       "cell_index": 29
      }
     ]
    },
    "02588c329ea24db2a20fcd4d5b7c1402": {
     "views": [
      {
       "cell_index": 29
      }
     ]
    },
    "025b62638fe94c74843e7f94ba45466a": {
     "views": [
      {
       "cell_index": 29
      }
     ]
    },
    "026c9578870b4992ab3201c61682cd0e": {
     "views": [
      {
       "cell_index": 29
      }
     ]
    },
    "027225ff199d406abc4800b8afc2cf7d": {
     "views": [
      {
       "cell_index": 29
      }
     ]
    },
    "0429261ac1194aaab73f316932f30783": {
     "views": [
      {
       "cell_index": 29
      }
     ]
    },
    "07259f8c4bcf49e39ae292f43459686a": {
     "views": [
      {
       "cell_index": 29
      }
     ]
    },
    "08cb4531fdc1418d91383b34b1bf5cb7": {
     "views": [
      {
       "cell_index": 29
      }
     ]
    },
    "0912d20715374c39a6d58adc0139477a": {
     "views": [
      {
       "cell_index": 29
      }
     ]
    },
    "0a6e23878407481199408d218bfcc48d": {
     "views": [
      {
       "cell_index": 29
      }
     ]
    },
    "0b4b6e8f1a104dd9ade275b7a1660a37": {
     "views": [
      {
       "cell_index": 29
      }
     ]
    },
    "0c8ba119efdf4e509e9039cbc8bb1afd": {
     "views": [
      {
       "cell_index": 29
      }
     ]
    },
    "0ccf31a77a144ec282c87274f48a19b2": {
     "views": [
      {
       "cell_index": 29
      }
     ]
    },
    "0fe964589e9147bcab586da48f0ad6f6": {
     "views": [
      {
       "cell_index": 29
      }
     ]
    },
    "0ffa24fecb6e4edb89c78bf5a139a58f": {
     "views": [
      {
       "cell_index": 29
      }
     ]
    },
    "100caa9df3c049ab948acf44b3e96822": {
     "views": [
      {
       "cell_index": 29
      }
     ]
    },
    "1123825309014f03b080caa437a908ab": {
     "views": [
      {
       "cell_index": 29
      }
     ]
    },
    "1354b06c1d714009b913a0d59013fb3e": {
     "views": [
      {
       "cell_index": 29
      }
     ]
    },
    "13cf50f5c1164c01b0e50e3a6d8529eb": {
     "views": [
      {
       "cell_index": 29
      }
     ]
    },
    "13d8335a759b488f8a4e8b349b9d8a1c": {
     "views": [
      {
       "cell_index": 29
      }
     ]
    },
    "163a39ba503a4da783d066c4c21e33e6": {
     "views": [
      {
       "cell_index": 29
      }
     ]
    },
    "16f4f7ab8be04c74bd48d0c06738b6b0": {
     "views": [
      {
       "cell_index": 29
      }
     ]
    },
    "17b7e69e2c26414aa772bf8501112d5a": {
     "views": [
      {
       "cell_index": 29
      }
     ]
    },
    "182e47e491b845099c666c3004baaa3b": {
     "views": [
      {
       "cell_index": 29
      }
     ]
    },
    "18815fb82f0a40c99c13cd0dd6927ff4": {
     "views": [
      {
       "cell_index": 29
      }
     ]
    },
    "18ab8112945d4cffaa5272fba48b2c63": {
     "views": [
      {
       "cell_index": 29
      }
     ]
    },
    "1ae442e683344827b0a97754ef59a7e1": {
     "views": [
      {
       "cell_index": 29
      }
     ]
    },
    "1cd8fb1b7a804888a844e8d03055111d": {
     "views": [
      {
       "cell_index": 29
      }
     ]
    },
    "1ec8f274fbc14681979c4cf8509932d3": {
     "views": [
      {
       "cell_index": 29
      }
     ]
    },
    "20646e7142a84b2680fbdc5c5772f1b8": {
     "views": [
      {
       "cell_index": 29
      }
     ]
    },
    "24d99e1df72a4451a21baac13ae39894": {
     "views": [
      {
       "cell_index": 29
      }
     ]
    },
    "26563988c9b24017b943befbdb0edde6": {
     "views": [
      {
       "cell_index": 29
      }
     ]
    },
    "26cedbb36b8b49c1940232329f6a3fea": {
     "views": [
      {
       "cell_index": 29
      }
     ]
    },
    "284781710db34d968696c8bcfb8792eb": {
     "views": [
      {
       "cell_index": 29
      }
     ]
    },
    "2a35dc81f322438581c5155b30cfa751": {
     "views": [
      {
       "cell_index": 29
      }
     ]
    },
    "2c99b3ea9bcb42c384b24ec7d9300262": {
     "views": [
      {
       "cell_index": 29
      }
     ]
    },
    "2d9082257fcb43be93c4e5ab2e3f59ab": {
     "views": [
      {
       "cell_index": 29
      }
     ]
    },
    "2e38c0574f864f318f30ab551711ea17": {
     "views": [
      {
       "cell_index": 29
      }
     ]
    },
    "2ea112c92bd445619cab0cbd4961da2d": {
     "views": [
      {
       "cell_index": 29
      }
     ]
    },
    "2f105bbf8659492d97fb270793387134": {
     "views": [
      {
       "cell_index": 29
      }
     ]
    },
    "30ae884e7e0b4998bd93e6c886c1ea4a": {
     "views": [
      {
       "cell_index": 29
      }
     ]
    },
    "34d5a1a6465c4a36880e28310132695d": {
     "views": [
      {
       "cell_index": 29
      }
     ]
    },
    "36f86d1ca2a748d3b8c8e0ad5fa329f1": {
     "views": [
      {
       "cell_index": 29
      }
     ]
    },
    "380d3d3d5d454061a4db1f078a16336c": {
     "views": [
      {
       "cell_index": 29
      }
     ]
    },
    "383d8b75a57c46478324a9e373729ec7": {
     "views": [
      {
       "cell_index": 29
      }
     ]
    },
    "38ce580cdb134e35ada9cc3280828028": {
     "views": [
      {
       "cell_index": 29
      }
     ]
    },
    "3a332709354c422590c4e0371f759a70": {
     "views": [
      {
       "cell_index": 29
      }
     ]
    },
    "3a6178f637cc446a8b86f1220ee5054d": {
     "views": [
      {
       "cell_index": 29
      }
     ]
    },
    "3b38d629816d4dfc9fcb6db92b2f58d0": {
     "views": [
      {
       "cell_index": 29
      }
     ]
    },
    "3b51d40be5c943618469a76f9c091e06": {
     "views": [
      {
       "cell_index": 29
      }
     ]
    },
    "3c0c736e5ca14d6a81ea940f77a3e07b": {
     "views": [
      {
       "cell_index": 29
      }
     ]
    },
    "3c20c34de3b14ac39f7e42b392e30030": {
     "views": [
      {
       "cell_index": 29
      }
     ]
    },
    "3c3416a31813426ea8468aa121e14e1e": {
     "views": [
      {
       "cell_index": 29
      }
     ]
    },
    "3c429f2b3ab94458955843b77d9f1575": {
     "views": [
      {
       "cell_index": 29
      }
     ]
    },
    "3cb45489918e44dc86bd08fe137bd45a": {
     "views": [
      {
       "cell_index": 29
      }
     ]
    },
    "3e583ec3ccb34d9ca24cc2a753bd4c44": {
     "views": [
      {
       "cell_index": 29
      }
     ]
    },
    "3f00a673f73043288a7628213838d9ac": {
     "views": [
      {
       "cell_index": 29
      }
     ]
    },
    "3f4df110080441a487b0a195a15e43a2": {
     "views": [
      {
       "cell_index": 29
      }
     ]
    },
    "3fb0d032eea54b7aaadfcb0d3d4883b6": {
     "views": [
      {
       "cell_index": 29
      }
     ]
    },
    "3fc20ea4ecc641808389aa2278f65fec": {
     "views": [
      {
       "cell_index": 29
      }
     ]
    },
    "400d105f09944de99514fc24d22bb46e": {
     "views": [
      {
       "cell_index": 29
      }
     ]
    },
    "400f30030be8404383affe7fea9f416e": {
     "views": [
      {
       "cell_index": 29
      }
     ]
    },
    "403b32bb612e4646b53a8a6a69f778f9": {
     "views": [
      {
       "cell_index": 29
      }
     ]
    },
    "40529967d85546be8f2973747361a0bf": {
     "views": [
      {
       "cell_index": 29
      }
     ]
    },
    "405a797ddf3d48db8d6fb2259e64e131": {
     "views": [
      {
       "cell_index": 29
      }
     ]
    },
    "43bd28031d754b78b2f45c823f4b46e7": {
     "views": [
      {
       "cell_index": 29
      }
     ]
    },
    "44b3f2faabec40bdb76b03929b1f3fd9": {
     "views": [
      {
       "cell_index": 29
      }
     ]
    },
    "44ecef52c6864d67a78a716550585792": {
     "views": [
      {
       "cell_index": 29
      }
     ]
    },
    "460fe5b0a53f4d128900dc2a54d567c0": {
     "views": [
      {
       "cell_index": 29
      }
     ]
    },
    "469a4050410d498da6c1d64338067633": {
     "views": [
      {
       "cell_index": 29
      }
     ]
    },
    "4720008c61484d98a35c0fd64a759090": {
     "views": [
      {
       "cell_index": 29
      }
     ]
    },
    "47c3130db3d946869c463b28420490b9": {
     "views": [
      {
       "cell_index": 29
      }
     ]
    },
    "47cbfd722a164ed0a07048944dea3249": {
     "views": [
      {
       "cell_index": 29
      }
     ]
    },
    "49c6ede5ab2b402aa7c00ef65e35bb04": {
     "views": [
      {
       "cell_index": 29
      }
     ]
    },
    "4ab0ff01afae4519a4228e48ab8d0fe3": {
     "views": [
      {
       "cell_index": 29
      }
     ]
    },
    "4b3df6c40dee47a38cc0a9774f0c71b3": {
     "views": [
      {
       "cell_index": 29
      }
     ]
    },
    "4b4db3df22ba4c859a36accd198ecd26": {
     "views": [
      {
       "cell_index": 29
      }
     ]
    },
    "4be687bd698c4285af293a344daa6252": {
     "views": [
      {
       "cell_index": 29
      }
     ]
    },
    "4c229d636001410799efe3ade97e2d3a": {
     "views": [
      {
       "cell_index": 29
      }
     ]
    },
    "4c747d4f087e49b6a861ffb56659edaf": {
     "views": [
      {
       "cell_index": 29
      }
     ]
    },
    "4d8d6a701994409d8a471120bca8a598": {
     "views": [
      {
       "cell_index": 29
      }
     ]
    },
    "4ecf4b7d05aa4c9684b118d67289c718": {
     "views": [
      {
       "cell_index": 29
      }
     ]
    },
    "4ef4edc72afe42e494d56c3d2afb2198": {
     "views": [
      {
       "cell_index": 29
      }
     ]
    },
    "4f448d3b3506453398fec5a525ed60c7": {
     "views": [
      {
       "cell_index": 29
      }
     ]
    },
    "50242fc132434f0a8c00d73a165955da": {
     "views": [
      {
       "cell_index": 29
      }
     ]
    },
    "51a825b232c047ed864b4d0d43aa6726": {
     "views": [
      {
       "cell_index": 29
      }
     ]
    },
    "520ce39b85b24aca8934828528ac66a7": {
     "views": [
      {
       "cell_index": 29
      }
     ]
    },
    "5216512d93d74235846265d9e9f0d2c9": {
     "views": [
      {
       "cell_index": 29
      }
     ]
    },
    "52484af97296499791cdbe52a0c6fb54": {
     "views": [
      {
       "cell_index": 29
      }
     ]
    },
    "526a8649269c4bd8835cf41f7b5c61e7": {
     "views": [
      {
       "cell_index": 29
      }
     ]
    },
    "52cfff7245ad45fa938f626ea1a47cbf": {
     "views": [
      {
       "cell_index": 29
      }
     ]
    },
    "542d27f3f53f47b49cb0ab4c5b4323e9": {
     "views": [
      {
       "cell_index": 29
      }
     ]
    },
    "54b89094d962439db32933068f6619b6": {
     "views": [
      {
       "cell_index": 29
      }
     ]
    },
    "5630bf5b7ea14c14b4e03079dbdc6d97": {
     "views": [
      {
       "cell_index": 29
      }
     ]
    },
    "573cceb22b1e49cdad0514ddebe97e2b": {
     "views": [
      {
       "cell_index": 29
      }
     ]
    },
    "59b0ff261523484d8a1723e59be99a7c": {
     "views": [
      {
       "cell_index": 29
      }
     ]
    },
    "5a4ba85b85d5455c9c9fa41efee84266": {
     "views": [
      {
       "cell_index": 29
      }
     ]
    },
    "5a9e81e5fa2c4f8db82c3077c1cf00db": {
     "views": [
      {
       "cell_index": 29
      }
     ]
    },
    "5b45dfd48b72405f81e9212e6c42992e": {
     "views": [
      {
       "cell_index": 29
      }
     ]
    },
    "5b6a2a9a8d75406f88bce04af3a38cf5": {
     "views": [
      {
       "cell_index": 29
      }
     ]
    },
    "5c86b340d6724e849daaa1e464fd7c87": {
     "views": [
      {
       "cell_index": 29
      }
     ]
    },
    "5d66a5ac63a7464ea15da0d9fdd95cb0": {
     "views": [
      {
       "cell_index": 29
      }
     ]
    },
    "5de5be0d32824c41ac61066c56040c52": {
     "views": [
      {
       "cell_index": 29
      }
     ]
    },
    "5fe4c6d24b6141629cba34a3d04274bf": {
     "views": [
      {
       "cell_index": 29
      }
     ]
    },
    "62282f4cb32a40188b633b663305c2fa": {
     "views": [
      {
       "cell_index": 29
      }
     ]
    },
    "628d5f457eca4420a7b045768115ce66": {
     "views": [
      {
       "cell_index": 29
      }
     ]
    },
    "629e9954df144c1a93418d8807535b00": {
     "views": [
      {
       "cell_index": 29
      }
     ]
    },
    "63bc285b632f40a9bc653cd5ec37e908": {
     "views": [
      {
       "cell_index": 29
      }
     ]
    },
    "6460ee58795f45bfa3553d493a4243e7": {
     "views": [
      {
       "cell_index": 29
      }
     ]
    },
    "66aaf1fd95d94949824e7da1dc5b802e": {
     "views": [
      {
       "cell_index": 29
      }
     ]
    },
    "66fbb84e6166494ebb41dec91bf24e98": {
     "views": [
      {
       "cell_index": 29
      }
     ]
    },
    "66fcd81474aa49d19aa4bb9e6f0e7dc5": {
     "views": [
      {
       "cell_index": 29
      }
     ]
    },
    "67c136909611477e9acc4a8d2d5c8aa4": {
     "views": [
      {
       "cell_index": 29
      }
     ]
    },
    "6807f74e944f40958feaab90c6b0d40a": {
     "views": [
      {
       "cell_index": 29
      }
     ]
    },
    "68568de708344361abfebe53227054a1": {
     "views": [
      {
       "cell_index": 29
      }
     ]
    },
    "6899a796658946b5b6eea5070d3e17ac": {
     "views": [
      {
       "cell_index": 29
      }
     ]
    },
    "68b56530e10246aaad682ae2c3997217": {
     "views": [
      {
       "cell_index": 29
      }
     ]
    },
    "696c3a92a904423ca7ebe593a7aeca08": {
     "views": [
      {
       "cell_index": 29
      }
     ]
    },
    "6bb42862e89b4aaf9f30c19ed09e2f8e": {
     "views": [
      {
       "cell_index": 29
      }
     ]
    },
    "6c00f799d6e9477ebea18dfc76d18c35": {
     "views": [
      {
       "cell_index": 29
      }
     ]
    },
    "6efafe8469af48f99ea2619e8fb59363": {
     "views": [
      {
       "cell_index": 29
      }
     ]
    },
    "715677ced8e14d678bdc2d5319b89485": {
     "views": [
      {
       "cell_index": 29
      }
     ]
    },
    "717b3f13d5d545b5b4e7d2515ee06b0f": {
     "views": [
      {
       "cell_index": 29
      }
     ]
    },
    "7201c115dc174d33a5361a6dfb9cc073": {
     "views": [
      {
       "cell_index": 29
      }
     ]
    },
    "72501997b89b4f8799bca64af7250d22": {
     "views": [
      {
       "cell_index": 29
      }
     ]
    },
    "730edfd66280457b83fae796f791d391": {
     "views": [
      {
       "cell_index": 29
      }
     ]
    },
    "7324f053a5cc40ed971785cd9d30f49e": {
     "views": [
      {
       "cell_index": 29
      }
     ]
    },
    "736e094aa1964c3f8570130a26f9d732": {
     "views": [
      {
       "cell_index": 29
      }
     ]
    },
    "73904ce586dd448bad448c2dc222a630": {
     "views": [
      {
       "cell_index": 29
      }
     ]
    },
    "73b830b491fb4bec8180a96125a3122f": {
     "views": [
      {
       "cell_index": 29
      }
     ]
    },
    "7407e2d1d97b4133a06c0759d0451d11": {
     "views": [
      {
       "cell_index": 29
      }
     ]
    },
    "762bb6b1e6d34f018cd7fd183dde6409": {
     "views": [
      {
       "cell_index": 29
      }
     ]
    },
    "7655c58e54644f12bcac07c90df871b3": {
     "views": [
      {
       "cell_index": 29
      }
     ]
    },
    "76ffefa4a1f042dd9d2a772617002fe6": {
     "views": [
      {
       "cell_index": 29
      }
     ]
    },
    "77a60cd571274c5c848f744cff5a53d1": {
     "views": [
      {
       "cell_index": 29
      }
     ]
    },
    "790832fe4f064bd692acbe6402ae5c6e": {
     "views": [
      {
       "cell_index": 29
      }
     ]
    },
    "7a61307f8e014ceea08fac076b744d71": {
     "views": [
      {
       "cell_index": 29
      }
     ]
    },
    "7b222fcba06a4ec782c7dbbf468e10df": {
     "views": [
      {
       "cell_index": 29
      }
     ]
    },
    "7b8467e8fc514365b0331c4ae7535d36": {
     "views": [
      {
       "cell_index": 29
      }
     ]
    },
    "7cb376a11b5d4e3db48bbfad67c89a5a": {
     "views": [
      {
       "cell_index": 29
      }
     ]
    },
    "7edc8370e9174aedb8935630abc849b9": {
     "views": [
      {
       "cell_index": 29
      }
     ]
    },
    "7f8fdadd97e04d9aabcda9c27649ea13": {
     "views": [
      {
       "cell_index": 29
      }
     ]
    },
    "7fe6bee3155b4257bd412b409abdf969": {
     "views": [
      {
       "cell_index": 29
      }
     ]
    },
    "80281a1222ae4c61bb315d0324a57e45": {
     "views": [
      {
       "cell_index": 29
      }
     ]
    },
    "80de3b42233b4b50af43358595d59ef3": {
     "views": [
      {
       "cell_index": 29
      }
     ]
    },
    "825a236e47d14a7691eb5d4a8cab49d5": {
     "views": [
      {
       "cell_index": 29
      }
     ]
    },
    "85fe08f5c8cd4aadbf4148f14f84d71a": {
     "views": [
      {
       "cell_index": 29
      }
     ]
    },
    "865282fe7d7c4ac7994a5310d0d89a2f": {
     "views": [
      {
       "cell_index": 29
      }
     ]
    },
    "8657f8795d674a688adcd97256471ab7": {
     "views": [
      {
       "cell_index": 29
      }
     ]
    },
    "872fbff305f9444f987dd9e445aa4368": {
     "views": [
      {
       "cell_index": 29
      }
     ]
    },
    "8736c90b87e94381ae02647589ee1462": {
     "views": [
      {
       "cell_index": 29
      }
     ]
    },
    "8795f2d5c1894971aefa3d670ba014ee": {
     "views": [
      {
       "cell_index": 29
      }
     ]
    },
    "88496bc006e04d19920321607b8c904c": {
     "views": [
      {
       "cell_index": 29
      }
     ]
    },
    "8926fe686d7948f0908a0afea30e7cc9": {
     "views": [
      {
       "cell_index": 29
      }
     ]
    },
    "8ae05e1d8cdb40a497478134a1432c0a": {
     "views": [
      {
       "cell_index": 29
      }
     ]
    },
    "8b0294d319e044dd84f865c79fb24ba0": {
     "views": [
      {
       "cell_index": 29
      }
     ]
    },
    "8b8cee197a0040e2b55b39161f1524fe": {
     "views": [
      {
       "cell_index": 29
      }
     ]
    },
    "8baab553f6d34e5ead1c45656f28bd81": {
     "views": [
      {
       "cell_index": 29
      }
     ]
    },
    "8bd7518c160247548e53ac0220aba5bb": {
     "views": [
      {
       "cell_index": 29
      }
     ]
    },
    "8c5a17659c834f05b25bf5f738c07150": {
     "views": [
      {
       "cell_index": 29
      }
     ]
    },
    "8d23fe5f068a4824a792981ad7aeff50": {
     "views": [
      {
       "cell_index": 29
      }
     ]
    },
    "8d6a6af08971494ea74b1203f08b363c": {
     "views": [
      {
       "cell_index": 29
      }
     ]
    },
    "8d6c7f7e91d2486ea3a9b6bfa26b0a40": {
     "views": [
      {
       "cell_index": 29
      }
     ]
    },
    "8e405813c8674e549e6d1b443d95c05f": {
     "views": [
      {
       "cell_index": 29
      }
     ]
    },
    "90760d2fe7a043769e3ecda35627257a": {
     "views": [
      {
       "cell_index": 29
      }
     ]
    },
    "90b0dc76ecde4b719928411881c345e8": {
     "views": [
      {
       "cell_index": 29
      }
     ]
    },
    "93250de7cd4e437aaf8df7735cde4132": {
     "views": [
      {
       "cell_index": 29
      }
     ]
    },
    "934da94f87b04e179332e0af45ccb773": {
     "views": [
      {
       "cell_index": 29
      }
     ]
    },
    "9398492e432b4acbb30c192c17445a36": {
     "views": [
      {
       "cell_index": 29
      }
     ]
    },
    "93e16ab8a1a54952a9e8f7fd37b232c6": {
     "views": [
      {
       "cell_index": 29
      }
     ]
    },
    "95074554055f41409cedf5c830631e72": {
     "views": [
      {
       "cell_index": 29
      }
     ]
    },
    "9570e2d519944e4d8c6d15231f89d419": {
     "views": [
      {
       "cell_index": 29
      }
     ]
    },
    "95bb52adac9243889c422ef7f6c458e5": {
     "views": [
      {
       "cell_index": 29
      }
     ]
    },
    "97071d04247f4057ae0fdbe615515d96": {
     "views": [
      {
       "cell_index": 29
      }
     ]
    },
    "9951d671e1904d06ba0016e7b9b5d8f2": {
     "views": [
      {
       "cell_index": 29
      }
     ]
    },
    "9a22ad7a0c944658885129011147de3d": {
     "views": [
      {
       "cell_index": 29
      }
     ]
    },
    "9b1e966ce4034b58952f5e495ba2e19b": {
     "views": [
      {
       "cell_index": 29
      }
     ]
    },
    "9bd8887676ba4bf58bf279fcf8db2741": {
     "views": [
      {
       "cell_index": 29
      }
     ]
    },
    "9c035430eff449c197354506fe9766e4": {
     "views": [
      {
       "cell_index": 29
      }
     ]
    },
    "9cd468fdcc3f4f31b1b9e97e43c213f2": {
     "views": [
      {
       "cell_index": 29
      }
     ]
    },
    "9ded35755ac94c6087b438d850d9e3ca": {
     "views": [
      {
       "cell_index": 29
      }
     ]
    },
    "9edc47829bf5483fad1201f7f931ca8c": {
     "views": [
      {
       "cell_index": 29
      }
     ]
    },
    "9f986c22078a4e91b89f05ed80b7ccb6": {
     "views": [
      {
       "cell_index": 29
      }
     ]
    },
    "9ff28288474147d1ac0a9b17959ab34e": {
     "views": [
      {
       "cell_index": 29
      }
     ]
    },
    "a199a0865d974d64a9ecc12d56ea0a05": {
     "views": [
      {
       "cell_index": 29
      }
     ]
    },
    "a1a54bff92fe45f08da3e116a0f3f219": {
     "views": [
      {
       "cell_index": 29
      }
     ]
    },
    "a1b17d4e25064d168429149df78be480": {
     "views": [
      {
       "cell_index": 29
      }
     ]
    },
    "a1c6a6214816421fb19aa415229f17f1": {
     "views": [
      {
       "cell_index": 29
      }
     ]
    },
    "a2bf81fa697545bca3058cadadc56dfb": {
     "views": [
      {
       "cell_index": 29
      }
     ]
    },
    "a3788ae420e14755bf1ff24c300fd038": {
     "views": [
      {
       "cell_index": 29
      }
     ]
    },
    "a680055265c14e56bf8c7d1c6d50bfc9": {
     "views": [
      {
       "cell_index": 29
      }
     ]
    },
    "a796870a69bd401a9da7478938665227": {
     "views": [
      {
       "cell_index": 29
      }
     ]
    },
    "a8c6ea0bf52848f683c13fb6724aaebe": {
     "views": [
      {
       "cell_index": 29
      }
     ]
    },
    "a90ba6ee4dce4e01aa17e20ae647a8aa": {
     "views": [
      {
       "cell_index": 29
      }
     ]
    },
    "a97799cfa01c481eb54ed9c15365dd81": {
     "views": [
      {
       "cell_index": 29
      }
     ]
    },
    "a99f90d8cf9443e893053f1cfbafb0e6": {
     "views": [
      {
       "cell_index": 29
      }
     ]
    },
    "aa4a1d05bb034cc294b3b0e97910ad96": {
     "views": [
      {
       "cell_index": 29
      }
     ]
    },
    "abea03e9bcc4405aa0bd6403b6dd007b": {
     "views": [
      {
       "cell_index": 29
      }
     ]
    },
    "ac5656fad1094d439bfabead098bda5d": {
     "views": [
      {
       "cell_index": 29
      }
     ]
    },
    "af555628a45948f682c51e547c3dbc39": {
     "views": [
      {
       "cell_index": 29
      }
     ]
    },
    "af6894a01b8e430b831f1add38f6c982": {
     "views": [
      {
       "cell_index": 29
      }
     ]
    },
    "b04b064acf084fc8a5399d7dc8ed9ccb": {
     "views": [
      {
       "cell_index": 29
      }
     ]
    },
    "b20a3ec5ada84228a61a8fed9ee9c691": {
     "views": [
      {
       "cell_index": 29
      }
     ]
    },
    "b2589c5729804e4aa184083bc1b7eeeb": {
     "views": [
      {
       "cell_index": 29
      }
     ]
    },
    "b275782194424af4a3fac856dcf959f6": {
     "views": [
      {
       "cell_index": 29
      }
     ]
    },
    "b278c6d182364149b16ab1989748737c": {
     "views": [
      {
       "cell_index": 29
      }
     ]
    },
    "b2bb600c8f84454a8803baf791181894": {
     "views": [
      {
       "cell_index": 29
      }
     ]
    },
    "b3c7cef796544098874292059a7fb487": {
     "views": [
      {
       "cell_index": 29
      }
     ]
    },
    "b3ce528f8d0743458fa72b64a6d2433c": {
     "views": [
      {
       "cell_index": 29
      }
     ]
    },
    "b68faafab19c47d69ff90e92873c0181": {
     "views": [
      {
       "cell_index": 29
      }
     ]
    },
    "b6b035d371e64ca099feadf7727659ef": {
     "views": [
      {
       "cell_index": 29
      }
     ]
    },
    "b8804e8d43764af9b4d865e707650ed3": {
     "views": [
      {
       "cell_index": 29
      }
     ]
    },
    "b89c8b9676b74a55be74e63dc4efa61f": {
     "views": [
      {
       "cell_index": 29
      }
     ]
    },
    "b9d6f6c6b35b465782544d432836ea7f": {
     "views": [
      {
       "cell_index": 29
      }
     ]
    },
    "b9d84cb6999e492a812fa6413655a85f": {
     "views": [
      {
       "cell_index": 29
      }
     ]
    },
    "ba1f9a0fc04e4b79b4489b0c44ccaed4": {
     "views": [
      {
       "cell_index": 29
      }
     ]
    },
    "ba81e47db5ab4aaa8eed1c1572636f1e": {
     "views": [
      {
       "cell_index": 29
      }
     ]
    },
    "bafc22df501d4dbf8bbf57e4cedd072c": {
     "views": [
      {
       "cell_index": 29
      }
     ]
    },
    "bb2c12ca4a4842f7b28f8cf69b6980d1": {
     "views": [
      {
       "cell_index": 29
      }
     ]
    },
    "bd25b4005f4243d2a1d321743c9ea9a1": {
     "views": [
      {
       "cell_index": 29
      }
     ]
    },
    "bd513dbb9a0e4864877158cee87ee9f5": {
     "views": [
      {
       "cell_index": 29
      }
     ]
    },
    "bd56cec626924107b9e11d9b19312574": {
     "views": [
      {
       "cell_index": 29
      }
     ]
    },
    "bf9fe56bb85a4df19a4fd33a119a7436": {
     "views": [
      {
       "cell_index": 29
      }
     ]
    },
    "c1cb537160d84e5583d7d318f4dcba1d": {
     "views": [
      {
       "cell_index": 29
      }
     ]
    },
    "c1da3e7ecc554e67857252008b4557fd": {
     "views": [
      {
       "cell_index": 29
      }
     ]
    },
    "c293a24798d34a31b603312dfc5dc6f8": {
     "views": [
      {
       "cell_index": 29
      }
     ]
    },
    "c46c78ff066d4ffab696952ca7214a6b": {
     "views": [
      {
       "cell_index": 29
      }
     ]
    },
    "c4cd45d1a46a4e7181f7c1a7ddd6bd1f": {
     "views": [
      {
       "cell_index": 29
      }
     ]
    },
    "c546b551d3c94bdab14ae0fd58f696fa": {
     "views": [
      {
       "cell_index": 29
      }
     ]
    },
    "c56334087d6643bb94869a9ba7a2456a": {
     "views": [
      {
       "cell_index": 29
      }
     ]
    },
    "c5893f0496a446cc827d21d45463bad5": {
     "views": [
      {
       "cell_index": 29
      }
     ]
    },
    "c5fe1ea9edf24007ab031611a8de794a": {
     "views": [
      {
       "cell_index": 29
      }
     ]
    },
    "c6e813c637804ad79353c5e3dbd09314": {
     "views": [
      {
       "cell_index": 29
      }
     ]
    },
    "c8f856190807444c871a2531c1cecbd3": {
     "views": [
      {
       "cell_index": 29
      }
     ]
    },
    "c9e42da51e614ec6bea45a791728c139": {
     "views": [
      {
       "cell_index": 29
      }
     ]
    },
    "ca6a3433171e49c2aa11afbc114d6e53": {
     "views": [
      {
       "cell_index": 29
      }
     ]
    },
    "cb609a9b1d4a438e943a5bba4786be64": {
     "views": [
      {
       "cell_index": 29
      }
     ]
    },
    "cb73295070fb4302b0f5a00266a799f1": {
     "views": [
      {
       "cell_index": 29
      }
     ]
    },
    "cc3994afa23644fda92ad172839254b6": {
     "views": [
      {
       "cell_index": 29
      }
     ]
    },
    "cdc13208d13f4ccaba781bbe4fdcd127": {
     "views": [
      {
       "cell_index": 29
      }
     ]
    },
    "cdece3c1becd42f09a6d5765f4f0a08d": {
     "views": [
      {
       "cell_index": 29
      }
     ]
    },
    "cf5c8b1835914fa5b900b81ed884cd9d": {
     "views": [
      {
       "cell_index": 29
      }
     ]
    },
    "cf5d50c3ddf64a69be39b0bb7a68204d": {
     "views": [
      {
       "cell_index": 29
      }
     ]
    },
    "cfa7653b7d064fbcb2717574557a1063": {
     "views": [
      {
       "cell_index": 29
      }
     ]
    },
    "cfab013a181d4f6c87585997bd2790d0": {
     "views": [
      {
       "cell_index": 29
      }
     ]
    },
    "d1ff0c826b4b491d947cd9fcae63b1de": {
     "views": [
      {
       "cell_index": 29
      }
     ]
    },
    "d3b5d511a0044e39b436d5322792a1ca": {
     "views": [
      {
       "cell_index": 29
      }
     ]
    },
    "d4c601192d364bbd95bc4ade6e9e7b65": {
     "views": [
      {
       "cell_index": 29
      }
     ]
    },
    "d56bae80b5ee4bc389337a51b4908ac8": {
     "views": [
      {
       "cell_index": 29
      }
     ]
    },
    "d5e6013069d24c10a09e4b65994e0539": {
     "views": [
      {
       "cell_index": 29
      }
     ]
    },
    "d62c0f57debc4f80bcb99efa39c4b4cb": {
     "views": [
      {
       "cell_index": 29
      }
     ]
    },
    "d7980e5a8ad141bdb110f85e665512a4": {
     "views": [
      {
       "cell_index": 29
      }
     ]
    },
    "d7c6ea652f1d45a7806e7a4652e79cc0": {
     "views": [
      {
       "cell_index": 29
      }
     ]
    },
    "d7d46b480c7346e7948e420b4952407e": {
     "views": [
      {
       "cell_index": 29
      }
     ]
    },
    "d843087a5ba541208f2fcf895171d5c1": {
     "views": [
      {
       "cell_index": 29
      }
     ]
    },
    "d91d6c1eae324d6592c09c1d714d4039": {
     "views": [
      {
       "cell_index": 29
      }
     ]
    },
    "d9e7817bdca9408bb6d4c3b18821dd52": {
     "views": [
      {
       "cell_index": 29
      }
     ]
    },
    "d9ebcd34391145fc942090ecdc137d76": {
     "views": [
      {
       "cell_index": 29
      }
     ]
    },
    "dcf30f5009944ce989c4fe55f3fd3aa6": {
     "views": [
      {
       "cell_index": 29
      }
     ]
    },
    "dd6390eb629f489c95d1fef81bf4471f": {
     "views": [
      {
       "cell_index": 29
      }
     ]
    },
    "de3bfa0d3fde42c682becbd544a0d2a1": {
     "views": [
      {
       "cell_index": 29
      }
     ]
    },
    "dedf7f883f304853b02657e36c6996b9": {
     "views": [
      {
       "cell_index": 29
      }
     ]
    },
    "e0117887af8e47f79d3f45bc9cb533a8": {
     "views": [
      {
       "cell_index": 29
      }
     ]
    },
    "e06440f8e5584b17baee14c70dbc9414": {
     "views": [
      {
       "cell_index": 29
      }
     ]
    },
    "e08e031f7dae48d58424a98250994b68": {
     "views": [
      {
       "cell_index": 29
      }
     ]
    },
    "e097b695a45a4e92bf3216e61e0119f8": {
     "views": [
      {
       "cell_index": 29
      }
     ]
    },
    "e1a0b13358554704ac93343286b8364e": {
     "views": [
      {
       "cell_index": 29
      }
     ]
    },
    "e2da3a78757945798e1f0e85cf911112": {
     "views": [
      {
       "cell_index": 29
      }
     ]
    },
    "e459a820f1ca4acb80ff2b939a19927f": {
     "views": [
      {
       "cell_index": 29
      }
     ]
    },
    "e4dd4bd4178849828a8c27d5c92fa46d": {
     "views": [
      {
       "cell_index": 29
      }
     ]
    },
    "e583da676ce04d05a32ed0af06961387": {
     "views": [
      {
       "cell_index": 29
      }
     ]
    },
    "e5d5780bc1da49768cfec0dcdb14ca15": {
     "views": [
      {
       "cell_index": 29
      }
     ]
    },
    "e6749e08990f4213a11f161dcc1630a6": {
     "views": [
      {
       "cell_index": 29
      }
     ]
    },
    "e67b595c2f8b44f4935ac7d86e1b7162": {
     "views": [
      {
       "cell_index": 29
      }
     ]
    },
    "e69d059fcdcc47f293dd46ef419d6a82": {
     "views": [
      {
       "cell_index": 29
      }
     ]
    },
    "e79bcb02ec0d49d9a77986734e2cc320": {
     "views": [
      {
       "cell_index": 29
      }
     ]
    },
    "e7fb0b5354f0426ca66afb12c036b9e5": {
     "views": [
      {
       "cell_index": 29
      }
     ]
    },
    "e7fdf58764b242c794f1e69c84eaaf8e": {
     "views": [
      {
       "cell_index": 29
      }
     ]
    },
    "e8f2e5a9e2524488b1a981b00dbe508f": {
     "views": [
      {
       "cell_index": 29
      }
     ]
    },
    "e93df486081a437abdce5b00be4af1e5": {
     "views": [
      {
       "cell_index": 29
      }
     ]
    },
    "ea3e9dd36a014fe39c0d09b30f9605e3": {
     "views": [
      {
       "cell_index": 29
      }
     ]
    },
    "eb53e3b0cc2042ceada84f25e37e2cc4": {
     "views": [
      {
       "cell_index": 29
      }
     ]
    },
    "eba76f9443f3492e8e311eed28ac3a1e": {
     "views": [
      {
       "cell_index": 29
      }
     ]
    },
    "ebdd70cf16d44a4abfc87c8134d22374": {
     "views": [
      {
       "cell_index": 29
      }
     ]
    },
    "ed4bddeba85d41779b85464044a389a3": {
     "views": [
      {
       "cell_index": 29
      }
     ]
    },
    "edf37f28c0ee4b73be7d5f609870320e": {
     "views": [
      {
       "cell_index": 29
      }
     ]
    },
    "ee480cb751894d91abd0d9ae8c0c261c": {
     "views": [
      {
       "cell_index": 29
      }
     ]
    },
    "ee65123b1bf64dc18345587f28bb33d1": {
     "views": [
      {
       "cell_index": 29
      }
     ]
    },
    "ee69dd8d7de74e139cab1bc8139ec050": {
     "views": [
      {
       "cell_index": 29
      }
     ]
    },
    "ee6c439c866b4f7eb5a1f37f15fe313a": {
     "views": [
      {
       "cell_index": 29
      }
     ]
    },
    "ef515034659b4d0999d86354b091a95e": {
     "views": [
      {
       "cell_index": 29
      }
     ]
    },
    "ef781270ec894dac926217e3aca63c75": {
     "views": [
      {
       "cell_index": 29
      }
     ]
    },
    "f0c4cd48fd0e490aba210e6259109353": {
     "views": [
      {
       "cell_index": 29
      }
     ]
    },
    "f1a47ee41ef84da39cadd445e1090806": {
     "views": [
      {
       "cell_index": 29
      }
     ]
    },
    "f231ee694e0c470c836b95766632e4d9": {
     "views": [
      {
       "cell_index": 29
      }
     ]
    },
    "f2d453d2dbdd430abba1766ca1a5afd5": {
     "views": [
      {
       "cell_index": 29
      }
     ]
    },
    "f2d846f8964b4da8873d4f642b4d9ebd": {
     "views": [
      {
       "cell_index": 29
      }
     ]
    },
    "f45eca446ada453f8ab3fb3614463a41": {
     "views": [
      {
       "cell_index": 29
      }
     ]
    },
    "f6188160abb5454fbb2b21989c1abe43": {
     "views": [
      {
       "cell_index": 29
      }
     ]
    },
    "f636008d348c49c088647d7ce409edf1": {
     "views": [
      {
       "cell_index": 29
      }
     ]
    },
    "f742031a5577458aada95ecbe07b5065": {
     "views": [
      {
       "cell_index": 29
      }
     ]
    },
    "f773514e55124aafbd939605c46942e7": {
     "views": [
      {
       "cell_index": 29
      }
     ]
    },
    "f79ed6321a8b4cb48d076725a2185ff4": {
     "views": [
      {
       "cell_index": 29
      }
     ]
    },
    "f79faaf9fd244917a1f9b31e356cd2cb": {
     "views": [
      {
       "cell_index": 29
      }
     ]
    },
    "f849baece80b4c7b90e8529261455b6f": {
     "views": [
      {
       "cell_index": 29
      }
     ]
    },
    "f86717b127ab47a094735555c8de8952": {
     "views": [
      {
       "cell_index": 29
      }
     ]
    },
    "f886644a918147cb8010aba6b20f2a81": {
     "views": [
      {
       "cell_index": 29
      }
     ]
    },
    "fbd015e9341343b7ba91ce489cc6d549": {
     "views": [
      {
       "cell_index": 29
      }
     ]
    },
    "fd2e7238bdfa48c88d31ab574b2134a6": {
     "views": [
      {
       "cell_index": 29
      }
     ]
    },
    "fe4c00df4e58447abb4c00dd800194fb": {
     "views": [
      {
       "cell_index": 29
      }
     ]
    },
    "ffcf58d7a67f463ba32fd58f5d28352d": {
     "views": [
      {
       "cell_index": 29
      }
     ]
    },
    "fff04497f00d4c79bea269180889122f": {
     "views": [
      {
       "cell_index": 29
      }
     ]
    }
   },
   "version": "1.2.0"
  }
 },
 "nbformat": 4,
 "nbformat_minor": 0
}
