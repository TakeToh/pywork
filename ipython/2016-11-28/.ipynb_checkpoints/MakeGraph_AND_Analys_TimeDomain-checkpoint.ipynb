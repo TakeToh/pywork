{
 "cells": [
  {
   "cell_type": "markdown",
   "metadata": {},
   "source": [
    "幅広くデータを見ていく\n",
    "* 加速度の波形を並べていみる\n",
    "* ウィンドウフレームごとの平均，分散の変化"
   ]
  },
  {
   "cell_type": "code",
   "execution_count": 1,
   "metadata": {
    "collapsed": true
   },
   "outputs": [],
   "source": [
    "# 表示用\n",
    "from tqdm import tqdm\n",
    "from tqdm import tnrange, tqdm_notebook"
   ]
  },
  {
   "cell_type": "code",
   "execution_count": 2,
   "metadata": {
    "collapsed": false
   },
   "outputs": [],
   "source": [
    "import numpy as np\n",
    "from numpy import zeros, newaxis\n",
    "import datetime\n",
    "import os\n",
    "import copy\n",
    "import time\n",
    "\n",
    "# Parametor about Sensor\n",
    "SensorNum=1 # Sensor number\n",
    "#SensorAxis='AccX' # Axis\n",
    "\n",
    "# Parametor about  \" Sliding Window \" \n",
    "WindowWidth =np.array([128,256,512,1024,2048,4096]) # Window Width\n",
    "SlidingWidth =WindowWidth/4 #sliding window\n",
    "\n",
    "# Parametor about Neural Network\n",
    "AEDimention = 16\n",
    "\n",
    "# Define Data Name\n",
    "DATE= str( datetime.date.today() )+'/'\n",
    "TITLE=\"Participants01_First_1/\"\n",
    "\n",
    "# Parametor about \" Data Path\"\n",
    "DataPath = \"/media/takeyama/Transfer/02_ActivityResearch/Paticipants01/01_First/20161018-105301/mem/\"\n",
    "\n",
    "#chopin\n",
    "#StorePath = \"/home/takeyama/Documents/\"\n",
    "#mozart\n",
    "StorePath =\"/media/takeyama/HD-PNFU3/01_ActivityResearchData/\"\n",
    "if not os.path.exists(StorePath+TITLE+'dictionary/'): \n",
    "    os.makedirs(StorePath+TITLE+'dictionary/')\n",
    "DictionaryDataPath=StorePath+TITLE+'dictionary/'\n",
    "\n",
    "if not os.path.exists(StorePath+TITLE+DATE+'window/'): \n",
    "    os.makedirs(StorePath+TITLE+DATE+'window/')\n",
    "WindowDataPath=StorePath+TITLE+DATE+'window/'\n",
    "\n",
    "if not os.path.exists(StorePath+TITLE+DATE+'studyOutput/'): \n",
    "    os.makedirs(StorePath+TITLE+DATE+'studyOutput/')\n",
    "StudyOutputPath=StorePath+TITLE+DATE+'studyOutput/'\n",
    "\n",
    "if not os.path.exists(StorePath+TITLE+DATE+'parametor/'): \n",
    "    os.makedirs(StorePath+TITLE+DATE+'parametor/')\n",
    "ParametorPath=StorePath+TITLE+DATE+'parametor/'\n",
    "\n",
    "if not os.path.exists(StorePath+TITLE+DATE+'result/'): \n",
    "    os.makedirs(StorePath+TITLE+DATE+'result/')\n",
    "ResultPath=StorePath+TITLE+DATE+'result/'\n",
    "\n",
    "if not os.path.exists(StorePath+'/'+TITLE+DATE+'graph/'): \n",
    "    os.makedirs(StorePath+'/'+TITLE+DATE+'graph/')\n",
    "GraphPath=StorePath+'/'+TITLE+DATE+'graph/'"
   ]
  },
  {
   "cell_type": "markdown",
   "metadata": {},
   "source": [
    "センサデータの読み込み"
   ]
  },
  {
   "cell_type": "code",
   "execution_count": 3,
   "metadata": {
    "collapsed": true
   },
   "outputs": [],
   "source": [
    "# センサデータのcsvファイル名をリストに集約する関数\n",
    "def SensorDataFileNameList(path):\n",
    "    l = os.listdir(DataPath)\n",
    "    FilePath =[]\n",
    "    SensorName = []\n",
    "    \n",
    "    for n in range(len(l)):\n",
    "        if (l[n][:4].find('mem-') != -1):\n",
    "            FilePath.append(l[n])\n",
    "            SensorName.append(l[n][4:15])\n",
    "    \n",
    "    return FilePath,SensorName"
   ]
  },
  {
   "cell_type": "markdown",
   "metadata": {},
   "source": [
    "CSVを読み込んで，CSVの中身を辞書型で表現する"
   ]
  },
  {
   "cell_type": "code",
   "execution_count": 4,
   "metadata": {
    "collapsed": true
   },
   "outputs": [],
   "source": [
    "def ImportCSV(csv_file,SensorName,mode='Round'):\n",
    "    import pandas as pd\n",
    "    '''\n",
    "    ~Argument~\n",
    "    csv_file -> ファイル名 \n",
    "    mode Round -> 四捨五入\n",
    "         Roundup -> 切り上げ\n",
    "         Rounddown -> 切り捨て\n",
    "    \n",
    "    ~Conversion~\n",
    "    Acc Data  [0.1mG]=>[G]\n",
    "    Gyr Data  [0.01dps]=>[dps]   ...dps=degree per second\n",
    "    '''\n",
    "    # data dictionary \n",
    "    RawData={}   \n",
    "    AccConversion = 0.1 * 0.001\n",
    "    GyrConversion = 0.01\n",
    "    \n",
    "    # design dataframe and import csv\n",
    "    data = pd.read_csv(csv_file)\n",
    "    data.columns=[u'Type',u'Time',u'AccX',u'AccY',u'AccZ',u'GyrX',u'GyrY',u'GyrZ']\n",
    "    data = data[ data['Type']=='ags']\n",
    "\n",
    "    # convert numpy.darray \n",
    "\n",
    "    AccX=data.AccX.values*AccConversion\n",
    "    AccY=data.AccY.values*AccConversion\n",
    "    AccZ=data.AccZ.values*AccConversion\n",
    "    \n",
    "    GyrX=data.GyrX.values*GyrConversion\n",
    "    GyrY=data.GyrY.values*GyrConversion\n",
    "    GyrZ=data.GyrZ.values*GyrConversion\n",
    "\n",
    "    # regist each raw data \n",
    "    RawData['AccX'] = AccX\n",
    "    RawData['AccY'] = AccY\n",
    "    RawData['AccZ'] = AccZ\n",
    "    RawData['GyrX'] = GyrX\n",
    "    RawData['GyrY'] = GyrY\n",
    "    RawData['GyrZ'] = GyrZ\n",
    "    RawData['Name'] = SensorName\n",
    "\n",
    "    RawData['Time'] = data.Time.values\n",
    "\n",
    "    return RawData"
   ]
  },
  {
   "cell_type": "code",
   "execution_count": 5,
   "metadata": {
    "collapsed": true
   },
   "outputs": [],
   "source": [
    "# FFT library\n",
    "from scipy import fftpack\n",
    "from scipy import signal\n",
    "\n",
    "# Graph Plot\n",
    "import matplotlib.pyplot as plt\n",
    "from matplotlib import gridspec\n",
    "\n",
    "# Generate WindowFrame Function\n",
    "from mymodule import window\n",
    "\n",
    "# timer\n",
    "import time\n",
    "\n",
    "%matplotlib inline"
   ]
  },
  {
   "cell_type": "code",
   "execution_count": 6,
   "metadata": {
    "collapsed": false
   },
   "outputs": [],
   "source": [
    "DictName=os.listdir(DictionaryDataPath)"
   ]
  },
  {
   "cell_type": "code",
   "execution_count": 7,
   "metadata": {
    "collapsed": false
   },
   "outputs": [],
   "source": [
    "Sensor1 = np.load(DictionaryDataPath+DictName[0])['data'][()]\n",
    "Sensor2 = np.load(DictionaryDataPath+DictName[1])['data'][()]\n",
    "Sensor3 = np.load(DictionaryDataPath+DictName[2])['data'][()]\n",
    "Sensor4 = np.load(DictionaryDataPath+DictName[3])['data'][()]\n",
    "Sensor5 = np.load(DictionaryDataPath+DictName[4])['data'][()]\n",
    "Sensor6 = np.load(DictionaryDataPath+DictName[5])['data'][()]"
   ]
  },
  {
   "cell_type": "markdown",
   "metadata": {},
   "source": [
    "グラフプロットする"
   ]
  },
  {
   "cell_type": "code",
   "execution_count": 8,
   "metadata": {
    "collapsed": false
   },
   "outputs": [],
   "source": [
    "import matplotlib.pyplot as plt\n",
    "%matplotlib inline"
   ]
  },
  {
   "cell_type": "markdown",
   "metadata": {},
   "source": [
    "まずは，すべてのセンサデータの加速度Ｘを並べて表示する"
   ]
  },
  {
   "cell_type": "code",
   "execution_count": 9,
   "metadata": {
    "collapsed": false,
    "scrolled": true
   },
   "outputs": [
    {
     "data": {
      "image/png": "[encoded data removed]",
      "text/plain": [
       "<matplotlib.figure.Figure at 0x7fe31eab1710>"
      ]
     },
     "metadata": {},
     "output_type": "display_data"
    },
    {
     "name": "stdout",
     "output_type": "stream",
     "text": [
      "\r"
     ]
    }
   ],
   "source": [
    "fig = plt.figure(figsize=(20,10))\n",
    "ax = fig.add_subplot(111)\n",
    "\n",
    "ax.set_xlabel('Time')\n",
    "ax.set_ylabel('AccX')\n",
    "\n",
    "\n",
    "for PltRng in tqdm_notebook(range(0,1077000,1000),leave=False,mininterval=5):\n",
    "    ax.plot(range(PltRng,PltRng+1000), Sensor1['AccX'][PltRng:PltRng+1000],label='Sensor1')\n",
    "    ax.plot(range(PltRng,PltRng+1000), Sensor2['AccX'][PltRng:PltRng+1000],label='Sensor2')\n",
    "    ax.plot(range(PltRng,PltRng+1000), Sensor3['AccX'][PltRng:PltRng+1000],label='Sensor3')\n",
    "    ax.plot(range(PltRng,PltRng+1000), Sensor4['AccX'][PltRng:PltRng+1000],label='Sensor4')\n",
    "    ax.plot(range(PltRng,PltRng+1000), Sensor5['AccX'][PltRng:PltRng+1000],label='Sensor5')\n",
    "    ax.plot(range(PltRng,PltRng+1000), Sensor6['AccX'][PltRng:PltRng+1000],label='Sensor6')\n",
    "\n",
    "    lgnd=ax.legend(bbox_to_anchor=(1.05, 0.5), loc='lower left', borderaxespad=0)\n",
    "\n",
    "    ax.set_title(\"Participants01_Sensor1~6_AccX\"+str( PltRng ).zfill(7)+'-'+str( PltRng+1000 ).zfill(7))\n",
    "\n",
    "\n",
    "    filename = \"Participants01_Sensor1~6_AccX\"+str( PltRng ).zfill(7)+'-'+str( PltRng+1000 ).zfill(7)+\".png\"\n",
    "    ax.figure.savefig(GraphPath+filename,bbox_extra_artists=(lgnd,), bbox_inches='tight')\n",
    "\n",
    "    plt.show()\n",
    "    \n",
    "    ax.clear()\n",
    "    time.sleep(0.1)"
   ]
  },
  {
   "cell_type": "markdown",
   "metadata": {},
   "source": [
    "ウィンドウフレームごとのグラフ"
   ]
  },
  {
   "cell_type": "code",
   "execution_count": 10,
   "metadata": {
    "collapsed": false
   },
   "outputs": [
    {
     "name": "stderr",
     "output_type": "stream",
     "text": [
      "  8%|▊         | 2814/33682 [00:00<00:01, 28136.61it/s]"
     ]
    },
    {
     "name": "stdout",
     "output_type": "stream",
     "text": [
      "AccX is registed now\n",
      "Build Complete\n",
      "Source shape is(1077870,)\n",
      "window frames num =33682\n",
      "offset=14\n"
     ]
    },
    {
     "name": "stderr",
     "output_type": "stream",
     "text": [
      "100%|██████████| 33682/33682 [00:15<00:00, 2197.24it/s]\n"
     ]
    },
    {
     "data": {
      "image/png": "[encoded data removed]",
      "text/plain": [
       "<matplotlib.figure.Figure at 0x7fe316675550>"
      ]
     },
     "metadata": {},
     "output_type": "display_data"
    },
    {
     "name": "stdout",
     "output_type": "stream",
     "text": [
      "\n"
     ]
    }
   ],
   "source": [
    "fig = plt.figure(figsize=(20,10))\n",
    "ax = fig.add_subplot(111)\n",
    "\n",
    "ax.set_xlabel('Time')\n",
    "ax.set_ylabel('AccX')\n",
    "\n",
    "w=window()\n",
    "w.SetData('AccX',Sensor1['AccX'])\n",
    "wind=w.Compile(windowWidth=32,slidingWidth=16)\n",
    "\n",
    "RngPlotGraph = 10\n",
    "for PltRng in tqdm_notebook( xrange(0,33683,32*RngPlotGraph)):\n",
    "    for i in range(0,RngPlotGraph):\n",
    "        MIN = wind[PltRng+i,:32].min()\n",
    "        MAX = wind[PltRng+i,:32].max()\n",
    "        ax.plot(range(i*32,(i+1)*32), wind[PltRng+i,:32],label='Sensor1'+'WindNum'+str(i))\n",
    "        ax.plot([i*32, i*32], [MIN,MAX ], 'k-', lw=2)\n",
    "    \n",
    "    lgnd=ax.legend(bbox_to_anchor=(1.05, 0.5), loc='lower left', borderaxespad=0)\n",
    "\n",
    "    ax.set_title(\"Participants01_Sensor1_AccX_Each_WindFrame\"+str(PltRng).zfill(7)+'-'+str(PltRng+32*20).zfill(7))\n",
    "    ax.set_ylabel(\"Sensor1 AccX\")\n",
    "\n",
    "    filename = \"Participants01_Sensor1_AccX_Each_WindFrame\"+str(PltRng).zfill(5)+'-'+str(PltRng+32*50).zfill(5)+\".png\"\n",
    "    ax.figure.savefig(GraphPath+filename,bbox_extra_artists=(lgnd,), bbox_inches='tight')\n",
    "\n",
    "    plt.show()\n",
    "    \n",
    "    ax.clear()\n",
    "    time.sleep(0.01)"
   ]
  },
  {
   "cell_type": "markdown",
   "metadata": {
    "collapsed": false
   },
   "source": [
    "ウィンドウフレームごとの平均値の変化"
   ]
  },
  {
   "cell_type": "code",
   "execution_count": 11,
   "metadata": {
    "collapsed": false,
    "scrolled": false
   },
   "outputs": [
    {
     "name": "stderr",
     "output_type": "stream",
     "text": [
      "  9%|▉         | 2976/33682 [00:00<00:01, 29759.11it/s]"
     ]
    },
    {
     "name": "stdout",
     "output_type": "stream",
     "text": [
      "AccX is registed now\n",
      "Build Complete\n",
      "Source shape is(1077870,)\n",
      "window frames num =33682\n",
      "offset=14\n"
     ]
    },
    {
     "name": "stderr",
     "output_type": "stream",
     "text": [
      "100%|██████████| 33682/33682 [00:13<00:00, 2468.30it/s]\n"
     ]
    },
    {
     "data": {
      "image/png": "[encoded data removed]",
      "text/plain": [
       "<matplotlib.figure.Figure at 0x7fe31675bc90>"
      ]
     },
     "metadata": {},
     "output_type": "display_data"
    },
    {
     "name": "stdout",
     "output_type": "stream",
     "text": [
      "\r"
     ]
    }
   ],
   "source": [
    "fig = plt.figure(figsize=(20,10))\n",
    "ax = fig.add_subplot(111)\n",
    "\n",
    "ax.set_xlabel('Time')\n",
    "ax.set_ylabel('AccX')\n",
    "\n",
    "w=window()\n",
    "w.SetData('AccX',Sensor1['AccX'])\n",
    "wind=w.Compile(windowWidth=32,slidingWidth=16)\n",
    "\n",
    "RngPlotGraph = 100 # 100枚ごとにグラフを作成する\n",
    "\n",
    "for PltRng in tqdm_notebook( range(0,33600,RngPlotGraph),leave=False,mininterval=1):\n",
    "    Avrg=np.array([])\n",
    "\n",
    "    for i in range(PltRng,PltRng+RngPlotGraph):\n",
    "        Avrg = np.append(Avrg,wind[i,:].mean() )\n",
    "        \n",
    "    ax.plot(range(i*RngPlotGraph,(i+1)*RngPlotGraph), Avrg[:RngPlotGraph],label='Sensor1'+'WindNum'+str(PltRng).zfill(5)+'-'+str(PltRng+RngPlotGraph).zfill(5))\n",
    "    lgnd=ax.legend(bbox_to_anchor=(1.05, 0.5), loc='lower left', borderaxespad=0)\n",
    "\n",
    "    ax.set_title(\"Participants01_Sensor1_AccX_Each_WindFrame_Mean\"+str(PltRng).zfill(5)+'-'+str(PltRng+RngPlotGraph).zfill(5))\n",
    "    ax.set_xlabel(\"windowFrame Number\")\n",
    "    ax.set_ylabel(\"windowFrame Mean\")\n",
    "\n",
    "    filename = \"Participants01_Sensor1_AccX_Each_WindFrame_Mean\"+str(PltRng).zfill(5)+'-'+str(PltRng+RngPlotGraph).zfill(5)+\".png\"\n",
    "    ax.figure.savefig(GraphPath+filename,bbox_extra_artists=(lgnd,), bbox_inches='tight')\n",
    "\n",
    "    plt.show()\n",
    "\n",
    "    ax.clear()\n",
    "    time.sleep(1)"
   ]
  },
  {
   "cell_type": "code",
   "execution_count": 12,
   "metadata": {
    "collapsed": false
   },
   "outputs": [
    {
     "name": "stderr",
     "output_type": "stream",
     "text": [
      "  8%|▊         | 2704/33682 [00:00<00:01, 27033.26it/s]"
     ]
    },
    {
     "name": "stdout",
     "output_type": "stream",
     "text": [
      "AccX is registed now\n",
      "Build Complete\n",
      "Source shape is(1077870,)\n",
      "window frames num =33682\n",
      "offset=14\n"
     ]
    },
    {
     "name": "stderr",
     "output_type": "stream",
     "text": [
      "100%|██████████| 33682/33682 [00:14<00:00, 2379.23it/s]\n"
     ]
    },
    {
     "data": {
      "image/png": "[encoded data removed]",
      "text/plain": [
       "<matplotlib.figure.Figure at 0x7fe315904e90>"
      ]
     },
     "metadata": {},
     "output_type": "display_data"
    },
    {
     "ename": "KeyboardInterrupt",
     "evalue": "",
     "output_type": "error",
     "traceback": [
      "\u001b[0;31m---------------------------------------------------------------------------\u001b[0m",
      "\u001b[0;31mKeyboardInterrupt\u001b[0m                         Traceback (most recent call last)",
      "\u001b[0;32m<ipython-input-12-d6d08909a060>\u001b[0m in \u001b[0;36m<module>\u001b[0;34m()\u001b[0m\n\u001b[1;32m     30\u001b[0m \u001b[0;34m\u001b[0m\u001b[0m\n\u001b[1;32m     31\u001b[0m     \u001b[0max\u001b[0m\u001b[0;34m.\u001b[0m\u001b[0mclear\u001b[0m\u001b[0;34m(\u001b[0m\u001b[0;34m)\u001b[0m\u001b[0;34m\u001b[0m\u001b[0m\n\u001b[0;32m---> 32\u001b[0;31m     \u001b[0mtime\u001b[0m\u001b[0;34m.\u001b[0m\u001b[0msleep\u001b[0m\u001b[0;34m(\u001b[0m\u001b[0;36m1\u001b[0m\u001b[0;34m)\u001b[0m\u001b[0;34m\u001b[0m\u001b[0m\n\u001b[0m",
      "\u001b[0;31mKeyboardInterrupt\u001b[0m: "
     ]
    }
   ],
   "source": [
    "fig = plt.figure(figsize=(20,10))\n",
    "ax = fig.add_subplot(111)\n",
    "\n",
    "ax.set_xlabel('Time')\n",
    "ax.set_ylabel('AccX')\n",
    "\n",
    "w=window()\n",
    "w.SetData('AccX',Sensor1['AccX'])\n",
    "wind=w.Compile(windowWidth=32,slidingWidth=16)\n",
    "\n",
    "RngPlotGraph = 100 # 100枚ごとにグラフを作成する\n",
    "\n",
    "for PltRng in tqdm_notebook( range(0,33600,RngPlotGraph),leave=False,mininterval=1):\n",
    "    Var=np.array([])\n",
    "\n",
    "    for i in range(PltRng,PltRng+RngPlotGraph):\n",
    "        Var = np.append(Var,wind[i,:].var() )\n",
    "        \n",
    "    ax.plot(range(i*RngPlotGraph,(i+1)*RngPlotGraph), Var[:RngPlotGraph],label='Sensor1'+'WindNum'+str(PltRng).zfill(5)+'-'+str(PltRng+RngPlotGraph).zfill(5))\n",
    "    lgnd=ax.legend(bbox_to_anchor=(1.05, 0.5), loc='lower left', borderaxespad=0)\n",
    "\n",
    "    ax.set_title(\"Participants01_Sensor1_AccX_Each_WindFrame_Variance\"+str(PltRng).zfill(5)+'-'+str(PltRng+RngPlotGraph).zfill(5))\n",
    "    ax.set_xlabel(\"windowFrame Number\")\n",
    "    ax.set_ylabel(\"windowFrame Mean\")\n",
    "\n",
    "    filename = \"Participants01_Sensor1_AccX_Each_WindFrame_Variance\"+str(PltRng).zfill(5)+'-'+str(PltRng+RngPlotGraph).zfill(5)+\".png\"\n",
    "    ax.figure.savefig(GraphPath+filename,bbox_extra_artists=(lgnd,), bbox_inches='tight')\n",
    "\n",
    "    plt.show()\n",
    "\n",
    "    ax.clear()\n",
    "    time.sleep(1)"
   ]
  },
  {
   "cell_type": "code",
   "execution_count": null,
   "metadata": {
    "collapsed": true
   },
   "outputs": [],
   "source": [
    "fig = plt.figure(figsize=(20,10))\n",
    "ax = fig.add_subplot(111)\n",
    "\n",
    "ax.set_xlabel('Time')\n",
    "ax.set_ylabel('AccX')\n",
    "\n",
    "w=window()\n",
    "w.SetData('AccX',Sensor1['AccX'])\n",
    "wind=w.Compile(windowWidth=32,slidingWidth=16)\n",
    "\n",
    "RngPlotGraph = 100 # 100枚ごとにグラフを作成する\n",
    "\n",
    "for PltRng in tqdm_notebook( range(0,33600,RngPlotGraph),leave=False,mininterval=1):\n",
    "    Var=np.array([])\n",
    "\n",
    "    for i in range(PltRng,PltRng+RngPlotGraph):\n",
    "        Var = np.append(Var,np.median( wind[i,:]) )\n",
    "        \n",
    "    ax.plot(range(i*RngPlotGraph,(i+1)*RngPlotGraph), Var[:RngPlotGraph],label='Sensor1'+'WindNum'+str(PltRng).zfill(5)+'-'+str(PltRng+RngPlotGraph).zfill(5))\n",
    "    lgnd=ax.legend(bbox_to_anchor=(1.05, 0.5), loc='lower left', borderaxespad=0)\n",
    "\n",
    "    ax.set_title(\"Participants01_Sensor1_AccX_Each_WindFrame_Median\"+str(PltRng).zfill(5)+'-'+str(PltRng+RngPlotGraph).zfill(5))\n",
    "    ax.set_xlabel(\"windowFrame Number\")\n",
    "    ax.set_ylabel(\"windowFrame Mean\")\n",
    "\n",
    "    filename = \"Participants01_Sensor1_AccX_Each_WindFrame_Median\"+str(PltRng).zfill(5)+'-'+str(PltRng+RngPlotGraph).zfill(5)+\".png\"\n",
    "    ax.figure.savefig(GraphPath+filename,bbox_extra_artists=(lgnd,), bbox_inches='tight')\n",
    "\n",
    "    plt.show()\n",
    "\n",
    "    ax.clear()\n",
    "    time.sleep(1)"
   ]
  },
  {
   "cell_type": "markdown",
   "metadata": {},
   "source": [
    "とりあえず，テストとしてＬｅｆｔＨａｎｄのセンサのメディアン，平均，分散を出したのでSensor1の全軸の統計量のグラフを出す"
   ]
  },
  {
   "cell_type": "code",
   "execution_count": null,
   "metadata": {
    "collapsed": true
   },
   "outputs": [],
   "source": [
    "fig = plt.figure(figsize=(20,10))\n",
    "ax = fig.add_subplot(111)\n",
    "\n",
    "ax.set_xlabel('Time')\n",
    "ax.set_ylabel('AccX')\n",
    "\n",
    "wS1X=window()\n",
    "wS1Y=window()\n",
    "wS1Z=window()\n",
    "\n",
    "wS1X.SetData('AccX',Sensor1['AccX'])\n",
    "wS1Y.SetData('AccY',Sensor1['AccY'])\n",
    "wS1Z.SetData('AccZ',Sensor1['AccZ'])\n",
    "\n",
    "windS1X=wS1X.Compile(windowWidth=32,slidingWidth=16)\n",
    "windS1Y=wS1Y.Compile(windowWidth=32,slidingWidth=16)\n",
    "windS1Z=wS1Z.Compile(windowWidth=32,slidingWidth=16)\n",
    "\n",
    "RngPlotGraph = 10\n",
    "for PltRng in tqdm_notebook( xrange(0,33683,32*RngPlotGraph)):\n",
    "    for i in range(0,RngPlotGraph):\n",
    "        MIN1X = windS1X[PltRng+i,:32].min()\n",
    "        MAX1X = windS1X[PltRng+i,:32].max()\n",
    "        ax.plot(range(i*32,(i+1)*32), windS1X[PltRng+i,:32],label='Sensor1_AccX'+'WindNum'+str(i))\n",
    "        ax.plot([i*32, i*32], [MIN1X,MAX1X], 'k-', lw=2)\n",
    "        \n",
    "        MIN1Y = windS1Y[PltRng+i,:32].min()\n",
    "        MAX1Y = windS1Y[PltRng+i,:32].max()\n",
    "        ax.plot(range(i*32,(i+1)*32), windS1Y[PltRng+i,:32],label='Sensor1_AccY'+'WindNum'+str(i))\n",
    "        ax.plot([i*32, i*32], [MIN1Y,MAX1Y], 'k-', lw=2)\n",
    "        \n",
    "        MIN1Z = windS1Z[PltRng+i,:32].min()\n",
    "        MAX1Z = windS1Z[PltRng+i,:32].max()\n",
    "        ax.plot(range(i*32,(i+1)*32), windS1Z[PltRng+i,:32],label='Sensor1_AccZ'+'WindNum'+str(i))\n",
    "        ax.plot([i*32, i*32], [MIN1Z,MAX1Z], 'k-', lw=2)\n",
    "    \n",
    "    lgnd=ax.legend(bbox_to_anchor=(1.05, 0.5), loc='lower left', borderaxespad=0)\n",
    "\n",
    "    ax.set_title(\"Participants01_Sensor1_AccXYZ_Each_WindFrame\"+str(PltRng).zfill(7)+'-'+str(PltRng+32*20).zfill(7))\n",
    "    ax.set_ylabel(\"Sensor1 Accelemetor\")\n",
    "\n",
    "    filename = \"Participants01_Sensor1_AccXYZ\"+str(PltRng).zfill(5)+'-'+str(PltRng+32*50).zfill(5)+\".png\"\n",
    "    ax.figure.savefig(GraphPath+filename,bbox_extra_artists=(lgnd,), bbox_inches='tight')\n",
    "\n",
    "    plt.show()\n",
    "    \n",
    "    ax.clear()\n",
    "    time.sleep(0.01)"
   ]
  },
  {
   "cell_type": "code",
   "execution_count": null,
   "metadata": {
    "collapsed": false
   },
   "outputs": [],
   "source": [
    "fig = plt.figure(figsize=(20,10))\n",
    "ax = fig.add_subplot(111)\n",
    "\n",
    "ax.set_xlabel('Time')\n",
    "ax.set_ylabel('AccY')\n",
    "\n",
    "\n",
    "for PltRng in tqdm_notebook(range(0,1077000,1000),leave=False,mininterval=1):\n",
    "    ax.plot(range(PltRng,PltRng+1000), Sensor1['AccY'][PltRng:PltRng+1000],label='Sensor1')\n",
    "    ax.plot(range(PltRng,PltRng+1000), Sensor2['AccY'][PltRng:PltRng+1000],label='Sensor2')\n",
    "    ax.plot(range(PltRng,PltRng+1000), Sensor3['AccY'][PltRng:PltRng+1000],label='Sensor3')\n",
    "    ax.plot(range(PltRng,PltRng+1000), Sensor4['AccY'][PltRng:PltRng+1000],label='Sensor4')\n",
    "    ax.plot(range(PltRng,PltRng+1000), Sensor5['AccY'][PltRng:PltRng+1000],label='Sensor5')\n",
    "    ax.plot(range(PltRng,PltRng+1000), Sensor6['AccY'][PltRng:PltRng+1000],label='Sensor6')\n",
    "\n",
    "    lgnd=ax.legend(bbox_to_anchor=(1.05, 0.5), loc='lower left', borderaxespad=0)\n",
    "\n",
    "    ax.set_title(\"Participants01_Sensor1~6_AccY\"+str( PltRng ).zfill(7)+'-'+str( PltRng+1000 ).zfill(7))\n",
    "\n",
    "\n",
    "    filename = \"Participants01_Sensor1~6_AccY\"+str( PltRng ).zfill(7)+'-'+str( PltRng+1000 ).zfill(7)+\".png\"\n",
    "    ax.figure.savefig(GraphPath+filename,bbox_extra_artists=(lgnd,), bbox_inches='tight')\n",
    "\n",
    "    plt.show()\n",
    "    \n",
    "    ax.clear()\n",
    "    time.sleep(0.1)"
   ]
  },
  {
   "cell_type": "code",
   "execution_count": null,
   "metadata": {
    "collapsed": false
   },
   "outputs": [],
   "source": [
    "fig = plt.figure(figsize=(20,10))\n",
    "ax = fig.add_subplot(111)\n",
    "\n",
    "ax.set_xlabel('Time')\n",
    "ax.set_ylabel('AccZ')\n",
    "\n",
    "\n",
    "for PltRng in tqdm_notebook(range(0,1077000,1000),leave=False,mininterval=5):\n",
    "    ax.plot(range(PltRng,PltRng+1000), Sensor1['AccZ'][PltRng:PltRng+1000],label='Sensor1')\n",
    "    ax.plot(range(PltRng,PltRng+1000), Sensor2['AccZ'][PltRng:PltRng+1000],label='Sensor2')\n",
    "    ax.plot(range(PltRng,PltRng+1000), Sensor3['AccZ'][PltRng:PltRng+1000],label='Sensor3')\n",
    "    ax.plot(range(PltRng,PltRng+1000), Sensor4['AccZ'][PltRng:PltRng+1000],label='Sensor4')\n",
    "    ax.plot(range(PltRng,PltRng+1000), Sensor5['AccZ'][PltRng:PltRng+1000],label='Sensor5')\n",
    "    ax.plot(range(PltRng,PltRng+1000), Sensor6['AccZ'][PltRng:PltRng+1000],label='Sensor6')\n",
    "\n",
    "    lgnd=ax.legend(bbox_to_anchor=(1.05, 0.5), loc='lower left', borderaxespad=0)\n",
    "\n",
    "    ax.set_title(\"Participants01_Sensor1~6_AccZ\"+str( PltRng ).zfill(7)+'-'+str( PltRng+1000 ).zfill(7))\n",
    "\n",
    "\n",
    "    filename = \"Participants01_Sensor1~6_AccZ\"+str( PltRng ).zfill(7)+'-'+str( PltRng+1000 ).zfill(7)+\".png\"\n",
    "    ax.figure.savefig(GraphPath+filename,bbox_extra_artists=(lgnd,), bbox_inches='tight')\n",
    "\n",
    "    plt.show()\n",
    "    \n",
    "    ax.clear()\n",
    "    time.sleep(0.1)"
   ]
  },
  {
   "cell_type": "code",
   "execution_count": null,
   "metadata": {
    "collapsed": false
   },
   "outputs": [],
   "source": [
    "fig = plt.figure(figsize=(20,10))\n",
    "ax = fig.add_subplot(111)\n",
    "\n",
    "ax.set_xlabel('Time')\n",
    "ax.set_ylabel('AccY')\n",
    "\n",
    "w=window()\n",
    "w.SetData('AccY',Sensor1['AccY'])\n",
    "wind=w.Compile(windowWidth=32,slidingWidth=16)\n",
    "\n",
    "RngPlotGraph = 100 # 100枚ごとにグラフを作成する\n",
    "\n",
    "for PltRng in tqdm_notebook( range(0,33600,RngPlotGraph),leave=False,mininterval=1):\n",
    "    Avrg=np.array([])\n",
    "\n",
    "    for i in range(PltRng,PltRng+RngPlotGraph):\n",
    "        Avrg = np.append(Avrg,wind[i,:].mean() )\n",
    "        \n",
    "    ax.plot(range(i*RngPlotGraph,(i+1)*RngPlotGraph), Avrg[:RngPlotGraph],label='Sensor1'+'WindNum'+str(PltRng).zfill(5)+'-'+str(PltRng+RngPlotGraph).zfill(5))\n",
    "    lgnd=ax.legend(bbox_to_anchor=(1.05, 0.5), loc='lower left', borderaxespad=0)\n",
    "\n",
    "    ax.set_title(\"Participants01_Sensor1_AccY_Each_WindFrame_Mean\"+str(PltRng).zfill(5)+'-'+str(PltRng+RngPlotGraph).zfill(5))\n",
    "    ax.set_xlabel(\"windowFrame Number\")\n",
    "    ax.set_ylabel(\"windowFrame Mean\")\n",
    "\n",
    "    filename = \"Participants01_Sensor1_AccY_Each_WindFrame_Mean\"+str(PltRng).zfill(5)+'-'+str(PltRng+RngPlotGraph).zfill(5)+\".png\"\n",
    "    ax.figure.savefig(GraphPath+filename,bbox_extra_artists=(lgnd,), bbox_inches='tight')\n",
    "\n",
    "    plt.show()\n",
    "\n",
    "    ax.clear()\n",
    "    time.sleep(1)"
   ]
  },
  {
   "cell_type": "code",
   "execution_count": null,
   "metadata": {
    "collapsed": false
   },
   "outputs": [],
   "source": [
    "fig = plt.figure(figsize=(20,10))\n",
    "ax = fig.add_subplot(111)\n",
    "\n",
    "ax.set_xlabel('Time')\n",
    "ax.set_ylabel('AccZ')\n",
    "\n",
    "w=window()\n",
    "w.SetData('AccZ',Sensor1['AccZ'])\n",
    "wind=w.Compile(windowWidth=32,slidingWidth=16)\n",
    "\n",
    "RngPlotGraph = 100 # 100枚ごとにグラフを作成する\n",
    "\n",
    "for PltRng in tqdm_notebook( range(0,33600,RngPlotGraph),leave=False,mininterval=1):\n",
    "    Avrg=np.array([])\n",
    "\n",
    "    for i in range(PltRng,PltRng+RngPlotGraph):\n",
    "        Avrg = np.append(Avrg,wind[i,:].mean() )\n",
    "        \n",
    "    ax.plot(range(i*RngPlotGraph,(i+1)*RngPlotGraph), Avrg[:RngPlotGraph],label='Sensor1'+'WindNum'+str(PltRng).zfill(5)+'-'+str(PltRng+RngPlotGraph).zfill(5))\n",
    "    lgnd=ax.legend(bbox_to_anchor=(1.05, 0.5), loc='lower left', borderaxespad=0)\n",
    "\n",
    "    ax.set_title(\"Participants01_Sensor1_AccZ_Each_WindFrame_Mean\"+str(PltRng).zfill(5)+'-'+str(PltRng+RngPlotGraph).zfill(5))\n",
    "    ax.set_xlabel(\"windowFrame Number\")\n",
    "    ax.set_ylabel(\"windowFrame Mean\")\n",
    "\n",
    "    filename = \"Participants01_Sensor1_AccZ_Each_WindFrame_Mean\"+str(PltRng).zfill(5)+'-'+str(PltRng+RngPlotGraph).zfill(5)+\".png\"\n",
    "    ax.figure.savefig(GraphPath+filename,bbox_extra_artists=(lgnd,), bbox_inches='tight')\n",
    "\n",
    "    plt.show()\n",
    "\n",
    "    ax.clear()\n",
    "    time.sleep(1)"
   ]
  },
  {
   "cell_type": "markdown",
   "metadata": {},
   "source": [
    "上記のように各軸ごとに平均，分散といった統計量を出すよりも１つにまとめてしまったほうがいいのかもしれない\n",
    "\n",
    "各軸ごとに行うことのメリット\n",
    "* Ｙ軸のレンジが狭めることによって見やすくなる\n",
    "* 見やすくなることで様々な分析をすることが可能である\n",
    "\n",
    "3軸まとめてグラフ化することによるメリット\n",
    "* 各軸との関係性が見やすくなる"
   ]
  },
  {
   "cell_type": "markdown",
   "metadata": {},
   "source": [
    "３軸の平均をまとめる"
   ]
  },
  {
   "cell_type": "code",
   "execution_count": null,
   "metadata": {
    "collapsed": true
   },
   "outputs": [],
   "source": [
    "fig = plt.figure(figsize=(20,10))\n",
    "ax = fig.add_subplot(111)\n",
    "\n",
    "ax.set_xlabel('Time')\n",
    "ax.set_ylabel('AccX')\n",
    "\n",
    "wS1X=window()\n",
    "wS1Y=window()\n",
    "wS1Z=window()\n",
    "\n",
    "wS1X.SetData('AccX',Sensor1['AccX'])\n",
    "wS1Y.SetData('AccY',Sensor1['AccY'])\n",
    "wS1Z.SetData('AccZ',Sensor1['AccZ'])\n",
    "\n",
    "windS1X=wS1X.Compile(windowWidth=32,slidingWidth=16)\n",
    "windS1Y=wS1Y.Compile(windowWidth=32,slidingWidth=16)\n",
    "windS1Z=wS1Z.Compile(windowWidth=32,slidingWidth=16)\n",
    "\n",
    "RngPlotGraph = 10\n",
    "for PltRng in tqdm_notebook( xrange(0,33683,32*RngPlotGraph)):\n",
    "    AvrgS1X=np.array([])\n",
    "    AvrgS1Y=np.array([])\n",
    "    AvrgS1Z=np.array([])\n",
    "\n",
    "    for i in range(PltRng,PltRng+RngPlotGraph):\n",
    "        AvrgS1X = np.append(AvrgS1X,windS1X[i,:].mean() )\n",
    "        AvrgS1Y = np.append(AvrgS1Y,windS1Y[i,:].mean() )\n",
    "        AvrgS1Z = np.append(AvrgS1Z,windS1Z[i,:].mean() )\n",
    "        \n",
    "    ax.plot(range(i*RngPlotGraph,(i+1)*RngPlotGraph), AvrgS1X[:RngPlotGraph],label='Sensor1'+'WindNum'+str(PltRng).zfill(5)+'-'+str(PltRng+RngPlotGraph).zfill(5))\n",
    "    ax.plot(range(i*RngPlotGraph,(i+1)*RngPlotGraph), AvrgS1Y[:RngPlotGraph],label='Sensor1'+'WindNum'+str(PltRng).zfill(5)+'-'+str(PltRng+RngPlotGraph).zfill(5))\n",
    "    ax.plot(range(i*RngPlotGraph,(i+1)*RngPlotGraph), AvrgS1Z[:RngPlotGraph],label='Sensor1'+'WindNum'+str(PltRng).zfill(5)+'-'+str(PltRng+RngPlotGraph).zfill(5))\n",
    "    \n",
    "    lgnd=ax.legend(bbox_to_anchor=(1.05, 0.5), loc='lower left', borderaxespad=0)\n",
    "    \n",
    "    ax.set_title(\"Participants01_Sensor1_AccXYZ_Each_WindFrame_Mean\"+str(PltRng).zfill(7)+'-'+str(PltRng+32*20).zfill(7))\n",
    "    ax.set_ylabel(\"Sensor1 Accelemetor\")\n",
    "\n",
    "    filename = \"Participants01_Sensor1_AccXYZ_Each_WindFrame_Mean\"+str(PltRng).zfill(5)+'-'+str(PltRng+32*50).zfill(5)+\".png\"\n",
    "    ax.figure.savefig(GraphPath+filename,bbox_extra_artists=(lgnd,), bbox_inches='tight')\n",
    "\n",
    "    plt.show()\n",
    "    \n",
    "    ax.clear()\n",
    "    time.sleep(0.01)"
   ]
  },
  {
   "cell_type": "markdown",
   "metadata": {},
   "source": [
    "# ちょっとした分析アイデア1\n",
    "[R,G,B]=[平均，分散，中央値]とした際の画像を作ってみる"
   ]
  },
  {
   "cell_type": "code",
   "execution_count": 97,
   "metadata": {
    "collapsed": false,
    "scrolled": false
   },
   "outputs": [
    {
     "name": "stderr",
     "output_type": "stream",
     "text": [
      "  8%|▊         | 2717/33682 [00:00<00:01, 27169.70it/s]"
     ]
    },
    {
     "name": "stdout",
     "output_type": "stream",
     "text": [
      "AccX is registed now\n",
      "AccY is registed now\n",
      "AccZ is registed now\n",
      "Build Complete\n",
      "Source shape is(1077870,)\n",
      "window frames num =33682\n",
      "offset=14\n"
     ]
    },
    {
     "name": "stderr",
     "output_type": "stream",
     "text": [
      "100%|██████████| 33682/33682 [00:11<00:00, 2810.14it/s]\n",
      "  8%|▊         | 2759/33682 [00:00<00:01, 27583.98it/s]"
     ]
    },
    {
     "name": "stdout",
     "output_type": "stream",
     "text": [
      "Build Complete\n",
      "Source shape is(1077870,)\n",
      "window frames num =33682\n",
      "offset=14\n"
     ]
    },
    {
     "name": "stderr",
     "output_type": "stream",
     "text": [
      "100%|██████████| 33682/33682 [00:12<00:00, 2742.77it/s]\n",
      "  9%|▊         | 2918/33682 [00:00<00:01, 29168.97it/s]"
     ]
    },
    {
     "name": "stdout",
     "output_type": "stream",
     "text": [
      "Build Complete\n",
      "Source shape is(1077870,)\n",
      "window frames num =33682\n",
      "offset=14\n"
     ]
    },
    {
     "name": "stderr",
     "output_type": "stream",
     "text": [
      "100%|██████████| 33682/33682 [00:12<00:00, 2729.33it/s]\n"
     ]
    },
    {
     "name": "stdout",
     "output_type": "stream",
     "text": [
      "\n",
      "\n"
     ]
    },
    {
     "data": {
      "image/png": "[encoded data removed]",
      "text/plain": [
       "<matplotlib.figure.Figure at 0x7fe314a50cd0>"
      ]
     },
     "metadata": {},
     "output_type": "display_data"
    }
   ],
   "source": [
    "fig = plt.figure(figsize=(20,10))\n",
    "\n",
    "plt.xlabel('Time')\n",
    "plt.ylabel('AccX')\n",
    "\n",
    "# making window frame\n",
    "wS1X=window()\n",
    "wS1Y=window()\n",
    "wS1Z=window()\n",
    "\n",
    "wS1X.SetData('AccX',Sensor1['AccX'])\n",
    "wS1Y.SetData('AccY',Sensor1['AccY'])\n",
    "wS1Z.SetData('AccZ',Sensor1['AccZ'])\n",
    "\n",
    "windS1X=wS1X.Compile(windowWidth=32,slidingWidth=16)\n",
    "windS1Y=wS1Y.Compile(windowWidth=32,slidingWidth=16)\n",
    "windS1Z=wS1Z.Compile(windowWidth=32,slidingWidth=16)\n",
    "\n",
    "GoalOutput = np.zeros(( 3,10))\n",
    "\n",
    "RngPlotGraph = 10\n",
    "for PltRng in tqdm_notebook( xrange(0,33680,RngPlotGraph)):\n",
    "    AvrgS1X=np.array([])\n",
    "    AvrgS1Y=np.array([])\n",
    "    AvrgS1Z=np.array([])\n",
    "    \n",
    "    VarS1X=np.array([])\n",
    "    VarS1Y=np.array([])\n",
    "    VarS1Z=np.array([])\n",
    "    \n",
    "    MedS1X=np.array([])\n",
    "    MedS1Y=np.array([])\n",
    "    MedS1Z=np.array([])\n",
    "    \n",
    "    imgS1X=np.array([])\n",
    "    imgS1Y=np.array([])\n",
    "    imgS1Z=np.array([])\n",
    "    \n",
    "    img=np.array([])\n",
    "    \n",
    "    # calcurate Mean\n",
    "    for i in range(PltRng,PltRng+RngPlotGraph):\n",
    "        AvrgS1X = np.append(AvrgS1X,windS1X[i,:].mean() )/255\n",
    "        AvrgS1Y = np.append(AvrgS1Y,windS1Y[i,:].mean() )/255\n",
    "        AvrgS1Z = np.append(AvrgS1Z,windS1Z[i,:].mean() )/255\n",
    "    \n",
    "    # calcurate Variant\n",
    "    for i in range(PltRng,PltRng+RngPlotGraph):\n",
    "        VarS1X = np.append(VarS1X,windS1X[i,:].var() )/255\n",
    "        VarS1Y = np.append(VarS1Y,windS1Y[i,:].var() )/255\n",
    "        VarS1Z = np.append(VarS1Z,windS1Z[i,:].var() )/255\n",
    "        \n",
    "    # calcurate Median\n",
    "    for i in range(PltRng,PltRng+RngPlotGraph):\n",
    "        MedS1X = np.append(MedS1X,np.median(windS1X[i,:]) )/255\n",
    "        MedS1Y = np.append(MedS1Y,np.median(windS1Y[i,:]) )/255\n",
    "        MedS1Z = np.append(MedS1Z,np.median(windS1Z[i,:]) )/255\n",
    "        \n",
    "    imgS1X = np.hstack( (imgS1X,AvrgS1X))\n",
    "    imgS1X = np.hstack( (imgS1X,VarS1X))\n",
    "    imgS1X = np.hstack( (imgS1X,MedS1X))\n",
    "\n",
    "    imgS1Y = np.hstack( (imgS1Y,AvrgS1Y))\n",
    "    imgS1Y = np.hstack( (imgS1Y,VarS1Y))\n",
    "    imgS1Y = np.hstack( (imgS1Y,MedS1Y))\n",
    "    \n",
    "    imgS1Z = np.hstack( (imgS1Z,AvrgS1Z))\n",
    "    imgS1Z = np.hstack( (imgS1Z,VarS1Z))\n",
    "    imgS1Z = np.hstack( (imgS1Z,MedS1Z))\n",
    "    \n",
    "    img=np.vstack( (imgS1X,imgS1Y) )\n",
    "    img=np.vstack( (img,imgS1Z) )\n",
    "    \n",
    "    GoalOutput = np.hstack( (GoalOutput,img) )\n",
    "         \n",
    "    #lgnd=ax.legend(bbox_to_anchor=(1.05, 0.5), loc='lower left', borderaxespad=0)\n",
    "\n",
    "    filename = \"Participants01_Sensor1_AccXY_StatisticalValue_to_Image\"+str(PltRng).zfill(5)+'-'+str(PltRng+32*50).zfill(5)+\".png\"\n",
    "    #ax.figure.savefig(GraphPath+filename,bbox_extra_artists=(lgnd,), bbox_inches='tight')    \n",
    "    #ax.clear()\n",
    "    time.sleep(0.01)\n",
    "    \n",
    "GoalOutput=GoalOutput[:,:,newaxis]\n",
    "GoalOutput=GoalOutput[:,:101040,:]\n",
    "\n",
    "Image = GoalOutput.reshape(3,30,101040/30)\n",
    "\n",
    "fig =plt.figure()\n",
    "gs = gri\n",
    "for l in tqdm_notebook( range(3360,10) ):\n",
    "    for i in range(RngPlotGraph):\n",
    "        plt.subplot(5,2,i)\n",
    "        plt.title(\"Participants01_Sensor1_AccXYZ_StatisticalValue_to_Image\"+str(PltRng).zfill(7)+'-'+str(PltRng+32*20).zfill(7))\n",
    "        plt.ylabel(\"Sensor1 Accelemetor\")\n",
    "        plt.imshow(Image[:,:,i+l])"
   ]
  },
  {
   "cell_type": "code",
   "execution_count": 44,
   "metadata": {
    "collapsed": false
   },
   "outputs": [
    {
     "data": {
      "text/plain": [
       "(3, 30)"
      ]
     },
     "execution_count": 44,
     "metadata": {},
     "output_type": "execute_result"
    }
   ],
   "source": [
    "img.shape"
   ]
  },
  {
   "cell_type": "code",
   "execution_count": 74,
   "metadata": {
    "collapsed": false
   },
   "outputs": [],
   "source": [
    "Goal = GoalOutput[:,:,np.newaxis]"
   ]
  },
  {
   "cell_type": "code",
   "execution_count": 76,
   "metadata": {
    "collapsed": false
   },
   "outputs": [],
   "source": [
    "Goal.shape\n",
    "Goal=Goal[:,:101040,:]"
   ]
  },
  {
   "cell_type": "code",
   "execution_count": 81,
   "metadata": {
    "collapsed": true
   },
   "outputs": [],
   "source": [
    "ImageStatic=Goal.reshape(3,30,101040/30)"
   ]
  },
  {
   "cell_type": "code",
   "execution_count": 82,
   "metadata": {
    "collapsed": false
   },
   "outputs": [
    {
     "data": {
      "text/plain": [
       "(3, 30, 3368)"
      ]
     },
     "execution_count": 82,
     "metadata": {},
     "output_type": "execute_result"
    }
   ],
   "source": [
    "ImageStatic.shape"
   ]
  },
  {
   "cell_type": "code",
   "execution_count": 94,
   "metadata": {
    "collapsed": false
   },
   "outputs": [
    {
     "ename": "NameError",
     "evalue": "name 'Image' is not defined",
     "output_type": "error",
     "traceback": [
      "\u001b[0;31m---------------------------------------------------------------------------\u001b[0m",
      "\u001b[0;31mNameError\u001b[0m                                 Traceback (most recent call last)",
      "\u001b[0;32m<ipython-input-94-edd84d650c70>\u001b[0m in \u001b[0;36m<module>\u001b[0;34m()\u001b[0m\n\u001b[0;32m----> 1\u001b[0;31m \u001b[0mplt\u001b[0m\u001b[0;34m.\u001b[0m\u001b[0mimshow\u001b[0m\u001b[0;34m(\u001b[0m\u001b[0mImage\u001b[0m\u001b[0;34m[\u001b[0m\u001b[0;34m:\u001b[0m\u001b[0;34m,\u001b[0m\u001b[0;34m:\u001b[0m\u001b[0;34m,\u001b[0m\u001b[0;36m1\u001b[0m\u001b[0;34m]\u001b[0m\u001b[0;34m)\u001b[0m\u001b[0;34m\u001b[0m\u001b[0m\n\u001b[0m",
      "\u001b[0;31mNameError\u001b[0m: name 'Image' is not defined"
     ]
    }
   ],
   "source": [
    "plt.imshow(Image[:,:,1])"
   ]
  },
  {
   "cell_type": "code",
   "execution_count": null,
   "metadata": {
    "collapsed": true
   },
   "outputs": [],
   "source": []
  }
 ],
 "metadata": {
  "kernelspec": {
   "display_name": "Python 2",
   "language": "python",
   "name": "python2"
  },
  "language_info": {
   "codemirror_mode": {
    "name": "ipython",
    "version": 2
   },
   "file_extension": ".py",
   "mimetype": "text/x-python",
   "name": "python",
   "nbconvert_exporter": "python",
   "pygments_lexer": "ipython2",
   "version": "2.7.11"
  },
  "widgets": {
   "state": {
    "0096dc4f554b44b08bbd7649417dcd49": {
     "views": [
      {
       "cell_index": 15
      }
     ]
    },
    "01cacfea4b9947a9960352c91d4e9efe": {
     "views": [
      {
       "cell_index": 15
      }
     ]
    },
    "01e57ab8445f400eab5fc30e2fb2ca9a": {
     "views": [
      {
       "cell_index": 17
      }
     ]
    },
    "01ed086b46314c0cb252efe39211519a": {
     "views": [
      {
       "cell_index": 15
      }
     ]
    },
    "01f137dfba624c2e82898b9fbdf5385d": {
     "views": [
      {
       "cell_index": 15
      }
     ]
    },
    "028eadb0b40c4e0c94faefcc46be610c": {
     "views": [
      {
       "cell_index": 16
      }
     ]
    },
    "02b8707f774e4c8690a94b35f5b0800e": {
     "views": [
      {
       "cell_index": 16
      }
     ]
    },
    "035d488fa52743ed8f10d56dadfb5daf": {
     "views": [
      {
       "cell_index": 15
      }
     ]
    },
    "0427b6e8218141378293a1d2399bfc24": {
     "views": [
      {
       "cell_index": 17
      }
     ]
    },
    "04b32d3a83af49e4846779fda1825893": {
     "views": [
      {
       "cell_index": 15
      }
     ]
    },
    "04ccaa1595c64f6ea35731caf3cbc03c": {
     "views": [
      {
       "cell_index": 17
      }
     ]
    },
    "0602624155d844b68717fe19078d0b94": {
     "views": [
      {
       "cell_index": 15
      }
     ]
    },
    "06227ca5b87d4299bc89b93a9289c105": {
     "views": [
      {
       "cell_index": 15
      }
     ]
    },
    "0634b6e3474c4b1b927cd9b3a170c648": {
     "views": [
      {
       "cell_index": 15
      }
     ]
    },
    "0756a9aca9724ec3ad9f8e6b611b3a63": {
     "views": [
      {
       "cell_index": 30
      }
     ]
    },
    "07621acfb8074875a801c2c1af9b089f": {
     "views": [
      {
       "cell_index": 15
      }
     ]
    },
    "0781016b0b8a49f29495d2b5459e8f06": {
     "views": [
      {
       "cell_index": 15
      }
     ]
    },
    "07dd5e8d76b346b1abb17352ab93b349": {
     "views": [
      {
       "cell_index": 15
      }
     ]
    },
    "08cb643fcdd544d0b6cfaadbcad42bf0": {
     "views": [
      {
       "cell_index": 15
      }
     ]
    },
    "09aa65a6cb8445d18a62e52842b9e68d": {
     "views": [
      {
       "cell_index": 15
      }
     ]
    },
    "0a1594253e754d078efe3776f9cb496e": {
     "views": [
      {
       "cell_index": 15
      }
     ]
    },
    "0a7e2d11b07740e891c16e666b13f402": {
     "views": [
      {
       "cell_index": 15
      }
     ]
    },
    "0b24464beb4c4c4786366b7dd7d29512": {
     "views": [
      {
       "cell_index": 15
      }
     ]
    },
    "0b5ad3b850ad416fa603d79f9e956d07": {
     "views": [
      {
       "cell_index": 15
      }
     ]
    },
    "0bb007027d8c444fb3828f9471d225eb": {
     "views": [
      {
       "cell_index": 15
      }
     ]
    },
    "0df1a14c41144d92a93f3375a99b3118": {
     "views": [
      {
       "cell_index": 15
      }
     ]
    },
    "0e52dfd574884df5b4de66793fbd5464": {
     "views": [
      {
       "cell_index": 15
      }
     ]
    },
    "0e6513311d79476b9ae862a84b9c0297": {
     "views": [
      {
       "cell_index": 15
      }
     ]
    },
    "0f495c6de70c456c9eab863005bd82e8": {
     "views": [
      {
       "cell_index": 15
      }
     ]
    },
    "0fecbe437332473fa3e2a5aa8cf84626": {
     "views": [
      {
       "cell_index": 15
      }
     ]
    },
    "10c7547b6c764a45ba9fe425bab11721": {
     "views": [
      {
       "cell_index": 15
      }
     ]
    },
    "110989e4b9904267ac1122a3a6056b33": {
     "views": [
      {
       "cell_index": 17
      }
     ]
    },
    "12263ba2877f4bd088c79cfbabc86b7e": {
     "views": [
      {
       "cell_index": 15
      }
     ]
    },
    "13ec4e0afb3b427db0a230bab1d52706": {
     "views": [
      {
       "cell_index": 15
      }
     ]
    },
    "1425a43767d746ab8e8e34fff6affe2c": {
     "views": [
      {
       "cell_index": 15
      }
     ]
    },
    "14ef3f08d2144fe08b8005412229d100": {
     "views": [
      {
       "cell_index": 15
      }
     ]
    },
    "15fe6e9570d1449192600111b95b95a0": {
     "views": [
      {
       "cell_index": 15
      }
     ]
    },
    "1621c78cbb8b454ab4b575ccec66ebcb": {
     "views": [
      {
       "cell_index": 16
      }
     ]
    },
    "1635ab58c3a04b2094e4356763e1d0e0": {
     "views": [
      {
       "cell_index": 15
      }
     ]
    },
    "16fedca9d6e84145811e62d272170d1a": {
     "views": [
      {
       "cell_index": 18
      }
     ]
    },
    "173bd6dbf11c4193a99468106b3811bf": {
     "views": [
      {
       "cell_index": 15
      }
     ]
    },
    "178fec376ab745cd8cab4a1494626419": {
     "views": [
      {
       "cell_index": 15
      }
     ]
    },
    "17b6c45231b948f9b151b8b4bf2b9766": {
     "views": [
      {
       "cell_index": 17
      }
     ]
    },
    "17e168b828ce4e05a45378b886e0280f": {
     "views": [
      {
       "cell_index": 15
      }
     ]
    },
    "17f232c71fdd4baa8001160d4ec55647": {
     "views": [
      {
       "cell_index": 17
      }
     ]
    },
    "18277244c65b498eae2cd0974581466f": {
     "views": [
      {
       "cell_index": 15
      }
     ]
    },
    "19beb859549545e48dd37001492612e7": {
     "views": [
      {
       "cell_index": 17
      }
     ]
    },
    "19efa3038ddd425db9a7bf2502c7cd6e": {
     "views": [
      {
       "cell_index": 15
      }
     ]
    },
    "1a0449fab7a34d03aab401a218b74d03": {
     "views": [
      {
       "cell_index": 15
      }
     ]
    },
    "1c9edd9d5afa48b7a65f0eb5cdd7eac8": {
     "views": [
      {
       "cell_index": 15
      }
     ]
    },
    "1d7b388c34f44a8bb184410fe967f5a9": {
     "views": [
      {
       "cell_index": 15
      }
     ]
    },
    "1ddbe3c760b146d6b757eea51b54f874": {
     "views": [
      {
       "cell_index": 15
      }
     ]
    },
    "1e5cee0f06124542ae3d13ebe986b63f": {
     "views": [
      {
       "cell_index": 15
      }
     ]
    },
    "1f2a9247e3aa4901a0ec22980cfca12c": {
     "views": [
      {
       "cell_index": 15
      }
     ]
    },
    "1fb2860633674a4f9964da9915af4d2e": {
     "views": [
      {
       "cell_index": 15
      }
     ]
    },
    "1fb2d2b3ea7e456aae0e7680feb41c0f": {
     "views": [
      {
       "cell_index": 15
      }
     ]
    },
    "1ff32c8730c04534a8d2625ee74544f8": {
     "views": [
      {
       "cell_index": 15
      }
     ]
    },
    "20dc72388fca42cc8e166d4226f37e89": {
     "views": [
      {
       "cell_index": 15
      }
     ]
    },
    "21c78661d24a4240b415c2089d1e90c8": {
     "views": [
      {
       "cell_index": 15
      }
     ]
    },
    "21dd185bc7e9443d912150c42263501a": {
     "views": [
      {
       "cell_index": 15
      }
     ]
    },
    "23400c392dbf4d2290aa4668367ce7eb": {
     "views": [
      {
       "cell_index": 15
      }
     ]
    },
    "236f34e177f642c3933932d2c1371607": {
     "views": [
      {
       "cell_index": 15
      }
     ]
    },
    "241d42871a2b49158dcc23a034a3437e": {
     "views": [
      {
       "cell_index": 15
      }
     ]
    },
    "24bf6325afc24026854fcab162b1eda5": {
     "views": [
      {
       "cell_index": 15
      }
     ]
    },
    "255d02906f9045b690d19eadac652c42": {
     "views": [
      {
       "cell_index": 15
      }
     ]
    },
    "26864f9236434ca2a0177561cac9a7cb": {
     "views": [
      {
       "cell_index": 15
      }
     ]
    },
    "268b7e1d219e4ebca15623107d51738b": {
     "views": [
      {
       "cell_index": 16
      }
     ]
    },
    "269422fa21824746b83ad26a982ff83f": {
     "views": [
      {
       "cell_index": 15
      }
     ]
    },
    "26bbf9d5695a47c8ae49e63a21976c44": {
     "views": [
      {
       "cell_index": 15
      }
     ]
    },
    "26dbedcac0994b7e860cddcecf81fa33": {
     "views": [
      {
       "cell_index": 15
      }
     ]
    },
    "29b0f5ff06e24261a96b5ffc9ffba36f": {
     "views": [
      {
       "cell_index": 15
      }
     ]
    },
    "29b7943e45b44ef4a49aab118ff941f2": {
     "views": [
      {
       "cell_index": 17
      }
     ]
    },
    "29e9d98dd0fd4d5a8ec26246ce628471": {
     "views": [
      {
       "cell_index": 15
      }
     ]
    },
    "29f2878310654d54b7318cf07330c9ca": {
     "views": [
      {
       "cell_index": 15
      }
     ]
    },
    "2ae18eb785d042feb88e3b272a14a136": {
     "views": [
      {
       "cell_index": 15
      }
     ]
    },
    "2bc88a2dae624d3781f8991b32ec6690": {
     "views": [
      {
       "cell_index": 15
      }
     ]
    },
    "2bf773d1a156461191fb42a612289a88": {
     "views": [
      {
       "cell_index": 15
      }
     ]
    },
    "2c2976d2b7444717b0d4591dc37f8946": {
     "views": [
      {
       "cell_index": 16
      }
     ]
    },
    "2c6541801f2f4ffa8a1d9e32a3ec9f4e": {
     "views": [
      {
       "cell_index": 15
      }
     ]
    },
    "2c6967db7d7b4c44a1a3e8afa7f814fd": {
     "views": [
      {
       "cell_index": 15
      }
     ]
    },
    "2c804627b4c247ff932419cccac6106f": {
     "views": [
      {
       "cell_index": 15
      }
     ]
    },
    "2c9d57ac1ae34b538ff9cdf9f8e5a721": {
     "views": [
      {
       "cell_index": 15
      }
     ]
    },
    "2cb060b9ea734519ad87815de307290b": {
     "views": [
      {
       "cell_index": 15
      }
     ]
    },
    "2dd50dc7ae964bab99cb34a4deb15941": {
     "views": [
      {
       "cell_index": 15
      }
     ]
    },
    "2f48dcab0b3843c193033b4d57fa04c0": {
     "views": [
      {
       "cell_index": 15
      }
     ]
    },
    "2fbb97bde2ce490ba548c1c34f4e7965": {
     "views": [
      {
       "cell_index": 15
      }
     ]
    },
    "3011164a207c4571988eb1b841f9ded6": {
     "views": [
      {
       "cell_index": 15
      }
     ]
    },
    "309c3190e7e1445aa7c1016ce13f3cbc": {
     "views": [
      {
       "cell_index": 15
      }
     ]
    },
    "30c300c286174d839f2052c8a561f7ad": {
     "views": [
      {
       "cell_index": 15
      }
     ]
    },
    "30df473a8e4c4478a48d01087b5674fa": {
     "views": [
      {
       "cell_index": 16
      }
     ]
    },
    "30e777ce6d484c03ab65a042869539d8": {
     "views": [
      {
       "cell_index": 17
      }
     ]
    },
    "3117443eb08b46c68b239cabed0cb112": {
     "views": [
      {
       "cell_index": 15
      }
     ]
    },
    "329da07df984485fbfea458700ed90f3": {
     "views": [
      {
       "cell_index": 15
      }
     ]
    },
    "339305ab768b4964a76a59db8015f621": {
     "views": [
      {
       "cell_index": 15
      }
     ]
    },
    "33b29679503845d98917ce6d363ec82f": {
     "views": [
      {
       "cell_index": 15
      }
     ]
    },
    "349d54dc2caa46f38685ac46fd7beb16": {
     "views": [
      {
       "cell_index": 15
      }
     ]
    },
    "34f1704a62fb44a9a73ad84249ffd48f": {
     "views": [
      {
       "cell_index": 15
      }
     ]
    },
    "351a19cd49dc47ff86c4432cadf70676": {
     "views": [
      {
       "cell_index": 15
      }
     ]
    },
    "359603f8c2d94867a9a96c333dcc93ee": {
     "views": [
      {
       "cell_index": 15
      }
     ]
    },
    "35f7949cf7e94210a3a12c57b11d4c70": {
     "views": [
      {
       "cell_index": 15
      }
     ]
    },
    "36a4901f44ea44768829951b08d3b868": {
     "views": [
      {
       "cell_index": 15
      }
     ]
    },
    "36f4dc9674b44a88924f0b51466d7c28": {
     "views": [
      {
       "cell_index": 15
      }
     ]
    },
    "37cff0c8663b4ea78deb7f4041b3c59d": {
     "views": [
      {
       "cell_index": 15
      }
     ]
    },
    "384eb58ea5d74e8cb3a583fdeaeca352": {
     "views": [
      {
       "cell_index": 15
      }
     ]
    },
    "3883b42145114f63b81b50e48a8ffb7a": {
     "views": [
      {
       "cell_index": 17
      }
     ]
    },
    "3a0c308e62be474cb6fc302244f14793": {
     "views": [
      {
       "cell_index": 15
      }
     ]
    },
    "3b6e0d73c9294b3c914730faefcecb84": {
     "views": [
      {
       "cell_index": 17
      }
     ]
    },
    "3c4671e36bc84d348d6c12eb46164203": {
     "views": [
      {
       "cell_index": 15
      }
     ]
    },
    "3d1d7958c6e24e5caa324ec2e0ada78c": {
     "views": [
      {
       "cell_index": 15
      }
     ]
    },
    "3d71d6c4ba7843578d6202700c518daf": {
     "views": [
      {
       "cell_index": 15
      }
     ]
    },
    "3d85abe1fd6b4002bc39a36efe755239": {
     "views": [
      {
       "cell_index": 15
      }
     ]
    },
    "3e5276b91a2643b6882afe28474a238b": {
     "views": [
      {
       "cell_index": 15
      }
     ]
    },
    "3ecd66f0428a4d8e962dddf1c5cdaf39": {
     "views": [
      {
       "cell_index": 15
      }
     ]
    },
    "3efd1bc861fa49f7832e0f8d93aa6fc3": {
     "views": [
      {
       "cell_index": 30
      }
     ]
    },
    "3f079e05eb504861840f44daa73a7c35": {
     "views": [
      {
       "cell_index": 15
      }
     ]
    },
    "3f36c5ffdbd04ec5a7b8c907adcd1119": {
     "views": [
      {
       "cell_index": 16
      }
     ]
    },
    "41c6eb3acfea46f6b4035240b418304e": {
     "views": [
      {
       "cell_index": 15
      }
     ]
    },
    "422d3035f39e40418c6923316f10b5db": {
     "views": [
      {
       "cell_index": 15
      }
     ]
    },
    "423f1e617ead435aa6a585d9f37bae31": {
     "views": [
      {
       "cell_index": 15
      }
     ]
    },
    "426c5066018f4c7b9999bc78309271c1": {
     "views": [
      {
       "cell_index": 15
      }
     ]
    },
    "4304c0ba798a4f8cb61aaf1156a490f7": {
     "views": [
      {
       "cell_index": 17
      }
     ]
    },
    "43052bb4d8bb4f4c916bfcfecabb46e4": {
     "views": [
      {
       "cell_index": 15
      }
     ]
    },
    "43eef3c5ed9e42f48349634f24c31a23": {
     "views": [
      {
       "cell_index": 15
      }
     ]
    },
    "43f4f91dd39247eeabe693ef55d11364": {
     "views": [
      {
       "cell_index": 17
      }
     ]
    },
    "4402222c6a6a4ab887de2619977de8f8": {
     "views": [
      {
       "cell_index": 15
      }
     ]
    },
    "4452337a4e614f7e8feb4ace49ec9d6a": {
     "views": [
      {
       "cell_index": 17
      }
     ]
    },
    "44cfc701b88e4460a5361ac0daddbb1a": {
     "views": [
      {
       "cell_index": 15
      }
     ]
    },
    "4532425550cf42e488a794fe6464b19c": {
     "views": [
      {
       "cell_index": 15
      }
     ]
    },
    "46e244e6fe6e456786fa06ef8d8591c7": {
     "views": [
      {
       "cell_index": 15
      }
     ]
    },
    "481c541030df470ba5ef1da7e993813f": {
     "views": [
      {
       "cell_index": 17
      }
     ]
    },
    "48acd0fcb53a4c48aa3a9b1cd2ba92c7": {
     "views": [
      {
       "cell_index": 15
      }
     ]
    },
    "48f5be04fca3427f9478e6c0c0f258ac": {
     "views": [
      {
       "cell_index": 15
      }
     ]
    },
    "4a23018d815b4989a75814c435f3d039": {
     "views": [
      {
       "cell_index": 17
      }
     ]
    },
    "4a904cdfb98940e9aef07bff0de76268": {
     "views": [
      {
       "cell_index": 15
      }
     ]
    },
    "4c1c943774444115946a791eb99dcf5f": {
     "views": [
      {
       "cell_index": 15
      }
     ]
    },
    "4c66de2985554614960fa02bf4f6c489": {
     "views": [
      {
       "cell_index": 15
      }
     ]
    },
    "4cb7eac20c4248d89f2dbb3c386bca08": {
     "views": [
      {
       "cell_index": 15
      }
     ]
    },
    "4cf691c2f5fd42b29962958818635c5f": {
     "views": [
      {
       "cell_index": 15
      }
     ]
    },
    "4dbc23bf20194b3787e0238f81d3ee81": {
     "views": [
      {
       "cell_index": 15
      }
     ]
    },
    "4de1584ebedb45f3b3520655311162ce": {
     "views": [
      {
       "cell_index": 15
      }
     ]
    },
    "4df2180188b34483bdeee3b26fba85b0": {
     "views": [
      {
       "cell_index": 17
      }
     ]
    },
    "4f4086a2089a46e5be08b408d886ffa6": {
     "views": [
      {
       "cell_index": 15
      }
     ]
    },
    "4f79e6888a0e4fb28e1571febdce9a8f": {
     "views": [
      {
       "cell_index": 16
      }
     ]
    },
    "4faabf6d208c4f5492ad551c62933a62": {
     "views": [
      {
       "cell_index": 15
      }
     ]
    },
    "4feca396d70743238b5cb58bc008ba23": {
     "views": [
      {
       "cell_index": 15
      }
     ]
    },
    "501719828a824e08b68f3205aa9fbf92": {
     "views": [
      {
       "cell_index": 15
      }
     ]
    },
    "501fa32dd39c46af8a68c55027275028": {
     "views": [
      {
       "cell_index": 15
      }
     ]
    },
    "507aa01496ac4d85836b7786d85ff688": {
     "views": [
      {
       "cell_index": 15
      }
     ]
    },
    "50803e319c7448a892ced4b3e1ceb18e": {
     "views": [
      {
       "cell_index": 17
      }
     ]
    },
    "50d6ea19235c4436a2c5ae7248c1ce3d": {
     "views": [
      {
       "cell_index": 15
      }
     ]
    },
    "518206ef94a94fd3bebba2a82e8698e5": {
     "views": [
      {
       "cell_index": 15
      }
     ]
    },
    "5207fee4cbe74baeaf10a9ff8e570ef7": {
     "views": [
      {
       "cell_index": 15
      }
     ]
    },
    "52300a7c998948eb9013bfa65cf65836": {
     "views": [
      {
       "cell_index": 15
      }
     ]
    },
    "5241d3ac9e6342ab92df08bdc2f7c5ed": {
     "views": [
      {
       "cell_index": 15
      }
     ]
    },
    "53181244676443e085359f4d561fb0a5": {
     "views": [
      {
       "cell_index": 15
      }
     ]
    },
    "535bfe058d6b43ff8cecfc00e5bb7be1": {
     "views": [
      {
       "cell_index": 15
      }
     ]
    },
    "55b45e6319314b4db76864ef57a80484": {
     "views": [
      {
       "cell_index": 15
      }
     ]
    },
    "55cd3aa4f6af4c00a63eefded93d5685": {
     "views": [
      {
       "cell_index": 15
      }
     ]
    },
    "562e69ba07db4f198f96c56a8437c44a": {
     "views": [
      {
       "cell_index": 15
      }
     ]
    },
    "56ebaa3ebf814d5dae235a6dec48a040": {
     "views": [
      {
       "cell_index": 15
      }
     ]
    },
    "578d3d0978d74ce9aab012dd7673f05f": {
     "views": [
      {
       "cell_index": 15
      }
     ]
    },
    "58571ec9fd964667b005447095d94033": {
     "views": [
      {
       "cell_index": 15
      }
     ]
    },
    "596ab9843c1f4884ba238f31ca351824": {
     "views": [
      {
       "cell_index": 15
      }
     ]
    },
    "5a10b09ffc1b47b9a9a1267b0b89ecdf": {
     "views": [
      {
       "cell_index": 15
      }
     ]
    },
    "5a7503b257ce423e8fa551da5f60cfe1": {
     "views": [
      {
       "cell_index": 15
      }
     ]
    },
    "5b6dabd697db4e2d9728bf38f5b55b72": {
     "views": [
      {
       "cell_index": 15
      }
     ]
    },
    "5bbd22fc8ad24da49251cb3443a82ba2": {
     "views": [
      {
       "cell_index": 15
      }
     ]
    },
    "5cdca9597b644b90986027c5abd6a223": {
     "views": [
      {
       "cell_index": 15
      }
     ]
    },
    "5d66eebfdca04638855957972cfa2fd8": {
     "views": [
      {
       "cell_index": 16
      }
     ]
    },
    "5f3cbd23db2c403bba0d5a05efa8164f": {
     "views": [
      {
       "cell_index": 15
      }
     ]
    },
    "5fe999a47d204efebf096ee3e082765b": {
     "views": [
      {
       "cell_index": 16
      }
     ]
    },
    "603eff5d140c4d49909c2fe933c65424": {
     "views": [
      {
       "cell_index": 15
      }
     ]
    },
    "61564b633db6485fad7c82e76f50c55d": {
     "views": [
      {
       "cell_index": 15
      }
     ]
    },
    "618aba17db1c407f9898d39e197cd4d3": {
     "views": [
      {
       "cell_index": 15
      }
     ]
    },
    "6217ad46673f42ac9f736b7283cd81fb": {
     "views": [
      {
       "cell_index": 15
      }
     ]
    },
    "62eaf826db5443cebf3d1456f7ebb1d7": {
     "views": [
      {
       "cell_index": 15
      }
     ]
    },
    "62f7ee568f1f4a7f864d96056f45ca58": {
     "views": [
      {
       "cell_index": 17
      }
     ]
    },
    "63fee2765ca94ff68e838acee4796875": {
     "views": [
      {
       "cell_index": 15
      }
     ]
    },
    "643a13eed9d94babba85a3a4ad7be8f5": {
     "views": [
      {
       "cell_index": 16
      }
     ]
    },
    "6517b441d8034526b35e863d945c5144": {
     "views": [
      {
       "cell_index": 15
      }
     ]
    },
    "663149601ad5496c9130ba3a43aec9ff": {
     "views": [
      {
       "cell_index": 16
      }
     ]
    },
    "665c7d9cf7a2450fa24c9431210ce167": {
     "views": [
      {
       "cell_index": 17
      }
     ]
    },
    "666f3ac14295456c93a39addd55fc889": {
     "views": [
      {
       "cell_index": 15
      }
     ]
    },
    "6770c7a5930c4b20b025191e3471c0ab": {
     "views": [
      {
       "cell_index": 15
      }
     ]
    },
    "6788ba3cf24d4fb8bf390bdb1bc9bce9": {
     "views": [
      {
       "cell_index": 15
      }
     ]
    },
    "68d93f08d8bd4bc8afdac8c529d67f82": {
     "views": [
      {
       "cell_index": 15
      }
     ]
    },
    "693220efef4e4693ad6b48096cdd3662": {
     "views": [
      {
       "cell_index": 15
      }
     ]
    },
    "693e1fcc6aee4aa8a195d8c83406324c": {
     "views": [
      {
       "cell_index": 15
      }
     ]
    },
    "6975be59f2f040d0b940f95caf8865e5": {
     "views": [
      {
       "cell_index": 15
      }
     ]
    },
    "6a240953b45e4b6e951972c344e7bdc5": {
     "views": [
      {
       "cell_index": 15
      }
     ]
    },
    "6a3cf3c93cfe49ebab9100cce1ed9b90": {
     "views": [
      {
       "cell_index": 15
      }
     ]
    },
    "6a804ee1d82f4ff5b8eb524ccbd68f3e": {
     "views": [
      {
       "cell_index": 15
      }
     ]
    },
    "6b2fabfef6c141cb89f91f87975504be": {
     "views": [
      {
       "cell_index": 15
      }
     ]
    },
    "6b3bf513ada7466cb9bf1f7bff8d59fe": {
     "views": [
      {
       "cell_index": 15
      }
     ]
    },
    "6b7d2b85e1f74e6cbc6f9b4004d0134b": {
     "views": [
      {
       "cell_index": 15
      }
     ]
    },
    "6be099a859154c30bf68f8ef54b6cfde": {
     "views": [
      {
       "cell_index": 15
      }
     ]
    },
    "6c1477fef63847eb8051057abe0cfc56": {
     "views": [
      {
       "cell_index": 15
      }
     ]
    },
    "6c57dc9d69144110a3307bc3082a7e0e": {
     "views": [
      {
       "cell_index": 15
      }
     ]
    },
    "6cff5711e8724265906c79c473712a70": {
     "views": [
      {
       "cell_index": 15
      }
     ]
    },
    "6dc0a8165c7c4d0095882f5ffca914c3": {
     "views": [
      {
       "cell_index": 13
      }
     ]
    },
    "6dd5ed686462488f969536c1b4c448d5": {
     "views": [
      {
       "cell_index": 15
      }
     ]
    },
    "6e63797642954aea84347ea16cfc6650": {
     "views": [
      {
       "cell_index": 15
      }
     ]
    },
    "6e6bdfaf55ed4d36ac26c5fb9b749b42": {
     "views": [
      {
       "cell_index": 15
      }
     ]
    },
    "6e944695fdf94426bf61b39ab160b814": {
     "views": [
      {
       "cell_index": 17
      }
     ]
    },
    "70b75d47b67b4832a9c45d1b4dba5485": {
     "views": [
      {
       "cell_index": 15
      }
     ]
    },
    "71536e581e3b40a8b8ec637149abbd93": {
     "views": [
      {
       "cell_index": 15
      }
     ]
    },
    "7217c6a6366b48be8b4ca52b68cfc4ad": {
     "views": [
      {
       "cell_index": 15
      }
     ]
    },
    "725aefd842cd407c8eddbececf52a1e1": {
     "views": [
      {
       "cell_index": 15
      }
     ]
    },
    "726604d124384bfb898621e447c7ba16": {
     "views": [
      {
       "cell_index": 15
      }
     ]
    },
    "737024246e3a4422ba47b29f0444e731": {
     "views": [
      {
       "cell_index": 15
      }
     ]
    },
    "742d92e9350a47c1b0ee055684c103a2": {
     "views": [
      {
       "cell_index": 15
      }
     ]
    },
    "74be4372624243c4a6ef512f66d21417": {
     "views": [
      {
       "cell_index": 15
      }
     ]
    },
    "74cfd5552fd5444c829b6b2c4f45ff91": {
     "views": [
      {
       "cell_index": 15
      }
     ]
    },
    "7548269c6e354eea87f62f840580220b": {
     "views": [
      {
       "cell_index": 17
      }
     ]
    },
    "756377a47d3640a2928f1e1652fc7c5e": {
     "views": [
      {
       "cell_index": 15
      }
     ]
    },
    "76c07cc74942413587e74e1735b804c0": {
     "views": [
      {
       "cell_index": 15
      }
     ]
    },
    "774b3e0d05394f50b8668606d9c812d8": {
     "views": [
      {
       "cell_index": 17
      }
     ]
    },
    "77b98cb59181473fbd88a5e400ec2d8b": {
     "views": [
      {
       "cell_index": 15
      }
     ]
    },
    "7814091dbf044d5992a02e41d6d346ff": {
     "views": [
      {
       "cell_index": 15
      }
     ]
    },
    "787beef71d3440d3a54bbfc88e941c46": {
     "views": [
      {
       "cell_index": 15
      }
     ]
    },
    "78bd014f8cf64dbe95809eb9f8cb3ba4": {
     "views": [
      {
       "cell_index": 15
      }
     ]
    },
    "7949678acf154453aaa024973cf6a076": {
     "views": [
      {
       "cell_index": 15
      }
     ]
    },
    "7957f6b72dfb4419945927b1ecc80022": {
     "views": [
      {
       "cell_index": 15
      }
     ]
    },
    "7a6edb919a3b46e0b32e720f5f46a9f7": {
     "views": [
      {
       "cell_index": 15
      }
     ]
    },
    "7aef89987a924851b33269dd274f7c25": {
     "views": [
      {
       "cell_index": 15
      }
     ]
    },
    "7b597c1e89164b27b2946cc2f4854718": {
     "views": [
      {
       "cell_index": 15
      }
     ]
    },
    "7b9cfab791514788b34386f9a7c5323d": {
     "views": [
      {
       "cell_index": 15
      }
     ]
    },
    "7bd333bf212f4c4d8bb50f01957f3ea3": {
     "views": [
      {
       "cell_index": 15
      }
     ]
    },
    "7c4189335403434aa44be9a7a512951e": {
     "views": [
      {
       "cell_index": 15
      }
     ]
    },
    "7d4f2fe07ea949a9a45d44bad96557b4": {
     "views": [
      {
       "cell_index": 15
      }
     ]
    },
    "7e433859da27489d810272e1d0bcd574": {
     "views": [
      {
       "cell_index": 17
      }
     ]
    },
    "7ea30b18de034f2cbfcf038353599ba9": {
     "views": [
      {
       "cell_index": 15
      }
     ]
    },
    "7f8a366f93d049ea84c6f62931579ac6": {
     "views": [
      {
       "cell_index": 15
      }
     ]
    },
    "7fe923ea40ad4fba804f3276c3340ba3": {
     "views": [
      {
       "cell_index": 15
      }
     ]
    },
    "80caf3ff7c554dccaf4bfda775a99752": {
     "views": [
      {
       "cell_index": 17
      }
     ]
    },
    "80cb8cec93014a8e9053178e47f97df3": {
     "views": [
      {
       "cell_index": 17
      }
     ]
    },
    "81155cf5d48a4f0e8e2bb53b1d1d1180": {
     "views": [
      {
       "cell_index": 15
      }
     ]
    },
    "812c8fe621164730babe1409ecb297c4": {
     "views": [
      {
       "cell_index": 15
      }
     ]
    },
    "81564e37133049b49b4d9c96579993e3": {
     "views": [
      {
       "cell_index": 15
      }
     ]
    },
    "819b6b92fdad49bdb21866ab7ba38328": {
     "views": [
      {
       "cell_index": 16
      }
     ]
    },
    "81e0fb901c1e481fb1d56a9727dafb57": {
     "views": [
      {
       "cell_index": 15
      }
     ]
    },
    "820e04bc781c4945bdae8efc2d32ee2a": {
     "views": [
      {
       "cell_index": 15
      }
     ]
    },
    "82d2a047991e4813a7ccff11f85e89c7": {
     "views": [
      {
       "cell_index": 15
      }
     ]
    },
    "82ed22b2e82f47c1bb2785463438f8d7": {
     "views": [
      {
       "cell_index": 15
      }
     ]
    },
    "83edaea06db743439509c499451d725e": {
     "views": [
      {
       "cell_index": 15
      }
     ]
    },
    "85533726608f437b8f13284cb0503693": {
     "views": [
      {
       "cell_index": 15
      }
     ]
    },
    "862447bfe7ab40c9b064f2c8b1b1d11f": {
     "views": [
      {
       "cell_index": 17
      }
     ]
    },
    "86584bffa1284394b0299038e3f9bdea": {
     "views": [
      {
       "cell_index": 15
      }
     ]
    },
    "867c7369924d4095b2ada8e66cd2aa52": {
     "views": [
      {
       "cell_index": 15
      }
     ]
    },
    "86ce628047db49f292424a50a4b6446d": {
     "views": [
      {
       "cell_index": 15
      }
     ]
    },
    "87154e108bb14c01be65100966cad666": {
     "views": [
      {
       "cell_index": 17
      }
     ]
    },
    "87230002428143d5aab3672da3fd54b2": {
     "views": [
      {
       "cell_index": 15
      }
     ]
    },
    "8735d91918304a80a5e42a31d523e631": {
     "views": [
      {
       "cell_index": 15
      }
     ]
    },
    "87b4f769d6e747e78c85279acd9be84a": {
     "views": [
      {
       "cell_index": 15
      }
     ]
    },
    "886ce06b07cf45978de292f93153e566": {
     "views": [
      {
       "cell_index": 15
      }
     ]
    },
    "89078bfb84e84c4a8a701c9c4c0b6520": {
     "views": [
      {
       "cell_index": 15
      }
     ]
    },
    "89db92344bc6428a80dec49b1e84b98d": {
     "views": [
      {
       "cell_index": 15
      }
     ]
    },
    "8a4565857ced442a8387adbec6667559": {
     "views": [
      {
       "cell_index": 15
      }
     ]
    },
    "8be35afbde9b40aebf3dc5d34037563f": {
     "views": [
      {
       "cell_index": 15
      }
     ]
    },
    "8bee43a7993d4b31802257028652569f": {
     "views": [
      {
       "cell_index": 17
      }
     ]
    },
    "8d69397ca8a44d19a7aef4fae5dee9b0": {
     "views": [
      {
       "cell_index": 17
      }
     ]
    },
    "8e1fa87e1ccb4e9b9730c3ae99e78c0f": {
     "views": [
      {
       "cell_index": 15
      }
     ]
    },
    "8eac75d03e0e4b14b5bc0b05d175a930": {
     "views": [
      {
       "cell_index": 15
      }
     ]
    },
    "8ec54787fe7949f28ec749565ab4a578": {
     "views": [
      {
       "cell_index": 15
      }
     ]
    },
    "8f48a2eebb70444aae0d45702ebf1a6b": {
     "views": [
      {
       "cell_index": 15
      }
     ]
    },
    "8f9dc9007ead486fb593e27311274a1d": {
     "views": [
      {
       "cell_index": 15
      }
     ]
    },
    "8ffdc88a36fc4c7aa991214af6879968": {
     "views": [
      {
       "cell_index": 15
      }
     ]
    },
    "90876cf35ed043edb9277f9814b33eee": {
     "views": [
      {
       "cell_index": 17
      }
     ]
    },
    "90e474a71e6843b990c48a882bf16234": {
     "views": [
      {
       "cell_index": 15
      }
     ]
    },
    "912b3506789145d483c5fe1c26c5d756": {
     "views": [
      {
       "cell_index": 15
      }
     ]
    },
    "92342acf02e64488ad71690d719974e5": {
     "views": [
      {
       "cell_index": 15
      }
     ]
    },
    "92480afa68c049b999f04dab867d9ec4": {
     "views": [
      {
       "cell_index": 15
      }
     ]
    },
    "931346791876486a97338fbb177538d6": {
     "views": [
      {
       "cell_index": 15
      }
     ]
    },
    "933df13aa342492cb1189561cf366805": {
     "views": [
      {
       "cell_index": 15
      }
     ]
    },
    "935ccc71a6d24734927fe0f70c603e96": {
     "views": [
      {
       "cell_index": 15
      }
     ]
    },
    "940b9840da0144b192dd178ddf455b0f": {
     "views": [
      {
       "cell_index": 15
      }
     ]
    },
    "945133cc27e44eefb00ef991ee0affea": {
     "views": [
      {
       "cell_index": 15
      }
     ]
    },
    "94f990ebf40643fe8ee4172ca56cce40": {
     "views": [
      {
       "cell_index": 15
      }
     ]
    },
    "9667e68370174d7cbe4de777ce1d47d2": {
     "views": [
      {
       "cell_index": 15
      }
     ]
    },
    "975d7f5d2e574014be3b9c67cbdefc49": {
     "views": [
      {
       "cell_index": 17
      }
     ]
    },
    "982aad6132e14760b7e3cfe3245db718": {
     "views": [
      {
       "cell_index": 15
      }
     ]
    },
    "9942eec32fc24b22b5cab14567af729b": {
     "views": [
      {
       "cell_index": 15
      }
     ]
    },
    "9c6c7a72d57f42eb854d420c88fcac3f": {
     "views": [
      {
       "cell_index": 15
      }
     ]
    },
    "9d83057beef842ee884e61cdbed95aad": {
     "views": [
      {
       "cell_index": 15
      }
     ]
    },
    "9efc4771d3ef43aea872110e23fed85a": {
     "views": [
      {
       "cell_index": 15
      }
     ]
    },
    "9fc09155b89a4ea0b9f17958a213e894": {
     "views": [
      {
       "cell_index": 15
      }
     ]
    },
    "9fc0a54b87e248aeb58cc53032d90db3": {
     "views": [
      {
       "cell_index": 15
      }
     ]
    },
    "a02d500819d246af9235e818b568e634": {
     "views": [
      {
       "cell_index": 15
      }
     ]
    },
    "a1431f92e2fb41f983278ff0926c297d": {
     "views": [
      {
       "cell_index": 17
      }
     ]
    },
    "a14bc210cb324840a10255ea6b4240ae": {
     "views": [
      {
       "cell_index": 15
      }
     ]
    },
    "a1506e4b126841dd93dcc5eb18dd0cee": {
     "views": [
      {
       "cell_index": 15
      }
     ]
    },
    "a21c60419e50412ba3d1c7957ca2241c": {
     "views": [
      {
       "cell_index": 15
      }
     ]
    },
    "a298ffe67c134a20a26495c1ca3feeab": {
     "views": [
      {
       "cell_index": 15
      }
     ]
    },
    "a2dc40fa4cba4eef9187bd4c05b1096f": {
     "views": [
      {
       "cell_index": 15
      }
     ]
    },
    "a3c23ae799bb4cb18ab21098dc92a97e": {
     "views": [
      {
       "cell_index": 15
      }
     ]
    },
    "a3debcc2cd7f4e7fb5bde88c9db5ec59": {
     "views": [
      {
       "cell_index": 15
      }
     ]
    },
    "a4c3b8ab686b44fd8eec19c3dd9e4128": {
     "views": [
      {
       "cell_index": 15
      }
     ]
    },
    "a4c8a7a27f9141ab8b3b23d11815138a": {
     "views": [
      {
       "cell_index": 15
      }
     ]
    },
    "a5241a2e10ff42ebb964df938099a840": {
     "views": [
      {
       "cell_index": 15
      }
     ]
    },
    "a54c773e5f5446cd93f83787d3626f03": {
     "views": [
      {
       "cell_index": 15
      }
     ]
    },
    "a5f384ad9524476b877fc39f53246419": {
     "views": [
      {
       "cell_index": 15
      }
     ]
    },
    "a61a7b76d8914cc2a5c9a8c52a3932c7": {
     "views": [
      {
       "cell_index": 15
      }
     ]
    },
    "a643bfc17f634707ab3a9524753d3aa9": {
     "views": [
      {
       "cell_index": 15
      }
     ]
    },
    "a6e7469e14164c9f9d4a5af655f63a66": {
     "views": [
      {
       "cell_index": 15
      }
     ]
    },
    "a6ffe74699b442058775dfe3bb145cb8": {
     "views": [
      {
       "cell_index": 17
      }
     ]
    },
    "a73673809ff848d081e53295d0459f71": {
     "views": [
      {
       "cell_index": 17
      }
     ]
    },
    "a750c8b82e854c91b8dab50f01aabf55": {
     "views": [
      {
       "cell_index": 15
      }
     ]
    },
    "a7736ca4e3c147848e3c3d529e55e50c": {
     "views": [
      {
       "cell_index": 15
      }
     ]
    },
    "a8467edca9b7466cb7891643a321b49e": {
     "views": [
      {
       "cell_index": 15
      }
     ]
    },
    "a8ceee8543a1441eafc0c0fac4667d2f": {
     "views": [
      {
       "cell_index": 15
      }
     ]
    },
    "a8d82e065f79417e9ad5cd9e251623e2": {
     "views": [
      {
       "cell_index": 17
      }
     ]
    },
    "a9b4ebe5bbde4088a4da313022af36c5": {
     "views": [
      {
       "cell_index": 15
      }
     ]
    },
    "aac00bbd56f14bbaac2d5a8b3d700e8f": {
     "views": [
      {
       "cell_index": 15
      }
     ]
    },
    "ab75772aebe848d1b42f0e746af9ee17": {
     "views": [
      {
       "cell_index": 15
      }
     ]
    },
    "abf9370893a24563814ce4c98182c432": {
     "views": [
      {
       "cell_index": 15
      }
     ]
    },
    "abf98b51f5544b4f81785eb486976613": {
     "views": [
      {
       "cell_index": 17
      }
     ]
    },
    "ac028bdf3166432a8e78096b6aac4b64": {
     "views": [
      {
       "cell_index": 15
      }
     ]
    },
    "ac42193e24ab467f8e1a1f4a06bae600": {
     "views": [
      {
       "cell_index": 17
      }
     ]
    },
    "ac4dc40e1f404323847eb3e3e8be51d6": {
     "views": [
      {
       "cell_index": 15
      }
     ]
    },
    "acbbb2cc17d544058adec17a65c93e85": {
     "views": [
      {
       "cell_index": 15
      }
     ]
    },
    "ad725a6f31164991a957e4f99e291cbc": {
     "views": [
      {
       "cell_index": 16
      }
     ]
    },
    "ad7c388c6777465bad0067e5ed610535": {
     "views": [
      {
       "cell_index": 15
      }
     ]
    },
    "adca3649e6a34e29afdb5a85e0039d72": {
     "views": [
      {
       "cell_index": 15
      }
     ]
    },
    "aecc75fd25724b2c8f1de3615fb48254": {
     "views": [
      {
       "cell_index": 15
      }
     ]
    },
    "aee97063572e4f42803d4080f70a3493": {
     "views": [
      {
       "cell_index": 15
      }
     ]
    },
    "afd6ab0a7fcb4426a457a9f8489546e1": {
     "views": [
      {
       "cell_index": 15
      }
     ]
    },
    "b05a57333e544c57bf5a7d053b707c1b": {
     "views": [
      {
       "cell_index": 17
      }
     ]
    },
    "b0e0e7daf2964279ab1ee184127773ef": {
     "views": [
      {
       "cell_index": 15
      }
     ]
    },
    "b2cafc1135684a2ea4c74f53a976b148": {
     "views": [
      {
       "cell_index": 15
      }
     ]
    },
    "b400aba86dfd4c9fa9570a63695f79dc": {
     "views": [
      {
       "cell_index": 15
      }
     ]
    },
    "b502e1789eda491096dc7f5c136d892a": {
     "views": [
      {
       "cell_index": 15
      }
     ]
    },
    "b59ad9f089b940af81aa5543066e9feb": {
     "views": [
      {
       "cell_index": 15
      }
     ]
    },
    "b5a87326c6c6493a92e4b602d01749d2": {
     "views": [
      {
       "cell_index": 15
      }
     ]
    },
    "b5ec2b89aa8044f98dc839ea9ef5e9c6": {
     "views": [
      {
       "cell_index": 15
      }
     ]
    },
    "b63dde49f05d4e6f9d6b8cb295340767": {
     "views": [
      {
       "cell_index": 15
      }
     ]
    },
    "b6aa7f8a04d442ec969e605b6b8c6acf": {
     "views": [
      {
       "cell_index": 15
      }
     ]
    },
    "b7c35662af4744b88df76c3d5f8a34a9": {
     "views": [
      {
       "cell_index": 17
      }
     ]
    },
    "b88a7baa689b4189ad0ecf9b1ba3fb9a": {
     "views": [
      {
       "cell_index": 15
      }
     ]
    },
    "b8bac001ecae4f9db3524e6b509c4654": {
     "views": [
      {
       "cell_index": 15
      }
     ]
    },
    "b92845309cb4496f9d77791ad9d39cdd": {
     "views": [
      {
       "cell_index": 15
      }
     ]
    },
    "b984615be1b546df8cb6f0e696fd4340": {
     "views": [
      {
       "cell_index": 15
      }
     ]
    },
    "b9bc8b708f7f44d5b3fc73f59be9cf34": {
     "views": [
      {
       "cell_index": 15
      }
     ]
    },
    "ba9ea5072eb14c5ca656dc888832056b": {
     "views": [
      {
       "cell_index": 15
      }
     ]
    },
    "baa4b3408c00499784dc5f88dade5d76": {
     "views": [
      {
       "cell_index": 15
      }
     ]
    },
    "babda73778fa4879ba5de1c1682c7f02": {
     "views": [
      {
       "cell_index": 15
      }
     ]
    },
    "bb3d7eedc4d3494485e044cfabff8215": {
     "views": [
      {
       "cell_index": 15
      }
     ]
    },
    "bb49373ebe77439c936efc9507b52874": {
     "views": [
      {
       "cell_index": 17
      }
     ]
    },
    "bbfb603a159b4382bf2f808c7b4bbe0c": {
     "views": [
      {
       "cell_index": 15
      }
     ]
    },
    "bd28cee6a5aa436fae5cd19690ea1b37": {
     "views": [
      {
       "cell_index": 15
      }
     ]
    },
    "be6c3eb4589e4d9587c082b95694b874": {
     "views": [
      {
       "cell_index": 15
      }
     ]
    },
    "bfbbf1b260f24ab8a8119bfb089c762b": {
     "views": [
      {
       "cell_index": 15
      }
     ]
    },
    "c05d425defed4e749ff6d41a54c31173": {
     "views": [
      {
       "cell_index": 15
      }
     ]
    },
    "c11a9332e0224b17bd686a3ee0c80a11": {
     "views": [
      {
       "cell_index": 15
      }
     ]
    },
    "c17c8b9e6100497dae3c1bbb1afac98f": {
     "views": [
      {
       "cell_index": 15
      }
     ]
    },
    "c1d3a4a644b34d81a0a27dc9e1726620": {
     "views": [
      {
       "cell_index": 17
      }
     ]
    },
    "c34a1f3587ee470e9515ead4716bd9e3": {
     "views": [
      {
       "cell_index": 15
      }
     ]
    },
    "c34f0d6ec656460b8c299e92b8baf970": {
     "views": [
      {
       "cell_index": 15
      }
     ]
    },
    "c36748ba9a6c43f48e4fe7e373950491": {
     "views": [
      {
       "cell_index": 17
      }
     ]
    },
    "c38b3b86d1ab4186902208556429712d": {
     "views": [
      {
       "cell_index": 15
      }
     ]
    },
    "c5c64791fa834724b04b079990062622": {
     "views": [
      {
       "cell_index": 15
      }
     ]
    },
    "c86c2e9ba09e49e3b8964dbccd2c33b6": {
     "views": [
      {
       "cell_index": 15
      }
     ]
    },
    "c8962e99f7284891a641432c2f605226": {
     "views": [
      {
       "cell_index": 15
      }
     ]
    },
    "c98210f2588345e5a4185180e6ab25e6": {
     "views": [
      {
       "cell_index": 15
      }
     ]
    },
    "c9cb26214f5a4b3d9d886abfb3427660": {
     "views": [
      {
       "cell_index": 15
      }
     ]
    },
    "ca9c0bd00cf041df96e2cae3ea763d61": {
     "views": [
      {
       "cell_index": 15
      }
     ]
    },
    "cb8bf4d441b24aaba62945cf0dd2b6cf": {
     "views": [
      {
       "cell_index": 15
      }
     ]
    },
    "cb9ceb2129a14bc8bb87af8316b821b1": {
     "views": [
      {
       "cell_index": 15
      }
     ]
    },
    "cbd7bdc7cee54999b4ea230630e046a7": {
     "views": [
      {
       "cell_index": 15
      }
     ]
    },
    "cbf43cb79f7149a09efc4e09c422366d": {
     "views": [
      {
       "cell_index": 15
      }
     ]
    },
    "cd10fed12eb048eabf27fa1adc260873": {
     "views": [
      {
       "cell_index": 15
      }
     ]
    },
    "cec4ab3ecded4d53a98be451799eb475": {
     "views": [
      {
       "cell_index": 17
      }
     ]
    },
    "cf4e99775d644f788cef3e4eaeff6747": {
     "views": [
      {
       "cell_index": 17
      }
     ]
    },
    "cf69c24536134a86ba1a88b9706dc525": {
     "views": [
      {
       "cell_index": 15
      }
     ]
    },
    "cfed9215751e46e681954f586ebac27b": {
     "views": [
      {
       "cell_index": 15
      }
     ]
    },
    "d017d3d6c5604bdd9e9881e33e6fd398": {
     "views": [
      {
       "cell_index": 15
      }
     ]
    },
    "d1482dde35504641977937add288d3b2": {
     "views": [
      {
       "cell_index": 15
      }
     ]
    },
    "d1e6e5301de544fbbdef5a34cc20f0fa": {
     "views": [
      {
       "cell_index": 15
      }
     ]
    },
    "d1eb273c4d4f4150ab57be85365df18e": {
     "views": [
      {
       "cell_index": 15
      }
     ]
    },
    "d1fd57cb50354ccfa24280e07c040226": {
     "views": [
      {
       "cell_index": 15
      }
     ]
    },
    "d2b28a349b874d429ba8c29be525e5a6": {
     "views": [
      {
       "cell_index": 15
      }
     ]
    },
    "d2dc66f876f24bb68ee971c1ecede770": {
     "views": [
      {
       "cell_index": 15
      }
     ]
    },
    "d41aba79f0ce4c2290ccc6b758dd190b": {
     "views": [
      {
       "cell_index": 15
      }
     ]
    },
    "d4fba8933bd54983b514e49c3790499c": {
     "views": [
      {
       "cell_index": 15
      }
     ]
    },
    "d508b1b38f0b4fd2b047eed8bd5a0385": {
     "views": [
      {
       "cell_index": 17
      }
     ]
    },
    "d570a3ac23bc45b6a9ba336a38e8960b": {
     "views": [
      {
       "cell_index": 17
      }
     ]
    },
    "d59f82447c0a42ae90960f6c6b51369c": {
     "views": [
      {
       "cell_index": 17
      }
     ]
    },
    "d60dda926f924a22950636d37f359839": {
     "views": [
      {
       "cell_index": 15
      }
     ]
    },
    "d6e2d18b9470482cb2b767317d6edbfc": {
     "views": [
      {
       "cell_index": 15
      }
     ]
    },
    "d71328cbf6504a67a988d9539b2750f1": {
     "views": [
      {
       "cell_index": 15
      }
     ]
    },
    "d76e9b0b0cee459d90c8ce805476bc43": {
     "views": [
      {
       "cell_index": 15
      }
     ]
    },
    "d8098386f7474fdfb44b15bdb8fbd03f": {
     "views": [
      {
       "cell_index": 17
      }
     ]
    },
    "d82375939c374146ab0db01c4aaef277": {
     "views": [
      {
       "cell_index": 16
      }
     ]
    },
    "d8371779df454eeaafb8075c6eaab0f6": {
     "views": [
      {
       "cell_index": 15
      }
     ]
    },
    "d8b5990a800e423c9bf614b6e9d5ba9a": {
     "views": [
      {
       "cell_index": 15
      }
     ]
    },
    "d97fcd1f04c746fc8931f717509b124c": {
     "views": [
      {
       "cell_index": 17
      }
     ]
    },
    "d99152c226604bcb9f7a65f175f25e1b": {
     "views": [
      {
       "cell_index": 17
      }
     ]
    },
    "d9e1dd92419741f9a779b75c850bc885": {
     "views": [
      {
       "cell_index": 15
      }
     ]
    },
    "da0c597069c44c0b9ebb357a3737b988": {
     "views": [
      {
       "cell_index": 15
      }
     ]
    },
    "db006f3341474a7fb56064af28d8ea88": {
     "views": [
      {
       "cell_index": 15
      }
     ]
    },
    "db45c56c1ad54e7089d48d6b58f8966d": {
     "views": [
      {
       "cell_index": 15
      }
     ]
    },
    "dbd97be29e614d86b4620d9944762dc3": {
     "views": [
      {
       "cell_index": 15
      }
     ]
    },
    "dc4eb5a950a1453381fc558b4cff2a0d": {
     "views": [
      {
       "cell_index": 15
      }
     ]
    },
    "dd76dc7d3f864bfa9f51ba9a7c39d7f2": {
     "views": [
      {
       "cell_index": 15
      }
     ]
    },
    "dd9974fdae924120abafd93a4cbe0e61": {
     "views": [
      {
       "cell_index": 15
      }
     ]
    },
    "ddc9fdbdbe374f12a46c0f0862c5b829": {
     "views": [
      {
       "cell_index": 15
      }
     ]
    },
    "dfb833f10ba54e5fbe975b5cd0a0d9e2": {
     "views": [
      {
       "cell_index": 15
      }
     ]
    },
    "e13414a74dfc4dc897263c25ba766713": {
     "views": [
      {
       "cell_index": 15
      }
     ]
    },
    "e140b39fddb046c482b5b65d2d842eae": {
     "views": [
      {
       "cell_index": 15
      }
     ]
    },
    "e15489cb9bb2450dbc5e6d3b8d1cf3ab": {
     "views": [
      {
       "cell_index": 15
      }
     ]
    },
    "e234a62e49094b2eae912335c5468d0f": {
     "views": [
      {
       "cell_index": 15
      }
     ]
    },
    "e2f76f738d5846ebaf4dcb7c5dea860f": {
     "views": [
      {
       "cell_index": 15
      }
     ]
    },
    "e52bfb7618634c97b8b7829f7782648f": {
     "views": [
      {
       "cell_index": 15
      }
     ]
    },
    "e55da7323cbf4642a9cd43bb0eeb4f0d": {
     "views": [
      {
       "cell_index": 15
      }
     ]
    },
    "e56b2329853744f78b829b4256633b0c": {
     "views": [
      {
       "cell_index": 15
      }
     ]
    },
    "e58f10d901e24871bee9fe1696ef47be": {
     "views": [
      {
       "cell_index": 15
      }
     ]
    },
    "e6059eceadf74583a042ee494ae6783d": {
     "views": [
      {
       "cell_index": 16
      }
     ]
    },
    "e62a5a9643f2477e8adde178bad0c24f": {
     "views": [
      {
       "cell_index": 15
      }
     ]
    },
    "e63c974b07204b0d90cae5b44b2df9bb": {
     "views": [
      {
       "cell_index": 15
      }
     ]
    },
    "e66bbe47cf8d47a6a840593e5daca741": {
     "views": [
      {
       "cell_index": 15
      }
     ]
    },
    "e6ddefb6bc524732a327b18a58955023": {
     "views": [
      {
       "cell_index": 15
      }
     ]
    },
    "e7f2bbd383434b3fb42de6646e5ee87a": {
     "views": [
      {
       "cell_index": 17
      }
     ]
    },
    "e85ff1b2fc364555ba8e1d1db07f32d3": {
     "views": [
      {
       "cell_index": 15
      }
     ]
    },
    "ea4cbf2bf08a419583e7b812e448882d": {
     "views": [
      {
       "cell_index": 15
      }
     ]
    },
    "ec2ecd6bbb0f46c09a344a4ccde8c898": {
     "views": [
      {
       "cell_index": 15
      }
     ]
    },
    "ec9bc3d4e862472ca66a48bb2e546417": {
     "views": [
      {
       "cell_index": 15
      }
     ]
    },
    "ec9f1babcef54d49b5356eb86e157caf": {
     "views": [
      {
       "cell_index": 15
      }
     ]
    },
    "eca2d42991184d4c9b22c540315cd169": {
     "views": [
      {
       "cell_index": 15
      }
     ]
    },
    "ecf53a3a94474ba085219032962c129f": {
     "views": [
      {
       "cell_index": 15
      }
     ]
    },
    "edb1ee520135437280238b66ad0d49ed": {
     "views": [
      {
       "cell_index": 15
      }
     ]
    },
    "ee1fee5378c140b38312443e342c756a": {
     "views": [
      {
       "cell_index": 17
      }
     ]
    },
    "ef209dbe86ab4faa9ef3535f41e7cf65": {
     "views": [
      {
       "cell_index": 16
      }
     ]
    },
    "efbefd82884a4935948e5dcb35c68bc9": {
     "views": [
      {
       "cell_index": 15
      }
     ]
    },
    "f2b61ae7e28f48879c03fba041285ae5": {
     "views": [
      {
       "cell_index": 15
      }
     ]
    },
    "f3c5bbca8d234cdd882b04f710ab2e5c": {
     "views": [
      {
       "cell_index": 15
      }
     ]
    },
    "f4a90c3c89f14888ad278946f35dfc29": {
     "views": [
      {
       "cell_index": 17
      }
     ]
    },
    "f587ff1d78cd4afa8ebf454a5f36bcf8": {
     "views": [
      {
       "cell_index": 15
      }
     ]
    },
    "f5bf689176a640178a2d2802cbb927f0": {
     "views": [
      {
       "cell_index": 15
      }
     ]
    },
    "f6aaf14ec92f4c57b65a25882ba1deaf": {
     "views": [
      {
       "cell_index": 15
      }
     ]
    },
    "f6e4491ca80f43f8a897ecd358f060f3": {
     "views": [
      {
       "cell_index": 15
      }
     ]
    },
    "f71b1205b53340918e17258f88e11eda": {
     "views": [
      {
       "cell_index": 15
      }
     ]
    },
    "f75dc53604e7416bbf80ea9315e02c0d": {
     "views": [
      {
       "cell_index": 15
      }
     ]
    },
    "fa8f2c54e875444b9fe0e8634a7c33cc": {
     "views": [
      {
       "cell_index": 15
      }
     ]
    },
    "fb0d6801f65d4f8799570b514dc600f4": {
     "views": [
      {
       "cell_index": 15
      }
     ]
    },
    "fb4c7c06a7db42f6b1a23c9966adf5ad": {
     "views": [
      {
       "cell_index": 15
      }
     ]
    },
    "fba7ab198aec419ab1e08f71bf3896d5": {
     "views": [
      {
       "cell_index": 15
      }
     ]
    },
    "fc3c110e3e004f8ba04d514cacecf360": {
     "views": [
      {
       "cell_index": 15
      }
     ]
    },
    "fca276d9c0364c1190f725609325abfd": {
     "views": [
      {
       "cell_index": 15
      }
     ]
    },
    "fcca7554739549dca5b056c1b71b970b": {
     "views": [
      {
       "cell_index": 15
      }
     ]
    },
    "fd191b9bde694eb38ed9a82d35092d50": {
     "views": [
      {
       "cell_index": 15
      }
     ]
    },
    "fd494163ab214ad5a000aff0003c2d61": {
     "views": [
      {
       "cell_index": 15
      }
     ]
    },
    "fe98581df1bb4decada58f8e84c9d3d8": {
     "views": [
      {
       "cell_index": 15
      }
     ]
    },
    "ffd72c2391e24a038ee1b6ce0ac9de47": {
     "views": [
      {
       "cell_index": 15
      }
     ]
    }
   },
   "version": "1.2.0"
  }
 },
 "nbformat": 4,
 "nbformat_minor": 0
}
