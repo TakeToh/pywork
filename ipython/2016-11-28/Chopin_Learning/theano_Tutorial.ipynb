{
 "cells": [
  {
   "cell_type": "code",
   "execution_count": 1,
   "metadata": {
    "collapsed": false
   },
   "outputs": [
    {
     "name": "stderr",
     "output_type": "stream",
     "text": [
      "Using gpu device 0: GeForce GTX 1080 (CNMeM is disabled, cuDNN 5005)\n"
     ]
    }
   ],
   "source": [
    "from theano import *"
   ]
  },
  {
   "cell_type": "code",
   "execution_count": 2,
   "metadata": {
    "collapsed": true
   },
   "outputs": [],
   "source": [
    "import theano.tensor as T"
   ]
  },
  {
   "cell_type": "markdown",
   "metadata": {},
   "source": [
    "Baby Steps -Algebra"
   ]
  },
  {
   "cell_type": "code",
   "execution_count": 3,
   "metadata": {
    "collapsed": true
   },
   "outputs": [],
   "source": [
    "import numpy"
   ]
  },
  {
   "cell_type": "code",
   "execution_count": 4,
   "metadata": {
    "collapsed": true
   },
   "outputs": [],
   "source": [
    "import theano.tensor as T"
   ]
  },
  {
   "cell_type": "code",
   "execution_count": 5,
   "metadata": {
    "collapsed": true
   },
   "outputs": [],
   "source": [
    "from theano import function"
   ]
  },
  {
   "cell_type": "markdown",
   "metadata": {},
   "source": [
    "x,yを数学で言う変数として定義する．  \n",
    "T.dscalarとは０次元のベクトルを表す．これはtheanoで定義したものである．"
   ]
  },
  {
   "cell_type": "code",
   "execution_count": 6,
   "metadata": {
    "collapsed": true
   },
   "outputs": [],
   "source": [
    "x = T.dscalar('x')"
   ]
  },
  {
   "cell_type": "code",
   "execution_count": 7,
   "metadata": {
    "collapsed": true
   },
   "outputs": [],
   "source": [
    "y = T.dscalar('y')"
   ]
  },
  {
   "cell_type": "code",
   "execution_count": 8,
   "metadata": {
    "collapsed": true
   },
   "outputs": [],
   "source": [
    "z = x+y"
   ]
  },
  {
   "cell_type": "markdown",
   "metadata": {},
   "source": [
    "functionは関数を定義するものである．  \n",
    "最初のリストは関数の引数を示す．  \n",
    "第二変数はよくあるのは，出力として見たいものが入る．  \n",
    "式を見る感じだと，第１変数に引数で第２変数で式の定義を入れるといいかも  "
   ]
  },
  {
   "cell_type": "code",
   "execution_count": 9,
   "metadata": {
    "collapsed": false
   },
   "outputs": [],
   "source": [
    "f = function([x,y],z)"
   ]
  },
  {
   "cell_type": "code",
   "execution_count": 10,
   "metadata": {
    "collapsed": false
   },
   "outputs": [
    {
     "data": {
      "text/plain": [
       "array(5.0)"
      ]
     },
     "execution_count": 10,
     "metadata": {},
     "output_type": "execute_result"
    }
   ],
   "source": [
    "f(2,3)"
   ]
  },
  {
   "cell_type": "code",
   "execution_count": 11,
   "metadata": {
    "collapsed": false
   },
   "outputs": [
    {
     "data": {
      "text/plain": [
       "True"
      ]
     },
     "execution_count": 11,
     "metadata": {},
     "output_type": "execute_result"
    }
   ],
   "source": [
    "numpy.allclose(f(16.3, 12.1), 28.4)"
   ]
  },
  {
   "cell_type": "markdown",
   "metadata": {},
   "source": [
    "Adding two Matrices"
   ]
  },
  {
   "cell_type": "code",
   "execution_count": 12,
   "metadata": {
    "collapsed": true
   },
   "outputs": [],
   "source": [
    "x=T.dmatrix('x')"
   ]
  },
  {
   "cell_type": "code",
   "execution_count": 13,
   "metadata": {
    "collapsed": true
   },
   "outputs": [],
   "source": [
    "y=T.dmatrix('y')"
   ]
  },
  {
   "cell_type": "code",
   "execution_count": 14,
   "metadata": {
    "collapsed": true
   },
   "outputs": [],
   "source": [
    "z = x+y"
   ]
  },
  {
   "cell_type": "code",
   "execution_count": 15,
   "metadata": {
    "collapsed": true
   },
   "outputs": [],
   "source": [
    "f=function([x,y],z)"
   ]
  },
  {
   "cell_type": "code",
   "execution_count": 16,
   "metadata": {
    "collapsed": false
   },
   "outputs": [
    {
     "data": {
      "text/plain": [
       "array([[ 11.,  22.],\n",
       "       [ 33.,  44.]])"
      ]
     },
     "execution_count": 16,
     "metadata": {},
     "output_type": "execute_result"
    }
   ],
   "source": [
    "f( [[1, 2], [3, 4]], [[10, 20],[30, 40]])"
   ]
  },
  {
   "cell_type": "markdown",
   "metadata": {},
   "source": [
    "numpyで行列を定義しても大丈夫みたい"
   ]
  },
  {
   "cell_type": "code",
   "execution_count": 17,
   "metadata": {
    "collapsed": false
   },
   "outputs": [
    {
     "data": {
      "text/plain": [
       "array([[ 11.,  22.],\n",
       "       [ 33.,  44.]])"
      ]
     },
     "execution_count": 17,
     "metadata": {},
     "output_type": "execute_result"
    }
   ],
   "source": [
    "f(numpy.array([[1, 2], [3, 4]]), numpy.array([[10, 20], [30, 40]]))"
   ]
  },
  {
   "cell_type": "markdown",
   "metadata": {},
   "source": [
    "# Exercise"
   ]
  },
  {
   "cell_type": "code",
   "execution_count": 18,
   "metadata": {
    "collapsed": true
   },
   "outputs": [],
   "source": [
    "import theano"
   ]
  },
  {
   "cell_type": "code",
   "execution_count": 19,
   "metadata": {
    "collapsed": true
   },
   "outputs": [],
   "source": [
    "a = theano.tensor.vector()"
   ]
  },
  {
   "cell_type": "code",
   "execution_count": 20,
   "metadata": {
    "collapsed": true
   },
   "outputs": [],
   "source": [
    "out = a+a**10"
   ]
  },
  {
   "cell_type": "code",
   "execution_count": 21,
   "metadata": {
    "collapsed": false
   },
   "outputs": [],
   "source": [
    "f = theano.function([a],out)"
   ]
  },
  {
   "cell_type": "code",
   "execution_count": 22,
   "metadata": {
    "collapsed": false
   },
   "outputs": [
    {
     "name": "stdout",
     "output_type": "stream",
     "text": [
      "[    0.     2.  1026.]\n"
     ]
    }
   ],
   "source": [
    "print(f( [0, 1, 2]) )"
   ]
  },
  {
   "cell_type": "code",
   "execution_count": 23,
   "metadata": {
    "collapsed": false
   },
   "outputs": [
    {
     "data": {
      "text/plain": [
       "array([   59052.,  1048580.,  9765630.], dtype=float32)"
      ]
     },
     "execution_count": 23,
     "metadata": {},
     "output_type": "execute_result"
    }
   ],
   "source": [
    "f( [3, 4, 5])"
   ]
  },
  {
   "cell_type": "markdown",
   "metadata": {},
   "source": [
    "# Logistic Function"
   ]
  },
  {
   "cell_type": "code",
   "execution_count": 24,
   "metadata": {
    "collapsed": true
   },
   "outputs": [],
   "source": [
    "#　変数を定義する\n",
    "x = T.dmatrix('x')"
   ]
  },
  {
   "cell_type": "code",
   "execution_count": 25,
   "metadata": {
    "collapsed": true
   },
   "outputs": [],
   "source": [
    "#　計算式を定義する\n",
    "s = 1/( 1+T.exp(-x))"
   ]
  },
  {
   "cell_type": "code",
   "execution_count": 26,
   "metadata": {
    "collapsed": true
   },
   "outputs": [],
   "source": [
    "#　変数と計算式を元に，関数を定義する\n",
    "logistic = theano.function([x],s)"
   ]
  },
  {
   "cell_type": "code",
   "execution_count": 27,
   "metadata": {
    "collapsed": false
   },
   "outputs": [
    {
     "data": {
      "text/plain": [
       "array([[ 0.5       ,  0.73105858],\n",
       "       [ 0.26894142,  0.11920292]])"
      ]
     },
     "execution_count": 27,
     "metadata": {},
     "output_type": "execute_result"
    }
   ],
   "source": [
    "logistic([[0,1],[-1,-2]])"
   ]
  },
  {
   "cell_type": "markdown",
   "metadata": {},
   "source": [
    "# tanh"
   ]
  },
  {
   "cell_type": "code",
   "execution_count": 28,
   "metadata": {
    "collapsed": true
   },
   "outputs": [],
   "source": [
    "s2 = (1+T.tanh(x/2))/2"
   ]
  },
  {
   "cell_type": "code",
   "execution_count": 29,
   "metadata": {
    "collapsed": false
   },
   "outputs": [],
   "source": [
    "logistic2 = theano.function([x],s2)"
   ]
  },
  {
   "cell_type": "code",
   "execution_count": 30,
   "metadata": {
    "collapsed": false
   },
   "outputs": [
    {
     "data": {
      "text/plain": [
       "array([[ 0.5       ,  0.73105858],\n",
       "       [ 0.26894142,  0.11920292]])"
      ]
     },
     "execution_count": 30,
     "metadata": {},
     "output_type": "execute_result"
    }
   ],
   "source": [
    "logistic2([[0,1],[-1,-2]])"
   ]
  },
  {
   "cell_type": "markdown",
   "metadata": {},
   "source": [
    "Computing More than one Thing at the Same Time"
   ]
  },
  {
   "cell_type": "code",
   "execution_count": 31,
   "metadata": {
    "collapsed": true
   },
   "outputs": [],
   "source": [
    "a,b = T.dmatrices('a','b')"
   ]
  },
  {
   "cell_type": "code",
   "execution_count": 32,
   "metadata": {
    "collapsed": true
   },
   "outputs": [],
   "source": [
    "diff = a-b"
   ]
  },
  {
   "cell_type": "code",
   "execution_count": 33,
   "metadata": {
    "collapsed": true
   },
   "outputs": [],
   "source": [
    "abs_diff = abs(diff)"
   ]
  },
  {
   "cell_type": "code",
   "execution_count": 34,
   "metadata": {
    "collapsed": true
   },
   "outputs": [],
   "source": [
    "diff_squared=diff**2"
   ]
  },
  {
   "cell_type": "code",
   "execution_count": 35,
   "metadata": {
    "collapsed": false
   },
   "outputs": [],
   "source": [
    "f= theano.function([a,b],[diff,abs_diff, diff_squared])"
   ]
  },
  {
   "cell_type": "code",
   "execution_count": 36,
   "metadata": {
    "collapsed": false
   },
   "outputs": [
    {
     "data": {
      "text/plain": [
       "[array([[ 1.,  0.],\n",
       "        [-1., -2.]]), array([[ 1.,  0.],\n",
       "        [ 1.,  2.]]), array([[ 1.,  0.],\n",
       "        [ 1.,  4.]])]"
      ]
     },
     "execution_count": 36,
     "metadata": {},
     "output_type": "execute_result"
    }
   ],
   "source": [
    "f([[1,1],[1,1]],[[0,1],[2,3]])"
   ]
  },
  {
   "cell_type": "markdown",
   "metadata": {},
   "source": [
    "# Setting Default Value for an Argument"
   ]
  },
  {
   "cell_type": "code",
   "execution_count": 37,
   "metadata": {
    "collapsed": true
   },
   "outputs": [],
   "source": [
    "x,y= T.dscalars('x','y')"
   ]
  },
  {
   "cell_type": "code",
   "execution_count": 38,
   "metadata": {
    "collapsed": true
   },
   "outputs": [],
   "source": [
    "z = x+y"
   ]
  },
  {
   "cell_type": "code",
   "execution_count": 39,
   "metadata": {
    "collapsed": false
   },
   "outputs": [],
   "source": [
    "from theano import In\n",
    "from theano import function\n",
    "\n",
    "f = theano.function([x,In(y,value=1)],z)"
   ]
  },
  {
   "cell_type": "code",
   "execution_count": 40,
   "metadata": {
    "collapsed": false
   },
   "outputs": [
    {
     "data": {
      "text/plain": [
       "array(34.0)"
      ]
     },
     "execution_count": 40,
     "metadata": {},
     "output_type": "execute_result"
    }
   ],
   "source": [
    "f(33)"
   ]
  },
  {
   "cell_type": "code",
   "execution_count": 41,
   "metadata": {
    "collapsed": false
   },
   "outputs": [
    {
     "data": {
      "text/plain": [
       "array(43.0)"
      ]
     },
     "execution_count": 41,
     "metadata": {},
     "output_type": "execute_result"
    }
   ],
   "source": [
    "f(33,10)"
   ]
  },
  {
   "cell_type": "code",
   "execution_count": 42,
   "metadata": {
    "collapsed": true
   },
   "outputs": [],
   "source": [
    "x,y,w = T.dscalars('x','y','w')"
   ]
  },
  {
   "cell_type": "code",
   "execution_count": 43,
   "metadata": {
    "collapsed": true
   },
   "outputs": [],
   "source": [
    "z=(x+y)*w"
   ]
  },
  {
   "cell_type": "code",
   "execution_count": 44,
   "metadata": {
    "collapsed": false
   },
   "outputs": [],
   "source": [
    "f = function([x,In(y, value=1), In(w,value=2, name='w_by_name')], z)"
   ]
  },
  {
   "cell_type": "code",
   "execution_count": 45,
   "metadata": {
    "collapsed": false
   },
   "outputs": [
    {
     "data": {
      "text/plain": [
       "array(68.0)"
      ]
     },
     "execution_count": 45,
     "metadata": {},
     "output_type": "execute_result"
    }
   ],
   "source": [
    "f(33)"
   ]
  },
  {
   "cell_type": "code",
   "execution_count": 46,
   "metadata": {
    "collapsed": false
   },
   "outputs": [
    {
     "data": {
      "text/plain": [
       "array(70.0)"
      ]
     },
     "execution_count": 46,
     "metadata": {},
     "output_type": "execute_result"
    }
   ],
   "source": [
    "f(33,2)"
   ]
  },
  {
   "cell_type": "code",
   "execution_count": 47,
   "metadata": {
    "collapsed": false
   },
   "outputs": [
    {
     "data": {
      "text/plain": [
       "array(35.0)"
      ]
     },
     "execution_count": 47,
     "metadata": {},
     "output_type": "execute_result"
    }
   ],
   "source": [
    "f(33,2,1)"
   ]
  },
  {
   "cell_type": "code",
   "execution_count": 48,
   "metadata": {
    "collapsed": false
   },
   "outputs": [
    {
     "data": {
      "text/plain": [
       "array(34.0)"
      ]
     },
     "execution_count": 48,
     "metadata": {},
     "output_type": "execute_result"
    }
   ],
   "source": [
    "f(33, w_by_name=1)"
   ]
  },
  {
   "cell_type": "code",
   "execution_count": 49,
   "metadata": {
    "collapsed": false
   },
   "outputs": [
    {
     "data": {
      "text/plain": [
       "array(33.0)"
      ]
     },
     "execution_count": 49,
     "metadata": {},
     "output_type": "execute_result"
    }
   ],
   "source": [
    "f(33, w_by_name=1,y=0)"
   ]
  },
  {
   "cell_type": "markdown",
   "metadata": {},
   "source": [
    "# Using Shared Variables"
   ]
  },
  {
   "cell_type": "code",
   "execution_count": 50,
   "metadata": {
    "collapsed": true
   },
   "outputs": [],
   "source": [
    "from theano import shared"
   ]
  },
  {
   "cell_type": "code",
   "execution_count": 51,
   "metadata": {
    "collapsed": true
   },
   "outputs": [],
   "source": [
    "state = shared(0)"
   ]
  },
  {
   "cell_type": "code",
   "execution_count": 52,
   "metadata": {
    "collapsed": true
   },
   "outputs": [],
   "source": [
    "inc = T.iscalar('inc')"
   ]
  },
  {
   "cell_type": "code",
   "execution_count": 53,
   "metadata": {
    "collapsed": true
   },
   "outputs": [],
   "source": [
    "accumulator = function([inc], state, updates=[(state, state+inc)])"
   ]
  },
  {
   "cell_type": "code",
   "execution_count": 54,
   "metadata": {
    "collapsed": false
   },
   "outputs": [
    {
     "name": "stdout",
     "output_type": "stream",
     "text": [
      "0\n"
     ]
    }
   ],
   "source": [
    "print state.get_value()"
   ]
  },
  {
   "cell_type": "code",
   "execution_count": 55,
   "metadata": {
    "collapsed": false
   },
   "outputs": [
    {
     "data": {
      "text/plain": [
       "array(0)"
      ]
     },
     "execution_count": 55,
     "metadata": {},
     "output_type": "execute_result"
    }
   ],
   "source": [
    "accumulator(1)"
   ]
  },
  {
   "cell_type": "code",
   "execution_count": 56,
   "metadata": {
    "collapsed": false
   },
   "outputs": [
    {
     "name": "stdout",
     "output_type": "stream",
     "text": [
      "1\n"
     ]
    }
   ],
   "source": [
    "print state.get_value()"
   ]
  },
  {
   "cell_type": "code",
   "execution_count": 57,
   "metadata": {
    "collapsed": false
   },
   "outputs": [
    {
     "data": {
      "text/plain": [
       "array(1)"
      ]
     },
     "execution_count": 57,
     "metadata": {},
     "output_type": "execute_result"
    }
   ],
   "source": [
    "accumulator(300)"
   ]
  },
  {
   "cell_type": "code",
   "execution_count": 58,
   "metadata": {
    "collapsed": false
   },
   "outputs": [
    {
     "name": "stdout",
     "output_type": "stream",
     "text": [
      "301\n"
     ]
    }
   ],
   "source": [
    "print state.get_value()"
   ]
  },
  {
   "cell_type": "code",
   "execution_count": 59,
   "metadata": {
    "collapsed": true
   },
   "outputs": [],
   "source": [
    "state.set_value(-1)"
   ]
  },
  {
   "cell_type": "code",
   "execution_count": 60,
   "metadata": {
    "collapsed": false
   },
   "outputs": [
    {
     "data": {
      "text/plain": [
       "array(-1)"
      ]
     },
     "execution_count": 60,
     "metadata": {},
     "output_type": "execute_result"
    }
   ],
   "source": [
    "accumulator(3)"
   ]
  },
  {
   "cell_type": "code",
   "execution_count": 61,
   "metadata": {
    "collapsed": false
   },
   "outputs": [
    {
     "name": "stdout",
     "output_type": "stream",
     "text": [
      "2\n"
     ]
    }
   ],
   "source": [
    "print state.get_value()"
   ]
  },
  {
   "cell_type": "code",
   "execution_count": 62,
   "metadata": {
    "collapsed": true
   },
   "outputs": [],
   "source": [
    "fn_of_state = state*2 + inc"
   ]
  },
  {
   "cell_type": "code",
   "execution_count": 63,
   "metadata": {
    "collapsed": true
   },
   "outputs": [],
   "source": [
    "foo = T.scalar(dtype=state.dtype)"
   ]
  },
  {
   "cell_type": "code",
   "execution_count": 64,
   "metadata": {
    "collapsed": true
   },
   "outputs": [],
   "source": [
    "# givensによって，incにstateの値が入る\n",
    "skip_shared = function([inc, foo], fn_of_state, givens=[(state, foo)])"
   ]
  },
  {
   "cell_type": "code",
   "execution_count": 65,
   "metadata": {
    "collapsed": false
   },
   "outputs": [
    {
     "data": {
      "text/plain": [
       "array(7)"
      ]
     },
     "execution_count": 65,
     "metadata": {},
     "output_type": "execute_result"
    }
   ],
   "source": [
    "skip_shared(1, 3)"
   ]
  },
  {
   "cell_type": "code",
   "execution_count": 66,
   "metadata": {
    "collapsed": false
   },
   "outputs": [
    {
     "name": "stdout",
     "output_type": "stream",
     "text": [
      "2\n"
     ]
    }
   ],
   "source": [
    "print state.get_value()"
   ]
  },
  {
   "cell_type": "code",
   "execution_count": 67,
   "metadata": {
    "collapsed": true
   },
   "outputs": [],
   "source": [
    "import theano\n",
    "import theano.tensor as T"
   ]
  },
  {
   "cell_type": "code",
   "execution_count": 68,
   "metadata": {
    "collapsed": true
   },
   "outputs": [],
   "source": [
    "state = theano.shared(0)"
   ]
  },
  {
   "cell_type": "code",
   "execution_count": 69,
   "metadata": {
    "collapsed": false
   },
   "outputs": [],
   "source": [
    "inc = T.iscalar('inc')"
   ]
  },
  {
   "cell_type": "code",
   "execution_count": 70,
   "metadata": {
    "collapsed": true
   },
   "outputs": [],
   "source": [
    "accumulator = function([inc], state, updates=[(state, state+inc)],\\\n",
    "                      on_unused_input='ignore')"
   ]
  },
  {
   "cell_type": "code",
   "execution_count": 71,
   "metadata": {
    "collapsed": false
   },
   "outputs": [
    {
     "data": {
      "text/plain": [
       "array(0)"
      ]
     },
     "execution_count": 71,
     "metadata": {},
     "output_type": "execute_result"
    }
   ],
   "source": [
    "accumulator(10)"
   ]
  },
  {
   "cell_type": "code",
   "execution_count": 72,
   "metadata": {
    "collapsed": false
   },
   "outputs": [
    {
     "name": "stdout",
     "output_type": "stream",
     "text": [
      "10\n"
     ]
    }
   ],
   "source": [
    "print state.get_value()"
   ]
  },
  {
   "cell_type": "code",
   "execution_count": 73,
   "metadata": {
    "collapsed": false
   },
   "outputs": [
    {
     "data": {
      "text/plain": [
       "[array(0)]"
      ]
     },
     "execution_count": 73,
     "metadata": {},
     "output_type": "execute_result"
    }
   ],
   "source": [
    "new_state = theano.shared(0)\n",
    "new_accumulator = accumulator.copy(swap={state:new_state})\n",
    "new_accumulator(100)"
   ]
  },
  {
   "cell_type": "code",
   "execution_count": 74,
   "metadata": {
    "collapsed": false
   },
   "outputs": [
    {
     "name": "stdout",
     "output_type": "stream",
     "text": [
      "100\n"
     ]
    }
   ],
   "source": [
    "print new_state.get_value()"
   ]
  },
  {
   "cell_type": "code",
   "execution_count": 75,
   "metadata": {
    "collapsed": false
   },
   "outputs": [
    {
     "name": "stdout",
     "output_type": "stream",
     "text": [
      "10\n"
     ]
    }
   ],
   "source": [
    "print state.get_value()"
   ]
  },
  {
   "cell_type": "code",
   "execution_count": 76,
   "metadata": {
    "collapsed": true
   },
   "outputs": [],
   "source": [
    "# updateしないようにする\n",
    "null_accumulator = accumulator.copy(delete_updates=True)"
   ]
  },
  {
   "cell_type": "code",
   "execution_count": 77,
   "metadata": {
    "collapsed": false
   },
   "outputs": [
    {
     "data": {
      "text/plain": [
       "[array(10)]"
      ]
     },
     "execution_count": 77,
     "metadata": {},
     "output_type": "execute_result"
    }
   ],
   "source": [
    "null_accumulator(9000)"
   ]
  },
  {
   "cell_type": "code",
   "execution_count": 78,
   "metadata": {
    "collapsed": false
   },
   "outputs": [
    {
     "name": "stdout",
     "output_type": "stream",
     "text": [
      "10\n"
     ]
    }
   ],
   "source": [
    "print state.get_value()"
   ]
  },
  {
   "cell_type": "code",
   "execution_count": 79,
   "metadata": {
    "collapsed": false
   },
   "outputs": [
    {
     "name": "stdout",
     "output_type": "stream",
     "text": [
      "100\n"
     ]
    }
   ],
   "source": [
    "print new_state.get_value()"
   ]
  },
  {
   "cell_type": "code",
   "execution_count": 80,
   "metadata": {
    "collapsed": true
   },
   "outputs": [],
   "source": [
    "from theano.tensor.shared_randomstreams import RandomStreams\n",
    "from theano import function"
   ]
  },
  {
   "cell_type": "code",
   "execution_count": 81,
   "metadata": {
    "collapsed": true
   },
   "outputs": [],
   "source": [
    "srng = RandomStreams(seed=234)"
   ]
  },
  {
   "cell_type": "code",
   "execution_count": 82,
   "metadata": {
    "collapsed": true
   },
   "outputs": [],
   "source": [
    "rv_u=srng.uniform((2,2))"
   ]
  },
  {
   "cell_type": "code",
   "execution_count": 83,
   "metadata": {
    "collapsed": true
   },
   "outputs": [],
   "source": [
    "rv_n=srng.normal((2,2))"
   ]
  },
  {
   "cell_type": "code",
   "execution_count": 84,
   "metadata": {
    "collapsed": true
   },
   "outputs": [],
   "source": [
    "f=function([],rv_u)"
   ]
  },
  {
   "cell_type": "code",
   "execution_count": 85,
   "metadata": {
    "collapsed": true
   },
   "outputs": [],
   "source": [
    "g=function([], rv_n, no_default_updates=True) #Not updating rv_n.rng"
   ]
  },
  {
   "cell_type": "code",
   "execution_count": 86,
   "metadata": {
    "collapsed": true
   },
   "outputs": [],
   "source": [
    "nearly_zeros = function([], rv_u+rv_u-2*rv_u)"
   ]
  },
  {
   "cell_type": "code",
   "execution_count": 87,
   "metadata": {
    "collapsed": true
   },
   "outputs": [],
   "source": [
    "f_val0 = f()"
   ]
  },
  {
   "cell_type": "code",
   "execution_count": 88,
   "metadata": {
    "collapsed": true
   },
   "outputs": [],
   "source": [
    "f_val1 = f()  #different numbers from f_val0"
   ]
  },
  {
   "cell_type": "code",
   "execution_count": 89,
   "metadata": {
    "collapsed": true
   },
   "outputs": [],
   "source": [
    "g_val0 = g() # different numbers from f_val0 and f_val1\n",
    "g_val1 = g() # same nubers as g_val0"
   ]
  },
  {
   "cell_type": "markdown",
   "metadata": {},
   "source": [
    "# Seeding Streams"
   ]
  },
  {
   "cell_type": "code",
   "execution_count": 90,
   "metadata": {
    "collapsed": true
   },
   "outputs": [],
   "source": [
    "rng_val = rv_u.rng.get_value(borrow=True) # get the rng for rv_u"
   ]
  },
  {
   "cell_type": "code",
   "execution_count": 91,
   "metadata": {
    "collapsed": true
   },
   "outputs": [],
   "source": [
    "rng_val.seed(89234) # seeds the generator"
   ]
  },
  {
   "cell_type": "code",
   "execution_count": 92,
   "metadata": {
    "collapsed": true
   },
   "outputs": [],
   "source": [
    "rv_u.rng.set_value(rng_val, borrow=True) # Assign back seeded rng"
   ]
  },
  {
   "cell_type": "markdown",
   "metadata": {},
   "source": [
    "# A Real Example: Logistic Regression"
   ]
  },
  {
   "cell_type": "code",
   "execution_count": 93,
   "metadata": {
    "collapsed": true
   },
   "outputs": [],
   "source": [
    "import numpy as np\n",
    "import theano\n",
    "import theano.tensor as T\n",
    "rng = np.random"
   ]
  },
  {
   "cell_type": "code",
   "execution_count": 94,
   "metadata": {
    "collapsed": true
   },
   "outputs": [],
   "source": [
    "N=400 # training sample size\n",
    "feats=784 # number of input variables"
   ]
  },
  {
   "cell_type": "code",
   "execution_count": 95,
   "metadata": {
    "collapsed": false
   },
   "outputs": [],
   "source": [
    "D = (rng.randn(N, feats), rng.randint(size=N, low=0, high=2))"
   ]
  },
  {
   "cell_type": "code",
   "execution_count": 96,
   "metadata": {
    "collapsed": true
   },
   "outputs": [],
   "source": [
    "training_steps= 10000"
   ]
  },
  {
   "cell_type": "code",
   "execution_count": 97,
   "metadata": {
    "collapsed": false
   },
   "outputs": [],
   "source": [
    "x = T.dmatrix('x')\n",
    "y = T.dvector('y')\n",
    "\n",
    "w = theano.shared(rng.randn(feats), name='w')\n",
    "b = theano.shared(0. , name='b')"
   ]
  },
  {
   "cell_type": "code",
   "execution_count": 98,
   "metadata": {
    "collapsed": false
   },
   "outputs": [
    {
     "name": "stdout",
     "output_type": "stream",
     "text": [
      "Initial model:\n"
     ]
    }
   ],
   "source": [
    "print 'Initial model:'"
   ]
  },
  {
   "cell_type": "code",
   "execution_count": 99,
   "metadata": {
    "collapsed": false,
    "scrolled": true
   },
   "outputs": [
    {
     "name": "stdout",
     "output_type": "stream",
     "text": [
      "[ -4.87461645e-01   6.85819992e-02  -6.50705022e-01   3.99410532e-01\n",
      "  -4.52694141e-01  -8.55096486e-02   2.96437077e-01  -4.60280282e-01\n",
      "  -2.02087030e-01   1.24355651e-01  -5.82550202e-02  -4.37285988e-01\n",
      "  -1.31855144e+00   8.95418022e-01  -3.08955162e-01   9.99972704e-02\n",
      "  -9.19236872e-01  -1.25705785e+00   2.18445221e-02  -7.44478327e-02\n",
      "   2.58913432e-01   2.23837644e-01   9.56940931e-01  -1.17166035e+00\n",
      "   2.71596611e+00  -3.34012561e-01  -1.31680053e+00   7.66230676e-02\n",
      "   7.20809491e-01   1.99135431e+00  -6.64949686e-01   1.43109512e+00\n",
      "  -8.80189205e-01  -1.12509161e-01   8.49779614e-01   8.73270366e-01\n",
      "   2.95841221e-01   1.21809419e-01   2.17735657e+00  -1.90767198e+00\n",
      "   1.42812964e-01   7.11111878e-01  -2.67739062e-01   2.03865026e-01\n",
      "  -1.22735240e-01  -2.08170943e-01  -1.41883755e+00  -1.29525344e-01\n",
      "  -4.75834447e-01   1.05803149e+00  -2.34106839e-01  -2.30805962e-01\n",
      "   1.31439418e+00  -2.81052569e-02   4.02417475e-01  -5.37908799e-01\n",
      "   3.35786969e-01  -3.99944396e-01   6.22428787e-01   3.96183196e-01\n",
      "  -1.30122747e+00   1.69836024e+00  -1.15298889e-01   2.12854715e-01\n",
      "  -2.10026204e-02   1.82233637e-01   1.34999516e+00  -4.31339723e-01\n",
      "  -5.78141304e-01  -1.29012082e+00  -1.39013739e+00  -9.86695800e-01\n",
      "   1.46198616e-01   8.00314164e-01   3.72391567e-01   6.61914678e-01\n",
      "  -5.56113637e-01   5.45819859e-01   1.14601914e+00   6.15849593e-01\n",
      "   1.79076947e+00   7.19720218e-01   1.73341217e+00  -3.13287864e-01\n",
      "   1.73870477e-01   1.58017128e+00  -1.14739305e-01   1.01619577e-01\n",
      "  -9.84170070e-01  -6.31005661e-01  -4.34901801e-01  -5.90797753e-01\n",
      "   4.16915716e-01  -3.70903252e-01  -1.41091298e+00   1.37020133e+00\n",
      "  -1.13468274e+00   3.85671449e-01   1.27354262e+00  -1.90075191e+00\n",
      "   5.96101093e-01   1.46133503e-01  -1.12281716e+00   1.62118008e-01\n",
      "   4.34233684e-01   5.23946651e-01  -1.14925798e+00  -2.18451128e+00\n",
      "  -2.30574937e+00  -1.57558421e+00  -1.29837575e+00  -4.01434468e-01\n",
      "  -1.50640688e+00  -3.09053908e-01  -5.11743766e-01  -1.06335835e+00\n",
      "  -7.00227478e-01  -1.29258278e+00  -1.93588622e-01   1.66622435e+00\n",
      "  -1.52459733e-01  -1.42349069e+00  -1.02508982e+00   2.46849943e-01\n",
      "  -6.71278254e-01  -6.93328374e-01   1.00940186e+00  -3.62644438e-02\n",
      "   1.54978467e+00  -5.30195819e-03   6.17571471e-01   1.87032618e-01\n",
      "  -4.75991788e-01  -1.94034655e-01   1.55534975e+00   1.79638028e+00\n",
      "  -1.39051336e-02   1.57245213e+00  -8.63161307e-02   4.77485004e-01\n",
      "  -4.75879295e-01  -1.77275246e+00  -9.07093268e-01  -1.39411824e+00\n",
      "   1.52358852e+00   1.90667777e+00  -1.33976098e-01   1.05489074e+00\n",
      "   5.96250070e-01  -3.91477708e-01  -7.33479112e-01  -9.28539249e-01\n",
      "  -1.35826700e+00   2.42368785e-01   8.61808190e-01   7.49724065e-01\n",
      "  -5.92117312e-04  -6.59907897e-01   4.46356635e-01  -1.77472702e-01\n",
      "   1.71233245e+00   1.18049879e+00  -3.03813978e-01  -4.53297749e-01\n",
      "   2.80724193e-01   7.38106040e-01  -4.76909581e-01   1.24291029e+00\n",
      "  -2.56401109e-01   6.40089167e-02   2.06852624e-01  -3.95490439e-02\n",
      "   5.03419929e-03  -3.98431156e-01  -1.71229057e+00  -8.65708565e-01\n",
      "  -6.55325320e-01  -1.24338096e+00   1.25377372e+00   7.40359127e-01\n",
      "  -3.06617679e-02  -7.51166962e-01   8.69658519e-01  -1.06847659e+00\n",
      "   5.26523775e-01  -1.44263792e+00  -9.67488939e-01  -1.03501824e+00\n",
      "  -1.85093071e-01  -1.10131934e+00  -7.82949100e-01   3.74484475e-01\n",
      "   6.03070373e-01   7.39168075e-01   1.05081942e+00   3.04748194e+00\n",
      "   4.19677107e-02   2.00676171e+00  -1.41707063e+00  -1.03901318e+00\n",
      "   4.06697979e-01  -3.06004283e-01   2.77157586e-01  -7.72495146e-03\n",
      "  -8.91318192e-02  -1.73366120e+00   1.69052678e-01  -1.57961188e+00\n",
      "  -9.27097832e-02   4.63775494e-01  -1.28776590e+00  -5.98949977e-01\n",
      "  -6.55455947e-02  -1.37338913e-01  -3.31296629e-01   6.38495226e-02\n",
      "  -5.72571700e-01   7.68544136e-01  -1.18815687e+00  -3.24046884e-02\n",
      "   3.63409354e-01  -2.23179347e-01  -1.02341210e-01   8.39019389e-01\n",
      "  -5.32996214e-01   2.46089592e-01   2.27095415e-01   6.78562491e-01\n",
      "   1.00717906e+00  -1.02521532e+00   4.53902207e-01   1.05955659e+00\n",
      "  -5.54256674e-01  -5.40337381e-01   2.91028734e-02  -2.27078238e+00\n",
      "   1.06483984e+00  -3.39225788e-01  -6.92467223e-01   4.84665432e-01\n",
      "  -8.39937327e-01  -1.11653498e+00  -1.02786579e+00  -3.70140912e-01\n",
      "  -1.62416647e+00  -2.53231493e-01   8.39961167e-01   1.38585697e-02\n",
      "   2.54908225e-01  -2.04692590e+00  -7.66958750e-01  -2.91035692e-01\n",
      "  -1.86655110e+00  -5.72663014e-01   1.40718021e+00   1.83986470e-01\n",
      "  -8.65930753e-01  -6.93528427e-03  -2.40480058e+00   3.97742479e-01\n",
      "  -1.83684951e+00  -4.42682256e-01  -1.12637221e+00   1.29759814e+00\n",
      "  -8.06794159e-01  -1.35998809e+00   7.26728289e-01  -8.51700801e-01\n",
      "   8.33031628e-02  -1.28578628e+00   1.28764730e+00   1.37306385e+00\n",
      "  -6.69529858e-01  -6.25217633e-01   2.52613525e+00  -1.33601810e+00\n",
      "   1.53946118e+00  -4.36593443e-01   1.37308409e+00  -8.99325493e-01\n",
      "   6.20515075e-01  -8.51390946e-01   3.40344140e-01  -2.23539477e-01\n",
      "   7.51927711e-01   1.08492905e+00   8.20932413e-01  -1.47638524e+00\n",
      "  -1.41876004e+00   9.60092691e-01   1.79832853e+00  -5.89428831e-01\n",
      "   7.17537704e-01   3.66713097e-01   2.66143915e-01  -1.20539354e-01\n",
      "  -1.01768718e-01   1.79360631e+00   4.97650094e-01   2.41890631e-01\n",
      "   3.57013323e-01   1.19777648e+00  -1.42939704e-01   1.22197337e+00\n",
      "  -1.35787469e-01   1.25948489e+00   3.40856555e-01  -1.30748283e+00\n",
      "   1.13634413e+00  -1.45045380e-01   6.81914669e-01   9.28924628e-01\n",
      "  -5.93852930e-01  -3.31486274e-01   5.40159850e-01  -1.24854100e+00\n",
      "   3.79331020e-01  -1.37214014e+00   1.17493804e-01   5.26898441e-01\n",
      "  -6.71035044e-01   1.57874272e+00  -1.14139781e+00   6.76044882e-01\n",
      "  -1.86252866e+00   5.02861808e-01   1.03891708e+00  -7.21603493e-01\n",
      "   1.18267115e+00  -6.72588402e-01   1.72516527e-01  -4.94125290e-01\n",
      "   9.74841510e-01   6.15236626e-01  -9.87262481e-01  -4.34188906e-01\n",
      "  -1.42645903e+00   1.01900169e+00  -6.44444436e-01   1.51109809e+00\n",
      "   5.44044809e-01   1.91856516e-01   5.54458945e-01   2.04650794e+00\n",
      "  -7.18249419e-01   2.26070662e-01  -6.16275315e-01   1.34191336e+00\n",
      "  -3.86814536e-01   9.81865561e-01   2.56027139e-01  -5.20770757e-01\n",
      "  -5.70170845e-01  -3.00199647e+00   3.00283821e-01  -5.06430000e-01\n",
      "   1.05409281e+00   3.42337770e-01  -5.41780881e-01  -2.18471559e-01\n",
      "  -1.02612130e+00   3.79252489e-01  -2.11820709e+00   3.58543454e-01\n",
      "   1.63126475e+00   6.92064439e-01   1.60191797e+00  -5.44039625e-01\n",
      "  -1.52320569e+00  -2.41943999e+00  -7.50446277e-01   6.91829426e-01\n",
      "  -4.23442254e-01   5.97092032e-01   1.80349957e-01  -2.81501654e-01\n",
      "   1.71190552e-01   2.54091794e-01  -9.94734359e-01   1.99465049e+00\n",
      "   1.15278673e+00   1.93611056e+00  -1.20639193e+00  -1.16861966e-01\n",
      "  -5.51928970e-01  -1.63984820e-01  -8.31455426e-01  -1.46836992e+00\n",
      "   1.11789681e+00   7.06542494e-01   1.00849485e+00   1.32890671e+00\n",
      "   6.57703322e-01  -3.62793793e-01  -1.57560586e-01   5.66808706e-01\n",
      "  -1.19302590e-01  -9.67383767e-01  -4.48792620e-01   2.20405240e-01\n",
      "  -1.47829311e+00   4.94943982e-01  -3.08691560e-01  -7.84282318e-01\n",
      "   1.73706820e+00   5.84137469e-01   3.25110705e-01  -2.37491277e-01\n",
      "  -1.09619196e+00  -7.08217668e-01  -1.24612684e-01  -1.32874015e+00\n",
      "  -1.16047247e+00  -1.08623376e+00   1.05783429e+00  -4.01150690e-01\n",
      "   1.24265300e+00   1.38940557e-01   1.16814957e+00  -3.53692516e-01\n",
      "   5.93826367e-01   9.63211664e-01   3.18986714e-02   3.36394897e-01\n",
      "  -5.03910244e-01   7.60065465e-02   2.95279172e-01  -1.19468758e+00\n",
      "   1.28015013e+00  -2.00681976e+00   2.44835735e-02   1.18557101e+00\n",
      "   1.20918247e+00   1.07723017e+00  -5.68713680e-01  -1.76821857e+00\n",
      "  -5.12501832e-01  -1.18341242e+00  -1.76276772e+00   3.07419342e-01\n",
      "   2.46362840e-01   4.39459553e-01   7.68678924e-01  -6.87458382e-01\n",
      "  -2.42748554e+00   8.73964426e-01   1.44606961e+00   3.08799701e-01\n",
      "  -4.41328400e-02   9.06875937e-02  -1.85836516e+00  -4.44543176e-02\n",
      "  -2.76891276e-02   4.05122025e-01  -1.12450509e+00   1.18416148e+00\n",
      "  -2.52893970e-01   1.56855030e-01  -1.53911175e+00   8.30914067e-01\n",
      "  -4.66791785e-01   4.32101796e-01  -6.47547909e-01   1.74645151e-01\n",
      "   5.30927810e-01  -1.23091980e+00  -1.79551248e+00  -3.41236425e-01\n",
      "  -1.41407335e+00   3.30209638e-01   2.86062813e-01  -1.13898035e-01\n",
      "   9.00174722e-01  -1.44779816e-01   1.17763636e+00  -1.39483096e+00\n",
      "   5.83479222e-01   6.61172110e-01  -2.13576857e-01   7.80551285e-01\n",
      "   8.03533387e-01  -1.07830380e+00  -2.06873317e-01   3.06351005e-02\n",
      "  -5.66137807e-01   1.00767780e+00   1.54145431e+00  -3.61203985e-01\n",
      "   6.14427453e-01   6.22877468e-01   1.53153045e+00   4.75780745e-01\n",
      "   9.70012582e-01  -1.31393173e+00  -4.52969320e-01  -9.99091530e-01\n",
      "   6.05182957e-01  -1.27336293e+00  -1.48788113e+00  -9.51881531e-01\n",
      "  -8.85330702e-01  -1.25689566e+00  -5.65663420e-01   7.78782336e-01\n",
      "  -1.15558619e+00  -1.86260238e+00   1.42132880e+00  -1.08942970e+00\n",
      "  -5.17545063e-01  -2.89986030e+00  -6.37724674e-01  -3.11971723e-01\n",
      "  -8.05514828e-01  -1.50972279e+00   6.59296236e-01  -5.03348861e-01\n",
      "   4.37993485e-01  -1.99335363e+00   4.00417757e-01   4.07590824e-01\n",
      "   4.27852673e-02   1.31097585e+00  -7.29486693e-01  -4.73078223e-01\n",
      "  -3.23468665e-01  -4.71116509e-01   7.94034964e-01  -1.12644420e+00\n",
      "   1.17059619e+00   2.71396706e-01   1.26106238e+00   1.62505075e+00\n",
      "   3.26301904e-02   1.61711716e-01   3.36440725e-01   1.33186934e+00\n",
      "  -1.88372200e+00   3.44194988e-01   4.47513134e-01   1.10289572e+00\n",
      "   1.23859130e+00   1.67138169e+00  -1.67355074e-01   1.43907378e+00\n",
      "  -1.46695338e+00  -9.66322424e-01  -1.59324909e-01   8.29103176e-03\n",
      "  -1.12381954e+00   1.44293392e+00   1.52937065e+00  -1.50179309e-01\n",
      "   9.35764561e-01   1.24715250e+00  -6.78623976e-01  -2.38598693e+00\n",
      "   1.02973085e+00   2.13364280e+00   4.89106268e-01  -1.82158496e+00\n",
      "   1.56682062e+00   1.00735378e+00  -3.61343925e-02   4.63470599e-01\n",
      "   3.60128634e-01  -1.00367815e+00  -3.42744093e-01  -2.59764716e-01\n",
      "  -1.20792051e+00   2.25728517e+00   9.69542959e-01  -5.53672611e-01\n",
      "   2.08677708e-01  -4.58215181e-01   2.11978651e-01  -5.45704401e-01\n",
      "   5.74951348e-01   1.00751449e+00  -1.63742706e-01  -5.40792639e-01\n",
      "  -5.99051870e-02  -1.46411345e+00   1.26670572e-01   4.18569283e-01\n",
      "  -4.53026586e-01   4.19083327e-01  -5.79528216e-01  -3.93136427e-02\n",
      "   1.65913315e+00  -3.12265236e-01   2.56901568e-01  -1.88695411e+00\n",
      "   8.01891754e-01   8.59926633e-01   1.97954163e+00  -8.75673247e-01\n",
      "   8.83623395e-01  -1.48383839e+00  -5.44128658e-01   1.50359129e+00\n",
      "   1.44349221e+00   5.22052688e-01  -6.13395496e-01  -6.96177193e-01\n",
      "  -3.65848669e-01   9.91180087e-01   2.41240486e-01   1.78188814e+00\n",
      "  -6.97103010e-01  -9.19004630e-01   4.98855357e-02   1.07803984e+00\n",
      "   6.66451853e-01  -1.15884003e+00  -1.20041026e+00  -1.06848404e+00\n",
      "   1.93970449e+00   1.27943243e+00   6.06894078e-01   1.11865212e+00\n",
      "   1.57050609e-01   1.35514479e+00   1.40575502e+00  -3.70951673e-01\n",
      "  -1.98057839e-02  -1.72310128e-01  -1.57639163e+00  -1.48592619e+00\n",
      "   1.03403851e+00   5.81309299e-01  -1.41022637e-01   6.96996276e-02\n",
      "  -9.73861332e-01   1.05755742e+00   7.86732252e-01   1.13452214e+00\n",
      "   1.60523250e+00  -3.20961059e-01  -4.96737036e-01  -1.12423265e+00\n",
      "   4.33386183e-01  -2.38525612e-02   7.09963343e-02   2.77772035e+00\n",
      "   1.38707299e+00   3.40344697e-01  -8.04997629e-02   7.30658984e-01\n",
      "  -2.08215042e+00  -1.42874513e+00   3.58924328e-01  -2.05476626e-01\n",
      "  -1.42650088e+00   3.23166220e-01  -7.09791915e-01   2.77928357e-01\n",
      "   1.26979446e+00  -1.98179892e-01  -1.43635659e+00   9.28267069e-01\n",
      "  -2.24882324e-01   4.87237862e-01  -2.37026569e-01  -5.81472107e-01\n",
      "   1.20137440e+00  -1.45086634e+00   1.19216147e+00  -4.95364575e-01\n",
      "   7.67773673e-01  -4.05442769e-01  -2.11011806e-01   7.21263378e-01\n",
      "  -2.08354561e+00  -5.39157608e-01   1.00902573e+00  -1.16856853e+00\n",
      "   5.34238440e-01  -5.59441976e-01  -4.36546984e-01   1.13503701e+00\n",
      "  -1.90399572e-01  -1.74630614e+00   2.04717820e+00   1.59521767e+00\n",
      "  -9.25636973e-01  -7.84214523e-01  -3.87825025e-01   3.32259640e-01\n",
      "   4.85983348e-01  -1.38821310e+00  -6.03739082e-01  -1.56955813e-01\n",
      "   2.58692053e-01   7.03982541e-01   9.18751548e-01  -2.80506235e-01\n",
      "  -1.78674153e+00   7.63660750e-01  -2.77184640e-01  -1.49347483e+00\n",
      "   1.04941394e+00  -1.28608145e+00   5.20085098e-01   1.58789124e+00\n",
      "  -1.12614731e+00  -1.21795645e-01  -6.95689648e-02  -1.43468839e+00\n",
      "  -8.57433672e-01   1.10886538e-01   1.81654722e+00  -1.25842641e+00\n",
      "  -1.07654253e+00   1.02364726e-01   6.52947910e-01  -9.67832576e-01\n",
      "  -7.66337058e-01  -8.15042628e-01   3.52067801e-01   6.44407728e-01\n",
      "   5.83730674e-02  -6.57849936e-01  -2.18070689e-01  -1.35060736e+00\n",
      "  -1.33186256e+00  -6.95245655e-01  -7.93616280e-01  -7.27422891e-01\n",
      "   2.40440363e-01  -3.74185917e-01  -1.06259546e+00   4.74504847e-01\n",
      "   9.63361726e-01  -6.01522005e-01  -8.23064365e-01   1.08588169e-01\n",
      "  -1.61934781e-01  -1.22547689e+00   1.74314059e+00  -2.51472292e-01\n",
      "   1.22383706e+00   1.86708052e+00  -1.03709349e+00  -1.08490695e+00\n",
      "   8.20270700e-01   9.51031381e-01  -5.59184361e-01   2.73299963e-01\n",
      "   7.13199153e-01   3.10141320e-01   1.76718273e+00  -3.32876810e-01\n",
      "   2.11081197e+00  -7.67616307e-01   5.51494206e-01  -1.11871003e+00\n",
      "   6.17327596e-01  -1.17682063e+00  -1.05842436e+00  -8.87746725e-01\n",
      "   4.83225625e-01   1.05562979e-01  -2.73275894e-01  -2.06544448e+00\n",
      "   6.01496730e-01  -2.99078854e-01   7.21430438e-01  -1.27949722e-01\n",
      "   8.28617208e-01  -2.80411587e-01  -7.79489295e-01  -1.83937639e+00\n",
      "   5.70362989e-01  -4.76895344e-01   1.75953433e+00   2.84155085e-01\n",
      "  -3.83931248e-01   1.52159878e-01  -1.46668638e+00   3.02235625e-01\n",
      "  -1.87852977e+00   3.60635914e-01  -1.11970787e+00  -1.53518418e-01]\n"
     ]
    }
   ],
   "source": [
    "print w.get_value()"
   ]
  },
  {
   "cell_type": "code",
   "execution_count": 100,
   "metadata": {
    "collapsed": false
   },
   "outputs": [
    {
     "name": "stdout",
     "output_type": "stream",
     "text": [
      "0.0\n"
     ]
    }
   ],
   "source": [
    "print b.get_value()"
   ]
  },
  {
   "cell_type": "code",
   "execution_count": 101,
   "metadata": {
    "collapsed": true
   },
   "outputs": [],
   "source": [
    "p_1 = 1/(1 + T.exp(-T.dot(x, w)-b))"
   ]
  },
  {
   "cell_type": "code",
   "execution_count": 102,
   "metadata": {
    "collapsed": true
   },
   "outputs": [],
   "source": [
    "prediction = p_1 >0.5"
   ]
  },
  {
   "cell_type": "code",
   "execution_count": 103,
   "metadata": {
    "collapsed": true
   },
   "outputs": [],
   "source": [
    "xent = -y* T.log(p_1) - (1-y)*T.log(1-p_1) # cross-entropy loss function"
   ]
  },
  {
   "cell_type": "code",
   "execution_count": 104,
   "metadata": {
    "collapsed": false
   },
   "outputs": [],
   "source": [
    "cost = xent.mean()+ 0.01*(w**2).sum()"
   ]
  },
  {
   "cell_type": "code",
   "execution_count": 105,
   "metadata": {
    "collapsed": true
   },
   "outputs": [],
   "source": [
    "gw, gb = T.grad(cost, [w,b])"
   ]
  },
  {
   "cell_type": "code",
   "execution_count": 106,
   "metadata": {
    "collapsed": true
   },
   "outputs": [],
   "source": [
    "# compile\n",
    "# 書いたことをまとめる\n",
    "# x,yを入力データとする\n",
    "# 入力データxをp_1( logistic関数 )に入る\n",
    "# 関数の出力が0.5以下のものをFalse,それ以外をTrue\n",
    "# ここで，Pythonの仕様だと{ 1-True }は0, { 1-False }は1となる\n",
    "# x,yを使って，クロスエントロピーを計算する\n",
    "# クロスエントロピーをw,bで微分し，結果をgw, gbにいれる\n",
    "# アップデート方法は，w-0.1*gwで行う\n",
    "train = theano.function(\n",
    "inputs=[x,y],\n",
    "outputs=[prediction, xent],\n",
    "updates=((w, w - 0.1 * gw), (b, b - 0.1 * gb)))"
   ]
  },
  {
   "cell_type": "code",
   "execution_count": 107,
   "metadata": {
    "collapsed": true
   },
   "outputs": [],
   "source": [
    "predict = theano.function(inputs=[x], outputs=prediction)"
   ]
  },
  {
   "cell_type": "code",
   "execution_count": 108,
   "metadata": {
    "collapsed": true
   },
   "outputs": [],
   "source": [
    "# Train\n",
    "for i in range(training_steps):\n",
    "    pred, err = train(D[0], D[1])"
   ]
  },
  {
   "cell_type": "code",
   "execution_count": 109,
   "metadata": {
    "collapsed": false
   },
   "outputs": [
    {
     "name": "stdout",
     "output_type": "stream",
     "text": [
      "Final model:\n",
      "[ -9.91290963e-02   1.60272430e-01  -4.25986867e-02  -2.28603086e-02\n",
      "   8.89501764e-02  -9.10176030e-02   1.06840807e-02  -1.84461767e-01\n",
      "   8.38199583e-02   2.74458036e-02  -1.88692088e-01  -2.34221563e-02\n",
      "  -9.94238651e-02   7.27772213e-02   1.39167992e-01   4.71935805e-02\n",
      "  -5.99841326e-02  -1.43651443e-02  -4.39327975e-02   1.11154730e-01\n",
      "  -4.98802590e-02   1.54214836e-01   5.96961792e-03   4.15342094e-02\n",
      "  -7.40199361e-03   3.57926979e-02   6.28919073e-02  -1.65267789e-01\n",
      "  -2.43510625e-04   1.39962594e-01   2.19344461e-02   3.06439964e-02\n",
      "   3.36070075e-02   1.15012858e-01   6.02068553e-02   1.82602189e-01\n",
      "  -3.63357467e-02   3.91889492e-02   4.11909266e-02  -1.03336289e-01\n",
      "   3.23875249e-03   6.45543961e-02   7.72029194e-03  -3.48520463e-03\n",
      "  -1.28629531e-01  -6.93367066e-03  -4.53187801e-02  -1.81360492e-01\n",
      "   1.26689539e-01   1.23399619e-01   5.64197711e-02   4.11912281e-02\n",
      "  -1.28104804e-01   5.51373360e-02   2.02535573e-02   8.53776351e-02\n",
      "   5.02045539e-02   1.67381644e-03   4.77290273e-02   4.46366560e-02\n",
      "  -2.60301143e-02   8.53440448e-02  -9.29945305e-02  -1.44878851e-01\n",
      "   4.71157297e-02  -9.52729849e-02  -1.08818711e-02  -1.30568194e-02\n",
      "  -4.88034003e-02   1.24917395e-01  -1.45914557e-01   1.21681016e-01\n",
      "   2.88394048e-04   6.79284692e-02  -7.10975026e-02  -2.87841402e-02\n",
      "   3.78304893e-02   8.55551486e-02   2.71107567e-02  -1.26090761e-01\n",
      "   4.17297250e-02   9.82547677e-03  -5.94350992e-03   8.81375276e-02\n",
      "  -3.94188636e-03  -3.34685077e-02  -1.02246246e-01   1.68090777e-01\n",
      "  -7.73318555e-02   3.83273859e-02   4.16943244e-02  -1.38091357e-03\n",
      "  -4.96699281e-02  -1.21023105e-01   9.68518253e-02  -1.53638188e-02\n",
      "   4.26629703e-02   4.17889382e-02  -1.10281717e-03  -5.70617571e-02\n",
      "  -9.12886692e-02   6.87601199e-03   1.19410922e-01  -1.25025702e-02\n",
      "  -1.55266997e-01   2.00315308e-02  -1.61030240e-01   4.35764577e-02\n",
      "   5.68289752e-02  -1.23789369e-01   3.35932163e-02  -9.22229794e-02\n",
      "   3.84618066e-02   1.11884579e-01   1.63986132e-02  -3.53506328e-02\n",
      "   3.33655881e-02  -5.65246436e-03  -1.36095010e-01   1.43007893e-01\n",
      "  -1.00716444e-01   1.29128593e-02   2.79480081e-02   1.65665574e-01\n",
      "  -6.13980932e-02  -3.92373079e-02  -3.20722681e-02  -5.07911736e-02\n",
      "   5.55882735e-02   3.08468091e-02   4.89534128e-02   6.43726131e-02\n",
      "  -5.93285126e-02   9.50972257e-02   1.02373738e-01  -8.28832295e-03\n",
      "   4.26478470e-02   6.39503506e-03   1.92392083e-02  -3.60291777e-02\n",
      "  -1.43688613e-01   1.12629735e-02  -8.91553997e-02  -1.27357302e-02\n",
      "  -1.16693785e-01  -4.34028262e-02   3.82875155e-02   2.38103604e-02\n",
      "   5.48226737e-02  -4.31965782e-02  -1.30343453e-01   7.24126675e-02\n",
      "  -8.02060054e-02   7.38075944e-02   2.44585054e-02   4.47673276e-02\n",
      "  -1.32366711e-01  -3.29905277e-02   1.05281924e-01  -1.19086748e-02\n",
      "   5.40565263e-02  -9.98212360e-02  -1.03020233e-01  -4.78746476e-02\n",
      "  -1.12468811e-01   1.27583081e-01   1.59687504e-01  -2.21425785e-02\n",
      "  -1.05516494e-01   1.13475985e-02   3.54597120e-02   4.44331568e-02\n",
      "  -1.07638535e-01  -1.68283759e-02   8.36849809e-02  -1.57119292e-02\n",
      "  -1.54458621e-02  -1.07784217e-01   2.25930670e-01   2.48451193e-01\n",
      "   1.12562278e-01  -9.04597098e-02   7.46484515e-02   3.91969826e-02\n",
      "  -1.24549512e-01  -4.99471867e-02   1.71375342e-01  -2.20896362e-02\n",
      "  -5.66436256e-02  -5.53709025e-02   3.65440696e-02   3.69286737e-02\n",
      "   8.87380665e-02  -6.70907418e-02   1.13913844e-01   5.68404228e-02\n",
      "   9.60537690e-02   5.05501740e-02  -5.42254513e-03   1.54184703e-01\n",
      "   1.29356731e-01   2.22053484e-02   1.32398352e-01  -1.17278698e-01\n",
      "   7.33165403e-02   1.23884176e-01   4.18146012e-02   7.03397230e-02\n",
      "   9.88024988e-03  -5.95925557e-02   8.97143388e-02  -5.25281379e-02\n",
      "   4.51174234e-02  -9.72524669e-03  -1.53767936e-01   1.15689791e-01\n",
      "  -8.52543213e-02   1.02661337e-01  -8.15320642e-02   2.70261277e-01\n",
      "  -4.38527254e-02   3.34318288e-02   5.48846066e-02   1.13557429e-01\n",
      "   1.33608745e-01   1.71484718e-01   5.99900923e-03  -1.03632155e-01\n",
      "   6.29443099e-02   7.20546151e-02   1.13616020e-01   8.54696828e-02\n",
      "   1.42748288e-01   1.75669540e-02  -9.19460328e-02   7.45444195e-02\n",
      "   1.00172451e-02  -1.14137163e-01  -1.08021995e-02   1.60854644e-02\n",
      "  -9.41306257e-02  -1.74042815e-01   5.82369543e-02   9.39985188e-02\n",
      "   1.64587424e-02  -7.23159833e-02  -1.59285000e-03   2.17462286e-02\n",
      "  -3.48456070e-02   8.97549578e-03  -1.35782434e-01  -7.76963386e-02\n",
      "  -1.19246546e-01   9.99243564e-02  -4.20007482e-02  -1.07771585e-02\n",
      "  -4.96417836e-02  -2.78236313e-02  -8.07182884e-03   9.27737328e-02\n",
      "   2.02620190e-02   9.26875095e-03   9.89878740e-02  -9.27445735e-02\n",
      "  -6.92423556e-02   4.75166768e-02  -1.56056211e-02   7.85189720e-02\n",
      "   8.09345861e-02   1.38612193e-01   7.38823230e-02   2.27727952e-02\n",
      "  -7.58785888e-02   2.40517854e-02  -2.10523776e-01   6.12798633e-02\n",
      "   3.06137428e-01  -6.82413548e-02   4.54263941e-02  -1.67618220e-01\n",
      "   6.35735647e-03  -9.97403477e-02  -8.83716728e-03   4.87914323e-03\n",
      "  -9.05310961e-02   4.72050575e-02  -5.30751999e-02  -2.57551395e-02\n",
      "   1.93394728e-02  -1.69737694e-01   4.25097977e-02   4.36178700e-02\n",
      "  -9.75814477e-02  -4.64616752e-02   4.35896215e-03  -1.27223156e-01\n",
      "   9.12172422e-02  -5.76717308e-02  -2.97796102e-03   7.47324556e-03\n",
      "   2.75039346e-02   4.93551338e-02   8.61695870e-02  -1.20437184e-01\n",
      "   2.37522297e-02   9.33417853e-02  -2.19852142e-02   1.79080290e-01\n",
      "   1.15482907e-02   2.35703196e-02  -4.63275782e-02   2.19692724e-02\n",
      "  -7.09159018e-02   2.43764251e-02  -7.39590763e-03   5.02091733e-02\n",
      "  -1.35503427e-01  -6.45118017e-02  -5.31559428e-02   7.30348038e-02\n",
      "   2.63100924e-02  -2.11832051e-03   3.51860325e-02   1.29626080e-01\n",
      "  -1.20882225e-01   1.16070894e-01   1.50166750e-01   1.32614053e-01\n",
      "  -5.89468265e-03  -3.60568960e-03  -4.93983956e-02  -4.15405605e-02\n",
      "   1.22340930e-01  -2.45454948e-02   7.78841760e-02   1.11937243e-01\n",
      "  -9.19436759e-02  -1.48160381e-01  -3.15740600e-04   1.36364602e-01\n",
      "   1.37748626e-01  -2.74188100e-02   1.00112232e-01  -1.25701940e-02\n",
      "   5.44475020e-02   4.04069379e-02   6.87472249e-02   1.32317937e-01\n",
      "   2.56853657e-02   1.51518718e-01   1.49104876e-02   7.41113967e-02\n",
      "  -6.37087051e-02   4.82635168e-02   1.76990264e-02  -1.82309101e-02\n",
      "  -1.15000789e-01  -7.92997069e-03   1.50575047e-03   5.67024113e-02\n",
      "  -5.34196687e-02  -1.21493759e-01  -2.46385945e-02   9.41981432e-02\n",
      "  -1.21567564e-01  -1.54812554e-01  -3.30809150e-02  -1.85067452e-01\n",
      "   1.12723468e-01  -6.97263615e-02  -9.36079273e-03   3.16531725e-02\n",
      "  -6.86791236e-02   1.10878481e-01   1.87031694e-01  -6.07159684e-02\n",
      "  -1.51783225e-01  -3.81571511e-02  -2.92314457e-02   8.11347277e-02\n",
      "  -2.58373541e-02   1.05642489e-01  -1.01898522e-01  -9.43750304e-02\n",
      "   4.55706343e-02  -3.63635206e-03  -6.48883543e-02  -7.92853957e-02\n",
      "  -2.58654216e-02  -1.42987596e-02   8.89679340e-03   5.91015992e-02\n",
      "  -2.81896551e-02   1.53579809e-01  -6.60586157e-02  -8.21037851e-02\n",
      "  -1.23690768e-01   1.20029666e-01  -9.41298696e-02   1.61976322e-03\n",
      "  -4.63302388e-02   7.26087240e-02   1.34135637e-01  -3.26758827e-01\n",
      "  -3.43159342e-03  -6.27371507e-02  -4.95733698e-02   1.15339814e-01\n",
      "   2.34483786e-01   6.01556797e-02  -8.49863814e-02   3.70326197e-02\n",
      "  -7.95184811e-02  -1.91731373e-02   6.11682412e-02   1.39800780e-01\n",
      "   1.55305431e-01   7.53140227e-02   2.63378241e-02  -4.78016804e-02\n",
      "  -7.54370335e-02   4.00818274e-02  -7.75838864e-02   5.90877881e-02\n",
      "   1.32923022e-02  -1.95495508e-02  -1.14197836e-01  -2.51829826e-02\n",
      "  -5.19475507e-02   1.02310547e-01  -4.00329897e-02   8.97801297e-02\n",
      "   1.26525527e-02  -9.82868520e-02  -1.43153414e-01  -3.23713687e-02\n",
      "  -7.35785698e-02  -1.54936675e-01  -2.22126144e-02  -1.28854054e-01\n",
      "  -3.01816416e-02   7.87193687e-02  -8.18150396e-02   3.09201787e-02\n",
      "  -6.92539390e-03  -6.89643913e-02   2.93542940e-02   1.23478332e-01\n",
      "   2.60117502e-02  -1.71580914e-02  -1.40448356e-02  -1.47713115e-01\n",
      "   1.40728857e-02  -1.03698794e-01  -2.03363874e-01  -6.08052386e-02\n",
      "   6.39322437e-02  -2.81229031e-02  -6.47544390e-03  -3.68683824e-02\n",
      "  -6.25881348e-02  -8.11773156e-03  -9.55038674e-02  -9.65905337e-02\n",
      "  -1.29138032e-01   4.60764728e-02  -5.33584821e-03  -1.35980961e-01\n",
      "   2.11274391e-01   6.16586953e-02   3.58029233e-02   5.82095873e-02\n",
      "   4.72168476e-02  -1.33944310e-01  -8.49801304e-02   2.66717578e-02\n",
      "  -1.38594768e-01   9.56090036e-02  -2.22891981e-02  -5.80725494e-02\n",
      "   2.39064183e-02   2.38693836e-02  -7.66802073e-02   1.06087499e-01\n",
      "  -2.18126661e-02   7.95770926e-02  -5.82640836e-02  -1.60778981e-01\n",
      "   9.21366132e-02  -1.63604444e-02  -8.81886828e-02  -7.08535508e-02\n",
      "  -2.47569112e-02   9.78455318e-02   6.06624600e-02  -9.35909057e-02\n",
      "   4.37549450e-03  -1.01630802e-01   9.79576755e-02  -5.41750285e-02\n",
      "   4.02017226e-02   6.92717074e-02   2.61975757e-02   2.91945475e-01\n",
      "  -1.03418023e-01   5.38563218e-02  -7.76894683e-02  -7.19622231e-02\n",
      "   4.21348301e-02   1.32210114e-01  -1.44712885e-01  -9.17311561e-02\n",
      "  -2.68141014e-01  -1.09623998e-03   4.36643145e-02  -5.86264478e-02\n",
      "   1.01230165e-01  -6.13979519e-02   3.54657253e-02   1.79972233e-01\n",
      "   7.43096994e-02  -1.19893485e-01   8.14069958e-02  -1.02377065e-01\n",
      "  -7.60195490e-02   4.48022720e-02  -6.01906036e-02   1.11232070e-02\n",
      "  -1.17381675e-02   1.71307790e-02  -1.80159441e-01   3.23881018e-02\n",
      "  -6.39910627e-02   3.26287703e-02   1.45317062e-01   3.87233831e-02\n",
      "   1.21955030e-01  -5.98322803e-02  -2.56120847e-02   1.08983085e-02\n",
      "   7.46448777e-02   1.19519318e-01  -3.92985183e-02  -1.20701115e-01\n",
      "   2.36501106e-01   6.80214862e-02   7.19371025e-02  -1.18952897e-01\n",
      "  -1.47592964e-01   1.29033509e-01   9.93033273e-02  -6.34199714e-02\n",
      "   3.14831611e-02   8.62835217e-02   6.33909331e-02  -2.85044408e-02\n",
      "   9.39519060e-02  -1.32368093e-01  -1.14390572e-01   1.94370658e-01\n",
      "  -1.31772463e-01  -3.21226458e-03   5.84500771e-02   9.64474657e-03\n",
      "   1.23990857e-01  -7.00274721e-03  -1.02136282e-01   9.42530665e-02\n",
      "   2.48178059e-02   1.36720337e-02  -6.69533494e-04  -1.40181455e-02\n",
      "  -3.11816325e-02   9.19238723e-02  -1.48735183e-01   6.88071362e-02\n",
      "   3.42343367e-02  -3.14812936e-02  -7.07101733e-02  -1.68967701e-01\n",
      "   2.21207482e-02   2.77210857e-01   4.50792570e-02   1.85564762e-02\n",
      "  -1.92921704e-02  -8.02603321e-03  -1.29708092e-01   1.74877747e-01\n",
      "  -1.71203457e-01  -2.45569189e-02  -7.73520851e-02   1.22582234e-01\n",
      "  -9.62441126e-02  -6.31485405e-03   2.21692364e-02  -4.27782817e-02\n",
      "  -5.85495217e-02  -1.19008724e-04   1.42192463e-01  -2.90032060e-02\n",
      "  -5.51067011e-02   9.56922168e-02   8.12934640e-02  -1.34057974e-02\n",
      "  -2.13194590e-02  -6.35465304e-02  -5.79866846e-03   3.91567368e-02\n",
      "  -7.90261522e-03  -3.23168268e-02   7.76103384e-02   1.04985442e-01\n",
      "  -4.91139839e-02   7.03477883e-02   2.51762301e-02  -9.50704218e-02\n",
      "  -9.84401015e-02  -4.55097745e-02   2.26497168e-02  -2.58011981e-01\n",
      "  -3.83428835e-02  -1.87508419e-01   1.34893554e-01   8.72933134e-02\n",
      "  -7.66048876e-02  -8.28177406e-02  -1.70878242e-02  -6.29292716e-02\n",
      "   8.57266685e-02  -1.20581726e-01   3.29633452e-02  -1.30799149e-01\n",
      "   1.11698170e-01   7.32252885e-02  -5.64720272e-02   9.37555953e-02\n",
      "   3.13609810e-02   5.27358025e-03  -1.42039608e-02   1.11901129e-01\n",
      "  -1.03206559e-01  -5.91814119e-03   1.31471157e-02   3.49471117e-03\n",
      "  -9.98319345e-02   8.56556108e-04  -3.71615369e-02  -1.55823250e-01\n",
      "   3.91115472e-02   1.76140159e-01  -1.07724264e-02  -1.46721650e-01\n",
      "  -1.85211041e-01   3.78638326e-02   4.43879957e-02   6.17448316e-02\n",
      "   1.35964276e-02   1.76719037e-01  -9.06578924e-03   2.08410691e-02\n",
      "   8.43727769e-02  -1.68848371e-01  -4.26708455e-02   1.78591470e-01\n",
      "   1.44595462e-01   2.72785433e-01   2.67768017e-02  -8.29867327e-02\n",
      "   6.65283074e-02   3.42122887e-02   5.96838712e-02   1.62647085e-01\n",
      "   1.31887531e-01  -4.11087181e-02   4.90781653e-02  -1.60362289e-01\n",
      "   3.17563903e-02   5.37784806e-02  -6.94590603e-02   4.08758513e-02\n",
      "   5.42280211e-02  -1.71723707e-01   4.31970202e-02  -1.47773451e-01\n",
      "  -3.23914261e-02  -3.70285638e-02   7.00789963e-02  -6.20574991e-02\n",
      "   1.06818112e-01   6.76598984e-02  -7.16644621e-02  -1.76830589e-01\n",
      "   9.45833247e-02   2.39339716e-01   4.96798116e-02  -1.50403528e-01\n",
      "   2.57381060e-02  -2.98006068e-02   3.99943816e-02   1.52259075e-01\n",
      "  -3.74274232e-03   2.58549984e-01  -4.39660053e-03   1.99494364e-02\n",
      "  -8.11969011e-02  -2.24652203e-02   2.41898018e-01   4.29359691e-02\n",
      "  -4.86801275e-02   1.32908039e-01  -1.74185859e-01  -1.38577460e-01\n",
      "  -6.91920421e-02   1.80200022e-01  -1.60492152e-03  -8.22125530e-04\n",
      "  -1.25835600e-02   2.31534676e-01   7.29060353e-02   1.06762168e-02\n",
      "  -3.15879049e-02   4.88558108e-02  -1.05328260e-01  -9.23905525e-02\n",
      "   9.52218143e-02   8.16220593e-02  -8.61107177e-02  -8.42339588e-02\n",
      "   9.71834955e-02   3.78667805e-03  -1.41222516e-01   1.42910118e-02\n",
      "  -1.31887912e-01   4.30072668e-02  -9.42927521e-02  -7.28521179e-02\n",
      "   3.02036921e-02  -8.04320976e-03   2.56675388e-01   8.00340163e-02\n",
      "  -7.38087006e-02  -1.71262046e-01  -2.67978912e-02  -4.96090687e-02\n",
      "  -2.09547064e-02  -8.58639252e-02   4.37260963e-02  -4.20248038e-02\n",
      "   1.03025901e-01   5.89415179e-02  -3.31807537e-02  -8.78406036e-02\n",
      "  -1.07905246e-01   9.46054456e-02   1.12364015e-01  -2.03825422e-02\n",
      "   1.00928861e-01  -1.24450897e-01   5.48051743e-02   2.19644517e-03\n",
      "   5.99224224e-02   1.54017399e-01  -2.54876655e-02   8.58380280e-02\n",
      "   3.25356102e-03   6.15158963e-03   1.33101428e-01   7.89243405e-02\n",
      "   1.28689334e-01  -8.80192888e-03  -4.88764242e-02  -3.06380366e-02\n",
      "   5.16088489e-02  -2.52701499e-02  -1.23780463e-01   2.02978613e-01\n",
      "  -1.35535042e-01   3.03265757e-02   1.49235809e-01   6.12114475e-03\n",
      "  -1.44817028e-01  -1.34786844e-01   9.39286003e-02  -5.52943067e-02]\n",
      "0.0284730378786\n",
      "target values for D:\n",
      "[0 0 1 1 0 1 1 1 0 1 0 1 1 1 0 0 0 1 0 1 1 0 0 1 0 1 0 0 0 1 0 0 1 0 0 0 0\n",
      " 1 0 1 0 0 1 1 1 0 1 1 1 0 1 1 0 1 0 1 0 1 1 0 1 0 1 1 1 1 1 0 0 1 0 0 0 1\n",
      " 1 0 0 0 1 0 1 1 0 1 0 0 1 1 1 0 0 1 1 1 1 0 0 1 1 1 1 0 0 1 1 0 0 0 1 0 0\n",
      " 1 1 0 1 0 0 1 1 1 1 0 1 1 1 1 1 0 0 1 1 0 1 1 1 1 0 1 1 0 1 0 1 0 0 0 1 1\n",
      " 0 0 0 0 1 1 1 1 0 0 1 0 0 0 0 1 1 0 1 0 0 0 0 0 0 0 0 1 0 0 0 1 1 0 0 0 1\n",
      " 0 0 0 0 1 0 1 0 0 1 0 0 0 1 0 0 0 1 0 0 0 0 1 0 1 0 0 1 1 1 0 0 1 0 1 0 0\n",
      " 1 0 0 0 0 1 0 0 0 1 0 1 1 1 1 1 0 1 0 0 0 0 1 1 1 0 1 0 0 1 0 1 1 0 0 1 1\n",
      " 0 1 0 0 1 0 1 1 0 0 0 1 1 1 0 1 0 0 0 0 0 1 0 0 1 1 1 1 1 1 0 1 0 1 0 0 1\n",
      " 1 0 1 1 1 0 0 1 0 1 1 1 1 0 1 1 1 0 0 1 1 0 0 0 1 0 1 1 1 1 0 1 1 0 0 1 1\n",
      " 0 1 0 1 0 0 0 1 0 1 0 0 0 0 0 0 0 1 1 0 1 0 1 0 1 1 0 0 0 1 1 1 1 1 0 1 0\n",
      " 1 1 1 1 0 0 0 0 0 1 0 0 1 1 0 0 1 1 1 0 1 1 1 1 0 1 0 1 0 1]\n",
      "prediction on D:\n",
      "[0 0 1 1 0 1 1 1 0 1 0 1 1 1 0 0 0 1 0 1 1 0 0 1 0 1 0 0 0 1 0 0 1 0 0 0 0\n",
      " 1 0 1 0 0 1 1 1 0 1 1 1 0 1 1 0 1 0 1 0 1 1 0 1 0 1 1 1 1 1 0 0 1 0 0 0 1\n",
      " 1 0 0 0 1 0 1 1 0 1 0 0 1 1 1 0 0 1 1 1 1 0 0 1 1 1 1 0 0 1 1 0 0 0 1 0 0\n",
      " 1 1 0 1 0 0 1 1 1 1 0 1 1 1 1 1 0 0 1 1 0 1 1 1 1 0 1 1 0 1 0 1 0 0 0 1 1\n",
      " 0 0 0 0 1 1 1 1 0 0 1 0 0 0 0 1 1 0 1 0 0 0 0 0 0 0 0 1 0 0 0 1 1 0 0 0 1\n",
      " 0 0 0 0 1 0 1 0 0 1 0 0 0 1 0 0 0 1 0 0 0 0 1 0 1 0 0 1 1 1 0 0 1 0 1 0 0\n",
      " 1 0 0 0 0 1 0 0 0 1 0 1 1 1 1 1 0 1 0 0 0 0 1 1 1 0 1 0 0 1 0 1 1 0 0 1 1\n",
      " 0 1 0 0 1 0 1 1 0 0 0 1 1 1 0 1 0 0 0 0 0 1 0 0 1 1 1 1 1 1 0 1 0 1 0 0 1\n",
      " 1 0 1 1 1 0 0 1 0 1 1 1 1 0 1 1 1 0 0 1 1 0 0 0 1 0 1 1 1 1 0 1 1 0 0 1 1\n",
      " 0 1 0 1 0 0 0 1 0 1 0 0 0 0 0 0 0 1 1 0 1 0 1 0 1 1 0 0 0 1 1 1 1 1 0 1 0\n",
      " 1 1 1 1 0 0 0 0 0 1 0 0 1 1 0 0 1 1 1 0 1 1 1 1 0 1 0 1 0 1]\n"
     ]
    }
   ],
   "source": [
    "print(\"Final model:\")\n",
    "print(w.get_value())\n",
    "print(b.get_value())\n",
    "print(\"target values for D:\")\n",
    "print(D[1])\n",
    "print(\"prediction on D:\")\n",
    "print(predict(D[0]))"
   ]
  },
  {
   "cell_type": "markdown",
   "metadata": {},
   "source": [
    "# Computing Gradients"
   ]
  },
  {
   "cell_type": "code",
   "execution_count": 110,
   "metadata": {
    "collapsed": true
   },
   "outputs": [],
   "source": [
    "import numpy as np\n",
    "import theano\n",
    "import theano.tensor as T\n",
    "from theano import pp"
   ]
  },
  {
   "cell_type": "code",
   "execution_count": 111,
   "metadata": {
    "collapsed": true
   },
   "outputs": [],
   "source": [
    "x=T.dscalar('x')"
   ]
  },
  {
   "cell_type": "code",
   "execution_count": 112,
   "metadata": {
    "collapsed": true
   },
   "outputs": [],
   "source": [
    "y = x**2"
   ]
  },
  {
   "cell_type": "code",
   "execution_count": 113,
   "metadata": {
    "collapsed": true
   },
   "outputs": [],
   "source": [
    "gy = T.grad(y, x)"
   ]
  },
  {
   "cell_type": "code",
   "execution_count": 114,
   "metadata": {
    "collapsed": false
   },
   "outputs": [
    {
     "data": {
      "text/plain": [
       "'((fill((x ** TensorConstant{2}), TensorConstant{1.0}) * TensorConstant{2}) * (x ** (TensorConstant{2} - TensorConstant{1})))'"
      ]
     },
     "execution_count": 114,
     "metadata": {},
     "output_type": "execute_result"
    }
   ],
   "source": [
    "pp(gy)"
   ]
  },
  {
   "cell_type": "code",
   "execution_count": 115,
   "metadata": {
    "collapsed": true
   },
   "outputs": [],
   "source": [
    "f = theano.function([x], gy)"
   ]
  },
  {
   "cell_type": "code",
   "execution_count": 116,
   "metadata": {
    "collapsed": false
   },
   "outputs": [
    {
     "data": {
      "text/plain": [
       "array(8.0)"
      ]
     },
     "execution_count": 116,
     "metadata": {},
     "output_type": "execute_result"
    }
   ],
   "source": [
    "f(4)"
   ]
  },
  {
   "cell_type": "code",
   "execution_count": 117,
   "metadata": {
    "collapsed": false
   },
   "outputs": [
    {
     "data": {
      "text/plain": [
       "True"
      ]
     },
     "execution_count": 117,
     "metadata": {},
     "output_type": "execute_result"
    }
   ],
   "source": [
    "np.allclose(f(94.2), 188.4)"
   ]
  },
  {
   "cell_type": "code",
   "execution_count": 118,
   "metadata": {
    "collapsed": false
   },
   "outputs": [
    {
     "data": {
      "text/plain": [
       "'(TensorConstant{2.0} * x)'"
      ]
     },
     "execution_count": 118,
     "metadata": {},
     "output_type": "execute_result"
    }
   ],
   "source": [
    "pp(f.maker.fgraph.outputs[0])"
   ]
  },
  {
   "cell_type": "code",
   "execution_count": 119,
   "metadata": {
    "collapsed": true
   },
   "outputs": [],
   "source": [
    "x = T.dmatrix('x')"
   ]
  },
  {
   "cell_type": "markdown",
   "metadata": {},
   "source": [
    "$ \\frac{ds(x)}{dx}= s(x)\\dot(1-s(x))$"
   ]
  },
  {
   "cell_type": "code",
   "execution_count": 120,
   "metadata": {
    "collapsed": false
   },
   "outputs": [],
   "source": [
    "s = T.sum(1 / (1+T.exp(-x)))"
   ]
  },
  {
   "cell_type": "code",
   "execution_count": 121,
   "metadata": {
    "collapsed": true
   },
   "outputs": [],
   "source": [
    "# sの式をxで微分する\n",
    "gs = T.grad(s,x)"
   ]
  },
  {
   "cell_type": "code",
   "execution_count": 122,
   "metadata": {
    "collapsed": true
   },
   "outputs": [],
   "source": [
    "dlogistic = function([x],gs)"
   ]
  },
  {
   "cell_type": "code",
   "execution_count": 123,
   "metadata": {
    "collapsed": false
   },
   "outputs": [
    {
     "data": {
      "text/plain": [
       "array([[ 0.25      ,  0.19661193],\n",
       "       [ 0.19661193,  0.10499359]])"
      ]
     },
     "execution_count": 123,
     "metadata": {},
     "output_type": "execute_result"
    }
   ],
   "source": [
    "dlogistic([[0,1],[-1,-2]])"
   ]
  },
  {
   "cell_type": "code",
   "execution_count": 170,
   "metadata": {
    "collapsed": false
   },
   "outputs": [
    {
     "data": {
      "text/plain": [
       "0.7689414213699951"
      ]
     },
     "execution_count": 170,
     "metadata": {},
     "output_type": "execute_result"
    }
   ],
   "source": [
    "1/(1+np.exp(-0))+1/(1+np.exp(1))"
   ]
  },
  {
   "cell_type": "markdown",
   "metadata": {},
   "source": [
    "# AutoEncoder\n",
    "チュートリアルに関して，だんだんlオペレータとかニューラルネットワークの計算以外の計算についての話になってきたので，一度個々で中断する．\n",
    "一度，以下のサイトを頼りにAutoEncoderを実装してみる．\n",
    "\n",
    "URL: http://aidiary.hatenablog.com/entry/20151203/1449146680  \n",
    "を参考にAutoEncoderを実装する"
   ]
  },
  {
   "cell_type": "code",
   "execution_count": 124,
   "metadata": {
    "collapsed": true
   },
   "outputs": [],
   "source": [
    "import os\n",
    "import sys\n",
    "import timeit\n",
    "\n",
    "import numpy as np\n",
    "\n",
    "import theano\n",
    "import theano.tensor as T\n",
    "from theano.sandbox.rng_mrg import MRG_RandomStreams as RandomStreams"
   ]
  },
  {
   "cell_type": "code",
   "execution_count": 125,
   "metadata": {
    "collapsed": true
   },
   "outputs": [],
   "source": [
    "class dA(object):\n",
    "    \"\"\"Denoising Auto-Encoder class (dA)\n",
    "\n",
    "    A denoising autoencoders tries to reconstruct the input from a corrupted\n",
    "    version of it by projecting it first in a latent space and reprojecting\n",
    "    it afterwards back in the input space. Please refer to Vincent et al.,2008\n",
    "    for more details. If x is the input then equation (1) computes a partially\n",
    "    destroyed version of x by means of a stochastic mapping q_D. Equation (2)\n",
    "    computes the projection of the input into the latent space. Equation (3)\n",
    "    computes the reconstruction of the input, while equation (4) computes the\n",
    "    reconstruction error.\n",
    "    \"\"\"\n",
    "    def __init__(\n",
    "        self, numpy_rng, theano_rng=None, input=None,\n",
    "        n_visible=784, n_hidden=500, W=None,\n",
    "        bhid=None, bvis=None):\n",
    "        \n",
    "        self.n_visible = n_visible # input layer's node \n",
    "        self.n_hidden = n_hidden # hidden layer's node\n",
    "        \n",
    "        # random parameter\n",
    "        if not theano_rng:\n",
    "            theano_rng = RandomStreams(numpy_rng.randint(2 ** 30))\n",
    "            \n",
    "        # encord layers weight\n",
    "        if not W:\n",
    "            initial_W = np.asarray(\n",
    "                        numpy_rng.uniform(\n",
    "                            low=-4 * np.sqrt(6. / (n_hidden + n_visible)),\n",
    "                            high=4 * np.sqrt(6. / (n_hidden + n_visible)),\n",
    "                            size=(n_visible, n_hidden)\n",
    "                        ),\n",
    "                            dtype=theano.config.floatX\n",
    "                        )\n",
    "            W = theano.shared(value=initial_W, name='W', borrow=True)\n",
    "        self.W = W\n",
    "        \n",
    "        # encord layers bias\n",
    "        if not bvis:\n",
    "            bvis = theano.shared(value=np.zeros(\n",
    "                    n_visible,\n",
    "                    dtype=theano.config.floatX\n",
    "                ),\n",
    "                borrow=True\n",
    "            )\n",
    "        self.b_prime = bvis\n",
    "        \n",
    "        # decord layers bias\n",
    "        if not bhid:\n",
    "            bhid = theano.shared(value=np.zeros(\n",
    "                    n_hidden,\n",
    "                    dtype=theano.config.floatX\n",
    "                ),\n",
    "                name='b',\n",
    "                borrow=True\n",
    "            )\n",
    "        self.b = bhid\n",
    "        \n",
    "        # decord layers weight\n",
    "        self.W_prime = self.W.T\n",
    "        \n",
    "        self.theano_rng = theano_rng\n",
    "        if input is None:\n",
    "            self.x = T.dmatrix(name='input')\n",
    "        else:\n",
    "            self.x = input\n",
    "        self.params = [self.W, self.b, self.b_prime]\n",
    "        \n",
    "    # adding noise data\n",
    "    # size : output vector size\n",
    "    def get_corrupted_input(self, input, corruption_level):\n",
    "        return self.theano_rng.binomial(size=input.shape, n=1,\n",
    "                                        p=1 - corruption_level,\n",
    "                                        dtype=theano.config.floatX) * input\n",
    "    # get encoder layers output\n",
    "    def get_hidden_values(self, input):\n",
    "        \"\"\" Computes the values of the hidden layer \"\"\"\n",
    "        return T.nnet.sigmoid(T.dot(input, self.W) + self.b)\n",
    "    \n",
    "    # get decoder layers output\n",
    "    def get_reconstructed_input(self, hidden):\n",
    "        return T.nnet.sigmoid(T.dot(hidden, self.W_prime) + self.b_prime)\n",
    "    \n",
    "    def get_cost_updates(self, corruption_level, learning_rate):\n",
    "        tilde_x = self.get_corrupted_input(self.x, corruption_level)\n",
    "        y = self.get_hidden_values(tilde_x)\n",
    "        z = self.get_reconstructed_input(y)\n",
    "\n",
    "        # cross entropy\n",
    "        L = - T.sum(self.x * T.log(z) + (1 - self.x) * T.log(1 - z), axis=1)\n",
    "\n",
    "        cost = T.mean(L)\n",
    "        gparams = T.grad(cost, self.params)\n",
    "        updates = [\n",
    "            (param, param - learning_rate * gparam)\n",
    "            for param, gparam in zip(self.params, gparams)\n",
    "        ]\n",
    "        return (cost, updates)"
   ]
  },
  {
   "cell_type": "code",
   "execution_count": 126,
   "metadata": {
    "collapsed": true
   },
   "outputs": [],
   "source": [
    "import numpy as np\n",
    "import datetime\n",
    "import os\n",
    "import copy\n",
    "\n",
    "# Parametor about Sensor\n",
    "SensorNum=1 # Sensor number\n",
    "#SensorAxis='AccX' # Axis\n",
    "\n",
    "# Define Data Name\n",
    "DATE= str( datetime.date.today() )+'/'\n",
    "TITLE=\"Participants01_First_1/\"\n",
    "Label = ['LeftHand','RightHand','LeftLeg','Rightleg','West','Chest']\n",
    "\n",
    "# Parametor about \" Data Path\"\n",
    "DataPath = \"/media/takeyama/Transfer/02_ActivityResearch/Paticipants01/01_First/20161018-105301/mem/\"\n",
    "StorePath = \"/media/takeyama/Transfer/02_ActivityResearch/\"\n",
    "\n",
    "if not os.path.exists(StorePath+TITLE+'dictionary/'): \n",
    "    os.makedirs(StorePath+TITLE+'dictionary/')\n",
    "DictionaryDataPath=StorePath+TITLE+'dictionary/'\n",
    "\n",
    "if not os.path.exists(StorePath+TITLE+'window/'): \n",
    "    os.makedirs(StorePath+TITLE+'window/')\n",
    "WindowDataPath=StorePath+TITLE+'window/'\n",
    "\n",
    "if not os.path.exists(StorePath+TITLE+DATE+'studyOutput/'): \n",
    "    os.makedirs(StorePath+TITLE+DATE+'studyOutput/')\n",
    "StudyOutputPath=StorePath+TITLE+DATE+'studyOutput/'\n",
    "\n",
    "if not os.path.exists(StorePath+TITLE+DATE+'parametor/'): \n",
    "    os.makedirs(StorePath+TITLE+DATE+'parametor/')\n",
    "ParametorPath=StorePath+TITLE+DATE+'parametor/'\n",
    "\n",
    "if not os.path.exists(StorePath+TITLE+DATE+'result/'): \n",
    "    os.makedirs(StorePath+TITLE+DATE+'result/')\n",
    "ResultPath=StorePath+TITLE+DATE+'result/'\n",
    "\n",
    "if not os.path.exists(StorePath+TITLE+DATE+'graph/'): \n",
    "    os.makedirs(StorePath+TITLE+DATE+'graph/')\n",
    "GraphPath=StorePath+TITLE+DATE+'graph/'"
   ]
  },
  {
   "cell_type": "code",
   "execution_count": 130,
   "metadata": {
    "collapsed": true
   },
   "outputs": [],
   "source": [
    "# FFT library\n",
    "from scipy import fftpack\n",
    "from scipy import signal\n",
    "\n",
    "# Graph Plot\n",
    "import matplotlib.pyplot as plt\n",
    "\n",
    "# Generate WindowFrame Function\n",
    "from mymodule import window\n",
    "\n",
    "# timer\n",
    "import time\n",
    "\n",
    "%matplotlib inline"
   ]
  },
  {
   "cell_type": "code",
   "execution_count": 131,
   "metadata": {
    "collapsed": false
   },
   "outputs": [
    {
     "name": "stdout",
     "output_type": "stream",
     "text": [
      "['Chest.npz', 'LeftHand.npz', 'LeftLeg.npz', 'RightHand.npz', 'Rightleg.npz', 'West.npz']\n"
     ]
    }
   ],
   "source": [
    "DictName=os.listdir(DictionaryDataPath)\n",
    "print DictName\n",
    "Sensor1 = np.load(DictionaryDataPath+DictName[0])['data'][()]\n",
    "Sensor2 = np.load(DictionaryDataPath+DictName[1])['data'][()]\n",
    "Sensor3 = np.load(DictionaryDataPath+DictName[2])['data'][()]\n",
    "Sensor4 = np.load(DictionaryDataPath+DictName[3])['data'][()]\n",
    "Sensor5 = np.load(DictionaryDataPath+DictName[4])['data'][()]\n",
    "Sensor6 = np.load(DictionaryDataPath+DictName[5])['data'][()]"
   ]
  },
  {
   "cell_type": "code",
   "execution_count": 132,
   "metadata": {
    "collapsed": true
   },
   "outputs": [],
   "source": [
    "def GetWindowFrame(windowName, dataRaw, wWidth, sWidth, PATH):\n",
    "    \"\"\"\n",
    "    data　ウィンドウフレームに変換するデータ\n",
    "    registName　ウィンドウフレームに登録するデータの名前\n",
    "    windowWidth　ウィンドウ幅\n",
    "    slidingWidth　スライド幅\n",
    "    PATH ウィドウフレームを保存するディレクトリ\n",
    "    \n",
    "    \n",
    "    About Function:\n",
    "        与えられたdataからウィンドウ幅windowWidth,スライド幅slidingWidthにしたがって\n",
    "        registNameのウィドウフレームを返す．\n",
    "        また，与えれたPATH内に同様なパラメータ( WindowWidth, slidingWidth)かつ同様な\n",
    "        windowNameのものがある場合，そのデータを返す．\n",
    "        この関数が登録，ウィンドウフレームに変換できるデータは１つとする\n",
    "    \"\"\"\n",
    "    storedName = windowName+'_Win='+str(wWidth).zfill(4)+'_Sld='+str(sWidth).zfill(4)+'.npz'\n",
    "    l = os.listdir(PATH)\n",
    "    \n",
    "    if storedName in l:\n",
    "        print \"this data had finished making\"\n",
    "        return np.load(PATH+storedName)['data'][()]\n",
    "    \n",
    "    w=window()\n",
    "    w.SetData(windowName,dataRaw)    \n",
    "    wind=w.Compile(wWidth,sWidth)\n",
    "    windoW=wind.reshape((len(wind),np.prod(wind.shape[1:])))\n",
    "    \n",
    "    np.savez(PATH+storedName,data=wind)\n",
    "\n",
    "    return wind"
   ]
  },
  {
   "cell_type": "markdown",
   "metadata": {},
   "source": [
    "****This Code is copied from https://gist.github.com/aidiary/a9c2e9ab48de446df577****"
   ]
  },
  {
   "cell_type": "code",
   "execution_count": 139,
   "metadata": {
    "collapsed": false
   },
   "outputs": [],
   "source": [
    "#coding: utf-8\n",
    "import time\n",
    "import numpy as np\n",
    "import theano\n",
    "import theano.tensor as T\n",
    "from theano.tensor.shared_randomstreams import RandomStreams\n",
    "import gzip\n",
    "import cPickle\n",
    "\n",
    "class Autoencoder(object):\n",
    "    def __init__(self, numpy_rng, theano_rng=None,\n",
    "                 input=None,\n",
    "                 n_visible=784, n_hidden=500,\n",
    "                 W=None, bhid=None, bvis=None):\n",
    "        self.n_visible = n_visible\n",
    "        self.n_hidden = n_hidden\n",
    "\n",
    "        if not theano_rng:\n",
    "            theano_rng = RandomStreams(numpy_rng.randint(2 ** 30))\n",
    "\n",
    "        if not W:\n",
    "            # 入力層と出力層の間の重み\n",
    "            initial_W = np.asarray(\n",
    "                numpy_rng.uniform(\n",
    "                    low=-4 * np.sqrt(6.0 / (n_hidden + n_visible)),\n",
    "                    high=4 * np.sqrt(6.0 / (n_hidden + n_visible)),\n",
    "                    size=(n_visible, n_hidden)\n",
    "                ),\n",
    "                dtype=theano.config.floatX\n",
    "            )\n",
    "            W = theano.shared(value=initial_W, name='W', borrow=True)\n",
    "\n",
    "        if not bvis:\n",
    "            # 入力層（visible）のユニットのバイアス\n",
    "            bvis = theano.shared(\n",
    "                value=np.zeros(n_visible, dtype=theano.config.floatX),\n",
    "                borrow=True)\n",
    "\n",
    "        if not bhid:\n",
    "            # 隠れ層（hidden）のユニットのバイアス\n",
    "            bhid = theano.shared(\n",
    "                value=np.zeros(n_hidden, dtype=theano.config.floatX),\n",
    "                name='b',\n",
    "                borrow=True)\n",
    "\n",
    "        # パラメータ\n",
    "        self.W = W\n",
    "        self.b = bhid\n",
    "        self.W_prime = self.W.T\n",
    "        self.b_prime = bvis\n",
    "        self.params = [self.W, self.b, self.b_prime]\n",
    "\n",
    "        self.theano_rng = theano_rng\n",
    "\n",
    "        if input is None:\n",
    "            self.x = T.dmatrix(name='input')\n",
    "        else:\n",
    "            self.x = input\n",
    "\n",
    "    def get_hidden_values(self, input):\n",
    "        \"\"\"入力層の値を隠れ層の値に変換\"\"\"\n",
    "        return T.nnet.sigmoid(T.dot(input, self.W) + self.b)\n",
    "\n",
    "    def get_reconstructed_input(self, hidden):\n",
    "        \"\"\"隠れ層の値を入力層の値に逆変換\"\"\"\n",
    "        return T.nnet.sigmoid(T.dot(hidden, self.W_prime) + self.b_prime)\n",
    "\n",
    "    def get_cost_updates(self, learning_rate):\n",
    "        \"\"\"コスト関数と更新式のシンボルを返す\"\"\"\n",
    "        # 入力を変換\n",
    "        y = self.get_hidden_values(self.x)\n",
    "\n",
    "        # 変換した値を逆変換で入力に戻す\n",
    "        z = self.get_reconstructed_input(y)\n",
    "\n",
    "        # コスト関数のシンボル\n",
    "        # 元の入力と再構築した入力の交差エントロピー誤差を計算\n",
    "        # 入力xがミニバッチのときLはベクトルになる\n",
    "        L = - T.sum(self.x * T.log(z) + (1 - self.x) * T.log(1 - z), axis=1)\n",
    "\n",
    "        # Lはミニバッチの各サンプルの交差エントロピー誤差なので全サンプルで平均を取る\n",
    "        cost = T.mean(L)\n",
    "#         cost += 0.001 * abs(self.W).sum()    # L1 regularization\n",
    "#         cost += 0.001 * (self.W ** 2).sum()  # L2 regularization\n",
    "\n",
    "        # 誤差関数の微分\n",
    "        gparams = T.grad(cost, self.params)\n",
    "\n",
    "        # 更新式のシンボル\n",
    "        updates = [(param, param - learning_rate * gparam)\n",
    "                   for param, gparam in zip(self.params, gparams)]\n",
    "\n",
    "        return cost, updates\n",
    "\n",
    "    def feedforward(self):\n",
    "        \"\"\"入力をフィードフォワードさせて出力を計算\"\"\"\n",
    "        y = self.get_hidden_values(self.x)\n",
    "        z = self.get_reconstructed_input(y)\n",
    "        return z\n",
    "\n",
    "    def __getstate__(self):\n",
    "        \"\"\"パラメータの状態を返す\"\"\"\n",
    "        return (self.W.get_value(), self.b.get_value(), self.b_prime.get_value())\n",
    "\n",
    "    def __setstate__(self, state):\n",
    "        \"\"\"パラメータの状態をセット\"\"\"\n",
    "        self.W.set_value(state[0])\n",
    "        self.b.set_value(state[1])\n",
    "        self.b_prime.set_value(state[2])\n",
    "\n",
    "def load_data(dataset):\n",
    "    \"\"\"データセットをロードしてGPUの共有変数に格納\"\"\"\n",
    "    f = gzip.open(dataset, 'rb')\n",
    "    train_set, valid_set, test_set = cPickle.load(f)\n",
    "    f.close()\n",
    "\n",
    "    def shared_dataset(data_xy, borrow=True):\n",
    "        data_x, data_y = data_xy\n",
    "\n",
    "        # 共有変数には必ずfloat型で格納\n",
    "        shared_x = theano.shared(np.asarray(data_x, dtype=theano.config.floatX), borrow=borrow)\n",
    "        shared_y = theano.shared(np.asarray(data_y, dtype=theano.config.floatX), borrow=borrow)\n",
    "\n",
    "        # ラベルはint型なのでキャストして返す\n",
    "        return shared_x, T.cast(shared_y, 'int32')\n",
    "\n",
    "    test_set_x, test_set_y = shared_dataset(test_set)\n",
    "    valid_set_x, valid_set_y = shared_dataset(valid_set)\n",
    "    train_set_x, train_set_y = shared_dataset(train_set)\n",
    "\n",
    "    rval = [(train_set_x, train_set_y),\n",
    "            (valid_set_x, valid_set_y),\n",
    "            (test_set_x, test_set_y)]\n",
    "\n",
    "    return rval"
   ]
  },
  {
   "cell_type": "code",
   "execution_count": 152,
   "metadata": {
    "collapsed": false
   },
   "outputs": [
    {
     "data": {
      "text/plain": [
       "numpy.float64"
      ]
     },
     "execution_count": 152,
     "metadata": {},
     "output_type": "execute_result"
    }
   ],
   "source": [
    "type(windoW[1,1])"
   ]
  },
  {
   "cell_type": "code",
   "execution_count": 159,
   "metadata": {
    "collapsed": false,
    "scrolled": true
   },
   "outputs": [
    {
     "name": "stdout",
     "output_type": "stream",
     "text": [
      "this data had finished making\n",
      "Training epoch 0, cost 119.411598\n",
      "Training epoch 1, cost 114.275352\n",
      "Training epoch 2, cost 109.250595\n",
      "Training epoch 3, cost 102.603790\n",
      "Training epoch 4, cost 94.786995\n",
      "Training epoch 5, cost 86.582153\n",
      "Training epoch 6, cost 78.471092\n",
      "Training epoch 7, cost 70.630486\n",
      "Training epoch 8, cost 63.075340\n",
      "Training epoch 9, cost 55.777588\n",
      "Training epoch 10, cost 48.681469\n",
      "Training epoch 11, cost 41.730724\n",
      "Training epoch 12, cost 34.885315\n",
      "Training epoch 13, cost 28.110092\n",
      "Training epoch 14, cost 21.378361\n",
      "Training epoch 15, cost 14.618525\n",
      "Training epoch 16, cost 7.760386\n",
      "Training epoch 17, cost 0.898961\n",
      "Training epoch 18, cost -5.899752\n",
      "Training epoch 19, cost -12.637409\n",
      "Training epoch 20, cost -19.322866\n",
      "Training epoch 21, cost -25.962275\n",
      "Training epoch 22, cost -32.562721\n",
      "Training epoch 23, cost -39.128551\n",
      "Training epoch 24, cost -45.663860\n",
      "Training epoch 25, cost -52.174335\n",
      "Training epoch 26, cost -58.663105\n",
      "Training epoch 27, cost -65.128090\n",
      "Training epoch 28, cost -71.569298\n",
      "Training epoch 29, cost -77.989471\n",
      "Training epoch 30, cost -84.391487\n",
      "Training epoch 31, cost -90.778297\n",
      "Training epoch 32, cost -97.152878\n",
      "Training epoch 33, cost -103.517570\n",
      "Training epoch 34, cost -109.873825\n",
      "Training epoch 35, cost -116.222115\n",
      "Training epoch 36, cost -122.562302\n",
      "Training epoch 37, cost -128.894485\n",
      "Training epoch 38, cost -135.219330\n",
      "Training epoch 39, cost -141.537384\n",
      "Training epoch 40, cost -147.849228\n",
      "Training epoch 41, cost -154.155121\n",
      "Training epoch 42, cost -160.455078\n",
      "Training epoch 43, cost -166.748993\n",
      "Training epoch 44, cost -173.036926\n",
      "Training epoch 45, cost -179.319534\n",
      "Training epoch 46, cost -185.597366\n",
      "Training epoch 47, cost -191.870773\n",
      "Training epoch 48, cost -198.140167\n",
      "Training epoch 49, cost -204.405518\n",
      "time: 7s\n"
     ]
    }
   ],
   "source": [
    "learning_rate = 0.01\n",
    "training_epochs = 50\n",
    "batch_size = 32\n",
    "\n",
    "# 学習データのロード\n",
    "#datasets = load_data('mnist.pkl.gz')\n",
    "# 自己符号化器は教師なし学習なので訓練データのラベルは使わない\n",
    "#train_set_x = datasets[0][0]\n",
    "WindowWidth = 256\n",
    "SlidingWidth = 32\n",
    "BatchSize = 32\n",
    "windoW = GetWindowFrame('AccX',Sensor1['AccX'],WindowWidth,SlidingWidth,WindowDataPath)\n",
    "train_set_x =  theano.shared(np.asarray(windoW, dtype=theano.config.floatX))\n",
    "train_set_y =  theano.shared(np.asarray(windoW, dtype=theano.config.floatX))\n",
    "test_set_x =  theano.shared(np.asarray(windoW, dtype=theano.config.floatX))\n",
    "test_set_y =  theano.shared(np.asarray(windoW, dtype=theano.config.floatX))\n",
    "valid_set_x =  theano.shared(np.asarray(windoW, dtype=theano.config.floatX))\n",
    "valid_set_y =  theano.shared(np.asarray(windoW, dtype=theano.config.floatX))\n",
    "\n",
    "# ミニバッチ数\n",
    "n_train_batches =train_set_x.get_value(borrow=True).shape[0] / batch_size\n",
    "\n",
    "# ミニバッチのインデックスを表すシンボル\n",
    "index = T.lscalar()\n",
    "\n",
    "# ミニバッチの学習データを表すシンボル\n",
    "x = T.matrix('x')\n",
    "\n",
    "# モデル構築\n",
    "rng = np.random.RandomState(123)\n",
    "theano_rng = RandomStreams(rng.randint(2 ** 30))\n",
    "\n",
    "autoencoder = Autoencoder(numpy_rng=rng,\n",
    "                           theano_rng=theano_rng,\n",
    "                           input=x,\n",
    "                           n_visible=windoW.shape[1],\n",
    "                           n_hidden=128)\n",
    "\n",
    "# コスト関数と更新式のシンボルを取得\n",
    "cost, updates = autoencoder.get_cost_updates(learning_rate=learning_rate)\n",
    "\n",
    "# 訓練用の関数を定義\n",
    "train_da = theano.function([index],\n",
    "    cost,\n",
    "    updates=updates,\n",
    "    givens={\n",
    "        x: train_set_x[index * batch_size: (index + 1) * batch_size]\n",
    "    })\n",
    "\n",
    "# モデル訓練\n",
    "fp = open(\"cost.txt\", \"w\")\n",
    "start_time = time.clock()\n",
    "for epoch in xrange(training_epochs):\n",
    "    c = []\n",
    "    for batch_index in xrange(n_train_batches):\n",
    "        c.append(train_da(batch_index))\n",
    "\n",
    "    print \"Training epoch %d, cost %f\" % (epoch, np.mean(c))\n",
    "    fp.write(\"%d\\t%f\\n\" % (epoch, np.mean(c)))\n",
    "    fp.flush()\n",
    "\n",
    "end_time = time.clock()\n",
    "training_time = (end_time - start_time)\n",
    "fp.close()\n",
    "\n",
    "print \"time: %ds\" % (training_time)\n",
    "\n",
    "# 学習したモデルの状態を保存\n",
    "f = open('autoencoder.pkl', 'wb')\n",
    "cPickle.dump(autoencoder.__getstate__(), f, protocol=cPickle.HIGHEST_PROTOCOL)\n",
    "f.close()"
   ]
  },
  {
   "cell_type": "markdown",
   "metadata": {},
   "source": [
    "# https://github.com/hogefugabar/deep-learning-theano  \n",
    "Theanoのコードは，どう調整すればいいのかわからないし，この人のコードは少しKerasに近いクラス設計している"
   ]
  },
  {
   "cell_type": "code",
   "execution_count": null,
   "metadata": {
    "collapsed": true
   },
   "outputs": [],
   "source": []
  }
 ],
 "metadata": {
  "kernelspec": {
   "display_name": "Python 2",
   "language": "python",
   "name": "python2"
  },
  "language_info": {
   "codemirror_mode": {
    "name": "ipython",
    "version": 2
   },
   "file_extension": ".py",
   "mimetype": "text/x-python",
   "name": "python",
   "nbconvert_exporter": "python",
   "pygments_lexer": "ipython2",
   "version": "2.7.11"
  }
 },
 "nbformat": 4,
 "nbformat_minor": 1
}
