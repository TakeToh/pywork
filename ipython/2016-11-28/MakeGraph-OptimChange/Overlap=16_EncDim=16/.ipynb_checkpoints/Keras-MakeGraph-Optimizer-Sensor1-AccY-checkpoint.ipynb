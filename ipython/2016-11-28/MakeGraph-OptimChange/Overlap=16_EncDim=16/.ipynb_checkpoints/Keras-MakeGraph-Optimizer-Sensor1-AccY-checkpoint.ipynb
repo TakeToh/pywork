{
 "cells": [
  {
   "cell_type": "code",
   "execution_count": 1,
   "metadata": {
    "collapsed": false
   },
   "outputs": [],
   "source": [
    "SensorNum=1 # Sensor number\n",
    "WindowWidth=[128,256,512,1024,2048,4096] # Window Width\n",
    "OverlapArray=[16,16,16,16,16,16] # sliding window\n",
    "#width=1000 # graph width \n",
    "#EncodingDim=[4,8,12,16,32,64] # number of hidden layer note\n",
    "encoding_dim=16\n",
    "Axis='AccX' # Axis\n",
    "\n",
    "#WORKSPACE_PATH = \"/media/takeyama/HD-PZU3/01_TAKEYAMA_WORKSPACE/02_CommonData\"\n",
    "WORKSPACE_PATH = \"/home/takeyama/Documents/01_SyncChopin\"\n",
    "DATE_PATH=\"/2016-08-15/\"\n",
    "TITLE_PATH=\"Optim/\""
   ]
  },
  {
   "cell_type": "code",
   "execution_count": 2,
   "metadata": {
    "collapsed": false
   },
   "outputs": [],
   "source": [
    "import numpy as np\n",
    "import pandas as pd\n",
    "from scipy import fftpack\n",
    "from scipy import signal\n",
    "import time\n",
    "import os\n",
    "import matplotlib.pyplot as plt\n",
    "import pylab\n",
    "import pickle\n",
    "import copy\n",
    "\n",
    "import processing\n",
    "import window\n",
    "\n",
    "import matplotlib.animation as animation\n",
    "import datetime\n",
    "\n",
    "%matplotlib inline"
   ]
  },
  {
   "cell_type": "code",
   "execution_count": 3,
   "metadata": {
    "collapsed": false
   },
   "outputs": [
    {
     "name": "stderr",
     "output_type": "stream",
     "text": [
      "Using Theano backend.\n",
      "Using gpu device 0: GeForce GTX 970 (CNMeM is disabled, cuDNN 4007)\n"
     ]
    }
   ],
   "source": [
    "from keras.models import Sequential\n",
    "from keras.datasets import cifar10\n",
    "from keras.layers import Dense, Activation, Flatten\n",
    "from keras.optimizers import SGD, Adadelta, Adagrad, Adam, Adamax, RMSprop, Nadam\n",
    "from keras.utils import np_utils\n",
    "from keras.layers.convolutional import Convolution2D, MaxPooling2D\n",
    "from keras.utils.visualize_util import model_to_dot, plot\n",
    "from keras import backend as K\n",
    "from keras.layers import Input, Dense\n",
    "from keras.models import Model\n",
    "from keras.callbacks import EarlyStopping\n",
    "\n",
    "import matplotlib.image as mpimg\n"
   ]
  },
  {
   "cell_type": "code",
   "execution_count": 4,
   "metadata": {
    "collapsed": true
   },
   "outputs": [],
   "source": [
    "DataName='sensor'+str(SensorNum)+'_'+Axis\n",
    "SensorName='sensor'+str(SensorNum)\n",
    "DicName='MemSensor'+str(SensorNum)"
   ]
  },
  {
   "cell_type": "code",
   "execution_count": 12,
   "metadata": {
    "collapsed": false
   },
   "outputs": [],
   "source": [
    "# define rawdata directory\n",
    "if not os.path.exists(WORKSPACE_PATH+\"/raw/\"):\n",
    "    os.makedirs(WORKSPACE_PATH+\"/raw/\")\n",
    "RawDataPath=WORKSPACE_PATH+\"/raw/\"\n",
    "\n",
    "# define restoring windowdata directory\n",
    "if not os.path.exists(WORKSPACE_PATH+'/window/'+TITLE_PATH+DataName+'/'): \n",
    "    os.makedirs(WORKSPACE_PATH+'/window/'+TITLE_PATH+DataName+'/')\n",
    "WindowDataPath=WORKSPACE_PATH+'/window/'+TITLE_PATH+DataName+'/'\n",
    "\n",
    "# define restoring netowrk model picture's directory\n",
    "if not os.path.exists(WORKSPACE_PATH+DATE_PATH+'/modelPic/'+TITLE_PATH+DataName+'/'): \n",
    "    os.makedirs(WORKSPACE_PATH+DATE_PATH+'/modelPic/'+TITLE_PATH+DataName+'/')\n",
    "StudyDataModelPicPath=WORKSPACE_PATH+DATE_PATH+'/modelPic/'+TITLE_PATH+DataName+'/'\n",
    "\n",
    "# define restoring graph data's directory\n",
    "if not os.path.exists(WORKSPACE_PATH+DATE_PATH+'/graph/'+TITLE_PATH+DataName+'/'): \n",
    "    os.makedirs(WORKSPACE_PATH+DATE_PATH+'/graph/'+TITLE_PATH+DataName+'/')\n",
    "GraphDataPath=WORKSPACE_PATH+DATE_PATH+'/graph/'+TITLE_PATH+DataName+'/'\n",
    "\n",
    "# define restoring model paarmeter directory\n",
    "if not os.path.exists(WORKSPACE_PATH+DATE_PATH+'/study/'+TITLE_PATH+DataName+'/'): \n",
    "    os.makedirs(WORKSPACE_PATH+DATE_PATH+'/study/'+TITLE_PATH+DataName+'/')\n",
    "StudyDataPath=WORKSPACE_PATH+DATE_PATH+'/study/'+TITLE_PATH+DataName+'/'"
   ]
  },
  {
   "cell_type": "markdown",
   "metadata": {},
   "source": [
    "**Phase1 計測データの取得**"
   ]
  },
  {
   "cell_type": "code",
   "execution_count": 13,
   "metadata": {
    "collapsed": false
   },
   "outputs": [],
   "source": [
    "dic=processing.LoadDicDataFromFileNPZ(RawDataPath+DicName)"
   ]
  },
  {
   "cell_type": "markdown",
   "metadata": {},
   "source": [
    "**Phase2 window flame 作成 & Learning**"
   ]
  },
  {
   "cell_type": "code",
   "execution_count": 14,
   "metadata": {
    "collapsed": false
   },
   "outputs": [],
   "source": [
    "optimizers = [SGD, Adadelta, Adamax, Adam, Adagrad,  RMSprop, Nadam]\n",
    "optimArray = [\"SGD\", \"Adadelta\",\"Adamax\", \"Adam\", \"Adagrad\",\"RMSprop\",\"Nadam\"]"
   ]
  },
  {
   "cell_type": "code",
   "execution_count": null,
   "metadata": {
    "collapsed": false,
    "scrolled": true
   },
   "outputs": [
    {
     "name": "stdout",
     "output_type": "stream",
     "text": [
      "hiden node = 16\n",
      "-edim=16-Window=128-Overlap=16-SGD\n",
      "Graph range=0 : 101849\n",
      "Graph range=101849 : 203698\n",
      "Graph range=203698 : 305547\n",
      "Graph range=305547 : 407396\n",
      "Graph range=407396 : 509245\n",
      "Graph range=509245 : 611094\n",
      "Graph range=611094 : 712943\n",
      "Graph range=712943 : 814792\n",
      "Graph range=814792 : 916641\n",
      "Graph range=916641 : 1018490\n",
      "Graph range=1018490 : 1120339\n",
      "Graph range=1120339 : 1222188\n",
      "Graph range=1222188 : 1324037\n",
      "Graph range=1324037 : 1425886\n",
      "Graph range=1425886 : 1527735\n",
      "Graph range=1527735 : 1629584\n",
      "Graph range=1629584 : 1731433\n",
      "Graph range=1731433 : 1833282\n",
      "Graph range=1833282 : 1935131\n",
      "Graph range=1935131 : 2036980\n",
      "hiden node = 16\n",
      "-edim=16-Window=128-Overlap=16-Adadelta\n",
      "Graph range=0 : 101849\n",
      "Graph range=101849 : 203698\n",
      "Graph range=203698 : 305547\n",
      "Graph range=305547 : 407396\n",
      "Graph range=407396 : 509245\n",
      "Graph range=509245 : 611094\n",
      "Graph range=611094 : 712943\n",
      "Graph range=712943 : 814792\n",
      "Graph range=814792 : 916641\n",
      "Graph range=916641 : 1018490\n",
      "Graph range=1018490 : 1120339\n",
      "Graph range=1120339 : 1222188\n",
      "Graph range=1222188 : 1324037\n",
      "Graph range=1324037 : 1425886\n",
      "Graph range=1425886 : 1527735\n",
      "Graph range=1527735 : 1629584\n",
      "Graph range=1629584 : 1731433\n",
      "Graph range=1731433 : 1833282\n",
      "Graph range=1833282 : 1935131\n",
      "Graph range=1935131 : 2036980\n",
      "hiden node = 16\n",
      "-edim=16-Window=128-Overlap=16-Adamax\n",
      "Graph range=0 : 101849\n",
      "Graph range=101849 : 203698\n",
      "Graph range=203698 : 305547\n",
      "Graph range=305547 : 407396\n",
      "Graph range=407396 : 509245\n",
      "Graph range=509245 : 611094\n",
      "Graph range=611094 : 712943\n",
      "Graph range=712943 : 814792\n",
      "Graph range=814792 : 916641\n",
      "Graph range=916641 : 1018490\n",
      "Graph range=1018490 : 1120339\n",
      "Graph range=1120339 : 1222188\n",
      "Graph range=1222188 : 1324037\n",
      "Graph range=1324037 : 1425886\n",
      "Graph range=1425886 : 1527735\n",
      "Graph range=1527735 : 1629584\n",
      "Graph range=1629584 : 1731433\n",
      "Graph range=1731433 : 1833282\n",
      "Graph range=1833282 : 1935131\n",
      "Graph range=1935131 : 2036980\n",
      "hiden node = 16\n",
      "-edim=16-Window=128-Overlap=16-Adam\n",
      "Graph range=0 : 101849\n",
      "Graph range=101849 : 203698\n",
      "Graph range=203698 : 305547\n",
      "Graph range=305547 : 407396\n",
      "Graph range=407396 : 509245\n",
      "Graph range=509245 : 611094\n",
      "Graph range=611094 : 712943\n",
      "Graph range=712943 : 814792\n",
      "Graph range=814792 : 916641\n",
      "Graph range=916641 : 1018490\n",
      "Graph range=1018490 : 1120339\n",
      "Graph range=1120339 : 1222188\n",
      "Graph range=1222188 : 1324037\n",
      "Graph range=1324037 : 1425886\n",
      "Graph range=1425886 : 1527735\n",
      "Graph range=1527735 : 1629584\n",
      "Graph range=1629584 : 1731433\n",
      "Graph range=1731433 : 1833282\n",
      "Graph range=1833282 : 1935131\n",
      "Graph range=1935131 : 2036980\n",
      "hiden node = 16\n",
      "-edim=16-Window=128-Overlap=16-Adagrad\n",
      "Graph range=0 : 101849\n",
      "Graph range=101849 : 203698\n",
      "Graph range=203698 : 305547\n",
      "Graph range=305547 : 407396\n",
      "Graph range=407396 : 509245\n",
      "Graph range=509245 : 611094\n",
      "Graph range=611094 : 712943\n",
      "Graph range=712943 : 814792\n",
      "Graph range=814792 : 916641\n",
      "Graph range=916641 : 1018490\n",
      "Graph range=1018490 : 1120339\n",
      "Graph range=1120339 : 1222188\n",
      "Graph range=1222188 : 1324037\n",
      "Graph range=1324037 : 1425886\n",
      "Graph range=1425886 : 1527735\n",
      "Graph range=1527735 : 1629584\n"
     ]
    }
   ],
   "source": [
    "fig = plt.figure(figsize=(20,10))\n",
    "ax = fig.add_subplot(111)\n",
    "\n",
    "# loop windowWidth\n",
    "for SampleNum,Overlap in zip(WindowWidth,OverlapArray): \n",
    "    for opt,optName in zip(optimizers,optimArray):\n",
    "        print \"hiden node = \"+str(encoding_dim)\n",
    "        CommonName='-edim='+str(encoding_dim)+'-Window='+str(SampleNum)+'-Overlap='+str(Overlap)+'-'+optName\n",
    "        print CommonName\n",
    "        SaveFileNameEncord=DataName+'_encoded'+CommonName\n",
    "        SaveFileNameDecord=DataName+'_decoded'+CommonName\n",
    "        SaveFileNameNet=DataName+'_net'+CommonName\n",
    "        SaveFileNameTrain=DataName+'_train'+CommonName\n",
    "        SaveFileNameTest=DataName+'_test'+CommonName\n",
    "        SaveFileNameGraph=GraphDataPath+DataName+CommonName\n",
    "\n",
    "        window_train=processing.LoadDicDataFromFileNPZ(WindowDataPath+SaveFileNameTrain)\n",
    "        #window_test=processing.LoadDicDataFromFileNPZ(WindowDataPath+SaveFileNameTest)\n",
    "        #encoded_imgs = processing.LoadDicDataFromFileNPZ(StudyDataPath+SaveFileNameEncord)\n",
    "        decoded_imgs = processing.LoadDicDataFromFileNPZ(StudyDataPath+SaveFileNameDecord)\n",
    "        \n",
    "        length_Raw = window_train.shape[0]*window_train.shape[1]\n",
    "        length_Rec = decoded_imgs.shape[0]*decoded_imgs.shape[1]\n",
    "        \n",
    "        window_train = window_train.reshape(length_Raw,1)\n",
    "        decoded_imgs = decoded_imgs.reshape(length_Rec,1)\n",
    "        \n",
    "        width = length_Raw/20\n",
    "        for i in range(width,length_Raw,width):\n",
    "            start =i-width \n",
    "            goal=i\n",
    "\n",
    "            dataE = window_train[start:goal]\n",
    "            dataD = decoded_imgs[start:goal]\n",
    "            \n",
    "            ax.plot(range(0,len(dataE)),dataE,'r',label=\"raw data\")\n",
    "            ax.plot(range(0,len(dataD)),dataD,'b',label=\"reconstruct\")\n",
    "            ax.legend(loc='best',fontsize=10)\n",
    "            ax.set_title(str(start)+\"-\"+str(goal))\n",
    "            ax.figure.savefig(SaveFileNameGraph+'-'+str(start)+\"-\"+str(goal)+'-graph')\n",
    "            ax.clear()\n",
    "            print 'Graph range='+str(start)+' : '+str(goal)"
   ]
  },
  {
   "cell_type": "code",
   "execution_count": null,
   "metadata": {
    "collapsed": false
   },
   "outputs": [],
   "source": [
    "print \"finish\""
   ]
  },
  {
   "cell_type": "code",
   "execution_count": null,
   "metadata": {
    "collapsed": false
   },
   "outputs": [],
   "source": []
  },
  {
   "cell_type": "code",
   "execution_count": null,
   "metadata": {
    "collapsed": true
   },
   "outputs": [],
   "source": []
  }
 ],
 "metadata": {
  "kernelspec": {
   "display_name": "Python 2",
   "language": "python",
   "name": "python2"
  },
  "language_info": {
   "codemirror_mode": {
    "name": "ipython",
    "version": 2
   },
   "file_extension": ".py",
   "mimetype": "text/x-python",
   "name": "python",
   "nbconvert_exporter": "python",
   "pygments_lexer": "ipython2",
   "version": "2.7.11"
  }
 },
 "nbformat": 4,
 "nbformat_minor": 0
}
