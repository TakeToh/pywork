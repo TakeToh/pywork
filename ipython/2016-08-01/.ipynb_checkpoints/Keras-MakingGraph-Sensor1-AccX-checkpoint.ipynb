{
 "cells": [
  {
   "cell_type": "code",
   "execution_count": 1,
   "metadata": {
    "collapsed": false
   },
   "outputs": [],
   "source": [
    "import numpy as np\n",
    "import pandas as pd\n",
    "from scipy import fftpack\n",
    "from scipy import signal\n",
    "import time\n",
    "import os\n",
    "import matplotlib.pyplot as plt\n",
    "import pylab\n",
    "import pickle\n",
    "import copy\n",
    "import processing\n",
    "import matplotlib.animation as animation\n",
    "import datetime\n",
    "\n",
    "%matplotlib inline"
   ]
  },
  {
   "cell_type": "code",
   "execution_count": 2,
   "metadata": {
    "collapsed": false
   },
   "outputs": [
    {
     "name": "stderr",
     "output_type": "stream",
     "text": [
      "Using Theano backend.\n",
      "Using gpu device 0: GeForce GTX 970 (CNMeM is disabled, cuDNN 4007)\n"
     ]
    }
   ],
   "source": [
    "from keras.models import Sequential\n",
    "from keras.datasets import cifar10\n",
    "from keras.layers import Dense, Activation, Flatten\n",
    "from keras.optimizers import Adadelta\n",
    "from keras.utils import np_utils\n",
    "from keras.layers.convolutional import Convolution2D, MaxPooling2D\n",
    "from keras.utils.visualize_util import model_to_dot, plot\n",
    "from keras import backend as K\n",
    "from keras.layers import Input, Dense\n",
    "from keras.models import Model\n",
    "from keras.callbacks import EarlyStopping\n",
    "\n",
    "import matplotlib.image as mpimg\n"
   ]
  },
  {
   "cell_type": "markdown",
   "metadata": {},
   "source": [
    "共通変数をここに定義"
   ]
  },
  {
   "cell_type": "code",
   "execution_count": 3,
   "metadata": {
    "collapsed": true
   },
   "outputs": [],
   "source": [
    "DataName='sensor1_AccX'\n",
    "SensorName='Sensor1'\n",
    "width=3000"
   ]
  },
  {
   "cell_type": "code",
   "execution_count": 4,
   "metadata": {
    "collapsed": false
   },
   "outputs": [],
   "source": [
    "WORKSPACE_PATH = '/home/takeyama/pywork/ipython/2016-07-04'\n",
    "\n",
    "    \n",
    "if not os.path.exists(WORKSPACE_PATH+'/'+DataName+'/study/'): os.makedirs(WORKSPACE_PATH+'/'+DataName+'/study/')\n",
    "StudyDataPath=WORKSPACE_PATH+'/'+DataName+'/study/'\n",
    "\n",
    "if not os.path.exists(WORKSPACE_PATH+'/'+DataName+'/glaph/'): os.makedirs(WORKSPACE_PATH+'/'+DataName+'/glaph/')\n",
    "GlaphDataPath=WORKSPACE_PATH+'/'+DataName+'/glaph/'\n",
    "\n",
    "if not os.path.exists(WORKSPACE_PATH+'/'+DataName+'/modelPic/'): os.makedirs(WORKSPACE_PATH+'/'+DataName+'/modelPic/')\n",
    "StudyDataModelPicPath=WORKSPACE_PATH+'/'+DataName+'/modelPic/'\n",
    "\n",
    "WindowDataPath=WORKSPACE_PATH+'/window/'\n",
    "RawDataPath=WORKSPACE_PATH+'/raw/'"
   ]
  },
  {
   "cell_type": "code",
   "execution_count": 5,
   "metadata": {
    "collapsed": false
   },
   "outputs": [],
   "source": [
    "\"\"\"\n",
    "    encordData,decordData\n",
    "    firstNum:\n",
    "    goalNum:\n",
    "    commonLabel:共通名前\n",
    "\"\"\"\n",
    "def MakeGlaph(encordData,decordData,firstNum,goalNum,commonLabel):\n",
    "    eRow, eCol=encordData.shape\n",
    "    dRow, dCol=decordData.shape\n",
    "\n",
    "    start = firstNum\n",
    "    goal=goalNum\n",
    "    print str(start)+' is start '+str(goal)+' is goal'\n",
    "    dataE = encordData.reshape(eRow*eCol,1)[start:goal]\n",
    "    dataD = decordData.reshape(dRow*dCol,1)[start:goal]\n",
    "    plt.clf() \n",
    "    plt.figure(figsize=(100,50))\n",
    "    plt.plot(range(0,len(dataE)),dataE,'--r',label=\"raw data\")\n",
    "    plt.plot(range(0,len(dataD)),dataD,'b',label=\"reconstruct\")\n",
    "    plt.legend(loc='best')\n",
    "    plt.title(str(start)+\"-\"+str(goal))\n",
    "    plt.savefig(commonLabel+'-'+str(start)+\"-\"+str(goal)+'-'+'glaph')\n",
    "    plt.close('all')"
   ]
  },
  {
   "cell_type": "markdown",
   "metadata": {},
   "source": [
    "すべてのデータを読みdし、グラフ化する"
   ]
  },
  {
   "cell_type": "code",
   "execution_count": null,
   "metadata": {
    "collapsed": false,
    "scrolled": true
   },
   "outputs": [
    {
     "name": "stdout",
     "output_type": "stream",
     "text": [
      "0 is start 3000 is goal\n",
      "3000 is start 6000 is goal\n",
      "6000 is start 9000 is goal\n",
      "9000 is start 12000 is goal\n",
      "12000 is start 15000 is goal\n",
      "15000 is start 18000 is goal\n",
      "18000 is start 21000 is goal\n",
      "21000 is start 24000 is goal\n",
      "24000 is start 27000 is goal\n",
      "27000 is start 30000 is goal\n",
      "30000 is start 33000 is goal\n",
      "33000 is start 36000 is goal\n",
      "36000 is start 39000 is goal\n",
      "39000 is start 42000 is goal\n",
      "42000 is start 45000 is goal\n",
      "45000 is start 48000 is goal\n",
      "48000 is start 51000 is goal\n",
      "51000 is start 54000 is goal\n",
      "54000 is start 57000 is goal\n",
      "57000 is start 60000 is goal\n",
      "60000 is start 63000 is goal\n",
      "63000 is start 66000 is goal\n",
      "66000 is start 69000 is goal\n",
      "69000 is start 72000 is goal\n",
      "72000 is start 75000 is goal\n",
      "75000 is start 78000 is goal\n",
      "78000 is start 81000 is goal\n",
      "81000 is start 84000 is goal\n",
      "84000 is start 87000 is goal\n",
      "87000 is start 90000 is goal\n",
      "90000 is start 93000 is goal\n",
      "93000 is start 96000 is goal\n",
      "96000 is start 99000 is goal\n",
      "99000 is start 102000 is goal\n",
      "102000 is start 105000 is goal\n",
      "105000 is start 108000 is goal\n",
      "108000 is start 111000 is goal\n",
      "111000 is start 114000 is goal\n",
      "114000 is start 117000 is goal\n",
      "117000 is start 120000 is goal\n",
      "120000 is start 123000 is goal\n",
      "123000 is start 126000 is goal\n",
      "126000 is start 129000 is goal\n",
      "129000 is start 132000 is goal\n",
      "132000 is start 135000 is goal\n",
      "135000 is start 138000 is goal\n",
      "138000 is start 141000 is goal\n",
      "141000 is start 144000 is goal\n",
      "144000 is start 147000 is goal\n",
      "147000 is start 150000 is goal\n",
      "150000 is start 153000 is goal\n",
      "153000 is start 156000 is goal\n",
      "156000 is start 159000 is goal\n",
      "159000 is start 162000 is goal\n",
      "162000 is start 165000 is goal\n",
      "165000 is start 168000 is goal\n",
      "168000 is start 171000 is goal\n",
      "171000 is start 174000 is goal\n",
      "174000 is start 177000 is goal\n",
      "177000 is start 180000 is goal\n",
      "180000 is start 183000 is goal\n",
      "183000 is start 186000 is goal\n",
      "186000 is start 189000 is goal\n",
      "189000 is start 192000 is goal\n",
      "192000 is start 195000 is goal\n",
      "195000 is start 198000 is goal\n",
      "198000 is start 201000 is goal\n",
      "201000 is start 204000 is goal\n",
      "204000 is start 207000 is goal\n",
      "207000 is start 210000 is goal\n",
      "210000 is start 213000 is goal\n",
      "213000 is start 216000 is goal\n",
      "216000 is start 219000 is goal\n",
      "219000 is start 222000 is goal\n",
      "222000 is start 225000 is goal\n",
      "225000 is start 228000 is goal\n",
      "228000 is start 231000 is goal\n",
      "231000 is start 234000 is goal\n",
      "234000 is start 237000 is goal\n",
      "237000 is start 240000 is goal\n",
      "240000 is start 243000 is goal\n",
      "243000 is start 246000 is goal\n",
      "246000 is start 249000 is goal\n",
      "249000 is start 252000 is goal\n",
      "0 is start 3000 is goal\n",
      "3000 is start 6000 is goal\n",
      "6000 is start 9000 is goal\n",
      "9000 is start 12000 is goal\n",
      "12000 is start 15000 is goal\n",
      "15000 is start 18000 is goal\n",
      "18000 is start 21000 is goal\n",
      "21000 is start 24000 is goal\n",
      "24000 is start 27000 is goal\n",
      "27000 is start 30000 is goal\n",
      "30000 is start 33000 is goal\n",
      "33000 is start 36000 is goal\n",
      "36000 is start 39000 is goal\n",
      "39000 is start 42000 is goal\n",
      "42000 is start 45000 is goal\n",
      "45000 is start 48000 is goal\n",
      "48000 is start 51000 is goal\n",
      "51000 is start 54000 is goal\n",
      "54000 is start 57000 is goal\n",
      "57000 is start 60000 is goal\n",
      "60000 is start 63000 is goal\n",
      "63000 is start 66000 is goal\n",
      "66000 is start 69000 is goal\n",
      "69000 is start 72000 is goal\n",
      "72000 is start 75000 is goal\n",
      "75000 is start 78000 is goal\n",
      "78000 is start 81000 is goal\n",
      "81000 is start 84000 is goal\n",
      "84000 is start 87000 is goal\n",
      "87000 is start 90000 is goal\n",
      "90000 is start 93000 is goal\n",
      "93000 is start 96000 is goal\n",
      "96000 is start 99000 is goal\n",
      "99000 is start 102000 is goal\n",
      "102000 is start 105000 is goal\n",
      "105000 is start 108000 is goal\n",
      "108000 is start 111000 is goal\n",
      "111000 is start 114000 is goal\n"
     ]
    }
   ],
   "source": [
    "# define SaveFileName\n",
    "# 8, 4, 12, 16, 32, 64\n",
    "AllEncoding_dim = [4, 8, 12, 16, 32, 64]  # 32 floats -> compression of factor 24.5, assuming the input is 784 floats\n",
    "dict1 = processing.LoadDicDataFromFileNPZ('raw/Mem'+SensorName+'.npz')\n",
    "rawData = dict1['AccX'].reshape(dict1['AccX'].size,1)\n",
    "width = 3000\n",
    "\n",
    "for encoding_dim in AllEncoding_dim:\n",
    "    SaveFileNameEncord=DataName+'_encoded'+'_edim='+str(encoding_dim)\n",
    "    SaveFileNameDecord=DataName+'_decoded'+'_edim='+str(encoding_dim)\n",
    "    SaveFileNameNet=DataName+'_net'+'_edim='+str(encoding_dim)\n",
    "    SaveFileNameTrain=DataName+'_train'+'_edim='+str(encoding_dim)\n",
    "    SaveFileNameTest=DataName+'_test'+'_edim='+str(encoding_dim)\n",
    "    SaveFileNameGlaph=GlaphDataPath+DataName+'_edim='+str(encoding_dim)+'_loss_val_loss.png'\n",
    "    \n",
    "    reconstructData = processing.LoadDicDataFromFileNPZ(StudyDataPath+SaveFileNameEncord)\n",
    "    reconstructData = reconstructData.reshape(reconstructData.size,1)\n",
    "    \n",
    "    for i in range(width,rawData.size,width):\n",
    "        MakeGlaph(rawData, reconstructData, i-width, i,GlaphDataPath+DataName+'_edim='+str(encoding_dim) )"
   ]
  },
  {
   "cell_type": "code",
   "execution_count": null,
   "metadata": {
    "collapsed": true
   },
   "outputs": [],
   "source": []
  }
 ],
 "metadata": {
  "kernelspec": {
   "display_name": "Python 2",
   "language": "python",
   "name": "python2"
  },
  "language_info": {
   "codemirror_mode": {
    "name": "ipython",
    "version": 2
   },
   "file_extension": ".py",
   "mimetype": "text/x-python",
   "name": "python",
   "nbconvert_exporter": "python",
   "pygments_lexer": "ipython2",
   "version": "2.7.11"
  }
 },
 "nbformat": 4,
 "nbformat_minor": 0
}
