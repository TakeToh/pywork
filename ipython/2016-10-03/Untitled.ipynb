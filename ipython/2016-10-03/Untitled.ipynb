{
 "cells": [
  {
   "cell_type": "code",
   "execution_count": 1,
   "metadata": {
    "collapsed": true
   },
   "outputs": [],
   "source": [
    "import numpy as np"
   ]
  },
  {
   "cell_type": "code",
   "execution_count": 2,
   "metadata": {
    "collapsed": false
   },
   "outputs": [
    {
     "name": "stdout",
     "output_type": "stream",
     "text": [
      "\u001b[0m\u001b[01;34mLearning-DeepAutoEncoder\u001b[0m/\r\n",
      "\u001b[01;34mLearning-Feachers\u001b[0m/\r\n",
      "\u001b[01;34mLearning-OptimChange\u001b[0m/\r\n",
      "\u001b[01;34mLearning-Sparse\u001b[0m/\r\n",
      "\u001b[01;34mLearning-WindowChange-ConstOverlap=1\u001b[0m/\r\n",
      "\u001b[01;34mLearning-WindowChange-Overlap=0.25\u001b[0m/\r\n",
      "\u001b[01;34mMakeGraph-OptimChange\u001b[0m/\r\n",
      "\u001b[01;34mMakeGraph_AutoCorrelation_WindowChange-Overlap=0.26\u001b[0m/\r\n",
      "\u001b[01;34mMakeGraph_Phase_Spectrum_WindowChange-Overlap=0.25\u001b[0m/\r\n",
      "\u001b[01;34mMakeGraph_Phase_WindowChange-Overlap=0.25\u001b[0m/\r\n",
      "\u001b[01;34mMakeGraph_Spectrum_WindowChange-Overlap=0.25\u001b[0m/\r\n",
      "\u001b[01;34mMakeGraph_Time_WindowChange-Overlap=0.25\u001b[0m/\r\n",
      "Untitled.ipynb\r\n",
      "processing.py\r\n",
      "window.py\r\n"
     ]
    }
   ],
   "source": [
    "ls"
   ]
  },
  {
   "cell_type": "code",
   "execution_count": 5,
   "metadata": {
    "collapsed": false
   },
   "outputs": [
    {
     "name": "stdout",
     "output_type": "stream",
     "text": [
      "/home/takeyama\n"
     ]
    }
   ],
   "source": [
    "cd"
   ]
  },
  {
   "cell_type": "code",
   "execution_count": 6,
   "metadata": {
    "collapsed": false
   },
   "outputs": [
    {
     "name": "stdout",
     "output_type": "stream",
     "text": [
      "\u001b[0m\u001b[01;31mBasePythonEnvironment-2.7.12.zip\u001b[0m\r\n",
      "\u001b[01;31mBaseVersions-2.7.10.zip\u001b[0m\r\n",
      "\u001b[01;34mDesktop\u001b[0m/\r\n",
      "\u001b[01;34mDocuments\u001b[0m/\r\n",
      "\u001b[01;34mDownloads\u001b[0m/\r\n",
      "\u001b[01;34mMusic\u001b[0m/\r\n",
      "\u001b[01;34mOpenBLAS\u001b[0m/\r\n",
      "\u001b[01;34mPictures\u001b[0m/\r\n",
      "\u001b[01;34mPublic\u001b[0m/\r\n",
      "Pyenv-Install-CFLAGS=\"-fPIC\".pdf\r\n",
      "\u001b[01;34mTemplates\u001b[0m/\r\n",
      "Ubuntu14.04-Pyenv-Virtualenv-MakeEnvironment-Qiita.pdf\r\n",
      "Ubuntu14.04-Pyenv-Virtualenv-MakeEnvironment.pdf\r\n",
      "\u001b[01;34mVideos\u001b[0m/\r\n",
      "examples.desktop\r\n",
      "pip_install.list\r\n",
      "pyp_list.txt\r\n",
      "python'library.pdf\r\n",
      "\u001b[01;34mpywork\u001b[0m/\r\n",
      "theano-test.py\r\n",
      "theano-test.py~\r\n"
     ]
    }
   ],
   "source": [
    "ls"
   ]
  },
  {
   "cell_type": "code",
   "execution_count": null,
   "metadata": {
    "collapsed": true
   },
   "outputs": [],
   "source": [
    "c"
   ]
  }
 ],
 "metadata": {
  "kernelspec": {
   "display_name": "Python 2",
   "language": "python",
   "name": "python2"
  },
  "language_info": {
   "codemirror_mode": {
    "name": "ipython",
    "version": 2
   },
   "file_extension": ".py",
   "mimetype": "text/x-python",
   "name": "python",
   "nbconvert_exporter": "python",
   "pygments_lexer": "ipython2",
   "version": "2.7.11"
  }
 },
 "nbformat": 4,
 "nbformat_minor": 0
}
