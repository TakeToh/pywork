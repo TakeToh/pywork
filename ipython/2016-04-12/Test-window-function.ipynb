{
 "cells": [
  {
   "cell_type": "code",
   "execution_count": 1,
   "metadata": {
    "collapsed": true
   },
   "outputs": [],
   "source": [
    "import numpy as np\n",
    "from scipy import signal\n",
    "from scipy.fftpack import fft, fftshift\n",
    "import matplotlib.pyplot as plt"
   ]
  },
  {
   "cell_type": "code",
   "execution_count": 2,
   "metadata": {
    "collapsed": false
   },
   "outputs": [
    {
     "name": "stdout",
     "output_type": "stream",
     "text": [
      "/home/takeyama/Documents/01_SensorData/2016_04_12/cleaning-addingLABEL\n"
     ]
    }
   ],
   "source": [
    "cd ~/Documents/01_SensorData/2016_04_12/cleaning-addingLABEL/"
   ]
  },
  {
   "cell_type": "code",
   "execution_count": null,
   "metadata": {
    "collapsed": true
   },
   "outputs": [],
   "source": [
    "wf = wave.open(\"data/combined.wav\", \"r\")\n",
    "fs = wf.getframerate()  # サンプリング周波数\n",
    "x = wf.readframes(wf.getnframes())\n",
    "x = frombuffer(x, dtype=\"int16\") / 32768.0  # 0-1に正規化\n",
    "\n",
    "start = 0   # サンプリングする開始位置\n",
    "N = 512     # FFTのサンプル数\n",
    "\n",
    "hammingWindow = np.hamming(N)    # ハミング窓\n",
    "hanningWindow = np.hanning(N)    # ハニング窓\n",
    "blackmanWindow = np.blackman(N)  # ブラックマン窓\n",
    "bartlettWindow = np.bartlett(N)  # バートレット窓\n",
    "\n",
    "originalData = x[start:start+N]                  # 切り出した波形データ（窓関数なし）\n",
    "windowedData = hammingWindow * x[start:start+N]  # 切り出した波形データ（窓関数あり）\n",
    "\n",
    "originalDFT = np.fft.fft(originalData)\n",
    "windowedDFT = np.fft.fft(windowedData)\n",
    "freqList = np.fft.fftfreq(N, d=1.0/fs)\n",
    "\n",
    "originalAmp = [np.sqrt(c.real ** 2 + c.imag ** 2) for c in originalDFT]\n",
    "windowedAmp = [np.sqrt(c.real ** 2 + c.imag ** 2) for c in windowedDFT]\n",
    "\n",
    "# 波形を描画（窓関数なし）\n",
    "subplot(221)  # 2行2列のグラフの1番目の位置にプロット\n",
    "plot(range(start, start+N), originalData)\n",
    "axis([start, start+N, -1.0, 1.0])\n",
    "xlabel(\"time [sample]\")\n",
    "ylabel(\"amplitude\")\n",
    "\n",
    "# 波形を描画（窓関数あり）\n",
    "subplot(222)  # 2行2列のグラフの2番目の位置にプロット\n",
    "plot(range(start, start+N), windowedData)\n",
    "axis([start, start+N, -1.0, 1.0])\n",
    "xlabel(\"time [sample]\")\n",
    "ylabel(\"amplitude\")\n",
    "\n",
    "# 振幅スペクトルを描画（窓関数なし）\n",
    "subplot(223)\n",
    "plot(freqList, originalAmp, marker='o', linestyle='-')\n",
    "axis([0, fs/2, 0, 100])\n",
    "xlabel(\"frequency [Hz]\")\n",
    "ylabel(\"amplitude spectrum\")\n",
    "\n",
    "# 振幅スペクトルを描画（窓関数あり）\n",
    "subplot(224)\n",
    "plot(freqList, windowedAmp, marker='o', linestyle='-')\n",
    "axis([0, fs/2, 0, 100])\n",
    "xlabel(\"frequency [Hz]\")\n",
    "ylabel(\"amplitude spectrum\")\n",
    "\n",
    "show()"
   ]
  }
 ],
 "metadata": {
  "kernelspec": {
   "display_name": "Python 2",
   "language": "python",
   "name": "python2"
  },
  "language_info": {
   "codemirror_mode": {
    "name": "ipython",
    "version": 2
   },
   "file_extension": ".py",
   "mimetype": "text/x-python",
   "name": "python",
   "nbconvert_exporter": "python",
   "pygments_lexer": "ipython2",
   "version": "2.7.11"
  }
 },
 "nbformat": 4,
 "nbformat_minor": 0
}
