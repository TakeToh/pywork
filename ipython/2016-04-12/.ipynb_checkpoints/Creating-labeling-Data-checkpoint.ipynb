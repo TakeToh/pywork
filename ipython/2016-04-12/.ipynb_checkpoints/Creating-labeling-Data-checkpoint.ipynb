{
 "cells": [
  {
   "cell_type": "code",
   "execution_count": 1,
   "metadata": {
    "collapsed": false
   },
   "outputs": [],
   "source": [
    "import numpy as np\n",
    "import matplotlib.pyplot as plt\n",
    "from scipy import fftpack\n",
    "from scipy import signal\n",
    "import pandas as pd\n",
    "import time\n",
    "%matplotlib inline"
   ]
  },
  {
   "cell_type": "code",
   "execution_count": 2,
   "metadata": {
    "collapsed": false
   },
   "outputs": [
    {
     "name": "stdout",
     "output_type": "stream",
     "text": [
      "/home/takeyama/Documents/01_SensorData/2016_04_04/cleaning-addingLABEL\n"
     ]
    }
   ],
   "source": [
    "cd ~/Documents/01_SensorData/2016_04_04/cleaning-addingLABEL/"
   ]
  },
  {
   "cell_type": "code",
   "execution_count": 3,
   "metadata": {
    "collapsed": false,
    "scrolled": true
   },
   "outputs": [
    {
     "name": "stdout",
     "output_type": "stream",
     "text": [
      "20160331_180615.srt         SP-right-hand-acc.dat.cache\r\n",
      "Cleaning_left_hand_ags.csv  SP-right-hand-batt.dat\r\n",
      "Conv-left-hand-ags.csv      SP-right-hand-gyr.dat\r\n",
      "Conv-left-hand-batt.csv     SP-right-hand-gyr.dat.cache\r\n",
      "Conv-left-leg-ags.csv       SP-right-leg-acc.dat\r\n",
      "Conv-left-leg-batt.csv      SP-right-leg-acc.dat.cache\r\n",
      "Conv-right-hand-ags.csv     SP-right-leg-batt.dat\r\n",
      "Conv-right-hand-batt.csv    SP-right-leg-gyr.dat\r\n",
      "Conv-right-leg-ags.csv      SP-right-leg-gyr.dat.cache\r\n",
      "Conv-right-leg-batt.csv     SP-west-acc.dat\r\n",
      "Conv-west-ags.csv           SP-west-acc.dat.cache\r\n",
      "Conv-west-batt.csv          SP-west-batt.dat\r\n",
      "\u001b[0m\u001b[01;35mDeviceSet1.avi\u001b[0m              SP-west-gyr.dat\r\n",
      "SP-left-hand-acc.dat        SP-west-gyr.dat.cache\r\n",
      "SP-left-hand-acc.dat.cache  cleaning.spe\r\n",
      "SP-left-hand-batt.dat       cleaning_20160331.csv\r\n",
      "SP-left-hand-gyr.dat        cleaning_20160331.spa\r\n",
      "SP-left-hand-gyr.dat.cache  cleaning_20160331.spa.old\r\n",
      "SP-left-leg-acc.dat         left-hand.csv\r\n",
      "SP-left-leg-acc.dat.cache   left-leg.csv\r\n",
      "SP-left-leg-batt.dat        right-hand.csv\r\n",
      "SP-left-leg-gyr.dat         right-leg.csv\r\n",
      "SP-left-leg-gyr.dat.cache   west.csv\r\n",
      "SP-right-hand-acc.dat\r\n"
     ]
    }
   ],
   "source": [
    "ls"
   ]
  },
  {
   "cell_type": "code",
   "execution_count": null,
   "metadata": {
    "collapsed": true
   },
   "outputs": [],
   "source": [
    "def add_label(data,label):\n",
    "    start = time.time()\n",
    "    data[u'label']=0\n",
    "    label_num=1\n",
    "    for i in range(0,len(data)):\n",
    "        \n",
    "        if label_num!=len(label):\n",
    "            if data[u'時刻'][i] > label[u'#Time'][label_num]:\n",
    "                label_num +=1\n",
    "            \n",
    "        data[u'label'][i]=label[u'Info1'][label_num-1]\n",
    "        \n",
    "        #debug\n",
    "        #print 'mm[label][%d]=%s' %(i,mm[u'label'][i])\n",
    "    elapsed_time = time.time() - start\n",
    "    print (\"elapsed_time:{0}\".format(elapsed_time)) + \"[sec]\"\n",
    "    "
   ]
  },
  {
   "cell_type": "code",
   "execution_count": null,
   "metadata": {
    "collapsed": false
   },
   "outputs": [
    {
     "name": "stderr",
     "output_type": "stream",
     "text": [
      "/home/takeyama/.pyenv/versions/2.7.11/envs/my_theano/lib/python2.7/site-packages/ipykernel/__main__.py:11: SettingWithCopyWarning: \n",
      "A value is trying to be set on a copy of a slice from a DataFrame\n",
      "\n",
      "See the caveats in the documentation: http://pandas.pydata.org/pandas-docs/stable/indexing.html#indexing-view-versus-copy\n",
      "/home/takeyama/.pyenv/versions/2.7.11/envs/my_theano/lib/python2.7/site-packages/pandas/core/indexing.py:128: SettingWithCopyWarning: \n",
      "A value is trying to be set on a copy of a slice from a DataFrame\n",
      "\n",
      "See the caveats in the documentation: http://pandas.pydata.org/pandas-docs/stable/indexing.html#indexing-view-versus-copy\n",
      "  self._setitem_with_indexer(indexer, value)\n"
     ]
    }
   ],
   "source": [
    "data=[u'Conv-left-hand-ags.csv',u'Conv-left-leg-ags.csv',u'Conv-right-hand-ags.csv',\n",
    "        u'Conv-right-leg-ags.csv',u'Conv-west-ags.csv']\n",
    "\n",
    "label=pd.read_csv(\"cleaning_20160331.csv\",encoding=\"SHIFT-JIS\")\n",
    "label[u'#Time']=pd.to_datetime(label[u'#Time'])\n",
    "\n",
    "for i in range(5):\n",
    "    data = pd.read_csv(data[i],encoding=\"SHIFT-JIS\")\n",
    "    data[u'時刻']=pd.to_datetime(data[u'時刻'])\n",
    "    add_label(data,label)\n",
    "    data.to_csv('Cleaning_left_hand_ags.csv',encoding='SHIFT-JIS')"
   ]
  },
  {
   "cell_type": "code",
   "execution_count": null,
   "metadata": {
    "collapsed": true
   },
   "outputs": [],
   "source": []
  }
 ],
 "metadata": {
  "kernelspec": {
   "display_name": "Python 2",
   "language": "python",
   "name": "python2"
  },
  "language_info": {
   "codemirror_mode": {
    "name": "ipython",
    "version": 2
   },
   "file_extension": ".py",
   "mimetype": "text/x-python",
   "name": "python",
   "nbconvert_exporter": "python",
   "pygments_lexer": "ipython2",
   "version": "2.7.11"
  }
 },
 "nbformat": 4,
 "nbformat_minor": 0
}
