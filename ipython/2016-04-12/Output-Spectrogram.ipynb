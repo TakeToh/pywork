{
 "cells": [
  {
   "cell_type": "code",
   "execution_count": 1,
   "metadata": {
    "collapsed": true
   },
   "outputs": [],
   "source": [
    "import numpy as np\n",
    "import matplotlib.pyplot as plt\n",
    "from scipy import fftpack\n",
    "from scipy import signal"
   ]
  },
  {
   "cell_type": "code",
   "execution_count": 5,
   "metadata": {
    "collapsed": false
   },
   "outputs": [
    {
     "name": "stdout",
     "output_type": "stream",
     "text": [
      "/home/takeyama/Documents/01_SensorData/2016_04_04/cleaning-addingLABEL\n"
     ]
    }
   ],
   "source": [
    "cd ~/Documents/01_SensorData/2016_04_04/cleaning-addingLABEL/"
   ]
  },
  {
   "cell_type": "code",
   "execution_count": 4,
   "metadata": {
    "collapsed": false
   },
   "outputs": [
    {
     "name": "stdout",
     "output_type": "stream",
     "text": [
      "20160331_180615.srt         SP-right-hand-acc.dat.cache\r\n",
      "Cleaning_left_hand_ags.csv  SP-right-hand-batt.dat\r\n",
      "Conv-left-hand-ags.csv      SP-right-hand-gyr.dat\r\n",
      "Conv-left-hand-batt.csv     SP-right-hand-gyr.dat.cache\r\n",
      "Conv-left-leg-ags.csv       SP-right-leg-acc.dat\r\n",
      "Conv-left-leg-batt.csv      SP-right-leg-acc.dat.cache\r\n",
      "Conv-right-hand-ags.csv     SP-right-leg-batt.dat\r\n",
      "Conv-right-hand-batt.csv    SP-right-leg-gyr.dat\r\n",
      "Conv-right-leg-ags.csv      SP-right-leg-gyr.dat.cache\r\n",
      "Conv-right-leg-batt.csv     SP-west-acc.dat\r\n",
      "Conv-west-ags.csv           SP-west-acc.dat.cache\r\n",
      "Conv-west-batt.csv          SP-west-batt.dat\r\n",
      "\u001b[0m\u001b[01;35mDeviceSet1.avi\u001b[0m              SP-west-gyr.dat\r\n",
      "SP-left-hand-acc.dat        SP-west-gyr.dat.cache\r\n",
      "SP-left-hand-acc.dat.cache  cleaning.spe\r\n",
      "SP-left-hand-batt.dat       cleaning_20160331.csv\r\n",
      "SP-left-hand-gyr.dat        cleaning_20160331.spa\r\n",
      "SP-left-hand-gyr.dat.cache  cleaning_20160331.spa.old\r\n",
      "SP-left-leg-acc.dat         left-hand.csv\r\n",
      "SP-left-leg-acc.dat.cache   left-leg.csv\r\n",
      "SP-left-leg-batt.dat        right-hand.csv\r\n",
      "SP-left-leg-gyr.dat         right-leg.csv\r\n",
      "SP-left-leg-gyr.dat.cache   west.csv\r\n",
      "SP-right-hand-acc.dat\r\n"
     ]
    }
   ],
   "source": [
    "ls"
   ]
  },
  {
   "cell_type": "code",
   "execution_count": null,
   "metadata": {
    "collapsed": true
   },
   "outputs": [],
   "source": [
    "def plot_spectrogram(data,sampling_freq,\\\n",
    "    xlim=[0,500],ylim=[0,30]):\n",
    "    plt.close('all')\n",
    "    f,t,Sxx = signal.spectrogram(data,sampling_freq,nperseg=512)\n",
    "    plt.xlabel(u\"Time [sec]\")\n",
    "    plt.xlim(xlim)\n",
    "\n",
    "    plt.ylabel(u\"Frequency [Hz]\")\n",
    "    plt.ylim(ylim)\n",
    "\n",
    "    plt.pcolormesh(t,f,Sxx)\n",
    "    plt.colorbar()\n",
    "    plt.show()"
   ]
  }
 ],
 "metadata": {
  "kernelspec": {
   "display_name": "Python 2",
   "language": "python",
   "name": "python2"
  },
  "language_info": {
   "codemirror_mode": {
    "name": "ipython",
    "version": 2
   },
   "file_extension": ".py",
   "mimetype": "text/x-python",
   "name": "python",
   "nbconvert_exporter": "python",
   "pygments_lexer": "ipython2",
   "version": "2.7.11"
  }
 },
 "nbformat": 4,
 "nbformat_minor": 0
}
