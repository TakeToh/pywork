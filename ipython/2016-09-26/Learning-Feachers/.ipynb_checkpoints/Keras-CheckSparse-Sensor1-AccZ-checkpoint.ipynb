{
 "cells": [
  {
   "cell_type": "code",
   "execution_count": 1,
   "metadata": {
    "collapsed": false
   },
   "outputs": [],
   "source": [
    "SensorNum=1 # Sensor number\n",
    "WindowWidth=[128,256,512,1024,2048,4096] # Window Width\n",
    "OverlapArray=[16,32,64,128,256] # sliding window\n",
    "#width=1000 # graph width \n",
    "#EncodingDim=[4,8,12,16,32,64] # number of hidden layer note\n",
    "encoding_dim=16\n",
    "Axis='AccX' # Axis\n",
    "\n",
    "WORKSPACE_PATH = \"/media/takeyama/HD-PZU3/01_TAKEYAMA_WORKSPACE/02_CommonData\"\n",
    "DATE_PATH=\"/2016-08-15/\"\n",
    "TITLE_PATH=\"Sparse/\""
   ]
  },
  {
   "cell_type": "code",
   "execution_count": 2,
   "metadata": {
    "collapsed": false
   },
   "outputs": [],
   "source": [
    "import numpy as np\n",
    "import pandas as pd\n",
    "from scipy import fftpack\n",
    "from scipy import signal\n",
    "import time\n",
    "import os\n",
    "import matplotlib.pyplot as plt\n",
    "import pylab\n",
    "import pickle\n",
    "import copy\n",
    "\n",
    "import processing\n",
    "import window\n",
    "\n",
    "import matplotlib.animation as animation\n",
    "import datetime\n",
    "\n",
    "%matplotlib inline"
   ]
  },
  {
   "cell_type": "code",
   "execution_count": 3,
   "metadata": {
    "collapsed": false
   },
   "outputs": [
    {
     "name": "stderr",
     "output_type": "stream",
     "text": [
      "Using Theano backend.\n",
      "Using gpu device 0: GeForce GTX 1080 (CNMeM is disabled, cuDNN 5005)\n"
     ]
    }
   ],
   "source": [
    "from keras.models import Sequential\n",
    "from keras.datasets import cifar10\n",
    "from keras.layers import Dense, Activation, Flatten\n",
    "from keras.optimizers import SGD, Adadelta, Adagrad, Adam, Adamax, RMSprop, Nadam\n",
    "from keras.utils import np_utils\n",
    "from keras.layers.convolutional import Convolution2D, MaxPooling2D\n",
    "from keras.utils.visualize_util import model_to_dot, plot\n",
    "from keras import backend as K\n",
    "from keras.layers import Input, Dense\n",
    "from keras.models import Model\n",
    "from keras.callbacks import EarlyStopping\n",
    "from keras import regularizers\n",
    "\n",
    "import matplotlib.image as mpimg\n"
   ]
  },
  {
   "cell_type": "code",
   "execution_count": 4,
   "metadata": {
    "collapsed": true
   },
   "outputs": [],
   "source": [
    "DataName='sensor'+str(SensorNum)+'_'+Axis\n",
    "SensorName='sensor'+str(SensorNum)\n",
    "DicName='MemSensor'+str(SensorNum)"
   ]
  },
  {
   "cell_type": "code",
   "execution_count": 5,
   "metadata": {
    "collapsed": false
   },
   "outputs": [],
   "source": [
    "# define rawdata directory\n",
    "if not os.path.exists(WORKSPACE_PATH+\"/raw/\"):\n",
    "    os.makedirs(WORKSPACE_PATH+\"/raw/\")\n",
    "RawDataPath=WORKSPACE_PATH+\"/raw/\"\n",
    "\n",
    "# define restoring windowdata directory\n",
    "if not os.path.exists(WORKSPACE_PATH+'/window/'+TITLE_PATH+DataName+'/'): \n",
    "    os.makedirs(WORKSPACE_PATH+'/window/'+TITLE_PATH+DataName+'/')\n",
    "WindowDataPath=WORKSPACE_PATH+'/window/'+TITLE_PATH+DataName+'/'\n",
    "\n",
    "# define restoring netowrk model picture's directory\n",
    "if not os.path.exists(WORKSPACE_PATH+DATE_PATH+'/modelPic/'+TITLE_PATH+DataName+'/'): \n",
    "    os.makedirs(WORKSPACE_PATH+DATE_PATH+'/modelPic/'+TITLE_PATH+DataName+'/')\n",
    "StudyDataModelPicPath=WORKSPACE_PATH+DATE_PATH+'/modelPic/'+TITLE_PATH+DataName+'/'\n",
    "\n",
    "# define restoring graph data's directory\n",
    "if not os.path.exists(WORKSPACE_PATH+DATE_PATH+'/graph/'+TITLE_PATH+DataName+'/'): \n",
    "    os.makedirs(WORKSPACE_PATH+DATE_PATH+'/graph/'+TITLE_PATH+DataName+'/')\n",
    "GlaphDataPath=WORKSPACE_PATH+DATE_PATH+'/graph/'+TITLE_PATH+DataName+'/'\n",
    "\n",
    "# define restoring model paarmeter directory\n",
    "if not os.path.exists(WORKSPACE_PATH+DATE_PATH+'/study/'+TITLE_PATH+DataName+'/'): \n",
    "    os.makedirs(WORKSPACE_PATH+DATE_PATH+'/study/'+TITLE_PATH+DataName+'/')\n",
    "StudyDataPath=WORKSPACE_PATH+DATE_PATH+'/study/'+TITLE_PATH+DataName+'/'"
   ]
  },
  {
   "cell_type": "markdown",
   "metadata": {},
   "source": [
    "**Phase1 計測データの取得**"
   ]
  },
  {
   "cell_type": "code",
   "execution_count": 6,
   "metadata": {
    "collapsed": false
   },
   "outputs": [],
   "source": [
    "dic=processing.LoadDicDataFromFileNPZ(RawDataPath+DicName)"
   ]
  },
  {
   "cell_type": "markdown",
   "metadata": {},
   "source": [
    "**Phase2 window flame 作成 & Learning**"
   ]
  },
  {
   "cell_type": "code",
   "execution_count": null,
   "metadata": {
    "collapsed": false
   },
   "outputs": [
    {
     "data": {
      "text/plain": [
       "16"
      ]
     },
     "execution_count": 7,
     "metadata": {},
     "output_type": "execute_result"
    }
   ],
   "source": [
    "encoding_dim"
   ]
  },
  {
   "cell_type": "code",
   "execution_count": null,
   "metadata": {
    "collapsed": false,
    "scrolled": true
   },
   "outputs": [
    {
     "name": "stdout",
     "output_type": "stream",
     "text": [
      "AccX is registed now\n",
      "Build Complete\n",
      "(254742,)\n",
      "windowData's num =15914\n",
      "SourceData's aborting data = 6\n",
      "window shape is (15914, 128, 1)\n",
      "hiden node = 16\n",
      "-edim=16-Window=128-Overlap=16-l1_reg=10e-5\n",
      "Train on 15914 samples, validate on 15914 samples\n",
      "Epoch 1/100\n",
      "0s - loss: -1.3250e+03 - val_loss: -1.4274e+03\n",
      "Epoch 2/100\n",
      "0s - loss: -1.4513e+03 - val_loss: -1.4694e+03\n",
      "Epoch 3/100\n",
      "0s - loss: -1.4828e+03 - val_loss: -1.4892e+03\n",
      "Epoch 4/100\n",
      "0s - loss: -1.5055e+03 - val_loss: -1.5071e+03\n",
      "Epoch 5/100\n",
      "0s - loss: -1.5253e+03 - val_loss: -1.5352e+03\n",
      "Epoch 6/100\n",
      "0s - loss: -1.5435e+03 - val_loss: -1.5528e+03\n",
      "Epoch 7/100\n",
      "0s - loss: -1.5538e+03 - val_loss: -1.5546e+03\n",
      "Epoch 8/100\n",
      "0s - loss: -1.5532e+03 - val_loss: -1.5514e+03\n",
      "Epoch 9/100\n",
      "0s - loss: -1.5510e+03 - val_loss: -1.5519e+03\n",
      "Epoch 10/100\n",
      "0s - loss: -1.5528e+03 - val_loss: -1.5533e+03\n",
      "Epoch 11/100\n",
      "0s - loss: -1.5532e+03 - val_loss: -1.5530e+03\n",
      "Epoch 12/100\n",
      "0s - loss: -1.5533e+03 - val_loss: -1.5537e+03\n",
      "Epoch 13/100\n",
      "0s - loss: -1.5535e+03 - val_loss: -1.5537e+03\n"
     ]
    },
    {
     "name": "stderr",
     "output_type": "stream",
     "text": [
      "/home/takeyama/.pyenv/versions/2.7.11/envs/takeyama/lib/python2.7/site-packages/keras/backend/theano_backend.py:558: UserWarning: theano.function was asked to create a function computing outputs given certain inputs, but the provided input variable at index 1 is not part of the computational graph needed to compute the outputs: keras_learning_phase.\n",
      "To make this warning into an error, you can pass the parameter on_unused_input='raise' to theano.function. To disable it completely, use on_unused_input='ignore'.\n",
      "  **kwargs)\n"
     ]
    },
    {
     "data": {
      "image/png": "[encoded data removed]",
      "text/plain": [
       "<matplotlib.figure.Figure at 0x7f33e2e78950>"
      ]
     },
     "metadata": {},
     "output_type": "display_data"
    },
    {
     "name": "stdout",
     "output_type": "stream",
     "text": [
      "AccX is registed now\n",
      "Build Complete\n",
      "(254742,)\n",
      "windowData's num =7957\n",
      "SourceData's aborting data = 22\n",
      "window shape is (7957, 128, 1)\n",
      "hiden node = 16\n",
      "-edim=16-Window=128-Overlap=32-l1_reg=10e-5\n",
      "Train on 7957 samples, validate on 7957 samples\n",
      "Epoch 1/100\n",
      "0s - loss: -1.2144e+03 - val_loss: -1.3120e+03\n",
      "Epoch 2/100\n",
      "0s - loss: -1.3416e+03 - val_loss: -1.3797e+03\n",
      "Epoch 3/100\n",
      "0s - loss: -1.3956e+03 - val_loss: -1.3979e+03\n",
      "Epoch 4/100\n",
      "0s - loss: -1.4042e+03 - val_loss: -1.4197e+03\n",
      "Epoch 5/100\n",
      "0s - loss: -1.4241e+03 - val_loss: -1.4389e+03\n",
      "Epoch 6/100\n",
      "0s - loss: -1.4443e+03 - val_loss: -1.4492e+03\n",
      "Epoch 7/100\n",
      "0s - loss: -1.4475e+03 - val_loss: -1.4509e+03\n",
      "Epoch 8/100\n",
      "0s - loss: -1.4583e+03 - val_loss: -1.4598e+03\n",
      "Epoch 9/100\n",
      "0s - loss: -1.4674e+03 - val_loss: -1.4795e+03\n",
      "Epoch 10/100\n",
      "0s - loss: -1.4806e+03 - val_loss: -1.4821e+03\n",
      "Epoch 11/100\n",
      "0s - loss: -1.4916e+03 - val_loss: -1.5021e+03\n",
      "Epoch 12/100\n",
      "0s - loss: -1.5016e+03 - val_loss: -1.5033e+03\n",
      "Epoch 13/100\n",
      "0s - loss: -1.5071e+03 - val_loss: -1.5141e+03\n",
      "Epoch 14/100\n",
      "0s - loss: -1.5227e+03 - val_loss: -1.5253e+03\n",
      "Epoch 15/100\n",
      "0s - loss: -1.5343e+03 - val_loss: -1.5358e+03\n",
      "Epoch 16/100\n",
      "0s - loss: -1.5357e+03 - val_loss: -1.5359e+03\n",
      "Epoch 17/100\n",
      "0s - loss: -1.5416e+03 - val_loss: -1.5461e+03\n",
      "Epoch 18/100\n",
      "0s - loss: -1.5458e+03 - val_loss: -1.5546e+03\n",
      "Epoch 19/100\n",
      "0s - loss: -1.5548e+03 - val_loss: -1.5530e+03\n",
      "Epoch 20/100\n",
      "0s - loss: -1.5510e+03 - val_loss: -1.5515e+03\n",
      "Epoch 21/100\n",
      "0s - loss: -1.5509e+03 - val_loss: -1.5513e+03\n",
      "Epoch 22/100\n",
      "0s - loss: -1.5516e+03 - val_loss: -1.5505e+03\n",
      "Epoch 23/100\n",
      "0s - loss: -1.5509e+03 - val_loss: -1.5521e+03\n",
      "Epoch 24/100\n",
      "0s - loss: -1.5514e+03 - val_loss: -1.5527e+03\n"
     ]
    },
    {
     "data": {
      "image/png": "[encoded data removed]",
      "text/plain": [
       "<matplotlib.figure.Figure at 0x7f3422785ed0>"
      ]
     },
     "metadata": {},
     "output_type": "display_data"
    },
    {
     "name": "stdout",
     "output_type": "stream",
     "text": [
      "AccX is registed now\n",
      "Build Complete\n",
      "(254742,)\n",
      "windowData's num =3979\n",
      "SourceData's aborting data = 22\n",
      "window shape is (3979, 128, 1)\n",
      "hiden node = 16\n",
      "-edim=16-Window=128-Overlap=64-l1_reg=10e-5\n",
      "Train on 3979 samples, validate on 3979 samples\n",
      "Epoch 1/100\n",
      "0s - loss: -1.1104e+03 - val_loss: -1.2094e+03\n",
      "Epoch 2/100\n",
      "0s - loss: -1.2588e+03 - val_loss: -1.2841e+03\n",
      "Epoch 3/100\n",
      "0s - loss: -1.3130e+03 - val_loss: -1.3483e+03\n",
      "Epoch 4/100\n",
      "0s - loss: -1.3600e+03 - val_loss: -1.3804e+03\n",
      "Epoch 5/100\n",
      "0s - loss: -1.3909e+03 - val_loss: -1.3972e+03\n",
      "Epoch 6/100\n",
      "0s - loss: -1.4052e+03 - val_loss: -1.4088e+03\n",
      "Epoch 7/100\n",
      "0s - loss: -1.4157e+03 - val_loss: -1.4198e+03\n",
      "Epoch 8/100\n",
      "0s - loss: -1.4273e+03 - val_loss: -1.4294e+03\n",
      "Epoch 9/100\n",
      "0s - loss: -1.4395e+03 - val_loss: -1.4486e+03\n",
      "Epoch 10/100\n",
      "0s - loss: -1.4494e+03 - val_loss: -1.4496e+03\n",
      "Epoch 11/100\n",
      "0s - loss: -1.4496e+03 - val_loss: -1.4505e+03\n",
      "Epoch 12/100\n",
      "0s - loss: -1.4520e+03 - val_loss: -1.4590e+03\n",
      "Epoch 13/100\n",
      "0s - loss: -1.4568e+03 - val_loss: -1.4538e+03\n",
      "Epoch 14/100\n",
      "0s - loss: -1.4652e+03 - val_loss: -1.4719e+03\n",
      "Epoch 15/100\n",
      "0s - loss: -1.4802e+03 - val_loss: -1.4818e+03\n",
      "Epoch 16/100\n",
      "0s - loss: -1.4859e+03 - val_loss: -1.4921e+03\n",
      "Epoch 17/100\n",
      "0s - loss: -1.4925e+03 - val_loss: -1.4933e+03\n",
      "Epoch 18/100\n",
      "0s - loss: -1.5012e+03 - val_loss: -1.5035e+03\n",
      "Epoch 19/100\n",
      "0s - loss: -1.5117e+03 - val_loss: -1.5230e+03\n",
      "Epoch 20/100\n",
      "0s - loss: -1.5229e+03 - val_loss: -1.5229e+03\n",
      "Epoch 21/100\n",
      "0s - loss: -1.5236e+03 - val_loss: -1.5239e+03\n",
      "Epoch 22/100\n",
      "0s - loss: -1.5315e+03 - val_loss: -1.5345e+03\n",
      "Epoch 23/100\n",
      "0s - loss: -1.5337e+03 - val_loss: -1.5343e+03\n",
      "Epoch 24/100\n",
      "0s - loss: -1.5383e+03 - val_loss: -1.5353e+03\n",
      "Epoch 25/100\n",
      "0s - loss: -1.5473e+03 - val_loss: -1.5545e+03\n",
      "Epoch 26/100\n",
      "0s - loss: -1.5547e+03 - val_loss: -1.5550e+03\n",
      "Epoch 27/100\n",
      "0s - loss: -1.5554e+03 - val_loss: -1.5555e+03\n",
      "Epoch 28/100\n",
      "0s - loss: -1.5557e+03 - val_loss: -1.5561e+03\n",
      "Epoch 29/100\n",
      "0s - loss: -1.5565e+03 - val_loss: -1.5568e+03\n",
      "Epoch 30/100\n",
      "0s - loss: -1.5566e+03 - val_loss: -1.5568e+03\n",
      "Epoch 31/100\n",
      "0s - loss: -1.5571e+03 - val_loss: -1.5574e+03\n",
      "Epoch 32/100\n",
      "0s - loss: -1.5568e+03 - val_loss: -1.5568e+03\n",
      "Epoch 33/100\n",
      "0s - loss: -1.5568e+03 - val_loss: -1.5570e+03\n",
      "Epoch 34/100\n",
      "0s - loss: -1.5556e+03 - val_loss: -1.5562e+03\n",
      "Epoch 35/100\n",
      "0s - loss: -1.5539e+03 - val_loss: -1.5541e+03\n",
      "Epoch 36/100\n",
      "0s - loss: -1.5522e+03 - val_loss: -1.5520e+03\n",
      "Epoch 37/100\n",
      "0s - loss: -1.5519e+03 - val_loss: -1.5518e+03\n"
     ]
    },
    {
     "data": {
      "image/png": "[encoded data removed]",
      "text/plain": [
       "<matplotlib.figure.Figure at 0x7f33e1c5e390>"
      ]
     },
     "metadata": {},
     "output_type": "display_data"
    },
    {
     "name": "stdout",
     "output_type": "stream",
     "text": [
      "AccX is registed now\n",
      "Build Complete\n",
      "(254742,)\n",
      "windowData's num =1990\n",
      "SourceData's aborting data = 22\n",
      "window shape is (1990, 128, 1)\n",
      "hiden node = 16\n",
      "-edim=16-Window=128-Overlap=128-l1_reg=10e-5\n",
      "Train on 1990 samples, validate on 1990 samples\n",
      "Epoch 1/100\n",
      "0s - loss: -1.1482e+03 - val_loss: -1.2426e+03\n",
      "Epoch 2/100\n",
      "0s - loss: -1.2567e+03 - val_loss: -1.2748e+03\n",
      "Epoch 3/100\n",
      "0s - loss: -1.3027e+03 - val_loss: -1.3395e+03\n",
      "Epoch 4/100\n",
      "0s - loss: -1.3423e+03 - val_loss: -1.3506e+03\n",
      "Epoch 5/100\n",
      "0s - loss: -1.3554e+03 - val_loss: -1.3689e+03\n",
      "Epoch 6/100\n",
      "0s - loss: -1.3731e+03 - val_loss: -1.3790e+03\n",
      "Epoch 7/100\n",
      "0s - loss: -1.3781e+03 - val_loss: -1.3802e+03\n",
      "Epoch 8/100\n",
      "0s - loss: -1.3816e+03 - val_loss: -1.3900e+03\n",
      "Epoch 9/100\n",
      "0s - loss: -1.3906e+03 - val_loss: -1.4002e+03\n",
      "Epoch 10/100\n",
      "0s - loss: -1.4112e+03 - val_loss: -1.4286e+03\n",
      "Epoch 11/100\n",
      "0s - loss: -1.4293e+03 - val_loss: -1.4301e+03\n",
      "Epoch 12/100\n",
      "0s - loss: -1.4379e+03 - val_loss: -1.4398e+03\n",
      "Epoch 13/100\n",
      "0s - loss: -1.4469e+03 - val_loss: -1.4495e+03\n",
      "Epoch 14/100\n",
      "0s - loss: -1.4518e+03 - val_loss: -1.4496e+03\n",
      "Epoch 15/100\n",
      "0s - loss: -1.4561e+03 - val_loss: -1.4604e+03\n",
      "Epoch 16/100\n",
      "0s - loss: -1.4640e+03 - val_loss: -1.4693e+03\n",
      "Epoch 17/100\n",
      "0s - loss: -1.4692e+03 - val_loss: -1.4696e+03\n",
      "Epoch 18/100\n",
      "0s - loss: -1.4698e+03 - val_loss: -1.4700e+03\n",
      "Epoch 19/100\n",
      "0s - loss: -1.4698e+03 - val_loss: -1.4702e+03\n",
      "Epoch 20/100\n",
      "0s - loss: -1.4703e+03 - val_loss: -1.4697e+03\n",
      "Epoch 21/100\n",
      "0s - loss: -1.4704e+03 - val_loss: -1.4707e+03\n",
      "Epoch 22/100\n",
      "0s - loss: -1.4707e+03 - val_loss: -1.4710e+03\n",
      "Epoch 23/100\n",
      "0s - loss: -1.4700e+03 - val_loss: -1.4691e+03\n",
      "Epoch 24/100\n",
      "0s - loss: -1.4700e+03 - val_loss: -1.4709e+03\n",
      "Epoch 25/100\n",
      "0s - loss: -1.4727e+03 - val_loss: -1.4809e+03\n",
      "Epoch 26/100\n",
      "0s - loss: -1.4809e+03 - val_loss: -1.4812e+03\n",
      "Epoch 27/100\n",
      "0s - loss: -1.4816e+03 - val_loss: -1.4812e+03\n",
      "Epoch 28/100\n"
     ]
    }
   ],
   "source": [
    "# loop windowWidth\n",
    "for SampleNum in WindowWidth:\n",
    "    for Overlap in OverlapArray:\n",
    "\n",
    "        w=window.Window()\n",
    "        w.SetData(Axis,dic[Axis])\n",
    "        wind=w.Compile(windowWidth=SampleNum,overlapNum=Overlap)\n",
    "        windoW=wind.reshape((len(wind),np.prod(wind.shape[1:])))\n",
    "    \n",
    "        print \"hiden node = \"+str(encoding_dim)\n",
    "        CommonName='-edim='+str(encoding_dim)+'-Window='+str(SampleNum)+'-Overlap='+str(Overlap)+'-'+\"l1_reg=10e-5\"\n",
    "        print CommonName\n",
    "        SaveFileNameEncord=DataName+'_encoded'+CommonName\n",
    "        SaveFileNameDecord=DataName+'_decoded'+CommonName\n",
    "        SaveFileNameNet=DataName+'_net'+CommonName\n",
    "        SaveFileNameTrain=DataName+'_train'+CommonName\n",
    "        SaveFileNameTest=DataName+'_test'+CommonName\n",
    "        SaveFileNameGlaph=GlaphDataPath+DataName+CommonName+'_loss_val_loss.png'\n",
    "\n",
    "        window_test=windoW\n",
    "        window_train=windoW\n",
    "        processing.SaveDicDataFromFileNPZ(WindowDataPath,SaveFileNameTrain,window_test)\n",
    "        processing.SaveDicDataFromFileNPZ(WindowDataPath,SaveFileNameTest,window_test)\n",
    "        shapeNum=windoW.shape[1]\n",
    "\n",
    "        # this is our input placeholder\n",
    "        input_img = Input(shape=(shapeNum,))\n",
    "        # \"encoded\" is the encoded representation of the input\n",
    "        encoded = Dense(encoding_dim, activation='tanh',\n",
    "                    W_regularizer=regularizers.WeightRegularizer(l1=10e-5,l2=0.0))(input_img)\n",
    "        # \"decoded\" is the lossy reconstruction of the input\n",
    "        decoded = Dense(shapeNum, activation='linear')(encoded)\n",
    "\n",
    "        # this model maps an input to its reconstruction\n",
    "        autoencoder = Model(input=input_img, output=decoded)\n",
    "\n",
    "        # this model maps an input to its encoded representation\n",
    "        encoder = Model(input=input_img, output=encoded)\n",
    "\n",
    "        # create a placeholder for an encoded (32-dimensional) input\n",
    "        encoded_input = Input(shape=(encoding_dim,))\n",
    "        # retrieve the last layer of the autoencoder model\n",
    "        decoder_layer = autoencoder.layers[-1]\n",
    "        # create the decoder model\n",
    "        decoder = Model(input=encoded_input, output=decoder_layer(encoded_input))\n",
    "        \n",
    "        #autoencoder.compile(optimizer='adam', loss='mse')\n",
    "        autoencoder.compile(optimizer='adam', loss='categorical_crossentropy')\n",
    "        \n",
    "        plot(autoencoder,  to_file=StudyDataModelPicPath+SaveFileNameNet+'.png')\n",
    "\n",
    "        early_stopping = EarlyStopping(monitor='val_loss', patience=5)\n",
    "        \n",
    "        hist = autoencoder.fit(window_train, window_train,\n",
    "                        nb_epoch=100,\n",
    "                        verbose=2,\n",
    "                        batch_size=shapeNum/8,\n",
    "                        shuffle=True,\n",
    "                        validation_data=(window_test, window_test)\n",
    "                        ,callbacks=[early_stopping]\n",
    "                              )\n",
    "        time.sleep(0.1)\n",
    "        encoded_imgs = encoder.predict(window_test)\n",
    "        decoded_imgs = decoder.predict(encoded_imgs)\n",
    "\n",
    "        processing.SaveDicDataFromFileNPZ(StudyDataPath,SaveFileNameEncord,encoded_imgs)\n",
    "        processing.SaveDicDataFromFileNPZ(StudyDataPath,SaveFileNameDecord,decoded_imgs)\n",
    "\n",
    "        # save model and wights\n",
    "        json_string = encoder.to_json()\n",
    "        open(StudyDataPath+SaveFileNameEncord+'.json', 'w').write(json_string)\n",
    "        encoder.save_weights(StudyDataPath+SaveFileNameEncord+'_weights.h5',overwrite=True)\n",
    "\n",
    "        json_string = decoder.to_json()\n",
    "        open(StudyDataPath+SaveFileNameDecord+'.json', 'w').write(json_string)\n",
    "        decoder.save_weights(StudyDataPath+SaveFileNameDecord+'_weights.h5',overwrite=True)\n",
    "\n",
    "        json_string = autoencoder.to_json()\n",
    "        open(StudyDataPath+SaveFileNameNet+'.json', 'w').write(json_string)\n",
    "        autoencoder.save_weights(StudyDataPath+SaveFileNameNet+'_weights.h5',overwrite=True)\n",
    "\n",
    "        # plot loss\n",
    "        loss = hist.history['loss']\n",
    "        val_loss = hist.history['val_loss']\n",
    "\n",
    "        nb_epoch = len(loss)\n",
    "        plt.plot(range(nb_epoch), loss, marker='.', label='loss')\n",
    "        plt.plot(range(nb_epoch), val_loss, marker='.', label='val_loss')\n",
    "        plt.legend(loc='best', fontsize=10)\n",
    "        plt.grid()\n",
    "        plt.xlabel('epoch')\n",
    "        plt.ylabel('loss')\n",
    "        plt.savefig(SaveFileNameGlaph)\n",
    "        plt.show()"
   ]
  },
  {
   "cell_type": "code",
   "execution_count": null,
   "metadata": {
    "collapsed": true
   },
   "outputs": [],
   "source": [
    "print \"finish\""
   ]
  },
  {
   "cell_type": "code",
   "execution_count": null,
   "metadata": {
    "collapsed": true
   },
   "outputs": [],
   "source": []
  }
 ],
 "metadata": {
  "kernelspec": {
   "display_name": "Python 2",
   "language": "python",
   "name": "python2"
  },
  "language_info": {
   "codemirror_mode": {
    "name": "ipython",
    "version": 2
   },
   "file_extension": ".py",
   "mimetype": "text/x-python",
   "name": "python",
   "nbconvert_exporter": "python",
   "pygments_lexer": "ipython2",
   "version": "2.7.11"
  }
 },
 "nbformat": 4,
 "nbformat_minor": 0
}
