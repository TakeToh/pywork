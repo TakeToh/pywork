{
 "cells": [
  {
   "cell_type": "code",
   "execution_count": 1,
   "metadata": {
    "collapsed": true
   },
   "outputs": [],
   "source": [
    "import numpy as np\n",
    "import pandas as pd\n",
    "from scipy import fftpack\n",
    "from scipy import signal\n",
    "import time\n",
    "import os\n",
    "import matplotlib.pyplot as plt\n",
    "import pylab\n",
    "import pickle\n",
    "import copy\n",
    "import processing\n",
    "import matplotlib.animation as animation\n",
    "%matplotlib inline\n",
    "\n",
    "WORKSPACE_PATH = '/home/takeyama/pywork/ipython/2016-07-04'\n",
    "RawDataPath=WORKSPACE_PATH+'/raw/'\n",
    "StudyDataPath=WORKSPACE_PATH+'/study/'\n",
    "GlaphDataPath=WORKSPACE_PATH+'/glaph/'\n",
    "GlaphDataFftPath=WORKSPACE_PATH+'/fft/'\n",
    "WindowDataPath=WORKSPACE_PATH+'/window/'\n",
    "StudyDataModelPicPath=StudyDataPath+'modelPic/'"
   ]
  },
  {
   "cell_type": "code",
   "execution_count": 2,
   "metadata": {
    "collapsed": false
   },
   "outputs": [
    {
     "name": "stderr",
     "output_type": "stream",
     "text": [
      "Using Theano backend.\n",
      "Using gpu device 0: GeForce GTX 970 (CNMeM is disabled, cuDNN 4007)\n"
     ]
    }
   ],
   "source": [
    "from keras.models import Sequential\n",
    "from keras.datasets import cifar10\n",
    "from keras.layers import Dense, Activation, Flatten\n",
    "from keras.optimizers import Adadelta\n",
    "from keras.utils import np_utils\n",
    "from keras.layers.convolutional import Convolution2D, MaxPooling2D\n",
    "from keras.utils.visualize_util import model_to_dot, plot\n",
    "from keras import backend as K\n",
    "import numpy as np\n",
    "\n",
    "from matplotlib import pyplot as plt\n",
    "import matplotlib.image as mpimg\n",
    "%matplotlib inline"
   ]
  },
  {
   "cell_type": "code",
   "execution_count": 3,
   "metadata": {
    "collapsed": true
   },
   "outputs": [],
   "source": [
    "\"\"\"\n",
    "    encordData,decordData\n",
    "    firstNum:\n",
    "    goalNum:\n",
    "    commonLabel:共通名前\n",
    "\"\"\"\n",
    "def MakeGlaph(encordData,decordData,firstNum,goalNum,commonLabel):\n",
    "    try:\n",
    "        eRow, eCol=encordData.shape\n",
    "        dRow, dCol=decordData.shape\n",
    "    except ValueError:\n",
    "        eRow=1\n",
    "        dRow=1\n",
    "        eCol = len(encordData)\n",
    "        dCol = len(decordData)\n",
    "        \n",
    "    if (eRow!=dRow) | (eCol!=dCol):\n",
    "        print 'check encordData & decordData'\n",
    "        return -1\n",
    "        \n",
    "    start = firstNum\n",
    "    goal=goalNum\n",
    "    print str(start)+' is start '+str(goal)+' is goal'\n",
    "    dataE = encordData.reshape(eRow*eCol,1)[start:goal]\n",
    "    dataD = decordData.reshape(dRow*dCol,1)[start:goal]\n",
    "    plt.figure(figsize=(160, 90))\n",
    "    plt.plot(range(0,len(dataE)),dataE,'--r',label=\"Encoded\")\n",
    "    plt.plot(range(0,len(dataD)),dataD,'b',label=\"Decoded\")\n",
    "    plt.legend(loc='best')\n",
    "    plt.title(str(start)+\"-\"+str(goal))\n",
    "    plt.savefig(commonLabel+'-'+str(start)+\"-\"+str(goal)+'-'+'glaph')\n",
    "    plt.close()"
   ]
  },
  {
   "cell_type": "markdown",
   "metadata": {},
   "source": [
    "辞書型の変数を読み込む"
   ]
  },
  {
   "cell_type": "code",
   "execution_count": 4,
   "metadata": {
    "collapsed": true
   },
   "outputs": [],
   "source": [
    "dic1=processing.LoadDicDataFromFileNPZ(RawDataPath+\"MemSensor1\")\n",
    "dic2=processing.LoadDicDataFromFileNPZ(RawDataPath+\"MemSensor2\")\n",
    "dic3=processing.LoadDicDataFromFileNPZ(RawDataPath+\"MemSensor3\")\n",
    "dic4=processing.LoadDicDataFromFileNPZ(RawDataPath+\"MemSensor4\")\n",
    "dic5=processing.LoadDicDataFromFileNPZ(RawDataPath+\"MemSensor5\")\n",
    "dic6=processing.LoadDicDataFromFileNPZ(RawDataPath+\"MemSensor6\")\n",
    "dic7=processing.LoadDicDataFromFileNPZ(RawDataPath+\"MemSensor7\")"
   ]
  },
  {
   "cell_type": "markdown",
   "metadata": {},
   "source": [
    "windowにしたものを読み込む"
   ]
  },
  {
   "cell_type": "code",
   "execution_count": 5,
   "metadata": {
    "collapsed": true
   },
   "outputs": [],
   "source": [
    "def CalcFFT(self,samp,overlap=0.5):\n",
    "        start = time.time()\n",
    "        fft_data = np.array([])\n",
    "        \n",
    "        for n,f in zip( self._columns,self._fft_col):\n",
    "            print 'start'+n+'->'+f\n",
    "            sw = self._sliding_window(n,samp,overlap)\n",
    "            while True:\n",
    "                try:\n",
    "                    d=sw.next()\n",
    "                    fft_data = np.append(fft_data, fftpack.fft(d)[1:(samp/2)+1] )   # fftの直流成分を除くsample/2の\n",
    "                except StopIteration:\n",
    "                    print 'CalcFFTStopIteration'\n",
    "                    fft_data = fft_data.reshape(len(fft_data)/(samp/2),(samp/2) )\n",
    "                    self._FFTData[f] = fft_data\n",
    "                    np.savez(p_path+'fft/'+self.ClassName+'_'+str(f)+'_'+str(samp),self._FFTData[f])\n",
    "                    break   \n",
    "        elapsed_time = time.time() - start\n",
    "        print (\"elapsed_time:{0}\".format(elapsed_time)) + \"[sec]\""
   ]
  },
  {
   "cell_type": "code",
   "execution_count": 6,
   "metadata": {
    "collapsed": true
   },
   "outputs": [],
   "source": [
    "encord=processing.LoadDicDataFromFileNPZ('window/sensor7_AccX_train.npz')\n",
    "decord=processing.LoadDicDataFromFileNPZ('study/sensor7_AccX_decoded.npz')\n",
    "\n",
    "fftDataE = np.array([])\n",
    "fftDataD = np.array([])\n",
    "\n",
    "for i in range(len(encord)):\n",
    "        fftDataE=np.append(fftDataE, fftpack.fft(encord[i])[1:5])\n",
    "        fftDataD=np.append(fftDataD, fftpack.fft(encord[i])[1:5])\n",
    "\n",
    "fftDataE = fftDataE.reshape(len(encord),4)\n",
    "fftDataD = fftDataD.reshape(len(encord),4)"
   ]
  },
  {
   "cell_type": "code",
   "execution_count": 7,
   "metadata": {
    "collapsed": false
   },
   "outputs": [
    {
     "name": "stdout",
     "output_type": "stream",
     "text": [
      "(15921, 4)\n",
      "(15921, 4)\n"
     ]
    }
   ],
   "source": [
    "print fftDataE.shape\n",
    "print fftDataD.shape"
   ]
  },
  {
   "cell_type": "code",
   "execution_count": 8,
   "metadata": {
    "collapsed": false
   },
   "outputs": [],
   "source": [
    "PowerE = np.imag(fftDataE)**2+np.real(fftDataE)**2\n",
    "PowerD = np.imag(fftDataD)**2+np.real(fftDataD)**2"
   ]
  },
  {
   "cell_type": "code",
   "execution_count": 9,
   "metadata": {
    "collapsed": false
   },
   "outputs": [
    {
     "data": {
      "text/plain": [
       "(15921, 4)"
      ]
     },
     "execution_count": 9,
     "metadata": {},
     "output_type": "execute_result"
    }
   ],
   "source": [
    "PowerE.shape"
   ]
  },
  {
   "cell_type": "code",
   "execution_count": 10,
   "metadata": {
    "collapsed": false
   },
   "outputs": [
    {
     "name": "stdout",
     "output_type": "stream",
     "text": [
      "0 is start 15921 is goal\n",
      "0 is start 15921 is goal\n",
      "0 is start 15921 is goal\n",
      "0 is start 15921 is goal\n",
      "0 is start 15921 is goal\n",
      "0 is start 15921 is goal\n",
      "0 is start 15921 is goal\n",
      "0 is start 15921 is goal\n",
      "0 is start 15921 is goal\n",
      "0 is start 15921 is goal\n",
      "0 is start 15921 is goal\n",
      "0 is start 15921 is goal\n"
     ]
    }
   ],
   "source": [
    "Sensor ='sensor1'\n",
    "encord=processing.LoadDicDataFromFileNPZ('window/'+Sensor+'_AccX_train.npz')\n",
    "decord=processing.LoadDicDataFromFileNPZ('study/'+Sensor+'_AccX_decoded.npz')\n",
    "\n",
    "fftDataE = np.array([])\n",
    "fftDataD = np.array([])\n",
    "\n",
    "for i in range(len(encord)):\n",
    "        fftDataE=np.append(fftDataE, fftpack.fft(encord[i])[1:len(encord[i])/2+1])\n",
    "        fftDataD=np.append(fftDataD, fftpack.fft(decord[i])[1:len(encord[i])/2+1])\n",
    "\n",
    "fftDataE = fftDataE.reshape(len(encord),len(encord[0])/2)\n",
    "fftDataD = fftDataD.reshape(len(encord),len(encord[0])/2)\n",
    "\n",
    "for i in range(4):\n",
    "    MakeGlaph(np.imag(fftDataE[:,i]), np.imag(fftDataD[:,i]),\n",
    "              0,len(fftDataD),GlaphDataFftPath+Sensor+'-'+str(i)+'-fft-image-AccX')\n",
    "    \n",
    "for i in range(4):\n",
    "    MakeGlaph(np.real(fftDataE[:,i]), np.real(fftDataD[:,i]),\n",
    "              0,len(fftDataD),GlaphDataFftPath+Sensor+'-'+str(i)+'-fft-real-AccX')\n",
    "    \n",
    "PowerE = np.imag(fftDataE)**2+np.real(fftDataE)**2\n",
    "PowerD = np.imag(fftDataD)**2+np.real(fftDataD)**2\n",
    "\n",
    "for i in range(4):\n",
    "    MakeGlaph(PowerE[:,i], PowerD[:,i],0,len(PowerE),GlaphDataFftPath+Sensor+'-'+str(i)+'-fft-power-AccX')"
   ]
  },
  {
   "cell_type": "code",
   "execution_count": 11,
   "metadata": {
    "collapsed": false
   },
   "outputs": [
    {
     "name": "stdout",
     "output_type": "stream",
     "text": [
      "0 is start 15921 is goal\n",
      "0 is start 15921 is goal\n",
      "0 is start 15921 is goal\n",
      "0 is start 15921 is goal\n",
      "0 is start 15921 is goal\n",
      "0 is start 15921 is goal\n",
      "0 is start 15921 is goal\n",
      "0 is start 15921 is goal\n",
      "0 is start 15921 is goal\n",
      "0 is start 15921 is goal\n",
      "0 is start 15921 is goal\n",
      "0 is start 15921 is goal\n"
     ]
    }
   ],
   "source": [
    "Sensor ='sensor2'\n",
    "encord=processing.LoadDicDataFromFileNPZ('window/'+Sensor+'_AccX_train.npz')\n",
    "decord=processing.LoadDicDataFromFileNPZ('study/'+Sensor+'_AccX_decoded.npz')\n",
    "\n",
    "fftDataE = np.array([])\n",
    "fftDataD = np.array([])\n",
    "\n",
    "for i in range(len(encord)):\n",
    "        fftDataE=np.append(fftDataE, fftpack.fft(encord[i])[1:len(encord[i])/2+1])\n",
    "        fftDataD=np.append(fftDataD, fftpack.fft(decord[i])[1:len(encord[i])/2+1])\n",
    "\n",
    "fftDataE = fftDataE.reshape(len(encord),len(encord[0])/2)\n",
    "fftDataD = fftDataD.reshape(len(encord),len(encord[0])/2)\n",
    "\n",
    "for i in range(4):\n",
    "    MakeGlaph(np.imag(fftDataE[:,i]), np.imag(fftDataD[:,i]),\n",
    "              0,len(fftDataD),GlaphDataFftPath+Sensor+'-'+str(i)+'-fft-image-AccX')\n",
    "    \n",
    "for i in range(4):\n",
    "    MakeGlaph(np.real(fftDataE[:,i]), np.real(fftDataD[:,i]),\n",
    "              0,len(fftDataD),GlaphDataFftPath+Sensor+'-'+str(i)+'-fft-real-AccX')\n",
    "    \n",
    "PowerE = np.imag(fftDataE)**2+np.real(fftDataE)**2\n",
    "PowerD = np.imag(fftDataD)**2+np.real(fftDataD)**2\n",
    "\n",
    "for i in range(4):\n",
    "    MakeGlaph(PowerE[:,i], PowerD[:,i],0,len(PowerE),GlaphDataFftPath+Sensor+'-'+str(i)+'-fft-power-AccX')"
   ]
  },
  {
   "cell_type": "code",
   "execution_count": 12,
   "metadata": {
    "collapsed": false
   },
   "outputs": [
    {
     "name": "stdout",
     "output_type": "stream",
     "text": [
      "0 is start 15921 is goal\n",
      "0 is start 15921 is goal\n",
      "0 is start 15921 is goal\n",
      "0 is start 15921 is goal\n",
      "0 is start 15921 is goal\n",
      "0 is start 15921 is goal\n",
      "0 is start 15921 is goal\n",
      "0 is start 15921 is goal\n",
      "0 is start 15921 is goal\n",
      "0 is start 15921 is goal\n",
      "0 is start 15921 is goal\n",
      "0 is start 15921 is goal\n"
     ]
    }
   ],
   "source": [
    "Sensor ='sensor3'\n",
    "encord=processing.LoadDicDataFromFileNPZ('window/'+Sensor+'_AccX_train.npz')\n",
    "decord=processing.LoadDicDataFromFileNPZ('study/'+Sensor+'_AccX_decoded.npz')\n",
    "\n",
    "fftDataE = np.array([])\n",
    "fftDataD = np.array([])\n",
    "\n",
    "for i in range(len(encord)):\n",
    "        fftDataE=np.append(fftDataE, fftpack.fft(encord[i])[1:len(encord[i])/2+1])\n",
    "        fftDataD=np.append(fftDataD, fftpack.fft(decord[i])[1:len(encord[i])/2+1])\n",
    "\n",
    "fftDataE = fftDataE.reshape(len(encord),len(encord[0])/2)\n",
    "fftDataD = fftDataD.reshape(len(encord),len(encord[0])/2)\n",
    "\n",
    "for i in range(4):\n",
    "    MakeGlaph(np.imag(fftDataE[:,i]), np.imag(fftDataD[:,i]),\n",
    "              0,len(fftDataD),GlaphDataFftPath+Sensor+'-'+str(i)+'-fft-image-AccX')\n",
    "    \n",
    "for i in range(4):\n",
    "    MakeGlaph(np.real(fftDataE[:,i]), np.real(fftDataD[:,i]),\n",
    "              0,len(fftDataD),GlaphDataFftPath+Sensor+'-'+str(i)+'-fft-real-AccX')\n",
    "    \n",
    "PowerE = np.imag(fftDataE)**2+np.real(fftDataE)**2\n",
    "PowerD = np.imag(fftDataD)**2+np.real(fftDataD)**2\n",
    "\n",
    "for i in range(4):\n",
    "    MakeGlaph(PowerE[:,i], PowerD[:,i],0,len(PowerE),GlaphDataFftPath+Sensor+'-'+str(i)+'-fft-power-AccX')"
   ]
  },
  {
   "cell_type": "code",
   "execution_count": 13,
   "metadata": {
    "collapsed": false
   },
   "outputs": [
    {
     "name": "stdout",
     "output_type": "stream",
     "text": [
      "0 is start 15921 is goal\n",
      "0 is start 15921 is goal\n",
      "0 is start 15921 is goal\n",
      "0 is start 15921 is goal\n",
      "0 is start 15921 is goal\n",
      "0 is start 15921 is goal\n",
      "0 is start 15921 is goal\n",
      "0 is start 15921 is goal\n",
      "0 is start 15921 is goal\n",
      "0 is start 15921 is goal\n",
      "0 is start 15921 is goal\n",
      "0 is start 15921 is goal\n"
     ]
    }
   ],
   "source": [
    "Sensor ='sensor4'\n",
    "encord=processing.LoadDicDataFromFileNPZ('window/'+Sensor+'_AccX_train.npz')\n",
    "decord=processing.LoadDicDataFromFileNPZ('study/'+Sensor+'_AccX_decoded.npz')\n",
    "\n",
    "fftDataE = np.array([])\n",
    "fftDataD = np.array([])\n",
    "\n",
    "for i in range(len(encord)):\n",
    "        fftDataE=np.append(fftDataE, fftpack.fft(encord[i])[1:len(encord[i])/2+1])\n",
    "        fftDataD=np.append(fftDataD, fftpack.fft(decord[i])[1:len(encord[i])/2+1])\n",
    "\n",
    "fftDataE = fftDataE.reshape(len(encord),len(encord[0])/2)\n",
    "fftDataD = fftDataD.reshape(len(encord),len(encord[0])/2)\n",
    "\n",
    "for i in range(4):\n",
    "    MakeGlaph(np.imag(fftDataE[:,i]), np.imag(fftDataD[:,i]),\n",
    "              0,len(fftDataD),GlaphDataFftPath+Sensor+'-'+str(i)+'-fft-image-AccX')\n",
    "    \n",
    "for i in range(4):\n",
    "    MakeGlaph(np.real(fftDataE[:,i]), np.real(fftDataD[:,i]),\n",
    "              0,len(fftDataD),GlaphDataFftPath+Sensor+'-'+str(i)+'-fft-real-AccX')\n",
    "    \n",
    "PowerE = np.imag(fftDataE)**2+np.real(fftDataE)**2\n",
    "PowerD = np.imag(fftDataD)**2+np.real(fftDataD)**2\n",
    "\n",
    "for i in range(4):\n",
    "    MakeGlaph(PowerE[:,i], PowerD[:,i],0,len(PowerE),GlaphDataFftPath+Sensor+'-'+str(i)+'-fft-power-AccX')"
   ]
  },
  {
   "cell_type": "code",
   "execution_count": 14,
   "metadata": {
    "collapsed": false
   },
   "outputs": [
    {
     "name": "stdout",
     "output_type": "stream",
     "text": [
      "0 is start 15921 is goal\n",
      "0 is start 15921 is goal\n",
      "0 is start 15921 is goal\n",
      "0 is start 15921 is goal\n",
      "0 is start 15921 is goal\n",
      "0 is start 15921 is goal\n",
      "0 is start 15921 is goal\n",
      "0 is start 15921 is goal\n",
      "0 is start 15921 is goal\n",
      "0 is start 15921 is goal\n",
      "0 is start 15921 is goal\n",
      "0 is start 15921 is goal\n"
     ]
    }
   ],
   "source": [
    "Sensor ='sensor5'\n",
    "encord=processing.LoadDicDataFromFileNPZ('window/'+Sensor+'_AccX_train.npz')\n",
    "decord=processing.LoadDicDataFromFileNPZ('study/'+Sensor+'_AccX_decoded.npz')\n",
    "\n",
    "fftDataE = np.array([])\n",
    "fftDataD = np.array([])\n",
    "\n",
    "for i in range(len(encord)):\n",
    "        fftDataE=np.append(fftDataE, fftpack.fft(encord[i])[1:len(encord[i])/2+1])\n",
    "        fftDataD=np.append(fftDataD, fftpack.fft(decord[i])[1:len(encord[i])/2+1])\n",
    "\n",
    "fftDataE = fftDataE.reshape(len(encord),len(encord[0])/2)\n",
    "fftDataD = fftDataD.reshape(len(encord),len(encord[0])/2)\n",
    "\n",
    "for i in range(4):\n",
    "    MakeGlaph(np.imag(fftDataE[:,i]), np.imag(fftDataD[:,i]),\n",
    "              0,len(fftDataD),GlaphDataFftPath+Sensor+'-'+str(i)+'-fft-image-AccX')\n",
    "    \n",
    "for i in range(4):\n",
    "    MakeGlaph(np.real(fftDataE[:,i]), np.real(fftDataD[:,i]),\n",
    "              0,len(fftDataD),GlaphDataFftPath+Sensor+'-'+str(i)+'-fft-real-AccX')\n",
    "    \n",
    "PowerE = np.imag(fftDataE)**2+np.real(fftDataE)**2\n",
    "PowerD = np.imag(fftDataD)**2+np.real(fftDataD)**2\n",
    "\n",
    "for i in range(4):\n",
    "    MakeGlaph(PowerE[:,i], PowerD[:,i],0,len(PowerE),GlaphDataFftPath+Sensor+'-'+str(i)+'-fft-power-AccX')"
   ]
  },
  {
   "cell_type": "code",
   "execution_count": 15,
   "metadata": {
    "collapsed": false
   },
   "outputs": [
    {
     "name": "stdout",
     "output_type": "stream",
     "text": [
      "0 is start 15921 is goal\n",
      "0 is start 15921 is goal\n",
      "0 is start 15921 is goal\n",
      "0 is start 15921 is goal\n",
      "0 is start 15921 is goal\n",
      "0 is start 15921 is goal\n",
      "0 is start 15921 is goal\n",
      "0 is start 15921 is goal\n",
      "0 is start 15921 is goal\n",
      "0 is start 15921 is goal\n",
      "0 is start 15921 is goal\n",
      "0 is start 15921 is goal\n"
     ]
    }
   ],
   "source": [
    "Sensor ='sensor6'\n",
    "encord=processing.LoadDicDataFromFileNPZ('window/'+Sensor+'_AccX_train.npz')\n",
    "decord=processing.LoadDicDataFromFileNPZ('study/'+Sensor+'_AccX_decoded.npz')\n",
    "\n",
    "fftDataE = np.array([])\n",
    "fftDataD = np.array([])\n",
    "\n",
    "for i in range(len(encord)):\n",
    "        fftDataE=np.append(fftDataE, fftpack.fft(encord[i])[1:len(encord[i])/2+1])\n",
    "        fftDataD=np.append(fftDataD, fftpack.fft(decord[i])[1:len(encord[i])/2+1])\n",
    "\n",
    "fftDataE = fftDataE.reshape(len(encord),len(encord[0])/2)\n",
    "fftDataD = fftDataD.reshape(len(encord),len(encord[0])/2)\n",
    "\n",
    "for i in range(4):\n",
    "    MakeGlaph(np.imag(fftDataE[:,i]), np.imag(fftDataD[:,i]),\n",
    "              0,len(fftDataD),GlaphDataFftPath+Sensor+'-'+str(i)+'-fft-image-AccX')\n",
    "    \n",
    "for i in range(4):\n",
    "    MakeGlaph(np.real(fftDataE[:,i]), np.real(fftDataD[:,i]),\n",
    "              0,len(fftDataD),GlaphDataFftPath+Sensor+'-'+str(i)+'-fft-real-AccX')\n",
    "    \n",
    "PowerE = np.imag(fftDataE)**2+np.real(fftDataE)**2\n",
    "PowerD = np.imag(fftDataD)**2+np.real(fftDataD)**2\n",
    "\n",
    "for i in range(4):\n",
    "    MakeGlaph(PowerE[:,i], PowerD[:,i],0,len(PowerE),GlaphDataFftPath+Sensor+'-'+str(i)+'-fft-power-AccX')"
   ]
  },
  {
   "cell_type": "code",
   "execution_count": 16,
   "metadata": {
    "collapsed": false
   },
   "outputs": [
    {
     "name": "stdout",
     "output_type": "stream",
     "text": [
      "0 is start 15921 is goal\n",
      "0 is start 15921 is goal\n",
      "0 is start 15921 is goal\n",
      "0 is start 15921 is goal\n",
      "0 is start 15921 is goal\n",
      "0 is start 15921 is goal\n",
      "0 is start 15921 is goal\n",
      "0 is start 15921 is goal\n",
      "0 is start 15921 is goal\n",
      "0 is start 15921 is goal\n",
      "0 is start 15921 is goal\n",
      "0 is start 15921 is goal\n"
     ]
    }
   ],
   "source": [
    "Sensor ='sensor7'\n",
    "encord=processing.LoadDicDataFromFileNPZ('window/'+Sensor+'_AccX_train.npz')\n",
    "decord=processing.LoadDicDataFromFileNPZ('study/'+Sensor+'_AccX_decoded.npz')\n",
    "\n",
    "fftDataE = np.array([])\n",
    "fftDataD = np.array([])\n",
    "\n",
    "for i in range(len(encord)):\n",
    "        fftDataE=np.append(fftDataE, fftpack.fft(encord[i])[1:len(encord[i])/2+1])\n",
    "        fftDataD=np.append(fftDataD, fftpack.fft(decord[i])[1:len(encord[i])/2+1])\n",
    "\n",
    "fftDataE = fftDataE.reshape(len(encord),len(encord[0])/2)\n",
    "fftDataD = fftDataD.reshape(len(encord),len(encord[0])/2)\n",
    "\n",
    "for i in range(4):\n",
    "    MakeGlaph(np.imag(fftDataE[:,i]), np.imag(fftDataD[:,i]),\n",
    "              0,len(fftDataD),GlaphDataFftPath+Sensor+'-'+str(i)+'-fft-image-AccX')\n",
    "    \n",
    "for i in range(4):\n",
    "    MakeGlaph(np.real(fftDataE[:,i]), np.real(fftDataD[:,i]),\n",
    "              0,len(fftDataD),GlaphDataFftPath+Sensor+'-'+str(i)+'-fft-real-AccX')\n",
    "    \n",
    "PowerE = np.imag(fftDataE)**2+np.real(fftDataE)**2\n",
    "PowerD = np.imag(fftDataD)**2+np.real(fftDataD)**2\n",
    "\n",
    "for i in range(4):\n",
    "    MakeGlaph(PowerE[:,i], PowerD[:,i],0,len(PowerE),GlaphDataFftPath+Sensor+'-'+str(i)+'-fft-power-AccX')"
   ]
  },
  {
   "cell_type": "code",
   "execution_count": null,
   "metadata": {
    "collapsed": true
   },
   "outputs": [],
   "source": []
  }
 ],
 "metadata": {
  "kernelspec": {
   "display_name": "Python 2",
   "language": "python",
   "name": "python2"
  },
  "language_info": {
   "codemirror_mode": {
    "name": "ipython",
    "version": 2
   },
   "file_extension": ".py",
   "mimetype": "text/x-python",
   "name": "python",
   "nbconvert_exporter": "python",
   "pygments_lexer": "ipython2",
   "version": "2.7.11"
  }
 },
 "nbformat": 4,
 "nbformat_minor": 0
}
