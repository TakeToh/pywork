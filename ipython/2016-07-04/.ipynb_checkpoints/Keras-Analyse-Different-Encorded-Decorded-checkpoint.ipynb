{
 "cells": [
  {
   "cell_type": "code",
   "execution_count": 3,
   "metadata": {
    "collapsed": true
   },
   "outputs": [],
   "source": [
    "import numpy as np\n",
    "import pandas as pd\n",
    "from scipy import fftpack\n",
    "from scipy import signal\n",
    "import time\n",
    "import os\n",
    "import matplotlib.pyplot as plt\n",
    "import pylab\n",
    "import pickle\n",
    "import copy\n",
    "import processing\n",
    "import matplotlib.animation as animation\n",
    "%matplotlib inline\n",
    "\n",
    "WORKSPACE_PATH = '/home/takeyama/pywork/ipython/2016-07-04'\n",
    "RawDataPath=WORKSPACE_PATH+'/raw/'\n",
    "StudyDataPath=WORKSPACE_PATH+'/study/'\n",
    "GlaphDataPath=WORKSPACE_PATH+'/glaph/'\n",
    "GlaphDataFftPath=WORKSPACE_PATH+'/fft/'\n",
    "WindowDataPath=WORKSPACE_PATH+'/window/'\n",
    "StudyDataModelPicPath=StudyDataPath+'modelPic/'"
   ]
  },
  {
   "cell_type": "code",
   "execution_count": 4,
   "metadata": {
    "collapsed": false
   },
   "outputs": [
    {
     "name": "stderr",
     "output_type": "stream",
     "text": [
      "Using Theano backend.\n",
      "Using gpu device 0: GeForce GTX 970 (CNMeM is disabled, cuDNN 4007)\n"
     ]
    }
   ],
   "source": [
    "from keras.models import Sequential\n",
    "from keras.datasets import cifar10\n",
    "from keras.layers import Dense, Activation, Flatten\n",
    "from keras.optimizers import Adadelta\n",
    "from keras.utils import np_utils\n",
    "from keras.layers.convolutional import Convolution2D, MaxPooling2D\n",
    "from keras.utils.visualize_util import model_to_dot, plot\n",
    "from keras import backend as K\n",
    "import numpy as np\n",
    "\n",
    "from matplotlib import pyplot as plt\n",
    "import matplotlib.image as mpimg\n",
    "%matplotlib inline"
   ]
  },
  {
   "cell_type": "code",
   "execution_count": 56,
   "metadata": {
    "collapsed": false
   },
   "outputs": [],
   "source": [
    "\"\"\"\n",
    "    encordData,decordData\n",
    "    firstNum:\n",
    "    goalNum:\n",
    "    commonLabel:共通名前\n",
    "\"\"\"\n",
    "def MakeGlaph(encordData,decordData,firstNum,goalNum,commonLabel):\n",
    "    eRow, eCol=encordData.shape\n",
    "    dRow, dCol=decordData.shape\n",
    "    if (eRow!=dRow) | (eCol!=dCol):\n",
    "        print 'check encordData & decordData'\n",
    "        return -1\n",
    "        \n",
    "    start = firstNum\n",
    "    goal=goalNum\n",
    "    print str(start)+' is start '+str(goal)+' is goal'\n",
    "    dataE = encordData.reshape(eRow*eCol,1)[start:goal]\n",
    "    dataD = decordData.reshape(dRow*dCol,1)[start:goal]\n",
    "    plt.plot(range(0,len(dataE)),dataE,'--r',label=\"Encoded\")\n",
    "    plt.plot(range(0,len(dataD)),dataD,'b',label=\"Decoded\")\n",
    "    plt.legend(loc='best')\n",
    "    plt.title(str(start)+\"-\"+str(goal))\n",
    "    plt.savefig(commonLabel+'-'+str(start)+\"-\"+str(goal)+'-'+'glaph')\n",
    "    plt.close()"
   ]
  },
  {
   "cell_type": "markdown",
   "metadata": {},
   "source": [
    "辞書型の変数を読み込む"
   ]
  },
  {
   "cell_type": "code",
   "execution_count": 6,
   "metadata": {
    "collapsed": false
   },
   "outputs": [],
   "source": [
    "dic1=processing.LoadDicDataFromFileNPZ(RawDataPath+\"MemSensor1\")\n",
    "dic2=processing.LoadDicDataFromFileNPZ(RawDataPath+\"MemSensor2\")\n",
    "dic3=processing.LoadDicDataFromFileNPZ(RawDataPath+\"MemSensor3\")\n",
    "dic4=processing.LoadDicDataFromFileNPZ(RawDataPath+\"MemSensor4\")\n",
    "dic5=processing.LoadDicDataFromFileNPZ(RawDataPath+\"MemSensor5\")\n",
    "dic6=processing.LoadDicDataFromFileNPZ(RawDataPath+\"MemSensor6\")\n",
    "dic7=processing.LoadDicDataFromFileNPZ(RawDataPath+\"MemSensor7\")"
   ]
  },
  {
   "cell_type": "markdown",
   "metadata": {},
   "source": [
    "windowにしたものを読み込む"
   ]
  },
  {
   "cell_type": "code",
   "execution_count": 8,
   "metadata": {
    "collapsed": false
   },
   "outputs": [
    {
     "data": {
      "text/plain": [
       "(15921, 16)"
      ]
     },
     "execution_count": 8,
     "metadata": {},
     "output_type": "execute_result"
    }
   ],
   "source": [
    "decord.shape"
   ]
  },
  {
   "cell_type": "code",
   "execution_count": 9,
   "metadata": {
    "collapsed": false
   },
   "outputs": [
    {
     "data": {
      "text/plain": [
       "8"
      ]
     },
     "execution_count": 9,
     "metadata": {},
     "output_type": "execute_result"
    }
   ],
   "source": [
    "encord.itemsize"
   ]
  },
  {
   "cell_type": "code",
   "execution_count": 22,
   "metadata": {
    "collapsed": true
   },
   "outputs": [],
   "source": [
    "width=10000"
   ]
  },
  {
   "cell_type": "code",
   "execution_count": 36,
   "metadata": {
    "collapsed": false
   },
   "outputs": [
    {
     "data": {
      "text/plain": [
       "(15921, 16)"
      ]
     },
     "execution_count": 36,
     "metadata": {},
     "output_type": "execute_result"
    }
   ],
   "source": [
    "encord=processing.LoadDicDataFromFileNPZ('window/sensor1_AccX_train.npz')\n",
    "encord.shape"
   ]
  },
  {
   "cell_type": "code",
   "execution_count": 23,
   "metadata": {
    "collapsed": false,
    "scrolled": true
   },
   "outputs": [
    {
     "name": "stdout",
     "output_type": "stream",
     "text": [
      "number=0\n",
      "0 is start 10000 is goal\n",
      "number=10000\n",
      "10000 is start 20000 is goal\n",
      "number=20000\n",
      "20000 is start 30000 is goal\n",
      "number=30000\n",
      "30000 is start 40000 is goal\n",
      "number=40000\n",
      "40000 is start 50000 is goal\n",
      "number=50000\n",
      "50000 is start 60000 is goal\n",
      "number=60000\n",
      "60000 is start 70000 is goal\n",
      "number=70000\n",
      "70000 is start 80000 is goal\n",
      "number=80000\n",
      "80000 is start 90000 is goal\n",
      "number=90000\n",
      "90000 is start 100000 is goal\n",
      "number=100000\n",
      "100000 is start 110000 is goal\n",
      "number=110000\n",
      "110000 is start 120000 is goal\n",
      "number=120000\n",
      "120000 is start 130000 is goal\n",
      "number=130000\n",
      "130000 is start 140000 is goal\n",
      "number=140000\n",
      "140000 is start 150000 is goal\n",
      "number=150000\n",
      "150000 is start 160000 is goal\n",
      "number=160000\n",
      "160000 is start 170000 is goal\n",
      "number=170000\n",
      "170000 is start 180000 is goal\n",
      "number=180000\n",
      "180000 is start 190000 is goal\n",
      "number=190000\n",
      "190000 is start 200000 is goal\n",
      "number=200000\n",
      "200000 is start 210000 is goal\n",
      "number=210000\n",
      "210000 is start 220000 is goal\n",
      "number=220000\n",
      "220000 is start 230000 is goal\n",
      "number=230000\n",
      "230000 is start 240000 is goal\n",
      "number=240000\n",
      "240000 is start 250000 is goal\n",
      "number=250000\n",
      "250000 is start 260000 is goal\n"
     ]
    }
   ],
   "source": [
    "encord=processing.LoadDicDataFromFileNPZ('window/sensor1_AccX_train.npz')\n",
    "decord=processing.LoadDicDataFromFileNPZ('study/sensor1_AccX_decoded.npz')\n",
    "\n",
    "for n in range(0,16*16000,width):\n",
    "    print 'number='+str(n)\n",
    "    MakeGlaph(encord,decord,n,n+width,GlaphDataPath+'Sensor1-AccX')\n",
    "    time.sleep(1)"
   ]
  },
  {
   "cell_type": "code",
   "execution_count": 33,
   "metadata": {
    "collapsed": false
   },
   "outputs": [
    {
     "data": {
      "text/plain": [
       "(15921, 8)"
      ]
     },
     "execution_count": 33,
     "metadata": {},
     "output_type": "execute_result"
    }
   ],
   "source": [
    "encord.shape"
   ]
  },
  {
   "cell_type": "code",
   "execution_count": 24,
   "metadata": {
    "collapsed": false,
    "scrolled": true
   },
   "outputs": [
    {
     "name": "stdout",
     "output_type": "stream",
     "text": [
      "number=0\n",
      "check encordData & decordData\n",
      "number=10000\n",
      "check encordData & decordData\n",
      "number=20000\n",
      "check encordData & decordData\n",
      "number=30000\n",
      "check encordData & decordData\n",
      "number=40000\n",
      "check encordData & decordData\n",
      "number=50000\n",
      "check encordData & decordData\n",
      "number=60000\n",
      "check encordData & decordData\n",
      "number=70000\n",
      "check encordData & decordData\n",
      "number=80000\n",
      "check encordData & decordData\n",
      "number=90000\n",
      "check encordData & decordData\n",
      "number=100000\n",
      "check encordData & decordData\n",
      "number=110000\n",
      "check encordData & decordData\n",
      "number=120000\n",
      "check encordData & decordData\n",
      "number=130000\n",
      "check encordData & decordData\n",
      "number=140000\n",
      "check encordData & decordData\n",
      "number=150000\n",
      "check encordData & decordData\n",
      "number=160000\n",
      "check encordData & decordData\n",
      "number=170000\n",
      "check encordData & decordData\n",
      "number=180000\n",
      "check encordData & decordData\n",
      "number=190000\n",
      "check encordData & decordData\n",
      "number=200000\n",
      "check encordData & decordData\n",
      "number=210000\n",
      "check encordData & decordData\n",
      "number=220000\n",
      "check encordData & decordData\n",
      "number=230000\n",
      "check encordData & decordData\n",
      "number=240000\n",
      "check encordData & decordData\n",
      "number=250000\n",
      "check encordData & decordData\n"
     ]
    }
   ],
   "source": [
    "encord=processing.LoadDicDataFromFileNPZ('window/sensor2_AccX_train.npz')\n",
    "decord=processing.LoadDicDataFromFileNPZ('study/sensor2_AccX_decoded.npz')\n",
    "\n",
    "for n in range(0,16*16000,width):\n",
    "    print 'number='+str(n)\n",
    "    MakeGlaph(encord,decord,n,n+width,GlaphDataPath+'Sensor2-AccX')\n",
    "    time.sleep(1)"
   ]
  },
  {
   "cell_type": "code",
   "execution_count": 37,
   "metadata": {
    "collapsed": false,
    "scrolled": true
   },
   "outputs": [
    {
     "name": "stdout",
     "output_type": "stream",
     "text": [
      "number=0\n",
      "0 is start 10000 is goal\n",
      "number=10000\n",
      "10000 is start 20000 is goal\n",
      "number=20000\n",
      "20000 is start 30000 is goal\n",
      "number=30000\n",
      "30000 is start 40000 is goal\n",
      "number=40000\n",
      "40000 is start 50000 is goal\n",
      "number=50000\n",
      "50000 is start 60000 is goal\n",
      "number=60000\n",
      "60000 is start 70000 is goal\n",
      "number=70000\n",
      "70000 is start 80000 is goal\n",
      "number=80000\n",
      "80000 is start 90000 is goal\n",
      "number=90000\n",
      "90000 is start 100000 is goal\n",
      "number=100000\n",
      "100000 is start 110000 is goal\n",
      "number=110000\n",
      "110000 is start 120000 is goal\n",
      "number=120000\n",
      "120000 is start 130000 is goal\n",
      "number=130000\n",
      "130000 is start 140000 is goal\n",
      "number=140000\n",
      "140000 is start 150000 is goal\n",
      "number=150000\n",
      "150000 is start 160000 is goal\n",
      "number=160000\n",
      "160000 is start 170000 is goal\n",
      "number=170000\n",
      "170000 is start 180000 is goal\n",
      "number=180000\n",
      "180000 is start 190000 is goal\n",
      "number=190000\n",
      "190000 is start 200000 is goal\n",
      "number=200000\n",
      "200000 is start 210000 is goal\n",
      "number=210000\n",
      "210000 is start 220000 is goal\n",
      "number=220000\n",
      "220000 is start 230000 is goal\n",
      "number=230000\n",
      "230000 is start 240000 is goal\n",
      "number=240000\n",
      "240000 is start 250000 is goal\n",
      "number=250000\n",
      "250000 is start 260000 is goal\n"
     ]
    }
   ],
   "source": [
    "encord=processing.LoadDicDataFromFileNPZ('window/sensor3_AccX_train.npz')\n",
    "decord=processing.LoadDicDataFromFileNPZ('study/sensor3_AccX_decoded.npz')\n",
    "\n",
    "for n in range(0,16*16000,width):\n",
    "    print 'number='+str(n)\n",
    "    MakeGlaph(encord,decord,n,n+width,GlaphDataPath+'Sensor3-AccX')\n",
    "    time.sleep(1)"
   ]
  },
  {
   "cell_type": "code",
   "execution_count": 38,
   "metadata": {
    "collapsed": false,
    "scrolled": true
   },
   "outputs": [
    {
     "name": "stdout",
     "output_type": "stream",
     "text": [
      "number=0\n",
      "0 is start 10000 is goal\n",
      "number=10000\n",
      "10000 is start 20000 is goal\n",
      "number=20000\n",
      "20000 is start 30000 is goal\n",
      "number=30000\n",
      "30000 is start 40000 is goal\n",
      "number=40000\n",
      "40000 is start 50000 is goal\n",
      "number=50000\n",
      "50000 is start 60000 is goal\n",
      "number=60000\n",
      "60000 is start 70000 is goal\n",
      "number=70000\n",
      "70000 is start 80000 is goal\n",
      "number=80000\n",
      "80000 is start 90000 is goal\n",
      "number=90000\n",
      "90000 is start 100000 is goal\n",
      "number=100000\n",
      "100000 is start 110000 is goal\n",
      "number=110000\n",
      "110000 is start 120000 is goal\n",
      "number=120000\n",
      "120000 is start 130000 is goal\n",
      "number=130000\n",
      "130000 is start 140000 is goal\n",
      "number=140000\n",
      "140000 is start 150000 is goal\n",
      "number=150000\n",
      "150000 is start 160000 is goal\n",
      "number=160000\n",
      "160000 is start 170000 is goal\n",
      "number=170000\n",
      "170000 is start 180000 is goal\n",
      "number=180000\n",
      "180000 is start 190000 is goal\n",
      "number=190000\n",
      "190000 is start 200000 is goal\n",
      "number=200000\n",
      "200000 is start 210000 is goal\n",
      "number=210000\n",
      "210000 is start 220000 is goal\n",
      "number=220000\n",
      "220000 is start 230000 is goal\n",
      "number=230000\n",
      "230000 is start 240000 is goal\n",
      "number=240000\n",
      "240000 is start 250000 is goal\n",
      "number=250000\n",
      "250000 is start 260000 is goal\n"
     ]
    }
   ],
   "source": [
    "encord=processing.LoadDicDataFromFileNPZ('window/sensor4_AccX_train.npz')\n",
    "decord=processing.LoadDicDataFromFileNPZ('study/sensor4_AccX_decoded.npz')\n",
    "\n",
    "for n in range(0,16*16000,width):\n",
    "    print 'number='+str(n)\n",
    "    MakeGlaph(encord,decord,n,n+width,GlaphDataPath+'Sensor4-AccX')\n",
    "    time.sleep(1)"
   ]
  },
  {
   "cell_type": "code",
   "execution_count": 39,
   "metadata": {
    "collapsed": false,
    "scrolled": true
   },
   "outputs": [
    {
     "name": "stdout",
     "output_type": "stream",
     "text": [
      "number=0\n",
      "0 is start 10000 is goal\n",
      "number=10000\n",
      "10000 is start 20000 is goal\n",
      "number=20000\n",
      "20000 is start 30000 is goal\n",
      "number=30000\n",
      "30000 is start 40000 is goal\n",
      "number=40000\n",
      "40000 is start 50000 is goal\n",
      "number=50000\n",
      "50000 is start 60000 is goal\n",
      "number=60000\n",
      "60000 is start 70000 is goal\n",
      "number=70000\n",
      "70000 is start 80000 is goal\n",
      "number=80000\n",
      "80000 is start 90000 is goal\n",
      "number=90000\n",
      "90000 is start 100000 is goal\n",
      "number=100000\n",
      "100000 is start 110000 is goal\n",
      "number=110000\n",
      "110000 is start 120000 is goal\n",
      "number=120000\n",
      "120000 is start 130000 is goal\n",
      "number=130000\n",
      "130000 is start 140000 is goal\n",
      "number=140000\n",
      "140000 is start 150000 is goal\n",
      "number=150000\n",
      "150000 is start 160000 is goal\n",
      "number=160000\n",
      "160000 is start 170000 is goal\n",
      "number=170000\n",
      "170000 is start 180000 is goal\n",
      "number=180000\n",
      "180000 is start 190000 is goal\n",
      "number=190000\n",
      "190000 is start 200000 is goal\n",
      "number=200000\n",
      "200000 is start 210000 is goal\n",
      "number=210000\n",
      "210000 is start 220000 is goal\n",
      "number=220000\n",
      "220000 is start 230000 is goal\n",
      "number=230000\n",
      "230000 is start 240000 is goal\n",
      "number=240000\n",
      "240000 is start 250000 is goal\n",
      "number=250000\n",
      "250000 is start 260000 is goal\n"
     ]
    }
   ],
   "source": [
    "encord=processing.LoadDicDataFromFileNPZ('window/sensor5_AccX_train.npz')\n",
    "decord=processing.LoadDicDataFromFileNPZ('study/sensor5_AccX_decoded.npz')\n",
    "\n",
    "for n in range(0,16*16000,width):\n",
    "    print 'number='+str(n)\n",
    "    MakeGlaph(encord,decord,n,n+width,GlaphDataPath+'Sensor5-AccX')\n",
    "    time.sleep(1)"
   ]
  },
  {
   "cell_type": "code",
   "execution_count": 40,
   "metadata": {
    "collapsed": false,
    "scrolled": true
   },
   "outputs": [
    {
     "name": "stdout",
     "output_type": "stream",
     "text": [
      "number=0\n",
      "0 is start 10000 is goal\n",
      "number=10000\n",
      "10000 is start 20000 is goal\n",
      "number=20000\n",
      "20000 is start 30000 is goal\n",
      "number=30000\n",
      "30000 is start 40000 is goal\n",
      "number=40000\n",
      "40000 is start 50000 is goal\n",
      "number=50000\n",
      "50000 is start 60000 is goal\n",
      "number=60000\n",
      "60000 is start 70000 is goal\n",
      "number=70000\n",
      "70000 is start 80000 is goal\n",
      "number=80000\n",
      "80000 is start 90000 is goal\n",
      "number=90000\n",
      "90000 is start 100000 is goal\n",
      "number=100000\n",
      "100000 is start 110000 is goal\n",
      "number=110000\n",
      "110000 is start 120000 is goal\n",
      "number=120000\n",
      "120000 is start 130000 is goal\n",
      "number=130000\n",
      "130000 is start 140000 is goal\n",
      "number=140000\n",
      "140000 is start 150000 is goal\n",
      "number=150000\n",
      "150000 is start 160000 is goal\n",
      "number=160000\n",
      "160000 is start 170000 is goal\n",
      "number=170000\n",
      "170000 is start 180000 is goal\n",
      "number=180000\n",
      "180000 is start 190000 is goal\n",
      "number=190000\n",
      "190000 is start 200000 is goal\n",
      "number=200000\n",
      "200000 is start 210000 is goal\n",
      "number=210000\n",
      "210000 is start 220000 is goal\n",
      "number=220000\n",
      "220000 is start 230000 is goal\n",
      "number=230000\n",
      "230000 is start 240000 is goal\n",
      "number=240000\n",
      "240000 is start 250000 is goal\n",
      "number=250000\n",
      "250000 is start 260000 is goal\n"
     ]
    }
   ],
   "source": [
    "encord=processing.LoadDicDataFromFileNPZ('window/sensor6_AccX_train.npz')\n",
    "decord=processing.LoadDicDataFromFileNPZ('study/sensor6_AccX_decoded.npz')\n",
    "\n",
    "for n in range(0,16*16000,width):\n",
    "    print 'number='+str(n)\n",
    "    MakeGlaph(encord,decord,n,n+width,GlaphDataPath+'Sensor6-AccX')\n",
    "    time.sleep(1)"
   ]
  },
  {
   "cell_type": "code",
   "execution_count": 41,
   "metadata": {
    "collapsed": false,
    "scrolled": true
   },
   "outputs": [
    {
     "name": "stdout",
     "output_type": "stream",
     "text": [
      "number=0\n",
      "0 is start 10000 is goal\n",
      "number=10000\n",
      "10000 is start 20000 is goal\n",
      "number=20000\n",
      "20000 is start 30000 is goal\n",
      "number=30000\n",
      "30000 is start 40000 is goal\n",
      "number=40000\n",
      "40000 is start 50000 is goal\n",
      "number=50000\n",
      "50000 is start 60000 is goal\n",
      "number=60000\n",
      "60000 is start 70000 is goal\n",
      "number=70000\n",
      "70000 is start 80000 is goal\n",
      "number=80000\n",
      "80000 is start 90000 is goal\n",
      "number=90000\n",
      "90000 is start 100000 is goal\n",
      "number=100000\n",
      "100000 is start 110000 is goal\n",
      "number=110000\n",
      "110000 is start 120000 is goal\n",
      "number=120000\n",
      "120000 is start 130000 is goal\n",
      "number=130000\n",
      "130000 is start 140000 is goal\n",
      "number=140000\n",
      "140000 is start 150000 is goal\n",
      "number=150000\n",
      "150000 is start 160000 is goal\n",
      "number=160000\n",
      "160000 is start 170000 is goal\n",
      "number=170000\n",
      "170000 is start 180000 is goal\n",
      "number=180000\n",
      "180000 is start 190000 is goal\n",
      "number=190000\n",
      "190000 is start 200000 is goal\n",
      "number=200000\n",
      "200000 is start 210000 is goal\n",
      "number=210000\n",
      "210000 is start 220000 is goal\n",
      "number=220000\n",
      "220000 is start 230000 is goal\n",
      "number=230000\n",
      "230000 is start 240000 is goal\n",
      "number=240000\n",
      "240000 is start 250000 is goal\n",
      "number=250000\n",
      "250000 is start 260000 is goal\n"
     ]
    }
   ],
   "source": [
    "encord=processing.LoadDicDataFromFileNPZ('window/sensor7_AccX_train.npz')\n",
    "decord=processing.LoadDicDataFromFileNPZ('study/sensor7_AccX_decoded.npz')\n",
    "\n",
    "for n in range(0,16*16000,width):\n",
    "    print 'number='+str(n)\n",
    "    MakeGlaph(encord,decord,n,n+width,GlaphDataPath+'Sensor7-AccX')\n",
    "    time.sleep(1)"
   ]
  },
  {
   "cell_type": "code",
   "execution_count": 30,
   "metadata": {
    "collapsed": true
   },
   "outputs": [],
   "source": [
    "def CalcFFT(self,samp,overlap=0.5):\n",
    "        start = time.time()\n",
    "        fft_data = np.array([])\n",
    "        \n",
    "        for n,f in zip( self._columns,self._fft_col):\n",
    "            print 'start'+n+'->'+f\n",
    "            sw = self._sliding_window(n,samp,overlap)\n",
    "            while True:\n",
    "                try:\n",
    "                    d=sw.next()\n",
    "                    fft_data = np.append(fft_data, fftpack.fft(d)[1:(samp/2)+1] )   # fftの直流成分を除くsample/2の\n",
    "                except StopIteration:\n",
    "                    print 'CalcFFTStopIteration'\n",
    "                    fft_data = fft_data.reshape(len(fft_data)/(samp/2),(samp/2) )\n",
    "                    self._FFTData[f] = fft_data\n",
    "                    np.savez(p_path+'fft/'+self.ClassName+'_'+str(f)+'_'+str(samp),self._FFTData[f])\n",
    "                    break   \n",
    "        elapsed_time = time.time() - start\n",
    "        print (\"elapsed_time:{0}\".format(elapsed_time)) + \"[sec]\""
   ]
  },
  {
   "cell_type": "code",
   "execution_count": 57,
   "metadata": {
    "collapsed": false
   },
   "outputs": [],
   "source": [
    "encord=processing.LoadDicDataFromFileNPZ('window/sensor7_AccX_train.npz')\n",
    "decord=processing.LoadDicDataFromFileNPZ('study/sensor7_AccX_decoded.npz')\n",
    "\n",
    "fftDataE = np.array([])\n",
    "fftDataD = np.array([])\n",
    "\n",
    "for i in range(len(encord)):\n",
    "        fftDataE=np.append(fftDataE, fftpack.fft(encord[i])[1:5])\n",
    "        fftDataD=np.append(fftDataD, fftpack.fft(encord[i])[1:5])\n",
    "\n",
    "fftDataE = fftDataE.reshape(len(encord),4)\n",
    "fftDataD = fftDataD.reshape(len(encord),4)"
   ]
  },
  {
   "cell_type": "code",
   "execution_count": 58,
   "metadata": {
    "collapsed": false
   },
   "outputs": [
    {
     "data": {
      "text/plain": [
       "array([[  2.27810528e-03+0.01128721j,  -2.49906638e-02+0.01769828j,\n",
       "         -2.54709313e-03+0.00290477j,  -9.70000000e-03+0.0056j    ],\n",
       "       [ -6.10613190e-03-0.0113698j ,  -2.74944697e-02+0.01126188j,\n",
       "          6.56667811e-03-0.00560085j,  -6.00000000e-03+0.0025j    ],\n",
       "       [ -1.04219741e-05+0.01475663j,  -6.95233406e-03+0.00664178j,\n",
       "         -6.47204197e-03+0.03040883j,  -1.42000000e-02+0.0011j    ],\n",
       "       ..., \n",
       "       [ -5.94766207e-02-0.35374194j,   3.05327381e-02+0.01829863j,\n",
       "          5.39675138e-02-0.01028446j,   6.69000000e-02-0.0777j    ],\n",
       "       [  9.76522897e-02+0.01443355j,   1.01906811e-01-0.0145267j ,\n",
       "          4.88738400e-02-0.02226426j,   6.05000000e-02-0.024j     ],\n",
       "       [  8.70988739e-05+0.10597224j,  -1.12121320e-02+0.03277386j,\n",
       "         -2.26387781e-03+0.00959765j,   5.00000000e-04+0.0085j    ]])"
      ]
     },
     "execution_count": 58,
     "metadata": {},
     "output_type": "execute_result"
    }
   ],
   "source": [
    "fftDataE"
   ]
  },
  {
   "cell_type": "code",
   "execution_count": 59,
   "metadata": {
    "collapsed": false
   },
   "outputs": [
    {
     "data": {
      "text/plain": [
       "(15921, 4)"
      ]
     },
     "execution_count": 59,
     "metadata": {},
     "output_type": "execute_result"
    }
   ],
   "source": [
    "np.imag( fftDataE ).shape"
   ]
  },
  {
   "cell_type": "code",
   "execution_count": 60,
   "metadata": {
    "collapsed": false
   },
   "outputs": [
    {
     "data": {
      "text/plain": [
       "(15921, 4)"
      ]
     },
     "execution_count": 60,
     "metadata": {},
     "output_type": "execute_result"
    }
   ],
   "source": [
    "np.real( fftDataE ).shape"
   ]
  },
  {
   "cell_type": "code",
   "execution_count": 61,
   "metadata": {
    "collapsed": false
   },
   "outputs": [
    {
     "data": {
      "text/plain": [
       "(15921, 4)"
      ]
     },
     "execution_count": 61,
     "metadata": {},
     "output_type": "execute_result"
    }
   ],
   "source": [
    "fftDataD.shape"
   ]
  },
  {
   "cell_type": "code",
   "execution_count": 62,
   "metadata": {
    "collapsed": true
   },
   "outputs": [],
   "source": [
    "fwidth=3000"
   ]
  },
  {
   "cell_type": "code",
   "execution_count": 64,
   "metadata": {
    "collapsed": true
   },
   "outputs": [
    {
     "name": "stdout",
     "output_type": "stream",
     "text": [
      "(15921, 4)\n",
      "(15921, 4)\n",
      "0 is start\n",
      "0 is start 3000 is goal\n",
      "3000 is start\n",
      "3000 is start 6000 is goal\n",
      "6000 is start\n",
      "6000 is start 9000 is goal\n",
      "9000 is start\n",
      "9000 is start 12000 is goal\n",
      "12000 is start\n",
      "12000 is start 15000 is goal\n",
      "15000 is start\n",
      "15000 is start 18000 is goal\n",
      "18000 is start\n",
      "18000 is start 21000 is goal\n",
      "21000 is start\n",
      "21000 is start 24000 is goal\n",
      "24000 is start\n",
      "24000 is start 27000 is goal\n",
      "27000 is start\n",
      "27000 is start 30000 is goal\n",
      "30000 is start\n",
      "30000 is start 33000 is goal\n",
      "33000 is start\n",
      "33000 is start 36000 is goal\n",
      "36000 is start\n",
      "36000 is start 39000 is goal\n",
      "39000 is start\n",
      "39000 is start 42000 is goal\n",
      "42000 is start\n",
      "42000 is start 45000 is goal\n",
      "45000 is start\n",
      "45000 is start 48000 is goal\n",
      "48000 is start\n",
      "48000 is start 51000 is goal\n",
      "51000 is start\n",
      "51000 is start 54000 is goal\n",
      "54000 is start\n",
      "54000 is start 57000 is goal\n",
      "57000 is start\n",
      "57000 is start 60000 is goal\n",
      "60000 is start\n",
      "60000 is start 63000 is goal\n",
      "63000 is start\n",
      "63000 is start 66000 is goal\n",
      "0 is start 3000 is goal\n",
      "3000 is start 6000 is goal\n",
      "6000 is start 9000 is goal\n",
      "9000 is start 12000 is goal\n",
      "12000 is start 15000 is goal\n",
      "15000 is start 18000 is goal\n",
      "18000 is start 21000 is goal\n",
      "21000 is start 24000 is goal\n",
      "24000 is start 27000 is goal\n",
      "27000 is start 30000 is goal\n",
      "30000 is start 33000 is goal\n",
      "33000 is start 36000 is goal\n",
      "36000 is start 39000 is goal\n",
      "39000 is start 42000 is goal\n",
      "42000 is start 45000 is goal\n",
      "45000 is start 48000 is goal\n",
      "48000 is start 51000 is goal\n",
      "51000 is start 54000 is goal\n",
      "54000 is start 57000 is goal\n",
      "57000 is start 60000 is goal\n",
      "60000 is start 63000 is goal\n",
      "63000 is start 66000 is goal\n",
      "0 is start 3000 is goal\n",
      "3000 is start 6000 is goal\n",
      "6000 is start 9000 is goal\n",
      "9000 is start 12000 is goal\n",
      "12000 is start 15000 is goal\n",
      "15000 is start 18000 is goal\n",
      "18000 is start 21000 is goal\n",
      "21000 is start 24000 is goal\n",
      "24000 is start 27000 is goal\n",
      "27000 is start 30000 is goal\n",
      "30000 is start 33000 is goal\n",
      "33000 is start 36000 is goal\n",
      "36000 is start 39000 is goal\n",
      "39000 is start 42000 is goal\n",
      "42000 is start 45000 is goal\n",
      "45000 is start 48000 is goal\n",
      "48000 is start 51000 is goal\n",
      "51000 is start 54000 is goal\n",
      "54000 is start 57000 is goal\n",
      "57000 is start 60000 is goal\n",
      "60000 is start 63000 is goal\n",
      "63000 is start 66000 is goal\n"
     ]
    }
   ],
   "source": [
    "Sensor ='sensor1'\n",
    "encord=processing.LoadDicDataFromFileNPZ('study/'+Sensor+'_AccX_encoded.npz')\n",
    "decord=processing.LoadDicDataFromFileNPZ('study/'+Sensor+'_AccX_decoded.npz')\n",
    "\n",
    "fftDataE = np.array([])\n",
    "fftDataD = np.array([])\n",
    "\n",
    "for i in range(len(encord)):\n",
    "        fftDataE=np.append(fftDataE, fftpack.fft(encord[i])[1:len(encord[i])/2+1])\n",
    "        fftDataD=np.append(fftDataD, fftpack.fft(decord[i])[1:len(encord[i])/2+1])\n",
    "\n",
    "fftDataE = fftDataE.reshape(len(encord),len(encord[0])/2)\n",
    "fftDataD = fftDataD.reshape(len(encord),len(encord[0])/2)\n",
    "\n",
    "print np.imag(fftDataE).shape\n",
    "print fftDataD.shape\n",
    "\n",
    "for n in range(0,len(encord[0])/2*16000,fwidth):\n",
    "    MakeGlaph(np.imag(fftDataE), np.imag(fftDataD) ,n,n+fwidth,GlaphDataFftPath+Sensor+'-fft-image-AccX')\n",
    "    \n",
    "for n in range(0,len(encord[0])/2*16000,fwidth):\n",
    "    MakeGlaph(np.real(fftDataE), np.real(fftDataD) ,n,n+fwidth,GlaphDataFftPath+Sensor+'-fft-real-AccX')\n",
    "    \n",
    "PowerE = np.imag(fftDataE)**2+np.real(fftDataE)**2\n",
    "PowerD = np.imag(fftDataD)**2+np.real(fftDataD)**2\n",
    "\n",
    "for n in range(0,len(encord[0])/2*16000,fwidth):\n",
    "    MakeGlaph(PowerE, PowerD,n,n+fwidth,GlaphDataFftPath+Sensor+'-fft-power-AccX')"
   ]
  },
  {
   "cell_type": "code",
   "execution_count": 65,
   "metadata": {
    "collapsed": false,
    "scrolled": true
   },
   "outputs": [
    {
     "name": "stdout",
     "output_type": "stream",
     "text": [
      "(15921, 4)\n",
      "(15921, 4)\n",
      "0 is start 3000 is goal\n",
      "3000 is start 6000 is goal\n",
      "6000 is start 9000 is goal\n",
      "9000 is start 12000 is goal\n",
      "12000 is start 15000 is goal\n",
      "15000 is start 18000 is goal\n",
      "18000 is start 21000 is goal\n",
      "21000 is start 24000 is goal\n",
      "24000 is start 27000 is goal\n",
      "27000 is start 30000 is goal\n",
      "30000 is start 33000 is goal\n",
      "33000 is start 36000 is goal\n",
      "36000 is start 39000 is goal\n",
      "39000 is start 42000 is goal\n",
      "42000 is start 45000 is goal\n",
      "45000 is start 48000 is goal\n",
      "48000 is start 51000 is goal\n",
      "51000 is start 54000 is goal\n",
      "54000 is start 57000 is goal\n",
      "57000 is start 60000 is goal\n",
      "60000 is start 63000 is goal\n",
      "63000 is start 66000 is goal\n",
      "0 is start 3000 is goal\n",
      "3000 is start 6000 is goal\n",
      "6000 is start 9000 is goal\n",
      "9000 is start 12000 is goal\n",
      "12000 is start 15000 is goal\n",
      "15000 is start 18000 is goal\n",
      "18000 is start 21000 is goal\n",
      "21000 is start 24000 is goal\n",
      "24000 is start 27000 is goal\n",
      "27000 is start 30000 is goal\n",
      "30000 is start 33000 is goal\n",
      "33000 is start 36000 is goal\n",
      "36000 is start 39000 is goal\n",
      "39000 is start 42000 is goal\n",
      "42000 is start 45000 is goal\n",
      "45000 is start 48000 is goal\n",
      "48000 is start 51000 is goal\n",
      "51000 is start 54000 is goal\n",
      "54000 is start 57000 is goal\n",
      "57000 is start 60000 is goal\n",
      "60000 is start 63000 is goal\n",
      "63000 is start 66000 is goal\n",
      "0 is start 3000 is goal\n",
      "3000 is start 6000 is goal\n",
      "6000 is start 9000 is goal\n",
      "9000 is start 12000 is goal\n",
      "12000 is start 15000 is goal\n",
      "15000 is start 18000 is goal\n",
      "18000 is start 21000 is goal\n",
      "21000 is start 24000 is goal\n",
      "24000 is start 27000 is goal\n",
      "27000 is start 30000 is goal\n",
      "30000 is start 33000 is goal\n",
      "33000 is start 36000 is goal\n",
      "36000 is start 39000 is goal\n",
      "39000 is start 42000 is goal\n",
      "42000 is start 45000 is goal\n",
      "45000 is start 48000 is goal\n",
      "48000 is start 51000 is goal\n",
      "51000 is start 54000 is goal\n",
      "54000 is start 57000 is goal\n",
      "57000 is start 60000 is goal\n",
      "60000 is start 63000 is goal\n",
      "63000 is start 66000 is goal\n"
     ]
    }
   ],
   "source": [
    "Sensor ='sensor2'\n",
    "encord=processing.LoadDicDataFromFileNPZ('study/'+Sensor+'_AccX_encoded.npz')\n",
    "decord=processing.LoadDicDataFromFileNPZ('study/'+Sensor+'_AccX_decoded.npz')\n",
    "\n",
    "fftDataE = np.array([])\n",
    "fftDataD = np.array([])\n",
    "\n",
    "for i in range(len(encord)):\n",
    "        fftDataE=np.append(fftDataE, fftpack.fft(encord[i])[1:len(encord[i])/2+1])\n",
    "        fftDataD=np.append(fftDataD, fftpack.fft(decord[i])[1:len(encord[i])/2+1])\n",
    "\n",
    "fftDataE = fftDataE.reshape(len(encord),len(encord[0])/2)\n",
    "fftDataD = fftDataD.reshape(len(encord),len(encord[0])/2)\n",
    "\n",
    "print np.imag(fftDataE).shape\n",
    "print fftDataD.shape\n",
    "\n",
    "for n in range(0,len(encord[0])/2*16000,fwidth):\n",
    "    MakeGlaph(np.imag(fftDataE), np.imag(fftDataD) ,n,n+fwidth,GlaphDataFftPath+Sensor+'-fft-image-AccX')\n",
    "    \n",
    "for n in range(0,len(encord[0])/2*16000,fwidth):\n",
    "    MakeGlaph(np.real(fftDataE), np.real(fftDataD) ,n,n+fwidth,GlaphDataFftPath+Sensor+'-fft-real-AccX')\n",
    "    \n",
    "PowerE = np.imag(fftDataE)**2+np.real(fftDataE)**2\n",
    "PowerD = np.imag(fftDataD)**2+np.real(fftDataD)**2\n",
    "\n",
    "for n in range(0,len(encord[0])/2*16000,fwidth):\n",
    "    MakeGlaph(PowerE, PowerD,n,n+fwidth,GlaphDataFftPath+Sensor+'-fft-power-AccX')"
   ]
  },
  {
   "cell_type": "code",
   "execution_count": 66,
   "metadata": {
    "collapsed": false,
    "scrolled": true
   },
   "outputs": [
    {
     "name": "stdout",
     "output_type": "stream",
     "text": [
      "(15921, 4)\n",
      "(15921, 4)\n",
      "0 is start 3000 is goal\n",
      "3000 is start 6000 is goal\n",
      "6000 is start 9000 is goal\n",
      "9000 is start 12000 is goal\n",
      "12000 is start 15000 is goal\n",
      "15000 is start 18000 is goal\n",
      "18000 is start 21000 is goal\n",
      "21000 is start 24000 is goal\n",
      "24000 is start 27000 is goal\n",
      "27000 is start 30000 is goal\n",
      "30000 is start 33000 is goal\n",
      "33000 is start 36000 is goal\n",
      "36000 is start 39000 is goal\n",
      "39000 is start 42000 is goal\n",
      "42000 is start 45000 is goal\n",
      "45000 is start 48000 is goal\n",
      "48000 is start 51000 is goal\n",
      "51000 is start 54000 is goal\n",
      "54000 is start 57000 is goal\n",
      "57000 is start 60000 is goal\n",
      "60000 is start 63000 is goal\n",
      "63000 is start 66000 is goal\n",
      "0 is start 3000 is goal\n",
      "3000 is start 6000 is goal\n",
      "6000 is start 9000 is goal\n",
      "9000 is start 12000 is goal\n",
      "12000 is start 15000 is goal\n",
      "15000 is start 18000 is goal\n",
      "18000 is start 21000 is goal\n",
      "21000 is start 24000 is goal\n",
      "24000 is start 27000 is goal\n",
      "27000 is start 30000 is goal\n",
      "30000 is start 33000 is goal\n",
      "33000 is start 36000 is goal\n",
      "36000 is start 39000 is goal\n",
      "39000 is start 42000 is goal\n",
      "42000 is start 45000 is goal\n",
      "45000 is start 48000 is goal\n",
      "48000 is start 51000 is goal\n",
      "51000 is start 54000 is goal\n",
      "54000 is start 57000 is goal\n",
      "57000 is start 60000 is goal\n",
      "60000 is start 63000 is goal\n",
      "63000 is start 66000 is goal\n",
      "0 is start 3000 is goal\n",
      "3000 is start 6000 is goal\n",
      "6000 is start 9000 is goal\n",
      "9000 is start 12000 is goal\n",
      "12000 is start 15000 is goal\n",
      "15000 is start 18000 is goal\n",
      "18000 is start 21000 is goal\n",
      "21000 is start 24000 is goal\n",
      "24000 is start 27000 is goal\n",
      "27000 is start 30000 is goal\n",
      "30000 is start 33000 is goal\n",
      "33000 is start 36000 is goal\n",
      "36000 is start 39000 is goal\n",
      "39000 is start 42000 is goal\n",
      "42000 is start 45000 is goal\n",
      "45000 is start 48000 is goal\n",
      "48000 is start 51000 is goal\n",
      "51000 is start 54000 is goal\n",
      "54000 is start 57000 is goal\n",
      "57000 is start 60000 is goal\n",
      "60000 is start 63000 is goal\n",
      "63000 is start 66000 is goal\n"
     ]
    }
   ],
   "source": [
    "Sensor ='sensor3'\n",
    "encord=processing.LoadDicDataFromFileNPZ('study/'+Sensor+'_AccX_encoded.npz')\n",
    "decord=processing.LoadDicDataFromFileNPZ('study/'+Sensor+'_AccX_decoded.npz')\n",
    "\n",
    "fftDataE = np.array([])\n",
    "fftDataD = np.array([])\n",
    "\n",
    "for i in range(len(encord)):\n",
    "        fftDataE=np.append(fftDataE, fftpack.fft(encord[i])[1:len(encord[i])/2+1])\n",
    "        fftDataD=np.append(fftDataD, fftpack.fft(decord[i])[1:len(encord[i])/2+1])\n",
    "\n",
    "fftDataE = fftDataE.reshape(len(encord),len(encord[0])/2)\n",
    "fftDataD = fftDataD.reshape(len(encord),len(encord[0])/2)\n",
    "\n",
    "print np.imag(fftDataE).shape\n",
    "print fftDataD.shape\n",
    "\n",
    "for n in range(0,len(encord[0])/2*16000,fwidth):\n",
    "    MakeGlaph(np.imag(fftDataE), np.imag(fftDataD) ,n,n+fwidth,GlaphDataFftPath+Sensor+'-fft-image-AccX')\n",
    "    \n",
    "for n in range(0,len(encord[0])/2*16000,fwidth):\n",
    "    MakeGlaph(np.real(fftDataE), np.real(fftDataD) ,n,n+fwidth,GlaphDataFftPath+Sensor+'-fft-real-AccX')\n",
    "    \n",
    "PowerE = np.imag(fftDataE)**2+np.real(fftDataE)**2\n",
    "PowerD = np.imag(fftDataD)**2+np.real(fftDataD)**2\n",
    "\n",
    "for n in range(0,len(encord[0])/2*16000,fwidth):\n",
    "    MakeGlaph(PowerE, PowerD,n,n+fwidth,GlaphDataFftPath+Sensor+'-fft-power-AccX')"
   ]
  },
  {
   "cell_type": "code",
   "execution_count": 67,
   "metadata": {
    "collapsed": false,
    "scrolled": true
   },
   "outputs": [
    {
     "name": "stdout",
     "output_type": "stream",
     "text": [
      "(15921, 4)\n",
      "(15921, 4)\n",
      "0 is start 3000 is goal\n",
      "3000 is start 6000 is goal\n",
      "6000 is start 9000 is goal\n",
      "9000 is start 12000 is goal\n",
      "12000 is start 15000 is goal\n",
      "15000 is start 18000 is goal\n",
      "18000 is start 21000 is goal\n",
      "21000 is start 24000 is goal\n",
      "24000 is start 27000 is goal\n",
      "27000 is start 30000 is goal\n",
      "30000 is start 33000 is goal\n",
      "33000 is start 36000 is goal\n",
      "36000 is start 39000 is goal\n",
      "39000 is start 42000 is goal\n",
      "42000 is start 45000 is goal\n",
      "45000 is start 48000 is goal\n",
      "48000 is start 51000 is goal\n",
      "51000 is start 54000 is goal\n",
      "54000 is start 57000 is goal\n",
      "57000 is start 60000 is goal\n",
      "60000 is start 63000 is goal\n",
      "63000 is start 66000 is goal\n",
      "0 is start 3000 is goal\n",
      "3000 is start 6000 is goal\n",
      "6000 is start 9000 is goal\n",
      "9000 is start 12000 is goal\n",
      "12000 is start 15000 is goal\n",
      "15000 is start 18000 is goal\n",
      "18000 is start 21000 is goal\n",
      "21000 is start 24000 is goal\n",
      "24000 is start 27000 is goal\n",
      "27000 is start 30000 is goal\n",
      "30000 is start 33000 is goal\n",
      "33000 is start 36000 is goal\n",
      "36000 is start 39000 is goal\n",
      "39000 is start 42000 is goal\n",
      "42000 is start 45000 is goal\n",
      "45000 is start 48000 is goal\n",
      "48000 is start 51000 is goal\n",
      "51000 is start 54000 is goal\n",
      "54000 is start 57000 is goal\n",
      "57000 is start 60000 is goal\n",
      "60000 is start 63000 is goal\n",
      "63000 is start 66000 is goal\n",
      "0 is start 3000 is goal\n",
      "3000 is start 6000 is goal\n",
      "6000 is start 9000 is goal\n",
      "9000 is start 12000 is goal\n",
      "12000 is start 15000 is goal\n",
      "15000 is start 18000 is goal\n",
      "18000 is start 21000 is goal\n",
      "21000 is start 24000 is goal\n",
      "24000 is start 27000 is goal\n",
      "27000 is start 30000 is goal\n",
      "30000 is start 33000 is goal\n",
      "33000 is start 36000 is goal\n",
      "36000 is start 39000 is goal\n",
      "39000 is start 42000 is goal\n",
      "42000 is start 45000 is goal\n",
      "45000 is start 48000 is goal\n",
      "48000 is start 51000 is goal\n",
      "51000 is start 54000 is goal\n",
      "54000 is start 57000 is goal\n",
      "57000 is start 60000 is goal\n",
      "60000 is start 63000 is goal\n",
      "63000 is start 66000 is goal\n"
     ]
    }
   ],
   "source": [
    "Sensor ='sensor4'\n",
    "encord=processing.LoadDicDataFromFileNPZ('study/'+Sensor+'_AccX_encoded.npz')\n",
    "decord=processing.LoadDicDataFromFileNPZ('study/'+Sensor+'_AccX_decoded.npz')\n",
    "\n",
    "fftDataE = np.array([])\n",
    "fftDataD = np.array([])\n",
    "\n",
    "for i in range(len(encord)):\n",
    "        fftDataE=np.append(fftDataE, fftpack.fft(encord[i])[1:len(encord[i])/2+1])\n",
    "        fftDataD=np.append(fftDataD, fftpack.fft(decord[i])[1:len(encord[i])/2+1])\n",
    "\n",
    "fftDataE = fftDataE.reshape(len(encord),len(encord[0])/2)\n",
    "fftDataD = fftDataD.reshape(len(encord),len(encord[0])/2)\n",
    "\n",
    "print np.imag(fftDataE).shape\n",
    "print fftDataD.shape\n",
    "\n",
    "for n in range(0,len(encord[0])/2*16000,fwidth):\n",
    "    MakeGlaph(np.imag(fftDataE), np.imag(fftDataD) ,n,n+fwidth,GlaphDataFftPath+Sensor+'-fft-image-AccX')\n",
    "    \n",
    "for n in range(0,len(encord[0])/2*16000,fwidth):\n",
    "    MakeGlaph(np.real(fftDataE), np.real(fftDataD) ,n,n+fwidth,GlaphDataFftPath+Sensor+'-fft-real-AccX')\n",
    "    \n",
    "PowerE = np.imag(fftDataE)**2+np.real(fftDataE)**2\n",
    "PowerD = np.imag(fftDataD)**2+np.real(fftDataD)**2\n",
    "\n",
    "for n in range(0,len(encord[0])/2*16000,fwidth):\n",
    "    MakeGlaph(PowerE, PowerD,n,n+fwidth,GlaphDataFftPath+Sensor+'-fft-power-AccX')"
   ]
  },
  {
   "cell_type": "code",
   "execution_count": 68,
   "metadata": {
    "collapsed": false,
    "scrolled": true
   },
   "outputs": [
    {
     "name": "stdout",
     "output_type": "stream",
     "text": [
      "(15921, 4)\n",
      "(15921, 4)\n",
      "0 is start 3000 is goal\n",
      "3000 is start 6000 is goal\n",
      "6000 is start 9000 is goal\n",
      "9000 is start 12000 is goal\n",
      "12000 is start 15000 is goal\n",
      "15000 is start 18000 is goal\n",
      "18000 is start 21000 is goal\n",
      "21000 is start 24000 is goal\n",
      "24000 is start 27000 is goal\n",
      "27000 is start 30000 is goal\n",
      "30000 is start 33000 is goal\n",
      "33000 is start 36000 is goal\n",
      "36000 is start 39000 is goal\n",
      "39000 is start 42000 is goal\n",
      "42000 is start 45000 is goal\n",
      "45000 is start 48000 is goal\n",
      "48000 is start 51000 is goal\n",
      "51000 is start 54000 is goal\n",
      "54000 is start 57000 is goal\n",
      "57000 is start 60000 is goal\n",
      "60000 is start 63000 is goal\n",
      "63000 is start 66000 is goal\n",
      "0 is start 3000 is goal\n",
      "3000 is start 6000 is goal\n",
      "6000 is start 9000 is goal\n",
      "9000 is start 12000 is goal\n",
      "12000 is start 15000 is goal\n",
      "15000 is start 18000 is goal\n",
      "18000 is start 21000 is goal\n",
      "21000 is start 24000 is goal\n",
      "24000 is start 27000 is goal\n",
      "27000 is start 30000 is goal\n",
      "30000 is start 33000 is goal\n",
      "33000 is start 36000 is goal\n",
      "36000 is start 39000 is goal\n",
      "39000 is start 42000 is goal\n",
      "42000 is start 45000 is goal\n",
      "45000 is start 48000 is goal\n",
      "48000 is start 51000 is goal\n",
      "51000 is start 54000 is goal\n",
      "54000 is start 57000 is goal\n",
      "57000 is start 60000 is goal\n",
      "60000 is start 63000 is goal\n",
      "63000 is start 66000 is goal\n",
      "0 is start 3000 is goal\n",
      "3000 is start 6000 is goal\n",
      "6000 is start 9000 is goal\n",
      "9000 is start 12000 is goal\n",
      "12000 is start 15000 is goal\n",
      "15000 is start 18000 is goal\n",
      "18000 is start 21000 is goal\n",
      "21000 is start 24000 is goal\n",
      "24000 is start 27000 is goal\n",
      "27000 is start 30000 is goal\n",
      "30000 is start 33000 is goal\n",
      "33000 is start 36000 is goal\n",
      "36000 is start 39000 is goal\n",
      "39000 is start 42000 is goal\n",
      "42000 is start 45000 is goal\n",
      "45000 is start 48000 is goal\n",
      "48000 is start 51000 is goal\n",
      "51000 is start 54000 is goal\n",
      "54000 is start 57000 is goal\n",
      "57000 is start 60000 is goal\n",
      "60000 is start 63000 is goal\n",
      "63000 is start 66000 is goal\n"
     ]
    }
   ],
   "source": [
    "Sensor ='sensor5'\n",
    "encord=processing.LoadDicDataFromFileNPZ('study/'+Sensor+'_AccX_encoded.npz')\n",
    "decord=processing.LoadDicDataFromFileNPZ('study/'+Sensor+'_AccX_decoded.npz')\n",
    "\n",
    "fftDataE = np.array([])\n",
    "fftDataD = np.array([])\n",
    "\n",
    "for i in range(len(encord)):\n",
    "        fftDataE=np.append(fftDataE, fftpack.fft(encord[i])[1:len(encord[i])/2+1])\n",
    "        fftDataD=np.append(fftDataD, fftpack.fft(decord[i])[1:len(encord[i])/2+1])\n",
    "\n",
    "fftDataE = fftDataE.reshape(len(encord),len(encord[0])/2)\n",
    "fftDataD = fftDataD.reshape(len(encord),len(encord[0])/2)\n",
    "\n",
    "print np.imag(fftDataE).shape\n",
    "print fftDataD.shape\n",
    "\n",
    "for n in range(0,len(encord[0])/2*16000,fwidth):\n",
    "    MakeGlaph(np.imag(fftDataE), np.imag(fftDataD) ,n,n+fwidth,GlaphDataFftPath+Sensor+'-fft-image-AccX')\n",
    "    \n",
    "for n in range(0,len(encord[0])/2*16000,fwidth):\n",
    "    MakeGlaph(np.real(fftDataE), np.real(fftDataD) ,n,n+fwidth,GlaphDataFftPath+Sensor+'-fft-real-AccX')\n",
    "    \n",
    "PowerE = np.imag(fftDataE)**2+np.real(fftDataE)**2\n",
    "PowerD = np.imag(fftDataD)**2+np.real(fftDataD)**2\n",
    "\n",
    "for n in range(0,len(encord[0])/2*16000,fwidth):\n",
    "    MakeGlaph(PowerE, PowerD,n,n+fwidth,GlaphDataFftPath+Sensor+'-fft-power-AccX')"
   ]
  },
  {
   "cell_type": "code",
   "execution_count": 69,
   "metadata": {
    "collapsed": false,
    "scrolled": true
   },
   "outputs": [
    {
     "name": "stdout",
     "output_type": "stream",
     "text": [
      "(15921, 4)\n",
      "(15921, 4)\n",
      "0 is start 3000 is goal\n",
      "3000 is start 6000 is goal\n",
      "6000 is start 9000 is goal\n",
      "9000 is start 12000 is goal\n",
      "12000 is start 15000 is goal\n",
      "15000 is start 18000 is goal\n",
      "18000 is start 21000 is goal\n",
      "21000 is start 24000 is goal\n",
      "24000 is start 27000 is goal\n",
      "27000 is start 30000 is goal\n",
      "30000 is start 33000 is goal\n",
      "33000 is start 36000 is goal\n",
      "36000 is start 39000 is goal\n",
      "39000 is start 42000 is goal\n",
      "42000 is start 45000 is goal\n",
      "45000 is start 48000 is goal\n",
      "48000 is start 51000 is goal\n",
      "51000 is start 54000 is goal\n",
      "54000 is start 57000 is goal\n",
      "57000 is start 60000 is goal\n",
      "60000 is start 63000 is goal\n",
      "63000 is start 66000 is goal\n",
      "0 is start 3000 is goal\n",
      "3000 is start 6000 is goal\n",
      "6000 is start 9000 is goal\n",
      "9000 is start 12000 is goal\n",
      "12000 is start 15000 is goal\n",
      "15000 is start 18000 is goal\n",
      "18000 is start 21000 is goal\n",
      "21000 is start 24000 is goal\n",
      "24000 is start 27000 is goal\n",
      "27000 is start 30000 is goal\n",
      "30000 is start 33000 is goal\n",
      "33000 is start 36000 is goal\n",
      "36000 is start 39000 is goal\n",
      "39000 is start 42000 is goal\n",
      "42000 is start 45000 is goal\n",
      "45000 is start 48000 is goal\n",
      "48000 is start 51000 is goal\n",
      "51000 is start 54000 is goal\n",
      "54000 is start 57000 is goal\n",
      "57000 is start 60000 is goal\n",
      "60000 is start 63000 is goal\n",
      "63000 is start 66000 is goal\n",
      "0 is start 3000 is goal\n",
      "3000 is start 6000 is goal\n",
      "6000 is start 9000 is goal\n",
      "9000 is start 12000 is goal\n",
      "12000 is start 15000 is goal\n",
      "15000 is start 18000 is goal\n",
      "18000 is start 21000 is goal\n",
      "21000 is start 24000 is goal\n",
      "24000 is start 27000 is goal\n",
      "27000 is start 30000 is goal\n",
      "30000 is start 33000 is goal\n",
      "33000 is start 36000 is goal\n",
      "36000 is start 39000 is goal\n",
      "39000 is start 42000 is goal\n",
      "42000 is start 45000 is goal\n",
      "45000 is start 48000 is goal\n",
      "48000 is start 51000 is goal\n",
      "51000 is start 54000 is goal\n",
      "54000 is start 57000 is goal\n",
      "57000 is start 60000 is goal\n",
      "60000 is start 63000 is goal\n",
      "63000 is start 66000 is goal\n"
     ]
    }
   ],
   "source": [
    "Sensor ='sensor6'\n",
    "encord=processing.LoadDicDataFromFileNPZ('study/'+Sensor+'_AccX_encoded.npz')\n",
    "decord=processing.LoadDicDataFromFileNPZ('study/'+Sensor+'_AccX_decoded.npz')\n",
    "\n",
    "fftDataE = np.array([])\n",
    "fftDataD = np.array([])\n",
    "\n",
    "for i in range(len(encord)):\n",
    "        fftDataE=np.append(fftDataE, fftpack.fft(encord[i])[1:len(encord[i])/2+1])\n",
    "        fftDataD=np.append(fftDataD, fftpack.fft(decord[i])[1:len(encord[i])/2+1])\n",
    "\n",
    "fftDataE = fftDataE.reshape(len(encord),len(encord[0])/2)\n",
    "fftDataD = fftDataD.reshape(len(encord),len(encord[0])/2)\n",
    "\n",
    "print np.imag(fftDataE).shape\n",
    "print fftDataD.shape\n",
    "\n",
    "for n in range(0,len(encord[0])/2*16000,fwidth):\n",
    "    MakeGlaph(np.imag(fftDataE), np.imag(fftDataD) ,n,n+fwidth,GlaphDataFftPath+Sensor+'-fft-image-AccX')\n",
    "    \n",
    "for n in range(0,len(encord[0])/2*16000,fwidth):\n",
    "    MakeGlaph(np.real(fftDataE), np.real(fftDataD) ,n,n+fwidth,GlaphDataFftPath+Sensor+'-fft-real-AccX')\n",
    "    \n",
    "PowerE = np.imag(fftDataE)**2+np.real(fftDataE)**2\n",
    "PowerD = np.imag(fftDataD)**2+np.real(fftDataD)**2\n",
    "\n",
    "for n in range(0,len(encord[0])/2*16000,fwidth):\n",
    "    MakeGlaph(PowerE, PowerD,n,n+fwidth,GlaphDataFftPath+Sensor+'-fft-power-AccX')"
   ]
  },
  {
   "cell_type": "code",
   "execution_count": 70,
   "metadata": {
    "collapsed": false,
    "scrolled": true
   },
   "outputs": [
    {
     "name": "stdout",
     "output_type": "stream",
     "text": [
      "(15921, 4)\n",
      "(15921, 4)\n",
      "0 is start 3000 is goal\n",
      "3000 is start 6000 is goal\n",
      "6000 is start 9000 is goal\n",
      "9000 is start 12000 is goal\n",
      "12000 is start 15000 is goal\n",
      "15000 is start 18000 is goal\n",
      "18000 is start 21000 is goal\n",
      "21000 is start 24000 is goal\n",
      "24000 is start 27000 is goal\n",
      "27000 is start 30000 is goal\n",
      "30000 is start 33000 is goal\n",
      "33000 is start 36000 is goal\n",
      "36000 is start 39000 is goal\n",
      "39000 is start 42000 is goal\n",
      "42000 is start 45000 is goal\n",
      "45000 is start 48000 is goal\n",
      "48000 is start 51000 is goal\n",
      "51000 is start 54000 is goal\n",
      "54000 is start 57000 is goal\n",
      "57000 is start 60000 is goal\n",
      "60000 is start 63000 is goal\n",
      "63000 is start 66000 is goal\n",
      "0 is start 3000 is goal\n",
      "3000 is start 6000 is goal\n",
      "6000 is start 9000 is goal\n",
      "9000 is start 12000 is goal\n",
      "12000 is start 15000 is goal\n",
      "15000 is start 18000 is goal\n",
      "18000 is start 21000 is goal\n",
      "21000 is start 24000 is goal\n",
      "24000 is start 27000 is goal\n",
      "27000 is start 30000 is goal\n",
      "30000 is start 33000 is goal\n",
      "33000 is start 36000 is goal\n",
      "36000 is start 39000 is goal\n",
      "39000 is start 42000 is goal\n",
      "42000 is start 45000 is goal\n",
      "45000 is start 48000 is goal\n",
      "48000 is start 51000 is goal\n",
      "51000 is start 54000 is goal\n",
      "54000 is start 57000 is goal\n",
      "57000 is start 60000 is goal\n",
      "60000 is start 63000 is goal\n",
      "63000 is start 66000 is goal\n",
      "0 is start 3000 is goal\n",
      "3000 is start 6000 is goal\n",
      "6000 is start 9000 is goal\n",
      "9000 is start 12000 is goal\n",
      "12000 is start 15000 is goal\n",
      "15000 is start 18000 is goal\n",
      "18000 is start 21000 is goal\n",
      "21000 is start 24000 is goal\n",
      "24000 is start 27000 is goal\n",
      "27000 is start 30000 is goal\n",
      "30000 is start 33000 is goal\n",
      "33000 is start 36000 is goal\n",
      "36000 is start 39000 is goal\n",
      "39000 is start 42000 is goal\n",
      "42000 is start 45000 is goal\n",
      "45000 is start 48000 is goal\n",
      "48000 is start 51000 is goal\n",
      "51000 is start 54000 is goal\n",
      "54000 is start 57000 is goal\n",
      "57000 is start 60000 is goal\n",
      "60000 is start 63000 is goal\n",
      "63000 is start 66000 is goal\n"
     ]
    }
   ],
   "source": [
    "Sensor ='sensor7'\n",
    "encord=processing.LoadDicDataFromFileNPZ('study/'+Sensor+'_AccX_encoded.npz')\n",
    "decord=processing.LoadDicDataFromFileNPZ('study/'+Sensor+'_AccX_decoded.npz')\n",
    "\n",
    "fftDataE = np.array([])\n",
    "fftDataD = np.array([])\n",
    "\n",
    "for i in range(len(encord)):\n",
    "        fftDataE=np.append(fftDataE, fftpack.fft(encord[i])[1:len(encord[i])/2+1])\n",
    "        fftDataD=np.append(fftDataD, fftpack.fft(decord[i])[1:len(encord[i])/2+1])\n",
    "\n",
    "fftDataE = fftDataE.reshape(len(encord),len(encord[0])/2)\n",
    "fftDataD = fftDataD.reshape(len(encord),len(encord[0])/2)\n",
    "\n",
    "print np.imag(fftDataE).shape\n",
    "print fftDataD.shape\n",
    "\n",
    "for n in range(0,len(encord[0])/2*16000,fwidth):\n",
    "    MakeGlaph(np.imag(fftDataE), np.imag(fftDataD) ,n,n+fwidth,GlaphDataFftPath+Sensor+'-fft-image-AccX')\n",
    "    \n",
    "for n in range(0,len(encord[0])/2*16000,fwidth):\n",
    "    MakeGlaph(np.real(fftDataE), np.real(fftDataD) ,n,n+fwidth,GlaphDataFftPath+Sensor+'-fft-real-AccX')\n",
    "    \n",
    "PowerE = np.imag(fftDataE)**2+np.real(fftDataE)**2\n",
    "PowerD = np.imag(fftDataD)**2+np.real(fftDataD)**2\n",
    "\n",
    "for n in range(0,len(encord[0])/2*16000,fwidth):\n",
    "    MakeGlaph(PowerE, PowerD,n,n+fwidth,GlaphDataFftPath+Sensor+'-fft-power-AccX')"
   ]
  },
  {
   "cell_type": "code",
   "execution_count": null,
   "metadata": {
    "collapsed": true
   },
   "outputs": [],
   "source": []
  }
 ],
 "metadata": {
  "kernelspec": {
   "display_name": "Python 2",
   "language": "python",
   "name": "python2"
  },
  "language_info": {
   "codemirror_mode": {
    "name": "ipython",
    "version": 2
   },
   "file_extension": ".py",
   "mimetype": "text/x-python",
   "name": "python",
   "nbconvert_exporter": "python",
   "pygments_lexer": "ipython2",
   "version": "2.7.11"
  }
 },
 "nbformat": 4,
 "nbformat_minor": 0
}
