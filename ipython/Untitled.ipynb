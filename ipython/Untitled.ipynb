{
 "cells": [
  {
   "cell_type": "code",
   "execution_count": 33,
   "metadata": {
    "collapsed": false
   },
   "outputs": [
    {
     "name": "stdout",
     "output_type": "stream",
     "text": [
      "/home/takeyama/Documents/raw\n"
     ]
    }
   ],
   "source": [
    "cd ~/Documents/raw/\n"
   ]
  },
  {
   "cell_type": "code",
   "execution_count": 2,
   "metadata": {
    "collapsed": false
   },
   "outputs": [
    {
     "name": "stdout",
     "output_type": "stream",
     "text": [
      "MemSensor1.npz     MemSensor3.npz     MemSensor5.npz     MemSensor7.npz\r\n",
      "MemSensor1.pickle  MemSensor3.pickle  MemSensor5.pickle  MemSensor7.pickle\r\n",
      "MemSensor2.npz     MemSensor4.npz     MemSensor6.npz\r\n",
      "MemSensor2.pickle  MemSensor4.pickle  MemSensor6.pickle\r\n"
     ]
    }
   ],
   "source": [
    "ls"
   ]
  },
  {
   "cell_type": "code",
   "execution_count": 31,
   "metadata": {
    "collapsed": true
   },
   "outputs": [],
   "source": [
    "import numpy as np\n",
    "import matplotlib.pyplot as plt"
   ]
  },
  {
   "cell_type": "code",
   "execution_count": 6,
   "metadata": {
    "collapsed": false
   },
   "outputs": [],
   "source": [
    "ndarr1 = np.load('MemSensor1.npz')"
   ]
  },
  {
   "cell_type": "code",
   "execution_count": 9,
   "metadata": {
    "collapsed": false
   },
   "outputs": [
    {
     "data": {
      "text/plain": [
       "['data']"
      ]
     },
     "execution_count": 9,
     "metadata": {},
     "output_type": "execute_result"
    }
   ],
   "source": [
    "ndarr1.keys()"
   ]
  },
  {
   "cell_type": "code",
   "execution_count": 15,
   "metadata": {
    "collapsed": false
   },
   "outputs": [
    {
     "data": {
      "text/plain": [
       "numpy.ndarray"
      ]
     },
     "execution_count": 15,
     "metadata": {},
     "output_type": "execute_result"
    }
   ],
   "source": [
    "type( ndarr1['data'] )"
   ]
  },
  {
   "cell_type": "code",
   "execution_count": 17,
   "metadata": {
    "collapsed": false
   },
   "outputs": [
    {
     "data": {
      "text/plain": [
       "[('data',\n",
       "  array({'Name': 'MemSensor1', 'Time': array([35951381, 35951382, 35951383, ..., 36206120, 36206121, 36206122]), 'AccY': array([ 0.2872,  0.2899,  0.293 , ...,  0.1961,  0.1942,  0.2003]), 'AccX': array([-0.956 , -0.9609, -0.9589, ..., -0.9714, -0.9731, -0.9768]), 'AccZ': array([-0.0974, -0.0964, -0.1035, ...,  0.0059,  0.0008,  0.0067]), 'GyrZ': array([ 0.18,  0.18,  0.2 , ..., -0.49, -0.35, -0.31]), 'GyrX': array([ 7.98,  8.33,  8.44, ..., -2.07, -1.93, -1.89]), 'GyrY': array([-7.96, -7.88, -7.93, ..., -0.28, -0.13, -0.11])}, dtype=object))]"
      ]
     },
     "execution_count": 17,
     "metadata": {},
     "output_type": "execute_result"
    }
   ],
   "source": [
    "ndarr1.items()"
   ]
  },
  {
   "cell_type": "code",
   "execution_count": 27,
   "metadata": {
    "collapsed": false
   },
   "outputs": [],
   "source": [
    "data = ndarr1['data'][()]"
   ]
  },
  {
   "cell_type": "code",
   "execution_count": 29,
   "metadata": {
    "collapsed": false
   },
   "outputs": [
    {
     "data": {
      "text/plain": [
       "array([-0.956 , -0.9609, -0.9589, ..., -0.9714, -0.9731, -0.9768])"
      ]
     },
     "execution_count": 29,
     "metadata": {},
     "output_type": "execute_result"
    }
   ],
   "source": [
    "data['AccX']"
   ]
  },
  {
   "cell_type": "code",
   "execution_count": 30,
   "metadata": {
    "collapsed": false
   },
   "outputs": [
    {
     "data": {
      "text/plain": [
       "array([35951381, 35951382, 35951383, ..., 36206120, 36206121, 36206122])"
      ]
     },
     "execution_count": 30,
     "metadata": {},
     "output_type": "execute_result"
    }
   ],
   "source": [
    "data['Time']"
   ]
  },
  {
   "cell_type": "code",
   "execution_count": 38,
   "metadata": {
    "collapsed": false
   },
   "outputs": [
    {
     "data": {
      "text/plain": [
       "datetime.date(2015, 9, 14)"
      ]
     },
     "execution_count": 38,
     "metadata": {},
     "output_type": "execute_result"
    }
   ],
   "source": [
    "datetime.date.fromtimestamp(1442189545)"
   ]
  },
  {
   "cell_type": "code",
   "execution_count": 39,
   "metadata": {
    "collapsed": false
   },
   "outputs": [
    {
     "name": "stdout",
     "output_type": "stream",
     "text": [
      "1477361707.82\n",
      "1477361707\n"
     ]
    }
   ],
   "source": [
    "import time\n",
    "\n",
    "print time.time()\n",
    "print int(time.time())"
   ]
  },
  {
   "cell_type": "code",
   "execution_count": 60,
   "metadata": {
    "collapsed": false
   },
   "outputs": [
    {
     "data": {
      "text/plain": [
       "array([35951381, 35951382, 35951383, ..., 36206120, 36206121, 36206122])"
      ]
     },
     "execution_count": 60,
     "metadata": {},
     "output_type": "execute_result"
    }
   ],
   "source": [
    "import time\n",
    "from datetime import datetime\n",
    "type( data['Time'] )\n",
    "today0 = datetime.now().replace(hour=0,minute=0,second=0,microsecond=0)\n"
   ]
  },
  {
   "cell_type": "code",
   "execution_count": 37,
   "metadata": {
    "collapsed": false
   },
   "outputs": [
    {
     "data": {
      "image/png": "[encoded data removed]",
      "text/plain": [
       "<matplotlib.figure.Figure at 0x7efe5e0aed10>"
      ]
     },
     "metadata": {},
     "output_type": "display_data"
    },
    {
     "data": {
      "text/plain": [
       "<matplotlib.figure.Figure at 0x7efe5db97450>"
      ]
     },
     "metadata": {},
     "output_type": "display_data"
    }
   ],
   "source": [
    "%matplotlib inline\n",
    "import numpy as np\n",
    "from pandas import *\n",
    "from pylab import *\n",
    "import matplotlib.pyplot as plt\n",
    "from matplotlib import font_manager\n",
    "from numpy.random import randn\n",
    "\n",
    "# 日本語を使うため必要\n",
    "fontprop = matplotlib.font_manager.FontProperties(fname=\"/usr/share/fonts/truetype/fonts-japanese-gothic.ttf\")\n",
    "\n",
    "plt.plot(data['Time'][0:200],data['AccX'][0:200])\n",
    "plt.xlim()\n",
    "plt.show()\n",
    "plt.savefig(\"image.png\")"
   ]
  },
  {
   "cell_type": "code",
   "execution_count": null,
   "metadata": {
    "collapsed": true
   },
   "outputs": [],
   "source": []
  }
 ],
 "metadata": {
  "kernelspec": {
   "display_name": "Python 2",
   "language": "python",
   "name": "python2"
  },
  "language_info": {
   "codemirror_mode": {
    "name": "ipython",
    "version": 2
   },
   "file_extension": ".py",
   "mimetype": "text/x-python",
   "name": "python",
   "nbconvert_exporter": "python",
   "pygments_lexer": "ipython2",
   "version": "2.7.11"
  }
 },
 "nbformat": 4,
 "nbformat_minor": 0
}
