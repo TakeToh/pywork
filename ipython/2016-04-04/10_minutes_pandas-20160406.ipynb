{
 "cells": [
  {
   "cell_type": "code",
   "execution_count": 18,
   "metadata": {
    "collapsed": false
   },
   "outputs": [],
   "source": [
    "import numpy as np\n",
    "import pandas as pd\n",
    "import matplotlib\n",
    "import matplotlib.pyplot as plt"
   ]
  },
  {
   "cell_type": "code",
   "execution_count": 19,
   "metadata": {
    "collapsed": false
   },
   "outputs": [
    {
     "data": {
      "text/plain": [
       "2000-01-01   -0.005745\n",
       "2000-01-02   -1.028649\n",
       "2000-01-03   -0.298545\n",
       "2000-01-04   -1.004064\n",
       "2000-01-05    0.888874\n",
       "2000-01-06    0.410063\n",
       "2000-01-07    0.735619\n",
       "2000-01-08    0.992173\n",
       "2000-01-09   -0.025171\n",
       "2000-01-10    0.808384\n",
       "2000-01-11   -0.687272\n",
       "2000-01-12    0.377077\n",
       "2000-01-13   -1.338518\n",
       "2000-01-14    3.172369\n",
       "2000-01-15    0.225677\n",
       "2000-01-16    0.394796\n",
       "2000-01-17   -0.875612\n",
       "2000-01-18    0.021252\n",
       "2000-01-19   -1.158120\n",
       "2000-01-20   -1.534542\n",
       "2000-01-21   -0.501375\n",
       "2000-01-22    0.943989\n",
       "2000-01-23   -2.117864\n",
       "2000-01-24    1.134935\n",
       "2000-01-25   -1.151289\n",
       "2000-01-26   -0.064236\n",
       "2000-01-27   -0.352597\n",
       "2000-01-28   -1.603106\n",
       "2000-01-29   -0.459594\n",
       "2000-01-30    1.110724\n",
       "                ...   \n",
       "2002-08-28    0.260517\n",
       "2002-08-29   -0.608547\n",
       "2002-08-30   -1.405055\n",
       "2002-08-31   -0.196989\n",
       "2002-09-01   -1.305445\n",
       "2002-09-02    0.279954\n",
       "2002-09-03    0.658559\n",
       "2002-09-04    0.515532\n",
       "2002-09-05   -0.123176\n",
       "2002-09-06    0.094981\n",
       "2002-09-07   -1.050714\n",
       "2002-09-08   -0.252272\n",
       "2002-09-09   -0.994708\n",
       "2002-09-10   -1.658458\n",
       "2002-09-11   -0.280133\n",
       "2002-09-12    0.025509\n",
       "2002-09-13    0.201392\n",
       "2002-09-14    0.664660\n",
       "2002-09-15    1.021471\n",
       "2002-09-16    0.555134\n",
       "2002-09-17   -2.211019\n",
       "2002-09-18   -1.292229\n",
       "2002-09-19    0.288237\n",
       "2002-09-20    1.791552\n",
       "2002-09-21   -1.224928\n",
       "2002-09-22   -1.103196\n",
       "2002-09-23    1.146917\n",
       "2002-09-24   -0.410407\n",
       "2002-09-25    0.035321\n",
       "2002-09-26    0.959011\n",
       "Freq: D, dtype: float64"
      ]
     },
     "execution_count": 19,
     "metadata": {},
     "output_type": "execute_result"
    }
   ],
   "source": [
    "ts = pd.Series(np.random.randn(1000), index=pd.date_range('1/1/2000', periods=1000))\n",
    "ts"
   ]
  },
  {
   "cell_type": "code",
   "execution_count": 20,
   "metadata": {
    "collapsed": true
   },
   "outputs": [],
   "source": [
    "ts_cumsum=ts.cumsum()"
   ]
  },
  {
   "cell_type": "code",
   "execution_count": 21,
   "metadata": {
    "collapsed": false
   },
   "outputs": [
    {
     "data": {
      "text/plain": [
       "<matplotlib.axes._subplots.AxesSubplot at 0x7fe8c17c56d0>"
      ]
     },
     "execution_count": 21,
     "metadata": {},
     "output_type": "execute_result"
    },
    {
     "data": {
      "image/png": "[encoded data removed]",
      "text/plain": [
       "<matplotlib.figure.Figure at 0x7fe8c19e6250>"
      ]
     },
     "metadata": {},
     "output_type": "display_data"
    }
   ],
   "source": [
    "ts_cumsum.plot()"
   ]
  },
  {
   "cell_type": "code",
   "execution_count": 22,
   "metadata": {
    "collapsed": false
   },
   "outputs": [
    {
     "data": {
      "text/plain": [
       "2000-01-01   -0.005745\n",
       "2000-01-02   -0.005745\n",
       "2000-01-03   -0.005745\n",
       "2000-01-04   -0.005745\n",
       "2000-01-05    0.888874\n",
       "2000-01-06    0.888874\n",
       "2000-01-07    0.888874\n",
       "2000-01-08    0.992173\n",
       "2000-01-09    0.992173\n",
       "2000-01-10    0.992173\n",
       "2000-01-11    0.992173\n",
       "2000-01-12    0.992173\n",
       "2000-01-13    0.992173\n",
       "2000-01-14    3.172369\n",
       "2000-01-15    3.172369\n",
       "2000-01-16    3.172369\n",
       "2000-01-17    3.172369\n",
       "2000-01-18    3.172369\n",
       "2000-01-19    3.172369\n",
       "2000-01-20    3.172369\n",
       "2000-01-21    3.172369\n",
       "2000-01-22    3.172369\n",
       "2000-01-23    3.172369\n",
       "2000-01-24    3.172369\n",
       "2000-01-25    3.172369\n",
       "2000-01-26    3.172369\n",
       "2000-01-27    3.172369\n",
       "2000-01-28    3.172369\n",
       "2000-01-29    3.172369\n",
       "2000-01-30    3.172369\n",
       "                ...   \n",
       "2002-08-28    3.219268\n",
       "2002-08-29    3.219268\n",
       "2002-08-30    3.219268\n",
       "2002-08-31    3.219268\n",
       "2002-09-01    3.219268\n",
       "2002-09-02    3.219268\n",
       "2002-09-03    3.219268\n",
       "2002-09-04    3.219268\n",
       "2002-09-05    3.219268\n",
       "2002-09-06    3.219268\n",
       "2002-09-07    3.219268\n",
       "2002-09-08    3.219268\n",
       "2002-09-09    3.219268\n",
       "2002-09-10    3.219268\n",
       "2002-09-11    3.219268\n",
       "2002-09-12    3.219268\n",
       "2002-09-13    3.219268\n",
       "2002-09-14    3.219268\n",
       "2002-09-15    3.219268\n",
       "2002-09-16    3.219268\n",
       "2002-09-17    3.219268\n",
       "2002-09-18    3.219268\n",
       "2002-09-19    3.219268\n",
       "2002-09-20    3.219268\n",
       "2002-09-21    3.219268\n",
       "2002-09-22    3.219268\n",
       "2002-09-23    3.219268\n",
       "2002-09-24    3.219268\n",
       "2002-09-25    3.219268\n",
       "2002-09-26    3.219268\n",
       "Freq: D, dtype: float64"
      ]
     },
     "execution_count": 22,
     "metadata": {},
     "output_type": "execute_result"
    }
   ],
   "source": [
    "ts_cummax=ts.cummax()\n",
    "ts_cummax"
   ]
  },
  {
   "cell_type": "code",
   "execution_count": 23,
   "metadata": {
    "collapsed": false
   },
   "outputs": [
    {
     "data": {
      "text/plain": [
       "<matplotlib.axes._subplots.AxesSubplot at 0x7fe8c16de690>"
      ]
     },
     "execution_count": 23,
     "metadata": {},
     "output_type": "execute_result"
    },
    {
     "data": {
      "image/png": "[encoded data removed]",
      "text/plain": [
       "<matplotlib.figure.Figure at 0x7fe8c16fc150>"
      ]
     },
     "metadata": {},
     "output_type": "display_data"
    }
   ],
   "source": [
    "ts_cummax.plot()"
   ]
  },
  {
   "cell_type": "code",
   "execution_count": 24,
   "metadata": {
    "collapsed": true
   },
   "outputs": [],
   "source": [
    "df = pd.DataFrame(np.random.randn(1000, 4), index=ts.index,\n",
    "   .....:                   columns=['A', 'B', 'C', 'D'])"
   ]
  },
  {
   "cell_type": "code",
   "execution_count": 25,
   "metadata": {
    "collapsed": false
   },
   "outputs": [
    {
     "data": {
      "text/html": [
       "<div>\n",
       "<table border=\"1\" class=\"dataframe\">\n",
       "  <thead>\n",
       "    <tr style=\"text-align: right;\">\n",
       "      <th></th>\n",
       "      <th>A</th>\n",
       "      <th>B</th>\n",
       "      <th>C</th>\n",
       "      <th>D</th>\n",
       "    </tr>\n",
       "  </thead>\n",
       "  <tbody>\n",
       "    <tr>\n",
       "      <th>2000-01-01</th>\n",
       "      <td>0.628103</td>\n",
       "      <td>0.337116</td>\n",
       "      <td>1.752253</td>\n",
       "      <td>-0.954187</td>\n",
       "    </tr>\n",
       "    <tr>\n",
       "      <th>2000-01-02</th>\n",
       "      <td>0.402999</td>\n",
       "      <td>-0.274353</td>\n",
       "      <td>-0.146159</td>\n",
       "      <td>-1.289581</td>\n",
       "    </tr>\n",
       "    <tr>\n",
       "      <th>2000-01-03</th>\n",
       "      <td>-1.243277</td>\n",
       "      <td>-0.980697</td>\n",
       "      <td>-1.001975</td>\n",
       "      <td>1.778903</td>\n",
       "    </tr>\n",
       "    <tr>\n",
       "      <th>2000-01-04</th>\n",
       "      <td>-0.567297</td>\n",
       "      <td>-0.445893</td>\n",
       "      <td>0.686108</td>\n",
       "      <td>-0.281152</td>\n",
       "    </tr>\n",
       "    <tr>\n",
       "      <th>2000-01-05</th>\n",
       "      <td>-0.040580</td>\n",
       "      <td>-0.884180</td>\n",
       "      <td>0.229932</td>\n",
       "      <td>-0.000062</td>\n",
       "    </tr>\n",
       "    <tr>\n",
       "      <th>2000-01-06</th>\n",
       "      <td>1.681164</td>\n",
       "      <td>-0.151997</td>\n",
       "      <td>-0.780569</td>\n",
       "      <td>-0.746192</td>\n",
       "    </tr>\n",
       "    <tr>\n",
       "      <th>2000-01-07</th>\n",
       "      <td>0.038134</td>\n",
       "      <td>-0.862009</td>\n",
       "      <td>-1.058645</td>\n",
       "      <td>0.606117</td>\n",
       "    </tr>\n",
       "    <tr>\n",
       "      <th>2000-01-08</th>\n",
       "      <td>-0.863832</td>\n",
       "      <td>-0.207696</td>\n",
       "      <td>-1.398680</td>\n",
       "      <td>0.128553</td>\n",
       "    </tr>\n",
       "    <tr>\n",
       "      <th>2000-01-09</th>\n",
       "      <td>-0.286369</td>\n",
       "      <td>-0.709062</td>\n",
       "      <td>0.470309</td>\n",
       "      <td>-0.282168</td>\n",
       "    </tr>\n",
       "    <tr>\n",
       "      <th>2000-01-10</th>\n",
       "      <td>-0.355756</td>\n",
       "      <td>-0.219865</td>\n",
       "      <td>-0.685256</td>\n",
       "      <td>1.312985</td>\n",
       "    </tr>\n",
       "    <tr>\n",
       "      <th>2000-01-11</th>\n",
       "      <td>0.556421</td>\n",
       "      <td>0.370914</td>\n",
       "      <td>0.082106</td>\n",
       "      <td>1.034479</td>\n",
       "    </tr>\n",
       "    <tr>\n",
       "      <th>2000-01-12</th>\n",
       "      <td>0.725231</td>\n",
       "      <td>0.150766</td>\n",
       "      <td>1.556238</td>\n",
       "      <td>-0.468045</td>\n",
       "    </tr>\n",
       "    <tr>\n",
       "      <th>2000-01-13</th>\n",
       "      <td>-0.487751</td>\n",
       "      <td>1.225137</td>\n",
       "      <td>0.566094</td>\n",
       "      <td>0.262577</td>\n",
       "    </tr>\n",
       "    <tr>\n",
       "      <th>2000-01-14</th>\n",
       "      <td>0.335831</td>\n",
       "      <td>0.827516</td>\n",
       "      <td>0.048039</td>\n",
       "      <td>-0.487075</td>\n",
       "    </tr>\n",
       "    <tr>\n",
       "      <th>2000-01-15</th>\n",
       "      <td>-0.461401</td>\n",
       "      <td>0.447048</td>\n",
       "      <td>-0.415226</td>\n",
       "      <td>-1.811386</td>\n",
       "    </tr>\n",
       "    <tr>\n",
       "      <th>2000-01-16</th>\n",
       "      <td>-2.332790</td>\n",
       "      <td>2.531984</td>\n",
       "      <td>-0.609067</td>\n",
       "      <td>1.015231</td>\n",
       "    </tr>\n",
       "    <tr>\n",
       "      <th>2000-01-17</th>\n",
       "      <td>-0.316469</td>\n",
       "      <td>-0.927423</td>\n",
       "      <td>0.368876</td>\n",
       "      <td>-0.587426</td>\n",
       "    </tr>\n",
       "    <tr>\n",
       "      <th>2000-01-18</th>\n",
       "      <td>-1.193586</td>\n",
       "      <td>-1.430331</td>\n",
       "      <td>-1.431795</td>\n",
       "      <td>0.535835</td>\n",
       "    </tr>\n",
       "    <tr>\n",
       "      <th>2000-01-19</th>\n",
       "      <td>-0.015195</td>\n",
       "      <td>0.158878</td>\n",
       "      <td>-0.668861</td>\n",
       "      <td>-0.821280</td>\n",
       "    </tr>\n",
       "    <tr>\n",
       "      <th>2000-01-20</th>\n",
       "      <td>1.195967</td>\n",
       "      <td>0.877234</td>\n",
       "      <td>-0.162355</td>\n",
       "      <td>-0.984678</td>\n",
       "    </tr>\n",
       "    <tr>\n",
       "      <th>2000-01-21</th>\n",
       "      <td>0.754809</td>\n",
       "      <td>-0.769589</td>\n",
       "      <td>-0.603837</td>\n",
       "      <td>1.146293</td>\n",
       "    </tr>\n",
       "    <tr>\n",
       "      <th>2000-01-22</th>\n",
       "      <td>1.824311</td>\n",
       "      <td>-0.035543</td>\n",
       "      <td>-0.247298</td>\n",
       "      <td>-1.113579</td>\n",
       "    </tr>\n",
       "    <tr>\n",
       "      <th>2000-01-23</th>\n",
       "      <td>0.297601</td>\n",
       "      <td>0.952190</td>\n",
       "      <td>0.394575</td>\n",
       "      <td>0.423323</td>\n",
       "    </tr>\n",
       "    <tr>\n",
       "      <th>2000-01-24</th>\n",
       "      <td>-0.109737</td>\n",
       "      <td>0.369847</td>\n",
       "      <td>-0.349643</td>\n",
       "      <td>0.213981</td>\n",
       "    </tr>\n",
       "    <tr>\n",
       "      <th>2000-01-25</th>\n",
       "      <td>1.381788</td>\n",
       "      <td>0.199798</td>\n",
       "      <td>0.354637</td>\n",
       "      <td>0.895215</td>\n",
       "    </tr>\n",
       "    <tr>\n",
       "      <th>2000-01-26</th>\n",
       "      <td>-0.168990</td>\n",
       "      <td>-1.026554</td>\n",
       "      <td>0.414402</td>\n",
       "      <td>0.458460</td>\n",
       "    </tr>\n",
       "    <tr>\n",
       "      <th>2000-01-27</th>\n",
       "      <td>-0.047613</td>\n",
       "      <td>0.399799</td>\n",
       "      <td>-0.684460</td>\n",
       "      <td>-1.097122</td>\n",
       "    </tr>\n",
       "    <tr>\n",
       "      <th>2000-01-28</th>\n",
       "      <td>-0.269651</td>\n",
       "      <td>-1.650639</td>\n",
       "      <td>0.829879</td>\n",
       "      <td>0.205440</td>\n",
       "    </tr>\n",
       "    <tr>\n",
       "      <th>2000-01-29</th>\n",
       "      <td>-0.472133</td>\n",
       "      <td>-0.376681</td>\n",
       "      <td>0.630405</td>\n",
       "      <td>-0.597672</td>\n",
       "    </tr>\n",
       "    <tr>\n",
       "      <th>2000-01-30</th>\n",
       "      <td>0.554677</td>\n",
       "      <td>-1.191678</td>\n",
       "      <td>1.102863</td>\n",
       "      <td>0.129944</td>\n",
       "    </tr>\n",
       "    <tr>\n",
       "      <th>...</th>\n",
       "      <td>...</td>\n",
       "      <td>...</td>\n",
       "      <td>...</td>\n",
       "      <td>...</td>\n",
       "    </tr>\n",
       "    <tr>\n",
       "      <th>2002-08-28</th>\n",
       "      <td>0.384431</td>\n",
       "      <td>1.430477</td>\n",
       "      <td>-0.171830</td>\n",
       "      <td>0.766434</td>\n",
       "    </tr>\n",
       "    <tr>\n",
       "      <th>2002-08-29</th>\n",
       "      <td>-0.561105</td>\n",
       "      <td>-0.069025</td>\n",
       "      <td>-1.345177</td>\n",
       "      <td>1.285390</td>\n",
       "    </tr>\n",
       "    <tr>\n",
       "      <th>2002-08-30</th>\n",
       "      <td>1.200592</td>\n",
       "      <td>1.664034</td>\n",
       "      <td>-0.768297</td>\n",
       "      <td>0.895163</td>\n",
       "    </tr>\n",
       "    <tr>\n",
       "      <th>2002-08-31</th>\n",
       "      <td>0.824431</td>\n",
       "      <td>0.291284</td>\n",
       "      <td>1.530749</td>\n",
       "      <td>-0.809812</td>\n",
       "    </tr>\n",
       "    <tr>\n",
       "      <th>2002-09-01</th>\n",
       "      <td>-1.676804</td>\n",
       "      <td>0.282187</td>\n",
       "      <td>-1.225627</td>\n",
       "      <td>1.024650</td>\n",
       "    </tr>\n",
       "    <tr>\n",
       "      <th>2002-09-02</th>\n",
       "      <td>-0.739680</td>\n",
       "      <td>-0.252613</td>\n",
       "      <td>0.952783</td>\n",
       "      <td>1.211069</td>\n",
       "    </tr>\n",
       "    <tr>\n",
       "      <th>2002-09-03</th>\n",
       "      <td>1.254616</td>\n",
       "      <td>-0.942420</td>\n",
       "      <td>-0.111432</td>\n",
       "      <td>-0.253890</td>\n",
       "    </tr>\n",
       "    <tr>\n",
       "      <th>2002-09-04</th>\n",
       "      <td>0.476977</td>\n",
       "      <td>-1.881305</td>\n",
       "      <td>0.288669</td>\n",
       "      <td>1.747432</td>\n",
       "    </tr>\n",
       "    <tr>\n",
       "      <th>2002-09-05</th>\n",
       "      <td>-0.851361</td>\n",
       "      <td>-1.141811</td>\n",
       "      <td>-0.038063</td>\n",
       "      <td>0.464655</td>\n",
       "    </tr>\n",
       "    <tr>\n",
       "      <th>2002-09-06</th>\n",
       "      <td>0.589152</td>\n",
       "      <td>0.556586</td>\n",
       "      <td>0.367868</td>\n",
       "      <td>1.359061</td>\n",
       "    </tr>\n",
       "    <tr>\n",
       "      <th>2002-09-07</th>\n",
       "      <td>0.297729</td>\n",
       "      <td>-0.469194</td>\n",
       "      <td>0.264945</td>\n",
       "      <td>0.049725</td>\n",
       "    </tr>\n",
       "    <tr>\n",
       "      <th>2002-09-08</th>\n",
       "      <td>-0.446753</td>\n",
       "      <td>0.437657</td>\n",
       "      <td>0.865529</td>\n",
       "      <td>-0.940238</td>\n",
       "    </tr>\n",
       "    <tr>\n",
       "      <th>2002-09-09</th>\n",
       "      <td>-0.207396</td>\n",
       "      <td>0.765526</td>\n",
       "      <td>-0.360916</td>\n",
       "      <td>-0.581627</td>\n",
       "    </tr>\n",
       "    <tr>\n",
       "      <th>2002-09-10</th>\n",
       "      <td>1.343519</td>\n",
       "      <td>0.216807</td>\n",
       "      <td>0.015376</td>\n",
       "      <td>-0.775013</td>\n",
       "    </tr>\n",
       "    <tr>\n",
       "      <th>2002-09-11</th>\n",
       "      <td>0.041885</td>\n",
       "      <td>0.490543</td>\n",
       "      <td>-1.607401</td>\n",
       "      <td>0.454953</td>\n",
       "    </tr>\n",
       "    <tr>\n",
       "      <th>2002-09-12</th>\n",
       "      <td>-0.395522</td>\n",
       "      <td>0.142741</td>\n",
       "      <td>-0.049849</td>\n",
       "      <td>1.360267</td>\n",
       "    </tr>\n",
       "    <tr>\n",
       "      <th>2002-09-13</th>\n",
       "      <td>0.916346</td>\n",
       "      <td>0.218130</td>\n",
       "      <td>0.658059</td>\n",
       "      <td>1.955602</td>\n",
       "    </tr>\n",
       "    <tr>\n",
       "      <th>2002-09-14</th>\n",
       "      <td>1.549577</td>\n",
       "      <td>-3.149733</td>\n",
       "      <td>0.957240</td>\n",
       "      <td>0.532636</td>\n",
       "    </tr>\n",
       "    <tr>\n",
       "      <th>2002-09-15</th>\n",
       "      <td>-0.636052</td>\n",
       "      <td>2.622241</td>\n",
       "      <td>1.318875</td>\n",
       "      <td>0.823202</td>\n",
       "    </tr>\n",
       "    <tr>\n",
       "      <th>2002-09-16</th>\n",
       "      <td>-0.505574</td>\n",
       "      <td>0.723900</td>\n",
       "      <td>-0.163352</td>\n",
       "      <td>-0.061730</td>\n",
       "    </tr>\n",
       "    <tr>\n",
       "      <th>2002-09-17</th>\n",
       "      <td>0.422910</td>\n",
       "      <td>0.704182</td>\n",
       "      <td>1.491088</td>\n",
       "      <td>-0.703430</td>\n",
       "    </tr>\n",
       "    <tr>\n",
       "      <th>2002-09-18</th>\n",
       "      <td>-0.029200</td>\n",
       "      <td>-1.853862</td>\n",
       "      <td>0.083922</td>\n",
       "      <td>0.135775</td>\n",
       "    </tr>\n",
       "    <tr>\n",
       "      <th>2002-09-19</th>\n",
       "      <td>-0.074727</td>\n",
       "      <td>1.426404</td>\n",
       "      <td>1.591404</td>\n",
       "      <td>-0.501109</td>\n",
       "    </tr>\n",
       "    <tr>\n",
       "      <th>2002-09-20</th>\n",
       "      <td>-0.366569</td>\n",
       "      <td>0.155854</td>\n",
       "      <td>1.255420</td>\n",
       "      <td>-1.153429</td>\n",
       "    </tr>\n",
       "    <tr>\n",
       "      <th>2002-09-21</th>\n",
       "      <td>0.568140</td>\n",
       "      <td>0.346800</td>\n",
       "      <td>1.326619</td>\n",
       "      <td>0.378615</td>\n",
       "    </tr>\n",
       "    <tr>\n",
       "      <th>2002-09-22</th>\n",
       "      <td>0.826016</td>\n",
       "      <td>-0.497133</td>\n",
       "      <td>-0.068830</td>\n",
       "      <td>-0.237405</td>\n",
       "    </tr>\n",
       "    <tr>\n",
       "      <th>2002-09-23</th>\n",
       "      <td>-0.216686</td>\n",
       "      <td>-0.924125</td>\n",
       "      <td>0.628961</td>\n",
       "      <td>-0.127956</td>\n",
       "    </tr>\n",
       "    <tr>\n",
       "      <th>2002-09-24</th>\n",
       "      <td>-1.301963</td>\n",
       "      <td>0.338345</td>\n",
       "      <td>-1.045715</td>\n",
       "      <td>-0.318358</td>\n",
       "    </tr>\n",
       "    <tr>\n",
       "      <th>2002-09-25</th>\n",
       "      <td>-0.358876</td>\n",
       "      <td>-1.525999</td>\n",
       "      <td>0.117505</td>\n",
       "      <td>-0.389574</td>\n",
       "    </tr>\n",
       "    <tr>\n",
       "      <th>2002-09-26</th>\n",
       "      <td>0.032516</td>\n",
       "      <td>-1.715210</td>\n",
       "      <td>0.149793</td>\n",
       "      <td>0.905895</td>\n",
       "    </tr>\n",
       "  </tbody>\n",
       "</table>\n",
       "<p>1000 rows × 4 columns</p>\n",
       "</div>"
      ],
      "text/plain": [
       "                   A         B         C         D\n",
       "2000-01-01  0.628103  0.337116  1.752253 -0.954187\n",
       "2000-01-02  0.402999 -0.274353 -0.146159 -1.289581\n",
       "2000-01-03 -1.243277 -0.980697 -1.001975  1.778903\n",
       "2000-01-04 -0.567297 -0.445893  0.686108 -0.281152\n",
       "2000-01-05 -0.040580 -0.884180  0.229932 -0.000062\n",
       "2000-01-06  1.681164 -0.151997 -0.780569 -0.746192\n",
       "2000-01-07  0.038134 -0.862009 -1.058645  0.606117\n",
       "2000-01-08 -0.863832 -0.207696 -1.398680  0.128553\n",
       "2000-01-09 -0.286369 -0.709062  0.470309 -0.282168\n",
       "2000-01-10 -0.355756 -0.219865 -0.685256  1.312985\n",
       "2000-01-11  0.556421  0.370914  0.082106  1.034479\n",
       "2000-01-12  0.725231  0.150766  1.556238 -0.468045\n",
       "2000-01-13 -0.487751  1.225137  0.566094  0.262577\n",
       "2000-01-14  0.335831  0.827516  0.048039 -0.487075\n",
       "2000-01-15 -0.461401  0.447048 -0.415226 -1.811386\n",
       "2000-01-16 -2.332790  2.531984 -0.609067  1.015231\n",
       "2000-01-17 -0.316469 -0.927423  0.368876 -0.587426\n",
       "2000-01-18 -1.193586 -1.430331 -1.431795  0.535835\n",
       "2000-01-19 -0.015195  0.158878 -0.668861 -0.821280\n",
       "2000-01-20  1.195967  0.877234 -0.162355 -0.984678\n",
       "2000-01-21  0.754809 -0.769589 -0.603837  1.146293\n",
       "2000-01-22  1.824311 -0.035543 -0.247298 -1.113579\n",
       "2000-01-23  0.297601  0.952190  0.394575  0.423323\n",
       "2000-01-24 -0.109737  0.369847 -0.349643  0.213981\n",
       "2000-01-25  1.381788  0.199798  0.354637  0.895215\n",
       "2000-01-26 -0.168990 -1.026554  0.414402  0.458460\n",
       "2000-01-27 -0.047613  0.399799 -0.684460 -1.097122\n",
       "2000-01-28 -0.269651 -1.650639  0.829879  0.205440\n",
       "2000-01-29 -0.472133 -0.376681  0.630405 -0.597672\n",
       "2000-01-30  0.554677 -1.191678  1.102863  0.129944\n",
       "...              ...       ...       ...       ...\n",
       "2002-08-28  0.384431  1.430477 -0.171830  0.766434\n",
       "2002-08-29 -0.561105 -0.069025 -1.345177  1.285390\n",
       "2002-08-30  1.200592  1.664034 -0.768297  0.895163\n",
       "2002-08-31  0.824431  0.291284  1.530749 -0.809812\n",
       "2002-09-01 -1.676804  0.282187 -1.225627  1.024650\n",
       "2002-09-02 -0.739680 -0.252613  0.952783  1.211069\n",
       "2002-09-03  1.254616 -0.942420 -0.111432 -0.253890\n",
       "2002-09-04  0.476977 -1.881305  0.288669  1.747432\n",
       "2002-09-05 -0.851361 -1.141811 -0.038063  0.464655\n",
       "2002-09-06  0.589152  0.556586  0.367868  1.359061\n",
       "2002-09-07  0.297729 -0.469194  0.264945  0.049725\n",
       "2002-09-08 -0.446753  0.437657  0.865529 -0.940238\n",
       "2002-09-09 -0.207396  0.765526 -0.360916 -0.581627\n",
       "2002-09-10  1.343519  0.216807  0.015376 -0.775013\n",
       "2002-09-11  0.041885  0.490543 -1.607401  0.454953\n",
       "2002-09-12 -0.395522  0.142741 -0.049849  1.360267\n",
       "2002-09-13  0.916346  0.218130  0.658059  1.955602\n",
       "2002-09-14  1.549577 -3.149733  0.957240  0.532636\n",
       "2002-09-15 -0.636052  2.622241  1.318875  0.823202\n",
       "2002-09-16 -0.505574  0.723900 -0.163352 -0.061730\n",
       "2002-09-17  0.422910  0.704182  1.491088 -0.703430\n",
       "2002-09-18 -0.029200 -1.853862  0.083922  0.135775\n",
       "2002-09-19 -0.074727  1.426404  1.591404 -0.501109\n",
       "2002-09-20 -0.366569  0.155854  1.255420 -1.153429\n",
       "2002-09-21  0.568140  0.346800  1.326619  0.378615\n",
       "2002-09-22  0.826016 -0.497133 -0.068830 -0.237405\n",
       "2002-09-23 -0.216686 -0.924125  0.628961 -0.127956\n",
       "2002-09-24 -1.301963  0.338345 -1.045715 -0.318358\n",
       "2002-09-25 -0.358876 -1.525999  0.117505 -0.389574\n",
       "2002-09-26  0.032516 -1.715210  0.149793  0.905895\n",
       "\n",
       "[1000 rows x 4 columns]"
      ]
     },
     "execution_count": 25,
     "metadata": {},
     "output_type": "execute_result"
    }
   ],
   "source": [
    "df"
   ]
  },
  {
   "cell_type": "code",
   "execution_count": 26,
   "metadata": {
    "collapsed": true
   },
   "outputs": [],
   "source": [
    "df = df.cumsum()"
   ]
  },
  {
   "cell_type": "code",
   "execution_count": 27,
   "metadata": {
    "collapsed": false
   },
   "outputs": [
    {
     "data": {
      "text/plain": [
       "<matplotlib.legend.Legend at 0x7fe8c1506ed0>"
      ]
     },
     "execution_count": 27,
     "metadata": {},
     "output_type": "execute_result"
    },
    {
     "data": {
      "text/plain": [
       "<matplotlib.figure.Figure at 0x7fe8c154ecd0>"
      ]
     },
     "metadata": {},
     "output_type": "display_data"
    },
    {
     "data": {
      "image/png": "[encoded data removed]",
      "text/plain": [
       "<matplotlib.figure.Figure at 0x7fe8c171ee50>"
      ]
     },
     "metadata": {},
     "output_type": "display_data"
    }
   ],
   "source": [
    "plt.figure(); df.plot(); plt.legend(loc='best')"
   ]
  },
  {
   "cell_type": "code",
   "execution_count": 28,
   "metadata": {
    "collapsed": false
   },
   "outputs": [
    {
     "data": {
      "text/plain": [
       "<matplotlib.legend.Legend at 0x7fe8c1560a50>"
      ]
     },
     "execution_count": 28,
     "metadata": {},
     "output_type": "execute_result"
    },
    {
     "data": {
      "text/plain": [
       "<matplotlib.figure.Figure at 0x7fe8c1436b10>"
      ]
     },
     "metadata": {},
     "output_type": "display_data"
    },
    {
     "data": {
      "image/png": "[encoded data removed]",
      "text/plain": [
       "<matplotlib.figure.Figure at 0x7fe8c1560b90>"
      ]
     },
     "metadata": {},
     "output_type": "display_data"
    }
   ],
   "source": [
    "plt.figure(); df.plot(); plt.legend(loc='upper right')"
   ]
  },
  {
   "cell_type": "code",
   "execution_count": 29,
   "metadata": {
    "collapsed": false
   },
   "outputs": [
    {
     "data": {
      "text/plain": [
       "<matplotlib.legend.Legend at 0x7fe8c1232a90>"
      ]
     },
     "execution_count": 29,
     "metadata": {},
     "output_type": "execute_result"
    },
    {
     "data": {
      "text/plain": [
       "<matplotlib.figure.Figure at 0x7fe8c11d6550>"
      ]
     },
     "metadata": {},
     "output_type": "display_data"
    },
    {
     "data": {
      "image/png": "[encoded data removed]",
      "text/plain": [
       "<matplotlib.figure.Figure at 0x7fe8c11d6150>"
      ]
     },
     "metadata": {},
     "output_type": "display_data"
    }
   ],
   "source": [
    "plt.figure(); df.plot(); plt.legend(loc='lower center')"
   ]
  },
  {
   "cell_type": "code",
   "execution_count": null,
   "metadata": {
    "collapsed": true
   },
   "outputs": [],
   "source": []
  }
 ],
 "metadata": {
  "kernelspec": {
   "display_name": "Python 2",
   "language": "python",
   "name": "python2"
  },
  "language_info": {
   "codemirror_mode": {
    "name": "ipython",
    "version": 2
   },
   "file_extension": ".py",
   "mimetype": "text/x-python",
   "name": "python",
   "nbconvert_exporter": "python",
   "pygments_lexer": "ipython2",
   "version": "2.7.11"
  }
 },
 "nbformat": 4,
 "nbformat_minor": 0
}
