{
 "cells": [
  {
   "cell_type": "code",
   "execution_count": 1,
   "metadata": {
    "collapsed": true
   },
   "outputs": [],
   "source": [
    "import pandas as pd"
   ]
  },
  {
   "cell_type": "code",
   "execution_count": 2,
   "metadata": {
    "collapsed": true
   },
   "outputs": [],
   "source": [
    "import numpy as np\n",
    "import matplotlib\n",
    "import matplotlib.pyplot as plt\n",
    "import time"
   ]
  },
  {
   "cell_type": "code",
   "execution_count": 3,
   "metadata": {
    "collapsed": false
   },
   "outputs": [
    {
     "name": "stdout",
     "output_type": "stream",
     "text": [
      "10_minutes_pandas-20160405.ipynb  Analyze_Cleaning_Data_20160408.ipynb\r\n",
      "10_minutes_pandas-20160406.ipynb  test.ipynb\r\n",
      "Analyze_Cleaning_Data.ipynb\r\n"
     ]
    }
   ],
   "source": [
    "ls"
   ]
  },
  {
   "cell_type": "code",
   "execution_count": 4,
   "metadata": {
    "collapsed": false
   },
   "outputs": [
    {
     "name": "stdout",
     "output_type": "stream",
     "text": [
      "/home/takeyama/Documents/01_SensorData/2016_04_04/cleaning-addingLABEL\n"
     ]
    }
   ],
   "source": [
    "cd ~/Documents/01_SensorData/2016_04_04/cleaning-addingLABEL/"
   ]
  },
  {
   "cell_type": "code",
   "execution_count": 5,
   "metadata": {
    "collapsed": false
   },
   "outputs": [
    {
     "name": "stdout",
     "output_type": "stream",
     "text": [
      "20160331_180615.srt         SP-right-hand-acc.dat.cache\r\n",
      "Conv-left-hand-ags.csv      SP-right-hand-batt.dat\r\n",
      "Conv-left-hand-batt.csv     SP-right-hand-gyr.dat\r\n",
      "Conv-left-leg-ags.csv       SP-right-hand-gyr.dat.cache\r\n",
      "Conv-left-leg-batt.csv      SP-right-leg-acc.dat\r\n",
      "Conv-right-hand-ags.csv     SP-right-leg-acc.dat.cache\r\n",
      "Conv-right-hand-batt.csv    SP-right-leg-batt.dat\r\n",
      "Conv-right-leg-ags.csv      SP-right-leg-gyr.dat\r\n",
      "Conv-right-leg-batt.csv     SP-right-leg-gyr.dat.cache\r\n",
      "Conv-west-ags.csv           SP-west-acc.dat\r\n",
      "Conv-west-batt.csv          SP-west-acc.dat.cache\r\n",
      "\u001b[0m\u001b[01;35mDeviceSet1.avi\u001b[0m              SP-west-batt.dat\r\n",
      "SP-left-hand-acc.dat        SP-west-gyr.dat\r\n",
      "SP-left-hand-acc.dat.cache  SP-west-gyr.dat.cache\r\n",
      "SP-left-hand-batt.dat       cleaning.spe\r\n",
      "SP-left-hand-gyr.dat        cleaning_20160331.csv\r\n",
      "SP-left-hand-gyr.dat.cache  cleaning_20160331.spa\r\n",
      "SP-left-leg-acc.dat         cleaning_20160331.spa.old\r\n",
      "SP-left-leg-acc.dat.cache   left-hand.csv\r\n",
      "SP-left-leg-batt.dat        left-leg.csv\r\n",
      "SP-left-leg-gyr.dat         right-hand.csv\r\n",
      "SP-left-leg-gyr.dat.cache   right-leg.csv\r\n",
      "SP-right-hand-acc.dat       west.csv\r\n"
     ]
    }
   ],
   "source": [
    "ls"
   ]
  },
  {
   "cell_type": "code",
   "execution_count": 6,
   "metadata": {
    "collapsed": false
   },
   "outputs": [],
   "source": [
    "raw_left_hand_ags=pd.read_csv(\"Conv-left-hand-ags.csv\",encoding=\"SHIFT-JIS\")\n",
    "raw_left_hand_ags[u'時刻']=pd.to_datetime(raw_left_hand_ags[u'時刻'])\n",
    "raw_right_hand_ags=pd.read_csv(\"Conv-right-hand-ags.csv\",encoding=\"SHIFT-JIS\")\n",
    "raw_right_hand_ags[u'時刻']=pd.to_datetime(raw_right_hand_ags[u'時刻'])"
   ]
  },
  {
   "cell_type": "code",
   "execution_count": 7,
   "metadata": {
    "collapsed": true
   },
   "outputs": [],
   "source": [
    "raw_label=pd.read_csv(\"cleaning_20160331.csv\",encoding=\"SHIFT-JIS\")\n",
    "raw_label[u'#Time']=pd.to_datetime(raw_label[u'#Time'])"
   ]
  },
  {
   "cell_type": "code",
   "execution_count": 8,
   "metadata": {
    "collapsed": false
   },
   "outputs": [],
   "source": [
    "test_label=raw_label\n",
    "test_left_ags=raw_left_hand_ags"
   ]
  },
  {
   "cell_type": "code",
   "execution_count": 9,
   "metadata": {
    "collapsed": false
   },
   "outputs": [
    {
     "ename": "NameError",
     "evalue": "name 'test' is not defined",
     "output_type": "error",
     "traceback": [
      "\u001b[1;31m---------------------------------------------------------------------------\u001b[0m",
      "\u001b[1;31mNameError\u001b[0m                                 Traceback (most recent call last)",
      "\u001b[1;32m<ipython-input-9-57c8735dcfc4>\u001b[0m in \u001b[0;36m<module>\u001b[1;34m()\u001b[0m\n\u001b[1;32m----> 1\u001b[1;33m \u001b[0mtest\u001b[0m\u001b[1;33m.\u001b[0m\u001b[0mdtypes\u001b[0m\u001b[1;33m\u001b[0m\u001b[0m\n\u001b[0m\u001b[0;32m      2\u001b[0m \u001b[0mtest_left_ags\u001b[0m\u001b[1;33m.\u001b[0m\u001b[0mdtypes\u001b[0m\u001b[1;33m\u001b[0m\u001b[0m\n",
      "\u001b[1;31mNameError\u001b[0m: name 'test' is not defined"
     ]
    }
   ],
   "source": [
    "test.dtypes\n",
    "test_left_ags.dtypes"
   ]
  },
  {
   "cell_type": "code",
   "execution_count": null,
   "metadata": {
    "collapsed": false
   },
   "outputs": [],
   "source": [
    "def add_label(data,label):\n",
    "    start = time.time()\n",
    "    data[u'label']=0\n",
    "    label_num=1\n",
    "    for i in range(0,len(data)):\n",
    "        \n",
    "        if label_num!=len(label):\n",
    "            if data[u'時刻'][i] > label[u'#Time'][label_num]:\n",
    "                label_num +=1\n",
    "            \n",
    "        data[u'label'][i]=label[u'Info1'][label_num-1]\n",
    "        \n",
    "        #debug\n",
    "        #print 'mm[label][%d]=%s' %(i,mm[u'label'][i])\n",
    "    elapsed_time = time.time() - start\n",
    "    print (\"elapsed_time:{0}\".format(elapsed_time)) + \"[sec]\"\n",
    "            "
   ]
  },
  {
   "cell_type": "code",
   "execution_count": null,
   "metadata": {
    "collapsed": false
   },
   "outputs": [],
   "source": [
    "add_label(test_left_ags,test_label)"
   ]
  },
  {
   "cell_type": "code",
   "execution_count": null,
   "metadata": {
    "collapsed": false
   },
   "outputs": [],
   "source": [
    "test_left_ags"
   ]
  },
  {
   "cell_type": "code",
   "execution_count": null,
   "metadata": {
    "collapsed": true
   },
   "outputs": [],
   "source": [
    "temp_left_hand_ags=pd.DataFrame({\n",
    "    'Time':raw_left_hand_ags[u'時刻'],\n",
    "    'AccX':raw_left_hand_ags[u'加速度X'],\n",
    "    'AccY':raw_left_hand_ags[u'加速度Y'],\n",
    "    'AccZ':raw_left_hand_ags[u'加速度Z'],\n",
    "    'GyrX':raw_left_hand_ags[u'角速度X'],\n",
    "    'GyrY':raw_left_hand_ags[u'角速度Y'],\n",
    "    'GyrZ':raw_left_hand_ags[u'角速度Z'],\n",
    "    })"
   ]
  }
 ],
 "metadata": {
  "kernelspec": {
   "display_name": "Python 2",
   "language": "python",
   "name": "python2"
  },
  "language_info": {
   "codemirror_mode": {
    "name": "ipython",
    "version": 2
   },
   "file_extension": ".py",
   "mimetype": "text/x-python",
   "name": "python",
   "nbconvert_exporter": "python",
   "pygments_lexer": "ipython2",
   "version": "2.7.11"
  }
 },
 "nbformat": 4,
 "nbformat_minor": 0
}
