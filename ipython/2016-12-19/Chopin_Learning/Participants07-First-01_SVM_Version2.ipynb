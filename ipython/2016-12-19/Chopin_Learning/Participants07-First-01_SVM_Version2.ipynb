{
 "cells": [
  {
   "cell_type": "markdown",
   "metadata": {
    "collapsed": true
   },
   "source": [
    "# 訓練データとして用いるデータの詳細"
   ]
  },
  {
   "cell_type": "code",
   "execution_count": 1,
   "metadata": {
    "collapsed": true
   },
   "outputs": [],
   "source": [
    "import numpy as np\n",
    "import datetime\n",
    "import os\n",
    "import copy\n",
    "import seaborn as sns\n",
    "%matplotlib inline\n",
    "# Generate WindowFrame Function\n",
    "from mymodule import window\n",
    "import joblib\n",
    "\n",
    "import pandas as pd\n",
    "\n",
    "# Parametor about Sensor\n",
    "SensorNum=1 # Sensor number\n",
    "#SensorAxis='AccX' # Axis\n",
    "\n",
    "# Define Data Name\n",
    "DATE= str( datetime.date.today() )+'/'\n",
    "\n",
    "# Parametor about \" Data Path\"\n",
    "StorePath = \"/media/takeyama/Transfer/02_ActivityResearch/\"\n",
    "\n",
    "ParticipantsNum=\"Participants07/\"\n",
    "Version = \"01_First/\"\n",
    "Time = \"01_First/\"\n",
    "CommonName = 'Participants07-First-01-'\n",
    "LabelName = CommonName+'.csv'\n",
    "\n",
    "TITLE = ParticipantsNum+Version\n",
    "\n",
    "DataPath = StorePath+ParticipantsNum+Version+\"RawData/\"+Time\n",
    "\n",
    "if not os.path.exists(StorePath+TITLE+'LabelData/'+Time): \n",
    "    os.makedirs(StorePath+TITLE+'LabelData/'+Time)\n",
    "LabelDataPath=StorePath+TITLE+'LabelData/'+Time\n",
    "\n",
    "if not os.path.exists(StorePath+TITLE+'dictionary/'+Time): \n",
    "    os.makedirs(StorePath+TITLE+'dictionary/'+Time)\n",
    "DictionaryDataPath=StorePath+TITLE+'dictionary/'+Time\n",
    "\n",
    "if not os.path.exists(StorePath+TITLE+'feature/'+Time): \n",
    "    os.makedirs(StorePath+TITLE+'feature/'+Time)\n",
    "FeaturePath=StorePath+TITLE+'feature/'+Time\n",
    "\n",
    "if not os.path.exists(StorePath+TITLE+'window/'+Time): \n",
    "    os.makedirs(StorePath+TITLE+'window/'+Time)\n",
    "WindowDataPath=StorePath+TITLE+'window/'+Time\n",
    "\n",
    "if not os.path.exists(StorePath+TITLE+DATE+'studyOutput/'+Time): \n",
    "    os.makedirs(StorePath+TITLE+DATE+'studyOutput/'+Time)\n",
    "StudyOutputPath=StorePath+TITLE+DATE+'studyOutput/'+Time\n",
    "\n",
    "if not os.path.exists(StorePath+TITLE+DATE+'parametor/'+Time): \n",
    "    os.makedirs(StorePath+TITLE+DATE+'parametor/'+Time)\n",
    "ParametorPath=StorePath+TITLE+DATE+'parametor/'+Time\n",
    "\n",
    "if not os.path.exists(StorePath+TITLE+DATE+'result/'+Time): \n",
    "    os.makedirs(StorePath+TITLE+DATE+'result/'+Time)\n",
    "ResultPath=StorePath+TITLE+DATE+'result/'+Time\n",
    "\n",
    "if not os.path.exists(StorePath+TITLE+DATE+'graph/'+Time): \n",
    "    os.makedirs(StorePath+TITLE+DATE+'graph/'+Time)\n",
    "GraphPath=StorePath+TITLE+DATE+'graph/'+Time"
   ]
  },
  {
   "cell_type": "markdown",
   "metadata": {},
   "source": [
    "# Define Function for SVM"
   ]
  },
  {
   "cell_type": "code",
   "execution_count": 2,
   "metadata": {
    "collapsed": true
   },
   "outputs": [],
   "source": [
    "def GetData(PATH, SensorNum, Axis, Data, wNum, sNum):\n",
    "    SensorName =['01_LeftHand','02_RightHand','03_LeftLeg','04_RightLeg','05_West','06_Chest']\n",
    "    DictName=os.listdir(PATH)\n",
    "    PathName=[DictName[i] for i in range(len(DictName)) if SensorName[SensorNum-1]+'-'+Axis in DictName[i]\n",
    "             if Data in DictName[i] if str(wNum).zfill(4) in DictName[i] if str(sNum).zfill(4) in DictName[i]]\n",
    "    print PathName\n",
    "    #print joblib.load(FeaturePath+PathName[0]).shape\n",
    "    return joblib.load(PATH+PathName[0])"
   ]
  },
  {
   "cell_type": "code",
   "execution_count": 3,
   "metadata": {
    "collapsed": false
   },
   "outputs": [],
   "source": [
    "def GetFeatureVector(PATH, SensorNum, Axis, wNum, sNum):\n",
    "    df = pd.DataFrame({\n",
    "        #'AccX_AutoCorr':np.load(FeaturePath+DictName[0])['data'],\n",
    "        'Energy':GetData(PATH, SensorNum, Axis, 'Energy', wNum, sNum),\n",
    "        'Entropy':GetData(PATH, SensorNum, Axis, 'Entropy', wNum, sNum),\n",
    "        #'Frequency':GetData(PATH, SensorNum, Axis, 'Frequency'),\n",
    "        'Max':GetData(PATH, SensorNum, Axis, 'Max', wNum, sNum),\n",
    "        'Mean':GetData(PATH, SensorNum, Axis, 'Mean', wNum, sNum),\n",
    "        'Median':GetData(PATH, SensorNum, Axis, 'Median', wNum, sNum),\n",
    "        'Min':GetData(PATH, SensorNum, Axis, 'Min', wNum, sNum),\n",
    "        'Range':GetData(PATH, SensorNum, Axis, 'Range', wNum, sNum),\n",
    "        'RMS':GetData(PATH, SensorNum, Axis, 'RMS', wNum, sNum),\n",
    "        'StdDev':GetData(PATH, SensorNum, Axis, 'StdDev', wNum, sNum),\n",
    "        'Var':GetData(PATH, SensorNum, Axis, 'Var', wNum, sNum),\n",
    "        'Axis':[Axis]*GetData(PATH, SensorNum, Axis, 'Mean', wNum, sNum).size},\n",
    "    )\n",
    "    return df"
   ]
  },
  {
   "cell_type": "code",
   "execution_count": 4,
   "metadata": {
    "collapsed": true
   },
   "outputs": [],
   "source": [
    "def MakeWindowFrameLabel(LabelData1d, wWidth, sWidth):\n",
    "    w=window()\n",
    "    w.SetData('DataAddingLabel', LabelData1d)    \n",
    "    wind=w.Compile(wWidth, sWidth)\n",
    "    windoW=wind.reshape((len(wind),np.prod(wind.shape[1:])))\n",
    "\n",
    "    LabelArray=np.array([np.unique(windoW[l,:])[\n",
    "            np.argmax(np.array([len( np.where(windoW[l]==np.unique(windoW[l])[i])[0])for i in range(np.unique(windoW[l]).size)]))]\n",
    "             for l in range(windoW.shape[0])\n",
    "    ])\n",
    "    return LabelArray"
   ]
  },
  {
   "cell_type": "code",
   "execution_count": 5,
   "metadata": {
    "collapsed": true
   },
   "outputs": [],
   "source": [
    "def MakeTimeDomainLabelData(DataName,StartTime,GoalTime):\n",
    "    # import LabelData -> pandas\n",
    "    LabelDf = pd.read_csv(DataName,encoding='Shift-JIS')\n",
    "    LabelData = LabelDf.as_matrix() #pandas -> ndarray\n",
    "    \n",
    "    # timedata hh.mm.ss -> ms\n",
    "    TimeArray = pd.to_datetime( LabelDf['#Time'].values ) \n",
    "    t = np.array([ TimeArray[i].hour*3600*1000+TimeArray[i].minute*60*1000+TimeArray[i].second*1000+TimeArray[i].microsecond*0.001\n",
    "                 for i in range( len(TimeArray) )]).astype(int)\n",
    "    \n",
    "    LabelData[:,0] = t.astype(int) #time data: unicode -> int\n",
    "    # Time Series\n",
    "    LabelArray = np.array([\n",
    "        np.append( np.array(LabelData[i,0]+l) , LabelData[i,1:])\n",
    "        for i in range(LabelData.shape[0]-1) \n",
    "        for l in range(LabelData[i+1,0]-LabelData[i,0])\n",
    "    ])\n",
    "    \n",
    "    StartLabelArray = np.array([\n",
    "        np.append( StartTime+i, LabelArray[0,1:])\n",
    "        for i in range(LabelArray[0,0]-StartTime)\n",
    "    ])\n",
    "    \n",
    "    GoalLabelArray = np.array([\n",
    "        np.append( GoalTime+i, LabelArray[-1,1:])\n",
    "        for i in range(1,1+GoalTime-LabelArray[-1,0])\n",
    "    ])\n",
    "    \n",
    "    LabelArrayComp = np.vstack((StartLabelArray, LabelArray))\n",
    "    LabelArrayComp = np.vstack((LabelArrayComp, GoalLabelArray))\n",
    "    df = pd.DataFrame(LabelArrayComp)\n",
    "    df.columns = LabelDf.columns\n",
    "    \n",
    "    return df.to_dict()"
   ]
  },
  {
   "cell_type": "code",
   "execution_count": 6,
   "metadata": {
    "collapsed": true
   },
   "outputs": [],
   "source": [
    "def WFLabelDataFrame(FileName,wNum,sNum):\n",
    "    dictLabel=np.load(FileName)['data'][()]\n",
    "    \n",
    "    df = pd.DataFrame({\n",
    "    '#Time':MakeWindowFrameLabel(np.array(dictLabel['#Time'].values()), wNum, sNum),\n",
    "    'LeftHand-Verb':MakeWindowFrameLabel(np.array(dictLabel['LeftHand-Verb'].values()), wNum,sNum),\n",
    "    'LeftHand-Object':MakeWindowFrameLabel(np.array(dictLabel['LeftHand-Object'].values()), wNum, sNum),\n",
    "    'RightHand-Verb':MakeWindowFrameLabel(np.array(dictLabel['RightHand-Verb'].values()), wNum, sNum),\n",
    "    'RightHand-Object ':MakeWindowFrameLabel(np.array(dictLabel['RightHand-Object'].values()), wNum, sNum),\n",
    "    'Leg-Number':MakeWindowFrameLabel(np.array(dictLabel['Leg-Number'].values()), wNum, sNum),\n",
    "    'Leg-Verb':MakeWindowFrameLabel(np.array(dictLabel['Leg-Object'].values()), wNum, sNum),\n",
    "    'Leg-Object':MakeWindowFrameLabel(np.array(dictLabel['Leg-Object'].values()), wNum, sNum),\n",
    "    'West':MakeWindowFrameLabel(np.array(dictLabel['West'].values()), wNum, sNum),\n",
    "    'ActiveNumber':MakeWindowFrameLabel(np.array(dictLabel['ActiveNumber'].values()), wNum, sNum),\n",
    "    })\n",
    "    \n",
    "    return df"
   ]
  },
  {
   "cell_type": "markdown",
   "metadata": {
    "collapsed": true
   },
   "source": [
    "このコピー元のスクリプトの結果からSVMによる識別はウィンドウ数が多い、ホウキや掃除機によってしまう  \n",
    "ランダムフォレストを試してみる．そして，与えたデータの中で一番効果的な特徴量を調べてみる  "
   ]
  },
  {
   "cell_type": "markdown",
   "metadata": {},
   "source": [
    "# Train Data"
   ]
  },
  {
   "cell_type": "code",
   "execution_count": 7,
   "metadata": {
    "collapsed": false
   },
   "outputs": [
    {
     "name": "stdout",
     "output_type": "stream",
     "text": [
      "['Participants07-First-01-01_LeftHand-AccX-win=0256-sld=0032_Energy.dump']\n",
      "['Participants07-First-01-01_LeftHand-AccX-win=0256-sld=0032_Entropy.dump']\n",
      "['Participants07-First-01-01_LeftHand-AccX-win=0256-sld=0032_Max.dump']\n",
      "['Participants07-First-01-01_LeftHand-AccX-win=0256-sld=0032_Mean.dump']\n",
      "['Participants07-First-01-01_LeftHand-AccX-win=0256-sld=0032_Median.dump']\n",
      "['Participants07-First-01-01_LeftHand-AccX-win=0256-sld=0032_Min.dump']\n",
      "['Participants07-First-01-01_LeftHand-AccX-win=0256-sld=0032_Range.dump']\n",
      "['Participants07-First-01-01_LeftHand-AccX-win=0256-sld=0032_RMS.dump']\n",
      "['Participants07-First-01-01_LeftHand-AccX-win=0256-sld=0032_StdDev.dump']\n",
      "['Participants07-First-01-01_LeftHand-AccX-win=0256-sld=0032_Var.dump']\n",
      "['Participants07-First-01-01_LeftHand-AccX-win=0256-sld=0032_Mean.dump']\n",
      "['Participants07-First-01-01_LeftHand-AccY-win=0256-sld=0032_Energy.dump']\n",
      "['Participants07-First-01-01_LeftHand-AccY-win=0256-sld=0032_Entropy.dump']\n",
      "['Participants07-First-01-01_LeftHand-AccY-win=0256-sld=0032_Max.dump']\n",
      "['Participants07-First-01-01_LeftHand-AccY-win=0256-sld=0032_Mean.dump']\n",
      "['Participants07-First-01-01_LeftHand-AccY-win=0256-sld=0032_Median.dump']\n",
      "['Participants07-First-01-01_LeftHand-AccY-win=0256-sld=0032_Min.dump']\n",
      "['Participants07-First-01-01_LeftHand-AccY-win=0256-sld=0032_Range.dump']\n",
      "['Participants07-First-01-01_LeftHand-AccY-win=0256-sld=0032_RMS.dump']\n",
      "['Participants07-First-01-01_LeftHand-AccY-win=0256-sld=0032_StdDev.dump']\n",
      "['Participants07-First-01-01_LeftHand-AccY-win=0256-sld=0032_Var.dump']\n",
      "['Participants07-First-01-01_LeftHand-AccY-win=0256-sld=0032_Mean.dump']\n",
      "['Participants07-First-01-01_LeftHand-AccZ-win=0256-sld=0032_Energy.dump']\n",
      "['Participants07-First-01-01_LeftHand-AccZ-win=0256-sld=0032_Entropy.dump']\n",
      "['Participants07-First-01-01_LeftHand-AccZ-win=0256-sld=0032_Max.dump']\n",
      "['Participants07-First-01-01_LeftHand-AccZ-win=0256-sld=0032_Mean.dump']\n",
      "['Participants07-First-01-01_LeftHand-AccZ-win=0256-sld=0032_Median.dump']\n",
      "['Participants07-First-01-01_LeftHand-AccZ-win=0256-sld=0032_Min.dump']\n",
      "['Participants07-First-01-01_LeftHand-AccZ-win=0256-sld=0032_Range.dump']\n",
      "['Participants07-First-01-01_LeftHand-AccZ-win=0256-sld=0032_RMS.dump']\n",
      "['Participants07-First-01-01_LeftHand-AccZ-win=0256-sld=0032_StdDev.dump']\n",
      "['Participants07-First-01-01_LeftHand-AccZ-win=0256-sld=0032_Var.dump']\n",
      "['Participants07-First-01-01_LeftHand-AccZ-win=0256-sld=0032_Mean.dump']\n"
     ]
    }
   ],
   "source": [
    "Train_AccX = GetFeatureVector(FeaturePath,1,'AccX', 256, 32)\n",
    "Train_AccY = GetFeatureVector(FeaturePath,1,'AccY', 256, 32)\n",
    "Train_AccZ = GetFeatureVector(FeaturePath,1,'AccZ', 256, 32)\n",
    "TrainDataDF = pd.concat([Train_AccX,Train_AccY,Train_AccZ])\n",
    "TrainDataDF = TrainDataDF.drop('Axis', axis=1)\n",
    "TrainData = TrainDataDF.as_matrix()"
   ]
  },
  {
   "cell_type": "markdown",
   "metadata": {},
   "source": [
    "# Test Data"
   ]
  },
  {
   "cell_type": "code",
   "execution_count": 8,
   "metadata": {
    "collapsed": false
   },
   "outputs": [
    {
     "name": "stdout",
     "output_type": "stream",
     "text": [
      "['Participants07-Third-01-01_LeftHand-AccX-win=0256-sld=0032_Energy.dump']\n",
      "['Participants07-Third-01-01_LeftHand-AccX-win=0256-sld=0032_Entropy.dump']\n",
      "['Participants07-Third-01-01_LeftHand-AccX-win=0256-sld=0032_Max.dump']\n",
      "['Participants07-Third-01-01_LeftHand-AccX-win=0256-sld=0032_Mean.dump']\n",
      "['Participants07-Third-01-01_LeftHand-AccX-win=0256-sld=0032_Median.dump']\n",
      "['Participants07-Third-01-01_LeftHand-AccX-win=0256-sld=0032_Min.dump']\n",
      "['Participants07-Third-01-01_LeftHand-AccX-win=0256-sld=0032_Range.dump']\n",
      "['Participants07-Third-01-01_LeftHand-AccX-win=0256-sld=0032_RMS.dump']\n",
      "['Participants07-Third-01-01_LeftHand-AccX-win=0256-sld=0032_StdDev.dump']\n",
      "['Participants07-Third-01-01_LeftHand-AccX-win=0256-sld=0032_Var.dump']\n",
      "['Participants07-Third-01-01_LeftHand-AccX-win=0256-sld=0032_Mean.dump']\n",
      "['Participants07-Third-01-01_LeftHand-AccY-win=0256-sld=0032_Energy.dump']\n",
      "['Participants07-Third-01-01_LeftHand-AccY-win=0256-sld=0032_Entropy.dump']\n",
      "['Participants07-Third-01-01_LeftHand-AccY-win=0256-sld=0032_Max.dump']\n",
      "['Participants07-Third-01-01_LeftHand-AccY-win=0256-sld=0032_Mean.dump']\n",
      "['Participants07-Third-01-01_LeftHand-AccY-win=0256-sld=0032_Median.dump']\n",
      "['Participants07-Third-01-01_LeftHand-AccY-win=0256-sld=0032_Min.dump']\n",
      "['Participants07-Third-01-01_LeftHand-AccY-win=0256-sld=0032_Range.dump']\n",
      "['Participants07-Third-01-01_LeftHand-AccY-win=0256-sld=0032_RMS.dump']\n",
      "['Participants07-Third-01-01_LeftHand-AccY-win=0256-sld=0032_StdDev.dump']\n",
      "['Participants07-Third-01-01_LeftHand-AccY-win=0256-sld=0032_Var.dump']\n",
      "['Participants07-Third-01-01_LeftHand-AccY-win=0256-sld=0032_Mean.dump']\n",
      "['Participants07-Third-01-01_LeftHand-AccZ-win=0256-sld=0032_Energy.dump']\n",
      "['Participants07-Third-01-01_LeftHand-AccZ-win=0256-sld=0032_Entropy.dump']\n",
      "['Participants07-Third-01-01_LeftHand-AccZ-win=0256-sld=0032_Max.dump']\n",
      "['Participants07-Third-01-01_LeftHand-AccZ-win=0256-sld=0032_Mean.dump']\n",
      "['Participants07-Third-01-01_LeftHand-AccZ-win=0256-sld=0032_Median.dump']\n",
      "['Participants07-Third-01-01_LeftHand-AccZ-win=0256-sld=0032_Min.dump']\n",
      "['Participants07-Third-01-01_LeftHand-AccZ-win=0256-sld=0032_Range.dump']\n",
      "['Participants07-Third-01-01_LeftHand-AccZ-win=0256-sld=0032_RMS.dump']\n",
      "['Participants07-Third-01-01_LeftHand-AccZ-win=0256-sld=0032_StdDev.dump']\n",
      "['Participants07-Third-01-01_LeftHand-AccZ-win=0256-sld=0032_Var.dump']\n",
      "['Participants07-Third-01-01_LeftHand-AccZ-win=0256-sld=0032_Mean.dump']\n"
     ]
    }
   ],
   "source": [
    "TestFeaturePath = '/media/takeyama/Transfer/02_ActivityResearch/Participants07/03_Third/feature/01_First/'\n",
    "Test_AccX = GetFeatureVector(TestFeaturePath,1,'AccX', 256, 32)\n",
    "Test_AccY = GetFeatureVector(TestFeaturePath,1,'AccY', 256, 32)\n",
    "Test_AccZ = GetFeatureVector(TestFeaturePath,1,'AccZ', 256, 32)\n",
    "TestDataDF = pd.concat([Test_AccX,Test_AccY,Test_AccZ])\n",
    "TestDataDF = TestDataDF.drop('Axis', axis=1)\n",
    "TestData = TestDataDF.as_matrix()"
   ]
  },
  {
   "cell_type": "markdown",
   "metadata": {},
   "source": [
    "# Train Label"
   ]
  },
  {
   "cell_type": "code",
   "execution_count": 9,
   "metadata": {
    "collapsed": false,
    "scrolled": true
   },
   "outputs": [
    {
     "name": "stdout",
     "output_type": "stream",
     "text": [
      "DataAddingLabel is registed now\n",
      "Build Complete\n",
      "Source shape is(826837, 1)\n",
      "window frames num =25831\n",
      "offset=21\n",
      "(25831, 256, 1)\n",
      "DataAddingLabel is registed now\n",
      "Build Complete\n",
      "Source shape is(826837, 1)\n",
      "window frames num =25831\n",
      "offset=21\n",
      "(25831, 256, 1)\n",
      "DataAddingLabel is registed now\n",
      "Build Complete\n",
      "Source shape is(826837, 1)\n",
      "window frames num =25831\n",
      "offset=21\n",
      "(25831, 256, 1)\n",
      "DataAddingLabel is registed now\n",
      "Build Complete\n",
      "Source shape is(826837, 1)\n",
      "window frames num =25831\n",
      "offset=21\n",
      "(25831, 256, 1)\n",
      "DataAddingLabel is registed now\n",
      "Build Complete\n",
      "Source shape is(826837, 1)\n",
      "window frames num =25831\n",
      "offset=21\n",
      "(25831, 256, 1)\n",
      "DataAddingLabel is registed now\n",
      "Build Complete\n",
      "Source shape is(826837, 1)\n",
      "window frames num =25831\n",
      "offset=21\n",
      "(25831, 256, 1)\n",
      "DataAddingLabel is registed now\n",
      "Build Complete\n",
      "Source shape is(826837, 1)\n",
      "window frames num =25831\n",
      "offset=21\n",
      "(25831, 256, 1)\n",
      "DataAddingLabel is registed now\n",
      "Build Complete\n",
      "Source shape is(826837, 1)\n",
      "window frames num =25831\n",
      "offset=21\n",
      "(25831, 256, 1)\n",
      "DataAddingLabel is registed now\n",
      "Build Complete\n",
      "Source shape is(826837, 1)\n",
      "window frames num =25831\n",
      "offset=21\n",
      "(25831, 256, 1)\n",
      "DataAddingLabel is registed now\n",
      "Build Complete\n",
      "Source shape is(826837, 1)\n",
      "window frames num =25831\n",
      "offset=21\n",
      "(25831, 256, 1)\n"
     ]
    }
   ],
   "source": [
    "dfLabel=WFLabelDataFrame(DictionaryDataPath+'07_LabelData.npz',256,32)\n",
    "TrainLabelDF = pd.concat([dfLabel,dfLabel,dfLabel])"
   ]
  },
  {
   "cell_type": "markdown",
   "metadata": {},
   "source": [
    "# Test Label"
   ]
  },
  {
   "cell_type": "code",
   "execution_count": 10,
   "metadata": {
    "collapsed": false,
    "scrolled": true
   },
   "outputs": [
    {
     "name": "stdout",
     "output_type": "stream",
     "text": [
      "DataAddingLabel is registed now\n",
      "Build Complete\n",
      "Source shape is(773550, 1)\n",
      "window frames num =24166\n",
      "offset=14\n",
      "(24166, 256, 1)\n",
      "DataAddingLabel is registed now\n",
      "Build Complete\n",
      "Source shape is(773550, 1)\n",
      "window frames num =24166\n",
      "offset=14\n",
      "(24166, 256, 1)\n",
      "DataAddingLabel is registed now\n",
      "Build Complete\n",
      "Source shape is(773550, 1)\n",
      "window frames num =24166\n",
      "offset=14\n",
      "(24166, 256, 1)\n",
      "DataAddingLabel is registed now\n",
      "Build Complete\n",
      "Source shape is(773550, 1)\n",
      "window frames num =24166\n",
      "offset=14\n",
      "(24166, 256, 1)\n",
      "DataAddingLabel is registed now\n",
      "Build Complete\n",
      "Source shape is(773550, 1)\n",
      "window frames num =24166\n",
      "offset=14\n",
      "(24166, 256, 1)\n",
      "DataAddingLabel is registed now\n",
      "Build Complete\n",
      "Source shape is(773550, 1)\n",
      "window frames num =24166\n",
      "offset=14\n",
      "(24166, 256, 1)\n",
      "DataAddingLabel is registed now\n",
      "Build Complete\n",
      "Source shape is(773550, 1)\n",
      "window frames num =24166\n",
      "offset=14\n",
      "(24166, 256, 1)\n",
      "DataAddingLabel is registed now\n",
      "Build Complete\n",
      "Source shape is(773550, 1)\n",
      "window frames num =24166\n",
      "offset=14\n",
      "(24166, 256, 1)\n",
      "DataAddingLabel is registed now\n",
      "Build Complete\n",
      "Source shape is(773550, 1)\n",
      "window frames num =24166\n",
      "offset=14\n",
      "(24166, 256, 1)\n",
      "DataAddingLabel is registed now\n",
      "Build Complete\n",
      "Source shape is(773550, 1)\n",
      "window frames num =24166\n",
      "offset=14\n",
      "(24166, 256, 1)\n"
     ]
    }
   ],
   "source": [
    "TestDictionaryDataPath='/media/takeyama/Transfer/02_ActivityResearch/Participants07/03_Third/dictionary/01_First/'\n",
    "\n",
    "TestLabelDF=WFLabelDataFrame(TestDictionaryDataPath+'07_LabelData.npz',256,32)"
   ]
  },
  {
   "cell_type": "markdown",
   "metadata": {},
   "source": [
    "# Normlization"
   ]
  },
  {
   "cell_type": "code",
   "execution_count": 11,
   "metadata": {
    "collapsed": false
   },
   "outputs": [],
   "source": [
    "TrainDataDF.Energy = (TrainDataDF.Energy-TrainDataDF.Energy.mean())/( TrainDataDF.Energy.max()-TrainDataDF.Energy.min())\n",
    "TrainDataDF.Entropy = (TrainDataDF.Entropy-TrainDataDF.Entropy.mean())/( TrainDataDF.Entropy.max()-TrainDataDF.Entropy.min())\n",
    "TrainDataDF.Max = (TrainDataDF.Max-TrainDataDF.Max.mean())/( TrainDataDF.Max.max()-TrainDataDF.Max.min())\n",
    "TrainDataDF.Mean = (TrainDataDF.Mean-TrainDataDF.Mean.mean())/( TrainDataDF.Mean.max()-TrainDataDF.Mean.min())\n",
    "TrainDataDF.Median = (TrainDataDF.Median-TrainDataDF.Median.mean())/( TrainDataDF.Median.max()-TrainDataDF.Median.min())\n",
    "TrainDataDF.Min = (TrainDataDF.Min-TrainDataDF.Min.mean())/( TrainDataDF.Min.max()-TrainDataDF.Min.min())\n",
    "TrainDataDF.RMS = (TrainDataDF.RMS-TrainDataDF.RMS.mean())/( TrainDataDF.RMS.max()-TrainDataDF.RMS.min())\n",
    "TrainDataDF.Range = (TrainDataDF.Range-TrainDataDF.Range.mean())/( TrainDataDF.Range.max()-TrainDataDF.Range.min())\n",
    "TrainDataDF.StdDev = (TrainDataDF.StdDev-TrainDataDF.StdDev.mean())/( TrainDataDF.StdDev.max()-TrainDataDF.StdDev.min())\n",
    "TrainDataDF.Var = (TrainDataDF.Var-TrainDataDF.Var.mean())/( TrainDataDF.Var.max()-TrainDataDF.Var.min())"
   ]
  },
  {
   "cell_type": "code",
   "execution_count": 12,
   "metadata": {
    "collapsed": false,
    "scrolled": true
   },
   "outputs": [
    {
     "data": {
      "text/html": [
       "<div>\n",
       "<table border=\"1\" class=\"dataframe\">\n",
       "  <thead>\n",
       "    <tr style=\"text-align: right;\">\n",
       "      <th></th>\n",
       "      <th>Energy</th>\n",
       "      <th>Entropy</th>\n",
       "      <th>Max</th>\n",
       "      <th>Mean</th>\n",
       "      <th>Median</th>\n",
       "      <th>Min</th>\n",
       "      <th>RMS</th>\n",
       "      <th>Range</th>\n",
       "      <th>StdDev</th>\n",
       "      <th>Var</th>\n",
       "    </tr>\n",
       "  </thead>\n",
       "  <tbody>\n",
       "    <tr>\n",
       "      <th>0</th>\n",
       "      <td>0.025494</td>\n",
       "      <td>-0.094519</td>\n",
       "      <td>0.174103</td>\n",
       "      <td>0.370917</td>\n",
       "      <td>0.426813</td>\n",
       "      <td>0.158555</td>\n",
       "      <td>0.094335</td>\n",
       "      <td>-0.002882</td>\n",
       "      <td>0.025495</td>\n",
       "      <td>-0.000408</td>\n",
       "    </tr>\n",
       "    <tr>\n",
       "      <th>1</th>\n",
       "      <td>-0.001029</td>\n",
       "      <td>-0.058223</td>\n",
       "      <td>0.174103</td>\n",
       "      <td>0.385017</td>\n",
       "      <td>0.431473</td>\n",
       "      <td>0.166406</td>\n",
       "      <td>0.112549</td>\n",
       "      <td>-0.008730</td>\n",
       "      <td>-0.001029</td>\n",
       "      <td>-0.005205</td>\n",
       "    </tr>\n",
       "    <tr>\n",
       "      <th>2</th>\n",
       "      <td>-0.037345</td>\n",
       "      <td>0.006400</td>\n",
       "      <td>0.174103</td>\n",
       "      <td>0.396175</td>\n",
       "      <td>0.431473</td>\n",
       "      <td>0.181193</td>\n",
       "      <td>0.126888</td>\n",
       "      <td>-0.019745</td>\n",
       "      <td>-0.037345</td>\n",
       "      <td>-0.009504</td>\n",
       "    </tr>\n",
       "    <tr>\n",
       "      <th>3</th>\n",
       "      <td>-0.055732</td>\n",
       "      <td>-0.152085</td>\n",
       "      <td>0.174103</td>\n",
       "      <td>0.400602</td>\n",
       "      <td>0.431473</td>\n",
       "      <td>0.203098</td>\n",
       "      <td>0.132982</td>\n",
       "      <td>-0.036063</td>\n",
       "      <td>-0.055733</td>\n",
       "      <td>-0.010680</td>\n",
       "    </tr>\n",
       "    <tr>\n",
       "      <th>4</th>\n",
       "      <td>-0.056517</td>\n",
       "      <td>-0.167051</td>\n",
       "      <td>0.174103</td>\n",
       "      <td>0.400768</td>\n",
       "      <td>0.431473</td>\n",
       "      <td>0.206864</td>\n",
       "      <td>0.133216</td>\n",
       "      <td>-0.038868</td>\n",
       "      <td>-0.056519</td>\n",
       "      <td>-0.010715</td>\n",
       "    </tr>\n",
       "  </tbody>\n",
       "</table>\n",
       "</div>"
      ],
      "text/plain": [
       "     Energy   Entropy       Max      Mean    Median       Min       RMS  \\\n",
       "0  0.025494 -0.094519  0.174103  0.370917  0.426813  0.158555  0.094335   \n",
       "1 -0.001029 -0.058223  0.174103  0.385017  0.431473  0.166406  0.112549   \n",
       "2 -0.037345  0.006400  0.174103  0.396175  0.431473  0.181193  0.126888   \n",
       "3 -0.055732 -0.152085  0.174103  0.400602  0.431473  0.203098  0.132982   \n",
       "4 -0.056517 -0.167051  0.174103  0.400768  0.431473  0.206864  0.133216   \n",
       "\n",
       "      Range    StdDev       Var  \n",
       "0 -0.002882  0.025495 -0.000408  \n",
       "1 -0.008730 -0.001029 -0.005205  \n",
       "2 -0.019745 -0.037345 -0.009504  \n",
       "3 -0.036063 -0.055733 -0.010680  \n",
       "4 -0.038868 -0.056519 -0.010715  "
      ]
     },
     "execution_count": 12,
     "metadata": {},
     "output_type": "execute_result"
    }
   ],
   "source": [
    "TrainDataDF.head()"
   ]
  },
  {
   "cell_type": "code",
   "execution_count": 13,
   "metadata": {
    "collapsed": true
   },
   "outputs": [],
   "source": [
    "TestDataDF.Energy = (TestDataDF.Energy-TestDataDF.Energy.mean())/( TestDataDF.Energy.max()-TestDataDF.Energy.min())\n",
    "TestDataDF.Entropy = (TestDataDF.Entropy-TestDataDF.Entropy.mean())/( TestDataDF.Entropy.max()-TestDataDF.Entropy.min())\n",
    "TestDataDF.Max = (TestDataDF.Max-TestDataDF.Max.mean())/( TestDataDF.Max.max()-TestDataDF.Max.min())\n",
    "TestDataDF.Mean = (TestDataDF.Mean-TestDataDF.Mean.mean())/( TestDataDF.Mean.max()-TestDataDF.Mean.min())\n",
    "TestDataDF.Median = (TestDataDF.Median-TestDataDF.Median.mean())/( TestDataDF.Median.max()-TestDataDF.Median.min())\n",
    "TestDataDF.Min = (TestDataDF.Min-TestDataDF.Min.mean())/( TestDataDF.Min.max()-TestDataDF.Min.min())\n",
    "TestDataDF.RMS = (TestDataDF.RMS-TestDataDF.RMS.mean())/( TestDataDF.RMS.max()-TestDataDF.RMS.min())\n",
    "TestDataDF.Range = (TestDataDF.Range-TestDataDF.Range.mean())/( TestDataDF.Range.max()-TestDataDF.Range.min())\n",
    "TestDataDF.StdDev = (TestDataDF.StdDev-TestDataDF.StdDev.mean())/( TestDataDF.StdDev.max()-TestDataDF.StdDev.min())\n",
    "TestDataDF.Var = (TestDataDF.Var-TestDataDF.Var.mean())/( TestDataDF.Var.max()-TestDataDF.Var.min())"
   ]
  },
  {
   "cell_type": "code",
   "execution_count": 14,
   "metadata": {
    "collapsed": false
   },
   "outputs": [
    {
     "data": {
      "text/html": [
       "<div>\n",
       "<table border=\"1\" class=\"dataframe\">\n",
       "  <thead>\n",
       "    <tr style=\"text-align: right;\">\n",
       "      <th></th>\n",
       "      <th>Energy</th>\n",
       "      <th>Entropy</th>\n",
       "      <th>Max</th>\n",
       "      <th>Mean</th>\n",
       "      <th>Median</th>\n",
       "      <th>Min</th>\n",
       "      <th>RMS</th>\n",
       "      <th>Range</th>\n",
       "      <th>StdDev</th>\n",
       "      <th>Var</th>\n",
       "    </tr>\n",
       "  </thead>\n",
       "  <tbody>\n",
       "    <tr>\n",
       "      <th>0</th>\n",
       "      <td>-0.046322</td>\n",
       "      <td>0.474690</td>\n",
       "      <td>-0.103517</td>\n",
       "      <td>-0.184611</td>\n",
       "      <td>-0.175968</td>\n",
       "      <td>-0.057138</td>\n",
       "      <td>0.197972</td>\n",
       "      <td>-0.042824</td>\n",
       "      <td>-0.046323</td>\n",
       "      <td>-0.004902</td>\n",
       "    </tr>\n",
       "    <tr>\n",
       "      <th>1</th>\n",
       "      <td>-0.046276</td>\n",
       "      <td>0.480378</td>\n",
       "      <td>-0.103517</td>\n",
       "      <td>-0.184562</td>\n",
       "      <td>-0.175968</td>\n",
       "      <td>-0.057138</td>\n",
       "      <td>0.197895</td>\n",
       "      <td>-0.042824</td>\n",
       "      <td>-0.046276</td>\n",
       "      <td>-0.004901</td>\n",
       "    </tr>\n",
       "    <tr>\n",
       "      <th>2</th>\n",
       "      <td>-0.046143</td>\n",
       "      <td>0.434416</td>\n",
       "      <td>-0.103281</td>\n",
       "      <td>-0.184430</td>\n",
       "      <td>-0.175822</td>\n",
       "      <td>-0.057138</td>\n",
       "      <td>0.197686</td>\n",
       "      <td>-0.042620</td>\n",
       "      <td>-0.046143</td>\n",
       "      <td>-0.004901</td>\n",
       "    </tr>\n",
       "    <tr>\n",
       "      <th>3</th>\n",
       "      <td>-0.046110</td>\n",
       "      <td>0.440171</td>\n",
       "      <td>-0.103281</td>\n",
       "      <td>-0.184700</td>\n",
       "      <td>-0.176173</td>\n",
       "      <td>-0.057138</td>\n",
       "      <td>0.198113</td>\n",
       "      <td>-0.042620</td>\n",
       "      <td>-0.046109</td>\n",
       "      <td>-0.004901</td>\n",
       "    </tr>\n",
       "    <tr>\n",
       "      <th>4</th>\n",
       "      <td>-0.045824</td>\n",
       "      <td>0.325449</td>\n",
       "      <td>-0.103281</td>\n",
       "      <td>-0.185008</td>\n",
       "      <td>-0.176465</td>\n",
       "      <td>-0.057888</td>\n",
       "      <td>0.198601</td>\n",
       "      <td>-0.042007</td>\n",
       "      <td>-0.045821</td>\n",
       "      <td>-0.004899</td>\n",
       "    </tr>\n",
       "  </tbody>\n",
       "</table>\n",
       "</div>"
      ],
      "text/plain": [
       "     Energy   Entropy       Max      Mean    Median       Min       RMS  \\\n",
       "0 -0.046322  0.474690 -0.103517 -0.184611 -0.175968 -0.057138  0.197972   \n",
       "1 -0.046276  0.480378 -0.103517 -0.184562 -0.175968 -0.057138  0.197895   \n",
       "2 -0.046143  0.434416 -0.103281 -0.184430 -0.175822 -0.057138  0.197686   \n",
       "3 -0.046110  0.440171 -0.103281 -0.184700 -0.176173 -0.057138  0.198113   \n",
       "4 -0.045824  0.325449 -0.103281 -0.185008 -0.176465 -0.057888  0.198601   \n",
       "\n",
       "      Range    StdDev       Var  \n",
       "0 -0.042824 -0.046323 -0.004902  \n",
       "1 -0.042824 -0.046276 -0.004901  \n",
       "2 -0.042620 -0.046143 -0.004901  \n",
       "3 -0.042620 -0.046109 -0.004901  \n",
       "4 -0.042007 -0.045821 -0.004899  "
      ]
     },
     "execution_count": 14,
     "metadata": {},
     "output_type": "execute_result"
    }
   ],
   "source": [
    "TestDataDF.head()"
   ]
  },
  {
   "cell_type": "code",
   "execution_count": 15,
   "metadata": {
    "collapsed": true
   },
   "outputs": [],
   "source": [
    "TrainData = TrainDataDF.as_matrix()\n",
    "TestData = TestDataDF.as_matrix()"
   ]
  },
  {
   "cell_type": "code",
   "execution_count": 16,
   "metadata": {
    "collapsed": false
   },
   "outputs": [
    {
     "name": "stdout",
     "output_type": "stream",
     "text": [
      "TrainData.shape=(77493, 10)\n",
      "TestData.shape=(72498, 10)\n"
     ]
    }
   ],
   "source": [
    "# SHAPE\n",
    "print \"TrainData.shape=\"+str(TrainData.shape)\n",
    "print \"TestData.shape=\"+str(TestData.shape)"
   ]
  },
  {
   "cell_type": "markdown",
   "metadata": {},
   "source": [
    "# Random Forest"
   ]
  },
  {
   "cell_type": "code",
   "execution_count": 17,
   "metadata": {
    "collapsed": true
   },
   "outputs": [],
   "source": [
    "from sklearn.ensemble import RandomForestClassifier"
   ]
  },
  {
   "cell_type": "code",
   "execution_count": 18,
   "metadata": {
    "collapsed": true
   },
   "outputs": [],
   "source": [
    "feat_labels = TrainDataDF.columns[1:]"
   ]
  },
  {
   "cell_type": "code",
   "execution_count": null,
   "metadata": {
    "collapsed": false
   },
   "outputs": [],
   "source": [
    "forest = RandomForestClassifier(n_estimators=10000, random_state=0)"
   ]
  },
  {
   "cell_type": "code",
   "execution_count": null,
   "metadata": {
    "collapsed": false
   },
   "outputs": [],
   "source": [
    "forest.fit(TrainDataDF, TrainLabelDF.ActiveNumber.values)"
   ]
  },
  {
   "cell_type": "code",
   "execution_count": null,
   "metadata": {
    "collapsed": true
   },
   "outputs": [],
   "source": []
  }
 ],
 "metadata": {
  "kernelspec": {
   "display_name": "Python 2",
   "language": "python",
   "name": "python2"
  },
  "language_info": {
   "codemirror_mode": {
    "name": "ipython",
    "version": 2
   },
   "file_extension": ".py",
   "mimetype": "text/x-python",
   "name": "python",
   "nbconvert_exporter": "python",
   "pygments_lexer": "ipython2",
   "version": "2.7.11"
  }
 },
 "nbformat": 4,
 "nbformat_minor": 1
}
