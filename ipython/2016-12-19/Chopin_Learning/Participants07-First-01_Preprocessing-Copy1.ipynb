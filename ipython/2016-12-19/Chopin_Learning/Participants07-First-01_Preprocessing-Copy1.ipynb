{
 "cells": [
  {
   "cell_type": "markdown",
   "metadata": {},
   "source": [
    "# 約束事  \n",
    "\n",
    "加速度の名前は例として，Participants07-First-01-win=0256-sld=0032"
   ]
  },
  {
   "cell_type": "code",
   "execution_count": 1,
   "metadata": {
    "collapsed": true
   },
   "outputs": [],
   "source": [
    "import numpy as np\n",
    "import datetime\n",
    "import os\n",
    "import copy\n",
    "# Generate WindowFrame Function\n",
    "from mymodule import window\n",
    "import joblib\n",
    "import pandas as pd\n",
    "\n",
    "from tqdm import tqdm_notebook\n",
    "\n",
    "# Parametor about Sensor\n",
    "SensorNum=1 # Sensor number\n",
    "#SensorAxis='AccX' # Axis\n",
    "\n",
    "# Define Data Name\n",
    "DATE= str( datetime.date.today() )+'/'\n",
    "\n",
    "# Parametor about \" Data Path\"\n",
    "StorePath = \"/media/takeyama/Transfer/02_ActivityResearch/\"\n",
    "\n",
    "ParticipantsNum=\"Participants07/\"\n",
    "Version = \"03_Third/\"\n",
    "Time = \"01_First/\"\n",
    "CommonName = 'Participants07-Third-01'\n",
    "LabelName = CommonName+'.csv'\n",
    "\n",
    "TITLE = ParticipantsNum+Version\n",
    "\n",
    "DataPath = StorePath+ParticipantsNum+Version+\"RawData/\"+Time\n",
    "\n",
    "if not os.path.exists(StorePath+TITLE+'LabelData/'+Time): \n",
    "    os.makedirs(StorePath+TITLE+'LabelData/'+Time)\n",
    "LabelDataPath=StorePath+TITLE+'LabelData/'+Time\n",
    "\n",
    "if not os.path.exists(StorePath+TITLE+'dictionary/'+Time): \n",
    "    os.makedirs(StorePath+TITLE+'dictionary/'+Time)\n",
    "DictionaryDataPath=StorePath+TITLE+'dictionary/'+Time\n",
    "\n",
    "if not os.path.exists(StorePath+TITLE+'feature/'+Time): \n",
    "    os.makedirs(StorePath+TITLE+'feature/'+Time)\n",
    "FeaturePath=StorePath+TITLE+'feature/'+Time\n",
    "\n",
    "if not os.path.exists(StorePath+TITLE+'window/'+Time): \n",
    "    os.makedirs(StorePath+TITLE+'window/'+Time)\n",
    "WindowDataPath=StorePath+TITLE+'window/'+Time\n",
    "\n",
    "if not os.path.exists(StorePath+TITLE+DATE+'studyOutput/'+Time): \n",
    "    os.makedirs(StorePath+TITLE+DATE+'studyOutput/'+Time)\n",
    "StudyOutputPath=StorePath+TITLE+DATE+'studyOutput/'+Time\n",
    "\n",
    "if not os.path.exists(StorePath+TITLE+DATE+'parametor/'+Time): \n",
    "    os.makedirs(StorePath+TITLE+DATE+'parametor/'+Time)\n",
    "ParametorPath=StorePath+TITLE+DATE+'parametor/'+Time\n",
    "\n",
    "if not os.path.exists(StorePath+TITLE+DATE+'result/'+Time): \n",
    "    os.makedirs(StorePath+TITLE+DATE+'result/'+Time)\n",
    "ResultPath=StorePath+TITLE+DATE+'result/'+Time\n",
    "\n",
    "if not os.path.exists(StorePath+TITLE+DATE+'graph/'+Time): \n",
    "    os.makedirs(StorePath+TITLE+DATE+'graph/'+Time)\n",
    "GraphPath=StorePath+TITLE+DATE+'graph/'+Time"
   ]
  },
  {
   "cell_type": "markdown",
   "metadata": {},
   "source": [
    "# Task01 Read CSV Data"
   ]
  },
  {
   "cell_type": "code",
   "execution_count": 2,
   "metadata": {
    "collapsed": true
   },
   "outputs": [],
   "source": [
    "# センサデータの読み込み\n",
    "# センサデータのcsvファイル名をリストに集約する関数\n",
    "def SensorDataFileNameList(path):\n",
    "    l = os.listdir(DataPath)\n",
    "    FilePath =[]\n",
    "    SensorName = []\n",
    "    \n",
    "    for n in range(len(l)):\n",
    "        if (l[n][:4].find('mem-') != -1):\n",
    "            FilePath.append(l[n])\n",
    "    \n",
    "    return FilePath"
   ]
  },
  {
   "cell_type": "code",
   "execution_count": 3,
   "metadata": {
    "collapsed": false
   },
   "outputs": [
    {
     "data": {
      "text/plain": [
       "['mem-USB14011711-20161121-140651295.csv',\n",
       " 'mem-USB14011712-20161121-140650349.csv',\n",
       " 'mem-USB14011713-20161121-140650388.csv',\n",
       " 'mem-USB14011714-20161121-140650435.csv',\n",
       " 'mem-USB14011715-20161121-140650474.csv',\n",
       " 'mem-USB14011716-20161121-140650529.csv']"
      ]
     },
     "execution_count": 3,
     "metadata": {},
     "output_type": "execute_result"
    }
   ],
   "source": [
    "SensorDataFileNameList(DataPath)"
   ]
  },
  {
   "cell_type": "markdown",
   "metadata": {},
   "source": [
    "# Task02 Acc&Agr scale change  \n",
    "Acc: [0.1 mG] -> [G]  \n",
    "Gyr: [0.01 dps] -> [dps]  "
   ]
  },
  {
   "cell_type": "code",
   "execution_count": 4,
   "metadata": {
    "collapsed": true
   },
   "outputs": [],
   "source": [
    "# CSVを読み込んで，CSVの中身を辞書型で表現する．\n",
    "def ImportCSV(csv_file,SensorName,mode='Round'):\n",
    "    import pandas as pd\n",
    "    '''\n",
    "    ~Argument~\n",
    "    csv_file -> ファイル名 \n",
    "    mode Round -> 四捨五入\n",
    "         Roundup -> 切り上げ\n",
    "         Rounddown -> 切り捨て\n",
    "    \n",
    "    ~Conversion~\n",
    "    Acc Data  [0.1mG]=>[G]\n",
    "    Gyr Data  [0.01dps]=>[dps]   ...dps=degree per second\n",
    "    '''\n",
    "    # data dictionary \n",
    "    RawData={}   \n",
    "    AccConversion = 0.1 * 0.001\n",
    "    GyrConversion = 0.01\n",
    "    \n",
    "    # design dataframe and import csv\n",
    "    data = pd.read_csv(csv_file)\n",
    "    data.columns=[u'Type',u'Time',u'AccX',u'AccY',u'AccZ',u'GyrX',u'GyrY',u'GyrZ']\n",
    "    data = data[ data['Type']=='ags']\n",
    "\n",
    "    # convert numpy.darray \n",
    "\n",
    "    AccX=data.AccX.values*AccConversion\n",
    "    AccY=data.AccY.values*AccConversion\n",
    "    AccZ=data.AccZ.values*AccConversion\n",
    "    \n",
    "    GyrX=data.GyrX.values*GyrConversion\n",
    "    GyrY=data.GyrY.values*GyrConversion\n",
    "    GyrZ=data.GyrZ.values*GyrConversion\n",
    "\n",
    "    # regist each raw data \n",
    "    RawData['AccX'] = AccX\n",
    "    RawData['AccY'] = AccY\n",
    "    RawData['AccZ'] = AccZ\n",
    "    RawData['GyrX'] = GyrX\n",
    "    RawData['GyrY'] = GyrY\n",
    "    RawData['GyrZ'] = GyrZ\n",
    "    RawData['Name'] = SensorName\n",
    "\n",
    "    RawData['Time'] = data.Time.values\n",
    "    return RawData"
   ]
  },
  {
   "cell_type": "code",
   "execution_count": 5,
   "metadata": {
    "collapsed": false
   },
   "outputs": [],
   "source": [
    "Label = ['01_LeftHand','02_RightHand','03_LeftLeg','04_Rightleg','05_West','06_Chest']\n",
    "DataFileNameList =SensorDataFileNameList(DataPath)\n",
    "\n",
    "DataList = list()\n",
    "\n",
    "for name,l in zip( DataFileNameList,Label):\n",
    "    DataList.append( ImportCSV(DataPath+name,l) )"
   ]
  },
  {
   "cell_type": "markdown",
   "metadata": {},
   "source": [
    "# TASK03 Sync Each Senser's Length"
   ]
  },
  {
   "cell_type": "code",
   "execution_count": 6,
   "metadata": {
    "collapsed": true
   },
   "outputs": [],
   "source": [
    "def MakeCommonSection(inputDataArray):\n",
    "    \"\"\"\n",
    "    inputDataArray: センサデータの配列\n",
    "    \n",
    "    return\n",
    "        TrimDataArray: スタート時間とゴール時間を整理したデータ\n",
    "        startTime: TrimDataArrayのデータ\n",
    "        goalTime: TrimDataArrayのゴール時間\n",
    "    \n",
    "    \"\"\"\n",
    "    # 共通区間のスタート時間、ゴール時間を求める\n",
    "    # スタート時間を求める\n",
    "    startTime = min(inputDataArray[0]['Time'])\n",
    "    \n",
    "    for i in range(len(inputDataArray)):\n",
    "        if startTime < min(inputDataArray[i]['Time']):\n",
    "            startTime = min(inputDataArray[i]['Time'])\n",
    "    \n",
    "    # ゴール時間を求める\n",
    "    goalTime = max(inputDataArray[0]['Time'])\n",
    "    \n",
    "    for i in range(len(inputDataArray)):\n",
    "        if goalTime > max(inputDataArray[i]['Time']):\n",
    "            goalTime = max(inputDataArray[i]['Time'])\n",
    "\n",
    "    # 共通区間のスタート時間のインデックス、ゴール時間のインデックスを探索する\n",
    "    def CalcSearchIndexFromTime(data, keyTime):\n",
    "        \"\"\"\n",
    "        data　辞書型\n",
    "        keyTime data['Time']の中の探す値\n",
    "        \"\"\"\n",
    "        count = 0\n",
    "        for i in range(0, len(data['Time'])):\n",
    "            if keyTime == data['Time'][i]:\n",
    "                print str(keyTime)+' is much in the index  whose number is '+str(i)\n",
    "                return i\n",
    "            \n",
    "    startIndex = np.array([])\n",
    "    goalIndex = np.array([])\n",
    "    for obj in inputDataArray:\n",
    "        #print 'start'\n",
    "        startIndex = np.append(startIndex, CalcSearchIndexFromTime(obj, startTime) ).astype(int)\n",
    "        #print 'goal'\n",
    "        goalIndex = np.append(goalIndex, CalcSearchIndexFromTime(obj, goalTime) ).astype(int)\n",
    "\n",
    "    tmp={}\n",
    "    TrimDataArray =[]\n",
    "\n",
    "    # センサデータすべて（時刻、加速度、角速度）に対して共通区間のみのデータを抽出\n",
    "    for number,iDA in enumerate( inputDataArray ):\n",
    "\n",
    "        tmp['AccX'] = copy.deepcopy( iDA['AccX'][startIndex[number]:goalIndex[number]] )\n",
    "        tmp['AccY'] = copy.deepcopy( iDA['AccY'][startIndex[number]:goalIndex[number]] )\n",
    "        tmp['AccZ'] = copy.deepcopy( iDA['AccZ'][startIndex[number]:goalIndex[number]] )\n",
    "        tmp['GyrX'] = copy.deepcopy( iDA['GyrX'][startIndex[number]:goalIndex[number]] )\n",
    "        tmp['GyrY'] = copy.deepcopy( iDA['GyrY'][startIndex[number]:goalIndex[number]] )\n",
    "        tmp['GyrZ'] = copy.deepcopy( iDA['GyrZ'][startIndex[number]:goalIndex[number]] )\n",
    "        tmp['Time'] = copy.deepcopy( iDA['Time'][startIndex[number]:goalIndex[number]] )\n",
    "        tmp['Name'] = copy.deepcopy( iDA['Name'] )\n",
    "        TrimDataArray.append(copy.deepcopy(tmp) )    \n",
    "       \n",
    "    return TrimDataArray,startTime,goalTime"
   ]
  },
  {
   "cell_type": "code",
   "execution_count": 7,
   "metadata": {
    "collapsed": false,
    "scrolled": false
   },
   "outputs": [
    {
     "name": "stdout",
     "output_type": "stream",
     "text": [
      "50811410 is much in the index  whose number is 0\n",
      "51584960 is much in the index  whose number is 773550\n",
      "50811410 is much in the index  whose number is 946\n",
      "51584960 is much in the index  whose number is 774496\n",
      "50811410 is much in the index  whose number is 907\n",
      "51584960 is much in the index  whose number is 774457\n",
      "50811410 is much in the index  whose number is 860\n",
      "51584960 is much in the index  whose number is 774410\n",
      "50811410 is much in the index  whose number is 821\n",
      "51584960 is much in the index  whose number is 774371\n",
      "50811410 is much in the index  whose number is 766\n",
      "51584960 is much in the index  whose number is 774316\n"
     ]
    }
   ],
   "source": [
    "TrimDataArray,StartTime,GoalTime = MakeCommonSection(DataList)"
   ]
  },
  {
   "cell_type": "code",
   "execution_count": 8,
   "metadata": {
    "collapsed": false
   },
   "outputs": [],
   "source": [
    "for i in range(6):\n",
    "    np.savez(DictionaryDataPath+TrimDataArray[i]['Name'],data=TrimDataArray[i])"
   ]
  },
  {
   "cell_type": "markdown",
   "metadata": {},
   "source": [
    "# TASK 04 Read LabelData and Make TimeDomain Data"
   ]
  },
  {
   "cell_type": "code",
   "execution_count": 9,
   "metadata": {
    "collapsed": true
   },
   "outputs": [],
   "source": [
    "def MakeTimeDomainLabelData(DataName,StartTime,GoalTime):\n",
    "    # import LabelData -> pandas\n",
    "    LabelDf = pd.read_csv(DataName,encoding='Shift-JIS')\n",
    "    LabelData = LabelDf.as_matrix() #pandas -> ndarray\n",
    "    \n",
    "    # timedata hh.mm.ss -> ms\n",
    "    TimeArray = pd.to_datetime( LabelDf['#Time'].values ) \n",
    "    t = np.array([ TimeArray[i].hour*3600*1000+TimeArray[i].minute*60*1000+TimeArray[i].second*1000+TimeArray[i].microsecond*0.001\n",
    "                 for i in range( len(TimeArray) )]).astype(int)\n",
    "    \n",
    "    LabelData[:,0] = t.astype(int) #time data: unicode -> int\n",
    "    # Time Series\n",
    "    LabelArray = np.array([\n",
    "        np.append( np.array(LabelData[i,0]+l) , LabelData[i,1:])\n",
    "        for i in range(LabelData.shape[0]-1) \n",
    "        for l in range(LabelData[i+1,0]-LabelData[i,0])\n",
    "    ])\n",
    "    \n",
    "    StartLabelArray = np.array([\n",
    "        np.append( StartTime+i, LabelArray[0,1:])\n",
    "        for i in range(LabelArray[0,0]-StartTime)\n",
    "    ])\n",
    "    \n",
    "    GoalLabelArray = np.array([\n",
    "        np.append( GoalTime+i, LabelArray[-1,1:])\n",
    "        for i in range(1,1+GoalTime-LabelArray[-1,0])\n",
    "    ])\n",
    "    \n",
    "    LabelArrayComp = np.vstack((StartLabelArray, LabelArray))\n",
    "    LabelArrayComp = np.vstack((LabelArrayComp, GoalLabelArray))\n",
    "    df = pd.DataFrame(LabelArrayComp)\n",
    "    df.columns = LabelDf.columns\n",
    "    \n",
    "    return df.to_dict()"
   ]
  },
  {
   "cell_type": "code",
   "execution_count": 10,
   "metadata": {
    "collapsed": false
   },
   "outputs": [],
   "source": [
    "dictLabel=MakeTimeDomainLabelData(LabelDataPath+LabelName,StartTime,GoalTime)\n",
    "np.savez(DictionaryDataPath+'07_LabelData',data=dictLabel)"
   ]
  },
  {
   "cell_type": "code",
   "execution_count": 11,
   "metadata": {
    "collapsed": false,
    "scrolled": true
   },
   "outputs": [
    {
     "data": {
      "text/plain": [
       "[u'RightHand-Verb',\n",
       " u'#Time',\n",
       " u'LeftHand-Object',\n",
       " u'West',\n",
       " u'LeftHand-Verb',\n",
       " u'Leg-Number',\n",
       " u'ActiveNumber',\n",
       " u'Leg-Object',\n",
       " u'Leg-Verb',\n",
       " u'RightHand-Object']"
      ]
     },
     "execution_count": 11,
     "metadata": {},
     "output_type": "execute_result"
    }
   ],
   "source": [
    "dictLabel.keys()"
   ]
  },
  {
   "cell_type": "code",
   "execution_count": 12,
   "metadata": {
    "collapsed": false
   },
   "outputs": [],
   "source": [
    "df = pd.DataFrame(dictLabel)"
   ]
  },
  {
   "cell_type": "code",
   "execution_count": 13,
   "metadata": {
    "collapsed": false
   },
   "outputs": [
    {
     "name": "stdout",
     "output_type": "stream",
     "text": [
      "<class 'pandas.core.frame.DataFrame'>\n",
      "Int64Index: 773551 entries, 0 to 773550\n",
      "Data columns (total 10 columns):\n",
      "#Time               773551 non-null int64\n",
      "ActiveNumber        773551 non-null int64\n",
      "LeftHand-Object     773551 non-null object\n",
      "LeftHand-Verb       773551 non-null object\n",
      "Leg-Number          773551 non-null object\n",
      "Leg-Object          773551 non-null object\n",
      "Leg-Verb            773551 non-null object\n",
      "RightHand-Object    773551 non-null object\n",
      "RightHand-Verb      773551 non-null object\n",
      "West                773551 non-null object\n",
      "dtypes: int64(2), object(8)\n",
      "memory usage: 64.9+ MB\n"
     ]
    }
   ],
   "source": [
    "df.info()"
   ]
  },
  {
   "cell_type": "code",
   "execution_count": 14,
   "metadata": {
    "collapsed": false
   },
   "outputs": [
    {
     "name": "stdout",
     "output_type": "stream",
     "text": [
      "Each columns  has some unique label\n",
      "columns=#Time unique=773551\n",
      "columns=ActiveNumber unique=15\n",
      "columns=LeftHand-Object unique=19\n",
      "columns=LeftHand-Verb unique=14\n",
      "columns=Leg-Number unique=1\n",
      "columns=Leg-Object unique=1\n",
      "columns=Leg-Verb unique=3\n",
      "columns=RightHand-Object unique=19\n",
      "columns=RightHand-Verb unique=16\n",
      "columns=West unique=2\n"
     ]
    }
   ],
   "source": [
    "print \"Each columns  has some unique label\"\n",
    "for c in df.columns:\n",
    "    print 'columns='+c+' unique='+str( len( df[c].unique() ) )"
   ]
  },
  {
   "cell_type": "code",
   "execution_count": 15,
   "metadata": {
    "collapsed": false
   },
   "outputs": [
    {
     "name": "stdout",
     "output_type": "stream",
     "text": [
      "Each ActiveNumber has some label\n",
      "Columns=100 count=21296\n",
      "Columns=101 count=13762\n",
      "Columns=102 count=35037\n",
      "Columns=103 count=36278\n",
      "Columns=104 count=9681\n",
      "Columns=105 count=27104\n",
      "Columns=106 count=6638\n",
      "Columns=107 count=6603\n",
      "Columns=108 count=221905\n",
      "Columns=109 count=9728\n",
      "Columns=110 count=149373\n",
      "Columns=111 count=30471\n",
      "Columns=112 count=47315\n",
      "Columns=113 count=89000\n",
      "Columns=114 count=69360\n"
     ]
    }
   ],
   "source": [
    "print \"Each ActiveNumber has some label\"\n",
    "for key in df['ActiveNumber'].unique():\n",
    "    print 'Columns='+str(key)+' count='+str(df[df['ActiveNumber']==key].shape[0] )"
   ]
  },
  {
   "cell_type": "code",
   "execution_count": null,
   "metadata": {
    "collapsed": true
   },
   "outputs": [],
   "source": []
  }
 ],
 "metadata": {
  "kernelspec": {
   "display_name": "Python 2",
   "language": "python",
   "name": "python2"
  },
  "language_info": {
   "codemirror_mode": {
    "name": "ipython",
    "version": 2
   },
   "file_extension": ".py",
   "mimetype": "text/x-python",
   "name": "python",
   "nbconvert_exporter": "python",
   "pygments_lexer": "ipython2",
   "version": "2.7.11"
  }
 },
 "nbformat": 4,
 "nbformat_minor": 1
}
