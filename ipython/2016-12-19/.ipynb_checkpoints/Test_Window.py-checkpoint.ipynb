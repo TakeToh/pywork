{
 "cells": [
  {
   "cell_type": "code",
   "execution_count": 1,
   "metadata": {
    "collapsed": true
   },
   "outputs": [],
   "source": [
    "import numpy as np\n",
    "import datetime\n",
    "import os\n",
    "import copy\n",
    "\n",
    "# Parametor about Sensor\n",
    "SensorNum=1 # Sensor number\n",
    "#SensorAxis='AccX' # Axis\n",
    "\n",
    "# Parametor about  \" Sliding Window \" \n",
    "WindowWidth =np.array([128,256,512,1024,2048,4096]) # Window Width\n",
    "SlidingWidth =WindowWidth/4 #sliding window\n",
    "\n",
    "# Parametor about Neural Network\n",
    "AEDimention = 16\n",
    "\n",
    "# Define Data Name\n",
    "DATE= str( datetime.date.today() )+'/'\n",
    "TITLE=\"Participants01_First_1/\"\n",
    "Label = ['LeftHand','RightHand','LeftLeg','Rightleg','West','Chest']\n",
    "\n",
    "# Parametor about \" Data Path\"\n",
    "DataPath = \"/media/takeyama/Transfer/02_ActivityResearch/Paticipants01/01_First/20161018-105301/mem/\"\n",
    "StorePath = \"/home/takeyama/Documents/\"\n",
    "\n",
    "if not os.path.exists(StorePath+TITLE+'dictionary/'): \n",
    "    os.makedirs(StorePath+TITLE+'dictionary/')\n",
    "DictionaryDataPath=StorePath+TITLE+'dictionary/'\n",
    "\n",
    "if not os.path.exists(StorePath+TITLE+DATE+'window/'): \n",
    "    os.makedirs(StorePath+TITLE+DATE+'window/')\n",
    "WindowDataPath=StorePath+TITLE+DATE+'window/'\n",
    "\n",
    "if not os.path.exists(StorePath+TITLE+DATE+'studyOutput/'): \n",
    "    os.makedirs(StorePath+TITLE+DATE+'studyOutput/')\n",
    "StudyOutputPath=StorePath+TITLE+DATE+'studyOutput/'\n",
    "\n",
    "if not os.path.exists(StorePath+TITLE+DATE+'parametor/'): \n",
    "    os.makedirs(StorePath+TITLE+DATE+'parametor/')\n",
    "ParametorPath=StorePath+TITLE+DATE+'parametor/'\n",
    "\n",
    "if not os.path.exists(StorePath+TITLE+DATE+'result/'): \n",
    "    os.makedirs(StorePath++TITLE+DATE+'result/')\n",
    "ResultPath=StorePath+TITLE+DATE+'result/'\n",
    "\n",
    "if not os.path.exists(StorePath+TITLE+DATE+'graph/'): \n",
    "    os.makedirs(StorePath+TITLE+DATE+'graph/')\n",
    "GraphPath=StorePath+TITLE+DATE+'graph/'"
   ]
  },
  {
   "cell_type": "code",
   "execution_count": 40,
   "metadata": {
    "collapsed": true
   },
   "outputs": [],
   "source": [
    "\"\"\"\n",
    "    how to use class Window\n",
    "    1. Regist data using SetData method\n",
    "        e.g window.SetData('Sensor1-AccX',Sensor1AccX)\n",
    "    2. if all data is registed, execute Compile method\n",
    "        e.g window.Compile(windowWidth=16,overlap=0.5)\n",
    "       The data return by this method is the needed window\n",
    "\"\"\"\n",
    "\n",
    "import numpy as np\n",
    "\n",
    "\n",
    "class Window:\n",
    "    \"\"\"Input dictionary\n",
    "       Ouput Windows\n",
    "    \"\"\"         \n",
    "    def __init__(self):                  \n",
    "        self.seed ={}\n",
    "        self.window=np.array([])\n",
    "    \n",
    "    def SetData(self, RegistDataName, RegistData):\n",
    "        if RegistDataName in self.seed:\n",
    "            print RegistDataName+' has been registed before'\n",
    "            return -1\n",
    "        \n",
    "        self.seed[RegistDataName] = RegistData\n",
    "        print RegistDataName+' is registed now'\n",
    "    \n",
    "    def _Build(self):\n",
    "        keys = self.seed.keys()\n",
    "        array = self.seed[keys[0]]\n",
    "        \n",
    "        for k in keys[1:]:\n",
    "            array = np.vstack( (array,self.seed[k]))\n",
    "        print 'Build Complete'\n",
    "        return array.T\n",
    "    \n",
    "    def Compile(self,windowWidth,slidingWidth):\n",
    "        source = self._Build()\n",
    "        print 'Source shape is'+str( source.shape )\n",
    "       \n",
    "        # Kind of Data\n",
    "        numData = source.ndim\n",
    "        # Length of Data\n",
    "        lengthData = source.size\n",
    "        \n",
    "        # Num WindowFrame\n",
    "        numWindow = (lengthData-windowWidth)/slidingWidth\n",
    "        \n",
    "        offset = lengthData-(NumWindow*windowWidth)\n",
    "        print 'offset='+str(offset)\n",
    "        \n",
    "        if offset % 2 == 1:\n",
    "            offset=offset/2 +1\n",
    "        else:\n",
    "            offset=offset/2\n",
    "            \n",
    "        # first array\n",
    "        start = offset\n",
    "        goal = start+windowWidth\n",
    "        self.window = source[start:goal].T\n",
    "        \n",
    "        for i in range(1,len(source)/windowWidth):\n",
    "            start = start+ int(windowWidth*overlapNum)\n",
    "            goal = start+windowWidth\n",
    "            adding = source[start:goal].T\n",
    "            self.window = np.dstack((self.window,adding))\n",
    "        return self.window.T\n",
    "\n",
    "    def MakeWindowSet(self,windowWidth, overlap):\n",
    "        window = self.Compile(windowWidth, overlap)\n",
    "        d2window = self.d2window(wind=self.window)\n",
    "        "
   ]
  },
  {
   "cell_type": "code",
   "execution_count": 41,
   "metadata": {
    "collapsed": false
   },
   "outputs": [],
   "source": [
    "TestSensorData = np.load(DictionaryDataPath+Label[0]+'.npz')['data'][()]"
   ]
  },
  {
   "cell_type": "code",
   "execution_count": 42,
   "metadata": {
    "collapsed": false
   },
   "outputs": [
    {
     "data": {
      "text/plain": [
       "{'AccX': array([-1.0156, -1.0073, -1.0041, ..., -0.0739, -0.0747, -0.0742]),\n",
       " 'AccY': array([-0.0423, -0.0516, -0.0577, ..., -0.0248, -0.0275, -0.0248]),\n",
       " 'AccZ': array([-0.2341, -0.2341, -0.2409, ...,  0.9472,  0.9514,  0.9502]),\n",
       " 'GyrX': array([ 53.34,  53.19,  53.04, ...,   0.47,   0.28,   0.13]),\n",
       " 'GyrY': array([ 17.02,  17.11,  17.08, ...,  -0.77,  -0.74,  -0.83]),\n",
       " 'GyrZ': array([ 7.1 ,  6.64,  6.4 , ..., -0.43, -0.41, -0.23]),\n",
       " 'Name': 'LeftHand',\n",
       " 'Time': array([36290413, 36290414, 36290415, ..., 37368280, 37368281, 37368282])}"
      ]
     },
     "execution_count": 42,
     "metadata": {},
     "output_type": "execute_result"
    }
   ],
   "source": [
    "TestSensorData"
   ]
  },
  {
   "cell_type": "code",
   "execution_count": 43,
   "metadata": {
    "collapsed": false
   },
   "outputs": [
    {
     "name": "stdout",
     "output_type": "stream",
     "text": [
      "AccX is registed now\n",
      "Build Complete\n",
      "Source shape is(1077870,)\n"
     ]
    },
    {
     "ename": "NameError",
     "evalue": "global name 'LengthData' is not defined",
     "output_type": "error",
     "traceback": [
      "\u001b[0;31m---------------------------------------------------------------------------\u001b[0m",
      "\u001b[0;31mNameError\u001b[0m                                 Traceback (most recent call last)",
      "\u001b[0;32m<ipython-input-43-95de5cb6da9a>\u001b[0m in \u001b[0;36m<module>\u001b[0;34m()\u001b[0m\n\u001b[1;32m      1\u001b[0m \u001b[0mw\u001b[0m\u001b[0;34m=\u001b[0m\u001b[0mWindow\u001b[0m\u001b[0;34m(\u001b[0m\u001b[0;34m)\u001b[0m\u001b[0;34m\u001b[0m\u001b[0m\n\u001b[1;32m      2\u001b[0m \u001b[0mw\u001b[0m\u001b[0;34m.\u001b[0m\u001b[0mSetData\u001b[0m\u001b[0;34m(\u001b[0m\u001b[0;34m'AccX'\u001b[0m\u001b[0;34m,\u001b[0m\u001b[0mTestSensorData\u001b[0m\u001b[0;34m[\u001b[0m\u001b[0;34m'AccX'\u001b[0m\u001b[0;34m]\u001b[0m\u001b[0;34m)\u001b[0m\u001b[0;34m\u001b[0m\u001b[0m\n\u001b[0;32m----> 3\u001b[0;31m \u001b[0mwind\u001b[0m\u001b[0;34m=\u001b[0m\u001b[0mw\u001b[0m\u001b[0;34m.\u001b[0m\u001b[0mCompile\u001b[0m\u001b[0;34m(\u001b[0m\u001b[0mwindowWidth\u001b[0m\u001b[0;34m=\u001b[0m\u001b[0;36m32\u001b[0m\u001b[0;34m,\u001b[0m\u001b[0mslidingWidth\u001b[0m\u001b[0;34m=\u001b[0m\u001b[0;36m16\u001b[0m\u001b[0;34m)\u001b[0m\u001b[0;34m\u001b[0m\u001b[0m\n\u001b[0m",
      "\u001b[0;32m<ipython-input-40-f55edb872563>\u001b[0m in \u001b[0;36mCompile\u001b[0;34m(self, windowWidth, slidingWidth)\u001b[0m\n\u001b[1;32m     48\u001b[0m         \u001b[0mnumWindow\u001b[0m \u001b[0;34m=\u001b[0m \u001b[0;34m(\u001b[0m\u001b[0mlengthData\u001b[0m\u001b[0;34m-\u001b[0m\u001b[0mwindowWidth\u001b[0m\u001b[0;34m)\u001b[0m\u001b[0;34m/\u001b[0m\u001b[0mslidingWidth\u001b[0m\u001b[0;34m\u001b[0m\u001b[0m\n\u001b[1;32m     49\u001b[0m \u001b[0;34m\u001b[0m\u001b[0m\n\u001b[0;32m---> 50\u001b[0;31m         \u001b[0moffset\u001b[0m \u001b[0;34m=\u001b[0m \u001b[0mLengthData\u001b[0m\u001b[0;34m-\u001b[0m\u001b[0;34m(\u001b[0m\u001b[0mNumWindow\u001b[0m\u001b[0;34m*\u001b[0m\u001b[0mwindowWidth\u001b[0m\u001b[0;34m)\u001b[0m\u001b[0;34m\u001b[0m\u001b[0m\n\u001b[0m\u001b[1;32m     51\u001b[0m         \u001b[0;32mprint\u001b[0m \u001b[0;34m'offset='\u001b[0m\u001b[0;34m+\u001b[0m\u001b[0mstr\u001b[0m\u001b[0;34m(\u001b[0m\u001b[0moffset\u001b[0m\u001b[0;34m)\u001b[0m\u001b[0;34m\u001b[0m\u001b[0m\n\u001b[1;32m     52\u001b[0m \u001b[0;34m\u001b[0m\u001b[0m\n",
      "\u001b[0;31mNameError\u001b[0m: global name 'LengthData' is not defined"
     ]
    }
   ],
   "source": [
    "w=Window()\n",
    "w.SetData('AccX',TestSensorData['AccX'])\n",
    "wind=w.Compile(windowWidth=32,slidingWidth=16)"
   ]
  },
  {
   "cell_type": "code",
   "execution_count": null,
   "metadata": {
    "collapsed": true
   },
   "outputs": [],
   "source": []
  },
  {
   "cell_type": "code",
   "execution_count": null,
   "metadata": {
    "collapsed": true
   },
   "outputs": [],
   "source": []
  },
  {
   "cell_type": "code",
   "execution_count": null,
   "metadata": {
    "collapsed": true
   },
   "outputs": [],
   "source": []
  }
 ],
 "metadata": {
  "kernelspec": {
   "display_name": "Python 2",
   "language": "python",
   "name": "python2"
  },
  "language_info": {
   "codemirror_mode": {
    "name": "ipython",
    "version": 2
   },
   "file_extension": ".py",
   "mimetype": "text/x-python",
   "name": "python",
   "nbconvert_exporter": "python",
   "pygments_lexer": "ipython2",
   "version": "2.7.11"
  }
 },
 "nbformat": 4,
 "nbformat_minor": 0
}
