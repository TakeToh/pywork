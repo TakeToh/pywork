{
 "cells": [
  {
   "cell_type": "markdown",
   "metadata": {},
   "source": [
    "ここに学習で必要なパラメータを定義する"
   ]
  },
  {
   "cell_type": "code",
   "execution_count": 1,
   "metadata": {
    "collapsed": true
   },
   "outputs": [],
   "source": [
    "# 表示用\n",
    "from tqdm import tqdm\n",
    "from tqdm import tnrange, tqdm_notebook"
   ]
  },
  {
   "cell_type": "code",
   "execution_count": 2,
   "metadata": {
    "collapsed": false
   },
   "outputs": [],
   "source": [
    "import numpy as np\n",
    "import datetime\n",
    "import os\n",
    "import copy\n",
    "import time\n",
    "\n",
    "# Parametor about Sensor\n",
    "SensorNum=1 # Sensor number\n",
    "#SensorAxis='AccX' # Axis\n",
    "\n",
    "# Parametor about  \" Sliding Window \" \n",
    "WindowWidth =np.array([128,256,512,1024,2048,4096]) # Window Width\n",
    "SlidingWidth =WindowWidth/4 #sliding window\n",
    "\n",
    "# Parametor about Neural Network\n",
    "AEDimention = 16\n",
    "\n",
    "# Define Data Name\n",
    "DATE= str( datetime.date.today() )+'/'\n",
    "TITLE=\"Participants01_First_1/\"\n",
    "\n",
    "# Parametor about \" Data Path\"\n",
    "DataPath = \"/media/takeyama/Transfer/02_ActivityResearch/Paticipants01/01_First/20161018-105301/mem/\"\n",
    "StorePath = \"/media/takeyama/Transfer/02_ActivityResearch\"\n",
    "\n",
    "if not os.path.exists(StorePath+'/'+TITLE+DATE+'dictionary/'): \n",
    "    os.makedirs(StorePath+'/'+TITLE+DATE+'dictionary/')\n",
    "DictionaryDataPath=StorePath+'/'+TITLE+DATE+'dictionary/'\n",
    "\n",
    "if not os.path.exists(StorePath+'/'+TITLE+DATE+'window/'): \n",
    "    os.makedirs(StorePath+'/'+TITLE+DATE+'window/')\n",
    "WindowDataPath=StorePath+'/'+TITLE+DATE+'window/'\n",
    "\n",
    "if not os.path.exists(StorePath+'/'+TITLE+DATE+'studyOutput/'): \n",
    "    os.makedirs(StorePath+'/'+TITLE+DATE+'studyOutput/')\n",
    "StudyOutputPath=StorePath+'/'+TITLE+DATE+'studyOutput/'\n",
    "\n",
    "if not os.path.exists(StorePath+'/'+TITLE+DATE+'parametor/'): \n",
    "    os.makedirs(StorePath+'/'+TITLE+DATE+'parametor/')\n",
    "ParametorPath=StorePath+'/'+TITLE+DATE+'parametor/'\n",
    "\n",
    "if not os.path.exists(StorePath+'/'+TITLE+DATE+'result/'): \n",
    "    os.makedirs(StorePath+'/'+TITLE+DATE+'result/')\n",
    "ResultPath=StorePath+'/'+TITLE+DATE+'result/'\n"
   ]
  },
  {
   "cell_type": "markdown",
   "metadata": {},
   "source": [
    "**センサデータの読み込み**"
   ]
  },
  {
   "cell_type": "code",
   "execution_count": 3,
   "metadata": {
    "collapsed": false
   },
   "outputs": [],
   "source": [
    "# センサデータのcsvファイル名をリストに集約する関数\n",
    "def SensorDataFileNameList(path):\n",
    "    l = os.listdir(DataPath)\n",
    "    FilePath =[]\n",
    "    SensorName = []\n",
    "    \n",
    "    for n in range(len(l)):\n",
    "        if (l[n][:4].find('mem-') != -1):\n",
    "            FilePath.append(l[n])\n",
    "            SensorName.append(l[n][4:15])\n",
    "    \n",
    "    return FilePath,SensorName"
   ]
  },
  {
   "cell_type": "markdown",
   "metadata": {},
   "source": [
    "CSVを読み込んで，CSVの中身を辞書型で表現する．"
   ]
  },
  {
   "cell_type": "code",
   "execution_count": 4,
   "metadata": {
    "collapsed": true
   },
   "outputs": [],
   "source": [
    "def ImportCSV(csv_file,SensorName,mode='Round'):\n",
    "    import pandas as pd\n",
    "    '''\n",
    "    ~Argument~\n",
    "    csv_file -> ファイル名 \n",
    "    mode Round -> 四捨五入\n",
    "         Roundup -> 切り上げ\n",
    "         Rounddown -> 切り捨て\n",
    "    \n",
    "    ~Conversion~\n",
    "    Acc Data  [0.1mG]=>[G]\n",
    "    Gyr Data  [0.01dps]=>[dps]   ...dps=degree per second\n",
    "    '''\n",
    "    # data dictionary \n",
    "    RawData={}   \n",
    "    AccConversion = 0.1 * 0.001\n",
    "    GyrConversion = 0.01\n",
    "    \n",
    "    # design dataframe and import csv\n",
    "    data = pd.read_csv(csv_file)\n",
    "    data.columns=[u'Type',u'Time',u'AccX',u'AccY',u'AccZ',u'GyrX',u'GyrY',u'GyrZ']\n",
    "    data = data[ data['Type']=='ags']\n",
    "\n",
    "    # convert numpy.darray \n",
    "\n",
    "    AccX=data.AccX.values*AccConversion\n",
    "    AccY=data.AccY.values*AccConversion\n",
    "    AccZ=data.AccZ.values*AccConversion\n",
    "    \n",
    "    GyrX=data.GyrX.values*GyrConversion\n",
    "    GyrY=data.GyrY.values*GyrConversion\n",
    "    GyrZ=data.GyrZ.values*GyrConversion\n",
    "\n",
    "    # regist each raw data \n",
    "    RawData['AccX'] = AccX\n",
    "    RawData['AccY'] = AccY\n",
    "    RawData['AccZ'] = AccZ\n",
    "    RawData['GyrX'] = GyrX\n",
    "    RawData['GyrY'] = GyrY\n",
    "    RawData['GyrZ'] = GyrZ\n",
    "    RawData['Name'] = SensorName\n",
    "\n",
    "    RawData['Time'] = data.Time.values\n",
    "    return RawData"
   ]
  },
  {
   "cell_type": "code",
   "execution_count": 5,
   "metadata": {
    "collapsed": false
   },
   "outputs": [],
   "source": [
    "import processing\n",
    "import window\n",
    "\n",
    "Label = ['LeftHand','RightHand','LeftLeg','Rightleg','West','Chest']\n",
    "\n",
    "DataFileNameList,SensorName=SensorDataFileNameList(DataPath)\n",
    "l=[]\n",
    "for i in range( len(DataFileNameList) ):\n",
    "    l.append( ImportCSV(DataPath+DataFileNameList[i],Label[i]) )"
   ]
  },
  {
   "cell_type": "markdown",
   "metadata": {},
   "source": [
    "読み込んだセンサデータの時系列を整理する．\n",
    "→具体的には，センサデータのスタート時間とゴール時間を整える．\n"
   ]
  },
  {
   "cell_type": "code",
   "execution_count": 6,
   "metadata": {
    "collapsed": true
   },
   "outputs": [],
   "source": [
    "def MakeCommonSection(inputDataArray):\n",
    "    # 共通区間のスタート時間、ゴール時間を求める\n",
    "    # スタート時間を求める\n",
    "    startTime = min(inputDataArray[0]['Time'])\n",
    "    \n",
    "    for i in range(len(inputDataArray)):\n",
    "        if startTime < min(inputDataArray[i]['Time']):\n",
    "            startTime = min(inputDataArray[i]['Time'])\n",
    "    \n",
    "    # ゴール時間を求める\n",
    "    goalTime = max(inputDataArray[0]['Time'])\n",
    "    \n",
    "    for i in range(len(inputDataArray)):\n",
    "        if goalTime > max(inputDataArray[i]['Time']):\n",
    "            goalTime = max(inputDataArray[i]['Time'])\n",
    "\n",
    "    # 共通区間のスタート時間のインデックス、ゴール時間のインデックスを探索する\n",
    "    def CalcSearchIndexFromTime(data, keyTime):\n",
    "        \"\"\"\n",
    "        data　辞書型\n",
    "        keyTime data['Time']の中の探す値\n",
    "        \"\"\"\n",
    "        count = 0\n",
    "        for i in range(0, len(data['Time'])):\n",
    "            if keyTime == data['Time'][i]:\n",
    "                print str(keyTime)+' is much in the index  whose number is '+str(i)\n",
    "                return i\n",
    "            \n",
    "    startIndex = np.array([])\n",
    "    goalIndex = np.array([])\n",
    "    for obj in inputDataArray:\n",
    "        print 'start'\n",
    "        startIndex = np.append(startIndex, CalcSearchIndexFromTime(obj, startTime) ).astype(int)\n",
    "        print 'goal'\n",
    "        goalIndex = np.append(goalIndex, CalcSearchIndexFromTime(obj, goalTime) ).astype(int)\n",
    "\n",
    "    tmp={}\n",
    "    comDataArray =[]\n",
    "    key={}\n",
    "\n",
    "    # センサデータすべて（時刻、加速度、角速度）に対して共通区間のみのデータを抽出\n",
    "    for number,iDA in enumerate( inputDataArray ):\n",
    "\n",
    "        tmp['AccX'] = copy.deepcopy( iDA['AccX'][startIndex[number]:goalIndex[number]] )\n",
    "        tmp['AccY'] = copy.deepcopy( iDA['AccY'][startIndex[number]:goalIndex[number]] )\n",
    "        tmp['AccZ'] = copy.deepcopy( iDA['AccZ'][startIndex[number]:goalIndex[number]] )\n",
    "        tmp['GyrX'] = copy.deepcopy( iDA['GyrX'][startIndex[number]:goalIndex[number]] )\n",
    "        tmp['GyrY'] = copy.deepcopy( iDA['GyrY'][startIndex[number]:goalIndex[number]] )\n",
    "        tmp['GyrZ'] = copy.deepcopy( iDA['GyrZ'][startIndex[number]:goalIndex[number]] )\n",
    "        tmp['Time'] = copy.deepcopy( iDA['Time'][startIndex[number]:goalIndex[number]] )\n",
    "        tmp['Name'] = copy.deepcopy( iDA['Name'] )\n",
    "        comDataArray.append(copy.deepcopy(tmp) )    \n",
    "        key[ tmp['Name'] ] = number\n",
    "       \n",
    "    return key,comDataArray"
   ]
  },
  {
   "cell_type": "code",
   "execution_count": 7,
   "metadata": {
    "collapsed": false
   },
   "outputs": [
    {
     "name": "stdout",
     "output_type": "stream",
     "text": [
      "start\n",
      "36290413 is much in the index  whose number is 35\n",
      "goal\n",
      "37368283 is much in the index  whose number is 1077905\n",
      "start\n",
      "36290413 is much in the index  whose number is 0\n",
      "goal\n",
      "37368283 is much in the index  whose number is 1077870\n",
      "start\n",
      "36290413 is much in the index  whose number is 959\n",
      "goal\n",
      "37368283 is much in the index  whose number is 1078829\n",
      "start\n",
      "36290413 is much in the index  whose number is 911\n",
      "goal\n",
      "37368283 is much in the index  whose number is 1078781\n",
      "start\n",
      "36290413 is much in the index  whose number is 871\n",
      "goal\n",
      "37368283 is much in the index  whose number is 1078741\n",
      "start\n",
      "36290413 is much in the index  whose number is 834\n",
      "goal\n",
      "37368283 is much in the index  whose number is 1078704\n"
     ]
    }
   ],
   "source": [
    "TrimKey,TrimData = MakeCommonSection(l)"
   ]
  },
  {
   "cell_type": "markdown",
   "metadata": {},
   "source": [
    "辞書型に変換したデータをnp.savez関数でnpz型に圧縮し，保存する"
   ]
  },
  {
   "cell_type": "code",
   "execution_count": 8,
   "metadata": {
    "collapsed": true
   },
   "outputs": [],
   "source": [
    "for i in range(6):\n",
    "    np.savez(DictionaryDataPath+TrimData[i]['Name'],data=TrimData[i])"
   ]
  },
  {
   "cell_type": "markdown",
   "metadata": {},
   "source": [
    "ラベルデータのインポート"
   ]
  },
  {
   "cell_type": "code",
   "execution_count": 9,
   "metadata": {
    "collapsed": false
   },
   "outputs": [
    {
     "data": {
      "text/plain": [
       "array([36290413, 36290414, 36290415, ..., 37368280, 37368281, 37368282])"
      ]
     },
     "execution_count": 9,
     "metadata": {},
     "output_type": "execute_result"
    }
   ],
   "source": [
    "TrimData[0]['Time']"
   ]
  },
  {
   "cell_type": "code",
   "execution_count": 10,
   "metadata": {
    "collapsed": false
   },
   "outputs": [
    {
     "data": {
      "text/plain": [
       "array([36290413, 36290414, 36290415, ..., 37368280, 37368281, 37368282])"
      ]
     },
     "execution_count": 10,
     "metadata": {},
     "output_type": "execute_result"
    }
   ],
   "source": [
    "TrimData[2]['Time']"
   ]
  },
  {
   "cell_type": "code",
   "execution_count": 11,
   "metadata": {
    "collapsed": false
   },
   "outputs": [],
   "source": [
    "LabelPath = \"/media/takeyama/Transfer/02_ActivityResearch/Paticipants01/01_First/20161018-first-syncplay/\"\n",
    "import pandas as pd"
   ]
  },
  {
   "cell_type": "code",
   "execution_count": 12,
   "metadata": {
    "collapsed": false,
    "scrolled": true
   },
   "outputs": [
    {
     "name": "stdout",
     "output_type": "stream",
     "text": [
      "\n"
     ]
    }
   ],
   "source": [
    "data = pd.read_csv(LabelPath+'spa_First_2.csv',encoding='Shift_JIS')\n",
    "\n",
    "array = pd.to_datetime( data['#Time'].values )\n",
    "t = np.array([])\n",
    "for i in tqdm_notebook( range( len(array) ) ):\n",
    "    t = np.append(t, array[i].hour*3600*1000+array[i].minute*60*1000+array[i].second*1000+array[i].microsecond*0.001)\n",
    "    \n",
    "data['#Time'] = t.astype(int)"
   ]
  },
  {
   "cell_type": "markdown",
   "metadata": {},
   "source": [
    "ラベルとデータのリンクを行う\n",
    "\n",
    "テストデータとして，Paticipants01のLeftHandのデータにラベルをリンクさせる．\n",
    "\n",
    "まず，ラベルの時間軸をセンサデータの軸にするために，ラベルのi番目とi+1番目のデータの間に２以上の差があるとき限定でパティングを行う．\n",
    "\n",
    "2016-11-16\n",
    "まずは，ラベルデータをセンサデータとリンクするために\n",
    "* 時間軸のステップが1である\n",
    "* 時間軸はiとi+1の差が1以上ある場合はその間を差の-1回だけ間にi番目のラベルを挿入する\n",
    "\n",
    "やっていく処理の流れ\n",
    "* pandasからnumpyに変換する．\n",
    "*  "
   ]
  },
  {
   "cell_type": "code",
   "execution_count": 13,
   "metadata": {
    "collapsed": false,
    "scrolled": true
   },
   "outputs": [],
   "source": [
    "PdArray =data.as_matrix()"
   ]
  },
  {
   "cell_type": "code",
   "execution_count": 14,
   "metadata": {
    "collapsed": false
   },
   "outputs": [
    {
     "name": "stdout",
     "output_type": "stream",
     "text": [
      "[[36295020 u'\\u505c\\u6b62' nan ..., nan nan nan]\n",
      " [36307158 u'\\u306a\\u3057' u'\\u306a\\u3057' ..., u'\\u306a\\u3057'\n",
      "  u'\\u76f4\\u7acb' 0.0]\n",
      " [36309723 u'\\u6301\\u3064' u'\\u6642\\u8a08' ..., u'\\u306a\\u3057'\n",
      "  u'\\u76f4\\u7acb' 101.0]\n",
      " ..., \n",
      " [37217223 u'\\u306a\\u3057' u'\\u306a\\u3057' ..., u'\\u306a\\u3057'\n",
      "  u'\\u76f4\\u7acb' 114.0]\n",
      " [37221638 u'\\u306a\\u3057' u'\\u306a\\u3057' ..., u'\\u306a\\u3057'\n",
      "  u'\\u76f4\\u7acb' 114.0]\n",
      " [37233827 u'\\u306a\\u3057' u'\\u306a\\u3057' ..., u'\\u306a\\u3057'\n",
      "  u'\\u306a\\u3057' 114.0]]\n"
     ]
    }
   ],
   "source": [
    "print PdArray"
   ]
  },
  {
   "cell_type": "code",
   "execution_count": 15,
   "metadata": {
    "collapsed": false
   },
   "outputs": [
    {
     "data": {
      "text/plain": [
       "array([36295020, u'\\u505c\\u6b62', nan, nan, nan, nan, nan, nan, nan, nan], dtype=object)"
      ]
     },
     "execution_count": 15,
     "metadata": {},
     "output_type": "execute_result"
    }
   ],
   "source": [
    "PdArray[0]"
   ]
  },
  {
   "cell_type": "code",
   "execution_count": 16,
   "metadata": {
    "collapsed": false,
    "scrolled": true
   },
   "outputs": [
    {
     "name": "stdout",
     "output_type": "stream",
     "text": [
      "\r"
     ]
    }
   ],
   "source": [
    "Output = np.array(PdArray[0])\n",
    "\n",
    "for i in  tqdm_notebook( range( len(PdArray)-1 ),leave=False ):\n",
    "    Diff = PdArray[i+1][0]-PdArray[i][0]\n",
    "    if Diff > 0:\n",
    "        for l in tqdm_notebook( range(Diff-1),leave=False ):\n",
    "            AddingArray =PdArray[i]\n",
    "            AddingArray[0] = AddingArray[0]+(l+1)\n",
    "            Output = np.vstack( (Output,AddingArray ) )\n",
    "    Output = np.vstack( (Output, PdArray[i+1]) )\n",
    "    time.sleep(0.1)"
   ]
  },
  {
   "cell_type": "code",
   "execution_count": 17,
   "metadata": {
    "collapsed": false
   },
   "outputs": [],
   "source": [
    "np.savez('output',data=Output)"
   ]
  },
  {
   "cell_type": "code",
   "execution_count": 18,
   "metadata": {
    "collapsed": false
   },
   "outputs": [
    {
     "ename": "TypeError",
     "evalue": "Mismatch between array dtype ('object') and format specifier ('%.18e,%.18e,%.18e,%.18e,%.18e,%.18e,%.18e,%.18e,%.18e,%.18e')",
     "output_type": "error",
     "traceback": [
      "\u001b[0;31m---------------------------------------------------------------------------\u001b[0m",
      "\u001b[0;31mTypeError\u001b[0m                                 Traceback (most recent call last)",
      "\u001b[0;32m<ipython-input-18-f80f43748531>\u001b[0m in \u001b[0;36m<module>\u001b[0;34m()\u001b[0m\n\u001b[0;32m----> 1\u001b[0;31m \u001b[0mnp\u001b[0m\u001b[0;34m.\u001b[0m\u001b[0msavetxt\u001b[0m\u001b[0;34m(\u001b[0m\u001b[0;34m\"MakingLabelArray.csv\"\u001b[0m\u001b[0;34m,\u001b[0m \u001b[0mOutput\u001b[0m\u001b[0;34m,\u001b[0m \u001b[0mdelimiter\u001b[0m\u001b[0;34m=\u001b[0m\u001b[0;34m\",\"\u001b[0m\u001b[0;34m)\u001b[0m\u001b[0;34m\u001b[0m\u001b[0m\n\u001b[0m",
      "\u001b[0;32m/home/takeyama/.pyenv/versions/2.7.11/envs/takeyama/lib/python2.7/site-packages/numpy/lib/npyio.pyc\u001b[0m in \u001b[0;36msavetxt\u001b[0;34m(fname, X, fmt, delimiter, newline, header, footer, comments)\u001b[0m\n\u001b[1;32m   1160\u001b[0m                     raise TypeError(\"Mismatch between array dtype ('%s') and \"\n\u001b[1;32m   1161\u001b[0m                                     \u001b[0;34m\"format specifier ('%s')\"\u001b[0m\u001b[0;34m\u001b[0m\u001b[0m\n\u001b[0;32m-> 1162\u001b[0;31m                                     % (str(X.dtype), format))\n\u001b[0m\u001b[1;32m   1163\u001b[0m         \u001b[0;32mif\u001b[0m \u001b[0mlen\u001b[0m\u001b[0;34m(\u001b[0m\u001b[0mfooter\u001b[0m\u001b[0;34m)\u001b[0m \u001b[0;34m>\u001b[0m \u001b[0;36m0\u001b[0m\u001b[0;34m:\u001b[0m\u001b[0;34m\u001b[0m\u001b[0m\n\u001b[1;32m   1164\u001b[0m             \u001b[0mfooter\u001b[0m \u001b[0;34m=\u001b[0m \u001b[0mfooter\u001b[0m\u001b[0;34m.\u001b[0m\u001b[0mreplace\u001b[0m\u001b[0;34m(\u001b[0m\u001b[0;34m'\\n'\u001b[0m\u001b[0;34m,\u001b[0m \u001b[0;34m'\\n'\u001b[0m \u001b[0;34m+\u001b[0m \u001b[0mcomments\u001b[0m\u001b[0;34m)\u001b[0m\u001b[0;34m\u001b[0m\u001b[0m\n",
      "\u001b[0;31mTypeError\u001b[0m: Mismatch between array dtype ('object') and format specifier ('%.18e,%.18e,%.18e,%.18e,%.18e,%.18e,%.18e,%.18e,%.18e,%.18e')"
     ]
    }
   ],
   "source": [
    "np.savetxt(\"MakingLabelArray.csv\", Output, delimiter=\",\")"
   ]
  },
  {
   "cell_type": "code",
   "execution_count": null,
   "metadata": {
    "collapsed": true
   },
   "outputs": [],
   "source": []
  },
  {
   "cell_type": "code",
   "execution_count": null,
   "metadata": {
    "collapsed": true
   },
   "outputs": [],
   "source": []
  },
  {
   "cell_type": "code",
   "execution_count": null,
   "metadata": {
    "collapsed": true
   },
   "outputs": [],
   "source": []
  },
  {
   "cell_type": "code",
   "execution_count": null,
   "metadata": {
    "collapsed": true
   },
   "outputs": [],
   "source": []
  },
  {
   "cell_type": "code",
   "execution_count": null,
   "metadata": {
    "collapsed": false
   },
   "outputs": [],
   "source": [
    "def TrimLabel(PandasObject):\n",
    "    TimeArray = PandasObject['#Time']\n",
    "    TrimArray = np.array([])\n",
    "    TrimArray = np.append(TrimArray,PandasObject.ix[0:])\n",
    "\n",
    "    for i in range( len(TimeArray)-1):\n",
    "        Diff = TimeArray[i+1]-TimeArray[i]\n",
    "        if Diff >1:\n",
    "            for l in range(Diff-1):\n",
    "                TrimArray = np.append(TrimArray,PandasObject[i:i+1])\n",
    "            TrimArray = np.append(TrimArray,TimeArray[i+1:i+2])\n",
    "    return TrimArray"
   ]
  },
  {
   "cell_type": "code",
   "execution_count": null,
   "metadata": {
    "collapsed": false
   },
   "outputs": [],
   "source": [
    "Output=Output.T"
   ]
  },
  {
   "cell_type": "code",
   "execution_count": null,
   "metadata": {
    "collapsed": false
   },
   "outputs": [],
   "source": [
    "Output.astype(np.int16)"
   ]
  },
  {
   "cell_type": "code",
   "execution_count": null,
   "metadata": {
    "collapsed": false
   },
   "outputs": [],
   "source": [
    "index = np.where(Output[0] == 36290413)"
   ]
  },
  {
   "cell_type": "code",
   "execution_count": null,
   "metadata": {
    "collapsed": false
   },
   "outputs": [],
   "source": [
    "index"
   ]
  },
  {
   "cell_type": "code",
   "execution_count": null,
   "metadata": {
    "collapsed": true
   },
   "outputs": [],
   "source": []
  }
 ],
 "metadata": {
  "kernelspec": {
   "display_name": "Python 2",
   "language": "python",
   "name": "python2"
  },
  "language_info": {
   "codemirror_mode": {
    "name": "ipython",
    "version": 2
   },
   "file_extension": ".py",
   "mimetype": "text/x-python",
   "name": "python",
   "nbconvert_exporter": "python",
   "pygments_lexer": "ipython2",
   "version": "2.7.11"
  },
  "widgets": {
   "state": {
    "00eb991fd1424449aa3ffddd18927e6f": {
     "views": [
      {
       "cell_index": 22
      }
     ]
    },
    "017f35d503614e4988057b201cc1fa81": {
     "views": [
      {
       "cell_index": 22
      }
     ]
    },
    "023146daa24e4e14b65016ddb6ac03cb": {
     "views": [
      {
       "cell_index": 22
      }
     ]
    },
    "0267f9d6aafa443b882221d18f439431": {
     "views": [
      {
       "cell_index": 22
      }
     ]
    },
    "0339842e5a6e4e39b28889ae148194aa": {
     "views": [
      {
       "cell_index": 22
      }
     ]
    },
    "07779f3f945a4d7496a4bf0900838ead": {
     "views": [
      {
       "cell_index": 22
      }
     ]
    },
    "0af6899b83fb402fafdf6f730e341bb9": {
     "views": [
      {
       "cell_index": 22
      }
     ]
    },
    "0bef6dd7c72b44e8b0012caef426fe11": {
     "views": [
      {
       "cell_index": 22
      }
     ]
    },
    "0d222f29318d476388af2875a50da51e": {
     "views": [
      {
       "cell_index": 22
      }
     ]
    },
    "0d39d4ae145d4616b4b10cc545ba5b80": {
     "views": [
      {
       "cell_index": 22
      }
     ]
    },
    "0e0487894388458b94bfe672be891e0f": {
     "views": [
      {
       "cell_index": 22
      }
     ]
    },
    "0e0d5d60c43247d4920f962b74a3d828": {
     "views": [
      {
       "cell_index": 22
      }
     ]
    },
    "0e3f8c16d3c74b96909cc97abe19e3f5": {
     "views": [
      {
       "cell_index": 22
      }
     ]
    },
    "0f798a1d699d4d8aab8f3646401f6956": {
     "views": [
      {
       "cell_index": 22
      }
     ]
    },
    "11a79c448614442db573d5cf75ee281e": {
     "views": [
      {
       "cell_index": 22
      }
     ]
    },
    "11e69e0e95c94fc6a6e7f5d8751fe15c": {
     "views": [
      {
       "cell_index": 22
      }
     ]
    },
    "133039a85bb84066b84bc2d61934eb96": {
     "views": [
      {
       "cell_index": 22
      }
     ]
    },
    "14b55c9234d54dc4b14f80e78d31e2ee": {
     "views": [
      {
       "cell_index": 22
      }
     ]
    },
    "166a36371de645b086502f8b1e1acf0d": {
     "views": [
      {
       "cell_index": 22
      }
     ]
    },
    "16a8a11061d145fb896a74ebfd0e08ad": {
     "views": [
      {
       "cell_index": 22
      }
     ]
    },
    "16cbd8b1aa5d4809ac4abebb7781df23": {
     "views": [
      {
       "cell_index": 22
      }
     ]
    },
    "195ccf6cd3c44a999cdb7f64ec8d43ba": {
     "views": [
      {
       "cell_index": 22
      }
     ]
    },
    "1b136aec6b6244228118673ce02c31d5": {
     "views": [
      {
       "cell_index": 22
      }
     ]
    },
    "1d37b56b4cc343749d5215218a2918a0": {
     "views": [
      {
       "cell_index": 22
      }
     ]
    },
    "1e9d3735dc354b03be05e87d80ef7728": {
     "views": [
      {
       "cell_index": 22
      }
     ]
    },
    "1ea6d4e2342c475688d61e1549f7ef66": {
     "views": [
      {
       "cell_index": 22
      }
     ]
    },
    "1ed25f0b23d74126b817c2a2deecf188": {
     "views": [
      {
       "cell_index": 22
      }
     ]
    },
    "1f03d9b2224746dc831b8cec83b92fc0": {
     "views": [
      {
       "cell_index": 22
      }
     ]
    },
    "254116f07a5d48b7b9ee3bc302e56371": {
     "views": [
      {
       "cell_index": 22
      }
     ]
    },
    "25798f3f33b64a0a88d1b793a0ce873a": {
     "views": [
      {
       "cell_index": 22
      }
     ]
    },
    "261554bbadaa48db826a19a57db5d869": {
     "views": [
      {
       "cell_index": 22
      }
     ]
    },
    "270dc78621b54bc29368e33e997c4cf2": {
     "views": [
      {
       "cell_index": 22
      }
     ]
    },
    "29711f52985f494bb4130c82f4d2208b": {
     "views": [
      {
       "cell_index": 22
      }
     ]
    },
    "2a8e3b49312b46ba9c7b33da16f9ae22": {
     "views": [
      {
       "cell_index": 22
      }
     ]
    },
    "2da10909250a4a7183af9ca0f044a2e4": {
     "views": [
      {
       "cell_index": 22
      }
     ]
    },
    "31cac9195a9840d7b2414fa8a07a5df3": {
     "views": [
      {
       "cell_index": 22
      }
     ]
    },
    "3372644d6dae4fa394ebf09941f74f4e": {
     "views": [
      {
       "cell_index": 22
      }
     ]
    },
    "33d6eed637b74c7c9957b3208d3694ac": {
     "views": [
      {
       "cell_index": 22
      }
     ]
    },
    "34d0b583d2774b098ed3f1b9f9fac284": {
     "views": [
      {
       "cell_index": 22
      }
     ]
    },
    "3662da8262b140f49952908c14af4f43": {
     "views": [
      {
       "cell_index": 22
      }
     ]
    },
    "38a94139d7294b71b99d7f8e87356630": {
     "views": [
      {
       "cell_index": 22
      }
     ]
    },
    "38b9d837659a454b9c4c7233cf146c72": {
     "views": [
      {
       "cell_index": 22
      }
     ]
    },
    "3a0745e6db7a4f129dc2c4fdb5e5ee08": {
     "views": [
      {
       "cell_index": 22
      }
     ]
    },
    "3ab6b4173a6c4d2cbcc49d3a27368f79": {
     "views": [
      {
       "cell_index": 22
      }
     ]
    },
    "3b2d11462b30470bb3b83c6d7c2929f5": {
     "views": [
      {
       "cell_index": 22
      }
     ]
    },
    "3d0bb468d4b644ac89bf05dc09a0a0a5": {
     "views": [
      {
       "cell_index": 22
      }
     ]
    },
    "3dc081a575194911a8a866fef11759db": {
     "views": [
      {
       "cell_index": 22
      }
     ]
    },
    "3f037ddceed04c9d9a263b94112e0757": {
     "views": [
      {
       "cell_index": 22
      }
     ]
    },
    "4014f2decb574355909f69f450195030": {
     "views": [
      {
       "cell_index": 22
      }
     ]
    },
    "40d842e893844c6c9de86a991efb4b47": {
     "views": [
      {
       "cell_index": 22
      }
     ]
    },
    "41e281a7bca04f68b1aeaef339642590": {
     "views": [
      {
       "cell_index": 22
      }
     ]
    },
    "45db86624cfe4af4ab8dbfe41890b03c": {
     "views": [
      {
       "cell_index": 22
      }
     ]
    },
    "46a348cfe605472b8be3c87f551fdab8": {
     "views": [
      {
       "cell_index": 22
      }
     ]
    },
    "4815431d5e124bebbc77bc3f280cfc43": {
     "views": [
      {
       "cell_index": 22
      }
     ]
    },
    "492bfa80ebf241b1ae90c23974a06b3c": {
     "views": [
      {
       "cell_index": 22
      }
     ]
    },
    "4955b1674ad348e4ac878cdbf3fa5cb9": {
     "views": [
      {
       "cell_index": 22
      }
     ]
    },
    "4a3027ba6c50445b8123bccaef2b2bee": {
     "views": [
      {
       "cell_index": 22
      }
     ]
    },
    "4b4657103a244302a509da25cb2afcba": {
     "views": [
      {
       "cell_index": 22
      }
     ]
    },
    "4fdce9ea36f24747ace12cbaed2fa013": {
     "views": [
      {
       "cell_index": 22
      }
     ]
    },
    "50646b0c91844094b9d5338e4321e953": {
     "views": [
      {
       "cell_index": 22
      }
     ]
    },
    "52bb606a22ec4243968e1a4017b5d3d8": {
     "views": [
      {
       "cell_index": 22
      }
     ]
    },
    "53dca43582fa460fab2ba8ea1f528c87": {
     "views": [
      {
       "cell_index": 22
      }
     ]
    },
    "5553180d2dd044aaa509ccfbe7863ca4": {
     "views": [
      {
       "cell_index": 22
      }
     ]
    },
    "56190a2c56d34433bc6d1f55bc7f10ee": {
     "views": [
      {
       "cell_index": 22
      }
     ]
    },
    "571f02f267fa49e987150ef8a657261b": {
     "views": [
      {
       "cell_index": 22
      }
     ]
    },
    "5721284b1ebf492e9a23c098a9e8d71b": {
     "views": [
      {
       "cell_index": 22
      }
     ]
    },
    "5735bd85449440119d265f5332255ab5": {
     "views": [
      {
       "cell_index": 22
      }
     ]
    },
    "586193a9a6034d738de7594085eab1af": {
     "views": [
      {
       "cell_index": 22
      }
     ]
    },
    "5872c73b8a8f430ca6dc7c93595d838d": {
     "views": [
      {
       "cell_index": 22
      }
     ]
    },
    "5beb326002ea409db54e6f18ea62ff29": {
     "views": [
      {
       "cell_index": 22
      }
     ]
    },
    "5cf1aebe92c5440dab1a99c91baf7796": {
     "views": [
      {
       "cell_index": 22
      }
     ]
    },
    "5e0be0c665554d9d9894fe75b5c9eccb": {
     "views": [
      {
       "cell_index": 22
      }
     ]
    },
    "6171943030fb4737afeff50c589a0f25": {
     "views": [
      {
       "cell_index": 22
      }
     ]
    },
    "61d3800f84cd4781b5669a6e5bd185d1": {
     "views": [
      {
       "cell_index": 22
      }
     ]
    },
    "65dc94262a634a4484fee24e94489b49": {
     "views": [
      {
       "cell_index": 22
      }
     ]
    },
    "65f6e74bb9944581b04a78ef99d83bd0": {
     "views": [
      {
       "cell_index": 22
      }
     ]
    },
    "665bbdb0563e4ae2b930e868a11b409c": {
     "views": [
      {
       "cell_index": 22
      }
     ]
    },
    "666fdeb1db8d4cecaba29d9838a79f9f": {
     "views": [
      {
       "cell_index": 22
      }
     ]
    },
    "66fa99e6d9944c149b4ff61f53476d43": {
     "views": [
      {
       "cell_index": 22
      }
     ]
    },
    "6a678190974f49928c650b568535e06c": {
     "views": [
      {
       "cell_index": 22
      }
     ]
    },
    "6b9229528135473c806af95c15debfc3": {
     "views": [
      {
       "cell_index": 22
      }
     ]
    },
    "6c100e893d4c43e99a19225904fae70e": {
     "views": [
      {
       "cell_index": 22
      }
     ]
    },
    "6da366057a5d45658497c4835b51590d": {
     "views": [
      {
       "cell_index": 22
      }
     ]
    },
    "6e23a191ff0f485eafa608205697de48": {
     "views": [
      {
       "cell_index": 22
      }
     ]
    },
    "6e50e65ae2744ec1aa56a85dadd0aa9b": {
     "views": [
      {
       "cell_index": 22
      }
     ]
    },
    "6eece8069d25426d9dbe13069e1f0258": {
     "views": [
      {
       "cell_index": 22
      }
     ]
    },
    "6f540364abf6444db610647b2682232e": {
     "views": [
      {
       "cell_index": 22
      }
     ]
    },
    "70305b6396504ed4a756809c47321bac": {
     "views": [
      {
       "cell_index": 22
      }
     ]
    },
    "717f2219a9134c15a474732feeddd077": {
     "views": [
      {
       "cell_index": 22
      }
     ]
    },
    "71bf9054e24a4440b5e14caa75c1e6bf": {
     "views": [
      {
       "cell_index": 22
      }
     ]
    },
    "724355b2ea154063b1987f91a185e3b7": {
     "views": [
      {
       "cell_index": 22
      }
     ]
    },
    "73999198b99c4b999daf869d49925037": {
     "views": [
      {
       "cell_index": 22
      }
     ]
    },
    "75d85d2ea6154054b49f3893b8a253e7": {
     "views": [
      {
       "cell_index": 22
      }
     ]
    },
    "7c237ee722444c7f8781538fdd3f9421": {
     "views": [
      {
       "cell_index": 22
      }
     ]
    },
    "7f6604a056e041b0bfb8002b39ed0b63": {
     "views": [
      {
       "cell_index": 22
      }
     ]
    },
    "81a0b5028b2942ed84c861b7cdbf090c": {
     "views": [
      {
       "cell_index": 22
      }
     ]
    },
    "84de8a82153c4340853b2bdd884c5327": {
     "views": [
      {
       "cell_index": 22
      }
     ]
    },
    "8583db351d284da9abdc872eb1d7135f": {
     "views": [
      {
       "cell_index": 22
      }
     ]
    },
    "85b77c1c3a184e3f9fc183c3c511b612": {
     "views": [
      {
       "cell_index": 22
      }
     ]
    },
    "88279a4a06ed477c8abb72c41e10e485": {
     "views": [
      {
       "cell_index": 22
      }
     ]
    },
    "89c0a719665b4aceb8450da9304fc0aa": {
     "views": [
      {
       "cell_index": 22
      }
     ]
    },
    "89f80358eb63483585a7db359c861fd5": {
     "views": [
      {
       "cell_index": 22
      }
     ]
    },
    "8a2c9b9d58c24d549e453e0dcb5660d6": {
     "views": [
      {
       "cell_index": 22
      }
     ]
    },
    "8b6ebf7c3ae2454b978c3132f3f43def": {
     "views": [
      {
       "cell_index": 22
      }
     ]
    },
    "8c17898dcef241458840ecd2b465ebbf": {
     "views": [
      {
       "cell_index": 22
      }
     ]
    },
    "8c494c87b6cf45c99dc9db727a1a8699": {
     "views": [
      {
       "cell_index": 22
      }
     ]
    },
    "8c4a13bfa938435f8fa9b39c640d72c3": {
     "views": [
      {
       "cell_index": 22
      }
     ]
    },
    "8fabf672d4a14f88a8df804fddf69ca0": {
     "views": [
      {
       "cell_index": 22
      }
     ]
    },
    "91e2e15a65134120b09e20d1ad45299e": {
     "views": [
      {
       "cell_index": 22
      }
     ]
    },
    "938fe23e92ec483c8829050aa3ec99df": {
     "views": [
      {
       "cell_index": 22
      }
     ]
    },
    "93dba6d4f02f49f9ac14951770a4cd66": {
     "views": [
      {
       "cell_index": 22
      }
     ]
    },
    "943acc43057c4bc080e80069a424c86a": {
     "views": [
      {
       "cell_index": 22
      }
     ]
    },
    "95dde9e912c14c47a737ad9dede890eb": {
     "views": [
      {
       "cell_index": 22
      }
     ]
    },
    "9960a67c65b1426d97436567c88fa3cd": {
     "views": [
      {
       "cell_index": 22
      }
     ]
    },
    "9c7d1010668e4e9ca6ce1108c0fb0051": {
     "views": [
      {
       "cell_index": 22
      }
     ]
    },
    "9cbded1caa784da28fd42eed76a21866": {
     "views": [
      {
       "cell_index": 22
      }
     ]
    },
    "9eedfdf3dfa845d7b617b9eac3068959": {
     "views": [
      {
       "cell_index": 22
      }
     ]
    },
    "9f81eeb71528442588e5f35a4d9f796a": {
     "views": [
      {
       "cell_index": 22
      }
     ]
    },
    "9fb993f98c924c05ba5a0274cbf8621f": {
     "views": [
      {
       "cell_index": 22
      }
     ]
    },
    "a17ec3be7a13433882c8a8daa2a9ab7c": {
     "views": [
      {
       "cell_index": 22
      }
     ]
    },
    "a2729b2258ec4b2e8ce0368c5e1fbca0": {
     "views": [
      {
       "cell_index": 22
      }
     ]
    },
    "a336109889c8448c929c8dfd17585163": {
     "views": [
      {
       "cell_index": 22
      }
     ]
    },
    "a48c2fa007a84f92a8ba3b8b07437453": {
     "views": [
      {
       "cell_index": 22
      }
     ]
    },
    "a5c07c9068154f7e824e87ed1c300a06": {
     "views": [
      {
       "cell_index": 22
      }
     ]
    },
    "a82f02a87366414f82ecdbdf05aae1e8": {
     "views": [
      {
       "cell_index": 22
      }
     ]
    },
    "a95089a0e3c14f5d8db1c405e8962efd": {
     "views": [
      {
       "cell_index": 22
      }
     ]
    },
    "a9c05d3c3fb6408da4c19ccafe366873": {
     "views": [
      {
       "cell_index": 22
      }
     ]
    },
    "aa84b488a8164d3d98efd488fd420d57": {
     "views": [
      {
       "cell_index": 22
      }
     ]
    },
    "aba7940c061f46ee8b5dbcf47d24f0a6": {
     "views": [
      {
       "cell_index": 22
      }
     ]
    },
    "ad393caf2aeb4b57ab7fcef6a5fd52b8": {
     "views": [
      {
       "cell_index": 22
      }
     ]
    },
    "adb73409edd246b79151e267492a88be": {
     "views": [
      {
       "cell_index": 22
      }
     ]
    },
    "b078e96caabf45cba383ce737212df99": {
     "views": [
      {
       "cell_index": 22
      }
     ]
    },
    "b0aa8900e21448dca927f2c26ad9aa52": {
     "views": [
      {
       "cell_index": 22
      }
     ]
    },
    "b360f2d2ae0d409683095266f01159c2": {
     "views": [
      {
       "cell_index": 22
      }
     ]
    },
    "b60098ea26944540af997f579549ea7e": {
     "views": [
      {
       "cell_index": 22
      }
     ]
    },
    "b7d98b0474f74d21afebf141abe578f9": {
     "views": [
      {
       "cell_index": 22
      }
     ]
    },
    "b8e83bc6f042431790a029e0a72b4c75": {
     "views": [
      {
       "cell_index": 22
      }
     ]
    },
    "b9ea8a684d1045dc87cc676fc88a03e2": {
     "views": [
      {
       "cell_index": 22
      }
     ]
    },
    "b9ee0f743cbe4c5283195e49677a810a": {
     "views": [
      {
       "cell_index": 22
      }
     ]
    },
    "ba4565bb89ce4ad58015e80809f8a2e1": {
     "views": [
      {
       "cell_index": 17
      }
     ]
    },
    "bada2be3b22b43e1b2ae66254fdf25fc": {
     "views": [
      {
       "cell_index": 22
      }
     ]
    },
    "bb09abd79c6f46bc95fb1c13d807c61b": {
     "views": [
      {
       "cell_index": 22
      }
     ]
    },
    "bcf1bb1cff004f6391abc9d70830c3e9": {
     "views": [
      {
       "cell_index": 22
      }
     ]
    },
    "c104722eb3a248d886ab2fd3642b33ee": {
     "views": [
      {
       "cell_index": 22
      }
     ]
    },
    "c1bc6b3bec2443cb8a8cf62f4e7e97c4": {
     "views": [
      {
       "cell_index": 22
      }
     ]
    },
    "c237197e3712400d9d512758e9091eae": {
     "views": [
      {
       "cell_index": 22
      }
     ]
    },
    "c36354f76a404c75b6fd9589205e1fa3": {
     "views": [
      {
       "cell_index": 22
      }
     ]
    },
    "c38ab984578544219317343e8d548651": {
     "views": [
      {
       "cell_index": 22
      }
     ]
    },
    "c4113e156e604334ad6aae528ad54254": {
     "views": [
      {
       "cell_index": 22
      }
     ]
    },
    "c6cf30bf862142e5a66f752f200b678f": {
     "views": [
      {
       "cell_index": 22
      }
     ]
    },
    "c6ffab4565424186a0320a9185280363": {
     "views": [
      {
       "cell_index": 22
      }
     ]
    },
    "cb5e4e44b80742f3a6e766095c7c076d": {
     "views": [
      {
       "cell_index": 22
      }
     ]
    },
    "cbd36bb3d30b49ddb8ec605bd671ae24": {
     "views": [
      {
       "cell_index": 22
      }
     ]
    },
    "ce226ad5544e4f6cab0bd8d40c04dc58": {
     "views": [
      {
       "cell_index": 22
      }
     ]
    },
    "ce30b051b5c2491db9c3c9cac4075b6b": {
     "views": [
      {
       "cell_index": 22
      }
     ]
    },
    "ced6859dacef42c0972c7bddc5f74417": {
     "views": [
      {
       "cell_index": 22
      }
     ]
    },
    "cf43444d38c24c0f8891653f16cba39e": {
     "views": [
      {
       "cell_index": 22
      }
     ]
    },
    "cf6d78b864c34e00b1c07afcb4fd22b8": {
     "views": [
      {
       "cell_index": 22
      }
     ]
    },
    "cfecd90006444692a0314d2709962d39": {
     "views": [
      {
       "cell_index": 22
      }
     ]
    },
    "d212474b62fe41fda30e44cf3d2f1adc": {
     "views": [
      {
       "cell_index": 22
      }
     ]
    },
    "d21f64ffc1824ba98f95286c2ae907d3": {
     "views": [
      {
       "cell_index": 22
      }
     ]
    },
    "d3e9f8ffba2d49a8951580af13eb0cc5": {
     "views": [
      {
       "cell_index": 22
      }
     ]
    },
    "d558c79924164c8ea00f34a1ea52bd9b": {
     "views": [
      {
       "cell_index": 22
      }
     ]
    },
    "d5e8830fff6043ca8210e6fd53830940": {
     "views": [
      {
       "cell_index": 22
      }
     ]
    },
    "d69a18e710dd487abd6c068a9abcaa76": {
     "views": [
      {
       "cell_index": 22
      }
     ]
    },
    "d8216891bc0146439cf823389e837fff": {
     "views": [
      {
       "cell_index": 22
      }
     ]
    },
    "dfb9c7fd470844e1a57ab670ecfcedcc": {
     "views": [
      {
       "cell_index": 22
      }
     ]
    },
    "dfcbbc7f57e541a2a60286dea8d59aae": {
     "views": [
      {
       "cell_index": 22
      }
     ]
    },
    "e0b6230fe6db4359a012ae1ce0c0c2ad": {
     "views": [
      {
       "cell_index": 22
      }
     ]
    },
    "e277c9cf348142029d1f5710c6662b2a": {
     "views": [
      {
       "cell_index": 22
      }
     ]
    },
    "e3112e731792436c8f833c97e84b38a5": {
     "views": [
      {
       "cell_index": 22
      }
     ]
    },
    "e3537e2ce42f42f6b6af00c80359ade9": {
     "views": [
      {
       "cell_index": 22
      }
     ]
    },
    "e49e5b44e2f045c2bb0ca5b033d7a7f4": {
     "views": [
      {
       "cell_index": 22
      }
     ]
    },
    "e57d21516f50467c925477b5b3f0814a": {
     "views": [
      {
       "cell_index": 22
      }
     ]
    },
    "e66cf107c1c24bafa55ddd278debc648": {
     "views": [
      {
       "cell_index": 22
      }
     ]
    },
    "e6aebfb3847d49d388fe582f7ab7f7f1": {
     "views": [
      {
       "cell_index": 22
      }
     ]
    },
    "e7057830c2e84543b4d672e8a456ea89": {
     "views": [
      {
       "cell_index": 22
      }
     ]
    },
    "e972fe1c79db4777aa9bea522e76a562": {
     "views": [
      {
       "cell_index": 22
      }
     ]
    },
    "eb0fae2d2ad04d3fb820711963dae118": {
     "views": [
      {
       "cell_index": 22
      }
     ]
    },
    "ebd5ea18ae5348fab0a49ad34174f08c": {
     "views": [
      {
       "cell_index": 22
      }
     ]
    },
    "ec04cfe626cf41c6b5e50da688509432": {
     "views": [
      {
       "cell_index": 22
      }
     ]
    },
    "edbb3ef21aa14a73b18b791196a4dff0": {
     "views": [
      {
       "cell_index": 22
      }
     ]
    },
    "edbd2423fd1243c6b84c0be8604c7bd5": {
     "views": [
      {
       "cell_index": 22
      }
     ]
    },
    "ee44d508312e40409a44d959e24fc4f4": {
     "views": [
      {
       "cell_index": 22
      }
     ]
    },
    "efe9e9ada1764e559d25c4a8f02dee64": {
     "views": [
      {
       "cell_index": 22
      }
     ]
    },
    "f09fb6e227aa4db69d66025522c50eee": {
     "views": [
      {
       "cell_index": 22
      }
     ]
    },
    "f15837664a4e43d5b63d44ead72bc183": {
     "views": [
      {
       "cell_index": 22
      }
     ]
    },
    "f1d095388a5c4a13bb2519f62cd0c417": {
     "views": [
      {
       "cell_index": 22
      }
     ]
    },
    "f37cd3b57cf4458e8efb5cfa0f638b56": {
     "views": [
      {
       "cell_index": 22
      }
     ]
    },
    "f471887ff59f45639398266e8943c961": {
     "views": [
      {
       "cell_index": 22
      }
     ]
    },
    "f5f78935b8284b0f8748def08a42df56": {
     "views": [
      {
       "cell_index": 22
      }
     ]
    },
    "f711c4978df24cb7a0bc80b7056ab941": {
     "views": [
      {
       "cell_index": 22
      }
     ]
    },
    "f75bd8536cd644c3b3f9952cbfeb4674": {
     "views": [
      {
       "cell_index": 22
      }
     ]
    },
    "f75f47020f7f4aa8991c9e85022cf6e7": {
     "views": [
      {
       "cell_index": 22
      }
     ]
    },
    "f7a45a2075f645bbb2cc2f62e5b70147": {
     "views": [
      {
       "cell_index": 22
      }
     ]
    },
    "f97ad0745cf84dcd96a8af567376b42c": {
     "views": [
      {
       "cell_index": 22
      }
     ]
    },
    "f9a0008e333a42a5a092cc5cfe6a7541": {
     "views": [
      {
       "cell_index": 22
      }
     ]
    },
    "f9d0f952a067457d8d3f7a948d820beb": {
     "views": [
      {
       "cell_index": 22
      }
     ]
    },
    "fa227e06e4b142f8804dc275e57f0bda": {
     "views": [
      {
       "cell_index": 22
      }
     ]
    },
    "fc0836b2907c4b63aa1fad6429d157db": {
     "views": [
      {
       "cell_index": 22
      }
     ]
    },
    "fe928e640e5e4544abd55ef20f89223e": {
     "views": [
      {
       "cell_index": 22
      }
     ]
    },
    "ff0ad186ab0844ab94334af87a698c9a": {
     "views": [
      {
       "cell_index": 22
      }
     ]
    },
    "ff9124bf9a0a46e7982303aa11586346": {
     "views": [
      {
       "cell_index": 22
      }
     ]
    }
   },
   "version": "1.2.0"
  }
 },
 "nbformat": 4,
 "nbformat_minor": 0
}
