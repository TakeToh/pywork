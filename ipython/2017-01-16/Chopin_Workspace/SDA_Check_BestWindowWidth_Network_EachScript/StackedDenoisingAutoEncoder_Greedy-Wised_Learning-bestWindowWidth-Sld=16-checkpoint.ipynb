{
 "cells": [
  {
   "cell_type": "code",
   "execution_count": 1,
   "metadata": {
    "collapsed": true
   },
   "outputs": [],
   "source": [
    "import numpy as np\n",
    "import datetime\n",
    "import os\n",
    "import copy\n",
    "# Generate WindowFrame Function\n",
    "from mymodule import window\n",
    "import joblib\n",
    "import pandas as pd\n",
    "\n",
    "from tqdm import tqdm,tqdm_notebook\n",
    "\n",
    "# Parametor about Sensor\n",
    "SensorNum=1 # Sensor number\n",
    "#SensorAxis='AccX' # Axis\n",
    "\n",
    "# Define Data Name\n",
    "DATE= str( datetime.date.today() )+'/'\n",
    "\n",
    "# Parametor about \" Data Path\"\n",
    "StorePath = \"/media/takeyama/HD-PNFU3/02_ActivityResearch/\"\n",
    "\n",
    "ParticipantsNum=\"Participants07/\"\n",
    "Version = \"01_First/\"\n",
    "Time = \"01_First/\"\n",
    "CommonName = 'Participants07-First-01'\n",
    "LabelName = CommonName+'.csv'\n",
    "\n",
    "TITLE = ParticipantsNum+Version\n",
    "\n",
    "DataPath = StorePath+ParticipantsNum+Version+\"RawData/\"+Time\n",
    "\n",
    "if not os.path.exists(StorePath+TITLE+'LabelData/'+Time): \n",
    "    os.makedirs(StorePath+TITLE+'LabelData/'+Time)\n",
    "LabelDataPath=StorePath+TITLE+'LabelData/'+Time\n",
    "\n",
    "if not os.path.exists(StorePath+TITLE+'dictionary/'+Time): \n",
    "    os.makedirs(StorePath+TITLE+'dictionary/'+Time)\n",
    "DictionaryDataPath=StorePath+TITLE+'dictionary/'+Time\n",
    "\n",
    "if not os.path.exists(StorePath+TITLE+'feature/'+Time): \n",
    "    os.makedirs(StorePath+TITLE+'feature/'+Time)\n",
    "FeaturePath=StorePath+TITLE+'feature/'+Time\n",
    "\n",
    "if not os.path.exists(StorePath+TITLE+'window/'+Time): \n",
    "    os.makedirs(StorePath+TITLE+'window/'+Time)\n",
    "WindowDataPath=StorePath+TITLE+'window/'+Time\n",
    "\n",
    "if not os.path.exists(StorePath+TITLE+DATE+'studyOutput/'+Time): \n",
    "    os.makedirs(StorePath+TITLE+DATE+'studyOutput/'+Time)\n",
    "StudyOutputPath=StorePath+TITLE+DATE+'studyOutput/'+Time\n",
    "\n",
    "if not os.path.exists(StorePath+TITLE+DATE+'parametor/'+Time): \n",
    "    os.makedirs(StorePath+TITLE+DATE+'parametor/'+Time)\n",
    "ParametorPath=StorePath+TITLE+DATE+'parametor/'+Time\n",
    "\n",
    "if not os.path.exists(StorePath+TITLE+DATE+'result/'+Time): \n",
    "    os.makedirs(StorePath+TITLE+DATE+'result/'+Time)\n",
    "ResultPath=StorePath+TITLE+DATE+'result/'+Time\n",
    "\n",
    "if not os.path.exists(StorePath+TITLE+DATE+'graph/'+Time): \n",
    "    os.makedirs(StorePath+TITLE+DATE+'graph/'+Time)\n",
    "GraphPath=StorePath+TITLE+DATE+'graph/'+Time\n",
    "\n",
    "if not os.path.exists(StorePath+TITLE+DATE+'anime/'+Time): \n",
    "    os.makedirs(StorePath+TITLE+DATE+'anime/'+Time)\n",
    "AnimationPath=StorePath+TITLE+DATE+'anime/'+Time"
   ]
  },
  {
   "cell_type": "code",
   "execution_count": null,
   "metadata": {
    "collapsed": false
   },
   "outputs": [],
   "source": [
    "# FFT library\n",
    "from scipy import fftpack\n",
    "from scipy import signal\n",
    "\n",
    "# Graph Plot\n",
    "import matplotlib.pyplot as plt\n",
    "from matplotlib import gridspec\n",
    "import seaborn as sns\n",
    "\n",
    "# Generate WindowFrame Function\n",
    "from mymodule import window\n",
    "\n",
    "# timer\n",
    "import time\n",
    "\n",
    "# temp file \n",
    "import tempfile\n",
    "\n",
    "# pandas\n",
    "import pandas as pd\n",
    "\n",
    "%matplotlib inline"
   ]
  },
  {
   "cell_type": "code",
   "execution_count": null,
   "metadata": {
    "collapsed": false
   },
   "outputs": [
    {
     "name": "stdout",
     "output_type": "stream",
     "text": [
      "['01_LeftHand.npz', '02_RightHand.npz', '03_LeftLeg.npz', '04_Rightleg.npz', '05_West.npz', '06_Chest.npz', '07_LabelData.npz']\n"
     ]
    }
   ],
   "source": [
    "DictName = os.listdir(DictionaryDataPath)\n",
    "DictName.sort()\n",
    "print DictName\n",
    "Sensor1 = np.load(DictionaryDataPath+DictName[0])['data'][()]\n",
    "Sensor2 = np.load(DictionaryDataPath+DictName[1])['data'][()]\n",
    "Sensor3 = np.load(DictionaryDataPath+DictName[2])['data'][()]\n",
    "Sensor4 = np.load(DictionaryDataPath+DictName[3])['data'][()]\n",
    "Sensor6 = np.load(DictionaryDataPath+DictName[4])['data'][()]\n",
    "Sensor6 = np.load(DictionaryDataPath+DictName[5])['data'][()]\n",
    "Label = np.load(DictionaryDataPath+DictName[6])['data'][()]"
   ]
  },
  {
   "cell_type": "code",
   "execution_count": null,
   "metadata": {
    "collapsed": true
   },
   "outputs": [],
   "source": [
    "def GetWindowFrame(windowName, dataRaw, wWidth, sWidth, PATH):\n",
    "    \"\"\"\n",
    "    data　ウィンドウフレームに変換するデータ\n",
    "    registName　ウィンドウフレームに登録するデータの名前\n",
    "    windowWidth　ウィンドウ幅\n",
    "    slidingWidth　スライド幅\n",
    "    PATH ウィドウフレームを保存するディレクトリ\n",
    "    \n",
    "    \n",
    "    About Function:\n",
    "        与えられたdataからウィンドウ幅windowWidth,スライド幅slidingWidthにしたがって\n",
    "        registNameのウィドウフレームを返す．\n",
    "        また，与えれたPATH内に同様なパラメータ( WindowWidth, slidingWidth)かつ同様な\n",
    "        windowNameのものがある場合，そのデータを返す．\n",
    "        この関数が登録，ウィンドウフレームに変換できるデータは１つとする\n",
    "    \"\"\"\n",
    "    storedName = windowName+'_Win='+str(wWidth).zfill(4)+'_Sld='+str(sWidth).zfill(4)+'.npz'\n",
    "    l = os.listdir(PATH)\n",
    "    \n",
    "    if storedName in l:\n",
    "        print \"this data had finished making\"\n",
    "        return np.load(PATH+storedName)['data'][()]\n",
    "    \n",
    "    w=window()\n",
    "    w.SetData(windowName,dataRaw)    \n",
    "    wind=w.Compile(wWidth,sWidth)\n",
    "    print wind.shape\n",
    "    windoW=wind.reshape((len(wind),np.prod(wind.shape[1:])))\n",
    "    \n",
    "    np.savez(PATH+storedName,data=wind)\n",
    "\n",
    "    return wind"
   ]
  },
  {
   "cell_type": "code",
   "execution_count": null,
   "metadata": {
    "collapsed": false
   },
   "outputs": [],
   "source": [
    "import network"
   ]
  },
  {
   "cell_type": "code",
   "execution_count": null,
   "metadata": {
    "collapsed": true
   },
   "outputs": [],
   "source": [
    "# 試しにセンサー1の加速度XのデータをSAEにかけてみる\n",
    "s = Sensor1\n",
    "saxis = 'AccX'\n",
    "windowNum=256\n",
    "slidingNum=16\n",
    "Nweight = 0.5"
   ]
  },
  {
   "cell_type": "code",
   "execution_count": null,
   "metadata": {
    "collapsed": false
   },
   "outputs": [],
   "source": [
    "FileName = CommonName+'-'+s['Name']+'-'+saxis+\\\n",
    "            '-win='+str(windowNum).zfill(4)+'-sld='+str(slidingNum).zfill(4)+\\\n",
    "            '-NoiseWeight='+str(Nweight*100).zfill(3)      \n",
    "print FileName\n",
    "x_test=GetWindowFrame(FileName,s['AccX'],windowNum,slidingNum,WindowDataPath)\n",
    "x_train = x_test + Nweight*np.random.normal(0,1,x_test.shape)"
   ]
  },
  {
   "cell_type": "code",
   "execution_count": null,
   "metadata": {
    "collapsed": false,
    "scrolled": true
   },
   "outputs": [],
   "source": [
    "SAE=network.StackedAE(x_train,x_test,windowNum*2,windowNum*2,windowNum*2,CommonName)"
   ]
  },
  {
   "cell_type": "code",
   "execution_count": null,
   "metadata": {
    "collapsed": false
   },
   "outputs": [],
   "source": [
    "%matplotlib nbagg\n",
    "import numpy as np\n",
    "import matplotlib\n",
    "import matplotlib.pyplot as plt\n",
    "import matplotlib.animation as animation\n",
    "\n",
    "Writer = animation.writers['ffmpeg']\n",
    "writer = Writer(fps=15, metadata=dict(artist='Me'), bitrate=1800)\n",
    "\n",
    "Output=SAE.predict(x_train)\n",
    "\n",
    "fig = plt.figure(1)\n",
    "ax = fig.add_subplot(111)\n",
    "ax.set_xlabel(\"range\")\n",
    "ax.set_ylim(2.0,-2.0)\n",
    "ax.set_xlim([0,Output.shape[1]])\n",
    "ax.legend()\n",
    "x = range(Output.shape[1])\n",
    "reconst, = ax.plot(x,Output[0,:] ,'r',label='Reconst Data')\n",
    "raw, = ax.plot(x, x_test[0,:],'b',label='No noise Raw Data')\n",
    "Noised, = ax.plot(x, x_train[0,:],':g',label='Noised Raw Data')\n",
    "\n",
    "#フレーム更新\n",
    "def update(i):\n",
    "    reconst.set_ydata(Output[i,:])\n",
    "    raw.set_ydata(x_test[i,:])\n",
    "    Noised.set_ydata(x_train[i,:])\n",
    "    ax.legend()\n",
    "    \n",
    "ani = animation.FuncAnimation(fig, update, 1000, blit=False, interval=100, repeat=False)\n",
    "ani.save(AnimationPath+FileName+'_animation.mp4',writer=writer)\n",
    "\n",
    "plt.show()"
   ]
  },
  {
   "cell_type": "code",
   "execution_count": null,
   "metadata": {
    "collapsed": true
   },
   "outputs": [],
   "source": [
    "%matplotlib nbagg\n",
    "import numpy as np\n",
    "import matplotlib\n",
    "import matplotlib.pyplot as plt\n",
    "import matplotlib.animation as animation"
   ]
  },
  {
   "cell_type": "code",
   "execution_count": null,
   "metadata": {
    "collapsed": false,
    "scrolled": true
   },
   "outputs": [],
   "source": [
    "plt.clf()           # 画面初期化\n",
    "plt.close() # 画面を閉じる\n",
    "\n",
    "# 試しにセンサー1の加速度XのデータをSAEにかけてみる\n",
    "s = Sensor1\n",
    "saxis = 'AccX'\n",
    "windowNum=512\n",
    "slidingNum=16\n",
    "Nweight = 0.5\n",
    "\n",
    "FileName = CommonName+'-'+s['Name']+'-'+saxis+\\\n",
    "            '-win='+str(windowNum).zfill(4)+'-sld='+str(slidingNum).zfill(4)+\\\n",
    "            '-NoiseWeight='+str(Nweight*100).zfill(3)    \n",
    "print FileName\n",
    "x_test=GetWindowFrame(FileName,s['AccX'],windowNum,slidingNum,WindowDataPath)\n",
    "x_train = x_test + Nweight*np.random.normal(0,1,x_test.shape)\n",
    "\n",
    "SAE=network.StackedAE(x_train,x_test,windowNum*2,windowNum*2,windowNum*2,CommonName)\n",
    "\n",
    "Writer = animation.writers['ffmpeg']\n",
    "writer = Writer(fps=15, metadata=dict(artist='Me'), bitrate=1800)\n",
    "\n",
    "Output=SAE.predict(x_train)\n",
    "\n",
    "fig = plt.figure(1)\n",
    "ax = fig.add_subplot(111)\n",
    "ax.set_xlabel(\"range\")\n",
    "ax.set_ylim(2.0,-2.0)\n",
    "ax.set_xlim([0,Output.shape[1]])\n",
    "ax.legend()\n",
    "x = range(Output.shape[1])\n",
    "reconst, = ax.plot(x,Output[0,:] ,'r',label='Reconst Data')\n",
    "raw, = ax.plot(x, x_test[0,:],'b',label='No noise Raw Data')\n",
    "Noised, = ax.plot(x, x_train[0,:],':g',label='Noised Raw Data')\n",
    "\n",
    "#フレーム更新\n",
    "def update(i):\n",
    "    reconst.set_ydata(Output[i,:])\n",
    "    raw.set_ydata(x_test[i,:])\n",
    "    Noised.set_ydata(x_train[i,:])\n",
    "    ax.legend()\n",
    "    \n",
    "ani = animation.FuncAnimation(fig, update, 1000, blit=False, interval=100, repeat=False)\n",
    "ani.save(AnimationPath+FileName+'_animation.mp4',writer=writer)\n",
    "\n",
    "plt.show()"
   ]
  },
  {
   "cell_type": "code",
   "execution_count": null,
   "metadata": {
    "collapsed": false,
    "scrolled": true
   },
   "outputs": [],
   "source": [
    "plt.clf()           # 画面初期化\n",
    "plt.close() # 画面を閉じる\n",
    "# 試しにセンサー1の加速度XのデータをSAEにかけてみる\n",
    "s = Sensor1\n",
    "saxis = 'AccX'\n",
    "windowNum=1024\n",
    "slidingNum=16\n",
    "Nweight = 0.5\n",
    "\n",
    "FileName = CommonName+'-'+s['Name']+'-'+saxis+\\\n",
    "            '-win='+str(windowNum).zfill(4)+'-sld='+str(slidingNum).zfill(4)+\\\n",
    "            '-NoiseWeight='+str(Nweight*100).zfill(3)    \n",
    "x_test=GetWindowFrame(FileName,s['AccX'],windowNum,slidingNum,WindowDataPath)\n",
    "x_train = x_test + Nweight*np.random.normal(0,1,x_test.shape)\n",
    "\n",
    "SAE=network.StackedAE(x_train,x_test,windowNum*2,windowNum*2,windowNum*2,CommonName)\n",
    "\n",
    "Writer = animation.writers['ffmpeg']\n",
    "writer = Writer(fps=15, metadata=dict(artist='Me'), bitrate=1800)\n",
    "\n",
    "Output=SAE.predict(x_train)\n",
    "\n",
    "fig = plt.figure(1)\n",
    "ax = fig.add_subplot(111)\n",
    "ax.set_xlabel(\"range\")\n",
    "ax.set_ylim(2.0,-2.0)\n",
    "ax.set_xlim([0,Output.shape[1]])\n",
    "ax.legend()\n",
    "x = range(Output.shape[1])\n",
    "reconst, = ax.plot(x,Output[0,:] ,'r',label='Reconst Data')\n",
    "raw, = ax.plot(x, x_test[0,:],'b',label='No noise Raw Data')\n",
    "Noised, = ax.plot(x, x_train[0,:],':g',label='Noised Raw Data')\n",
    "\n",
    "#フレーム更新\n",
    "def update(i):\n",
    "    reconst.set_ydata(Output[i,:])\n",
    "    raw.set_ydata(x_test[i,:])\n",
    "    Noised.set_ydata(x_train[i,:])\n",
    "    ax.legend()\n",
    "    \n",
    "ani = animation.FuncAnimation(fig, update, 1000, blit=False, interval=100, repeat=False)\n",
    "ani.save(AnimationPath+FileName+'_animation.mp4',writer=writer)\n",
    "\n",
    "plt.show()\n"
   ]
  },
  {
   "cell_type": "code",
   "execution_count": null,
   "metadata": {
    "collapsed": false
   },
   "outputs": [],
   "source": [
    "plt.clf()           # 画面初期化\n",
    "plt.close() # 画面を閉じる\n",
    "\n",
    "# 試しにセンサー1の加速度XのデータをSAEにかけてみる\n",
    "s = Sensor1\n",
    "saxis = 'AccX'\n",
    "windowNum=2048\n",
    "slidingNum=16\n",
    "Nweight = 0.5\n",
    "\n",
    "FileName = CommonName+'-'+s['Name']+'-'+saxis+\\\n",
    "            '-win='+str(windowNum).zfill(4)+'-sld='+str(slidingNum).zfill(4)+\\\n",
    "            '-NoiseWeight='+str(Nweight*100).zfill(3)     \n",
    "print FileName\n",
    "x_test=GetWindowFrame(FileName,s['AccX'],windowNum,slidingNum,WindowDataPath)\n",
    "x_train = x_test + Nweight*np.random.normal(0,1,x_test.shape)\n",
    "\n",
    "SAE=network.StackedAE(x_train,x_test,windowNum*2,windowNum*2,windowNum*2,CommonName)\n",
    "\n",
    "Writer = animation.writers['ffmpeg']\n",
    "writer = Writer(fps=15, metadata=dict(artist='Me'), bitrate=1800)\n",
    "\n",
    "Output=SAE.predict(x_train)\n",
    "\n",
    "fig = plt.figure(1)\n",
    "ax = fig.add_subplot(111)\n",
    "ax.set_xlabel(\"range\")\n",
    "ax.set_ylim(2.0,-2.0)\n",
    "ax.set_xlim([0,Output.shape[1]])\n",
    "ax.legend()\n",
    "x = range(Output.shape[1])\n",
    "reconst, = ax.plot(x,Output[0,:] ,'r',label='Reconst Data')\n",
    "raw, = ax.plot(x, x_test[0,:],'b',label='No noise Raw Data')\n",
    "Noised, = ax.plot(x, x_train[0,:],':g',label='Noised Raw Data')\n",
    "\n",
    "#フレーム更新\n",
    "def update(i):\n",
    "    reconst.set_ydata(Output[i,:])\n",
    "    raw.set_ydata(x_test[i,:])\n",
    "    Noised.set_ydata(x_train[i,:])\n",
    "    ax.legend()\n",
    "    \n",
    "ani = animation.FuncAnimation(fig, update, 1000, blit=False, interval=100, repeat=False)\n",
    "ani.save(AnimationPath+FileName+'_animation.mp4',writer=writer)\n",
    "\n",
    "#plt.show()"
   ]
  },
  {
   "cell_type": "code",
   "execution_count": null,
   "metadata": {
    "collapsed": false
   },
   "outputs": [],
   "source": [
    "plt.clf()           # 画面初期化\n",
    "plt.close() # 画面を閉じる\n",
    "\n",
    "# 試しにセンサー1の加速度XのデータをSAEにかけてみる\n",
    "s = Sensor1\n",
    "saxis = 'AccX'\n",
    "windowNum=4096\n",
    "slidingNum=16\n",
    "Nweight = 0.5\n",
    "\n",
    "FileName = CommonName+'-'+s['Name']+'-'+saxis+\\\n",
    "            '-win='+str(windowNum).zfill(4)+'-sld='+str(slidingNum).zfill(4)+\\\n",
    "            '-NoiseWeight='+str(Nweight*100).zfill(3)      \n",
    "print FileName\n",
    "x_test=GetWindowFrame(FileName,s['AccX'],windowNum,slidingNum,WindowDataPath)\n",
    "x_train = x_test + Nweight*np.random.normal(0,1,x_test.shape)\n",
    "\n",
    "SAE=network.StackedAE(x_train,x_test,windowNum*2,windowNum*2,windowNum*2,CommonName)\n",
    "\n",
    "Writer = animation.writers['ffmpeg']\n",
    "writer = Writer(fps=15, metadata=dict(artist='Me'), bitrate=1800)\n",
    "\n",
    "Output=SAE.predict(x_train)\n",
    "\n",
    "fig = plt.figure(1)\n",
    "ax = fig.add_subplot(111)\n",
    "ax.set_xlabel(\"range\")\n",
    "ax.set_ylim(2.0,-2.0)\n",
    "ax.set_xlim([0,Output.shape[1]])\n",
    "ax.legend()\n",
    "x = range(Output.shape[1])\n",
    "reconst, = ax.plot(x,Output[0,:] ,'r',label='Reconst Data')\n",
    "raw, = ax.plot(x, x_test[0,:],'b',label='No noise Raw Data')\n",
    "Noised, = ax.plot(x, x_train[0,:],':g',label='Noised Raw Data')\n",
    "\n",
    "#フレーム更新\n",
    "def update(i):\n",
    "    reconst.set_ydata(Output[i,:])\n",
    "    raw.set_ydata(x_test[i,:])\n",
    "    Noised.set_ydata(x_train[i,:])\n",
    "    ax.legend()\n",
    "    \n",
    "ani = animation.FuncAnimation(fig, update, 1000, blit=False, interval=100, repeat=False)\n",
    "ani.save(AnimationPath+FileName+'_animation.mp4',writer=writer)\n",
    "\n",
    "#plt.show()"
   ]
  },
  {
   "cell_type": "code",
   "execution_count": null,
   "metadata": {
    "collapsed": true
   },
   "outputs": [],
   "source": []
  },
  {
   "cell_type": "code",
   "execution_count": null,
   "metadata": {
    "collapsed": true
   },
   "outputs": [],
   "source": []
  }
 ],
 "metadata": {
  "kernelspec": {
   "display_name": "Python 2",
   "language": "python",
   "name": "python2"
  },
  "language_info": {
   "codemirror_mode": {
    "name": "ipython",
    "version": 2
   },
   "file_extension": ".py",
   "mimetype": "text/x-python",
   "name": "python",
   "nbconvert_exporter": "python",
   "pygments_lexer": "ipython2",
   "version": "2.7.11"
  }
 },
 "nbformat": 4,
 "nbformat_minor": 0
}
