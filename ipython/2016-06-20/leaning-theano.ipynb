{
 "cells": [
  {
   "cell_type": "markdown",
   "metadata": {},
   "source": [
    "Theanoを使った計算を試してみる"
   ]
  },
  {
   "cell_type": "code",
   "execution_count": 1,
   "metadata": {
    "collapsed": false
   },
   "outputs": [
    {
     "name": "stdout",
     "output_type": "stream",
     "text": [
      "<class 'theano.tensor.var.TensorVariable'>\n",
      "<class 'theano.tensor.var.TensorVariable'>\n",
      "<class 'theano.compile.function_module.Function'>\n",
      "1.0\n",
      "4.0\n",
      "9.0\n",
      "16.0\n",
      "25.0\n"
     ]
    }
   ],
   "source": [
    "#coding: utf-8\n",
    "import theano\n",
    "import theano.tensor as T\n",
    "\n",
    "# シンボルの生成\n",
    "# xはdoubleのスカラー型\n",
    "x = T.dscalar('x')\n",
    "print type(x)\n",
    "\n",
    "# シンボルを組み立てて数式を定義（これもまたシンボル）\n",
    "y = x ** 2\n",
    "print type(y)\n",
    "\n",
    "# シンボルを使って関数を定義\n",
    "# ここでコンパイルされる\n",
    "f = theano.function(inputs=[x], outputs=y)\n",
    "print type(f)\n",
    "\n",
    "# 関数を使ってxに具体的な値を入れてyを計算\n",
    "print f(1)\n",
    "print f(2)\n",
    "print f(3)\n",
    "print f(4)\n",
    "print f(5)"
   ]
  },
  {
   "cell_type": "code",
   "execution_count": 2,
   "metadata": {
    "collapsed": false
   },
   "outputs": [
    {
     "name": "stdout",
     "output_type": "stream",
     "text": [
      "<class 'theano.tensor.var.TensorVariable'>\n",
      "<class 'theano.tensor.var.TensorVariable'>\n",
      "<class 'theano.compile.function_module.Function'>\n",
      "[ 1.  4.  9.]\n"
     ]
    }
   ],
   "source": [
    "#coding: utf-8\n",
    "import theano\n",
    "import theano.tensor as T\n",
    "\n",
    "# シンボルの生成\n",
    "# xはdoubleのスカラー型\n",
    "x = T.vector('x')\n",
    "print type(x)\n",
    "\n",
    "# シンボルを組み立てて数式を定義（これもまたシンボル）\n",
    "y = x ** 2\n",
    "print type(y)\n",
    "\n",
    "# シンボルを使って関数を定義\n",
    "# ここでコンパイルされる\n",
    "f = theano.function(inputs=[x], outputs=y)\n",
    "print type(f)\n",
    "\n",
    "# 関数を使ってxに具体的な値を入れてyを計算\n",
    "print f([1,2,3])\n"
   ]
  },
  {
   "cell_type": "code",
   "execution_count": 4,
   "metadata": {
    "collapsed": false
   },
   "outputs": [
    {
     "name": "stdout",
     "output_type": "stream",
     "text": [
      "<class 'theano.tensor.var.TensorVariable'>\n",
      "<class 'theano.tensor.var.TensorVariable'>\n",
      "<class 'theano.compile.function_module.Function'>\n",
      "[[   1.    8.   27.]\n",
      " [  64.  125.  216.]]\n"
     ]
    }
   ],
   "source": [
    "#coding: utf-8\n",
    "import theano\n",
    "import theano.tensor as T\n",
    "\n",
    "# シンボルの生成\n",
    "# xはdoubleのスカラー型\n",
    "x = T.dmatrix('x')\n",
    "print type(x)\n",
    "\n",
    "# シンボルを組み立てて数式を定義（これもまたシンボル）\n",
    "y = x ** 3\n",
    "print type(y)\n",
    "\n",
    "# シンボルを使って関数を定義\n",
    "# ここでコンパイルされる\n",
    "f = theano.function(inputs=[x], outputs=y)\n",
    "print type(f)\n",
    "\n",
    "# 関数を使ってxに具体的な値を入れてyを計算\n",
    "print f([[1,2,3], [4,5,6]])\n"
   ]
  },
  {
   "cell_type": "markdown",
   "metadata": {},
   "source": [
    "シグモイド関数を使った計算をしてみる"
   ]
  },
  {
   "cell_type": "code",
   "execution_count": 5,
   "metadata": {
    "collapsed": false
   },
   "outputs": [
    {
     "name": "stdout",
     "output_type": "stream",
     "text": [
      "[[ 0.5         0.73105858]\n",
      " [ 0.26894142  0.11920292]]\n"
     ]
    }
   ],
   "source": [
    "#coding: utf-8\n",
    "import theano\n",
    "import theano.tensor as T\n",
    "\n",
    "# シンボルを定義\n",
    "x = T.dmatrix('x')\n",
    "\n",
    "# シンボルを組み合わせて数式を定義\n",
    "# s = T.nnet.sigmoid(x)でもOK\n",
    "s = 1 / (1 + T.exp(-x))\n",
    "\n",
    "# シンボルを使って関数化\n",
    "sigmoid = theano.function(inputs=[x], outputs=s)\n",
    "\n",
    "# 実際の値を使って計算\n",
    "print sigmoid([[0, 1], [-1, -2]])"
   ]
  },
  {
   "cell_type": "markdown",
   "metadata": {},
   "source": [
    "共有変数について学ぶ"
   ]
  },
  {
   "cell_type": "code",
   "execution_count": 6,
   "metadata": {
    "collapsed": false
   },
   "outputs": [
    {
     "name": "stdout",
     "output_type": "stream",
     "text": [
      "<class 'theano.tensor.sharedvar.TensorSharedVariable'>\n",
      "[[ 1.  2.  3.]\n",
      " [ 4.  5.  6.]]\n"
     ]
    }
   ],
   "source": [
    "#coding: utf-8\n",
    "import numpy as np\n",
    "import theano\n",
    "\n",
    "# データを共有変数に読み込む\n",
    "data = np.array([[1,2,3], [4,5,6]], dtype=theano.config.floatX)\n",
    "X = theano.shared(data, name='X', borrow=True)\n",
    "print type(X)\n",
    "print X.get_value()"
   ]
  },
  {
   "cell_type": "code",
   "execution_count": null,
   "metadata": {
    "collapsed": true
   },
   "outputs": [],
   "source": []
  }
 ],
 "metadata": {
  "kernelspec": {
   "display_name": "Python 2",
   "language": "python",
   "name": "python2"
  },
  "language_info": {
   "codemirror_mode": {
    "name": "ipython",
    "version": 2
   },
   "file_extension": ".py",
   "mimetype": "text/x-python",
   "name": "python",
   "nbconvert_exporter": "python",
   "pygments_lexer": "ipython2",
   "version": "2.7.11"
  }
 },
 "nbformat": 4,
 "nbformat_minor": 0
}
