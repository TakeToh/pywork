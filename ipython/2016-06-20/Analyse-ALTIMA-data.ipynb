{
 "cells": [
  {
   "cell_type": "code",
   "execution_count": 39,
   "metadata": {
    "collapsed": false
   },
   "outputs": [],
   "source": [
    "import numpy as np\n",
    "import pandas as pd\n",
    "from scipy import fftpack\n",
    "from scipy import signal\n",
    "import time\n",
    "import os\n",
    "import matplotlib.pyplot as plt\n",
    "import pickle\n",
    "%matplotlib inline"
   ]
  },
  {
   "cell_type": "code",
   "execution_count": 2,
   "metadata": {
    "collapsed": false
   },
   "outputs": [],
   "source": [
    "WORKSPACE_PATH = '/home/takeyama/pywork/ipython/2016-06-20/'"
   ]
  },
  {
   "cell_type": "markdown",
   "metadata": {},
   "source": [
    "mozartの環境設定"
   ]
  },
  {
   "cell_type": "code",
   "execution_count": 3,
   "metadata": {
    "collapsed": true
   },
   "outputs": [],
   "source": [
    "#p_path=\"/home/takeyama/pywork/ipython/2016-05-30/\""
   ]
  },
  {
   "cell_type": "code",
   "execution_count": 4,
   "metadata": {
    "collapsed": false
   },
   "outputs": [],
   "source": [
    "#cd ~/Documents/SyncRecord/cleaning-addingLABEL/"
   ]
  },
  {
   "cell_type": "markdown",
   "metadata": {},
   "source": [
    "workstationの環境設定"
   ]
  },
  {
   "cell_type": "code",
   "execution_count": 5,
   "metadata": {
    "collapsed": false
   },
   "outputs": [
    {
     "name": "stdout",
     "output_type": "stream",
     "text": [
      "/home/takeyama/Documents/ALTIMA/20160617-103037\n"
     ]
    }
   ],
   "source": [
    "cd ~/Documents/ALTIMA/20160617-103037/"
   ]
  },
  {
   "cell_type": "code",
   "execution_count": 44,
   "metadata": {
    "collapsed": false
   },
   "outputs": [],
   "source": [
    "'''\n",
    "csv_file -> ファイル名\n",
    "mode Round -> 四捨五入\n",
    "     Roundup -> 切り上げ\n",
    "     Rounddown -> 切り捨て\n",
    "'''\n",
    "def ImportCSV(csv_file,freq,SensorName,mode='Round'):\n",
    "        # data dictionary \n",
    "        RawData={}   \n",
    "        \n",
    "        # design dataframe and import csv\n",
    "        data = pd.read_csv(csv_file)\n",
    "        data.columns=[u'Type',u'Time',u'AccX',u'AccY',u'AccZ',u'GyrX',u'GyrY',u'GyrZ']\n",
    "        data = data[ data['Type']=='ags']\n",
    "        \n",
    "        # convert numpy.darray \n",
    "        # Acc Data  [0.1mG]=>[G]\n",
    "        # Gyr Data  [0.01dps]=>[dps]   ...dps=degree per second\n",
    "        AccX=data.AccX.values*0.0001\n",
    "        AccY=data.AccY.values*0.0001\n",
    "        AccZ=data.AccZ.values*0.0001\n",
    "        GyrX=data.GyrX.values*0.01\n",
    "        GyrY=data.GyrY.values*0.01\n",
    "        GyrZ=data.GyrZ.values*0.01\n",
    "        \n",
    "        # regist each raw data \n",
    "        RawData['AccX'] = AccX\n",
    "        RawData['AccY'] = AccY\n",
    "        RawData['AccZ'] = AccZ\n",
    "        RawData['GyrX'] = GyrX\n",
    "        RawData['GyrY'] = GyrY\n",
    "        RawData['GyrZ'] = GyrZ\n",
    "        RawData['Name'] = SensorName\n",
    "        \n",
    "        # import time by using numpy\n",
    "        time = data.Time.values #時間の列だけを抽出       \n",
    "        \n",
    "        if mode == 'Roundup':\n",
    "            func = lambda x: int(x/freq)*freq\n",
    "        elif mode == 'Rounddown':\n",
    "            func = lambda x: int(x/freq)*freq\n",
    "        elif mode == 'Round':\n",
    "            func = lambda x: int((x+freq/2)/freq)*freq\n",
    "        #ERROR\n",
    "        else:\n",
    "            print 'check mode and inputed word is caused error'\n",
    "            return -1\n",
    "        \n",
    "        output = map(func,time)\n",
    "        RawData['Time'] = np.array(output)\n",
    "\n",
    "        return RawData\n",
    "            "
   ]
  },
  {
   "cell_type": "code",
   "execution_count": 45,
   "metadata": {
    "collapsed": true
   },
   "outputs": [],
   "source": [
    "def CalcStartTime(array):\n",
    "    MAX = min(array[0])\n",
    "    \n",
    "    for i in range(len(array)):\n",
    "        if MAX < min(array[i]):\n",
    "            MAX = min(array[i])\n",
    "     \n",
    "    return  MAX"
   ]
  },
  {
   "cell_type": "code",
   "execution_count": 46,
   "metadata": {
    "collapsed": true
   },
   "outputs": [],
   "source": [
    "def CalcGoalTime(array):\n",
    "    MIN = max(array[0])\n",
    "    \n",
    "    for i in range(len(array)):\n",
    "        if MIN > max(array[i]):\n",
    "            MIN = max(array[i])\n",
    "     \n",
    "    return  MIN"
   ]
  },
  {
   "cell_type": "markdown",
   "metadata": {
    "collapsed": true
   },
   "source": [
    "**2016-06-14**  \n",
    "もう１度、前処理について考える。特に、入力データの特徴、出力データの仕様を改める。  \n",
    "*feacher of Precondition*\n",
    "1. センサデータは{time, accx, accy, accz, gyrx, gyry, gyrz}が揃っている\n",
    "2. また、センサデータはすべて整数型となっている。\n",
    "3. nanデータはない\n",
    "\n",
    "*output Data*\n",
    "1. accは[0.1mG]から[G]に単位変換、gyrは[0.01dpg]は[dpg]に変換する。\n",
    "2. timeはサンプリング周期で丸める。\n",
    "3. Nanデータは存在する。\n"
   ]
  },
  {
   "cell_type": "code",
   "execution_count": 51,
   "metadata": {
    "collapsed": false
   },
   "outputs": [],
   "source": [
    "\"\"\"\n",
    "    checkData に入れるものは辞書型にする\n",
    "    freqは計測周期\n",
    "\"\"\"\n",
    "def NanPating(DicData,freq):\n",
    "    import time\n",
    "    start_time = time.time()\n",
    "    \n",
    "    # detection for hidden Nan Data\n",
    "    diffNum =np.array([])\n",
    "    diffIndex=np.array([])\n",
    "    checkData = DicData['Time']\n",
    "    width = len(checkData)\n",
    "    for i in range(0,width-1):\n",
    "        if ( checkData[i+1]-checkData[i] )!=freq:\n",
    "            diffNum=np.append(diffNum, int(checkData[i+1]-checkData[i]) )\n",
    "            diffIndex=np.append(diffIndex,i)\n",
    "   \n",
    "    # insert NAN data to SensorData\n",
    "    # insert time_data\n",
    "    def Insert(data,dI,dN,f,mode):\n",
    "        StartIndex= 0\n",
    "        tmp =np.array([])\n",
    "        if mode =='Sensor':\n",
    "            # insert NAN DATA\n",
    "            adding = np.nan\n",
    "            for count,l in enumerate(dI):\n",
    "                tmp = np.append(tmp, data[StartIndex:int(l)])\n",
    "                for i in range(0,int(dN[count]/f) ):\n",
    "                    tmp = np.append(tmp,np.nan)\n",
    "                StartIndex = int(l)+1\n",
    "            tmp=np.append(tmp, data[StartIndex:])\n",
    "        elif mode =='Time':\n",
    "            # insert \n",
    "            for count,l in enumerate(dI):\n",
    "                tmp = np.append(tmp, data[StartIndex:int(l)])\n",
    "                for i in range(0,int(dN[count]/f) ):\n",
    "                    t = int( tmp[-1]+f )\n",
    "                    tmp = np.append(tmp,t)\n",
    "                StartIndex = int(l)+1\n",
    "            tmp=np.append(tmp, data[StartIndex:])\n",
    "        else:\n",
    "            print 'mode name error'\n",
    "        return tmp\n",
    "    Array ={}\n",
    "    tmpArrayAccX=Insert(DicData['AccX'],diffIndex,diffNum,freq,mode='Sensor')\n",
    "    tmpArrayAccY=Insert(DicData['AccY'],diffIndex,diffNum,freq,mode='Sensor')\n",
    "    tmpArrayAccZ=Insert(DicData['AccZ'],diffIndex,diffNum,freq,mode='Sensor')\n",
    "    tmpArrayGyrX=Insert(DicData['GyrX'],diffIndex,diffNum,freq,mode='Sensor')\n",
    "    tmpArrayGyrY=Insert(DicData['GyrY'],diffIndex,diffNum,freq,mode='Sensor')\n",
    "    tmpArrayGyrZ=Insert(DicData['GyrZ'],diffIndex,diffNum,freq,mode='Sensor')\n",
    "    tmpArrayTime=Insert(DicData['Time'],diffIndex,diffNum,freq,mode='Time')\n",
    "    Array['AccX'] = tmpArrayAccX\n",
    "    Array['AccY'] = tmpArrayAccY\n",
    "    Array['AccZ'] = tmpArrayAccZ\n",
    "    Array['GyrX'] = tmpArrayGyrX\n",
    "    Array['GyrY'] = tmpArrayGyrY\n",
    "    Array['GyrZ'] = tmpArrayGyrZ\n",
    "    Array['Time'] = tmpArrayTime\n",
    "    Array['Name'] = DicData['Name']\n",
    "    #Array=[Time:tmpArrayTime,tmpArrayAccX,tmpArrayAccY,tmpArrayAccZ,tmpArrayGyrX,tmpArrayGyrY,tmpArrayGyrZ]\n",
    "    elapsed_time = time.time() -start_time\n",
    "    print (\"elapsed_time:{0}\".format(elapsed_time)) + \"[sec]\"\n",
    "    return Array"
   ]
  },
  {
   "cell_type": "code",
   "execution_count": 52,
   "metadata": {
    "collapsed": true
   },
   "outputs": [],
   "source": [
    "def CalcSearchIndexFromTime(checkData,CompareTime):\n",
    "    count = 0\n",
    "    for i in range(0, len(checkData)):\n",
    "        if CompareTime == checkData[i]:\n",
    "            print str(CompareTime)+' is much in the index  whose number is '+str(i)\n",
    "            return i\n",
    "        "
   ]
  },
  {
   "cell_type": "code",
   "execution_count": 53,
   "metadata": {
    "collapsed": false
   },
   "outputs": [],
   "source": [
    "def Extraction(dic,start,goal):\n",
    "    keys = dic.keys()\n",
    "    output = {}\n",
    "    for i in range( len(dic)):\n",
    "        output[keys[i]] = dic[keys[i]][start:goal]\n",
    "        if keys[i]=='Time': output[keys[i]] = output[keys[i]].astype(int)\n",
    "    return output\n",
    "    "
   ]
  },
  {
   "cell_type": "code",
   "execution_count": 54,
   "metadata": {
    "collapsed": false
   },
   "outputs": [],
   "source": [
    "DataCsv1= ImportCSV('14011711-20160617-103037714.csv',1,'sensor1')\n",
    "DataCsv2= ImportCSV('14011712-20160617-103037714.csv',1,'sensor2')\n",
    "DataCsv3= ImportCSV('14011713-20160617-103037714.csv',1,'sensor3')\n",
    "DataCsv4= ImportCSV('14011714-20160617-103037714.csv',1,'sensor4')\n",
    "DataCsv5= ImportCSV('11411715-20160617-103037714.csv',1,'sensor5')\n",
    "DataCsv6= ImportCSV('14011716-20160617-103037714.csv',1,'sensor6')\n",
    "DataCsv7= ImportCSV('14011717-20160617-103037714.csv',1,'sensor7')"
   ]
  },
  {
   "cell_type": "code",
   "execution_count": 55,
   "metadata": {
    "collapsed": true
   },
   "outputs": [],
   "source": [
    "def SearchNAN(array,freq):\n",
    "    diffNum =np.array([])\n",
    "    diffIndex=np.array([])\n",
    "    width = len(array)\n",
    "    for i in range(0,width-1):\n",
    "        if ( array[i+1]-array[i] )!=freq:\n",
    "            diffNum=np.append(diffNum, int(array[i+1]-array[i]) )\n",
    "            diffIndex=np.append(diffIndex,i)\n",
    "    print 'diffNum='+str(diffNum)\n",
    "    print 'diffIndex'+str(diffIndex)"
   ]
  },
  {
   "cell_type": "code",
   "execution_count": 56,
   "metadata": {
    "collapsed": false
   },
   "outputs": [],
   "source": [
    "MemDataCsv1= ImportCSV('mem/mem-14011711-20160617-103038606.csv',1,'MemSensor1')\n",
    "MemDataCsv2= ImportCSV('mem/mem-14011712-20160617-103038627.csv',1,'MemSensor2')\n",
    "MemDataCsv3= ImportCSV('mem/mem-14011713-20160617-103038690.csv',1,'MemSensor3')\n",
    "MemDataCsv4= ImportCSV('mem/mem-14011714-20160617-103038731.csv',1,'MemSensor4')\n",
    "MemDataCsv5= ImportCSV('mem/mem-11411715-20160617-103038767.csv',1,'MemSensor5')\n",
    "MemDataCsv6= ImportCSV('mem/mem-14011716-20160617-103038807.csv',1,'MemSensor6')\n",
    "MemDataCsv7= ImportCSV('mem/mem-14011717-20160617-103037850.csv',1,'MemSensor7')"
   ]
  },
  {
   "cell_type": "code",
   "execution_count": 57,
   "metadata": {
    "collapsed": false
   },
   "outputs": [
    {
     "name": "stdout",
     "output_type": "stream",
     "text": [
      "37838721\n",
      "37838742\n",
      "37838805\n",
      "37838846\n",
      "37838882\n",
      "37838922\n",
      "37837965\n"
     ]
    }
   ],
   "source": [
    "print MemDataCsv1['Time'][0]\n",
    "print MemDataCsv2['Time'][0]\n",
    "print MemDataCsv3['Time'][0]\n",
    "print MemDataCsv4['Time'][0]\n",
    "print MemDataCsv5['Time'][0]\n",
    "print MemDataCsv6['Time'][0]\n",
    "print MemDataCsv7['Time'][0]"
   ]
  },
  {
   "cell_type": "code",
   "execution_count": 58,
   "metadata": {
    "collapsed": false
   },
   "outputs": [
    {
     "name": "stdout",
     "output_type": "stream",
     "text": [
      "37838721\n",
      "37838742\n",
      "37838805\n",
      "37838846\n",
      "37838882\n",
      "37838922\n",
      "37837965\n"
     ]
    }
   ],
   "source": [
    "print DataCsv1['Time'][0]\n",
    "print DataCsv2['Time'][0]\n",
    "print DataCsv3['Time'][0]\n",
    "print DataCsv4['Time'][0]\n",
    "print DataCsv5['Time'][0]\n",
    "print DataCsv6['Time'][0]\n",
    "print DataCsv7['Time'][0]"
   ]
  },
  {
   "cell_type": "markdown",
   "metadata": {
    "collapsed": true
   },
   "source": [
    "**2016-06-20**  \n",
    "Altimaで計測して、メモリダウンロードをしたデータを生データとする。  \n",
    "この生データからウィンドウ幅で切り分けて保存する。\n"
   ]
  },
  {
   "cell_type": "code",
   "execution_count": 59,
   "metadata": {
    "collapsed": false
   },
   "outputs": [],
   "source": [
    "MemTimeArray = [MemDataCsv1['Time'], MemDataCsv2['Time'], MemDataCsv3['Time'], MemDataCsv4['Time'],\n",
    "               MemDataCsv5['Time'], MemDataCsv6['Time'], MemDataCsv7['Time']]"
   ]
  },
  {
   "cell_type": "code",
   "execution_count": 60,
   "metadata": {
    "collapsed": true
   },
   "outputs": [],
   "source": [
    "MemDataArray = [MemDataCsv1, MemDataCsv2, MemDataCsv3, MemDataCsv4, MemDataCsv5, MemDataCsv6, MemDataCsv7]"
   ]
  },
  {
   "cell_type": "code",
   "execution_count": 61,
   "metadata": {
    "collapsed": false
   },
   "outputs": [
    {
     "data": {
      "text/plain": [
       "37838922"
      ]
     },
     "execution_count": 61,
     "metadata": {},
     "output_type": "execute_result"
    }
   ],
   "source": [
    "CalcStartTime(MemTimeArray)"
   ]
  },
  {
   "cell_type": "code",
   "execution_count": null,
   "metadata": {
    "collapsed": true
   },
   "outputs": [],
   "source": []
  },
  {
   "cell_type": "code",
   "execution_count": 66,
   "metadata": {
    "collapsed": false
   },
   "outputs": [
    {
     "name": "stdout",
     "output_type": "stream",
     "text": [
      "start\n",
      "37838922 is much in the index  whose number is 201\n",
      "goal\n",
      "37971170 is much in the index  whose number is 132449\n",
      "start\n",
      "37838922 is much in the index  whose number is 180\n",
      "goal\n",
      "37971170 is much in the index  whose number is 132428\n",
      "start\n",
      "37838922 is much in the index  whose number is 117\n",
      "goal\n",
      "37971170 is much in the index  whose number is 132365\n",
      "start\n",
      "37838922 is much in the index  whose number is 76\n",
      "goal\n",
      "37971170 is much in the index  whose number is 132324\n",
      "start\n",
      "37838922 is much in the index  whose number is 40\n",
      "goal\n",
      "37971170 is much in the index  whose number is 132288\n",
      "start\n",
      "37838922 is much in the index  whose number is 0\n",
      "goal\n",
      "37971170 is much in the index  whose number is 132248\n",
      "start\n",
      "37838922 is much in the index  whose number is 957\n",
      "goal\n",
      "37971170 is much in the index  whose number is 133205\n",
      "(8265, 16)\n",
      "(8265, 16)\n",
      "(8265, 16)\n",
      "(8265, 16)\n",
      "(8265, 16)\n",
      "(8265, 16)\n",
      "(8265, 16)\n"
     ]
    }
   ],
   "source": [
    "WINDOW = 16\n",
    "\n",
    "startTime = CalcStartTime(MemTimeArray)\n",
    "goalTime = CalcGoalTime(MemTimeArray)\n",
    "\n",
    "startIndex = np.array([])\n",
    "goalIndex = np.array([])\n",
    "\n",
    "for obj in MemTimeArray:\n",
    "    print 'start'\n",
    "    startIndex = np.append(startIndex, CalcSearchIndexFromTime(obj, startTime) ).astype(int)\n",
    "    print 'goal'\n",
    "    goalIndex = np.append(goalIndex, CalcSearchIndexFromTime(obj, goalTime) ).astype(int)\n",
    "\n",
    "tmp={}\n",
    "comMemDataArray = []\n",
    "RestorePath = WORKSPACE_PATH+'/raw/'\n",
    "\n",
    "for i,memDic in enumerate( MemDataArray ):\n",
    "\n",
    "    tmp['AccX'] = memDic['AccX'][startIndex[i]:goalIndex[i]]\n",
    "    tmp['AccY'] = memDic['AccY'][startIndex[i]:goalIndex[i]]\n",
    "    tmp['AccZ'] = memDic['AccZ'][startIndex[i]:goalIndex[i]]\n",
    "    tmp['GyrX'] = memDic['GyrX'][startIndex[i]:goalIndex[i]]\n",
    "    tmp['GyrY'] = memDic['GyrY'][startIndex[i]:goalIndex[i]]\n",
    "    tmp['GyrZ'] = memDic['GyrZ'][startIndex[i]:goalIndex[i]]\n",
    "    tmp['Time'] = memDic['Time'][startIndex[i]:goalIndex[i]]\n",
    "    \n",
    "    tmp['Name'] = memDic['Name']\n",
    "    \n",
    "    if not ( os.path.exists(RestorePath) ):\n",
    "        os.makedirs(RestorePath)\n",
    "    \n",
    "    f = open(RestorePath+tmp['Name']+'.pickle', 'wb')\n",
    "    pickle.dump(tmp,f)\n",
    "    comMemDataArray.append(tmp)\n",
    "    \n",
    "    print str( tmp['AccX'].shape )\n",
    "\n",
    "    "
   ]
  },
  {
   "cell_type": "markdown",
   "metadata": {},
   "source": [
    "だいたい上記のものをクラスとしてまとめれば良いと思う。  \n",
    "問題としては柔軟性のあるクラスにしたい。メソッドを選択して前処理を行うようにする。  \n",
    "すこし構成を考えついてからにする。"
   ]
  },
  {
   "cell_type": "code",
   "execution_count": 37,
   "metadata": {
    "collapsed": false
   },
   "outputs": [
    {
     "data": {
      "text/plain": [
       "7"
      ]
     },
     "execution_count": 37,
     "metadata": {},
     "output_type": "execute_result"
    }
   ],
   "source": [
    "len( comMemDataArray )"
   ]
  },
  {
   "cell_type": "code",
   "execution_count": 92,
   "metadata": {
    "collapsed": false,
    "scrolled": true
   },
   "outputs": [
    {
     "data": {
      "text/plain": [
       "array([-0.0115, -0.0117, -0.0162, -0.0151, -0.0097, -0.0172, -0.0124,\n",
       "       -0.016 , -0.0158, -0.0177, -0.0162, -0.0124, -0.0066, -0.0146,\n",
       "       -0.0141, -0.0141])"
      ]
     },
     "execution_count": 92,
     "metadata": {},
     "output_type": "execute_result"
    }
   ],
   "source": [
    "comMemDataArray[0]['AccX'][0]"
   ]
  },
  {
   "cell_type": "code",
   "execution_count": 124,
   "metadata": {
    "collapsed": false
   },
   "outputs": [],
   "source": [
    "\"\"\"\n",
    "    dicDataは1つのセンサデータである\n",
    "    また、各データ（加速度、角速度）はすべて(1234,サンプリング周期)となっていること\n",
    "\"\"\"\n",
    "def sliding(dicData,axis,samp):\n",
    "    keys = dicData.keys()\n",
    "    tmp ={}\n",
    "    for i in range( 1,len(keys) ):\n",
    "        tmp[keys[i]] = dicData[keys[i]][axis]\n",
    "\n",
    "    return tmp"
   ]
  },
  {
   "cell_type": "code",
   "execution_count": 126,
   "metadata": {
    "collapsed": false
   },
   "outputs": [
    {
     "data": {
      "text/plain": [
       "{'AccX': array([-0.0102, -0.0139, -0.0119, -0.009 , -0.0134, -0.0097, -0.0127,\n",
       "        -0.011 , -0.0105, -0.0102, -0.011 , -0.0068, -0.0088, -0.0039,\n",
       "        -0.0036, -0.0036]),\n",
       " 'AccY': array([-0.0042, -0.0027, -0.0015, -0.0013, -0.0009, -0.0027, -0.0017,\n",
       "        -0.0015, -0.0022, -0.0022, -0.0034,  0.0045,  0.0052, -0.0006,\n",
       "         0.0001,  0.0038]),\n",
       " 'AccZ': array([ 0.962 ,  0.9711,  0.984 ,  0.9796,  0.976 ,  0.9816,  0.9889,\n",
       "         0.9867,  0.9804,  0.9723,  0.9699,  0.9699,  0.9655,  0.9623,\n",
       "         0.9555,  0.9557]),\n",
       " 'GyrX': array([ 0.14,  0.23,  0.09,  0.  ,  0.09,  0.17,  0.  ,  0.05,  0.23,\n",
       "         0.29,  0.26,  0.31,  0.14, -0.03, -0.06,  0.11]),\n",
       " 'GyrY': array([-0.1 ,  0.03,  0.19,  0.17,  0.17,  0.26,  0.2 ,  0.34,  0.48,\n",
       "         0.49,  0.34,  0.2 ,  0.35,  0.29,  0.13,  0.02]),\n",
       " 'GyrZ': array([-0.12, -0.11, -0.23, -0.28, -0.15, -0.14, -0.09, -0.06, -0.12,\n",
       "        -0.14, -0.18, -0.09, -0.02,  0.07, -0.14, -0.2 ]),\n",
       " 'Time': array([37838938, 37838939, 37838940, 37838941, 37838942, 37838943,\n",
       "        37838944, 37838945, 37838946, 37838947, 37838948, 37838949,\n",
       "        37838950, 37838951, 37838952, 37838953])}"
      ]
     },
     "execution_count": 126,
     "metadata": {},
     "output_type": "execute_result"
    }
   ],
   "source": [
    "sliding(comMemDataArray[0],1,16)"
   ]
  },
  {
   "cell_type": "code",
   "execution_count": 131,
   "metadata": {
    "collapsed": false
   },
   "outputs": [],
   "source": [
    "\"\"\"\n",
    "    precond は１つのセンサデータ\n",
    "        例として、（8625,16)の配列\n",
    "    windowはウィンドウ幅\n",
    "\"\"\"\n",
    "def CalcFFT(precond,samp):\n",
    "    tmp = {}\n",
    "    output = []\n",
    "    for i in range( len(precond) ):\n",
    "        w = sliding(precond,i,samp)\n",
    "        tmp['AccX'] = np.array(fftpack.fft(w['AccX'])[1:(samp/2)+1])\n",
    "        tmp['AccY'] = np.array(fftpack.fft(w['AccY'])[1:(samp/2)+1])\n",
    "        tmp['AccZ'] = np.array(fftpack.fft(w['AccZ'])[1:(samp/2)+1])\n",
    "        tmp['GyrX'] = np.array(fftpack.fft(w['GyrX'])[1:(samp/2)+1])\n",
    "        tmp['GyrY'] = np.array(fftpack.fft(w['GyrY'])[1:(samp/2)+1])\n",
    "        tmp['GyrZ'] = np.array(fftpack.fft(w['GyrZ'])[1:(samp/2)+1])\n",
    "        output.append(tmp)\n",
    "    return output"
   ]
  },
  {
   "cell_type": "code",
   "execution_count": 132,
   "metadata": {
    "collapsed": false
   },
   "outputs": [
    {
     "ename": "AttributeError",
     "evalue": "'list' object has no attribute 'keys'",
     "output_type": "error",
     "traceback": [
      "\u001b[1;31m-------------------------------------------------------------------\u001b[0m",
      "\u001b[1;31mAttributeError\u001b[0m                    Traceback (most recent call last)",
      "\u001b[1;32m<ipython-input-132-376637f77f51>\u001b[0m in \u001b[0;36m<module>\u001b[1;34m()\u001b[0m\n\u001b[1;32m----> 1\u001b[1;33m \u001b[0mCalcFFT\u001b[0m\u001b[1;33m(\u001b[0m\u001b[0mcomMemDataArray\u001b[0m\u001b[1;33m,\u001b[0m\u001b[1;36m16\u001b[0m\u001b[1;33m)\u001b[0m\u001b[1;33m\u001b[0m\u001b[0m\n\u001b[0m",
      "\u001b[1;32m<ipython-input-131-e0e747de229f>\u001b[0m in \u001b[0;36mCalcFFT\u001b[1;34m(precond, samp)\u001b[0m\n\u001b[0;32m      8\u001b[0m     \u001b[0moutput\u001b[0m \u001b[1;33m=\u001b[0m \u001b[1;33m[\u001b[0m\u001b[1;33m]\u001b[0m\u001b[1;33m\u001b[0m\u001b[0m\n\u001b[0;32m      9\u001b[0m     \u001b[1;32mfor\u001b[0m \u001b[0mi\u001b[0m \u001b[1;32min\u001b[0m \u001b[0mrange\u001b[0m\u001b[1;33m(\u001b[0m \u001b[0mlen\u001b[0m\u001b[1;33m(\u001b[0m\u001b[0mprecond\u001b[0m\u001b[1;33m)\u001b[0m \u001b[1;33m)\u001b[0m\u001b[1;33m:\u001b[0m\u001b[1;33m\u001b[0m\u001b[0m\n\u001b[1;32m---> 10\u001b[1;33m         \u001b[0mw\u001b[0m \u001b[1;33m=\u001b[0m \u001b[0msliding\u001b[0m\u001b[1;33m(\u001b[0m\u001b[0mprecond\u001b[0m\u001b[1;33m,\u001b[0m\u001b[0mi\u001b[0m\u001b[1;33m,\u001b[0m\u001b[0msamp\u001b[0m\u001b[1;33m)\u001b[0m\u001b[1;33m\u001b[0m\u001b[0m\n\u001b[0m\u001b[0;32m     11\u001b[0m         \u001b[0mtmp\u001b[0m\u001b[1;33m[\u001b[0m\u001b[1;34m'AccX'\u001b[0m\u001b[1;33m]\u001b[0m \u001b[1;33m=\u001b[0m \u001b[0mnp\u001b[0m\u001b[1;33m.\u001b[0m\u001b[0marray\u001b[0m\u001b[1;33m(\u001b[0m\u001b[0mfftpack\u001b[0m\u001b[1;33m.\u001b[0m\u001b[0mfft\u001b[0m\u001b[1;33m(\u001b[0m\u001b[0mw\u001b[0m\u001b[1;33m[\u001b[0m\u001b[1;34m'AccX'\u001b[0m\u001b[1;33m]\u001b[0m\u001b[1;33m)\u001b[0m\u001b[1;33m[\u001b[0m\u001b[1;36m1\u001b[0m\u001b[1;33m:\u001b[0m\u001b[1;33m(\u001b[0m\u001b[0msamp\u001b[0m\u001b[1;33m/\u001b[0m\u001b[1;36m2\u001b[0m\u001b[1;33m)\u001b[0m\u001b[1;33m+\u001b[0m\u001b[1;36m1\u001b[0m\u001b[1;33m]\u001b[0m\u001b[1;33m)\u001b[0m\u001b[1;33m\u001b[0m\u001b[0m\n\u001b[0;32m     12\u001b[0m         \u001b[0mtmp\u001b[0m\u001b[1;33m[\u001b[0m\u001b[1;34m'AccY'\u001b[0m\u001b[1;33m]\u001b[0m \u001b[1;33m=\u001b[0m \u001b[0mnp\u001b[0m\u001b[1;33m.\u001b[0m\u001b[0marray\u001b[0m\u001b[1;33m(\u001b[0m\u001b[0mfftpack\u001b[0m\u001b[1;33m.\u001b[0m\u001b[0mfft\u001b[0m\u001b[1;33m(\u001b[0m\u001b[0mw\u001b[0m\u001b[1;33m[\u001b[0m\u001b[1;34m'AccY'\u001b[0m\u001b[1;33m]\u001b[0m\u001b[1;33m)\u001b[0m\u001b[1;33m[\u001b[0m\u001b[1;36m1\u001b[0m\u001b[1;33m:\u001b[0m\u001b[1;33m(\u001b[0m\u001b[0msamp\u001b[0m\u001b[1;33m/\u001b[0m\u001b[1;36m2\u001b[0m\u001b[1;33m)\u001b[0m\u001b[1;33m+\u001b[0m\u001b[1;36m1\u001b[0m\u001b[1;33m]\u001b[0m\u001b[1;33m)\u001b[0m\u001b[1;33m\u001b[0m\u001b[0m\n",
      "\u001b[1;32m<ipython-input-124-49c9fd97a0c2>\u001b[0m in \u001b[0;36msliding\u001b[1;34m(dicData, axis, samp)\u001b[0m\n\u001b[0;32m      4\u001b[0m \"\"\"\n\u001b[0;32m      5\u001b[0m \u001b[1;32mdef\u001b[0m \u001b[0msliding\u001b[0m\u001b[1;33m(\u001b[0m\u001b[0mdicData\u001b[0m\u001b[1;33m,\u001b[0m\u001b[0maxis\u001b[0m\u001b[1;33m,\u001b[0m\u001b[0msamp\u001b[0m\u001b[1;33m)\u001b[0m\u001b[1;33m:\u001b[0m\u001b[1;33m\u001b[0m\u001b[0m\n\u001b[1;32m----> 6\u001b[1;33m     \u001b[0mkeys\u001b[0m \u001b[1;33m=\u001b[0m \u001b[0mdicData\u001b[0m\u001b[1;33m.\u001b[0m\u001b[0mkeys\u001b[0m\u001b[1;33m(\u001b[0m\u001b[1;33m)\u001b[0m\u001b[1;33m\u001b[0m\u001b[0m\n\u001b[0m\u001b[0;32m      7\u001b[0m     \u001b[0mtmp\u001b[0m \u001b[1;33m=\u001b[0m\u001b[1;33m{\u001b[0m\u001b[1;33m}\u001b[0m\u001b[1;33m\u001b[0m\u001b[0m\n\u001b[0;32m      8\u001b[0m     \u001b[1;32mfor\u001b[0m \u001b[0mi\u001b[0m \u001b[1;32min\u001b[0m \u001b[0mrange\u001b[0m\u001b[1;33m(\u001b[0m \u001b[1;36m1\u001b[0m\u001b[1;33m,\u001b[0m\u001b[0mlen\u001b[0m\u001b[1;33m(\u001b[0m\u001b[0mkeys\u001b[0m\u001b[1;33m)\u001b[0m \u001b[1;33m)\u001b[0m\u001b[1;33m:\u001b[0m\u001b[1;33m\u001b[0m\u001b[0m\n",
      "\u001b[1;31mAttributeError\u001b[0m: 'list' object has no attribute 'keys'"
     ]
    }
   ],
   "source": [
    "CalcFFT(comMemDataArray,16)"
   ]
  },
  {
   "cell_type": "code",
   "execution_count": null,
   "metadata": {
    "collapsed": true
   },
   "outputs": [],
   "source": []
  }
 ],
 "metadata": {
  "kernelspec": {
   "display_name": "Python 2",
   "language": "python",
   "name": "python2"
  },
  "language_info": {
   "codemirror_mode": {
    "name": "ipython",
    "version": 2
   },
   "file_extension": ".py",
   "mimetype": "text/x-python",
   "name": "python",
   "nbconvert_exporter": "python",
   "pygments_lexer": "ipython2",
   "version": "2.7.11"
  }
 },
 "nbformat": 4,
 "nbformat_minor": 0
}
