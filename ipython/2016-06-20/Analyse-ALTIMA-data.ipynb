{
 "cells": [
  {
   "cell_type": "code",
   "execution_count": 1,
   "metadata": {
    "collapsed": false
   },
   "outputs": [],
   "source": [
    "import numpy as np\n",
    "import pandas as pd\n",
    "from scipy import fftpack\n",
    "from scipy import signal\n",
    "import time\n",
    "import os\n",
    "import matplotlib.pyplot as plt\n",
    "import pickle\n",
    "%matplotlib inline"
   ]
  },
  {
   "cell_type": "code",
   "execution_count": 2,
   "metadata": {
    "collapsed": false
   },
   "outputs": [],
   "source": [
    "WORKSPACE_PATH = '/home/takeyama/pywork/ipython/2016-06-20'"
   ]
  },
  {
   "cell_type": "code",
   "execution_count": 3,
   "metadata": {
    "collapsed": true
   },
   "outputs": [],
   "source": [
    "RestorePath = WORKSPACE_PATH+'/raw/'"
   ]
  },
  {
   "cell_type": "markdown",
   "metadata": {},
   "source": [
    "mozartの環境設定"
   ]
  },
  {
   "cell_type": "code",
   "execution_count": 4,
   "metadata": {
    "collapsed": true
   },
   "outputs": [],
   "source": [
    "#p_path=\"/home/takeyama/pywork/ipython/2016-05-30/\""
   ]
  },
  {
   "cell_type": "code",
   "execution_count": 5,
   "metadata": {
    "collapsed": false
   },
   "outputs": [],
   "source": [
    "#cd ~/Documents/SyncRecord/cleaning-addingLABEL/"
   ]
  },
  {
   "cell_type": "markdown",
   "metadata": {},
   "source": [
    "workstationの環境設定"
   ]
  },
  {
   "cell_type": "code",
   "execution_count": 6,
   "metadata": {
    "collapsed": false
   },
   "outputs": [
    {
     "name": "stdout",
     "output_type": "stream",
     "text": [
      "/home/takeyama/Documents/ALTIMA/20160617-103037\n"
     ]
    }
   ],
   "source": [
    "cd ~/Documents/ALTIMA/20160617-103037/"
   ]
  },
  {
   "cell_type": "code",
   "execution_count": 7,
   "metadata": {
    "collapsed": false
   },
   "outputs": [],
   "source": [
    "'''\n",
    "csv_file -> ファイル名\n",
    "mode Round -> 四捨五入\n",
    "     Roundup -> 切り上げ\n",
    "     Rounddown -> 切り捨て\n",
    "'''\n",
    "def ImportCSV(csv_file,freq,SensorName,mode='Round'):\n",
    "        # data dictionary \n",
    "        RawData={}   \n",
    "        \n",
    "        # design dataframe and import csv\n",
    "        data = pd.read_csv(csv_file)\n",
    "        data.columns=[u'Type',u'Time',u'AccX',u'AccY',u'AccZ',u'GyrX',u'GyrY',u'GyrZ']\n",
    "        data = data[ data['Type']=='ags']\n",
    "        \n",
    "        # convert numpy.darray \n",
    "        # Acc Data  [0.1mG]=>[G]\n",
    "        # Gyr Data  [0.01dps]=>[dps]   ...dps=degree per second\n",
    "        AccX=data.AccX.values*0.0001\n",
    "        AccY=data.AccY.values*0.0001\n",
    "        AccZ=data.AccZ.values*0.0001\n",
    "        GyrX=data.GyrX.values*0.01\n",
    "        GyrY=data.GyrY.values*0.01\n",
    "        GyrZ=data.GyrZ.values*0.01\n",
    "        \n",
    "        # regist each raw data \n",
    "        RawData['AccX'] = AccX\n",
    "        RawData['AccY'] = AccY\n",
    "        RawData['AccZ'] = AccZ\n",
    "        RawData['GyrX'] = GyrX\n",
    "        RawData['GyrY'] = GyrY\n",
    "        RawData['GyrZ'] = GyrZ\n",
    "        RawData['Name'] = SensorName\n",
    "        \n",
    "        # import time by using numpy\n",
    "        time = data.Time.values #時間の列だけを抽出       \n",
    "        \n",
    "        if mode == 'Roundup':\n",
    "            func = lambda x: int(x/freq)*freq\n",
    "        elif mode == 'Rounddown':\n",
    "            func = lambda x: int(x/freq)*freq\n",
    "        elif mode == 'Round':\n",
    "            func = lambda x: int((x+freq/2)/freq)*freq\n",
    "        #ERROR\n",
    "        else:\n",
    "            print 'check mode and inputed word is caused error'\n",
    "            return -1\n",
    "        \n",
    "        output = map(func,time)\n",
    "        RawData['Time'] = np.array(output)\n",
    "\n",
    "        return RawData\n",
    "            "
   ]
  },
  {
   "cell_type": "code",
   "execution_count": 8,
   "metadata": {
    "collapsed": true
   },
   "outputs": [],
   "source": [
    "def CalcStartTime(array):\n",
    "    MAX = min(array[0])\n",
    "    \n",
    "    for i in range(len(array)):\n",
    "        if MAX < min(array[i]):\n",
    "            MAX = min(array[i])\n",
    "     \n",
    "    return  MAX"
   ]
  },
  {
   "cell_type": "code",
   "execution_count": 9,
   "metadata": {
    "collapsed": true
   },
   "outputs": [],
   "source": [
    "def CalcGoalTime(array):\n",
    "    MIN = max(array[0])\n",
    "    \n",
    "    for i in range(len(array)):\n",
    "        if MIN > max(array[i]):\n",
    "            MIN = max(array[i])\n",
    "     \n",
    "    return  MIN"
   ]
  },
  {
   "cell_type": "markdown",
   "metadata": {
    "collapsed": true
   },
   "source": [
    "**2016-06-14**  \n",
    "もう１度、前処理について考える。特に、入力データの特徴、出力データの仕様を改める。  \n",
    "*feacher of Precondition*\n",
    "1. センサデータは{time, accx, accy, accz, gyrx, gyry, gyrz}が揃っている\n",
    "2. また、センサデータはすべて整数型となっている。\n",
    "3. nanデータはない\n",
    "\n",
    "*output Data*\n",
    "1. accは[0.1mG]から[G]に単位変換、gyrは[0.01dpg]は[dpg]に変換する。\n",
    "2. timeはサンプリング周期で丸める。\n",
    "3. Nanデータは存在する。\n"
   ]
  },
  {
   "cell_type": "code",
   "execution_count": 10,
   "metadata": {
    "collapsed": false
   },
   "outputs": [],
   "source": [
    "\"\"\"\n",
    "    checkData に入れるものは辞書型にする\n",
    "    freqは計測周期\n",
    "\"\"\"\n",
    "def NanPating(DicData,freq):\n",
    "    import time\n",
    "    start_time = time.time()\n",
    "    \n",
    "    # detection for hidden Nan Data\n",
    "    diffNum =np.array([])\n",
    "    diffIndex=np.array([])\n",
    "    checkData = DicData['Time']\n",
    "    width = len(checkData)\n",
    "    for i in range(0,width-1):\n",
    "        if ( checkData[i+1]-checkData[i] )!=freq:\n",
    "            diffNum=np.append(diffNum, int(checkData[i+1]-checkData[i]) )\n",
    "            diffIndex=np.append(diffIndex,i)\n",
    "   \n",
    "    # insert NAN data to SensorData\n",
    "    # insert time_data\n",
    "    def Insert(data,dI,dN,f,mode):\n",
    "        StartIndex= 0\n",
    "        tmp =np.array([])\n",
    "        if mode =='Sensor':\n",
    "            # insert NAN DATA\n",
    "            adding = np.nan\n",
    "            for count,l in enumerate(dI):\n",
    "                tmp = np.append(tmp, data[StartIndex:int(l)])\n",
    "                for i in range(0,int(dN[count]/f) ):\n",
    "                    tmp = np.append(tmp,np.nan)\n",
    "                StartIndex = int(l)+1\n",
    "            tmp=np.append(tmp, data[StartIndex:])\n",
    "        elif mode =='Time':\n",
    "            # insert \n",
    "            for count,l in enumerate(dI):\n",
    "                tmp = np.append(tmp, data[StartIndex:int(l)])\n",
    "                for i in range(0,int(dN[count]/f) ):\n",
    "                    t = int( tmp[-1]+f )\n",
    "                    tmp = np.append(tmp,t)\n",
    "                StartIndex = int(l)+1\n",
    "            tmp=np.append(tmp, data[StartIndex:])\n",
    "        else:\n",
    "            print 'mode name error'\n",
    "        return tmp\n",
    "    Array ={}\n",
    "    tmpArrayAccX=Insert(DicData['AccX'],diffIndex,diffNum,freq,mode='Sensor')\n",
    "    tmpArrayAccY=Insert(DicData['AccY'],diffIndex,diffNum,freq,mode='Sensor')\n",
    "    tmpArrayAccZ=Insert(DicData['AccZ'],diffIndex,diffNum,freq,mode='Sensor')\n",
    "    tmpArrayGyrX=Insert(DicData['GyrX'],diffIndex,diffNum,freq,mode='Sensor')\n",
    "    tmpArrayGyrY=Insert(DicData['GyrY'],diffIndex,diffNum,freq,mode='Sensor')\n",
    "    tmpArrayGyrZ=Insert(DicData['GyrZ'],diffIndex,diffNum,freq,mode='Sensor')\n",
    "    tmpArrayTime=Insert(DicData['Time'],diffIndex,diffNum,freq,mode='Time')\n",
    "    Array['AccX'] = tmpArrayAccX\n",
    "    Array['AccY'] = tmpArrayAccY\n",
    "    Array['AccZ'] = tmpArrayAccZ\n",
    "    Array['GyrX'] = tmpArrayGyrX\n",
    "    Array['GyrY'] = tmpArrayGyrY\n",
    "    Array['GyrZ'] = tmpArrayGyrZ\n",
    "    Array['Time'] = tmpArrayTime\n",
    "    Array['Name'] = DicData['Name']\n",
    "    #Array=[Time:tmpArrayTime,tmpArrayAccX,tmpArrayAccY,tmpArrayAccZ,tmpArrayGyrX,tmpArrayGyrY,tmpArrayGyrZ]\n",
    "    elapsed_time = time.time() -start_time\n",
    "    print (\"elapsed_time:{0}\".format(elapsed_time)) + \"[sec]\"\n",
    "    return Array"
   ]
  },
  {
   "cell_type": "code",
   "execution_count": 11,
   "metadata": {
    "collapsed": true
   },
   "outputs": [],
   "source": [
    "def CalcSearchIndexFromTime(checkData,CompareTime):\n",
    "    count = 0\n",
    "    for i in range(0, len(checkData)):\n",
    "        if CompareTime == checkData[i]:\n",
    "            print str(CompareTime)+' is much in the index  whose number is '+str(i)\n",
    "            return i\n",
    "        "
   ]
  },
  {
   "cell_type": "code",
   "execution_count": 12,
   "metadata": {
    "collapsed": false
   },
   "outputs": [],
   "source": [
    "def Extraction(dic,start,goal):\n",
    "    keys = dic.keys()\n",
    "    output = {}\n",
    "    for i in range( len(dic)):\n",
    "        output[keys[i]] = dic[keys[i]][start:goal]\n",
    "        if keys[i]=='Time': output[keys[i]] = output[keys[i]].astype(int)\n",
    "    return output\n",
    "    "
   ]
  },
  {
   "cell_type": "code",
   "execution_count": 13,
   "metadata": {
    "collapsed": false
   },
   "outputs": [],
   "source": [
    "DataCsv1= ImportCSV('14011711-20160617-103037714.csv',1,'sensor1')\n",
    "DataCsv2= ImportCSV('14011712-20160617-103037714.csv',1,'sensor2')\n",
    "DataCsv3= ImportCSV('14011713-20160617-103037714.csv',1,'sensor3')\n",
    "DataCsv4= ImportCSV('14011714-20160617-103037714.csv',1,'sensor4')\n",
    "DataCsv5= ImportCSV('11411715-20160617-103037714.csv',1,'sensor5')\n",
    "DataCsv6= ImportCSV('14011716-20160617-103037714.csv',1,'sensor6')\n",
    "DataCsv7= ImportCSV('14011717-20160617-103037714.csv',1,'sensor7')"
   ]
  },
  {
   "cell_type": "code",
   "execution_count": 14,
   "metadata": {
    "collapsed": true
   },
   "outputs": [],
   "source": [
    "def SearchNAN(array,freq):\n",
    "    diffNum =np.array([])\n",
    "    diffIndex=np.array([])\n",
    "    width = len(array)\n",
    "    for i in range(0,width-1):\n",
    "        if ( array[i+1]-array[i] )!=freq:\n",
    "            diffNum=np.append(diffNum, int(array[i+1]-array[i]) )\n",
    "            diffIndex=np.append(diffIndex,i)\n",
    "    print 'diffNum='+str(diffNum)\n",
    "    print 'diffIndex'+str(diffIndex)"
   ]
  },
  {
   "cell_type": "code",
   "execution_count": 15,
   "metadata": {
    "collapsed": false
   },
   "outputs": [],
   "source": [
    "MemDataCsv1= ImportCSV('mem/mem-14011711-20160617-103038606.csv',1,'MemSensor1')\n",
    "MemDataCsv2= ImportCSV('mem/mem-14011712-20160617-103038627.csv',1,'MemSensor2')\n",
    "MemDataCsv3= ImportCSV('mem/mem-14011713-20160617-103038690.csv',1,'MemSensor3')\n",
    "MemDataCsv4= ImportCSV('mem/mem-14011714-20160617-103038731.csv',1,'MemSensor4')\n",
    "MemDataCsv5= ImportCSV('mem/mem-11411715-20160617-103038767.csv',1,'MemSensor5')\n",
    "MemDataCsv6= ImportCSV('mem/mem-14011716-20160617-103038807.csv',1,'MemSensor6')\n",
    "MemDataCsv7= ImportCSV('mem/mem-14011717-20160617-103037850.csv',1,'MemSensor7')"
   ]
  },
  {
   "cell_type": "code",
   "execution_count": 16,
   "metadata": {
    "collapsed": false
   },
   "outputs": [
    {
     "name": "stdout",
     "output_type": "stream",
     "text": [
      "37838721\n",
      "37838742\n",
      "37838805\n",
      "37838846\n",
      "37838882\n",
      "37838922\n",
      "37837965\n"
     ]
    }
   ],
   "source": [
    "print MemDataCsv1['Time'][0]\n",
    "print MemDataCsv2['Time'][0]\n",
    "print MemDataCsv3['Time'][0]\n",
    "print MemDataCsv4['Time'][0]\n",
    "print MemDataCsv5['Time'][0]\n",
    "print MemDataCsv6['Time'][0]\n",
    "print MemDataCsv7['Time'][0]"
   ]
  },
  {
   "cell_type": "code",
   "execution_count": 17,
   "metadata": {
    "collapsed": false
   },
   "outputs": [
    {
     "name": "stdout",
     "output_type": "stream",
     "text": [
      "37838721\n",
      "37838742\n",
      "37838805\n",
      "37838846\n",
      "37838882\n",
      "37838922\n",
      "37837965\n"
     ]
    }
   ],
   "source": [
    "print DataCsv1['Time'][0]\n",
    "print DataCsv2['Time'][0]\n",
    "print DataCsv3['Time'][0]\n",
    "print DataCsv4['Time'][0]\n",
    "print DataCsv5['Time'][0]\n",
    "print DataCsv6['Time'][0]\n",
    "print DataCsv7['Time'][0]"
   ]
  },
  {
   "cell_type": "markdown",
   "metadata": {
    "collapsed": true
   },
   "source": [
    "**2016-06-20**  \n",
    "Altimaで計測して、メモリダウンロードをしたデータを生データとする。  \n",
    "この生データからウィンドウ幅で切り分けて保存する。\n"
   ]
  },
  {
   "cell_type": "code",
   "execution_count": 18,
   "metadata": {
    "collapsed": false
   },
   "outputs": [],
   "source": [
    "MemTimeArray = [MemDataCsv1['Time'], MemDataCsv2['Time'], MemDataCsv3['Time'], MemDataCsv4['Time'],\n",
    "               MemDataCsv5['Time'], MemDataCsv6['Time'], MemDataCsv7['Time']]"
   ]
  },
  {
   "cell_type": "code",
   "execution_count": 19,
   "metadata": {
    "collapsed": true
   },
   "outputs": [],
   "source": [
    "MemDataArray = [MemDataCsv1, MemDataCsv2, MemDataCsv3, MemDataCsv4, MemDataCsv5, MemDataCsv6, MemDataCsv7]"
   ]
  },
  {
   "cell_type": "code",
   "execution_count": 20,
   "metadata": {
    "collapsed": false
   },
   "outputs": [
    {
     "data": {
      "text/plain": [
       "37838922"
      ]
     },
     "execution_count": 20,
     "metadata": {},
     "output_type": "execute_result"
    }
   ],
   "source": [
    "CalcStartTime(MemTimeArray)"
   ]
  },
  {
   "cell_type": "code",
   "execution_count": null,
   "metadata": {
    "collapsed": true
   },
   "outputs": [],
   "source": []
  },
  {
   "cell_type": "code",
   "execution_count": 21,
   "metadata": {
    "collapsed": false
   },
   "outputs": [
    {
     "name": "stdout",
     "output_type": "stream",
     "text": [
      "start\n",
      "37838922 is much in the index  whose number is 201\n",
      "goal\n",
      "37971170 is much in the index  whose number is 132449\n",
      "start\n",
      "37838922 is much in the index  whose number is 180\n",
      "goal\n",
      "37971170 is much in the index  whose number is 132428\n",
      "start\n",
      "37838922 is much in the index  whose number is 117\n",
      "goal\n",
      "37971170 is much in the index  whose number is 132365\n",
      "start\n",
      "37838922 is much in the index  whose number is 76\n",
      "goal\n",
      "37971170 is much in the index  whose number is 132324\n",
      "start\n",
      "37838922 is much in the index  whose number is 40\n",
      "goal\n",
      "37971170 is much in the index  whose number is 132288\n",
      "start\n",
      "37838922 is much in the index  whose number is 0\n",
      "goal\n",
      "37971170 is much in the index  whose number is 132248\n",
      "start\n",
      "37838922 is much in the index  whose number is 957\n",
      "goal\n",
      "37971170 is much in the index  whose number is 133205\n",
      "(132248,)\n",
      "(132248,)\n",
      "(132248,)\n",
      "(132248,)\n",
      "(132248,)\n",
      "(132248,)\n",
      "(132248,)\n"
     ]
    }
   ],
   "source": [
    "WINDOW = 16\n",
    "\n",
    "startTime = CalcStartTime(MemTimeArray)\n",
    "goalTime = CalcGoalTime(MemTimeArray)\n",
    "\n",
    "startIndex = np.array([])\n",
    "goalIndex = np.array([])\n",
    "\n",
    "for obj in MemTimeArray:\n",
    "    print 'start'\n",
    "    startIndex = np.append(startIndex, CalcSearchIndexFromTime(obj, startTime) ).astype(int)\n",
    "    print 'goal'\n",
    "    goalIndex = np.append(goalIndex, CalcSearchIndexFromTime(obj, goalTime) ).astype(int)\n",
    "\n",
    "tmp={}\n",
    "comMemDataArray = []\n",
    "\n",
    "for i,memDic in enumerate( MemDataArray ):\n",
    "\n",
    "    tmp['AccX'] = memDic['AccX'][startIndex[i]:goalIndex[i]]\n",
    "    tmp['AccY'] = memDic['AccY'][startIndex[i]:goalIndex[i]]\n",
    "    tmp['AccZ'] = memDic['AccZ'][startIndex[i]:goalIndex[i]]\n",
    "    tmp['GyrX'] = memDic['GyrX'][startIndex[i]:goalIndex[i]]\n",
    "    tmp['GyrY'] = memDic['GyrY'][startIndex[i]:goalIndex[i]]\n",
    "    tmp['GyrZ'] = memDic['GyrZ'][startIndex[i]:goalIndex[i]]\n",
    "    tmp['Time'] = memDic['Time'][startIndex[i]:goalIndex[i]]\n",
    "    \n",
    "    tmp['Name'] = memDic['Name']\n",
    "    \n",
    "    if not ( os.path.exists(RestorePath) ):\n",
    "        os.makedirs(RestorePath)\n",
    "    \n",
    "    f = open(RestorePath+tmp['Name']+'.pickle', 'wb')\n",
    "    pickle.dump(tmp,f)\n",
    "    comMemDataArray.append(tmp)\n",
    "    \n",
    "    print str( tmp['AccX'].shape )\n",
    "\n",
    "    "
   ]
  },
  {
   "cell_type": "markdown",
   "metadata": {},
   "source": [
    "だいたい上記のものをクラスとしてまとめれば良いと思う。  \n",
    "問題としては柔軟性のあるクラスにしたい。メソッドを選択して前処理を行うようにする。  \n",
    "すこし構成を考えついてからにする。"
   ]
  },
  {
   "cell_type": "code",
   "execution_count": 22,
   "metadata": {
    "collapsed": false
   },
   "outputs": [
    {
     "data": {
      "text/plain": [
       "7"
      ]
     },
     "execution_count": 22,
     "metadata": {},
     "output_type": "execute_result"
    }
   ],
   "source": [
    "len( comMemDataArray )"
   ]
  },
  {
   "cell_type": "code",
   "execution_count": 23,
   "metadata": {
    "collapsed": false,
    "scrolled": true
   },
   "outputs": [
    {
     "data": {
      "text/plain": [
       "-0.0115"
      ]
     },
     "execution_count": 23,
     "metadata": {},
     "output_type": "execute_result"
    }
   ],
   "source": [
    "comMemDataArray[0]['AccX'][0]"
   ]
  },
  {
   "cell_type": "code",
   "execution_count": 24,
   "metadata": {
    "collapsed": false
   },
   "outputs": [],
   "source": [
    "\"\"\"\n",
    "    dicDataは1つのセンサデータである\n",
    "    また、各データ（加速度、角速度）はすべて(1234,サンプリング周期)となっていること\n",
    "\"\"\"\n",
    "def sliding(dicData,axis,samp):\n",
    "    keys = dicData.keys()\n",
    "    tmp ={}\n",
    "    for i in range( 1,len(keys) ):\n",
    "        tmp[keys[i]] = dicData[keys[i]][axis]\n",
    "\n",
    "    return tmp"
   ]
  },
  {
   "cell_type": "code",
   "execution_count": 25,
   "metadata": {
    "collapsed": false
   },
   "outputs": [
    {
     "data": {
      "text/plain": [
       "{'AccX': -0.0117,\n",
       " 'AccY': -0.0069000000000000008,\n",
       " 'AccZ': 0.97470000000000001,\n",
       " 'GyrX': 0.28999999999999998,\n",
       " 'GyrY': 0.48999999999999999,\n",
       " 'GyrZ': -0.42999999999999999,\n",
       " 'Time': 37838923}"
      ]
     },
     "execution_count": 25,
     "metadata": {},
     "output_type": "execute_result"
    }
   ],
   "source": [
    "sliding(comMemDataArray[0],1,16)"
   ]
  },
  {
   "cell_type": "code",
   "execution_count": 26,
   "metadata": {
    "collapsed": false
   },
   "outputs": [],
   "source": [
    "\"\"\"\n",
    "    precond は１つのセンサデータ\n",
    "        例として、（8625,16)の配列\n",
    "    windowはウィンドウ幅\n",
    "\"\"\"\n",
    "def CalcFFT(precond,samp):\n",
    "    tmp = {}\n",
    "    output = []\n",
    "    for i in range( len(precond) ):\n",
    "        w = sliding(precond,i,samp)\n",
    "        tmp['AccX'] = np.array(fftpack.fft(w['AccX'])[1:(samp/2)+1])\n",
    "        tmp['AccY'] = np.array(fftpack.fft(w['AccY'])[1:(samp/2)+1])\n",
    "        tmp['AccZ'] = np.array(fftpack.fft(w['AccZ'])[1:(samp/2)+1])\n",
    "        tmp['GyrX'] = np.array(fftpack.fft(w['GyrX'])[1:(samp/2)+1])\n",
    "        tmp['GyrY'] = np.array(fftpack.fft(w['GyrY'])[1:(samp/2)+1])\n",
    "        tmp['GyrZ'] = np.array(fftpack.fft(w['GyrZ'])[1:(samp/2)+1])\n",
    "        output.append(tmp)\n",
    "    return output"
   ]
  },
  {
   "cell_type": "markdown",
   "metadata": {
    "collapsed": true
   },
   "source": [
    "**2016-06-21**  \n",
    "昨日の最後にやっていたプログラムもといコーディング改める\n",
    "\n",
    "'前提条件'として、メモリダウンロードしたものには欠損がないので"
   ]
  },
  {
   "cell_type": "code",
   "execution_count": 27,
   "metadata": {
    "collapsed": true
   },
   "outputs": [],
   "source": [
    "import numpy as np\n",
    "import pandas as pd\n",
    "from scipy import fftpack\n",
    "from scipy import signal\n",
    "import time\n",
    "import os\n",
    "import matplotlib.pyplot as plt\n",
    "import pickle\n",
    "import copy\n",
    "%matplotlib inline"
   ]
  },
  {
   "cell_type": "markdown",
   "metadata": {},
   "source": [
    "1. まずは、計測データのCSVファイルを読み込む"
   ]
  },
  {
   "cell_type": "markdown",
   "metadata": {},
   "source": [
    "定義  \n",
    "加速度データを　[0.1mG]=>[G]  \n",
    "角速度データを　[0.01dps]=>[dps]  \n"
   ]
  },
  {
   "cell_type": "code",
   "execution_count": 28,
   "metadata": {
    "collapsed": false
   },
   "outputs": [],
   "source": [
    "'''\n",
    "csvFilePath -> ファイル名\n",
    "mode Round -> 四捨五入\n",
    "     Roundup -> 切り上げ\n",
    "     Rounddown -> 切り捨て\n",
    "'''\n",
    "def ImportCSV(csvFilePath,freq,sensorName,mode='Round'):\n",
    "        # data dictionary \n",
    "        outPutData={}   \n",
    "        \n",
    "        \n",
    "        # design dataframe and import csv\n",
    "        df = pd.read_csv(csvFilePath)\n",
    "        df.columns=[u'Type',u'Time',u'AccX',u'AccY',u'AccZ',u'GyrX',u'GyrY',u'GyrZ']\n",
    "        df = df[ df['Type']=='ags']\n",
    "        \n",
    "        # convert numpy.darray \n",
    "        # Acc Data  [0.1mG]=>[G]\n",
    "        mg2g = lambda x : x*0.0001\n",
    "\n",
    "        # Gyr Data  [0.01dps]=>[dps]   ...dps=degree per second\n",
    "        mdps2dps = lambda x: x*0.01\n",
    "        \n",
    "        AccX= mg2g(df.AccX.values)\n",
    "        AccY= mg2g(df.AccY.values)\n",
    "        AccZ= mg2g(df.AccZ.values)\n",
    "        \n",
    "        GyrX= mdps2dps(df.GyrX.values)\n",
    "        GyrY= mdps2dps(df.GyrY.values)\n",
    "        GyrZ= mdps2dps(df.GyrZ.values)\n",
    "        \n",
    "        # regist each raw data \n",
    "        outPutData['AccX'] = AccX\n",
    "        outPutData['AccY'] = AccY\n",
    "        outPutData['AccZ'] = AccZ\n",
    "        outPutData['GyrX'] = GyrX\n",
    "        outPutData['GyrY'] = GyrY\n",
    "        outPutData['GyrZ'] = GyrZ\n",
    "        outPutData['Name'] = sensorName\n",
    "        \n",
    "        # import time by using numpy\n",
    "        time = df.Time.values #時間の列だけを抽出       \n",
    "        \n",
    "        if mode == 'Roundup':\n",
    "            _round = lambda x: int(x/freq)*freq\n",
    "        elif mode == 'Rounddown':\n",
    "            _round = lambda x: int(x/freq)*freq\n",
    "        elif mode == 'Round':\n",
    "            _round = lambda x: int((x+freq/2)/freq)*freq\n",
    "        #ERROR\n",
    "        else:\n",
    "            print 'check mode and inputed word is caused error'\n",
    "            return -1\n",
    "        \n",
    "        output = map(_round,time)\n",
    "        outPutData['Time'] = np.array(output)\n",
    "\n",
    "        return outPutData\n",
    "            "
   ]
  },
  {
   "cell_type": "code",
   "execution_count": 29,
   "metadata": {
    "collapsed": false
   },
   "outputs": [],
   "source": [
    "inputData1= ImportCSV('mem/mem-14011711-20160617-103038606.csv',1,'MemSensor1')\n",
    "inputData2= ImportCSV('mem/mem-14011712-20160617-103038627.csv',1,'MemSensor2')\n",
    "inputData3= ImportCSV('mem/mem-14011713-20160617-103038690.csv',1,'MemSensor3')\n",
    "inputData4= ImportCSV('mem/mem-14011714-20160617-103038731.csv',1,'MemSensor4')\n",
    "inputData5= ImportCSV('mem/mem-11411715-20160617-103038767.csv',1,'MemSensor5')\n",
    "inputData6= ImportCSV('mem/mem-14011716-20160617-103038807.csv',1,'MemSensor6')\n",
    "inputData7= ImportCSV('mem/mem-14011717-20160617-103037850.csv',1,'MemSensor7')"
   ]
  },
  {
   "cell_type": "markdown",
   "metadata": {},
   "source": [
    "2. 共通区間のスタート時間、ゴール時間を求めてから\n",
    "3. 共通区間を導出する"
   ]
  },
  {
   "cell_type": "code",
   "execution_count": 30,
   "metadata": {
    "collapsed": true
   },
   "outputs": [],
   "source": [
    "\"\"\"\n",
    "    dic　辞書型のリスト\n",
    "\"\"\"\n",
    "def CalcStartTime(dic):\n",
    "    MAX = min(dic[0]['Time'])\n",
    "    \n",
    "    for i in range(len(dic)):\n",
    "        if MAX < min(dic[i]['Time']):\n",
    "            MAX = min(dic[i]['Time'])\n",
    "     \n",
    "    return  MAX"
   ]
  },
  {
   "cell_type": "code",
   "execution_count": 31,
   "metadata": {
    "collapsed": true
   },
   "outputs": [],
   "source": [
    "\"\"\"\n",
    "    dic　辞書型のリスト\n",
    "\"\"\"\n",
    "def CalcGoalTime(dic):\n",
    "    MIN = max(dic[0]['Time'])\n",
    "    \n",
    "    for i in range(len(dic)):\n",
    "        if MIN > max(dic[i]['Time']):\n",
    "            MIN = max(dic[i]['Time'])\n",
    "     \n",
    "    return  MIN"
   ]
  },
  {
   "cell_type": "code",
   "execution_count": 32,
   "metadata": {
    "collapsed": true
   },
   "outputs": [],
   "source": [
    "\"\"\"\n",
    "    data　辞書型\n",
    "    keyTime data['Time']の中の探す値\n",
    "\"\"\"\n",
    "def CalcSearchIndexFromTime(data, keyTime):\n",
    "    count = 0\n",
    "    for i in range(0, len(data['Time'])):\n",
    "        if keyTime == data['Time'][i]:\n",
    "            print str(keyTime)+' is much in the index  whose number is '+str(i)\n",
    "            return i"
   ]
  },
  {
   "cell_type": "code",
   "execution_count": 33,
   "metadata": {
    "collapsed": true
   },
   "outputs": [],
   "source": [
    "# 保存する場所\n",
    "RestorePath = WORKSPACE_PATH+'/raw/'"
   ]
  },
  {
   "cell_type": "code",
   "execution_count": 34,
   "metadata": {
    "collapsed": true
   },
   "outputs": [],
   "source": [
    "# name name.pickle = reservedName \n",
    "def SaveDicDataFromFilePickle(name,data):\n",
    "    f = open(name+'.pickle', 'wb')\n",
    "    pickle.dump(data,f)\n",
    "    f.close()"
   ]
  },
  {
   "cell_type": "code",
   "execution_count": 35,
   "metadata": {
    "collapsed": true
   },
   "outputs": [],
   "source": [
    "# name name.pickle = reservedName \n",
    "def SaveDicDataFromFileNPZ(name,data):\n",
    "    np.savez(name, data=data)"
   ]
  },
  {
   "cell_type": "code",
   "execution_count": 36,
   "metadata": {
    "collapsed": false
   },
   "outputs": [],
   "source": [
    "def MakeCommonSection(inputDataArray):\n",
    "    # 共通区間のスタート時間、ゴール時間を求める\n",
    "    startTime = CalcStartTime(inputDataArray)\n",
    "    goalTime = CalcGoalTime(inputDataArray)\n",
    "\n",
    "    # 共通区間のスタート時間のインデックス、ゴール時間のインデックスを探索する\n",
    "    startIndex = np.array([])\n",
    "    goalIndex = np.array([])\n",
    "    for obj in inputDataArray:\n",
    "        print 'start'\n",
    "        startIndex = np.append(startIndex, CalcSearchIndexFromTime(obj, startTime) ).astype(int)\n",
    "        print 'goal'\n",
    "        goalIndex = np.append(goalIndex, CalcSearchIndexFromTime(obj, goalTime) ).astype(int)\n",
    "\n",
    "    tmp={}\n",
    "    comDataArray =[]\n",
    "    key={}\n",
    "\n",
    "    # センサデータすべて（時刻、加速度、角速度）に対して共通区間のみのデータを抽出\n",
    "    for number,iDA in enumerate( inputDataArray ):\n",
    "\n",
    "        tmp['AccX'] = copy.deepcopy( iDA['AccX'][startIndex[number]:goalIndex[number]] )\n",
    "        tmp['AccY'] = copy.deepcopy( iDA['AccY'][startIndex[number]:goalIndex[number]] )\n",
    "        tmp['AccZ'] = copy.deepcopy( iDA['AccZ'][startIndex[number]:goalIndex[number]] )\n",
    "        tmp['GyrX'] = copy.deepcopy( iDA['GyrX'][startIndex[number]:goalIndex[number]] )\n",
    "        tmp['GyrY'] = copy.deepcopy( iDA['GyrY'][startIndex[number]:goalIndex[number]] )\n",
    "        tmp['GyrZ'] = copy.deepcopy( iDA['GyrZ'][startIndex[number]:goalIndex[number]] )\n",
    "        tmp['Time'] = copy.deepcopy( iDA['Time'][startIndex[number]:goalIndex[number]] )\n",
    "        tmp['Name'] = copy.deepcopy( iDA['Name'] )\n",
    "        comDataArray.append(copy.deepcopy(tmp) )    \n",
    "        key[ tmp['Name'] ] = number\n",
    "        \n",
    "        # restore dictionary data\n",
    "        if not ( os.path.exists(RestorePath) ): os.makedirs(RestorePath)\n",
    "        SaveDicDataFromFileNPZ(RestorePath+tmp['Name'],tmp)\n",
    "        \n",
    "    return key,comDataArray"
   ]
  },
  {
   "cell_type": "code",
   "execution_count": 37,
   "metadata": {
    "collapsed": false
   },
   "outputs": [],
   "source": [
    "DataArray=[inputData1, inputData2, inputData3, inputData4, inputData5, inputData6, inputData7 ]"
   ]
  },
  {
   "cell_type": "code",
   "execution_count": 38,
   "metadata": {
    "collapsed": false
   },
   "outputs": [
    {
     "name": "stdout",
     "output_type": "stream",
     "text": [
      "start\n",
      "37838922 is much in the index  whose number is 201\n",
      "goal\n",
      "37971170 is much in the index  whose number is 132449\n",
      "start\n",
      "37838922 is much in the index  whose number is 180\n",
      "goal\n",
      "37971170 is much in the index  whose number is 132428\n",
      "start\n",
      "37838922 is much in the index  whose number is 117\n",
      "goal\n",
      "37971170 is much in the index  whose number is 132365\n",
      "start\n",
      "37838922 is much in the index  whose number is 76\n",
      "goal\n",
      "37971170 is much in the index  whose number is 132324\n",
      "start\n",
      "37838922 is much in the index  whose number is 40\n",
      "goal\n",
      "37971170 is much in the index  whose number is 132288\n",
      "start\n",
      "37838922 is much in the index  whose number is 0\n",
      "goal\n",
      "37971170 is much in the index  whose number is 132248\n",
      "start\n",
      "37838922 is much in the index  whose number is 957\n",
      "goal\n",
      "37971170 is much in the index  whose number is 133205\n"
     ]
    },
    {
     "data": {
      "text/plain": [
       "({'MemSensor1': 0,\n",
       "  'MemSensor2': 1,\n",
       "  'MemSensor3': 2,\n",
       "  'MemSensor4': 3,\n",
       "  'MemSensor5': 4,\n",
       "  'MemSensor6': 5,\n",
       "  'MemSensor7': 6},\n",
       " [{'AccX': array([-0.0169, -0.0137, -0.0203, ...,  0.0576,  0.0527,  0.0502]),\n",
       "   'AccY': array([-0.0102, -0.0158, -0.0175, ...,  0.0316,  0.0308,  0.0328]),\n",
       "   'AccZ': array([ 0.955 ,  0.9553,  0.9362, ...,  0.9296,  0.9257,  0.9309]),\n",
       "   'GyrX': array([ 0.7 ,  0.86,  0.8 , ...,  0.45,  0.6 ,  0.6 ]),\n",
       "   'GyrY': array([-0.45, -0.6 , -0.71, ..., -0.75, -0.74, -0.82]),\n",
       "   'GyrZ': array([-0.4 , -0.38, -0.4 , ..., -0.48, -0.51, -0.49]),\n",
       "   'Name': 'MemSensor1',\n",
       "   'Time': array([37838922, 37838923, 37838924, ..., 37971167, 37971168, 37971169])},\n",
       "  {'AccX': array([-0.0262, -0.0192, -0.0218, ...,  0.035 ,  0.0328,  0.0358]),\n",
       "   'AccY': array([-0.01  , -0.0083, -0.0047, ...,  0.039 ,  0.042 ,  0.0378]),\n",
       "   'AccZ': array([ 0.9787,  0.9792,  0.976 , ...,  0.9557,  0.9545,  0.9557]),\n",
       "   'GyrX': array([-0.31, -0.43, -0.31, ..., -0.45, -0.59, -0.59]),\n",
       "   'GyrY': array([-0.13,  0.04,  0.01, ..., -0.31, -0.36, -0.36]),\n",
       "   'GyrZ': array([ 0.31,  0.47,  0.46, ...,  0.2 ,  0.26,  0.34]),\n",
       "   'Name': 'MemSensor2',\n",
       "   'Time': array([37838922, 37838923, 37838924, ..., 37971167, 37971168, 37971169])},\n",
       "  {'AccX': array([-0.0177, -0.0221, -0.0172, ...,  0.0401,  0.0404,  0.0443]),\n",
       "   'AccY': array([ 0.0009,  0.0038, -0.0057, ...,  0.0541,  0.0558,  0.0527]),\n",
       "   'AccZ': array([ 0.9973,  0.9917,  0.992 , ...,  0.9619,  0.9583,  0.9529]),\n",
       "   'GyrX': array([ 0.57,  0.71,  0.64, ...,  0.35,  0.42,  0.34]),\n",
       "   'GyrY': array([-0.84,  1.74, -1.91, ..., -0.33, -0.55, -0.72]),\n",
       "   'GyrZ': array([ 0.04,  0.14, -0.2 , ..., -0.2 , -0.2 , -0.23]),\n",
       "   'Name': 'MemSensor3',\n",
       "   'Time': array([37838922, 37838923, 37838924, ..., 37971167, 37971168, 37971169])},\n",
       "  {'AccX': array([-0.025 , -0.0233, -0.0158, ...,  0.0397,  0.0438,  0.0465]),\n",
       "   'AccY': array([-0.0206, -0.0199, -0.0182, ...,  0.0389,  0.0387,  0.036 ]),\n",
       "   'AccZ': array([ 0.9918,  0.9805,  0.9764, ...,  0.9508,  0.9468,  0.9493]),\n",
       "   'GyrX': array([-0.32, -0.25, -0.31, ..., -0.23, -0.22, -0.2 ]),\n",
       "   'GyrY': array([ 1.51,  0.09, -1.86, ..., -0.72, -0.82, -0.88]),\n",
       "   'GyrZ': array([-0.06,  0.02,  0.05, ...,  0.05, -0.02,  0.05]),\n",
       "   'Name': 'MemSensor4',\n",
       "   'Time': array([37838922, 37838923, 37838924, ..., 37971167, 37971168, 37971169])},\n",
       "  {'AccX': array([-0.0237, -0.0249, -0.0198, ...,  0.0373,  0.0403,  0.041 ]),\n",
       "   'AccY': array([-0.0059, -0.0023, -0.0018, ...,  0.0461,  0.0426,  0.048 ]),\n",
       "   'AccZ': array([ 0.9872,  0.9903,  0.9837, ...,  0.972 ,  0.9745,  0.9723]),\n",
       "   'GyrX': array([ 0.27,  0.13,  0.12, ..., -0.2 , -0.19, -0.17]),\n",
       "   'GyrY': array([ 2.69, -0.14, -0.92, ...,  0.15,  0.25,  0.36]),\n",
       "   'GyrZ': array([-0.24, -0.22, -0.13, ..., -0.15, -0.25, -0.38]),\n",
       "   'Name': 'MemSensor5',\n",
       "   'Time': array([37838922, 37838923, 37838924, ..., 37971167, 37971168, 37971169])},\n",
       "  {'AccX': array([-0.0088, -0.0107, -0.0076, ...,  0.041 ,  0.042 ,  0.0471]),\n",
       "   'AccY': array([ 0.0049,  0.008 ,  0.0102, ...,  0.0554,  0.0471,  0.0486]),\n",
       "   'AccZ': array([ 0.9667,  0.9594,  0.945 , ...,  0.9423,  0.9445,  0.9386]),\n",
       "   'GyrX': array([ 0.65,  0.85,  0.8 , ...,  0.33,  0.3 ,  0.36]),\n",
       "   'GyrY': array([ 0.39,  0.36,  0.23, ...,  0.1 ,  0.08, -0.09]),\n",
       "   'GyrZ': array([-1.01, -1.16, -1.07, ..., -0.61, -0.64, -0.72]),\n",
       "   'Name': 'MemSensor6',\n",
       "   'Time': array([37838922, 37838923, 37838924, ..., 37971167, 37971168, 37971169])},\n",
       "  {'AccX': array([-0.0115, -0.0117, -0.0162, ...,  0.0523,  0.0447,  0.0452]),\n",
       "   'AccY': array([-0.0049, -0.0069, -0.0022, ...,  0.0575,  0.0507,  0.0516]),\n",
       "   'AccZ': array([ 0.9867,  0.9747,  0.9789, ...,  0.9603,  0.9537,  0.9555]),\n",
       "   'GyrX': array([ 0.23,  0.29,  0.41, ...,  0.32,  0.34,  0.22]),\n",
       "   'GyrY': array([ 0.48,  0.49,  0.43, ..., -0.07, -0.01, -0.04]),\n",
       "   'GyrZ': array([-0.37, -0.43, -0.44, ..., -0.44, -0.29, -0.38]),\n",
       "   'Name': 'MemSensor7',\n",
       "   'Time': array([37838922, 37838923, 37838924, ..., 37971167, 37971168, 37971169])}])"
      ]
     },
     "execution_count": 38,
     "metadata": {},
     "output_type": "execute_result"
    }
   ],
   "source": [
    "MakeCommonSection(DataArray)"
   ]
  },
  {
   "cell_type": "code",
   "execution_count": 39,
   "metadata": {
    "collapsed": true
   },
   "outputs": [],
   "source": [
    "\"\"\"\n",
    "    key dicListの配列番号とdicの名前をつなげる配列\n",
    "    dicList 辞書型のデータをまとめたリスト\n",
    "    search 検索するセンサの名前\n",
    "\"\"\"\n",
    "def GetDicDataFromList(key,dicList,search):\n",
    "    i = key[search]\n",
    "    return dicList[i]"
   ]
  },
  {
   "cell_type": "code",
   "execution_count": 40,
   "metadata": {
    "collapsed": false
   },
   "outputs": [],
   "source": [
    "\"\"\"\n",
    "    loadName ロードするファイル名\n",
    "\"\"\"\n",
    "def LoadDicDataFromFilePickle(loadName):\n",
    "    f = open(loadName+'.pickle')\n",
    "    dicData = copy.deepcopy( pickle.load(f) )\n",
    "    f.close()\n",
    "    return dicData"
   ]
  },
  {
   "cell_type": "code",
   "execution_count": 41,
   "metadata": {
    "collapsed": true
   },
   "outputs": [],
   "source": [
    "\"\"\"\n",
    "    loadName ロードするファイル名\n",
    "\"\"\"\n",
    "def LoadDicDataFromFileNPZ(loadName):\n",
    "    arrays = np.load(loadName+'.npz')\n",
    "    output = arrays['data'][()]\n",
    "    return output"
   ]
  },
  {
   "cell_type": "code",
   "execution_count": 42,
   "metadata": {
    "collapsed": true
   },
   "outputs": [],
   "source": [
    "\"\"\"\n",
    "    search 検索するセンサの名前\n",
    "\"\"\"\n",
    "def LoadDicDataFromFile(search):\n",
    "    f = open(search+'.pickle')\n",
    "    dicData = copy.deepcopy( pickle.load(f) )\n",
    "    f.close()\n",
    "    return dicData"
   ]
  },
  {
   "cell_type": "code",
   "execution_count": 43,
   "metadata": {
    "collapsed": false,
    "scrolled": true
   },
   "outputs": [
    {
     "name": "stdout",
     "output_type": "stream",
     "text": [
      "start\n",
      "37838922 is much in the index  whose number is 201\n",
      "goal\n",
      "37971170 is much in the index  whose number is 132449\n",
      "start\n",
      "37838922 is much in the index  whose number is 180\n",
      "goal\n",
      "37971170 is much in the index  whose number is 132428\n",
      "start\n",
      "37838922 is much in the index  whose number is 117\n",
      "goal\n",
      "37971170 is much in the index  whose number is 132365\n",
      "start\n",
      "37838922 is much in the index  whose number is 76\n",
      "goal\n",
      "37971170 is much in the index  whose number is 132324\n",
      "start\n",
      "37838922 is much in the index  whose number is 40\n",
      "goal\n",
      "37971170 is much in the index  whose number is 132288\n",
      "start\n",
      "37838922 is much in the index  whose number is 0\n",
      "goal\n",
      "37971170 is much in the index  whose number is 132248\n",
      "start\n",
      "37838922 is much in the index  whose number is 957\n",
      "goal\n",
      "37971170 is much in the index  whose number is 133205\n"
     ]
    },
    {
     "data": {
      "text/plain": [
       "{'AccX': array([-0.0237, -0.0249, -0.0198, ...,  0.0373,  0.0403,  0.041 ]),\n",
       " 'AccY': array([-0.0059, -0.0023, -0.0018, ...,  0.0461,  0.0426,  0.048 ]),\n",
       " 'AccZ': array([ 0.9872,  0.9903,  0.9837, ...,  0.972 ,  0.9745,  0.9723]),\n",
       " 'GyrX': array([ 0.27,  0.13,  0.12, ..., -0.2 , -0.19, -0.17]),\n",
       " 'GyrY': array([ 2.69, -0.14, -0.92, ...,  0.15,  0.25,  0.36]),\n",
       " 'GyrZ': array([-0.24, -0.22, -0.13, ..., -0.15, -0.25, -0.38]),\n",
       " 'Name': 'MemSensor5',\n",
       " 'Time': array([37838922, 37838923, 37838924, ..., 37971167, 37971168, 37971169])}"
      ]
     },
     "execution_count": 43,
     "metadata": {},
     "output_type": "execute_result"
    }
   ],
   "source": [
    "key, dicList=MakeCommonSection(DataArray)\n",
    "GetDicDataFromList(key,dicList,'MemSensor5')"
   ]
  },
  {
   "cell_type": "code",
   "execution_count": 44,
   "metadata": {
    "collapsed": false
   },
   "outputs": [
    {
     "data": {
      "text/plain": [
       "{'AccX': array([-0.0237, -0.0249, -0.0198, ...,  0.0373,  0.0403,  0.041 ]),\n",
       " 'AccY': array([-0.0059, -0.0023, -0.0018, ...,  0.0461,  0.0426,  0.048 ]),\n",
       " 'AccZ': array([ 0.9872,  0.9903,  0.9837, ...,  0.972 ,  0.9745,  0.9723]),\n",
       " 'GyrX': array([ 0.27,  0.13,  0.12, ..., -0.2 , -0.19, -0.17]),\n",
       " 'GyrY': array([ 2.69, -0.14, -0.92, ...,  0.15,  0.25,  0.36]),\n",
       " 'GyrZ': array([-0.24, -0.22, -0.13, ..., -0.15, -0.25, -0.38]),\n",
       " 'Name': 'MemSensor5',\n",
       " 'Time': array([37838922, 37838923, 37838924, ..., 37971167, 37971168, 37971169])}"
      ]
     },
     "execution_count": 44,
     "metadata": {},
     "output_type": "execute_result"
    }
   ],
   "source": [
    "dicList[4]"
   ]
  },
  {
   "cell_type": "code",
   "execution_count": 45,
   "metadata": {
    "collapsed": false
   },
   "outputs": [
    {
     "data": {
      "text/plain": [
       "{'AccX': array([-0.0237, -0.0249, -0.0198, ...,  0.0373,  0.0403,  0.041 ]),\n",
       " 'AccY': array([-0.0059, -0.0023, -0.0018, ...,  0.0461,  0.0426,  0.048 ]),\n",
       " 'AccZ': array([ 0.9872,  0.9903,  0.9837, ...,  0.972 ,  0.9745,  0.9723]),\n",
       " 'GyrX': array([ 0.27,  0.13,  0.12, ..., -0.2 , -0.19, -0.17]),\n",
       " 'GyrY': array([ 2.69, -0.14, -0.92, ...,  0.15,  0.25,  0.36]),\n",
       " 'GyrZ': array([-0.24, -0.22, -0.13, ..., -0.15, -0.25, -0.38]),\n",
       " 'Name': 'MemSensor5',\n",
       " 'Time': array([37838922, 37838923, 37838924, ..., 37971167, 37971168, 37971169])}"
      ]
     },
     "execution_count": 45,
     "metadata": {},
     "output_type": "execute_result"
    }
   ],
   "source": [
    "LoadDicDataFromFilePickle(RestorePath+'MemSensor5')"
   ]
  },
  {
   "cell_type": "code",
   "execution_count": 46,
   "metadata": {
    "collapsed": false
   },
   "outputs": [
    {
     "data": {
      "text/plain": [
       "{'AccX': array([-0.0237, -0.0249, -0.0198, ...,  0.0373,  0.0403,  0.041 ]),\n",
       " 'AccY': array([-0.0059, -0.0023, -0.0018, ...,  0.0461,  0.0426,  0.048 ]),\n",
       " 'AccZ': array([ 0.9872,  0.9903,  0.9837, ...,  0.972 ,  0.9745,  0.9723]),\n",
       " 'GyrX': array([ 0.27,  0.13,  0.12, ..., -0.2 , -0.19, -0.17]),\n",
       " 'GyrY': array([ 2.69, -0.14, -0.92, ...,  0.15,  0.25,  0.36]),\n",
       " 'GyrZ': array([-0.24, -0.22, -0.13, ..., -0.15, -0.25, -0.38]),\n",
       " 'Name': 'MemSensor5',\n",
       " 'Time': array([37838922, 37838923, 37838924, ..., 37971167, 37971168, 37971169])}"
      ]
     },
     "execution_count": 46,
     "metadata": {},
     "output_type": "execute_result"
    }
   ],
   "source": [
    "LoadDicDataFromFileNPZ(RestorePath+'MemSensor5')"
   ]
  },
  {
   "cell_type": "markdown",
   "metadata": {},
   "source": [
    "これから、特徴抽出についてのコーディングを行う  \n",
    "入力は現在２つ考えている。前処理で生成した変数を渡す、もしくはpickleのデータを読み込む\n",
    "出力は、今のところ辞書型を考えている。構造は以下のとおりと予定する。\n",
    "- Sensor1\n",
    " - FFT\n",
    " - PowerSpectol\n",
    "- Sensor2\n",
    " - FFT\n",
    " - PowerSpectol"
   ]
  },
  {
   "cell_type": "markdown",
   "metadata": {
    "collapsed": true
   },
   "source": [
    "**2016-06-24**  \n",
    "今日の目標は特徴ベクトルつまり、Kerasにデータを渡すためのデータの形を考え決める\n",
    "そして、実装することである。  \n",
    "午前中に計測したデータをAutoEncoderにかけたい。windowに変換するのはできるがそこから\n",
    "どのようにしたらいいのかがわからない。　　\n",
    "対策としては、データの構造を固定できないのであれば逆の発送でどのようなデータ構造にも\n",
    "柔軟に対応できるようにすればいいかもしれない。\n",
    "\n",
    "食わすケースを考えてみる　　\n",
    "1. １つのセンサデータをすべて渡す\n",
    "2. 2以上のセンサデータをすべて渡す\n",
    "3. あるセンサの加速度、もしくは角速度のみを渡す\n",
    "4. 3の複数形\n",
    "5. あるセンサのFFT、Powerのすべてをわたす\n",
    "6. 5の複数形\n",
    "7. あるセンサの生データ、FFT、Powerわたす"
   ]
  },
  {
   "cell_type": "code",
   "execution_count": 50,
   "metadata": {
    "collapsed": false
   },
   "outputs": [
    {
     "data": {
      "text/plain": [
       "[array([ 0.0043,  0.0021, -0.0027, ...,  0.0461,  0.0485,  0.0458]),\n",
       " array([-0.0268, -0.0263, -0.0342, ...,  0.0377,  0.0377,  0.0369]),\n",
       " array([ 0.9306,  0.8986,  0.9028, ...,  0.9235,  0.9187,  0.9243]),\n",
       " array([ 1.11,  0.91,  0.92, ...,  0.44,  0.39,  0.44]),\n",
       " array([-0.6 , -0.57, -0.69, ..., -0.92, -0.89, -0.79]),\n",
       " array([-0.31, -0.31, -0.34, ..., -0.32, -0.4 , -0.55])]"
      ]
     },
     "execution_count": 50,
     "metadata": {},
     "output_type": "execute_result"
    }
   ],
   "source": [
    "# １つのセンサのデータをautoencderにくわす\n",
    "seed = []\n",
    "seed.append(MemDataCsv1['AccX'])\n",
    "seed.append(MemDataCsv1['AccY'])\n",
    "seed.append(MemDataCsv1['AccZ'])\n",
    "seed.append(MemDataCsv1['GyrX'])\n",
    "seed.append(MemDataCsv1['GyrY'])\n",
    "seed.append(MemDataCsv1['GyrZ'])\n",
    "seed"
   ]
  },
  {
   "cell_type": "code",
   "execution_count": null,
   "metadata": {
    "collapsed": true
   },
   "outputs": [],
   "source": []
  }
 ],
 "metadata": {
  "kernelspec": {
   "display_name": "Python 2",
   "language": "python",
   "name": "python2"
  },
  "language_info": {
   "codemirror_mode": {
    "name": "ipython",
    "version": 2
   },
   "file_extension": ".py",
   "mimetype": "text/x-python",
   "name": "python",
   "nbconvert_exporter": "python",
   "pygments_lexer": "ipython2",
   "version": "2.7.11"
  }
 },
 "nbformat": 4,
 "nbformat_minor": 0
}
