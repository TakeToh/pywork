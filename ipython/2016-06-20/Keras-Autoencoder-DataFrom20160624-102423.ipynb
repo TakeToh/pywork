{
 "cells": [
  {
   "cell_type": "code",
   "execution_count": 1,
   "metadata": {
    "collapsed": true
   },
   "outputs": [],
   "source": [
    "import numpy as np\n",
    "import pandas as pd\n",
    "from scipy import fftpack\n",
    "from scipy import signal\n",
    "import time\n",
    "import os\n",
    "import matplotlib.pyplot as plt\n",
    "import pickle\n",
    "import copy\n",
    "%matplotlib inline"
   ]
  },
  {
   "cell_type": "code",
   "execution_count": 2,
   "metadata": {
    "collapsed": true
   },
   "outputs": [],
   "source": [
    "WORKSPACE_PATH = '/home/takeyama/workspace/pywork/ipython/2016-06-20'"
   ]
  },
  {
   "cell_type": "code",
   "execution_count": 3,
   "metadata": {
    "collapsed": true
   },
   "outputs": [],
   "source": [
    "RestorePath = WORKSPACE_PATH+'/raw/'"
   ]
  },
  {
   "cell_type": "code",
   "execution_count": 4,
   "metadata": {
    "collapsed": false
   },
   "outputs": [
    {
     "name": "stdout",
     "output_type": "stream",
     "text": [
      "/home/takeyama/Documents/ALTIMA/20160624-102423\n"
     ]
    }
   ],
   "source": [
    "cd ~/Documents/ALTIMA/20160624-102423/"
   ]
  },
  {
   "cell_type": "code",
   "execution_count": 5,
   "metadata": {
    "collapsed": true
   },
   "outputs": [],
   "source": [
    "'''\n",
    "csv_file -> ファイル名\n",
    "mode Round -> 四捨五入\n",
    "     Roundup -> 切り上げ\n",
    "     Rounddown -> 切り捨て\n",
    "'''\n",
    "def ImportCSV(csv_file,freq,SensorName,mode='Round'):\n",
    "        # data dictionary \n",
    "        RawData={}   \n",
    "        \n",
    "        # design dataframe and import csv\n",
    "        data = pd.read_csv(csv_file)\n",
    "        data.columns=[u'Type',u'Time',u'AccX',u'AccY',u'AccZ',u'GyrX',u'GyrY',u'GyrZ']\n",
    "        data = data[ data['Type']=='ags']\n",
    "        \n",
    "        # convert numpy.darray \n",
    "        # Acc Data  [0.1mG]=>[G]\n",
    "        # Gyr Data  [0.01dps]=>[dps]   ...dps=degree per second\n",
    "        AccX=data.AccX.values*0.0001\n",
    "        AccY=data.AccY.values*0.0001\n",
    "        AccZ=data.AccZ.values*0.0001\n",
    "        GyrX=data.GyrX.values*0.01\n",
    "        GyrY=data.GyrY.values*0.01\n",
    "        GyrZ=data.GyrZ.values*0.01\n",
    "        \n",
    "        # regist each raw data \n",
    "        RawData['AccX'] = AccX\n",
    "        RawData['AccY'] = AccY\n",
    "        RawData['AccZ'] = AccZ\n",
    "        RawData['GyrX'] = GyrX\n",
    "        RawData['GyrY'] = GyrY\n",
    "        RawData['GyrZ'] = GyrZ\n",
    "        RawData['Name'] = SensorName\n",
    "        \n",
    "        # import time by using numpy\n",
    "        time = data.Time.values #時間の列だけを抽出       \n",
    "        \n",
    "        if mode == 'Roundup':\n",
    "            func = lambda x: int(x/freq)*freq\n",
    "        elif mode == 'Rounddown':\n",
    "            func = lambda x: int(x/freq)*freq\n",
    "        elif mode == 'Round':\n",
    "            func = lambda x: int((x+freq/2)/freq)*freq\n",
    "        #ERROR\n",
    "        else:\n",
    "            print 'check mode and inputed word is caused error'\n",
    "            return -1\n",
    "        \n",
    "        output = map(func,time)\n",
    "        RawData['Time'] = np.array(output)\n",
    "\n",
    "        return RawData\n",
    "            "
   ]
  },
  {
   "cell_type": "code",
   "execution_count": 6,
   "metadata": {
    "collapsed": true
   },
   "outputs": [],
   "source": [
    "def CalcStartTime(array):\n",
    "    MAX = min(array[0])\n",
    "    \n",
    "    for i in range(len(array)):\n",
    "        if MAX < min(array[i]):\n",
    "            MAX = min(array[i])\n",
    "     \n",
    "    return  MAX"
   ]
  },
  {
   "cell_type": "code",
   "execution_count": 7,
   "metadata": {
    "collapsed": true
   },
   "outputs": [],
   "source": [
    "def CalcGoalTime(array):\n",
    "    MIN = max(array[0])\n",
    "    \n",
    "    for i in range(len(array)):\n",
    "        if MIN > max(array[i]):\n",
    "            MIN = max(array[i])\n",
    "     \n",
    "    return  MIN"
   ]
  },
  {
   "cell_type": "code",
   "execution_count": 8,
   "metadata": {
    "collapsed": true
   },
   "outputs": [],
   "source": [
    "\"\"\"\n",
    "    checkData に入れるものは辞書型にする\n",
    "    freqは計測周期\n",
    "\"\"\"\n",
    "def NanPating(DicData,freq):\n",
    "    import time\n",
    "    start_time = time.time()\n",
    "    \n",
    "    # detection for hidden Nan Data\n",
    "    diffNum =np.array([])\n",
    "    diffIndex=np.array([])\n",
    "    checkData = DicData['Time']\n",
    "    width = len(checkData)\n",
    "    for i in range(0,width-1):\n",
    "        if ( checkData[i+1]-checkData[i] )!=freq:\n",
    "            diffNum=np.append(diffNum, int(checkData[i+1]-checkData[i]) )\n",
    "            diffIndex=np.append(diffIndex,i)\n",
    "   \n",
    "    # insert NAN data to SensorData\n",
    "    # insert time_data\n",
    "    def Insert(data,dI,dN,f,mode):\n",
    "        StartIndex= 0\n",
    "        tmp =np.array([])\n",
    "        if mode =='Sensor':\n",
    "            # insert NAN DATA\n",
    "            adding = np.nan\n",
    "            for count,l in enumerate(dI):\n",
    "                tmp = np.append(tmp, data[StartIndex:int(l)])\n",
    "                for i in range(0,int(dN[count]/f) ):\n",
    "                    tmp = np.append(tmp,np.nan)\n",
    "                StartIndex = int(l)+1\n",
    "            tmp=np.append(tmp, data[StartIndex:])\n",
    "        elif mode =='Time':\n",
    "            # insert \n",
    "            for count,l in enumerate(dI):\n",
    "                tmp = np.append(tmp, data[StartIndex:int(l)])\n",
    "                for i in range(0,int(dN[count]/f) ):\n",
    "                    t = int( tmp[-1]+f )\n",
    "                    tmp = np.append(tmp,t)\n",
    "                StartIndex = int(l)+1\n",
    "            tmp=np.append(tmp, data[StartIndex:])\n",
    "        else:\n",
    "            print 'mode name error'\n",
    "        return tmp\n",
    "    Array ={}\n",
    "    tmpArrayAccX=Insert(DicData['AccX'],diffIndex,diffNum,freq,mode='Sensor')\n",
    "    tmpArrayAccY=Insert(DicData['AccY'],diffIndex,diffNum,freq,mode='Sensor')\n",
    "    tmpArrayAccZ=Insert(DicData['AccZ'],diffIndex,diffNum,freq,mode='Sensor')\n",
    "    tmpArrayGyrX=Insert(DicData['GyrX'],diffIndex,diffNum,freq,mode='Sensor')\n",
    "    tmpArrayGyrY=Insert(DicData['GyrY'],diffIndex,diffNum,freq,mode='Sensor')\n",
    "    tmpArrayGyrZ=Insert(DicData['GyrZ'],diffIndex,diffNum,freq,mode='Sensor')\n",
    "    tmpArrayTime=Insert(DicData['Time'],diffIndex,diffNum,freq,mode='Time')\n",
    "    Array['AccX'] = tmpArrayAccX\n",
    "    Array['AccY'] = tmpArrayAccY\n",
    "    Array['AccZ'] = tmpArrayAccZ\n",
    "    Array['GyrX'] = tmpArrayGyrX\n",
    "    Array['GyrY'] = tmpArrayGyrY\n",
    "    Array['GyrZ'] = tmpArrayGyrZ\n",
    "    Array['Time'] = tmpArrayTime\n",
    "    Array['Name'] = DicData['Name']\n",
    "    #Array=[Time:tmpArrayTime,tmpArrayAccX,tmpArrayAccY,tmpArrayAccZ,tmpArrayGyrX,tmpArrayGyrY,tmpArrayGyrZ]\n",
    "    elapsed_time = time.time() -start_time\n",
    "    print (\"elapsed_time:{0}\".format(elapsed_time)) + \"[sec]\"\n",
    "    return Array"
   ]
  },
  {
   "cell_type": "code",
   "execution_count": 9,
   "metadata": {
    "collapsed": true
   },
   "outputs": [],
   "source": [
    "\"\"\"\n",
    "    dic　辞書型のリスト\n",
    "\"\"\"\n",
    "def CalcStartTime(dic):\n",
    "    MAX = min(dic[0]['Time'])\n",
    "    \n",
    "    for i in range(len(dic)):\n",
    "        if MAX < min(dic[i]['Time']):\n",
    "            MAX = min(dic[i]['Time'])\n",
    "     \n",
    "    return  MAX"
   ]
  },
  {
   "cell_type": "code",
   "execution_count": 10,
   "metadata": {
    "collapsed": true
   },
   "outputs": [],
   "source": [
    "\"\"\"\n",
    "    dic　辞書型のリスト\n",
    "\"\"\"\n",
    "def CalcGoalTime(dic):\n",
    "    MIN = max(dic[0]['Time'])\n",
    "    \n",
    "    for i in range(len(dic)):\n",
    "        if MIN > max(dic[i]['Time']):\n",
    "            MIN = max(dic[i]['Time'])\n",
    "     \n",
    "    return  MIN"
   ]
  },
  {
   "cell_type": "code",
   "execution_count": 11,
   "metadata": {
    "collapsed": true
   },
   "outputs": [],
   "source": [
    "\"\"\"\n",
    "    data　辞書型\n",
    "    keyTime data['Time']の中の探す値\n",
    "\"\"\"\n",
    "def CalcSearchIndexFromTime(data, keyTime):\n",
    "    count = 0\n",
    "    for i in range(0, len(data['Time'])):\n",
    "        if keyTime == data['Time'][i]:\n",
    "            print str(keyTime)+' is much in the index  whose number is '+str(i)\n",
    "            return i"
   ]
  },
  {
   "cell_type": "code",
   "execution_count": 12,
   "metadata": {
    "collapsed": true
   },
   "outputs": [],
   "source": [
    "# name name.pickle = reservedName \n",
    "def SaveDicDataFromFileNPZ(name,data):\n",
    "    np.savez(name, data=data)"
   ]
  },
  {
   "cell_type": "code",
   "execution_count": 13,
   "metadata": {
    "collapsed": true
   },
   "outputs": [],
   "source": [
    "# name name.pickle = reservedName \n",
    "def SaveDicDataFromFilePickle(name,data):\n",
    "    f = open(name+'.pickle', 'wb')\n",
    "    pickle.dump(data,f)\n",
    "    f.close()"
   ]
  },
  {
   "cell_type": "code",
   "execution_count": 14,
   "metadata": {
    "collapsed": true
   },
   "outputs": [],
   "source": [
    "\"\"\"\n",
    "    loadName ロードするファイル名\n",
    "\"\"\"\n",
    "def LoadDicDataFromFileNPZ(loadName):\n",
    "    arrays = np.load(loadName+'.npz')\n",
    "    output = arrays['data'][()]\n",
    "    return output"
   ]
  },
  {
   "cell_type": "code",
   "execution_count": 15,
   "metadata": {
    "collapsed": true
   },
   "outputs": [],
   "source": [
    "\"\"\"\n",
    "    loadName ロードするファイル名\n",
    "\"\"\"\n",
    "def LoadDicDataFromFilePickle(loadName):\n",
    "    f = open(loadName+'.pickle')\n",
    "    dicData = copy.deepcopy( pickle.load(f) )\n",
    "    f.close()\n",
    "    return dicData"
   ]
  },
  {
   "cell_type": "code",
   "execution_count": 16,
   "metadata": {
    "collapsed": true
   },
   "outputs": [],
   "source": [
    "def MakeCommonSection(inputDataArray):\n",
    "    # 共通区間のスタート時間、ゴール時間を求める\n",
    "    startTime = CalcStartTime(inputDataArray)\n",
    "    goalTime = CalcGoalTime(inputDataArray)\n",
    "\n",
    "    # 共通区間のスタート時間のインデックス、ゴール時間のインデックスを探索する\n",
    "    startIndex = np.array([])\n",
    "    goalIndex = np.array([])\n",
    "    for obj in inputDataArray:\n",
    "        print 'start'\n",
    "        startIndex = np.append(startIndex, CalcSearchIndexFromTime(obj, startTime) ).astype(int)\n",
    "        print 'goal'\n",
    "        goalIndex = np.append(goalIndex, CalcSearchIndexFromTime(obj, goalTime) ).astype(int)\n",
    "\n",
    "    tmp={}\n",
    "    comDataArray =[]\n",
    "    key={}\n",
    "\n",
    "    # センサデータすべて（時刻、加速度、角速度）に対して共通区間のみのデータを抽出\n",
    "    for number,iDA in enumerate( inputDataArray ):\n",
    "\n",
    "        tmp['AccX'] = copy.deepcopy( iDA['AccX'][startIndex[number]:goalIndex[number]] )\n",
    "        tmp['AccY'] = copy.deepcopy( iDA['AccY'][startIndex[number]:goalIndex[number]] )\n",
    "        tmp['AccZ'] = copy.deepcopy( iDA['AccZ'][startIndex[number]:goalIndex[number]] )\n",
    "        tmp['GyrX'] = copy.deepcopy( iDA['GyrX'][startIndex[number]:goalIndex[number]] )\n",
    "        tmp['GyrY'] = copy.deepcopy( iDA['GyrY'][startIndex[number]:goalIndex[number]] )\n",
    "        tmp['GyrZ'] = copy.deepcopy( iDA['GyrZ'][startIndex[number]:goalIndex[number]] )\n",
    "        tmp['Time'] = copy.deepcopy( iDA['Time'][startIndex[number]:goalIndex[number]] )\n",
    "        tmp['Name'] = copy.deepcopy( iDA['Name'] )\n",
    "        comDataArray.append(copy.deepcopy(tmp) )    \n",
    "        key[ tmp['Name'] ] = number\n",
    "        \n",
    "        # restore dictionary data\n",
    "        if not ( os.path.exists(RestorePath) ): os.makedirs(RestorePath)\n",
    "        SaveDicDataFromFileNPZ(RestorePath+tmp['Name'],tmp)\n",
    "        SaveDicDataFromFilePickle(RestorePath+tmp['Name'],tmp)\n",
    "    return key,comDataArray"
   ]
  },
  {
   "cell_type": "code",
   "execution_count": 17,
   "metadata": {
    "collapsed": true
   },
   "outputs": [],
   "source": [
    "inputData1= ImportCSV('mem/mem-USB14011711-20160624-095911028.csv',1,'MemSensor1')\n",
    "inputData2= ImportCSV('mem/mem-USB14011712-20160624-095911063.csv',1,'MemSensor2')\n",
    "inputData3= ImportCSV('mem/mem-USB14011713-20160624-095911120.csv',1,'MemSensor3')\n",
    "inputData4= ImportCSV('mem/mem-USB14011714-20160624-095911149.csv',1,'MemSensor4')\n",
    "inputData5= ImportCSV('mem/mem-USB14011715-20160624-095911186.csv',1,'MemSensor5')\n",
    "inputData6= ImportCSV('mem/mem-USB14011716-20160624-095911227.csv',1,'MemSensor6')\n",
    "inputData7= ImportCSV('mem/mem-USB14011717-20160624-095911266.csv',1,'MemSensor7')"
   ]
  },
  {
   "cell_type": "code",
   "execution_count": 18,
   "metadata": {
    "collapsed": true
   },
   "outputs": [],
   "source": [
    "DataArray=[inputData1, inputData2, inputData3, inputData4, inputData5, inputData6, inputData7 ]"
   ]
  },
  {
   "cell_type": "code",
   "execution_count": 19,
   "metadata": {
    "collapsed": false
   },
   "outputs": [
    {
     "name": "stdout",
     "output_type": "stream",
     "text": [
      "start\n",
      "35951381 is much in the index  whose number is 238\n",
      "goal\n",
      "36206123 is much in the index  whose number is 254980\n",
      "start\n",
      "35951381 is much in the index  whose number is 203\n",
      "goal\n",
      "36206123 is much in the index  whose number is 254945\n",
      "start\n",
      "35951381 is much in the index  whose number is 146\n",
      "goal\n",
      "36206123 is much in the index  whose number is 254888\n",
      "start\n",
      "35951381 is much in the index  whose number is 117\n",
      "goal\n",
      "36206123 is much in the index  whose number is 254859\n",
      "start\n",
      "35951381 is much in the index  whose number is 80\n",
      "goal\n",
      "36206123 is much in the index  whose number is 254822\n",
      "start\n",
      "35951381 is much in the index  whose number is 39\n",
      "goal\n",
      "36206123 is much in the index  whose number is 254781\n",
      "start\n",
      "35951381 is much in the index  whose number is 0\n",
      "goal\n",
      "36206123 is much in the index  whose number is 254742\n"
     ]
    }
   ],
   "source": [
    "key, dicList=MakeCommonSection(DataArray)"
   ]
  },
  {
   "cell_type": "code",
   "execution_count": 20,
   "metadata": {
    "collapsed": false
   },
   "outputs": [],
   "source": [
    "\"\"\"\n",
    "    key dicListの配列番号とdicの名前をつなげる配列\n",
    "    dicList 辞書型のデータをまとめたリスト\n",
    "    search 検索するセンサの名前\n",
    "\"\"\"\n",
    "def GetDicDataFromList(key,dicList,search):\n",
    "    i = key[search]\n",
    "    return dicList[i]"
   ]
  },
  {
   "cell_type": "code",
   "execution_count": 21,
   "metadata": {
    "collapsed": false
   },
   "outputs": [
    {
     "data": {
      "text/plain": [
       "{'AccX': array([ 0.5866,  0.5915,  0.594 , ...,  0.2021,  0.1972,  0.1987]),\n",
       " 'AccY': array([-0.04  , -0.0471, -0.0447, ..., -0.1975, -0.2009, -0.1968]),\n",
       " 'AccZ': array([-0.8794, -0.8777, -0.879 , ..., -1.043 , -1.0308, -1.0413]),\n",
       " 'GyrX': array([-3.52, -3.64, -3.55, ..., -0.3 , -0.3 , -0.37]),\n",
       " 'GyrY': array([ 13.1 ,   8.79,   8.44, ...,  -0.75,  -0.78,  -0.78]),\n",
       " 'GyrZ': array([ 4.58,  4.76,  4.74, ...,  0.51,  0.7 ,  0.8 ]),\n",
       " 'Name': 'MemSensor5',\n",
       " 'Time': array([35951381, 35951382, 35951383, ..., 36206120, 36206121, 36206122])}"
      ]
     },
     "execution_count": 21,
     "metadata": {},
     "output_type": "execute_result"
    }
   ],
   "source": [
    "GetDicDataFromList(key,dicList,'MemSensor5')"
   ]
  },
  {
   "cell_type": "code",
   "execution_count": 22,
   "metadata": {
    "collapsed": false
   },
   "outputs": [
    {
     "data": {
      "text/plain": [
       "{'AccX': array([ 0.8203,  0.8172,  0.8181, ...,  0.919 ,  0.9148,  0.9214]),\n",
       " 'AccY': array([-0.5866, -0.5844, -0.5861, ..., -0.255 , -0.2594, -0.259 ]),\n",
       " 'AccZ': array([ 0.0633,  0.0698,  0.0689, ..., -0.4118, -0.4189, -0.4192]),\n",
       " 'GyrX': array([-8.1 , -8.27, -8.34, ..., -1.23, -1.12, -0.97]),\n",
       " 'GyrY': array([ 5.09,  6.13,  4.51, ..., -3.51, -3.1 , -2.79]),\n",
       " 'GyrZ': array([ 0.22,  0.16,  0.12, ..., -1.59, -1.5 , -1.35]),\n",
       " 'Name': 'MemSensor6',\n",
       " 'Time': array([35951381, 35951382, 35951383, ..., 36206120, 36206121, 36206122])}"
      ]
     },
     "execution_count": 22,
     "metadata": {},
     "output_type": "execute_result"
    }
   ],
   "source": [
    "GetDicDataFromList(key,dicList,'MemSensor6')"
   ]
  },
  {
   "cell_type": "code",
   "execution_count": 23,
   "metadata": {
    "collapsed": false
   },
   "outputs": [
    {
     "data": {
      "text/plain": [
       "{'AccX': array([ 0.5866,  0.5915,  0.594 , ...,  0.2021,  0.1972,  0.1987]),\n",
       " 'AccY': array([-0.04  , -0.0471, -0.0447, ..., -0.1975, -0.2009, -0.1968]),\n",
       " 'AccZ': array([-0.8794, -0.8777, -0.879 , ..., -1.043 , -1.0308, -1.0413]),\n",
       " 'GyrX': array([-3.52, -3.64, -3.55, ..., -0.3 , -0.3 , -0.37]),\n",
       " 'GyrY': array([ 13.1 ,   8.79,   8.44, ...,  -0.75,  -0.78,  -0.78]),\n",
       " 'GyrZ': array([ 4.58,  4.76,  4.74, ...,  0.51,  0.7 ,  0.8 ]),\n",
       " 'Name': 'MemSensor5',\n",
       " 'Time': array([35951381, 35951382, 35951383, ..., 36206120, 36206121, 36206122])}"
      ]
     },
     "execution_count": 23,
     "metadata": {},
     "output_type": "execute_result"
    }
   ],
   "source": [
    "LoadDicDataFromFileNPZ(RestorePath+'MemSensor5')"
   ]
  },
  {
   "cell_type": "code",
   "execution_count": null,
   "metadata": {
    "collapsed": true
   },
   "outputs": [],
   "source": []
  }
 ],
 "metadata": {
  "kernelspec": {
   "display_name": "Python 2",
   "language": "python",
   "name": "python2"
  },
  "language_info": {
   "codemirror_mode": {
    "name": "ipython",
    "version": 2
   },
   "file_extension": ".py",
   "mimetype": "text/x-python",
   "name": "python",
   "nbconvert_exporter": "python",
   "pygments_lexer": "ipython2",
   "version": "2.7.11"
  }
 },
 "nbformat": 4,
 "nbformat_minor": 0
}
