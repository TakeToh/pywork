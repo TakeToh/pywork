{
 "cells": [
  {
   "cell_type": "code",
   "execution_count": 1,
   "metadata": {
    "collapsed": false
   },
   "outputs": [],
   "source": [
    "import numpy as np\n",
    "import pandas as pd\n",
    "from scipy import fftpack\n",
    "from scipy import signal\n",
    "import time\n",
    "import os\n",
    "import matplotlib.pyplot as plt\n",
    "%matplotlib inline"
   ]
  },
  {
   "cell_type": "code",
   "execution_count": 2,
   "metadata": {
    "collapsed": false
   },
   "outputs": [],
   "source": [
    "WORKSPACE_PATH = '/home/takeyama/pywork/ipython/2016-06-06/'"
   ]
  },
  {
   "cell_type": "markdown",
   "metadata": {},
   "source": [
    "mozartの環境設定"
   ]
  },
  {
   "cell_type": "code",
   "execution_count": 3,
   "metadata": {
    "collapsed": true
   },
   "outputs": [],
   "source": [
    "#p_path=\"/home/takeyama/pywork/ipython/2016-05-30/\""
   ]
  },
  {
   "cell_type": "code",
   "execution_count": 4,
   "metadata": {
    "collapsed": false
   },
   "outputs": [],
   "source": [
    "#cd ~/Documents/SyncRecord/cleaning-addingLABEL/"
   ]
  },
  {
   "cell_type": "markdown",
   "metadata": {},
   "source": [
    "workstationの環境設定"
   ]
  },
  {
   "cell_type": "code",
   "execution_count": 5,
   "metadata": {
    "collapsed": false
   },
   "outputs": [
    {
     "name": "stdout",
     "output_type": "stream",
     "text": [
      "/home/takeyama/Documents/AddingLabel+FFTdata\n"
     ]
    }
   ],
   "source": [
    "cd ~/Documents/AddingLabel+FFTdata/"
   ]
  },
  {
   "cell_type": "code",
   "execution_count": 6,
   "metadata": {
    "collapsed": false
   },
   "outputs": [
    {
     "data": {
      "text/plain": [
       "\"\\nRawData['AccX'] = AccX\\nRawData['AccY'] = AccY\\nRawData['AccZ'] = AccZ\\nRawData['GyrX'] = GyrX\\nRawData['GyrY'] = GyrY\\nRawData['GyrZ'] = GyrZ\\nRawData['Time'] = Time\\n\""
      ]
     },
     "execution_count": 6,
     "metadata": {},
     "output_type": "execute_result"
    }
   ],
   "source": [
    "data = pd.read_csv('west.csv',encoding=\"SHIFT-JIS\")\n",
    "data.columns=[u'Type',u'Time',u'AccX',u'AccY',u'AccZ',u'GyrX',u'GyrY',u'GyrZ']\n",
    "data = data[data.Type=='ags']\n",
    "data = pd.pivot_table(data,values=[u'AccX',u'AccY',u'AccZ',u'GyrX',u'GyrY',u'GyrZ'],index=[u'Time'])\n",
    "\n",
    "# convert numpy.darray\n",
    "AccX=data.AccX.values*0.0001\n",
    "AccY=data.AccY.values*0.0001\n",
    "AccZ=data.AccZ.values*0.0001\n",
    "GyrX=data.GyrX.values*0.01\n",
    "GyrY=data.GyrY.values*0.01\n",
    "GyrZ=data.GyrZ.values*0.01\n",
    "Time=data.index\n",
    "\n",
    "RawData = np.vstack( (AccX,AccY,AccZ,GyrX,GyrY,GyrZ,Time))\n",
    "\n",
    "# regist each raw data \n",
    "\"\"\"\n",
    "RawData['AccX'] = AccX\n",
    "RawData['AccY'] = AccY\n",
    "RawData['AccZ'] = AccZ\n",
    "RawData['GyrX'] = GyrX\n",
    "RawData['GyrY'] = GyrY\n",
    "RawData['GyrZ'] = GyrZ\n",
    "RawData['Time'] = Time\n",
    "\"\"\""
   ]
  },
  {
   "cell_type": "code",
   "execution_count": 7,
   "metadata": {
    "collapsed": true
   },
   "outputs": [],
   "source": [
    "class SensorData:\n",
    "    \n",
    "    def __init__(self):\n",
    "        print \"__class__\"\n",
    "        # raw data\n",
    "        self._RawData={}    \n",
    "        # fft data\n",
    "        self._FFTData={}\n",
    "        # power spectol data\n",
    "        self._PowerData={}    \n",
    "        # flag exsist data\n",
    "        self._Flag_exist_data=False\n",
    "        \n",
    "        self._columns=['AccX','AccY','AccZ','GyrX','GyrY','GyrZ']\n",
    "        self._fft_col=['fft_AccX','fft_AccY','fft_AccZ','fft_GyrX','fft_GyrY','fft_GyrZ']\n",
    "        self._power_col=['power_AccX','power_AccY','power_AccZ','power_GyrX','power_GyrY','power_GyrZ']\n",
    "        \n",
    "    def ImportCSV(self,Sclass,csv_file):\n",
    "        self.ClassName=Sclass\n",
    "        self.Flag_exist_data=True\n",
    "        # design dataframe\n",
    "        data = pd.read_csv(csv_file,encoding=\"SHIFT-JIS\")\n",
    "        data.columns=[u'Type',u'Time',u'AccX',u'AccY',u'AccZ',u'GyrX',u'GyrY',u'GyrZ']\n",
    "        data = data[data.Type=='ags']\n",
    "        data = pd.pivot_table(data,values=[u'AccX',u'AccY',u'AccZ',u'GyrX',u'GyrY',u'GyrZ'],index=[u'Time'])\n",
    "        \n",
    "        # convert numpy.darray\n",
    "        AccX=data.AccX.values*0.0001\n",
    "        AccY=data.AccY.values*0.0001\n",
    "        AccZ=data.AccZ.values*0.0001\n",
    "        GyrX=data.GyrX.values*0.01\n",
    "        GyrY=data.GyrY.values*0.01\n",
    "        GyrZ=data.GyrZ.values*0.01\n",
    "        Time=data.index\n",
    "        \n",
    "        # regist each raw data \n",
    "        self._RawData['AccX'] = AccX\n",
    "        self._RawData['AccY'] = AccY\n",
    "        self._RawData['AccZ'] = AccZ\n",
    "        self._RawData['GyrX'] = GyrX\n",
    "        self._RawData['GyrY'] = GyrY\n",
    "        self._RawData['GyrZ'] = GyrZ\n",
    "        self._RawData['Time'] = Time\n",
    "    \n",
    "    def ShowFlagExistData(self):\n",
    "        return self.Flag_exist_data\n",
    "    \n",
    "    def GetColumns(self):\n",
    "        return self._columns\n",
    "    \n",
    "    def GetTime(self):\n",
    "        return self._RawData['Time']\n",
    "\n",
    "    def ShowAllDf(self):\n",
    "        print 'AccX : ';print self._RawData['AccX']\n",
    "        print 'AccY : ';print self._RawData['AccY']\n",
    "        print 'AccZ : ';print self._RawData['AccZ']\n",
    "        print 'GyrX : ';print self._RawData['GyrX']\n",
    "        print 'GyrY : ';print self._RawData['GyrY']\n",
    "        print 'GyrZ : ';print self._RawData['GyrZ']\n",
    "        \n",
    "    def _Time2Num(self,time):\n",
    "        return np.where(self._RawData['Time']==np.datetime64(time) )[0][0]\n",
    "    \n",
    "    def ShowQuery(self,Sname,rng=[]):\n",
    "        data = self._RawData[Sname]\n",
    "        print Sname+':'+str( data[rng[0]:rng[1]])\n",
    "            \n",
    "    def _sliding_window(self,Sname,samp, overlap):\n",
    "        count =0\n",
    "        s =self._RawData['Time'][0]\n",
    "        start=self._Time2Num(s)\n",
    "        g = s+np.timedelta64(samp*10,'ms')\n",
    "        goal= self._Time2Num(g)\n",
    "        yield self._RawData[Sname][start:goal]\n",
    "        \n",
    "        add=overlap*0.01\n",
    "        \n",
    "        while True:\n",
    "            try:\n",
    "                count +=1\n",
    "                s =s+np.timedelta64(samp*10,'ms')\n",
    "                start=self._Time2Num(s)\n",
    "                g  =s+np.timedelta64(samp*10,'ms')\n",
    "                goal= self._Time2Num(g)\n",
    "                yield self._RawData[Sname][start:goal]\n",
    "            except StopIteration:\n",
    "                print '_sliding_window StopIteration'\n",
    "                break   \n",
    "            except IndexError:\n",
    "                print '_sliding_window IndexError'\n",
    "                break  \n",
    "                \n",
    "# Fast Frier transaction            \n",
    "    def GetFFT(self,Sfft,samp):\n",
    "        return np.load(p_path+'fft/'+self.ClassName+'_'+Sfft+'_'+str(samp)+'.npz')['arr_0']\n",
    "    \n",
    "    def CalcFFT(self,samp,overlap=0.5):\n",
    "        start = time.time()\n",
    "        fft_data = np.array([])\n",
    "        \n",
    "        for n,f in zip( self._columns,self._fft_col):\n",
    "            print 'start'+n+'->'+f\n",
    "            sw = self._sliding_window(n,samp,overlap)\n",
    "            while True:\n",
    "                try:\n",
    "                    d=sw.next()\n",
    "                    fft_data = np.append(fft_data, fftpack.fft(d)[1:(samp/2)+1] )   # fftの直流成分を除くsample/2の\n",
    "                except StopIteration:\n",
    "                    print 'CalcFFTStopIteration'\n",
    "                    fft_data = fft_data.reshape(len(fft_data)/(samp/2),(samp/2) )\n",
    "                    self._FFTData[f] = fft_data\n",
    "                    np.savez(p_path+'fft/'+self.ClassName+'_'+str(f)+'_'+str(samp),self._FFTData[f])\n",
    "                    break   \n",
    "        elapsed_time = time.time() - start\n",
    "        print (\"elapsed_time:{0}\".format(elapsed_time)) + \"[sec]\"\n",
    "           \n",
    "\n",
    "# Spectol Power \n",
    "    def GetPower(self,Spower,samp):\n",
    "        return np.load(p_path+'power/'+self.ClassName+'_'+Spower+'_'+str(samp)+'.npz')['arr_0']\n",
    "    \n",
    "    def _power(self,fft_array):\n",
    "        p=lambda x,y : np.sqrt(x**2+y**2)\n",
    "        power_array=np.array([])\n",
    "        for vector in fft_array:\n",
    "            tmp = p( np.real(vector),np.imag(vector) )\n",
    "            tmp = tmp/np.sum(tmp)\n",
    "            power_array = np.append(power_array,tmp)\n",
    "        return power_array\n",
    "        \n",
    "    def CalcPower(self,samp,overlap=0.5):\n",
    "        start = time.time()\n",
    "        for fft_name,power_name in zip( self._fft_col, self._power_col):\n",
    "            print 'start'+fft_name+'->'+power_name\n",
    "            fft_data = self.GetFFT(fft_name,samp)\n",
    "            power_data=self._power(fft_data)\n",
    "            np.savez(p_path+'power/'+self.ClassName+'_'+power_name+'_'+str(samp),power_data)\n",
    "        elapsed_time = time.time() - start\n",
    "        print (\"elapsed_time:{0}\".format(elapsed_time)) + \"[sec]\""
   ]
  },
  {
   "cell_type": "code",
   "execution_count": 86,
   "metadata": {
    "collapsed": false
   },
   "outputs": [],
   "source": [
    "'''\n",
    "csv_file -> ファイル名\n",
    "mode Round -> 四捨五入\n",
    "     Roundup -> 切り上げ\n",
    "     Rounddown -> 切り捨て\n",
    "'''\n",
    "def ImportCSV(csv_file,freq,mode='Round'):\n",
    "        # data dictionary \n",
    "        RawData={}   \n",
    "        \n",
    "        # design dataframe and import csv\n",
    "        data = pd.read_csv(csv_file,encoding=\"SHIFT-JIS\")\n",
    "        data.columns=[u'Type',u'Time',u'AccX',u'AccY',u'AccZ',u'GyrX',u'GyrY',u'GyrZ']\n",
    "        data = data[ data['Type']=='ags']\n",
    "        \n",
    "        # convert numpy.darray \n",
    "        # Acc Data  [0.1mG]=>[G]\n",
    "        # Gyr Data  [0.01dps]=>[dps]   ...dps=degree per second\n",
    "        AccX=data.AccX.values*0.0001\n",
    "        AccY=data.AccY.values*0.0001\n",
    "        AccZ=data.AccZ.values*0.0001\n",
    "        GyrX=data.GyrX.values*0.01\n",
    "        GyrY=data.GyrY.values*0.01\n",
    "        GyrZ=data.GyrZ.values*0.01\n",
    "        \n",
    "        # regist each raw data \n",
    "        RawData['AccX'] = AccX\n",
    "        RawData['AccY'] = AccY\n",
    "        RawData['AccZ'] = AccZ\n",
    "        RawData['GyrX'] = GyrX\n",
    "        RawData['GyrY'] = GyrY\n",
    "        RawData['GyrZ'] = GyrZ\n",
    "        \n",
    "        # import time by using numpy\n",
    "        time = data.Time.values #時間の列だけを抽出       \n",
    "        \n",
    "        if mode == 'Roundup':\n",
    "            func = lambda x: int(x/freq)*freq\n",
    "        elif mode == 'Rounddown':\n",
    "            func = lambda x: int(x/freq)*freq\n",
    "        elif mode == 'Round':\n",
    "            func = lambda x: int((x+freq/2)/freq)*freq\n",
    "        #ERROR\n",
    "        else:\n",
    "            print 'check mode and inputed word is caused error'\n",
    "            return -1\n",
    "        \n",
    "        output = map(func,time)\n",
    "        RawData['Time'] = output\n",
    "        return RawData\n",
    "            "
   ]
  },
  {
   "cell_type": "code",
   "execution_count": 87,
   "metadata": {
    "collapsed": false
   },
   "outputs": [],
   "source": [
    "data1=ImportCSV('left-hand.csv',10)\n",
    "data2=ImportCSV('left-leg.csv',10)\n",
    "data3=ImportCSV('right-hand.csv',10)\n",
    "data4=ImportCSV('right-leg.csv',10)\n",
    "data5=ImportCSV('west.csv',10)"
   ]
  },
  {
   "cell_type": "code",
   "execution_count": 38,
   "metadata": {
    "collapsed": true
   },
   "outputs": [],
   "source": [
    "def CalcStartTime(array):\n",
    "    MAX = min(array[0])\n",
    "    \n",
    "    for i in range(len(array)):\n",
    "        if MAX < min(array[i]):\n",
    "            MAX = min(array[i])\n",
    "     \n",
    "    return  MAX"
   ]
  },
  {
   "cell_type": "code",
   "execution_count": 39,
   "metadata": {
    "collapsed": true
   },
   "outputs": [],
   "source": [
    "def CalcGoalTime(array):\n",
    "    MIN = max(array[0])\n",
    "    \n",
    "    for i in range(len(array)):\n",
    "        if MIN > max(array[i]):\n",
    "            MIN = max(array[i])\n",
    "     \n",
    "    return  MIN"
   ]
  },
  {
   "cell_type": "markdown",
   "metadata": {
    "collapsed": true
   },
   "source": [
    "**2016-06-14**  \n",
    "もう１度、前処理について考える。特に、入力データの特徴、出力データの仕様を改める。  \n",
    "*feacher of Precondition*\n",
    "1. センサデータは{time, accx, accy, accz, gyrx, gyry, gyrz}が揃っている\n",
    "2. また、センサデータはすべて整数型となっている。\n",
    "3. nanデータはない\n",
    "\n",
    "*output Data*\n",
    "1. accは[0.1mG]から[G]に単位変換、gyrは[0.01dpg]は[dpg]に変換する。\n",
    "2. timeはサンプリング周期で丸める。\n",
    "3. Nanデータは存在する。\n"
   ]
  },
  {
   "cell_type": "code",
   "execution_count": 141,
   "metadata": {
    "collapsed": false
   },
   "outputs": [],
   "source": [
    "\"\"\"\n",
    "    checkData に入れるものは辞書型にする\n",
    "    freqは計測周期\n",
    "\"\"\"\n",
    "def NanPating(DicData,freq):\n",
    "    import time\n",
    "    start_time = time.time()\n",
    "    \n",
    "    print 'len( checkData ) = '+str(len( checkData ))\n",
    "    \n",
    "    # detection for hidden Nan Data\n",
    "    diffNum =np.array([])\n",
    "    diffIndex=np.array([])\n",
    "    checkData = DicData['Time']\n",
    "    width = len(checkData)\n",
    "    for i in range(0,width-1):\n",
    "        if ( checkData[i+1]-checkData[i] )!=freq:\n",
    "            diffNum=np.append(diffNum, int(checkData[i+1]-checkData[i]) )\n",
    "            diffIndex=np.append(diffIndex,i)\n",
    "   \n",
    "    # insert NAN data to SensorData\n",
    "    # insert time_data\n",
    "    def Insert(data,dI,dN,f,mode='Sensor'):\n",
    "        StartIndex= 0\n",
    "        tmp =np.array([])\n",
    "        if mode =='Sensor':\n",
    "            # insert NAN DATA\n",
    "            adding = np.nan\n",
    "            for count,l in enumerate(dI):\n",
    "                tmp = np.append(tmp, checkData[StartIndex:int(l)])\n",
    "                print 'tmp + rawdata len='+str(len(tmp))\n",
    "                for i in range(0,int(dN[count]/f) ):\n",
    "                    tmp = np.append(tmp,np.nan)\n",
    "                print 'tmp + nan len='+str(len(tmp)-len(d))\n",
    "                StartIndex = int(l)+1\n",
    "            tmp=np.append(tmp, checkData[StartIndex:adding])\n",
    "            print 'nan adding data ='+str( len(tmp) )\n",
    "        elif mode =='Sensor':\n",
    "            # insert \n",
    "            for count,l in enumerate(dI):\n",
    "                tmp = np.append(tmp, checkData[StartIndex:int(l)])\n",
    "                print 'tmp + rawdata len='+str(len(tmp))\n",
    "                for i in range(0,int(dN[count]/f) ):\n",
    "                    t = tmp[-1]+f\n",
    "                    tmp = np.append(tmp,t)\n",
    "                print 'tmp + nan len='+str(len(tmp)-len(d))\n",
    "                StartIndex = int(l)+1\n",
    "            tmp=np.append(tmp, checkData[StartIndex:adding])\n",
    "            print 'nan adding data ='+str( len(tmp) )\n",
    "        else:\n",
    "            print 'mode name error'\n",
    "        return tmp\n",
    "    tmpArrayAccX=Insert(DicData['AccX'],diffIndex,diffName,freq,mode='Sensor')\n",
    "    tmpArrayAccY=Insert(DicData['AccY'],diffIndex,diffName,freq,mode='Sensor')\n",
    "    tmpArrayAccZ=Insert(DicData['AccZ'],diffIndex,diffName,freq,mode='Sensor')\n",
    "    tmpArrayGyrX=Insert(DicData['GyrX'],diffIndex,diffName,freq,mode='Sensor')\n",
    "    tmpArrayGyrY=Insert(DicData['GyrX'],diffIndex,diffName,freq,mode='Sensor')\n",
    "    tmpArrayGyrZ=Insert(DicData['GyrX'],diffIndex,diffName,freq,mode='Sensor')\n",
    "    tmpArrayTime=Insert(DicData['Time'],diffIndex,diffName,freq,mode='Time')\n",
    "    print len(tmp)\n",
    "    elapsed_time = time.time() -start_time\n",
    "    print (\"elapsed_time:{0}\".format(elapsed_time)) + \"[sec]\"\n",
    "    return tmp"
   ]
  },
  {
   "cell_type": "code",
   "execution_count": 142,
   "metadata": {
    "collapsed": false
   },
   "outputs": [
    {
     "data": {
      "text/plain": [
       "10"
      ]
     },
     "execution_count": 142,
     "metadata": {},
     "output_type": "execute_result"
    }
   ],
   "source": [
    "data5['Time'][1]-data5['Time'][0]"
   ]
  },
  {
   "cell_type": "code",
   "execution_count": 143,
   "metadata": {
    "collapsed": false
   },
   "outputs": [
    {
     "ename": "UnboundLocalError",
     "evalue": "local variable 'checkData' referenced before assignment",
     "output_type": "error",
     "traceback": [
      "\u001b[1;31m---------------------------------------------------------------------------\u001b[0m",
      "\u001b[1;31mUnboundLocalError\u001b[0m                         Traceback (most recent call last)",
      "\u001b[1;32m<ipython-input-143-bfb6c08def58>\u001b[0m in \u001b[0;36m<module>\u001b[1;34m()\u001b[0m\n\u001b[1;32m----> 1\u001b[1;33m \u001b[0mtime5\u001b[0m\u001b[1;33m=\u001b[0m\u001b[0mNanPating\u001b[0m\u001b[1;33m(\u001b[0m\u001b[0mdata5\u001b[0m\u001b[1;33m,\u001b[0m\u001b[1;36m10\u001b[0m\u001b[1;33m)\u001b[0m\u001b[1;33m\u001b[0m\u001b[0m\n\u001b[0m",
      "\u001b[1;32m<ipython-input-141-13e78c8ecbdd>\u001b[0m in \u001b[0;36mNanPating\u001b[1;34m(DicData, freq)\u001b[0m\n\u001b[0;32m      7\u001b[0m     \u001b[0mstart_time\u001b[0m \u001b[1;33m=\u001b[0m \u001b[0mtime\u001b[0m\u001b[1;33m.\u001b[0m\u001b[0mtime\u001b[0m\u001b[1;33m(\u001b[0m\u001b[1;33m)\u001b[0m\u001b[1;33m\u001b[0m\u001b[0m\n\u001b[0;32m      8\u001b[0m \u001b[1;33m\u001b[0m\u001b[0m\n\u001b[1;32m----> 9\u001b[1;33m     \u001b[1;32mprint\u001b[0m \u001b[1;34m'len( checkData ) = '\u001b[0m\u001b[1;33m+\u001b[0m\u001b[0mstr\u001b[0m\u001b[1;33m(\u001b[0m\u001b[0mlen\u001b[0m\u001b[1;33m(\u001b[0m \u001b[0mcheckData\u001b[0m \u001b[1;33m)\u001b[0m\u001b[1;33m)\u001b[0m\u001b[1;33m\u001b[0m\u001b[0m\n\u001b[0m\u001b[0;32m     10\u001b[0m \u001b[1;33m\u001b[0m\u001b[0m\n\u001b[0;32m     11\u001b[0m     \u001b[1;31m# detection for hidden Nan Data\u001b[0m\u001b[1;33m\u001b[0m\u001b[1;33m\u001b[0m\u001b[0m\n",
      "\u001b[1;31mUnboundLocalError\u001b[0m: local variable 'checkData' referenced before assignment"
     ]
    }
   ],
   "source": [
    "time5=NanPating(data5,10)"
   ]
  },
  {
   "cell_type": "markdown",
   "metadata": {},
   "source": [
    "**2016-06-14**  \n",
    "[ AIM ]NANパティングをされたデータ群を作成する。  \n",
    "[ ERROR ] なぜか、四捨五入とかデータが丸めれていない。"
   ]
  },
  {
   "cell_type": "code",
   "execution_count": 127,
   "metadata": {
    "collapsed": true
   },
   "outputs": [],
   "source": [
    "time1= data1['Time']\n",
    "time2= data2['Time']\n",
    "time3= data3['Time']\n",
    "time4= data4['Time']"
   ]
  },
  {
   "cell_type": "code",
   "execution_count": 131,
   "metadata": {
    "collapsed": false
   },
   "outputs": [
    {
     "data": {
      "text/plain": [
       "55501"
      ]
     },
     "execution_count": 131,
     "metadata": {},
     "output_type": "execute_result"
    }
   ],
   "source": [
    "len( time4 )"
   ]
  },
  {
   "cell_type": "code",
   "execution_count": 132,
   "metadata": {
    "collapsed": true
   },
   "outputs": [],
   "source": [
    "timeArray=[time1,time2,time3,time4,time5]"
   ]
  },
  {
   "cell_type": "code",
   "execution_count": 138,
   "metadata": {
    "collapsed": false
   },
   "outputs": [
    {
     "data": {
      "text/plain": [
       "65175890"
      ]
     },
     "execution_count": 138,
     "metadata": {},
     "output_type": "execute_result"
    }
   ],
   "source": [
    "StartTime = CalcStartTime(timeArray)\n",
    "StartTime"
   ]
  },
  {
   "cell_type": "code",
   "execution_count": 139,
   "metadata": {
    "collapsed": false
   },
   "outputs": [
    {
     "data": {
      "text/plain": [
       "65730150"
      ]
     },
     "execution_count": 139,
     "metadata": {},
     "output_type": "execute_result"
    }
   ],
   "source": [
    "GoalTime = CalcGoalTime(timeArray)\n",
    "GoalTime"
   ]
  },
  {
   "cell_type": "code",
   "execution_count": null,
   "metadata": {
    "collapsed": true
   },
   "outputs": [],
   "source": []
  },
  {
   "cell_type": "markdown",
   "metadata": {},
   "source": [
    "具体的なnumpyのloadtxt,genfromtxtの違い"
   ]
  },
  {
   "cell_type": "markdown",
   "metadata": {
    "collapsed": true
   },
   "source": [
    "np.loadtxt('left-hand.csv',delimiter=',',usecols=(2,3,4))"
   ]
  },
  {
   "cell_type": "markdown",
   "metadata": {},
   "source": [
    "np.genfromtxt('left-hand.csv',delimiter=',',usecols=(2,3,4))"
   ]
  },
  {
   "cell_type": "code",
   "execution_count": null,
   "metadata": {
    "collapsed": true
   },
   "outputs": [],
   "source": []
  }
 ],
 "metadata": {
  "kernelspec": {
   "display_name": "Python 2",
   "language": "python",
   "name": "python2"
  },
  "language_info": {
   "codemirror_mode": {
    "name": "ipython",
    "version": 2
   },
   "file_extension": ".py",
   "mimetype": "text/x-python",
   "name": "python",
   "nbconvert_exporter": "python",
   "pygments_lexer": "ipython2",
   "version": "2.7.11"
  }
 },
 "nbformat": 4,
 "nbformat_minor": 0
}
