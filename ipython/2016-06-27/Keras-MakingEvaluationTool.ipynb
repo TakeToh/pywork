{
 "cells": [
  {
   "cell_type": "code",
   "execution_count": 1,
   "metadata": {
    "collapsed": true
   },
   "outputs": [],
   "source": [
    "import numpy as np\n",
    "import pandas as pd\n",
    "from scipy import fftpack\n",
    "from scipy import signal\n",
    "import time\n",
    "import os\n",
    "import matplotlib.pyplot as plt\n",
    "import pickle\n",
    "import copy\n",
    "%matplotlib inline"
   ]
  },
  {
   "cell_type": "code",
   "execution_count": 2,
   "metadata": {
    "collapsed": true
   },
   "outputs": [],
   "source": [
    "WORKSPACE_PATH = '/home/takeyama/pywork/ipython/2016-06-27'"
   ]
  },
  {
   "cell_type": "code",
   "execution_count": 3,
   "metadata": {
    "collapsed": false
   },
   "outputs": [],
   "source": [
    "RawDataPath=WORKSPACE_PATH+'/raw/'"
   ]
  },
  {
   "cell_type": "code",
   "execution_count": 4,
   "metadata": {
    "collapsed": false
   },
   "outputs": [],
   "source": [
    "import processing"
   ]
  },
  {
   "cell_type": "markdown",
   "metadata": {},
   "source": [
    "センサデータを読み込む"
   ]
  },
  {
   "cell_type": "code",
   "execution_count": 11,
   "metadata": {
    "collapsed": false
   },
   "outputs": [
    {
     "data": {
      "text/plain": [
       "'\\ndata1 = processing.Dic2darray(dic1)\\ndata2 = processing.Dic2darray(dic2)\\ndata3 = processing.Dic2darray(dic3)\\ndata4 = processing.Dic2darray(dic4)\\ndata5 = processing.Dic2darray(dic5)\\ndata6 = processing.Dic2darray(dic6)\\ndata7 = processing.Dic2darray(dic7)\\n'"
      ]
     },
     "execution_count": 11,
     "metadata": {},
     "output_type": "execute_result"
    }
   ],
   "source": [
    "dic1=processing.LoadDicDataFromFileNPZ(RawDataPath+\"MemSensor1\")\n",
    "dic2=processing.LoadDicDataFromFileNPZ(RawDataPath+\"MemSensor2\")\n",
    "dic3=processing.LoadDicDataFromFileNPZ(RawDataPath+\"MemSensor3\")\n",
    "dic4=processing.LoadDicDataFromFileNPZ(RawDataPath+\"MemSensor4\")\n",
    "dic5=processing.LoadDicDataFromFileNPZ(RawDataPath+\"MemSensor5\")\n",
    "dic6=processing.LoadDicDataFromFileNPZ(RawDataPath+\"MemSensor6\")\n",
    "dic7=processing.LoadDicDataFromFileNPZ(RawDataPath+\"MemSensor7\")\n",
    "\n",
    "\"\"\"\n",
    "data1 = processing.Dic2darray(dic1)\n",
    "data2 = processing.Dic2darray(dic2)\n",
    "data3 = processing.Dic2darray(dic3)\n",
    "data4 = processing.Dic2darray(dic4)\n",
    "data5 = processing.Dic2darray(dic5)\n",
    "data6 = processing.Dic2darray(dic6)\n",
    "data7 = processing.Dic2darray(dic7)\n",
    "\"\"\""
   ]
  },
  {
   "cell_type": "markdown",
   "metadata": {},
   "source": [
    "windows関数を作成する。\n",
    "要求仕様\n",
    "* 入力データは2次元配列　raw 時間、colm　データの種類（加速度X,加速度Y,・・・）\n",
    "* 出力データは4次元配列　numberOfWindow * windowWidth * kindOfData * \n",
    "# how to use\n",
    "1. Set Data(1darray)\n",
    "case 1  \n",
    "    seed.append(AccX)  \n",
    "    seed.append(AccY)  \n",
    "    seed.append(AccZ)  \n",
    "2. Making window\n",
    "w = build(seed)  \n",
    "w -> [ [AccX],[AccY],[AccZ] ]  \n",
    "window = compile(w)  \n",
    "window -> \n",
    "          [ [[AccX],[AccY],[AccZ]],  \n",
    "            [[AccX],[AccY],[AccZ]],  \n",
    "            [[AccX],[AccY],[AccZ]], ....]"
   ]
  },
  {
   "cell_type": "code",
   "execution_count": 95,
   "metadata": {
    "collapsed": false
   },
   "outputs": [],
   "source": [
    "class Window:\n",
    "    \"\"\"Input dictionary\n",
    "       Ouput Windows\n",
    "    \"\"\"         \n",
    "    def __init__(self):                  \n",
    "        self.seed ={}\n",
    "    \n",
    "    def SetData(self, RegistDataName, RegistData):\n",
    "        if RegistDataName in self.seed:\n",
    "            print RegistDataName+' has been registed before'\n",
    "            return -1\n",
    "        \n",
    "        self.seed[RegistDataName] = RegistData\n",
    "        print RegistDataName+' is registed now'\n",
    "    \n",
    "    def _Build(self):\n",
    "        keys = self.seed.keys()\n",
    "        array = self.seed[keys[0]]\n",
    "        \n",
    "        for k in keys[1:]:\n",
    "            array = np.vstack( (array,self.seed[k]))\n",
    "        print 'Build Complete'\n",
    "        return array.T\n",
    "    \n",
    "    def Compile(self,windowWidth,overlap):\n",
    "        source = self._Build()\n",
    "        offset = len(source)%windowWidth\n",
    "        if offset % 2 == 1:\n",
    "            offset=offset/2 +1\n",
    "        else:\n",
    "            offset=offset/2\n",
    "        print offset\n",
    "        # first array\n",
    "        start = offset\n",
    "        goal = start+windowWidth\n",
    "        window = source[start:goal]\n",
    "        \n",
    "        for i in range(1,len(source/windowWidth)):\n",
    "            start = int( start+windowWidth*overlap )\n",
    "            goal = start+windowWidth\n",
    "            adding = source[start:goal]\n",
    "            window = np.vstack((window,adding))\n",
    "        return window"
   ]
  },
  {
   "cell_type": "code",
   "execution_count": 96,
   "metadata": {
    "collapsed": true
   },
   "outputs": [],
   "source": [
    "w = Window()"
   ]
  },
  {
   "cell_type": "code",
   "execution_count": 97,
   "metadata": {
    "collapsed": false
   },
   "outputs": [
    {
     "name": "stdout",
     "output_type": "stream",
     "text": [
      "AccX is registed now\n"
     ]
    }
   ],
   "source": [
    "w.SetData('AccX',dic1['AccX'])"
   ]
  },
  {
   "cell_type": "code",
   "execution_count": 98,
   "metadata": {
    "collapsed": false
   },
   "outputs": [
    {
     "name": "stdout",
     "output_type": "stream",
     "text": [
      "AccY is registed now\n"
     ]
    }
   ],
   "source": [
    "w.SetData('AccY',dic1['AccY'])"
   ]
  },
  {
   "cell_type": "code",
   "execution_count": 99,
   "metadata": {
    "collapsed": false
   },
   "outputs": [
    {
     "name": "stdout",
     "output_type": "stream",
     "text": [
      "AccZ is registed now\n"
     ]
    }
   ],
   "source": [
    "w.SetData('AccZ',dic1['AccZ'])"
   ]
  },
  {
   "cell_type": "code",
   "execution_count": 100,
   "metadata": {
    "collapsed": false
   },
   "outputs": [
    {
     "name": "stdout",
     "output_type": "stream",
     "text": [
      "Build Complete\n",
      "3\n"
     ]
    },
    {
     "data": {
      "text/plain": [
       "array([[  2.89400000e-01,  -9.61600000e-01,  -9.54000000e-02],\n",
       "       [  2.89100000e-01,  -9.63300000e-01,  -9.69000000e-02],\n",
       "       [  2.92300000e-01,  -9.56800000e-01,  -9.66000000e-02],\n",
       "       ..., \n",
       "       [  1.96100000e-01,  -9.71400000e-01,   5.90000000e-03],\n",
       "       [  1.94200000e-01,  -9.73100000e-01,   8.00000000e-04],\n",
       "       [  2.00300000e-01,  -9.76800000e-01,   6.70000000e-03]])"
      ]
     },
     "execution_count": 100,
     "metadata": {},
     "output_type": "execute_result"
    }
   ],
   "source": [
    "w.Compile(windowWidth=16,overlap=0.5)"
   ]
  },
  {
   "cell_type": "code",
   "execution_count": null,
   "metadata": {
    "collapsed": false
   },
   "outputs": [],
   "source": []
  },
  {
   "cell_type": "code",
   "execution_count": null,
   "metadata": {
    "collapsed": true
   },
   "outputs": [],
   "source": []
  },
  {
   "cell_type": "code",
   "execution_count": null,
   "metadata": {
    "collapsed": true
   },
   "outputs": [],
   "source": []
  },
  {
   "cell_type": "code",
   "execution_count": null,
   "metadata": {
    "collapsed": true
   },
   "outputs": [],
   "source": []
  }
 ],
 "metadata": {
  "kernelspec": {
   "display_name": "Python 2",
   "language": "python",
   "name": "python2"
  },
  "language_info": {
   "codemirror_mode": {
    "name": "ipython",
    "version": 2
   },
   "file_extension": ".py",
   "mimetype": "text/x-python",
   "name": "python",
   "nbconvert_exporter": "python",
   "pygments_lexer": "ipython2",
   "version": "2.7.11"
  }
 },
 "nbformat": 4,
 "nbformat_minor": 0
}
