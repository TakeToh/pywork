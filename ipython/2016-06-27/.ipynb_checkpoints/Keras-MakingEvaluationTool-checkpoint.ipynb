{
 "cells": [
  {
   "cell_type": "code",
   "execution_count": 1,
   "metadata": {
    "collapsed": true
   },
   "outputs": [],
   "source": [
    "import numpy as np\n",
    "import pandas as pd\n",
    "from scipy import fftpack\n",
    "from scipy import signal\n",
    "import time\n",
    "import os\n",
    "import matplotlib.pyplot as plt\n",
    "import pickle\n",
    "import copy\n",
    "%matplotlib inline"
   ]
  },
  {
   "cell_type": "code",
   "execution_count": 2,
   "metadata": {
    "collapsed": false
   },
   "outputs": [
    {
     "name": "stderr",
     "output_type": "stream",
     "text": [
      "Using Theano backend.\n",
      "Using gpu device 0: GeForce GTX 970 (CNMeM is disabled, cuDNN 4007)\n"
     ]
    }
   ],
   "source": [
    "from keras.models import Sequential\n",
    "from keras.datasets import cifar10\n",
    "from keras.layers import Dense, Activation, Flatten\n",
    "from keras.optimizers import Adadelta\n",
    "from keras.utils import np_utils\n",
    "from keras.layers.convolutional import Convolution2D, MaxPooling2D\n",
    "from keras.utils.visualize_util import model_to_dot, plot\n",
    "from keras import backend as K\n",
    "import numpy as np\n",
    "\n",
    "from matplotlib import pyplot as plt\n",
    "import matplotlib.image as mpimg\n",
    "%matplotlib inline"
   ]
  },
  {
   "cell_type": "code",
   "execution_count": 3,
   "metadata": {
    "collapsed": true
   },
   "outputs": [],
   "source": [
    "WORKSPACE_PATH = '/home/takeyama/pywork/ipython/2016-06-27'"
   ]
  },
  {
   "cell_type": "code",
   "execution_count": 4,
   "metadata": {
    "collapsed": false
   },
   "outputs": [],
   "source": [
    "RawDataPath=WORKSPACE_PATH+'/raw/'"
   ]
  },
  {
   "cell_type": "code",
   "execution_count": 5,
   "metadata": {
    "collapsed": true
   },
   "outputs": [],
   "source": [
    "StudyDataPath=WORKSPACE_PATH+'/study/'"
   ]
  },
  {
   "cell_type": "code",
   "execution_count": 6,
   "metadata": {
    "collapsed": false
   },
   "outputs": [],
   "source": [
    "import processing"
   ]
  },
  {
   "cell_type": "markdown",
   "metadata": {},
   "source": [
    "センサデータを読み込む"
   ]
  },
  {
   "cell_type": "code",
   "execution_count": 7,
   "metadata": {
    "collapsed": false
   },
   "outputs": [],
   "source": [
    "dic1=processing.LoadDicDataFromFileNPZ(RawDataPath+\"MemSensor1\")\n",
    "dic2=processing.LoadDicDataFromFileNPZ(RawDataPath+\"MemSensor2\")\n",
    "dic3=processing.LoadDicDataFromFileNPZ(RawDataPath+\"MemSensor3\")\n",
    "dic4=processing.LoadDicDataFromFileNPZ(RawDataPath+\"MemSensor4\")\n",
    "dic5=processing.LoadDicDataFromFileNPZ(RawDataPath+\"MemSensor5\")\n",
    "dic6=processing.LoadDicDataFromFileNPZ(RawDataPath+\"MemSensor6\")\n",
    "dic7=processing.LoadDicDataFromFileNPZ(RawDataPath+\"MemSensor7\")"
   ]
  },
  {
   "cell_type": "markdown",
   "metadata": {},
   "source": [
    "windows関数を作成する。\n",
    "要求仕様\n",
    "* 入力データは2次元配列　raw 時間、colm　データの種類（加速度X,加速度Y,・・・）\n",
    "* 出力データは4次元配列　numberOfWindow * windowWidth * kindOfData * \n",
    "# how to use\n",
    "1. Set Data(1darray)\n",
    "case 1  \n",
    "    seed.append(AccX)  \n",
    "    seed.append(AccY)  \n",
    "    seed.append(AccZ)  \n",
    "2. Making window\n",
    "w = build(seed)  \n",
    "w -> [ [AccX],[AccY],[AccZ] ]  \n",
    "window = compile(w)  \n",
    "window -> \n",
    "          [ [[AccX],[AccY],[AccZ]],  \n",
    "            [[AccX],[AccY],[AccZ]],  \n",
    "            [[AccX],[AccY],[AccZ]], ....]"
   ]
  },
  {
   "cell_type": "code",
   "execution_count": 8,
   "metadata": {
    "collapsed": false
   },
   "outputs": [],
   "source": [
    "class Window:\n",
    "    \"\"\"Input dictionary\n",
    "       Ouput Windows\n",
    "    \"\"\"         \n",
    "    def __init__(self):                  \n",
    "        self.seed ={}\n",
    "    \n",
    "    def SetData(self, RegistDataName, RegistData):\n",
    "        if RegistDataName in self.seed:\n",
    "            print RegistDataName+' has been registed before'\n",
    "            return -1\n",
    "        \n",
    "        self.seed[RegistDataName] = RegistData\n",
    "        print RegistDataName+' is registed now'\n",
    "    \n",
    "    def _Build(self):\n",
    "        keys = self.seed.keys()\n",
    "        array = self.seed[keys[0]]\n",
    "        \n",
    "        for k in keys[1:]:\n",
    "            array = np.vstack( (array,self.seed[k]))\n",
    "        print 'Build Complete'\n",
    "        return array.T\n",
    "    \n",
    "    def Compile(self,windowWidth,overlap):\n",
    "        source = self._Build()\n",
    "        print source.shape\n",
    "       \n",
    "        sourceRows = source.ndim\n",
    "        sourceColum = source.size\n",
    "        offset = len(source)%windowWidth\n",
    "        if offset % 2 == 1:\n",
    "            offset=offset/2 +1\n",
    "        else:\n",
    "            offset=offset/2\n",
    "        # first array\n",
    "        start = offset\n",
    "        goal = start+windowWidth\n",
    "        window = source[start:goal].T\n",
    "        \n",
    "        for i in range(1,len(source)/windowWidth):\n",
    "            start = start+ int(windowWidth*overlap)\n",
    "            goal = start+windowWidth\n",
    "            adding = source[start:goal].T\n",
    "            window = np.dstack((window,adding))\n",
    "        return window.T"
   ]
  },
  {
   "cell_type": "code",
   "execution_count": 9,
   "metadata": {
    "collapsed": true
   },
   "outputs": [],
   "source": [
    "w = Window()"
   ]
  },
  {
   "cell_type": "code",
   "execution_count": 10,
   "metadata": {
    "collapsed": false
   },
   "outputs": [
    {
     "name": "stdout",
     "output_type": "stream",
     "text": [
      "dic1-AccX is registed now\n",
      "dic1-AccY is registed now\n",
      "dic1-AccZ is registed now\n"
     ]
    }
   ],
   "source": [
    "w.SetData('dic1-AccX',dic1['AccX'])\n",
    "w.SetData('dic1-AccY',dic1['AccY'])\n",
    "w.SetData('dic1-AccZ',dic1['AccZ'])"
   ]
  },
  {
   "cell_type": "code",
   "execution_count": 11,
   "metadata": {
    "collapsed": false
   },
   "outputs": [
    {
     "name": "stdout",
     "output_type": "stream",
     "text": [
      "dic2-AccX is registed now\n",
      "dic2-AccY is registed now\n",
      "dic2-AccZ is registed now\n"
     ]
    }
   ],
   "source": [
    "w.SetData('dic2-AccX',dic2['AccX'])\n",
    "w.SetData('dic2-AccY',dic2['AccY'])\n",
    "w.SetData('dic2-AccZ',dic2['AccZ'])"
   ]
  },
  {
   "cell_type": "code",
   "execution_count": 12,
   "metadata": {
    "collapsed": false
   },
   "outputs": [
    {
     "name": "stdout",
     "output_type": "stream",
     "text": [
      "dic3-AccX is registed now\n",
      "dic3-AccY is registed now\n",
      "dic3-AccZ is registed now\n"
     ]
    }
   ],
   "source": [
    "w.SetData('dic3-AccX',dic3['AccX'])\n",
    "w.SetData('dic3-AccY',dic3['AccY'])\n",
    "w.SetData('dic3-AccZ',dic3['AccZ'])"
   ]
  },
  {
   "cell_type": "code",
   "execution_count": 13,
   "metadata": {
    "collapsed": false
   },
   "outputs": [
    {
     "name": "stdout",
     "output_type": "stream",
     "text": [
      "dic4-AccX is registed now\n",
      "dic4-AccY is registed now\n",
      "dic4-AccZ is registed now\n"
     ]
    }
   ],
   "source": [
    "w.SetData('dic4-AccX',dic4['AccX'])\n",
    "w.SetData('dic4-AccY',dic4['AccY'])\n",
    "w.SetData('dic4-AccZ',dic4['AccZ'])"
   ]
  },
  {
   "cell_type": "code",
   "execution_count": 14,
   "metadata": {
    "collapsed": false
   },
   "outputs": [
    {
     "name": "stdout",
     "output_type": "stream",
     "text": [
      "dic5-AccX is registed now\n",
      "dic5-AccY is registed now\n",
      "dic5-AccZ is registed now\n"
     ]
    }
   ],
   "source": [
    "w.SetData('dic5-AccX',dic5['AccX'])\n",
    "w.SetData('dic5-AccY',dic5['AccY'])\n",
    "w.SetData('dic5-AccZ',dic5['AccZ'])"
   ]
  },
  {
   "cell_type": "code",
   "execution_count": 15,
   "metadata": {
    "collapsed": false
   },
   "outputs": [
    {
     "name": "stdout",
     "output_type": "stream",
     "text": [
      "dic6-AccX is registed now\n",
      "dic6-AccY is registed now\n",
      "dic6-AccZ is registed now\n"
     ]
    }
   ],
   "source": [
    "w.SetData('dic6-AccX',dic6['AccX'])\n",
    "w.SetData('dic6-AccY',dic6['AccY'])\n",
    "w.SetData('dic6-AccZ',dic6['AccZ'])"
   ]
  },
  {
   "cell_type": "code",
   "execution_count": 16,
   "metadata": {
    "collapsed": false
   },
   "outputs": [
    {
     "name": "stdout",
     "output_type": "stream",
     "text": [
      "dic7-AccX is registed now\n",
      "dic7-AccY is registed now\n",
      "dic7-AccZ is registed now\n"
     ]
    }
   ],
   "source": [
    "w.SetData('dic7-AccX',dic7['AccX'])\n",
    "w.SetData('dic7-AccY',dic7['AccY'])\n",
    "w.SetData('dic7-AccZ',dic7['AccZ'])"
   ]
  },
  {
   "cell_type": "code",
   "execution_count": 17,
   "metadata": {
    "collapsed": false
   },
   "outputs": [
    {
     "name": "stdout",
     "output_type": "stream",
     "text": [
      "Build Complete\n",
      "(254742, 21)\n"
     ]
    }
   ],
   "source": [
    "window = w.Compile(windowWidth=16,overlap=0.5)"
   ]
  },
  {
   "cell_type": "markdown",
   "metadata": {},
   "source": [
    "出来上がったwindowの形をみれば、Mnistを模倣したほうがいいかもしれない  \n",
    "というのは、windowの集合を見るとMnistに近いものになっていた  \n",
    "Mnistの訓練データは[sample, 28,28]  \n",
    "一方、出来上がったwindowは[sample,windowWidth,data]  \n",
    "また、cifar10は[sample,32,32,3]  \n"
   ]
  },
  {
   "cell_type": "code",
   "execution_count": 18,
   "metadata": {
    "collapsed": false
   },
   "outputs": [
    {
     "data": {
      "text/plain": [
       "(15921, 16, 21)"
      ]
     },
     "execution_count": 18,
     "metadata": {},
     "output_type": "execute_result"
    }
   ],
   "source": [
    "window.shape"
   ]
  },
  {
   "cell_type": "markdown",
   "metadata": {},
   "source": [
    "kerasとMnistに関して、入力層をどのようにやっているのかわからないので実際にデータをダウンロードしてどのような構造でダウンロードして、入力層に与えるときに何をしているかをはっきりさせる"
   ]
  },
  {
   "cell_type": "code",
   "execution_count": null,
   "metadata": {
    "collapsed": true
   },
   "outputs": [],
   "source": []
  },
  {
   "cell_type": "code",
   "execution_count": 19,
   "metadata": {
    "collapsed": true
   },
   "outputs": [],
   "source": [
    "from keras.datasets import mnist\n",
    "import numpy as np\n",
    "(x_train, _), (x_test, _) = mnist.load_data()"
   ]
  },
  {
   "cell_type": "code",
   "execution_count": 20,
   "metadata": {
    "collapsed": false
   },
   "outputs": [
    {
     "data": {
      "text/plain": [
       "(60000, 28, 28)"
      ]
     },
     "execution_count": 20,
     "metadata": {},
     "output_type": "execute_result"
    }
   ],
   "source": [
    "x_train.shape"
   ]
  },
  {
   "cell_type": "code",
   "execution_count": 21,
   "metadata": {
    "collapsed": false
   },
   "outputs": [
    {
     "name": "stdout",
     "output_type": "stream",
     "text": [
      "(60000, 784)\n",
      "(10000, 784)\n"
     ]
    }
   ],
   "source": [
    "x_train = x_train.astype('float32') / 255.\n",
    "x_test = x_test.astype('float32') / 255.\n",
    "x_train = x_train.reshape((len(x_train), np.prod(x_train.shape[1:])))\n",
    "x_test = x_test.reshape((len(x_test), np.prod(x_test.shape[1:])))\n",
    "print x_train.shape\n",
    "print x_test.shape"
   ]
  },
  {
   "cell_type": "markdown",
   "metadata": {},
   "source": [
    "以上から、(60000, 28, 28)の3次元でダウンロードして(60000, 784)に変換している"
   ]
  },
  {
   "cell_type": "code",
   "execution_count": 22,
   "metadata": {
    "collapsed": true
   },
   "outputs": [],
   "source": [
    "window_train = window.reshape((len(window),np.prod(window.shape[1:])))\n",
    "#window_train = window_train[:12000]\n",
    "window_test = window.reshape((len(window),np.prod(window.shape[1:])))\n",
    "#window_test = window_test[12001:]"
   ]
  },
  {
   "cell_type": "code",
   "execution_count": 23,
   "metadata": {
    "collapsed": false
   },
   "outputs": [
    {
     "name": "stdout",
     "output_type": "stream",
     "text": [
      "(15921, 336)\n"
     ]
    }
   ],
   "source": [
    "print window_train.shape"
   ]
  },
  {
   "cell_type": "markdown",
   "metadata": {},
   "source": [
    "define model"
   ]
  },
  {
   "cell_type": "code",
   "execution_count": 24,
   "metadata": {
    "collapsed": false
   },
   "outputs": [
    {
     "name": "stdout",
     "output_type": "stream",
     "text": [
      "Train on 15921 samples, validate on 15921 samples\n",
      "Epoch 1/50\n",
      "15921/15921 [==============================] - 0s - loss: 0.1848 - val_loss: 0.0825\n",
      "Epoch 2/50\n",
      "15921/15921 [==============================] - 0s - loss: 0.0746 - val_loss: 0.0703\n",
      "Epoch 3/50\n",
      "15921/15921 [==============================] - 0s - loss: 0.0667 - val_loss: 0.0632\n",
      "Epoch 4/50\n",
      "15921/15921 [==============================] - 0s - loss: 0.0600 - val_loss: 0.0566\n",
      "Epoch 5/50\n",
      "15921/15921 [==============================] - 0s - loss: 0.0517 - val_loss: 0.0460\n",
      "Epoch 6/50\n",
      "15921/15921 [==============================] - 0s - loss: 0.0422 - val_loss: 0.0395\n",
      "Epoch 7/50\n",
      "15921/15921 [==============================] - 0s - loss: 0.0383 - val_loss: 0.0374\n",
      "Epoch 8/50\n",
      "15921/15921 [==============================] - 0s - loss: 0.0367 - val_loss: 0.0360\n",
      "Epoch 9/50\n",
      "15921/15921 [==============================] - 0s - loss: 0.0354 - val_loss: 0.0348\n",
      "Epoch 10/50\n",
      "15921/15921 [==============================] - 0s - loss: 0.0337 - val_loss: 0.0327\n",
      "Epoch 11/50\n",
      "15921/15921 [==============================] - 0s - loss: 0.0317 - val_loss: 0.0308\n",
      "Epoch 12/50\n",
      "15921/15921 [==============================] - 0s - loss: 0.0297 - val_loss: 0.0285\n",
      "Epoch 13/50\n",
      "15921/15921 [==============================] - 0s - loss: 0.0279 - val_loss: 0.0271\n",
      "Epoch 14/50\n",
      "15921/15921 [==============================] - 0s - loss: 0.0265 - val_loss: 0.0261\n",
      "Epoch 15/50\n",
      "15921/15921 [==============================] - 0s - loss: 0.0255 - val_loss: 0.0253\n",
      "Epoch 16/50\n",
      "15921/15921 [==============================] - 0s - loss: 0.0246 - val_loss: 0.0244\n",
      "Epoch 17/50\n",
      "15921/15921 [==============================] - 0s - loss: 0.0240 - val_loss: 0.0234\n",
      "Epoch 18/50\n",
      "15921/15921 [==============================] - 0s - loss: 0.0234 - val_loss: 0.0229\n",
      "Epoch 19/50\n",
      "15921/15921 [==============================] - 0s - loss: 0.0231 - val_loss: 0.0226\n",
      "Epoch 20/50\n",
      "15921/15921 [==============================] - 0s - loss: 0.0226 - val_loss: 0.0226\n",
      "Epoch 21/50\n",
      "15921/15921 [==============================] - 0s - loss: 0.0224 - val_loss: 0.0222\n",
      "Epoch 22/50\n",
      "15921/15921 [==============================] - 0s - loss: 0.0218 - val_loss: 0.0218\n",
      "Epoch 23/50\n",
      "15921/15921 [==============================] - 0s - loss: 0.0218 - val_loss: 0.0222\n",
      "Epoch 24/50\n",
      "15921/15921 [==============================] - 0s - loss: 0.0211 - val_loss: 0.0209\n",
      "Epoch 25/50\n",
      "15921/15921 [==============================] - 0s - loss: 0.0212 - val_loss: 0.0205\n",
      "Epoch 26/50\n",
      "15921/15921 [==============================] - 0s - loss: 0.0209 - val_loss: 0.0209\n",
      "Epoch 27/50\n",
      "15921/15921 [==============================] - 0s - loss: 0.0210 - val_loss: 0.0221\n",
      "Epoch 28/50\n",
      "15921/15921 [==============================] - 0s - loss: 0.0207 - val_loss: 0.0202\n",
      "Epoch 29/50\n",
      "15921/15921 [==============================] - 0s - loss: 0.0207 - val_loss: 0.0212\n",
      "Epoch 30/50\n",
      "15921/15921 [==============================] - 0s - loss: 0.0206 - val_loss: 0.0207\n",
      "Epoch 31/50\n",
      "15921/15921 [==============================] - 0s - loss: 0.0202 - val_loss: 0.0201\n",
      "Epoch 32/50\n",
      "15921/15921 [==============================] - 0s - loss: 0.0200 - val_loss: 0.0202\n",
      "Epoch 33/50\n",
      "15921/15921 [==============================] - 0s - loss: 0.0203 - val_loss: 0.0195\n",
      "Epoch 34/50\n",
      "15921/15921 [==============================] - 0s - loss: 0.0198 - val_loss: 0.0194\n",
      "Epoch 35/50\n",
      "15921/15921 [==============================] - 0s - loss: 0.0197 - val_loss: 0.0199\n",
      "Epoch 36/50\n",
      "15921/15921 [==============================] - 0s - loss: 0.0197 - val_loss: 0.0198\n",
      "Epoch 37/50\n",
      "15921/15921 [==============================] - 0s - loss: 0.0196 - val_loss: 0.0189\n",
      "Epoch 38/50\n",
      "15921/15921 [==============================] - 0s - loss: 0.0196 - val_loss: 0.0191\n",
      "Epoch 39/50\n",
      "15921/15921 [==============================] - 0s - loss: 0.0197 - val_loss: 0.0204\n",
      "Epoch 40/50\n",
      "15921/15921 [==============================] - 0s - loss: 0.0195 - val_loss: 0.0191\n",
      "Epoch 41/50\n",
      "15921/15921 [==============================] - 0s - loss: 0.0196 - val_loss: 0.0190\n",
      "Epoch 42/50\n",
      "15921/15921 [==============================] - 0s - loss: 0.0193 - val_loss: 0.0201\n",
      "Epoch 43/50\n",
      "15921/15921 [==============================] - 0s - loss: 0.0194 - val_loss: 0.0188\n",
      "Epoch 44/50\n",
      "15921/15921 [==============================] - 0s - loss: 0.0191 - val_loss: 0.0194\n",
      "Epoch 45/50\n",
      "15921/15921 [==============================] - 0s - loss: 0.0193 - val_loss: 0.0198\n",
      "Epoch 46/50\n",
      "15921/15921 [==============================] - 0s - loss: 0.0194 - val_loss: 0.0186\n",
      "Epoch 47/50\n",
      "15921/15921 [==============================] - 0s - loss: 0.0192 - val_loss: 0.0195\n",
      "Epoch 48/50\n",
      "15921/15921 [==============================] - 0s - loss: 0.0190 - val_loss: 0.0191\n",
      "Epoch 49/50\n",
      "15921/15921 [==============================] - 0s - loss: 0.0191 - val_loss: 0.0190\n",
      "Epoch 50/50\n",
      "15921/15921 [==============================] - 0s - loss: 0.0191 - val_loss: 0.0196\n"
     ]
    },
    {
     "data": {
      "text/plain": [
       "<keras.callbacks.History at 0x7efe08082890>"
      ]
     },
     "execution_count": 24,
     "metadata": {},
     "output_type": "execute_result"
    }
   ],
   "source": [
    "from keras.layers import Input, Dense\n",
    "from keras.models import Model\n",
    "\n",
    "# this is the size of our encoded representations\n",
    "encoding_dim = 8  # 32 floats -> compression of factor 24.5, assuming the input is 784 floats\n",
    "\n",
    "shapeNum=window_train.shape[1]\n",
    "\n",
    "# this is our input placeholder\n",
    "input_img = Input(shape=(shapeNum,))\n",
    "# \"encoded\" is the encoded representation of the input\n",
    "encoded = Dense(encoding_dim, activation='tanh')(input_img)\n",
    "# \"decoded\" is the lossy reconstruction of the input\n",
    "decoded = Dense(shapeNum, activation='linear')(encoded)\n",
    "\n",
    "# this model maps an input to its reconstruction\n",
    "autoencoder = Model(input=input_img, output=decoded)\n",
    "\n",
    "# this model maps an input to its encoded representation\n",
    "encoder = Model(input=input_img, output=encoded)\n",
    "\n",
    "# create a placeholder for an encoded (32-dimensional) input\n",
    "encoded_input = Input(shape=(encoding_dim,))\n",
    "# retrieve the last layer of the autoencoder model\n",
    "decoder_layer = autoencoder.layers[-1]\n",
    "# create the decoder model\n",
    "decoder = Model(input=encoded_input, output=decoder_layer(encoded_input))\n",
    "\n",
    "autoencoder.compile(optimizer='adadelta', loss='mse')\n",
    "\n",
    "autoencoder.fit(window_train, window_train,\n",
    "                nb_epoch=50,\n",
    "                batch_size=shapeNum/4,\n",
    "                shuffle=True,\n",
    "                validation_data=(window_test, window_test))"
   ]
  },
  {
   "cell_type": "code",
   "execution_count": 25,
   "metadata": {
    "collapsed": false
   },
   "outputs": [],
   "source": [
    "encoded_imgs = encoder.predict(window_test)\n",
    "decoded_imgs = decoder.predict(encoded_imgs)"
   ]
  },
  {
   "cell_type": "code",
   "execution_count": 26,
   "metadata": {
    "collapsed": false
   },
   "outputs": [],
   "source": [
    "window_train =window_train.reshape(15921,16, 21)"
   ]
  },
  {
   "cell_type": "code",
   "execution_count": 27,
   "metadata": {
    "collapsed": false
   },
   "outputs": [],
   "source": [
    "decoded_imgs = decoded_imgs.reshape(15921,16, 21)"
   ]
  },
  {
   "cell_type": "markdown",
   "metadata": {},
   "source": [
    "あるセンサの一次元のみでやってみる"
   ]
  },
  {
   "cell_type": "code",
   "execution_count": 28,
   "metadata": {
    "collapsed": true
   },
   "outputs": [],
   "source": [
    "w1 = Window()"
   ]
  },
  {
   "cell_type": "code",
   "execution_count": 29,
   "metadata": {
    "collapsed": false
   },
   "outputs": [
    {
     "name": "stdout",
     "output_type": "stream",
     "text": [
      "AccX is registed now\n"
     ]
    }
   ],
   "source": [
    "w1.SetData('AccX', dic1['AccX'])"
   ]
  },
  {
   "cell_type": "code",
   "execution_count": 30,
   "metadata": {
    "collapsed": false
   },
   "outputs": [
    {
     "name": "stdout",
     "output_type": "stream",
     "text": [
      "Build Complete\n",
      "(254742,)\n"
     ]
    }
   ],
   "source": [
    "window1 = w1.Compile(windowWidth=16,overlap=0.5)"
   ]
  },
  {
   "cell_type": "code",
   "execution_count": 31,
   "metadata": {
    "collapsed": false
   },
   "outputs": [
    {
     "data": {
      "text/plain": [
       "(15921, 16, 1)"
      ]
     },
     "execution_count": 31,
     "metadata": {},
     "output_type": "execute_result"
    }
   ],
   "source": [
    "window1.shape"
   ]
  },
  {
   "cell_type": "code",
   "execution_count": 38,
   "metadata": {
    "collapsed": true
   },
   "outputs": [],
   "source": [
    "def Convert3dto2d(window):\n",
    "    output = window.reshape((len(window),np.prod(window.shape[1:])))\n",
    "    return output"
   ]
  },
  {
   "cell_type": "code",
   "execution_count": 39,
   "metadata": {
    "collapsed": true
   },
   "outputs": [
    {
     "name": "stdout",
     "output_type": "stream",
     "text": [
      "Train on 15921 samples, validate on 15921 samples\n",
      "Epoch 1/50\n",
      "15921/15921 [==============================] - 4s - loss: 0.0407 - val_loss: 0.0025\n",
      "Epoch 2/50\n",
      "15921/15921 [==============================] - 3s - loss: 0.0018 - val_loss: 0.0013\n",
      "Epoch 3/50\n",
      "15921/15921 [==============================] - 4s - loss: 0.0011 - val_loss: 8.8984e-04\n",
      "Epoch 4/50\n",
      "15921/15921 [==============================] - 4s - loss: 7.5812e-04 - val_loss: 6.2153e-04\n",
      "Epoch 5/50\n",
      "15921/15921 [==============================] - 4s - loss: 5.7205e-04 - val_loss: 4.7997e-04\n",
      "Epoch 6/50\n",
      "15921/15921 [==============================] - 4s - loss: 4.6761e-04 - val_loss: 4.1491e-04\n",
      "Epoch 7/50\n",
      "15921/15921 [==============================] - 4s - loss: 4.0625e-04 - val_loss: 3.9985e-04\n",
      "Epoch 8/50\n",
      "15921/15921 [==============================] - 4s - loss: 3.6607e-04 - val_loss: 3.3852e-04\n",
      "Epoch 9/50\n",
      "15921/15921 [==============================] - 4s - loss: 3.4315e-04 - val_loss: 2.8422e-04\n",
      "Epoch 10/50\n",
      "15921/15921 [==============================] - 4s - loss: 3.1304e-04 - val_loss: 2.7949e-04\n",
      "Epoch 11/50\n",
      "15921/15921 [==============================] - 4s - loss: 2.9555e-04 - val_loss: 2.4158e-04\n",
      "Epoch 12/50\n",
      "15921/15921 [==============================] - 4s - loss: 2.7839e-04 - val_loss: 3.6572e-04\n",
      "Epoch 13/50\n",
      "15921/15921 [==============================] - 4s - loss: 2.6576e-04 - val_loss: 2.5024e-04\n",
      "Epoch 14/50\n",
      "15921/15921 [==============================] - 4s - loss: 2.5342e-04 - val_loss: 4.8836e-04\n",
      "Epoch 15/50\n",
      "15921/15921 [==============================] - 4s - loss: 2.4407e-04 - val_loss: 2.0739e-04\n",
      "Epoch 16/50\n",
      "15921/15921 [==============================] - 4s - loss: 2.3059e-04 - val_loss: 1.7805e-04\n",
      "Epoch 17/50\n",
      "15921/15921 [==============================] - 4s - loss: 2.2487e-04 - val_loss: 1.6982e-04\n",
      "Epoch 18/50\n",
      "15921/15921 [==============================] - 4s - loss: 2.1623e-04 - val_loss: 1.6987e-04\n",
      "Epoch 19/50\n",
      "15921/15921 [==============================] - 4s - loss: 2.0382e-04 - val_loss: 1.4807e-04\n",
      "Epoch 20/50\n",
      "15921/15921 [==============================] - 4s - loss: 1.9417e-04 - val_loss: 1.7595e-04\n",
      "Epoch 21/50\n",
      "15921/15921 [==============================] - 3s - loss: 1.8481e-04 - val_loss: 1.3310e-04\n",
      "Epoch 22/50\n",
      "15921/15921 [==============================] - 3s - loss: 1.8339e-04 - val_loss: 1.7042e-04\n",
      "Epoch 23/50\n",
      "15921/15921 [==============================] - 4s - loss: 1.7405e-04 - val_loss: 1.5798e-04\n",
      "Epoch 24/50\n",
      "15921/15921 [==============================] - 4s - loss: 1.6716e-04 - val_loss: 1.8805e-04\n",
      "Epoch 25/50\n",
      "15921/15921 [==============================] - 4s - loss: 1.6675e-04 - val_loss: 1.2198e-04\n",
      "Epoch 26/50\n",
      "15921/15921 [==============================] - 4s - loss: 1.5843e-04 - val_loss: 1.0671e-04\n",
      "Epoch 27/50\n",
      "15921/15921 [==============================] - 4s - loss: 1.5164e-04 - val_loss: 6.7088e-04\n",
      "Epoch 28/50\n",
      "15921/15921 [==============================] - 4s - loss: 1.5267e-04 - val_loss: 1.0723e-04\n",
      "Epoch 29/50\n",
      "15921/15921 [==============================] - 4s - loss: 1.5005e-04 - val_loss: 9.6877e-05\n",
      "Epoch 30/50\n",
      "15921/15921 [==============================] - 4s - loss: 1.4275e-04 - val_loss: 9.3583e-05\n",
      "Epoch 31/50\n",
      "15921/15921 [==============================] - 4s - loss: 1.3957e-04 - val_loss: 9.3331e-05\n",
      "Epoch 32/50\n",
      "15921/15921 [==============================] - 3s - loss: 1.4403e-04 - val_loss: 9.7974e-04\n",
      "Epoch 33/50\n",
      "15921/15921 [==============================] - 4s - loss: 1.3470e-04 - val_loss: 8.5061e-05\n",
      "Epoch 34/50\n",
      "15921/15921 [==============================] - 4s - loss: 1.3828e-04 - val_loss: 8.8846e-04\n",
      "Epoch 35/50\n",
      "15921/15921 [==============================] - 4s - loss: 1.3318e-04 - val_loss: 1.2228e-04\n",
      "Epoch 36/50\n",
      "15921/15921 [==============================] - 4s - loss: 1.2810e-04 - val_loss: 1.1449e-04\n",
      "Epoch 37/50\n",
      "15921/15921 [==============================] - 4s - loss: 1.2549e-04 - val_loss: 1.0257e-04\n",
      "Epoch 38/50\n",
      "15921/15921 [==============================] - 4s - loss: 1.2648e-04 - val_loss: 7.8135e-05\n",
      "Epoch 39/50\n",
      "15921/15921 [==============================] - 4s - loss: 1.2491e-04 - val_loss: 7.5677e-05\n",
      "Epoch 40/50\n",
      "15921/15921 [==============================] - 4s - loss: 1.2520e-04 - val_loss: 9.3216e-05\n",
      "Epoch 41/50\n",
      "15921/15921 [==============================] - 4s - loss: 1.2686e-04 - val_loss: 2.2967e-04\n",
      "Epoch 42/50\n",
      "15921/15921 [==============================] - 3s - loss: 1.2148e-04 - val_loss: 1.9660e-04\n",
      "Epoch 43/50\n",
      "15921/15921 [==============================] - 4s - loss: 1.2313e-04 - val_loss: 2.1993e-04\n",
      "Epoch 44/50\n",
      "15921/15921 [==============================] - 4s - loss: 1.1848e-04 - val_loss: 9.8749e-04\n",
      "Epoch 45/50\n",
      "15921/15921 [==============================] - 3s - loss: 1.2120e-04 - val_loss: 7.4086e-05\n",
      "Epoch 46/50\n",
      "15921/15921 [==============================] - 3s - loss: 1.1882e-04 - val_loss: 7.6056e-05\n",
      "Epoch 47/50\n",
      "15921/15921 [==============================] - 4s - loss: 1.2068e-04 - val_loss: 6.8435e-05\n",
      "Epoch 48/50\n",
      "15921/15921 [==============================] - 3s - loss: 1.1822e-04 - val_loss: 6.6954e-05\n",
      "Epoch 49/50\n",
      "15921/15921 [==============================] - 4s - loss: 1.1740e-04 - val_loss: 6.8327e-05\n",
      "Epoch 50/50\n",
      "15921/15921 [==============================] - 4s - loss: 1.1972e-04 - val_loss: 7.1130e-05\n"
     ]
    },
    {
     "data": {
      "text/plain": [
       "<keras.callbacks.History at 0x7efdf82ae4d0>"
      ]
     },
     "execution_count": 39,
     "metadata": {},
     "output_type": "execute_result"
    }
   ],
   "source": [
    "from keras.layers import Input, Dense\n",
    "from keras.models import Model\n",
    "\n",
    "col = window1.shape[1]\n",
    "row = window1.shape[2]\n",
    "shapeNum=col*row\n",
    "\n",
    "SaveFileNameEncord='sensor1_encoded'\n",
    "SaveFileNameDecord='sensor1_decoded'\n",
    "window_train=Convert3dto2d(window1)\n",
    "window_test=Convert3dto2d(window1)\n",
    "\n",
    "encoding_dim = 8  # 32 floats -> compression of factor 24.5, assuming the input is 784 floats\n",
    "\n",
    "# this is our input placeholder\n",
    "input_img = Input(shape=(shapeNum,))\n",
    "# \"encoded\" is the encoded representation of the input\n",
    "encoded = Dense(encoding_dim, activation='tanh')(input_img)\n",
    "# \"decoded\" is the lossy reconstruction of the input\n",
    "decoded = Dense(shapeNum, activation='linear')(encoded)\n",
    "\n",
    "# this model maps an input to its reconstruction\n",
    "autoencoder = Model(input=input_img, output=decoded)\n",
    "\n",
    "# this model maps an input to its encoded representation\n",
    "encoder = Model(input=input_img, output=encoded)\n",
    "\n",
    "# create a placeholder for an encoded (32-dimensional) input\n",
    "encoded_input = Input(shape=(encoding_dim,))\n",
    "# retrieve the last layer of the autoencoder model\n",
    "decoder_layer = autoencoder.layers[-1]\n",
    "# create the decoder model\n",
    "decoder = Model(input=encoded_input, output=decoder_layer(encoded_input))\n",
    "\n",
    "autoencoder.compile(optimizer='adadelta', loss='mse')\n",
    "\n",
    "autoencoder.fit(window_train, window_train,\n",
    "                nb_epoch=50,\n",
    "                batch_size=shapeNum/4,\n",
    "                shuffle=True,\n",
    "                validation_data=(window_test, window_test))\n",
    "\n",
    "encoded_imgs = encoder.predict(window_test)\n",
    "decoded_imgs = decoder.predict(encoded_imgs)\n",
    "\n",
    "processing.SaveDicDataFromFileNPZ(StudyDataPath,SaveFileNameEncord,\n",
    "                                  encoder.predict(window_test))\n",
    "\n",
    "processing.SaveDicDataFromFileNPZ(StudyDataPath,SaveFileNameDecord,\n",
    "                                  encoder.predict(decoded_imgs))"
   ]
  },
  {
   "cell_type": "code",
   "execution_count": 40,
   "metadata": {
    "collapsed": false,
    "scrolled": false
   },
   "outputs": [],
   "source": []
  },
  {
   "cell_type": "code",
   "execution_count": 41,
   "metadata": {
    "collapsed": true
   },
   "outputs": [],
   "source": [
    "import processing"
   ]
  },
  {
   "cell_type": "code",
   "execution_count": 42,
   "metadata": {
    "collapsed": false
   },
   "outputs": [],
   "source": []
  },
  {
   "cell_type": "code",
   "execution_count": 44,
   "metadata": {
    "collapsed": false
   },
   "outputs": [],
   "source": []
  },
  {
   "cell_type": "code",
   "execution_count": null,
   "metadata": {
    "collapsed": true
   },
   "outputs": [],
   "source": []
  },
  {
   "cell_type": "code",
   "execution_count": null,
   "metadata": {
    "collapsed": true
   },
   "outputs": [],
   "source": []
  }
 ],
 "metadata": {
  "kernelspec": {
   "display_name": "Python 2",
   "language": "python",
   "name": "python2"
  },
  "language_info": {
   "codemirror_mode": {
    "name": "ipython",
    "version": 2
   },
   "file_extension": ".py",
   "mimetype": "text/x-python",
   "name": "python",
   "nbconvert_exporter": "python",
   "pygments_lexer": "ipython2",
   "version": "2.7.11"
  }
 },
 "nbformat": 4,
 "nbformat_minor": 0
}
