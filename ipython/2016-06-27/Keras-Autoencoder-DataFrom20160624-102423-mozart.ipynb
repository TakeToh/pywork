{
 "cells": [
  {
   "cell_type": "code",
   "execution_count": 1,
   "metadata": {
    "collapsed": true
   },
   "outputs": [],
   "source": [
    "import numpy as np\n",
    "import pandas as pd\n",
    "from scipy import fftpack\n",
    "from scipy import signal\n",
    "import time\n",
    "import os\n",
    "import matplotlib.pyplot as plt\n",
    "import pickle\n",
    "import copy\n",
    "%matplotlib inline"
   ]
  },
  {
   "cell_type": "code",
   "execution_count": 2,
   "metadata": {
    "collapsed": true
   },
   "outputs": [],
   "source": [
    "#WORKSPACE_PATH = '/home/takeyama/pywork/ipython/2016-06-20'"
   ]
  },
  {
   "cell_type": "code",
   "execution_count": 3,
   "metadata": {
    "collapsed": true
   },
   "outputs": [],
   "source": [
    "#RestorePath = WORKSPACE_PATH+'/raw/'"
   ]
  },
  {
   "cell_type": "code",
   "execution_count": 4,
   "metadata": {
    "collapsed": false
   },
   "outputs": [],
   "source": [
    "#cd ~/Documents/ALTIMA/20160624-102423/"
   ]
  },
  {
   "cell_type": "code",
   "execution_count": 5,
   "metadata": {
    "collapsed": true
   },
   "outputs": [],
   "source": [
    "'''\n",
    "csv_file -> ファイル名\n",
    "mode Round -> 四捨五入\n",
    "     Roundup -> 切り上げ\n",
    "     Rounddown -> 切り捨て\n",
    "'''\n",
    "def ImportCSV(csv_file,freq,SensorName,mode='Round'):\n",
    "    # data dictionary \n",
    "    RawData={}   \n",
    "\n",
    "    # design dataframe and import csv\n",
    "    data = pd.read_csv(csv_file)\n",
    "    data.columns=[u'Type',u'Time',u'AccX',u'AccY',u'AccZ',u'GyrX',u'GyrY',u'GyrZ']\n",
    "    data = data[ data['Type']=='ags']\n",
    "\n",
    "    # convert numpy.darray \n",
    "    # Acc Data  [0.1mG]=>[G]\n",
    "    # Gyr Data  [0.01dps]=>[dps]   ...dps=degree per second\n",
    "    AccX=data.AccX.values*0.0001\n",
    "    AccY=data.AccY.values*0.0001\n",
    "    AccZ=data.AccZ.values*0.0001\n",
    "    GyrX=data.GyrX.values*0.01\n",
    "    GyrY=data.GyrY.values*0.01\n",
    "    GyrZ=data.GyrZ.values*0.01\n",
    "\n",
    "    # regist each raw data \n",
    "    RawData['AccX'] = AccX\n",
    "    RawData['AccY'] = AccY\n",
    "    RawData['AccZ'] = AccZ\n",
    "    RawData['GyrX'] = GyrX\n",
    "    RawData['GyrY'] = GyrY\n",
    "    RawData['GyrZ'] = GyrZ\n",
    "    RawData['Name'] = SensorName\n",
    "\n",
    "    # import time by using numpy\n",
    "    time = data.Time.values #時間の列だけを抽出       \n",
    "\n",
    "    if mode == 'Roundup':\n",
    "        func = lambda x: int(x/freq)*freq\n",
    "    elif mode == 'Rounddown':\n",
    "        func = lambda x: int(x/freq)*freq\n",
    "    elif mode == 'Round':\n",
    "        func = lambda x: int((x+freq/2)/freq)*freq\n",
    "    #ERROR\n",
    "    else:\n",
    "        print 'check mode and inputed word is caused error'\n",
    "        return -1\n",
    "\n",
    "    output = map(func,time)\n",
    "    RawData['Time'] = np.array(output)\n",
    "\n",
    "    return RawData\n"
   ]
  },
  {
   "cell_type": "code",
   "execution_count": 6,
   "metadata": {
    "collapsed": true
   },
   "outputs": [],
   "source": [
    "def CalcStartTime(array):\n",
    "    MAX = min(array[0])\n",
    "    \n",
    "    for i in range(len(array)):\n",
    "        if MAX < min(array[i]):\n",
    "            MAX = min(array[i])\n",
    "     \n",
    "    return  MAX"
   ]
  },
  {
   "cell_type": "code",
   "execution_count": 7,
   "metadata": {
    "collapsed": true
   },
   "outputs": [],
   "source": [
    "def CalcGoalTime(array):\n",
    "    MIN = max(array[0])\n",
    "    \n",
    "    for i in range(len(array)):\n",
    "        if MIN > max(array[i]):\n",
    "            MIN = max(array[i])\n",
    "     \n",
    "    return  MIN"
   ]
  },
  {
   "cell_type": "code",
   "execution_count": 8,
   "metadata": {
    "collapsed": true
   },
   "outputs": [],
   "source": [
    "\"\"\"\n",
    "    checkData に入れるものは辞書型にする\n",
    "    freqは計測周期\n",
    "\"\"\"\n",
    "def NanPating(DicData,freq):\n",
    "    import time\n",
    "    start_time = time.time()\n",
    "    \n",
    "    # detection for hidden Nan Data\n",
    "    diffNum =np.array([])\n",
    "    diffIndex=np.array([])\n",
    "    checkData = DicData['Time']\n",
    "    width = len(checkData)\n",
    "    for i in range(0,width-1):\n",
    "        if ( checkData[i+1]-checkData[i] )!=freq:\n",
    "            diffNum=np.append(diffNum, int(checkData[i+1]-checkData[i]) )\n",
    "            diffIndex=np.append(diffIndex,i)\n",
    "   \n",
    "    # insert NAN data to SensorData\n",
    "    # insert time_data\n",
    "    def Insert(data,dI,dN,f,mode):\n",
    "        StartIndex= 0\n",
    "        tmp =np.array([])\n",
    "        if mode =='Sensor':\n",
    "            # insert NAN DATA\n",
    "            adding = np.nan\n",
    "            for count,l in enumerate(dI):\n",
    "                tmp = np.append(tmp, data[StartIndex:int(l)])\n",
    "                for i in range(0,int(dN[count]/f) ):\n",
    "                    tmp = np.append(tmp,np.nan)\n",
    "                StartIndex = int(l)+1\n",
    "            tmp=np.append(tmp, data[StartIndex:])\n",
    "        elif mode =='Time':\n",
    "            # insert \n",
    "            for count,l in enumerate(dI):\n",
    "                tmp = np.append(tmp, data[StartIndex:int(l)])\n",
    "                for i in range(0,int(dN[count]/f) ):\n",
    "                    t = int( tmp[-1]+f )\n",
    "                    tmp = np.append(tmp,t)\n",
    "                StartIndex = int(l)+1\n",
    "            tmp=np.append(tmp, data[StartIndex:])\n",
    "        else:\n",
    "            print 'mode name error'\n",
    "        return tmp\n",
    "    Array ={}\n",
    "    tmpArrayAccX=Insert(DicData['AccX'],diffIndex,diffNum,freq,mode='Sensor')\n",
    "    tmpArrayAccY=Insert(DicData['AccY'],diffIndex,diffNum,freq,mode='Sensor')\n",
    "    tmpArrayAccZ=Insert(DicData['AccZ'],diffIndex,diffNum,freq,mode='Sensor')\n",
    "    tmpArrayGyrX=Insert(DicData['GyrX'],diffIndex,diffNum,freq,mode='Sensor')\n",
    "    tmpArrayGyrY=Insert(DicData['GyrY'],diffIndex,diffNum,freq,mode='Sensor')\n",
    "    tmpArrayGyrZ=Insert(DicData['GyrZ'],diffIndex,diffNum,freq,mode='Sensor')\n",
    "    tmpArrayTime=Insert(DicData['Time'],diffIndex,diffNum,freq,mode='Time')\n",
    "    Array['AccX'] = tmpArrayAccX\n",
    "    Array['AccY'] = tmpArrayAccY\n",
    "    Array['AccZ'] = tmpArrayAccZ\n",
    "    Array['GyrX'] = tmpArrayGyrX\n",
    "    Array['GyrY'] = tmpArrayGyrY\n",
    "    Array['GyrZ'] = tmpArrayGyrZ\n",
    "    Array['Time'] = tmpArrayTime\n",
    "    Array['Name'] = DicData['Name']\n",
    "    #Array=[Time:tmpArrayTime,tmpArrayAccX,tmpArrayAccY,tmpArrayAccZ,tmpArrayGyrX,tmpArrayGyrY,tmpArrayGyrZ]\n",
    "    elapsed_time = time.time() -start_time\n",
    "    print (\"elapsed_time:{0}\".format(elapsed_time)) + \"[sec]\"\n",
    "    return Array"
   ]
  },
  {
   "cell_type": "code",
   "execution_count": 9,
   "metadata": {
    "collapsed": true
   },
   "outputs": [],
   "source": [
    "\"\"\"\n",
    "    dic　辞書型のリスト\n",
    "\"\"\"\n",
    "def CalcStartTime(dic):\n",
    "    MAX = min(dic[0]['Time'])\n",
    "    \n",
    "    for i in range(len(dic)):\n",
    "        if MAX < min(dic[i]['Time']):\n",
    "            MAX = min(dic[i]['Time'])\n",
    "     \n",
    "    return  MAX"
   ]
  },
  {
   "cell_type": "code",
   "execution_count": 10,
   "metadata": {
    "collapsed": true
   },
   "outputs": [],
   "source": [
    "\"\"\"\n",
    "    dic　辞書型のリスト\n",
    "\"\"\"\n",
    "def CalcGoalTime(dic):\n",
    "    MIN = max(dic[0]['Time'])\n",
    "    \n",
    "    for i in range(len(dic)):\n",
    "        if MIN > max(dic[i]['Time']):\n",
    "            MIN = max(dic[i]['Time'])\n",
    "     \n",
    "    return  MIN"
   ]
  },
  {
   "cell_type": "code",
   "execution_count": 11,
   "metadata": {
    "collapsed": true
   },
   "outputs": [],
   "source": [
    "\"\"\"\n",
    "    data　辞書型\n",
    "    keyTime data['Time']の中の探す値\n",
    "\"\"\"\n",
    "def CalcSearchIndexFromTime(data, keyTime):\n",
    "    count = 0\n",
    "    for i in range(0, len(data['Time'])):\n",
    "        if keyTime == data['Time'][i]:\n",
    "            print str(keyTime)+' is much in the index  whose number is '+str(i)\n",
    "            return i"
   ]
  },
  {
   "cell_type": "code",
   "execution_count": 12,
   "metadata": {
    "collapsed": true
   },
   "outputs": [],
   "source": [
    "# name name.pickle = reservedName \n",
    "def SaveDicDataFromFileNPZ(name,data):\n",
    "    np.savez(name, data=data)"
   ]
  },
  {
   "cell_type": "code",
   "execution_count": 13,
   "metadata": {
    "collapsed": true
   },
   "outputs": [],
   "source": [
    "\"\"\"\n",
    "    loadName ロードするファイル名\n",
    "\"\"\"\n",
    "def LoadDicDataFromFileNPZ(loadName):\n",
    "    arrays = np.load(loadName+'.npz')\n",
    "    output = arrays['data'][()]\n",
    "    return output"
   ]
  },
  {
   "cell_type": "code",
   "execution_count": 14,
   "metadata": {
    "collapsed": true
   },
   "outputs": [],
   "source": [
    "def MakeCommonSection(inputDataArray):\n",
    "    # 共通区間のスタート時間、ゴール時間を求める\n",
    "    startTime = CalcStartTime(inputDataArray)\n",
    "    goalTime = CalcGoalTime(inputDataArray)\n",
    "\n",
    "    # 共通区間のスタート時間のインデックス、ゴール時間のインデックスを探索する\n",
    "    startIndex = np.array([])\n",
    "    goalIndex = np.array([])\n",
    "    for obj in inputDataArray:\n",
    "        print 'start'\n",
    "        startIndex = np.append(startIndex, CalcSearchIndexFromTime(obj, startTime) ).astype(int)\n",
    "        print 'goal'\n",
    "        goalIndex = np.append(goalIndex, CalcSearchIndexFromTime(obj, goalTime) ).astype(int)\n",
    "\n",
    "    tmp={}\n",
    "    comDataArray =[]\n",
    "    key={}\n",
    "\n",
    "    # センサデータすべて（時刻、加速度、角速度）に対して共通区間のみのデータを抽出\n",
    "    for number,iDA in enumerate( inputDataArray ):\n",
    "\n",
    "        tmp['AccX'] = copy.deepcopy( iDA['AccX'][startIndex[number]:goalIndex[number]] )\n",
    "        tmp['AccY'] = copy.deepcopy( iDA['AccY'][startIndex[number]:goalIndex[number]] )\n",
    "        tmp['AccZ'] = copy.deepcopy( iDA['AccZ'][startIndex[number]:goalIndex[number]] )\n",
    "        tmp['GyrX'] = copy.deepcopy( iDA['GyrX'][startIndex[number]:goalIndex[number]] )\n",
    "        tmp['GyrY'] = copy.deepcopy( iDA['GyrY'][startIndex[number]:goalIndex[number]] )\n",
    "        tmp['GyrZ'] = copy.deepcopy( iDA['GyrZ'][startIndex[number]:goalIndex[number]] )\n",
    "        tmp['Time'] = copy.deepcopy( iDA['Time'][startIndex[number]:goalIndex[number]] )\n",
    "        tmp['Name'] = copy.deepcopy( iDA['Name'] )\n",
    "        comDataArray.append(copy.deepcopy(tmp) )    \n",
    "        key[ tmp['Name'] ] = number\n",
    "        \n",
    "        # restore dictionary data\n",
    "        if not ( os.path.exists(RestorePath) ): os.makedirs(RestorePath)\n",
    "        SaveDicDataFromFileNPZ(RestorePath+tmp['Name'],tmp)\n",
    "        \n",
    "    return key,comDataArray"
   ]
  },
  {
   "cell_type": "code",
   "execution_count": 15,
   "metadata": {
    "collapsed": false
   },
   "outputs": [],
   "source": [
    "\"\"\"\n",
    "    key dicListの配列番号とdicの名前をつなげる配列\n",
    "    dicList 辞書型のデータをまとめたリスト\n",
    "    search 検索するセンサの名前\n",
    "\"\"\"\n",
    "def GetDicDataFromList(key,dicList,search):\n",
    "    i = key[search]\n",
    "    return dicList[i]"
   ]
  },
  {
   "cell_type": "code",
   "execution_count": 16,
   "metadata": {
    "collapsed": false
   },
   "outputs": [
    {
     "data": {
      "text/plain": [
       "{'AccX': array([-0.956 , -0.9609, -0.9589, ..., -0.9714, -0.9731, -0.9768]),\n",
       " 'AccY': array([ 0.2872,  0.2899,  0.293 , ...,  0.1961,  0.1942,  0.2003]),\n",
       " 'AccZ': array([-0.0974, -0.0964, -0.1035, ...,  0.0059,  0.0008,  0.0067]),\n",
       " 'GyrX': array([ 7.98,  8.33,  8.44, ..., -2.07, -1.93, -1.89]),\n",
       " 'GyrY': array([-7.96, -7.88, -7.93, ..., -0.28, -0.13, -0.11]),\n",
       " 'GyrZ': array([ 0.18,  0.18,  0.2 , ..., -0.49, -0.35, -0.31]),\n",
       " 'Name': 'MemSensor1',\n",
       " 'Time': array([35951381, 35951382, 35951383, ..., 36206120, 36206121, 36206122])}"
      ]
     },
     "execution_count": 16,
     "metadata": {},
     "output_type": "execute_result"
    }
   ],
   "source": [
    "LoadDicDataFromFileNPZ(\"raw/MemSensor1\")"
   ]
  },
  {
   "cell_type": "markdown",
   "metadata": {},
   "source": [
    "下のアルゴリズムにデータを渡せれるようなメソッドを作る。"
   ]
  },
  {
   "cell_type": "code",
   "execution_count": 17,
   "metadata": {
    "collapsed": false
   },
   "outputs": [
    {
     "name": "stderr",
     "output_type": "stream",
     "text": [
      "Using Theano backend.\n",
      "Using gpu device 0: GeForce GTX 970 (CNMeM is disabled, cuDNN 4007)\n"
     ]
    }
   ],
   "source": [
    "from keras.layers import Input, Dense\n",
    "from keras.models import Model\n",
    "\n",
    "# this is the size of our encoded representations\n",
    "encoding_dim = 32  # 32 floats -> compression of factor 24.5, assuming the input is 784 floats\n",
    "\n",
    "# this is our input placeholder\n",
    "input_img = Input(shape=(784,))\n",
    "# \"encoded\" is the encoded representation of the input\n",
    "encoded = Dense(encoding_dim, activation='relu')(input_img)\n",
    "# \"decoded\" is the lossy reconstruction of the input\n",
    "decoded = Dense(784, activation='sigmoid')(encoded)\n",
    "\n",
    "# this model maps an input to its reconstruction\n",
    "autoencoder = Model(input=input_img, output=decoded)"
   ]
  },
  {
   "cell_type": "markdown",
   "metadata": {
    "collapsed": true
   },
   "source": [
    "訓練、テストデータを渡すメソッドの流れを考える。\n",
    "1. 必要なデータの種を渡す\n",
    "2. すべての種を渡したらコンパイルみたいに種をまとめて、全データの８割を訓練、残りをテストデータにする"
   ]
  },
  {
   "cell_type": "markdown",
   "metadata": {
    "collapsed": true
   },
   "source": [
    "**2016-06-25**  \n",
    "Kerasについて勉強する"
   ]
  },
  {
   "cell_type": "markdown",
   "metadata": {},
   "source": [
    "Kerasのブログ　[ http://blog.keras.io/building-autoencoders-in-keras.html ]  \n",
    "model（ネットワーク）の作成\n"
   ]
  },
  {
   "cell_type": "code",
   "execution_count": 18,
   "metadata": {
    "collapsed": false
   },
   "outputs": [],
   "source": [
    "from keras.layers import Input, Dense\n",
    "from keras.models import Model\n",
    "\n",
    "# this is the size of our encoded representations\n",
    "encoding_dim = 32  # 32 floats -> compression of factor 24.5, assuming the input is 784 floats\n",
    "\n",
    "# this is our input placeholder\n",
    "input_img = Input(shape=(784,))\n",
    "# \"encoded\" is the encoded representation of the input\n",
    "encoded = Dense(encoding_dim, activation='relu')(input_img)\n",
    "# \"decoded\" is the lossy reconstruction of the input\n",
    "decoded = Dense(784, activation='sigmoid')(encoded)\n",
    "\n",
    "# this model maps an input to its reconstruction\n",
    "autoencoder = Model(input=input_img, output=decoded)"
   ]
  },
  {
   "cell_type": "code",
   "execution_count": 19,
   "metadata": {
    "collapsed": true
   },
   "outputs": [],
   "source": [
    "# this model maps an input to its encoded representation\n",
    "encoder = Model(input=input_img, output=encoded)"
   ]
  },
  {
   "cell_type": "code",
   "execution_count": 20,
   "metadata": {
    "collapsed": true
   },
   "outputs": [],
   "source": [
    "# create a placeholder for an encoded (32-dimensional) input\n",
    "encoded_input = Input(shape=(encoding_dim,))\n",
    "# retrieve the last layer of the autoencoder model\n",
    "decoder_layer = autoencoder.layers[-1]\n",
    "# create the decoder model\n",
    "decoder = Model(input=encoded_input, output=decoder_layer(encoded_input))"
   ]
  },
  {
   "cell_type": "code",
   "execution_count": 21,
   "metadata": {
    "collapsed": true
   },
   "outputs": [],
   "source": [
    "autoencoder.compile(optimizer='adadelta', loss='binary_crossentropy')"
   ]
  },
  {
   "cell_type": "code",
   "execution_count": 22,
   "metadata": {
    "collapsed": true
   },
   "outputs": [],
   "source": [
    "from keras.datasets import mnist\n",
    "import numpy as np\n",
    "(x_train, _), (x_test, _) = mnist.load_data()"
   ]
  },
  {
   "cell_type": "code",
   "execution_count": 23,
   "metadata": {
    "collapsed": false
   },
   "outputs": [
    {
     "name": "stdout",
     "output_type": "stream",
     "text": [
      "(60000, 784)\n",
      "(10000, 784)\n"
     ]
    }
   ],
   "source": [
    "x_train = x_train.astype('float32') / 255.\n",
    "x_test = x_test.astype('float32') / 255.\n",
    "x_train = x_train.reshape((len(x_train), np.prod(x_train.shape[1:])))\n",
    "x_test = x_test.reshape((len(x_test), np.prod(x_test.shape[1:])))\n",
    "print x_train.shape\n",
    "print x_test.shape"
   ]
  },
  {
   "cell_type": "code",
   "execution_count": 24,
   "metadata": {
    "collapsed": false
   },
   "outputs": [
    {
     "name": "stdout",
     "output_type": "stream",
     "text": [
      "Train on 60000 samples, validate on 10000 samples\n",
      "Epoch 1/50\n",
      "60000/60000 [==============================] - 0s - loss: 0.3725 - val_loss: 0.2736\n",
      "Epoch 2/50\n",
      "60000/60000 [==============================] - 0s - loss: 0.2674 - val_loss: 0.2582\n",
      "Epoch 3/50\n",
      "60000/60000 [==============================] - 0s - loss: 0.2478 - val_loss: 0.2347\n",
      "Epoch 4/50\n",
      "60000/60000 [==============================] - 0s - loss: 0.2265 - val_loss: 0.2164\n",
      "Epoch 5/50\n",
      "60000/60000 [==============================] - 0s - loss: 0.2108 - val_loss: 0.2027\n",
      "Epoch 6/50\n",
      "60000/60000 [==============================] - 0s - loss: 0.1986 - val_loss: 0.1919\n",
      "Epoch 7/50\n",
      "60000/60000 [==============================] - 0s - loss: 0.1892 - val_loss: 0.1837\n",
      "Epoch 8/50\n",
      "60000/60000 [==============================] - 0s - loss: 0.1818 - val_loss: 0.1770\n",
      "Epoch 9/50\n",
      "60000/60000 [==============================] - 0s - loss: 0.1758 - val_loss: 0.1716\n",
      "Epoch 10/50\n",
      "60000/60000 [==============================] - 0s - loss: 0.1708 - val_loss: 0.1669\n",
      "Epoch 11/50\n",
      "60000/60000 [==============================] - 0s - loss: 0.1663 - val_loss: 0.1627\n",
      "Epoch 12/50\n",
      "60000/60000 [==============================] - 0s - loss: 0.1623 - val_loss: 0.1588\n",
      "Epoch 13/50\n",
      "60000/60000 [==============================] - 0s - loss: 0.1586 - val_loss: 0.1552\n",
      "Epoch 14/50\n",
      "60000/60000 [==============================] - 0s - loss: 0.1551 - val_loss: 0.1518\n",
      "Epoch 15/50\n",
      "60000/60000 [==============================] - 0s - loss: 0.1518 - val_loss: 0.1488\n",
      "Epoch 16/50\n",
      "60000/60000 [==============================] - 0s - loss: 0.1487 - val_loss: 0.1458\n",
      "Epoch 17/50\n",
      "60000/60000 [==============================] - 0s - loss: 0.1459 - val_loss: 0.1430\n",
      "Epoch 18/50\n",
      "60000/60000 [==============================] - 0s - loss: 0.1432 - val_loss: 0.1404\n",
      "Epoch 19/50\n",
      "60000/60000 [==============================] - 0s - loss: 0.1407 - val_loss: 0.1380\n",
      "Epoch 20/50\n",
      "60000/60000 [==============================] - 0s - loss: 0.1384 - val_loss: 0.1357\n",
      "Epoch 21/50\n",
      "60000/60000 [==============================] - 0s - loss: 0.1362 - val_loss: 0.1336\n",
      "Epoch 22/50\n",
      "60000/60000 [==============================] - 0s - loss: 0.1341 - val_loss: 0.1316\n",
      "Epoch 23/50\n",
      "60000/60000 [==============================] - 0s - loss: 0.1322 - val_loss: 0.1298\n",
      "Epoch 24/50\n",
      "60000/60000 [==============================] - 0s - loss: 0.1303 - val_loss: 0.1279\n",
      "Epoch 25/50\n",
      "60000/60000 [==============================] - 0s - loss: 0.1286 - val_loss: 0.1262\n",
      "Epoch 26/50\n",
      "60000/60000 [==============================] - 0s - loss: 0.1269 - val_loss: 0.1246\n",
      "Epoch 27/50\n",
      "60000/60000 [==============================] - 0s - loss: 0.1253 - val_loss: 0.1231\n",
      "Epoch 28/50\n",
      "60000/60000 [==============================] - 0s - loss: 0.1238 - val_loss: 0.1216\n",
      "Epoch 29/50\n",
      "60000/60000 [==============================] - 0s - loss: 0.1224 - val_loss: 0.1203\n",
      "Epoch 30/50\n",
      "60000/60000 [==============================] - 0s - loss: 0.1211 - val_loss: 0.1189\n",
      "Epoch 31/50\n",
      "60000/60000 [==============================] - 0s - loss: 0.1198 - val_loss: 0.1177\n",
      "Epoch 32/50\n",
      "60000/60000 [==============================] - 0s - loss: 0.1187 - val_loss: 0.1166\n",
      "Epoch 33/50\n",
      "60000/60000 [==============================] - 0s - loss: 0.1176 - val_loss: 0.1155\n",
      "Epoch 34/50\n",
      "60000/60000 [==============================] - 0s - loss: 0.1165 - val_loss: 0.1145\n",
      "Epoch 35/50\n",
      "60000/60000 [==============================] - 0s - loss: 0.1156 - val_loss: 0.1136\n",
      "Epoch 36/50\n",
      "60000/60000 [==============================] - 0s - loss: 0.1147 - val_loss: 0.1127\n",
      "Epoch 37/50\n",
      "60000/60000 [==============================] - 0s - loss: 0.1138 - val_loss: 0.1119\n",
      "Epoch 38/50\n",
      "60000/60000 [==============================] - 0s - loss: 0.1130 - val_loss: 0.1110\n",
      "Epoch 39/50\n",
      "60000/60000 [==============================] - 0s - loss: 0.1122 - val_loss: 0.1103\n",
      "Epoch 40/50\n",
      "60000/60000 [==============================] - 0s - loss: 0.1115 - val_loss: 0.1096\n",
      "Epoch 41/50\n",
      "60000/60000 [==============================] - 0s - loss: 0.1109 - val_loss: 0.1090\n",
      "Epoch 42/50\n",
      "60000/60000 [==============================] - 0s - loss: 0.1102 - val_loss: 0.1083\n",
      "Epoch 43/50\n",
      "60000/60000 [==============================] - 0s - loss: 0.1096 - val_loss: 0.1078\n",
      "Epoch 44/50\n",
      "60000/60000 [==============================] - 0s - loss: 0.1091 - val_loss: 0.1072\n",
      "Epoch 45/50\n",
      "60000/60000 [==============================] - 0s - loss: 0.1085 - val_loss: 0.1067\n",
      "Epoch 46/50\n",
      "60000/60000 [==============================] - 0s - loss: 0.1080 - val_loss: 0.1062\n",
      "Epoch 47/50\n",
      "60000/60000 [==============================] - 0s - loss: 0.1075 - val_loss: 0.1057\n",
      "Epoch 48/50\n",
      "60000/60000 [==============================] - 0s - loss: 0.1071 - val_loss: 0.1053\n",
      "Epoch 49/50\n",
      "60000/60000 [==============================] - 0s - loss: 0.1066 - val_loss: 0.1048\n",
      "Epoch 50/50\n",
      "60000/60000 [==============================] - 0s - loss: 0.1062 - val_loss: 0.1044\n"
     ]
    },
    {
     "data": {
      "text/plain": [
       "<keras.callbacks.History at 0x7faaca190a90>"
      ]
     },
     "execution_count": 24,
     "metadata": {},
     "output_type": "execute_result"
    }
   ],
   "source": [
    "autoencoder.fit(x_train, x_train,\n",
    "                nb_epoch=50,\n",
    "                batch_size=256,\n",
    "                shuffle=True,\n",
    "                validation_data=(x_test, x_test))"
   ]
  },
  {
   "cell_type": "code",
   "execution_count": 25,
   "metadata": {
    "collapsed": true
   },
   "outputs": [],
   "source": [
    "# encode and decode some digits\n",
    "# note that we take them from the *test* set\n",
    "encoded_imgs = encoder.predict(x_test)\n",
    "decoded_imgs = decoder.predict(encoded_imgs)"
   ]
  },
  {
   "cell_type": "code",
   "execution_count": 26,
   "metadata": {
    "collapsed": false
   },
   "outputs": [
    {
     "data": {
      "image/png": "[encoded data removed]",
      "text/plain": [
       "<matplotlib.figure.Figure at 0x7faaca19bd90>"
      ]
     },
     "metadata": {},
     "output_type": "display_data"
    }
   ],
   "source": [
    "# use Matplotlib (don't ask)\n",
    "import matplotlib.pyplot as plt\n",
    "%matplotlib inline\n",
    "\n",
    "n = 10  # how many digits we will display\n",
    "plt.figure(figsize=(20, 4))\n",
    "for i in range(n):\n",
    "    # display original\n",
    "    ax = plt.subplot(2, n, i + 1)\n",
    "    plt.imshow(x_test[i].reshape(28, 28))\n",
    "    plt.gray()\n",
    "    ax.get_xaxis().set_visible(False)\n",
    "    ax.get_yaxis().set_visible(False)\n",
    "\n",
    "    # display reconstruction\n",
    "    ax = plt.subplot(2, n, i + 1 + n)\n",
    "    plt.imshow(decoded_imgs[i].reshape(28, 28))\n",
    "    plt.gray()\n",
    "    ax.get_xaxis().set_visible(False)\n",
    "    ax.get_yaxis().set_visible(False)\n",
    "plt.show()"
   ]
  },
  {
   "cell_type": "code",
   "execution_count": 27,
   "metadata": {
    "collapsed": false
   },
   "outputs": [
    {
     "data": {
      "text/plain": [
       "<matplotlib.image.AxesImage at 0x7faac51e6d10>"
      ]
     },
     "execution_count": 27,
     "metadata": {},
     "output_type": "execute_result"
    },
    {
     "data": {
      "image/png": "[encoded data removed]",
      "text/plain": [
       "<matplotlib.figure.Figure at 0x7faac53997d0>"
      ]
     },
     "metadata": {},
     "output_type": "display_data"
    }
   ],
   "source": [
    "from keras.utils.visualize_util import plot\n",
    "plot(autoencoder, to_file='model.png')\n",
    "\n",
    "from PIL import Image\n",
    "im = Image.open(\"./model.png\")\n",
    "plt.imshow(im)"
   ]
  },
  {
   "cell_type": "code",
   "execution_count": 28,
   "metadata": {
    "collapsed": false
   },
   "outputs": [
    {
     "data": {
      "text/plain": [
       "(60000, 784)"
      ]
     },
     "execution_count": 28,
     "metadata": {},
     "output_type": "execute_result"
    }
   ],
   "source": [
    "x_train.shape"
   ]
  },
  {
   "cell_type": "markdown",
   "metadata": {},
   "source": [
    "実際にAutoEncderをやってみる。"
   ]
  },
  {
   "cell_type": "code",
   "execution_count": 33,
   "metadata": {
    "collapsed": false
   },
   "outputs": [
    {
     "data": {
      "text/plain": [
       "(254742,)"
      ]
     },
     "execution_count": 33,
     "metadata": {},
     "output_type": "execute_result"
    }
   ],
   "source": [
    "data1=LoadDicDataFromFileNPZ(\"raw/MemSensor1\")\n",
    "data1['AccX'].shape"
   ]
  },
  {
   "cell_type": "code",
   "execution_count": 34,
   "metadata": {
    "collapsed": false
   },
   "outputs": [
    {
     "data": {
      "text/plain": [
       "(254742,)"
      ]
     },
     "execution_count": 34,
     "metadata": {},
     "output_type": "execute_result"
    }
   ],
   "source": [
    "data2=LoadDicDataFromFileNPZ(\"raw/MemSensor2\")\n",
    "data2['AccX'].shape"
   ]
  },
  {
   "cell_type": "markdown",
   "metadata": {},
   "source": [
    "ここで重要な問題がある。データを共通区間のみにしてPickleにしたところまではできた。  \n",
    "しかし、windowというフレームに形作ることはできていない。  \n"
   ]
  },
  {
   "cell_type": "code",
   "execution_count": 59,
   "metadata": {
    "collapsed": false
   },
   "outputs": [],
   "source": [
    "def dic2darray(dicData):\n",
    "    tmp = np.array([])\n",
    "    \n",
    "    keys = dicData.keys()\n",
    "    keys.remove('Name')\n",
    "    output = dicData[keys[0]]\n",
    "    for i in range(1, len(keys) ):\n",
    "        tmp=dicData[keys[i]]\n",
    "        output = np.vstack( (output,tmp) )\n",
    "    return output.T"
   ]
  },
  {
   "cell_type": "code",
   "execution_count": 84,
   "metadata": {
    "collapsed": false
   },
   "outputs": [],
   "source": [
    "\"\"\"\n",
    "    前提条件として、dicDataのあるインデックスiと次のインデックスi+1との差はサンプリング周期\n",
    "    もう少し、この関数は変更する\n",
    "    まずはセンサデータ１つに対してwindowを作るための関数\n",
    "\"\"\"\n",
    "def PopWindow(dicData,window,overlap=0.5):\n",
    "    data = dic2darray(dicData)\n",
    "    i=0\n",
    "    rows,cols = data.shape\n",
    "    data = data[0:rows-(rows%window),:cols]\n",
    "    yield data[i:i+window,:]\n",
    "    i += int( window*overlap )\n",
    "    yield data[i:i+window,:]"
   ]
  },
  {
   "cell_type": "markdown",
   "metadata": {},
   "source": [
    "試しに訓練データはすべてのセンサデータを横並びにする。つまり縦は時系列順"
   ]
  },
  {
   "cell_type": "code",
   "execution_count": 90,
   "metadata": {
    "collapsed": true
   },
   "outputs": [],
   "source": [
    "dic1=LoadDicDataFromFileNPZ(\"raw/MemSensor1\")\n",
    "dic2=LoadDicDataFromFileNPZ(\"raw/MemSensor2\")\n",
    "dic3=LoadDicDataFromFileNPZ(\"raw/MemSensor3\")\n",
    "dic4=LoadDicDataFromFileNPZ(\"raw/MemSensor4\")\n",
    "dic5=LoadDicDataFromFileNPZ(\"raw/MemSensor5\")\n",
    "dic6=LoadDicDataFromFileNPZ(\"raw/MemSensor6\")\n",
    "dic7=LoadDicDataFromFileNPZ(\"raw/MemSensor7\")\n",
    "\n",
    "data1 = dic2darray(dic1)\n",
    "data2 = dic2darray(dic2)\n",
    "data3 = dic2darray(dic3)\n",
    "data4 = dic2darray(dic4)\n",
    "data5 = dic2darray(dic5)\n",
    "data6 = dic2darray(dic6)\n",
    "data7 = dic2darray(dic7)"
   ]
  },
  {
   "cell_type": "code",
   "execution_count": 99,
   "metadata": {
    "collapsed": true
   },
   "outputs": [],
   "source": [
    "AllData = np.hstack((data1,data2,data3,data4,data5,data6,data7))"
   ]
  },
  {
   "cell_type": "code",
   "execution_count": 106,
   "metadata": {
    "collapsed": false
   },
   "outputs": [
    {
     "data": {
      "text/plain": [
       "(254742, 49)"
      ]
     },
     "execution_count": 106,
     "metadata": {},
     "output_type": "execute_result"
    }
   ],
   "source": [
    "AllData.shape"
   ]
  },
  {
   "cell_type": "code",
   "execution_count": 104,
   "metadata": {
    "collapsed": false
   },
   "outputs": [],
   "source": [
    "x_train=AllData[range(int( len(AllData)*0.8) ),]\n",
    "x_test=AllData[range(int( len(AllData)*0.2) ),]"
   ]
  },
  {
   "cell_type": "code",
   "execution_count": 98,
   "metadata": {
    "collapsed": true
   },
   "outputs": [],
   "source": [
    "from keras.layers import Input, Dense\n",
    "from keras.models import Model\n",
    "\n",
    "# this is the size of our encoded representations\n",
    "encoding_dim = 32  # 32 floats -> compression of factor 24.5, assuming the input is 784 floats\n",
    "\n",
    "inputShape=49\n",
    "\n",
    "# this is our input placeholder\n",
    "input_img = Input(shape=(inputShape,))\n",
    "# \"encoded\" is the encoded representation of the input\n",
    "encoded = Dense(encoding_dim, activation='relu')(input_img)\n",
    "# \"decoded\" is the lossy reconstruction of the input\n",
    "decoded = Dense(inputShape, activation='sigmoid')(encoded)\n",
    "\n",
    "# this model maps an input to its reconstruction\n",
    "autoencoder = Model(input=input_img, output=decoded)\n",
    "\n",
    "# this model maps an input to its encoded representation\n",
    "encoder = Model(input=input_img, output=encoded)\n",
    "\n",
    "# create a placeholder for an encoded (32-dimensional) input\n",
    "encoded_input = Input(shape=(encoding_dim,))\n",
    "# retrieve the last layer of the autoencoder model\n",
    "decoder_layer = autoencoder.layers[-1]\n",
    "# create the decoder model\n",
    "decoder = Model(input=encoded_input, output=decoder_layer(encoded_input))\n",
    "\n",
    "autoencoder.compile(optimizer='adadelta', loss='binary_crossentropy')"
   ]
  },
  {
   "cell_type": "code",
   "execution_count": 6,
   "metadata": {
    "collapsed": false
   },
   "outputs": [],
   "source": [
    "from keras.models import Sequential\n",
    "from keras.datasets import cifar10\n",
    "from keras.layers import Dense, Activation, Flatten\n",
    "from keras.optimizers import Adadelta\n",
    "from keras.utils import np_utils\n",
    "from keras.layers.convolutional import Convolution2D, MaxPooling2D\n",
    "from keras.utils.visualize_util import model_to_dot, plot\n",
    "from keras import backend as K\n",
    "import numpy as np\n",
    "\n",
    "from matplotlib import pyplot as plt\n",
    "import matplotlib.image as mpimg\n",
    "%matplotlib inline"
   ]
  },
  {
   "cell_type": "code",
   "execution_count": 3,
   "metadata": {
    "collapsed": false
   },
   "outputs": [
    {
     "name": "stdout",
     "output_type": "stream",
     "text": [
      "('X_train shape:', (50000, 3, 32, 32))\n",
      "(50000, 'train samples')\n",
      "(10000, 'test samples')\n"
     ]
    }
   ],
   "source": [
    "(X_train, y_train), (X_test, y_test) = cifar10.load_data()\n",
    "print('X_train shape:', X_train.shape)\n",
    "print(X_train.shape[0], 'train samples')\n",
    "print(X_test.shape[0], 'test samples')"
   ]
  },
  {
   "cell_type": "code",
   "execution_count": 5,
   "metadata": {
    "collapsed": false
   },
   "outputs": [
    {
     "data": {
      "text/plain": [
       "array([[[ 59,  43,  50, ..., 158, 152, 148],\n",
       "        [ 16,   0,  18, ..., 123, 119, 122],\n",
       "        [ 25,  16,  49, ..., 118, 120, 109],\n",
       "        ..., \n",
       "        [208, 201, 198, ..., 160,  56,  53],\n",
       "        [180, 173, 186, ..., 184,  97,  83],\n",
       "        [177, 168, 179, ..., 216, 151, 123]],\n",
       "\n",
       "       [[ 62,  46,  48, ..., 132, 125, 124],\n",
       "        [ 20,   0,   8, ...,  88,  83,  87],\n",
       "        [ 24,   7,  27, ...,  84,  84,  73],\n",
       "        ..., \n",
       "        [170, 153, 161, ..., 133,  31,  34],\n",
       "        [139, 123, 144, ..., 148,  62,  53],\n",
       "        [144, 129, 142, ..., 184, 118,  92]],\n",
       "\n",
       "       [[ 63,  45,  43, ..., 108, 102, 103],\n",
       "        [ 20,   0,   0, ...,  55,  50,  57],\n",
       "        [ 21,   0,   8, ...,  50,  50,  42],\n",
       "        ..., \n",
       "        [ 96,  34,  26, ...,  70,   7,  20],\n",
       "        [ 96,  42,  30, ...,  94,  34,  34],\n",
       "        [116,  94,  87, ..., 140,  84,  72]]], dtype=uint8)"
      ]
     },
     "execution_count": 5,
     "metadata": {},
     "output_type": "execute_result"
    }
   ],
   "source": [
    "X_train[0]"
   ]
  },
  {
   "cell_type": "code",
   "execution_count": null,
   "metadata": {
    "collapsed": true
   },
   "outputs": [],
   "source": []
  }
 ],
 "metadata": {
  "kernelspec": {
   "display_name": "Python 2",
   "language": "python",
   "name": "python2"
  },
  "language_info": {
   "codemirror_mode": {
    "name": "ipython",
    "version": 2
   },
   "file_extension": ".py",
   "mimetype": "text/x-python",
   "name": "python",
   "nbconvert_exporter": "python",
   "pygments_lexer": "ipython2",
   "version": "2.7.11"
  }
 },
 "nbformat": 4,
 "nbformat_minor": 0
}
