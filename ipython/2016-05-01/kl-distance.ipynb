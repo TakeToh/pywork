{
 "cells": [
  {
   "cell_type": "code",
   "execution_count": 1,
   "metadata": {
    "collapsed": true
   },
   "outputs": [],
   "source": [
    "import numpy as np\n",
    "import matplotlib.pyplot as plt\n",
    "import matplotlib\n",
    "from scipy import fftpack\n",
    "from scipy import signal\n",
    "import numpy as np\n",
    "import pandas as pd\n",
    "import datetime\n",
    "import time as T"
   ]
  },
  {
   "cell_type": "code",
   "execution_count": 2,
   "metadata": {
    "collapsed": false
   },
   "outputs": [
    {
     "name": "stdout",
     "output_type": "stream",
     "text": [
      "/home/takeyama/Documents/SyncRecord/FFT-data\n"
     ]
    }
   ],
   "source": [
    "cd ~/Documents/SyncRecord/FFT-data/"
   ]
  },
  {
   "cell_type": "code",
   "execution_count": 4,
   "metadata": {
    "collapsed": false
   },
   "outputs": [],
   "source": [
    "fft_left_hand = pd.read_csv('FFT-'+'Cleaning-Conv-left-hand-ags.csv'+'-16'+'bit.csv',parse_dates=['Time'])\n",
    "#left_hand.Time=pd.to_timedelta(left_hand.Time)\n",
    "fft_left_leg = pd.read_csv('FFT-'+'Cleaning-Conv-left-leg-ags.csv'+'-16'+'bit.csv',parse_dates=['Time'])\n",
    "#left_leg.Time=pd.to_timedelta(left_leg.Time)\n",
    "fft_right_hand = pd.read_csv('FFT-'+'Cleaning-Conv-right-hand-ags.csv'+'-16'+'bit.csv',parse_dates=['Time'])\n",
    "#right_hand.Time=pd.to_timedelta(right_hand.Time)\n",
    "fft_right_leg = pd.read_csv('FFT-'+'Cleaning-Conv-right-leg-ags.csv'+'-16'+'bit.csv',parse_dates=['Time'])\n",
    "#right_leg.Time=pd.to_timedelta(right_leg.Time)\n",
    "fft_west = pd.read_csv('FFT-'+'Cleaning-Conv-west-ags.csv'+'-16'+'bit.csv',parse_dates=['Time'])\n",
    "#west.Time=pd.to_timedelta(west.Time)"
   ]
  },
  {
   "cell_type": "code",
   "execution_count": 5,
   "metadata": {
    "collapsed": false
   },
   "outputs": [],
   "source": [
    "#fft_left_hand =fft_left_hand.set_index(['Time','Number'])\n",
    "fft_left_leg = fft_left_leg.set_index(['Time','Number'])\n",
    "fft_right_hand = fft_right_hand.set_index(['Time','Number'])\n",
    "fft_right_leg = fft_right_leg.set_index(['Time','Number'])\n",
    "fft_west = fft_west.set_index(['Time','Number'])"
   ]
  },
  {
   "cell_type": "code",
   "execution_count": 66,
   "metadata": {
    "collapsed": false
   },
   "outputs": [
    {
     "data": {
      "text/plain": [
       "Time          object\n",
       "Number        object\n",
       "AccX_imag    float64\n",
       "AccX_real    float64\n",
       "AccY_imag    float64\n",
       "AccY_real    float64\n",
       "AccZ_imag    float64\n",
       "AccZ_real    float64\n",
       "GyrX_imag    float64\n",
       "GyrX_real    float64\n",
       "GyrY_imag    float64\n",
       "GyrY_real    float64\n",
       "GyrZ_imag    float64\n",
       "GyrZ_real    float64\n",
       "dtype: object"
      ]
     },
     "execution_count": 66,
     "metadata": {},
     "output_type": "execute_result"
    }
   ],
   "source": [
    "fft_left_hand.dtypes"
   ]
  },
  {
   "cell_type": "code",
   "execution_count": 10,
   "metadata": {
    "collapsed": true
   },
   "outputs": [],
   "source": [
    "#http://blog.vingow.com/tech/numpy-jensen-shannon/ よりKL距離の算出アルゴリズム\n",
    "def kld(p, q):\n",
    "    \"\"\"Calculates Kullback–Leibler divergence\"\"\"\n",
    "    p = np.array(p)\n",
    "    q = np.array(q)\n",
    "    return np.sum(p * np.log(p / q), axis=(p.ndim - 1))"
   ]
  },
  {
   "cell_type": "code",
   "execution_count": 26,
   "metadata": {
    "collapsed": false
   },
   "outputs": [],
   "source": [
    "# 左手の加速度データのFFT　からパワースペクトルを出す 左手\n",
    "ArrayFFT_left_hand_AccX=np.array(fft_left_hand.AccX_imag**2+fft_left_hand.AccX_real**2)[:32769]\n",
    "ArrayFFT_left_hand_AccY=np.array(fft_left_hand.AccY_imag**2+fft_left_hand.AccY_real**2)[:32769]\n",
    "ArrayFFT_left_hand_AccZ=np.array(fft_left_hand.AccZ_imag**2+fft_left_hand.AccZ_real**2)[:32769]\n",
    "ArrayFFT_left_hand_GyrX=np.array(fft_left_hand.GyrX_imag**2+fft_left_hand.GyrX_real**2)[:32769]\n",
    "ArrayFFT_left_hand_GyrY=np.array(fft_left_hand.GyrY_imag**2+fft_left_hand.GyrY_real**2)[:32769]\n",
    "ArrayFFT_left_hand_GyrZ=np.array(fft_left_hand.GyrZ_imag**2+fft_left_hand.GyrZ_real**2)[:32769]\n",
    "\n",
    "ArrayFFT_left_hand=np.array([])\n",
    "ArrayFFT_left_hand=np.vstack( (ArrayFFT_left_hand_AccX,ArrayFFT_left_hand_AccY) )\n",
    "ArrayFFT_left_hand=np.vstack( (ArrayFFT_left_hand ,ArrayFFT_left_hand_AccZ) )\n",
    "ArrayFFT_left_hand=np.vstack( (ArrayFFT_left_hand ,ArrayFFT_left_hand_GyrX) )\n",
    "ArrayFFT_left_hand=np.vstack( (ArrayFFT_left_hand ,ArrayFFT_left_hand_GyrY) )\n",
    "ArrayFFT_left_hand=np.vstack( (ArrayFFT_left_hand ,ArrayFFT_left_hand_GyrZ) )"
   ]
  },
  {
   "cell_type": "code",
   "execution_count": 27,
   "metadata": {
    "collapsed": true
   },
   "outputs": [],
   "source": [
    "# 左手の加速度データのFFT　からパワースペクトルを出す　右手\n",
    "ArrayFFT_right_hand_AccX=np.array(fft_right_hand.AccX_imag**2+fft_right_hand.AccX_real**2)[:32769]\n",
    "ArrayFFT_right_hand_AccY=np.array(fft_right_hand.AccY_imag**2+fft_right_hand.AccY_real**2)[:32769]\n",
    "ArrayFFT_right_hand_AccZ=np.array(fft_right_hand.AccZ_imag**2+fft_right_hand.AccZ_real**2)[:32769]\n",
    "ArrayFFT_right_hand_GyrX=np.array(fft_right_hand.GyrX_imag**2+fft_right_hand.GyrX_real**2)[:32769]\n",
    "ArrayFFT_right_hand_GyrY=np.array(fft_right_hand.GyrY_imag**2+fft_right_hand.GyrY_real**2)[:32769]\n",
    "ArrayFFT_right_hand_GyrZ=np.array(fft_right_hand.GyrZ_imag**2+fft_right_hand.GyrZ_real**2)[:32769]\n",
    "\n",
    "ArrayFFT_right_hand=np.array([])\n",
    "ArrayFFT_right_hand=np.vstack( (ArrayFFT_right_hand_AccX,ArrayFFT_right_hand_AccY) )\n",
    "ArrayFFT_right_hand=np.vstack( (ArrayFFT_right_hand ,ArrayFFT_right_hand_AccZ) )\n",
    "ArrayFFT_right_hand=np.vstack( (ArrayFFT_right_hand ,ArrayFFT_right_hand_GyrX) )\n",
    "ArrayFFT_right_hand=np.vstack( (ArrayFFT_right_hand ,ArrayFFT_right_hand_GyrY) )\n",
    "ArrayFFT_right_hand=np.vstack( (ArrayFFT_right_hand ,ArrayFFT_right_hand_GyrZ) )"
   ]
  },
  {
   "cell_type": "code",
   "execution_count": 30,
   "metadata": {
    "collapsed": false
   },
   "outputs": [],
   "source": [
    "# 左手の加速度データのFFT　からパワースペクトルを出す 左足\n",
    "ArrayFFT_left_leg_AccX=np.array(fft_left_leg.AccX_imag**2+fft_left_leg.AccX_real**2)[:32769]\n",
    "ArrayFFT_left_leg_AccY=np.array(fft_left_leg.AccY_imag**2+fft_left_leg.AccY_real**2)[:32769]\n",
    "ArrayFFT_left_leg_AccZ=np.array(fft_left_leg.AccZ_imag**2+fft_left_leg.AccZ_real**2)[:32769]\n",
    "ArrayFFT_left_leg_GyrX=np.array(fft_left_leg.GyrX_imag**2+fft_left_leg.GyrX_real**2)[:32769]\n",
    "ArrayFFT_left_leg_GyrY=np.array(fft_left_leg.GyrY_imag**2+fft_left_leg.GyrY_real**2)[:32769]\n",
    "ArrayFFT_left_leg_GyrZ=np.array(fft_left_leg.GyrZ_imag**2+fft_left_leg.GyrZ_real**2)[:32769]\n",
    "\n",
    "ArrayFFT_left_leg=np.array([])\n",
    "ArrayFFT_left_leg=np.vstack( (ArrayFFT_left_leg_AccX,ArrayFFT_left_leg_AccY) )\n",
    "ArrayFFT_left_leg=np.vstack( (ArrayFFT_left_leg ,ArrayFFT_left_leg_AccZ) )\n",
    "ArrayFFT_left_leg=np.vstack( (ArrayFFT_left_leg ,ArrayFFT_left_leg_GyrX) )\n",
    "ArrayFFT_left_leg=np.vstack( (ArrayFFT_left_leg ,ArrayFFT_left_leg_GyrY) )\n",
    "ArrayFFT_left_leg=np.vstack( (ArrayFFT_left_leg ,ArrayFFT_left_leg_GyrZ) )"
   ]
  },
  {
   "cell_type": "code",
   "execution_count": 31,
   "metadata": {
    "collapsed": false
   },
   "outputs": [],
   "source": [
    "# 左手の加速度データのFFT　からパワースペクトルを出す　右足\n",
    "ArrayFFT_right_leg_AccX=np.array(fft_right_leg.AccX_imag**2+fft_right_leg.AccX_real**2)[:32769]\n",
    "ArrayFFT_right_leg_AccY=np.array(fft_right_leg.AccY_imag**2+fft_right_leg.AccY_real**2)[:32769]\n",
    "ArrayFFT_right_leg_AccZ=np.array(fft_right_leg.AccZ_imag**2+fft_right_leg.AccZ_real**2)[:32769]\n",
    "ArrayFFT_right_leg_GyrX=np.array(fft_right_leg.GyrX_imag**2+fft_right_leg.GyrX_real**2)[:32769]\n",
    "ArrayFFT_right_leg_GyrY=np.array(fft_right_leg.GyrY_imag**2+fft_right_leg.GyrY_real**2)[:32769]\n",
    "ArrayFFT_right_leg_GyrZ=np.array(fft_right_leg.GyrZ_imag**2+fft_right_leg.GyrZ_real**2)[:32769]\n",
    "\n",
    "ArrayFFT_right_leg=np.array([])\n",
    "ArrayFFT_right_leg=np.vstack( (ArrayFFT_right_leg_AccX,ArrayFFT_right_leg_AccY) )\n",
    "ArrayFFT_right_leg=np.vstack( (ArrayFFT_right_leg ,ArrayFFT_right_leg_AccZ) )\n",
    "ArrayFFT_right_leg=np.vstack( (ArrayFFT_right_leg ,ArrayFFT_right_leg_GyrX) )\n",
    "ArrayFFT_right_leg=np.vstack( (ArrayFFT_right_leg ,ArrayFFT_right_leg_GyrY) )\n",
    "ArrayFFT_right_leg=np.vstack( (ArrayFFT_right_leg ,ArrayFFT_right_leg_GyrZ) )"
   ]
  },
  {
   "cell_type": "code",
   "execution_count": 34,
   "metadata": {
    "collapsed": false
   },
   "outputs": [],
   "source": [
    "# 左手の加速度データのFFT　からパワースペクトルを出す 腰\n",
    "ArrayFFT_west_AccX=np.array(fft_west.AccX_imag**2+fft_west.AccX_real**2)[:32769]\n",
    "ArrayFFT_west_AccY=np.array(fft_west.AccY_imag**2+fft_west.AccY_real**2)[:32769]\n",
    "ArrayFFT_west_AccZ=np.array(fft_west.AccZ_imag**2+fft_west.AccZ_real**2)[:32769]\n",
    "ArrayFFT_west_GyrX=np.array(fft_west.GyrX_imag**2+fft_west.GyrX_real**2)[:32769]\n",
    "ArrayFFT_west_GyrY=np.array(fft_west.GyrY_imag**2+fft_west.GyrY_real**2)[:32769]\n",
    "ArrayFFT_west_GyrZ=np.array(fft_west.GyrZ_imag**2+fft_west.GyrZ_real**2)[:32769]\n",
    "\n",
    "ArrayFFT_west=np.array([])\n",
    "ArrayFFT_west=np.vstack( (ArrayFFT_west_AccX,ArrayFFT_west_AccY) )\n",
    "ArrayFFT_west=np.vstack( (ArrayFFT_west ,ArrayFFT_west_AccZ) )\n",
    "ArrayFFT_west=np.vstack( (ArrayFFT_west ,ArrayFFT_west_GyrX) )\n",
    "ArrayFFT_west=np.vstack( (ArrayFFT_west ,ArrayFFT_west_GyrY) )\n",
    "ArrayFFT_west=np.vstack( (ArrayFFT_west ,ArrayFFT_west_GyrZ) )"
   ]
  },
  {
   "cell_type": "code",
   "execution_count": 36,
   "metadata": {
    "collapsed": false
   },
   "outputs": [
    {
     "data": {
      "text/plain": [
       "(6, 5590)"
      ]
     },
     "execution_count": 36,
     "metadata": {},
     "output_type": "execute_result"
    }
   ],
   "source": [
    "ArrayFFT_west.shape"
   ]
  },
  {
   "cell_type": "code",
   "execution_count": 51,
   "metadata": {
    "collapsed": false
   },
   "outputs": [
    {
     "name": "stdout",
     "output_type": "stream",
     "text": [
      "elapsed_time:0.126947879791[sec]\n"
     ]
    }
   ],
   "source": [
    "start = T.time()\n",
    "\n",
    "klk_rh_rl=np.array([])\n",
    "klk_rh_lh=np.array([])\n",
    "klk_rh_ll=np.array([])\n",
    "klk_rl_lh=np.array([])\n",
    "klk_rl_ll=np.array([])\n",
    "klk_lh_ll=np.array([])\n",
    "#klk_rl=np.array([])\n",
    "\n",
    "for rh in ArrayFFT_right_hand[0:4]:\n",
    "    for rl in ArrayFFT_right_leg[0:4]:\n",
    "        klk_rh_rl=np.append(klk_rh_rl,kld(rh,rl))\n",
    "    for lh in ArrayFFT_left_hand[0:4]:\n",
    "        klk_rh_lh=np.append(klk_rh_lh,kld(rh,lh))\n",
    "    for ll in ArrayFFT_left_leg[0:4]:\n",
    "        klk_rh_ll=np.append(klk_rh_ll,kld(rh,ll))\n",
    "    #for w in ArrayFFT_west[0:4]:\n",
    "    #   kkl_rh=np.append(kkl_rh,kld(rh,w))\n",
    "    \n",
    "for rl in ArrayFFT_right_leg[0:4]:\n",
    "    for lh in ArrayFFT_left_hand[0:4]:\n",
    "        klk_rl_lh=np.append( klk_rl_lh, kld(rl,lh))\n",
    "    for ll in ArrayFFT_left_leg[0:4]:\n",
    "        klk_rl_ll=np.append( klk_rl_ll, kld(rl,ll))\n",
    "    #for w in ArrayFFT_west[0:4]:\n",
    "    #    kkl_rl=np.append( kkl_rl, kld(rl,w))\n",
    "        \n",
    "for lh in ArrayFFT_left_hand[0:4]:\n",
    "    for ll in ArrayFFT_left_leg[0:4]:\n",
    "        klk_lh_ll=np.append(klk_lh_ll, kld(lh,ll))\n",
    "    #for w in ArrayFFT_west[0:4]:\n",
    "    #    kkl_lh=np.append(kkl_lh, kld(lh,w))\n",
    "        \n",
    "#for ll in ArrayFFT_left_leg[0:4]:\n",
    "    #for w in ArrayFFT_west[0:4]:\n",
    "    #    kkl_ll=np.append(kkl_ll, kld(ll,w))\n",
    "    \n",
    "elapsed_time = T.time() - start\n",
    "print (\"elapsed_time:{0}\".format(elapsed_time)) + \"[sec]\""
   ]
  },
  {
   "cell_type": "code",
   "execution_count": 55,
   "metadata": {
    "collapsed": false
   },
   "outputs": [
    {
     "name": "stdout",
     "output_type": "stream",
     "text": [
      "right_hand_Accx VS right_leg_AccX 14759.0820881\n",
      "right_hand_Accx VS right_leg_AccY 13445.4444363\n",
      "right_hand_Accx VS right_leg_AccZ 13405.5826938\n",
      "right_hand_Accx VS left_hand_AccX 10275.6977387\n",
      "right_hand_Accx VS left_hand_AccY 11902.2842711\n",
      "right_hand_Accx VS left_hand_AccZ 15513.2194385\n",
      "right_hand_Accx VS left_leg_AccX 15088.3650375\n",
      "right_hand_Accx VS left_leg_AccY 15616.5378337\n",
      "right_hand_Accx VS left_leg_AccZ 13000.8862127\n"
     ]
    }
   ],
   "source": [
    "print \"right_hand_Accx VS right_leg_AccX \"+str(klk_rh_rl[0])\n",
    "print \"right_hand_Accx VS right_leg_AccY \"+str(klk_rh_rl[1])\n",
    "print \"right_hand_Accx VS right_leg_AccZ \"+str(klk_rh_rl[2])\n",
    "\n",
    "print \"right_hand_Accx VS left_hand_AccX \"+str(klk_rh_lh[0])\n",
    "print \"right_hand_Accx VS left_hand_AccY \"+str(klk_rh_lh[1])\n",
    "print \"right_hand_Accx VS left_hand_AccZ \"+str(klk_rh_lh[2])\n",
    "\n",
    "print \"right_hand_Accx VS left_leg_AccX \"+str(klk_rh_ll[0])\n",
    "print \"right_hand_Accx VS left_leg_AccY \"+str(klk_rh_ll[1])\n",
    "print \"right_hand_Accx VS left_leg_AccZ \"+str(klk_rh_ll[2])"
   ]
  },
  {
   "cell_type": "code",
   "execution_count": 57,
   "metadata": {
    "collapsed": false
   },
   "outputs": [
    {
     "data": {
      "text/plain": [
       "(32769,)"
      ]
     },
     "execution_count": 57,
     "metadata": {},
     "output_type": "execute_result"
    }
   ],
   "source": [
    "ArrayFFT_left_hand_AccX.shape"
   ]
  },
  {
   "cell_type": "code",
   "execution_count": 61,
   "metadata": {
    "collapsed": false
   },
   "outputs": [
    {
     "data": {
      "text/plain": [
       "0           0\n",
       "1           0\n",
       "2           0\n",
       "3           0\n",
       "4           0\n",
       "5           0\n",
       "6           0\n",
       "7           0\n",
       "8           1\n",
       "9           1\n",
       "10          1\n",
       "11          1\n",
       "12          1\n",
       "13          1\n",
       "14          1\n",
       "15          1\n",
       "16          2\n",
       "17          2\n",
       "18          2\n",
       "19          2\n",
       "20          2\n",
       "21          2\n",
       "22          2\n",
       "23          2\n",
       "24          3\n",
       "25          3\n",
       "26          3\n",
       "27          3\n",
       "28          3\n",
       "29          3\n",
       "         ... \n",
       "55440    6930\n",
       "55441    6930\n",
       "55442    6930\n",
       "55443    6930\n",
       "55444    6930\n",
       "55445    6930\n",
       "55446    6930\n",
       "55447    6930\n",
       "55448    6931\n",
       "55449    6931\n",
       "55450    6931\n",
       "55451    6931\n",
       "55452    6931\n",
       "55453    6931\n",
       "55454    6931\n",
       "55455    6931\n",
       "55456    6932\n",
       "55457    6932\n",
       "55458    6932\n",
       "55459    6932\n",
       "55460    6932\n",
       "55461    6932\n",
       "55462    6932\n",
       "55463    6932\n",
       "55464    6933\n",
       "55465    6933\n",
       "55466    6933\n",
       "55467    6933\n",
       "55468    6933\n",
       "55469    6933\n",
       "Name: Time, dtype: object"
      ]
     },
     "execution_count": 61,
     "metadata": {},
     "output_type": "execute_result"
    }
   ],
   "source": [
    "fft_left_hand.Time"
   ]
  },
  {
   "cell_type": "code",
   "execution_count": 68,
   "metadata": {
    "collapsed": false
   },
   "outputs": [
    {
     "ename": "KeyError",
     "evalue": "False",
     "output_type": "error",
     "traceback": [
      "\u001b[1;31m---------------------------------------------------------------------------\u001b[0m",
      "\u001b[1;31mKeyError\u001b[0m                                  Traceback (most recent call last)",
      "\u001b[1;32m<ipython-input-68-6c324b83213f>\u001b[0m in \u001b[0;36m<module>\u001b[1;34m()\u001b[0m\n\u001b[1;32m----> 1\u001b[1;33m \u001b[0mfft_left_hand\u001b[0m\u001b[1;33m[\u001b[0m\u001b[1;34m'Time'\u001b[0m\u001b[1;33m==\u001b[0m\u001b[1;34m'1'\u001b[0m\u001b[1;33m]\u001b[0m\u001b[1;33m\u001b[0m\u001b[0m\n\u001b[0m",
      "\u001b[1;32m/home/takeyama/.pyenv/versions/2.7.10/envs/my_workspace/lib/python2.7/site-packages/pandas/core/frame.pyc\u001b[0m in \u001b[0;36m__getitem__\u001b[1;34m(self, key)\u001b[0m\n\u001b[0;32m   1990\u001b[0m             \u001b[1;32mreturn\u001b[0m \u001b[0mself\u001b[0m\u001b[1;33m.\u001b[0m\u001b[0m_getitem_multilevel\u001b[0m\u001b[1;33m(\u001b[0m\u001b[0mkey\u001b[0m\u001b[1;33m)\u001b[0m\u001b[1;33m\u001b[0m\u001b[0m\n\u001b[0;32m   1991\u001b[0m         \u001b[1;32melse\u001b[0m\u001b[1;33m:\u001b[0m\u001b[1;33m\u001b[0m\u001b[0m\n\u001b[1;32m-> 1992\u001b[1;33m             \u001b[1;32mreturn\u001b[0m \u001b[0mself\u001b[0m\u001b[1;33m.\u001b[0m\u001b[0m_getitem_column\u001b[0m\u001b[1;33m(\u001b[0m\u001b[0mkey\u001b[0m\u001b[1;33m)\u001b[0m\u001b[1;33m\u001b[0m\u001b[0m\n\u001b[0m\u001b[0;32m   1993\u001b[0m \u001b[1;33m\u001b[0m\u001b[0m\n\u001b[0;32m   1994\u001b[0m     \u001b[1;32mdef\u001b[0m \u001b[0m_getitem_column\u001b[0m\u001b[1;33m(\u001b[0m\u001b[0mself\u001b[0m\u001b[1;33m,\u001b[0m \u001b[0mkey\u001b[0m\u001b[1;33m)\u001b[0m\u001b[1;33m:\u001b[0m\u001b[1;33m\u001b[0m\u001b[0m\n",
      "\u001b[1;32m/home/takeyama/.pyenv/versions/2.7.10/envs/my_workspace/lib/python2.7/site-packages/pandas/core/frame.pyc\u001b[0m in \u001b[0;36m_getitem_column\u001b[1;34m(self, key)\u001b[0m\n\u001b[0;32m   1997\u001b[0m         \u001b[1;31m# get column\u001b[0m\u001b[1;33m\u001b[0m\u001b[1;33m\u001b[0m\u001b[0m\n\u001b[0;32m   1998\u001b[0m         \u001b[1;32mif\u001b[0m \u001b[0mself\u001b[0m\u001b[1;33m.\u001b[0m\u001b[0mcolumns\u001b[0m\u001b[1;33m.\u001b[0m\u001b[0mis_unique\u001b[0m\u001b[1;33m:\u001b[0m\u001b[1;33m\u001b[0m\u001b[0m\n\u001b[1;32m-> 1999\u001b[1;33m             \u001b[1;32mreturn\u001b[0m \u001b[0mself\u001b[0m\u001b[1;33m.\u001b[0m\u001b[0m_get_item_cache\u001b[0m\u001b[1;33m(\u001b[0m\u001b[0mkey\u001b[0m\u001b[1;33m)\u001b[0m\u001b[1;33m\u001b[0m\u001b[0m\n\u001b[0m\u001b[0;32m   2000\u001b[0m \u001b[1;33m\u001b[0m\u001b[0m\n\u001b[0;32m   2001\u001b[0m         \u001b[1;31m# duplicate columns & possible reduce dimensionality\u001b[0m\u001b[1;33m\u001b[0m\u001b[1;33m\u001b[0m\u001b[0m\n",
      "\u001b[1;32m/home/takeyama/.pyenv/versions/2.7.10/envs/my_workspace/lib/python2.7/site-packages/pandas/core/generic.pyc\u001b[0m in \u001b[0;36m_get_item_cache\u001b[1;34m(self, item)\u001b[0m\n\u001b[0;32m   1343\u001b[0m         \u001b[0mres\u001b[0m \u001b[1;33m=\u001b[0m \u001b[0mcache\u001b[0m\u001b[1;33m.\u001b[0m\u001b[0mget\u001b[0m\u001b[1;33m(\u001b[0m\u001b[0mitem\u001b[0m\u001b[1;33m)\u001b[0m\u001b[1;33m\u001b[0m\u001b[0m\n\u001b[0;32m   1344\u001b[0m         \u001b[1;32mif\u001b[0m \u001b[0mres\u001b[0m \u001b[1;32mis\u001b[0m \u001b[0mNone\u001b[0m\u001b[1;33m:\u001b[0m\u001b[1;33m\u001b[0m\u001b[0m\n\u001b[1;32m-> 1345\u001b[1;33m             \u001b[0mvalues\u001b[0m \u001b[1;33m=\u001b[0m \u001b[0mself\u001b[0m\u001b[1;33m.\u001b[0m\u001b[0m_data\u001b[0m\u001b[1;33m.\u001b[0m\u001b[0mget\u001b[0m\u001b[1;33m(\u001b[0m\u001b[0mitem\u001b[0m\u001b[1;33m)\u001b[0m\u001b[1;33m\u001b[0m\u001b[0m\n\u001b[0m\u001b[0;32m   1346\u001b[0m             \u001b[0mres\u001b[0m \u001b[1;33m=\u001b[0m \u001b[0mself\u001b[0m\u001b[1;33m.\u001b[0m\u001b[0m_box_item_values\u001b[0m\u001b[1;33m(\u001b[0m\u001b[0mitem\u001b[0m\u001b[1;33m,\u001b[0m \u001b[0mvalues\u001b[0m\u001b[1;33m)\u001b[0m\u001b[1;33m\u001b[0m\u001b[0m\n\u001b[0;32m   1347\u001b[0m             \u001b[0mcache\u001b[0m\u001b[1;33m[\u001b[0m\u001b[0mitem\u001b[0m\u001b[1;33m]\u001b[0m \u001b[1;33m=\u001b[0m \u001b[0mres\u001b[0m\u001b[1;33m\u001b[0m\u001b[0m\n",
      "\u001b[1;32m/home/takeyama/.pyenv/versions/2.7.10/envs/my_workspace/lib/python2.7/site-packages/pandas/core/internals.pyc\u001b[0m in \u001b[0;36mget\u001b[1;34m(self, item, fastpath)\u001b[0m\n\u001b[0;32m   3223\u001b[0m \u001b[1;33m\u001b[0m\u001b[0m\n\u001b[0;32m   3224\u001b[0m             \u001b[1;32mif\u001b[0m \u001b[1;32mnot\u001b[0m \u001b[0misnull\u001b[0m\u001b[1;33m(\u001b[0m\u001b[0mitem\u001b[0m\u001b[1;33m)\u001b[0m\u001b[1;33m:\u001b[0m\u001b[1;33m\u001b[0m\u001b[0m\n\u001b[1;32m-> 3225\u001b[1;33m                 \u001b[0mloc\u001b[0m \u001b[1;33m=\u001b[0m \u001b[0mself\u001b[0m\u001b[1;33m.\u001b[0m\u001b[0mitems\u001b[0m\u001b[1;33m.\u001b[0m\u001b[0mget_loc\u001b[0m\u001b[1;33m(\u001b[0m\u001b[0mitem\u001b[0m\u001b[1;33m)\u001b[0m\u001b[1;33m\u001b[0m\u001b[0m\n\u001b[0m\u001b[0;32m   3226\u001b[0m             \u001b[1;32melse\u001b[0m\u001b[1;33m:\u001b[0m\u001b[1;33m\u001b[0m\u001b[0m\n\u001b[0;32m   3227\u001b[0m                 \u001b[0mindexer\u001b[0m \u001b[1;33m=\u001b[0m \u001b[0mnp\u001b[0m\u001b[1;33m.\u001b[0m\u001b[0marange\u001b[0m\u001b[1;33m(\u001b[0m\u001b[0mlen\u001b[0m\u001b[1;33m(\u001b[0m\u001b[0mself\u001b[0m\u001b[1;33m.\u001b[0m\u001b[0mitems\u001b[0m\u001b[1;33m)\u001b[0m\u001b[1;33m)\u001b[0m\u001b[1;33m[\u001b[0m\u001b[0misnull\u001b[0m\u001b[1;33m(\u001b[0m\u001b[0mself\u001b[0m\u001b[1;33m.\u001b[0m\u001b[0mitems\u001b[0m\u001b[1;33m)\u001b[0m\u001b[1;33m]\u001b[0m\u001b[1;33m\u001b[0m\u001b[0m\n",
      "\u001b[1;32m/home/takeyama/.pyenv/versions/2.7.10/envs/my_workspace/lib/python2.7/site-packages/pandas/indexes/base.pyc\u001b[0m in \u001b[0;36mget_loc\u001b[1;34m(self, key, method, tolerance)\u001b[0m\n\u001b[0;32m   1876\u001b[0m                 \u001b[1;32mreturn\u001b[0m \u001b[0mself\u001b[0m\u001b[1;33m.\u001b[0m\u001b[0m_engine\u001b[0m\u001b[1;33m.\u001b[0m\u001b[0mget_loc\u001b[0m\u001b[1;33m(\u001b[0m\u001b[0mkey\u001b[0m\u001b[1;33m)\u001b[0m\u001b[1;33m\u001b[0m\u001b[0m\n\u001b[0;32m   1877\u001b[0m             \u001b[1;32mexcept\u001b[0m \u001b[0mKeyError\u001b[0m\u001b[1;33m:\u001b[0m\u001b[1;33m\u001b[0m\u001b[0m\n\u001b[1;32m-> 1878\u001b[1;33m                 \u001b[1;32mreturn\u001b[0m \u001b[0mself\u001b[0m\u001b[1;33m.\u001b[0m\u001b[0m_engine\u001b[0m\u001b[1;33m.\u001b[0m\u001b[0mget_loc\u001b[0m\u001b[1;33m(\u001b[0m\u001b[0mself\u001b[0m\u001b[1;33m.\u001b[0m\u001b[0m_maybe_cast_indexer\u001b[0m\u001b[1;33m(\u001b[0m\u001b[0mkey\u001b[0m\u001b[1;33m)\u001b[0m\u001b[1;33m)\u001b[0m\u001b[1;33m\u001b[0m\u001b[0m\n\u001b[0m\u001b[0;32m   1879\u001b[0m \u001b[1;33m\u001b[0m\u001b[0m\n\u001b[0;32m   1880\u001b[0m         \u001b[0mindexer\u001b[0m \u001b[1;33m=\u001b[0m \u001b[0mself\u001b[0m\u001b[1;33m.\u001b[0m\u001b[0mget_indexer\u001b[0m\u001b[1;33m(\u001b[0m\u001b[1;33m[\u001b[0m\u001b[0mkey\u001b[0m\u001b[1;33m]\u001b[0m\u001b[1;33m,\u001b[0m \u001b[0mmethod\u001b[0m\u001b[1;33m=\u001b[0m\u001b[0mmethod\u001b[0m\u001b[1;33m,\u001b[0m \u001b[0mtolerance\u001b[0m\u001b[1;33m=\u001b[0m\u001b[0mtolerance\u001b[0m\u001b[1;33m)\u001b[0m\u001b[1;33m\u001b[0m\u001b[0m\n",
      "\u001b[1;32mpandas/index.pyx\u001b[0m in \u001b[0;36mpandas.index.IndexEngine.get_loc (pandas/index.c:4027)\u001b[1;34m()\u001b[0m\n",
      "\u001b[1;32mpandas/index.pyx\u001b[0m in \u001b[0;36mpandas.index.IndexEngine.get_loc (pandas/index.c:3891)\u001b[1;34m()\u001b[0m\n",
      "\u001b[1;32mpandas/hashtable.pyx\u001b[0m in \u001b[0;36mpandas.hashtable.PyObjectHashTable.get_item (pandas/hashtable.c:12408)\u001b[1;34m()\u001b[0m\n",
      "\u001b[1;32mpandas/hashtable.pyx\u001b[0m in \u001b[0;36mpandas.hashtable.PyObjectHashTable.get_item (pandas/hashtable.c:12359)\u001b[1;34m()\u001b[0m\n",
      "\u001b[1;31mKeyError\u001b[0m: False"
     ]
    }
   ],
   "source": [
    "fft_left_hand['Time'=='1']"
   ]
  },
  {
   "cell_type": "code",
   "execution_count": null,
   "metadata": {
    "collapsed": true
   },
   "outputs": [],
   "source": []
  },
  {
   "cell_type": "code",
   "execution_count": null,
   "metadata": {
    "collapsed": true
   },
   "outputs": [],
   "source": []
  },
  {
   "cell_type": "code",
   "execution_count": null,
   "metadata": {
    "collapsed": true
   },
   "outputs": [],
   "source": [
    "# 左手の加速度データのFFT　からパワースペクトルを出す 左手\n",
    "\n",
    "    ArrayFFT_left_hand_AccX=np.array(fft_left_hand.AccX_imag**2+fft_left_hand.AccX_real**2)[:32769]\n",
    "    ArrayFFT_left_hand_AccY=np.array(fft_left_hand.AccY_imag**2+fft_left_hand.AccY_real**2)[:32769]\n",
    "    ArrayFFT_left_hand_AccZ=np.array(fft_left_hand.AccZ_imag**2+fft_left_hand.AccZ_real**2)[:32769]\n",
    "    ArrayFFT_left_hand_GyrX=np.array(fft_left_hand.GyrX_imag**2+fft_left_hand.GyrX_real**2)[:32769]\n",
    "    ArrayFFT_left_hand_GyrY=np.array(fft_left_hand.GyrY_imag**2+fft_left_hand.GyrY_real**2)[:32769]\n",
    "    ArrayFFT_left_hand_GyrZ=np.array(fft_left_hand.GyrZ_imag**2+fft_left_hand.GyrZ_real**2)[:32769]\n",
    "\n",
    "ArrayFFT_left_hand=np.array([])\n",
    "ArrayFFT_left_hand=np.vstack( (ArrayFFT_left_hand_AccX,ArrayFFT_left_hand_AccY) )\n",
    "ArrayFFT_left_hand=np.vstack( (ArrayFFT_left_hand ,ArrayFFT_left_hand_AccZ) )\n",
    "ArrayFFT_left_hand=np.vstack( (ArrayFFT_left_hand ,ArrayFFT_left_hand_GyrX) )\n",
    "ArrayFFT_left_hand=np.vstack( (ArrayFFT_left_hand ,ArrayFFT_left_hand_GyrY) )\n",
    "ArrayFFT_left_hand=np.vstack( (ArrayFFT_left_hand ,ArrayFFT_left_hand_GyrZ) )"
   ]
  }
 ],
 "metadata": {
  "kernelspec": {
   "display_name": "Python 2",
   "language": "python",
   "name": "python2"
  },
  "language_info": {
   "codemirror_mode": {
    "name": "ipython",
    "version": 2
   },
   "file_extension": ".py",
   "mimetype": "text/x-python",
   "name": "python",
   "nbconvert_exporter": "python",
   "pygments_lexer": "ipython2",
   "version": "2.7.10"
  }
 },
 "nbformat": 4,
 "nbformat_minor": 0
}
