{
 "cells": [
  {
   "cell_type": "code",
   "execution_count": 1,
   "metadata": {
    "collapsed": true
   },
   "outputs": [],
   "source": [
    "import numpy as np\n",
    "import matplotlib.pyplot as plt\n",
    "import matplotlib\n",
    "from scipy import fftpack\n",
    "from scipy import signal\n",
    "import numpy as np\n",
    "import pandas as pd\n",
    "import datetime\n",
    "import time as T"
   ]
  },
  {
   "cell_type": "code",
   "execution_count": 2,
   "metadata": {
    "collapsed": true
   },
   "outputs": [],
   "source": [
    "sample_bit=32"
   ]
  },
  {
   "cell_type": "code",
   "execution_count": 3,
   "metadata": {
    "collapsed": true
   },
   "outputs": [],
   "source": [
    "#my workstation"
   ]
  },
  {
   "cell_type": "code",
   "execution_count": 4,
   "metadata": {
    "collapsed": false
   },
   "outputs": [],
   "source": [
    "#cd /home/takeyama/Documents/01_SensorData/2016_05_11/FFT-data/"
   ]
  },
  {
   "cell_type": "code",
   "execution_count": 5,
   "metadata": {
    "collapsed": true
   },
   "outputs": [],
   "source": [
    "#mozart"
   ]
  },
  {
   "cell_type": "code",
   "execution_count": 6,
   "metadata": {
    "collapsed": false
   },
   "outputs": [
    {
     "name": "stdout",
     "output_type": "stream",
     "text": [
      "/home/takeyama/Documents/SyncRecord/FFT-data\n"
     ]
    }
   ],
   "source": [
    "cd ~/Documents/SyncRecord/FFT-data/"
   ]
  },
  {
   "cell_type": "code",
   "execution_count": 7,
   "metadata": {
    "collapsed": false
   },
   "outputs": [
    {
     "name": "stdout",
     "output_type": "stream",
     "text": [
      "FFT-Cleaning-Conv-left-hand-ags.csv-128bit.csv\r\n",
      "FFT-Cleaning-Conv-left-hand-ags.csv-16bit.csv\r\n",
      "FFT-Cleaning-Conv-left-hand-ags.csv-256bit.csv\r\n",
      "FFT-Cleaning-Conv-left-hand-ags.csv-32bit.csv\r\n",
      "FFT-Cleaning-Conv-left-hand-ags.csv-512bit.csv\r\n",
      "FFT-Cleaning-Conv-left-hand-ags.csv-64bit.csv\r\n",
      "FFT-Cleaning-Conv-left-leg-ags.csv-128bit.csv\r\n",
      "FFT-Cleaning-Conv-left-leg-ags.csv-16bit.csv\r\n",
      "FFT-Cleaning-Conv-left-leg-ags.csv-256bit.csv\r\n",
      "FFT-Cleaning-Conv-left-leg-ags.csv-32bit.csv\r\n",
      "FFT-Cleaning-Conv-left-leg-ags.csv-512bit.csv\r\n",
      "FFT-Cleaning-Conv-left-leg-ags.csv-64bit.csv\r\n",
      "FFT-Cleaning-Conv-right-hand-ags.csv-128bit.csv\r\n",
      "FFT-Cleaning-Conv-right-hand-ags.csv-16bit.csv\r\n",
      "FFT-Cleaning-Conv-right-hand-ags.csv-256bit.csv\r\n",
      "FFT-Cleaning-Conv-right-hand-ags.csv-32bit.csv\r\n",
      "FFT-Cleaning-Conv-right-hand-ags.csv-512bit.csv\r\n",
      "FFT-Cleaning-Conv-right-hand-ags.csv-64bit.csv\r\n",
      "FFT-Cleaning-Conv-right-leg-ags.csv-128bit.csv\r\n",
      "FFT-Cleaning-Conv-right-leg-ags.csv-16bit.csv\r\n",
      "FFT-Cleaning-Conv-right-leg-ags.csv-256bit.csv\r\n",
      "FFT-Cleaning-Conv-right-leg-ags.csv-32bit.csv\r\n",
      "FFT-Cleaning-Conv-right-leg-ags.csv-512bit.csv\r\n",
      "FFT-Cleaning-Conv-right-leg-ags.csv-64bit.csv\r\n",
      "FFT-Cleaning-Conv-west-ags.csv-128bit.csv\r\n",
      "FFT-Cleaning-Conv-west-ags.csv-16bit.csv\r\n",
      "FFT-Cleaning-Conv-west-ags.csv-256bit.csv\r\n",
      "FFT-Cleaning-Conv-west-ags.csv-32bit.csv\r\n",
      "FFT-Cleaning-Conv-west-ags.csv-512bit.csv\r\n",
      "FFT-Cleaning-Conv-west-ags.csv-64bit.csv\r\n"
     ]
    }
   ],
   "source": [
    "ls"
   ]
  },
  {
   "cell_type": "code",
   "execution_count": 8,
   "metadata": {
    "collapsed": false
   },
   "outputs": [],
   "source": [
    "fft_left_hand = pd.read_csv('FFT-Cleaning-Conv-left-hand-ags.csv'+'-'+str(sample_bit)+'bit.csv')\n",
    "#left_hand.Time=pd.to_timedelta(left_hand.Time)\n",
    "fft_left_leg = pd.read_csv('FFT-'+'Cleaning-Conv-left-leg-ags.csv'+'-'+str(sample_bit)+'bit.csv')\n",
    "#left_leg.Time=pd.to_timedelta(left_leg.Time)\n",
    "fft_right_hand = pd.read_csv('FFT-'+'Cleaning-Conv-right-hand-ags.csv'+'-'+str(sample_bit)+'bit.csv')\n",
    "#right_hand.Time=pd.to_timedelta(right_hand.Time)\n",
    "fft_right_leg = pd.read_csv('FFT-'+'Cleaning-Conv-right-leg-ags.csv'+'-'+str(sample_bit)+'bit.csv')\n",
    "#right_leg.Time=pd.to_timedelta(right_leg.Time)\n",
    "fft_west = pd.read_csv('FFT-'+'Cleaning-Conv-west-ags.csv'+'-'+str(sample_bit)+'bit.csv')\n",
    "#west.Time=pd.to_timedelta(west.Time)\n",
    "\n",
    "fft_name=['FFT-Cleaning-Conv-left-hand-ags.csv'+'-'+str(sample_bit)+'bit.csv','FFT-'+'Cleaning-Conv-left-leg-ags.csv'+'-'+str(sample_bit)+'bit.csv',\n",
    "          'FFT-'+'Cleaning-Conv-right-hand-ags.csv'+'-'+str(sample_bit)+'bit.csv','FFT-'+'Cleaning-Conv-right-leg-ags.csv'+'-'+str(sample_bit)+'bit.csv',\n",
    "          'FFT-'+'Cleaning-Conv-west-ags.csv'+'-'+str(sample_bit)+'bit.csv']"
   ]
  },
  {
   "cell_type": "code",
   "execution_count": 9,
   "metadata": {
    "collapsed": false
   },
   "outputs": [
    {
     "name": "stdout",
     "output_type": "stream",
     "text": [
      "elapsed_time:331.409599[sec]\n"
     ]
    }
   ],
   "source": [
    "# left_hand\n",
    "start_time = T.clock()\n",
    "Amp_left_handAX=np.array([])\n",
    "Amp_left_handAY=np.array([])\n",
    "Amp_left_handAZ=np.array([])\n",
    "\n",
    "Amp_left_handGX=np.array([])\n",
    "Amp_left_handGY=np.array([])\n",
    "Amp_left_handGZ=np.array([])\n",
    "\n",
    "x = fft_right_leg.where(fft_left_hand.Time==0).dropna()\n",
    "\n",
    "tmp =np.array( np.sqrt(x.AccX_imag**2+x.AccX_real**2) )\n",
    "tmp =tmp/tmp.sum()\n",
    "Amp_left_handAX = np.append(Amp_left_handAX, tmp)\n",
    "\n",
    "tmp =np.array( np.sqrt(x.AccY_imag**2+x.AccY_real**2) )\n",
    "tmp =tmp/tmp.sum()\n",
    "Amp_left_handAY = np.append(Amp_left_handAY, tmp)\n",
    "\n",
    "tmp =np.array( np.sqrt(x.AccZ_imag**2+x.AccZ_real**2) )\n",
    "tmp =tmp/tmp.sum()\n",
    "Amp_left_handAZ = np.append(Amp_left_handAZ, tmp)\n",
    "\n",
    "tmp =np.array( np.sqrt(x.GyrX_imag**2+x.GyrX_real**2) )\n",
    "tmp =tmp/tmp.sum()\n",
    "Amp_left_handGX = np.append(Amp_left_handGX, tmp)\n",
    "\n",
    "tmp =np.array( np.sqrt(x.GyrY_imag**2+x.GyrY_real**2) )\n",
    "tmp =tmp/tmp.sum()\n",
    "Amp_left_handGY = np.append(Amp_left_handGY, tmp)\n",
    "\n",
    "tmp =np.array( np.sqrt(x.GyrZ_imag**2+x.GyrZ_real**2) )\n",
    "tmp =tmp/tmp.sum()\n",
    "Amp_left_handGZ = np.append(Amp_left_handGZ, tmp)\n",
    "\n",
    "for t in range(1,fft_left_hand.Time.max()):\n",
    "    try:\n",
    "        # 抽出したデータベースを格納\n",
    "        x = fft_right_leg.where(fft_left_hand.Time==t).dropna()\n",
    "\n",
    "        # 各軸、それぞれパワースペクトルを計算\n",
    "        tmp =np.array( np.sqrt(x.AccX_imag**2+x.AccX_real**2) )\n",
    "        tmp =tmp/tmp.sum()\n",
    "        Amp_left_handAX = np.vstack((Amp_left_handAX, tmp))\n",
    "\n",
    "        tmp =np.array( np.sqrt(x.AccY_imag**2+x.AccY_real**2) )\n",
    "        tmp =tmp/tmp.sum()\n",
    "        Amp_left_handAY = np.vstack((Amp_left_handAY, tmp))\n",
    "\n",
    "        tmp =np.array( np.sqrt(x.AccZ_imag**2+x.AccZ_real**2) )\n",
    "        tmp =tmp/tmp.sum()\n",
    "        Amp_left_handAZ = np.vstack((Amp_left_handAZ, tmp))\n",
    "        \n",
    "        tmp =np.array( np.sqrt(x.GyrX_imag**2+x.GyrX_real**2) )\n",
    "        tmp =tmp/tmp.sum()\n",
    "        Amp_left_handGX = np.vstack((Amp_left_handGX, tmp))\n",
    "\n",
    "        tmp =np.array( np.sqrt(x.GyrY_imag**2+x.GyrY_real**2) )\n",
    "        tmp =tmp/tmp.sum()\n",
    "        Amp_left_handGY = np.vstack((Amp_left_handGY, tmp))\n",
    "\n",
    "        tmp =np.array( np.sqrt(x.GyrZ_imag**2+x.GyrZ_real**2) )\n",
    "        tmp =tmp/tmp.sum()\n",
    "        Amp_left_handGZ = np.vstack((Amp_left_handGZ, tmp))\n",
    "    except ValueError:\n",
    "        print \"No.\"+str(t)+\"_ValueEroor\"\n",
    "        break\n",
    "    \n",
    "    \n",
    "elapsed_time = T.clock() - start_time\n",
    "print (\"elapsed_time:{0}\".format(elapsed_time)) + \"[sec]\""
   ]
  },
  {
   "cell_type": "code",
   "execution_count": 10,
   "metadata": {
    "collapsed": false
   },
   "outputs": [
    {
     "name": "stdout",
     "output_type": "stream",
     "text": [
      "elapsed_time:105.742331[sec]\n"
     ]
    }
   ],
   "source": [
    "# right_leg\n",
    "start_time = T.clock()\n",
    "Amp_right_legAX=np.array([])\n",
    "Amp_right_legAY=np.array([])\n",
    "Amp_right_legAZ=np.array([])\n",
    "\n",
    "Amp_right_legGX=np.array([])\n",
    "Amp_right_legGY=np.array([])\n",
    "Amp_right_legGZ=np.array([])\n",
    "\n",
    "x = fft_right_leg.where(fft_right_leg.Time==0).dropna()\n",
    "\n",
    "tmp =np.array( np.sqrt(x.AccX_imag**2+x.AccX_real**2) )\n",
    "tmp =tmp/tmp.sum()\n",
    "Amp_right_legAX = np.append(Amp_right_legAX, tmp)\n",
    "\n",
    "tmp =np.array( np.sqrt(x.AccY_imag**2+x.AccY_real**2) )\n",
    "tmp =tmp/tmp.sum()\n",
    "Amp_right_legAY = np.append(Amp_right_legAY, tmp)\n",
    "\n",
    "tmp =np.array( np.sqrt(x.AccZ_imag**2+x.AccZ_real**2) )\n",
    "tmp =tmp/tmp.sum()\n",
    "Amp_right_legAZ = np.append(Amp_right_legAZ, tmp)\n",
    "\n",
    "tmp =np.array( np.sqrt(x.GyrX_imag**2+x.GyrX_real**2) )\n",
    "tmp =tmp/tmp.sum()\n",
    "Amp_right_legGX = np.append(Amp_right_legGX, tmp)\n",
    "\n",
    "tmp =np.array( np.sqrt(x.GyrY_imag**2+x.GyrY_real**2) )\n",
    "tmp =tmp/tmp.sum()\n",
    "Amp_right_legGY = np.append(Amp_right_legGY, tmp)\n",
    "\n",
    "tmp =np.array( np.sqrt(x.GyrZ_imag**2+x.GyrZ_real**2) )\n",
    "tmp =tmp/tmp.sum()\n",
    "Amp_right_legGZ = np.append(Amp_right_legGZ, tmp)\n",
    "\n",
    "for t in range(1,fft_right_leg.Time.max()):\n",
    "    try:\n",
    "        # 抽出したデータベースを格納\n",
    "        x = fft_right_leg.where(fft_right_leg.Time==t).dropna()\n",
    "\n",
    "        # 各軸、それぞれパワースペクトルを計算\n",
    "        tmp =np.array( np.sqrt(x.AccX_imag**2+x.AccX_real**2) )\n",
    "        tmp =tmp/tmp.sum()\n",
    "        Amp_right_legAX = np.vstack((Amp_right_legAX, tmp))\n",
    "\n",
    "        tmp =np.array( np.sqrt(x.AccY_imag**2+x.AccY_real**2) )\n",
    "        tmp =tmp/tmp.sum()\n",
    "        Amp_right_legAY = np.vstack((Amp_right_legAY, tmp))\n",
    "\n",
    "        tmp =np.array( np.sqrt(x.AccZ_imag**2+x.AccZ_real**2) )\n",
    "        tmp =tmp/tmp.sum()\n",
    "        Amp_right_legAZ = np.vstack((Amp_right_legAZ, tmp))\n",
    "        \n",
    "        tmp =np.array( np.sqrt(x.GyrX_imag**2+x.GyrX_real**2) )\n",
    "        tmp =tmp/tmp.sum()\n",
    "        Amp_right_legGX = np.vstack((Amp_right_legGX, tmp))\n",
    "\n",
    "        tmp =np.array( np.sqrt(x.GyrY_imag**2+x.GyrY_real**2) )\n",
    "        tmp =tmp/tmp.sum()\n",
    "        Amp_right_legGY = np.vstack((Amp_right_legGY, tmp))\n",
    "\n",
    "        tmp =np.array( np.sqrt(x.GyrZ_imag**2+x.GyrZ_real**2) )\n",
    "        tmp =tmp/tmp.sum()\n",
    "        Amp_right_legGZ = np.vstack((Amp_right_legGZ, tmp))\n",
    "    except ValueError:\n",
    "        print \"No.\"+str(t)+\"_ValueEroor\"\n",
    "        break\n",
    "    \n",
    "    \n",
    "elapsed_time = T.clock() - start_time\n",
    "print (\"elapsed_time:{0}\".format(elapsed_time)) + \"[sec]\""
   ]
  },
  {
   "cell_type": "code",
   "execution_count": 11,
   "metadata": {
    "collapsed": false
   },
   "outputs": [
    {
     "name": "stdout",
     "output_type": "stream",
     "text": [
      "elapsed_time:105.032811[sec]\n"
     ]
    }
   ],
   "source": [
    "# Left_leg\n",
    "start_time = T.clock()\n",
    "Amp_left_legAX=np.array([])\n",
    "Amp_left_legAY=np.array([])\n",
    "Amp_left_legAZ=np.array([])\n",
    "\n",
    "Amp_left_legGX=np.array([])\n",
    "Amp_left_legGY=np.array([])\n",
    "Amp_left_legGZ=np.array([])\n",
    "\n",
    "x = fft_left_leg.where(fft_left_leg.Time==0).dropna()\n",
    "\n",
    "tmp =np.array( np.sqrt(x.AccX_imag**2+x.AccX_real**2) )\n",
    "tmp =tmp/tmp.sum()\n",
    "Amp_left_legAX = np.append(Amp_left_legAX, tmp)\n",
    "\n",
    "tmp =np.array( np.sqrt(x.AccY_imag**2+x.AccY_real**2) )\n",
    "tmp =tmp/tmp.sum()\n",
    "Amp_left_legAY = np.append(Amp_left_legAY, tmp)\n",
    "\n",
    "tmp =np.array( np.sqrt(x.AccZ_imag**2+x.AccZ_real**2) )\n",
    "tmp =tmp/tmp.sum()\n",
    "Amp_left_legAZ = np.append(Amp_left_legAZ, tmp)\n",
    "\n",
    "tmp =np.array( np.sqrt(x.GyrX_imag**2+x.GyrX_real**2) )\n",
    "tmp =tmp/tmp.sum()\n",
    "Amp_left_legGX = np.append(Amp_left_legGX, tmp)\n",
    "\n",
    "tmp =np.array( np.sqrt(x.GyrY_imag**2+x.GyrY_real**2) )\n",
    "tmp =tmp/tmp.sum()\n",
    "Amp_left_legGY = np.append(Amp_left_legGY, tmp)\n",
    "\n",
    "tmp =np.array( np.sqrt(x.GyrZ_imag**2+x.GyrZ_real**2) )\n",
    "tmp =tmp/tmp.sum()\n",
    "Amp_left_legGZ = np.append(Amp_left_legGZ, tmp)\n",
    "\n",
    "for t in range(1,fft_left_leg.Time.max()):\n",
    "    try:\n",
    "        # 抽出したデータベースを格納\n",
    "        x = fft_left_leg.where(fft_left_leg.Time==t).dropna()\n",
    "\n",
    "        # 各軸、それぞれパワースペクトルを計算\n",
    "        tmp =np.array( np.sqrt(x.AccX_imag**2+x.AccX_real**2) )\n",
    "        tmp =tmp/tmp.sum()\n",
    "        Amp_left_legAX = np.vstack((Amp_left_legAX, tmp))\n",
    "\n",
    "        tmp =np.array( np.sqrt(x.AccY_imag**2+x.AccY_real**2) )\n",
    "        tmp =tmp/tmp.sum()\n",
    "        Amp_left_legAY = np.vstack((Amp_left_legAY, tmp))\n",
    "\n",
    "        tmp =np.array( np.sqrt(x.AccZ_imag**2+x.AccZ_real**2) )\n",
    "        tmp =tmp/tmp.sum()\n",
    "        Amp_left_legAZ = np.vstack((Amp_left_legAZ, tmp))\n",
    "        \n",
    "        tmp =np.array( np.sqrt(x.GyrX_imag**2+x.GyrX_real**2) )\n",
    "        tmp =tmp/tmp.sum()\n",
    "        Amp_left_legGX = np.vstack((Amp_left_legGX, tmp))\n",
    "\n",
    "        tmp =np.array( np.sqrt(x.GyrY_imag**2+x.GyrY_real**2) )\n",
    "        tmp =tmp/tmp.sum()\n",
    "        Amp_left_legGY = np.vstack((Amp_left_legGY, tmp))\n",
    "\n",
    "        tmp =np.array( np.sqrt(x.GyrZ_imag**2+x.GyrZ_real**2) )\n",
    "        tmp =tmp/tmp.sum()\n",
    "        Amp_left_legGZ = np.vstack((Amp_left_legGZ, tmp))\n",
    "    except ValueError:\n",
    "        print \"No.\"+str(t)+\"_ValueEroor\"\n",
    "        break\n",
    "    \n",
    "    \n",
    "elapsed_time = T.clock() - start_time\n",
    "print (\"elapsed_time:{0}\".format(elapsed_time)) + \"[sec]\""
   ]
  },
  {
   "cell_type": "code",
   "execution_count": 12,
   "metadata": {
    "collapsed": false
   },
   "outputs": [
    {
     "name": "stdout",
     "output_type": "stream",
     "text": [
      "elapsed_time:101.928577[sec]\n"
     ]
    }
   ],
   "source": [
    "# right_hand\n",
    "start_time = T.clock()\n",
    "Amp_right_handAX=np.array([])\n",
    "Amp_right_handAY=np.array([])\n",
    "Amp_right_handAZ=np.array([])\n",
    "\n",
    "Amp_right_handGX=np.array([])\n",
    "Amp_right_handGY=np.array([])\n",
    "Amp_right_handGZ=np.array([])\n",
    "\n",
    "x = fft_right_hand.where(fft_right_hand.Time==0).dropna()\n",
    "\n",
    "tmp =np.array( np.sqrt(x.AccX_imag**2+x.AccX_real**2) )\n",
    "tmp =tmp/tmp.sum()\n",
    "Amp_right_handAX = np.append(Amp_right_handAX, tmp)\n",
    "\n",
    "tmp =np.array( np.sqrt(x.AccY_imag**2+x.AccY_real**2) )\n",
    "tmp =tmp/tmp.sum()\n",
    "Amp_right_handAY = np.append(Amp_right_handAY, tmp)\n",
    "\n",
    "tmp =np.array( np.sqrt(x.AccZ_imag**2+x.AccZ_real**2) )\n",
    "tmp =tmp/tmp.sum()\n",
    "Amp_right_handAZ = np.append(Amp_right_handAZ, tmp)\n",
    "\n",
    "tmp =np.array( np.sqrt(x.GyrX_imag**2+x.GyrX_real**2) )\n",
    "tmp =tmp/tmp.sum()\n",
    "Amp_right_handGX = np.append(Amp_right_handGX, tmp)\n",
    "\n",
    "tmp =np.array( np.sqrt(x.GyrY_imag**2+x.GyrY_real**2) )\n",
    "tmp =tmp/tmp.sum()\n",
    "Amp_right_handGY = np.append(Amp_right_handGY, tmp)\n",
    "\n",
    "tmp =np.array( np.sqrt(x.GyrZ_imag**2+x.GyrZ_real**2) )\n",
    "tmp =tmp/tmp.sum()\n",
    "Amp_right_handGZ = np.append(Amp_right_handGZ, tmp)\n",
    "\n",
    "for t in range(1,fft_right_hand.Time.max()):\n",
    "    try:\n",
    "        # 抽出したデータベースを格納\n",
    "        x = fft_right_hand.where(fft_right_hand.Time==t).dropna()\n",
    "\n",
    "        # 各軸、それぞれパワースペクトルを計算\n",
    "        tmp =np.array( np.sqrt(x.AccX_imag**2+x.AccX_real**2) )\n",
    "        tmp =tmp/tmp.sum()\n",
    "        Amp_right_handAX = np.vstack((Amp_right_handAX, tmp))\n",
    "\n",
    "        tmp =np.array( np.sqrt(x.AccY_imag**2+x.AccY_real**2) )\n",
    "        tmp =tmp/tmp.sum()\n",
    "        Amp_right_handAY = np.vstack((Amp_right_handAY, tmp))\n",
    "\n",
    "        tmp =np.array( np.sqrt(x.AccZ_imag**2+x.AccZ_real**2) )\n",
    "        tmp =tmp/tmp.sum()\n",
    "        Amp_right_handAZ = np.vstack((Amp_right_handAZ, tmp))\n",
    "        \n",
    "        tmp =np.array( np.sqrt(x.GyrX_imag**2+x.GyrX_real**2) )\n",
    "        tmp =tmp/tmp.sum()\n",
    "        Amp_right_handGX = np.vstack((Amp_right_handGX, tmp))\n",
    "\n",
    "        tmp =np.array( np.sqrt(x.GyrY_imag**2+x.GyrY_real**2) )\n",
    "        tmp =tmp/tmp.sum()\n",
    "        Amp_right_handGY = np.vstack((Amp_right_handGY, tmp))\n",
    "\n",
    "        tmp =np.array( np.sqrt(x.GyrZ_imag**2+x.GyrZ_real**2) )\n",
    "        tmp =tmp/tmp.sum()\n",
    "        Amp_right_handGZ = np.vstack((Amp_right_handGZ, tmp))\n",
    "    except ValueError:\n",
    "        print \"No.\"+str(t)+\"_ValueEroor\"\n",
    "        break\n",
    "    \n",
    "    \n",
    "elapsed_time = T.clock() - start_time\n",
    "print (\"elapsed_time:{0}\".format(elapsed_time)) + \"[sec]\""
   ]
  },
  {
   "cell_type": "code",
   "execution_count": 13,
   "metadata": {
    "collapsed": false
   },
   "outputs": [
    {
     "name": "stdout",
     "output_type": "stream",
     "text": [
      "elapsed_time:2.383775[sec]\n"
     ]
    }
   ],
   "source": [
    "# west\n",
    "start_time = T.clock()\n",
    "Amp_westAX=np.array([])\n",
    "Amp_westAY=np.array([])\n",
    "Amp_westAZ=np.array([])\n",
    "\n",
    "Amp_westGX=np.array([])\n",
    "Amp_westGY=np.array([])\n",
    "Amp_westGZ=np.array([])\n",
    "\n",
    "x = fft_west.where(fft_west.Time==0).dropna()\n",
    "\n",
    "tmp =np.array( np.sqrt(x.AccX_imag**2+x.AccX_real**2) )\n",
    "tmp =tmp/tmp.sum()\n",
    "Amp_westAX = np.append(Amp_westAX, tmp)\n",
    "\n",
    "tmp =np.array( np.sqrt(x.AccY_imag**2+x.AccY_real**2) )\n",
    "tmp =tmp/tmp.sum()\n",
    "Amp_westAY = np.append(Amp_westAY, tmp)\n",
    "\n",
    "tmp =np.array( np.sqrt(x.AccZ_imag**2+x.AccZ_real**2) )\n",
    "tmp =tmp/tmp.sum()\n",
    "Amp_westAZ = np.append(Amp_westAZ, tmp)\n",
    "\n",
    "tmp =np.array( np.sqrt(x.GyrX_imag**2+x.GyrX_real**2) )\n",
    "tmp =tmp/tmp.sum()\n",
    "Amp_westGX = np.append(Amp_westGX, tmp)\n",
    "\n",
    "tmp =np.array( np.sqrt(x.GyrY_imag**2+x.GyrY_real**2) )\n",
    "tmp =tmp/tmp.sum()\n",
    "Amp_westGY = np.append(Amp_westGY, tmp)\n",
    "\n",
    "tmp =np.array( np.sqrt(x.GyrZ_imag**2+x.GyrZ_real**2) )\n",
    "tmp =tmp/tmp.sum()\n",
    "Amp_westGZ = np.append(Amp_westGZ, tmp)\n",
    "\n",
    "for t in range(1,fft_west.Time.max()):\n",
    "    try:\n",
    "        # 抽出したデータベースを格納\n",
    "        x = fft_west.where(fft_west.Time==t).dropna()\n",
    "\n",
    "        # 各軸、それぞれパワースペクトルを計算\n",
    "        tmp =np.array( np.sqrt(x.AccX_imag**2+x.AccX_real**2) )\n",
    "        tmp =tmp/tmp.sum()\n",
    "        Amp_westAX = np.vstack((Amp_westAX, tmp))\n",
    "\n",
    "        tmp =np.array( np.sqrt(x.AccY_imag**2+x.AccY_real**2) )\n",
    "        tmp =tmp/tmp.sum()\n",
    "        Amp_westAY = np.vstack((Amp_westAY, tmp))\n",
    "\n",
    "        tmp =np.array( np.sqrt(x.AccZ_imag**2+x.AccZ_real**2) )\n",
    "        tmp =tmp/tmp.sum()\n",
    "        Amp_westAZ = np.vstack((Amp_westAZ, tmp))\n",
    "        \n",
    "        tmp =np.array( np.sqrt(x.GyrX_imag**2+x.GyrX_real**2) )\n",
    "        tmp =tmp/tmp.sum()\n",
    "        Amp_westGX = np.vstack((Amp_westGX, tmp))\n",
    "\n",
    "        tmp =np.array( np.sqrt(x.GyrY_imag**2+x.GyrY_real**2) )\n",
    "        tmp =tmp/tmp.sum()\n",
    "        Amp_westGY = np.vstack((Amp_westGY, tmp))\n",
    "\n",
    "        tmp =np.array( np.sqrt(x.GyrZ_imag**2+x.GyrZ_real**2) )\n",
    "        tmp =tmp/tmp.sum()\n",
    "        Amp_westGZ = np.vstack((Amp_westGZ, tmp))\n",
    "    except ValueError:\n",
    "        print \"No.\"+str(t)+\"_ValueEroor\"\n",
    "        break\n",
    "    \n",
    "    \n",
    "elapsed_time = T.clock() - start_time\n",
    "print (\"elapsed_time:{0}\".format(elapsed_time)) + \"[sec]\""
   ]
  },
  {
   "cell_type": "code",
   "execution_count": 14,
   "metadata": {
    "collapsed": false
   },
   "outputs": [
    {
     "data": {
      "text/plain": [
       "(349, 16)"
      ]
     },
     "execution_count": 14,
     "metadata": {},
     "output_type": "execute_result"
    }
   ],
   "source": [
    "Amp_westAX.shape"
   ]
  },
  {
   "cell_type": "code",
   "execution_count": 15,
   "metadata": {
    "collapsed": true
   },
   "outputs": [],
   "source": [
    "fft_name=['FFT-Cleaning-Conv-left-hand-ags.csv'+'-'+str(sample_bit)+'bit.csv','FFT-'+'Cleaning-Conv-left-leg-ags.csv'+'-'+str(sample_bit)+'bit.csv',\n",
    "          'FFT-'+'Cleaning-Conv-right-hand-ags.csv'+'-'+str(sample_bit)+'bit.csv','FFT-'+'Cleaning-Conv-right-leg-ags.csv'+'-'+str(sample_bit)+'bit.csv',\n",
    "          'FFT-'+'Cleaning-Conv-west-ags.csv'+'-'+str(sample_bit)+'bit.csv']"
   ]
  },
  {
   "cell_type": "code",
   "execution_count": 16,
   "metadata": {
    "collapsed": false
   },
   "outputs": [
    {
     "data": {
      "text/plain": [
       "(3466, 16)"
      ]
     },
     "execution_count": 16,
     "metadata": {},
     "output_type": "execute_result"
    }
   ],
   "source": [
    "Amp_left_handAX.shape"
   ]
  },
  {
   "cell_type": "code",
   "execution_count": 17,
   "metadata": {
    "collapsed": false
   },
   "outputs": [
    {
     "data": {
      "text/plain": [
       "(3466, 16)"
      ]
     },
     "execution_count": 17,
     "metadata": {},
     "output_type": "execute_result"
    }
   ],
   "source": [
    "Amp_left_handAY.shape"
   ]
  },
  {
   "cell_type": "code",
   "execution_count": 18,
   "metadata": {
    "collapsed": false
   },
   "outputs": [
    {
     "data": {
      "text/plain": [
       "(3466, 16)"
      ]
     },
     "execution_count": 18,
     "metadata": {},
     "output_type": "execute_result"
    }
   ],
   "source": [
    "Amp_left_handAZ.shape"
   ]
  },
  {
   "cell_type": "code",
   "execution_count": 19,
   "metadata": {
    "collapsed": false
   },
   "outputs": [
    {
     "data": {
      "text/plain": [
       "(3466, 16)"
      ]
     },
     "execution_count": 19,
     "metadata": {},
     "output_type": "execute_result"
    }
   ],
   "source": [
    "Amp_left_handGX.shape"
   ]
  },
  {
   "cell_type": "code",
   "execution_count": 20,
   "metadata": {
    "collapsed": false
   },
   "outputs": [
    {
     "data": {
      "text/plain": [
       "(3466, 16)"
      ]
     },
     "execution_count": 20,
     "metadata": {},
     "output_type": "execute_result"
    }
   ],
   "source": [
    "Amp_left_handGY.shape"
   ]
  },
  {
   "cell_type": "code",
   "execution_count": 21,
   "metadata": {
    "collapsed": false
   },
   "outputs": [
    {
     "data": {
      "text/plain": [
       "(3466, 16)"
      ]
     },
     "execution_count": 21,
     "metadata": {},
     "output_type": "execute_result"
    }
   ],
   "source": [
    "Amp_left_handGZ.shape"
   ]
  },
  {
   "cell_type": "code",
   "execution_count": 22,
   "metadata": {
    "collapsed": false
   },
   "outputs": [
    {
     "data": {
      "text/plain": [
       "3466"
      ]
     },
     "execution_count": 22,
     "metadata": {},
     "output_type": "execute_result"
    }
   ],
   "source": [
    "len( range(0,fft_left_hand.Time.max()) )"
   ]
  },
  {
   "cell_type": "code",
   "execution_count": 23,
   "metadata": {
    "collapsed": true
   },
   "outputs": [],
   "source": [
    "def GetLabelNam(samp):\n",
    "    l=['1st', '2nd', '3rd', '4th', '5th', '6th', '7th', '8th', '9th', '10th', '11th',\n",
    "    '12th', '13th', '14th', '15th', '16th', '17th', '18th', '19th', '20th', '21st',\n",
    "    '22nd', '23rd', '24th', '25th', '26th', '27th', '28th', '29th', '30th', '31st']\n",
    "    \n",
    "    return l[0:(samp/2)]"
   ]
  },
  {
   "cell_type": "code",
   "execution_count": 24,
   "metadata": {
    "collapsed": false
   },
   "outputs": [
    {
     "name": "stdout",
     "output_type": "stream",
     "text": [
      "FFT-Cleaning-Conv-left-hand-ags.csv-32bit.csv\n"
     ]
    },
    {
     "ename": "TypeError",
     "evalue": "range() integer end argument expected, got list.",
     "output_type": "error",
     "traceback": [
      "\u001b[1;31m---------------------------------------------------------------------------\u001b[0m",
      "\u001b[1;31mTypeError\u001b[0m                                 Traceback (most recent call last)",
      "\u001b[1;32m<ipython-input-24-992757b703d9>\u001b[0m in \u001b[0;36m<module>\u001b[1;34m()\u001b[0m\n\u001b[0;32m      9\u001b[0m     \u001b[0mLabelArray\u001b[0m\u001b[1;33m=\u001b[0m\u001b[1;33m[\u001b[0m\u001b[1;33m]\u001b[0m\u001b[1;33m\u001b[0m\u001b[0m\n\u001b[0;32m     10\u001b[0m \u001b[1;33m\u001b[0m\u001b[0m\n\u001b[1;32m---> 11\u001b[1;33m     \u001b[1;32mfor\u001b[0m \u001b[0mt\u001b[0m \u001b[1;32min\u001b[0m \u001b[0mrange\u001b[0m\u001b[1;33m(\u001b[0m\u001b[0mrange\u001b[0m\u001b[1;33m(\u001b[0m\u001b[1;36m0\u001b[0m\u001b[1;33m,\u001b[0m\u001b[0mfft_left_hand\u001b[0m\u001b[1;33m.\u001b[0m\u001b[0mTime\u001b[0m\u001b[1;33m.\u001b[0m\u001b[0mmax\u001b[0m\u001b[1;33m(\u001b[0m\u001b[1;33m)\u001b[0m\u001b[1;33m)\u001b[0m\u001b[1;33m)\u001b[0m\u001b[1;33m:\u001b[0m\u001b[1;33m\u001b[0m\u001b[0m\n\u001b[0m\u001b[0;32m     12\u001b[0m         \u001b[1;32mfor\u001b[0m \u001b[0mi\u001b[0m \u001b[1;32min\u001b[0m \u001b[0mrange\u001b[0m\u001b[1;33m(\u001b[0m\u001b[0mlen\u001b[0m\u001b[1;33m(\u001b[0m\u001b[0marray\u001b[0m\u001b[1;33m)\u001b[0m\u001b[1;33m)\u001b[0m\u001b[1;33m:\u001b[0m\u001b[1;33m\u001b[0m\u001b[0m\n\u001b[0;32m     13\u001b[0m             \u001b[0mTimeArray\u001b[0m\u001b[1;33m.\u001b[0m\u001b[0mappend\u001b[0m\u001b[1;33m(\u001b[0m\u001b[0mstr\u001b[0m\u001b[1;33m(\u001b[0m\u001b[0mt\u001b[0m\u001b[1;33m)\u001b[0m\u001b[1;33m)\u001b[0m\u001b[1;33m\u001b[0m\u001b[0m\n",
      "\u001b[1;31mTypeError\u001b[0m: range() integer end argument expected, got list."
     ]
    }
   ],
   "source": [
    "start_time = T.clock()\n",
    "\n",
    "for n in fft_name:\n",
    "    print n\n",
    "    \n",
    "    array =  GetLabelNam(sample_bit)\n",
    "    TimeArray=[]\n",
    "    NumArray=[]\n",
    "    LabelArray=[]\n",
    "\n",
    "    for t in range(range(0,fft_left_hand.Time.max())):\n",
    "        for i in range(len(array)):\n",
    "            TimeArray.append(str(t))\n",
    "            LabelArray.append(label[t])\n",
    "\n",
    "    for i in range(range(0,fft_left_hand.Time.max())):\n",
    "        for a in array:\n",
    "            NumArray.append(a)\n",
    "\n",
    "    TimeArray=np.array(TimeArray)\n",
    "    NumArray=np.array(NumArray)\n",
    "    LabelArray=np.array(LabelArray)\n",
    "\n",
    "    fftdf=pd.DataFrame({\n",
    "            'AccX_real':Amp_left_handAX,\n",
    "            'AccY_real':Amp_left_handAY,\n",
    "            'AccZ_real':Amp_left_handAZ,\n",
    "            'GyrX_real':Amp_left_handGX,\n",
    "            'GyrY_real':Amp_left_handGY,\n",
    "            'GyrZ_real':Amp_left_handGZ,\n",
    "            'Time':TimeArray,\n",
    "            'Number':NumArray,\n",
    "            'Label':LabelArray\n",
    "            }\n",
    "          )\n",
    "\n",
    "    #fftdf = fftdf.astype(np.float64)\n",
    "\n",
    "    fftdf1.to_csv('Amp-'+n)\n",
    "\n",
    "elapsed_time = T.clock() - start_time\n",
    "print (\"elapsed_time:{0}\".format(elapsed_time)) + \"[sec]\""
   ]
  },
  {
   "cell_type": "code",
   "execution_count": null,
   "metadata": {
    "collapsed": true
   },
   "outputs": [],
   "source": []
  }
 ],
 "metadata": {
  "kernelspec": {
   "display_name": "Python 2",
   "language": "python",
   "name": "python2"
  },
  "language_info": {
   "codemirror_mode": {
    "name": "ipython",
    "version": 2
   },
   "file_extension": ".py",
   "mimetype": "text/x-python",
   "name": "python",
   "nbconvert_exporter": "python",
   "pygments_lexer": "ipython2",
   "version": "2.7.10"
  }
 },
 "nbformat": 4,
 "nbformat_minor": 0
}
