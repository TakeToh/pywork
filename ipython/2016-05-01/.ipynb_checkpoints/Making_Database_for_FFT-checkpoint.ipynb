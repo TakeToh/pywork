{
 "cells": [
  {
   "cell_type": "code",
   "execution_count": 1,
   "metadata": {
    "collapsed": true
   },
   "outputs": [],
   "source": [
    "import numpy as np\n",
    "import matplotlib.pyplot as plt\n",
    "import matplotlib\n",
    "from scipy import fftpack\n",
    "from scipy import signal\n",
    "import numpy as np\n",
    "import pandas as pd"
   ]
  },
  {
   "cell_type": "code",
   "execution_count": 2,
   "metadata": {
    "collapsed": false
   },
   "outputs": [
    {
     "name": "stdout",
     "output_type": "stream",
     "text": [
      "/home/takeyama/Documents/01_SensorData/2016_04_12/cleaning-addingLABEL\n"
     ]
    }
   ],
   "source": [
    "cd ~/Documents/01_SensorData/2016_04_12/cleaning-addingLABEL/"
   ]
  },
  {
   "cell_type": "code",
   "execution_count": 3,
   "metadata": {
    "collapsed": true
   },
   "outputs": [],
   "source": [
    "left_hand = pd.read_csv('Cleaning-Conv-left-hand-ags.csv',parse_dates=['Time'])\n",
    "#left_hand.Time=pd.to_timedelta(left_hand.Time)\n",
    "left_leg = pd.read_csv('Cleaning-Conv-left-leg-ags.csv',parse_dates=['Time'])\n",
    "#left_leg.Time=pd.to_timedelta(left_leg.Time)\n",
    "right_hand = pd.read_csv('Cleaning-Conv-right-hand-ags.csv',parse_dates=['Time'])\n",
    "#right_hand.Time=pd.to_timedelta(right_hand.Time)\n",
    "right_leg = pd.read_csv('Cleaning-Conv-right-leg-ags.csv',parse_dates=['Time'])\n",
    "#right_leg.Time=pd.to_timedelta(right_leg.Time)\n",
    "west = pd.read_csv('Cleaning-Conv-west-ags.csv',parse_dates=['Time'])\n",
    "#west.Time=pd.to_timedelta(west.Time)\n",
    "\n",
    "name=['Cleaning-Conv-left-hand-ags.csv','Cleaning-Conv-left-leg-ags.csv','Cleaning-Conv-right-hand-ags.csv',\\\n",
    "     'Cleaning-Conv-right-leg-ags.csv','Cleaning-Conv-west-ags.csv']"
   ]
  },
  {
   "cell_type": "code",
   "execution_count": 6,
   "metadata": {
    "collapsed": true
   },
   "outputs": [],
   "source": [
    "# labering data -> pandas dateframe\n",
    "# freq -> sampling time [seconds]\n",
    "# overlap -> % to freq\n",
    "def sliding_window(labeling_data,freq, overlap):\n",
    "    \n",
    "    count =0\n",
    "    start =labeling_data.Time[0]\n",
    "    goal = start+datetime.timedelta(seconds=freq)\n",
    "    add=freq*overlap\n",
    "    yield labeling_data[(start <= labeling_data.Time) &(labeling_data.Time <= goal)]\n",
    "       \n",
    "    while True:\n",
    "        try:\n",
    "            count +=1\n",
    "            start =start+datetime.timedelta(seconds=add)\n",
    "            goal  =start+datetime.timedelta(seconds=freq)\n",
    "            #print goal\n",
    "            yield labeling_data[(start <= labeling_data.Time) &(labeling_data.Time <= goal)]\n",
    "        except StopIteration:\n",
    "            break"
   ]
  },
  {
   "cell_type": "code",
   "execution_count": 7,
   "metadata": {
    "collapsed": true
   },
   "outputs": [],
   "source": [
    "test=pd.read_csv(\"FFT-Cleaning-Conv-left-hand-ags.csv-16bit-samp-.csv\")"
   ]
  },
  {
   "cell_type": "code",
   "execution_count": 8,
   "metadata": {
    "collapsed": false
   },
   "outputs": [
    {
     "ename": "NameError",
     "evalue": "global name 'datetime' is not defined",
     "output_type": "error",
     "traceback": [
      "\u001b[1;31m---------------------------------------------------------------------------\u001b[0m",
      "\u001b[1;31mNameError\u001b[0m                                 Traceback (most recent call last)",
      "\u001b[1;32m<ipython-input-8-116e461cef09>\u001b[0m in \u001b[0;36m<module>\u001b[1;34m()\u001b[0m\n\u001b[0;32m     12\u001b[0m \u001b[1;32mwhile\u001b[0m \u001b[0mTrue\u001b[0m\u001b[1;33m:\u001b[0m\u001b[1;33m\u001b[0m\u001b[0m\n\u001b[0;32m     13\u001b[0m     \u001b[1;32mtry\u001b[0m\u001b[1;33m:\u001b[0m\u001b[1;33m\u001b[0m\u001b[0m\n\u001b[1;32m---> 14\u001b[1;33m         \u001b[0md\u001b[0m\u001b[1;33m=\u001b[0m\u001b[0mdf\u001b[0m\u001b[1;33m.\u001b[0m\u001b[0mnext\u001b[0m\u001b[1;33m(\u001b[0m\u001b[1;33m)\u001b[0m\u001b[1;33m\u001b[0m\u001b[0m\n\u001b[0m\u001b[0;32m     15\u001b[0m         \u001b[1;31m# fftの直流成分を除くsample/2のみ\u001b[0m\u001b[1;33m\u001b[0m\u001b[1;33m\u001b[0m\u001b[0m\n\u001b[0;32m     16\u001b[0m         \u001b[0mlAccX\u001b[0m\u001b[1;33m.\u001b[0m\u001b[0mappend\u001b[0m\u001b[1;33m(\u001b[0m\u001b[0mfftpack\u001b[0m\u001b[1;33m.\u001b[0m\u001b[0mfft\u001b[0m\u001b[1;33m(\u001b[0m\u001b[0md\u001b[0m\u001b[1;33m.\u001b[0m\u001b[0mAccX\u001b[0m\u001b[1;33m)\u001b[0m\u001b[1;33m[\u001b[0m\u001b[1;36m1\u001b[0m\u001b[1;33m:\u001b[0m\u001b[0msamp\u001b[0m\u001b[1;33m/\u001b[0m\u001b[1;36m2\u001b[0m\u001b[1;33m-\u001b[0m\u001b[1;36m1\u001b[0m\u001b[1;33m]\u001b[0m\u001b[1;33m)\u001b[0m\u001b[1;33m\u001b[0m\u001b[0m\n",
      "\u001b[1;32m<ipython-input-6-f54f450a5978>\u001b[0m in \u001b[0;36msliding_window\u001b[1;34m(labeling_data, freq, overlap)\u001b[0m\n\u001b[0;32m      6\u001b[0m     \u001b[0mcount\u001b[0m \u001b[1;33m=\u001b[0m\u001b[1;36m0\u001b[0m\u001b[1;33m\u001b[0m\u001b[0m\n\u001b[0;32m      7\u001b[0m     \u001b[0mstart\u001b[0m \u001b[1;33m=\u001b[0m\u001b[0mlabeling_data\u001b[0m\u001b[1;33m.\u001b[0m\u001b[0mTime\u001b[0m\u001b[1;33m[\u001b[0m\u001b[1;36m0\u001b[0m\u001b[1;33m]\u001b[0m\u001b[1;33m\u001b[0m\u001b[0m\n\u001b[1;32m----> 8\u001b[1;33m     \u001b[0mgoal\u001b[0m \u001b[1;33m=\u001b[0m \u001b[0mstart\u001b[0m\u001b[1;33m+\u001b[0m\u001b[0mdatetime\u001b[0m\u001b[1;33m.\u001b[0m\u001b[0mtimedelta\u001b[0m\u001b[1;33m(\u001b[0m\u001b[0mseconds\u001b[0m\u001b[1;33m=\u001b[0m\u001b[0mfreq\u001b[0m\u001b[1;33m)\u001b[0m\u001b[1;33m\u001b[0m\u001b[0m\n\u001b[0m\u001b[0;32m      9\u001b[0m     \u001b[0madd\u001b[0m\u001b[1;33m=\u001b[0m\u001b[0mfreq\u001b[0m\u001b[1;33m*\u001b[0m\u001b[0moverlap\u001b[0m\u001b[1;33m\u001b[0m\u001b[0m\n\u001b[0;32m     10\u001b[0m     \u001b[1;32myield\u001b[0m \u001b[0mlabeling_data\u001b[0m\u001b[1;33m[\u001b[0m\u001b[1;33m(\u001b[0m\u001b[0mstart\u001b[0m \u001b[1;33m<=\u001b[0m \u001b[0mlabeling_data\u001b[0m\u001b[1;33m.\u001b[0m\u001b[0mTime\u001b[0m\u001b[1;33m)\u001b[0m \u001b[1;33m&\u001b[0m\u001b[1;33m(\u001b[0m\u001b[0mlabeling_data\u001b[0m\u001b[1;33m.\u001b[0m\u001b[0mTime\u001b[0m \u001b[1;33m<=\u001b[0m \u001b[0mgoal\u001b[0m\u001b[1;33m)\u001b[0m\u001b[1;33m]\u001b[0m\u001b[1;33m\u001b[0m\u001b[0m\n",
      "\u001b[1;31mNameError\u001b[0m: global name 'datetime' is not defined"
     ]
    }
   ],
   "source": [
    "Source=pd.read_csv(name[0],parse_dates=['Time'])\n",
    "df=sliding_window(Source,0.16,0.5)\n",
    "lAccX=[]\n",
    "lAccY=[]\n",
    "lAccZ=[]\n",
    "lGyrX=[]\n",
    "lGyrY=[]\n",
    "lGyrZ=[]\n",
    "time=[]\n",
    "samp=16\n",
    "\n",
    "while True:\n",
    "    try:\n",
    "        d=df.next()\n",
    "        # fftの直流成分を除くsample/2のみ\n",
    "        lAccX.append(fftpack.fft(d.AccX)[1:samp/2-1])\n",
    "        lAccY.append(fftpack.fft(d.AccY)[1:samp/2-1])\n",
    "        lAccZ.append(fftpack.fft(d.AccZ)[1:samp/2-1])\n",
    "        lGyrX.append(fftpack.fft(d.GyrX)[1:samp/2-1])\n",
    "        lGyrY.append(fftpack.fft(d.GyrY)[1:samp/2-1])\n",
    "        lGyrZ.append(fftpack.fft(d.GyrZ)[1:samp/2-1])\n",
    "        time.append( min(d.Time) )\n",
    "    except ValueError:\n",
    "        break\n",
    "\n",
    "lAccX=np.array(lAccX,dtype=np.complex)\n",
    "lAccY=np.array(lAccY,dtype=np.complex)\n",
    "lAccZ=np.array(lAccZ,dtype=np.complex)\n",
    "lGyrX=np.array(lGyrX,dtype=np.complex)\n",
    "lGyrY=np.array(lGyrY,dtype=np.complex)\n",
    "lGyrZ=np.array(lGyrZ,dtype=np.complex)\n",
    "time=np.array(time,dtype=np.datetime64)\n",
    "\n",
    "AccX_real = np.real(lAccX)\n",
    "AccY_real = np.real(lAccY)\n",
    "AccZ_real = np.real(lAccZ)\n",
    "GyrX_real = np.real(lGyrX)\n",
    "GyrY_real = np.real(lGyrY)\n",
    "GyrZ_real = np.real(lGyrZ)\n",
    "AccX_imag = np.imag(lAccX)\n",
    "AccY_imag = np.imag(lAccY)\n",
    "AccZ_imag = np.imag(lAccZ)\n",
    "GyrX_imag = np.imag(lGyrX)\n",
    "GyrY_imag = np.imag(lGyrY)\n",
    "GyrZ_imag = np.imag(lGyrZ)\n",
    "\n",
    "fftdf=pd.DataFrame({\n",
    "        'AccX_real':AccX_real,\n",
    "        'AccY_real':AccY_real,\n",
    "        'AccZ_real':AccZ_real,\n",
    "        'GyrX_real':GyrX_real,\n",
    "        'GyrY_real':GyrY_real,\n",
    "        'GyrZ_real':GyrZ_real,\n",
    "        'AccX_imag':AccX_imag,\n",
    "        'AccY_imag':AccY_imag,\n",
    "        'AccZ_imag':AccZ_imag,\n",
    "        'GyrX_imag':GyrX_imag,\n",
    "        'GyrY_imag':GyrY_imag,\n",
    "        'GyrZ_imag':GyrZ_imag\n",
    "        }\n",
    "      )\n",
    "\n",
    "#fftdf = fftdf.astype(np.float64)\n",
    "\n",
    "fftdf\n"
   ]
  },
  {
   "cell_type": "code",
   "execution_count": null,
   "metadata": {
    "collapsed": true
   },
   "outputs": [],
   "source": []
  }
 ],
 "metadata": {
  "kernelspec": {
   "display_name": "Python 2",
   "language": "python",
   "name": "python2"
  },
  "language_info": {
   "codemirror_mode": {
    "name": "ipython",
    "version": 2
   },
   "file_extension": ".py",
   "mimetype": "text/x-python",
   "name": "python",
   "nbconvert_exporter": "python",
   "pygments_lexer": "ipython2",
   "version": "2.7.11"
  }
 },
 "nbformat": 4,
 "nbformat_minor": 0
}
