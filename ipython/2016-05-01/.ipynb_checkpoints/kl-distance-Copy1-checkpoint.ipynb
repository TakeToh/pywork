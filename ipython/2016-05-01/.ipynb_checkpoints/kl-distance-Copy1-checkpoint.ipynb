{
 "cells": [
  {
   "cell_type": "code",
   "execution_count": 1,
   "metadata": {
    "collapsed": true
   },
   "outputs": [],
   "source": [
    "import numpy as np\n",
    "import matplotlib.pyplot as plt\n",
    "import matplotlib\n",
    "from scipy import fftpack\n",
    "from scipy import signal\n",
    "import numpy as np\n",
    "import pandas as pd\n",
    "import datetime\n",
    "import time as T"
   ]
  },
  {
   "cell_type": "code",
   "execution_count": 2,
   "metadata": {
    "collapsed": false
   },
   "outputs": [],
   "source": [
    "#mozart"
   ]
  },
  {
   "cell_type": "code",
   "execution_count": 3,
   "metadata": {
    "collapsed": true
   },
   "outputs": [],
   "source": [
    "#cd ~/Documents/SyncRecord/FFT-data/"
   ]
  },
  {
   "cell_type": "code",
   "execution_count": 4,
   "metadata": {
    "collapsed": true
   },
   "outputs": [],
   "source": [
    "#my workstation"
   ]
  },
  {
   "cell_type": "code",
   "execution_count": 5,
   "metadata": {
    "collapsed": false
   },
   "outputs": [
    {
     "name": "stdout",
     "output_type": "stream",
     "text": [
      "/home/takeyama/Documents/01_SensorData/2016_05_11/FFT-data\n"
     ]
    }
   ],
   "source": [
    "cd /home/takeyama/Documents/01_SensorData/2016_05_11/FFT-data/"
   ]
  },
  {
   "cell_type": "code",
   "execution_count": 6,
   "metadata": {
    "collapsed": false
   },
   "outputs": [
    {
     "name": "stdout",
     "output_type": "stream",
     "text": [
      "FFT-Cleaning-Conv-left-hand-ags.csv-128bit.csv\r\n",
      "FFT-Cleaning-Conv-left-hand-ags.csv-16bit.csv\r\n",
      "FFT-Cleaning-Conv-left-hand-ags.csv-256bit.csv\r\n",
      "FFT-Cleaning-Conv-left-hand-ags.csv-32bit.csv\r\n",
      "FFT-Cleaning-Conv-left-hand-ags.csv-512bit.csv\r\n",
      "FFT-Cleaning-Conv-left-hand-ags.csv-64bit.csv\r\n",
      "FFT-Cleaning-Conv-left-leg-ags.csv-128bit.csv\r\n",
      "FFT-Cleaning-Conv-left-leg-ags.csv-16bit.csv\r\n",
      "FFT-Cleaning-Conv-left-leg-ags.csv-256bit.csv\r\n",
      "FFT-Cleaning-Conv-left-leg-ags.csv-32bit.csv\r\n",
      "FFT-Cleaning-Conv-left-leg-ags.csv-512bit.csv\r\n",
      "FFT-Cleaning-Conv-left-leg-ags.csv-64bit.csv\r\n",
      "FFT-Cleaning-Conv-right-hand-ags.csv-128bit.csv\r\n",
      "FFT-Cleaning-Conv-right-hand-ags.csv-16bit.csv\r\n",
      "FFT-Cleaning-Conv-right-hand-ags.csv-256bit.csv\r\n",
      "FFT-Cleaning-Conv-right-hand-ags.csv-32bit.csv\r\n",
      "FFT-Cleaning-Conv-right-hand-ags.csv-512bit.csv\r\n",
      "FFT-Cleaning-Conv-right-hand-ags.csv-64bit.csv\r\n",
      "FFT-Cleaning-Conv-right-leg-ags.csv-128bit.csv\r\n",
      "FFT-Cleaning-Conv-right-leg-ags.csv-16bit.csv\r\n",
      "FFT-Cleaning-Conv-right-leg-ags.csv-256bit.csv\r\n",
      "FFT-Cleaning-Conv-right-leg-ags.csv-32bit.csv\r\n",
      "FFT-Cleaning-Conv-right-leg-ags.csv-512bit.csv\r\n",
      "FFT-Cleaning-Conv-right-leg-ags.csv-64bit.csv\r\n",
      "FFT-Cleaning-Conv-west-ags.csv-128bit.csv\r\n",
      "FFT-Cleaning-Conv-west-ags.csv-16bit.csv\r\n",
      "FFT-Cleaning-Conv-west-ags.csv-256bit.csv\r\n",
      "FFT-Cleaning-Conv-west-ags.csv-32bit.csv\r\n",
      "FFT-Cleaning-Conv-west-ags.csv-512bit.csv\r\n",
      "FFT-Cleaning-Conv-west-ags.csv-64bit.csv\r\n"
     ]
    }
   ],
   "source": [
    "ls"
   ]
  },
  {
   "cell_type": "code",
   "execution_count": 7,
   "metadata": {
    "collapsed": false
   },
   "outputs": [],
   "source": [
    "fft_left_hand = pd.read_csv('FFT-'+'Cleaning-Conv-left-hand-ags.csv'+'-16'+'bit.csv')\n",
    "#left_hand.Time=pd.to_timedelta(left_hand.Time)\n",
    "fft_left_leg = pd.read_csv('FFT-'+'Cleaning-Conv-left-leg-ags.csv'+'-16'+'bit.csv')\n",
    "#left_leg.Time=pd.to_timedelta(left_leg.Time)\n",
    "fft_right_hand = pd.read_csv('FFT-'+'Cleaning-Conv-right-hand-ags.csv'+'-16'+'bit.csv')\n",
    "#right_hand.Time=pd.to_timedelta(right_hand.Time)\n",
    "fft_right_leg = pd.read_csv('FFT-'+'Cleaning-Conv-right-leg-ags.csv'+'-16'+'bit.csv')\n",
    "#right_leg.Time=pd.to_timedelta(right_leg.Time)\n",
    "fft_west = pd.read_csv('FFT-'+'Cleaning-Conv-west-ags.csv'+'-16'+'bit.csv')\n",
    "#west.Time=pd.to_timedelta(west.Time)"
   ]
  },
  {
   "cell_type": "code",
   "execution_count": 8,
   "metadata": {
    "collapsed": false
   },
   "outputs": [],
   "source": [
    "#fft_left_hand =fft_left_hand.set_index(['Time','Number'])\n",
    "fft_left_leg = fft_left_leg.set_index(['Time','Number'])\n",
    "fft_right_hand = fft_right_hand.set_index(['Time','Number'])\n",
    "fft_right_leg = fft_right_leg.set_index(['Time','Number'])\n",
    "fft_west = fft_west.set_index(['Time','Number'])"
   ]
  },
  {
   "cell_type": "code",
   "execution_count": 9,
   "metadata": {
    "collapsed": false
   },
   "outputs": [
    {
     "data": {
      "text/plain": [
       "Time           int64\n",
       "Number        object\n",
       "AccX_imag    float64\n",
       "AccX_real    float64\n",
       "AccY_imag    float64\n",
       "AccY_real    float64\n",
       "AccZ_imag    float64\n",
       "AccZ_real    float64\n",
       "GyrX_imag    float64\n",
       "GyrX_real    float64\n",
       "GyrY_imag    float64\n",
       "GyrY_real    float64\n",
       "GyrZ_imag    float64\n",
       "GyrZ_real    float64\n",
       "dtype: object"
      ]
     },
     "execution_count": 9,
     "metadata": {},
     "output_type": "execute_result"
    }
   ],
   "source": [
    "fft_left_hand.dtypes"
   ]
  },
  {
   "cell_type": "code",
   "execution_count": 10,
   "metadata": {
    "collapsed": true
   },
   "outputs": [],
   "source": [
    "#http://blog.vingow.com/tech/numpy-jensen-shannon/ よりKL距離の算出アルゴリズム\n",
    "def kld(p, q):\n",
    "    \"\"\"Calculates Kullback–Leibler divergence\"\"\"\n",
    "    p = np.array(p)\n",
    "    q = np.array(q)\n",
    "    return np.sum(p * np.log(p / q), axis=(p.ndim - 1))"
   ]
  },
  {
   "cell_type": "code",
   "execution_count": 11,
   "metadata": {
    "collapsed": false
   },
   "outputs": [],
   "source": [
    "x = fft_left_hand.where(fft_left_hand.Time==0).dropna()"
   ]
  },
  {
   "cell_type": "code",
   "execution_count": 12,
   "metadata": {
    "collapsed": false
   },
   "outputs": [
    {
     "data": {
      "text/html": [
       "<div>\n",
       "<table border=\"1\" class=\"dataframe\">\n",
       "  <thead>\n",
       "    <tr style=\"text-align: right;\">\n",
       "      <th></th>\n",
       "      <th>Time</th>\n",
       "      <th>Number</th>\n",
       "      <th>AccX_imag</th>\n",
       "      <th>AccX_real</th>\n",
       "      <th>AccY_imag</th>\n",
       "      <th>AccY_real</th>\n",
       "      <th>AccZ_imag</th>\n",
       "      <th>AccZ_real</th>\n",
       "      <th>GyrX_imag</th>\n",
       "      <th>GyrX_real</th>\n",
       "      <th>GyrY_imag</th>\n",
       "      <th>GyrY_real</th>\n",
       "      <th>GyrZ_imag</th>\n",
       "      <th>GyrZ_real</th>\n",
       "    </tr>\n",
       "  </thead>\n",
       "  <tbody>\n",
       "    <tr>\n",
       "      <th>0</th>\n",
       "      <td>0.0</td>\n",
       "      <td>1st</td>\n",
       "      <td>-0.015192</td>\n",
       "      <td>0.358045</td>\n",
       "      <td>-0.869577</td>\n",
       "      <td>-1.991186</td>\n",
       "      <td>1.070767</td>\n",
       "      <td>0.360219</td>\n",
       "      <td>-32.797698</td>\n",
       "      <td>15.109767</td>\n",
       "      <td>-10.299680</td>\n",
       "      <td>5.271495</td>\n",
       "      <td>-5.125378</td>\n",
       "      <td>1.122696</td>\n",
       "    </tr>\n",
       "    <tr>\n",
       "      <th>1</th>\n",
       "      <td>0.0</td>\n",
       "      <td>2nd</td>\n",
       "      <td>-0.103970</td>\n",
       "      <td>-0.094514</td>\n",
       "      <td>0.583755</td>\n",
       "      <td>-0.466071</td>\n",
       "      <td>0.504561</td>\n",
       "      <td>-0.320706</td>\n",
       "      <td>-10.844850</td>\n",
       "      <td>3.459231</td>\n",
       "      <td>-3.601636</td>\n",
       "      <td>1.810484</td>\n",
       "      <td>-2.845803</td>\n",
       "      <td>1.582849</td>\n",
       "    </tr>\n",
       "    <tr>\n",
       "      <th>2</th>\n",
       "      <td>0.0</td>\n",
       "      <td>3rd</td>\n",
       "      <td>-0.104528</td>\n",
       "      <td>0.058390</td>\n",
       "      <td>0.365722</td>\n",
       "      <td>-0.080314</td>\n",
       "      <td>0.164233</td>\n",
       "      <td>-0.203757</td>\n",
       "      <td>-6.372311</td>\n",
       "      <td>3.403319</td>\n",
       "      <td>-2.309824</td>\n",
       "      <td>1.560055</td>\n",
       "      <td>-1.884029</td>\n",
       "      <td>1.299952</td>\n",
       "    </tr>\n",
       "    <tr>\n",
       "      <th>3</th>\n",
       "      <td>0.0</td>\n",
       "      <td>4th</td>\n",
       "      <td>-0.075054</td>\n",
       "      <td>-0.003471</td>\n",
       "      <td>0.100201</td>\n",
       "      <td>0.070954</td>\n",
       "      <td>0.156054</td>\n",
       "      <td>-0.184714</td>\n",
       "      <td>-4.014669</td>\n",
       "      <td>3.820903</td>\n",
       "      <td>-1.489992</td>\n",
       "      <td>1.605612</td>\n",
       "      <td>-1.263464</td>\n",
       "      <td>1.126835</td>\n",
       "    </tr>\n",
       "    <tr>\n",
       "      <th>4</th>\n",
       "      <td>0.0</td>\n",
       "      <td>5th</td>\n",
       "      <td>-0.044162</td>\n",
       "      <td>0.022334</td>\n",
       "      <td>0.024453</td>\n",
       "      <td>-0.080821</td>\n",
       "      <td>0.105954</td>\n",
       "      <td>-0.153572</td>\n",
       "      <td>-2.838582</td>\n",
       "      <td>3.747483</td>\n",
       "      <td>-1.125411</td>\n",
       "      <td>1.565741</td>\n",
       "      <td>-0.846813</td>\n",
       "      <td>1.140570</td>\n",
       "    </tr>\n",
       "    <tr>\n",
       "      <th>5</th>\n",
       "      <td>0.0</td>\n",
       "      <td>6th</td>\n",
       "      <td>0.008623</td>\n",
       "      <td>0.016851</td>\n",
       "      <td>-0.002447</td>\n",
       "      <td>-0.106568</td>\n",
       "      <td>0.080587</td>\n",
       "      <td>-0.145958</td>\n",
       "      <td>-1.916918</td>\n",
       "      <td>3.792987</td>\n",
       "      <td>-0.708752</td>\n",
       "      <td>1.566015</td>\n",
       "      <td>-0.565537</td>\n",
       "      <td>1.156530</td>\n",
       "    </tr>\n",
       "    <tr>\n",
       "      <th>6</th>\n",
       "      <td>0.0</td>\n",
       "      <td>7th</td>\n",
       "      <td>0.036522</td>\n",
       "      <td>0.040966</td>\n",
       "      <td>0.007449</td>\n",
       "      <td>-0.122248</td>\n",
       "      <td>0.081826</td>\n",
       "      <td>-0.098964</td>\n",
       "      <td>-1.034338</td>\n",
       "      <td>3.718784</td>\n",
       "      <td>-0.367491</td>\n",
       "      <td>1.527345</td>\n",
       "      <td>-0.299721</td>\n",
       "      <td>1.182961</td>\n",
       "    </tr>\n",
       "    <tr>\n",
       "      <th>7</th>\n",
       "      <td>0.0</td>\n",
       "      <td>8th</td>\n",
       "      <td>0.042200</td>\n",
       "      <td>0.118650</td>\n",
       "      <td>-0.026055</td>\n",
       "      <td>-0.115296</td>\n",
       "      <td>0.051019</td>\n",
       "      <td>-0.132149</td>\n",
       "      <td>-0.368778</td>\n",
       "      <td>3.775401</td>\n",
       "      <td>-0.135877</td>\n",
       "      <td>1.461038</td>\n",
       "      <td>-0.082316</td>\n",
       "      <td>1.199499</td>\n",
       "    </tr>\n",
       "  </tbody>\n",
       "</table>\n",
       "</div>"
      ],
      "text/plain": [
       "   Time Number  AccX_imag  AccX_real  AccY_imag  AccY_real  AccZ_imag  \\\n",
       "0   0.0    1st  -0.015192   0.358045  -0.869577  -1.991186   1.070767   \n",
       "1   0.0    2nd  -0.103970  -0.094514   0.583755  -0.466071   0.504561   \n",
       "2   0.0    3rd  -0.104528   0.058390   0.365722  -0.080314   0.164233   \n",
       "3   0.0    4th  -0.075054  -0.003471   0.100201   0.070954   0.156054   \n",
       "4   0.0    5th  -0.044162   0.022334   0.024453  -0.080821   0.105954   \n",
       "5   0.0    6th   0.008623   0.016851  -0.002447  -0.106568   0.080587   \n",
       "6   0.0    7th   0.036522   0.040966   0.007449  -0.122248   0.081826   \n",
       "7   0.0    8th   0.042200   0.118650  -0.026055  -0.115296   0.051019   \n",
       "\n",
       "   AccZ_real  GyrX_imag  GyrX_real  GyrY_imag  GyrY_real  GyrZ_imag  GyrZ_real  \n",
       "0   0.360219 -32.797698  15.109767 -10.299680   5.271495  -5.125378   1.122696  \n",
       "1  -0.320706 -10.844850   3.459231  -3.601636   1.810484  -2.845803   1.582849  \n",
       "2  -0.203757  -6.372311   3.403319  -2.309824   1.560055  -1.884029   1.299952  \n",
       "3  -0.184714  -4.014669   3.820903  -1.489992   1.605612  -1.263464   1.126835  \n",
       "4  -0.153572  -2.838582   3.747483  -1.125411   1.565741  -0.846813   1.140570  \n",
       "5  -0.145958  -1.916918   3.792987  -0.708752   1.566015  -0.565537   1.156530  \n",
       "6  -0.098964  -1.034338   3.718784  -0.367491   1.527345  -0.299721   1.182961  \n",
       "7  -0.132149  -0.368778   3.775401  -0.135877   1.461038  -0.082316   1.199499  "
      ]
     },
     "execution_count": 12,
     "metadata": {},
     "output_type": "execute_result"
    }
   ],
   "source": [
    "x"
   ]
  },
  {
   "cell_type": "code",
   "execution_count": 13,
   "metadata": {
    "collapsed": true
   },
   "outputs": [],
   "source": [
    "x = fft_left_hand.where(fft_left_hand.Time==0).dropna()\n",
    "Amp_left_handX=np.array([])\n",
    "Amp_left_handX = np.append(Amp_left_handX, np.sqrt(x.AccX_imag**2+x.AccX_real**2))\n",
    "Amp_left_handX = Amp_left_handX/Amp_left_handX.sum()"
   ]
  },
  {
   "cell_type": "code",
   "execution_count": 14,
   "metadata": {
    "collapsed": true
   },
   "outputs": [],
   "source": [
    "y = fft_left_hand.where(fft_left_hand.Time==0).dropna()\n",
    "Amp_left_handY=np.array([])\n",
    "Amp_left_handY = np.append(Amp_left_handY, np.sqrt(x.AccY_imag**2+x.AccY_real**2))\n",
    "Amp_left_handY = Amp_left_handY/Amp_left_handY.sum()"
   ]
  },
  {
   "cell_type": "code",
   "execution_count": 15,
   "metadata": {
    "collapsed": false
   },
   "outputs": [
    {
     "data": {
      "text/plain": [
       "0.18769018026090117"
      ]
     },
     "execution_count": 15,
     "metadata": {},
     "output_type": "execute_result"
    }
   ],
   "source": [
    "kld(Amp_left_handX,Amp_left_handY)"
   ]
  },
  {
   "cell_type": "code",
   "execution_count": 16,
   "metadata": {
    "collapsed": false
   },
   "outputs": [],
   "source": [
    "NW = 0\n",
    "WS = 8\n",
    "X = np.array(fft_left_hand)\n",
    "X1 = np.asarray(X[NW:(NW + 1) * WS,2:], dtype = np.float64)\n",
    "X1_Xim = X1[0,:]\n",
    "X1_Xre = X1[1,:]\n",
    "X1_Yim = X1[2,:]\n",
    "X1_Yre = X1[3,:]"
   ]
  },
  {
   "cell_type": "code",
   "execution_count": 17,
   "metadata": {
    "collapsed": false
   },
   "outputs": [
    {
     "data": {
      "text/plain": [
       "array([ -1.51919469e-02,   3.58044866e-01,  -8.69576757e-01,\n",
       "        -1.99118617e+00,   1.07076748e+00,   3.60219242e-01,\n",
       "        -3.27976977e+01,   1.51097666e+01,  -1.02996800e+01,\n",
       "         5.27149536e+00,  -5.12537821e+00,   1.12269643e+00])"
      ]
     },
     "execution_count": 17,
     "metadata": {},
     "output_type": "execute_result"
    }
   ],
   "source": [
    "X1_Xim"
   ]
  },
  {
   "cell_type": "code",
   "execution_count": null,
   "metadata": {
    "collapsed": true
   },
   "outputs": [],
   "source": []
  },
  {
   "cell_type": "code",
   "execution_count": 18,
   "metadata": {
    "collapsed": false
   },
   "outputs": [
    {
     "name": "stdout",
     "output_type": "stream",
     "text": [
      "[0.10507400918025582, 0.3703093594196919, 1.0473462746342597, 2.0450047910226679, 1.1836909748204076, 0.48229679272822618, 34.544170999267685, 15.500687970561655, 10.911241635417158, 5.5737344529576918, 5.8624311285777075, 1.9405816226343113] [0.12868233331746823, 0.058492698782885315, 0.37920004103873545, 0.10716729146385638, 0.22655158066179767, 0.27502028513090371, 7.5315279192292515, 5.1168237733527429, 2.7487016892975795, 2.2386961190494032, 2.2684588779618395, 1.7203582856226975]\n"
     ]
    }
   ],
   "source": [
    "Xamp = []\n",
    "for Xim, Xre in zip(X1_Xim, X1_Xre):\n",
    "    Xamp.append(np.sqrt(Xim ** 2 + Xre ** 2))\n",
    "Yamp = []\n",
    "for Yim, Yre in zip(X1_Yim, X1_Yre):\n",
    "    Yamp.append(np.sqrt(Yim ** 2 + Yre ** 2))\n",
    "print Xamp, Yamp"
   ]
  },
  {
   "cell_type": "code",
   "execution_count": 19,
   "metadata": {
    "collapsed": false
   },
   "outputs": [
    {
     "data": {
      "text/plain": [
       "[0.10507400918025582,\n",
       " 0.3703093594196919,\n",
       " 1.0473462746342597,\n",
       " 2.0450047910226679,\n",
       " 1.1836909748204076,\n",
       " 0.48229679272822618,\n",
       " 34.544170999267685,\n",
       " 15.500687970561655,\n",
       " 10.911241635417158,\n",
       " 5.5737344529576918,\n",
       " 5.8624311285777075,\n",
       " 1.9405816226343113]"
      ]
     },
     "execution_count": 19,
     "metadata": {},
     "output_type": "execute_result"
    }
   ],
   "source": [
    "Xamp"
   ]
  },
  {
   "cell_type": "code",
   "execution_count": 20,
   "metadata": {
    "collapsed": false
   },
   "outputs": [
    {
     "data": {
      "text/plain": [
       "array([ 0.38004037,  0.14900622,  0.12697182,  0.07967777,  0.05248142,\n",
       "        0.02007355,  0.05820118,  0.13354767])"
      ]
     },
     "execution_count": 20,
     "metadata": {},
     "output_type": "execute_result"
    }
   ],
   "source": [
    "Amp_left_handX"
   ]
  },
  {
   "cell_type": "markdown",
   "metadata": {},
   "source": [
    "X1_1"
   ]
  },
  {
   "cell_type": "code",
   "execution_count": 21,
   "metadata": {
    "collapsed": false
   },
   "outputs": [
    {
     "name": "stdout",
     "output_type": "stream",
     "text": [
      "[ 0.00132058  0.00465408  0.01316314  0.02570181  0.01487674  0.00606155\n",
      "  0.43415433  0.19481408  0.13713349  0.07005121  0.07367958  0.02438941] [ 0.00564404  0.00256551  0.01663181  0.00470039  0.00993661  0.01206246\n",
      "  0.3303348   0.22442524  0.12055878  0.0981898   0.0994952   0.07545537]\n",
      "-0.0786919911175\n"
     ]
    },
    {
     "data": {
      "text/plain": [
       "0.07869199111749392"
      ]
     },
     "execution_count": 21,
     "metadata": {},
     "output_type": "execute_result"
    }
   ],
   "source": [
    "Xamp = np.array(Xamp)\n",
    "Yamp = np.array(Yamp)\n",
    "XS = Xamp.sum()\n",
    "YS = Yamp.sum()\n",
    "Xamp = Xamp / XS\n",
    "Yamp = Yamp / YS\n",
    "print Xamp, Yamp\n",
    "d=[]\n",
    "for x, y in zip(Xamp, Yamp):\n",
    "    d.append(x * np.log(y / x))\n",
    "print sum(d)\n",
    "kld(Xamp, Yamp)"
   ]
  },
  {
   "cell_type": "code",
   "execution_count": 22,
   "metadata": {
    "collapsed": false
   },
   "outputs": [],
   "source": [
    "# 左手の加速度データのFFT　からパワースペクトルを出す 左手\n",
    "ArrayFFT_left_hand_AccX=np.array(fft_left_hand.AccX_imag**2+fft_left_hand.AccX_real**2)[:32769]\n",
    "ArrayFFT_left_hand_AccY=np.array(fft_left_hand.AccY_imag**2+fft_left_hand.AccY_real**2)[:32769]\n",
    "ArrayFFT_left_hand_AccZ=np.array(fft_left_hand.AccZ_imag**2+fft_left_hand.AccZ_real**2)[:32769]\n",
    "ArrayFFT_left_hand_GyrX=np.array(fft_left_hand.GyrX_imag**2+fft_left_hand.GyrX_real**2)[:32769]\n",
    "ArrayFFT_left_hand_GyrY=np.array(fft_left_hand.GyrY_imag**2+fft_left_hand.GyrY_real**2)[:32769]\n",
    "ArrayFFT_left_hand_GyrZ=np.array(fft_left_hand.GyrZ_imag**2+fft_left_hand.GyrZ_real**2)[:32769]\n",
    "\n",
    "ArrayFFT_left_hand=np.array([])\n",
    "ArrayFFT_left_hand=np.vstack( (ArrayFFT_left_hand_AccX,ArrayFFT_left_hand_AccY) )\n",
    "ArrayFFT_left_hand=np.vstack( (ArrayFFT_left_hand ,ArrayFFT_left_hand_AccZ) )\n",
    "ArrayFFT_left_hand=np.vstack( (ArrayFFT_left_hand ,ArrayFFT_left_hand_GyrX) )\n",
    "ArrayFFT_left_hand=np.vstack( (ArrayFFT_left_hand ,ArrayFFT_left_hand_GyrY) )\n",
    "ArrayFFT_left_hand=np.vstack( (ArrayFFT_left_hand ,ArrayFFT_left_hand_GyrZ) )"
   ]
  },
  {
   "cell_type": "code",
   "execution_count": 23,
   "metadata": {
    "collapsed": false
   },
   "outputs": [
    {
     "ename": "NameError",
     "evalue": "name 'X1_1' is not defined",
     "output_type": "error",
     "traceback": [
      "\u001b[1;31m---------------------------------------------------------------------------\u001b[0m",
      "\u001b[1;31mNameError\u001b[0m                                 Traceback (most recent call last)",
      "\u001b[1;32m<ipython-input-23-68747584d233>\u001b[0m in \u001b[0;36m<module>\u001b[1;34m()\u001b[0m\n\u001b[1;32m----> 1\u001b[1;33m \u001b[0mkld\u001b[0m\u001b[1;33m(\u001b[0m\u001b[0mX1_1\u001b[0m\u001b[1;33m,\u001b[0m \u001b[0mX1_2\u001b[0m\u001b[1;33m)\u001b[0m\u001b[1;33m\u001b[0m\u001b[0m\n\u001b[0m",
      "\u001b[1;31mNameError\u001b[0m: name 'X1_1' is not defined"
     ]
    }
   ],
   "source": [
    "kld(X1_1, X1_2)"
   ]
  },
  {
   "cell_type": "code",
   "execution_count": null,
   "metadata": {
    "collapsed": true
   },
   "outputs": [],
   "source": [
    "# 左手の加速度データのFFT　からパワースペクトルを出す　右手\n",
    "ArrayFFT_right_hand_AccX=np.array(fft_right_hand.AccX_imag**2+fft_right_hand.AccX_real**2)[:32769]\n",
    "ArrayFFT_right_hand_AccY=np.array(fft_right_hand.AccY_imag**2+fft_right_hand.AccY_real**2)[:32769]\n",
    "ArrayFFT_right_hand_AccZ=np.array(fft_right_hand.AccZ_imag**2+fft_right_hand.AccZ_real**2)[:32769]\n",
    "ArrayFFT_right_hand_GyrX=np.array(fft_right_hand.GyrX_imag**2+fft_right_hand.GyrX_real**2)[:32769]\n",
    "ArrayFFT_right_hand_GyrY=np.array(fft_right_hand.GyrY_imag**2+fft_right_hand.GyrY_real**2)[:32769]\n",
    "ArrayFFT_right_hand_GyrZ=np.array(fft_right_hand.GyrZ_imag**2+fft_right_hand.GyrZ_real**2)[:32769]\n",
    "\n",
    "ArrayFFT_right_hand=np.array([])\n",
    "ArrayFFT_right_hand=np.vstack( (ArrayFFT_right_hand_AccX,ArrayFFT_right_hand_AccY) )\n",
    "ArrayFFT_right_hand=np.vstack( (ArrayFFT_right_hand ,ArrayFFT_right_hand_AccZ) )\n",
    "ArrayFFT_right_hand=np.vstack( (ArrayFFT_right_hand ,ArrayFFT_right_hand_GyrX) )\n",
    "ArrayFFT_right_hand=np.vstack( (ArrayFFT_right_hand ,ArrayFFT_right_hand_GyrY) )\n",
    "ArrayFFT_right_hand=np.vstack( (ArrayFFT_right_hand ,ArrayFFT_right_hand_GyrZ) )"
   ]
  },
  {
   "cell_type": "code",
   "execution_count": null,
   "metadata": {
    "collapsed": false
   },
   "outputs": [],
   "source": [
    "# 左手の加速度データのFFT　からパワースペクトルを出す 左足\n",
    "ArrayFFT_left_leg_AccX=np.array(fft_left_leg.AccX_imag**2+fft_left_leg.AccX_real**2)[:32769]\n",
    "ArrayFFT_left_leg_AccY=np.array(fft_left_leg.AccY_imag**2+fft_left_leg.AccY_real**2)[:32769]\n",
    "ArrayFFT_left_leg_AccZ=np.array(fft_left_leg.AccZ_imag**2+fft_left_leg.AccZ_real**2)[:32769]\n",
    "ArrayFFT_left_leg_GyrX=np.array(fft_left_leg.GyrX_imag**2+fft_left_leg.GyrX_real**2)[:32769]\n",
    "ArrayFFT_left_leg_GyrY=np.array(fft_left_leg.GyrY_imag**2+fft_left_leg.GyrY_real**2)[:32769]\n",
    "ArrayFFT_left_leg_GyrZ=np.array(fft_left_leg.GyrZ_imag**2+fft_left_leg.GyrZ_real**2)[:32769]\n",
    "\n",
    "ArrayFFT_left_leg=np.array([])\n",
    "ArrayFFT_left_leg=np.vstack( (ArrayFFT_left_leg_AccX,ArrayFFT_left_leg_AccY) )\n",
    "ArrayFFT_left_leg=np.vstack( (ArrayFFT_left_leg ,ArrayFFT_left_leg_AccZ) )\n",
    "ArrayFFT_left_leg=np.vstack( (ArrayFFT_left_leg ,ArrayFFT_left_leg_GyrX) )\n",
    "ArrayFFT_left_leg=np.vstack( (ArrayFFT_left_leg ,ArrayFFT_left_leg_GyrY) )\n",
    "ArrayFFT_left_leg=np.vstack( (ArrayFFT_left_leg ,ArrayFFT_left_leg_GyrZ) )"
   ]
  },
  {
   "cell_type": "code",
   "execution_count": null,
   "metadata": {
    "collapsed": false
   },
   "outputs": [],
   "source": [
    "# 左手の加速度データのFFT　からパワースペクトルを出す　右足\n",
    "ArrayFFT_right_leg_AccX=np.array(fft_right_leg.AccX_imag**2+fft_right_leg.AccX_real**2)[:32769]\n",
    "ArrayFFT_right_leg_AccY=np.array(fft_right_leg.AccY_imag**2+fft_right_leg.AccY_real**2)[:32769]\n",
    "ArrayFFT_right_leg_AccZ=np.array(fft_right_leg.AccZ_imag**2+fft_right_leg.AccZ_real**2)[:32769]\n",
    "ArrayFFT_right_leg_GyrX=np.array(fft_right_leg.GyrX_imag**2+fft_right_leg.GyrX_real**2)[:32769]\n",
    "ArrayFFT_right_leg_GyrY=np.array(fft_right_leg.GyrY_imag**2+fft_right_leg.GyrY_real**2)[:32769]\n",
    "ArrayFFT_right_leg_GyrZ=np.array(fft_right_leg.GyrZ_imag**2+fft_right_leg.GyrZ_real**2)[:32769]\n",
    "\n",
    "ArrayFFT_right_leg=np.array([])\n",
    "ArrayFFT_right_leg=np.vstack( (ArrayFFT_right_leg_AccX,ArrayFFT_right_leg_AccY) )\n",
    "ArrayFFT_right_leg=np.vstack( (ArrayFFT_right_leg ,ArrayFFT_right_leg_AccZ) )\n",
    "ArrayFFT_right_leg=np.vstack( (ArrayFFT_right_leg ,ArrayFFT_right_leg_GyrX) )\n",
    "ArrayFFT_right_leg=np.vstack( (ArrayFFT_right_leg ,ArrayFFT_right_leg_GyrY) )\n",
    "ArrayFFT_right_leg=np.vstack( (ArrayFFT_right_leg ,ArrayFFT_right_leg_GyrZ) )"
   ]
  },
  {
   "cell_type": "code",
   "execution_count": null,
   "metadata": {
    "collapsed": false
   },
   "outputs": [],
   "source": [
    "# 左手の加速度データのFFT　からパワースペクトルを出す 腰\n",
    "ArrayFFT_west_AccX=np.array(fft_west.AccX_imag**2+fft_west.AccX_real**2)[:32769]\n",
    "ArrayFFT_west_AccY=np.array(fft_west.AccY_imag**2+fft_west.AccY_real**2)[:32769]\n",
    "ArrayFFT_west_AccZ=np.array(fft_west.AccZ_imag**2+fft_west.AccZ_real**2)[:32769]\n",
    "ArrayFFT_west_GyrX=np.array(fft_west.GyrX_imag**2+fft_west.GyrX_real**2)[:32769]\n",
    "ArrayFFT_west_GyrY=np.array(fft_west.GyrY_imag**2+fft_west.GyrY_real**2)[:32769]\n",
    "ArrayFFT_west_GyrZ=np.array(fft_west.GyrZ_imag**2+fft_west.GyrZ_real**2)[:32769]\n",
    "\n",
    "ArrayFFT_west=np.array([])\n",
    "ArrayFFT_west=np.vstack( (ArrayFFT_west_AccX,ArrayFFT_west_AccY) )\n",
    "ArrayFFT_west=np.vstack( (ArrayFFT_west ,ArrayFFT_west_AccZ) )\n",
    "ArrayFFT_west=np.vstack( (ArrayFFT_west ,ArrayFFT_west_GyrX) )\n",
    "ArrayFFT_west=np.vstack( (ArrayFFT_west ,ArrayFFT_west_GyrY) )\n",
    "ArrayFFT_west=np.vstack( (ArrayFFT_west ,ArrayFFT_west_GyrZ) )"
   ]
  },
  {
   "cell_type": "code",
   "execution_count": null,
   "metadata": {
    "collapsed": false
   },
   "outputs": [],
   "source": [
    "ArrayFFT_west.shape"
   ]
  },
  {
   "cell_type": "code",
   "execution_count": null,
   "metadata": {
    "collapsed": false
   },
   "outputs": [],
   "source": [
    "start = T.time()\n",
    "\n",
    "klk_rh_rl=np.array([])\n",
    "klk_rh_lh=np.array([])\n",
    "klk_rh_ll=np.array([])\n",
    "klk_rl_lh=np.array([])\n",
    "klk_rl_ll=np.array([])\n",
    "klk_lh_ll=np.array([])\n",
    "#klk_rl=np.array([])\n",
    "\n",
    "for rh in ArrayFFT_right_hand[0:4]:\n",
    "    for rl in ArrayFFT_right_leg[0:4]:\n",
    "        klk_rh_rl=np.append(klk_rh_rl,kld(rh,rl))\n",
    "    for lh in ArrayFFT_left_hand[0:4]:\n",
    "        klk_rh_lh=np.append(klk_rh_lh,kld(rh,lh))\n",
    "    for ll in ArrayFFT_left_leg[0:4]:\n",
    "        klk_rh_ll=np.append(klk_rh_ll,kld(rh,ll))\n",
    "    #for w in ArrayFFT_west[0:4]:\n",
    "    #   kkl_rh=np.append(kkl_rh,kld(rh,w))\n",
    "    \n",
    "for rl in ArrayFFT_right_leg[0:4]:\n",
    "    for lh in ArrayFFT_left_hand[0:4]:\n",
    "        klk_rl_lh=np.append( klk_rl_lh, kld(rl,lh))\n",
    "    for ll in ArrayFFT_left_leg[0:4]:\n",
    "        klk_rl_ll=np.append( klk_rl_ll, kld(rl,ll))\n",
    "    #for w in ArrayFFT_west[0:4]:\n",
    "    #    kkl_rl=np.append( kkl_rl, kld(rl,w))\n",
    "        \n",
    "for lh in ArrayFFT_left_hand[0:4]:\n",
    "    for ll in ArrayFFT_left_leg[0:4]:\n",
    "        klk_lh_ll=np.append(klk_lh_ll, kld(lh,ll))\n",
    "    #for w in ArrayFFT_west[0:4]:\n",
    "    #    kkl_lh=np.append(kkl_lh, kld(lh,w))\n",
    "        \n",
    "#for ll in ArrayFFT_left_leg[0:4]:\n",
    "    #for w in ArrayFFT_west[0:4]:\n",
    "    #    kkl_ll=np.append(kkl_ll, kld(ll,w))\n",
    "    \n",
    "elapsed_time = T.time() - start\n",
    "print (\"elapsed_time:{0}\".format(elapsed_time)) + \"[sec]\""
   ]
  },
  {
   "cell_type": "code",
   "execution_count": null,
   "metadata": {
    "collapsed": false
   },
   "outputs": [],
   "source": [
    "print \"right_hand_Accx VS right_leg_AccX \"+str(klk_rh_rl[0])\n",
    "print \"right_hand_Accx VS right_leg_AccY \"+str(klk_rh_rl[1])\n",
    "print \"right_hand_Accx VS right_leg_AccZ \"+str(klk_rh_rl[2])\n",
    "\n",
    "print \"right_hand_Accx VS left_hand_AccX \"+str(klk_rh_lh[0])\n",
    "print \"right_hand_Accx VS left_hand_AccY \"+str(klk_rh_lh[1])\n",
    "print \"right_hand_Accx VS left_hand_AccZ \"+str(klk_rh_lh[2])\n",
    "\n",
    "print \"right_hand_Accx VS left_leg_AccX \"+str(klk_rh_ll[0])\n",
    "print \"right_hand_Accx VS left_leg_AccY \"+str(klk_rh_ll[1])\n",
    "print \"right_hand_Accx VS left_leg_AccZ \"+str(klk_rh_ll[2])"
   ]
  },
  {
   "cell_type": "code",
   "execution_count": null,
   "metadata": {
    "collapsed": true
   },
   "outputs": [],
   "source": [
    "# 左手の加速度データのFFT　からパワースペクトルを出す 左手\n",
    "\n",
    "    ArrayFFT_left_hand_AccX=np.array(fft_left_hand.AccX_imag**2+fft_left_hand.AccX_real**2)[:32769]\n",
    "    ArrayFFT_left_hand_AccY=np.array(fft_left_hand.AccY_imag**2+fft_left_hand.AccY_real**2)[:32769]\n",
    "    ArrayFFT_left_hand_AccZ=np.array(fft_left_hand.AccZ_imag**2+fft_left_hand.AccZ_real**2)[:32769]\n",
    "    ArrayFFT_left_hand_GyrX=np.array(fft_left_hand.GyrX_imag**2+fft_left_hand.GyrX_real**2)[:32769]\n",
    "    ArrayFFT_left_hand_GyrY=np.array(fft_left_hand.GyrY_imag**2+fft_left_hand.GyrY_real**2)[:32769]\n",
    "    ArrayFFT_left_hand_GyrZ=np.array(fft_left_hand.GyrZ_imag**2+fft_left_hand.GyrZ_real**2)[:32769]\n",
    "\n",
    "ArrayFFT_left_hand=np.array([])\n",
    "ArrayFFT_left_hand=np.vstack( (ArrayFFT_left_hand_AccX,ArrayFFT_left_hand_AccY) )\n",
    "ArrayFFT_left_hand=np.vstack( (ArrayFFT_left_hand ,ArrayFFT_left_hand_AccZ) )\n",
    "ArrayFFT_left_hand=np.vstack( (ArrayFFT_left_hand ,ArrayFFT_left_hand_GyrX) )\n",
    "ArrayFFT_left_hand=np.vstack( (ArrayFFT_left_hand ,ArrayFFT_left_hand_GyrY) )\n",
    "ArrayFFT_left_hand=np.vstack( (ArrayFFT_left_hand ,ArrayFFT_left_hand_GyrZ) )"
   ]
  }
 ],
 "metadata": {
  "kernelspec": {
   "display_name": "Python 2",
   "language": "python",
   "name": "python2"
  },
  "language_info": {
   "codemirror_mode": {
    "name": "ipython",
    "version": 2
   },
   "file_extension": ".py",
   "mimetype": "text/x-python",
   "name": "python",
   "nbconvert_exporter": "python",
   "pygments_lexer": "ipython2",
   "version": "2.7.11"
  }
 },
 "nbformat": 4,
 "nbformat_minor": 0
}
