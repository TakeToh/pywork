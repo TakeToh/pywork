{
 "cells": [
  {
   "cell_type": "code",
   "execution_count": 61,
   "metadata": {
    "collapsed": true
   },
   "outputs": [],
   "source": [
    "import numpy as np\n",
    "import matplotlib as plt\n",
    "import scipy \n",
    "from scipy import stats"
   ]
  },
  {
   "cell_type": "code",
   "execution_count": 41,
   "metadata": {
    "collapsed": false
   },
   "outputs": [],
   "source": [
    "# test 2.8.1_Entropy\n",
    "def H(p):\n",
    "    h=0\n",
    "    for k in p:\n",
    "        h += -1*k*np.log2(k)\n",
    "        \n",
    "    return h"
   ]
  },
  {
   "cell_type": "code",
   "execution_count": 42,
   "metadata": {
    "collapsed": false
   },
   "outputs": [
    {
     "data": {
      "text/plain": [
       "2.2854752972273342"
      ]
     },
     "execution_count": 42,
     "metadata": {},
     "output_type": "execute_result"
    }
   ],
   "source": [
    "H([0.25,0.25,0.2,0.15,0.15])"
   ]
  },
  {
   "cell_type": "code",
   "execution_count": 68,
   "metadata": {
    "collapsed": false
   },
   "outputs": [],
   "source": [
    "def KL(ArrayP,ArrayQ):\n",
    "    if len(ArrayP)!=len(ArrayQ):\n",
    "        print \"Not mutch len(ArrayP) and len(ArrayQ)\"\n",
    "    \n",
    "    kl=0\n",
    "    for p,q in zip(ArrayP,ArrayQ):\n",
    "        #print p,q\n",
    "        kl +=p*np.log(p/q)\n",
    "    \n",
    "    return kl"
   ]
  },
  {
   "cell_type": "code",
   "execution_count": 101,
   "metadata": {
    "collapsed": true
   },
   "outputs": [],
   "source": [
    "def kl1(p,q):\n",
    "    p = np.array(p)\n",
    "    q = np.array(q)\n",
    "    \n",
    "    p = p/p.sum()\n",
    "    q = q/q.sum()\n",
    "    \n",
    "    return np.sum(p * np.log2(p / q), axis=(p.ndim - 1))"
   ]
  },
  {
   "cell_type": "code",
   "execution_count": 102,
   "metadata": {
    "collapsed": false
   },
   "outputs": [],
   "source": [
    "def kl2(p,q):\n",
    "    p = np.array(p)\n",
    "    q = np.array(q)\n",
    "    \n",
    "    return np.sum(p * np.log2(p / q), axis=(p.ndim - 1))"
   ]
  },
  {
   "cell_type": "code",
   "execution_count": 103,
   "metadata": {
    "collapsed": true
   },
   "outputs": [],
   "source": [
    "def JSD(ArrayP,ArrayQ):\n",
    "    if len(ArrayP)!=len(ArrayQ):\n",
    "        print \"Not mutch len(ArrayP) and len(ArrayQ)\"\n",
    "    \n",
    "    jsd=0\n",
    "    for p,q in zip(ArrayP,ArrayQ):\n",
    "        m = (p+q)/2\n",
    "        jsd +=0.5*( p*np.log2(p/m) ) + 0.5*( p*np.log2(p/m) )\n",
    "    return jsd"
   ]
  },
  {
   "cell_type": "code",
   "execution_count": 104,
   "metadata": {
    "collapsed": false
   },
   "outputs": [],
   "source": [
    "test1=np.random.rand(10000)\n",
    "test2=np.random.rand(10000)"
   ]
  },
  {
   "cell_type": "code",
   "execution_count": 105,
   "metadata": {
    "collapsed": false
   },
   "outputs": [
    {
     "data": {
      "text/plain": [
       "2489.2208426780289"
      ]
     },
     "execution_count": 105,
     "metadata": {},
     "output_type": "execute_result"
    }
   ],
   "source": [
    "KL(test1,test2)"
   ]
  },
  {
   "cell_type": "code",
   "execution_count": 107,
   "metadata": {
    "collapsed": false
   },
   "outputs": [
    {
     "data": {
      "text/plain": [
       "0.71646461236535819"
      ]
     },
     "execution_count": 107,
     "metadata": {},
     "output_type": "execute_result"
    }
   ],
   "source": [
    "kl1(test1,test2)"
   ]
  },
  {
   "cell_type": "code",
   "execution_count": 99,
   "metadata": {
    "collapsed": false
   },
   "outputs": [
    {
     "data": {
      "text/plain": [
       "719.0265616820484"
      ]
     },
     "execution_count": 99,
     "metadata": {},
     "output_type": "execute_result"
    }
   ],
   "source": [
    "JSD(test1,test2)"
   ]
  },
  {
   "cell_type": "code",
   "execution_count": 100,
   "metadata": {
    "collapsed": false
   },
   "outputs": [
    {
     "data": {
      "text/plain": [
       "0.73218978327562945"
      ]
     },
     "execution_count": 100,
     "metadata": {},
     "output_type": "execute_result"
    }
   ],
   "source": [
    "stats.entropy(test1,test2,base=2)"
   ]
  },
  {
   "cell_type": "code",
   "execution_count": null,
   "metadata": {
    "collapsed": true
   },
   "outputs": [],
   "source": []
  }
 ],
 "metadata": {
  "kernelspec": {
   "display_name": "Python 2",
   "language": "python",
   "name": "python2"
  },
  "language_info": {
   "codemirror_mode": {
    "name": "ipython",
    "version": 2
   },
   "file_extension": ".py",
   "mimetype": "text/x-python",
   "name": "python",
   "nbconvert_exporter": "python",
   "pygments_lexer": "ipython2",
   "version": "2.7.11"
  }
 },
 "nbformat": 4,
 "nbformat_minor": 0
}
