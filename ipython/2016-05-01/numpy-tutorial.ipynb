{
 "cells": [
  {
   "cell_type": "code",
   "execution_count": 2,
   "metadata": {
    "collapsed": true
   },
   "outputs": [],
   "source": [
    "import numpy as np"
   ]
  },
  {
   "cell_type": "code",
   "execution_count": 3,
   "metadata": {
    "collapsed": false
   },
   "outputs": [
    {
     "data": {
      "text/plain": [
       "array([ 0.,  1.,  2.])"
      ]
     },
     "execution_count": 3,
     "metadata": {},
     "output_type": "execute_result"
    }
   ],
   "source": [
    "np.empty(3)"
   ]
  },
  {
   "cell_type": "code",
   "execution_count": 4,
   "metadata": {
    "collapsed": false
   },
   "outputs": [],
   "source": [
    "x=y=z=np.arange(0.0,5.0,1.0)"
   ]
  },
  {
   "cell_type": "code",
   "execution_count": 5,
   "metadata": {
    "collapsed": true
   },
   "outputs": [],
   "source": [
    "np.savetxt('test.out', x, delimiter=',')"
   ]
  },
  {
   "cell_type": "code",
   "execution_count": 6,
   "metadata": {
    "collapsed": false
   },
   "outputs": [
    {
     "name": "stdout",
     "output_type": "stream",
     "text": [
      "Deal-with-FFT-csv-file.ipynb  numpy-tutorial.ipynb  test.out\r\n"
     ]
    }
   ],
   "source": [
    "ls"
   ]
  },
  {
   "cell_type": "code",
   "execution_count": 108,
   "metadata": {
    "collapsed": false
   },
   "outputs": [],
   "source": [
    "a=np.array([0,1,2])"
   ]
  },
  {
   "cell_type": "code",
   "execution_count": 20,
   "metadata": {
    "collapsed": true
   },
   "outputs": [],
   "source": [
    "b=np.array(['a','b','c'])"
   ]
  },
  {
   "cell_type": "code",
   "execution_count": 28,
   "metadata": {
    "collapsed": false
   },
   "outputs": [],
   "source": [
    "c=np.vstack( (np.hstack((a[0],b)),np.hstack((a[1],b)),np.hstack((a[2],b))) )"
   ]
  },
  {
   "cell_type": "code",
   "execution_count": 29,
   "metadata": {
    "collapsed": false
   },
   "outputs": [
    {
     "data": {
      "text/plain": [
       "array([['0', 'a', 'b', 'c'],\n",
       "       ['1', 'a', 'b', 'c'],\n",
       "       ['2', 'a', 'b', 'c']], \n",
       "      dtype='|S21')"
      ]
     },
     "execution_count": 29,
     "metadata": {},
     "output_type": "execute_result"
    }
   ],
   "source": [
    "c"
   ]
  },
  {
   "cell_type": "code",
   "execution_count": 51,
   "metadata": {
    "collapsed": true
   },
   "outputs": [],
   "source": [
    "d=np.array(np.random.randn(500,1))"
   ]
  },
  {
   "cell_type": "code",
   "execution_count": 52,
   "metadata": {
    "collapsed": false
   },
   "outputs": [
    {
     "data": {
      "text/plain": [
       "array([-0.43677273])"
      ]
     },
     "execution_count": 52,
     "metadata": {},
     "output_type": "execute_result"
    }
   ],
   "source": [
    "d[0]"
   ]
  },
  {
   "cell_type": "code",
   "execution_count": 57,
   "metadata": {
    "collapsed": false
   },
   "outputs": [],
   "source": [
    "c =np.hstack( (d[0],b) )\n",
    "for l in d[1:]:\n",
    "    c =np.vstack( (c,(np.hstack( (l,b) ))) )"
   ]
  },
  {
   "cell_type": "code",
   "execution_count": 58,
   "metadata": {
    "collapsed": false
   },
   "outputs": [
    {
     "data": {
      "text/plain": [
       "array([['-0.436772728054', 'a', 'b', 'c'],\n",
       "       ['1.65934838617', 'a', 'b', 'c'],\n",
       "       ['-1.30312041511', 'a', 'b', 'c'],\n",
       "       ..., \n",
       "       ['-1.59132927164', 'a', 'b', 'c'],\n",
       "       ['-0.784099909459', 'a', 'b', 'c'],\n",
       "       ['0.349048788878', 'a', 'b', 'c']], \n",
       "      dtype='|S32')"
      ]
     },
     "execution_count": 58,
     "metadata": {},
     "output_type": "execute_result"
    }
   ],
   "source": [
    "c"
   ]
  },
  {
   "cell_type": "code",
   "execution_count": 60,
   "metadata": {
    "collapsed": false
   },
   "outputs": [
    {
     "data": {
      "text/html": [
       "<div>\n",
       "<table border=\"1\" class=\"dataframe\">\n",
       "  <thead>\n",
       "    <tr style=\"text-align: right;\">\n",
       "      <th></th>\n",
       "      <th>A</th>\n",
       "      <th>B</th>\n",
       "      <th>C</th>\n",
       "      <th>D</th>\n",
       "    </tr>\n",
       "  </thead>\n",
       "  <tbody>\n",
       "    <tr>\n",
       "      <th>2014-01-01</th>\n",
       "      <td>-2.030348</td>\n",
       "      <td>1.088840</td>\n",
       "      <td>-1.714988</td>\n",
       "      <td>-1.301796</td>\n",
       "    </tr>\n",
       "    <tr>\n",
       "      <th>2014-01-02</th>\n",
       "      <td>-0.300063</td>\n",
       "      <td>-0.152380</td>\n",
       "      <td>0.596220</td>\n",
       "      <td>-1.029267</td>\n",
       "    </tr>\n",
       "    <tr>\n",
       "      <th>2014-01-03</th>\n",
       "      <td>0.314136</td>\n",
       "      <td>1.048867</td>\n",
       "      <td>-0.231731</td>\n",
       "      <td>-0.123225</td>\n",
       "    </tr>\n",
       "    <tr>\n",
       "      <th>2014-01-04</th>\n",
       "      <td>-0.912218</td>\n",
       "      <td>0.909034</td>\n",
       "      <td>1.683757</td>\n",
       "      <td>0.242269</td>\n",
       "    </tr>\n",
       "    <tr>\n",
       "      <th>2014-01-05</th>\n",
       "      <td>0.132262</td>\n",
       "      <td>-0.637635</td>\n",
       "      <td>0.590908</td>\n",
       "      <td>-0.455167</td>\n",
       "    </tr>\n",
       "    <tr>\n",
       "      <th>2014-01-06</th>\n",
       "      <td>-0.201947</td>\n",
       "      <td>-0.497691</td>\n",
       "      <td>-0.157533</td>\n",
       "      <td>0.173935</td>\n",
       "    </tr>\n",
       "    <tr>\n",
       "      <th>2014-01-07</th>\n",
       "      <td>0.238321</td>\n",
       "      <td>-0.217319</td>\n",
       "      <td>-0.420493</td>\n",
       "      <td>-0.988766</td>\n",
       "    </tr>\n",
       "    <tr>\n",
       "      <th>2014-01-08</th>\n",
       "      <td>-1.348907</td>\n",
       "      <td>-1.518383</td>\n",
       "      <td>1.821123</td>\n",
       "      <td>1.429980</td>\n",
       "    </tr>\n",
       "    <tr>\n",
       "      <th>2014-01-09</th>\n",
       "      <td>-0.334511</td>\n",
       "      <td>1.036309</td>\n",
       "      <td>-2.253125</td>\n",
       "      <td>-0.827528</td>\n",
       "    </tr>\n",
       "    <tr>\n",
       "      <th>2014-01-10</th>\n",
       "      <td>-0.706291</td>\n",
       "      <td>1.327520</td>\n",
       "      <td>-0.956838</td>\n",
       "      <td>0.071963</td>\n",
       "    </tr>\n",
       "    <tr>\n",
       "      <th>2014-01-11</th>\n",
       "      <td>-1.177240</td>\n",
       "      <td>1.374746</td>\n",
       "      <td>0.602795</td>\n",
       "      <td>-0.550558</td>\n",
       "    </tr>\n",
       "    <tr>\n",
       "      <th>2014-01-12</th>\n",
       "      <td>0.518931</td>\n",
       "      <td>-2.212615</td>\n",
       "      <td>1.113966</td>\n",
       "      <td>-0.300775</td>\n",
       "    </tr>\n",
       "    <tr>\n",
       "      <th>2014-01-13</th>\n",
       "      <td>1.070170</td>\n",
       "      <td>0.355140</td>\n",
       "      <td>2.108908</td>\n",
       "      <td>-1.737691</td>\n",
       "    </tr>\n",
       "    <tr>\n",
       "      <th>2014-01-14</th>\n",
       "      <td>-0.202757</td>\n",
       "      <td>0.340760</td>\n",
       "      <td>0.757309</td>\n",
       "      <td>-0.174152</td>\n",
       "    </tr>\n",
       "    <tr>\n",
       "      <th>2014-01-15</th>\n",
       "      <td>0.863090</td>\n",
       "      <td>0.697545</td>\n",
       "      <td>0.175854</td>\n",
       "      <td>0.107085</td>\n",
       "    </tr>\n",
       "    <tr>\n",
       "      <th>2014-01-16</th>\n",
       "      <td>0.651723</td>\n",
       "      <td>-0.008323</td>\n",
       "      <td>-1.023004</td>\n",
       "      <td>-1.109805</td>\n",
       "    </tr>\n",
       "    <tr>\n",
       "      <th>2014-01-17</th>\n",
       "      <td>0.171641</td>\n",
       "      <td>-0.406347</td>\n",
       "      <td>-1.093364</td>\n",
       "      <td>1.211658</td>\n",
       "    </tr>\n",
       "    <tr>\n",
       "      <th>2014-01-18</th>\n",
       "      <td>-0.229306</td>\n",
       "      <td>0.294924</td>\n",
       "      <td>0.347061</td>\n",
       "      <td>0.822343</td>\n",
       "    </tr>\n",
       "    <tr>\n",
       "      <th>2014-01-19</th>\n",
       "      <td>1.207394</td>\n",
       "      <td>-0.987661</td>\n",
       "      <td>0.261802</td>\n",
       "      <td>-0.470124</td>\n",
       "    </tr>\n",
       "    <tr>\n",
       "      <th>2014-01-20</th>\n",
       "      <td>1.001610</td>\n",
       "      <td>-1.166117</td>\n",
       "      <td>1.179222</td>\n",
       "      <td>0.378278</td>\n",
       "    </tr>\n",
       "    <tr>\n",
       "      <th>2014-01-21</th>\n",
       "      <td>-0.346392</td>\n",
       "      <td>-0.312463</td>\n",
       "      <td>-0.848045</td>\n",
       "      <td>-0.193189</td>\n",
       "    </tr>\n",
       "    <tr>\n",
       "      <th>2014-01-22</th>\n",
       "      <td>-2.220054</td>\n",
       "      <td>0.322433</td>\n",
       "      <td>-1.868263</td>\n",
       "      <td>0.145460</td>\n",
       "    </tr>\n",
       "    <tr>\n",
       "      <th>2014-01-23</th>\n",
       "      <td>0.279434</td>\n",
       "      <td>0.518552</td>\n",
       "      <td>1.403580</td>\n",
       "      <td>0.033209</td>\n",
       "    </tr>\n",
       "    <tr>\n",
       "      <th>2014-01-24</th>\n",
       "      <td>-0.189831</td>\n",
       "      <td>-1.205629</td>\n",
       "      <td>-0.775258</td>\n",
       "      <td>0.070272</td>\n",
       "    </tr>\n",
       "    <tr>\n",
       "      <th>2014-01-25</th>\n",
       "      <td>-0.704007</td>\n",
       "      <td>-2.513074</td>\n",
       "      <td>-0.632228</td>\n",
       "      <td>0.538788</td>\n",
       "    </tr>\n",
       "    <tr>\n",
       "      <th>2014-01-26</th>\n",
       "      <td>0.836490</td>\n",
       "      <td>-0.328769</td>\n",
       "      <td>1.031534</td>\n",
       "      <td>1.288624</td>\n",
       "    </tr>\n",
       "    <tr>\n",
       "      <th>2014-01-27</th>\n",
       "      <td>0.991530</td>\n",
       "      <td>1.809683</td>\n",
       "      <td>0.757067</td>\n",
       "      <td>1.614906</td>\n",
       "    </tr>\n",
       "    <tr>\n",
       "      <th>2014-01-28</th>\n",
       "      <td>0.233829</td>\n",
       "      <td>-1.139374</td>\n",
       "      <td>1.443593</td>\n",
       "      <td>1.198165</td>\n",
       "    </tr>\n",
       "    <tr>\n",
       "      <th>2014-01-29</th>\n",
       "      <td>0.601489</td>\n",
       "      <td>1.500124</td>\n",
       "      <td>-0.834012</td>\n",
       "      <td>-2.098834</td>\n",
       "    </tr>\n",
       "    <tr>\n",
       "      <th>2014-01-30</th>\n",
       "      <td>-0.652051</td>\n",
       "      <td>-0.706375</td>\n",
       "      <td>1.406991</td>\n",
       "      <td>0.392957</td>\n",
       "    </tr>\n",
       "    <tr>\n",
       "      <th>...</th>\n",
       "      <td>...</td>\n",
       "      <td>...</td>\n",
       "      <td>...</td>\n",
       "      <td>...</td>\n",
       "    </tr>\n",
       "    <tr>\n",
       "      <th>2014-03-12</th>\n",
       "      <td>-0.448505</td>\n",
       "      <td>1.640198</td>\n",
       "      <td>0.214986</td>\n",
       "      <td>-0.406866</td>\n",
       "    </tr>\n",
       "    <tr>\n",
       "      <th>2014-03-13</th>\n",
       "      <td>0.445553</td>\n",
       "      <td>-0.969804</td>\n",
       "      <td>0.639889</td>\n",
       "      <td>-0.361745</td>\n",
       "    </tr>\n",
       "    <tr>\n",
       "      <th>2014-03-14</th>\n",
       "      <td>-0.527908</td>\n",
       "      <td>-0.860491</td>\n",
       "      <td>-0.364795</td>\n",
       "      <td>0.713167</td>\n",
       "    </tr>\n",
       "    <tr>\n",
       "      <th>2014-03-15</th>\n",
       "      <td>-1.645985</td>\n",
       "      <td>-0.274356</td>\n",
       "      <td>-1.126498</td>\n",
       "      <td>0.226725</td>\n",
       "    </tr>\n",
       "    <tr>\n",
       "      <th>2014-03-16</th>\n",
       "      <td>-0.227032</td>\n",
       "      <td>-2.376109</td>\n",
       "      <td>-0.162007</td>\n",
       "      <td>0.366290</td>\n",
       "    </tr>\n",
       "    <tr>\n",
       "      <th>2014-03-17</th>\n",
       "      <td>-2.235066</td>\n",
       "      <td>-0.190065</td>\n",
       "      <td>-0.050485</td>\n",
       "      <td>0.797589</td>\n",
       "    </tr>\n",
       "    <tr>\n",
       "      <th>2014-03-18</th>\n",
       "      <td>-1.041738</td>\n",
       "      <td>-1.051874</td>\n",
       "      <td>-0.751094</td>\n",
       "      <td>1.062232</td>\n",
       "    </tr>\n",
       "    <tr>\n",
       "      <th>2014-03-19</th>\n",
       "      <td>-0.582826</td>\n",
       "      <td>0.124350</td>\n",
       "      <td>-1.216674</td>\n",
       "      <td>0.737198</td>\n",
       "    </tr>\n",
       "    <tr>\n",
       "      <th>2014-03-20</th>\n",
       "      <td>0.463540</td>\n",
       "      <td>0.769738</td>\n",
       "      <td>0.690852</td>\n",
       "      <td>-0.373624</td>\n",
       "    </tr>\n",
       "    <tr>\n",
       "      <th>2014-03-21</th>\n",
       "      <td>0.633902</td>\n",
       "      <td>-1.950877</td>\n",
       "      <td>0.690288</td>\n",
       "      <td>1.133754</td>\n",
       "    </tr>\n",
       "    <tr>\n",
       "      <th>2014-03-22</th>\n",
       "      <td>-1.956697</td>\n",
       "      <td>-0.091758</td>\n",
       "      <td>-1.482437</td>\n",
       "      <td>-0.742334</td>\n",
       "    </tr>\n",
       "    <tr>\n",
       "      <th>2014-03-23</th>\n",
       "      <td>0.007927</td>\n",
       "      <td>-0.818243</td>\n",
       "      <td>0.129575</td>\n",
       "      <td>-1.104456</td>\n",
       "    </tr>\n",
       "    <tr>\n",
       "      <th>2014-03-24</th>\n",
       "      <td>-1.765754</td>\n",
       "      <td>2.045124</td>\n",
       "      <td>1.270709</td>\n",
       "      <td>0.077275</td>\n",
       "    </tr>\n",
       "    <tr>\n",
       "      <th>2014-03-25</th>\n",
       "      <td>-0.055307</td>\n",
       "      <td>-0.629733</td>\n",
       "      <td>1.442377</td>\n",
       "      <td>0.135838</td>\n",
       "    </tr>\n",
       "    <tr>\n",
       "      <th>2014-03-26</th>\n",
       "      <td>-0.041331</td>\n",
       "      <td>0.647296</td>\n",
       "      <td>-1.344290</td>\n",
       "      <td>0.088793</td>\n",
       "    </tr>\n",
       "    <tr>\n",
       "      <th>2014-03-27</th>\n",
       "      <td>-0.347047</td>\n",
       "      <td>0.055077</td>\n",
       "      <td>-1.297156</td>\n",
       "      <td>0.219560</td>\n",
       "    </tr>\n",
       "    <tr>\n",
       "      <th>2014-03-28</th>\n",
       "      <td>1.887264</td>\n",
       "      <td>0.383805</td>\n",
       "      <td>-0.185953</td>\n",
       "      <td>-1.579982</td>\n",
       "    </tr>\n",
       "    <tr>\n",
       "      <th>2014-03-29</th>\n",
       "      <td>1.371099</td>\n",
       "      <td>0.564256</td>\n",
       "      <td>0.679876</td>\n",
       "      <td>0.406620</td>\n",
       "    </tr>\n",
       "    <tr>\n",
       "      <th>2014-03-30</th>\n",
       "      <td>-0.446337</td>\n",
       "      <td>0.523351</td>\n",
       "      <td>0.684117</td>\n",
       "      <td>-2.703178</td>\n",
       "    </tr>\n",
       "    <tr>\n",
       "      <th>2014-03-31</th>\n",
       "      <td>-1.197391</td>\n",
       "      <td>0.268837</td>\n",
       "      <td>-1.302292</td>\n",
       "      <td>0.839139</td>\n",
       "    </tr>\n",
       "    <tr>\n",
       "      <th>2014-04-01</th>\n",
       "      <td>2.835714</td>\n",
       "      <td>-0.679544</td>\n",
       "      <td>-2.144163</td>\n",
       "      <td>-0.455876</td>\n",
       "    </tr>\n",
       "    <tr>\n",
       "      <th>2014-04-02</th>\n",
       "      <td>1.297904</td>\n",
       "      <td>0.170669</td>\n",
       "      <td>1.076500</td>\n",
       "      <td>-0.706860</td>\n",
       "    </tr>\n",
       "    <tr>\n",
       "      <th>2014-04-03</th>\n",
       "      <td>-0.982154</td>\n",
       "      <td>1.213624</td>\n",
       "      <td>1.369915</td>\n",
       "      <td>-0.639954</td>\n",
       "    </tr>\n",
       "    <tr>\n",
       "      <th>2014-04-04</th>\n",
       "      <td>0.087032</td>\n",
       "      <td>0.301275</td>\n",
       "      <td>-1.262421</td>\n",
       "      <td>-1.448267</td>\n",
       "    </tr>\n",
       "    <tr>\n",
       "      <th>2014-04-05</th>\n",
       "      <td>-0.708794</td>\n",
       "      <td>-0.689934</td>\n",
       "      <td>-1.541344</td>\n",
       "      <td>1.020822</td>\n",
       "    </tr>\n",
       "    <tr>\n",
       "      <th>2014-04-06</th>\n",
       "      <td>2.906225</td>\n",
       "      <td>-0.476724</td>\n",
       "      <td>0.548576</td>\n",
       "      <td>1.296231</td>\n",
       "    </tr>\n",
       "    <tr>\n",
       "      <th>2014-04-07</th>\n",
       "      <td>0.114133</td>\n",
       "      <td>0.072880</td>\n",
       "      <td>-0.674422</td>\n",
       "      <td>-0.868722</td>\n",
       "    </tr>\n",
       "    <tr>\n",
       "      <th>2014-04-08</th>\n",
       "      <td>0.870866</td>\n",
       "      <td>-1.808665</td>\n",
       "      <td>0.038570</td>\n",
       "      <td>-0.037494</td>\n",
       "    </tr>\n",
       "    <tr>\n",
       "      <th>2014-04-09</th>\n",
       "      <td>-0.451460</td>\n",
       "      <td>-0.410687</td>\n",
       "      <td>-1.181434</td>\n",
       "      <td>-0.589260</td>\n",
       "    </tr>\n",
       "    <tr>\n",
       "      <th>2014-04-10</th>\n",
       "      <td>-0.764129</td>\n",
       "      <td>0.627623</td>\n",
       "      <td>0.480900</td>\n",
       "      <td>-0.102483</td>\n",
       "    </tr>\n",
       "  </tbody>\n",
       "</table>\n",
       "<p>100 rows × 4 columns</p>\n",
       "</div>"
      ],
      "text/plain": [
       "                   A         B         C         D\n",
       "2014-01-01 -2.030348  1.088840 -1.714988 -1.301796\n",
       "2014-01-02 -0.300063 -0.152380  0.596220 -1.029267\n",
       "2014-01-03  0.314136  1.048867 -0.231731 -0.123225\n",
       "2014-01-04 -0.912218  0.909034  1.683757  0.242269\n",
       "2014-01-05  0.132262 -0.637635  0.590908 -0.455167\n",
       "2014-01-06 -0.201947 -0.497691 -0.157533  0.173935\n",
       "2014-01-07  0.238321 -0.217319 -0.420493 -0.988766\n",
       "2014-01-08 -1.348907 -1.518383  1.821123  1.429980\n",
       "2014-01-09 -0.334511  1.036309 -2.253125 -0.827528\n",
       "2014-01-10 -0.706291  1.327520 -0.956838  0.071963\n",
       "2014-01-11 -1.177240  1.374746  0.602795 -0.550558\n",
       "2014-01-12  0.518931 -2.212615  1.113966 -0.300775\n",
       "2014-01-13  1.070170  0.355140  2.108908 -1.737691\n",
       "2014-01-14 -0.202757  0.340760  0.757309 -0.174152\n",
       "2014-01-15  0.863090  0.697545  0.175854  0.107085\n",
       "2014-01-16  0.651723 -0.008323 -1.023004 -1.109805\n",
       "2014-01-17  0.171641 -0.406347 -1.093364  1.211658\n",
       "2014-01-18 -0.229306  0.294924  0.347061  0.822343\n",
       "2014-01-19  1.207394 -0.987661  0.261802 -0.470124\n",
       "2014-01-20  1.001610 -1.166117  1.179222  0.378278\n",
       "2014-01-21 -0.346392 -0.312463 -0.848045 -0.193189\n",
       "2014-01-22 -2.220054  0.322433 -1.868263  0.145460\n",
       "2014-01-23  0.279434  0.518552  1.403580  0.033209\n",
       "2014-01-24 -0.189831 -1.205629 -0.775258  0.070272\n",
       "2014-01-25 -0.704007 -2.513074 -0.632228  0.538788\n",
       "2014-01-26  0.836490 -0.328769  1.031534  1.288624\n",
       "2014-01-27  0.991530  1.809683  0.757067  1.614906\n",
       "2014-01-28  0.233829 -1.139374  1.443593  1.198165\n",
       "2014-01-29  0.601489  1.500124 -0.834012 -2.098834\n",
       "2014-01-30 -0.652051 -0.706375  1.406991  0.392957\n",
       "...              ...       ...       ...       ...\n",
       "2014-03-12 -0.448505  1.640198  0.214986 -0.406866\n",
       "2014-03-13  0.445553 -0.969804  0.639889 -0.361745\n",
       "2014-03-14 -0.527908 -0.860491 -0.364795  0.713167\n",
       "2014-03-15 -1.645985 -0.274356 -1.126498  0.226725\n",
       "2014-03-16 -0.227032 -2.376109 -0.162007  0.366290\n",
       "2014-03-17 -2.235066 -0.190065 -0.050485  0.797589\n",
       "2014-03-18 -1.041738 -1.051874 -0.751094  1.062232\n",
       "2014-03-19 -0.582826  0.124350 -1.216674  0.737198\n",
       "2014-03-20  0.463540  0.769738  0.690852 -0.373624\n",
       "2014-03-21  0.633902 -1.950877  0.690288  1.133754\n",
       "2014-03-22 -1.956697 -0.091758 -1.482437 -0.742334\n",
       "2014-03-23  0.007927 -0.818243  0.129575 -1.104456\n",
       "2014-03-24 -1.765754  2.045124  1.270709  0.077275\n",
       "2014-03-25 -0.055307 -0.629733  1.442377  0.135838\n",
       "2014-03-26 -0.041331  0.647296 -1.344290  0.088793\n",
       "2014-03-27 -0.347047  0.055077 -1.297156  0.219560\n",
       "2014-03-28  1.887264  0.383805 -0.185953 -1.579982\n",
       "2014-03-29  1.371099  0.564256  0.679876  0.406620\n",
       "2014-03-30 -0.446337  0.523351  0.684117 -2.703178\n",
       "2014-03-31 -1.197391  0.268837 -1.302292  0.839139\n",
       "2014-04-01  2.835714 -0.679544 -2.144163 -0.455876\n",
       "2014-04-02  1.297904  0.170669  1.076500 -0.706860\n",
       "2014-04-03 -0.982154  1.213624  1.369915 -0.639954\n",
       "2014-04-04  0.087032  0.301275 -1.262421 -1.448267\n",
       "2014-04-05 -0.708794 -0.689934 -1.541344  1.020822\n",
       "2014-04-06  2.906225 -0.476724  0.548576  1.296231\n",
       "2014-04-07  0.114133  0.072880 -0.674422 -0.868722\n",
       "2014-04-08  0.870866 -1.808665  0.038570 -0.037494\n",
       "2014-04-09 -0.451460 -0.410687 -1.181434 -0.589260\n",
       "2014-04-10 -0.764129  0.627623  0.480900 -0.102483\n",
       "\n",
       "[100 rows x 4 columns]"
      ]
     },
     "execution_count": 60,
     "metadata": {},
     "output_type": "execute_result"
    }
   ],
   "source": [
    "import pandas as pd\n",
    "rng = pd.date_range('1/1/2014',periods=100,freq='D')\n",
    "\n",
    "# 乱数でデータフレームを作っていく、インデックスは ABCD とする\n",
    "df1 = pd.DataFrame(np.random.randn(100, 4), index = rng, columns = ['A','B','C','D'])\n",
    "df2 = pd.DataFrame(np.random.randn(100, 4), index = rng, columns = ['A','B','C','D'])\n",
    "df3 = pd.DataFrame(np.random.randn(100, 4), index = rng, columns = ['A','B','C','D'])\n",
    "\n",
    "# これらデータフレームをまとめて Panel オブジェクトをつくる\n",
    "pf = pd.Panel({'df1':df1,'df2':df2,'df3':df3})\n",
    "\n",
    "pf\n",
    "\n",
    "df1\n"
   ]
  },
  {
   "cell_type": "code",
   "execution_count": 109,
   "metadata": {
    "collapsed": false
   },
   "outputs": [
    {
     "data": {
      "text/plain": [
       "array([0, 1, 2])"
      ]
     },
     "execution_count": 109,
     "metadata": {},
     "output_type": "execute_result"
    }
   ],
   "source": [
    "a"
   ]
  },
  {
   "cell_type": "code",
   "execution_count": 110,
   "metadata": {
    "collapsed": false
   },
   "outputs": [
    {
     "data": {
      "text/plain": [
       "array(['a', 'b', 'c'], \n",
       "      dtype='|S1')"
      ]
     },
     "execution_count": 110,
     "metadata": {},
     "output_type": "execute_result"
    }
   ],
   "source": [
    "b"
   ]
  },
  {
   "cell_type": "code",
   "execution_count": 69,
   "metadata": {
    "collapsed": false
   },
   "outputs": [],
   "source": [
    "for n in range(len(a)):\n",
    "    c= np.insert(a,n,[a[n],a[n],a[n],a[n],a[n],a[n]])\n",
    "    "
   ]
  },
  {
   "cell_type": "code",
   "execution_count": 100,
   "metadata": {
    "collapsed": false
   },
   "outputs": [],
   "source": [
    "d=[]\n",
    "for data in b:\n",
    "    for i in range(6):\n",
    "        d.append(data)"
   ]
  },
  {
   "cell_type": "code",
   "execution_count": 101,
   "metadata": {
    "collapsed": false
   },
   "outputs": [
    {
     "data": {
      "text/plain": [
       "['a',\n",
       " 'a',\n",
       " 'a',\n",
       " 'a',\n",
       " 'a',\n",
       " 'a',\n",
       " 'b',\n",
       " 'b',\n",
       " 'b',\n",
       " 'b',\n",
       " 'b',\n",
       " 'b',\n",
       " 'c',\n",
       " 'c',\n",
       " 'c',\n",
       " 'c',\n",
       " 'c',\n",
       " 'c']"
      ]
     },
     "execution_count": 101,
     "metadata": {},
     "output_type": "execute_result"
    }
   ],
   "source": [
    "d"
   ]
  },
  {
   "cell_type": "code",
   "execution_count": 111,
   "metadata": {
    "collapsed": false
   },
   "outputs": [
    {
     "data": {
      "text/plain": [
       "array([['0', '1', '2'],\n",
       "       ['a', 'b', 'c']], \n",
       "      dtype='|S21')"
      ]
     },
     "execution_count": 111,
     "metadata": {},
     "output_type": "execute_result"
    }
   ],
   "source": [
    "np.vstack( (a,b) )"
   ]
  },
  {
   "cell_type": "code",
   "execution_count": 112,
   "metadata": {
    "collapsed": false
   },
   "outputs": [
    {
     "data": {
      "text/plain": [
       "(4, 3)"
      ]
     },
     "execution_count": 112,
     "metadata": {},
     "output_type": "execute_result"
    }
   ],
   "source": [
    "df = pd.DataFrame( [[0,1,2], [3,4,5], [6,7,8], [9,10,11]] ) # 4x3 table\n",
    "df.columns = ['c0', 'c1', 'c2']\n",
    "df.index = ['r0', 'r1','r2','r3']\n",
    "df.shape   #=> (4,3)\n"
   ]
  },
  {
   "cell_type": "code",
   "execution_count": 113,
   "metadata": {
    "collapsed": false
   },
   "outputs": [
    {
     "data": {
      "text/html": [
       "<div>\n",
       "<table border=\"1\" class=\"dataframe\">\n",
       "  <thead>\n",
       "    <tr style=\"text-align: right;\">\n",
       "      <th></th>\n",
       "      <th>c0</th>\n",
       "      <th>c1</th>\n",
       "      <th>c2</th>\n",
       "    </tr>\n",
       "  </thead>\n",
       "  <tbody>\n",
       "    <tr>\n",
       "      <th>r0</th>\n",
       "      <td>0</td>\n",
       "      <td>1</td>\n",
       "      <td>2</td>\n",
       "    </tr>\n",
       "    <tr>\n",
       "      <th>r1</th>\n",
       "      <td>3</td>\n",
       "      <td>4</td>\n",
       "      <td>5</td>\n",
       "    </tr>\n",
       "    <tr>\n",
       "      <th>r2</th>\n",
       "      <td>6</td>\n",
       "      <td>7</td>\n",
       "      <td>8</td>\n",
       "    </tr>\n",
       "    <tr>\n",
       "      <th>r3</th>\n",
       "      <td>9</td>\n",
       "      <td>10</td>\n",
       "      <td>11</td>\n",
       "    </tr>\n",
       "  </tbody>\n",
       "</table>\n",
       "</div>"
      ],
      "text/plain": [
       "    c0  c1  c2\n",
       "r0   0   1   2\n",
       "r1   3   4   5\n",
       "r2   6   7   8\n",
       "r3   9  10  11"
      ]
     },
     "execution_count": 113,
     "metadata": {},
     "output_type": "execute_result"
    }
   ],
   "source": [
    "df"
   ]
  },
  {
   "cell_type": "code",
   "execution_count": 114,
   "metadata": {
    "collapsed": true
   },
   "outputs": [],
   "source": [
    "df1 = pd.DataFrame( [{'c0':1, 'c1':2}, {'c1':1, 'c2':2}, {'c0':1, 'c2':2}] )"
   ]
  },
  {
   "cell_type": "code",
   "execution_count": 115,
   "metadata": {
    "collapsed": false
   },
   "outputs": [
    {
     "data": {
      "text/html": [
       "<div>\n",
       "<table border=\"1\" class=\"dataframe\">\n",
       "  <thead>\n",
       "    <tr style=\"text-align: right;\">\n",
       "      <th></th>\n",
       "      <th>c0</th>\n",
       "      <th>c1</th>\n",
       "      <th>c2</th>\n",
       "    </tr>\n",
       "  </thead>\n",
       "  <tbody>\n",
       "    <tr>\n",
       "      <th>0</th>\n",
       "      <td>1.0</td>\n",
       "      <td>2.0</td>\n",
       "      <td>NaN</td>\n",
       "    </tr>\n",
       "    <tr>\n",
       "      <th>1</th>\n",
       "      <td>NaN</td>\n",
       "      <td>1.0</td>\n",
       "      <td>2.0</td>\n",
       "    </tr>\n",
       "    <tr>\n",
       "      <th>2</th>\n",
       "      <td>1.0</td>\n",
       "      <td>NaN</td>\n",
       "      <td>2.0</td>\n",
       "    </tr>\n",
       "  </tbody>\n",
       "</table>\n",
       "</div>"
      ],
      "text/plain": [
       "    c0   c1   c2\n",
       "0  1.0  2.0  NaN\n",
       "1  NaN  1.0  2.0\n",
       "2  1.0  NaN  2.0"
      ]
     },
     "execution_count": 115,
     "metadata": {},
     "output_type": "execute_result"
    }
   ],
   "source": [
    "df1"
   ]
  },
  {
   "cell_type": "code",
   "execution_count": 125,
   "metadata": {
    "collapsed": false
   },
   "outputs": [],
   "source": [
    "list1=[[ 0.35804487-0.01519195j, -0.09451400-0.10396996j,\n",
    "         0.05838963-0.10452798j, -0.00347080-0.07505361j,\n",
    "         0.02233362-0.04416239j,  0.01685079+0.00862261j,\n",
    "         0.04096550+0.0365221j ,  0.11865038+0.04220009j],\n",
    "         [-0.35210660-0.63264773j,  0.02284033-0.09660578j,\n",
    "         0.04796848-0.04358906j,  0.03218321-0.05969557j,\n",
    "         0.05991556-0.03240392j,  0.08297981-0.03868062j,\n",
    "         0.07200175+0.00649903j,  0.05651747-0.01512774j]]"
   ]
  },
  {
   "cell_type": "code",
   "execution_count": 127,
   "metadata": {
    "collapsed": false
   },
   "outputs": [],
   "source": [
    "array=np.array(list1)"
   ]
  },
  {
   "cell_type": "code",
   "execution_count": 129,
   "metadata": {
    "collapsed": false
   },
   "outputs": [
    {
     "data": {
      "text/plain": [
       "16"
      ]
     },
     "execution_count": 129,
     "metadata": {},
     "output_type": "execute_result"
    }
   ],
   "source": [
    "array.size"
   ]
  },
  {
   "cell_type": "code",
   "execution_count": 131,
   "metadata": {
    "collapsed": false
   },
   "outputs": [],
   "source": [
    "a=np.array([1,2,3])"
   ]
  },
  {
   "cell_type": "code",
   "execution_count": 132,
   "metadata": {
    "collapsed": true
   },
   "outputs": [],
   "source": [
    "b=np.array([3,4,5])"
   ]
  },
  {
   "cell_type": "code",
   "execution_count": 133,
   "metadata": {
    "collapsed": true
   },
   "outputs": [],
   "source": [
    "c=np.array([5,6,7])"
   ]
  },
  {
   "cell_type": "code",
   "execution_count": 135,
   "metadata": {
    "collapsed": false
   },
   "outputs": [],
   "source": [
    "d=np.vstack( (a,b) )"
   ]
  },
  {
   "cell_type": "code",
   "execution_count": 136,
   "metadata": {
    "collapsed": false
   },
   "outputs": [
    {
     "data": {
      "text/plain": [
       "array([[1, 2, 3],\n",
       "       [3, 4, 5]])"
      ]
     },
     "execution_count": 136,
     "metadata": {},
     "output_type": "execute_result"
    }
   ],
   "source": [
    "d"
   ]
  },
  {
   "cell_type": "code",
   "execution_count": 138,
   "metadata": {
    "collapsed": false
   },
   "outputs": [],
   "source": [
    "d=np.vstack( (d,c) )"
   ]
  },
  {
   "cell_type": "code",
   "execution_count": 139,
   "metadata": {
    "collapsed": false
   },
   "outputs": [
    {
     "data": {
      "text/plain": [
       "array([[1, 2, 3],\n",
       "       [3, 4, 5],\n",
       "       [5, 6, 7]])"
      ]
     },
     "execution_count": 139,
     "metadata": {},
     "output_type": "execute_result"
    }
   ],
   "source": [
    "d"
   ]
  },
  {
   "cell_type": "code",
   "execution_count": 140,
   "metadata": {
    "collapsed": true
   },
   "outputs": [],
   "source": [
    "e=np.array([])"
   ]
  },
  {
   "cell_type": "code",
   "execution_count": 141,
   "metadata": {
    "collapsed": false
   },
   "outputs": [
    {
     "ename": "ValueError",
     "evalue": "all the input array dimensions except for the concatenation axis must match exactly",
     "output_type": "error",
     "traceback": [
      "\u001b[1;31m---------------------------------------------------------------------------\u001b[0m",
      "\u001b[1;31mValueError\u001b[0m                                Traceback (most recent call last)",
      "\u001b[1;32m<ipython-input-141-24de07f5c57c>\u001b[0m in \u001b[0;36m<module>\u001b[1;34m()\u001b[0m\n\u001b[1;32m----> 1\u001b[1;33m \u001b[0mnp\u001b[0m\u001b[1;33m.\u001b[0m\u001b[0mvstack\u001b[0m\u001b[1;33m(\u001b[0m \u001b[1;33m(\u001b[0m\u001b[0me\u001b[0m\u001b[1;33m,\u001b[0m\u001b[0ma\u001b[0m\u001b[1;33m)\u001b[0m \u001b[1;33m)\u001b[0m\u001b[1;33m\u001b[0m\u001b[0m\n\u001b[0m",
      "\u001b[1;32m/home/takeyama/.pyenv/versions/2.7.11/envs/my_theano/lib/python2.7/site-packages/numpy/core/shape_base.pyc\u001b[0m in \u001b[0;36mvstack\u001b[1;34m(tup)\u001b[0m\n\u001b[0;32m    228\u001b[0m \u001b[1;33m\u001b[0m\u001b[0m\n\u001b[0;32m    229\u001b[0m     \"\"\"\n\u001b[1;32m--> 230\u001b[1;33m     \u001b[1;32mreturn\u001b[0m \u001b[0m_nx\u001b[0m\u001b[1;33m.\u001b[0m\u001b[0mconcatenate\u001b[0m\u001b[1;33m(\u001b[0m\u001b[1;33m[\u001b[0m\u001b[0matleast_2d\u001b[0m\u001b[1;33m(\u001b[0m\u001b[0m_m\u001b[0m\u001b[1;33m)\u001b[0m \u001b[1;32mfor\u001b[0m \u001b[0m_m\u001b[0m \u001b[1;32min\u001b[0m \u001b[0mtup\u001b[0m\u001b[1;33m]\u001b[0m\u001b[1;33m,\u001b[0m \u001b[1;36m0\u001b[0m\u001b[1;33m)\u001b[0m\u001b[1;33m\u001b[0m\u001b[0m\n\u001b[0m\u001b[0;32m    231\u001b[0m \u001b[1;33m\u001b[0m\u001b[0m\n\u001b[0;32m    232\u001b[0m \u001b[1;32mdef\u001b[0m \u001b[0mhstack\u001b[0m\u001b[1;33m(\u001b[0m\u001b[0mtup\u001b[0m\u001b[1;33m)\u001b[0m\u001b[1;33m:\u001b[0m\u001b[1;33m\u001b[0m\u001b[0m\n",
      "\u001b[1;31mValueError\u001b[0m: all the input array dimensions except for the concatenation axis must match exactly"
     ]
    }
   ],
   "source": [
    "np.vstack( (e,a) )"
   ]
  },
  {
   "cell_type": "code",
   "execution_count": null,
   "metadata": {
    "collapsed": true
   },
   "outputs": [],
   "source": []
  }
 ],
 "metadata": {
  "kernelspec": {
   "display_name": "Python 2",
   "language": "python",
   "name": "python2"
  },
  "language_info": {
   "codemirror_mode": {
    "name": "ipython",
    "version": 2
   },
   "file_extension": ".py",
   "mimetype": "text/x-python",
   "name": "python",
   "nbconvert_exporter": "python",
   "pygments_lexer": "ipython2",
   "version": "2.7.11"
  }
 },
 "nbformat": 4,
 "nbformat_minor": 0
}
