{
 "cells": [
  {
   "cell_type": "code",
   "execution_count": 1,
   "metadata": {
    "collapsed": true
   },
   "outputs": [],
   "source": [
    "import numpy as np\n",
    "import matplotlib.pyplot as plt\n",
    "import matplotlib\n",
    "from scipy import fftpack\n",
    "from scipy import signal\n",
    "import numpy as np\n",
    "import pandas as pd\n",
    "import datetime\n"
   ]
  },
  {
   "cell_type": "code",
   "execution_count": 2,
   "metadata": {
    "collapsed": false
   },
   "outputs": [
    {
     "name": "stdout",
     "output_type": "stream",
     "text": [
      "/home/takeyama/Documents/01_SensorData/2016_04_12/cleaning-addingLABEL\n"
     ]
    }
   ],
   "source": [
    "cd ~/Documents/01_SensorData/2016_04_12/cleaning-addingLABEL/"
   ]
  },
  {
   "cell_type": "code",
   "execution_count": 3,
   "metadata": {
    "collapsed": true
   },
   "outputs": [],
   "source": [
    "left_hand = pd.read_csv('Cleaning-Conv-left-hand-ags.csv',parse_dates=['Time'])\n",
    "#left_hand.Time=pd.to_timedelta(left_hand.Time)\n",
    "left_leg = pd.read_csv('Cleaning-Conv-left-leg-ags.csv',parse_dates=['Time'])\n",
    "#left_leg.Time=pd.to_timedelta(left_leg.Time)\n",
    "right_hand = pd.read_csv('Cleaning-Conv-right-hand-ags.csv',parse_dates=['Time'])\n",
    "#right_hand.Time=pd.to_timedelta(right_hand.Time)\n",
    "right_leg = pd.read_csv('Cleaning-Conv-right-leg-ags.csv',parse_dates=['Time'])\n",
    "#right_leg.Time=pd.to_timedelta(right_leg.Time)\n",
    "west = pd.read_csv('Cleaning-Conv-west-ags.csv',parse_dates=['Time'])\n",
    "#west.Time=pd.to_timedelta(west.Time)\n",
    "\n",
    "name=['Cleaning-Conv-left-hand-ags.csv','Cleaning-Conv-left-leg-ags.csv','Cleaning-Conv-right-hand-ags.csv',\\\n",
    "     'Cleaning-Conv-right-leg-ags.csv','Cleaning-Conv-west-ags.csv']"
   ]
  },
  {
   "cell_type": "code",
   "execution_count": 4,
   "metadata": {
    "collapsed": true
   },
   "outputs": [],
   "source": [
    "# labering data -> pandas dateframe\n",
    "# freq -> sampling time [seconds]\n",
    "# overlap -> % to freq\n",
    "def sliding_window(labeling_data,freq, overlap):\n",
    "    \n",
    "    count =0\n",
    "    start =labeling_data.Time[0]\n",
    "    goal = start+datetime.timedelta(seconds=freq)\n",
    "    add=freq*overlap\n",
    "    yield labeling_data[(start <= labeling_data.Time) &(labeling_data.Time <= goal)]\n",
    "       \n",
    "    while True:\n",
    "        try:\n",
    "            count +=1\n",
    "            start =start+datetime.timedelta(seconds=add)\n",
    "            goal  =start+datetime.timedelta(seconds=freq)\n",
    "            #print goal\n",
    "            yield labeling_data[(start <= labeling_data.Time) &(labeling_data.Time <= goal)]\n",
    "        except StopIteration:\n",
    "            break"
   ]
  },
  {
   "cell_type": "code",
   "execution_count": 5,
   "metadata": {
    "collapsed": true
   },
   "outputs": [],
   "source": [
    "test=pd.read_csv(\"FFT-Cleaning-Conv-left-hand-ags.csv-16bit-samp-.csv\")"
   ]
  },
  {
   "cell_type": "code",
   "execution_count": 45,
   "metadata": {
    "collapsed": true
   },
   "outputs": [],
   "source": [
    "def flatten(nested_list):\n",
    "    \"\"\"2重のリストをフラットにする関数\"\"\"\n",
    "    return [e for inner_list in nested_list for e in inner_list]"
   ]
  },
  {
   "cell_type": "code",
   "execution_count": 73,
   "metadata": {
    "collapsed": false
   },
   "outputs": [
    {
     "ename": "ValueError",
     "evalue": "total size of new array must be unchanged",
     "output_type": "error",
     "traceback": [
      "\u001b[1;31m---------------------------------------------------------------------------\u001b[0m",
      "\u001b[1;31mValueError\u001b[0m                                Traceback (most recent call last)",
      "\u001b[1;32m<ipython-input-73-e4e56b657992>\u001b[0m in \u001b[0;36m<module>\u001b[1;34m()\u001b[0m\n\u001b[0;32m     32\u001b[0m \u001b[0mtime\u001b[0m\u001b[1;33m=\u001b[0m\u001b[0mnp\u001b[0m\u001b[1;33m.\u001b[0m\u001b[0marray\u001b[0m\u001b[1;33m(\u001b[0m\u001b[0mtime\u001b[0m\u001b[1;33m,\u001b[0m\u001b[0mdtype\u001b[0m\u001b[1;33m=\u001b[0m\u001b[0mnp\u001b[0m\u001b[1;33m.\u001b[0m\u001b[0mdatetime64\u001b[0m\u001b[1;33m)\u001b[0m\u001b[1;33m\u001b[0m\u001b[0m\n\u001b[0;32m     33\u001b[0m \u001b[1;33m\u001b[0m\u001b[0m\n\u001b[1;32m---> 34\u001b[1;33m \u001b[0mlAccX\u001b[0m\u001b[1;33m=\u001b[0m\u001b[0mlAccX\u001b[0m\u001b[1;33m.\u001b[0m\u001b[0mreshape\u001b[0m\u001b[1;33m(\u001b[0m\u001b[1;36m55472\u001b[0m\u001b[1;33m,\u001b[0m\u001b[1;33m)\u001b[0m\u001b[1;33m\u001b[0m\u001b[0m\n\u001b[0m\u001b[0;32m     35\u001b[0m \u001b[0mlAccY\u001b[0m\u001b[1;33m=\u001b[0m\u001b[0mlAccY\u001b[0m\u001b[1;33m.\u001b[0m\u001b[0mreshape\u001b[0m\u001b[1;33m(\u001b[0m\u001b[1;36m55472\u001b[0m\u001b[1;33m,\u001b[0m\u001b[1;33m)\u001b[0m\u001b[1;33m\u001b[0m\u001b[0m\n\u001b[0;32m     36\u001b[0m \u001b[0mlAccZ\u001b[0m\u001b[1;33m=\u001b[0m\u001b[0mlAccZ\u001b[0m\u001b[1;33m.\u001b[0m\u001b[0mreshape\u001b[0m\u001b[1;33m(\u001b[0m\u001b[1;36m55472\u001b[0m\u001b[1;33m,\u001b[0m\u001b[1;33m)\u001b[0m\u001b[1;33m\u001b[0m\u001b[0m\n",
      "\u001b[1;31mValueError\u001b[0m: total size of new array must be unchanged"
     ]
    }
   ],
   "source": [
    "Source=pd.read_csv(name[0],parse_dates=['Time'])\n",
    "df=sliding_window(Source,0.16,0.5)\n",
    "lAccX=[]\n",
    "lAccY=[]\n",
    "lAccZ=[]\n",
    "lGyrX=[]\n",
    "lGyrY=[]\n",
    "lGyrZ=[]\n",
    "time=[]\n",
    "samp=16\n",
    "\n",
    "while True:\n",
    "    try:\n",
    "        d=df.next()\n",
    "        # fftの直流成分を除くsample/2のみ\n",
    "        lAccX.append(fftpack.fft(d.AccX)[1:(samp/2)+1])\n",
    "        lAccY.append(fftpack.fft(d.AccY)[1:(samp/2)+1])\n",
    "        lAccZ.append(fftpack.fft(d.AccZ)[1:(samp/2)+1])\n",
    "        lGyrX.append(fftpack.fft(d.GyrX)[1:(samp/2)+1])\n",
    "        lGyrY.append(fftpack.fft(d.GyrY)[1:(samp/2)+1])\n",
    "        lGyrZ.append(fftpack.fft(d.GyrZ)[1:(samp/2)+1])\n",
    "        time.append( min(d.Time) )\n",
    "    except ValueError:\n",
    "        break\n",
    "\n",
    "lAccX=np.array(lAccX,dtype=np.complex)\n",
    "lAccY=np.array(lAccY,dtype=np.complex)\n",
    "lAccZ=np.array(lAccZ,dtype=np.complex)\n",
    "lGyrX=np.array(lGyrX,dtype=np.complex)\n",
    "lGyrY=np.array(lGyrY,dtype=np.complex)\n",
    "lGyrZ=np.array(lGyrZ,dtype=np.complex)\n",
    "time=np.array(time,dtype=np.datetime64)\n",
    "\n",
    "lAccX=lAccX.reshape(55472,)\n",
    "lAccY=lAccY.reshape(55472,)\n",
    "lAccZ=lAccZ.reshape(55472,)\n",
    "lGyrX=lGyrX.reshape(55472,)\n",
    "lGyrY=lGyrY.reshape(55472,)\n",
    "lGyrZ=lGyrZ.reshape(55472,)\n",
    "\n",
    "array =  ['1st','2nd','3rd','4th','5th','6th','7th','8th']\n",
    "TimeArray=[]\n",
    "LabelArray=[]\n",
    "\n",
    "for t in range(len(time)):\n",
    "    for i in range(len(array)):\n",
    "        TimeArray.append(str(t))\n",
    "        \n",
    "\n",
    "for i in range(len(time)):\n",
    "    for a in array:\n",
    "        LabelArray.append(a)\n",
    "        \n",
    "TimeArray=np.array(TimeArray)\n",
    "LabelArray=np.array(LabelArray)\n",
    "\n",
    "AccX_real = np.real(lAccX)\n",
    "AccY_real = np.real(lAccY)\n",
    "AccZ_real = np.real(lAccZ)\n",
    "GyrX_real = np.real(lGyrX)\n",
    "GyrY_real = np.real(lGyrY)\n",
    "GyrZ_real = np.real(lGyrZ)\n",
    "AccX_imag = np.imag(lAccX)\n",
    "AccY_imag = np.imag(lAccY)\n",
    "AccZ_imag = np.imag(lAccZ)\n",
    "GyrX_imag = np.imag(lGyrX)\n",
    "GyrY_imag = np.imag(lGyrY)\n",
    "GyrZ_imag = np.imag(lGyrZ)\n",
    "\n",
    "fftdf=pd.DataFrame({\n",
    "        'AccX_real':AccX_real,\n",
    "        'AccY_real':AccY_real,\n",
    "        'AccZ_real':AccZ_real,\n",
    "        'GyrX_real':GyrX_real,\n",
    "        'GyrY_real':GyrY_real,\n",
    "        'GyrZ_real':GyrZ_real,\n",
    "        'AccX_imag':AccX_imag,\n",
    "        'AccY_imag':AccY_imag,\n",
    "        'AccZ_imag':AccZ_imag,\n",
    "        'GyrX_imag':GyrX_imag,\n",
    "        'GyrY_imag':GyrY_imag,\n",
    "        'GyrZ_imag':GyrZ_imag,\n",
    "        'Time':TimeArray,\n",
    "        'Number':LabelArray\n",
    "        }\n",
    "      )\n",
    "\n",
    "#fftdf = fftdf.astype(np.float64)\n",
    "\n",
    "fftdf\n",
    "\n",
    "fftdf1=fftdf.set_index(['Time',''])\n"
   ]
  },
  {
   "cell_type": "code",
   "execution_count": 135,
   "metadata": {
    "collapsed": false
   },
   "outputs": [],
   "source": [
    "Source=pd.read_csv(name[0],parse_dates=['Time'])\n",
    "df=sliding_window(Source,0.16,0.5)\n",
    "lAccX=np.array([])\n",
    "lAccY=np.array([])\n",
    "lAccZ=np.array([])\n",
    "lGyrX=np.array([])\n",
    "lGyrY=np.array([])\n",
    "lGyrZ=np.array([])\n",
    "time=[]\n",
    "samp=16\n",
    "\n",
    "while True:\n",
    "    try:\n",
    "        d=df.next()\n",
    "        time=np.append(time, min(d.Time) )\n",
    "        # fftの直流成分を除くsample/2のみ\n",
    "        lAccX=np.append(lAccX, np.array(fftpack.fft(d.AccX)[1:(samp/2)+1]) )\n",
    "        lAccY=np.append(lAccY, np.array(fftpack.fft(d.AccY)[1:(samp/2)+1]) )\n",
    "        lAccZ=np.append(lAccZ, np.array(fftpack.fft(d.AccZ)[1:(samp/2)+1]) )\n",
    "        lGyrX=np.append(lGyrX, np.array(fftpack.fft(d.GyrX)[1:(samp/2)+1]) )\n",
    "        lGyrY=np.append(lGyrY, np.array(fftpack.fft(d.GyrY)[1:(samp/2)+1]) )\n",
    "        lGyrZ=np.append(lGyrZ, np.array(fftpack.fft(d.GyrZ)[1:(samp/2)+1]) )\n",
    "    except ValueError:\n",
    "        break\n",
    "\n",
    "time=time[:len(lAccX)-1]\n",
    "lAccX=lAccX.reshape(55470,)\n",
    "lAccY=lAccY.reshape(55470,)\n",
    "lAccZ=lAccZ.reshape(55470,)\n",
    "lGyrX=lGyrX.reshape(55470,)\n",
    "lGyrY=lGyrY.reshape(55470,)\n",
    "lGyrZ=lGyrZ.reshape(55470,)\n",
    "\n",
    "array =  ['1st','2nd','3rd','4th','5th','6th','7th','8th']\n",
    "TimeArray=[]\n",
    "LabelArray=[]\n",
    "\n",
    "for t in range(len(time)):\n",
    "    for i in range(len(array)):\n",
    "        TimeArray.append(str(t))\n",
    "        \n",
    "\n",
    "for i in range(len(time)):\n",
    "    for a in array:\n",
    "        LabelArray.append(a)\n",
    "        \n",
    "TimeArray=np.array(TimeArray)\n",
    "LabelArray=np.array(LabelArray)\n",
    "\n",
    "AccX_real = np.real(lAccX)\n",
    "AccY_real = np.real(lAccY)\n",
    "AccZ_real = np.real(lAccZ)\n",
    "GyrX_real = np.real(lGyrX)\n",
    "GyrY_real = np.real(lGyrY)\n",
    "GyrZ_real = np.real(lGyrZ)\n",
    "AccX_imag = np.imag(lAccX)\n",
    "AccY_imag = np.imag(lAccY)\n",
    "AccZ_imag = np.imag(lAccZ)\n",
    "GyrX_imag = np.imag(lGyrX)\n",
    "GyrY_imag = np.imag(lGyrY)\n",
    "GyrZ_imag = np.imag(lGyrZ)\n",
    "\n",
    "fftdf=pd.DataFrame({\n",
    "        'AccX_real':AccX_real,\n",
    "        'AccY_real':AccY_real,\n",
    "        'AccZ_real':AccZ_real,\n",
    "        'GyrX_real':GyrX_real,\n",
    "        'GyrY_real':GyrY_real,\n",
    "        'GyrZ_real':GyrZ_real,\n",
    "        'AccX_imag':AccX_imag,\n",
    "        'AccY_imag':AccY_imag,\n",
    "        'AccZ_imag':AccZ_imag,\n",
    "        'GyrX_imag':GyrX_imag,\n",
    "        'GyrY_imag':GyrY_imag,\n",
    "        'GyrZ_imag':GyrZ_imag,\n",
    "        'Time':TimeArray[:len(AccX_imag)],\n",
    "        'Number':LabelArray[:len(AccX_imag)]\n",
    "        }\n",
    "      )\n",
    "\n",
    "#fftdf = fftdf.astype(np.float64)\n",
    "\n",
    "fftdf\n",
    "\n",
    "fftdf1=fftdf.set_index(['Time','Number'])\n"
   ]
  },
  {
   "cell_type": "code",
   "execution_count": 130,
   "metadata": {
    "collapsed": false
   },
   "outputs": [],
   "source": [
    "Source=pd.read_csv(name[0],parse_dates=['Time'])\n",
    "df=sliding_window(Source,0.16,0.5)\n",
    "lAccX=np.array([])\n",
    "lAccY=np.array([])\n",
    "lAccZ=np.array([])\n",
    "lGyrX=np.array([])\n",
    "lGyrY=np.array([])\n",
    "lGyrZ=np.array([])\n",
    "time=[]\n",
    "samp=16\n",
    "\n",
    "while True:\n",
    "    try:\n",
    "        d=df.next()\n",
    "        time=np.append(time, min(d.Time) )\n",
    "        # fftの直流成分を除くsample/2のみ\n",
    "        lAccX=np.append(lAccX, np.array(fftpack.fft(d.AccX)[1:(samp/2)+1]) )\n",
    "        lAccY=np.append(lAccY, np.array(fftpack.fft(d.AccY)[1:(samp/2)+1]) )\n",
    "        lAccZ=np.append(lAccZ, np.array(fftpack.fft(d.AccZ)[1:(samp/2)+1]) )\n",
    "        lGyrX=np.append(lGyrX, np.array(fftpack.fft(d.GyrX)[1:(samp/2)+1]) )\n",
    "        lGyrY=np.append(lGyrY, np.array(fftpack.fft(d.GyrY)[1:(samp/2)+1]) )\n",
    "        lGyrZ=np.append(lGyrZ, np.array(fftpack.fft(d.GyrZ)[1:(samp/2)+1]) )\n",
    "    except ValueError:\n",
    "        break\n"
   ]
  },
  {
   "cell_type": "code",
   "execution_count": 132,
   "metadata": {
    "collapsed": false
   },
   "outputs": [
    {
     "data": {
      "text/plain": [
       "(55470,)"
      ]
     },
     "execution_count": 132,
     "metadata": {},
     "output_type": "execute_result"
    }
   ],
   "source": [
    "lAccX.shape"
   ]
  },
  {
   "cell_type": "code",
   "execution_count": 134,
   "metadata": {
    "collapsed": false
   },
   "outputs": [
    {
     "data": {
      "text/plain": [
       "55472"
      ]
     },
     "execution_count": 134,
     "metadata": {},
     "output_type": "execute_result"
    }
   ],
   "source": [
    "len(time)*8"
   ]
  },
  {
   "cell_type": "code",
   "execution_count": 111,
   "metadata": {
    "collapsed": false
   },
   "outputs": [
    {
     "data": {
      "text/plain": [
       "55470"
      ]
     },
     "execution_count": 111,
     "metadata": {},
     "output_type": "execute_result"
    }
   ],
   "source": [
    "len(lAccX)"
   ]
  },
  {
   "cell_type": "code",
   "execution_count": 72,
   "metadata": {
    "collapsed": false
   },
   "outputs": [
    {
     "data": {
      "text/plain": [
       "array([ 0.35804487-0.01519195j, -0.09451400-0.10396996j,\n",
       "        0.05838963-0.10452798j, -0.00347080-0.07505361j,\n",
       "        0.02233362-0.04416239j,  0.01685079+0.00862261j,\n",
       "        0.04096550+0.0365221j ,  0.11865038+0.04220009j])"
      ]
     },
     "execution_count": 72,
     "metadata": {},
     "output_type": "execute_result"
    }
   ],
   "source": [
    "Source=pd.read_csv(name[0],parse_dates=['Time'])\n",
    "df=sliding_window(Source,0.16,0.5)\n",
    "lAccX=[]\n",
    "lAccY=[]\n",
    "lAccZ=[]\n",
    "lGyrX=[]\n",
    "lGyrY=[]\n",
    "lGyrZ=[]\n",
    "time=[]\n",
    "samp=16\n",
    "d=df.next()\n",
    "fftpack.fft(d.AccX)[1:(samp/2)+1]"
   ]
  },
  {
   "cell_type": "code",
   "execution_count": null,
   "metadata": {
    "collapsed": false
   },
   "outputs": [],
   "source": [
    "AccX_imag.shape"
   ]
  },
  {
   "cell_type": "code",
   "execution_count": 31,
   "metadata": {
    "collapsed": false
   },
   "outputs": [
    {
     "data": {
      "text/plain": [
       "6934"
      ]
     },
     "execution_count": 31,
     "metadata": {},
     "output_type": "execute_result"
    }
   ],
   "source": [
    "len(lAccX)"
   ]
  },
  {
   "cell_type": "code",
   "execution_count": 67,
   "metadata": {
    "collapsed": false
   },
   "outputs": [
    {
     "data": {
      "text/plain": [
       "55472"
      ]
     },
     "execution_count": 67,
     "metadata": {},
     "output_type": "execute_result"
    }
   ],
   "source": [
    "6934*8"
   ]
  },
  {
   "cell_type": "code",
   "execution_count": null,
   "metadata": {
    "collapsed": false
   },
   "outputs": [],
   "source": [
    "time.shape"
   ]
  },
  {
   "cell_type": "code",
   "execution_count": 97,
   "metadata": {
    "collapsed": false
   },
   "outputs": [
    {
     "name": "stdout",
     "output_type": "stream",
     "text": [
      "6933\n",
      "8\n",
      "6933\n"
     ]
    }
   ],
   "source": [
    "\n",
    "print len(time)-1\n",
    "print len(array)\n",
    "print len(time)-1"
   ]
  },
  {
   "cell_type": "code",
   "execution_count": 103,
   "metadata": {
    "collapsed": false
   },
   "outputs": [
    {
     "data": {
      "text/plain": [
       "6933"
      ]
     },
     "execution_count": 103,
     "metadata": {},
     "output_type": "execute_result"
    }
   ],
   "source": [
    "lAccX.size/8"
   ]
  },
  {
   "cell_type": "code",
   "execution_count": null,
   "metadata": {
    "collapsed": true
   },
   "outputs": [],
   "source": []
  }
 ],
 "metadata": {
  "kernelspec": {
   "display_name": "Python 2",
   "language": "python",
   "name": "python2"
  },
  "language_info": {
   "codemirror_mode": {
    "name": "ipython",
    "version": 2
   },
   "file_extension": ".py",
   "mimetype": "text/x-python",
   "name": "python",
   "nbconvert_exporter": "python",
   "pygments_lexer": "ipython2",
   "version": "2.7.11"
  }
 },
 "nbformat": 4,
 "nbformat_minor": 0
}
