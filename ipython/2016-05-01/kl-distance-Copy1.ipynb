{
 "cells": [
  {
   "cell_type": "code",
   "execution_count": 1,
   "metadata": {
    "collapsed": true
   },
   "outputs": [],
   "source": [
    "import numpy as np\n",
    "import matplotlib.pyplot as plt\n",
    "import matplotlib\n",
    "from scipy import fftpack\n",
    "from scipy import signal\n",
    "import numpy as np\n",
    "import pandas as pd\n",
    "import datetime\n",
    "import time as T"
   ]
  },
  {
   "cell_type": "code",
   "execution_count": 2,
   "metadata": {
    "collapsed": false
   },
   "outputs": [],
   "source": [
    "#mozart"
   ]
  },
  {
   "cell_type": "code",
   "execution_count": 3,
   "metadata": {
    "collapsed": false
   },
   "outputs": [
    {
     "name": "stdout",
     "output_type": "stream",
     "text": [
      "/home/takeyama/Documents/SyncRecord/FFT-data\n"
     ]
    }
   ],
   "source": [
    "cd ~/Documents/SyncRecord/FFT-data/"
   ]
  },
  {
   "cell_type": "code",
   "execution_count": 4,
   "metadata": {
    "collapsed": true
   },
   "outputs": [],
   "source": [
    "#my workstation"
   ]
  },
  {
   "cell_type": "code",
   "execution_count": 5,
   "metadata": {
    "collapsed": false
   },
   "outputs": [],
   "source": [
    "#cd /home/takeyama/Documents/01_SensorData/2016_05_11/FFT-data/"
   ]
  },
  {
   "cell_type": "code",
   "execution_count": 6,
   "metadata": {
    "collapsed": false
   },
   "outputs": [
    {
     "name": "stdout",
     "output_type": "stream",
     "text": [
      "FFT-Cleaning-Conv-left-hand-ags.csv-128bit.csv\r\n",
      "FFT-Cleaning-Conv-left-hand-ags.csv-16bit.csv\r\n",
      "FFT-Cleaning-Conv-left-hand-ags.csv-256bit.csv\r\n",
      "FFT-Cleaning-Conv-left-hand-ags.csv-32bit.csv\r\n",
      "FFT-Cleaning-Conv-left-hand-ags.csv-512bit.csv\r\n",
      "FFT-Cleaning-Conv-left-hand-ags.csv-64bit.csv\r\n",
      "FFT-Cleaning-Conv-left-leg-ags.csv-128bit.csv\r\n",
      "FFT-Cleaning-Conv-left-leg-ags.csv-16bit.csv\r\n",
      "FFT-Cleaning-Conv-left-leg-ags.csv-256bit.csv\r\n",
      "FFT-Cleaning-Conv-left-leg-ags.csv-32bit.csv\r\n",
      "FFT-Cleaning-Conv-left-leg-ags.csv-512bit.csv\r\n",
      "FFT-Cleaning-Conv-left-leg-ags.csv-64bit.csv\r\n",
      "FFT-Cleaning-Conv-right-hand-ags.csv-128bit.csv\r\n",
      "FFT-Cleaning-Conv-right-hand-ags.csv-16bit.csv\r\n",
      "FFT-Cleaning-Conv-right-hand-ags.csv-256bit.csv\r\n",
      "FFT-Cleaning-Conv-right-hand-ags.csv-32bit.csv\r\n",
      "FFT-Cleaning-Conv-right-hand-ags.csv-512bit.csv\r\n",
      "FFT-Cleaning-Conv-right-hand-ags.csv-64bit.csv\r\n",
      "FFT-Cleaning-Conv-right-leg-ags.csv-128bit.csv\r\n",
      "FFT-Cleaning-Conv-right-leg-ags.csv-16bit.csv\r\n",
      "FFT-Cleaning-Conv-right-leg-ags.csv-256bit.csv\r\n",
      "FFT-Cleaning-Conv-right-leg-ags.csv-32bit.csv\r\n",
      "FFT-Cleaning-Conv-right-leg-ags.csv-512bit.csv\r\n",
      "FFT-Cleaning-Conv-right-leg-ags.csv-64bit.csv\r\n",
      "FFT-Cleaning-Conv-west-ags.csv-128bit.csv\r\n",
      "FFT-Cleaning-Conv-west-ags.csv-16bit.csv\r\n",
      "FFT-Cleaning-Conv-west-ags.csv-256bit.csv\r\n",
      "FFT-Cleaning-Conv-west-ags.csv-32bit.csv\r\n",
      "FFT-Cleaning-Conv-west-ags.csv-512bit.csv\r\n",
      "FFT-Cleaning-Conv-west-ags.csv-64bit.csv\r\n"
     ]
    }
   ],
   "source": [
    "ls"
   ]
  },
  {
   "cell_type": "code",
   "execution_count": 7,
   "metadata": {
    "collapsed": false
   },
   "outputs": [],
   "source": [
    "fft_left_hand = pd.read_csv('FFT-'+'Cleaning-Conv-left-hand-ags.csv'+'-16'+'bit.csv')\n",
    "#left_hand.Time=pd.to_timedelta(left_hand.Time)\n",
    "fft_left_leg = pd.read_csv('FFT-'+'Cleaning-Conv-left-leg-ags.csv'+'-16'+'bit.csv')\n",
    "#left_leg.Time=pd.to_timedelta(left_leg.Time)\n",
    "fft_right_hand = pd.read_csv('FFT-'+'Cleaning-Conv-right-hand-ags.csv'+'-16'+'bit.csv')\n",
    "#right_hand.Time=pd.to_timedelta(right_hand.Time)\n",
    "fft_right_leg = pd.read_csv('FFT-'+'Cleaning-Conv-right-leg-ags.csv'+'-16'+'bit.csv')\n",
    "#right_leg.Time=pd.to_timedelta(right_leg.Time)\n",
    "fft_west = pd.read_csv('FFT-'+'Cleaning-Conv-west-ags.csv'+'-16'+'bit.csv')\n",
    "#west.Time=pd.to_timedelta(west.Time)"
   ]
  },
  {
   "cell_type": "code",
   "execution_count": 8,
   "metadata": {
    "collapsed": false
   },
   "outputs": [
    {
     "data": {
      "text/plain": [
       "Time           int64\n",
       "Number        object\n",
       "AccX_imag    float64\n",
       "AccX_real    float64\n",
       "AccY_imag    float64\n",
       "AccY_real    float64\n",
       "AccZ_imag    float64\n",
       "AccZ_real    float64\n",
       "GyrX_imag    float64\n",
       "GyrX_real    float64\n",
       "GyrY_imag    float64\n",
       "GyrY_real    float64\n",
       "GyrZ_imag    float64\n",
       "GyrZ_real    float64\n",
       "dtype: object"
      ]
     },
     "execution_count": 8,
     "metadata": {},
     "output_type": "execute_result"
    }
   ],
   "source": [
    "fft_left_leg.dtypes"
   ]
  },
  {
   "cell_type": "code",
   "execution_count": 9,
   "metadata": {
    "collapsed": true
   },
   "outputs": [],
   "source": [
    "#http://blog.vingow.com/tech/numpy-jensen-shannon/ よりKL距離の算出アルゴリズム\n",
    "def kld(p, q):\n",
    "    \"\"\"Calculates Kullback–Leibler divergence\"\"\"\n",
    "    p = np.array(p)\n",
    "    q = np.array(q)\n",
    "    return np.sum(p * np.log(p / q), axis=(p.ndim - 1))"
   ]
  },
  {
   "cell_type": "code",
   "execution_count": 10,
   "metadata": {
    "collapsed": false
   },
   "outputs": [],
   "source": [
    "x = fft_left_hand.where(fft_left_hand.Time==0).dropna()"
   ]
  },
  {
   "cell_type": "code",
   "execution_count": 11,
   "metadata": {
    "collapsed": false
   },
   "outputs": [
    {
     "data": {
      "text/html": [
       "<div>\n",
       "<table border=\"1\" class=\"dataframe\">\n",
       "  <thead>\n",
       "    <tr style=\"text-align: right;\">\n",
       "      <th></th>\n",
       "      <th>Time</th>\n",
       "      <th>Number</th>\n",
       "      <th>AccX_imag</th>\n",
       "      <th>AccX_real</th>\n",
       "      <th>AccY_imag</th>\n",
       "      <th>AccY_real</th>\n",
       "      <th>AccZ_imag</th>\n",
       "      <th>AccZ_real</th>\n",
       "      <th>GyrX_imag</th>\n",
       "      <th>GyrX_real</th>\n",
       "      <th>GyrY_imag</th>\n",
       "      <th>GyrY_real</th>\n",
       "      <th>GyrZ_imag</th>\n",
       "      <th>GyrZ_real</th>\n",
       "    </tr>\n",
       "  </thead>\n",
       "  <tbody>\n",
       "    <tr>\n",
       "      <th>0</th>\n",
       "      <td>0.0</td>\n",
       "      <td>1st</td>\n",
       "      <td>-0.015192</td>\n",
       "      <td>0.358045</td>\n",
       "      <td>-0.869577</td>\n",
       "      <td>-1.991186</td>\n",
       "      <td>1.070767</td>\n",
       "      <td>0.360219</td>\n",
       "      <td>-32.797698</td>\n",
       "      <td>15.109767</td>\n",
       "      <td>-10.299680</td>\n",
       "      <td>5.271495</td>\n",
       "      <td>-5.125378</td>\n",
       "      <td>1.122696</td>\n",
       "    </tr>\n",
       "    <tr>\n",
       "      <th>1</th>\n",
       "      <td>0.0</td>\n",
       "      <td>2nd</td>\n",
       "      <td>-0.103970</td>\n",
       "      <td>-0.094514</td>\n",
       "      <td>0.583755</td>\n",
       "      <td>-0.466071</td>\n",
       "      <td>0.504561</td>\n",
       "      <td>-0.320706</td>\n",
       "      <td>-10.844850</td>\n",
       "      <td>3.459231</td>\n",
       "      <td>-3.601636</td>\n",
       "      <td>1.810484</td>\n",
       "      <td>-2.845803</td>\n",
       "      <td>1.582849</td>\n",
       "    </tr>\n",
       "    <tr>\n",
       "      <th>2</th>\n",
       "      <td>0.0</td>\n",
       "      <td>3rd</td>\n",
       "      <td>-0.104528</td>\n",
       "      <td>0.058390</td>\n",
       "      <td>0.365722</td>\n",
       "      <td>-0.080314</td>\n",
       "      <td>0.164233</td>\n",
       "      <td>-0.203757</td>\n",
       "      <td>-6.372311</td>\n",
       "      <td>3.403319</td>\n",
       "      <td>-2.309824</td>\n",
       "      <td>1.560055</td>\n",
       "      <td>-1.884029</td>\n",
       "      <td>1.299952</td>\n",
       "    </tr>\n",
       "    <tr>\n",
       "      <th>3</th>\n",
       "      <td>0.0</td>\n",
       "      <td>4th</td>\n",
       "      <td>-0.075054</td>\n",
       "      <td>-0.003471</td>\n",
       "      <td>0.100201</td>\n",
       "      <td>0.070954</td>\n",
       "      <td>0.156054</td>\n",
       "      <td>-0.184714</td>\n",
       "      <td>-4.014669</td>\n",
       "      <td>3.820903</td>\n",
       "      <td>-1.489992</td>\n",
       "      <td>1.605612</td>\n",
       "      <td>-1.263464</td>\n",
       "      <td>1.126835</td>\n",
       "    </tr>\n",
       "    <tr>\n",
       "      <th>4</th>\n",
       "      <td>0.0</td>\n",
       "      <td>5th</td>\n",
       "      <td>-0.044162</td>\n",
       "      <td>0.022334</td>\n",
       "      <td>0.024453</td>\n",
       "      <td>-0.080821</td>\n",
       "      <td>0.105954</td>\n",
       "      <td>-0.153572</td>\n",
       "      <td>-2.838582</td>\n",
       "      <td>3.747483</td>\n",
       "      <td>-1.125411</td>\n",
       "      <td>1.565741</td>\n",
       "      <td>-0.846813</td>\n",
       "      <td>1.140570</td>\n",
       "    </tr>\n",
       "    <tr>\n",
       "      <th>5</th>\n",
       "      <td>0.0</td>\n",
       "      <td>6th</td>\n",
       "      <td>0.008623</td>\n",
       "      <td>0.016851</td>\n",
       "      <td>-0.002447</td>\n",
       "      <td>-0.106568</td>\n",
       "      <td>0.080587</td>\n",
       "      <td>-0.145958</td>\n",
       "      <td>-1.916918</td>\n",
       "      <td>3.792987</td>\n",
       "      <td>-0.708752</td>\n",
       "      <td>1.566015</td>\n",
       "      <td>-0.565537</td>\n",
       "      <td>1.156530</td>\n",
       "    </tr>\n",
       "    <tr>\n",
       "      <th>6</th>\n",
       "      <td>0.0</td>\n",
       "      <td>7th</td>\n",
       "      <td>0.036522</td>\n",
       "      <td>0.040966</td>\n",
       "      <td>0.007449</td>\n",
       "      <td>-0.122248</td>\n",
       "      <td>0.081826</td>\n",
       "      <td>-0.098964</td>\n",
       "      <td>-1.034338</td>\n",
       "      <td>3.718784</td>\n",
       "      <td>-0.367491</td>\n",
       "      <td>1.527345</td>\n",
       "      <td>-0.299721</td>\n",
       "      <td>1.182961</td>\n",
       "    </tr>\n",
       "    <tr>\n",
       "      <th>7</th>\n",
       "      <td>0.0</td>\n",
       "      <td>8th</td>\n",
       "      <td>0.042200</td>\n",
       "      <td>0.118650</td>\n",
       "      <td>-0.026055</td>\n",
       "      <td>-0.115296</td>\n",
       "      <td>0.051019</td>\n",
       "      <td>-0.132149</td>\n",
       "      <td>-0.368778</td>\n",
       "      <td>3.775401</td>\n",
       "      <td>-0.135877</td>\n",
       "      <td>1.461038</td>\n",
       "      <td>-0.082316</td>\n",
       "      <td>1.199499</td>\n",
       "    </tr>\n",
       "  </tbody>\n",
       "</table>\n",
       "</div>"
      ],
      "text/plain": [
       "   Time Number  AccX_imag  AccX_real  AccY_imag  AccY_real  AccZ_imag  \\\n",
       "0   0.0    1st  -0.015192   0.358045  -0.869577  -1.991186   1.070767   \n",
       "1   0.0    2nd  -0.103970  -0.094514   0.583755  -0.466071   0.504561   \n",
       "2   0.0    3rd  -0.104528   0.058390   0.365722  -0.080314   0.164233   \n",
       "3   0.0    4th  -0.075054  -0.003471   0.100201   0.070954   0.156054   \n",
       "4   0.0    5th  -0.044162   0.022334   0.024453  -0.080821   0.105954   \n",
       "5   0.0    6th   0.008623   0.016851  -0.002447  -0.106568   0.080587   \n",
       "6   0.0    7th   0.036522   0.040966   0.007449  -0.122248   0.081826   \n",
       "7   0.0    8th   0.042200   0.118650  -0.026055  -0.115296   0.051019   \n",
       "\n",
       "   AccZ_real  GyrX_imag  GyrX_real  GyrY_imag  GyrY_real  GyrZ_imag  GyrZ_real  \n",
       "0   0.360219 -32.797698  15.109767 -10.299680   5.271495  -5.125378   1.122696  \n",
       "1  -0.320706 -10.844850   3.459231  -3.601636   1.810484  -2.845803   1.582849  \n",
       "2  -0.203757  -6.372311   3.403319  -2.309824   1.560055  -1.884029   1.299952  \n",
       "3  -0.184714  -4.014669   3.820903  -1.489992   1.605612  -1.263464   1.126835  \n",
       "4  -0.153572  -2.838582   3.747483  -1.125411   1.565741  -0.846813   1.140570  \n",
       "5  -0.145958  -1.916918   3.792987  -0.708752   1.566015  -0.565537   1.156530  \n",
       "6  -0.098964  -1.034338   3.718784  -0.367491   1.527345  -0.299721   1.182961  \n",
       "7  -0.132149  -0.368778   3.775401  -0.135877   1.461038  -0.082316   1.199499  "
      ]
     },
     "execution_count": 11,
     "metadata": {},
     "output_type": "execute_result"
    }
   ],
   "source": [
    "x"
   ]
  },
  {
   "cell_type": "code",
   "execution_count": 12,
   "metadata": {
    "collapsed": true
   },
   "outputs": [],
   "source": [
    "x = fft_left_hand.where(fft_left_hand.Time==0).dropna()\n",
    "Amp_left_handX=np.array([])\n",
    "Amp_left_handX = np.append(Amp_left_handX, np.sqrt(x.AccX_imag**2+x.AccX_real**2))\n",
    "Amp_left_handX = Amp_left_handX/Amp_left_handX.sum()"
   ]
  },
  {
   "cell_type": "code",
   "execution_count": 13,
   "metadata": {
    "collapsed": true
   },
   "outputs": [],
   "source": [
    "y = fft_left_hand.where(fft_left_hand.Time==0).dropna()\n",
    "Amp_left_handY=np.array([])\n",
    "Amp_left_handY = np.append(Amp_left_handY, np.sqrt(x.AccY_imag**2+x.AccY_real**2))\n",
    "Amp_left_handY = Amp_left_handY/Amp_left_handY.sum()"
   ]
  },
  {
   "cell_type": "code",
   "execution_count": 14,
   "metadata": {
    "collapsed": false
   },
   "outputs": [
    {
     "data": {
      "text/plain": [
       "0.18769018026090117"
      ]
     },
     "execution_count": 14,
     "metadata": {},
     "output_type": "execute_result"
    }
   ],
   "source": [
    "kld(Amp_left_handX,Amp_left_handY)"
   ]
  },
  {
   "cell_type": "code",
   "execution_count": 15,
   "metadata": {
    "collapsed": false
   },
   "outputs": [
    {
     "data": {
      "text/plain": [
       "array([ 0.38004037,  0.14900622,  0.12697182,  0.07967777,  0.05248142,\n",
       "        0.02007355,  0.05820118,  0.13354767])"
      ]
     },
     "execution_count": 15,
     "metadata": {},
     "output_type": "execute_result"
    }
   ],
   "source": [
    "Amp_left_handX"
   ]
  },
  {
   "cell_type": "code",
   "execution_count": 16,
   "metadata": {
    "collapsed": false
   },
   "outputs": [
    {
     "data": {
      "text/plain": [
       "6933"
      ]
     },
     "execution_count": 16,
     "metadata": {},
     "output_type": "execute_result"
    }
   ],
   "source": [
    "fft_left_hand.Time.max()"
   ]
  },
  {
   "cell_type": "code",
   "execution_count": 32,
   "metadata": {
    "collapsed": false
   },
   "outputs": [
    {
     "name": "stdout",
     "output_type": "stream",
     "text": [
      "elapsed_time:467.513038[sec]\n"
     ]
    }
   ],
   "source": [
    "start_time = T.clock()\n",
    "Amp_left_handAX=np.array([])\n",
    "Amp_left_handAY=np.array([])\n",
    "Amp_left_handAZ=np.array([])\n",
    "\n",
    "Amp_left_handGX=np.array([])\n",
    "Amp_left_handGY=np.array([])\n",
    "Amp_left_handGZ=np.array([])\n",
    "\n",
    "x = fft_right_leg.where(fft_left_hand.Time==0).dropna()\n",
    "\n",
    "tmp =np.array( np.sqrt(x.AccX_imag**2+x.AccX_real**2) )\n",
    "tmp =tmp/tmp.sum()\n",
    "Amp_left_handAX = np.append(Amp_left_handAX, tmp)\n",
    "\n",
    "tmp =np.array( np.sqrt(x.AccY_imag**2+x.AccY_real**2) )\n",
    "tmp =tmp/tmp.sum()\n",
    "Amp_left_handAY = np.append(Amp_left_handAY, tmp)\n",
    "\n",
    "tmp =np.array( np.sqrt(x.AccZ_imag**2+x.AccZ_real**2) )\n",
    "tmp =tmp/tmp.sum()\n",
    "Amp_left_handAZ = np.append(Amp_left_handAZ, tmp)\n",
    "\n",
    "for t in range(1,fft_right_leg.Time.max()):\n",
    "    try:\n",
    "        # 抽出したデータベースを格納\n",
    "        x = fft_right_leg.where(fft_left_hand.Time==t).dropna()\n",
    "\n",
    "        # 各軸、それぞれパワースペクトルを計算\n",
    "        tmp =np.array( np.sqrt(x.AccX_imag**2+x.AccX_real**2) )\n",
    "        tmp =tmp/tmp.sum()\n",
    "        Amp_left_handAX = np.vstack((Amp_left_handAX, tmp))\n",
    "\n",
    "        tmp =np.array( np.sqrt(x.AccY_imag**2+x.AccY_real**2) )\n",
    "        tmp =tmp/tmp.sum()\n",
    "        Amp_left_handAY = np.vstack((Amp_left_handAY, tmp))\n",
    "\n",
    "        tmp =np.array( np.sqrt(x.AccZ_imag**2+x.AccZ_real**2) )\n",
    "        tmp =tmp/tmp.sum()\n",
    "        Amp_left_handAZ = np.vstack((Amp_left_handAZ, tmp))\n",
    "    except ValueError:\n",
    "        break\n",
    "    \n",
    "    \n",
    "elapsed_time = T.clock() - start_time\n",
    "print (\"elapsed_time:{0}\".format(elapsed_time)) + \"[sec]\""
   ]
  },
  {
   "cell_type": "code",
   "execution_count": 18,
   "metadata": {
    "collapsed": false
   },
   "outputs": [
    {
     "name": "stdout",
     "output_type": "stream",
     "text": [
      "elapsed_time:462.906007[sec]\n"
     ]
    }
   ],
   "source": [
    "start_time = T.clock()\n",
    "Amp_right_legAX=np.array([])\n",
    "Amp_right_legAY=np.array([])\n",
    "Amp_right_legAZ=np.array([])\n",
    "\n",
    "Amp_right_legGX=np.array([])\n",
    "Amp_right_legGY=np.array([])\n",
    "Amp_right_legGZ=np.array([])\n",
    "\n",
    "x = fft_right_leg.where(fft_left_hand.Time==0).dropna()\n",
    "\n",
    "tmp =np.array( np.sqrt(x.AccX_imag**2+x.AccX_real**2) )\n",
    "tmp =tmp/tmp.sum()\n",
    "Amp_right_legAX = np.append(Amp_right_legAX, tmp)\n",
    "\n",
    "tmp =np.array( np.sqrt(x.AccY_imag**2+x.AccY_real**2) )\n",
    "tmp =tmp/tmp.sum()\n",
    "Amp_right_legAY = np.append(Amp_right_legAY, tmp)\n",
    "\n",
    "tmp =np.array( np.sqrt(x.AccZ_imag**2+x.AccZ_real**2) )\n",
    "tmp =tmp/tmp.sum()\n",
    "Amp_right_legAZ = np.append(Amp_right_legAZ, tmp)\n",
    "\n",
    "for t in range(1,fft_right_leg.Time.max()):\n",
    "    try:\n",
    "        # 抽出したデータベースを格納\n",
    "        x = fft_right_leg.where(fft_left_hand.Time==t).dropna()\n",
    "\n",
    "        # 各軸、それぞれパワースペクトルを計算\n",
    "        tmp =np.array( np.sqrt(x.AccX_imag**2+x.AccX_real**2) )\n",
    "        tmp =tmp/tmp.sum()\n",
    "        Amp_right_legAX = np.vstack((Amp_right_legAX, tmp))\n",
    "\n",
    "        tmp =np.array( np.sqrt(x.AccY_imag**2+x.AccY_real**2) )\n",
    "        tmp =tmp/tmp.sum()\n",
    "        Amp_right_legAY = np.vstack((Amp_right_legAY, tmp))\n",
    "\n",
    "        tmp =np.array( np.sqrt(x.AccZ_imag**2+x.AccZ_real**2) )\n",
    "        tmp =tmp/tmp.sum()\n",
    "        Amp_right_legAZ = np.vstack((Amp_right_legAZ, tmp))\n",
    "    except ValueError:\n",
    "        break\n",
    "    \n",
    "    \n",
    "elapsed_time = T.clock() - start_time\n",
    "print (\"elapsed_time:{0}\".format(elapsed_time)) + \"[sec]\""
   ]
  },
  {
   "cell_type": "code",
   "execution_count": 34,
   "metadata": {
    "collapsed": false
   },
   "outputs": [
    {
     "data": {
      "text/plain": [
       "(6933, 8)"
      ]
     },
     "execution_count": 34,
     "metadata": {},
     "output_type": "execute_result"
    }
   ],
   "source": [
    "Amp_left_handAZ.shape"
   ]
  },
  {
   "cell_type": "code",
   "execution_count": null,
   "metadata": {
    "collapsed": false
   },
   "outputs": [],
   "source": [
    "start_time = T.clock()\n",
    "\n",
    "\n",
    "kld_ll_rl_AX=np.array([])\n",
    "kld_ll_rl_AY=np.array([])\n",
    "kld_ll_rl_AZ=np.array([])\n",
    "for x in Amp_left_handAX:\n",
    "    for ax in Amp_right_legAX:\n",
    "        kld_ll_rl_AX=np.append(kld_ll_rl_AX,kld(x,ax) )\n",
    "    for ay in Amp_right_legAY:\n",
    "        kld_ll_rl_AY=np.append(kld_ll_rl_AY,kld(x,ay) )\n",
    "    for az in Amp_right_legAZ:\n",
    "        kld_ll_rl_AZ=np.append(kld_ll_rl_AZ,kld(x,az) )\n",
    "\n",
    "        \n",
    "elapsed_time = T.clock() - start_time\n",
    "print (\"elapsed_time:{0}\".format(elapsed_time)) + \"[sec]\""
   ]
  },
  {
   "cell_type": "code",
   "execution_count": 43,
   "metadata": {
    "collapsed": false
   },
   "outputs": [
    {
     "data": {
      "text/plain": [
       "array([], dtype=float64)"
      ]
     },
     "execution_count": 43,
     "metadata": {},
     "output_type": "execute_result"
    }
   ],
   "source": [
    "kld_left_hand_AX[0]=np.append(kld_left_hand_AX[0],kld(x,y) )\n",
    "kld_left_hand_AX[0]"
   ]
  },
  {
   "cell_type": "code",
   "execution_count": null,
   "metadata": {
    "collapsed": true
   },
   "outputs": [],
   "source": [
    "start_time = T.clock()\n",
    "\n",
    "elapsed_time = T.clock() - start_time\n",
    "print (\"elapsed_time:{0}\".format(elapsed_time)) + \"[sec]\""
   ]
  }
 ],
 "metadata": {
  "kernelspec": {
   "display_name": "Python 2",
   "language": "python",
   "name": "python2"
  },
  "language_info": {
   "codemirror_mode": {
    "name": "ipython",
    "version": 2
   },
   "file_extension": ".py",
   "mimetype": "text/x-python",
   "name": "python",
   "nbconvert_exporter": "python",
   "pygments_lexer": "ipython2",
   "version": "2.7.11"
  }
 },
 "nbformat": 4,
 "nbformat_minor": 0
}
